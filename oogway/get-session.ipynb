{
 "cells": [
  {
   "cell_type": "code",
   "execution_count": null,
   "metadata": {},
   "outputs": [],
   "source": [
    "from telethon.sync import TelegramClient\n",
    "from dotenv import dotenv_values\n",
    "_config = dotenv_values(\".env\")\n",
    "\n",
    "_api_id = _config[\"api_id\"]\n",
    "_api_hash = _config[\"api_hash\"]\n",
    "_username = _config[\"username\"]\n",
    "\n",
    "client: TelegramClient = await TelegramClient(_username, _api_id, _api_hash).start()"
   ]
  }
 ],
 "metadata": {
  "kernelspec": {
   "display_name": ".venv",
   "language": "python",
   "name": "python3"
  },
  "language_info": {
   "codemirror_mode": {
    "name": "ipython",
    "version": 3
   },
   "file_extension": ".py",
   "mimetype": "text/x-python",
   "name": "python",
   "nbconvert_exporter": "python",
   "pygments_lexer": "ipython3",
   "version": "3.12.6"
  }
 },
 "nbformat": 4,
 "nbformat_minor": 2
}
