{
 "cells": [
  {
   "cell_type": "code",
   "execution_count": 131,
   "metadata": {},
   "outputs": [],
   "source": [
    "import re\n",
    "from itertools import groupby\n",
    "from datetime import datetime"
   ]
  },
  {
   "cell_type": "code",
   "execution_count": 132,
   "metadata": {},
   "outputs": [],
   "source": [
    "def returnValue(val):\n",
    "    return val.group(1) if  val else None"
   ]
  },
  {
   "cell_type": "code",
   "execution_count": 133,
   "metadata": {},
   "outputs": [],
   "source": [
    "def isPredictMsg(msg):\n",
    "    patterns = [\n",
    "        r\"🔥 #(.+)\",\n",
    "        r\"Take-Profit:\",\n",
    "        r\"Entry(.+)\",\n",
    "    ]\n",
    "\n",
    "    # Check if all patterns have a value\n",
    "    return all(re.search(pattern, msg) for pattern in patterns)"
   ]
  },
  {
   "cell_type": "code",
   "execution_count": 134,
   "metadata": {},
   "outputs": [],
   "source": [
    "def findPosition(msg):\n",
    "    if msg.find(\"📈\") != -1:\n",
    "        return \"LONG\"\n",
    "    elif msg.find(\"📉\") != -1:\n",
    "        return \"SHORT\"\n",
    "    return None\n",
    "    \n",
    "    "
   ]
  },
  {
   "cell_type": "code",
   "execution_count": 135,
   "metadata": {},
   "outputs": [
    {
     "name": "stdout",
     "output_type": "stream",
     "text": [
      "True\n"
     ]
    },
    {
     "data": {
      "text/plain": [
       "{'symbol': 'CHR-USDT',\n",
       " 'position': 'SHORT',\n",
       " 'market': 'FUTURES',\n",
       " 'leverage': '20',\n",
       " 'stopLoss': None,\n",
       " 'entry Targets': {'Target 1': '0.2312'},\n",
       " 'take-Profit Targets': {'Target 1': '0.2267',\n",
       "  'Target 2': '0.2245',\n",
       "  'Target 3': '3.2724',\n",
       "  'Target 4': '3.3068'}}"
      ]
     },
     "execution_count": 135,
     "metadata": {},
     "output_type": "execute_result"
    }
   ],
   "source": [
    "msg = {\n",
    "    \"id\": 8445,\n",
    "    \"date\": \"2023-12-01T15:25:59+00:00\",\n",
    "    \"reply_to_msg_id\": None,\n",
    "    \"message\": \"🔥 #CHR/USDT (Short📉, x20) 🔥\\n\\nEntry - 0.2312\\nTake-Profit:\\n\\n 0.2267 (40% of profit)\\n🥈 0.2245 (60% of profit)\\n🥇 3.2724 (80% of profit)\\n🚀 3.3068 (100% of profit)\\n@DigiLe@persianeliteorg\",\n",
    "    \"edit_date\": None,\n",
    "    \"media\": None,\n",
    "}\n",
    "\n",
    "string = msg[\"message\"]\n",
    "\n",
    "# print(string)\n",
    "symbol_match = string[string.find(\"#\") + 1 : string.find(\"/USDT\")].strip() + \"-USDT\"\n",
    "position_match = findPosition(string)\n",
    "leverage_match = re.search(r\"x(\\d+)\", string)\n",
    "market_match = \"FUTURES\"\n",
    "entry_match = re.search(r\"Entry - (.+)\", string)\n",
    "stopLoss_match = None\n",
    "# stopLoss_match = float(returnValue(entry_match)) * 0.9\n",
    "\n",
    "\n",
    "profit_values = re.findall(r\"([\\d.]+)\\s*\\(\", string)\n",
    "\n",
    "\n",
    "# Creating a dictionary\n",
    "data = {\n",
    "    \"symbol\": symbol_match,\n",
    "    \"position\": position_match,\n",
    "    \"market\": market_match,\n",
    "    \"leverage\": returnValue(leverage_match),\n",
    "    \"stopLoss\": stopLoss_match,\n",
    "    \"entry Targets\": {\"Target 1\": returnValue(entry_match)},\n",
    "    \"take-Profit Targets\": {\n",
    "        f\"Target {i+1}\": value for i, value in enumerate(profit_values)\n",
    "    }\n",
    "    if profit_values\n",
    "    else None,\n",
    "}\n",
    "print(isPredictMsg(string))\n",
    "\n",
    "data"
   ]
  },
  {
   "cell_type": "code",
   "execution_count": null,
   "metadata": {},
   "outputs": [],
   "source": []
  },
  {
   "cell_type": "code",
   "execution_count": 136,
   "metadata": {},
   "outputs": [],
   "source": [
    "def isTakeProfit(msg, symbol, index):\n",
    "\n",
    "    patterns = [\n",
    "        r\"Price(.+)\",\n",
    "        r\"Profit(.+)\",\n",
    "    ]\n",
    "\n",
    "    # Check if all patterns have a value\n",
    "    return all(re.search(pattern, msg) for pattern in patterns)"
   ]
  },
  {
   "cell_type": "code",
   "execution_count": 140,
   "metadata": {},
   "outputs": [
    {
     "name": "stdout",
     "output_type": "stream",
     "text": [
      "60\n",
      "1\n"
     ]
    }
   ],
   "source": [
    "import re\n",
    "\n",
    "string = \"#RUNE/USDT (Long📈, x20)\\n\\n✅ Price - 6.072\\n🔝 Profit - 60%\\n@D@persianeliteorg\"\n",
    "match = re.search(r\"Profit - (\\d+)%\", string)\n",
    "\n",
    "if match:\n",
    "    profit_number = int(returnValue(match))\n",
    "    print(profit_number)\n",
    "else:\n",
    "    print(\"Profit number not found.\")\n",
    "\n",
    "import math\n",
    "\n",
    "result = math.floor(40 / 25)\n",
    "print(result)"
   ]
  },
  {
   "cell_type": "code",
   "execution_count": 7,
   "metadata": {},
   "outputs": [
    {
     "name": "stdout",
     "output_type": "stream",
     "text": [
      "0.0147\n"
     ]
    }
   ],
   "source": [
    "result = 0.0025 * 5.889\n",
    "formatted_result = \"{:.4f}\".format(result)\n",
    "print(float(formatted_result))"
   ]
  }
 ],
 "metadata": {
  "kernelspec": {
   "display_name": "Python 3",
   "language": "python",
   "name": "python3"
  },
  "language_info": {
   "codemirror_mode": {
    "name": "ipython",
    "version": 3
   },
   "file_extension": ".py",
   "mimetype": "text/x-python",
   "name": "python",
   "nbconvert_exporter": "python",
   "pygments_lexer": "ipython3",
   "version": "3.9.6"
  }
 },
 "nbformat": 4,
 "nbformat_minor": 2
}
