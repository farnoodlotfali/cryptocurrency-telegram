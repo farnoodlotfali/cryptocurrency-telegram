{
 "cells": [
  {
   "cell_type": "code",
   "execution_count": 40,
   "metadata": {},
   "outputs": [
    {
     "data": {
      "text/plain": [
       "'.\\\\.env'"
      ]
     },
     "execution_count": 40,
     "metadata": {},
     "output_type": "execute_result"
    }
   ],
   "source": [
    "import shutil\n",
    "\n",
    "source_file_path = '.\\..\\..\\.env'\n",
    "\n",
    "destination_file_path = '.'\n",
    "\n",
    "shutil.copy(source_file_path, destination_file_path)"
   ]
  },
  {
   "cell_type": "code",
   "execution_count": 41,
   "metadata": {},
   "outputs": [],
   "source": [
    "import django\n",
    "import os\n",
    "import sys\n",
    "project_path = '../../'  # Adjust this to your actual project path\n",
    "sys.path.append(project_path)\n",
    "os.environ.setdefault('DJANGO_SETTINGS_MODULE', 'oogway.settings')\n",
    "django.setup()\n",
    "\n",
    "import re\n",
    "from asgiref.sync import sync_to_async\n",
    "from telethon.tl.types import  Message, PeerChannel\n",
    "from telethon.tl.functions.messages import GetHistoryRequest\n",
    "from telethon.sync import TelegramClient, events\n",
    "from tqdm import tqdm\n",
    "from datetime import datetime, timedelta, timezone\n",
    "from PostAnalyzer.models import (\n",
    "    Channel,\n",
    "    EntryTarget,\n",
    "    Market,\n",
    "    Post,\n",
    "    PostStatus,\n",
    "    Predict,\n",
    "    Symbol,\n",
    "    TakeProfitTarget,\n",
    "    SettingConfig,\n",
    "    PositionSide,\n",
    "    MarginMode,\n",
    ")\n",
    "import warnings\n",
    "from django.forms.models import model_to_dict\n",
    "from Shared.helpers import returnSearchValue,convertToJsonFile,subtractTime,load_json,print_colored\n",
    "from Shared.findSameSignal import findSameSignal\n",
    "from Shared.findShortOrderStat import findShortOrderStat\n",
    "from Shared.findLongOrderStat import findLongOrderStat\n",
    "from dotenv import dotenv_values\n",
    "from Shared.findRiskToReward import findRiskToReward\n",
    "\n",
    "config = dotenv_values(\".env\")\n",
    "\n",
    "api_id = config[\"api_id\"]\n",
    "api_hash = config[\"api_hash\"]\n",
    "\n",
    "username = config[\"username\"]\n",
    "\n",
    "error_msg = []\n",
    "\n",
    "\n",
    "allPredicts = []\n",
    "\n",
    "historic_json_path = \"./../historic-json\"\n",
    "\n",
    "\n",
    "# Disable all warnings\n",
    "warnings.filterwarnings(\"ignore\")"
   ]
  },
  {
   "cell_type": "markdown",
   "metadata": {},
   "source": [
    "## is Predict Msg?"
   ]
  },
  {
   "cell_type": "code",
   "execution_count": 42,
   "metadata": {},
   "outputs": [],
   "source": [
    "def isPredictMsg(msg):\n",
    "    patterns = [\n",
    "        r\"📌 #(.+)\",\n",
    "        r\"Entry:(.+)\",\n",
    "        r\"Leverage:(.+)\",\n",
    "        r\"Stop : (.+)\",\n",
    "        r\"TP:(.+)\",\n",
    "    ]\n",
    "\n",
    "    # Check if all patterns have a value\n",
    "    return all(re.search(pattern, msg) for pattern in patterns)\n"
   ]
  },
  {
   "cell_type": "markdown",
   "metadata": {},
   "source": [
    "## Symbol"
   ]
  },
  {
   "cell_type": "code",
   "execution_count": 43,
   "metadata": {},
   "outputs": [],
   "source": [
    "async def findSymbol(msg):\n",
    "   symbol = re.search(r\"📌 #(.+)?USDT\", msg, re.IGNORECASE)\n",
    "   \n",
    "   try:\n",
    "      return await sync_to_async(Symbol.objects.get)(asset=returnSearchValue(symbol).upper())\n",
    "   except:\n",
    "      return None"
   ]
  },
  {
   "cell_type": "markdown",
   "metadata": {},
   "source": [
    "## Market"
   ]
  },
  {
   "cell_type": "code",
   "execution_count": 44,
   "metadata": {},
   "outputs": [],
   "source": [
    "async def findMarket(msg):\n",
    "\n",
    "    market = None\n",
    "    if \"Futures Call\".lower() in msg.lower():\n",
    "        market = \"FUTURES\"\n",
    "    elif \"Spot\".lower() in msg.lower():\n",
    "        market = \"SPOT\"\n",
    "    \n",
    "    try:\n",
    "        market_value = await sync_to_async(Market.objects.get)(name=market.upper())\n",
    "        return market_value\n",
    "    except:\n",
    "        return None\n"
   ]
  },
  {
   "cell_type": "markdown",
   "metadata": {},
   "source": [
    "## Position"
   ]
  },
  {
   "cell_type": "code",
   "execution_count": 45,
   "metadata": {},
   "outputs": [],
   "source": [
    "async def findPosition(msg):\n",
    "    if \"short\" in msg.lower():\n",
    "        pos = \"SHORT\"\n",
    "    elif \"long\" in msg.lower():\n",
    "        pos = \"LONG\"\n",
    "\n",
    "    try:\n",
    "        market_value = await sync_to_async(PositionSide.objects.get)(name=pos)\n",
    "        return market_value\n",
    "    except:\n",
    "        return None"
   ]
  },
  {
   "cell_type": "markdown",
   "metadata": {},
   "source": [
    "## Leverage and Margin Mode"
   ]
  },
  {
   "cell_type": "code",
   "execution_count": 46,
   "metadata": {},
   "outputs": [],
   "source": [
    "async def findLeverage(msg):\n",
    "    leverage_match = re.search(r\"Leverage:\\s*(\\d+x)\", msg, re.IGNORECASE)\n",
    "    if leverage_match:\n",
    "        leverage_value = int(leverage_match.group(1).lower().replace(\"x\",\"\")) \n",
    "        # leverage_value = int(leverage_match.group(1)[2].lower().replace(\"x\",\"\"))   \n",
    "    else:\n",
    "        leverage_value = None\n",
    "\n",
    "    leverage_type = await sync_to_async(MarginMode.objects.get)(name=\"ISOLATED\")   \n",
    "    \n",
    "    return leverage_type, leverage_value"
   ]
  },
  {
   "cell_type": "markdown",
   "metadata": {},
   "source": [
    "## StopLoss"
   ]
  },
  {
   "cell_type": "code",
   "execution_count": 47,
   "metadata": {},
   "outputs": [],
   "source": [
    "def findStopLoss(msg):\n",
    "   msg = msg.replace(\",\",\"\")\n",
    "   msg = msg.replace(\"‌\",\"\")\n",
    " \n",
    "   return returnSearchValue(re.search(r\"Stop\\s*:\\s*(?:کلوز)?\\s*([\\d.]+)\", msg))"
   ]
  },
  {
   "cell_type": "markdown",
   "metadata": {},
   "source": [
    "## Entry Targets"
   ]
  },
  {
   "cell_type": "code",
   "execution_count": 48,
   "metadata": {},
   "outputs": [],
   "source": [
    "def findEntryTargets(msg):\n",
    "    entry_targets_match = re.search(r\"Entry:(.+?)\\n\\n\", msg, re.DOTALL)\n",
    "    entry_values = (\n",
    "        re.findall(r\"\\d+(?:\\.\\d+)?\", entry_targets_match.group(1))\n",
    "        if entry_targets_match\n",
    "        else None\n",
    "    )\n",
    "    return [float(x.strip()) for x in entry_values]"
   ]
  },
  {
   "cell_type": "markdown",
   "metadata": {},
   "source": [
    "## Take Profits"
   ]
  },
  {
   "cell_type": "code",
   "execution_count": 49,
   "metadata": {},
   "outputs": [],
   "source": [
    "def findTakeProfits(msg):\n",
    "    take_profit_targets_match = re.search(r\"TP:(.+?)\\n\\n\", msg, re.DOTALL)\n",
    "    profit_values = (\n",
    "        re.findall(r\"\\d+(?:\\.\\d+)?\", take_profit_targets_match.group(1))\n",
    "        if take_profit_targets_match\n",
    "        else None\n",
    "    )\n",
    "    return [float(x.strip()) for x in profit_values]\n",
    "        "
   ]
  },
  {
   "cell_type": "markdown",
   "metadata": {},
   "source": [
    "## Find important parts of a predict message such as symbol or entry point"
   ]
  },
  {
   "cell_type": "code",
   "execution_count": 50,
   "metadata": {},
   "outputs": [],
   "source": [
    "async def predictParts(string, post):\n",
    "    if string is None or post is None:\n",
    "        return None\n",
    "    \n",
    "    try:\n",
    "        should_check = True\n",
    "        settings = await sync_to_async(SettingConfig.objects.get)(id=1)\n",
    "        \n",
    "\n",
    "        # symbol\n",
    "        symbol_value:Symbol = await findSymbol(string)\n",
    "\n",
    "        # market\n",
    "        market_value= await findMarket(string)\n",
    "        isSpot = market_value.name == \"SPOT\"\n",
    "\n",
    "        # position, leverage, marginMode\n",
    "        position_value = None\n",
    "        leverage_value = None\n",
    "        marginMode_value = None\n",
    "        if not isSpot:\n",
    "            position_value = await findPosition(string)\n",
    "            marginMode_value, leverage_value = await findLeverage(string)\n",
    "        else:\n",
    "            position_value= await sync_to_async(PositionSide.objects.get)(name=\"BUY\")\n",
    "        \n",
    "        # stopLoss\n",
    "        stopLoss_value = findStopLoss(string)\n",
    "\n",
    "        # entry targets\n",
    "        entry_targets_value = findEntryTargets(string)\n",
    "\n",
    "        # status    \n",
    "        status_value = await sync_to_async(PostStatus.objects.get)(name=\"PENDING\")\n",
    "\n",
    "        # take_profit targets\n",
    "        take_profit_targets_value = findTakeProfits(string)\n",
    "        take_profit_targets_value = take_profit_targets_value[:8]\n",
    "\n",
    "        # return Error RR < 0.2\n",
    "        # TODO will add to setting, to get min RR\n",
    "        RR = findRiskToReward(entry_targets_value, take_profit_targets_value, stopLoss_value)\n",
    "        if RR < 0.2:\n",
    "            status_value = await sync_to_async(PostStatus.objects.get)(name=\"ERROR\")\n",
    "            should_check = False\n",
    "\n",
    "        # return false if signal already exists\n",
    "        is_same_signal = await findSameSignal(post.date, symbol_value,market_value,position_value, leverage_value, marginMode_value,stopLoss_value,\n",
    "                                    take_profit_targets_value,entry_targets_value,post.channel.id)\n",
    "        if is_same_signal:\n",
    "            return False\n",
    "        \n",
    "        print(symbol_value.name, position_value.name)\n",
    "        isSHORT = position_value.name == \"SHORT\"\n",
    "        first_entry_value = entry_targets_value[0]\n",
    "        \n",
    "        if should_check:\n",
    "            if not isSHORT:\n",
    "                stat = await findLongOrderStat(stop_loss=stopLoss_value,\n",
    "                                entry_price=entry_targets_value,\n",
    "                                symbol=symbol_value,\n",
    "                                take_profit=take_profit_targets_value,\n",
    "                                start_timestamp= int(post.date.timestamp() * 1000))\n",
    "            elif isSHORT:\n",
    "                stat = await findShortOrderStat(stop_loss=stopLoss_value,\n",
    "                                entry_price=entry_targets_value,\n",
    "                                symbol=symbol_value,\n",
    "                                take_profit=take_profit_targets_value,\n",
    "                                start_timestamp= int(post.date.timestamp() * 1000))\n",
    "        else:\n",
    "            stat = {\"tps\": [], \"entry_reached\": [], \"stop_loss_reached\": None}\n",
    "       \n",
    "        print(stat)\n",
    "        stat['name'] = f'{symbol_value.name}, {position_value.name}'\n",
    "        allPredicts.append(stat)\n",
    "        print_colored(\"********************************************************************************************************************\",\"#0f0\")\n",
    "        tps_length = len(stat['tps'])\n",
    "        profit_value = 0\n",
    "\n",
    "        if stat['stop_loss_reached']:\n",
    "            if tps_length > 0:\n",
    "                status_value = await sync_to_async(PostStatus.objects.get)(name=\"FAILED WITH PROFIT\", type=tps_length)\n",
    "            else:\n",
    "                status_value = await sync_to_async(PostStatus.objects.get)(name=\"FAILED\")\n",
    "            profit_value = round(((float(stopLoss_value)/float(first_entry_value))-1)*100*float(leverage_value) * (-1 if isSHORT else 1), 5)\n",
    "        else:\n",
    "            if tps_length == len(take_profit_targets_value):\n",
    "                status_value = await sync_to_async(PostStatus.objects.get)(name=\"FULLTARGET\")\n",
    "                profit_value = round(abs(((take_profit_targets_value[tps_length-1]/first_entry_value)-1)*100*leverage_value), 5)\n",
    "\n",
    "            elif tps_length > 0:\n",
    "                status_value = await sync_to_async(PostStatus.objects.get)(name=\"SUCCESS\", type=tps_length)\n",
    "                profit_value = round(abs(((take_profit_targets_value[tps_length-1]/first_entry_value)-1)*100*leverage_value), 5)\n",
    "            \n",
    "        \n",
    "\n",
    "        # set predict object to DB\n",
    "        PredictData = {\n",
    "            \"post\": post,\n",
    "            \"date\": post.date,\n",
    "            \"symbol\": symbol_value,\n",
    "            \"position\": position_value,\n",
    "            \"market\": market_value,\n",
    "            \"leverage\": leverage_value,\n",
    "            \"stopLoss\": stopLoss_value,\n",
    "            \"margin_mode\": marginMode_value,\n",
    "            \"profit\": profit_value,\n",
    "            \"status\": status_value,  # PENDING = 1\n",
    "            \"order_id\": None,\n",
    "        }\n",
    "        newPredict = Predict(**PredictData)\n",
    "\n",
    "        # set entry value objects to DB\n",
    "        if entry_targets_value:\n",
    "            entriesLen = len(stat['entry_reached'])\n",
    "            for i, value in enumerate(entry_targets_value):\n",
    "                isActive = i < entriesLen \n",
    "                date = None\n",
    "                period = None\n",
    "                if isActive:\n",
    "                    time = int(stat['entry_reached'][i]['time'])\n",
    "                    date = datetime.fromtimestamp(time/ 1000)\n",
    "                    period = subtractTime(time, int(post.date.timestamp() * 1000))\n",
    "                entryData = EntryTarget(\n",
    "                    **{\n",
    "                        \"post\": post,\n",
    "                        \"index\": i,\n",
    "                        \"value\": value,\n",
    "                        \"active\": isActive,\n",
    "                        \"period\": period,\n",
    "                        \"date\": date,\n",
    "                    }\n",
    "                )\n",
    "                await sync_to_async(entryData.save)()\n",
    "        \n",
    "        # # set tp value objects to DB\n",
    "        if take_profit_targets_value:\n",
    "            tpLen = len(stat['tps'])\n",
    "\n",
    "            for i, value in enumerate(take_profit_targets_value):\n",
    "                isActive = i < tpLen \n",
    "                date = None\n",
    "                period = None\n",
    "                if isActive:\n",
    "                    time = int(stat['tps'][i]['time'])\n",
    "                    date = datetime.fromtimestamp(time/ 1000)\n",
    "                    period = subtractTime(time, int(post.date.timestamp() * 1000))\n",
    "\n",
    "                takeProfitData = TakeProfitTarget(\n",
    "                    **{\n",
    "                        \"post\": post,\n",
    "                        \"index\": i,\n",
    "                        \"value\": value,\n",
    "                        \"active\": isActive,\n",
    "                        \"period\": period,\n",
    "                        \"profit\": round(abs(((value/first_entry_value)-1)*100*leverage_value), 5),\n",
    "                        \"date\": date,\n",
    "                    }\n",
    "                )\n",
    "                await sync_to_async(takeProfitData.save)()\n",
    "\n",
    "\n",
    "        await sync_to_async(newPredict.save)()\n",
    "        return newPredict\n",
    "    except:\n",
    "        error_msg.append(model_to_dict(post))\n",
    "        \n",
    "        return False\n",
    "     "
   ]
  },
  {
   "cell_type": "markdown",
   "metadata": {},
   "source": [
    "## Find message type and save to DB"
   ]
  },
  {
   "cell_type": "code",
   "execution_count": 51,
   "metadata": {},
   "outputs": [],
   "source": [
    "async def extract_data_from_message(message):\n",
    "    if isinstance(message, Message):\n",
    "        is_predict_msg = isPredictMsg(message.message)\n",
    "        channel = await sync_to_async(Channel.objects.get)(\n",
    "            channel_id=message.peer_id.channel_id\n",
    "        )\n",
    "        PostData = {\n",
    "            \"channel\": channel if channel else None,\n",
    "            \"date\": message.date,\n",
    "            \"message_id\": message.id,\n",
    "            \"message\": message.message,\n",
    "            \"reply_to_msg_id\": message.reply_to.reply_to_msg_id\n",
    "            if message.reply_to\n",
    "            else None,\n",
    "            \"edit_date\": message.edit_date,\n",
    "            \"is_predict_msg\": is_predict_msg,\n",
    "        }\n",
    "        post = Post(**PostData)\n",
    "\n",
    "        await sync_to_async(post.save)()\n",
    "        # predict msg\n",
    "        if is_predict_msg:\n",
    "            await predictParts(message.message, post)\n",
    "        return PostData\n",
    "    else:\n",
    "        return None\n",
    "\n"
   ]
  },
  {
   "cell_type": "markdown",
   "metadata": {},
   "source": [
    "## Get channel history"
   ]
  },
  {
   "cell_type": "code",
   "execution_count": 52,
   "metadata": {},
   "outputs": [
    {
     "name": "stdout",
     "output_type": "stream",
     "text": [
      "Current Offset ID is: 0 ; Total Messages: 0\n"
     ]
    },
    {
     "name": "stderr",
     "output_type": "stream",
     "text": [
      " 51%|█████     | 51/100 [00:00<?, ?it/s]\n"
     ]
    },
    {
     "name": "stdout",
     "output_type": "stream",
     "text": [
      "BTC-USDT SHORT\n",
      "66250 [63000.0, 65300.0] BTC-USDT [62400.0, 61900.0, 61000.0, 60000.0, 59100.0, 58000.0, 56000.0, 54000.0] 1721026500000\n"
     ]
    },
    {
     "data": {
      "text/html": [
       "<p style='color:#f6cd28;'>LData exists</p>"
      ],
      "text/plain": [
       "<IPython.core.display.HTML object>"
      ]
     },
     "metadata": {},
     "output_type": "display_data"
    },
    {
     "name": "stdout",
     "output_type": "stream",
     "text": [
      "{'tps': [{'open': '62443.9', 'close': '62383.6', 'high': '62443.9', 'low': '62356.5', 'volume': '64.20', 'time': 1721042280000}], 'entry_reached': [{'open': '62950.0', 'close': '63064.5', 'high': '63082.6', 'low': '62949.2', 'volume': '129.44', 'time': 1721029380000}, {'open': '64952.3', 'close': '65212.3', 'high': '65326.4', 'low': '64952.2', 'volume': '150.19', 'time': 1721172540000}], 'stop_loss_reached': {'open': '66082.4', 'close': '66330.9', 'high': '66344.7', 'low': '66048.4', 'volume': '838.27', 'time': 1721404920000}}\n"
     ]
    },
    {
     "data": {
      "text/html": [
       "<p style='color:#0f0;'>********************************************************************************************************************</p>"
      ],
      "text/plain": [
       "<IPython.core.display.HTML object>"
      ]
     },
     "metadata": {},
     "output_type": "display_data"
    },
    {
     "name": "stdout",
     "output_type": "stream",
     "text": [
      "GRT-USDT SHORT\n",
      "0.2165 [0.2057, 0.21] GRT-USDT [0.203, 0.202, 0.206, 0.2, 0.195, 0.19] 1721040494000\n"
     ]
    },
    {
     "data": {
      "text/html": [
       "<p style='color:#f6cd28;'>LData exists</p>"
      ],
      "text/plain": [
       "<IPython.core.display.HTML object>"
      ]
     },
     "metadata": {},
     "output_type": "display_data"
    },
    {
     "name": "stdout",
     "output_type": "stream",
     "text": [
      "{'tps': [{'open': '0.20301', 'close': '0.20294', 'high': '0.20312', 'low': '0.20277', 'volume': '17775.00', 'time': 1721059560000}], 'entry_reached': [{'open': '0.20525', 'close': '0.20576', 'high': '0.20576', 'low': '0.20523', 'volume': '2507.00', 'time': 1721054760000}, {'open': '0.20938', 'close': '0.20983', 'high': '0.21013', 'low': '0.20938', 'volume': '40905.00', 'time': 1721069340000}], 'stop_loss_reached': {'open': '0.21616', 'close': '0.21719', 'high': '0.21729', 'low': '0.21613', 'volume': '64412.00', 'time': 1721074740000}}\n"
     ]
    },
    {
     "data": {
      "text/html": [
       "<p style='color:#0f0;'>********************************************************************************************************************</p>"
      ],
      "text/plain": [
       "<IPython.core.display.HTML object>"
      ]
     },
     "metadata": {},
     "output_type": "display_data"
    },
    {
     "name": "stdout",
     "output_type": "stream",
     "text": [
      "BTC-USDT SHORT\n",
      "66650 [63640.0, 65700.0] BTC-USDT [62600.0, 61900.0, 61000.0, 60000.0, 59100.0, 58000.0, 56000.0, 54000.0] 1721126676000\n"
     ]
    },
    {
     "data": {
      "text/html": [
       "<p style='color:#f6cd28;'>LData exists</p>"
      ],
      "text/plain": [
       "<IPython.core.display.HTML object>"
      ]
     },
     "metadata": {},
     "output_type": "display_data"
    },
    {
     "name": "stdout",
     "output_type": "stream",
     "text": [
      "{'tps': [], 'entry_reached': [{'open': '63598.3', 'close': '63736.7', 'high': '63740.0', 'low': '63598.3', 'volume': '111.19', 'time': 1721128920000}, {'open': '65649.4', 'close': '65721.4', 'high': '65779.3', 'low': '65649.3', 'volume': '100.59', 'time': 1721178540000}], 'stop_loss_reached': {'open': '66580.0', 'close': '66722.9', 'high': '66780.0', 'low': '66580.0', 'volume': '260.61', 'time': 1721409840000}}\n"
     ]
    },
    {
     "data": {
      "text/html": [
       "<p style='color:#0f0;'>********************************************************************************************************************</p>"
      ],
      "text/plain": [
       "<IPython.core.display.HTML object>"
      ]
     },
     "metadata": {},
     "output_type": "display_data"
    },
    {
     "name": "stdout",
     "output_type": "stream",
     "text": [
      "EGLD-USDT SHORT\n",
      "38.92 [35.18, 37.8] EGLD-USDT [34.5, 33.9, 33.2, 32.6, 32.0, 31.5, 31.0, 30.8] 1721138405000\n"
     ]
    },
    {
     "data": {
      "text/html": [
       "<p style='color:#f6cd28;'>LData exists</p>"
      ],
      "text/plain": [
       "<IPython.core.display.HTML object>"
      ]
     },
     "metadata": {},
     "output_type": "display_data"
    },
    {
     "name": "stdout",
     "output_type": "stream",
     "text": [
      "{'tps': [], 'entry_reached': [{'open': '35.138', 'close': '35.199', 'high': '35.199', 'low': '35.138', 'volume': '308.30', 'time': 1721141760000}, {'open': '37.746', 'close': '37.766', 'high': '37.813', 'low': '37.745', 'volume': '303.60', 'time': 1721191680000}], 'stop_loss_reached': None}\n"
     ]
    },
    {
     "data": {
      "text/html": [
       "<p style='color:#0f0;'>********************************************************************************************************************</p>"
      ],
      "text/plain": [
       "<IPython.core.display.HTML object>"
      ]
     },
     "metadata": {},
     "output_type": "display_data"
    },
    {
     "name": "stdout",
     "output_type": "stream",
     "text": [
      "NEAR-USDT SHORT\n",
      "7.05 [6.4, 6.81] NEAR-USDT [6.22, 6.1, 6.0, 5.84, 5.75, 5.6, 5.46, 5.2] 1721138416000\n"
     ]
    },
    {
     "data": {
      "text/html": [
       "<p style='color:#f6cd28;'>LData exists</p>"
      ],
      "text/plain": [
       "<IPython.core.display.HTML object>"
      ]
     },
     "metadata": {},
     "output_type": "display_data"
    },
    {
     "name": "stdout",
     "output_type": "stream",
     "text": [
      "{'tps': [{'open': '6.2384', 'close': '6.2174', 'high': '6.2384', 'low': '6.2116', 'volume': '6076.00', 'time': 1721203980000}, {'open': '6.1214', 'close': '6.0989', 'high': '6.1221', 'low': '6.0896', 'volume': '8541.00', 'time': 1721215020000}, {'open': '6.0051', 'close': '6.0106', 'high': '6.0134', 'low': '6.0000', 'volume': '9304.00', 'time': 1721298600000}], 'entry_reached': [{'open': '6.3906', 'close': '6.4000', 'high': '6.4125', 'low': '6.3905', 'volume': '6431.00', 'time': 1721178180000}], 'stop_loss_reached': None}\n"
     ]
    },
    {
     "data": {
      "text/html": [
       "<p style='color:#0f0;'>********************************************************************************************************************</p>"
      ],
      "text/plain": [
       "<IPython.core.display.HTML object>"
      ]
     },
     "metadata": {},
     "output_type": "display_data"
    },
    {
     "name": "stdout",
     "output_type": "stream",
     "text": [
      "XRP-USDT SHORT\n",
      "0.676 [0.615, 0.649] XRP-USDT [0.6, 0.592, 0.585, 0.579, 0.572, 0.56, 0.545, 0.532] 1721199720000\n"
     ]
    },
    {
     "data": {
      "text/html": [
       "<p style='color:#f6cd28;'>LData exists</p>"
      ],
      "text/plain": [
       "<IPython.core.display.HTML object>"
      ]
     },
     "metadata": {},
     "output_type": "display_data"
    },
    {
     "name": "stdout",
     "output_type": "stream",
     "text": [
      "{'tps': [{'open': '0.6025', 'close': '0.6017', 'high': '0.6027', 'low': '0.5998', 'volume': '652830.00', 'time': 1721202480000}, {'open': '0.5989', 'close': '0.5937', 'high': '0.5989', 'low': '0.5919', 'volume': '1198138.00', 'time': 1721279760000}, {'open': '0.5924', 'close': '0.5839', 'high': '0.5926', 'low': '0.5810', 'volume': '1728491.00', 'time': 1721280120000}, {'open': '0.5827', 'close': '0.5795', 'high': '0.5828', 'low': '0.5780', 'volume': '1597029.00', 'time': 1721282460000}, {'open': '0.5733', 'close': '0.5713', 'high': '0.5739', 'low': '0.5708', 'volume': '671351.00', 'time': 1721290800000}, {'open': '0.5626', 'close': '0.5600', 'high': '0.5627', 'low': '0.5599', 'volume': '454787.00', 'time': 1721318520000}, {'open': '0.5477', 'close': '0.5466', 'high': '0.5479', 'low': '0.5448', 'volume': '1616239.00', 'time': 1721349900000}], 'entry_reached': [{'open': '0.6136', 'close': '0.6153', 'high': '0.6161', 'low': '0.6126', 'volume': '756846.00', 'time': 1721200680000}], 'stop_loss_reached': None}\n"
     ]
    },
    {
     "data": {
      "text/html": [
       "<p style='color:#0f0;'>********************************************************************************************************************</p>"
      ],
      "text/plain": [
       "<IPython.core.display.HTML object>"
      ]
     },
     "metadata": {},
     "output_type": "display_data"
    },
    {
     "name": "stdout",
     "output_type": "stream",
     "text": [
      "INJ-USDT SHORT\n",
      "29.9 [26.1, 28.6] INJ-USDT [25.0, 24.4, 23.9, 23.3, 22.6, 22.0, 21.3, 20.5] 1721206694000\n"
     ]
    },
    {
     "data": {
      "text/html": [
       "<p style='color:#f6cd28;'>LData exists</p>"
      ],
      "text/plain": [
       "<IPython.core.display.HTML object>"
      ]
     },
     "metadata": {},
     "output_type": "display_data"
    },
    {
     "name": "stdout",
     "output_type": "stream",
     "text": [
      "{'tps': [], 'entry_reached': [{'open': '26.080', 'close': '26.123', 'high': '26.137', 'low': '26.080', 'volume': '2129.00', 'time': 1721212800000}], 'stop_loss_reached': None}\n"
     ]
    },
    {
     "data": {
      "text/html": [
       "<p style='color:#0f0;'>********************************************************************************************************************</p>"
      ],
      "text/plain": [
       "<IPython.core.display.HTML object>"
      ]
     },
     "metadata": {},
     "output_type": "display_data"
    },
    {
     "name": "stdout",
     "output_type": "stream",
     "text": [
      "NOT-USDT SHORT\n",
      "0.018654 [0.016, 0.0179] NOT-USDT [0.0155, 0.015, 0.0146, 0.0142, 0.0135, 0.0129, 0.012, 0.011] 1721292498000\n"
     ]
    },
    {
     "data": {
      "text/html": [
       "<p style='color:#f6cd28;'>LData exists</p>"
      ],
      "text/plain": [
       "<IPython.core.display.HTML object>"
      ]
     },
     "metadata": {},
     "output_type": "display_data"
    },
    {
     "name": "stdout",
     "output_type": "stream",
     "text": [
      "{'tps': [{'open': '0.015552', 'close': '0.015449', 'high': '0.015565', 'low': '0.015448', 'volume': '13611205.00', 'time': 1721318460000}], 'entry_reached': [{'open': '0.015976', 'close': '0.016013', 'high': '0.016013', 'low': '0.015976', 'volume': '3158353.00', 'time': 1721293620000}, {'open': '0.017815', 'close': '0.017792', 'high': '0.017907', 'low': '0.017766', 'volume': '22864911.00', 'time': 1721434440000}], 'stop_loss_reached': None}\n"
     ]
    },
    {
     "data": {
      "text/html": [
       "<p style='color:#0f0;'>********************************************************************************************************************</p>"
      ],
      "text/plain": [
       "<IPython.core.display.HTML object>"
      ]
     },
     "metadata": {},
     "output_type": "display_data"
    },
    {
     "name": "stdout",
     "output_type": "stream",
     "text": [
      "KAS-USDT SHORT\n",
      "0.2055 [0.178, 0.198] KAS-USDT [0.174, 0.17, 0.164, 0.158, 0.151, 0.144, 0.139, 0.132] 1721313302000\n"
     ]
    },
    {
     "data": {
      "text/html": [
       "<p style='color:#f6cd28;'>LData exists</p>"
      ],
      "text/plain": [
       "<IPython.core.display.HTML object>"
      ]
     },
     "metadata": {},
     "output_type": "display_data"
    },
    {
     "name": "stdout",
     "output_type": "stream",
     "text": [
      "{'tps': [{'open': '0.17691', 'close': '0.17402', 'high': '0.17692', 'low': '0.17228', 'volume': '417904.00', 'time': 1721585280000}], 'entry_reached': [{'open': '0.17784', 'close': '0.17801', 'high': '0.17802', 'low': '0.17784', 'volume': '10949.00', 'time': 1721322120000}], 'stop_loss_reached': None}\n"
     ]
    },
    {
     "data": {
      "text/html": [
       "<p style='color:#0f0;'>********************************************************************************************************************</p>"
      ],
      "text/plain": [
       "<IPython.core.display.HTML object>"
      ]
     },
     "metadata": {},
     "output_type": "display_data"
    },
    {
     "name": "stdout",
     "output_type": "stream",
     "text": [
      "INJ-USDT SHORT\n",
      "30.23 [26.46, 29.0] INJ-USDT [25.3, 24.4, 23.9, 23.3, 22.6, 22.0, 21.3, 20.5] 1721338504000\n"
     ]
    },
    {
     "data": {
      "text/html": [
       "<p style='color:#f6cd28;'>LData exists</p>"
      ],
      "text/plain": [
       "<IPython.core.display.HTML object>"
      ]
     },
     "metadata": {},
     "output_type": "display_data"
    },
    {
     "name": "stdout",
     "output_type": "stream",
     "text": [
      "{'tps': [], 'entry_reached': [{'open': '26.410', 'close': '26.429', 'high': '26.475', 'low': '26.410', 'volume': '2152.00', 'time': 1721341860000}], 'stop_loss_reached': None}\n"
     ]
    },
    {
     "data": {
      "text/html": [
       "<p style='color:#0f0;'>********************************************************************************************************************</p>"
      ],
      "text/plain": [
       "<IPython.core.display.HTML object>"
      ]
     },
     "metadata": {},
     "output_type": "display_data"
    },
    {
     "name": "stdout",
     "output_type": "stream",
     "text": [
      "BTC-USDT SHORT\n",
      "66650 [64670.0] BTC-USDT [63800.0, 63000.0, 62600.0, 61900.0, 61000.0, 60000.0, 59100.0, 58000.0] 1721343042000\n"
     ]
    },
    {
     "data": {
      "text/html": [
       "<p style='color:#f6cd28;'>LData exists</p>"
      ],
      "text/plain": [
       "<IPython.core.display.HTML object>"
      ]
     },
     "metadata": {},
     "output_type": "display_data"
    },
    {
     "name": "stdout",
     "output_type": "stream",
     "text": [
      "{'tps': [], 'entry_reached': [{'open': '64582.0', 'close': '64639.6', 'high': '64671.5', 'low': '64566.7', 'volume': '453.41', 'time': 1721396220000}], 'stop_loss_reached': {'open': '66580.0', 'close': '66722.9', 'high': '66780.0', 'low': '66580.0', 'volume': '260.61', 'time': 1721409840000}}\n"
     ]
    },
    {
     "data": {
      "text/html": [
       "<p style='color:#0f0;'>********************************************************************************************************************</p>"
      ],
      "text/plain": [
       "<IPython.core.display.HTML object>"
      ]
     },
     "metadata": {},
     "output_type": "display_data"
    },
    {
     "name": "stdout",
     "output_type": "stream",
     "text": [
      "SOL-USDT SHORT\n",
      "188 [160.0, 175.0] SOL-USDT [152.0, 149.0, 146.0, 142.7, 139.0, 135.0, 131.0, 126.0] 1721345347000\n"
     ]
    },
    {
     "data": {
      "text/html": [
       "<p style='color:#f6cd28;'>LData exists</p>"
      ],
      "text/plain": [
       "<IPython.core.display.HTML object>"
      ]
     },
     "metadata": {},
     "output_type": "display_data"
    },
    {
     "name": "stdout",
     "output_type": "stream",
     "text": [
      "{'tps': [], 'entry_reached': [{'open': '159.779', 'close': '159.832', 'high': '160.015', 'low': '159.778', 'volume': '2379.00', 'time': 1721359200000}, {'open': '174.736', 'close': '174.953', 'high': '175.226', 'low': '174.679', 'volume': '8623.00', 'time': 1721512860000}], 'stop_loss_reached': None}\n"
     ]
    },
    {
     "data": {
      "text/html": [
       "<p style='color:#0f0;'>********************************************************************************************************************</p>"
      ],
      "text/plain": [
       "<IPython.core.display.HTML object>"
      ]
     },
     "metadata": {},
     "output_type": "display_data"
    },
    {
     "name": "stdout",
     "output_type": "stream",
     "text": [
      "BTC-USDT SHORT\n",
      "66950 [64100.0, 65980.0] BTC-USDT [63100.0, 62600.0, 61900.0, 61000.0, 60000.0, 59100.0, 58000.0, 56000.0] 1721384500000\n"
     ]
    },
    {
     "data": {
      "text/html": [
       "<p style='color:#f6cd28;'>LData exists</p>"
      ],
      "text/plain": [
       "<IPython.core.display.HTML object>"
      ]
     },
     "metadata": {},
     "output_type": "display_data"
    },
    {
     "name": "stdout",
     "output_type": "stream",
     "text": [
      "{'tps': [], 'entry_reached': [{'open': '64057.1', 'close': '64122.3', 'high': '64140.0', 'low': '64057.1', 'volume': '57.70', 'time': 1721385060000}, {'open': '65874.3', 'close': '66080.5', 'high': '66240.6', 'low': '65872.1', 'volume': '460.60', 'time': 1721404860000}], 'stop_loss_reached': {'open': '66888.6', 'close': '66933.3', 'high': '66964.0', 'low': '66887.5', 'volume': '108.52', 'time': 1721415780000}}\n"
     ]
    },
    {
     "data": {
      "text/html": [
       "<p style='color:#0f0;'>********************************************************************************************************************</p>"
      ],
      "text/plain": [
       "<IPython.core.display.HTML object>"
      ]
     },
     "metadata": {},
     "output_type": "display_data"
    },
    {
     "name": "stdout",
     "output_type": "stream",
     "text": [
      "ENJ-USDT SHORT\n",
      "0.231 [0.1982, 0.216] ENJ-USDT [0.193, 0.188, 0.185, 0.182, 0.179, 0.176, 0.173, 0.17] 1721398695000\n"
     ]
    },
    {
     "data": {
      "text/html": [
       "<p style='color:#f6cd28;'>LData exists</p>"
      ],
      "text/plain": [
       "<IPython.core.display.HTML object>"
      ]
     },
     "metadata": {},
     "output_type": "display_data"
    },
    {
     "name": "stdout",
     "output_type": "stream",
     "text": [
      "{'tps': [{'open': '0.19323', 'close': '0.19141', 'high': '0.19323', 'low': '0.19110', 'volume': '34019.00', 'time': 1721585280000}], 'entry_reached': [{'open': '0.19773', 'close': '0.19854', 'high': '0.19854', 'low': '0.19773', 'volume': '39490.00', 'time': 1721404920000}], 'stop_loss_reached': None}\n"
     ]
    },
    {
     "data": {
      "text/html": [
       "<p style='color:#0f0;'>********************************************************************************************************************</p>"
      ],
      "text/plain": [
       "<IPython.core.display.HTML object>"
      ]
     },
     "metadata": {},
     "output_type": "display_data"
    },
    {
     "name": "stdout",
     "output_type": "stream",
     "text": [
      "NEAR-USDT SHORT\n",
      "7.19 [6.42, 6.9] NEAR-USDT [6.25, 6.1, 6.0, 5.84, 5.75, 5.6, 5.46, 5.2] 1721410015000\n"
     ]
    },
    {
     "data": {
      "text/html": [
       "<p style='color:#f6cd28;'>LData exists</p>"
      ],
      "text/plain": [
       "<IPython.core.display.HTML object>"
      ]
     },
     "metadata": {},
     "output_type": "display_data"
    },
    {
     "name": "stdout",
     "output_type": "stream",
     "text": [
      "{'tps': [{'open': '6.2589', 'close': '6.2431', 'high': '6.2590', 'low': '6.2265', 'volume': '20174.00', 'time': 1721509860000}, {'open': '6.1156', 'close': '6.0996', 'high': '6.1159', 'low': '6.0970', 'volume': '3955.00', 'time': 1721569080000}, {'open': '6.0159', 'close': '5.9936', 'high': '6.0159', 'low': '5.9895', 'volume': '12238.00', 'time': 1721585220000}], 'entry_reached': [{'open': '6.4044', 'close': '6.4076', 'high': '6.4225', 'low': '6.4040', 'volume': '2514.00', 'time': 1721416680000}], 'stop_loss_reached': None}\n"
     ]
    },
    {
     "data": {
      "text/html": [
       "<p style='color:#0f0;'>********************************************************************************************************************</p>"
      ],
      "text/plain": [
       "<IPython.core.display.HTML object>"
      ]
     },
     "metadata": {},
     "output_type": "display_data"
    },
    {
     "name": "stdout",
     "output_type": "stream",
     "text": [
      "NOT-USDT SHORT\n",
      "0.018854 [0.0163, 0.0182] NOT-USDT [0.0155, 0.015, 0.0146, 0.0142, 0.0135, 0.0129, 0.012, 0.011] 1721413743000\n"
     ]
    },
    {
     "data": {
      "text/html": [
       "<p style='color:#f6cd28;'>LData exists</p>"
      ],
      "text/plain": [
       "<IPython.core.display.HTML object>"
      ]
     },
     "metadata": {},
     "output_type": "display_data"
    },
    {
     "name": "stdout",
     "output_type": "stream",
     "text": [
      "{'tps': [{'open': '0.015598', 'close': '0.015506', 'high': '0.015603', 'low': '0.015486', 'volume': '17517807.00', 'time': 1721585220000}], 'entry_reached': [{'open': '0.016291', 'close': '0.016278', 'high': '0.016315', 'low': '0.016278', 'volume': '1524708.00', 'time': 1721414100000}], 'stop_loss_reached': None}\n"
     ]
    },
    {
     "data": {
      "text/html": [
       "<p style='color:#0f0;'>********************************************************************************************************************</p>"
      ],
      "text/plain": [
       "<IPython.core.display.HTML object>"
      ]
     },
     "metadata": {},
     "output_type": "display_data"
    },
    {
     "name": "stdout",
     "output_type": "stream",
     "text": [
      "BTC-USDT SHORT\n",
      "67210 [65040.0] BTC-USDT [63900.0, 63000.0, 62200.0, 61400.0, 60000.0, 59100.0, 58000.0, 56000.0] 1721414730000\n"
     ]
    },
    {
     "data": {
      "text/html": [
       "<p style='color:#f6cd28;'>LData exists</p>"
      ],
      "text/plain": [
       "<IPython.core.display.HTML object>"
      ]
     },
     "metadata": {},
     "output_type": "display_data"
    },
    {
     "name": "stdout",
     "output_type": "stream",
     "text": [
      "{'tps': [], 'entry_reached': [{'open': '66541.8', 'close': '66594.3', 'high': '66630.8', 'low': '66531.4', 'volume': '29.12', 'time': 1721414760000}], 'stop_loss_reached': {'open': '67167.4', 'close': '67234.9', 'high': '67245.9', 'low': '67119.3', 'volume': '109.78', 'time': 1721417520000}}\n"
     ]
    },
    {
     "data": {
      "text/html": [
       "<p style='color:#0f0;'>********************************************************************************************************************</p>"
      ],
      "text/plain": [
       "<IPython.core.display.HTML object>"
      ]
     },
     "metadata": {},
     "output_type": "display_data"
    },
    {
     "name": "stdout",
     "output_type": "stream",
     "text": [
      "BNB-USDT SHORT\n",
      "664 [595.0, 645.0] BNB-USDT [570.0, 558.0, 540.0, 524.0, 510.0, 495.0, 478.0, 460.0] 1721555114000\n"
     ]
    },
    {
     "data": {
      "text/html": [
       "<p style='color:#f6cd28;'>LData exists</p>"
      ],
      "text/plain": [
       "<IPython.core.display.HTML object>"
      ]
     },
     "metadata": {},
     "output_type": "display_data"
    },
    {
     "name": "stdout",
     "output_type": "stream",
     "text": [
      "{'tps': [], 'entry_reached': [{'open': '594.85', 'close': '595.17', 'high': '595.21', 'low': '594.83', 'volume': '34.41', 'time': 1721571720000}], 'stop_loss_reached': None}\n"
     ]
    },
    {
     "data": {
      "text/html": [
       "<p style='color:#0f0;'>********************************************************************************************************************</p>"
      ],
      "text/plain": [
       "<IPython.core.display.HTML object>"
      ]
     },
     "metadata": {},
     "output_type": "display_data"
    }
   ],
   "source": [
    "client = await TelegramClient(username, api_id, api_hash).start()\n",
    "peer_channel =  PeerChannel(int(config[\"CHANNEL_ALI_BEY\"]))\n",
    "feyzian_channel = await client.get_entity(peer_channel)\n",
    "\n",
    "offset_id = 0\n",
    "limit = 100\n",
    "all_messages = []\n",
    "total_messages = 0\n",
    "total_count_limit = 0\n",
    "# اول خرداد = 2024/5/21\n",
    "# end_date = datetime(2024, 5, 21, tzinfo=timezone.utc)\n",
    "# end_date = datetime(2024, 7, 1, tzinfo=timezone.utc)\n",
    "# start_date = datetime(2024, 5, 29, tzinfo=timezone.utc)\n",
    "# اول تیر = 2024/6/21\n",
    "# start_date = datetime(2024, 6, 21, tzinfo=timezone.utc)\n",
    "end_date = datetime(2024, 7, 15, tzinfo=timezone.utc)\n",
    "\n",
    "shouldStop = False\n",
    "while not shouldStop:\n",
    "    print(\"Current Offset ID is:\", offset_id, \"; Total Messages:\", total_messages)\n",
    "    history = await  client(\n",
    "    GetHistoryRequest(\n",
    "            peer=feyzian_channel,\n",
    "            offset_id=offset_id,\n",
    "            offset_date=None,\n",
    "            # offset_date=start_date,\n",
    "            add_offset=0,\n",
    "            limit=limit,\n",
    "            max_id=0,\n",
    "            min_id=0,\n",
    "            hash=0,\n",
    "        )\n",
    "    )\n",
    "\n",
    "    if not history.messages:\n",
    "        break\n",
    "\n",
    "    messages = history.messages\n",
    "    for message in tqdm(messages):\n",
    "        message_date = message.date.replace(tzinfo=timezone.utc)\n",
    "        # if start_date < message_date:\n",
    "        #     continue\n",
    "\n",
    "        if message_date < end_date:\n",
    "            shouldStop = True\n",
    "            break\n",
    "        all_messages.append(message)\n",
    "\n",
    "    offset_id = messages[len(messages) - 1].id\n",
    "    total_messages = len(all_messages)\n",
    "    if total_count_limit != 0 and total_messages >= total_count_limit:\n",
    "        break\n",
    "\n",
    "await client.disconnect()\n",
    "\n",
    "for msg in reversed(all_messages):\n",
    "    await extract_data_from_message(msg)\n",
    "\n",
    "\n",
    "\n",
    "# print(error_msg)\n",
    "convertToJsonFile(error_msg, \"error_msg\", \".\") \n",
    "# convertToJsonFile(allPredicts, \"allPredicts\", \".\") "
   ]
  }
 ],
 "metadata": {
  "kernelspec": {
   "display_name": ".venv",
   "language": "python",
   "name": "python3"
  },
  "language_info": {
   "codemirror_mode": {
    "name": "ipython",
    "version": 3
   },
   "file_extension": ".py",
   "mimetype": "text/x-python",
   "name": "python",
   "nbconvert_exporter": "python",
   "pygments_lexer": "ipython3",
   "version": "3.12.6"
  }
 },
 "nbformat": 4,
 "nbformat_minor": 2
}
