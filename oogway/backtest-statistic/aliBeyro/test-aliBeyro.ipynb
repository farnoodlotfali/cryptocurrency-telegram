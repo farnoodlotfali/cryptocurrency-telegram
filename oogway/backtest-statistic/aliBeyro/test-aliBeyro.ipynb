{
 "cells": [
  {
   "cell_type": "code",
   "execution_count": 1,
   "metadata": {},
   "outputs": [
    {
     "data": {
      "text/plain": [
       "'.\\\\.env'"
      ]
     },
     "execution_count": 1,
     "metadata": {},
     "output_type": "execute_result"
    }
   ],
   "source": [
    "import shutil\n",
    "\n",
    "source_file_path = '.\\..\\..\\.env'\n",
    "\n",
    "destination_file_path = '.'\n",
    "\n",
    "shutil.copy(source_file_path, destination_file_path)"
   ]
  },
  {
   "cell_type": "code",
   "execution_count": 2,
   "metadata": {},
   "outputs": [],
   "source": [
    "import django\n",
    "import os\n",
    "import sys\n",
    "project_path = '../../'  # Adjust this to your actual project path\n",
    "sys.path.append(project_path)\n",
    "os.environ.setdefault('DJANGO_SETTINGS_MODULE', 'oogway.settings')\n",
    "django.setup()\n",
    "\n",
    "import re\n",
    "from asgiref.sync import sync_to_async\n",
    "\n",
    "from PostAnalyzer.models import (\n",
    "    Market,\n",
    "    Symbol,\n",
    "    PositionSide,\n",
    "    MarginMode,\n",
    ")\n",
    "import warnings\n",
    "\n",
    "from Shared.helpers import returnSearchValue\n",
    "\n",
    "from dotenv import dotenv_values\n",
    "\n",
    "config = dotenv_values(\".env\")\n",
    "\n",
    "api_id = config[\"api_id\"]\n",
    "api_hash = config[\"api_hash\"]\n",
    "\n",
    "username = config[\"username\"]\n",
    "error_msg = []\n",
    "\n",
    "\n",
    "allPredicts = []\n",
    "\n",
    "\n",
    "# Disable all warnings\n",
    "warnings.filterwarnings(\"ignore\")"
   ]
  },
  {
   "cell_type": "markdown",
   "metadata": {},
   "source": [
    "## is Predict Msg?"
   ]
  },
  {
   "cell_type": "code",
   "execution_count": 3,
   "metadata": {},
   "outputs": [],
   "source": [
    "def isPredictMsg(msg):\n",
    "    patterns = [\n",
    "        r\"📌 #(.+)\",\n",
    "        r\"Entry:(.+)\",\n",
    "        r\"Leverage:(.+)\",\n",
    "        r\"Stop : (.+)\",\n",
    "        r\"TP:(.+)\",\n",
    "    ]\n",
    "\n",
    "    # Check if all patterns have a value\n",
    "    return all(re.search(pattern, msg) for pattern in patterns)\n"
   ]
  },
  {
   "cell_type": "markdown",
   "metadata": {},
   "source": [
    "## Symbol"
   ]
  },
  {
   "cell_type": "code",
   "execution_count": 4,
   "metadata": {},
   "outputs": [],
   "source": [
    "async def findSymbol(msg):\n",
    "    symbol = re.search(r\"📌 #(.+)?USDT\", msg, re.IGNORECASE)\n",
    "    \n",
    "    try:\n",
    "        return await sync_to_async(Symbol.objects.get)(base=returnSearchValue(symbol).upper())\n",
    "    except:\n",
    "        return None"
   ]
  },
  {
   "cell_type": "markdown",
   "metadata": {},
   "source": [
    "## Market"
   ]
  },
  {
   "cell_type": "code",
   "execution_count": 5,
   "metadata": {},
   "outputs": [],
   "source": [
    "async def findMarket(msg):\n",
    "\n",
    "    market = None\n",
    "    if \"Futures Call\".lower() in msg.lower():\n",
    "        market = \"FUTURES\"\n",
    "    elif \"Spot\".lower() in msg.lower():\n",
    "        market = \"SPOT\"\n",
    "    \n",
    "    try:\n",
    "        market_value = await sync_to_async(Market.objects.get)(name=market.upper())\n",
    "        return market_value\n",
    "    except:\n",
    "        return None\n"
   ]
  },
  {
   "cell_type": "markdown",
   "metadata": {},
   "source": [
    "## Position"
   ]
  },
  {
   "cell_type": "code",
   "execution_count": 6,
   "metadata": {},
   "outputs": [],
   "source": [
    "async def findPosition(msg):\n",
    "    if \"short\" in msg.lower():\n",
    "        pos = \"SHORT\"\n",
    "    elif \"long\" in msg.lower():\n",
    "        pos = \"LONG\"\n",
    "\n",
    "    try:\n",
    "        market_value = await sync_to_async(PositionSide.objects.get)(name=pos)\n",
    "        return market_value\n",
    "    except:\n",
    "        return None"
   ]
  },
  {
   "cell_type": "markdown",
   "metadata": {},
   "source": [
    "## Leverage and Margin Mode"
   ]
  },
  {
   "cell_type": "code",
   "execution_count": 7,
   "metadata": {},
   "outputs": [],
   "source": [
    "async def findLeverage(msg):\n",
    "    leverage_match = re.search(r\"Leverage:\\s*(\\d+x)\", msg, re.IGNORECASE)\n",
    "    if leverage_match:\n",
    "        leverage_value = int(leverage_match.group(1).lower().replace(\"x\",\"\")) \n",
    "        # leverage_value = int(leverage_match.group(1)[2].lower().replace(\"x\",\"\"))   \n",
    "    else:\n",
    "        leverage_value = None\n",
    "\n",
    "    leverage_type = await sync_to_async(MarginMode.objects.get)(name=\"ISOLATED\")   \n",
    "    \n",
    "    return leverage_type, leverage_value"
   ]
  },
  {
   "cell_type": "markdown",
   "metadata": {},
   "source": [
    "## StopLoss"
   ]
  },
  {
   "cell_type": "code",
   "execution_count": 8,
   "metadata": {},
   "outputs": [],
   "source": [
    "def findStopLoss(msg):\n",
    "   msg = msg.replace(\",\",\"\")\n",
    "   msg = msg.replace(\"‌\",\"\")\n",
    " \n",
    "   return returnSearchValue(re.search(r\"Stop\\s*:\\s*(?:کلوز)?\\s*([\\d.]+)\", msg))"
   ]
  },
  {
   "cell_type": "markdown",
   "metadata": {},
   "source": [
    "## Entry Targets"
   ]
  },
  {
   "cell_type": "code",
   "execution_count": 9,
   "metadata": {},
   "outputs": [],
   "source": [
    "def findEntryTargets(msg):\n",
    "    entry_targets_match = re.search(r\"Entry:(.+?)\\n\\n\", msg, re.DOTALL)\n",
    "    entry_values = (\n",
    "        re.findall(r\"\\d+(?:\\.\\d+)?\", entry_targets_match.group(1))\n",
    "        if entry_targets_match\n",
    "        else None\n",
    "    )\n",
    "    return [float(x.strip()) for x in entry_values]"
   ]
  },
  {
   "cell_type": "markdown",
   "metadata": {},
   "source": [
    "## Take Profits"
   ]
  },
  {
   "cell_type": "code",
   "execution_count": 10,
   "metadata": {},
   "outputs": [],
   "source": [
    "def findTakeProfits(msg):\n",
    "    take_profit_targets_match = re.search(r\"TP:(.+?)\\n\\n\", msg, re.DOTALL)\n",
    "    profit_values = (\n",
    "        re.findall(r\"\\d+(?:\\.\\d+)?\", take_profit_targets_match.group(1))\n",
    "        if take_profit_targets_match\n",
    "        else None\n",
    "    )\n",
    "    return [float(x.strip()) for x in profit_values]\n",
    "        "
   ]
  },
  {
   "cell_type": "markdown",
   "metadata": {},
   "source": [
    "## test samples"
   ]
  },
  {
   "cell_type": "code",
   "execution_count": 11,
   "metadata": {},
   "outputs": [
    {
     "name": "stdout",
     "output_type": "stream",
     "text": [
      "True\n",
      "THETA-USDT\n",
      "FUTURES\n",
      "LONG\n",
      "ISOLATED 2\n",
      "1.84\n",
      "[2.3, 1.99]\n",
      "[2.4, 2.48, 2.56, 2.67, 2.75, 2.85, 2.94, 3.0, 3.1, 3.23, 3.4, 3.7, 4.0, 4.5, 5.0, 5.4, 5.8, 6.5, 7.2]\n"
     ]
    }
   ],
   "source": [
    "\n",
    "msg = \"📣Futures Call Scalp 15min\\n\\n  💹LONG\\n\\n📌 #BTCUSDT\\n\\n💰 Entry: 57300-56000\\n\\n🏹 TP:57800-58200-58600-59000\\n59500-60000-60500-61000\\n\\n🧨 Stop : 54980\\n\\n⚖️ Leverage:10X-20X\\n\\n✅ Capital %: 3-5\\n\\nمیتونه یه پولبک‌بزنه و‌نوسانشو بگیریم\\n1403.04.15\\n〰️〰️〰️〰️〰️〰️〰️\"\n",
    "msg1 = \"📣 Futures Call Scalp\\n\\n  💹SHORT\\n\\n📌 #TRXUSDT\\n\\n💰 Entry: 0.12912-0.137\\n\\n🏹 TP:0.126-0.123-0.12-0.188-0.161-0.13\\n0.109-0.105-0.103-0.1-0.095-0.089-0.08-0.07\\n\\n🧨 Stop : 0.146\\n\\n⚖️ Leverage: 3x-5X-8X\\n\\n✅ Capital %: 3-5\\n\\n\\n1403.04.17\\n〰️〰️〰️〰️〰️〰️〰️\"\n",
    "msg2 =  \"📣 Futures Call Scalp\\n\\n  💹SHORT\\n\\n📌 #AAVEUSDT\\n\\n💰 Entry: 97.55-104\\n\\n🏹 TP:94.9-93.5-92-90.5-89.4-88.3-87-85-82-80-77-74-70-65\\n\\n🧨 Stop : 107.89\\n\\n⚖️ Leverage: 5X-8x-10X\\n\\n✅ Capital %: 3\\n\\nسیگنال قبل سود خوبی دادمجدد میشه وارد شد\\nزیر این سطح سلریم\\n\\n1403.04.24\\n〰️〰️〰️〰️〰️〰️〰️\\n‌‌\"\n",
    "msg3 =  \"📣 Futures Call Scalp \\n\\n  💹SHORT\\n\\n📌 #EGLDUSDT\\n\\n💰 Entry: 35.88-37.8\\n\\n🏹 TP:35-34.3-33.7-33.1-32.5-32-31.5-31\\n-30.8-30.4-30-29-28.2-27.5-26\\n\\n🧨 Stop : 38.92\\n\\n⚖️ Leverage: 5X-10X\\n\\n✅ Capital %: 3\\n\\nخب هردو پله ورود فعال شد با میانگین 35.72 فعال شد تارگتهارو اپدیت میکنم دوستانیم که ندارن میتونن استفاده کنند.بالا زدنشم طبق مسیر بوده\\nمادامی که بالای ترند تثبیت نده پایین میزنه\\n\\n1403.04.25\\n〰️〰️〰️〰️〰️〰️〰️\\n‌‌\"\n",
    "msg4 = \"📣 Futures Call Scalp\\n\\n  💹SHORT\\n\\n📌 #Btcusdt\\n\\n💰 Entry: 63000-65300\\n\\n🏹 TP:62400-61900-61000-60000-59100-58000-56000-54000-52000-50000-48000-44000-40000\\n\\n🧨 Stop : 66250کلوز\\n\\n⚖️ Leverage: 5X-10X-15X\\n\\n✅ Capital %: 3\\n\\nموج۴ تحلیل قبل مثلث بود که‌تغییر ساختار داد\\nحالا دیگه بنظرم  حتی میتونه سطح۵۲-۵۰ هم‌بشکنه و حمایت نشه \\n\\n1403.04.25\\n〰️〰️〰️〰️〰️〰️〰️\\n‌‌\"\n",
    "msg5 = \"📣Futures Call\\n\\n  💹LONG\\n\\n📌 #SNXUSDT\\n\\n💰 Entry: 2.865-2.533\\n\\n🏹 TP:3-3.12-3.26-3.4-3.58-3.67-3.78-3.9-4.2-4.46-4.7-4.92-5.3-5.7-6-6.3-6.8\\n\\n🧨 Stop : کلوز‌2.37\\n\\n⚖️ Leverage: 2x-3x-5X\\n\\n✅ Capital %: 3-5\\n\\n\\nسیگنال قبل سود خوبی داد بنظرم برگشتها پولبکه\\n1403.03.03\\n〰️〰️〰️〰️〰️〰️〰️\"\n",
    "msg6 =  \"📣Futures Call\\n\\n  💹LONG\\n\\n📌 #THETAUSDT\\n\\n💰 Entry: 2.3-1.99\\n\\n🏹 TP:2.4-2.48-2.56-2.67-2.75-2.85-2.94-3\\n3.1-3.23-3.4-3.7-4-4.5-5-5.4-5.8-6.5-7.2\\n\\n🧨 Stop : کلوز‌1.84\\n\\n⚖️ Leverage: 2x-3x-4X\\n\\n✅ Capital %: 3-5\\n\\nتتا دو‌حرکت بزرگشو‌گرفتیم از کف که‌لانگ دادیم \\n365% رشد داشت و سقف سلمون 57% ریزش اسپات حالا بنظر موج 4 اصلاحی تموم شده و‌اماده رشد در قالب موج 5 باشه\\n\\n1403.03.19\\n〰️〰️〰️〰️〰️〰️〰️\"\n",
    "\n",
    "msg = msg6\n",
    "\n",
    "isPredict  = isPredictMsg(msg)\n",
    "print(isPredict)\n",
    "\n",
    "symbol = await findSymbol(msg)\n",
    "print(symbol)\n",
    "\n",
    "market = await findMarket(msg)\n",
    "print(market)\n",
    "\n",
    "pos = await findPosition(msg)\n",
    "print(pos)\n",
    "\n",
    "mode, lev = await findLeverage(msg)\n",
    "print(mode, lev)\n",
    "\n",
    "stop = findStopLoss(msg)\n",
    "print(stop)\n",
    "\n",
    "et = findEntryTargets(msg)\n",
    "print(et)\n",
    "\n",
    "tp = findTakeProfits(msg)\n",
    "print(tp)\n",
    "\n",
    "\n",
    "\n",
    "\n"
   ]
  }
 ],
 "metadata": {
  "kernelspec": {
   "display_name": "Python 3",
   "language": "python",
   "name": "python3"
  },
  "language_info": {
   "codemirror_mode": {
    "name": "ipython",
    "version": 3
   },
   "file_extension": ".py",
   "mimetype": "text/x-python",
   "name": "python",
   "nbconvert_exporter": "python",
   "pygments_lexer": "ipython3",
   "version": "3.9.6"
  }
 },
 "nbformat": 4,
 "nbformat_minor": 2
}
