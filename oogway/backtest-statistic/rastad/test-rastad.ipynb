{
 "cells": [
  {
   "cell_type": "code",
   "execution_count": 213,
   "metadata": {},
   "outputs": [],
   "source": [
    "import re\n",
    "from itertools import groupby\n",
    "from datetime import datetime"
   ]
  },
  {
   "cell_type": "code",
   "execution_count": 214,
   "metadata": {},
   "outputs": [],
   "source": [
    "def returnValue(val):\n",
    "    return val.group(1) if  val else None"
   ]
  },
  {
   "cell_type": "code",
   "execution_count": 215,
   "metadata": {},
   "outputs": [],
   "source": [
    "def isPredictMsg(msg):\n",
    "    patterns = [\n",
    "        r\"Futures(.+)\",\n",
    "        r\"Normal Stop Loss:\",\n",
    "        r\"Enter price(.+)\",\n",
    "        r\"Target(.+)\",\n",
    "    ]\n",
    "\n",
    "    # Check if all patterns have a value\n",
    "    return all(re.search(pattern, msg) for pattern in patterns)"
   ]
  },
  {
   "cell_type": "code",
   "execution_count": 216,
   "metadata": {},
   "outputs": [],
   "source": [
    "def findMarket(msg):\n",
    "    market = None\n",
    "    if \"Futures\".lower() in msg.lower():\n",
    "        market = \"FUTURES\"\n",
    "    elif \"Spot\".lower() in msg.lower():\n",
    "        market = \"SPOT\"\n",
    "\n",
    "    return market"
   ]
  },
  {
   "cell_type": "code",
   "execution_count": 217,
   "metadata": {},
   "outputs": [],
   "source": [
    "def findPosition(msg):\n",
    "    pos = None\n",
    "    if \"short\" in msg.lower():\n",
    "        pos = \"SHORT\"\n",
    "    elif \"long\" in msg.lower():\n",
    "        pos = \"LONG\"\n",
    "\n",
    "    return pos\n",
    "    \n",
    "    "
   ]
  },
  {
   "cell_type": "code",
   "execution_count": 218,
   "metadata": {},
   "outputs": [
    {
     "name": "stdout",
     "output_type": "stream",
     "text": [
      "True\n"
     ]
    },
    {
     "data": {
      "text/plain": [
       "{'symbol': 'DOGE',\n",
       " 'position': 'LONG',\n",
       " 'market': 'FUTURES',\n",
       " 'leverage': 'Isolated 3X',\n",
       " 'stopLoss': '0.13952',\n",
       " 'Entry Targets': [{'index': 0,\n",
       "   'value': '0.14796',\n",
       "   'active': False,\n",
       "   'Period': None,\n",
       "   'date': None},\n",
       "  {'index': 1,\n",
       "   'value': '0.14221',\n",
       "   'active': False,\n",
       "   'Period': None,\n",
       "   'date': None}],\n",
       " 'take-Profit Targets': {'Target 1': '0.15042',\n",
       "  'Target 2': '0.15249',\n",
       "  'Target 3': '0.15471',\n",
       "  'Target 4': '0.15637',\n",
       "  'Target 5': '0.15805'}}"
      ]
     },
     "execution_count": 218,
     "metadata": {},
     "output_type": "execute_result"
    }
   ],
   "source": [
    "msg = {\n",
    "    \"id\": 8445,\n",
    "    \"date\": \"2023-12-01T15:25:59+00:00\",\n",
    "    \"reply_to_msg_id\": None,\n",
    "    \"message\": \"Bingx Futures (LONG)\\n\\n📶 #DOGE/USDT\\n\\n📈Enter price: 0.14796 🔛 0.14221\\n\\n1️⃣ Target: 0.15042\\n\\n2️⃣ Target: 0.15249\\n\\n3️⃣ Target: 0.15471\\n\\n4️⃣ Target: 0.15637\\n\\n5️⃣ Target: 0.15805\\n\\n⛔️ Normal Stop Loss: 0.13952\\n\\n⚠️ 1% Risk (Isolated 3X)\\n\\nhttps://www.tradingview.com/x/ceuNvRel/\\n\\n💸  VIP\\n@Dig@persianeliteorg\",\n",
    "    \"edit_date\": None,\n",
    "    \"media\": None,\n",
    "}\n",
    "\n",
    "string = msg[\"message\"]\n",
    "\n",
    "# print(string)\n",
    "symbol_match = string[string.find(\"#\") + 1 : string.find(\"/USDT\")].strip().split(\"USDT\")[0].replace(\"/\", \"\")\n",
    "\n",
    "position_match = findPosition(string)\n",
    "leverage_match = returnValue(re.search(r\"Risk (.+)\", string)).strip().replace(\")\", \"\").replace(\"(\", \"\")\n",
    "market_match = findMarket(string)\n",
    "stopLoss_match = returnValue(re.search(r\"Normal Stop Loss: (.+)\", string))\n",
    "# stopLoss_match = float(returnValue(entry_match)) * 0.9\n",
    "entry_targets_match = re.search(r\"Enter price:(.+?)\\n\\n\", string, re.DOTALL)\n",
    "entry_values = (\n",
    "    re.findall(r\"\\d+(?:\\.\\d+)?\", entry_targets_match.group(1))\n",
    "    if entry_targets_match\n",
    "    else None\n",
    ")\n",
    "\n",
    "profit_values = re.findall(r'Target: (\\d+\\.\\d+)', string)\n",
    "\n",
    "\n",
    "# Creating a dictionary\n",
    "data = {\n",
    "    \"symbol\": symbol_match,\n",
    "    \"position\": position_match,\n",
    "    \"market\": market_match,\n",
    "    \"leverage\": leverage_match,\n",
    "    \"stopLoss\": stopLoss_match,\n",
    "    \"Entry Targets\": [\n",
    "        {\"index\": i, \"value\": value, \"active\": False, \"Period\": None, \"date\": None}\n",
    "        for i, value in enumerate(entry_values)\n",
    "    ],\n",
    "    \"take-Profit Targets\": {\n",
    "        f\"Target {i+1}\": value for i, value in enumerate(profit_values)\n",
    "    }\n",
    "    if profit_values\n",
    "    else None,\n",
    "}\n",
    "print(isPredictMsg(string))\n",
    "\n",
    "data"
   ]
  },
  {
   "cell_type": "code",
   "execution_count": null,
   "metadata": {},
   "outputs": [],
   "source": []
  },
  {
   "cell_type": "code",
   "execution_count": 219,
   "metadata": {},
   "outputs": [],
   "source": [
    "def isTakeProfit(msg, symbol, index):\n",
    "\n",
    "    patterns = [\n",
    "        r\"Price(.+)\",\n",
    "        r\"Profit(.+)\",\n",
    "    ]\n",
    "\n",
    "    # Check if all patterns have a value\n",
    "    return all(re.search(pattern, msg) for pattern in patterns)"
   ]
  },
  {
   "cell_type": "code",
   "execution_count": 220,
   "metadata": {},
   "outputs": [
    {
     "name": "stdout",
     "output_type": "stream",
     "text": [
      "60\n",
      "1\n"
     ]
    }
   ],
   "source": [
    "import re\n",
    "\n",
    "string = \"#RUNE/USDT (Long📈, x20)\\n\\n✅ Price - 6.072\\n🔝 Profit - 60%\\n@D@persianeliteorg\"\n",
    "match = re.search(r\"Profit - (\\d+)%\", string)\n",
    "\n",
    "if match:\n",
    "    profit_number = int(returnValue(match))\n",
    "    print(profit_number)\n",
    "else:\n",
    "    print(\"Profit number not found.\")\n",
    "\n",
    "import math\n",
    "\n",
    "result = math.floor(40 / 25)\n",
    "print(result)"
   ]
  },
  {
   "cell_type": "code",
   "execution_count": 221,
   "metadata": {},
   "outputs": [
    {
     "name": "stdout",
     "output_type": "stream",
     "text": [
      "0.0147\n"
     ]
    }
   ],
   "source": [
    "result = 0.0025 * 5.889\n",
    "formatted_result = \"{:.4f}\".format(result)\n",
    "print(float(formatted_result))"
   ]
  }
 ],
 "metadata": {
  "kernelspec": {
   "display_name": "Python 3",
   "language": "python",
   "name": "python3"
  },
  "language_info": {
   "codemirror_mode": {
    "name": "ipython",
    "version": 3
   },
   "file_extension": ".py",
   "mimetype": "text/x-python",
   "name": "python",
   "nbconvert_exporter": "python",
   "pygments_lexer": "ipython3",
   "version": "3.9.6"
  }
 },
 "nbformat": 4,
 "nbformat_minor": 2
}
