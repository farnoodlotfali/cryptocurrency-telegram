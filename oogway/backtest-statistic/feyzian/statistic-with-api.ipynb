{
 "cells": [
  {
   "cell_type": "code",
   "execution_count": 7,
   "metadata": {},
   "outputs": [
    {
     "data": {
      "text/plain": [
       "'.\\\\.env'"
      ]
     },
     "execution_count": 7,
     "metadata": {},
     "output_type": "execute_result"
    }
   ],
   "source": [
    "import shutil\n",
    "\n",
    "source_file_path = '.\\..\\..\\.env'\n",
    "\n",
    "destination_file_path = '.'\n",
    "\n",
    "shutil.copy(source_file_path, destination_file_path)"
   ]
  },
  {
   "cell_type": "code",
   "execution_count": 8,
   "metadata": {},
   "outputs": [],
   "source": [
    "import django\n",
    "import os\n",
    "import sys\n",
    "project_path = '../../'  # Adjust this to your actual project path\n",
    "sys.path.append(project_path)\n",
    "os.environ.setdefault('DJANGO_SETTINGS_MODULE', 'oogway.settings')\n",
    "django.setup()"
   ]
  },
  {
   "cell_type": "code",
   "execution_count": 9,
   "metadata": {},
   "outputs": [],
   "source": [
    "# LONG\n",
    "\n",
    "\n",
    "# from Shared.findLongOrderStat import findLongOrderStat\n",
    "\n",
    "# pp = exchange.fetch_ohlcv(symbol='ETH/USDT:USDT', timeframe='1m',  since=1725708000000, limit=1440, params={\n",
    "#     'until': 1725708000000+86_400_000\n",
    "# })\n",
    "# stat = await findLongOrderStat(stop_loss=2140.45,\n",
    "#                     entry_price=[2216.86, 2179.03],\n",
    "#                     symbol='ETH-USDT',\n",
    "#                     take_profit=[2244.16, 2268.9, 2295.24, 2325.58, 2368.75],\n",
    "#                     start_timestamp= int(1725708000 * 1000))\n",
    "\n",
    "# stat = await findLongOrderStat(stop_loss=0.1299,\n",
    "#                     entry_price=[0.1321, 0.1308],\n",
    "#                     symbol='GRT-USDT',\n",
    "#                     take_profit=[0.1327, 0.1336, 0.1343, 0.1352, 0.1365],\n",
    "#                     start_timestamp= int(1725809640 * 1000))\n",
    "\n",
    "\n",
    "# stat = await findLongOrderStat(stop_loss=3.984,\n",
    "#                     entry_price=[4.078, 4.027],\n",
    "#                     symbol='ATOM-USDT',\n",
    "#                     take_profit=[4.116, 4.153, 4.190, 4.234, 4.275],\n",
    "#                     start_timestamp= 1726139280000)\n",
    "# \n",
    "# print(stat)"
   ]
  },
  {
   "cell_type": "code",
   "execution_count": 10,
   "metadata": {},
   "outputs": [],
   "source": [
    "# SHORT\n",
    "\n",
    "# from Shared.findShortOrderStat import findShortOrderStat\n",
    "\n",
    "\n",
    "# stat = await findShortOrderStat(stop_loss=1.663,\n",
    "#                     entry_price=[1.604, 1.646],\n",
    "#                     symbol='OP-USDT',\n",
    "#                     take_profit=[1.591, 1.570, 1.548, 1.521, 1.486],\n",
    "#                     start_timestamp= int(1725969600 * 1000))\n",
    "\n",
    "\n",
    "# print(stat)"
   ]
  },
  {
   "cell_type": "code",
   "execution_count": 11,
   "metadata": {},
   "outputs": [],
   "source": [
    "import warnings\n",
    "from Channels.FeyzianChannel import FeyzianChannel\n",
    "\n",
    "fey = FeyzianChannel()\n",
    "\n",
    "\n",
    "# Disable all warnings\n",
    "warnings.filterwarnings(\"ignore\")"
   ]
  },
  {
   "cell_type": "markdown",
   "metadata": {},
   "source": [
    "## Get channel history"
   ]
  },
  {
   "cell_type": "code",
   "execution_count": 12,
   "metadata": {},
   "outputs": [
    {
     "name": "stdout",
     "output_type": "stream",
     "text": [
      "Current Offset ID is: 0 ; Total Messages: 0\n"
     ]
    },
    {
     "name": "stderr",
     "output_type": "stream",
     "text": [
      "100%|██████████| 100/100 [00:00<?, ?it/s]\n"
     ]
    },
    {
     "name": "stdout",
     "output_type": "stream",
     "text": [
      "Current Offset ID is: 13023 ; Total Messages: 100\n"
     ]
    },
    {
     "name": "stderr",
     "output_type": "stream",
     "text": [
      "100%|██████████| 100/100 [00:00<?, ?it/s]\n"
     ]
    },
    {
     "name": "stdout",
     "output_type": "stream",
     "text": [
      "Current Offset ID is: 12917 ; Total Messages: 200\n"
     ]
    },
    {
     "name": "stderr",
     "output_type": "stream",
     "text": [
      " 46%|████▌     | 46/100 [00:00<?, ?it/s]\n"
     ]
    },
    {
     "name": "stdout",
     "output_type": "stream",
     "text": [
      "ETH-USDT LONG\n"
     ]
    },
    {
     "data": {
      "text/html": [
       "<p style='color:#f6cd28;'>LData exists</p>"
      ],
      "text/plain": [
       "<IPython.core.display.HTML object>"
      ]
     },
     "metadata": {},
     "output_type": "display_data"
    },
    {
     "name": "stdout",
     "output_type": "stream",
     "text": [
      "{'tps': [], 'entry_reached': [], 'stop_loss_reached': None}\n"
     ]
    },
    {
     "data": {
      "text/html": [
       "<p style='color:#0f0;'>********************************************************************************************************************</p>"
      ],
      "text/plain": [
       "<IPython.core.display.HTML object>"
      ]
     },
     "metadata": {},
     "output_type": "display_data"
    },
    {
     "name": "stdout",
     "output_type": "stream",
     "text": [
      "SUI-USDT SHORT\n"
     ]
    },
    {
     "data": {
      "text/html": [
       "<p style='color:#f6cd28;'>LData exists</p>"
      ],
      "text/plain": [
       "<IPython.core.display.HTML object>"
      ]
     },
     "metadata": {},
     "output_type": "display_data"
    },
    {
     "data": {
      "text/html": [
       "<p style='color:#00f;'>get new data</p>"
      ],
      "text/plain": [
       "<IPython.core.display.HTML object>"
      ]
     },
     "metadata": {},
     "output_type": "display_data"
    },
    {
     "data": {
      "text/html": [
       "<p style='color:#ada;'>saving historic tohlcv data to json</p>"
      ],
      "text/plain": [
       "<IPython.core.display.HTML object>"
      ]
     },
     "metadata": {},
     "output_type": "display_data"
    },
    {
     "name": "stdout",
     "output_type": "stream",
     "text": [
      "{'tps': [[1725790020000, 0.96346, 0.9649, 0.95608, 0.95741, 133022.0], [1725798180000, 0.95346, 0.95348, 0.94855, 0.95038, 131966.0], [1725800880000, 0.94587, 0.94588, 0.93891, 0.94167, 300477.0], [1725808920000, 0.92923, 0.92923, 0.9257, 0.92766, 71635.0], [1725858360000, 0.90952, 0.90955, 0.90779, 0.90811, 68033.0]], 'entry_reached': [[1725789900000, 0.96323, 0.96589, 0.96309, 0.96452, 112038.0]], 'stop_loss_reached': None}\n"
     ]
    },
    {
     "data": {
      "text/html": [
       "<p style='color:#0f0;'>********************************************************************************************************************</p>"
      ],
      "text/plain": [
       "<IPython.core.display.HTML object>"
      ]
     },
     "metadata": {},
     "output_type": "display_data"
    },
    {
     "name": "stdout",
     "output_type": "stream",
     "text": [
      "GRT-USDT LONG\n"
     ]
    },
    {
     "data": {
      "text/html": [
       "<p style='color:#f6cd28;'>LData exists</p>"
      ],
      "text/plain": [
       "<IPython.core.display.HTML object>"
      ]
     },
     "metadata": {},
     "output_type": "display_data"
    },
    {
     "data": {
      "text/html": [
       "<p style='color:#00f;'>get new data</p>"
      ],
      "text/plain": [
       "<IPython.core.display.HTML object>"
      ]
     },
     "metadata": {},
     "output_type": "display_data"
    },
    {
     "data": {
      "text/html": [
       "<p style='color:#ada;'>saving historic tohlcv data to json</p>"
      ],
      "text/plain": [
       "<IPython.core.display.HTML object>"
      ]
     },
     "metadata": {},
     "output_type": "display_data"
    },
    {
     "name": "stdout",
     "output_type": "stream",
     "text": [
      "{'tps': [[1725815640000, 0.1325, 0.13279, 0.1325, 0.13271, 160550.0], [1725817260000, 0.13354, 0.13365, 0.13342, 0.13342, 9709.0], [1725830160000, 0.13421, 0.13433, 0.13404, 0.13423, 5907.0], [1725833820000, 0.13504, 0.13542, 0.13491, 0.13535, 29342.0], [1725834060000, 0.1357, 0.13656, 0.1357, 0.13652, 11857.0]], 'entry_reached': [[1725810900000, 0.13226, 0.13227, 0.13202, 0.13225, 469240.0]], 'stop_loss_reached': None}\n"
     ]
    },
    {
     "data": {
      "text/html": [
       "<p style='color:#0f0;'>********************************************************************************************************************</p>"
      ],
      "text/plain": [
       "<IPython.core.display.HTML object>"
      ]
     },
     "metadata": {},
     "output_type": "display_data"
    },
    {
     "name": "stdout",
     "output_type": "stream",
     "text": [
      "AAVE-USDT LONG\n"
     ]
    },
    {
     "data": {
      "text/html": [
       "<p style='color:#f6cd28;'>LData exists</p>"
      ],
      "text/plain": [
       "<IPython.core.display.HTML object>"
      ]
     },
     "metadata": {},
     "output_type": "display_data"
    },
    {
     "name": "stdout",
     "output_type": "stream",
     "text": [
      "{'tps': [], 'entry_reached': [], 'stop_loss_reached': None}\n"
     ]
    },
    {
     "data": {
      "text/html": [
       "<p style='color:#0f0;'>********************************************************************************************************************</p>"
      ],
      "text/plain": [
       "<IPython.core.display.HTML object>"
      ]
     },
     "metadata": {},
     "output_type": "display_data"
    },
    {
     "name": "stdout",
     "output_type": "stream",
     "text": [
      "LINK-USDT SHORT\n"
     ]
    },
    {
     "data": {
      "text/html": [
       "<p style='color:#f6cd28;'>LData exists</p>"
      ],
      "text/plain": [
       "<IPython.core.display.HTML object>"
      ]
     },
     "metadata": {},
     "output_type": "display_data"
    },
    {
     "data": {
      "text/html": [
       "<p style='color:#00f;'>get new data</p>"
      ],
      "text/plain": [
       "<IPython.core.display.HTML object>"
      ]
     },
     "metadata": {},
     "output_type": "display_data"
    },
    {
     "data": {
      "text/html": [
       "<p style='color:#ada;'>saving historic tohlcv data to json</p>"
      ],
      "text/plain": [
       "<IPython.core.display.HTML object>"
      ]
     },
     "metadata": {},
     "output_type": "display_data"
    },
    {
     "name": "stdout",
     "output_type": "stream",
     "text": [
      "{'tps': [[1725915240000, 10.534, 10.538, 10.529, 10.531, 845.9], [1725931980000, 10.403, 10.405, 10.4, 10.404, 834.2], [1726062660000, 10.298, 10.298, 10.263, 10.273, 17899.0]], 'entry_reached': [[1725911940000, 10.6, 10.613, 10.598, 10.611, 3142.7], [1726192800000, 10.83, 10.853, 10.829, 10.853, 14693.2]], 'stop_loss_reached': [1726224420000, 10.863, 10.972, 10.863, 10.96, 10671.1]}\n"
     ]
    },
    {
     "data": {
      "text/html": [
       "<p style='color:#0f0;'>********************************************************************************************************************</p>"
      ],
      "text/plain": [
       "<IPython.core.display.HTML object>"
      ]
     },
     "metadata": {},
     "output_type": "display_data"
    },
    {
     "name": "stdout",
     "output_type": "stream",
     "text": [
      "RUNE-USDT SHORT\n"
     ]
    },
    {
     "data": {
      "text/html": [
       "<p style='color:#f6cd28;'>LData exists</p>"
      ],
      "text/plain": [
       "<IPython.core.display.HTML object>"
      ]
     },
     "metadata": {},
     "output_type": "display_data"
    },
    {
     "data": {
      "text/html": [
       "<p style='color:#00f;'>get new data</p>"
      ],
      "text/plain": [
       "<IPython.core.display.HTML object>"
      ]
     },
     "metadata": {},
     "output_type": "display_data"
    },
    {
     "data": {
      "text/html": [
       "<p style='color:#ada;'>saving historic tohlcv data to json</p>"
      ],
      "text/plain": [
       "<IPython.core.display.HTML object>"
      ]
     },
     "metadata": {},
     "output_type": "display_data"
    },
    {
     "name": "stdout",
     "output_type": "stream",
     "text": [
      "{'tps': [[1725977700000, 3.853, 3.854, 3.843, 3.843, 5962.0]], 'entry_reached': [[1725965400000, 3.907, 3.912, 3.906, 3.909, 2341.0], [1725993480000, 4.039, 4.056, 4.039, 4.055, 3477.0]], 'stop_loss_reached': [1725997560000, 4.08, 4.088, 4.078, 4.085, 3219.0]}\n"
     ]
    },
    {
     "data": {
      "text/html": [
       "<p style='color:#0f0;'>********************************************************************************************************************</p>"
      ],
      "text/plain": [
       "<IPython.core.display.HTML object>"
      ]
     },
     "metadata": {},
     "output_type": "display_data"
    },
    {
     "name": "stdout",
     "output_type": "stream",
     "text": [
      "OP-USDT SHORT\n"
     ]
    },
    {
     "data": {
      "text/html": [
       "<p style='color:#f6cd28;'>LData exists</p>"
      ],
      "text/plain": [
       "<IPython.core.display.HTML object>"
      ]
     },
     "metadata": {},
     "output_type": "display_data"
    },
    {
     "data": {
      "text/html": [
       "<p style='color:#00f;'>get new data</p>"
      ],
      "text/plain": [
       "<IPython.core.display.HTML object>"
      ]
     },
     "metadata": {},
     "output_type": "display_data"
    },
    {
     "data": {
      "text/html": [
       "<p style='color:#ada;'>saving historic tohlcv data to json</p>"
      ],
      "text/plain": [
       "<IPython.core.display.HTML object>"
      ]
     },
     "metadata": {},
     "output_type": "display_data"
    },
    {
     "name": "stdout",
     "output_type": "stream",
     "text": [
      "{'tps': [[1725991080000, 1.5923, 1.5924, 1.591, 1.5922, 4547.9], [1726023840000, 1.5703, 1.5703, 1.5673, 1.5678, 3930.6], [1726031520000, 1.549, 1.549, 1.5471, 1.5481, 6137.2], [1726149360000, 1.5222, 1.5225, 1.5209, 1.5214, 18401.2], [1726441320000, 1.4873, 1.4873, 1.4859, 1.486, 14968.9]], 'entry_reached': [[1725986880000, 1.6014, 1.6055, 1.5996, 1.6048, 23713.9]], 'stop_loss_reached': None}\n"
     ]
    },
    {
     "data": {
      "text/html": [
       "<p style='color:#0f0;'>********************************************************************************************************************</p>"
      ],
      "text/plain": [
       "<IPython.core.display.HTML object>"
      ]
     },
     "metadata": {},
     "output_type": "display_data"
    },
    {
     "name": "stdout",
     "output_type": "stream",
     "text": [
      "RUNE-USDT SHORT\n"
     ]
    },
    {
     "data": {
      "text/html": [
       "<p style='color:#f6cd28;'>LData exists</p>"
      ],
      "text/plain": [
       "<IPython.core.display.HTML object>"
      ]
     },
     "metadata": {},
     "output_type": "display_data"
    },
    {
     "name": "stdout",
     "output_type": "stream",
     "text": [
      "{'tps': [[1726245420000, 4.091, 4.093, 4.082, 4.082, 6232.0], [1726314180000, 3.99, 3.991, 3.987, 3.989, 1852.0], [1726441860000, 3.9, 3.901, 3.885, 3.9, 24713.0], [1726520220000, 3.814, 3.815, 3.802, 3.806, 3920.0]], 'entry_reached': [[1726245000000, 4.119, 4.141, 4.118, 4.141, 3317.0], [1726704000000, 4.305, 4.343, 4.305, 4.329, 8779.0]], 'stop_loss_reached': [1726705260000, 4.387, 4.397, 4.383, 4.389, 2625.0]}\n"
     ]
    },
    {
     "data": {
      "text/html": [
       "<p style='color:#0f0;'>********************************************************************************************************************</p>"
      ],
      "text/plain": [
       "<IPython.core.display.HTML object>"
      ]
     },
     "metadata": {},
     "output_type": "display_data"
    },
    {
     "name": "stdout",
     "output_type": "stream",
     "text": [
      "BTC-USDT SHORT\n"
     ]
    },
    {
     "data": {
      "text/html": [
       "<p style='color:#f6cd28;'>LData exists</p>"
      ],
      "text/plain": [
       "<IPython.core.display.HTML object>"
      ]
     },
     "metadata": {},
     "output_type": "display_data"
    },
    {
     "name": "stdout",
     "output_type": "stream",
     "text": [
      "{'tps': [], 'entry_reached': [[1726070520000, 56719.8, 56796.8, 56713.4, 56793.4, 126.7], [1726073640000, 57029.6, 57389.3, 57029.6, 57340.7, 229.69]], 'stop_loss_reached': [1726073700000, 57340.7, 57505.5, 57336.2, 57500.0, 327.17]}\n"
     ]
    },
    {
     "data": {
      "text/html": [
       "<p style='color:#0f0;'>********************************************************************************************************************</p>"
      ],
      "text/plain": [
       "<IPython.core.display.HTML object>"
      ]
     },
     "metadata": {},
     "output_type": "display_data"
    },
    {
     "name": "stdout",
     "output_type": "stream",
     "text": [
      "ATOM-USDT LONG\n"
     ]
    },
    {
     "data": {
      "text/html": [
       "<p style='color:#f6cd28;'>LData exists</p>"
      ],
      "text/plain": [
       "<IPython.core.display.HTML object>"
      ]
     },
     "metadata": {},
     "output_type": "display_data"
    },
    {
     "data": {
      "text/html": [
       "<p style='color:#00f;'>get new data</p>"
      ],
      "text/plain": [
       "<IPython.core.display.HTML object>"
      ]
     },
     "metadata": {},
     "output_type": "display_data"
    },
    {
     "data": {
      "text/html": [
       "<p style='color:#ada;'>saving historic tohlcv data to json</p>"
      ],
      "text/plain": [
       "<IPython.core.display.HTML object>"
      ]
     },
     "metadata": {},
     "output_type": "display_data"
    },
    {
     "name": "stdout",
     "output_type": "stream",
     "text": [
      "{'tps': [[1726150620000, 4.11, 4.117, 4.109, 4.109, 6833.28], [1726188360000, 4.152, 4.153, 4.151, 4.152, 508.76], [1726204620000, 4.184, 4.195, 4.182, 4.185, 35915.58], [1726215180000, 4.229, 4.235, 4.227, 4.227, 5357.01]], 'entry_reached': [[1726139700000, 4.08, 4.081, 4.078, 4.079, 1723.52], [1726441860000, 4.035, 4.04, 4.019, 4.032, 56169.83]], 'stop_loss_reached': [1726451400000, 3.99, 3.991, 3.973, 3.975, 15016.62]}\n"
     ]
    },
    {
     "data": {
      "text/html": [
       "<p style='color:#0f0;'>********************************************************************************************************************</p>"
      ],
      "text/plain": [
       "<IPython.core.display.HTML object>"
      ]
     },
     "metadata": {},
     "output_type": "display_data"
    },
    {
     "name": "stdout",
     "output_type": "stream",
     "text": [
      "AVAX-USDT SHORT\n"
     ]
    },
    {
     "data": {
      "text/html": [
       "<p style='color:#f6cd28;'>LData exists</p>"
      ],
      "text/plain": [
       "<IPython.core.display.HTML object>"
      ]
     },
     "metadata": {},
     "output_type": "display_data"
    },
    {
     "data": {
      "text/html": [
       "<p style='color:#00f;'>get new data</p>"
      ],
      "text/plain": [
       "<IPython.core.display.HTML object>"
      ]
     },
     "metadata": {},
     "output_type": "display_data"
    },
    {
     "data": {
      "text/html": [
       "<p style='color:#ada;'>saving historic tohlcv data to json</p>"
      ],
      "text/plain": [
       "<IPython.core.display.HTML object>"
      ]
     },
     "metadata": {},
     "output_type": "display_data"
    },
    {
     "name": "stdout",
     "output_type": "stream",
     "text": [
      "{'tps': [[1726388460000, 24.756, 24.756, 24.73, 24.732, 2179.0], [1726430760000, 24.31, 24.315, 24.144, 24.252, 15063.0], [1726441860000, 23.713, 23.713, 23.618, 23.667, 3812.0], [1726667160000, 23.048, 23.057, 23.023, 23.042, 1965.0]], 'entry_reached': [[1726324260000, 25.179, 25.233, 25.166, 25.231, 3658.0], [1726748220000, 26.465, 26.492, 26.453, 26.49, 2019.0]], 'stop_loss_reached': [1726790940000, 26.839, 26.91, 26.829, 26.895, 3331.0]}\n"
     ]
    },
    {
     "data": {
      "text/html": [
       "<p style='color:#0f0;'>********************************************************************************************************************</p>"
      ],
      "text/plain": [
       "<IPython.core.display.HTML object>"
      ]
     },
     "metadata": {},
     "output_type": "display_data"
    },
    {
     "name": "stdout",
     "output_type": "stream",
     "text": [
      "ETH-USDT SHORT\n"
     ]
    },
    {
     "data": {
      "text/html": [
       "<p style='color:#f6cd28;'>LData exists</p>"
      ],
      "text/plain": [
       "<IPython.core.display.HTML object>"
      ]
     },
     "metadata": {},
     "output_type": "display_data"
    },
    {
     "name": "stdout",
     "output_type": "stream",
     "text": [
      "{'tps': [[1726724100000, 2409.02, 2409.9, 2408.63, 2409.66, 269.61]], 'entry_reached': [[1726721760000, 2411.33, 2415.3, 2411.32, 2414.98, 662.8], [1726731600000, 2429.56, 2434.27, 2428.08, 2432.31, 634.86]], 'stop_loss_reached': [1726731960000, 2436.09, 2441.29, 2434.88, 2439.2, 324.24]}\n"
     ]
    },
    {
     "data": {
      "text/html": [
       "<p style='color:#0f0;'>********************************************************************************************************************</p>"
      ],
      "text/plain": [
       "<IPython.core.display.HTML object>"
      ]
     },
     "metadata": {},
     "output_type": "display_data"
    },
    {
     "name": "stdout",
     "output_type": "stream",
     "text": [
      "1INCH-USDT LONG\n"
     ]
    },
    {
     "data": {
      "text/html": [
       "<p style='color:#f6cd28;'>LData exists</p>"
      ],
      "text/plain": [
       "<IPython.core.display.HTML object>"
      ]
     },
     "metadata": {},
     "output_type": "display_data"
    },
    {
     "data": {
      "text/html": [
       "<p style='color:#00f;'>get new data</p>"
      ],
      "text/plain": [
       "<IPython.core.display.HTML object>"
      ]
     },
     "metadata": {},
     "output_type": "display_data"
    },
    {
     "data": {
      "text/html": [
       "<p style='color:#ada;'>saving historic tohlcv data to json</p>"
      ],
      "text/plain": [
       "<IPython.core.display.HTML object>"
      ]
     },
     "metadata": {},
     "output_type": "display_data"
    },
    {
     "name": "stdout",
     "output_type": "stream",
     "text": [
      "{'tps': [[1726577820000, 0.2411, 0.2419, 0.2409, 0.2415, 23605.0], [1726586160000, 0.2454, 0.246, 0.2454, 0.2456, 17945.0], [1726701300000, 0.2492, 0.2496, 0.2492, 0.2495, 36207.0], [1726704120000, 0.254, 0.2545, 0.2538, 0.2545, 8573.0], [1726727520000, 0.2615, 0.2618, 0.2615, 0.2618, 4473.0]], 'entry_reached': [[1726484880000, 0.2375, 0.2376, 0.2373, 0.2375, 14957.0]], 'stop_loss_reached': None}\n"
     ]
    },
    {
     "data": {
      "text/html": [
       "<p style='color:#0f0;'>********************************************************************************************************************</p>"
      ],
      "text/plain": [
       "<IPython.core.display.HTML object>"
      ]
     },
     "metadata": {},
     "output_type": "display_data"
    },
    {
     "name": "stdout",
     "output_type": "stream",
     "text": [
      "ETH-USDT SHORT\n"
     ]
    },
    {
     "data": {
      "text/html": [
       "<p style='color:#f6cd28;'>LData exists</p>"
      ],
      "text/plain": [
       "<IPython.core.display.HTML object>"
      ]
     },
     "metadata": {},
     "output_type": "display_data"
    },
    {
     "name": "stdout",
     "output_type": "stream",
     "text": [
      "{'tps': [], 'entry_reached': [[1726707120000, 2398.23, 2404.54, 2397.06, 2401.09, 1508.26], [1726770120000, 2480.55, 2492.02, 2479.74, 2492.02, 1280.33]], 'stop_loss_reached': [1726804740000, 2507.0, 2520.86, 2506.94, 2519.51, 2032.82]}\n"
     ]
    },
    {
     "data": {
      "text/html": [
       "<p style='color:#0f0;'>********************************************************************************************************************</p>"
      ],
      "text/plain": [
       "<IPython.core.display.HTML object>"
      ]
     },
     "metadata": {},
     "output_type": "display_data"
    },
    {
     "name": "stdout",
     "output_type": "stream",
     "text": [
      "FTM-USDT LONG\n"
     ]
    },
    {
     "data": {
      "text/html": [
       "<p style='color:#f6cd28;'>LData exists</p>"
      ],
      "text/plain": [
       "<IPython.core.display.HTML object>"
      ]
     },
     "metadata": {},
     "output_type": "display_data"
    },
    {
     "data": {
      "text/html": [
       "<p style='color:#00f;'>get new data</p>"
      ],
      "text/plain": [
       "<IPython.core.display.HTML object>"
      ]
     },
     "metadata": {},
     "output_type": "display_data"
    },
    {
     "data": {
      "text/html": [
       "<p style='color:#ada;'>saving historic tohlcv data to json</p>"
      ],
      "text/plain": [
       "<IPython.core.display.HTML object>"
      ]
     },
     "metadata": {},
     "output_type": "display_data"
    },
    {
     "name": "stdout",
     "output_type": "stream",
     "text": [
      "{'tps': [[1726532040000, 0.5239, 0.5246, 0.5238, 0.524, 54043.0], [1726548480000, 0.53, 0.5322, 0.53, 0.5308, 291034.0], [1726548540000, 0.5308, 0.5412, 0.5302, 0.5385, 548403.0], [1726551240000, 0.5396, 0.5496, 0.5396, 0.5473, 487322.0], [1726552740000, 0.5505, 0.5581, 0.5495, 0.554, 386589.0]], 'entry_reached': [[1726510080000, 0.5173, 0.5183, 0.5173, 0.5181, 7659.0], [1726519920000, 0.5079, 0.5081, 0.5061, 0.5066, 322731.0]], 'stop_loss_reached': None}\n"
     ]
    },
    {
     "data": {
      "text/html": [
       "<p style='color:#0f0;'>********************************************************************************************************************</p>"
      ],
      "text/plain": [
       "<IPython.core.display.HTML object>"
      ]
     },
     "metadata": {},
     "output_type": "display_data"
    },
    {
     "name": "stdout",
     "output_type": "stream",
     "text": [
      "BNB-USDT SHORT\n"
     ]
    },
    {
     "data": {
      "text/html": [
       "<p style='color:#f6cd28;'>LData exists</p>"
      ],
      "text/plain": [
       "<IPython.core.display.HTML object>"
      ]
     },
     "metadata": {},
     "output_type": "display_data"
    },
    {
     "data": {
      "text/html": [
       "<p style='color:#00f;'>get new data</p>"
      ],
      "text/plain": [
       "<IPython.core.display.HTML object>"
      ]
     },
     "metadata": {},
     "output_type": "display_data"
    },
    {
     "data": {
      "text/html": [
       "<p style='color:#ada;'>saving historic tohlcv data to json</p>"
      ],
      "text/plain": [
       "<IPython.core.display.HTML object>"
      ]
     },
     "metadata": {},
     "output_type": "display_data"
    },
    {
     "name": "stdout",
     "output_type": "stream",
     "text": [
      "{'tps': [], 'entry_reached': [[1726700640000, 554.19, 554.96, 554.18, 554.66, 38.83], [1726747620000, 562.99, 563.97, 562.99, 563.68, 547.04]], 'stop_loss_reached': [1726764360000, 569.61, 571.22, 569.59, 571.06, 121.58]}\n"
     ]
    },
    {
     "data": {
      "text/html": [
       "<p style='color:#0f0;'>********************************************************************************************************************</p>"
      ],
      "text/plain": [
       "<IPython.core.display.HTML object>"
      ]
     },
     "metadata": {},
     "output_type": "display_data"
    },
    {
     "name": "stdout",
     "output_type": "stream",
     "text": [
      "BTC-USDT LONG\n"
     ]
    },
    {
     "data": {
      "text/html": [
       "<p style='color:#f6cd28;'>LData exists</p>"
      ],
      "text/plain": [
       "<IPython.core.display.HTML object>"
      ]
     },
     "metadata": {},
     "output_type": "display_data"
    },
    {
     "name": "stdout",
     "output_type": "stream",
     "text": [
      "{'tps': [], 'entry_reached': [[1726599180000, 60527.9, 60527.9, 60400.0, 60412.1, 185.44], [1726602420000, 59895.7, 59927.6, 59734.1, 59788.6, 215.62]], 'stop_loss_reached': [1726654560000, 59506.6, 59511.8, 59371.7, 59372.1, 227.06]}\n"
     ]
    },
    {
     "data": {
      "text/html": [
       "<p style='color:#0f0;'>********************************************************************************************************************</p>"
      ],
      "text/plain": [
       "<IPython.core.display.HTML object>"
      ]
     },
     "metadata": {},
     "output_type": "display_data"
    },
    {
     "name": "stdout",
     "output_type": "stream",
     "text": [
      "BTC-USDT LONG\n"
     ]
    },
    {
     "data": {
      "text/html": [
       "<p style='color:#f6cd28;'>LData exists</p>"
      ],
      "text/plain": [
       "<IPython.core.display.HTML object>"
      ]
     },
     "metadata": {},
     "output_type": "display_data"
    },
    {
     "name": "stdout",
     "output_type": "stream",
     "text": [
      "{'tps': [], 'entry_reached': [[1726599180000, 60527.9, 60527.9, 60400.0, 60412.1, 185.44], [1726602420000, 59895.7, 59927.6, 59734.1, 59788.6, 215.62]], 'stop_loss_reached': [1726654560000, 59506.6, 59511.8, 59371.7, 59372.1, 227.06]}\n"
     ]
    },
    {
     "data": {
      "text/html": [
       "<p style='color:#0f0;'>********************************************************************************************************************</p>"
      ],
      "text/plain": [
       "<IPython.core.display.HTML object>"
      ]
     },
     "metadata": {},
     "output_type": "display_data"
    },
    {
     "name": "stdout",
     "output_type": "stream",
     "text": [
      "SAND-USDT LONG\n"
     ]
    },
    {
     "data": {
      "text/html": [
       "<p style='color:#f6cd28;'>LData exists</p>"
      ],
      "text/plain": [
       "<IPython.core.display.HTML object>"
      ]
     },
     "metadata": {},
     "output_type": "display_data"
    },
    {
     "data": {
      "text/html": [
       "<p style='color:#00f;'>get new data</p>"
      ],
      "text/plain": [
       "<IPython.core.display.HTML object>"
      ]
     },
     "metadata": {},
     "output_type": "display_data"
    },
    {
     "data": {
      "text/html": [
       "<p style='color:#ada;'>saving historic tohlcv data to json</p>"
      ],
      "text/plain": [
       "<IPython.core.display.HTML object>"
      ]
     },
     "metadata": {},
     "output_type": "display_data"
    },
    {
     "name": "stdout",
     "output_type": "stream",
     "text": [
      "{'tps': [[1726682460000, 0.2478, 0.2502, 0.2478, 0.2484, 351387.0], [1726701840000, 0.2535, 0.2537, 0.2534, 0.2537, 34028.0], [1726703820000, 0.2561, 0.2566, 0.2561, 0.2562, 9482.0], [1726705260000, 0.2596, 0.2606, 0.2596, 0.2604, 41968.0], [1726752240000, 0.2652, 0.2657, 0.2651, 0.2656, 30352.0]], 'entry_reached': [[1726652880000, 0.2477, 0.2477, 0.2475, 0.2476, 14138.0], [1726675380000, 0.2422, 0.2423, 0.2416, 0.2416, 13307.0]], 'stop_loss_reached': None}\n"
     ]
    },
    {
     "data": {
      "text/html": [
       "<p style='color:#0f0;'>********************************************************************************************************************</p>"
      ],
      "text/plain": [
       "<IPython.core.display.HTML object>"
      ]
     },
     "metadata": {},
     "output_type": "display_data"
    },
    {
     "name": "stdout",
     "output_type": "stream",
     "text": [
      "INJ-USDT LONG\n"
     ]
    },
    {
     "data": {
      "text/html": [
       "<p style='color:#f6cd28;'>LData exists</p>"
      ],
      "text/plain": [
       "<IPython.core.display.HTML object>"
      ]
     },
     "metadata": {},
     "output_type": "display_data"
    },
    {
     "data": {
      "text/html": [
       "<p style='color:#00f;'>get new data</p>"
      ],
      "text/plain": [
       "<IPython.core.display.HTML object>"
      ]
     },
     "metadata": {},
     "output_type": "display_data"
    },
    {
     "data": {
      "text/html": [
       "<p style='color:#ada;'>saving historic tohlcv data to json</p>"
      ],
      "text/plain": [
       "<IPython.core.display.HTML object>"
      ]
     },
     "metadata": {},
     "output_type": "display_data"
    },
    {
     "name": "stdout",
     "output_type": "stream",
     "text": [
      "{'tps': [[1726682400000, 18.526, 18.932, 18.473, 18.87, 8509.0], [1726682460000, 18.856, 19.107, 18.854, 18.989, 11203.0], [1726684380000, 19.303, 19.451, 19.303, 19.409, 2709.0], [1726703760000, 19.701, 19.75, 19.686, 19.721, 2991.0], [1726707240000, 20.218, 20.353, 20.21, 20.353, 4368.0]], 'entry_reached': [[1726666740000, 18.522, 18.539, 18.513, 18.523, 2022.0]], 'stop_loss_reached': None}\n"
     ]
    },
    {
     "data": {
      "text/html": [
       "<p style='color:#0f0;'>********************************************************************************************************************</p>"
      ],
      "text/plain": [
       "<IPython.core.display.HTML object>"
      ]
     },
     "metadata": {},
     "output_type": "display_data"
    },
    {
     "name": "stdout",
     "output_type": "stream",
     "text": [
      "ETH-USDT SHORT\n"
     ]
    },
    {
     "data": {
      "text/html": [
       "<p style='color:#f6cd28;'>LData exists</p>"
      ],
      "text/plain": [
       "<IPython.core.display.HTML object>"
      ]
     },
     "metadata": {},
     "output_type": "display_data"
    },
    {
     "name": "stdout",
     "output_type": "stream",
     "text": [
      "{'tps': [], 'entry_reached': [[1726692900000, 2326.38, 2327.13, 2325.69, 2327.01, 284.26], [1726747560000, 2442.77, 2448.5, 2441.46, 2446.5, 1836.95]], 'stop_loss_reached': [1726763520000, 2469.41, 2477.0, 2467.87, 2474.75, 2329.46]}\n"
     ]
    },
    {
     "data": {
      "text/html": [
       "<p style='color:#0f0;'>********************************************************************************************************************</p>"
      ],
      "text/plain": [
       "<IPython.core.display.HTML object>"
      ]
     },
     "metadata": {},
     "output_type": "display_data"
    },
    {
     "name": "stdout",
     "output_type": "stream",
     "text": [
      "BTC-USDT SHORT\n"
     ]
    },
    {
     "data": {
      "text/html": [
       "<p style='color:#f6cd28;'>LData exists</p>"
      ],
      "text/plain": [
       "<IPython.core.display.HTML object>"
      ]
     },
     "metadata": {},
     "output_type": "display_data"
    },
    {
     "name": "stdout",
     "output_type": "stream",
     "text": [
      "{'tps': [[1726811160000, 63628.7, 63700.0, 63585.1, 63696.5, 83.28], [1726821300000, 63128.2, 63193.5, 63103.8, 63193.4, 84.19], [1726841520000, 62690.4, 62693.8, 62627.4, 62642.3, 91.36]], 'entry_reached': [[1726805340000, 64043.9, 64147.0, 64004.6, 64063.4, 330.16]], 'stop_loss_reached': None}\n"
     ]
    },
    {
     "data": {
      "text/html": [
       "<p style='color:#0f0;'>********************************************************************************************************************</p>"
      ],
      "text/plain": [
       "<IPython.core.display.HTML object>"
      ]
     },
     "metadata": {},
     "output_type": "display_data"
    },
    {
     "name": "stdout",
     "output_type": "stream",
     "text": [
      "APE-USDT SHORT\n"
     ]
    },
    {
     "data": {
      "text/html": [
       "<p style='color:#f6cd28;'>LData exists</p>"
      ],
      "text/plain": [
       "<IPython.core.display.HTML object>"
      ]
     },
     "metadata": {},
     "output_type": "display_data"
    },
    {
     "name": "stdout",
     "output_type": "stream",
     "text": [
      "{'tps': [[1726884420000, 0.7914, 0.7919, 0.7904, 0.7905, 21335.0]], 'entry_reached': [[1726869840000, 0.8017, 0.802, 0.8012, 0.8013, 2640.0]], 'stop_loss_reached': None}\n"
     ]
    },
    {
     "data": {
      "text/html": [
       "<p style='color:#0f0;'>********************************************************************************************************************</p>"
      ],
      "text/plain": [
       "<IPython.core.display.HTML object>"
      ]
     },
     "metadata": {},
     "output_type": "display_data"
    },
    {
     "name": "stdout",
     "output_type": "stream",
     "text": [
      "ETH-USDT SHORT\n"
     ]
    },
    {
     "data": {
      "text/html": [
       "<p style='color:#f6cd28;'>LData exists</p>"
      ],
      "text/plain": [
       "<IPython.core.display.HTML object>"
      ]
     },
     "metadata": {},
     "output_type": "display_data"
    },
    {
     "name": "stdout",
     "output_type": "stream",
     "text": [
      "{'tps': [[1726931400000, 2556.83, 2556.83, 2551.04, 2551.6, 468.74]], 'entry_reached': [[1726926300000, 2564.09, 2567.8, 2563.78, 2567.35, 129.32], [1726960740000, 2582.66, 2589.89, 2582.54, 2589.69, 1358.3]], 'stop_loss_reached': [1726962000000, 2601.12, 2611.3, 2600.77, 2611.3, 4026.52]}\n"
     ]
    },
    {
     "data": {
      "text/html": [
       "<p style='color:#0f0;'>********************************************************************************************************************</p>"
      ],
      "text/plain": [
       "<IPython.core.display.HTML object>"
      ]
     },
     "metadata": {},
     "output_type": "display_data"
    },
    {
     "name": "stdout",
     "output_type": "stream",
     "text": [
      "APT-USDT LONG\n"
     ]
    },
    {
     "data": {
      "text/html": [
       "<p style='color:#f6cd28;'>LData exists</p>"
      ],
      "text/plain": [
       "<IPython.core.display.HTML object>"
      ]
     },
     "metadata": {},
     "output_type": "display_data"
    },
    {
     "name": "stdout",
     "output_type": "stream",
     "text": [
      "{'tps': [[1726995420000, 7.88, 7.895, 7.8672, 7.895, 4508.7]], 'entry_reached': [[1726993620000, 7.8456, 7.8456, 7.8298, 7.8361, 1962.5]], 'stop_loss_reached': None}\n"
     ]
    },
    {
     "data": {
      "text/html": [
       "<p style='color:#0f0;'>********************************************************************************************************************</p>"
      ],
      "text/plain": [
       "<IPython.core.display.HTML object>"
      ]
     },
     "metadata": {},
     "output_type": "display_data"
    },
    {
     "data": {
      "text/plain": [
       "True"
      ]
     },
     "execution_count": 12,
     "metadata": {},
     "output_type": "execute_result"
    }
   ],
   "source": [
    "\n",
    "# اول فروردین = 2024/3/20\n",
    "# end_date = datetime(2024, 3, 20, tzinfo=timezone.utc)\n",
    "# اول خرداد = 2024/5/21\n",
    "# end_date = datetime(2024, 5, 21, tzinfo=timezone.utc)\n",
    "# start_date = datetime(2024, 5, 29, tzinfo=timezone.utc)\n",
    "# اول تیر = 2024/6/21\n",
    "# start_date = datetime(2024, 6, 21, tzinfo=timezone.utc)\n",
    "# end_date = datetime(2024, 9, 7, tzinfo=timezone.utc)\n",
    "\n",
    "\n",
    "# await statistic_fey.FindStatistic(2024, 9, 7)\n",
    "\n",
    "await fey.FindStatistic(2024, 9, 7)"
   ]
  }
 ],
 "metadata": {
  "kernelspec": {
   "display_name": ".venv",
   "language": "python",
   "name": "python3"
  },
  "language_info": {
   "codemirror_mode": {
    "name": "ipython",
    "version": 3
   },
   "file_extension": ".py",
   "mimetype": "text/x-python",
   "name": "python",
   "nbconvert_exporter": "python",
   "pygments_lexer": "ipython3",
   "version": "3.12.6"
  }
 },
 "nbformat": 4,
 "nbformat_minor": 2
}
