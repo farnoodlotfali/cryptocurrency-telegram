{
 "cells": [
  {
   "cell_type": "code",
   "execution_count": 1,
   "metadata": {},
   "outputs": [
    {
     "data": {
      "text/plain": [
       "'.\\\\.env'"
      ]
     },
     "execution_count": 1,
     "metadata": {},
     "output_type": "execute_result"
    }
   ],
   "source": [
    "import shutil\n",
    "\n",
    "source_file_path = '.\\..\\..\\.env'\n",
    "\n",
    "destination_file_path = '.'\n",
    "\n",
    "shutil.copy(source_file_path, destination_file_path)"
   ]
  },
  {
   "cell_type": "code",
   "execution_count": 2,
   "metadata": {},
   "outputs": [],
   "source": [
    "import django\n",
    "import os\n",
    "import sys\n",
    "project_path = '../../'  # Adjust this to your actual project path\n",
    "sys.path.append(project_path)\n",
    "os.environ.setdefault('DJANGO_SETTINGS_MODULE', 'oogway.settings')\n",
    "django.setup()\n",
    "\n",
    "import re\n",
    "from asgiref.sync import sync_to_async\n",
    "from telethon.tl.types import  Message, PeerChannel\n",
    "from telethon.tl.functions.messages import GetHistoryRequest\n",
    "from telethon.sync import TelegramClient, events\n",
    "from tqdm import tqdm\n",
    "from datetime import datetime, timedelta, timezone\n",
    "from PostAnalyzer.models import (\n",
    "    Channel,\n",
    "    EntryTarget,\n",
    "    Market,\n",
    "    Post,\n",
    "    PostStatus,\n",
    "    Predict,\n",
    "    Symbol,\n",
    "    TakeProfitTarget,\n",
    "    SettingConfig,\n",
    "    PositionSide,\n",
    "    MarginMode,\n",
    ")\n",
    "import warnings\n",
    "from django.forms.models import model_to_dict\n",
    "from PostAnalyzer.Utility.utils import returnSearchValue,convertToJsonFile,subtractTime,load_json,print_colored\n",
    "\n",
    "from dotenv import dotenv_values\n",
    "from PostAnalyzer.Utility.findSameSignal import findSameSignal\n",
    "from Shared.findRiskToReward import findRiskToReward\n",
    "from Shared.findShortOrderStat import findShortOrderStat\n",
    "from Shared.findLongOrderStat import findLongOrderStat\n",
    "from Shared.findError import findError\n",
    "\n",
    "config = dotenv_values(\".env\")\n",
    "\n",
    "api_id = config[\"api_id\"]\n",
    "api_hash = config[\"api_hash\"]\n",
    "\n",
    "username = config[\"username\"]\n",
    "\n",
    "error_msg = []\n",
    "\n",
    "\n",
    "allPredicts = []\n",
    "\n",
    "historic_json_path = \"./../historic-json\"\n",
    "\n",
    "\n",
    "# Disable all warnings\n",
    "warnings.filterwarnings(\"ignore\")"
   ]
  },
  {
   "cell_type": "markdown",
   "metadata": {},
   "source": [
    "## is Predict Msg?"
   ]
  },
  {
   "cell_type": "code",
   "execution_count": 3,
   "metadata": {},
   "outputs": [],
   "source": [
    "def isPredictMsg(msg):\n",
    "    patterns = [\n",
    "        r\"Symbol:\\s*#?([A-Z0-9]+)[/\\s]?USDT\",\n",
    "        r\"Take-Profit Targets:([\\s\\S]+?)(StopLoss|Description)\",\n",
    "        r\"Entry (Targets|Price):([\\s\\S]+?)Take-Profit\",\n",
    "        r\"Market:\\s*([A-Z]+)\",\n",
    "        r\"(StopLoss|Description):\\s*([\\d.]|\\w+)\",\n",
    "    ]\n",
    "\n",
    "    # Check if all patterns have a value\n",
    "    return all(re.search(pattern, msg, re.IGNORECASE) for pattern in patterns)"
   ]
  },
  {
   "cell_type": "markdown",
   "metadata": {},
   "source": [
    "## Symbol"
   ]
  },
  {
   "cell_type": "code",
   "execution_count": 4,
   "metadata": {},
   "outputs": [],
   "source": [
    "async def findSymbol(msg):\n",
    "    symbol = re.search(r\"Symbol:\\s*#?([A-Z0-9]+)[/\\s]?USDT\", msg, re.IGNORECASE)\n",
    "    \n",
    "    try:\n",
    "        return await sync_to_async(Symbol.objects.get)(asset=returnSearchValue(symbol).upper())\n",
    "    except:\n",
    "        return None"
   ]
  },
  {
   "cell_type": "markdown",
   "metadata": {},
   "source": [
    "## Market"
   ]
  },
  {
   "cell_type": "code",
   "execution_count": 5,
   "metadata": {},
   "outputs": [],
   "source": [
    "async def findMarket(msg):\n",
    "    market_match = re.search(r\"Market:\\s*([A-Z]+)\", msg, re.IGNORECASE)\n",
    "    \n",
    "    try:\n",
    "        market_value = await sync_to_async(Market.objects.get)(name=returnSearchValue(market_match).upper())\n",
    "        return market_value\n",
    "    except:\n",
    "        return None\n"
   ]
  },
  {
   "cell_type": "markdown",
   "metadata": {},
   "source": [
    "## Position"
   ]
  },
  {
   "cell_type": "code",
   "execution_count": 6,
   "metadata": {},
   "outputs": [],
   "source": [
    "async def findPosition(msg):\n",
    "    position_match = re.search(r\"Position:\\s*([A-Z]+)\", msg)\n",
    "    \n",
    "    try:\n",
    "        position_value = await sync_to_async(PositionSide.objects.get)(name=returnSearchValue(position_match).upper())\n",
    "        return position_value\n",
    "    except:\n",
    "        return None"
   ]
  },
  {
   "cell_type": "markdown",
   "metadata": {},
   "source": [
    "## Leverage and Margin Mode"
   ]
  },
  {
   "cell_type": "code",
   "execution_count": 7,
   "metadata": {},
   "outputs": [],
   "source": [
    "async def findLeverage(msg):\n",
    "    leverage_match = re.search(r\"Leverage:\\s*(Isolated|Cross)\\s*(\\d+x)\", msg, re.IGNORECASE)\n",
    "    if leverage_match:\n",
    "        leverage_type = await sync_to_async(MarginMode.objects.get)(name=returnSearchValue(leverage_match).upper())   \n",
    "        leverage_value = int(leverage_match.group(2).lower().replace(\"x\",\"\"))    \n",
    "    else:\n",
    "        leverage_type = None\n",
    "        leverage_value = None\n",
    "    \n",
    "    return leverage_type, leverage_value"
   ]
  },
  {
   "cell_type": "markdown",
   "metadata": {},
   "source": [
    "## StopLoss"
   ]
  },
  {
   "cell_type": "code",
   "execution_count": 8,
   "metadata": {},
   "outputs": [],
   "source": [
    "def findStopLoss(msg):\n",
    "   msg = msg.replace(\",\",\"\")\n",
    "\n",
    "   return float(returnSearchValue(re.search(r\"StopLoss:\\s*([\\d.]+)\", msg)))"
   ]
  },
  {
   "cell_type": "markdown",
   "metadata": {},
   "source": [
    "## Entry Targets"
   ]
  },
  {
   "cell_type": "code",
   "execution_count": 9,
   "metadata": {},
   "outputs": [],
   "source": [
    "def findEntryTargets(msg):\n",
    "    msg = msg.replace(\",\",\"\")\n",
    "    match = re.search(r\"Entry Targets:([\\s\\S]+?)Take-Profit\", msg, re.IGNORECASE)\n",
    "    match1 = re.search(r\"Entry Price:([\\s\\S]+?)Take-Profit\", msg, re.IGNORECASE)\n",
    "    final = match if match else match1\n",
    "    if final:\n",
    "        extracted_data = returnSearchValue(final)\n",
    "        return [float(x.strip()) for i, x in enumerate(re.findall(r\"(\\d+\\.\\d+|\\d+)\", extracted_data))  if i % 2 == 1]"
   ]
  },
  {
   "cell_type": "markdown",
   "metadata": {},
   "source": [
    "## Take Profits"
   ]
  },
  {
   "cell_type": "code",
   "execution_count": 10,
   "metadata": {},
   "outputs": [],
   "source": [
    "def findTakeProfits(msg):\n",
    "    msg = msg.replace(\",\",\"\")\n",
    "    match = re.search(r\"Take-Profit Targets:([\\s\\S]+?)(StopLoss|Description)\", msg, re.IGNORECASE)\n",
    "    if match:\n",
    "        extracted_data = returnSearchValue(match)\n",
    "        return [float(x.strip()) for i, x in enumerate(re.findall(r\"(\\d+\\.\\d+|\\d+)\", extracted_data)) if i % 2 == 1]\n",
    "        "
   ]
  },
  {
   "cell_type": "markdown",
   "metadata": {},
   "source": [
    "## Check if post is a Cancel predict or not\n"
   ]
  },
  {
   "cell_type": "code",
   "execution_count": 11,
   "metadata": {},
   "outputs": [],
   "source": [
    "async def isCancel(post):\n",
    "    if post is None or post.reply_to_msg_id is None:\n",
    "        return False\n",
    "    \n",
    "    try:\n",
    "        # cancel_before_patterns = [\n",
    "        #     r\"Cancelled\",\n",
    "        #     r\"achieved\",\n",
    "        #     r\"entering\",\n",
    "        # ]\n",
    "        manually_cancel_patterns = [\n",
    "            r\"Cancelled\",\n",
    "            r\"Manually\",\n",
    "        ]  \n",
    "        cancel_pattern =[\n",
    "            r\"کنسل\"\n",
    "        ]\n",
    "\n",
    "\n",
    "        # check = all(re.search(pattern, post.message, re.IGNORECASE) for pattern in cancel_before_patterns)\n",
    "        check1 = all(re.search(pattern, post.message, re.IGNORECASE) for pattern in manually_cancel_patterns)\n",
    "        check2 = all(re.search(pattern, post.message, re.IGNORECASE) for pattern in cancel_pattern)\n",
    "        \n",
    "        if check1 or check2 :\n",
    "            \n",
    "            predict = await sync_to_async(Predict.objects.get)(\n",
    "                post__message_id=post.reply_to_msg_id\n",
    "            )\n",
    "            \n",
    "            status_value = await sync_to_async(PostStatus.objects.get)(name=\"CANCELED\")\n",
    "        \n",
    "            predict.status = status_value\n",
    "            predict.profit = 0\n",
    "        \n",
    "            await sync_to_async(predict.save)()\n",
    "            return True\n",
    "            \n",
    "        else:\n",
    "            return False\n",
    "        \n",
    "    except:\n",
    "        # error_msg.append(model_to_dict(post))\n",
    "        return False\n"
   ]
  },
  {
   "cell_type": "markdown",
   "metadata": {},
   "source": [
    "## Find important parts of a predict message such as symbol or entry point"
   ]
  },
  {
   "cell_type": "code",
   "execution_count": 12,
   "metadata": {},
   "outputs": [],
   "source": [
    "async def predictParts(string, post):\n",
    "    if string is None or post is None:\n",
    "        return None\n",
    "    \n",
    "    try:\n",
    "        should_check = True\n",
    "        settings = await sync_to_async(SettingConfig.objects.get)(id=1)\n",
    "        \n",
    "\n",
    "        # symbol\n",
    "        symbol_value:Symbol = await findSymbol(string)\n",
    "\n",
    "        # market\n",
    "        market_value= await findMarket(string)\n",
    "        isSpot = market_value.name == \"SPOT\"\n",
    "\n",
    "        # position, leverage, marginMode\n",
    "        position_value = None\n",
    "        leverage_value = None\n",
    "        marginMode_value = None\n",
    "        if not isSpot:\n",
    "            position_value = await findPosition(string)\n",
    "            marginMode_value, leverage_value = await findLeverage(string)\n",
    "        else:\n",
    "            position_value= await sync_to_async(PositionSide.objects.get)(name=\"BUY\")\n",
    "        \n",
    "        # stopLoss\n",
    "        stopLoss_value = findStopLoss(string)\n",
    "\n",
    "        # entry targets\n",
    "        entry_targets_value = findEntryTargets(string)\n",
    "\n",
    "        # status    \n",
    "        status_value = await sync_to_async(PostStatus.objects.get)(name=\"PENDING\")\n",
    "\n",
    "        # take_profit targets\n",
    "        take_profit_targets_value = findTakeProfits(string)\n",
    "\n",
    "        is_error = findError(position_value.name, take_profit_targets_value, entry_targets_value, stopLoss_value)\n",
    "        if is_error:\n",
    "            status_value = await sync_to_async(PostStatus.objects.get)(name=\"ERROR\")\n",
    "            should_check = False\n",
    "            \n",
    "        # return Error RR < 0.2\n",
    "        # TODO will add to setting, to get min RR\n",
    "        RR = findRiskToReward(entry_targets_value, take_profit_targets_value, stopLoss_value)\n",
    "        \n",
    "        if RR < 0.2 or RR > 4:\n",
    "            status_value = await sync_to_async(PostStatus.objects.get)(name=\"ERROR\")\n",
    "            should_check = False\n",
    "        \n",
    "        # return false if signal already exists\n",
    "        is_same_signal = await findSameSignal(post.date, symbol_value,market_value,position_value, leverage_value, marginMode_value,stopLoss_value,\n",
    "                                    take_profit_targets_value,entry_targets_value,post.channel.id)\n",
    "        if is_same_signal:\n",
    "            return False\n",
    "        \n",
    "        print(symbol_value.name, position_value.name)\n",
    "        isSHORT = position_value.name == \"SHORT\"\n",
    "        first_entry_value = entry_targets_value[0]\n",
    "        \n",
    "        if should_check:\n",
    "            if not isSHORT:\n",
    "                stat = await findLongOrderStat(stop_loss=stopLoss_value,\n",
    "                                entry_price=entry_targets_value,\n",
    "                                symbol=symbol_value,\n",
    "                                take_profit=take_profit_targets_value,\n",
    "                                start_timestamp= int(post.date.timestamp() * 1000))\n",
    "            elif isSHORT:\n",
    "                stat = await findShortOrderStat(stop_loss=stopLoss_value,\n",
    "                                entry_price=entry_targets_value,\n",
    "                                symbol=symbol_value,\n",
    "                                take_profit=take_profit_targets_value,\n",
    "                                start_timestamp= int(post.date.timestamp() * 1000))\n",
    "        else:\n",
    "            stat = {\"tps\": [], \"entry_reached\": [], \"stop_loss_reached\": None}\n",
    "            \n",
    "        print(stat)\n",
    "        stat['name'] = f'{symbol_value.name}, {position_value.name}'\n",
    "        allPredicts.append(stat)\n",
    "        print_colored(\"********************************************************************************************************************\",\"#0f0\")\n",
    "        tps_length = len(stat['tps'])\n",
    "        profit_value = 0\n",
    "\n",
    "        if stat['stop_loss_reached']:\n",
    "            if tps_length > 0:\n",
    "                status_value = await sync_to_async(PostStatus.objects.get)(name=\"FAILED WITH PROFIT\", type=tps_length)\n",
    "            else:\n",
    "                status_value = await sync_to_async(PostStatus.objects.get)(name=\"FAILED\")\n",
    "            profit_value = round(((float(stopLoss_value)/float(first_entry_value))-1)*100*float(leverage_value) * (-1 if isSHORT else 1), 5)\n",
    "        else:\n",
    "            if tps_length == len(take_profit_targets_value):\n",
    "                status_value = await sync_to_async(PostStatus.objects.get)(name=\"FULLTARGET\")\n",
    "                profit_value = round(abs(((take_profit_targets_value[tps_length-1]/first_entry_value)-1)*100*leverage_value), 5)\n",
    "\n",
    "            elif tps_length > 0:\n",
    "                status_value = await sync_to_async(PostStatus.objects.get)(name=\"SUCCESS\", type=tps_length)\n",
    "                profit_value = round(abs(((take_profit_targets_value[tps_length-1]/first_entry_value)-1)*100*leverage_value), 5)\n",
    "            \n",
    "        \n",
    "\n",
    "        # set predict object to DB\n",
    "        PredictData = {\n",
    "            \"post\": post,\n",
    "            \"date\": post.date,\n",
    "            \"symbol\": symbol_value,\n",
    "            \"position\": position_value,\n",
    "            \"market\": market_value,\n",
    "            \"leverage\": leverage_value,\n",
    "            \"stopLoss\": stopLoss_value,\n",
    "            \"margin_mode\": marginMode_value,\n",
    "            \"profit\": profit_value,\n",
    "            \"status\": status_value,  # PENDING = 1\n",
    "            \"order_id\": None,\n",
    "        }\n",
    "        newPredict = Predict(**PredictData)\n",
    "\n",
    "        # set entry value objects to DB\n",
    "        if entry_targets_value:\n",
    "            entriesLen = len(stat['entry_reached'])\n",
    "            for i, value in enumerate(entry_targets_value):\n",
    "                isActive = i < entriesLen \n",
    "                date = None\n",
    "                period = None\n",
    "                if isActive:\n",
    "                    time = int(stat['entry_reached'][i]['time'])\n",
    "                    date = datetime.fromtimestamp(time/ 1000)\n",
    "                    period = subtractTime(time, int(post.date.timestamp() * 1000))\n",
    "                entryData = EntryTarget(\n",
    "                    **{\n",
    "                        \"post\": post,\n",
    "                        \"index\": i,\n",
    "                        \"value\": value,\n",
    "                        \"active\": isActive,\n",
    "                        \"period\": period,\n",
    "                        \"date\": date,\n",
    "                    }\n",
    "                )\n",
    "                await sync_to_async(entryData.save)()\n",
    "        \n",
    "        # # set tp value objects to DB\n",
    "        if take_profit_targets_value:\n",
    "            tpLen = len(stat['tps'])\n",
    "\n",
    "            for i, value in enumerate(take_profit_targets_value):\n",
    "                isActive = i < tpLen \n",
    "                date = None\n",
    "                period = None\n",
    "                if isActive:\n",
    "                    time = int(stat['tps'][i]['time'])\n",
    "                    date = datetime.fromtimestamp(time/ 1000)\n",
    "                    period = subtractTime(time, int(post.date.timestamp() * 1000))\n",
    "\n",
    "                takeProfitData = TakeProfitTarget(\n",
    "                    **{\n",
    "                        \"post\": post,\n",
    "                        \"index\": i,\n",
    "                        \"value\": value,\n",
    "                        \"active\": isActive,\n",
    "                        \"period\": period,\n",
    "                        \"profit\": round(abs(((value/first_entry_value)-1)*100*leverage_value), 5),\n",
    "                        \"date\": date,\n",
    "                    }\n",
    "                )\n",
    "                await sync_to_async(takeProfitData.save)()\n",
    "\n",
    "\n",
    "        await sync_to_async(newPredict.save)()\n",
    "        return newPredict\n",
    "    except:\n",
    "        error_msg.append(model_to_dict(post))\n",
    "        \n",
    "        return False\n",
    "     "
   ]
  },
  {
   "cell_type": "markdown",
   "metadata": {},
   "source": [
    "## Find message type and save to DB"
   ]
  },
  {
   "cell_type": "code",
   "execution_count": 13,
   "metadata": {},
   "outputs": [],
   "source": [
    "async def extract_data_from_message(message):\n",
    "    if isinstance(message, Message):\n",
    "        is_predict_msg = isPredictMsg(message.message)\n",
    "        channel = await sync_to_async(Channel.objects.get)(\n",
    "            channel_id=message.peer_id.channel_id\n",
    "        )\n",
    "        PostData = {\n",
    "            \"channel\": channel if channel else None,\n",
    "            \"date\": message.date,\n",
    "            \"message_id\": message.id,\n",
    "            \"message\": message.message,\n",
    "            \"reply_to_msg_id\": message.reply_to.reply_to_msg_id\n",
    "            if message.reply_to\n",
    "            else None,\n",
    "            \"edit_date\": message.edit_date,\n",
    "            \"is_predict_msg\": is_predict_msg,\n",
    "        }\n",
    "        post = Post(**PostData)\n",
    "\n",
    "        await sync_to_async(post.save)()\n",
    "        # predict msg\n",
    "        if is_predict_msg:\n",
    "            await predictParts(message.message, post)\n",
    "        # # cancel msg\n",
    "        elif await isCancel(post):\n",
    "            pass\n",
    "        return PostData\n",
    "    else:\n",
    "        return None\n",
    "\n"
   ]
  },
  {
   "cell_type": "markdown",
   "metadata": {},
   "source": [
    "## Get channel history"
   ]
  },
  {
   "cell_type": "code",
   "execution_count": 14,
   "metadata": {},
   "outputs": [
    {
     "name": "stdout",
     "output_type": "stream",
     "text": [
      "Current Offset ID is: 0 ; Total Messages: 0\n"
     ]
    },
    {
     "name": "stderr",
     "output_type": "stream",
     "text": [
      "100%|██████████| 100/100 [00:00<?, ?it/s]\n"
     ]
    },
    {
     "name": "stdout",
     "output_type": "stream",
     "text": [
      "Current Offset ID is: 12376 ; Total Messages: 100\n"
     ]
    },
    {
     "name": "stderr",
     "output_type": "stream",
     "text": [
      "100%|██████████| 100/100 [00:00<?, ?it/s]\n"
     ]
    },
    {
     "name": "stdout",
     "output_type": "stream",
     "text": [
      "Current Offset ID is: 12266 ; Total Messages: 200\n"
     ]
    },
    {
     "name": "stderr",
     "output_type": "stream",
     "text": [
      "100%|██████████| 100/100 [00:00<?, ?it/s]\n"
     ]
    },
    {
     "name": "stdout",
     "output_type": "stream",
     "text": [
      "Current Offset ID is: 12160 ; Total Messages: 300\n"
     ]
    },
    {
     "name": "stderr",
     "output_type": "stream",
     "text": [
      "100%|██████████| 100/100 [00:00<?, ?it/s]\n"
     ]
    },
    {
     "name": "stdout",
     "output_type": "stream",
     "text": [
      "Current Offset ID is: 12046 ; Total Messages: 400\n"
     ]
    },
    {
     "name": "stderr",
     "output_type": "stream",
     "text": [
      "100%|██████████| 100/100 [00:00<?, ?it/s]\n"
     ]
    },
    {
     "name": "stdout",
     "output_type": "stream",
     "text": [
      "Current Offset ID is: 11934 ; Total Messages: 500\n"
     ]
    },
    {
     "name": "stderr",
     "output_type": "stream",
     "text": [
      "100%|██████████| 100/100 [00:00<?, ?it/s]\n"
     ]
    },
    {
     "name": "stdout",
     "output_type": "stream",
     "text": [
      "Current Offset ID is: 11808 ; Total Messages: 600\n"
     ]
    },
    {
     "name": "stderr",
     "output_type": "stream",
     "text": [
      "100%|██████████| 100/100 [00:00<?, ?it/s]\n"
     ]
    },
    {
     "name": "stdout",
     "output_type": "stream",
     "text": [
      "Current Offset ID is: 11698 ; Total Messages: 700\n"
     ]
    },
    {
     "name": "stderr",
     "output_type": "stream",
     "text": [
      "100%|██████████| 100/100 [00:00<?, ?it/s]\n"
     ]
    },
    {
     "name": "stdout",
     "output_type": "stream",
     "text": [
      "Current Offset ID is: 11581 ; Total Messages: 800\n"
     ]
    },
    {
     "name": "stderr",
     "output_type": "stream",
     "text": [
      "100%|██████████| 100/100 [00:00<?, ?it/s]\n"
     ]
    },
    {
     "name": "stdout",
     "output_type": "stream",
     "text": [
      "Current Offset ID is: 11465 ; Total Messages: 900\n"
     ]
    },
    {
     "name": "stderr",
     "output_type": "stream",
     "text": [
      "100%|██████████| 100/100 [00:00<?, ?it/s]\n"
     ]
    },
    {
     "name": "stdout",
     "output_type": "stream",
     "text": [
      "Current Offset ID is: 11362 ; Total Messages: 1000\n"
     ]
    },
    {
     "name": "stderr",
     "output_type": "stream",
     "text": [
      "100%|██████████| 100/100 [00:00<?, ?it/s]\n"
     ]
    },
    {
     "name": "stdout",
     "output_type": "stream",
     "text": [
      "Current Offset ID is: 11254 ; Total Messages: 1100\n"
     ]
    },
    {
     "name": "stderr",
     "output_type": "stream",
     "text": [
      "100%|██████████| 100/100 [00:00<?, ?it/s]\n"
     ]
    },
    {
     "name": "stdout",
     "output_type": "stream",
     "text": [
      "Current Offset ID is: 11148 ; Total Messages: 1200\n"
     ]
    },
    {
     "name": "stderr",
     "output_type": "stream",
     "text": [
      "100%|██████████| 100/100 [00:00<?, ?it/s]\n"
     ]
    },
    {
     "name": "stdout",
     "output_type": "stream",
     "text": [
      "Current Offset ID is: 11038 ; Total Messages: 1300\n"
     ]
    },
    {
     "name": "stderr",
     "output_type": "stream",
     "text": [
      "100%|██████████| 100/100 [00:00<?, ?it/s]\n"
     ]
    },
    {
     "name": "stdout",
     "output_type": "stream",
     "text": [
      "Current Offset ID is: 10931 ; Total Messages: 1400\n"
     ]
    },
    {
     "name": "stderr",
     "output_type": "stream",
     "text": [
      "100%|██████████| 100/100 [00:00<?, ?it/s]\n"
     ]
    },
    {
     "name": "stdout",
     "output_type": "stream",
     "text": [
      "Current Offset ID is: 10822 ; Total Messages: 1500\n"
     ]
    },
    {
     "name": "stderr",
     "output_type": "stream",
     "text": [
      "100%|██████████| 100/100 [00:00<?, ?it/s]\n"
     ]
    },
    {
     "name": "stdout",
     "output_type": "stream",
     "text": [
      "Current Offset ID is: 10711 ; Total Messages: 1600\n"
     ]
    },
    {
     "name": "stderr",
     "output_type": "stream",
     "text": [
      "100%|██████████| 100/100 [00:00<?, ?it/s]\n"
     ]
    },
    {
     "name": "stdout",
     "output_type": "stream",
     "text": [
      "Current Offset ID is: 10606 ; Total Messages: 1700\n"
     ]
    },
    {
     "name": "stderr",
     "output_type": "stream",
     "text": [
      "100%|██████████| 100/100 [00:00<?, ?it/s]\n"
     ]
    },
    {
     "name": "stdout",
     "output_type": "stream",
     "text": [
      "Current Offset ID is: 10504 ; Total Messages: 1800\n"
     ]
    },
    {
     "name": "stderr",
     "output_type": "stream",
     "text": [
      "100%|██████████| 100/100 [00:00<?, ?it/s]\n"
     ]
    },
    {
     "name": "stdout",
     "output_type": "stream",
     "text": [
      "Current Offset ID is: 10401 ; Total Messages: 1900\n"
     ]
    },
    {
     "name": "stderr",
     "output_type": "stream",
     "text": [
      "100%|██████████| 100/100 [00:00<?, ?it/s]\n"
     ]
    },
    {
     "name": "stdout",
     "output_type": "stream",
     "text": [
      "Current Offset ID is: 10298 ; Total Messages: 2000\n"
     ]
    },
    {
     "name": "stderr",
     "output_type": "stream",
     "text": [
      " 12%|█▏        | 12/100 [00:00<?, ?it/s]\n"
     ]
    },
    {
     "name": "stdout",
     "output_type": "stream",
     "text": [
      "ID-USDT LONG\n",
      "0.9894 [1.0428, 1.0021] ID-USDT [1.0582, 1.0815, 1.108, 1.1497] 1711790263000\n"
     ]
    },
    {
     "data": {
      "text/html": [
       "<p style='color:#f6cd28;'>LData exists</p>"
      ],
      "text/plain": [
       "<IPython.core.display.HTML object>"
      ]
     },
     "metadata": {},
     "output_type": "display_data"
    },
    {
     "data": {
      "text/html": [
       "<p style='color:#00f;'>get new data</p>"
      ],
      "text/plain": [
       "<IPython.core.display.HTML object>"
      ]
     },
     "metadata": {},
     "output_type": "display_data"
    },
    {
     "data": {
      "text/html": [
       "<p style='color:#ada;'>saveOHLC_toJson</p>"
      ],
      "text/plain": [
       "<IPython.core.display.HTML object>"
      ]
     },
     "metadata": {},
     "output_type": "display_data"
    },
    {
     "name": "stdout",
     "output_type": "stream",
     "text": [
      "{'tps': [], 'entry_reached': [{'open': '1.04430', 'close': '1.04290', 'high': '1.04430', 'low': '1.04250', 'volume': '23533.00', 'time': 1711829400000}, {'open': '1.00890', 'close': '0.99920', 'high': '1.00890', 'low': '0.99810', 'volume': '99399.00', 'time': 1711950420000}], 'stop_loss_reached': {'open': '0.99970', 'close': '0.97880', 'high': '0.99990', 'low': '0.97130', 'volume': '263918.00', 'time': 1711950480000}}\n"
     ]
    },
    {
     "data": {
      "text/html": [
       "<p style='color:#0f0;'>********************************************************************************************************************</p>"
      ],
      "text/plain": [
       "<IPython.core.display.HTML object>"
      ]
     },
     "metadata": {},
     "output_type": "display_data"
    },
    {
     "name": "stdout",
     "output_type": "stream",
     "text": [
      "BTC-USDT SHORT\n",
      "69540.1 [68297.1, 69057.4] BTC-USDT [67755.9, 67179.6, 66605.6, 65800.6] 1712051666000\n"
     ]
    },
    {
     "data": {
      "text/html": [
       "<p style='color:#f6cd28;'>LData exists</p>"
      ],
      "text/plain": [
       "<IPython.core.display.HTML object>"
      ]
     },
     "metadata": {},
     "output_type": "display_data"
    },
    {
     "data": {
      "text/html": [
       "<p style='color:#0ff;'>get older data</p>"
      ],
      "text/plain": [
       "<IPython.core.display.HTML object>"
      ]
     },
     "metadata": {},
     "output_type": "display_data"
    },
    {
     "data": {
      "text/html": [
       "<p style='color:#00f;'>get new data</p>"
      ],
      "text/plain": [
       "<IPython.core.display.HTML object>"
      ]
     },
     "metadata": {},
     "output_type": "display_data"
    },
    {
     "data": {
      "text/html": [
       "<p style='color:#ada;'>saveOHLC_toJson</p>"
      ],
      "text/plain": [
       "<IPython.core.display.HTML object>"
      ]
     },
     "metadata": {},
     "output_type": "display_data"
    },
    {
     "name": "stdout",
     "output_type": "stream",
     "text": [
      "{'tps': [{'open': '67821.9', 'close': '67782.8', 'high': '67950.0', 'low': '67686.5', 'volume': '394.71', 'time': 1712261280000}, {'open': '67392.1', 'close': '67228.7', 'high': '67399.7', 'low': '67157.1', 'volume': '207.51', 'time': 1712294220000}, {'open': '66758.1', 'close': '66402.3', 'high': '66785.1', 'low': '66366.0', 'volume': '489.67', 'time': 1712294460000}], 'entry_reached': [{'open': '68250.0', 'close': '68294.9', 'high': '68310.0', 'low': '68244.6', 'volume': '157.50', 'time': 1712252880000}, {'open': '69045.1', 'close': '69235.9', 'high': '69272.7', 'low': '69023.7', 'volume': '520.84', 'time': 1712253660000}], 'stop_loss_reached': {'open': '69452.7', 'close': '69548.9', 'high': '69707.6', 'low': '69447.8', 'volume': '276.91', 'time': 1712444940000}}\n"
     ]
    },
    {
     "data": {
      "text/html": [
       "<p style='color:#0f0;'>********************************************************************************************************************</p>"
      ],
      "text/plain": [
       "<IPython.core.display.HTML object>"
      ]
     },
     "metadata": {},
     "output_type": "display_data"
    },
    {
     "name": "stdout",
     "output_type": "stream",
     "text": [
      "STG-USDT LONG\n",
      "0.6803 [0.7249, 0.6881] STG-USDT [0.736, 0.7577, 0.7818, 0.8135] 1712314010000\n"
     ]
    },
    {
     "data": {
      "text/html": [
       "<p style='color:#c01;'>json is empty</p>"
      ],
      "text/plain": [
       "<IPython.core.display.HTML object>"
      ]
     },
     "metadata": {},
     "output_type": "display_data"
    },
    {
     "data": {
      "text/html": [
       "<p style='color:#ada;'>saveOHLC_toJson</p>"
      ],
      "text/plain": [
       "<IPython.core.display.HTML object>"
      ]
     },
     "metadata": {},
     "output_type": "display_data"
    },
    {
     "name": "stdout",
     "output_type": "stream",
     "text": [
      "{'tps': [{'open': '0.7338', 'close': '0.7351', 'high': '0.7368', 'low': '0.7335', 'volume': '85594.00', 'time': 1712324940000}, {'open': '0.7544', 'close': '0.7555', 'high': '0.7584', 'low': '0.7544', 'volume': '71679.00', 'time': 1712452860000}, {'open': '0.7805', 'close': '0.7817', 'high': '0.7819', 'low': '0.7802', 'volume': '5150.00', 'time': 1712495220000}, {'open': '0.8106', 'close': '0.8142', 'high': '0.8142', 'low': '0.8105', 'volume': '4402.00', 'time': 1712564640000}], 'entry_reached': [{'open': '0.7250', 'close': '0.7262', 'high': '0.7264', 'low': '0.7227', 'volume': '205769.00', 'time': 1712318640000}], 'stop_loss_reached': None}\n"
     ]
    },
    {
     "data": {
      "text/html": [
       "<p style='color:#0f0;'>********************************************************************************************************************</p>"
      ],
      "text/plain": [
       "<IPython.core.display.HTML object>"
      ]
     },
     "metadata": {},
     "output_type": "display_data"
    },
    {
     "name": "stdout",
     "output_type": "stream",
     "text": [
      "AVAX-USDT SHORT\n",
      "42.128 [39.619, 41.427] AVAX-USDT [38.974, 38.237, 37.25, 36.076, 34.627] 1716832358000\n"
     ]
    },
    {
     "data": {
      "text/html": [
       "<p style='color:#f6cd28;'>LData exists</p>"
      ],
      "text/plain": [
       "<IPython.core.display.HTML object>"
      ]
     },
     "metadata": {},
     "output_type": "display_data"
    },
    {
     "data": {
      "text/html": [
       "<p style='color:#00f;'>get new data</p>"
      ],
      "text/plain": [
       "<IPython.core.display.HTML object>"
      ]
     },
     "metadata": {},
     "output_type": "display_data"
    },
    {
     "data": {
      "text/html": [
       "<p style='color:#ada;'>saveOHLC_toJson</p>"
      ],
      "text/plain": [
       "<IPython.core.display.HTML object>"
      ]
     },
     "metadata": {},
     "output_type": "display_data"
    },
    {
     "name": "stdout",
     "output_type": "stream",
     "text": [
      "{'tps': [], 'entry_reached': [], 'stop_loss_reached': None}\n"
     ]
    },
    {
     "data": {
      "text/html": [
       "<p style='color:#0f0;'>********************************************************************************************************************</p>"
      ],
      "text/plain": [
       "<IPython.core.display.HTML object>"
      ]
     },
     "metadata": {},
     "output_type": "display_data"
    },
    {
     "name": "stdout",
     "output_type": "stream",
     "text": [
      "ETH-USDT SHORT\n",
      "4010.78 [3941.21, 3977.43] ETH-USDT [3924.24, 3903.1, 3876.17, 3846.6, 3802.17] 1716834172000\n"
     ]
    },
    {
     "data": {
      "text/html": [
       "<p style='color:#f6cd28;'>LData exists</p>"
      ],
      "text/plain": [
       "<IPython.core.display.HTML object>"
      ]
     },
     "metadata": {},
     "output_type": "display_data"
    },
    {
     "data": {
      "text/html": [
       "<p style='color:#00f;'>get new data</p>"
      ],
      "text/plain": [
       "<IPython.core.display.HTML object>"
      ]
     },
     "metadata": {},
     "output_type": "display_data"
    },
    {
     "data": {
      "text/html": [
       "<p style='color:#ada;'>saveOHLC_toJson</p>"
      ],
      "text/plain": [
       "<IPython.core.display.HTML object>"
      ]
     },
     "metadata": {},
     "output_type": "display_data"
    },
    {
     "name": "stdout",
     "output_type": "stream",
     "text": [
      "{'tps': [], 'entry_reached': [], 'stop_loss_reached': None}\n"
     ]
    },
    {
     "data": {
      "text/html": [
       "<p style='color:#0f0;'>********************************************************************************************************************</p>"
      ],
      "text/plain": [
       "<IPython.core.display.HTML object>"
      ]
     },
     "metadata": {},
     "output_type": "display_data"
    },
    {
     "name": "stdout",
     "output_type": "stream",
     "text": [
      "BTC-USDT SHORT\n",
      "74249.3 [70310.9, 72749.7] BTC-USDT [69385.8, 68048.4, 66663.1, 64832.6, 62395.5] 1717938139000\n"
     ]
    },
    {
     "data": {
      "text/html": [
       "<p style='color:#f6cd28;'>LData exists</p>"
      ],
      "text/plain": [
       "<IPython.core.display.HTML object>"
      ]
     },
     "metadata": {},
     "output_type": "display_data"
    },
    {
     "name": "stdout",
     "output_type": "stream",
     "text": [
      "{'tps': [], 'entry_reached': [], 'stop_loss_reached': None}\n"
     ]
    },
    {
     "data": {
      "text/html": [
       "<p style='color:#0f0;'>********************************************************************************************************************</p>"
      ],
      "text/plain": [
       "<IPython.core.display.HTML object>"
      ]
     },
     "metadata": {},
     "output_type": "display_data"
    },
    {
     "name": "stdout",
     "output_type": "stream",
     "text": [
      "SAND-USDT SHORT\n",
      "0.4207 [0.3925, 0.4132] SAND-USDT [0.3859, 0.3768, 0.3668, 0.3557, 0.3361] 1718525654000\n"
     ]
    },
    {
     "data": {
      "text/html": [
       "<p style='color:#f6cd28;'>LData exists</p>"
      ],
      "text/plain": [
       "<IPython.core.display.HTML object>"
      ]
     },
     "metadata": {},
     "output_type": "display_data"
    },
    {
     "data": {
      "text/html": [
       "<p style='color:#00f;'>get new data</p>"
      ],
      "text/plain": [
       "<IPython.core.display.HTML object>"
      ]
     },
     "metadata": {},
     "output_type": "display_data"
    },
    {
     "data": {
      "text/html": [
       "<p style='color:#ada;'>saveOHLC_toJson</p>"
      ],
      "text/plain": [
       "<IPython.core.display.HTML object>"
      ]
     },
     "metadata": {},
     "output_type": "display_data"
    },
    {
     "name": "stdout",
     "output_type": "stream",
     "text": [
      "{'tps': [], 'entry_reached': [], 'stop_loss_reached': None}\n"
     ]
    },
    {
     "data": {
      "text/html": [
       "<p style='color:#0f0;'>********************************************************************************************************************</p>"
      ],
      "text/plain": [
       "<IPython.core.display.HTML object>"
      ]
     },
     "metadata": {},
     "output_type": "display_data"
    },
    {
     "name": "stdout",
     "output_type": "stream",
     "text": [
      "ATOM-USDT SHORT\n",
      "7.68 [7.134, 7.471] ATOM-USDT [7.013, 6.824, 6.607, 6.368, 6.021] 1718827031000\n"
     ]
    },
    {
     "data": {
      "text/html": [
       "<p style='color:#f6cd28;'>LData exists</p>"
      ],
      "text/plain": [
       "<IPython.core.display.HTML object>"
      ]
     },
     "metadata": {},
     "output_type": "display_data"
    },
    {
     "data": {
      "text/html": [
       "<p style='color:#00f;'>get new data</p>"
      ],
      "text/plain": [
       "<IPython.core.display.HTML object>"
      ]
     },
     "metadata": {},
     "output_type": "display_data"
    },
    {
     "data": {
      "text/html": [
       "<p style='color:#ada;'>saveOHLC_toJson</p>"
      ],
      "text/plain": [
       "<IPython.core.display.HTML object>"
      ]
     },
     "metadata": {},
     "output_type": "display_data"
    },
    {
     "name": "stdout",
     "output_type": "stream",
     "text": [
      "{'tps': [], 'entry_reached': [], 'stop_loss_reached': None}\n"
     ]
    },
    {
     "data": {
      "text/html": [
       "<p style='color:#0f0;'>********************************************************************************************************************</p>"
      ],
      "text/plain": [
       "<IPython.core.display.HTML object>"
      ]
     },
     "metadata": {},
     "output_type": "display_data"
    },
    {
     "name": "stdout",
     "output_type": "stream",
     "text": [
      "1INCH-USDT SHORT\n",
      "0.476 [0.4461, 0.469] 1INCH-USDT [0.439, 0.4294, 0.4187, 0.4066, 0.3856] 1721250224000\n"
     ]
    },
    {
     "data": {
      "text/html": [
       "<p style='color:#f6cd28;'>LData exists</p>"
      ],
      "text/plain": [
       "<IPython.core.display.HTML object>"
      ]
     },
     "metadata": {},
     "output_type": "display_data"
    },
    {
     "data": {
      "text/html": [
       "<p style='color:#00f;'>get new data</p>"
      ],
      "text/plain": [
       "<IPython.core.display.HTML object>"
      ]
     },
     "metadata": {},
     "output_type": "display_data"
    },
    {
     "data": {
      "text/html": [
       "<p style='color:#ada;'>saveOHLC_toJson</p>"
      ],
      "text/plain": [
       "<IPython.core.display.HTML object>"
      ]
     },
     "metadata": {},
     "output_type": "display_data"
    },
    {
     "name": "stdout",
     "output_type": "stream",
     "text": [
      "{'tps': [], 'entry_reached': [], 'stop_loss_reached': None}\n"
     ]
    },
    {
     "data": {
      "text/html": [
       "<p style='color:#0f0;'>********************************************************************************************************************</p>"
      ],
      "text/plain": [
       "<IPython.core.display.HTML object>"
      ]
     },
     "metadata": {},
     "output_type": "display_data"
    },
    {
     "name": "stdout",
     "output_type": "stream",
     "text": [
      "ATOM-USDT SHORT\n",
      "6.897 [6.505, 6.797] ATOM-USDT [6.381, 6.255, 6.084, 5.923, 5.637] 1721490327000\n"
     ]
    },
    {
     "data": {
      "text/html": [
       "<p style='color:#f6cd28;'>LData exists</p>"
      ],
      "text/plain": [
       "<IPython.core.display.HTML object>"
      ]
     },
     "metadata": {},
     "output_type": "display_data"
    },
    {
     "name": "stdout",
     "output_type": "stream",
     "text": [
      "{'tps': [{'open': '6.392', 'close': '6.374', 'high': '6.393', 'low': '6.374', 'volume': '6621.17', 'time': 1721545260000}, {'open': '6.302', 'close': '6.247', 'high': '6.303', 'low': '6.240', 'volume': '15932.09', 'time': 1721585280000}, {'open': '6.104', 'close': '6.082', 'high': '6.105', 'low': '6.076', 'volume': '3670.96', 'time': 1721753940000}, {'open': '5.927', 'close': '5.851', 'high': '5.932', 'low': '5.816', 'volume': '25319.18', 'time': 1721869740000}, {'open': '5.651', 'close': '5.649', 'high': '5.652', 'low': '5.630', 'volume': '5168.07', 'time': 1722524460000}], 'entry_reached': [{'open': '6.502', 'close': '6.502', 'high': '6.505', 'low': '6.502', 'volume': '411.07', 'time': 1721490360000}], 'stop_loss_reached': None}\n"
     ]
    },
    {
     "data": {
      "text/html": [
       "<p style='color:#0f0;'>********************************************************************************************************************</p>"
      ],
      "text/plain": [
       "<IPython.core.display.HTML object>"
      ]
     },
     "metadata": {},
     "output_type": "display_data"
    },
    {
     "name": "stdout",
     "output_type": "stream",
     "text": [
      "RVN-USDT SHORT\n",
      "0.02237 [0.0209, 0.02202] RVN-USDT [0.02058, 0.02011, 0.01959, 0.01897, 0.01797] 1721502027000\n"
     ]
    },
    {
     "data": {
      "text/html": [
       "<p style='color:#f6cd28;'>LData exists</p>"
      ],
      "text/plain": [
       "<IPython.core.display.HTML object>"
      ]
     },
     "metadata": {},
     "output_type": "display_data"
    },
    {
     "data": {
      "text/html": [
       "<p style='color:#00f;'>get new data</p>"
      ],
      "text/plain": [
       "<IPython.core.display.HTML object>"
      ]
     },
     "metadata": {},
     "output_type": "display_data"
    },
    {
     "data": {
      "text/html": [
       "<p style='color:#ada;'>saveOHLC_toJson</p>"
      ],
      "text/plain": [
       "<IPython.core.display.HTML object>"
      ]
     },
     "metadata": {},
     "output_type": "display_data"
    },
    {
     "name": "stdout",
     "output_type": "stream",
     "text": [
      "{'tps': [], 'entry_reached': [], 'stop_loss_reached': None}\n"
     ]
    },
    {
     "data": {
      "text/html": [
       "<p style='color:#0f0;'>********************************************************************************************************************</p>"
      ],
      "text/plain": [
       "<IPython.core.display.HTML object>"
      ]
     },
     "metadata": {},
     "output_type": "display_data"
    },
    {
     "name": "stdout",
     "output_type": "stream",
     "text": [
      "MATIC-USDT SHORT\n",
      "0.56 [0.5328, 0.5501] MATIC-USDT [0.5257, 0.5179, 0.5086, 0.497, 0.4787] 1722024588000\n"
     ]
    },
    {
     "data": {
      "text/html": [
       "<p style='color:#f6cd28;'>LData exists</p>"
      ],
      "text/plain": [
       "<IPython.core.display.HTML object>"
      ]
     },
     "metadata": {},
     "output_type": "display_data"
    },
    {
     "data": {
      "text/html": [
       "<p style='color:#00f;'>get new data</p>"
      ],
      "text/plain": [
       "<IPython.core.display.HTML object>"
      ]
     },
     "metadata": {},
     "output_type": "display_data"
    },
    {
     "data": {
      "text/html": [
       "<p style='color:#ada;'>saveOHLC_toJson</p>"
      ],
      "text/plain": [
       "<IPython.core.display.HTML object>"
      ]
     },
     "metadata": {},
     "output_type": "display_data"
    },
    {
     "name": "stdout",
     "output_type": "stream",
     "text": [
      "{'tps': [], 'entry_reached': [], 'stop_loss_reached': None}\n"
     ]
    },
    {
     "data": {
      "text/html": [
       "<p style='color:#0f0;'>********************************************************************************************************************</p>"
      ],
      "text/plain": [
       "<IPython.core.display.HTML object>"
      ]
     },
     "metadata": {},
     "output_type": "display_data"
    },
    {
     "name": "stdout",
     "output_type": "stream",
     "text": [
      "SOL-USDT SHORT\n",
      "199.139 [187.864, 197.111] SOL-USDT [185.236, 182.244, 177.845, 173.126, 165.298] 1722069835000\n"
     ]
    },
    {
     "data": {
      "text/html": [
       "<p style='color:#f6cd28;'>LData exists</p>"
      ],
      "text/plain": [
       "<IPython.core.display.HTML object>"
      ]
     },
     "metadata": {},
     "output_type": "display_data"
    },
    {
     "data": {
      "text/html": [
       "<p style='color:#00f;'>get new data</p>"
      ],
      "text/plain": [
       "<IPython.core.display.HTML object>"
      ]
     },
     "metadata": {},
     "output_type": "display_data"
    },
    {
     "data": {
      "text/html": [
       "<p style='color:#ada;'>saveOHLC_toJson</p>"
      ],
      "text/plain": [
       "<IPython.core.display.HTML object>"
      ]
     },
     "metadata": {},
     "output_type": "display_data"
    },
    {
     "name": "stdout",
     "output_type": "stream",
     "text": [
      "{'tps': [{'open': '185.600', 'close': '185.240', 'high': '185.648', 'low': '185.232', 'volume': '3840.00', 'time': 1722090420000}, {'open': '182.770', 'close': '182.079', 'high': '182.776', 'low': '182.032', 'volume': '4716.00', 'time': 1722094380000}, {'open': '178.008', 'close': '177.644', 'high': '178.093', 'low': '177.608', 'volume': '3394.00', 'time': 1722359820000}, {'open': '173.780', 'close': '173.382', 'high': '173.821', 'low': '173.011', 'volume': '25808.00', 'time': 1722459540000}, {'open': '165.608', 'close': '164.679', 'high': '165.710', 'low': '164.332', 'volume': '20234.00', 'time': 1722524340000}], 'entry_reached': [{'open': '187.572', 'close': '187.921', 'high': '187.986', 'low': '187.557', 'volume': '5987.00', 'time': 1722087900000}], 'stop_loss_reached': None}\n"
     ]
    },
    {
     "data": {
      "text/html": [
       "<p style='color:#0f0;'>********************************************************************************************************************</p>"
      ],
      "text/plain": [
       "<IPython.core.display.HTML object>"
      ]
     },
     "metadata": {},
     "output_type": "display_data"
    },
    {
     "name": "stdout",
     "output_type": "stream",
     "text": [
      "MKR-USDT SHORT\n",
      "{'tps': [], 'entry_reached': [], 'stop_loss_reached': None}\n"
     ]
    },
    {
     "data": {
      "text/html": [
       "<p style='color:#0f0;'>********************************************************************************************************************</p>"
      ],
      "text/plain": [
       "<IPython.core.display.HTML object>"
      ]
     },
     "metadata": {},
     "output_type": "display_data"
    },
    {
     "name": "stdout",
     "output_type": "stream",
     "text": [
      "MKR-USDT SHORT\n",
      "2931.0 [2817.8, 2899.8] MKR-USDT [2791.0, 2757.7, 2717.2, 2672.0, 2591.6] 1722505508000\n"
     ]
    },
    {
     "data": {
      "text/html": [
       "<p style='color:#f6cd28;'>LData exists</p>"
      ],
      "text/plain": [
       "<IPython.core.display.HTML object>"
      ]
     },
     "metadata": {},
     "output_type": "display_data"
    },
    {
     "data": {
      "text/html": [
       "<p style='color:#00f;'>get new data</p>"
      ],
      "text/plain": [
       "<IPython.core.display.HTML object>"
      ]
     },
     "metadata": {},
     "output_type": "display_data"
    },
    {
     "data": {
      "text/html": [
       "<p style='color:#ada;'>saveOHLC_toJson</p>"
      ],
      "text/plain": [
       "<IPython.core.display.HTML object>"
      ]
     },
     "metadata": {},
     "output_type": "display_data"
    },
    {
     "name": "stdout",
     "output_type": "stream",
     "text": [
      "{'tps': [], 'entry_reached': [], 'stop_loss_reached': None}\n"
     ]
    },
    {
     "data": {
      "text/html": [
       "<p style='color:#0f0;'>********************************************************************************************************************</p>"
      ],
      "text/plain": [
       "<IPython.core.display.HTML object>"
      ]
     },
     "metadata": {},
     "output_type": "display_data"
    },
    {
     "name": "stdout",
     "output_type": "stream",
     "text": [
      "BTC-USDT LONG\n",
      "59000.0 [62500.0, 60500.0] BTC-USDT [63823.9, 65091.1, 66502.2, 67999.8, 69917.8] 1722546439000\n"
     ]
    },
    {
     "data": {
      "text/html": [
       "<p style='color:#f6cd28;'>LData exists</p>"
      ],
      "text/plain": [
       "<IPython.core.display.HTML object>"
      ]
     },
     "metadata": {},
     "output_type": "display_data"
    },
    {
     "name": "stdout",
     "output_type": "stream",
     "text": [
      "{'tps': [], 'entry_reached': [{'open': '62661.8', 'close': '62428.0', 'high': '62706.7', 'low': '62414.7', 'volume': '241.93', 'time': 1722612120000}, {'open': '60682.4', 'close': '60505.9', 'high': '60682.4', 'low': '60500.0', 'volume': '207.96', 'time': 1722647520000}], 'stop_loss_reached': {'open': '59040.9', 'close': '59012.3', 'high': '59048.0', 'low': '58925.0', 'volume': '109.62', 'time': 1722787080000}}\n"
     ]
    },
    {
     "data": {
      "text/html": [
       "<p style='color:#0f0;'>********************************************************************************************************************</p>"
      ],
      "text/plain": [
       "<IPython.core.display.HTML object>"
      ]
     },
     "metadata": {},
     "output_type": "display_data"
    },
    {
     "name": "stdout",
     "output_type": "stream",
     "text": [
      "SOL-USDT LONG\n",
      "133.36 [144.0, 135.863] SOL-USDT [146.29, 149.59, 153.8, 158.54, 165.228] 1722634742000\n"
     ]
    },
    {
     "data": {
      "text/html": [
       "<p style='color:#f6cd28;'>LData exists</p>"
      ],
      "text/plain": [
       "<IPython.core.display.HTML object>"
      ]
     },
     "metadata": {},
     "output_type": "display_data"
    },
    {
     "name": "stdout",
     "output_type": "stream",
     "text": [
      "{'tps': [], 'entry_reached': [{'open': '144.349', 'close': '143.962', 'high': '144.349', 'low': '143.844', 'volume': '4930.00', 'time': 1722705300000}, {'open': '136.102', 'close': '135.606', 'high': '136.107', 'low': '135.338', 'volume': '7353.00', 'time': 1722785220000}], 'stop_loss_reached': {'open': '133.591', 'close': '132.820', 'high': '133.706', 'low': '132.717', 'volume': '12178.00', 'time': 1722790680000}}\n"
     ]
    },
    {
     "data": {
      "text/html": [
       "<p style='color:#0f0;'>********************************************************************************************************************</p>"
      ],
      "text/plain": [
       "<IPython.core.display.HTML object>"
      ]
     },
     "metadata": {},
     "output_type": "display_data"
    },
    {
     "name": "stdout",
     "output_type": "stream",
     "text": [
      "NEAR-USDT LONG\n",
      "4.338 [4.567, 4.394] NEAR-USDT [4.621, 4.692, 4.781, 4.882, 5.031] 1722674303000\n"
     ]
    },
    {
     "data": {
      "text/html": [
       "<p style='color:#f6cd28;'>LData exists</p>"
      ],
      "text/plain": [
       "<IPython.core.display.HTML object>"
      ]
     },
     "metadata": {},
     "output_type": "display_data"
    },
    {
     "data": {
      "text/html": [
       "<p style='color:#00f;'>get new data</p>"
      ],
      "text/plain": [
       "<IPython.core.display.HTML object>"
      ]
     },
     "metadata": {},
     "output_type": "display_data"
    },
    {
     "data": {
      "text/html": [
       "<p style='color:#ada;'>saveOHLC_toJson</p>"
      ],
      "text/plain": [
       "<IPython.core.display.HTML object>"
      ]
     },
     "metadata": {},
     "output_type": "display_data"
    },
    {
     "name": "stdout",
     "output_type": "stream",
     "text": [
      "{'tps': [{'open': '4.6141', 'close': '4.6221', 'high': '4.6225', 'low': '4.6141', 'volume': '5078.00', 'time': 1722687780000}], 'entry_reached': [{'open': '4.5761', 'close': '4.5629', 'high': '4.5766', 'low': '4.5606', 'volume': '8818.00', 'time': 1722680280000}, {'open': '4.4121', 'close': '4.3921', 'high': '4.4129', 'low': '4.3901', 'volume': '10667.00', 'time': 1722701760000}], 'stop_loss_reached': {'open': '4.3545', 'close': '4.3249', 'high': '4.3545', 'low': '4.3185', 'volume': '17527.00', 'time': 1722705360000}}\n"
     ]
    },
    {
     "data": {
      "text/html": [
       "<p style='color:#0f0;'>********************************************************************************************************************</p>"
      ],
      "text/plain": [
       "<IPython.core.display.HTML object>"
      ]
     },
     "metadata": {},
     "output_type": "display_data"
    },
    {
     "name": "stdout",
     "output_type": "stream",
     "text": [
      "RIF-USDT LONG\n",
      "0.08717 [0.09129, 0.08877] RIF-USDT [0.09245, 0.09384, 0.09534, 0.09696, 0.0995] 1722677544000\n"
     ]
    },
    {
     "data": {
      "text/html": [
       "<p style='color:#f6cd28;'>LData exists</p>"
      ],
      "text/plain": [
       "<IPython.core.display.HTML object>"
      ]
     },
     "metadata": {},
     "output_type": "display_data"
    },
    {
     "data": {
      "text/html": [
       "<p style='color:#00f;'>get new data</p>"
      ],
      "text/plain": [
       "<IPython.core.display.HTML object>"
      ]
     },
     "metadata": {},
     "output_type": "display_data"
    },
    {
     "data": {
      "text/html": [
       "<p style='color:#ada;'>saveOHLC_toJson</p>"
      ],
      "text/plain": [
       "<IPython.core.display.HTML object>"
      ]
     },
     "metadata": {},
     "output_type": "display_data"
    },
    {
     "name": "stdout",
     "output_type": "stream",
     "text": [
      "{'tps': [{'open': '0.0923', 'close': '0.0926', 'high': '0.0927', 'low': '0.0923', 'volume': '49066.62', 'time': 1722688080000}], 'entry_reached': [{'open': '0.0913', 'close': '0.0911', 'high': '0.0913', 'low': '0.0911', 'volume': '26587.41', 'time': 1722677820000}, {'open': '0.0889', 'close': '0.0887', 'high': '0.0890', 'low': '0.0887', 'volume': '25818.77', 'time': 1722700260000}], 'stop_loss_reached': {'open': '0.0877', 'close': '0.0872', 'high': '0.0877', 'low': '0.0871', 'volume': '234360.65', 'time': 1722701640000}}\n"
     ]
    },
    {
     "data": {
      "text/html": [
       "<p style='color:#0f0;'>********************************************************************************************************************</p>"
      ],
      "text/plain": [
       "<IPython.core.display.HTML object>"
      ]
     },
     "metadata": {},
     "output_type": "display_data"
    },
    {
     "name": "stdout",
     "output_type": "stream",
     "text": [
      "BNX-USDT SHORT\n",
      "1.3505 [1.2733, 1.3261] BNX-USDT [1.2543, 1.2295, 1.1991, 1.1698, 1.1181] 1722851967000\n"
     ]
    },
    {
     "data": {
      "text/html": [
       "<p style='color:#f6cd28;'>LData exists</p>"
      ],
      "text/plain": [
       "<IPython.core.display.HTML object>"
      ]
     },
     "metadata": {},
     "output_type": "display_data"
    },
    {
     "data": {
      "text/html": [
       "<p style='color:#00f;'>get new data</p>"
      ],
      "text/plain": [
       "<IPython.core.display.HTML object>"
      ]
     },
     "metadata": {},
     "output_type": "display_data"
    },
    {
     "data": {
      "text/html": [
       "<p style='color:#ada;'>saveOHLC_toJson</p>"
      ],
      "text/plain": [
       "<IPython.core.display.HTML object>"
      ]
     },
     "metadata": {},
     "output_type": "display_data"
    },
    {
     "name": "stdout",
     "output_type": "stream",
     "text": [
      "{'tps': [{'open': '1.2585', 'close': '1.2538', 'high': '1.2648', 'low': '1.2536', 'volume': '14241.57', 'time': 1722868140000}], 'entry_reached': [{'open': '1.2686', 'close': '1.2800', 'high': '1.2903', 'low': '1.2611', 'volume': '34728.96', 'time': 1722868020000}, {'open': '1.3013', 'close': '1.3273', 'high': '1.3345', 'low': '1.3013', 'volume': '16857.70', 'time': 1722869220000}], 'stop_loss_reached': {'open': '1.3309', 'close': '1.3336', 'high': '1.3678', 'low': '1.3227', 'volume': '43474.84', 'time': 1722869580000}}\n"
     ]
    },
    {
     "data": {
      "text/html": [
       "<p style='color:#0f0;'>********************************************************************************************************************</p>"
      ],
      "text/plain": [
       "<IPython.core.display.HTML object>"
      ]
     },
     "metadata": {},
     "output_type": "display_data"
    },
    {
     "name": "stdout",
     "output_type": "stream",
     "text": [
      "ADA-USDT SHORT\n",
      "0.3605 [0.3436, 0.3555] ADA-USDT [0.3379, 0.3318, 0.3259, 0.3191, 0.3093] 1722933373000\n"
     ]
    },
    {
     "data": {
      "text/html": [
       "<p style='color:#f6cd28;'>LData exists</p>"
      ],
      "text/plain": [
       "<IPython.core.display.HTML object>"
      ]
     },
     "metadata": {},
     "output_type": "display_data"
    },
    {
     "data": {
      "text/html": [
       "<p style='color:#00f;'>get new data</p>"
      ],
      "text/plain": [
       "<IPython.core.display.HTML object>"
      ]
     },
     "metadata": {},
     "output_type": "display_data"
    },
    {
     "data": {
      "text/html": [
       "<p style='color:#ada;'>saveOHLC_toJson</p>"
      ],
      "text/plain": [
       "<IPython.core.display.HTML object>"
      ]
     },
     "metadata": {},
     "output_type": "display_data"
    },
    {
     "name": "stdout",
     "output_type": "stream",
     "text": [
      "{'tps': [{'open': '0.33943', 'close': '0.33821', 'high': '0.33944', 'low': '0.33768', 'volume': '267124.00', 'time': 1723210500000}, {'open': '0.33191', 'close': '0.33071', 'high': '0.33191', 'low': '0.33063', 'volume': '202975.00', 'time': 1723406880000}], 'entry_reached': [{'open': '0.34337', 'close': '0.34427', 'high': '0.34445', 'low': '0.34256', 'volume': '101037.00', 'time': 1723133460000}, {'open': '0.35450', 'close': '0.35570', 'high': '0.35588', 'low': '0.35447', 'volume': '213827.00', 'time': 1723368000000}], 'stop_loss_reached': None}\n"
     ]
    },
    {
     "data": {
      "text/html": [
       "<p style='color:#0f0;'>********************************************************************************************************************</p>"
      ],
      "text/plain": [
       "<IPython.core.display.HTML object>"
      ]
     },
     "metadata": {},
     "output_type": "display_data"
    },
    {
     "name": "stdout",
     "output_type": "stream",
     "text": [
      "EOS-USDT SHORT\n",
      "0.491 [0.462, 0.484] EOS-USDT [0.455, 0.446, 0.435, 0.422, 0.404] 1722935606000\n"
     ]
    },
    {
     "data": {
      "text/html": [
       "<p style='color:#c01;'>json is empty</p>"
      ],
      "text/plain": [
       "<IPython.core.display.HTML object>"
      ]
     },
     "metadata": {},
     "output_type": "display_data"
    },
    {
     "data": {
      "text/html": [
       "<p style='color:#ada;'>saveOHLC_toJson</p>"
      ],
      "text/plain": [
       "<IPython.core.display.HTML object>"
      ]
     },
     "metadata": {},
     "output_type": "display_data"
    },
    {
     "name": "stdout",
     "output_type": "stream",
     "text": [
      "{'tps': [{'open': '0.4560', 'close': '0.4548', 'high': '0.4560', 'low': '0.4548', 'volume': '7109.00', 'time': 1723028820000}, {'open': '0.4464', 'close': '0.4438', 'high': '0.4466', 'low': '0.4436', 'volume': '44965.00', 'time': 1723041180000}], 'entry_reached': [{'open': '0.4609', 'close': '0.4608', 'high': '0.4620', 'low': '0.4607', 'volume': '34781.00', 'time': 1722953640000}, {'open': '0.4835', 'close': '0.4838', 'high': '0.4843', 'low': '0.4834', 'volume': '9308.00', 'time': 1723157340000}], 'stop_loss_reached': {'open': '0.4910', 'close': '0.4904', 'high': '0.4917', 'low': '0.4904', 'volume': '33651.00', 'time': 1723160460000}}\n"
     ]
    },
    {
     "data": {
      "text/html": [
       "<p style='color:#0f0;'>********************************************************************************************************************</p>"
      ],
      "text/plain": [
       "<IPython.core.display.HTML object>"
      ]
     },
     "metadata": {},
     "output_type": "display_data"
    },
    {
     "name": "stdout",
     "output_type": "stream",
     "text": [
      "1INCH-USDT SHORT\n",
      "0.304 [0.286, 0.2994] 1INCH-USDT [0.2815, 0.2763, 0.2699, 0.2619, 0.2501] 1722961040000\n"
     ]
    },
    {
     "data": {
      "text/html": [
       "<p style='color:#f6cd28;'>LData exists</p>"
      ],
      "text/plain": [
       "<IPython.core.display.HTML object>"
      ]
     },
     "metadata": {},
     "output_type": "display_data"
    },
    {
     "name": "stdout",
     "output_type": "stream",
     "text": [
      "{'tps': [], 'entry_reached': [], 'stop_loss_reached': None}\n"
     ]
    },
    {
     "data": {
      "text/html": [
       "<p style='color:#0f0;'>********************************************************************************************************************</p>"
      ],
      "text/plain": [
       "<IPython.core.display.HTML object>"
      ]
     },
     "metadata": {},
     "output_type": "display_data"
    },
    {
     "name": "stdout",
     "output_type": "stream",
     "text": [
      "BTC-USDT SHORT\n",
      "59850.5 [57750.0, 59108.7] BTC-USDT [57190.1, 56571.8, 55802.4, 54929.1, 53563.8] 1723013790000\n"
     ]
    },
    {
     "data": {
      "text/html": [
       "<p style='color:#f6cd28;'>LData exists</p>"
      ],
      "text/plain": [
       "<IPython.core.display.HTML object>"
      ]
     },
     "metadata": {},
     "output_type": "display_data"
    },
    {
     "name": "stdout",
     "output_type": "stream",
     "text": [
      "{'tps': [{'open': '57254.7', 'close': '57180.6', 'high': '57272.3', 'low': '57106.1', 'volume': '267.97', 'time': 1723124820000}], 'entry_reached': [{'open': '57571.4', 'close': '57790.2', 'high': '57981.0', 'low': '57501.4', 'volume': '486.35', 'time': 1723120260000}, {'open': '59045.6', 'close': '59104.1', 'high': '59223.6', 'low': '59028.5', 'volume': '255.39', 'time': 1723129560000}], 'stop_loss_reached': {'open': '59798.5', 'close': '60419.8', 'high': '60745.0', 'low': '59797.0', 'volume': '458.64', 'time': 1723153320000}}\n"
     ]
    },
    {
     "data": {
      "text/html": [
       "<p style='color:#0f0;'>********************************************************************************************************************</p>"
      ],
      "text/plain": [
       "<IPython.core.display.HTML object>"
      ]
     },
     "metadata": {},
     "output_type": "display_data"
    },
    {
     "name": "stdout",
     "output_type": "stream",
     "text": [
      "BTC-USDT SHORT\n",
      "64100.0 [61721.0, 63357.6] BTC-USDT [61179.8, 60445.5, 59568.6, 58487.7, 56856.2] 1723162021000\n"
     ]
    },
    {
     "data": {
      "text/html": [
       "<p style='color:#f6cd28;'>LData exists</p>"
      ],
      "text/plain": [
       "<IPython.core.display.HTML object>"
      ]
     },
     "metadata": {},
     "output_type": "display_data"
    },
    {
     "name": "stdout",
     "output_type": "stream",
     "text": [
      "{'tps': [{'open': '61278.2', 'close': '61085.2', 'high': '61306.3', 'low': '61080.4', 'volume': '77.06', 'time': 1723369080000}, {'open': '60602.5', 'close': '60486.6', 'high': '60602.5', 'low': '60411.0', 'volume': '71.64', 'time': 1723376580000}, {'open': '59620.6', 'close': '59541.5', 'high': '59632.0', 'low': '59530.8', 'volume': '111.64', 'time': 1723404780000}, {'open': '58521.4', 'close': '58440.4', 'high': '58543.5', 'low': '58384.8', 'volume': '98.87', 'time': 1723408620000}], 'entry_reached': [{'open': '61356.5', 'close': '61707.8', 'high': '61881.6', 'low': '61342.7', 'volume': '186.54', 'time': 1723368000000}], 'stop_loss_reached': None}\n"
     ]
    },
    {
     "data": {
      "text/html": [
       "<p style='color:#0f0;'>********************************************************************************************************************</p>"
      ],
      "text/plain": [
       "<IPython.core.display.HTML object>"
      ]
     },
     "metadata": {},
     "output_type": "display_data"
    },
    {
     "name": "stdout",
     "output_type": "stream",
     "text": [
      "SOL-USDT SHORT\n",
      "164.462 [155.015, 162.763] SOL-USDT [153.327, 150.421, 146.928, 142.719, 136.125] 1723285792000\n"
     ]
    },
    {
     "data": {
      "text/html": [
       "<p style='color:#f6cd28;'>LData exists</p>"
      ],
      "text/plain": [
       "<IPython.core.display.HTML object>"
      ]
     },
     "metadata": {},
     "output_type": "display_data"
    },
    {
     "name": "stdout",
     "output_type": "stream",
     "text": [
      "{'tps': [{'open': '153.416', 'close': '153.441', 'high': '153.441', 'low': '153.218', 'volume': '2650.00', 'time': 1723295700000}, {'open': '150.535', 'close': '150.229', 'high': '150.535', 'low': '150.150', 'volume': '4210.00', 'time': 1723381740000}, {'open': '148.180', 'close': '146.755', 'high': '148.186', 'low': '146.655', 'volume': '6231.00', 'time': 1723400760000}, {'open': '143.037', 'close': '142.719', 'high': '143.038', 'low': '142.631', 'volume': '2593.00', 'time': 1723414140000}], 'entry_reached': [{'open': '154.967', 'close': '155.065', 'high': '155.120', 'low': '154.917', 'volume': '2695.00', 'time': 1723293120000}], 'stop_loss_reached': None}\n"
     ]
    },
    {
     "data": {
      "text/html": [
       "<p style='color:#0f0;'>********************************************************************************************************************</p>"
      ],
      "text/plain": [
       "<IPython.core.display.HTML object>"
      ]
     },
     "metadata": {},
     "output_type": "display_data"
    },
    {
     "name": "stdout",
     "output_type": "stream",
     "text": [
      "STORJ-USDT LONG\n",
      "0.365 [0.381, 0.3692] STORJ-USDT [0.386, 0.3913, 0.3972, 0.4033, 0.413] 1723368102000\n"
     ]
    },
    {
     "data": {
      "text/html": [
       "<p style='color:#c01;'>json is empty</p>"
      ],
      "text/plain": [
       "<IPython.core.display.HTML object>"
      ]
     },
     "metadata": {},
     "output_type": "display_data"
    },
    {
     "data": {
      "text/html": [
       "<p style='color:#ada;'>saveOHLC_toJson</p>"
      ],
      "text/plain": [
       "<IPython.core.display.HTML object>"
      ]
     },
     "metadata": {},
     "output_type": "display_data"
    },
    {
     "name": "stdout",
     "output_type": "stream",
     "text": [
      "{'tps': [], 'entry_reached': [{'open': '0.3817', 'close': '0.3810', 'high': '0.3817', 'low': '0.3810', 'volume': '10171.00', 'time': 1723369020000}, {'open': '0.3699', 'close': '0.3695', 'high': '0.3699', 'low': '0.3692', 'volume': '11410.00', 'time': 1723376520000}], 'stop_loss_reached': {'open': '0.3657', 'close': '0.3635', 'high': '0.3658', 'low': '0.3632', 'volume': '268566.00', 'time': 1723381380000}}\n"
     ]
    },
    {
     "data": {
      "text/html": [
       "<p style='color:#0f0;'>********************************************************************************************************************</p>"
      ],
      "text/plain": [
       "<IPython.core.display.HTML object>"
      ]
     },
     "metadata": {},
     "output_type": "display_data"
    },
    {
     "name": "stdout",
     "output_type": "stream",
     "text": [
      "SOL-USDT LONG\n",
      "0.365 [0.381, 0.3692] SOL-USDT [0.386, 0.3913, 0.3972, 0.4033, 0.413] 1723368104000\n"
     ]
    },
    {
     "data": {
      "text/html": [
       "<p style='color:#f6cd28;'>LData exists</p>"
      ],
      "text/plain": [
       "<IPython.core.display.HTML object>"
      ]
     },
     "metadata": {},
     "output_type": "display_data"
    },
    {
     "name": "stdout",
     "output_type": "stream",
     "text": [
      "{'tps': [], 'entry_reached': [], 'stop_loss_reached': None}\n"
     ]
    },
    {
     "data": {
      "text/html": [
       "<p style='color:#0f0;'>********************************************************************************************************************</p>"
      ],
      "text/plain": [
       "<IPython.core.display.HTML object>"
      ]
     },
     "metadata": {},
     "output_type": "display_data"
    },
    {
     "name": "stdout",
     "output_type": "stream",
     "text": [
      "APE-USDT SHORT\n",
      "0.63 [0.6182, 0.6255] APE-USDT [0.6151, 0.6111, 0.6067, 0.6019, 0.5951] 1723374392000\n"
     ]
    },
    {
     "data": {
      "text/html": [
       "<p style='color:#f6cd28;'>LData exists</p>"
      ],
      "text/plain": [
       "<IPython.core.display.HTML object>"
      ]
     },
     "metadata": {},
     "output_type": "display_data"
    },
    {
     "data": {
      "text/html": [
       "<p style='color:#00f;'>get new data</p>"
      ],
      "text/plain": [
       "<IPython.core.display.HTML object>"
      ]
     },
     "metadata": {},
     "output_type": "display_data"
    },
    {
     "data": {
      "text/html": [
       "<p style='color:#ada;'>saveOHLC_toJson</p>"
      ],
      "text/plain": [
       "<IPython.core.display.HTML object>"
      ]
     },
     "metadata": {},
     "output_type": "display_data"
    },
    {
     "name": "stdout",
     "output_type": "stream",
     "text": [
      "{'tps': [{'open': '0.6162', 'close': '0.6153', 'high': '0.6169', 'low': '0.6143', 'volume': '10853.00', 'time': 1723473840000}, {'open': '0.6144', 'close': '0.6098', 'high': '0.6144', 'low': '0.6089', 'volume': '8332.00', 'time': 1723476180000}, {'open': '0.6101', 'close': '0.6087', 'high': '0.6106', 'low': '0.6064', 'volume': '40116.00', 'time': 1723476300000}, {'open': '0.6025', 'close': '0.6025', 'high': '0.6028', 'low': '0.6015', 'volume': '4482.00', 'time': 1723489020000}], 'entry_reached': [{'open': '0.6164', 'close': '0.6191', 'high': '0.6195', 'low': '0.6164', 'volume': '19013.00', 'time': 1723473600000}], 'stop_loss_reached': None}\n"
     ]
    },
    {
     "data": {
      "text/html": [
       "<p style='color:#0f0;'>********************************************************************************************************************</p>"
      ],
      "text/plain": [
       "<IPython.core.display.HTML object>"
      ]
     },
     "metadata": {},
     "output_type": "display_data"
    },
    {
     "name": "stdout",
     "output_type": "stream",
     "text": [
      "EGLD-USDT LONG\n",
      "24.999 [26.538, 25.391] EGLD-USDT [26.896, 27.385, 27.91, 28.588, 29.622] 1723448584000\n"
     ]
    },
    {
     "data": {
      "text/html": [
       "<p style='color:#f6cd28;'>LData exists</p>"
      ],
      "text/plain": [
       "<IPython.core.display.HTML object>"
      ]
     },
     "metadata": {},
     "output_type": "display_data"
    },
    {
     "data": {
      "text/html": [
       "<p style='color:#00f;'>get new data</p>"
      ],
      "text/plain": [
       "<IPython.core.display.HTML object>"
      ]
     },
     "metadata": {},
     "output_type": "display_data"
    },
    {
     "data": {
      "text/html": [
       "<p style='color:#ada;'>saveOHLC_toJson</p>"
      ],
      "text/plain": [
       "<IPython.core.display.HTML object>"
      ]
     },
     "metadata": {},
     "output_type": "display_data"
    },
    {
     "name": "stdout",
     "output_type": "stream",
     "text": [
      "{'tps': [{'open': '26.742', 'close': '26.848', 'high': '26.897', 'low': '26.734', 'volume': '182.20', 'time': 1723471560000}, {'open': '27.162', 'close': '27.341', 'high': '27.412', 'low': '27.162', 'volume': '197.80', 'time': 1723472040000}, {'open': '27.857', 'close': '27.917', 'high': '27.918', 'low': '27.855', 'volume': '181.10', 'time': 1723474920000}], 'entry_reached': [{'open': '26.640', 'close': '26.590', 'high': '26.640', 'low': '26.471', 'volume': '260.50', 'time': 1723471260000}], 'stop_loss_reached': None}\n"
     ]
    },
    {
     "data": {
      "text/html": [
       "<p style='color:#0f0;'>********************************************************************************************************************</p>"
      ],
      "text/plain": [
       "<IPython.core.display.HTML object>"
      ]
     },
     "metadata": {},
     "output_type": "display_data"
    },
    {
     "name": "stdout",
     "output_type": "stream",
     "text": [
      "ETH-USDT SHORT\n",
      "2736.8 [2692.68, 2721.81] ETH-USDT [2680.08, 2666.34, 2651.06, 2634.51, 2609.11] 1723493498000\n"
     ]
    },
    {
     "data": {
      "text/html": [
       "<p style='color:#f6cd28;'>LData exists</p>"
      ],
      "text/plain": [
       "<IPython.core.display.HTML object>"
      ]
     },
     "metadata": {},
     "output_type": "display_data"
    },
    {
     "name": "stdout",
     "output_type": "stream",
     "text": [
      "{'tps': [{'open': '2684.52', 'close': '2678.30', 'high': '2684.59', 'low': '2674.89', 'volume': '824.65', 'time': 1723495860000}, {'open': '2667.69', 'close': '2670.80', 'high': '2671.05', 'low': '2665.87', 'volume': '441.39', 'time': 1723496760000}], 'entry_reached': [{'open': '2692.56', 'close': '2700.38', 'high': '2702.00', 'low': '2690.25', 'volume': '814.41', 'time': 1723495320000}, {'open': '2717.00', 'close': '2724.20', 'high': '2727.78', 'low': '2715.11', 'volume': '701.51', 'time': 1723504680000}], 'stop_loss_reached': {'open': '2724.51', 'close': '2745.86', 'high': '2748.72', 'low': '2724.51', 'volume': '3033.51', 'time': 1723504740000}}\n"
     ]
    },
    {
     "data": {
      "text/html": [
       "<p style='color:#0f0;'>********************************************************************************************************************</p>"
      ],
      "text/plain": [
       "<IPython.core.display.HTML object>"
      ]
     },
     "metadata": {},
     "output_type": "display_data"
    },
    {
     "name": "stdout",
     "output_type": "stream",
     "text": [
      "ADA-USDT SHORT\n",
      "0.346 [0.3348, 0.3434] ADA-USDT [0.332, 0.3279, 0.3237, 0.3192, 0.3111] 1723539537000\n"
     ]
    },
    {
     "data": {
      "text/html": [
       "<p style='color:#f6cd28;'>LData exists</p>"
      ],
      "text/plain": [
       "<IPython.core.display.HTML object>"
      ]
     },
     "metadata": {},
     "output_type": "display_data"
    },
    {
     "name": "stdout",
     "output_type": "stream",
     "text": [
      "{'tps': [{'open': '0.33207', 'close': '0.33213', 'high': '0.33218', 'low': '0.33200', 'volume': '53271.00', 'time': 1723542300000}], 'entry_reached': [{'open': '0.33494', 'close': '0.33485', 'high': '0.33499', 'low': '0.33484', 'volume': '49987.00', 'time': 1723539540000}], 'stop_loss_reached': None}\n"
     ]
    },
    {
     "data": {
      "text/html": [
       "<p style='color:#0f0;'>********************************************************************************************************************</p>"
      ],
      "text/plain": [
       "<IPython.core.display.HTML object>"
      ]
     },
     "metadata": {},
     "output_type": "display_data"
    },
    {
     "data": {
      "text/plain": [
       "{'open': '38.586',\n",
       " 'close': '38.649',\n",
       " 'high': '38.649',\n",
       " 'low': '38.585',\n",
       " 'volume': '2865.00',\n",
       " 'time': 1716635700000}"
      ]
     },
     "execution_count": 14,
     "metadata": {},
     "output_type": "execute_result"
    }
   ],
   "source": [
    "client = await TelegramClient(username, api_id, api_hash).start()\n",
    "peer_channel =  PeerChannel(int(config[\"CHANNEL_FEYZ\"]))\n",
    "feyzian_channel = await client.get_entity(peer_channel)\n",
    "\n",
    "offset_id = 0\n",
    "limit = 100\n",
    "all_messages = []\n",
    "total_messages = 0\n",
    "total_count_limit = 0\n",
    "# اول فروردین = 2024/3/20\n",
    "end_date = datetime(2024, 3, 20, tzinfo=timezone.utc)\n",
    "# اول خرداد = 2024/5/21\n",
    "# end_date = datetime(2024, 5, 21, tzinfo=timezone.utc)\n",
    "# start_date = datetime(2024, 5, 29, tzinfo=timezone.utc)\n",
    "# اول تیر = 2024/6/21\n",
    "# start_date = datetime(2024, 6, 21, tzinfo=timezone.utc)\n",
    "# end_date = datetime(2024, 7, 15, tzinfo=timezone.utc)\n",
    "\n",
    "shouldStop = False\n",
    "while not shouldStop:\n",
    "    print(\"Current Offset ID is:\", offset_id, \"; Total Messages:\", total_messages)\n",
    "    history = await  client(\n",
    "    GetHistoryRequest(\n",
    "            peer=feyzian_channel,\n",
    "            offset_id=offset_id,\n",
    "            offset_date=None,\n",
    "            # offset_date=start_date,\n",
    "            add_offset=0,\n",
    "            limit=limit,\n",
    "            max_id=0,\n",
    "            min_id=0,\n",
    "            hash=0,\n",
    "        )\n",
    "    )\n",
    "\n",
    "    if not history.messages:\n",
    "        break\n",
    "\n",
    "    messages = history.messages\n",
    "    for message in tqdm(messages):\n",
    "        message_date = message.date.replace(tzinfo=timezone.utc)\n",
    "        # if start_date < message_date:\n",
    "        #     continue\n",
    "\n",
    "        if message_date < end_date:\n",
    "            shouldStop = True\n",
    "            break\n",
    "        all_messages.append(message)\n",
    "\n",
    "    offset_id = messages[len(messages) - 1].id\n",
    "    total_messages = len(all_messages)\n",
    "    if total_count_limit != 0 and total_messages >= total_count_limit:\n",
    "        break\n",
    "\n",
    "await client.disconnect()\n",
    "\n",
    "for msg in reversed(all_messages):\n",
    "    await extract_data_from_message(msg)\n",
    "\n",
    "\n",
    "\n",
    "# print(error_msg)\n",
    "convertToJsonFile(error_msg, \"error_msg\", \".\") \n",
    "# convertToJsonFile(allPredicts, \"allPredicts\", \".\")  \n",
    "{\"open\": \"38.586\", \"close\": \"38.649\", \"high\": \"38.649\", \"low\": \"38.585\", \"volume\": \"2865.00\", \"time\": 1716635700000}\n"
   ]
  },
  {
   "cell_type": "code",
   "execution_count": null,
   "metadata": {},
   "outputs": [],
   "source": []
  }
 ],
 "metadata": {
  "kernelspec": {
   "display_name": ".venv",
   "language": "python",
   "name": "python3"
  },
  "language_info": {
   "codemirror_mode": {
    "name": "ipython",
    "version": 3
   },
   "file_extension": ".py",
   "mimetype": "text/x-python",
   "name": "python",
   "nbconvert_exporter": "python",
   "pygments_lexer": "ipython3",
   "version": "3.9.6"
  }
 },
 "nbformat": 4,
 "nbformat_minor": 2
}
