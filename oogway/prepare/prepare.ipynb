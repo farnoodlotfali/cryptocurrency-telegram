{
 "cells": [
  {
   "cell_type": "code",
   "execution_count": 1,
   "metadata": {},
   "outputs": [
    {
     "name": "stderr",
     "output_type": "stream",
     "text": [
      "<>:3: SyntaxWarning: invalid escape sequence '\\.'\n",
      "<>:3: SyntaxWarning: invalid escape sequence '\\.'\n",
      "C:\\Users\\F07\\AppData\\Local\\Temp\\ipykernel_10992\\2607221228.py:3: SyntaxWarning: invalid escape sequence '\\.'\n",
      "  source_file_path = '.\\..\\.env'\n"
     ]
    },
    {
     "data": {
      "text/plain": [
       "'.\\\\.env'"
      ]
     },
     "execution_count": 1,
     "metadata": {},
     "output_type": "execute_result"
    }
   ],
   "source": [
    "import shutil\n",
    "\n",
    "source_file_path = '.\\..\\.env'\n",
    "\n",
    "destination_file_path = '.'\n",
    "\n",
    "shutil.copy(source_file_path, destination_file_path)"
   ]
  },
  {
   "cell_type": "code",
   "execution_count": 2,
   "metadata": {},
   "outputs": [],
   "source": [
    "import django\n",
    "import os\n",
    "import sys\n",
    "project_path = '../'  # Adjust this to your actual project path\n",
    "sys.path.append(project_path)\n",
    "os.environ.setdefault('DJANGO_SETTINGS_MODULE', 'oogway.settings')\n",
    "django.setup()"
   ]
  },
  {
   "cell_type": "code",
   "execution_count": 3,
   "metadata": {},
   "outputs": [],
   "source": [
    "from PostAnalyzer.models import (\n",
    "    Channel,\n",
    "    PositionSide,\n",
    "    Market,\n",
    "    PostStatus,\n",
    "    MarginMode,\n",
    "    Symbol,\n",
    "\n",
    ")\n",
    "from Shared.Exchange import exchange\n",
    "from Shared.Constant import PostStatusTypeValues, MarketValues, PositionSideValues, MarginModeValues\n",
    "from asgiref.sync import sync_to_async\n",
    "from dotenv import dotenv_values\n",
    "\n",
    "_config = dotenv_values(\".env\")\n",
    "\n"
   ]
  },
  {
   "cell_type": "code",
   "execution_count": 4,
   "metadata": {},
   "outputs": [],
   "source": [
    "async def add_new_channel(channel_id, name, can_trade):\n",
    "    # Check if already exists in the database\n",
    "    existing = await sync_to_async(Channel.objects.filter(name=name, channel_id=channel_id).exists)()\n",
    "\n",
    "    if not existing:\n",
    "        # Create a new Channel instance\n",
    "        new_channel = Channel(\n",
    "            channel_id=channel_id,\n",
    "            name=name,\n",
    "            can_trade=can_trade\n",
    "        )\n",
    "        \n",
    "        # Save the new channel to the database\n",
    "        await sync_to_async(new_channel.save)()\n",
    "\n"
   ]
  },
  {
   "cell_type": "code",
   "execution_count": 5,
   "metadata": {},
   "outputs": [],
   "source": [
    "async def add_post_statuses():\n",
    "    for status in PostStatusTypeValues:\n",
    "        for type in status.value[1:]:\n",
    "\n",
    "            name = status.value[0]\n",
    "            type_value = int(type)\n",
    "\n",
    "            # Check if already exists in the database\n",
    "            existing = await sync_to_async(PostStatus.objects.filter(name=name, type=type_value).exists)()\n",
    "            \n",
    "            if not existing:\n",
    "                # Create if it doesn't exist\n",
    "                position_side = PostStatus(\n",
    "                    name=name,\n",
    "                    type=type_value\n",
    "                )\n",
    "\n",
    "                # Save to the database\n",
    "                await sync_to_async(position_side.save)()\n",
    "\n"
   ]
  },
  {
   "cell_type": "code",
   "execution_count": 6,
   "metadata": {},
   "outputs": [],
   "source": [
    "async def add_markets():\n",
    "    for status in MarketValues:\n",
    "        name = status.value\n",
    "\n",
    "        # Check if already exists in the database\n",
    "        existing = await sync_to_async(Market.objects.filter(name=name).exists)()\n",
    "        \n",
    "        if not existing:\n",
    "            # Create if it doesn't exist\n",
    "            market = Market(\n",
    "                name=name,\n",
    "            )\n",
    "\n",
    "            # Save to the database\n",
    "            await sync_to_async(market.save)()\n",
    "\n",
    "            \n",
    "\n"
   ]
  },
  {
   "cell_type": "code",
   "execution_count": 7,
   "metadata": {},
   "outputs": [],
   "source": [
    "async def add_margin_mode():\n",
    "    for status in MarginModeValues:\n",
    "        name = status.value\n",
    "\n",
    "        # Check if already exists in the database\n",
    "        existing = await sync_to_async(MarginMode.objects.filter(name=name).exists)()\n",
    "        \n",
    "        if not existing:\n",
    "            # Create if it doesn't exist\n",
    "            margin = MarginMode(\n",
    "                name=name,\n",
    "            )\n",
    "\n",
    "            # Save to the database\n",
    "            await sync_to_async(margin.save)()\n",
    "\n",
    "            \n"
   ]
  },
  {
   "cell_type": "code",
   "execution_count": 8,
   "metadata": {},
   "outputs": [],
   "source": [
    "async def add_position_size():\n",
    "    for status in PositionSideValues:\n",
    "        name = status.value\n",
    "\n",
    "        # Check if already exists in the database\n",
    "        existing = await sync_to_async(PositionSide.objects.filter(name=name).exists)()\n",
    "        \n",
    "        if not existing:\n",
    "            # Create if it doesn't exist\n",
    "            position = PositionSide(\n",
    "                name=name,\n",
    "            )\n",
    "\n",
    "            # Save to the database\n",
    "            await sync_to_async(position.save)()"
   ]
  },
  {
   "cell_type": "code",
   "execution_count": 9,
   "metadata": {},
   "outputs": [],
   "source": [
    "async def add_symbols():\n",
    "    order_data = exchange.fetch_markets()\n",
    "\n",
    "    spot_market = await sync_to_async(Market.objects.get)(name=MarketValues.SPOT.value)\n",
    "    future_market = await sync_to_async(Market.objects.get)(name=MarketValues.FUTURES.value)\n",
    "\n",
    "    for symbol in order_data:\n",
    "        if symbol[\"quote\"] == \"USDT\":\n",
    "            market = spot_market if symbol[\"spot\"] else future_market\n",
    "\n",
    "            existing = await sync_to_async(Symbol.objects.filter(name=symbol[\"symbol\"], market=market).exists)()\n",
    "\n",
    "            if not existing:\n",
    "                newSymbol = {\n",
    "                    \"name\": symbol[\"symbol\"],\n",
    "                    \"min_trade_amount\": symbol[\"limits\"][\"amount\"][\"min\"],\n",
    "                    \"quote\": symbol[\"quote\"],\n",
    "                    \"base\": symbol[\"base\"],\n",
    "                    \"market\": market,\n",
    "                }\n",
    "\n",
    "                newSymbol = Symbol(**newSymbol)\n",
    "                await sync_to_async(newSymbol.save)()"
   ]
  },
  {
   "cell_type": "code",
   "execution_count": 10,
   "metadata": {},
   "outputs": [],
   "source": [
    "await add_margin_mode()\n",
    "await add_markets()\n",
    "await add_post_statuses()\n",
    "await add_position_size()\n",
    "await add_symbols()\n",
    "\n",
    "\n",
    "# add channel info here\n",
    "channels = [\n",
    "    {\n",
    "        'name': \"TEST_FEYZIAN\",\n",
    "        'id': _config[\"CHANNEL_TEST_FEYZIAN\"],\n",
    "    },\n",
    "    {\n",
    "        'name': \"FEYZIAN\",\n",
    "        'id': _config[\"CHANNEL_FEYZ\"],\n",
    "    },\n",
    "    {\n",
    "        'name': \"ALI_BEY\",\n",
    "        'id': _config[\"CHANNEL_ALI_BEY\"],\n",
    "    },\n",
    "    {\n",
    "        'name': \"TEST_ALI_BEYRANVAND\",\n",
    "        'id': _config[\"CHANNEL_TEST_ALI_BEYRANVAND\"],\n",
    "    },\n",
    "\n",
    "]\n",
    "\n",
    "for item in channels:\n",
    "    await add_new_channel(item['id'], item['name'], False)"
   ]
  }
 ],
 "metadata": {
  "kernelspec": {
   "display_name": ".venv",
   "language": "python",
   "name": "python3"
  },
  "language_info": {
   "codemirror_mode": {
    "name": "ipython",
    "version": 3
   },
   "file_extension": ".py",
   "mimetype": "text/x-python",
   "name": "python",
   "nbconvert_exporter": "python",
   "pygments_lexer": "ipython3",
   "version": "3.12.6"
  }
 },
 "nbformat": 4,
 "nbformat_minor": 2
}
