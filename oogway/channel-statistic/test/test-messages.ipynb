{
 "cells": [
  {
   "cell_type": "code",
   "execution_count": 7,
   "metadata": {},
   "outputs": [],
   "source": [
    "import django\n",
    "import os\n",
    "import sys\n",
    "import shutil\n",
    "\n",
    "path='../../'\n",
    "\n",
    "source_file_path = f'{path}.env'\n",
    "\n",
    "destination_file_path = '.'\n",
    "\n",
    "shutil.copy(source_file_path, destination_file_path)\n",
    "\n",
    "from dotenv import dotenv_values\n",
    "\n",
    "_config = dotenv_values(\".env\")\n",
    "_username = _config[\"username\"]\n",
    "\n",
    "session_file_path = f'{path}{_username}.session'\n",
    "\n",
    "shutil.copy(session_file_path, destination_file_path)\n",
    "\n",
    "\n",
    "project_path = path  # Adjust this to your actual project path\n",
    "sys.path.append(project_path)\n",
    "os.environ.setdefault('DJANGO_SETTINGS_MODULE', 'oogway.settings')\n",
    "django.setup()\n"
   ]
  },
  {
   "cell_type": "code",
   "execution_count": 2,
   "metadata": {},
   "outputs": [],
   "source": [
    "import django\n",
    "import os\n",
    "import sys\n",
    "project_path = '../../'  \n",
    "sys.path.append(project_path)\n",
    "os.environ.setdefault('DJANGO_SETTINGS_MODULE', 'oogway.settings')\n",
    "django.setup()"
   ]
  },
  {
   "cell_type": "code",
   "execution_count": null,
   "metadata": {},
   "outputs": [],
   "source": [
    "from Channels.TestChannel import TestChannel\n",
    "from Shared.helpers import print_colored"
   ]
  },
  {
   "cell_type": "markdown",
   "metadata": {},
   "source": [
    "## Testing Types of Messages in This Channel"
   ]
  },
  {
   "cell_type": "code",
   "execution_count": null,
   "metadata": {},
   "outputs": [
    {
     "name": "stdout",
     "output_type": "stream",
     "text": [
      "Error in position or take-profit\n"
     ]
    },
    {
     "data": {
      "text/html": [
       "<p style='color:#f00f00fc;'>number: 1 res: (False, 'Error in position or take-profit')</p>"
      ],
      "text/plain": [
       "<IPython.core.display.HTML object>"
      ]
     },
     "metadata": {},
     "output_type": "display_data"
    },
    {
     "name": "stdout",
     "output_type": "stream",
     "text": [
      "****************************************************************\n",
      "\n",
      "\n",
      "isPredict: True\n",
      "symbol: ETH/USDT\n",
      "market: SPOT\n",
      "stopLoss: inf\n",
      "entries: [2930.0, 2870.0]\n",
      "profits: [3100.0, 3200.0]\n"
     ]
    },
    {
     "data": {
      "text/html": [
       "<p style='color:#0ff;'>number: 2 res: (True, '')</p>"
      ],
      "text/plain": [
       "<IPython.core.display.HTML object>"
      ]
     },
     "metadata": {},
     "output_type": "display_data"
    },
    {
     "name": "stdout",
     "output_type": "stream",
     "text": [
      "****************************************************************\n",
      "\n",
      "\n",
      "Error in position or entry\n"
     ]
    },
    {
     "data": {
      "text/html": [
       "<p style='color:#f00f00fc;'>number: 3 res: (False, 'Error in position or entry')</p>"
      ],
      "text/plain": [
       "<IPython.core.display.HTML object>"
      ]
     },
     "metadata": {},
     "output_type": "display_data"
    },
    {
     "name": "stdout",
     "output_type": "stream",
     "text": [
      "****************************************************************\n",
      "\n",
      "\n",
      "Error in position or entry\n"
     ]
    },
    {
     "data": {
      "text/html": [
       "<p style='color:#f00f00fc;'>number: 4 res: (False, 'Error in position or entry')</p>"
      ],
      "text/plain": [
       "<IPython.core.display.HTML object>"
      ]
     },
     "metadata": {},
     "output_type": "display_data"
    },
    {
     "name": "stdout",
     "output_type": "stream",
     "text": [
      "****************************************************************\n",
      "\n",
      "\n",
      "Error in position or stoploss\n"
     ]
    },
    {
     "data": {
      "text/html": [
       "<p style='color:#f00f00fc;'>number: 5 res: (False, 'Error in position or stoploss')</p>"
      ],
      "text/plain": [
       "<IPython.core.display.HTML object>"
      ]
     },
     "metadata": {},
     "output_type": "display_data"
    },
    {
     "name": "stdout",
     "output_type": "stream",
     "text": [
      "****************************************************************\n",
      "\n",
      "\n",
      "isPredict: True\n",
      "symbol: GTC/USDT:USDT\n",
      "market: FUTURES\n",
      "position: LONG\n",
      "marginMode: ISOLATED\n",
      "leverage: 4\n",
      "stopLoss: 1.079\n",
      "entries: [1.139, 1.096]\n",
      "profits: [1.155, 1.178, 1.205, 1.234, 1.271]\n"
     ]
    },
    {
     "data": {
      "text/html": [
       "<p style='color:#0ff;'>number: 6 res: (True, '')</p>"
      ],
      "text/plain": [
       "<IPython.core.display.HTML object>"
      ]
     },
     "metadata": {},
     "output_type": "display_data"
    },
    {
     "name": "stdout",
     "output_type": "stream",
     "text": [
      "****************************************************************\n",
      "\n",
      "\n",
      "isPredict: True\n",
      "symbol: ETH/USDT:USDT\n",
      "market: FUTURES\n",
      "position: LONG\n",
      "marginMode: ISOLATED\n",
      "leverage: 30\n",
      "stopLoss: 3337.63\n",
      "entries: [3358.32, 3346.91]\n",
      "profits: [3363.43, 3370.13, 3376.83, 3398.63]\n"
     ]
    },
    {
     "data": {
      "text/html": [
       "<p style='color:#0ff;'>number: 7 res: (True, '')</p>"
      ],
      "text/plain": [
       "<IPython.core.display.HTML object>"
      ]
     },
     "metadata": {},
     "output_type": "display_data"
    },
    {
     "name": "stdout",
     "output_type": "stream",
     "text": [
      "****************************************************************\n",
      "\n",
      "\n",
      "Sorry, cannot find Symbol\n"
     ]
    },
    {
     "data": {
      "text/html": [
       "<p style='color:#f00f00fc;'>number: 8 res: (False, 'Sorry, cannot find Symbol')</p>"
      ],
      "text/plain": [
       "<IPython.core.display.HTML object>"
      ]
     },
     "metadata": {},
     "output_type": "display_data"
    },
    {
     "name": "stdout",
     "output_type": "stream",
     "text": [
      "****************************************************************\n",
      "\n",
      "\n",
      "isPredict: True\n",
      "symbol: AVAX/USDT:USDT\n",
      "market: FUTURES\n",
      "position: LONG\n",
      "marginMode: ISOLATED\n",
      "leverage: 3\n",
      "stopLoss: 11.19\n",
      "entries: [11.8, 11.502]\n",
      "profits: [12.025, 12.281, 12.564, 12.95]\n"
     ]
    },
    {
     "data": {
      "text/html": [
       "<p style='color:#0ff;'>number: 9 res: (True, '')</p>"
      ],
      "text/plain": [
       "<IPython.core.display.HTML object>"
      ]
     },
     "metadata": {},
     "output_type": "display_data"
    },
    {
     "name": "stdout",
     "output_type": "stream",
     "text": [
      "****************************************************************\n",
      "\n",
      "\n",
      "Sorry, cannot find Symbol\n"
     ]
    },
    {
     "data": {
      "text/html": [
       "<p style='color:#f00f00fc;'>number: 10 res: (False, 'Sorry, cannot find Symbol')</p>"
      ],
      "text/plain": [
       "<IPython.core.display.HTML object>"
      ]
     },
     "metadata": {},
     "output_type": "display_data"
    },
    {
     "name": "stdout",
     "output_type": "stream",
     "text": [
      "****************************************************************\n",
      "\n",
      "\n"
     ]
    }
   ],
   "source": [
    "# error\n",
    "msg1 = {\n",
    "    \"id\": 3084,\n",
    "    \"date\": \"2023-12-19T12:49:50+00:00\",\n",
    "    \"reply_to_msg_id\": None,\n",
    "    \"message\": \"Symbol: #FILUSDT.P\\nMarket: FUTURES\\nPosition: SHORT\\nLeverage: Isolated 4x\\n\\nEntry Targets: \\n1) 5.430\\n2) 5.212\\n\\nTake-Profit Targets: \\n1) 5.517\\n2) 5.608\\n3) 5.715\\n4) 5.823\\n5) 5.982\\n\\nStopLoss: 5.154\\nB.Z\",    \n",
    "    \"edit_date\": None,\n",
    "    \"media\": None,\n",
    "}\n",
    "# error\n",
    "msg3 = {\n",
    "    \"id\": 3084,\n",
    "    \"date\": \"2023-12-19T12:49:50+00:00\",\n",
    "    \"reply_to_msg_id\": None,\n",
    "    \"message\": \"Symbol: #BTC/USDT Market: FUTURES Position: LONG Leverage: Isolated 6x Entry Targets: 1) 30000.54 2) 32000.43 3) 33000. Take-Profit Targets: 1) 30010.66 2) 30016 3) 30019 4) 30040 StopLoss: 29010 B.Z #test\",    \n",
    "    \"edit_date\": None,\n",
    "    \"media\": None,\n",
    "}\n",
    "\n",
    "# error Entry Targets: 1) 30000.54 2) 32000.43 3) 33000.\n",
    "msg4 = {\n",
    "    \"id\": 3084,\n",
    "    \"date\": \"2023-12-19T12:49:50+00:00\",\n",
    "    \"reply_to_msg_id\": None,\n",
    "    \"message\": \"Symbol: #Galausdt Market: FUTURES Position: LONG Leverage: Isolated 6x Entry Targets: 1) 30000.54 2) 32000.43 3) 33000. Take-Profit Targets: 1) 30010.66 2) 30016 3) 30019 4) 30040 StopLoss: 29010 B.Z #test\",    \n",
    "    \"edit_date\": None,\n",
    "    \"media\": None,\n",
    "}\n",
    "# error entry Targets: \\n1) 0.022713\\n2) 0.021730 and position is long and stoploss 0.21400\n",
    "msg5 = {\n",
    "    \"id\": 3084,\n",
    "    \"date\": \"2023-12-19T12:49:50+00:00\",\n",
    "    \"reply_to_msg_id\": None,\n",
    "    \"message\": \"Symbol: #1000BONKUSDT.P\\nMarket: FUTURES\\nPosition: LONG\\nLeverage: Isolated 4x\\n\\nEntry Targets: \\n1) 0.022713\\n2) 0.021730\\n\\nTake-Profit Targets: \\n1) 0.23111\\n2) 0.23689\\n3) 0.24366\\n4) 0.25361\\n\\nStopLoss: 0.21400\\nB.Z\",    \n",
    "    \"edit_date\": None,\n",
    "    \"media\": None,\n",
    "}\n",
    "\n",
    "msg6 = {\n",
    "    \"id\": 3084,\n",
    "    \"date\": \"2023-12-19T12:49:50+00:00\",\n",
    "    \"reply_to_msg_id\": None,\n",
    "    \"message\": \"Symbol: #GTCUSDT.P\\nMarket: FUTURES\\nPosition: LONG\\nLeverage: Isolated 4x\\nOrder Type: Limit\\n\\nEntry Price: \\n1) 1.139\\n2) 1.096\\n\\nTake-Profit Targets: \\n1) 1.155\\n2) 1.178\\n3) 1.205\\n4) 1.234\\n5) 1.271\\n\\nStopLoss: 1.079\\nB.Z\",    \n",
    "    \"edit_date\": None,\n",
    "    \"media\": None,\n",
    "}\n",
    "\n",
    "msg7 = {\n",
    "    \"id\": 3084,\n",
    "    \"date\": \"2023-12-19T12:49:50+00:00\",\n",
    "    \"reply_to_msg_id\": None,\n",
    "    \"message\": \"Symbol: #ETHUSDT.P\\nMarket: FUTURES\\nPosition: LONG\\nLeverage: Isolated 30x\\nOrder Type: Limit\\n\\nEntry Price: \\n1) 3,358.32\\n2) 3,346.91\\n\\nTake-Profit Targets: \\n1) 3363.43\\n2) 3370.13\\n3) 3376.83\\n4) 3398.63\\n\\nStopLoss: 3,337.63\\nB.Z\",    \n",
    "    \"edit_date\": None,\n",
    "    \"media\": None,\n",
    "}\n",
    "# error symbol\n",
    "msg8 = {\n",
    "    \"id\": 3084,\n",
    "    \"date\": \"2023-12-19T12:49:50+00:00\",\n",
    "    \"reply_to_msg_id\": None,\n",
    "    \"message\": \"Symbol: #FETUSDT.P\\nMarket: FUTURES\\nPosition:SHORT\\nLeverage: Isolated 13x\\n\\nEntry Price: \\n1) 3,358.32\\n2) 3,346.91\\n\\nTake-Profit Targets: \\n1) 3363.43\\n2) 3370.13\\n3) 3376.83\\n4) 3398.63\\n\\nStopLoss: 3,337.63\\nB.Z\",    \n",
    "    \"edit_date\": None,\n",
    "    \"media\": None,\n",
    "}\n",
    "\n",
    "msg9 = {\n",
    "    \"id\": 3084,\n",
    "    \"date\": \"2023-12-19T12:49:50+00:00\",\n",
    "    \"reply_to_msg_id\": None,\n",
    "    \"message\": \"Symbol: #AVAX/USDT\\nMarket: FUTURES\\nPosition: LONG\\nLeverage: Isolated 3x\\n\\nEntry Targets: \\n1) 11.80\\n2) 11.502\\n\\nTake-Profit Targets: \\n1) 12.025\\n2) 12.281\\n3) 12.564\\n4) 12.950\\n\\nStopLoss: 11.19\\nB.Z\",    \"edit_date\": None,\n",
    "    \"media\": None,\n",
    "}\n",
    "# error symbol\n",
    "msg10 = {\n",
    "    \"id\": 112174,\n",
    "    \"date\": \"2024-09-10T10:30:50+00:00\",\n",
    "    \"channel\": 2,\n",
    "    \"message_id\": 12955,\n",
    "    \"message\": \"Symbol: #RUNUSDT\\nMarket: FUTURES\\nPosition:SHORT\\nLeverage: Isolated 5x\\n\\nEntry Targets: \\n1) 3.912\\n2) 4.050\\nTake-Profit Targets: \\n1) 3.844\\n2) 3.788\\n3) 3.726\\n4) 3.650\\n5) 3.558\\n\\nStopLoss: 4.088\\nB.Z\",\n",
    "  \n",
    "}\n",
    "\n",
    "# spot\n",
    "msg2 = {\n",
    "    \"id\": 3084,\n",
    "    \"date\": \"2023-12-19T12:49:50+00:00\",\n",
    "    \"reply_to_msg_id\": None,\n",
    "    \"message\": \"Symbol: #ETH/USDT\\nMarket: SPOT\\n\\nEntry Targets: \\n1) 2930.00\\n2) 2870.00\\n\\nTake-Profit Targets: \\n1) 3100.00\\n2) 3200.00\\n\\n\\nDescription: HOLD MODE\\nمیان مدت\\nB.Z\",    \n",
    "    \"edit_date\": None,\n",
    "    \"media\": None,\n",
    "}\n",
    "\n",
    "\n",
    "testChannel = TestChannel()\n",
    "\n",
    "# string = msg2[\"message\"]\n",
    "# res, msg = await testChannel.test(string,True)\n",
    "# print(res, msg)\n",
    "messages = [msg1, msg2, msg3, msg4, msg5, msg6, msg7, msg8, msg9, msg10]\n",
    "\n",
    "\n",
    "for i, msgTest in enumerate(messages):\n",
    "    res = await testChannel.test(msg=msgTest['message'], showPrint=True)\n",
    "    print_colored(f'number: {i+1} res: {res}', \"#0ff\" if res[0] else \"#f00f00fc\" )\n",
    "    print(\"****************************************************************\\n\\n\")\n",
    "\n"
   ]
  }
 ],
 "metadata": {
  "kernelspec": {
   "display_name": ".venv",
   "language": "python",
   "name": "python3"
  },
  "language_info": {
   "codemirror_mode": {
    "name": "ipython",
    "version": 3
   },
   "file_extension": ".py",
   "mimetype": "text/x-python",
   "name": "python",
   "nbconvert_exporter": "python",
   "pygments_lexer": "ipython3",
   "version": "3.12.6"
  }
 },
 "nbformat": 4,
 "nbformat_minor": 2
}
