{
 "cells": [
  {
   "cell_type": "code",
   "execution_count": 2,
   "metadata": {},
   "outputs": [],
   "source": [
    "import django\n",
    "import os\n",
    "import sys\n",
    "import shutil\n",
    "\n",
    "path='../../'\n",
    "\n",
    "source_file_path = f'{path}.env'\n",
    "\n",
    "destination_file_path = '.'\n",
    "\n",
    "shutil.copy(source_file_path, destination_file_path)\n",
    "\n",
    "from dotenv import dotenv_values\n",
    "\n",
    "_config = dotenv_values(\".env\")\n",
    "_username = _config[\"username\"]\n",
    "\n",
    "session_file_path = f'{path}{_username}.session'\n",
    "\n",
    "shutil.copy(session_file_path, destination_file_path)\n",
    "\n",
    "\n",
    "project_path = path  # Adjust this to your actual project path\n",
    "sys.path.append(project_path)\n",
    "os.environ.setdefault('DJANGO_SETTINGS_MODULE', 'oogway.settings')\n",
    "django.setup()\n"
   ]
  },
  {
   "cell_type": "code",
   "execution_count": 3,
   "metadata": {},
   "outputs": [],
   "source": [
    "from Channels.RastadChannel import RastadChannel\n",
    "from Shared.helpers import print_colored\n",
    "import re\n",
    "\n",
    "\n",
    "rastad = RastadChannel()"
   ]
  },
  {
   "cell_type": "code",
   "execution_count": 4,
   "metadata": {},
   "outputs": [
    {
     "name": "stdout",
     "output_type": "stream",
     "text": [
      "isPredict: True\n",
      "symbol: BTC/USDT:USDT\n",
      "market: FUTURES\n",
      "position: SHORT\n",
      "marginMode: ISOLATED\n",
      "leverage: 20\n",
      "stopLoss: 62815.0\n",
      "entries: [62370.0, 62710.0]\n",
      "profits: [62147.0, 61927.0, 61703.0]\n",
      "isPredict: True\n",
      "symbol: BCH/USDT:USDT\n",
      "market: FUTURES\n",
      "position: LONG\n",
      "marginMode: ISOLATED\n",
      "leverage: 6\n",
      "stopLoss: 367.3\n",
      "entries: [375.0, 371.0]\n",
      "profits: [378.88, 382.77, 386.62]\n"
     ]
    },
    {
     "data": {
      "text/html": [
       "<p style='color:#0ff;'>number: 1 res: (True, '')</p>"
      ],
      "text/plain": [
       "<IPython.core.display.HTML object>"
      ]
     },
     "metadata": {},
     "output_type": "display_data"
    },
    {
     "name": "stdout",
     "output_type": "stream",
     "text": [
      "****************************************************************\n",
      "\n",
      "\n",
      "isPredict: True\n",
      "symbol: TONCOIN/USDT:USDT\n",
      "market: FUTURES\n",
      "position: SHORT\n",
      "marginMode: ISOLATED\n",
      "leverage: 7\n",
      "stopLoss: 4.91\n",
      "entries: [4.8, 4.88]\n",
      "profits: [4.745, 4.69, 4.635]\n"
     ]
    },
    {
     "data": {
      "text/html": [
       "<p style='color:#0ff;'>number: 2 res: (True, '')</p>"
      ],
      "text/plain": [
       "<IPython.core.display.HTML object>"
      ]
     },
     "metadata": {},
     "output_type": "display_data"
    },
    {
     "name": "stdout",
     "output_type": "stream",
     "text": [
      "****************************************************************\n",
      "\n",
      "\n",
      "isPredict: True\n",
      "symbol: UNI/USDT:USDT\n",
      "market: FUTURES\n",
      "position: SHORT\n",
      "marginMode: ISOLATED\n",
      "leverage: 4\n",
      "stopLoss: 7.97\n",
      "entries: [7.7, 7.87]\n",
      "profits: [7.565, 7.432, 7.297]\n"
     ]
    },
    {
     "data": {
      "text/html": [
       "<p style='color:#0ff;'>number: 3 res: (True, '')</p>"
      ],
      "text/plain": [
       "<IPython.core.display.HTML object>"
      ]
     },
     "metadata": {},
     "output_type": "display_data"
    },
    {
     "name": "stdout",
     "output_type": "stream",
     "text": [
      "****************************************************************\n",
      "\n",
      "\n",
      "isPredict: True\n",
      "symbol: BTC/USDT:USDT\n",
      "market: FUTURES\n",
      "position: SHORT\n",
      "marginMode: ISOLATED\n",
      "leverage: 30\n",
      "stopLoss: 63200.0\n",
      "entries: [62900.0, 63100.0]\n",
      "profits: [62750.0, 62600.0, 62450.0]\n"
     ]
    },
    {
     "data": {
      "text/html": [
       "<p style='color:#0ff;'>number: 4 res: (True, '')</p>"
      ],
      "text/plain": [
       "<IPython.core.display.HTML object>"
      ]
     },
     "metadata": {},
     "output_type": "display_data"
    },
    {
     "name": "stdout",
     "output_type": "stream",
     "text": [
      "****************************************************************\n",
      "\n",
      "\n"
     ]
    }
   ],
   "source": [
    "msg =  \"Bingx Futures (LONG)\\n\\n📶 #DOGE/USDT\\n\\n📈Enter price: 0.14796 🔛 0.14221\\n\\n1️⃣ Target: 0.15042\\n\\n2️⃣ Target: 0.15249\\n\\n3️⃣ Target: 0.15471\\n\\n4️⃣ Target: 0.15637\\n\\n5️⃣ Target: 0.15805\\n\\n⛔️ Normal Stop Loss: 0.13952\\n\\n⚠️ 1% Risk (Isolated 3X)\\n\\nhttps://www.tradingview.com/x/ceuNvRel/\\n\\n💸  VIP\\n@Dig@persianeliteorg\"\n",
    "msg1 = \"Bingx Futures (LONG)\\n\\n📶 #BCH/USDT\\n\\n📈Enter price: 375🔛 371\\n\\n1️⃣ Target: 378.88\\n\\n2️⃣ Target: 382.77\\n\\n3️⃣ Target: 386.62\\n\\n⛔️ Normal Stop Loss: 367.30\\n\\n⚠️ 1% Risk (Isolated 6X)\\n\\nhttps://www.tradingview.com/x/qt1AOePD/\\n\\n💸  VIP\\n@Dig@persianeliteorg\"\n",
    "msg2 =  \"Bingx Futures (SHORT)\\n\\n📶 #TONCOIN/USDT\\n\\n📈Enter price: 4.80 🔛 4.88\\n\\n1️⃣ Target: 4.745\\n\\n2️⃣ Target: 4.69\\n\\n3️⃣ Target: 4.635\\n\\n⛔️ Normal Stop Loss: 4.91\\n\\n⚠️ 1% Risk (Isolated 7X)\\n\\nhttps://www.tradingview.com/x/J9maYmnq/\\n\\n💸  VIP\\n@Dig@persianeliteorg\"\n",
    "msg3 = \"Bingx Futures (SHORT)\\n\\n📶 #UNI/USDT\\n\\n📈Enter price: 7.70 🔛 7.87\\n\\n1️⃣ Target: 7.565\\n\\n2️⃣ Target: 7.432\\n\\n3️⃣ Target: 7.297\\n\\n⛔️ Normal Stop Loss: 7.97\\n\\n⚠️ 1% Risk (Isolated 4X)\\n\\nhttps://www.tradingview.com/x/xiGb28VJ/\\n\\n💸  VIP\\n@Dig@persianeliteorg\"   \n",
    "msg4 = \"Bingx Futures (SHORT)\\n\\n📶 #BTC/USDT\\n\\n📈Enter price: 62900 🔛 63100\\n\\n1️⃣ Target: 62750\\n\\n2️⃣ Target: 62600\\n\\n3️⃣ Target: 62450\\n\\n⛔️ Normal Stop Loss: 63200\\n\\n⚠️ 1% Risk (Isolated 30X)\\n\\nhttps://www.tradingview.com/x/5F8qyaDy/\\n\\n💸  VIP\\n@Dig@persianeliteorg\"\n",
    "msg5 = \"Bingx Futures (SHORT)\\n\\n📶 #BTC/USDT\\n\\n📈Enter price: 62370 🔛 62710\\n\\n1️⃣ Target: 62147\\n\\n2️⃣ Target: 61927\\n\\n3️⃣ Target: 61703\\n\\n⛔️ Normal Stop Loss: 62815\\n\\n⚠️ 1% Risk (Isolated 20X)\\n\\nhttps://www.tradingview.com/x/rPFdMMPZ/\\n\\n💸  VIP\\n@Dig@persianeliteorg\"\n",
    "\n",
    "# rastad.findTakeProfits(msg=msg4)\n",
    "await rastad.test(msg=msg5, showPrint=True)\n",
    "\n",
    "\n",
    "messages = [msg1, msg2, msg3, msg4]\n",
    "\n",
    "for i, msgTest in enumerate(messages):\n",
    "    res = await rastad.test(msg=msgTest, showPrint=True)\n",
    "    print_colored(f'number: {i+1} res: {res}', \"#0ff\" if res[0] else \"#f00f00fc\" )\n",
    "    print(\"****************************************************************\\n\\n\")\n",
    "\n"
   ]
  }
 ],
 "metadata": {
  "kernelspec": {
   "display_name": ".venv",
   "language": "python",
   "name": "python3"
  },
  "language_info": {
   "codemirror_mode": {
    "name": "ipython",
    "version": 3
   },
   "file_extension": ".py",
   "mimetype": "text/x-python",
   "name": "python",
   "nbconvert_exporter": "python",
   "pygments_lexer": "ipython3",
   "version": "3.12.6"
  }
 },
 "nbformat": 4,
 "nbformat_minor": 2
}
