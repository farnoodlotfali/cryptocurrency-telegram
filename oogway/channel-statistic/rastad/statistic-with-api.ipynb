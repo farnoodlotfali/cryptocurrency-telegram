{
 "cells": [
  {
   "cell_type": "code",
   "execution_count": null,
   "metadata": {},
   "outputs": [],
   "source": [
    "import django\n",
    "import os\n",
    "import sys\n",
    "import shutil\n",
    "\n",
    "path='../../'\n",
    "\n",
    "source_file_path = f'{path}.env'\n",
    "\n",
    "destination_file_path = '.'\n",
    "\n",
    "shutil.copy(source_file_path, destination_file_path)\n",
    "\n",
    "from dotenv import dotenv_values\n",
    "\n",
    "_config = dotenv_values(\".env\")\n",
    "_username = _config[\"username\"]\n",
    "\n",
    "session_file_path = f'{path}{_username}.session'\n",
    "\n",
    "shutil.copy(session_file_path, destination_file_path)\n",
    "\n",
    "\n",
    "project_path = path  # Adjust this to your actual project path\n",
    "sys.path.append(project_path)\n",
    "os.environ.setdefault('DJANGO_SETTINGS_MODULE', 'oogway.settings')\n",
    "django.setup()\n"
   ]
  },
  {
   "cell_type": "code",
   "execution_count": null,
   "metadata": {},
   "outputs": [],
   "source": [
    "import warnings\n",
    "from Channels.RastadChannel import RastadChannel\n",
    "from Shared.Exchange import exchange\n",
    "from Shared.helpers import convertDateToMilliTimeStamp, zero_hours_minutes_seconds\n",
    "from Shared.dataIO import load_historic_tohlcv_json\n",
    "from bisect import bisect_left\n",
    "\n",
    "rastad = RastadChannel()\n",
    "\n",
    "\n",
    "# Disable all warnings\n",
    "warnings.filterwarnings(\"ignore\")"
   ]
  },
  {
   "cell_type": "markdown",
   "metadata": {},
   "source": [
    "## Get channel history"
   ]
  },
  {
   "cell_type": "code",
   "execution_count": 3,
   "metadata": {},
   "outputs": [
    {
     "name": "stdout",
     "output_type": "stream",
     "text": [
      "ALT/USDT:USDT SHORT\n",
      "{'tps': [], 'entry_reached': [[1714556640000, 0.32003, 0.32083, 0.32002, 0.32081, 13672.17], [1714565400000, 0.33199, 0.33287, 0.33199, 0.33286, 21239.12]], 'stop_loss_reached': [1714586820000, 0.33787, 0.33945, 0.33734, 0.33812, 34106.85], 'break_reason': None}\n"
     ]
    },
    {
     "data": {
      "text/html": [
       "<p style='color:#0f0;'>********************************************************************************************************************</p>"
      ],
      "text/plain": [
       "<IPython.core.display.HTML object>"
      ]
     },
     "metadata": {},
     "output_type": "display_data"
    },
    {
     "name": "stdout",
     "output_type": "stream",
     "text": [
      "BNB/USDT:USDT SHORT\n",
      "{'tps': [], 'entry_reached': [[1714642740000, 551.96, 552.23, 551.96, 552.23, 56.79], [1714651500000, 560.88, 561.8, 560.86, 561.78, 57.41]], 'stop_loss_reached': [1714702320000, 564.86, 566.15, 564.85, 565.22, 98.04], 'break_reason': None}\n"
     ]
    },
    {
     "data": {
      "text/html": [
       "<p style='color:#0f0;'>********************************************************************************************************************</p>"
      ],
      "text/plain": [
       "<IPython.core.display.HTML object>"
      ]
     },
     "metadata": {},
     "output_type": "display_data"
    },
    {
     "name": "stdout",
     "output_type": "stream",
     "text": [
      "CHR/USDT:USDT SHORT\n",
      "{'tps': [[1714913340000, 0.2667, 0.2667, 0.2663, 0.2666, 3804.0]], 'entry_reached': [[1714904520000, 0.2705, 0.2706, 0.2704, 0.2705, 12850.0], [1714924080000, 0.2802, 0.2807, 0.28, 0.2806, 4489.0]], 'stop_loss_reached': [1714984200000, 0.2836, 0.2864, 0.2835, 0.2856, 44815.0], 'break_reason': None}\n"
     ]
    },
    {
     "data": {
      "text/html": [
       "<p style='color:#0f0;'>********************************************************************************************************************</p>"
      ],
      "text/plain": [
       "<IPython.core.display.HTML object>"
      ]
     },
     "metadata": {},
     "output_type": "display_data"
    },
    {
     "name": "stdout",
     "output_type": "stream",
     "text": [
      "BOME/USDT:USDT LONG\n",
      "{'tps': [], 'entry_reached': [[1714990620000, 0.012638, 0.012651, 0.012569, 0.012615, 7236673.0], [1714992240000, 0.012256, 0.012263, 0.012165, 0.012208, 13321069.0]], 'stop_loss_reached': [1714997940000, 0.012033, 0.012033, 0.011961, 0.011967, 5386787.0], 'break_reason': None}\n"
     ]
    },
    {
     "data": {
      "text/html": [
       "<p style='color:#0f0;'>********************************************************************************************************************</p>"
      ],
      "text/plain": [
       "<IPython.core.display.HTML object>"
      ]
     },
     "metadata": {},
     "output_type": "display_data"
    },
    {
     "name": "stdout",
     "output_type": "stream",
     "text": [
      "REN/USDT:USDT LONG\n",
      "{'tps': [[1715080560000, 0.061201, 0.06126, 0.06116, 0.061199, 271045.0], [1715094060000, 0.061889, 0.061999, 0.06184, 0.061991, 212957.0]], 'entry_reached': [[1715077140000, 0.0607, 0.0607, 0.060591, 0.060599, 35296.0], [1715128260000, 0.059079, 0.059079, 0.058871, 0.058889, 11136.0]], 'stop_loss_reached': [1715149080000, 0.058391, 0.058399, 0.058159, 0.058191, 84623.0], 'break_reason': None}\n"
     ]
    },
    {
     "data": {
      "text/html": [
       "<p style='color:#0f0;'>********************************************************************************************************************</p>"
      ],
      "text/plain": [
       "<IPython.core.display.HTML object>"
      ]
     },
     "metadata": {},
     "output_type": "display_data"
    },
    {
     "name": "stdout",
     "output_type": "stream",
     "text": [
      "TRB/USDT:USDT LONG\n",
      "{'tps': [[1715150280000, 115.866, 116.779, 115.866, 116.529, 1893.42], [1715151660000, 117.057, 118.327, 116.95, 117.994, 5150.83], [1715155440000, 117.863, 122.369, 117.82, 120.29, 13861.53], [1715155920000, 120.354, 121.564, 120.304, 120.783, 2017.51], [1715156580000, 122.029, 123.641, 121.973, 123.271, 8284.74]], 'entry_reached': [[1715142180000, 114.945, 114.96, 113.776, 113.937, 3831.4]], 'stop_loss_reached': None, 'break_reason': None}\n"
     ]
    },
    {
     "data": {
      "text/html": [
       "<p style='color:#0f0;'>********************************************************************************************************************</p>"
      ],
      "text/plain": [
       "<IPython.core.display.HTML object>"
      ]
     },
     "metadata": {},
     "output_type": "display_data"
    },
    {
     "name": "stdout",
     "output_type": "stream",
     "text": [
      "SAGA/USDT:USDT SHORT\n",
      "{'tps': [[1715164440000, 2.8803, 2.8847, 2.8609, 2.8637, 11471.52], [1715164620000, 2.8571, 2.8616, 2.8096, 2.8115, 10337.22], [1715199540000, 2.8036, 2.8099, 2.7547, 2.7687, 16138.77], [1715352840000, 2.7741, 2.7763, 2.7328, 2.7387, 13825.44], [1715357160000, 2.7044, 2.7182, 2.6988, 2.7177, 14176.18]], 'entry_reached': [[1715163840000, 2.909, 2.9103, 2.9073, 2.908, 4055.12]], 'stop_loss_reached': None, 'break_reason': None}\n"
     ]
    },
    {
     "data": {
      "text/html": [
       "<p style='color:#0f0;'>********************************************************************************************************************</p>"
      ],
      "text/plain": [
       "<IPython.core.display.HTML object>"
      ]
     },
     "metadata": {},
     "output_type": "display_data"
    },
    {
     "name": "stdout",
     "output_type": "stream",
     "text": [
      "PERP/USDT:USDT LONG\n",
      "{'tps': [[1715256360000, 1.0605, 1.0654, 1.0605, 1.0619, 45089.0], [1715257920000, 1.0774, 1.0801, 1.0774, 1.08, 4848.0], [1715265180000, 1.0908, 1.0928, 1.0889, 1.0889, 5712.0], [1715266200000, 1.0993, 1.1058, 1.0993, 1.1039, 17593.0], [1715267280000, 1.1112, 1.1201, 1.1112, 1.1187, 7760.0]], 'entry_reached': [[1715249880000, 1.049, 1.0494, 1.0481, 1.0481, 4307.0]], 'stop_loss_reached': None, 'break_reason': None}\n"
     ]
    },
    {
     "data": {
      "text/html": [
       "<p style='color:#0f0;'>********************************************************************************************************************</p>"
      ],
      "text/plain": [
       "<IPython.core.display.HTML object>"
      ]
     },
     "metadata": {},
     "output_type": "display_data"
    },
    {
     "name": "stdout",
     "output_type": "stream",
     "text": [
      "SUSHI/USDT:USDT LONG\n",
      "{'tps': [[1715337600000, 1.1455, 1.1491, 1.1453, 1.149, 5378.0]], 'entry_reached': [[1715333880000, 1.136, 1.1368, 1.1326, 1.1329, 30359.0], [1715356860000, 1.0938, 1.0939, 1.0907, 1.0907, 20172.0]], 'stop_loss_reached': [1715358840000, 1.0741, 1.0745, 1.0716, 1.0723, 18480.0], 'break_reason': None}\n"
     ]
    },
    {
     "data": {
      "text/html": [
       "<p style='color:#0f0;'>********************************************************************************************************************</p>"
      ],
      "text/plain": [
       "<IPython.core.display.HTML object>"
      ]
     },
     "metadata": {},
     "output_type": "display_data"
    },
    {
     "name": "stdout",
     "output_type": "stream",
     "text": [
      "BTC/USDT:USDT SHORT\n",
      "{'tps': [], 'entry_reached': [[1715494080000, 61029.9, 61029.9, 61011.8, 61011.8, 9.32], [1715586720000, 61684.2, 62046.7, 61667.9, 61951.1, 266.62]], 'stop_loss_reached': [1715587200000, 62302.1, 62579.2, 62301.1, 62513.6, 230.03], 'break_reason': None}\n"
     ]
    },
    {
     "data": {
      "text/html": [
       "<p style='color:#0f0;'>********************************************************************************************************************</p>"
      ],
      "text/plain": [
       "<IPython.core.display.HTML object>"
      ]
     },
     "metadata": {},
     "output_type": "display_data"
    },
    {
     "name": "stdout",
     "output_type": "stream",
     "text": [
      "SAGA/USDT:USDT SHORT\n",
      "{'tps': [[1715533320000, 2.8481, 2.8496, 2.8411, 2.847, 6007.14], [1715548980000, 2.8155, 2.8155, 2.805, 2.8074, 3517.88], [1715564100000, 2.7755, 2.7757, 2.7562, 2.7582, 2358.39], [1715564700000, 2.7468, 2.7514, 2.7287, 2.7514, 9844.3], [1715567400000, 2.7055, 2.7071, 2.651, 2.6558, 6698.12]], 'entry_reached': [[1715513520000, 2.8798, 2.8863, 2.8776, 2.8855, 4128.01]], 'stop_loss_reached': None, 'break_reason': None}\n"
     ]
    },
    {
     "data": {
      "text/html": [
       "<p style='color:#0f0;'>********************************************************************************************************************</p>"
      ],
      "text/plain": [
       "<IPython.core.display.HTML object>"
      ]
     },
     "metadata": {},
     "output_type": "display_data"
    },
    {
     "name": "stdout",
     "output_type": "stream",
     "text": [
      "APT/USDT:USDT LONG\n",
      "{'tps': [], 'entry_reached': [[1715619720000, 8.4581, 8.4613, 8.4399, 8.4408, 720.8], [1715623920000, 8.232, 8.2322, 8.2177, 8.2177, 1075.7]], 'stop_loss_reached': [1715651040000, 8.1361, 8.1362, 8.1164, 8.1164, 2374.1], 'break_reason': None}\n"
     ]
    },
    {
     "data": {
      "text/html": [
       "<p style='color:#0f0;'>********************************************************************************************************************</p>"
      ],
      "text/plain": [
       "<IPython.core.display.HTML object>"
      ]
     },
     "metadata": {},
     "output_type": "display_data"
    },
    {
     "name": "stdout",
     "output_type": "stream",
     "text": [
      "ALGO/USDT:USDT SHORT\n",
      "{'tps': [[1715667120000, 0.1742, 0.1745, 0.1738, 0.1743, 77515.8], [1715696220000, 0.1717, 0.1717, 0.1713, 0.1715, 28850.7]], 'entry_reached': [[1715659260000, 0.1761, 0.1765, 0.1761, 0.1765, 25862.3], [1715797860000, 0.1826, 0.1828, 0.1823, 0.1823, 28044.7]], 'stop_loss_reached': [1716012000000, 0.1859, 0.1864, 0.1857, 0.1863, 14953.0], 'break_reason': None}\n"
     ]
    },
    {
     "data": {
      "text/html": [
       "<p style='color:#0f0;'>********************************************************************************************************************</p>"
      ],
      "text/plain": [
       "<IPython.core.display.HTML object>"
      ]
     },
     "metadata": {},
     "output_type": "display_data"
    },
    {
     "name": "stdout",
     "output_type": "stream",
     "text": [
      "JASMY/USDT:USDT LONG\n",
      "{'tps': [[1715852760000, 0.020113, 0.020292, 0.020111, 0.020263, 1618171.0], [1715858880000, 0.020438, 0.020483, 0.020417, 0.020436, 132878.0], [1715942580000, 0.020616, 0.020971, 0.020616, 0.020965, 3693905.0], [1715942640000, 0.020964, 0.021319, 0.020947, 0.021305, 2232638.0], [1715942700000, 0.021307, 0.021324, 0.021067, 0.021177, 2747882.0]], 'entry_reached': [[1715850120000, 0.020053, 0.020092, 0.019995, 0.019999, 918684.0], [1715880540000, 0.019538, 0.01954, 0.019466, 0.01949, 1330291.0]], 'stop_loss_reached': None, 'break_reason': None}\n"
     ]
    },
    {
     "data": {
      "text/html": [
       "<p style='color:#0f0;'>********************************************************************************************************************</p>"
      ],
      "text/plain": [
       "<IPython.core.display.HTML object>"
      ]
     },
     "metadata": {},
     "output_type": "display_data"
    },
    {
     "name": "stdout",
     "output_type": "stream",
     "text": [
      "TNSR/USDT:USDT LONG\n",
      "{'tps': [], 'entry_reached': [[1715862000000, 0.885, 0.886, 0.875, 0.876, 18616.06], [1715869380000, 0.849, 0.85, 0.842, 0.845, 16491.61]], 'stop_loss_reached': [1715871060000, 0.829, 0.829, 0.82, 0.824, 45306.81], 'break_reason': None}\n"
     ]
    },
    {
     "data": {
      "text/html": [
       "<p style='color:#0f0;'>********************************************************************************************************************</p>"
      ],
      "text/plain": [
       "<IPython.core.display.HTML object>"
      ]
     },
     "metadata": {},
     "output_type": "display_data"
    },
    {
     "name": "stdout",
     "output_type": "stream",
     "text": [
      "SHIB/USDT:USDT LONG\n",
      "{'tps': [[1715959320000, 2.5057e-05, 2.513e-05, 2.5057e-05, 2.511e-05, 2323826000.0], [1716244980000, 2.5427e-05, 2.5476e-05, 2.5424e-05, 2.5475e-05, 1210118000.0], [1716245280000, 2.5678e-05, 2.5833e-05, 2.5678e-05, 2.5768e-05, 5494522000.0], [1716249600000, 2.6055e-05, 2.6115e-05, 2.6027e-05, 2.605e-05, 9917260000.0], [1716299040000, 2.6289e-05, 2.6443e-05, 2.626e-05, 2.6424e-05, 5476901000.0]], 'entry_reached': [[1715933220000, 2.4791e-05, 2.4792e-05, 2.474e-05, 2.474e-05, 830946000.0], [1716137580000, 2.3836e-05, 2.3847e-05, 2.3809e-05, 2.3828e-05, 1271642000.0]], 'stop_loss_reached': None, 'break_reason': None}\n"
     ]
    },
    {
     "data": {
      "text/html": [
       "<p style='color:#0f0;'>********************************************************************************************************************</p>"
      ],
      "text/plain": [
       "<IPython.core.display.HTML object>"
      ]
     },
     "metadata": {},
     "output_type": "display_data"
    },
    {
     "name": "stdout",
     "output_type": "stream",
     "text": [
      "INJ/USDT:USDT LONG\n",
      "{'tps': [[1716193500000, 25.213, 25.307, 25.202, 25.303, 2515.0], [1716194580000, 25.565, 25.609, 25.542, 25.597, 2055.0], [1716217920000, 25.975, 26.057, 25.955, 26.054, 2782.0], [1716218220000, 26.173, 26.264, 26.172, 26.22, 2200.0], [1716218580000, 26.51, 26.566, 26.485, 26.488, 2628.0]], 'entry_reached': [[1716031740000, 24.892, 24.892, 24.866, 24.867, 1527.0], [1716167760000, 24.004, 24.004, 23.904, 23.923, 2692.0]], 'stop_loss_reached': None, 'break_reason': None}\n"
     ]
    },
    {
     "data": {
      "text/html": [
       "<p style='color:#0f0;'>********************************************************************************************************************</p>"
      ],
      "text/plain": [
       "<IPython.core.display.HTML object>"
      ]
     },
     "metadata": {},
     "output_type": "display_data"
    },
    {
     "name": "stdout",
     "output_type": "stream",
     "text": [
      "GALA/USDT:USDT LONG\n",
      "{'tps': [[1716221040000, 0.04418, 0.04436, 0.04418, 0.04431, 1170857.0], [1716223200000, 0.0447, 0.04486, 0.04468, 0.04482, 867203.0], [1716223680000, 0.04515, 0.04535, 0.04514, 0.04534, 233445.0], [1716223980000, 0.04546, 0.04596, 0.04545, 0.04585, 2371333.0], [1716224040000, 0.04585, 0.04603, 0.04579, 0.04595, 5236113.0]], 'entry_reached': [[1716201300000, 0.04382, 0.04384, 0.04377, 0.04382, 70638.0]], 'stop_loss_reached': None, 'break_reason': None}\n"
     ]
    },
    {
     "data": {
      "text/html": [
       "<p style='color:#0f0;'>********************************************************************************************************************</p>"
      ],
      "text/plain": [
       "<IPython.core.display.HTML object>"
      ]
     },
     "metadata": {},
     "output_type": "display_data"
    },
    {
     "name": "stdout",
     "output_type": "stream",
     "text": [
      "TRU/USDT:USDT LONG\n",
      "{'tps': [[1716220200000, 0.13214, 0.13305, 0.13212, 0.13295, 214748.0]], 'entry_reached': [[1716207420000, 0.13077, 0.13085, 0.13076, 0.13085, 8754.0], [1716254520000, 0.12682, 0.1269, 0.12656, 0.12659, 8224.0]], 'stop_loss_reached': [1716342000000, 0.12451, 0.12457, 0.12421, 0.1243, 52264.0], 'break_reason': None}\n"
     ]
    },
    {
     "data": {
      "text/html": [
       "<p style='color:#0f0;'>********************************************************************************************************************</p>"
      ],
      "text/plain": [
       "<IPython.core.display.HTML object>"
      ]
     },
     "metadata": {},
     "output_type": "display_data"
    },
    {
     "name": "stdout",
     "output_type": "stream",
     "text": [
      "NOT/USDT:USDT LONG\n",
      "{'tps': [[1716293700000, 0.005407, 0.005424, 0.005394, 0.005423, 7667177.0], [1716301860000, 0.00548, 0.005519, 0.005479, 0.005515, 14270705.0], [1716303060000, 0.005573, 0.005629, 0.005572, 0.005625, 30611120.0], [1716303180000, 0.005609, 0.005644, 0.005607, 0.005635, 35244298.0], [1716307500000, 0.00571, 0.005747, 0.005709, 0.005728, 27534977.0]], 'entry_reached': [[1716292860000, 0.005353, 0.005365, 0.00535, 0.005357, 38551002.0]], 'stop_loss_reached': None, 'break_reason': None}\n"
     ]
    },
    {
     "data": {
      "text/html": [
       "<p style='color:#0f0;'>********************************************************************************************************************</p>"
      ],
      "text/plain": [
       "<IPython.core.display.HTML object>"
      ]
     },
     "metadata": {},
     "output_type": "display_data"
    },
    {
     "name": "stdout",
     "output_type": "stream",
     "text": [
      "PEOPLE/USDT:USDT LONG\n",
      "{'tps': [[1716309840000, 0.04862, 0.04922, 0.04855, 0.0491, 1531347.0], [1716310020000, 0.04925, 0.04966, 0.04923, 0.0496, 3868532.0], [1716310980000, 0.05008, 0.05022, 0.04994, 0.05005, 1421807.0], [1716311280000, 0.05033, 0.05063, 0.05031, 0.05048, 1933617.0], [1716328620000, 0.05076, 0.05133, 0.05076, 0.05113, 2904950.0]], 'entry_reached': [[1716306900000, 0.04902, 0.04909, 0.0484, 0.0485, 2924375.0]], 'stop_loss_reached': None, 'break_reason': None}\n"
     ]
    },
    {
     "data": {
      "text/html": [
       "<p style='color:#0f0;'>********************************************************************************************************************</p>"
      ],
      "text/plain": [
       "<IPython.core.display.HTML object>"
      ]
     },
     "metadata": {},
     "output_type": "display_data"
    },
    {
     "name": "stdout",
     "output_type": "stream",
     "text": [
      "MTL/USDT:USDT LONG\n",
      "{'tps': [[1716398160000, 1.9941, 2.0021, 1.9927, 2.002, 3080.0]], 'entry_reached': [[1716381240000, 1.9818, 1.9819, 1.9788, 1.9794, 4015.0], [1716456720000, 1.9331, 1.9331, 1.9213, 1.9237, 3196.0]], 'stop_loss_reached': [1716468960000, 1.9224, 1.9224, 1.9011, 1.9067, 5916.0], 'break_reason': None}\n"
     ]
    },
    {
     "data": {
      "text/html": [
       "<p style='color:#0f0;'>********************************************************************************************************************</p>"
      ],
      "text/plain": [
       "<IPython.core.display.HTML object>"
      ]
     },
     "metadata": {},
     "output_type": "display_data"
    },
    {
     "name": "stdout",
     "output_type": "stream",
     "text": [
      "LDO/USDT:USDT LONG\n",
      "{'tps': [], 'entry_reached': [[1716636900000, 2.5457, 2.5457, 2.5339, 2.5369, 6757.0], [1716644040000, 2.4741, 2.4741, 2.4666, 2.4666, 9241.0]], 'stop_loss_reached': [1716673320000, 2.4412, 2.4412, 2.4345, 2.4348, 16418.0], 'break_reason': None}\n"
     ]
    },
    {
     "data": {
      "text/html": [
       "<p style='color:#0f0;'>********************************************************************************************************************</p>"
      ],
      "text/plain": [
       "<IPython.core.display.HTML object>"
      ]
     },
     "metadata": {},
     "output_type": "display_data"
    },
    {
     "name": "stdout",
     "output_type": "stream",
     "text": [
      "BTC/USDT:USDT SHORT\n",
      "{'tps': [[1716713220000, 69185.4, 69185.4, 69101.4, 69112.3, 31.93], [1716726900000, 68990.9, 68990.9, 68938.7, 68987.6, 47.6], [1716738420000, 68940.3, 68940.3, 68644.9, 68780.0, 212.04], [1716757980000, 68620.4, 68620.4, 68544.4, 68573.5, 86.99], [1716759120000, 68567.2, 68569.1, 68137.6, 68329.9, 183.77]], 'entry_reached': [[1716710220000, 69293.4, 69331.6, 69292.0, 69331.6, 15.89]], 'stop_loss_reached': None, 'break_reason': None}\n"
     ]
    },
    {
     "data": {
      "text/html": [
       "<p style='color:#0f0;'>********************************************************************************************************************</p>"
      ],
      "text/plain": [
       "<IPython.core.display.HTML object>"
      ]
     },
     "metadata": {},
     "output_type": "display_data"
    },
    {
     "name": "stdout",
     "output_type": "stream",
     "text": [
      "TIA/USDT:USDT SHORT\n",
      "{'tps': [], 'entry_reached': [[1716813960000, 9.1367, 9.1473, 9.1367, 9.1439, 438.32], [1716828000000, 9.6079, 9.6648, 9.6079, 9.6513, 4052.3]], 'stop_loss_reached': [1716841560000, 9.7442, 9.7575, 9.7105, 9.7171, 5885.23], 'break_reason': None}\n"
     ]
    },
    {
     "data": {
      "text/html": [
       "<p style='color:#0f0;'>********************************************************************************************************************</p>"
      ],
      "text/plain": [
       "<IPython.core.display.HTML object>"
      ]
     },
     "metadata": {},
     "output_type": "display_data"
    },
    {
     "name": "stdout",
     "output_type": "stream",
     "text": [
      "WLD/USDT:USDT SHORT\n"
     ]
    },
    {
     "data": {
      "text/html": [
       "<p style='color:#c01;'>json, 1716841800000</p>"
      ],
      "text/plain": [
       "<IPython.core.display.HTML object>"
      ]
     },
     "metadata": {},
     "output_type": "display_data"
    },
    {
     "data": {
      "text/html": [
       "<p style='color:#fd03a1;'>stop_timestamp</p>"
      ],
      "text/plain": [
       "<IPython.core.display.HTML object>"
      ]
     },
     "metadata": {},
     "output_type": "display_data"
    },
    {
     "data": {
      "text/html": [
       "<p style='color:#ada;'>saving historic tohlcv data to json</p>"
      ],
      "text/plain": [
       "<IPython.core.display.HTML object>"
      ]
     },
     "metadata": {},
     "output_type": "display_data"
    },
    {
     "name": "stdout",
     "output_type": "stream",
     "text": [
      "{'tps': [[1716898080000, 4.6303, 4.6325, 4.6263, 4.6307, 8112.06], [1716907560000, 4.5626, 4.5674, 4.5568, 4.564, 23834.83]], 'entry_reached': [[1716891960000, 4.6857, 4.6913, 4.6853, 4.6867, 8489.45], [1716963360000, 4.8469, 4.8611, 4.8468, 4.8578, 6236.8]], 'stop_loss_reached': [1716973380000, 4.8878, 4.932, 4.8878, 4.9232, 17999.97], 'break_reason': None}\n"
     ]
    },
    {
     "data": {
      "text/html": [
       "<p style='color:#0f0;'>********************************************************************************************************************</p>"
      ],
      "text/plain": [
       "<IPython.core.display.HTML object>"
      ]
     },
     "metadata": {},
     "output_type": "display_data"
    },
    {
     "data": {
      "text/html": [
       "<p style='color:#FFFF00;'>waiting 5 min...</p>"
      ],
      "text/plain": [
       "<IPython.core.display.HTML object>"
      ]
     },
     "metadata": {},
     "output_type": "display_data"
    },
    {
     "name": "stdout",
     "output_type": "stream",
     "text": [
      "NEAR/USDT:USDT SHORT\n",
      "{'tps': [[1717332900000, 7.4019, 7.404, 7.3951, 7.404, 5561.0], [1717339260000, 7.3516, 7.352, 7.3485, 7.3503, 4279.0], [1717345560000, 7.3114, 7.3114, 7.304, 7.3046, 2072.0], [1717346400000, 7.2741, 7.2745, 7.2695, 7.2716, 5778.0], [1717348620000, 7.2326, 7.2329, 7.217, 7.2201, 5386.0]], 'entry_reached': [[1717323660000, 7.4391, 7.4495, 7.4371, 7.4481, 2050.0]], 'stop_loss_reached': None, 'break_reason': None}\n"
     ]
    },
    {
     "data": {
      "text/html": [
       "<p style='color:#0f0;'>********************************************************************************************************************</p>"
      ],
      "text/plain": [
       "<IPython.core.display.HTML object>"
      ]
     },
     "metadata": {},
     "output_type": "display_data"
    },
    {
     "name": "stdout",
     "output_type": "stream",
     "text": [
      "YGG/USDT:USDT LONG\n"
     ]
    },
    {
     "data": {
      "text/html": [
       "<p style='color:#c01;'>json, 1717360200000</p>"
      ],
      "text/plain": [
       "<IPython.core.display.HTML object>"
      ]
     },
     "metadata": {},
     "output_type": "display_data"
    },
    {
     "data": {
      "text/html": [
       "<p style='color:#fd03a1;'>stop_timestamp</p>"
      ],
      "text/plain": [
       "<IPython.core.display.HTML object>"
      ]
     },
     "metadata": {},
     "output_type": "display_data"
    },
    {
     "data": {
      "text/html": [
       "<p style='color:#ada;'>saving historic tohlcv data to json</p>"
      ],
      "text/plain": [
       "<IPython.core.display.HTML object>"
      ]
     },
     "metadata": {},
     "output_type": "display_data"
    },
    {
     "name": "stdout",
     "output_type": "stream",
     "text": [
      "{'tps': [[1717417080000, 1.1373, 1.1468, 1.1371, 1.1451, 19000.0], [1717496340000, 1.1547, 1.1583, 1.1544, 1.157, 19502.0]], 'entry_reached': [[1717413060000, 1.1333, 1.1335, 1.1318, 1.1334, 5483.0], [1717472880000, 1.1058, 1.1069, 1.103, 1.1045, 8059.0]], 'stop_loss_reached': [1717513620000, 1.0939, 1.0939, 1.0858, 1.0876, 17364.0], 'break_reason': None}\n"
     ]
    },
    {
     "data": {
      "text/html": [
       "<p style='color:#0f0;'>********************************************************************************************************************</p>"
      ],
      "text/plain": [
       "<IPython.core.display.HTML object>"
      ]
     },
     "metadata": {},
     "output_type": "display_data"
    },
    {
     "name": "stdout",
     "output_type": "stream",
     "text": [
      "SOL/USDT:USDT SHORT\n"
     ]
    },
    {
     "data": {
      "text/html": [
       "<p style='color:#c01;'>json, 1717446600000</p>"
      ],
      "text/plain": [
       "<IPython.core.display.HTML object>"
      ]
     },
     "metadata": {},
     "output_type": "display_data"
    },
    {
     "data": {
      "text/html": [
       "<p style='color:#fd03a1;'>stop_timestamp</p>"
      ],
      "text/plain": [
       "<IPython.core.display.HTML object>"
      ]
     },
     "metadata": {},
     "output_type": "display_data"
    },
    {
     "data": {
      "text/html": [
       "<p style='color:#ada;'>saving historic tohlcv data to json</p>"
      ],
      "text/plain": [
       "<IPython.core.display.HTML object>"
      ]
     },
     "metadata": {},
     "output_type": "display_data"
    },
    {
     "name": "stdout",
     "output_type": "stream",
     "text": [
      "{'tps': [], 'entry_reached': [[1717496640000, 165.318, 165.386, 165.308, 165.386, 1272.0], [1717516320000, 167.098, 167.657, 167.094, 167.604, 3619.0]], 'stop_loss_reached': [1717518900000, 169.071, 169.504, 169.071, 169.466, 2552.0], 'break_reason': None}\n"
     ]
    },
    {
     "data": {
      "text/html": [
       "<p style='color:#0f0;'>********************************************************************************************************************</p>"
      ],
      "text/plain": [
       "<IPython.core.display.HTML object>"
      ]
     },
     "metadata": {},
     "output_type": "display_data"
    },
    {
     "name": "stdout",
     "output_type": "stream",
     "text": [
      "TONCOIN/USDT:USDT LONG\n",
      "{'tps': [[1718224680000, 7.328, 7.345, 7.328, 7.342, 457.9], [1718233980000, 7.445, 7.454, 7.441, 7.45, 235.7], [1718238660000, 7.544, 7.558, 7.543, 7.555, 552.4], [1718241300000, 7.609, 7.63, 7.608, 7.612, 266.6], [1718318700000, 7.701, 7.727, 7.691, 7.707, 8306.7]], 'entry_reached': [[1718221620000, 7.264, 7.266, 7.225, 7.231, 5160.5]], 'stop_loss_reached': None, 'break_reason': None}\n"
     ]
    },
    {
     "data": {
      "text/html": [
       "<p style='color:#0f0;'>********************************************************************************************************************</p>"
      ],
      "text/plain": [
       "<IPython.core.display.HTML object>"
      ]
     },
     "metadata": {},
     "output_type": "display_data"
    },
    {
     "name": "stdout",
     "output_type": "stream",
     "text": [
      "FTM/USDT:USDT SHORT\n",
      "{'tps': [[1718292960000, 0.6374, 0.6376, 0.6359, 0.637, 51076.0], [1718381280000, 0.63, 0.6302, 0.6125, 0.6207, 549715.0], [1718381340000, 0.6204, 0.6221, 0.6078, 0.6171, 622235.0], [1718389320000, 0.6083, 0.6084, 0.6027, 0.604, 115262.0], [1718618580000, 0.5983, 0.5983, 0.5941, 0.5942, 47389.0]], 'entry_reached': [[1718261160000, 0.6525, 0.6533, 0.6524, 0.6526, 3161.0]], 'stop_loss_reached': None, 'break_reason': None}\n"
     ]
    },
    {
     "data": {
      "text/html": [
       "<p style='color:#0f0;'>********************************************************************************************************************</p>"
      ],
      "text/plain": [
       "<IPython.core.display.HTML object>"
      ]
     },
     "metadata": {},
     "output_type": "display_data"
    },
    {
     "name": "stdout",
     "output_type": "stream",
     "text": [
      "CHR/USDT:USDT LONG\n",
      "{'tps': [[1718272500000, 0.2895, 0.2901, 0.2894, 0.2899, 3105.0], [1718281800000, 0.2896, 0.2933, 0.2894, 0.2923, 16558.0]], 'entry_reached': [[1718271000000, 0.2884, 0.2884, 0.2879, 0.288, 23136.0], [1718292660000, 0.2847, 0.285, 0.2832, 0.2837, 18130.0]], 'stop_loss_reached': [1718293320000, 0.2808, 0.2808, 0.2791, 0.2793, 19422.0], 'break_reason': None}\n"
     ]
    },
    {
     "data": {
      "text/html": [
       "<p style='color:#0f0;'>********************************************************************************************************************</p>"
      ],
      "text/plain": [
       "<IPython.core.display.HTML object>"
      ]
     },
     "metadata": {},
     "output_type": "display_data"
    },
    {
     "name": "stdout",
     "output_type": "stream",
     "text": [
      "BTC/USDT:USDT SHORT\n",
      "{'tps': [[1718375460000, 66719.5, 66720.4, 66550.6, 66554.8, 40.35], [1718381220000, 66278.1, 66325.6, 66237.1, 66239.7, 76.81], [1718381340000, 66089.4, 66132.9, 65440.0, 65739.4, 800.37], [1718382420000, 65647.5, 65648.7, 65513.8, 65562.0, 66.49], [1718383320000, 65300.4, 65477.3, 65154.0, 65477.3, 184.56]], 'entry_reached': [[1718352660000, 67075.7, 67101.5, 67051.5, 67095.9, 32.62]], 'stop_loss_reached': None, 'break_reason': None}\n"
     ]
    },
    {
     "data": {
      "text/html": [
       "<p style='color:#0f0;'>********************************************************************************************************************</p>"
      ],
      "text/plain": [
       "<IPython.core.display.HTML object>"
      ]
     },
     "metadata": {},
     "output_type": "display_data"
    },
    {
     "name": "stdout",
     "output_type": "stream",
     "text": [
      "AAVE/USDT:USDT LONG\n",
      "{'tps': [[1718386140000, 82.59, 82.65, 82.52, 82.64, 161.7], [1718400540000, 83.32, 83.41, 83.32, 83.4, 245.5], [1718400900000, 83.87, 84.06, 83.84, 84.05, 209.2], [1718420640000, 84.57, 84.58, 84.53, 84.54, 164.0], [1718428740000, 84.86, 85.11, 84.85, 85.11, 256.3]], 'entry_reached': [[1718385180000, 82.03, 82.12, 81.99, 82.11, 198.1]], 'stop_loss_reached': None, 'break_reason': None}\n"
     ]
    },
    {
     "data": {
      "text/html": [
       "<p style='color:#0f0;'>********************************************************************************************************************</p>"
      ],
      "text/plain": [
       "<IPython.core.display.HTML object>"
      ]
     },
     "metadata": {},
     "output_type": "display_data"
    },
    {
     "name": "stdout",
     "output_type": "stream",
     "text": [
      "SOL/USDT:USDT SHORT\n",
      "{'tps': [[1718619420000, 142.926, 143.124, 142.548, 142.739, 10061.0], [1718639580000, 141.615, 141.626, 141.121, 141.242, 6252.0], [1718673540000, 139.545, 139.75, 139.385, 139.73, 3814.0], [1718673780000, 138.8, 138.8, 136.16, 137.755, 14662.0], [1718674500000, 137.221, 137.267, 136.223, 136.417, 3630.0]], 'entry_reached': [[1718451360000, 144.25, 144.32, 144.245, 144.309, 1849.0]], 'stop_loss_reached': None, 'break_reason': None}\n"
     ]
    },
    {
     "data": {
      "text/html": [
       "<p style='color:#0f0;'>********************************************************************************************************************</p>"
      ],
      "text/plain": [
       "<IPython.core.display.HTML object>"
      ]
     },
     "metadata": {},
     "output_type": "display_data"
    },
    {
     "name": "stdout",
     "output_type": "stream",
     "text": [
      "RIF/USDT:USDT LONG\n",
      "{'tps': [], 'entry_reached': [[1718446380000, 0.1213, 0.1213, 0.1205, 0.121, 71117.82], [1718448060000, 0.1177, 0.1178, 0.1162, 0.1166, 243996.2]], 'stop_loss_reached': [1718449020000, 0.1154, 0.1155, 0.1146, 0.1152, 285208.33], 'break_reason': None}\n"
     ]
    },
    {
     "data": {
      "text/html": [
       "<p style='color:#0f0;'>********************************************************************************************************************</p>"
      ],
      "text/plain": [
       "<IPython.core.display.HTML object>"
      ]
     },
     "metadata": {},
     "output_type": "display_data"
    },
    {
     "name": "stdout",
     "output_type": "stream",
     "text": [
      "AVAX/USDT:USDT SHORT\n",
      "{'tps': [[1718478480000, 30.005, 30.005, 29.939, 29.98, 2239.0], [1718563920000, 29.796, 29.817, 29.719, 29.766, 4667.0], [1718589660000, 29.708, 29.708, 29.55, 29.552, 2706.0], [1718594340000, 29.427, 29.437, 29.409, 29.427, 2622.0], [1718604300000, 29.339, 29.34, 29.2, 29.228, 8076.0]], 'entry_reached': [[1718456220000, 30.133, 30.188, 30.131, 30.166, 2665.0]], 'stop_loss_reached': None, 'break_reason': None}\n"
     ]
    },
    {
     "data": {
      "text/html": [
       "<p style='color:#0f0;'>********************************************************************************************************************</p>"
      ],
      "text/plain": [
       "<IPython.core.display.HTML object>"
      ]
     },
     "metadata": {},
     "output_type": "display_data"
    },
    {
     "name": "stdout",
     "output_type": "stream",
     "text": [
      "WOO/USDT:USDT LONG\n",
      "{'tps': [[1718543220000, 0.24788, 0.2484, 0.24786, 0.24802, 20484.0], [1718546700000, 0.24918, 0.24955, 0.24908, 0.24934, 15852.0], [1718547060000, 0.25031, 0.25055, 0.25029, 0.25043, 16491.0], [1718547180000, 0.25074, 0.25136, 0.25072, 0.25134, 28060.0], [1718575680000, 0.25173, 0.25217, 0.25173, 0.25187, 8384.0]], 'entry_reached': [[1718537940000, 0.24758, 0.2476, 0.24743, 0.24746, 69883.0]], 'stop_loss_reached': None, 'break_reason': None}\n"
     ]
    },
    {
     "data": {
      "text/html": [
       "<p style='color:#0f0;'>********************************************************************************************************************</p>"
      ],
      "text/plain": [
       "<IPython.core.display.HTML object>"
      ]
     },
     "metadata": {},
     "output_type": "display_data"
    },
    {
     "name": "stdout",
     "output_type": "stream",
     "text": [
      "LPT/USDT:USDT LONG\n",
      "{'tps': [[1718620260000, 20.753, 20.807, 20.743, 20.804, 477.9], [1718621340000, 20.883, 20.954, 20.872, 20.951, 455.7], [1718623140000, 21.031, 21.124, 21.03, 21.113, 286.8]], 'entry_reached': [[1718617200000, 20.658, 20.673, 20.624, 20.63, 445.7], [1718632500000, 20.397, 20.405, 20.328, 20.331, 1052.9]], 'stop_loss_reached': [1718639460000, 20.342, 20.343, 20.198, 20.209, 1060.2], 'break_reason': None}\n"
     ]
    },
    {
     "data": {
      "text/html": [
       "<p style='color:#0f0;'>********************************************************************************************************************</p>"
      ],
      "text/plain": [
       "<IPython.core.display.HTML object>"
      ]
     },
     "metadata": {},
     "output_type": "display_data"
    },
    {
     "name": "stdout",
     "output_type": "stream",
     "text": [
      "BTC/USDT:USDT SHORT\n",
      "{'tps': [[1718628480000, 65573.7, 65574.2, 65483.9, 65549.3, 81.54], [1718632380000, 65230.1, 65246.4, 65195.1, 65228.3, 87.78], [1718674980000, 65315.1, 65331.4, 64669.1, 64736.1, 490.22], [1718719500000, 64656.0, 64675.5, 64500.0, 64549.4, 170.46], [1718723460000, 64385.5, 64417.8, 64194.3, 64339.4, 201.74]], 'entry_reached': [[1718622300000, 65963.0, 66017.2, 65962.8, 65977.7, 51.07], [1718648220000, 66944.6, 67046.4, 66932.6, 66944.2, 137.71]], 'stop_loss_reached': None, 'break_reason': None}\n"
     ]
    },
    {
     "data": {
      "text/html": [
       "<p style='color:#0f0;'>********************************************************************************************************************</p>"
      ],
      "text/plain": [
       "<IPython.core.display.HTML object>"
      ]
     },
     "metadata": {},
     "output_type": "display_data"
    },
    {
     "name": "stdout",
     "output_type": "stream",
     "text": [
      "TONCOIN/USDT:USDT LONG\n",
      "{'tps': [], 'entry_reached': [[1718691360000, 7.454, 7.455, 7.448, 7.451, 872.5], [1718717460000, 7.019, 7.02, 6.997, 7.006, 5906.7]], 'stop_loss_reached': [1718789040000, 6.894, 6.897, 6.824, 6.848, 25136.7], 'break_reason': None}\n"
     ]
    },
    {
     "data": {
      "text/html": [
       "<p style='color:#0f0;'>********************************************************************************************************************</p>"
      ],
      "text/plain": [
       "<IPython.core.display.HTML object>"
      ]
     },
     "metadata": {},
     "output_type": "display_data"
    },
    {
     "name": "stdout",
     "output_type": "stream",
     "text": [
      "ETH/USDT:USDT LONG\n",
      "{'tps': [[1718721180000, 3430.5, 3438.98, 3430.5, 3433.84, 806.9], [1718743860000, 3454.95, 3466.23, 3454.09, 3464.52, 1521.25], [1718745540000, 3477.41, 3484.29, 3475.19, 3482.48, 667.36], [1718758860000, 3493.8, 3498.0, 3493.77, 3497.82, 188.85], [1718759040000, 3509.54, 3516.73, 3506.66, 3515.78, 1243.25]], 'entry_reached': [[1718708640000, 3420.18, 3420.25, 3415.11, 3418.03, 194.54]], 'stop_loss_reached': None, 'break_reason': None}\n"
     ]
    },
    {
     "data": {
      "text/html": [
       "<p style='color:#0f0;'>********************************************************************************************************************</p>"
      ],
      "text/plain": [
       "<IPython.core.display.HTML object>"
      ]
     },
     "metadata": {},
     "output_type": "display_data"
    },
    {
     "name": "stdout",
     "output_type": "stream",
     "text": [
      "BTC/USDT:USDT LONG\n",
      "{'tps': [[1718862900000, 65464.9, 65542.8, 65461.7, 65520.8, 59.75], [1718867820000, 65593.9, 65831.5, 65589.4, 65748.7, 324.93], [1718881140000, 66113.8, 66256.8, 66112.5, 66171.1, 219.54], [1718881740000, 66376.8, 66404.1, 66323.1, 66403.6, 132.68]], 'entry_reached': [[1718785920000, 65072.7, 65116.1, 65070.0, 65077.8, 20.42], [1718959020000, 64148.9, 64148.9, 64100.0, 64100.6, 72.3]], 'stop_loss_reached': [1718959740000, 64088.8, 64091.8, 63519.4, 63819.1, 511.54], 'break_reason': None}\n"
     ]
    },
    {
     "data": {
      "text/html": [
       "<p style='color:#0f0;'>********************************************************************************************************************</p>"
      ],
      "text/plain": [
       "<IPython.core.display.HTML object>"
      ]
     },
     "metadata": {},
     "output_type": "display_data"
    },
    {
     "data": {
      "text/html": [
       "<p style='color:#FFFF00;'>waiting 5 min...</p>"
      ],
      "text/plain": [
       "<IPython.core.display.HTML object>"
      ]
     },
     "metadata": {},
     "output_type": "display_data"
    },
    {
     "data": {
      "text/html": [
       "<p style='color:#FFFF00;'>waiting 5 min...</p>"
      ],
      "text/plain": [
       "<IPython.core.display.HTML object>"
      ]
     },
     "metadata": {},
     "output_type": "display_data"
    },
    {
     "name": "stdout",
     "output_type": "stream",
     "text": [
      "TNSR/USDT:USDT LONG\n",
      "{'tps': [[1723893120000, 0.3525, 0.3535, 0.3525, 0.3534, 17506.09], [1723893660000, 0.3551, 0.3562, 0.3546, 0.3558, 7851.05], [1723899840000, 0.3572, 0.3577, 0.3567, 0.3577, 10655.75], [1723899900000, 0.3577, 0.3604, 0.3576, 0.3604, 12341.18], [1723899960000, 0.3604, 0.3634, 0.3602, 0.3612, 23077.67]], 'entry_reached': [[1723892040000, 0.3584, 0.3595, 0.3494, 0.3508, 40483.64]], 'stop_loss_reached': None, 'break_reason': None}\n"
     ]
    },
    {
     "data": {
      "text/html": [
       "<p style='color:#0f0;'>********************************************************************************************************************</p>"
      ],
      "text/plain": [
       "<IPython.core.display.HTML object>"
      ]
     },
     "metadata": {},
     "output_type": "display_data"
    },
    {
     "name": "stdout",
     "output_type": "stream",
     "text": [
      "BANANA/USDT:USDT LONG\n",
      "{'tps': [[1723911660000, 55.87, 56.18, 55.56, 55.59, 2225.08], [1723919040000, 56.54, 57.01, 56.49, 56.83, 511.75], [1723966500000, 57.47, 58.39, 57.42, 58.35, 2509.59], [1723966560000, 58.39, 58.68, 57.31, 57.31, 3484.68], [1723967040000, 58.43, 58.89, 58.43, 58.85, 1238.4]], 'entry_reached': [[1723911540000, 55.61, 55.61, 55.25, 55.34, 1619.65], [1723946880000, 53.83, 53.84, 52.63, 53.04, 1411.97]], 'stop_loss_reached': None, 'break_reason': None}\n"
     ]
    },
    {
     "data": {
      "text/html": [
       "<p style='color:#0f0;'>********************************************************************************************************************</p>"
      ],
      "text/plain": [
       "<IPython.core.display.HTML object>"
      ]
     },
     "metadata": {},
     "output_type": "display_data"
    },
    {
     "name": "stdout",
     "output_type": "stream",
     "text": [
      "BANANA/USDT:USDT SHORT\n",
      "{'tps': [[1723895880000, 60.07, 60.1, 59.28, 59.31, 341.29]], 'entry_reached': [[1723894260000, 60.27, 60.36, 59.99, 60.12, 1764.65], [1723894560000, 60.89, 61.47, 60.77, 61.4, 1244.21]], 'stop_loss_reached': [1723897140000, 61.23, 62.61, 61.14, 62.47, 1918.24], 'break_reason': None}\n"
     ]
    },
    {
     "data": {
      "text/html": [
       "<p style='color:#0f0;'>********************************************************************************************************************</p>"
      ],
      "text/plain": [
       "<IPython.core.display.HTML object>"
      ]
     },
     "metadata": {},
     "output_type": "display_data"
    },
    {
     "name": "stdout",
     "output_type": "stream",
     "text": [
      "BANANA/USDT:USDT LONG\n",
      "{'tps': [[1723898520000, 61.58, 62.02, 61.4, 62.01, 1233.74]], 'entry_reached': [[1723898400000, 61.76, 61.84, 60.94, 61.02, 809.01], [1723899720000, 61.08, 61.14, 59.74, 60.08, 1930.03]], 'stop_loss_reached': [1723900920000, 59.26, 59.28, 58.75, 59.23, 1170.97], 'break_reason': None}\n"
     ]
    },
    {
     "data": {
      "text/html": [
       "<p style='color:#0f0;'>********************************************************************************************************************</p>"
      ],
      "text/plain": [
       "<IPython.core.display.HTML object>"
      ]
     },
     "metadata": {},
     "output_type": "display_data"
    },
    {
     "name": "stdout",
     "output_type": "stream",
     "text": [
      "SUI/USDT:USDT LONG\n",
      "{'tps': [[1723948260000, 0.83979, 0.8416, 0.83913, 0.84127, 16803.0], [1723949400000, 0.8489, 0.85272, 0.84859, 0.85264, 276162.0], [1724084220000, 0.85542, 0.85976, 0.85531, 0.85939, 143153.0], [1724088600000, 0.86398, 0.86668, 0.86353, 0.86513, 384766.0], [1724088780000, 0.8707, 0.87816, 0.87042, 0.87789, 415419.0]], 'entry_reached': [[1723917660000, 0.83569, 0.83614, 0.83283, 0.83302, 71423.0], [1723923420000, 0.81371, 0.81412, 0.81196, 0.81245, 137989.0]], 'stop_loss_reached': None, 'break_reason': None}\n"
     ]
    },
    {
     "data": {
      "text/html": [
       "<p style='color:#0f0;'>********************************************************************************************************************</p>"
      ],
      "text/plain": [
       "<IPython.core.display.HTML object>"
      ]
     },
     "metadata": {},
     "output_type": "display_data"
    },
    {
     "name": "stdout",
     "output_type": "stream",
     "text": [
      "BTC/USDT:USDT LONG\n",
      "{'tps': [[1723974600000, 59810.4, 60124.2, 59789.8, 60027.2, 145.31], [1723976280000, 60097.5, 60149.4, 60094.0, 60126.4, 109.63], [1723985160000, 60191.8, 60281.1, 60128.8, 60128.8, 166.75]], 'entry_reached': [[1723973460000, 59687.4, 59697.0, 59671.1, 59682.3, 31.06], [1724018160000, 59489.3, 59489.3, 59307.4, 59346.9, 63.95]], 'stop_loss_reached': [1724022720000, 59286.5, 59286.7, 59083.2, 59128.3, 96.83], 'break_reason': None}\n"
     ]
    },
    {
     "data": {
      "text/html": [
       "<p style='color:#0f0;'>********************************************************************************************************************</p>"
      ],
      "text/plain": [
       "<IPython.core.display.HTML object>"
      ]
     },
     "metadata": {},
     "output_type": "display_data"
    },
    {
     "name": "stdout",
     "output_type": "stream",
     "text": [
      "JUP/USDT:USDT SHORT\n",
      "{'tps': [[1724001900000, 0.7799, 0.78, 0.7768, 0.7785, 12006.89], [1724022720000, 0.7746, 0.775, 0.7723, 0.7733, 51320.41], [1724023860000, 0.7695, 0.7696, 0.7677, 0.7678, 7933.52], [1724024940000, 0.7652, 0.7655, 0.7634, 0.7635, 7824.87], [1724025720000, 0.7622, 0.7629, 0.7602, 0.7603, 51729.58]], 'entry_reached': [[1723984620000, 0.7804, 0.7822, 0.7803, 0.7821, 9296.73]], 'stop_loss_reached': None, 'break_reason': None}\n"
     ]
    },
    {
     "data": {
      "text/html": [
       "<p style='color:#0f0;'>********************************************************************************************************************</p>"
      ],
      "text/plain": [
       "<IPython.core.display.HTML object>"
      ]
     },
     "metadata": {},
     "output_type": "display_data"
    },
    {
     "name": "stdout",
     "output_type": "stream",
     "text": [
      "1000PEPE/USDT:USDT LONG\n",
      "{'tps': [[1723985160000, 0.0075851, 0.0076087, 0.0075847, 0.0075848, 6858157.0]], 'entry_reached': [[1723980240000, 0.0075041, 0.0075042, 0.007495, 0.0075004, 3293240.0], [1724024940000, 0.0073325, 0.0073409, 0.0073092, 0.0073092, 6763605.0]], 'stop_loss_reached': [1724026260000, 0.0072403, 0.0072409, 0.0072066, 0.0072201, 13064963.0], 'break_reason': None}\n"
     ]
    },
    {
     "data": {
      "text/html": [
       "<p style='color:#0f0;'>********************************************************************************************************************</p>"
      ],
      "text/plain": [
       "<IPython.core.display.HTML object>"
      ]
     },
     "metadata": {},
     "output_type": "display_data"
    },
    {
     "name": "stdout",
     "output_type": "stream",
     "text": [
      "1000PEPE/USDT:USDT SHORT\n",
      "{'tps': [[1724060940000, 0.0072889, 0.007289, 0.0072567, 0.0072725, 7158117.0], [1724061300000, 0.0072393, 0.0072476, 0.007214, 0.0072473, 4457868.0]], 'entry_reached': [[1724049960000, 0.0073491, 0.0073657, 0.007344, 0.0073643, 2148303.0], [1724088720000, 0.0075029, 0.0075309, 0.0075028, 0.0075298, 2758991.0]], 'stop_loss_reached': [1724088780000, 0.0075309, 0.0076835, 0.0075277, 0.0076316, 24439483.0], 'break_reason': None}\n"
     ]
    },
    {
     "data": {
      "text/html": [
       "<p style='color:#0f0;'>********************************************************************************************************************</p>"
      ],
      "text/plain": [
       "<IPython.core.display.HTML object>"
      ]
     },
     "metadata": {},
     "output_type": "display_data"
    },
    {
     "name": "stdout",
     "output_type": "stream",
     "text": [
      "AEVO/USDT:USDT SHORT\n",
      "{'tps': [[1724085240000, 0.3358, 0.3359, 0.3347, 0.335, 10292.99], [1724085600000, 0.3331, 0.3333, 0.3322, 0.3323, 20610.24]], 'entry_reached': [[1724069760000, 0.3385, 0.3391, 0.3384, 0.3391, 11551.9], [1724100360000, 0.3462, 0.3471, 0.3461, 0.3467, 9488.05]], 'stop_loss_reached': [1724113500000, 0.349, 0.35, 0.3487, 0.3491, 26394.41], 'break_reason': None}\n"
     ]
    },
    {
     "data": {
      "text/html": [
       "<p style='color:#0f0;'>********************************************************************************************************************</p>"
      ],
      "text/plain": [
       "<IPython.core.display.HTML object>"
      ]
     },
     "metadata": {},
     "output_type": "display_data"
    },
    {
     "name": "stdout",
     "output_type": "stream",
     "text": [
      "SUI/USDT:USDT SHORT\n",
      "{'tps': [[1724076720000, 0.84213, 0.84214, 0.83834, 0.84023, 114313.0]], 'entry_reached': [[1724076660000, 0.84288, 0.8458, 0.8421, 0.8421, 56813.0], [1724084220000, 0.85542, 0.85976, 0.85531, 0.85939, 143153.0]], 'stop_loss_reached': [1724084280000, 0.85999, 0.865, 0.85998, 0.86175, 214063.0], 'break_reason': None}\n"
     ]
    },
    {
     "data": {
      "text/html": [
       "<p style='color:#0f0;'>********************************************************************************************************************</p>"
      ],
      "text/plain": [
       "<IPython.core.display.HTML object>"
      ]
     },
     "metadata": {},
     "output_type": "display_data"
    },
    {
     "name": "stdout",
     "output_type": "stream",
     "text": [
      "ETH/USDT:USDT SHORT\n",
      "{'tps': [[1724242680000, 2573.98, 2574.05, 2570.5, 2570.51, 394.82], [1724247240000, 2568.29, 2568.58, 2557.29, 2560.89, 2068.93], [1724247660000, 2560.93, 2562.35, 2540.0, 2544.35, 2301.01], [1724247720000, 2544.24, 2547.06, 2536.81, 2540.9, 8111.13], [1724247780000, 2540.91, 2541.98, 2533.48, 2538.95, 6312.47]], 'entry_reached': [[1724236320000, 2583.62, 2583.63, 2582.45, 2582.72, 128.35]], 'stop_loss_reached': None, 'break_reason': None}\n"
     ]
    },
    {
     "data": {
      "text/html": [
       "<p style='color:#0f0;'>********************************************************************************************************************</p>"
      ],
      "text/plain": [
       "<IPython.core.display.HTML object>"
      ]
     },
     "metadata": {},
     "output_type": "display_data"
    },
    {
     "name": "stdout",
     "output_type": "stream",
     "text": [
      "FLOKI/USDT:USDT LONG\n"
     ]
    },
    {
     "data": {
      "text/html": [
       "<p style='color:#c01;'>json, 1724272200000</p>"
      ],
      "text/plain": [
       "<IPython.core.display.HTML object>"
      ]
     },
     "metadata": {},
     "output_type": "display_data"
    },
    {
     "data": {
      "text/html": [
       "<p style='color:#fd03a1;'>stop_timestamp</p>"
      ],
      "text/plain": [
       "<IPython.core.display.HTML object>"
      ]
     },
     "metadata": {},
     "output_type": "display_data"
    },
    {
     "data": {
      "text/html": [
       "<p style='color:#ada;'>saving historic tohlcv data to json</p>"
      ],
      "text/plain": [
       "<IPython.core.display.HTML object>"
      ]
     },
     "metadata": {},
     "output_type": "display_data"
    },
    {
     "name": "stdout",
     "output_type": "stream",
     "text": [
      "{'tps': [[1724315220000, 0.00013246, 0.00013274, 0.00013233, 0.00013242, 247232327.0], [1724315400000, 0.00013327, 0.00013358, 0.00013281, 0.0001329, 205409596.0], [1724321040000, 0.00013396, 0.00013467, 0.00013395, 0.00013466, 251618346.0], [1724321100000, 0.00013466, 0.0001358, 0.00013457, 0.00013575, 953923673.0], [1724321220000, 0.00013549, 0.0001365, 0.00013548, 0.00013634, 641099110.0]], 'entry_reached': [[1724314620000, 0.00013061, 0.00013106, 0.00013061, 0.00013105, 50649059.0]], 'stop_loss_reached': None, 'break_reason': None}\n"
     ]
    },
    {
     "data": {
      "text/html": [
       "<p style='color:#0f0;'>********************************************************************************************************************</p>"
      ],
      "text/plain": [
       "<IPython.core.display.HTML object>"
      ]
     },
     "metadata": {},
     "output_type": "display_data"
    },
    {
     "name": "stdout",
     "output_type": "stream",
     "text": [
      "FLOKI/USDT:USDT LONG\n",
      "{'tps': [[1724395800000, 0.00013734, 0.000138, 0.00013731, 0.00013793, 221168185.0], [1724417460000, 0.00013835, 0.00013863, 0.00013831, 0.0001386, 121972183.0], [1724421600000, 0.00013829, 0.00013893, 0.00013812, 0.00013879, 74115849.0], [1724421660000, 0.00013881, 0.00013949, 0.00013879, 0.00013947, 428043594.0], [1724421720000, 0.00013943, 0.00014019, 0.00013939, 0.00014004, 491384693.0]], 'entry_reached': [[1724393820000, 0.00013693, 0.00013694, 0.0001367, 0.00013678, 40745474.0], [1724411400000, 0.00013607, 0.0001361, 0.00013582, 0.00013603, 189171420.0]], 'stop_loss_reached': None, 'break_reason': None}\n"
     ]
    },
    {
     "data": {
      "text/html": [
       "<p style='color:#0f0;'>********************************************************************************************************************</p>"
      ],
      "text/plain": [
       "<IPython.core.display.HTML object>"
      ]
     },
     "metadata": {},
     "output_type": "display_data"
    },
    {
     "name": "stdout",
     "output_type": "stream",
     "text": [
      "ORDI/USDT:USDT SHORT\n",
      "{'tps': [], 'entry_reached': [[1724429340000, 32.173, 32.243, 32.167, 32.241, 1242.81], [1724432520000, 32.649, 32.779, 32.648, 32.68, 841.26]], 'stop_loss_reached': [1724432700000, 32.806, 33.019, 32.793, 32.959, 4694.49], 'break_reason': None}\n"
     ]
    },
    {
     "data": {
      "text/html": [
       "<p style='color:#0f0;'>********************************************************************************************************************</p>"
      ],
      "text/plain": [
       "<IPython.core.display.HTML object>"
      ]
     },
     "metadata": {},
     "output_type": "display_data"
    },
    {
     "name": "stdout",
     "output_type": "stream",
     "text": [
      "TIA/USDT:USDT LONG\n"
     ]
    },
    {
     "data": {
      "text/html": [
       "<p style='color:#c01;'>json, 1724445000000</p>"
      ],
      "text/plain": [
       "<IPython.core.display.HTML object>"
      ]
     },
     "metadata": {},
     "output_type": "display_data"
    },
    {
     "data": {
      "text/html": [
       "<p style='color:#fd03a1;'>stop_timestamp</p>"
      ],
      "text/plain": [
       "<IPython.core.display.HTML object>"
      ]
     },
     "metadata": {},
     "output_type": "display_data"
    },
    {
     "data": {
      "text/html": [
       "<p style='color:#ada;'>saving historic tohlcv data to json</p>"
      ],
      "text/plain": [
       "<IPython.core.display.HTML object>"
      ]
     },
     "metadata": {},
     "output_type": "display_data"
    },
    {
     "name": "stdout",
     "output_type": "stream",
     "text": [
      "{'tps': [[1724507760000, 6.055, 6.0591, 6.0545, 6.0591, 1433.36], [1724509380000, 6.066, 6.0884, 6.0649, 6.0881, 4559.66], [1724511060000, 6.091, 6.1235, 6.0882, 6.1187, 5615.05], [1724511480000, 6.1391, 6.1454, 6.1377, 6.1452, 4502.07], [1724511660000, 6.1602, 6.1769, 6.1601, 6.1668, 7247.99]], 'entry_reached': [[1724490120000, 6.0198, 6.0198, 6.01, 6.0104, 2291.08]], 'stop_loss_reached': None, 'break_reason': None}\n"
     ]
    },
    {
     "data": {
      "text/html": [
       "<p style='color:#0f0;'>********************************************************************************************************************</p>"
      ],
      "text/plain": [
       "<IPython.core.display.HTML object>"
      ]
     },
     "metadata": {},
     "output_type": "display_data"
    },
    {
     "name": "stdout",
     "output_type": "stream",
     "text": [
      "TRB/USDT:USDT SHORT\n"
     ]
    },
    {
     "data": {
      "text/html": [
       "<p style='color:#c01;'>json, 1724531400000</p>"
      ],
      "text/plain": [
       "<IPython.core.display.HTML object>"
      ]
     },
     "metadata": {},
     "output_type": "display_data"
    },
    {
     "data": {
      "text/html": [
       "<p style='color:#fd03a1;'>stop_timestamp</p>"
      ],
      "text/plain": [
       "<IPython.core.display.HTML object>"
      ]
     },
     "metadata": {},
     "output_type": "display_data"
    },
    {
     "data": {
      "text/html": [
       "<p style='color:#ada;'>saving historic tohlcv data to json</p>"
      ],
      "text/plain": [
       "<IPython.core.display.HTML object>"
      ]
     },
     "metadata": {},
     "output_type": "display_data"
    },
    {
     "name": "stdout",
     "output_type": "stream",
     "text": [
      "{'tps': [[1724600700000, 76.206, 76.207, 76.018, 76.046, 80.25]], 'entry_reached': [[1724598900000, 76.553, 76.782, 76.552, 76.699, 194.82], [1724616660000, 77.998, 78.294, 77.935, 78.172, 313.24]], 'stop_loss_reached': [1724661060000, 78.885, 79.081, 78.835, 78.978, 1313.66], 'break_reason': None}\n"
     ]
    },
    {
     "data": {
      "text/html": [
       "<p style='color:#0f0;'>********************************************************************************************************************</p>"
      ],
      "text/plain": [
       "<IPython.core.display.HTML object>"
      ]
     },
     "metadata": {},
     "output_type": "display_data"
    },
    {
     "name": "stdout",
     "output_type": "stream",
     "text": [
      "XRP/USDT:USDT SHORT\n"
     ]
    },
    {
     "data": {
      "text/html": [
       "<p style='color:#c01;'>json, 1724617800000</p>"
      ],
      "text/plain": [
       "<IPython.core.display.HTML object>"
      ]
     },
     "metadata": {},
     "output_type": "display_data"
    },
    {
     "data": {
      "text/html": [
       "<p style='color:#fd03a1;'>stop_timestamp</p>"
      ],
      "text/plain": [
       "<IPython.core.display.HTML object>"
      ]
     },
     "metadata": {},
     "output_type": "display_data"
    },
    {
     "data": {
      "text/html": [
       "<p style='color:#ada;'>saving historic tohlcv data to json</p>"
      ],
      "text/plain": [
       "<IPython.core.display.HTML object>"
      ]
     },
     "metadata": {},
     "output_type": "display_data"
    },
    {
     "name": "stdout",
     "output_type": "stream",
     "text": [
      "{'tps': [[1724668260000, 0.595, 0.5951, 0.5947, 0.5949, 14603.0], [1724674980000, 0.5937, 0.5937, 0.5929, 0.5932, 37794.0], [1724675520000, 0.592, 0.5921, 0.5914, 0.5917, 108519.0], [1724675640000, 0.5916, 0.5917, 0.5883, 0.5889, 906840.0], [1724675700000, 0.5887, 0.5889, 0.5879, 0.5886, 1131699.0]], 'entry_reached': [[1724666580000, 0.5961, 0.597, 0.596, 0.5969, 42243.0]], 'stop_loss_reached': None, 'break_reason': None}\n"
     ]
    },
    {
     "data": {
      "text/html": [
       "<p style='color:#0f0;'>********************************************************************************************************************</p>"
      ],
      "text/plain": [
       "<IPython.core.display.HTML object>"
      ]
     },
     "metadata": {},
     "output_type": "display_data"
    },
    {
     "name": "stdout",
     "output_type": "stream",
     "text": [
      "APT/USDT:USDT SHORT\n"
     ]
    },
    {
     "data": {
      "text/html": [
       "<p style='color:#c01;'>json, 1724617800000</p>"
      ],
      "text/plain": [
       "<IPython.core.display.HTML object>"
      ]
     },
     "metadata": {},
     "output_type": "display_data"
    },
    {
     "name": "stdout",
     "output_type": "stream",
     "text": [
      "BTC/USDT:USDT SHORT\n",
      "{'tps': [[1724683140000, 63229.4, 63251.3, 63137.3, 63164.0, 254.87], [1724707320000, 63026.0, 63027.0, 62859.2, 62889.2, 151.35], [1724719920000, 62792.6, 62801.2, 62632.4, 62666.2, 143.01], [1724753160000, 62526.4, 62528.6, 62439.1, 62476.1, 177.66], [1724754240000, 62356.7, 62358.5, 62240.0, 62248.2, 112.92]], 'entry_reached': [[1724680920000, 63712.7, 63790.0, 63712.6, 63772.3, 28.8]], 'stop_loss_reached': None, 'break_reason': None}\n"
     ]
    },
    {
     "data": {
      "text/html": [
       "<p style='color:#0f0;'>********************************************************************************************************************</p>"
      ],
      "text/plain": [
       "<IPython.core.display.HTML object>"
      ]
     },
     "metadata": {},
     "output_type": "display_data"
    },
    {
     "name": "stdout",
     "output_type": "stream",
     "text": [
      "1000PEPE/USDT:USDT SHORT\n"
     ]
    },
    {
     "data": {
      "text/html": [
       "<p style='color:#c01;'>json, 1724877000000</p>"
      ],
      "text/plain": [
       "<IPython.core.display.HTML object>"
      ]
     },
     "metadata": {},
     "output_type": "display_data"
    },
    {
     "data": {
      "text/html": [
       "<p style='color:#fd03a1;'>stop_timestamp</p>"
      ],
      "text/plain": [
       "<IPython.core.display.HTML object>"
      ]
     },
     "metadata": {},
     "output_type": "display_data"
    },
    {
     "data": {
      "text/html": [
       "<p style='color:#ada;'>saving historic tohlcv data to json</p>"
      ],
      "text/plain": [
       "<IPython.core.display.HTML object>"
      ]
     },
     "metadata": {},
     "output_type": "display_data"
    },
    {
     "name": "stdout",
     "output_type": "stream",
     "text": [
      "{'tps': [[1724752080000, 0.0084246, 0.0084257, 0.0083452, 0.008375, 11340843.0], [1724753160000, 0.0083601, 0.0083655, 0.0083206, 0.0083398, 8464240.0], [1724760240000, 0.0082935, 0.0082936, 0.008221, 0.008221, 15649287.0], [1724761200000, 0.0082276, 0.0082277, 0.0081835, 0.0082004, 14884256.0], [1724762580000, 0.0081847, 0.0081858, 0.0081367, 0.0081535, 8610483.0]], 'entry_reached': [[1724748540000, 0.0084629, 0.0084763, 0.0084586, 0.0084716, 490832.0]], 'stop_loss_reached': None, 'break_reason': None}\n"
     ]
    },
    {
     "data": {
      "text/html": [
       "<p style='color:#0f0;'>********************************************************************************************************************</p>"
      ],
      "text/plain": [
       "<IPython.core.display.HTML object>"
      ]
     },
     "metadata": {},
     "output_type": "display_data"
    },
    {
     "name": "stdout",
     "output_type": "stream",
     "text": [
      "NOT/USDT:USDT SHORT\n",
      "{'tps': [], 'entry_reached': [[1724756760000, 0.008713, 0.008746, 0.008708, 0.008738, 11103815.0], [1724784060000, 0.009026, 0.009054, 0.009014, 0.009052, 25598327.0]], 'stop_loss_reached': [1724785020000, 0.009157, 0.009189, 0.009146, 0.009173, 14625457.0], 'break_reason': None}\n"
     ]
    },
    {
     "data": {
      "text/html": [
       "<p style='color:#0f0;'>********************************************************************************************************************</p>"
      ],
      "text/plain": [
       "<IPython.core.display.HTML object>"
      ]
     },
     "metadata": {},
     "output_type": "display_data"
    },
    {
     "name": "stdout",
     "output_type": "stream",
     "text": [
      "1000PEPE/USDT:USDT LONG\n",
      "{'tps': [], 'entry_reached': [[1724858100000, 0.0077003, 0.007717, 0.00765, 0.0076723, 6781380.0], [1724861880000, 0.0075102, 0.0075271, 0.0074932, 0.0074962, 5810599.0]], 'stop_loss_reached': [1724861940000, 0.0074975, 0.0074975, 0.0074165, 0.0074392, 21730587.0], 'break_reason': None}\n"
     ]
    },
    {
     "data": {
      "text/html": [
       "<p style='color:#0f0;'>********************************************************************************************************************</p>"
      ],
      "text/plain": [
       "<IPython.core.display.HTML object>"
      ]
     },
     "metadata": {},
     "output_type": "display_data"
    },
    {
     "name": "stdout",
     "output_type": "stream",
     "text": [
      "1000PEPE/USDT:USDT LONG\n",
      "{'tps': [], 'entry_reached': [[1724840220000, 0.0079958, 0.0079958, 0.0079831, 0.0079831, 230183.0], [1724858100000, 0.0077003, 0.007717, 0.00765, 0.0076723, 6781380.0]], 'stop_loss_reached': [1724861160000, 0.0076394, 0.0076447, 0.0075892, 0.0076316, 13316312.0], 'break_reason': None}\n"
     ]
    },
    {
     "data": {
      "text/html": [
       "<p style='color:#0f0;'>********************************************************************************************************************</p>"
      ],
      "text/plain": [
       "<IPython.core.display.HTML object>"
      ]
     },
     "metadata": {},
     "output_type": "display_data"
    },
    {
     "name": "stdout",
     "output_type": "stream",
     "text": [
      "BNB/USDT:USDT SHORT\n",
      "{'tps': [[1724955000000, 537.62, 537.63, 535.64, 535.71, 72.96], [1724957460000, 533.45, 533.45, 532.5, 532.6, 61.78], [1724988720000, 529.79, 529.8, 528.85, 529.43, 32.2], [1725030120000, 527.09, 527.09, 525.36, 526.7, 574.22], [1725033000000, 524.56, 524.59, 522.79, 523.43, 126.86]], 'entry_reached': [[1724922180000, 542.32, 542.5, 542.16, 542.16, 24.62]], 'stop_loss_reached': None, 'break_reason': None}\n"
     ]
    },
    {
     "data": {
      "text/html": [
       "<p style='color:#0f0;'>********************************************************************************************************************</p>"
      ],
      "text/plain": [
       "<IPython.core.display.HTML object>"
      ]
     },
     "metadata": {},
     "output_type": "display_data"
    },
    {
     "name": "stdout",
     "output_type": "stream",
     "text": [
      "TIA/USDT:USDT SHORT\n",
      "{'tps': [[1724954940000, 4.7532, 4.7532, 4.7285, 4.7302, 3507.77], [1724955600000, 4.6854, 4.6888, 4.6769, 4.6888, 13498.49], [1724957280000, 4.6456, 4.6457, 4.6198, 4.6344, 11836.66], [1724958000000, 4.6039, 4.61, 4.587, 4.5881, 13390.89], [1724994780000, 4.5322, 4.5322, 4.527, 4.5275, 2941.91]], 'entry_reached': [[1724928480000, 4.7858, 4.789, 4.7848, 4.7859, 494.55], [1724931960000, 4.8761, 4.9088, 4.876, 4.9083, 5871.0]], 'stop_loss_reached': None, 'break_reason': None}\n"
     ]
    },
    {
     "data": {
      "text/html": [
       "<p style='color:#0f0;'>********************************************************************************************************************</p>"
      ],
      "text/plain": [
       "<IPython.core.display.HTML object>"
      ]
     },
     "metadata": {},
     "output_type": "display_data"
    },
    {
     "name": "stdout",
     "output_type": "stream",
     "text": [
      "1000PEPE/USDT:USDT SHORT\n",
      "{'tps': [[1725025860000, 0.0077044, 0.0077106, 0.0076505, 0.0076749, 16864771.0], [1725029040000, 0.0076585, 0.0076586, 0.0076064, 0.0076275, 13920560.0], [1725030060000, 0.0076071, 0.0076219, 0.00756, 0.0075707, 3165965.0], [1725030120000, 0.0075711, 0.0075711, 0.0074762, 0.0075261, 13067641.0], [1725030960000, 0.0075468, 0.0075468, 0.0075033, 0.0075143, 6170204.0]], 'entry_reached': [[1725006780000, 0.0077735, 0.0077906, 0.0077734, 0.0077837, 758214.0]], 'stop_loss_reached': None, 'break_reason': None}\n"
     ]
    },
    {
     "data": {
      "text/html": [
       "<p style='color:#0f0;'>********************************************************************************************************************</p>"
      ],
      "text/plain": [
       "<IPython.core.display.HTML object>"
      ]
     },
     "metadata": {},
     "output_type": "display_data"
    },
    {
     "name": "stdout",
     "output_type": "stream",
     "text": [
      "ETH/USDT:USDT SHORT\n",
      "{'tps': [[1725025860000, 2507.62, 2508.01, 2491.0, 2499.48, 2385.05], [1725029040000, 2486.44, 2486.79, 2481.22, 2484.27, 786.45], [1725029760000, 2474.07, 2474.35, 2465.97, 2467.73, 1090.38], [1725030060000, 2462.35, 2465.29, 2451.6, 2452.89, 2373.38], [1725030120000, 2452.35, 2454.64, 2441.51, 2447.83, 5120.81]], 'entry_reached': [[1725014940000, 2514.32, 2516.0, 2514.31, 2515.99, 279.07]], 'stop_loss_reached': None, 'break_reason': None}\n"
     ]
    },
    {
     "data": {
      "text/html": [
       "<p style='color:#0f0;'>********************************************************************************************************************</p>"
      ],
      "text/plain": [
       "<IPython.core.display.HTML object>"
      ]
     },
     "metadata": {},
     "output_type": "display_data"
    },
    {
     "name": "stdout",
     "output_type": "stream",
     "text": [
      "WIF/USDT:USDT SHORT\n",
      "{'tps': [[1725094620000, 1.5103, 1.5105, 1.5063, 1.5065, 32265.25], [1725155460000, 1.5012, 1.502, 1.4959, 1.4962, 45288.01], [1725156840000, 1.4869, 1.487, 1.481, 1.482, 37208.55], [1725169980000, 1.4749, 1.4751, 1.4701, 1.4727, 129000.43], [1725188280000, 1.4597, 1.4612, 1.458, 1.4584, 50021.28]], 'entry_reached': [[1725089940000, 1.5288, 1.5314, 1.5288, 1.5312, 14009.37]], 'stop_loss_reached': None, 'break_reason': None}\n"
     ]
    },
    {
     "data": {
      "text/html": [
       "<p style='color:#0f0;'>********************************************************************************************************************</p>"
      ],
      "text/plain": [
       "<IPython.core.display.HTML object>"
      ]
     },
     "metadata": {},
     "output_type": "display_data"
    },
    {
     "name": "stdout",
     "output_type": "stream",
     "text": [
      "WLD/USDT:USDT LONG\n",
      "{'tps': [[1725113580000, 1.4975, 1.4987, 1.4975, 1.4985, 15342.89]], 'entry_reached': [[1725112800000, 1.4909, 1.4916, 1.4881, 1.4891, 27361.93], [1725126360000, 1.4709, 1.4709, 1.4668, 1.4689, 23509.7]], 'stop_loss_reached': [1725157500000, 1.4577, 1.4578, 1.4554, 1.4554, 31123.7], 'break_reason': None}\n"
     ]
    },
    {
     "data": {
      "text/html": [
       "<p style='color:#0f0;'>********************************************************************************************************************</p>"
      ],
      "text/plain": [
       "<IPython.core.display.HTML object>"
      ]
     },
     "metadata": {},
     "output_type": "display_data"
    },
    {
     "name": "stdout",
     "output_type": "stream",
     "text": [
      "NEAR/USDT:USDT SHORT\n",
      "{'tps': [[1725916680000, 4.0666, 4.0741, 4.0585, 4.0684, 10282.0], [1725918000000, 4.0434, 4.0434, 4.0371, 4.0379, 1907.0], [1725926400000, 4.0121, 4.0129, 4.006, 4.0069, 2541.0], [1725926880000, 3.9889, 3.991, 3.9845, 3.9856, 1873.0], [1725933720000, 3.9679, 3.9679, 3.9566, 3.9596, 3325.0]], 'entry_reached': [[1725916560000, 4.0919, 4.103, 4.0866, 4.0866, 31098.0]], 'stop_loss_reached': None, 'break_reason': None}\n"
     ]
    },
    {
     "data": {
      "text/html": [
       "<p style='color:#0f0;'>********************************************************************************************************************</p>"
      ],
      "text/plain": [
       "<IPython.core.display.HTML object>"
      ]
     },
     "metadata": {},
     "output_type": "display_data"
    },
    {
     "data": {
      "text/html": [
       "<p style='color:#FFFF00;'>waiting 5 min...</p>"
      ],
      "text/plain": [
       "<IPython.core.display.HTML object>"
      ]
     },
     "metadata": {},
     "output_type": "display_data"
    },
    {
     "name": "stdout",
     "output_type": "stream",
     "text": [
      "NOT/USDT:USDT SHORT\n",
      "{'tps': [[1725285540000, 0.008278, 0.008279, 0.008257, 0.008262, 6475513.0], [1725370680000, 0.00818, 0.008185, 0.008152, 0.008183, 20116033.0], [1725377040000, 0.008035, 0.008046, 0.008021, 0.008043, 8520837.0], [1725399660000, 0.007933, 0.007934, 0.007924, 0.007926, 3434768.0], [1725411300000, 0.007857, 0.007857, 0.007745, 0.007773, 19308555.0]], 'entry_reached': [[1725271860000, 0.008437, 0.008457, 0.008433, 0.008434, 15902216.0]], 'stop_loss_reached': None, 'break_reason': None}\n"
     ]
    },
    {
     "data": {
      "text/html": [
       "<p style='color:#0f0;'>********************************************************************************************************************</p>"
      ],
      "text/plain": [
       "<IPython.core.display.HTML object>"
      ]
     },
     "metadata": {},
     "output_type": "display_data"
    },
    {
     "name": "stdout",
     "output_type": "stream",
     "text": [
      "DOGS/USDT:USDT LONG\n",
      "{'tps': [], 'entry_reached': [[1725177900000, 0.001272, 0.0012721, 0.0012686, 0.0012708, 68493577.0], [1725185580000, 0.0012403, 0.0012403, 0.001222, 0.0012307, 353966181.0]], 'stop_loss_reached': [1725204660000, 0.0012105, 0.0012108, 0.0011863, 0.001199, 429289242.0], 'break_reason': None}\n"
     ]
    },
    {
     "data": {
      "text/html": [
       "<p style='color:#0f0;'>********************************************************************************************************************</p>"
      ],
      "text/plain": [
       "<IPython.core.display.HTML object>"
      ]
     },
     "metadata": {},
     "output_type": "display_data"
    },
    {
     "name": "stdout",
     "output_type": "stream",
     "text": [
      "TIA/USDT:USDT SHORT\n",
      "{'tps': [[1725197220000, 4.4041, 4.4086, 4.3968, 4.3971, 5674.27], [1725198180000, 4.3849, 4.385, 4.3667, 4.3743, 5160.23], [1725198540000, 4.3674, 4.3707, 4.3374, 4.3374, 5176.06], [1725199620000, 4.3407, 4.3407, 4.3127, 4.3223, 12023.89], [1725199920000, 4.2936, 4.2957, 4.2787, 4.2867, 30043.4]], 'entry_reached': [[1725190020000, 4.4452, 4.4497, 4.4451, 4.448, 1700.3]], 'stop_loss_reached': None, 'break_reason': None}\n"
     ]
    },
    {
     "data": {
      "text/html": [
       "<p style='color:#0f0;'>********************************************************************************************************************</p>"
      ],
      "text/plain": [
       "<IPython.core.display.HTML object>"
      ]
     },
     "metadata": {},
     "output_type": "display_data"
    },
    {
     "name": "stdout",
     "output_type": "stream",
     "text": [
      "NOT/USDT:USDT SHORT\n",
      "{'tps': [], 'entry_reached': [[1725262380000, 0.008158, 0.008161, 0.008149, 0.008161, 2885884.0], [1725270600000, 0.008327, 0.00835, 0.008315, 0.008315, 4315137.0]], 'stop_loss_reached': [1725272220000, 0.008449, 0.008465, 0.00844, 0.00844, 6770600.0], 'break_reason': None}\n"
     ]
    },
    {
     "data": {
      "text/html": [
       "<p style='color:#0f0;'>********************************************************************************************************************</p>"
      ],
      "text/plain": [
       "<IPython.core.display.HTML object>"
      ]
     },
     "metadata": {},
     "output_type": "display_data"
    },
    {
     "name": "stdout",
     "output_type": "stream",
     "text": [
      "1000PEPE/USDT:USDT SHORT\n",
      "{'tps': [], 'entry_reached': [[1725264180000, 0.0071623, 0.0071679, 0.0071584, 0.007166, 134991.0], [1725265800000, 0.0073035, 0.0073382, 0.0073032, 0.0073098, 6166510.0]], 'stop_loss_reached': [1725270720000, 0.0073351, 0.0073942, 0.0073347, 0.0073839, 4022112.0], 'break_reason': None}\n"
     ]
    },
    {
     "data": {
      "text/html": [
       "<p style='color:#0f0;'>********************************************************************************************************************</p>"
      ],
      "text/plain": [
       "<IPython.core.display.HTML object>"
      ]
     },
     "metadata": {},
     "output_type": "display_data"
    },
    {
     "name": "stdout",
     "output_type": "stream",
     "text": [
      "UNI/USDT:USDT LONG\n",
      "{'tps': [[1725414180000, 5.985, 5.989, 5.982, 5.987, 2225.0], [1725416280000, 6.039, 6.059, 6.039, 6.057, 5256.0], [1725425760000, 6.115, 6.121, 6.114, 6.12, 2068.0], [1725427620000, 6.16, 6.173, 6.159, 6.166, 2025.0], [1725431220000, 6.193, 6.216, 6.192, 6.216, 4533.0]], 'entry_reached': [[1725411660000, 5.971, 5.984, 5.92, 5.928, 24022.0]], 'stop_loss_reached': None, 'break_reason': None}\n"
     ]
    },
    {
     "data": {
      "text/html": [
       "<p style='color:#0f0;'>********************************************************************************************************************</p>"
      ],
      "text/plain": [
       "<IPython.core.display.HTML object>"
      ]
     },
     "metadata": {},
     "output_type": "display_data"
    },
    {
     "name": "stdout",
     "output_type": "stream",
     "text": [
      "1000BONK/USDT:USDT LONG\n",
      "{'tps': [], 'entry_reached': [[1725350580000, 0.017853, 0.01787, 0.017853, 0.017867, 59173.0], [1725352620000, 0.017583, 0.017583, 0.017548, 0.017555, 168723.0]], 'stop_loss_reached': [1725370020000, 0.017446, 0.017446, 0.0174, 0.017403, 1885050.0], 'break_reason': None}\n"
     ]
    },
    {
     "data": {
      "text/html": [
       "<p style='color:#0f0;'>********************************************************************************************************************</p>"
      ],
      "text/plain": [
       "<IPython.core.display.HTML object>"
      ]
     },
     "metadata": {},
     "output_type": "display_data"
    },
    {
     "name": "stdout",
     "output_type": "stream",
     "text": [
      "TIA/USDT:USDT SHORT\n",
      "{'tps': [[1725370200000, 4.3541, 4.3541, 4.3357, 4.3372, 9522.32], [1725370560000, 4.3072, 4.3072, 4.2954, 4.299, 9564.9], [1725371460000, 4.2539, 4.2608, 4.25, 4.2587, 12130.36], [1725375960000, 4.2202, 4.2326, 4.2118, 4.2326, 15342.98], [1725379680000, 4.1811, 4.1828, 4.1715, 4.1806, 4454.31]], 'entry_reached': [[1725355980000, 4.3952, 4.4075, 4.3952, 4.4044, 436.31]], 'stop_loss_reached': None, 'break_reason': None}\n"
     ]
    },
    {
     "data": {
      "text/html": [
       "<p style='color:#0f0;'>********************************************************************************************************************</p>"
      ],
      "text/plain": [
       "<IPython.core.display.HTML object>"
      ]
     },
     "metadata": {},
     "output_type": "display_data"
    },
    {
     "name": "stdout",
     "output_type": "stream",
     "text": [
      "APE/USDT:USDT LONG\n",
      "{'tps': [], 'entry_reached': [[1725361620000, 0.6056, 0.6062, 0.6049, 0.6062, 1996.0], [1725411540000, 0.5857, 0.5857, 0.583, 0.5836, 10354.0]], 'stop_loss_reached': [1725411720000, 0.5767, 0.5777, 0.5697, 0.5734, 125838.0], 'break_reason': None}\n"
     ]
    },
    {
     "data": {
      "text/html": [
       "<p style='color:#0f0;'>********************************************************************************************************************</p>"
      ],
      "text/plain": [
       "<IPython.core.display.HTML object>"
      ]
     },
     "metadata": {},
     "output_type": "display_data"
    },
    {
     "name": "stdout",
     "output_type": "stream",
     "text": [
      "APT/USDT:USDT SHORT\n",
      "{'tps': [[1725446580000, 6.0966, 6.0966, 6.0686, 6.0738, 2147.3]], 'entry_reached': [[1725445620000, 6.115, 6.1225, 6.115, 6.119, 918.6], [1725461460000, 6.1828, 6.2173, 6.1827, 6.2144, 9513.9]], 'stop_loss_reached': [1725465660000, 6.2526, 6.2639, 6.2513, 6.259, 1370.1], 'break_reason': None}\n"
     ]
    },
    {
     "data": {
      "text/html": [
       "<p style='color:#0f0;'>********************************************************************************************************************</p>"
      ],
      "text/plain": [
       "<IPython.core.display.HTML object>"
      ]
     },
     "metadata": {},
     "output_type": "display_data"
    },
    {
     "name": "stdout",
     "output_type": "stream",
     "text": [
      "TNSR/USDT:USDT LONG\n",
      "{'tps': [[1725659340000, 0.3008, 0.3012, 0.3008, 0.3011, 178.21], [1725662520000, 0.3049, 0.3056, 0.3049, 0.3056, 908.52], [1725668880000, 0.3094, 0.3099, 0.3094, 0.3098, 5305.76], [1725691320000, 0.3125, 0.3131, 0.3124, 0.3129, 2623.01], [1725692340000, 0.3159, 0.3163, 0.3158, 0.3162, 3099.18]], 'entry_reached': [[1725655860000, 0.2976, 0.2984, 0.2966, 0.2978, 34351.59]], 'stop_loss_reached': None, 'break_reason': None}\n"
     ]
    },
    {
     "data": {
      "text/html": [
       "<p style='color:#0f0;'>********************************************************************************************************************</p>"
      ],
      "text/plain": [
       "<IPython.core.display.HTML object>"
      ]
     },
     "metadata": {},
     "output_type": "display_data"
    },
    {
     "name": "stdout",
     "output_type": "stream",
     "text": [
      "DYDX/USDT:USDT SHORT\n",
      "{'tps': [[1725452040000, 0.828, 0.828, 0.826, 0.826, 3794.9]], 'entry_reached': [[1725451500000, 0.829, 0.831, 0.829, 0.831, 34854.6], [1725459000000, 0.839, 0.843, 0.839, 0.841, 85676.7]], 'stop_loss_reached': [1725460800000, 0.846, 0.851, 0.846, 0.85, 38697.4], 'break_reason': None}\n"
     ]
    },
    {
     "data": {
      "text/html": [
       "<p style='color:#0f0;'>********************************************************************************************************************</p>"
      ],
      "text/plain": [
       "<IPython.core.display.HTML object>"
      ]
     },
     "metadata": {},
     "output_type": "display_data"
    },
    {
     "name": "stdout",
     "output_type": "stream",
     "text": [
      "LTC/USDT:USDT SHORT\n",
      "{'tps': [[1725457800000, 64.75, 64.77, 64.67, 64.71, 314.7], [1725458400000, 64.59, 64.59, 64.36, 64.42, 542.8], [1725459900000, 64.16, 64.2, 64.07, 64.07, 267.3]], 'entry_reached': [[1725456840000, 64.93, 65.12, 64.92, 65.12, 475.5], [1725464100000, 65.45, 65.63, 65.44, 65.62, 228.7]], 'stop_loss_reached': [1725466860000, 65.9, 66.02, 65.9, 65.98, 1420.5], 'break_reason': None}\n"
     ]
    },
    {
     "data": {
      "text/html": [
       "<p style='color:#0f0;'>********************************************************************************************************************</p>"
      ],
      "text/plain": [
       "<IPython.core.display.HTML object>"
      ]
     },
     "metadata": {},
     "output_type": "display_data"
    },
    {
     "name": "stdout",
     "output_type": "stream",
     "text": [
      "FIL/USDT:USDT LONG\n",
      "{'tps': [[1725543480000, 3.39, 3.404, 3.39, 3.403, 4263.6]], 'entry_reached': [[1725542340000, 3.388, 3.39, 3.382, 3.384, 611.6], [1725550080000, 3.339, 3.34, 3.328, 3.33, 6355.4]], 'stop_loss_reached': [1725635880000, 3.308, 3.309, 3.291, 3.302, 41451.7], 'break_reason': None}\n"
     ]
    },
    {
     "data": {
      "text/html": [
       "<p style='color:#0f0;'>********************************************************************************************************************</p>"
      ],
      "text/plain": [
       "<IPython.core.display.HTML object>"
      ]
     },
     "metadata": {},
     "output_type": "display_data"
    },
    {
     "name": "stdout",
     "output_type": "stream",
     "text": [
      "SOL/USDT:USDT LONG\n",
      "{'tps': [], 'entry_reached': [[1725630060000, 131.68, 131.74, 130.791, 130.791, 22872.0], [1725635820000, 128.424, 128.425, 127.462, 127.56, 18813.0]], 'stop_loss_reached': [1725641220000, 126.343, 126.346, 125.751, 125.867, 7890.0], 'break_reason': None}\n"
     ]
    },
    {
     "data": {
      "text/html": [
       "<p style='color:#0f0;'>********************************************************************************************************************</p>"
      ],
      "text/plain": [
       "<IPython.core.display.HTML object>"
      ]
     },
     "metadata": {},
     "output_type": "display_data"
    },
    {
     "name": "stdout",
     "output_type": "stream",
     "text": [
      "BTC/USDT:USDT LONG\n",
      "{'tps': [[1725885720000, 55199.8, 55211.5, 55192.1, 55208.4, 39.06], [1725887880000, 55418.2, 55510.1, 55414.1, 55489.5, 128.86], [1725890100000, 55624.9, 55698.0, 55600.0, 55637.0, 89.56], [1725898320000, 55701.7, 55979.9, 55692.2, 55959.4, 385.4], [1725898800000, 55917.0, 56145.0, 55907.6, 56102.0, 238.33]], 'entry_reached': [[1725884880000, 55017.6, 55017.7, 54955.6, 55006.3, 66.83]], 'stop_loss_reached': None, 'break_reason': None}\n"
     ]
    },
    {
     "data": {
      "text/html": [
       "<p style='color:#0f0;'>********************************************************************************************************************</p>"
      ],
      "text/plain": [
       "<IPython.core.display.HTML object>"
      ]
     },
     "metadata": {},
     "output_type": "display_data"
    },
    {
     "name": "stdout",
     "output_type": "stream",
     "text": [
      "UNI/USDT:USDT LONG\n",
      "{'tps': [], 'entry_reached': [[1725937920000, 6.615, 6.617, 6.602, 6.604, 4318.0], [1725943020000, 6.554, 6.555, 6.545, 6.546, 2992.0]], 'stop_loss_reached': [1725949440000, 6.518, 6.52, 6.503, 6.509, 4086.0], 'break_reason': None}\n"
     ]
    },
    {
     "data": {
      "text/html": [
       "<p style='color:#0f0;'>********************************************************************************************************************</p>"
      ],
      "text/plain": [
       "<IPython.core.display.HTML object>"
      ]
     },
     "metadata": {},
     "output_type": "display_data"
    },
    {
     "name": "stdout",
     "output_type": "stream",
     "text": [
      "BTC/USDT:USDT SHORT\n",
      "{'tps': [], 'entry_reached': [[1725964440000, 57144.0, 57152.1, 57132.5, 57152.0, 6.22], [1725992340000, 57595.4, 57720.8, 57592.4, 57679.4, 93.86]], 'stop_loss_reached': [1725997740000, 57969.9, 58020.6, 57954.4, 57964.8, 85.31], 'break_reason': None}\n"
     ]
    },
    {
     "data": {
      "text/html": [
       "<p style='color:#0f0;'>********************************************************************************************************************</p>"
      ],
      "text/plain": [
       "<IPython.core.display.HTML object>"
      ]
     },
     "metadata": {},
     "output_type": "display_data"
    },
    {
     "name": "stdout",
     "output_type": "stream",
     "text": [
      "ETH/USDT:USDT SHORT\n",
      "{'tps': [[1725976680000, 2331.73, 2331.81, 2328.33, 2331.28, 586.39], [1725977460000, 2327.27, 2327.64, 2318.9, 2324.48, 1126.03]], 'entry_reached': [[1725967920000, 2348.46, 2350.69, 2348.45, 2350.69, 71.25], [1725993180000, 2366.44, 2368.07, 2365.37, 2365.37, 273.94]], 'stop_loss_reached': [1725993480000, 2369.3, 2380.74, 2368.51, 2380.08, 889.16], 'break_reason': None}\n"
     ]
    },
    {
     "data": {
      "text/html": [
       "<p style='color:#0f0;'>********************************************************************************************************************</p>"
      ],
      "text/plain": [
       "<IPython.core.display.HTML object>"
      ]
     },
     "metadata": {},
     "output_type": "display_data"
    },
    {
     "name": "stdout",
     "output_type": "stream",
     "text": [
      "ALT/USDT:USDT SHORT\n",
      "{'tps': [[1726030140000, 0.07808, 0.07816, 0.0779, 0.0779, 21000.56], [1726062660000, 0.07665, 0.07674, 0.07646, 0.07656, 147309.31], [1726066020000, 0.07527, 0.07536, 0.07513, 0.07533, 23759.39]], 'entry_reached': [[1725976500000, 0.08094, 0.08112, 0.0809, 0.08109, 11204601.45]], 'stop_loss_reached': None, 'break_reason': None}\n"
     ]
    },
    {
     "data": {
      "text/html": [
       "<p style='color:#0f0;'>********************************************************************************************************************</p>"
      ],
      "text/plain": [
       "<IPython.core.display.HTML object>"
      ]
     },
     "metadata": {},
     "output_type": "display_data"
    },
    {
     "name": "stdout",
     "output_type": "stream",
     "text": [
      "SUI/USDT:USDT LONG\n",
      "{'tps': [], 'entry_reached': [[1725995040000, 0.92084, 0.92121, 0.92031, 0.92035, 17104.0], [1726014420000, 0.91509, 0.91511, 0.91364, 0.91407, 28037.0]], 'stop_loss_reached': [1726017660000, 0.9088, 0.90882, 0.9019, 0.90307, 290886.0], 'break_reason': None}\n"
     ]
    },
    {
     "data": {
      "text/html": [
       "<p style='color:#0f0;'>********************************************************************************************************************</p>"
      ],
      "text/plain": [
       "<IPython.core.display.HTML object>"
      ]
     },
     "metadata": {},
     "output_type": "display_data"
    },
    {
     "name": "stdout",
     "output_type": "stream",
     "text": [
      "ENS/USDT:USDT SHORT\n",
      "{'tps': [], 'entry_reached': [[1726053120000, 16.919, 16.924, 16.901, 16.911, 190.1], [1726086780000, 17.344, 17.552, 17.336, 17.412, 1592.4]], 'stop_loss_reached': [1726246980000, 17.829, 17.904, 17.826, 17.886, 1705.6], 'break_reason': None}\n"
     ]
    },
    {
     "data": {
      "text/html": [
       "<p style='color:#0f0;'>********************************************************************************************************************</p>"
      ],
      "text/plain": [
       "<IPython.core.display.HTML object>"
      ]
     },
     "metadata": {},
     "output_type": "display_data"
    },
    {
     "name": "stdout",
     "output_type": "stream",
     "text": [
      "GMT/USDT:USDT SHORT\n",
      "{'tps': [], 'entry_reached': [[1726067160000, 0.14383, 0.14449, 0.14381, 0.14435, 397328.0], [1726068420000, 0.14628, 0.14701, 0.14619, 0.14621, 440007.0]], 'stop_loss_reached': [1726069320000, 0.14741, 0.14869, 0.14732, 0.14854, 702916.0], 'break_reason': None}\n"
     ]
    },
    {
     "data": {
      "text/html": [
       "<p style='color:#0f0;'>********************************************************************************************************************</p>"
      ],
      "text/plain": [
       "<IPython.core.display.HTML object>"
      ]
     },
     "metadata": {},
     "output_type": "display_data"
    },
    {
     "name": "stdout",
     "output_type": "stream",
     "text": [
      "1000PEPE/USDT:USDT SHORT\n",
      "{'tps': [], 'entry_reached': [[1726218480000, 0.0073371, 0.0073448, 0.0073371, 0.0073448, 698975.0], [1726224120000, 0.0073865, 0.0073905, 0.0073852, 0.0073889, 3609530.0]], 'stop_loss_reached': [1726224720000, 0.0074051, 0.007416, 0.007404, 0.0074124, 14780923.0], 'break_reason': None}\n"
     ]
    },
    {
     "data": {
      "text/html": [
       "<p style='color:#0f0;'>********************************************************************************************************************</p>"
      ],
      "text/plain": [
       "<IPython.core.display.HTML object>"
      ]
     },
     "metadata": {},
     "output_type": "display_data"
    },
    {
     "name": "stdout",
     "output_type": "stream",
     "text": [
      "TONCOIN/USDT:USDT LONG\n",
      "{'tps': [], 'entry_reached': [[1726306500000, 5.766, 5.769, 5.764, 5.765, 516.6], [1726310880000, 5.731, 5.733, 5.723, 5.724, 3370.5]], 'stop_loss_reached': [1726315200000, 5.684, 5.685, 5.663, 5.668, 5856.2], 'break_reason': None}\n"
     ]
    },
    {
     "data": {
      "text/html": [
       "<p style='color:#0f0;'>********************************************************************************************************************</p>"
      ],
      "text/plain": [
       "<IPython.core.display.HTML object>"
      ]
     },
     "metadata": {},
     "output_type": "display_data"
    },
    {
     "name": "stdout",
     "output_type": "stream",
     "text": [
      "FXS/USDT:USDT SHORT\n",
      "{'tps': [[1726441800000, 1.8297, 1.8323, 1.8264, 1.8264, 1032.3], [1726455240000, 1.8027, 1.8039, 1.7987, 1.8003, 797.4], [1726518780000, 1.7719, 1.774, 1.7703, 1.774, 180.0]], 'entry_reached': [[1726402860000, 1.8833, 1.8861, 1.8833, 1.8861, 234.1]], 'stop_loss_reached': None, 'break_reason': None}\n"
     ]
    },
    {
     "data": {
      "text/html": [
       "<p style='color:#0f0;'>********************************************************************************************************************</p>"
      ],
      "text/plain": [
       "<IPython.core.display.HTML object>"
      ]
     },
     "metadata": {},
     "output_type": "display_data"
    },
    {
     "name": "stdout",
     "output_type": "stream",
     "text": [
      "DYDX/USDT:USDT LONG\n",
      "{'tps': [], 'entry_reached': [[1726404600000, 0.917, 0.917, 0.917, 0.917, 376.4], [1726434240000, 0.904, 0.904, 0.897, 0.9, 146782.0]], 'stop_loss_reached': [1726437000000, 0.888, 0.889, 0.886, 0.888, 83911.3], 'break_reason': None}\n"
     ]
    },
    {
     "data": {
      "text/html": [
       "<p style='color:#0f0;'>********************************************************************************************************************</p>"
      ],
      "text/plain": [
       "<IPython.core.display.HTML object>"
      ]
     },
     "metadata": {},
     "output_type": "display_data"
    },
    {
     "name": "stdout",
     "output_type": "stream",
     "text": [
      "BTC/USDT:USDT LONG\n",
      "{'tps': [], 'entry_reached': [[1726493700000, 58227.4, 58227.4, 58099.1, 58155.8, 236.03], [1726493760000, 58155.5, 58199.4, 58120.0, 58156.7, 184.66]], 'stop_loss_reached': [1726494300000, 58065.8, 58155.0, 57992.0, 58113.7, 155.5], 'break_reason': None}\n"
     ]
    },
    {
     "data": {
      "text/html": [
       "<p style='color:#0f0;'>********************************************************************************************************************</p>"
      ],
      "text/plain": [
       "<IPython.core.display.HTML object>"
      ]
     },
     "metadata": {},
     "output_type": "display_data"
    },
    {
     "name": "stdout",
     "output_type": "stream",
     "text": [
      "PYTH/USDT:USDT LONG\n",
      "{'tps': [[1727174580000, 0.347, 0.3484, 0.347, 0.3484, 105938.0], [1727177760000, 0.3523, 0.3529, 0.3521, 0.3529, 10593.0], [1727180640000, 0.3548, 0.3581, 0.3548, 0.3576, 13636.0]], 'entry_reached': [[1727167320000, 0.3432, 0.3434, 0.343, 0.343, 1883.0]], 'stop_loss_reached': None, 'break_reason': None}\n"
     ]
    },
    {
     "data": {
      "text/html": [
       "<p style='color:#0f0;'>********************************************************************************************************************</p>"
      ],
      "text/plain": [
       "<IPython.core.display.HTML object>"
      ]
     },
     "metadata": {},
     "output_type": "display_data"
    },
    {
     "name": "stdout",
     "output_type": "stream",
     "text": [
      "SOL/USDT:USDT LONG\n",
      "{'tps': [[1727196300000, 146.079, 146.46, 146.079, 146.444, 3865.0], [1727199300000, 147.827, 148.083, 147.826, 147.919, 3119.0], [1727215260000, 149.186, 149.47, 149.176, 149.455, 2769.0]], 'entry_reached': [[1727188560000, 144.442, 144.557, 144.247, 144.257, 4909.0]], 'stop_loss_reached': None, 'break_reason': None}\n"
     ]
    },
    {
     "data": {
      "text/html": [
       "<p style='color:#0f0;'>********************************************************************************************************************</p>"
      ],
      "text/plain": [
       "<IPython.core.display.HTML object>"
      ]
     },
     "metadata": {},
     "output_type": "display_data"
    },
    {
     "name": "stdout",
     "output_type": "stream",
     "text": [
      "BTC/USDT:USDT LONG\n",
      "{'tps': [], 'entry_reached': [[1727247360000, 63876.0, 63876.7, 63788.0, 63791.8, 35.51], [1727286360000, 63040.2, 63040.3, 62984.9, 62989.7, 73.8]], 'stop_loss_reached': [1727314680000, 62688.0, 62698.6, 62647.7, 62663.7, 105.96], 'break_reason': None}\n"
     ]
    },
    {
     "data": {
      "text/html": [
       "<p style='color:#0f0;'>********************************************************************************************************************</p>"
      ],
      "text/plain": [
       "<IPython.core.display.HTML object>"
      ]
     },
     "metadata": {},
     "output_type": "display_data"
    },
    {
     "name": "stdout",
     "output_type": "stream",
     "text": [
      "OP/USDT:USDT LONG\n",
      "{'tps': [[1727346420000, 1.7517, 1.7563, 1.7512, 1.754, 38331.4], [1727367900000, 1.7609, 1.7741, 1.7604, 1.7688, 30412.6], [1727409900000, 1.79, 1.7925, 1.7895, 1.7915, 10217.1]], 'entry_reached': [[1727344620000, 1.7354, 1.7356, 1.734, 1.7342, 2135.0]], 'stop_loss_reached': None, 'break_reason': None}\n"
     ]
    },
    {
     "data": {
      "text/html": [
       "<p style='color:#0f0;'>********************************************************************************************************************</p>"
      ],
      "text/plain": [
       "<IPython.core.display.HTML object>"
      ]
     },
     "metadata": {},
     "output_type": "display_data"
    },
    {
     "name": "stdout",
     "output_type": "stream",
     "text": [
      "TAO/USDT:USDT LONG\n",
      "{'tps': [], 'entry_reached': [[1727348820000, 552.16, 552.6, 551.99, 552.15, 0.98], [1727361060000, 538.34, 538.37, 535.49, 535.93, 151.91]], 'stop_loss_reached': [1727362320000, 534.96, 534.96, 531.01, 531.13, 73.96], 'break_reason': None}\n"
     ]
    },
    {
     "data": {
      "text/html": [
       "<p style='color:#0f0;'>********************************************************************************************************************</p>"
      ],
      "text/plain": [
       "<IPython.core.display.HTML object>"
      ]
     },
     "metadata": {},
     "output_type": "display_data"
    },
    {
     "name": "stdout",
     "output_type": "stream",
     "text": [
      "RVN/USDT:USDT SHORT\n",
      "{'tps': [], 'entry_reached': [[1727359620000, 0.01825, 0.01829, 0.01825, 0.01827, 413420.0], [1727360580000, 0.01842, 0.01847, 0.01842, 0.01845, 145249.0]], 'stop_loss_reached': [1727367000000, 0.01854, 0.0186, 0.01851, 0.01855, 65160.0], 'break_reason': None}\n"
     ]
    },
    {
     "data": {
      "text/html": [
       "<p style='color:#0f0;'>********************************************************************************************************************</p>"
      ],
      "text/plain": [
       "<IPython.core.display.HTML object>"
      ]
     },
     "metadata": {},
     "output_type": "display_data"
    },
    {
     "name": "stdout",
     "output_type": "stream",
     "text": [
      "1000PEPE/USDT:USDT LONG\n",
      "{'tps': [[1727440200000, 0.0105403, 0.0105928, 0.010538, 0.0105928, 516125.0], [1727445720000, 0.0107059, 0.0107535, 0.0107059, 0.0107261, 6494366.0], [1727446920000, 0.0107825, 0.0108793, 0.0107819, 0.0108793, 6642158.0]], 'entry_reached': [[1727439540000, 0.0104528, 0.0104757, 0.0104375, 0.0104657, 3314468.0]], 'stop_loss_reached': None, 'break_reason': None}\n"
     ]
    },
    {
     "data": {
      "text/html": [
       "<p style='color:#0f0;'>********************************************************************************************************************</p>"
      ],
      "text/plain": [
       "<IPython.core.display.HTML object>"
      ]
     },
     "metadata": {},
     "output_type": "display_data"
    },
    {
     "name": "stdout",
     "output_type": "stream",
     "text": [
      "BIGTIME/USDT:USDT LONG\n",
      "{'tps': [[1727450940000, 0.1378, 0.1387, 0.1376, 0.1384, 92035.9], [1727456100000, 0.1418, 0.1425, 0.1418, 0.1419, 282924.98], [1727457180000, 0.1446, 0.1454, 0.1442, 0.1449, 518018.74]], 'entry_reached': [[1727447460000, 0.1354, 0.1356, 0.1349, 0.1354, 59722.32]], 'stop_loss_reached': None, 'break_reason': None}\n"
     ]
    },
    {
     "data": {
      "text/html": [
       "<p style='color:#0f0;'>********************************************************************************************************************</p>"
      ],
      "text/plain": [
       "<IPython.core.display.HTML object>"
      ]
     },
     "metadata": {},
     "output_type": "display_data"
    },
    {
     "name": "stdout",
     "output_type": "stream",
     "text": [
      "NEAR/USDT:USDT SHORT\n",
      "{'tps': [[1727510820000, 5.3693, 5.3707, 5.363, 5.366, 6340.0]], 'entry_reached': [[1727508120000, 5.4052, 5.406, 5.4026, 5.4039, 1896.0], [1727517300000, 5.4619, 5.4642, 5.4569, 5.4578, 2611.0]], 'stop_loss_reached': [1727518200000, 5.47, 5.4946, 5.4695, 5.489, 9054.0], 'break_reason': None}\n"
     ]
    },
    {
     "data": {
      "text/html": [
       "<p style='color:#0f0;'>********************************************************************************************************************</p>"
      ],
      "text/plain": [
       "<IPython.core.display.HTML object>"
      ]
     },
     "metadata": {},
     "output_type": "display_data"
    },
    {
     "name": "stdout",
     "output_type": "stream",
     "text": [
      "LDO/USDT:USDT SHORT\n",
      "{'tps': [[1727528880000, 1.3203, 1.3205, 1.3178, 1.318, 3626.0], [1727596200000, 1.2974, 1.2982, 1.2953, 1.2959, 10567.0], [1727737320000, 1.277, 1.2771, 1.2718, 1.2724, 13937.0]], 'entry_reached': [[1727519820000, 1.3478, 1.3488, 1.3466, 1.3469, 5527.0]], 'stop_loss_reached': None, 'break_reason': None}\n"
     ]
    },
    {
     "data": {
      "text/html": [
       "<p style='color:#0f0;'>********************************************************************************************************************</p>"
      ],
      "text/plain": [
       "<IPython.core.display.HTML object>"
      ]
     },
     "metadata": {},
     "output_type": "display_data"
    },
    {
     "name": "stdout",
     "output_type": "stream",
     "text": [
      "NEAR/USDT:USDT LONG\n",
      "{'tps': [[1727563320000, 5.5293, 5.5527, 5.5292, 5.5516, 2416.0]], 'entry_reached': [[1727534940000, 5.4974, 5.4982, 5.4894, 5.4902, 2837.0], [1727558460000, 5.3993, 5.4016, 5.3942, 5.3951, 3767.0]], 'stop_loss_reached': [1727614860000, 5.3713, 5.3713, 5.3527, 5.3538, 6829.0], 'break_reason': None}\n"
     ]
    },
    {
     "data": {
      "text/html": [
       "<p style='color:#0f0;'>********************************************************************************************************************</p>"
      ],
      "text/plain": [
       "<IPython.core.display.HTML object>"
      ]
     },
     "metadata": {},
     "output_type": "display_data"
    },
    {
     "name": "stdout",
     "output_type": "stream",
     "text": [
      "1000PEPE/USDT:USDT SHORT\n",
      "{'tps': [[1727620440000, 0.0110774, 0.0110831, 0.0110091, 0.0110091, 17668357.0], [1727690340000, 0.0108611, 0.0108612, 0.0107469, 0.0107486, 18133740.0], [1727737020000, 0.0106188, 0.0106191, 0.0105685, 0.010571, 5208789.0]], 'entry_reached': [[1727600820000, 0.0112487, 0.0112978, 0.0112487, 0.0112819, 1870576.0], [1727640240000, 0.0115093, 0.0116573, 0.0115055, 0.0116132, 10838503.0]], 'stop_loss_reached': None, 'break_reason': None}\n"
     ]
    },
    {
     "data": {
      "text/html": [
       "<p style='color:#0f0;'>********************************************************************************************************************</p>"
      ],
      "text/plain": [
       "<IPython.core.display.HTML object>"
      ]
     },
     "metadata": {},
     "output_type": "display_data"
    },
    {
     "data": {
      "text/html": [
       "<p style='color:#FFFF00;'>waiting 5 min...</p>"
      ],
      "text/plain": [
       "<IPython.core.display.HTML object>"
      ]
     },
     "metadata": {},
     "output_type": "display_data"
    },
    {
     "name": "stdout",
     "output_type": "stream",
     "text": [
      "BNB/USDT:USDT SHORT\n",
      "{'tps': [], 'entry_reached': [[1727849520000, 553.08, 553.1, 552.79, 552.93, 19.35], [1727850660000, 554.16, 554.32, 554.15, 554.22, 20.02]], 'stop_loss_reached': [1727851020000, 554.92, 555.73, 554.92, 555.72, 23.82], 'break_reason': None}\n"
     ]
    },
    {
     "data": {
      "text/html": [
       "<p style='color:#0f0;'>********************************************************************************************************************</p>"
      ],
      "text/plain": [
       "<IPython.core.display.HTML object>"
      ]
     },
     "metadata": {},
     "output_type": "display_data"
    },
    {
     "name": "stdout",
     "output_type": "stream",
     "text": [
      "OP/USDT:USDT SHORT\n",
      "{'tps': [[1727861580000, 1.6718, 1.6718, 1.6678, 1.6697, 3026.8], [1727862360000, 1.6602, 1.6602, 1.6539, 1.6541, 6173.6], [1727867340000, 1.6425, 1.6443, 1.6399, 1.6399, 11010.7]], 'entry_reached': [[1727850840000, 1.6816, 1.6836, 1.6814, 1.6832, 3196.9], [1727854560000, 1.699, 1.7022, 1.6985, 1.7014, 3743.9]], 'stop_loss_reached': None, 'break_reason': None}\n"
     ]
    },
    {
     "data": {
      "text/html": [
       "<p style='color:#0f0;'>********************************************************************************************************************</p>"
      ],
      "text/plain": [
       "<IPython.core.display.HTML object>"
      ]
     },
     "metadata": {},
     "output_type": "display_data"
    },
    {
     "name": "stdout",
     "output_type": "stream",
     "text": [
      "UNI/USDT:USDT SHORT\n"
     ]
    },
    {
     "data": {
      "text/html": [
       "<p style='color:#c01;'>json, 1727814600000</p>"
      ],
      "text/plain": [
       "<IPython.core.display.HTML object>"
      ]
     },
     "metadata": {},
     "output_type": "display_data"
    },
    {
     "data": {
      "text/html": [
       "<p style='color:#fd03a1;'>stop_timestamp</p>"
      ],
      "text/plain": [
       "<IPython.core.display.HTML object>"
      ]
     },
     "metadata": {},
     "output_type": "display_data"
    },
    {
     "data": {
      "text/html": [
       "<p style='color:#ada;'>saving historic tohlcv data to json</p>"
      ],
      "text/plain": [
       "<IPython.core.display.HTML object>"
      ]
     },
     "metadata": {},
     "output_type": "display_data"
    },
    {
     "name": "stdout",
     "output_type": "stream",
     "text": [
      "{'tps': [[1727866500000, 7.045, 7.05, 7.026, 7.029, 2882.0], [1727870820000, 6.958, 6.962, 6.946, 6.947, 1967.0], [1727875800000, 6.868, 6.873, 6.853, 6.853, 2179.0]], 'entry_reached': [[1727863860000, 7.109, 7.128, 7.109, 7.119, 1808.0]], 'stop_loss_reached': None, 'break_reason': None}\n"
     ]
    },
    {
     "data": {
      "text/html": [
       "<p style='color:#0f0;'>********************************************************************************************************************</p>"
      ],
      "text/plain": [
       "<IPython.core.display.HTML object>"
      ]
     },
     "metadata": {},
     "output_type": "display_data"
    },
    {
     "name": "stdout",
     "output_type": "stream",
     "text": [
      "BCH/USDT:USDT SHORT\n",
      "{'tps': [[1727873700000, 314.27, 314.54, 314.0, 314.2, 49.1], [1727895840000, 311.07, 311.19, 309.76, 309.84, 28.81]], 'entry_reached': [[1727871780000, 317.31, 317.75, 317.15, 317.57, 30.79], [1727885100000, 321.53, 322.35, 321.53, 322.09, 19.99]], 'stop_loss_reached': [1728007320000, 324.17, 324.71, 324.17, 324.61, 22.32], 'break_reason': None}\n"
     ]
    },
    {
     "data": {
      "text/html": [
       "<p style='color:#0f0;'>********************************************************************************************************************</p>"
      ],
      "text/plain": [
       "<IPython.core.display.HTML object>"
      ]
     },
     "metadata": {},
     "output_type": "display_data"
    },
    {
     "name": "stdout",
     "output_type": "stream",
     "text": [
      "1000PEPE/USDT:USDT SHORT\n",
      "{'tps': [[1727892300000, 0.0095986, 0.0096016, 0.0095547, 0.0095596, 2657846.0], [1727895780000, 0.009298, 0.0093079, 0.0092183, 0.0092293, 7000719.0], [1727896680000, 0.0090465, 0.0090499, 0.0089355, 0.0089747, 11005638.0]], 'entry_reached': [[1727885220000, 0.0099363, 0.0099922, 0.0099329, 0.0099833, 2878323.0]], 'stop_loss_reached': None, 'break_reason': None}\n"
     ]
    },
    {
     "data": {
      "text/html": [
       "<p style='color:#0f0;'>********************************************************************************************************************</p>"
      ],
      "text/plain": [
       "<IPython.core.display.HTML object>"
      ]
     },
     "metadata": {},
     "output_type": "display_data"
    },
    {
     "name": "stdout",
     "output_type": "stream",
     "text": [
      "1000PEPE/USDT:USDT SHORT\n",
      "{'tps': [[1727941740000, 0.009149, 0.009149, 0.0091309, 0.0091416, 1558937.0], [1727942700000, 0.0090689, 0.0090765, 0.0090152, 0.0090309, 2441983.0], [1727943240000, 0.0089232, 0.0089245, 0.0088519, 0.0088768, 8845905.0]], 'entry_reached': [[1727940900000, 0.0092566, 0.0092759, 0.0092539, 0.0092698, 932235.0]], 'stop_loss_reached': None, 'break_reason': None}\n"
     ]
    },
    {
     "data": {
      "text/html": [
       "<p style='color:#0f0;'>********************************************************************************************************************</p>"
      ],
      "text/plain": [
       "<IPython.core.display.HTML object>"
      ]
     },
     "metadata": {},
     "output_type": "display_data"
    },
    {
     "name": "stdout",
     "output_type": "stream",
     "text": [
      "BTC/USDT:USDT LONG\n",
      "{'tps': [[1727964300000, 60453.2, 60666.6, 60428.7, 60627.3, 96.93], [1728005220000, 61012.8, 61189.9, 61012.8, 61175.1, 91.88], [1728030240000, 61556.1, 61610.0, 61555.2, 61573.9, 81.36]], 'entry_reached': [[1727961300000, 60191.6, 60206.6, 60113.4, 60115.4, 114.07]], 'stop_loss_reached': None, 'break_reason': None}\n"
     ]
    },
    {
     "data": {
      "text/html": [
       "<p style='color:#0f0;'>********************************************************************************************************************</p>"
      ],
      "text/plain": [
       "<IPython.core.display.HTML object>"
      ]
     },
     "metadata": {},
     "output_type": "display_data"
    },
    {
     "name": "stdout",
     "output_type": "stream",
     "text": [
      "TAO/USDT:USDT SHORT\n",
      "{'tps': [], 'entry_reached': [[1728032400000, 519.88, 521.29, 519.85, 520.65, 3.95], [1728046920000, 533.13, 538.62, 533.12, 537.92, 111.5]], 'stop_loss_reached': [1728054600000, 544.01, 549.24, 543.41, 548.34, 127.92], 'break_reason': None}\n"
     ]
    },
    {
     "data": {
      "text/html": [
       "<p style='color:#0f0;'>********************************************************************************************************************</p>"
      ],
      "text/plain": [
       "<IPython.core.display.HTML object>"
      ]
     },
     "metadata": {},
     "output_type": "display_data"
    },
    {
     "name": "stdout",
     "output_type": "stream",
     "text": [
      "1000PEPE/USDT:USDT SHORT\n",
      "{'tps': [[1728158880000, 0.0092678, 0.0092679, 0.0092308, 0.0092369, 3204046.0]], 'entry_reached': [[1728119160000, 0.0094915, 0.0095181, 0.0094913, 0.0095141, 6328469.0], [1728225420000, 0.0097691, 0.00982, 0.0097674, 0.00982, 5248007.0]], 'stop_loss_reached': [1728230460000, 0.0099845, 0.0101626, 0.0099829, 0.0101281, 19049113.0], 'break_reason': None}\n"
     ]
    },
    {
     "data": {
      "text/html": [
       "<p style='color:#0f0;'>********************************************************************************************************************</p>"
      ],
      "text/plain": [
       "<IPython.core.display.HTML object>"
      ]
     },
     "metadata": {},
     "output_type": "display_data"
    },
    {
     "name": "stdout",
     "output_type": "stream",
     "text": [
      "GALA/USDT:USDT SHORT\n",
      "{'tps': [[1728135660000, 0.01992, 0.01992, 0.01984, 0.01984, 400844.0], [1728137700000, 0.01973, 0.01975, 0.01969, 0.01971, 1364544.0], [1728146400000, 0.01961, 0.01962, 0.01954, 0.01956, 5027821.0]], 'entry_reached': [[1728132420000, 0.02, 0.02, 0.01996, 0.01996, 501329.0]], 'stop_loss_reached': None, 'break_reason': None}\n"
     ]
    },
    {
     "data": {
      "text/html": [
       "<p style='color:#0f0;'>********************************************************************************************************************</p>"
      ],
      "text/plain": [
       "<IPython.core.display.HTML object>"
      ]
     },
     "metadata": {},
     "output_type": "display_data"
    },
    {
     "name": "stdout",
     "output_type": "stream",
     "text": [
      "LPT/USDT:USDT LONG\n",
      "{'tps': [[1728266400000, 12.856, 12.87, 12.851, 12.87, 415.9]], 'entry_reached': [[1728134460000, 12.549, 12.566, 12.546, 12.548, 221.1], [1728146400000, 12.309, 12.311, 12.27, 12.284, 755.5]], 'stop_loss_reached': [1728393120000, 11.948, 11.948, 11.915, 11.923, 263.8], 'break_reason': None}\n"
     ]
    },
    {
     "data": {
      "text/html": [
       "<p style='color:#0f0;'>********************************************************************************************************************</p>"
      ],
      "text/plain": [
       "<IPython.core.display.HTML object>"
      ]
     },
     "metadata": {},
     "output_type": "display_data"
    },
    {
     "name": "stdout",
     "output_type": "stream",
     "text": [
      "GALA/USDT:USDT SHORT\n",
      "{'tps': [], 'entry_reached': [[1728219120000, 0.0199, 0.01993, 0.0199, 0.01991, 599346.0], [1728224700000, 0.02006, 0.02015, 0.02006, 0.02012, 981616.0]], 'stop_loss_reached': [1728225060000, 0.0202, 0.0203, 0.02018, 0.02027, 2370525.0], 'break_reason': None}\n"
     ]
    },
    {
     "data": {
      "text/html": [
       "<p style='color:#0f0;'>********************************************************************************************************************</p>"
      ],
      "text/plain": [
       "<IPython.core.display.HTML object>"
      ]
     },
     "metadata": {},
     "output_type": "display_data"
    },
    {
     "name": "stdout",
     "output_type": "stream",
     "text": [
      "BTC/USDT:USDT SHORT\n",
      "{'tps': [], 'entry_reached': [[1728307020000, 62886.7, 62937.5, 62870.0, 62915.8, 4.86], [1728307320000, 63074.0, 63112.0, 63058.1, 63095.7, 25.81]], 'stop_loss_reached': [1728308460000, 63112.5, 63203.9, 63106.2, 63200.2, 28.98], 'break_reason': None}\n"
     ]
    },
    {
     "data": {
      "text/html": [
       "<p style='color:#0f0;'>********************************************************************************************************************</p>"
      ],
      "text/plain": [
       "<IPython.core.display.HTML object>"
      ]
     },
     "metadata": {},
     "output_type": "display_data"
    },
    {
     "name": "stdout",
     "output_type": "stream",
     "text": [
      "BNB/USDT:USDT LONG\n",
      "{'tps': [[1728384840000, 573.29, 574.12, 573.0, 573.0, 118.72], [1728395880000, 577.66, 578.05, 577.64, 577.96, 87.11], [1728406200000, 581.46, 582.85, 581.45, 581.99, 91.37]], 'entry_reached': [[1728378900000, 569.15, 569.21, 569.11, 569.19, 110.98]], 'stop_loss_reached': None, 'break_reason': None}\n"
     ]
    },
    {
     "data": {
      "text/html": [
       "<p style='color:#0f0;'>********************************************************************************************************************</p>"
      ],
      "text/plain": [
       "<IPython.core.display.HTML object>"
      ]
     },
     "metadata": {},
     "output_type": "display_data"
    },
    {
     "name": "stdout",
     "output_type": "stream",
     "text": [
      "TONCOIN/USDT:USDT SHORT\n",
      "{'tps': [[1728393060000, 5.172, 5.174, 5.168, 5.168, 3348.7], [1728485820000, 5.146, 5.148, 5.114, 5.126, 18902.5], [1728505020000, 5.103, 5.103, 5.086, 5.086, 2568.9]], 'entry_reached': [[1728381660000, 5.206, 5.212, 5.205, 5.209, 552.7]], 'stop_loss_reached': None, 'break_reason': None}\n"
     ]
    },
    {
     "data": {
      "text/html": [
       "<p style='color:#0f0;'>********************************************************************************************************************</p>"
      ],
      "text/plain": [
       "<IPython.core.display.HTML object>"
      ]
     },
     "metadata": {},
     "output_type": "display_data"
    },
    {
     "name": "stdout",
     "output_type": "stream",
     "text": [
      "LTC/USDT:USDT LONG\n",
      "{'tps': [[1728395940000, 65.81, 65.85, 65.81, 65.84, 207.3]], 'entry_reached': [[1728385500000, 65.46, 65.46, 65.43, 65.43, 280.8], [1728478620000, 64.91, 64.98, 64.89, 64.91, 862.6]], 'stop_loss_reached': [1728506880000, 64.65, 64.7, 64.47, 64.5, 412.2], 'break_reason': None}\n"
     ]
    },
    {
     "data": {
      "text/html": [
       "<p style='color:#0f0;'>********************************************************************************************************************</p>"
      ],
      "text/plain": [
       "<IPython.core.display.HTML object>"
      ]
     },
     "metadata": {},
     "output_type": "display_data"
    },
    {
     "name": "stdout",
     "output_type": "stream",
     "text": [
      "TURBO/USDT:USDT LONG\n",
      "{'tps': [[1728394260000, 0.006977, 0.007014, 0.006952, 0.006983, 16230808.0], [1728395160000, 0.007057, 0.007125, 0.007057, 0.007121, 8866793.0]], 'entry_reached': [[1728392880000, 0.00686, 0.006873, 0.006853, 0.00687, 5859761.0], [1728413160000, 0.00669, 0.0067, 0.006664, 0.006667, 6635349.0]], 'stop_loss_reached': [1728415260000, 0.006598, 0.0066, 0.006577, 0.006592, 3996816.0], 'break_reason': None}\n"
     ]
    },
    {
     "data": {
      "text/html": [
       "<p style='color:#0f0;'>********************************************************************************************************************</p>"
      ],
      "text/plain": [
       "<IPython.core.display.HTML object>"
      ]
     },
     "metadata": {},
     "output_type": "display_data"
    },
    {
     "name": "stdout",
     "output_type": "stream",
     "text": [
      "BTC/USDT:USDT SHORT\n",
      "{'tps': [], 'entry_reached': [[1728393420000, 62412.3, 62430.6, 62369.7, 62373.3, 20.33], [1728394380000, 62674.1, 62750.4, 62651.5, 62707.9, 85.66]], 'stop_loss_reached': [1728394500000, 62745.9, 62847.5, 62698.9, 62846.4, 96.63], 'break_reason': None}\n"
     ]
    },
    {
     "data": {
      "text/html": [
       "<p style='color:#0f0;'>********************************************************************************************************************</p>"
      ],
      "text/plain": [
       "<IPython.core.display.HTML object>"
      ]
     },
     "metadata": {},
     "output_type": "display_data"
    },
    {
     "name": "stdout",
     "output_type": "stream",
     "text": [
      "KAVA/USDT:USDT SHORT\n",
      "{'tps': [[1728482520000, 0.3274, 0.3276, 0.3269, 0.327, 4629.3]], 'entry_reached': [[1728481320000, 0.3305, 0.3311, 0.3292, 0.3311, 19557.2], [1728487440000, 0.3341, 0.3351, 0.3339, 0.3348, 710.7]], 'stop_loss_reached': [1728540660000, 0.3366, 0.3376, 0.3366, 0.3374, 12536.9], 'break_reason': None}\n"
     ]
    },
    {
     "data": {
      "text/html": [
       "<p style='color:#0f0;'>********************************************************************************************************************</p>"
      ],
      "text/plain": [
       "<IPython.core.display.HTML object>"
      ]
     },
     "metadata": {},
     "output_type": "display_data"
    },
    {
     "name": "stdout",
     "output_type": "stream",
     "text": [
      "DYDX/USDT:USDT SHORT\n",
      "{'tps': [[1728580020000, 0.894, 0.894, 0.89, 0.892, 33768.2]], 'entry_reached': [[1728554580000, 0.907, 0.908, 0.907, 0.908, 14018.3], [1728662280000, 0.925, 0.926, 0.924, 0.926, 3852.3]], 'stop_loss_reached': [1728876240000, 0.938, 0.941, 0.938, 0.94, 16455.4], 'break_reason': None}\n"
     ]
    },
    {
     "data": {
      "text/html": [
       "<p style='color:#0f0;'>********************************************************************************************************************</p>"
      ],
      "text/plain": [
       "<IPython.core.display.HTML object>"
      ]
     },
     "metadata": {},
     "output_type": "display_data"
    },
    {
     "name": "stdout",
     "output_type": "stream",
     "text": [
      "LINK/USDT:USDT SHORT\n",
      "{'tps': [], 'entry_reached': [[1728636480000, 10.667, 10.671, 10.664, 10.669, 427.7], [1728659400000, 10.76, 10.791, 10.758, 10.787, 1369.7]], 'stop_loss_reached': [1728659640000, 10.819, 10.871, 10.817, 10.863, 4877.5], 'break_reason': None}\n"
     ]
    },
    {
     "data": {
      "text/html": [
       "<p style='color:#0f0;'>********************************************************************************************************************</p>"
      ],
      "text/plain": [
       "<IPython.core.display.HTML object>"
      ]
     },
     "metadata": {},
     "output_type": "display_data"
    },
    {
     "name": "stdout",
     "output_type": "stream",
     "text": [
      "TIA/USDT:USDT LONG\n",
      "{'tps': [], 'entry_reached': [], 'stop_loss_reached': None, 'break_reason': 'WAIT MANY DAYS'}\n"
     ]
    },
    {
     "data": {
      "text/html": [
       "<p style='color:#0f0;'>********************************************************************************************************************</p>"
      ],
      "text/plain": [
       "<IPython.core.display.HTML object>"
      ]
     },
     "metadata": {},
     "output_type": "display_data"
    },
    {
     "name": "stdout",
     "output_type": "stream",
     "text": [
      "1000BONK/USDT:USDT LONG\n",
      "{'tps': [[1728744540000, 0.022287, 0.022344, 0.022274, 0.022339, 448560.0]], 'entry_reached': [[1728734580000, 0.02208, 0.022086, 0.022065, 0.022073, 109251.0], [1728757320000, 0.021735, 0.021735, 0.021698, 0.021699, 151145.0]], 'stop_loss_reached': [1728760740000, 0.021587, 0.021587, 0.021508, 0.02151, 785277.0], 'break_reason': None}\n"
     ]
    },
    {
     "data": {
      "text/html": [
       "<p style='color:#0f0;'>********************************************************************************************************************</p>"
      ],
      "text/plain": [
       "<IPython.core.display.HTML object>"
      ]
     },
     "metadata": {},
     "output_type": "display_data"
    },
    {
     "name": "stdout",
     "output_type": "stream",
     "text": [
      "LDO/USDT:USDT LONG\n",
      "{'tps': [[1728746340000, 1.0892, 1.0933, 1.0892, 1.093, 6880.0]], 'entry_reached': [[1728738960000, 1.085, 1.0853, 1.0837, 1.0837, 8385.0], [1728781260000, 1.0732, 1.0735, 1.0713, 1.0713, 7395.0]], 'stop_loss_reached': [1728782280000, 1.067, 1.067, 1.0627, 1.063, 55035.0], 'break_reason': None}\n"
     ]
    },
    {
     "data": {
      "text/html": [
       "<p style='color:#0f0;'>********************************************************************************************************************</p>"
      ],
      "text/plain": [
       "<IPython.core.display.HTML object>"
      ]
     },
     "metadata": {},
     "output_type": "display_data"
    },
    {
     "name": "stdout",
     "output_type": "stream",
     "text": [
      "BTC/USDT:USDT LONG\n",
      "{'tps': [], 'entry_reached': [[1728746820000, 63268.5, 63304.3, 63268.3, 63304.1, 12.62], [1728757440000, 63023.6, 63027.1, 62978.1, 62989.0, 33.68]], 'stop_loss_reached': [1728782340000, 62879.7, 62879.8, 62819.0, 62838.6, 94.97], 'break_reason': None}\n"
     ]
    },
    {
     "data": {
      "text/html": [
       "<p style='color:#0f0;'>********************************************************************************************************************</p>"
      ],
      "text/plain": [
       "<IPython.core.display.HTML object>"
      ]
     },
     "metadata": {},
     "output_type": "display_data"
    },
    {
     "name": "stdout",
     "output_type": "stream",
     "text": [
      "NEIROCTO/USDT:USDT SHORT\n",
      "{'tps': [[1728831240000, 0.0020289, 0.0020315, 0.001995, 0.0020102, 26767188.0]], 'entry_reached': [[1728824520000, 0.0020478, 0.002059, 0.0020437, 0.0020569, 6171695.0], [1728850860000, 0.0020852, 0.00214, 0.0020852, 0.0021246, 57712717.0]], 'stop_loss_reached': [1728850920000, 0.0021245, 0.0021472, 0.0021228, 0.0021472, 29058907.0], 'break_reason': None}\n"
     ]
    },
    {
     "data": {
      "text/html": [
       "<p style='color:#0f0;'>********************************************************************************************************************</p>"
      ],
      "text/plain": [
       "<IPython.core.display.HTML object>"
      ]
     },
     "metadata": {},
     "output_type": "display_data"
    },
    {
     "name": "stdout",
     "output_type": "stream",
     "text": [
      "AEVO/USDT:USDT LONG\n",
      "{'tps': [[1728916020000, 0.3629, 0.3637, 0.3628, 0.3633, 20826.69], [1728927540000, 0.3678, 0.3684, 0.3675, 0.3684, 15422.11], [1728932940000, 0.3717, 0.3721, 0.3714, 0.3718, 36995.9]], 'entry_reached': [[1728898200000, 0.3596, 0.3601, 0.3593, 0.3599, 13812.36]], 'stop_loss_reached': None, 'break_reason': None}\n"
     ]
    },
    {
     "data": {
      "text/html": [
       "<p style='color:#0f0;'>********************************************************************************************************************</p>"
      ],
      "text/plain": [
       "<IPython.core.display.HTML object>"
      ]
     },
     "metadata": {},
     "output_type": "display_data"
    },
    {
     "name": "stdout",
     "output_type": "stream",
     "text": [
      "PYTH/USDT:USDT LONG\n",
      "{'tps': [[1728916920000, 0.3421, 0.3425, 0.3418, 0.3423, 14276.0], [1728929220000, 0.3457, 0.346, 0.3455, 0.3459, 2963.0], [1728940920000, 0.3495, 0.3497, 0.3492, 0.3497, 3819.0]], 'entry_reached': [[1728904920000, 0.3393, 0.3393, 0.3387, 0.3389, 1750.0]], 'stop_loss_reached': None, 'break_reason': None}\n"
     ]
    },
    {
     "data": {
      "text/html": [
       "<p style='color:#0f0;'>********************************************************************************************************************</p>"
      ],
      "text/plain": [
       "<IPython.core.display.HTML object>"
      ]
     },
     "metadata": {},
     "output_type": "display_data"
    },
    {
     "name": "stdout",
     "output_type": "stream",
     "text": [
      "ALT/USDT:USDT LONG\n",
      "{'tps': [], 'entry_reached': [[1728982080000, 0.13103, 0.13103, 0.13046, 0.13056, 35353.18], [1728983400000, 0.12815, 0.12852, 0.12805, 0.12852, 30757.42]], 'stop_loss_reached': [1728990480000, 0.12721, 0.12723, 0.12672, 0.12674, 130930.34], 'break_reason': None}\n"
     ]
    },
    {
     "data": {
      "text/html": [
       "<p style='color:#0f0;'>********************************************************************************************************************</p>"
      ],
      "text/plain": [
       "<IPython.core.display.HTML object>"
      ]
     },
     "metadata": {},
     "output_type": "display_data"
    },
    {
     "name": "stdout",
     "output_type": "stream",
     "text": [
      "1000PEPE/USDT:USDT SHORT\n",
      "{'tps': [[1728990540000, 0.0104254, 0.0104255, 0.010378, 0.0103849, 3466351.0], [1728991080000, 0.0103115, 0.0103115, 0.0102413, 0.0102538, 22387929.0], [1728993180000, 0.0101007, 0.0101066, 0.0100652, 0.0100709, 7319195.0]], 'entry_reached': [[1728983760000, 0.0105784, 0.0105819, 0.0105583, 0.0105732, 590916.0]], 'stop_loss_reached': None, 'break_reason': None}\n"
     ]
    },
    {
     "data": {
      "text/html": [
       "<p style='color:#0f0;'>********************************************************************************************************************</p>"
      ],
      "text/plain": [
       "<IPython.core.display.HTML object>"
      ]
     },
     "metadata": {},
     "output_type": "display_data"
    },
    {
     "name": "stdout",
     "output_type": "stream",
     "text": [
      "NEAR/USDT:USDT LONG\n",
      "{'tps': [], 'entry_reached': [[1729074420000, 4.9872, 4.9875, 4.9797, 4.9797, 2464.0], [1729096440000, 4.8871, 4.8883, 4.878, 4.8799, 9144.0]], 'stop_loss_reached': [1729149540000, 4.8492, 4.8503, 4.8258, 4.8296, 34542.0], 'break_reason': None}\n"
     ]
    },
    {
     "data": {
      "text/html": [
       "<p style='color:#0f0;'>********************************************************************************************************************</p>"
      ],
      "text/plain": [
       "<IPython.core.display.HTML object>"
      ]
     },
     "metadata": {},
     "output_type": "display_data"
    },
    {
     "name": "stdout",
     "output_type": "stream",
     "text": [
      "NOT/USDT:USDT SHORT\n",
      "{'tps': [[1729086240000, 0.008189, 0.00819, 0.008166, 0.008185, 3673796.0], [1729096440000, 0.008059, 0.008061, 0.00803, 0.00803, 1595744.0], [1729149540000, 0.007919, 0.007919, 0.007884, 0.007899, 3635383.0]], 'entry_reached': [[1729075020000, 0.008334, 0.008335, 0.008323, 0.008326, 2166718.0]], 'stop_loss_reached': None, 'break_reason': None}\n"
     ]
    },
    {
     "data": {
      "text/html": [
       "<p style='color:#0f0;'>********************************************************************************************************************</p>"
      ],
      "text/plain": [
       "<IPython.core.display.HTML object>"
      ]
     },
     "metadata": {},
     "output_type": "display_data"
    },
    {
     "name": "stdout",
     "output_type": "stream",
     "text": [
      "XRP/USDT:USDT LONG\n",
      "{'tps': [[1729085700000, 0.5486, 0.5509, 0.5486, 0.5501, 373210.0], [1729139760000, 0.5529, 0.554, 0.5524, 0.554, 218342.0], [1729139940000, 0.5561, 0.5591, 0.5561, 0.5591, 339867.0]], 'entry_reached': [[1729081620000, 0.5446, 0.5447, 0.5442, 0.5442, 15814.0]], 'stop_loss_reached': None, 'break_reason': None}\n"
     ]
    },
    {
     "data": {
      "text/html": [
       "<p style='color:#0f0;'>********************************************************************************************************************</p>"
      ],
      "text/plain": [
       "<IPython.core.display.HTML object>"
      ]
     },
     "metadata": {},
     "output_type": "display_data"
    },
    {
     "name": "stdout",
     "output_type": "stream",
     "text": [
      "BNB/USDT:USDT SHORT\n",
      "{'tps': [[1729272420000, 600.31, 600.32, 600.03, 600.21, 25.54], [1729288440000, 599.65, 599.83, 597.54, 597.87, 50.19], [1729344900000, 596.5, 596.52, 596.22, 596.37, 29.95]], 'entry_reached': [[1729270560000, 601.66, 602.14, 601.65, 602.13, 34.85]], 'stop_loss_reached': None, 'break_reason': None}\n"
     ]
    },
    {
     "data": {
      "text/html": [
       "<p style='color:#0f0;'>********************************************************************************************************************</p>"
      ],
      "text/plain": [
       "<IPython.core.display.HTML object>"
      ]
     },
     "metadata": {},
     "output_type": "display_data"
    },
    {
     "name": "stdout",
     "output_type": "stream",
     "text": [
      "OP/USDT:USDT SHORT\n",
      "{'tps': [[1729158300000, 1.7087, 1.7087, 1.7042, 1.7076, 44271.8], [1729161060000, 1.6877, 1.6877, 1.684, 1.6851, 5550.5], [1729188480000, 1.6632, 1.6637, 1.6587, 1.66, 16601.4]], 'entry_reached': [[1729150740000, 1.7304, 1.7311, 1.7299, 1.7309, 1361.6]], 'stop_loss_reached': None, 'break_reason': None}\n"
     ]
    },
    {
     "data": {
      "text/html": [
       "<p style='color:#0f0;'>********************************************************************************************************************</p>"
      ],
      "text/plain": [
       "<IPython.core.display.HTML object>"
      ]
     },
     "metadata": {},
     "output_type": "display_data"
    },
    {
     "name": "stdout",
     "output_type": "stream",
     "text": [
      "INJ/USDT:USDT LONG\n",
      "{'tps': [], 'entry_reached': [[1729162920000, 21.781, 21.784, 21.706, 21.736, 1988.0], [1729164540000, 21.428, 21.445, 21.389, 21.441, 2374.0]], 'stop_loss_reached': [1729164660000, 21.431, 21.431, 21.35, 21.35, 2262.0], 'break_reason': None}\n"
     ]
    },
    {
     "data": {
      "text/html": [
       "<p style='color:#0f0;'>********************************************************************************************************************</p>"
      ],
      "text/plain": [
       "<IPython.core.display.HTML object>"
      ]
     },
     "metadata": {},
     "output_type": "display_data"
    },
    {
     "name": "stdout",
     "output_type": "stream",
     "text": [
      "BTC/USDT:USDT LONG\n",
      "{'tps': [[1729172700000, 67199.9, 67339.8, 67146.6, 67330.7, 154.87], [1729179360000, 67446.5, 67638.8, 67434.5, 67638.0, 334.91], [1729216560000, 67971.5, 68173.6, 67971.0, 68149.2, 153.45]], 'entry_reached': [[1729166100000, 66835.6, 66890.5, 66835.4, 66888.3, 6.51]], 'stop_loss_reached': None, 'break_reason': None}\n"
     ]
    },
    {
     "data": {
      "text/html": [
       "<p style='color:#0f0;'>********************************************************************************************************************</p>"
      ],
      "text/plain": [
       "<IPython.core.display.HTML object>"
      ]
     },
     "metadata": {},
     "output_type": "display_data"
    },
    {
     "name": "stdout",
     "output_type": "stream",
     "text": [
      "TIA/USDT:USDT LONG\n",
      "{'tps': [], 'entry_reached': [[1729235460000, 6.1097, 6.1135, 6.0986, 6.1022, 954.83], [1729244400000, 5.9622, 5.9641, 5.9581, 5.9611, 4973.62]], 'stop_loss_reached': [1729367280000, 5.8457, 5.846, 5.8335, 5.8381, 8559.37], 'break_reason': None}\n"
     ]
    },
    {
     "data": {
      "text/html": [
       "<p style='color:#0f0;'>********************************************************************************************************************</p>"
      ],
      "text/plain": [
       "<IPython.core.display.HTML object>"
      ]
     },
     "metadata": {},
     "output_type": "display_data"
    },
    {
     "name": "stdout",
     "output_type": "stream",
     "text": [
      "XRP/USDT:USDT LONG\n",
      "{'tps': [], 'entry_reached': [[1729247400000, 0.5494, 0.5496, 0.549, 0.5494, 19477.0], [1729255680000, 0.5446, 0.5446, 0.5442, 0.5445, 158379.0]], 'stop_loss_reached': [1729356960000, 0.542, 0.542, 0.5412, 0.5414, 137336.0], 'break_reason': None}\n"
     ]
    },
    {
     "data": {
      "text/html": [
       "<p style='color:#0f0;'>********************************************************************************************************************</p>"
      ],
      "text/plain": [
       "<IPython.core.display.HTML object>"
      ]
     },
     "metadata": {},
     "output_type": "display_data"
    },
    {
     "name": "stdout",
     "output_type": "stream",
     "text": [
      "ONE/USDT:USDT SHORT\n",
      "{'tps': [[1729344720000, 0.01403, 0.01405, 0.01398, 0.014, 102327.0]], 'entry_reached': [[1729341420000, 0.01419, 0.0142, 0.01417, 0.0142, 19425.0], [1729404540000, 0.01439, 0.01444, 0.01439, 0.01442, 4775.0]], 'stop_loss_reached': [1729430820000, 0.01459, 0.01464, 0.01457, 0.01459, 308058.0], 'break_reason': None}\n"
     ]
    },
    {
     "data": {
      "text/html": [
       "<p style='color:#0f0;'>********************************************************************************************************************</p>"
      ],
      "text/plain": [
       "<IPython.core.display.HTML object>"
      ]
     },
     "metadata": {},
     "output_type": "display_data"
    },
    {
     "name": "stdout",
     "output_type": "stream",
     "text": [
      "1000PEPE/USDT:USDT SHORT\n",
      "{'tps': [[1729354620000, 0.0104346, 0.0104346, 0.010411, 0.0104131, 9744688.0], [1729392360000, 0.0103185, 0.0103185, 0.0102128, 0.0102531, 16856629.0], [1729428900000, 0.0102128, 0.0102129, 0.0101197, 0.0101569, 16899538.0]], 'entry_reached': [[1729343880000, 0.0105161, 0.0105279, 0.0105161, 0.0105237, 920680.0]], 'stop_loss_reached': None, 'break_reason': None}\n"
     ]
    },
    {
     "data": {
      "text/html": [
       "<p style='color:#0f0;'>********************************************************************************************************************</p>"
      ],
      "text/plain": [
       "<IPython.core.display.HTML object>"
      ]
     },
     "metadata": {},
     "output_type": "display_data"
    },
    {
     "name": "stdout",
     "output_type": "stream",
     "text": [
      "NEIROCTO/USDT:USDT LONG\n",
      "{'tps': [], 'entry_reached': [[1729419840000, 0.001896, 0.0018962, 0.0018933, 0.001895, 629106.0], [1729430220000, 0.0018654, 0.0018663, 0.0018308, 0.0018352, 9240507.0]], 'stop_loss_reached': [1729430280000, 0.0018362, 0.0018392, 0.0018011, 0.001807, 66419284.0], 'break_reason': None}\n"
     ]
    },
    {
     "data": {
      "text/html": [
       "<p style='color:#0f0;'>********************************************************************************************************************</p>"
      ],
      "text/plain": [
       "<IPython.core.display.HTML object>"
      ]
     },
     "metadata": {},
     "output_type": "display_data"
    },
    {
     "name": "stdout",
     "output_type": "stream",
     "text": [
      "TAO/USDT:USDT SHORT\n"
     ]
    },
    {
     "data": {
      "text/html": [
       "<p style='color:#c01;'>json, 1729369800000</p>"
      ],
      "text/plain": [
       "<IPython.core.display.HTML object>"
      ]
     },
     "metadata": {},
     "output_type": "display_data"
    },
    {
     "data": {
      "text/html": [
       "<p style='color:#fd03a1;'>stop_timestamp</p>"
      ],
      "text/plain": [
       "<IPython.core.display.HTML object>"
      ]
     },
     "metadata": {},
     "output_type": "display_data"
    },
    {
     "data": {
      "text/html": [
       "<p style='color:#ada;'>saving historic tohlcv data to json</p>"
      ],
      "text/plain": [
       "<IPython.core.display.HTML object>"
      ]
     },
     "metadata": {},
     "output_type": "display_data"
    },
    {
     "name": "stdout",
     "output_type": "stream",
     "text": [
      "{'tps': [], 'entry_reached': [[1729422480000, 566.99, 567.0, 566.67, 566.86, 9.19], [1729425180000, 574.09, 577.96, 573.82, 577.45, 19.98]], 'stop_loss_reached': [1729426740000, 585.05, 588.38, 585.05, 587.51, 69.6], 'break_reason': None}\n"
     ]
    },
    {
     "data": {
      "text/html": [
       "<p style='color:#0f0;'>********************************************************************************************************************</p>"
      ],
      "text/plain": [
       "<IPython.core.display.HTML object>"
      ]
     },
     "metadata": {},
     "output_type": "display_data"
    },
    {
     "name": "stdout",
     "output_type": "stream",
     "text": [
      "NEAR/USDT:USDT SHORT\n",
      "{'tps': [], 'entry_reached': [[1729431180000, 4.8133, 4.8172, 4.8104, 4.8132, 6035.0], [1729432860000, 4.8375, 4.8567, 4.8375, 4.8567, 2310.0]], 'stop_loss_reached': [1729433040000, 4.8721, 4.8845, 4.8709, 4.8823, 10786.0], 'break_reason': None}\n"
     ]
    },
    {
     "data": {
      "text/html": [
       "<p style='color:#0f0;'>********************************************************************************************************************</p>"
      ],
      "text/plain": [
       "<IPython.core.display.HTML object>"
      ]
     },
     "metadata": {},
     "output_type": "display_data"
    },
    {
     "name": "stdout",
     "output_type": "stream",
     "text": [
      "BTC/USDT:USDT SHORT\n",
      "{'tps': [[1729493940000, 68731.6, 68733.4, 68633.4, 68693.6, 74.21], [1729503120000, 68285.6, 68285.6, 68211.9, 68232.2, 41.05], [1729516620000, 68050.3, 68050.6, 67708.0, 67852.2, 469.77]], 'entry_reached': [[1729487160000, 69191.7, 69198.6, 69151.6, 69170.4, 18.35]], 'stop_loss_reached': None, 'break_reason': None}\n"
     ]
    },
    {
     "data": {
      "text/html": [
       "<p style='color:#0f0;'>********************************************************************************************************************</p>"
      ],
      "text/plain": [
       "<IPython.core.display.HTML object>"
      ]
     },
     "metadata": {},
     "output_type": "display_data"
    },
    {
     "name": "stdout",
     "output_type": "stream",
     "text": [
      "PYTH/USDT:USDT SHORT\n",
      "{'tps': [[1729557060000, 0.3473, 0.3474, 0.3457, 0.3458, 20211.0], [1729590000000, 0.3421, 0.3423, 0.3408, 0.3413, 11864.0], [1729674360000, 0.3353, 0.3355, 0.3347, 0.3349, 30762.0]], 'entry_reached': [[1729540440000, 0.3527, 0.3537, 0.3527, 0.3535, 3417.0]], 'stop_loss_reached': None, 'break_reason': None}\n"
     ]
    },
    {
     "data": {
      "text/html": [
       "<p style='color:#0f0;'>********************************************************************************************************************</p>"
      ],
      "text/plain": [
       "<IPython.core.display.HTML object>"
      ]
     },
     "metadata": {},
     "output_type": "display_data"
    },
    {
     "name": "stdout",
     "output_type": "stream",
     "text": [
      "ETH/USDT:USDT LONG\n",
      "{'tps': [[1729532820000, 2679.83, 2683.0, 2679.73, 2681.48, 116.61]], 'entry_reached': [[1729524900000, 2666.97, 2666.97, 2661.15, 2662.99, 14.69], [1729557000000, 2646.52, 2648.92, 2640.04, 2640.29, 1116.64]], 'stop_loss_reached': [1729557060000, 2640.1, 2640.1, 2612.36, 2618.61, 6767.77], 'break_reason': None}\n"
     ]
    },
    {
     "data": {
      "text/html": [
       "<p style='color:#0f0;'>********************************************************************************************************************</p>"
      ],
      "text/plain": [
       "<IPython.core.display.HTML object>"
      ]
     },
     "metadata": {},
     "output_type": "display_data"
    },
    {
     "name": "stdout",
     "output_type": "stream",
     "text": [
      "BCH/USDT:USDT SHORT\n",
      "{'tps': [[1729585260000, 360.54, 360.77, 360.38, 360.45, 21.93], [1729588920000, 357.18, 357.19, 355.72, 356.59, 185.45], [1729650480000, 354.05, 354.05, 353.18, 353.29, 55.09]], 'entry_reached': [[1729567560000, 364.06, 364.08, 363.98, 364.08, 18.8]], 'stop_loss_reached': None, 'break_reason': None}\n"
     ]
    },
    {
     "data": {
      "text/html": [
       "<p style='color:#0f0;'>********************************************************************************************************************</p>"
      ],
      "text/plain": [
       "<IPython.core.display.HTML object>"
      ]
     },
     "metadata": {},
     "output_type": "display_data"
    },
    {
     "name": "stdout",
     "output_type": "stream",
     "text": [
      "TRB/USDT:USDT LONG\n",
      "{'tps': [[1729599060000, 67.582, 67.698, 67.55, 67.622, 233.56]], 'entry_reached': [[1729592160000, 66.339, 66.339, 66.142, 66.142, 35.36], [1729616220000, 65.028, 65.028, 64.832, 64.867, 181.77]], 'stop_loss_reached': [1729680660000, 63.476, 63.478, 63.35, 63.351, 18.08], 'break_reason': None}\n"
     ]
    },
    {
     "data": {
      "text/html": [
       "<p style='color:#0f0;'>********************************************************************************************************************</p>"
      ],
      "text/plain": [
       "<IPython.core.display.HTML object>"
      ]
     },
     "metadata": {},
     "output_type": "display_data"
    },
    {
     "name": "stdout",
     "output_type": "stream",
     "text": [
      "BTC/USDT:USDT SHORT\n",
      "{'tps': [[1729601040000, 66926.8, 66930.1, 66876.1, 66885.0, 38.52]], 'entry_reached': [[1729594500000, 67162.4, 67209.9, 67162.4, 67209.3, 10.14], [1729607940000, 67414.2, 67585.0, 67410.0, 67484.8, 47.14]], 'stop_loss_reached': [1729637760000, 67782.1, 67835.8, 67780.0, 67815.4, 29.56], 'break_reason': None}\n"
     ]
    },
    {
     "data": {
      "text/html": [
       "<p style='color:#0f0;'>********************************************************************************************************************</p>"
      ],
      "text/plain": [
       "<IPython.core.display.HTML object>"
      ]
     },
     "metadata": {},
     "output_type": "display_data"
    },
    {
     "name": "stdout",
     "output_type": "stream",
     "text": [
      "OP/USDT:USDT LONG\n",
      "{'tps': [], 'entry_reached': [[1729597260000, 1.7384, 1.7392, 1.7372, 1.7383, 1019.6], [1729601100000, 1.7128, 1.7157, 1.7107, 1.7155, 17736.3]], 'stop_loss_reached': [1729605120000, 1.6991, 1.6992, 1.6956, 1.6962, 17479.7], 'break_reason': None}\n"
     ]
    },
    {
     "data": {
      "text/html": [
       "<p style='color:#0f0;'>********************************************************************************************************************</p>"
      ],
      "text/plain": [
       "<IPython.core.display.HTML object>"
      ]
     },
     "metadata": {},
     "output_type": "display_data"
    },
    {
     "name": "stdout",
     "output_type": "stream",
     "text": [
      "NEIROCTO/USDT:USDT LONG\n",
      "{'tps': [], 'entry_reached': [[1729604280000, 0.0017361, 0.0017361, 0.0017193, 0.001721, 13620940.0], [1729607220000, 0.0016834, 0.0016836, 0.0016739, 0.0016774, 16526217.0]], 'stop_loss_reached': [1729615140000, 0.0016713, 0.0016713, 0.0016516, 0.0016569, 37232236.0], 'break_reason': None}\n"
     ]
    },
    {
     "data": {
      "text/html": [
       "<p style='color:#0f0;'>********************************************************************************************************************</p>"
      ],
      "text/plain": [
       "<IPython.core.display.HTML object>"
      ]
     },
     "metadata": {},
     "output_type": "display_data"
    },
    {
     "name": "stdout",
     "output_type": "stream",
     "text": [
      "TAO/USDT:USDT SHORT\n",
      "{'tps': [[1729668720000, 539.26, 539.61, 538.85, 539.09, 8.34], [1729673820000, 535.52, 535.66, 529.72, 530.91, 87.33], [1729683840000, 529.51, 529.53, 527.66, 527.92, 14.52]], 'entry_reached': [[1729660500000, 544.39, 544.76, 544.37, 544.43, 0.67]], 'stop_loss_reached': None, 'break_reason': None}\n"
     ]
    },
    {
     "data": {
      "text/html": [
       "<p style='color:#0f0;'>********************************************************************************************************************</p>"
      ],
      "text/plain": [
       "<IPython.core.display.HTML object>"
      ]
     },
     "metadata": {},
     "output_type": "display_data"
    },
    {
     "name": "stdout",
     "output_type": "stream",
     "text": [
      "OP/USDT:USDT SHORT\n",
      "{'tps': [], 'entry_reached': [[1729678860000, 1.7001, 1.7024, 1.6999, 1.7022, 382.1], [1729687620000, 1.7154, 1.7176, 1.7148, 1.7149, 4004.5]], 'stop_loss_reached': [1729691280000, 1.7279, 1.7326, 1.7275, 1.7322, 27183.8], 'break_reason': None}\n"
     ]
    },
    {
     "data": {
      "text/html": [
       "<p style='color:#0f0;'>********************************************************************************************************************</p>"
      ],
      "text/plain": [
       "<IPython.core.display.HTML object>"
      ]
     },
     "metadata": {},
     "output_type": "display_data"
    },
    {
     "name": "stdout",
     "output_type": "stream",
     "text": [
      "NEIROCTO/USDT:USDT LONG\n",
      "{'tps': [[1729686840000, 0.0016493, 0.0016578, 0.0016493, 0.0016547, 6629921.0]], 'entry_reached': [[1729682100000, 0.0016387, 0.0016396, 0.001637, 0.0016387, 486549.0], [1729698960000, 0.0016145, 0.0016145, 0.0015878, 0.0015894, 27286121.0]], 'stop_loss_reached': [1729699020000, 0.0015887, 0.0015899, 0.0015791, 0.0015851, 44028424.0], 'break_reason': None}\n"
     ]
    },
    {
     "data": {
      "text/html": [
       "<p style='color:#0f0;'>********************************************************************************************************************</p>"
      ],
      "text/plain": [
       "<IPython.core.display.HTML object>"
      ]
     },
     "metadata": {},
     "output_type": "display_data"
    },
    {
     "name": "stdout",
     "output_type": "stream",
     "text": [
      "NEAR/USDT:USDT SHORT\n",
      "{'tps': [[1729759980000, 4.581, 4.583, 4.574, 4.5761, 1877.0], [1729871460000, 4.4992, 4.5001, 4.4813, 4.484, 4379.0], [1729879260000, 4.4163, 4.4234, 4.4027, 4.4054, 39107.0]], 'entry_reached': [[1729753920000, 4.66, 4.6652, 4.66, 4.6635, 2081.0], [1729804920000, 4.7452, 4.7649, 4.7452, 4.7634, 13550.0]], 'stop_loss_reached': None, 'break_reason': None}\n"
     ]
    },
    {
     "data": {
      "text/html": [
       "<p style='color:#0f0;'>********************************************************************************************************************</p>"
      ],
      "text/plain": [
       "<IPython.core.display.HTML object>"
      ]
     },
     "metadata": {},
     "output_type": "display_data"
    },
    {
     "name": "stdout",
     "output_type": "stream",
     "text": [
      "FTM/USDT:USDT SHORT\n",
      "{'tps': [[1729829880000, 0.6761, 0.6766, 0.6751, 0.6757, 30129.0], [1729878960000, 0.6656, 0.6656, 0.6624, 0.6624, 110213.0], [1729879200000, 0.6555, 0.6557, 0.6489, 0.6516, 728956.0]], 'entry_reached': [[1729760880000, 0.6849, 0.6864, 0.6848, 0.6863, 28205.0], [1729777440000, 0.6995, 0.7008, 0.6995, 0.7001, 67972.0]], 'stop_loss_reached': None, 'break_reason': None}\n"
     ]
    },
    {
     "data": {
      "text/html": [
       "<p style='color:#0f0;'>********************************************************************************************************************</p>"
      ],
      "text/plain": [
       "<IPython.core.display.HTML object>"
      ]
     },
     "metadata": {},
     "output_type": "display_data"
    },
    {
     "name": "stdout",
     "output_type": "stream",
     "text": [
      "NEIROCTO/USDT:USDT SHORT\n",
      "{'tps': [[1729771920000, 0.001436, 0.0014377, 0.0014313, 0.0014314, 4289859.0]], 'entry_reached': [[1729764060000, 0.0014418, 0.0014482, 0.0014412, 0.0014477, 5724033.0], [1729765800000, 0.0014608, 0.0014717, 0.0014608, 0.001471, 2690689.0]], 'stop_loss_reached': [1729778400000, 0.0014697, 0.0014826, 0.001469, 0.001478, 3338230.0], 'break_reason': None}\n"
     ]
    },
    {
     "data": {
      "text/html": [
       "<p style='color:#0f0;'>********************************************************************************************************************</p>"
      ],
      "text/plain": [
       "<IPython.core.display.HTML object>"
      ]
     },
     "metadata": {},
     "output_type": "display_data"
    },
    {
     "name": "stdout",
     "output_type": "stream",
     "text": [
      "DYDX/USDT:USDT SHORT\n",
      "{'tps': [[1729774740000, 1.071, 1.071, 1.067, 1.07, 2125.3]], 'entry_reached': [[1729769460000, 1.08, 1.081, 1.077, 1.077, 1944.5], [1729815480000, 1.095, 1.099, 1.095, 1.098, 1276.1]], 'stop_loss_reached': [1729817400000, 1.102, 1.109, 1.102, 1.108, 9342.3], 'break_reason': None}\n"
     ]
    },
    {
     "data": {
      "text/html": [
       "<p style='color:#0f0;'>********************************************************************************************************************</p>"
      ],
      "text/plain": [
       "<IPython.core.display.HTML object>"
      ]
     },
     "metadata": {},
     "output_type": "display_data"
    },
    {
     "name": "stdout",
     "output_type": "stream",
     "text": [
      "JASMY/USDT:USDT SHORT\n",
      "{'tps': [[1729871640000, 0.018668, 0.018673, 0.018546, 0.018546, 564785.0], [1729879800000, 0.018176, 0.018176, 0.018027, 0.018088, 1854793.0], [1729897860000, 0.017746, 0.017746, 0.01766, 0.01767, 1539076.0]], 'entry_reached': [[1729787580000, 0.018956, 0.018973, 0.018956, 0.01897, 576343.0]], 'stop_loss_reached': None, 'break_reason': None}\n"
     ]
    },
    {
     "data": {
      "text/html": [
       "<p style='color:#0f0;'>********************************************************************************************************************</p>"
      ],
      "text/plain": [
       "<IPython.core.display.HTML object>"
      ]
     },
     "metadata": {},
     "output_type": "display_data"
    },
    {
     "name": "stdout",
     "output_type": "stream",
     "text": [
      "1000BONK/USDT:USDT SHORT\n",
      "{'tps': [[1729843620000, 0.021999, 0.022009, 0.021941, 0.021944, 200569.0]], 'entry_reached': [[1729838760000, 0.022216, 0.022282, 0.022214, 0.02228, 99798.0], [1729850400000, 0.02254, 0.022585, 0.022496, 0.022506, 141126.0]], 'stop_loss_reached': [1729855080000, 0.022773, 0.022802, 0.022763, 0.022793, 489085.0], 'break_reason': None}\n"
     ]
    },
    {
     "data": {
      "text/html": [
       "<p style='color:#0f0;'>********************************************************************************************************************</p>"
      ],
      "text/plain": [
       "<IPython.core.display.HTML object>"
      ]
     },
     "metadata": {},
     "output_type": "display_data"
    },
    {
     "name": "stdout",
     "output_type": "stream",
     "text": [
      "NEIROCTO/USDT:USDT LONG\n",
      "{'tps': [[1729844280000, 0.0015541, 0.0015683, 0.0015532, 0.0015627, 19144130.0], [1729847160000, 0.0015901, 0.0015983, 0.0015891, 0.0015925, 28422562.0], [1729851780000, 0.0016122, 0.0016379, 0.0016122, 0.0016289, 32209668.0]], 'entry_reached': [[1729843680000, 0.0015292, 0.0015367, 0.0015182, 0.0015193, 24544516.0]], 'stop_loss_reached': None, 'break_reason': None}\n"
     ]
    },
    {
     "data": {
      "text/html": [
       "<p style='color:#0f0;'>********************************************************************************************************************</p>"
      ],
      "text/plain": [
       "<IPython.core.display.HTML object>"
      ]
     },
     "metadata": {},
     "output_type": "display_data"
    },
    {
     "name": "stdout",
     "output_type": "stream",
     "text": [
      "FIL/USDT:USDT SHORT\n",
      "{'tps': [[1729879020000, 3.652, 3.655, 3.641, 3.642, 9223.9], [1729879740000, 3.61, 3.612, 3.601, 3.603, 12317.6], [1729879860000, 3.581, 3.581, 3.555, 3.577, 65098.1]], 'entry_reached': [[1729845780000, 3.688, 3.692, 3.686, 3.69, 8476.8], [1729866300000, 3.736, 3.74, 3.736, 3.74, 1026.7]], 'stop_loss_reached': None, 'break_reason': None}\n"
     ]
    },
    {
     "data": {
      "text/html": [
       "<p style='color:#0f0;'>********************************************************************************************************************</p>"
      ],
      "text/plain": [
       "<IPython.core.display.HTML object>"
      ]
     },
     "metadata": {},
     "output_type": "display_data"
    },
    {
     "name": "stdout",
     "output_type": "stream",
     "text": [
      "1000PEPE/USDT:USDT SHORT\n",
      "{'tps': [[1729954140000, 0.0088377, 0.0088384, 0.008819, 0.008829, 1443199.0], [1730135160000, 0.0086253, 0.0086264, 0.0085982, 0.0086063, 15716531.0]], 'entry_reached': [[1729932420000, 0.0090246, 0.0090548, 0.0090243, 0.0090516, 4592000.0], [1730067000000, 0.0092562, 0.0092807, 0.0092537, 0.0092617, 4131663.0]], 'stop_loss_reached': [1730167800000, 0.0094647, 0.0094875, 0.0094634, 0.0094791, 4627637.0], 'break_reason': None}\n"
     ]
    },
    {
     "data": {
      "text/html": [
       "<p style='color:#0f0;'>********************************************************************************************************************</p>"
      ],
      "text/plain": [
       "<IPython.core.display.HTML object>"
      ]
     },
     "metadata": {},
     "output_type": "display_data"
    },
    {
     "name": "stdout",
     "output_type": "stream",
     "text": [
      "CFX/USDT:USDT SHORT\n",
      "{'tps': [[1729948140000, 0.13854, 0.13854, 0.13836, 0.13841, 28332.0], [1729950420000, 0.13767, 0.13769, 0.13739, 0.13739, 26850.0], [1729952220000, 0.13722, 0.13722, 0.13649, 0.13667, 26614.0]], 'entry_reached': [[1729937280000, 0.13902, 0.13915, 0.13902, 0.13913, 3343.0]], 'stop_loss_reached': None, 'break_reason': None}\n"
     ]
    },
    {
     "data": {
      "text/html": [
       "<p style='color:#0f0;'>********************************************************************************************************************</p>"
      ],
      "text/plain": [
       "<IPython.core.display.HTML object>"
      ]
     },
     "metadata": {},
     "output_type": "display_data"
    },
    {
     "name": "stdout",
     "output_type": "stream",
     "text": [
      "AVAX/USDT:USDT SHORT\n",
      "{'tps': [[1730087220000, 25.277, 25.283, 25.199, 25.199, 3233.0]], 'entry_reached': [[1730035440000, 25.683, 25.712, 25.682, 25.709, 2123.0], [1730115300000, 26.238, 26.252, 26.214, 26.241, 2030.0]], 'stop_loss_reached': [1730168040000, 26.652, 26.691, 26.652, 26.681, 1884.0], 'break_reason': None}\n"
     ]
    },
    {
     "data": {
      "text/html": [
       "<p style='color:#0f0;'>********************************************************************************************************************</p>"
      ],
      "text/plain": [
       "<IPython.core.display.HTML object>"
      ]
     },
     "metadata": {},
     "output_type": "display_data"
    },
    {
     "name": "stdout",
     "output_type": "stream",
     "text": [
      "SUSHI/USDT:USDT SHORT\n",
      "{'tps': [[1730005200000, 0.6843, 0.6846, 0.6839, 0.6846, 1974.0]], 'entry_reached': [[1730001840000, 0.6905, 0.6916, 0.6905, 0.6914, 4132.0], [1730066520000, 0.6997, 0.7007, 0.6995, 0.7007, 2483.0]], 'stop_loss_reached': [1730070000000, 0.7034, 0.7055, 0.7034, 0.7051, 16407.0], 'break_reason': None}\n"
     ]
    },
    {
     "data": {
      "text/html": [
       "<p style='color:#0f0;'>********************************************************************************************************************</p>"
      ],
      "text/plain": [
       "<IPython.core.display.HTML object>"
      ]
     },
     "metadata": {},
     "output_type": "display_data"
    },
    {
     "name": "stdout",
     "output_type": "stream",
     "text": [
      "ADA/USDT:USDT SHORT\n",
      "{'tps': [], 'entry_reached': [[1730011860000, 0.33235, 0.33252, 0.33219, 0.33239, 9940.0], [1730038080000, 0.33805, 0.33825, 0.33796, 0.33822, 54103.0]], 'stop_loss_reached': [1730045700000, 0.34123, 0.34166, 0.34123, 0.34164, 41634.0], 'break_reason': None}\n"
     ]
    },
    {
     "data": {
      "text/html": [
       "<p style='color:#0f0;'>********************************************************************************************************************</p>"
      ],
      "text/plain": [
       "<IPython.core.display.HTML object>"
      ]
     },
     "metadata": {},
     "output_type": "display_data"
    },
    {
     "name": "stdout",
     "output_type": "stream",
     "text": [
      "SUSHI/USDT:USDT SHORT\n",
      "{'tps': [], 'entry_reached': [[1730027940000, 0.6843, 0.685, 0.6843, 0.6848, 1850.0], [1730050260000, 0.6916, 0.698, 0.6916, 0.698, 11495.0]], 'stop_loss_reached': [1730070000000, 0.7034, 0.7055, 0.7034, 0.7051, 16407.0], 'break_reason': None}\n"
     ]
    },
    {
     "data": {
      "text/html": [
       "<p style='color:#0f0;'>********************************************************************************************************************</p>"
      ],
      "text/plain": [
       "<IPython.core.display.HTML object>"
      ]
     },
     "metadata": {},
     "output_type": "display_data"
    },
    {
     "name": "stdout",
     "output_type": "stream",
     "text": [
      "SYN/USDT:USDT LONG\n",
      "{'tps': [[1730042280000, 0.6172, 0.6232, 0.617, 0.6224, 2059.37]], 'entry_reached': [[1730033580000, 0.6108, 0.611, 0.6088, 0.6092, 336.55], [1730055300000, 0.5975, 0.5977, 0.5941, 0.5965, 6087.01]], 'stop_loss_reached': [1730086380000, 0.5867, 0.587, 0.5851, 0.5857, 3534.25], 'break_reason': None}\n"
     ]
    },
    {
     "data": {
      "text/html": [
       "<p style='color:#0f0;'>********************************************************************************************************************</p>"
      ],
      "text/plain": [
       "<IPython.core.display.HTML object>"
      ]
     },
     "metadata": {},
     "output_type": "display_data"
    },
    {
     "name": "stdout",
     "output_type": "stream",
     "text": [
      "NEIROCTO/USDT:USDT LONG\n",
      "{'tps': [[1730066640000, 0.0015822, 0.0015926, 0.0015809, 0.0015844, 4549230.0], [1730073300000, 0.0015977, 0.00162, 0.0015969, 0.0016034, 39817381.0], [1730100240000, 0.0016337, 0.0016513, 0.0016334, 0.0016491, 28213465.0]], 'entry_reached': [[1730047500000, 0.0015705, 0.0015749, 0.0015535, 0.0015571, 16344454.0], [1730056920000, 0.0015214, 0.0015224, 0.0015091, 0.0015114, 40638717.0]], 'stop_loss_reached': None, 'break_reason': None}\n"
     ]
    },
    {
     "data": {
      "text/html": [
       "<p style='color:#0f0;'>********************************************************************************************************************</p>"
      ],
      "text/plain": [
       "<IPython.core.display.HTML object>"
      ]
     },
     "metadata": {},
     "output_type": "display_data"
    },
    {
     "name": "stdout",
     "output_type": "stream",
     "text": [
      "ETH/USDT:USDT SHORT\n",
      "{'tps': [], 'entry_reached': [[1730098680000, 2490.19, 2490.2, 2489.67, 2489.84, 183.92], [1730099640000, 2512.51, 2515.85, 2510.64, 2515.85, 2408.01]], 'stop_loss_reached': [1730109300000, 2533.43, 2537.99, 2533.4, 2537.08, 1728.49], 'break_reason': None}\n"
     ]
    },
    {
     "data": {
      "text/html": [
       "<p style='color:#0f0;'>********************************************************************************************************************</p>"
      ],
      "text/plain": [
       "<IPython.core.display.HTML object>"
      ]
     },
     "metadata": {},
     "output_type": "display_data"
    },
    {
     "name": "stdout",
     "output_type": "stream",
     "text": [
      "FLOKI/USDT:USDT LONG\n"
     ]
    },
    {
     "data": {
      "text/html": [
       "<p style='color:#c01;'>json, 1730061000000</p>"
      ],
      "text/plain": [
       "<IPython.core.display.HTML object>"
      ]
     },
     "metadata": {},
     "output_type": "display_data"
    },
    {
     "name": "stdout",
     "output_type": "stream",
     "text": [
      "ARK/USDT:USDT SHORT\n",
      "{'tps': [[1730123820000, 0.5068, 0.5068, 0.5059, 0.5067, 8293.0], [1730128500000, 0.5017, 0.5022, 0.5008, 0.5019, 2814.0], [1730135100000, 0.4967, 0.4969, 0.4951, 0.4953, 3628.0]], 'entry_reached': [[1730112240000, 0.5111, 0.5112, 0.5106, 0.5112, 3797.0]], 'stop_loss_reached': None, 'break_reason': None}\n"
     ]
    },
    {
     "data": {
      "text/html": [
       "<p style='color:#0f0;'>********************************************************************************************************************</p>"
      ],
      "text/plain": [
       "<IPython.core.display.HTML object>"
      ]
     },
     "metadata": {},
     "output_type": "display_data"
    },
    {
     "name": "stdout",
     "output_type": "stream",
     "text": [
      "AXS/USDT:USDT SHORT\n",
      "{'tps': [[1730134680000, 4.686, 4.686, 4.674, 4.676, 3052.0]], 'entry_reached': [[1730115780000, 4.768, 4.77, 4.766, 4.768, 1893.0], [1730167860000, 4.886, 4.894, 4.884, 4.889, 2061.0]], 'stop_loss_reached': [1730217780000, 4.957, 4.967, 4.955, 4.965, 1800.0], 'break_reason': None}\n"
     ]
    },
    {
     "data": {
      "text/html": [
       "<p style='color:#0f0;'>********************************************************************************************************************</p>"
      ],
      "text/plain": [
       "<IPython.core.display.HTML object>"
      ]
     },
     "metadata": {},
     "output_type": "display_data"
    },
    {
     "name": "stdout",
     "output_type": "stream",
     "text": [
      "NEIROCTO/USDT:USDT LONG\n",
      "{'tps': [], 'entry_reached': [[1730117220000, 0.0016308, 0.0016309, 0.0016097, 0.001618, 14418369.0], [1730117280000, 0.0016174, 0.0016191, 0.0016018, 0.0016078, 62485135.0]], 'stop_loss_reached': [1730118660000, 0.001595, 0.0015975, 0.0015882, 0.0015972, 15154730.0], 'break_reason': None}\n"
     ]
    },
    {
     "data": {
      "text/html": [
       "<p style='color:#0f0;'>********************************************************************************************************************</p>"
      ],
      "text/plain": [
       "<IPython.core.display.HTML object>"
      ]
     },
     "metadata": {},
     "output_type": "display_data"
    },
    {
     "name": "stdout",
     "output_type": "stream",
     "text": [
      "DOGE/USDT:USDT LONG\n",
      "{'tps': [[1730126580000, 0.14946, 0.14993, 0.14945, 0.14967, 3867895.0], [1730138880000, 0.15238, 0.15297, 0.15218, 0.15248, 8125979.0], [1730142840000, 0.1552, 0.15616, 0.15505, 0.15577, 3732934.0]], 'entry_reached': [[1730118900000, 0.14688, 0.147, 0.14683, 0.14694, 676407.0]], 'stop_loss_reached': None, 'break_reason': None}\n"
     ]
    },
    {
     "data": {
      "text/html": [
       "<p style='color:#0f0;'>********************************************************************************************************************</p>"
      ],
      "text/plain": [
       "<IPython.core.display.HTML object>"
      ]
     },
     "metadata": {},
     "output_type": "display_data"
    },
    {
     "name": "stdout",
     "output_type": "stream",
     "text": [
      "XRP/USDT:USDT SHORT\n",
      "{'tps': [], 'entry_reached': [[1730142840000, 0.5157, 0.5166, 0.5157, 0.5164, 20729.0], [1730152800000, 0.5187, 0.5196, 0.5185, 0.5194, 223436.0]], 'stop_loss_reached': [1730167500000, 0.5212, 0.5218, 0.521, 0.5215, 80110.0], 'break_reason': None}\n"
     ]
    },
    {
     "data": {
      "text/html": [
       "<p style='color:#0f0;'>********************************************************************************************************************</p>"
      ],
      "text/plain": [
       "<IPython.core.display.HTML object>"
      ]
     },
     "metadata": {},
     "output_type": "display_data"
    },
    {
     "name": "stdout",
     "output_type": "stream",
     "text": [
      "IO/USDT:USDT SHORT\n",
      "{'tps': [], 'entry_reached': [[1730194920000, 1.763, 1.765, 1.762, 1.762, 48983.05], [1730220360000, 1.795, 1.799, 1.795, 1.799, 2134.54]], 'stop_loss_reached': [1730221080000, 1.817, 1.854, 1.812, 1.831, 10277.82], 'break_reason': None}\n"
     ]
    },
    {
     "data": {
      "text/html": [
       "<p style='color:#0f0;'>********************************************************************************************************************</p>"
      ],
      "text/plain": [
       "<IPython.core.display.HTML object>"
      ]
     },
     "metadata": {},
     "output_type": "display_data"
    },
    {
     "name": "stdout",
     "output_type": "stream",
     "text": [
      "DOT/USDT:USDT LONG\n",
      "{'tps': [[1730218980000, 4.195, 4.203, 4.195, 4.197, 3232.0]], 'entry_reached': [[1730195580000, 4.133, 4.137, 4.133, 4.133, 943.6], [1730378640000, 4.062, 4.064, 4.06, 4.062, 4633.0]], 'stop_loss_reached': [1730383140000, 4.039, 4.041, 4.017, 4.027, 18749.8], 'break_reason': None}\n"
     ]
    },
    {
     "data": {
      "text/html": [
       "<p style='color:#0f0;'>********************************************************************************************************************</p>"
      ],
      "text/plain": [
       "<IPython.core.display.HTML object>"
      ]
     },
     "metadata": {},
     "output_type": "display_data"
    },
    {
     "name": "stdout",
     "output_type": "stream",
     "text": [
      "SOL/USDT:USDT LONG\n",
      "{'tps': [[1730220360000, 182.495, 182.987, 182.494, 182.978, 5292.0]], 'entry_reached': [[1730197200000, 181.008, 181.015, 180.752, 180.758, 2186.0], [1730233200000, 178.13, 178.13, 177.666, 177.679, 4007.0]], 'stop_loss_reached': [1730286600000, 176.463, 176.508, 176.131, 176.388, 4474.0], 'break_reason': None}\n"
     ]
    },
    {
     "data": {
      "text/html": [
       "<p style='color:#0f0;'>********************************************************************************************************************</p>"
      ],
      "text/plain": [
       "<IPython.core.display.HTML object>"
      ]
     },
     "metadata": {},
     "output_type": "display_data"
    },
    {
     "name": "stdout",
     "output_type": "stream",
     "text": [
      "TIA/USDT:USDT SHORT\n",
      "{'tps': [[1730213160000, 4.9494, 4.9495, 4.93, 4.9302, 5765.56]], 'entry_reached': [[1730201400000, 5.0486, 5.0588, 5.0485, 5.0558, 715.6], [1730219940000, 5.0153, 5.2112, 5.0122, 5.1421, 40984.68]], 'stop_loss_reached': [1730224500000, 5.2581, 5.2801, 5.2577, 5.2746, 4075.12], 'break_reason': None}\n"
     ]
    },
    {
     "data": {
      "text/html": [
       "<p style='color:#0f0;'>********************************************************************************************************************</p>"
      ],
      "text/plain": [
       "<IPython.core.display.HTML object>"
      ]
     },
     "metadata": {},
     "output_type": "display_data"
    },
    {
     "name": "stdout",
     "output_type": "stream",
     "text": [
      "ETH/USDT:USDT SHORT\n",
      "{'tps': [[1730286660000, 2674.88, 2675.49, 2669.52, 2669.62, 431.61], [1730289480000, 2660.47, 2660.47, 2657.55, 2658.17, 385.49]], 'entry_reached': [[1730281260000, 2684.66, 2685.16, 2684.17, 2684.77, 344.94], [1730296680000, 2702.73, 2703.52, 2696.5, 2699.23, 1715.51]], 'stop_loss_reached': [1730296980000, 2706.9, 2715.35, 2706.48, 2712.23, 1458.52], 'break_reason': None}\n"
     ]
    },
    {
     "data": {
      "text/html": [
       "<p style='color:#0f0;'>********************************************************************************************************************</p>"
      ],
      "text/plain": [
       "<IPython.core.display.HTML object>"
      ]
     },
     "metadata": {},
     "output_type": "display_data"
    },
    {
     "name": "stdout",
     "output_type": "stream",
     "text": [
      "BCH/USDT:USDT SHORT\n",
      "{'tps': [[1730383440000, 365.39, 365.45, 363.87, 363.95, 121.2], [1730396400000, 359.07, 359.08, 357.97, 358.28, 50.31], [1730404560000, 352.63, 352.63, 351.88, 351.91, 47.47]], 'entry_reached': [[1730283540000, 371.73, 371.73, 371.3, 371.41, 18.84]], 'stop_loss_reached': None, 'break_reason': None}\n"
     ]
    },
    {
     "data": {
      "text/html": [
       "<p style='color:#0f0;'>********************************************************************************************************************</p>"
      ],
      "text/plain": [
       "<IPython.core.display.HTML object>"
      ]
     },
     "metadata": {},
     "output_type": "display_data"
    },
    {
     "name": "stdout",
     "output_type": "stream",
     "text": [
      "MANTA/USDT:USDT SHORT\n",
      "{'tps': [[1730294400000, 0.6978, 0.6982, 0.6767, 0.6786, 35646.85], [1730377140000, 0.6757, 0.6759, 0.6749, 0.675, 6390.15], [1730383440000, 0.6681, 0.6681, 0.6627, 0.6642, 4459.58]], 'entry_reached': [[1730290080000, 0.6936, 0.697, 0.6934, 0.696, 31483.26], [1730299200000, 0.7091, 0.7094, 0.7066, 0.7068, 1416.19]], 'stop_loss_reached': None, 'break_reason': None}\n"
     ]
    },
    {
     "data": {
      "text/html": [
       "<p style='color:#0f0;'>********************************************************************************************************************</p>"
      ],
      "text/plain": [
       "<IPython.core.display.HTML object>"
      ]
     },
     "metadata": {},
     "output_type": "display_data"
    },
    {
     "name": "stdout",
     "output_type": "stream",
     "text": [
      "MANTA/USDT:USDT SHORT\n",
      "{'tps': [], 'entry_reached': [[1730289960000, 0.6897, 0.6938, 0.6896, 0.6938, 1605.01], [1730290020000, 0.6935, 0.6944, 0.6926, 0.6934, 2448.97]], 'stop_loss_reached': [1730290080000, 0.6936, 0.697, 0.6934, 0.696, 31483.26], 'break_reason': None}\n"
     ]
    },
    {
     "data": {
      "text/html": [
       "<p style='color:#0f0;'>********************************************************************************************************************</p>"
      ],
      "text/plain": [
       "<IPython.core.display.HTML object>"
      ]
     },
     "metadata": {},
     "output_type": "display_data"
    },
    {
     "name": "stdout",
     "output_type": "stream",
     "text": [
      "MASK/USDT:USDT LONG\n",
      "{'tps': [[1730294280000, 3.1879, 3.2136, 3.1874, 3.1995, 34171.9], [1730296980000, 3.2553, 3.2733, 3.2446, 3.2646, 60742.4], [1730312580000, 3.2932, 3.3134, 3.2748, 3.2788, 31745.2]], 'entry_reached': [[1730291280000, 3.1675, 3.171, 3.153, 3.1597, 65702.6]], 'stop_loss_reached': None, 'break_reason': None}\n"
     ]
    },
    {
     "data": {
      "text/html": [
       "<p style='color:#0f0;'>********************************************************************************************************************</p>"
      ],
      "text/plain": [
       "<IPython.core.display.HTML object>"
      ]
     },
     "metadata": {},
     "output_type": "display_data"
    },
    {
     "name": "stdout",
     "output_type": "stream",
     "text": [
      "SOL/USDT:USDT LONG\n",
      "{'tps': [], 'entry_reached': [[1730382300000, 173.331, 173.345, 173.042, 173.069, 5072.0], [1730383320000, 171.216, 171.351, 170.73, 170.871, 6503.0]], 'stop_loss_reached': [1730385960000, 169.838, 169.838, 169.379, 169.386, 11053.0], 'break_reason': None}\n"
     ]
    },
    {
     "data": {
      "text/html": [
       "<p style='color:#0f0;'>********************************************************************************************************************</p>"
      ],
      "text/plain": [
       "<IPython.core.display.HTML object>"
      ]
     },
     "metadata": {},
     "output_type": "display_data"
    },
    {
     "name": "stdout",
     "output_type": "stream",
     "text": [
      "ADA/USDT:USDT SHORT\n",
      "{'tps': [], 'entry_reached': [[1730359200000, 0.35415, 0.35434, 0.35388, 0.35424, 26987.0], [1730369100000, 0.35744, 0.3576, 0.35741, 0.35756, 8668.0]], 'stop_loss_reached': [1730372160000, 0.35923, 0.36014, 0.35917, 0.36013, 237694.0], 'break_reason': None}\n"
     ]
    },
    {
     "data": {
      "text/html": [
       "<p style='color:#0f0;'>********************************************************************************************************************</p>"
      ],
      "text/plain": [
       "<IPython.core.display.HTML object>"
      ]
     },
     "metadata": {},
     "output_type": "display_data"
    },
    {
     "name": "stdout",
     "output_type": "stream",
     "text": [
      "PYTH/USDT:USDT SHORT\n",
      "{'tps': [[1730373060000, 0.4003, 0.4003, 0.3986, 0.3995, 26999.0], [1730376960000, 0.3948, 0.3951, 0.394, 0.394, 12845.0], [1730397720000, 0.3911, 0.3914, 0.3889, 0.3893, 90597.0]], 'entry_reached': [[1730368380000, 0.4022, 0.4046, 0.402, 0.4044, 24864.0]], 'stop_loss_reached': None, 'break_reason': None}\n"
     ]
    },
    {
     "data": {
      "text/html": [
       "<p style='color:#0f0;'>********************************************************************************************************************</p>"
      ],
      "text/plain": [
       "<IPython.core.display.HTML object>"
      ]
     },
     "metadata": {},
     "output_type": "display_data"
    },
    {
     "name": "stdout",
     "output_type": "stream",
     "text": [
      "WOO/USDT:USDT SHORT\n",
      "{'tps': [[1730383440000, 0.19243, 0.19244, 0.19153, 0.19176, 57600.0], [1730396100000, 0.19037, 0.19043, 0.18985, 0.18999, 8331.0], [1730397960000, 0.18875, 0.18876, 0.18768, 0.1878, 42790.0]], 'entry_reached': [[1730374560000, 0.19397, 0.19415, 0.19391, 0.19397, 7051.0]], 'stop_loss_reached': None, 'break_reason': None}\n"
     ]
    },
    {
     "data": {
      "text/html": [
       "<p style='color:#0f0;'>********************************************************************************************************************</p>"
      ],
      "text/plain": [
       "<IPython.core.display.HTML object>"
      ]
     },
     "metadata": {},
     "output_type": "display_data"
    },
    {
     "data": {
      "text/html": [
       "<p style='color:#FFFF00;'>waiting 5 min...</p>"
      ],
      "text/plain": [
       "<IPython.core.display.HTML object>"
      ]
     },
     "metadata": {},
     "output_type": "display_data"
    },
    {
     "name": "stdout",
     "output_type": "stream",
     "text": [
      "TONCOIN/USDT:USDT SHORT\n",
      "{'tps': [], 'entry_reached': [[1730445360000, 4.794, 4.801, 4.79, 4.799, 4212.5], [1730457060000, 4.877, 4.883, 4.875, 4.881, 472.9]], 'stop_loss_reached': [1730459940000, 4.906, 4.91, 4.905, 4.907, 2416.0], 'break_reason': None}\n"
     ]
    },
    {
     "data": {
      "text/html": [
       "<p style='color:#0f0;'>********************************************************************************************************************</p>"
      ],
      "text/plain": [
       "<IPython.core.display.HTML object>"
      ]
     },
     "metadata": {},
     "output_type": "display_data"
    },
    {
     "name": "stdout",
     "output_type": "stream",
     "text": [
      "UNI/USDT:USDT SHORT\n",
      "{'tps': [], 'entry_reached': [[1730445600000, 7.706, 7.729, 7.706, 7.729, 3960.0], [1730463900000, 7.856, 7.87, 7.854, 7.867, 2303.0]], 'stop_loss_reached': [1730464680000, 7.961, 7.977, 7.959, 7.975, 3536.0], 'break_reason': None}\n"
     ]
    },
    {
     "data": {
      "text/html": [
       "<p style='color:#0f0;'>********************************************************************************************************************</p>"
      ],
      "text/plain": [
       "<IPython.core.display.HTML object>"
      ]
     },
     "metadata": {},
     "output_type": "display_data"
    },
    {
     "name": "stdout",
     "output_type": "stream",
     "text": [
      "LOKA/USDT:USDT LONG\n",
      "{'tps': [], 'entry_reached': [[1730551380000, 0.1717, 0.1718, 0.1711, 0.1716, 16071.7], [1730555640000, 0.1681, 0.1682, 0.1676, 0.1677, 24278.98]], 'stop_loss_reached': [1730558460000, 0.1662, 0.1665, 0.166, 0.1662, 1068.51], 'break_reason': None}\n"
     ]
    },
    {
     "data": {
      "text/html": [
       "<p style='color:#0f0;'>********************************************************************************************************************</p>"
      ],
      "text/plain": [
       "<IPython.core.display.HTML object>"
      ]
     },
     "metadata": {},
     "output_type": "display_data"
    },
    {
     "name": "stdout",
     "output_type": "stream",
     "text": [
      "GRASS/USDT:USDT LONG\n",
      "{'tps': [], 'entry_reached': [[1730541300000, 1.9095, 1.9095, 1.8576, 1.8847, 134634.95], [1730542200000, 1.8774, 1.8774, 1.8219, 1.8371, 96602.47]], 'stop_loss_reached': [1730542620000, 1.8163, 1.8178, 1.7725, 1.7786, 89526.78], 'break_reason': None}\n"
     ]
    },
    {
     "data": {
      "text/html": [
       "<p style='color:#0f0;'>********************************************************************************************************************</p>"
      ],
      "text/plain": [
       "<IPython.core.display.HTML object>"
      ]
     },
     "metadata": {},
     "output_type": "display_data"
    },
    {
     "name": "stdout",
     "output_type": "stream",
     "text": [
      "JUP/USDT:USDT SHORT\n",
      "{'tps': [[1730550780000, 0.9372, 0.9383, 0.9363, 0.9379, 9041.82], [1730556000000, 0.9286, 0.9293, 0.9272, 0.9288, 471.17], [1730560260000, 0.9191, 0.9194, 0.9176, 0.918, 16443.1]], 'entry_reached': [[1730546400000, 0.9449, 0.946, 0.9449, 0.9457, 1005.06]], 'stop_loss_reached': None, 'break_reason': None}\n"
     ]
    },
    {
     "data": {
      "text/html": [
       "<p style='color:#0f0;'>********************************************************************************************************************</p>"
      ],
      "text/plain": [
       "<IPython.core.display.HTML object>"
      ]
     },
     "metadata": {},
     "output_type": "display_data"
    },
    {
     "name": "stdout",
     "output_type": "stream",
     "text": [
      "SXP/USDT:USDT LONG\n",
      "{'tps': [[1730592840000, 0.2443, 0.2451, 0.2431, 0.2436, 150056.0], [1730592960000, 0.2464, 0.2493, 0.2462, 0.2486, 200680.0], [1730593080000, 0.2498, 0.2533, 0.2493, 0.2521, 226845.0]], 'entry_reached': [[1730553780000, 0.2412, 0.2415, 0.2411, 0.2413, 2110.0]], 'stop_loss_reached': None, 'break_reason': None}\n"
     ]
    },
    {
     "data": {
      "text/html": [
       "<p style='color:#0f0;'>********************************************************************************************************************</p>"
      ],
      "text/plain": [
       "<IPython.core.display.HTML object>"
      ]
     },
     "metadata": {},
     "output_type": "display_data"
    },
    {
     "name": "stdout",
     "output_type": "stream",
     "text": [
      "BTC/USDT:USDT SHORT\n",
      "{'tps': [[1730641380000, 68262.4, 68280.1, 68157.6, 68193.6, 31.98], [1730642820000, 68027.2, 68036.9, 67918.0, 67943.9, 39.17], [1730644140000, 67777.6, 67778.4, 67676.0, 67709.1, 162.32]], 'entry_reached': [[1730628840000, 68371.8, 68390.0, 68356.0, 68389.1, 11.23]], 'stop_loss_reached': None, 'break_reason': None}\n"
     ]
    },
    {
     "data": {
      "text/html": [
       "<p style='color:#0f0;'>********************************************************************************************************************</p>"
      ],
      "text/plain": [
       "<IPython.core.display.HTML object>"
      ]
     },
     "metadata": {},
     "output_type": "display_data"
    },
    {
     "name": "stdout",
     "output_type": "stream",
     "text": [
      "TONCOIN/USDT:USDT SHORT\n",
      "{'tps': [[1730640780000, 4.749, 4.749, 4.736, 4.737, 1718.7], [1730644020000, 4.696, 4.701, 4.69, 4.698, 862.1]], 'entry_reached': [[1730634960000, 4.79, 4.79, 4.788, 4.789, 456.2], [1730687460000, 4.866, 4.87, 4.865, 4.866, 651.6]], 'stop_loss_reached': [1730689200000, 4.882, 4.89, 4.882, 4.887, 907.5], 'break_reason': None}\n"
     ]
    },
    {
     "data": {
      "text/html": [
       "<p style='color:#0f0;'>********************************************************************************************************************</p>"
      ],
      "text/plain": [
       "<IPython.core.display.HTML object>"
      ]
     },
     "metadata": {},
     "output_type": "display_data"
    },
    {
     "name": "stdout",
     "output_type": "stream",
     "text": [
      "LOKA/USDT:USDT SHORT\n",
      "{'tps': [], 'entry_reached': [[1730661360000, 0.1553, 0.1554, 0.1549, 0.1549, 1618.45], [1730665680000, 0.1567, 0.1571, 0.1566, 0.1566, 15319.47]], 'stop_loss_reached': [1730666160000, 0.1578, 0.1584, 0.1576, 0.1576, 49996.46], 'break_reason': None}\n"
     ]
    },
    {
     "data": {
      "text/html": [
       "<p style='color:#0f0;'>********************************************************************************************************************</p>"
      ],
      "text/plain": [
       "<IPython.core.display.HTML object>"
      ]
     },
     "metadata": {},
     "output_type": "display_data"
    },
    {
     "name": "stdout",
     "output_type": "stream",
     "text": [
      "FLOKI/USDT:USDT SHORT\n",
      "{'tps': [[1730738460000, 0.00011868, 0.00011873, 0.00011841, 0.00011852, 94847746.0], [1730756460000, 0.0001159, 0.00011591, 0.00011523, 0.00011565, 124021113.0]], 'entry_reached': [[1730699340000, 0.00012165, 0.00012167, 0.0001216, 0.00012164, 14072247.0], [1730816640000, 0.000125, 0.00012545, 0.00012499, 0.00012518, 190346206.0]], 'stop_loss_reached': [1730817120000, 0.00012679, 0.00012724, 0.00012679, 0.00012724, 94473710.0], 'break_reason': None}\n"
     ]
    },
    {
     "data": {
      "text/html": [
       "<p style='color:#0f0;'>********************************************************************************************************************</p>"
      ],
      "text/plain": [
       "<IPython.core.display.HTML object>"
      ]
     },
     "metadata": {},
     "output_type": "display_data"
    },
    {
     "name": "stdout",
     "output_type": "stream",
     "text": [
      "BNB/USDT:USDT LONG\n",
      "{'tps': [[1730853900000, 570.89, 571.39, 570.89, 571.33, 97.1], [1730862180000, 583.08, 584.4, 583.06, 584.4, 83.22], [1730939400000, 595.42, 595.99, 594.98, 595.75, 24.4]], 'entry_reached': [[1730752200000, 551.94, 552.23, 551.94, 552.02, 69.66], [1730757120000, 544.06, 544.06, 542.87, 543.46, 253.3]], 'stop_loss_reached': None, 'break_reason': None}\n"
     ]
    },
    {
     "data": {
      "text/html": [
       "<p style='color:#0f0;'>********************************************************************************************************************</p>"
      ],
      "text/plain": [
       "<IPython.core.display.HTML object>"
      ]
     },
     "metadata": {},
     "output_type": "display_data"
    },
    {
     "name": "stdout",
     "output_type": "stream",
     "text": [
      "AVAX/USDT:USDT SHORT\n",
      "{'tps': [[1730734920000, 23.171, 23.178, 23.123, 23.123, 3317.0], [1730755260000, 22.816, 22.817, 22.739, 22.744, 2473.0], [1730757120000, 22.395, 22.399, 22.322, 22.349, 2683.0]], 'entry_reached': [[1730715300000, 23.559, 23.605, 23.552, 23.604, 1939.0]], 'stop_loss_reached': None, 'break_reason': None}\n"
     ]
    },
    {
     "data": {
      "text/html": [
       "<p style='color:#0f0;'>********************************************************************************************************************</p>"
      ],
      "text/plain": [
       "<IPython.core.display.HTML object>"
      ]
     },
     "metadata": {},
     "output_type": "display_data"
    },
    {
     "name": "stdout",
     "output_type": "stream",
     "text": [
      "LQTY/USDT:USDT SHORT\n",
      "{'tps': [[1730723880000, 0.809, 0.8098, 0.8086, 0.8098, 4258.0], [1730731200000, 0.8014, 0.8017, 0.8005, 0.8017, 1828.0], [1730738460000, 0.7936, 0.7936, 0.7919, 0.7924, 3035.0]], 'entry_reached': [[1730722200000, 0.817, 0.8187, 0.817, 0.8185, 4976.0]], 'stop_loss_reached': None, 'break_reason': None}\n"
     ]
    },
    {
     "data": {
      "text/html": [
       "<p style='color:#0f0;'>********************************************************************************************************************</p>"
      ],
      "text/plain": [
       "<IPython.core.display.HTML object>"
      ]
     },
     "metadata": {},
     "output_type": "display_data"
    },
    {
     "name": "stdout",
     "output_type": "stream",
     "text": [
      "OP/USDT:USDT SHORT\n",
      "{'tps': [], 'entry_reached': [[1730777340000, 1.3697, 1.3725, 1.3695, 1.3723, 299.6], [1730797320000, 1.392, 1.3946, 1.3918, 1.3939, 5813.9]], 'stop_loss_reached': [1730838600000, 1.4145, 1.4147, 1.4133, 1.4143, 2231.6], 'break_reason': None}\n"
     ]
    },
    {
     "data": {
      "text/html": [
       "<p style='color:#0f0;'>********************************************************************************************************************</p>"
      ],
      "text/plain": [
       "<IPython.core.display.HTML object>"
      ]
     },
     "metadata": {},
     "output_type": "display_data"
    },
    {
     "name": "stdout",
     "output_type": "stream",
     "text": [
      "BTC/USDT:USDT LONG\n",
      "{'tps': [[1730781900000, 68434.5, 68489.6, 68434.5, 68489.6, 10.37], [1730797200000, 69036.8, 69100.0, 68793.8, 68952.7, 68.18], [1730817120000, 69507.0, 69786.2, 69507.0, 69779.6, 170.79]], 'entry_reached': [[1730752200000, 67667.0, 67682.4, 67640.9, 67669.7, 10.99], [1730755440000, 67426.0, 67430.6, 67056.2, 67182.0, 178.27]], 'stop_loss_reached': None, 'break_reason': None}\n"
     ]
    },
    {
     "data": {
      "text/html": [
       "<p style='color:#0f0;'>********************************************************************************************************************</p>"
      ],
      "text/plain": [
       "<IPython.core.display.HTML object>"
      ]
     },
     "metadata": {},
     "output_type": "display_data"
    },
    {
     "name": "stdout",
     "output_type": "stream",
     "text": [
      "LDO/USDT:USDT SHORT\n",
      "{'tps': [], 'entry_reached': [[1730801520000, 0.959, 0.9598, 0.959, 0.9597, 7263.0], [1730818080000, 0.9823, 0.9853, 0.9821, 0.9853, 2551.0]], 'stop_loss_reached': [1730853300000, 0.9933, 0.9955, 0.9923, 0.9945, 3256.0], 'break_reason': None}\n"
     ]
    },
    {
     "data": {
      "text/html": [
       "<p style='color:#0f0;'>********************************************************************************************************************</p>"
      ],
      "text/plain": [
       "<IPython.core.display.HTML object>"
      ]
     },
     "metadata": {},
     "output_type": "display_data"
    },
    {
     "name": "stdout",
     "output_type": "stream",
     "text": [
      "NEAR/USDT:USDT LONG\n",
      "{'tps': [[1730813400000, 3.7796, 3.7947, 3.7796, 3.7912, 4342.0], [1730817000000, 3.8414, 3.8485, 3.839, 3.8468, 4554.0], [1730817900000, 3.8952, 3.91, 3.8941, 3.9099, 3921.0]], 'entry_reached': [[1730809140000, 3.7257, 3.7257, 3.7211, 3.7212, 1880.0]], 'stop_loss_reached': None, 'break_reason': None}\n"
     ]
    },
    {
     "data": {
      "text/html": [
       "<p style='color:#0f0;'>********************************************************************************************************************</p>"
      ],
      "text/plain": [
       "<IPython.core.display.HTML object>"
      ]
     },
     "metadata": {},
     "output_type": "display_data"
    },
    {
     "name": "stdout",
     "output_type": "stream",
     "text": [
      "ICP/USDT:USDT LONG\n",
      "{'tps': [[1730893200000, 7.717, 7.72, 7.711, 7.713, 405.99], [1730930400000, 7.827, 7.86, 7.827, 7.86, 319.22], [1730933580000, 7.938, 7.976, 7.936, 7.974, 326.73]], 'entry_reached': [[1730886060000, 7.599, 7.601, 7.589, 7.589, 873.74]], 'stop_loss_reached': None, 'break_reason': None}\n"
     ]
    },
    {
     "data": {
      "text/html": [
       "<p style='color:#0f0;'>********************************************************************************************************************</p>"
      ],
      "text/plain": [
       "<IPython.core.display.HTML object>"
      ]
     },
     "metadata": {},
     "output_type": "display_data"
    },
    {
     "name": "stdout",
     "output_type": "stream",
     "text": [
      "DOGE/USDT:USDT LONG\n",
      "{'tps': [[1730895000000, 0.20483, 0.20557, 0.2046, 0.20492, 1525827.0]], 'entry_reached': [[1730890200000, 0.20157, 0.20157, 0.20061, 0.20062, 2151010.0], [1730902560000, 0.19725, 0.19741, 0.19565, 0.19605, 2632489.0]], 'stop_loss_reached': [1730904960000, 0.19276, 0.19276, 0.19155, 0.19205, 3325467.0], 'break_reason': None}\n"
     ]
    },
    {
     "data": {
      "text/html": [
       "<p style='color:#0f0;'>********************************************************************************************************************</p>"
      ],
      "text/plain": [
       "<IPython.core.display.HTML object>"
      ]
     },
     "metadata": {},
     "output_type": "display_data"
    },
    {
     "name": "stdout",
     "output_type": "stream",
     "text": [
      "SEI/USDT:USDT LONG\n",
      "{'tps': [[1730912280000, 0.3896, 0.3904, 0.3894, 0.3901, 19226.0], [1730915760000, 0.3932, 0.3943, 0.393, 0.3941, 20766.0], [1730917500000, 0.3978, 0.3987, 0.3978, 0.3985, 22565.0]], 'entry_reached': [[1730895840000, 0.3866, 0.3867, 0.3862, 0.3865, 5112.0], [1730904720000, 0.3816, 0.3823, 0.3809, 0.3819, 35415.0]], 'stop_loss_reached': None, 'break_reason': None}\n"
     ]
    },
    {
     "data": {
      "text/html": [
       "<p style='color:#0f0;'>********************************************************************************************************************</p>"
      ],
      "text/plain": [
       "<IPython.core.display.HTML object>"
      ]
     },
     "metadata": {},
     "output_type": "display_data"
    },
    {
     "name": "stdout",
     "output_type": "stream",
     "text": [
      "1000PEPE/USDT:USDT LONG\n",
      "{'tps': [[1730968860000, 0.0103993, 0.0104062, 0.0103935, 0.0103941, 1356184.0], [1731009360000, 0.0105527, 0.0106065, 0.0105524, 0.0106059, 3607148.0], [1731013380000, 0.0107799, 0.010821, 0.0107654, 0.0108207, 5381151.0]], 'entry_reached': [[1730964060000, 0.0102274, 0.0102307, 0.0102086, 0.010226, 6381391.0]], 'stop_loss_reached': None, 'break_reason': None}\n"
     ]
    },
    {
     "data": {
      "text/html": [
       "<p style='color:#0f0;'>********************************************************************************************************************</p>"
      ],
      "text/plain": [
       "<IPython.core.display.HTML object>"
      ]
     },
     "metadata": {},
     "output_type": "display_data"
    },
    {
     "name": "stdout",
     "output_type": "stream",
     "text": [
      "TONCOIN/USDT:USDT LONG\n",
      "{'tps': [[1730977080000, 4.873, 4.876, 4.871, 4.874, 1095.9], [1730995260000, 4.916, 4.924, 4.916, 4.923, 439.7], [1731013680000, 4.956, 4.97, 4.954, 4.964, 3446.6]], 'entry_reached': [[1730967360000, 4.822, 4.828, 4.821, 4.826, 703.0]], 'stop_loss_reached': None, 'break_reason': None}\n"
     ]
    },
    {
     "data": {
      "text/html": [
       "<p style='color:#0f0;'>********************************************************************************************************************</p>"
      ],
      "text/plain": [
       "<IPython.core.display.HTML object>"
      ]
     },
     "metadata": {},
     "output_type": "display_data"
    },
    {
     "name": "stdout",
     "output_type": "stream",
     "text": [
      "NEIROCTO/USDT:USDT SHORT\n",
      "{'tps': [[1731077040000, 0.0023591, 0.0023655, 0.00234, 0.002353, 11598351.0], [1731078420000, 0.0022868, 0.00229, 0.0022663, 0.0022704, 11609011.0], [1731083520000, 0.0022537, 0.0022548, 0.0022079, 0.0022137, 37651946.0]], 'entry_reached': [[1731069420000, 0.0023883, 0.0024005, 0.0023883, 0.0023979, 23005771.0]], 'stop_loss_reached': None, 'break_reason': None}\n"
     ]
    },
    {
     "data": {
      "text/html": [
       "<p style='color:#0f0;'>********************************************************************************************************************</p>"
      ],
      "text/plain": [
       "<IPython.core.display.HTML object>"
      ]
     },
     "metadata": {},
     "output_type": "display_data"
    },
    {
     "name": "stdout",
     "output_type": "stream",
     "text": [
      "TONCOIN/USDT:USDT SHORT\n",
      "{'tps': [[1731053820000, 4.844, 4.844, 4.832, 4.834, 1509.9]], 'entry_reached': [[1731047700000, 4.878, 4.882, 4.876, 4.882, 224.4], [1731068940000, 4.923, 4.94, 4.923, 4.938, 991.1]], 'stop_loss_reached': [1731081780000, 4.97, 4.976, 4.968, 4.973, 1014.3], 'break_reason': None}\n"
     ]
    },
    {
     "data": {
      "text/html": [
       "<p style='color:#0f0;'>********************************************************************************************************************</p>"
      ],
      "text/plain": [
       "<IPython.core.display.HTML object>"
      ]
     },
     "metadata": {},
     "output_type": "display_data"
    },
    {
     "name": "stdout",
     "output_type": "stream",
     "text": [
      "1000PEPE/USDT:USDT SHORT\n",
      "{'tps': [[1731085680000, 0.010385, 0.0103858, 0.0103409, 0.0103417, 14954809.0]], 'entry_reached': [[1731050280000, 0.0107163, 0.0107409, 0.0107124, 0.0107181, 574727.0], [1731143700000, 0.0111892, 0.01135, 0.011188, 0.0113473, 4592622.0]], 'stop_loss_reached': [1731202560000, 0.0114813, 0.011512, 0.0114559, 0.0114697, 3515401.0], 'break_reason': None}\n"
     ]
    },
    {
     "data": {
      "text/html": [
       "<p style='color:#0f0;'>********************************************************************************************************************</p>"
      ],
      "text/plain": [
       "<IPython.core.display.HTML object>"
      ]
     },
     "metadata": {},
     "output_type": "display_data"
    },
    {
     "name": "stdout",
     "output_type": "stream",
     "text": [
      "JUP/USDT:USDT SHORT\n",
      "{'tps': [], 'entry_reached': [[1731052860000, 1.0988, 1.099, 1.0947, 1.0961, 10024.74], [1731052920000, 1.0961, 1.0964, 1.0941, 1.0943, 16574.44]], 'stop_loss_reached': [1731052980000, 1.094, 1.0942, 1.0914, 1.0922, 10618.02], 'break_reason': None}\n"
     ]
    },
    {
     "data": {
      "text/html": [
       "<p style='color:#0f0;'>********************************************************************************************************************</p>"
      ],
      "text/plain": [
       "<IPython.core.display.HTML object>"
      ]
     },
     "metadata": {},
     "output_type": "display_data"
    },
    {
     "name": "stdout",
     "output_type": "stream",
     "text": [
      "BTC/USDT:USDT LONG\n",
      "{'tps': [[1731090780000, 76566.5, 76712.2, 76550.0, 76684.5, 47.27], [1731094920000, 77065.0, 77187.5, 77041.3, 77055.5, 118.48], [1731205560000, 77261.7, 77489.3, 77260.2, 77427.8, 88.78]], 'entry_reached': [[1731063660000, 76270.8, 76315.2, 76236.6, 76240.4, 18.14], [1731077040000, 75881.5, 75882.8, 75683.0, 75716.1, 117.45]], 'stop_loss_reached': None, 'break_reason': None}\n"
     ]
    },
    {
     "data": {
      "text/html": [
       "<p style='color:#0f0;'>********************************************************************************************************************</p>"
      ],
      "text/plain": [
       "<IPython.core.display.HTML object>"
      ]
     },
     "metadata": {},
     "output_type": "display_data"
    },
    {
     "name": "stdout",
     "output_type": "stream",
     "text": [
      "SCR/USDT:USDT SHORT\n",
      "{'tps': [[1731069660000, 0.682, 0.682, 0.681, 0.681, 3084.66], [1731076680000, 0.678, 0.678, 0.674, 0.674, 11280.5], [1731077040000, 0.672, 0.672, 0.668, 0.668, 7487.02]], 'entry_reached': [[1731069300000, 0.684, 0.687, 0.684, 0.685, 3950.18]], 'stop_loss_reached': None, 'break_reason': None}\n"
     ]
    },
    {
     "data": {
      "text/html": [
       "<p style='color:#0f0;'>********************************************************************************************************************</p>"
      ],
      "text/plain": [
       "<IPython.core.display.HTML object>"
      ]
     },
     "metadata": {},
     "output_type": "display_data"
    },
    {
     "name": "stdout",
     "output_type": "stream",
     "text": [
      "BCH/USDT:USDT LONG\n",
      "{'tps': [[1731184200000, 381.26, 381.38, 381.17, 381.17, 32.91], [1731187620000, 382.58, 383.39, 382.58, 383.38, 36.67], [1731189600000, 385.68, 388.27, 385.63, 388.24, 147.99]], 'entry_reached': [[1731134220000, 375.37, 375.39, 374.71, 374.78, 55.18], [1731136440000, 374.78, 374.78, 370.52, 371.74, 145.4]], 'stop_loss_reached': None, 'break_reason': None}\n"
     ]
    },
    {
     "data": {
      "text/html": [
       "<p style='color:#0f0;'>********************************************************************************************************************</p>"
      ],
      "text/plain": [
       "<IPython.core.display.HTML object>"
      ]
     },
     "metadata": {},
     "output_type": "display_data"
    },
    {
     "name": "stdout",
     "output_type": "stream",
     "text": [
      "TAO/USDT:USDT LONG\n",
      "{'tps': [[1731142800000, 515.57, 516.23, 515.34, 516.19, 15.36], [1731143760000, 520.43, 520.91, 519.13, 520.82, 27.49]], 'entry_reached': [[1731142260000, 511.18, 511.38, 510.72, 511.38, 0.06], [1731184200000, 499.79, 499.95, 498.26, 498.49, 16.01]], 'stop_loss_reached': [1731184260000, 498.47, 499.95, 498.46, 499.66, 0.61], 'break_reason': None}\n"
     ]
    },
    {
     "data": {
      "text/html": [
       "<p style='color:#0f0;'>********************************************************************************************************************</p>"
      ],
      "text/plain": [
       "<IPython.core.display.HTML object>"
      ]
     },
     "metadata": {},
     "output_type": "display_data"
    },
    {
     "name": "stdout",
     "output_type": "stream",
     "text": [
      "SCR/USDT:USDT SHORT\n",
      "{'tps': [[1731148140000, 0.754, 0.756, 0.752, 0.753, 16522.72]], 'entry_reached': [[1731146760000, 0.752, 0.767, 0.752, 0.765, 11785.93], [1731192780000, 0.771, 0.783, 0.771, 0.776, 7000.0]], 'stop_loss_reached': [1731194700000, 0.778, 0.783, 0.778, 0.783, 4195.18], 'break_reason': None}\n"
     ]
    },
    {
     "data": {
      "text/html": [
       "<p style='color:#0f0;'>********************************************************************************************************************</p>"
      ],
      "text/plain": [
       "<IPython.core.display.HTML object>"
      ]
     },
     "metadata": {},
     "output_type": "display_data"
    },
    {
     "name": "stdout",
     "output_type": "stream",
     "text": [
      "SOL/USDT:USDT LONG\n",
      "{'tps': [[1731248160000, 208.628, 208.95, 208.55, 208.783, 2842.0], [1731253560000, 212.568, 213.586, 212.355, 213.575, 4586.0], [1731321540000, 215.791, 216.336, 215.684, 215.89, 3068.0]], 'entry_reached': [[1731227160000, 205.1, 205.108, 204.953, 204.971, 1892.0], [1731272880000, 201.275, 201.424, 200.764, 200.961, 6163.0]], 'stop_loss_reached': None, 'break_reason': None}\n"
     ]
    },
    {
     "data": {
      "text/html": [
       "<p style='color:#0f0;'>********************************************************************************************************************</p>"
      ],
      "text/plain": [
       "<IPython.core.display.HTML object>"
      ]
     },
     "metadata": {},
     "output_type": "display_data"
    },
    {
     "name": "stdout",
     "output_type": "stream",
     "text": [
      "1000BONK/USDT:USDT LONG\n",
      "{'tps': [[1731231300000, 0.024286, 0.024348, 0.024227, 0.024301, 276147.0], [1731243900000, 0.025006, 0.02515, 0.024991, 0.025149, 146700.0], [1731246780000, 0.025885, 0.025923, 0.025792, 0.025819, 247096.0]], 'entry_reached': [[1731227400000, 0.023468, 0.023469, 0.023406, 0.023409, 202940.0]], 'stop_loss_reached': None, 'break_reason': None}\n"
     ]
    },
    {
     "data": {
      "text/html": [
       "<p style='color:#0f0;'>********************************************************************************************************************</p>"
      ],
      "text/plain": [
       "<IPython.core.display.HTML object>"
      ]
     },
     "metadata": {},
     "output_type": "display_data"
    },
    {
     "name": "stdout",
     "output_type": "stream",
     "text": [
      "ADA/USDT:USDT LONG\n",
      "{'tps': [[1731230880000, 0.58625, 0.58848, 0.58592, 0.58762, 119750.0], [1731234840000, 0.59579, 0.59932, 0.59437, 0.59871, 479645.0], [1731241080000, 0.60068, 0.60845, 0.60057, 0.60798, 883560.0]], 'entry_reached': [[1731229500000, 0.5772, 0.57874, 0.57709, 0.57811, 43661.0]], 'stop_loss_reached': None, 'break_reason': None}\n"
     ]
    },
    {
     "data": {
      "text/html": [
       "<p style='color:#0f0;'>********************************************************************************************************************</p>"
      ],
      "text/plain": [
       "<IPython.core.display.HTML object>"
      ]
     },
     "metadata": {},
     "output_type": "display_data"
    },
    {
     "name": "stdout",
     "output_type": "stream",
     "text": [
      "JTO/USDT:USDT LONG\n",
      "{'tps': [[1731240900000, 3.1099, 3.127, 3.1055, 3.122, 7415.91], [1731243120000, 3.1651, 3.1859, 3.1647, 3.1814, 1773.95]], 'entry_reached': [[1731231840000, 3.0802, 3.0808, 3.0741, 3.0743, 1306.52], [1731267900000, 3.0295, 3.0334, 3.0126, 3.0139, 27149.1]], 'stop_loss_reached': [1731271380000, 2.9816, 2.9824, 2.9702, 2.9723, 969.26], 'break_reason': None}\n"
     ]
    },
    {
     "data": {
      "text/html": [
       "<p style='color:#0f0;'>********************************************************************************************************************</p>"
      ],
      "text/plain": [
       "<IPython.core.display.HTML object>"
      ]
     },
     "metadata": {},
     "output_type": "display_data"
    },
    {
     "name": "stdout",
     "output_type": "stream",
     "text": [
      "CETUS/USDT:USDT LONG\n"
     ]
    },
    {
     "data": {
      "text/html": [
       "<p style='color:#c01;'>json, 1731184200000</p>"
      ],
      "text/plain": [
       "<IPython.core.display.HTML object>"
      ]
     },
     "metadata": {},
     "output_type": "display_data"
    },
    {
     "data": {
      "text/html": [
       "<p style='color:#ada;'>saving historic tohlcv data to json</p>"
      ],
      "text/plain": [
       "<IPython.core.display.HTML object>"
      ]
     },
     "metadata": {},
     "output_type": "display_data"
    },
    {
     "name": "stdout",
     "output_type": "stream",
     "text": [
      "{'tps': [], 'entry_reached': [], 'stop_loss_reached': None, 'break_reason': 'WAIT MANY DAYS'}\n"
     ]
    },
    {
     "data": {
      "text/html": [
       "<p style='color:#0f0;'>********************************************************************************************************************</p>"
      ],
      "text/plain": [
       "<IPython.core.display.HTML object>"
      ]
     },
     "metadata": {},
     "output_type": "display_data"
    },
    {
     "name": "stdout",
     "output_type": "stream",
     "text": [
      "1000BONK/USDT:USDT SHORT\n",
      "{'tps': [], 'entry_reached': [[1731304980000, 0.025109, 0.025331, 0.025109, 0.025312, 249374.0], [1731339900000, 0.026329, 0.026726, 0.026272, 0.026681, 336325.0]], 'stop_loss_reached': [1731388740000, 0.027608, 0.027918, 0.0276, 0.027778, 324698.0], 'break_reason': None}\n"
     ]
    },
    {
     "data": {
      "text/html": [
       "<p style='color:#0f0;'>********************************************************************************************************************</p>"
      ],
      "text/plain": [
       "<IPython.core.display.HTML object>"
      ]
     },
     "metadata": {},
     "output_type": "display_data"
    },
    {
     "name": "stdout",
     "output_type": "stream",
     "text": [
      "BTC/USDT:USDT LONG\n",
      "{'tps': [[1731335580000, 81918.3, 82498.1, 81897.1, 82490.7, 146.19], [1731338040000, 82845.0, 83000.0, 82842.7, 82953.3, 137.62], [1731338580000, 83416.5, 83557.5, 83363.4, 83477.5, 134.31]], 'entry_reached': [[1731327600000, 82132.4, 82144.2, 81868.3, 81898.1, 60.53]], 'stop_loss_reached': None, 'break_reason': None}\n"
     ]
    },
    {
     "data": {
      "text/html": [
       "<p style='color:#0f0;'>********************************************************************************************************************</p>"
      ],
      "text/plain": [
       "<IPython.core.display.HTML object>"
      ]
     },
     "metadata": {},
     "output_type": "display_data"
    },
    {
     "name": "stdout",
     "output_type": "stream",
     "text": [
      "TIA/USDT:USDT LONG\n",
      "{'tps': [], 'entry_reached': [[1731326760000, 5.7061, 5.7061, 5.6942, 5.7056, 4223.48], [1731327600000, 5.6294, 5.6327, 5.5876, 5.6003, 21632.09]], 'stop_loss_reached': [1731330660000, 5.5195, 5.5201, 5.4987, 5.5044, 5174.78], 'break_reason': None}\n"
     ]
    },
    {
     "data": {
      "text/html": [
       "<p style='color:#0f0;'>********************************************************************************************************************</p>"
      ],
      "text/plain": [
       "<IPython.core.display.HTML object>"
      ]
     },
     "metadata": {},
     "output_type": "display_data"
    },
    {
     "name": "stdout",
     "output_type": "stream",
     "text": [
      "DOT/USDT:USDT LONG\n"
     ]
    },
    {
     "data": {
      "text/html": [
       "<p style='color:#c01;'>json, 1731357000000</p>"
      ],
      "text/plain": [
       "<IPython.core.display.HTML object>"
      ]
     },
     "metadata": {},
     "output_type": "display_data"
    },
    {
     "data": {
      "text/html": [
       "<p style='color:#fd03a1;'>stop_timestamp</p>"
      ],
      "text/plain": [
       "<IPython.core.display.HTML object>"
      ]
     },
     "metadata": {},
     "output_type": "display_data"
    },
    {
     "data": {
      "text/html": [
       "<p style='color:#ada;'>saving historic tohlcv data to json</p>"
      ],
      "text/plain": [
       "<IPython.core.display.HTML object>"
      ]
     },
     "metadata": {},
     "output_type": "display_data"
    },
    {
     "name": "stdout",
     "output_type": "stream",
     "text": [
      "{'tps': [[1731399420000, 5.655, 5.677, 5.653, 5.674, 462.9], [1731402180000, 5.822, 5.833, 5.814, 5.831, 1550.8]], 'entry_reached': [[1731392760000, 5.5, 5.518, 5.5, 5.515, 320.4], [1731405960000, 5.42, 5.42, 5.303, 5.327, 17669.5]], 'stop_loss_reached': [1731408600000, 5.22, 5.251, 5.187, 5.188, 12904.8], 'break_reason': None}\n"
     ]
    },
    {
     "data": {
      "text/html": [
       "<p style='color:#0f0;'>********************************************************************************************************************</p>"
      ],
      "text/plain": [
       "<IPython.core.display.HTML object>"
      ]
     },
     "metadata": {},
     "output_type": "display_data"
    },
    {
     "name": "stdout",
     "output_type": "stream",
     "text": [
      "ETH/USDT:USDT SHORT\n",
      "{'tps': [[1732228020000, 3368.54, 3368.68, 3360.91, 3362.67, 228.11], [1732234860000, 3358.88, 3358.88, 3350.74, 3350.76, 87.98], [1732235880000, 3346.45, 3346.47, 3339.26, 3339.26, 126.01]], 'entry_reached': [[1732227540000, 3375.43, 3379.0, 3374.21, 3378.94, 275.25]], 'stop_loss_reached': None, 'break_reason': None}\n"
     ]
    },
    {
     "data": {
      "text/html": [
       "<p style='color:#0f0;'>********************************************************************************************************************</p>"
      ],
      "text/plain": [
       "<IPython.core.display.HTML object>"
      ]
     },
     "metadata": {},
     "output_type": "display_data"
    },
    {
     "name": "stdout",
     "output_type": "stream",
     "text": [
      "ETHFI/USDT:USDT LONG\n",
      "{'tps': [[1731401940000, 1.89, 1.896, 1.889, 1.894, 3362.0]], 'entry_reached': [[1731400260000, 1.857, 1.861, 1.853, 1.858, 997.53], [1731404820000, 1.816, 1.82, 1.806, 1.806, 7002.73]], 'stop_loss_reached': [1731405540000, 1.798, 1.798, 1.78, 1.78, 5029.54], 'break_reason': None}\n"
     ]
    },
    {
     "data": {
      "text/html": [
       "<p style='color:#0f0;'>********************************************************************************************************************</p>"
      ],
      "text/plain": [
       "<IPython.core.display.HTML object>"
      ]
     },
     "metadata": {},
     "output_type": "display_data"
    },
    {
     "name": "stdout",
     "output_type": "stream",
     "text": [
      "BTC/USDT:USDT LONG\n",
      "{'tps': [[1731508320000, 90514.6, 90722.6, 90187.3, 90667.7, 131.84], [1731512640000, 91897.1, 92170.1, 91861.4, 92139.5, 101.5], [1732040880000, 93244.2, 93780.0, 93244.2, 93756.8, 102.91]], 'entry_reached': [[1731445440000, 89374.9, 89374.9, 89088.1, 89166.8, 110.33], [1731464640000, 87339.2, 87448.2, 87275.4, 87293.2, 25.74]], 'stop_loss_reached': None, 'break_reason': None}\n"
     ]
    },
    {
     "data": {
      "text/html": [
       "<p style='color:#0f0;'>********************************************************************************************************************</p>"
      ],
      "text/plain": [
       "<IPython.core.display.HTML object>"
      ]
     },
     "metadata": {},
     "output_type": "display_data"
    },
    {
     "name": "stdout",
     "output_type": "stream",
     "text": [
      "NEIROCTO/USDT:USDT LONG\n",
      "{'tps': [[1731444120000, 0.0027005, 0.0027321, 0.0026997, 0.0027314, 1692289.0], [1731451320000, 0.0027596, 0.0028311, 0.0027582, 0.002829, 5895530.0], [1731451380000, 0.0028305, 0.0028553, 0.0028202, 0.0028425, 17683978.0]], 'entry_reached': [[1731443400000, 0.0026731, 0.0026765, 0.0026666, 0.0026718, 1062441.0]], 'stop_loss_reached': None, 'break_reason': None}\n"
     ]
    },
    {
     "data": {
      "text/html": [
       "<p style='color:#0f0;'>********************************************************************************************************************</p>"
      ],
      "text/plain": [
       "<IPython.core.display.HTML object>"
      ]
     },
     "metadata": {},
     "output_type": "display_data"
    },
    {
     "name": "stdout",
     "output_type": "stream",
     "text": [
      "BCH/USDT:USDT SHORT\n",
      "{'tps': [], 'entry_reached': [[1731487800000, 413.81, 414.25, 413.58, 414.22, 17.3], [1731505440000, 421.09, 421.92, 420.78, 421.86, 43.56]], 'stop_loss_reached': [1731508020000, 425.43, 427.26, 425.43, 426.17, 208.95], 'break_reason': None}\n"
     ]
    },
    {
     "data": {
      "text/html": [
       "<p style='color:#0f0;'>********************************************************************************************************************</p>"
      ],
      "text/plain": [
       "<IPython.core.display.HTML object>"
      ]
     },
     "metadata": {},
     "output_type": "display_data"
    },
    {
     "name": "stdout",
     "output_type": "stream",
     "text": [
      "BIGTIME/USDT:USDT SHORT\n"
     ]
    },
    {
     "data": {
      "text/html": [
       "<p style='color:#c01;'>json, 1731443400000</p>"
      ],
      "text/plain": [
       "<IPython.core.display.HTML object>"
      ]
     },
     "metadata": {},
     "output_type": "display_data"
    },
    {
     "name": "stdout",
     "output_type": "stream",
     "text": [
      "LUNC/USDT:USDT SHORT\n",
      "{'tps': [], 'entry_reached': [[1731700020000, 0.0001019, 0.00010217, 0.00010185, 0.00010213, 29577987.0], [1731708600000, 0.00010266, 0.00010334, 0.00010266, 0.0001032, 19932601.0]], 'stop_loss_reached': [1731708720000, 0.00010394, 0.00010455, 0.00010394, 0.00010428, 136696944.0], 'break_reason': None}\n"
     ]
    },
    {
     "data": {
      "text/html": [
       "<p style='color:#0f0;'>********************************************************************************************************************</p>"
      ],
      "text/plain": [
       "<IPython.core.display.HTML object>"
      ]
     },
     "metadata": {},
     "output_type": "display_data"
    },
    {
     "name": "stdout",
     "output_type": "stream",
     "text": [
      "GMT/USDT:USDT SHORT\n",
      "{'tps': [[1731588660000, 0.14697, 0.14698, 0.14647, 0.14664, 21711.0], [1731595380000, 0.14599, 0.14599, 0.14467, 0.14524, 49121.0], [1731596400000, 0.14379, 0.14379, 0.14292, 0.14293, 24450.0]], 'entry_reached': [[1731587400000, 0.14845, 0.14866, 0.14825, 0.14866, 18342.0]], 'stop_loss_reached': None, 'break_reason': None}\n"
     ]
    },
    {
     "data": {
      "text/html": [
       "<p style='color:#0f0;'>********************************************************************************************************************</p>"
      ],
      "text/plain": [
       "<IPython.core.display.HTML object>"
      ]
     },
     "metadata": {},
     "output_type": "display_data"
    },
    {
     "name": "stdout",
     "output_type": "stream",
     "text": [
      "BTC/USDT:USDT LONG\n",
      "{'tps': [[1731702600000, 90929.5, 91044.6, 90918.6, 90957.1, 18.45], [1731913140000, 92049.0, 92228.8, 92038.9, 92206.7, 69.66], [1732040880000, 93244.2, 93780.0, 93244.2, 93756.8, 102.91]], 'entry_reached': [[1731616200000, 88458.5, 88532.7, 88313.6, 88325.4, 7.78]], 'stop_loss_reached': None, 'break_reason': None}\n"
     ]
    },
    {
     "data": {
      "text/html": [
       "<p style='color:#0f0;'>********************************************************************************************************************</p>"
      ],
      "text/plain": [
       "<IPython.core.display.HTML object>"
      ]
     },
     "metadata": {},
     "output_type": "display_data"
    },
    {
     "name": "stdout",
     "output_type": "stream",
     "text": [
      "BLUR/USDT:USDT SHORT\n",
      "{'tps': [[1731627600000, 0.2223, 0.2223, 0.2216, 0.2216, 14918.0]], 'entry_reached': [[1731600540000, 0.2272, 0.2279, 0.2268, 0.2276, 87166.0], [1731603060000, 0.2324, 0.233, 0.2323, 0.233, 23463.0]], 'stop_loss_reached': [1731706320000, 0.2363, 0.2373, 0.2363, 0.2371, 31089.0], 'break_reason': None}\n"
     ]
    },
    {
     "data": {
      "text/html": [
       "<p style='color:#0f0;'>********************************************************************************************************************</p>"
      ],
      "text/plain": [
       "<IPython.core.display.HTML object>"
      ]
     },
     "metadata": {},
     "output_type": "display_data"
    },
    {
     "name": "stdout",
     "output_type": "stream",
     "text": [
      "1000PEPE/USDT:USDT SHORT\n",
      "{'tps': [], 'entry_reached': [[1731657840000, 0.0197382, 0.0197404, 0.0196402, 0.019658, 1298020.0], [1731702600000, 0.022463, 0.0225974, 0.0224449, 0.0225924, 4242972.0]], 'stop_loss_reached': [1731702660000, 0.0225866, 0.0225992, 0.022468, 0.0225522, 1589564.0], 'break_reason': None}\n"
     ]
    },
    {
     "data": {
      "text/html": [
       "<p style='color:#0f0;'>********************************************************************************************************************</p>"
      ],
      "text/plain": [
       "<IPython.core.display.HTML object>"
      ]
     },
     "metadata": {},
     "output_type": "display_data"
    },
    {
     "name": "stdout",
     "output_type": "stream",
     "text": [
      "MAGIC/USDT:USDT SHORT\n",
      "{'tps': [], 'entry_reached': [[1731660060000, 0.3559, 0.3567, 0.3557, 0.3563, 7948.0], [1731662700000, 0.3627, 0.3638, 0.3624, 0.3636, 2668.0]], 'stop_loss_reached': [1731701940000, 0.3686, 0.3705, 0.3686, 0.3705, 1874.0], 'break_reason': None}\n"
     ]
    },
    {
     "data": {
      "text/html": [
       "<p style='color:#0f0;'>********************************************************************************************************************</p>"
      ],
      "text/plain": [
       "<IPython.core.display.HTML object>"
      ]
     },
     "metadata": {},
     "output_type": "display_data"
    },
    {
     "name": "stdout",
     "output_type": "stream",
     "text": [
      "TONCOIN/USDT:USDT LONG\n",
      "{'tps': [[1731734100000, 5.469, 5.475, 5.462, 5.463, 3494.9], [1731789000000, 5.721, 5.732, 5.718, 5.724, 495.0], [1731789060000, 5.726, 5.727, 5.716, 5.721, 890.9]], 'entry_reached': [[1731702660000, 5.379, 5.379, 5.362, 5.366, 430.2]], 'stop_loss_reached': None, 'break_reason': None}\n"
     ]
    },
    {
     "data": {
      "text/html": [
       "<p style='color:#0f0;'>********************************************************************************************************************</p>"
      ],
      "text/plain": [
       "<IPython.core.display.HTML object>"
      ]
     },
     "metadata": {},
     "output_type": "display_data"
    },
    {
     "name": "stdout",
     "output_type": "stream",
     "text": [
      "IO/USDT:USDT LONG\n",
      "{'tps': [], 'entry_reached': [[1731737400000, 2.395, 2.396, 2.391, 2.393, 2123.23], [1731742320000, 2.337, 2.343, 2.332, 2.332, 2245.71]], 'stop_loss_reached': [1731769620000, 2.311, 2.311, 2.298, 2.31, 4909.84], 'break_reason': None}\n"
     ]
    },
    {
     "data": {
      "text/html": [
       "<p style='color:#0f0;'>********************************************************************************************************************</p>"
      ],
      "text/plain": [
       "<IPython.core.display.HTML object>"
      ]
     },
     "metadata": {},
     "output_type": "display_data"
    },
    {
     "name": "stdout",
     "output_type": "stream",
     "text": [
      "ACT/USDT:USDT SHORT\n",
      "{'tps': [[1731756840000, 0.7104, 0.71088, 0.708, 0.708, 47622.79], [1731760920000, 0.70097, 0.70102, 0.69549, 0.69656, 87053.76], [1731769620000, 0.68654, 0.68655, 0.68, 0.68315, 156598.15]], 'entry_reached': [[1731752400000, 0.72227, 0.72496, 0.72218, 0.72479, 13726.96]], 'stop_loss_reached': None, 'break_reason': None}\n"
     ]
    },
    {
     "data": {
      "text/html": [
       "<p style='color:#0f0;'>********************************************************************************************************************</p>"
      ],
      "text/plain": [
       "<IPython.core.display.HTML object>"
      ]
     },
     "metadata": {},
     "output_type": "display_data"
    },
    {
     "name": "stdout",
     "output_type": "stream",
     "text": [
      "CKB/USDT:USDT LONG\n",
      "{'tps': [[1731777840000, 0.01338, 0.013399, 0.013379, 0.013398, 75693.0], [1731802860000, 0.013709, 0.013754, 0.013703, 0.013746, 623526.0], [1732368300000, 0.014093, 0.014121, 0.014093, 0.014115, 71379.0]], 'entry_reached': [[1731753120000, 0.013036, 0.013048, 0.01303, 0.013044, 260630.0], [1732134600000, 0.012458, 0.012481, 0.012456, 0.012474, 25032.0]], 'stop_loss_reached': None, 'break_reason': None}\n"
     ]
    },
    {
     "data": {
      "text/html": [
       "<p style='color:#0f0;'>********************************************************************************************************************</p>"
      ],
      "text/plain": [
       "<IPython.core.display.HTML object>"
      ]
     },
     "metadata": {},
     "output_type": "display_data"
    },
    {
     "name": "stdout",
     "output_type": "stream",
     "text": [
      "NOT/USDT:USDT LONG\n",
      "{'tps': [[1731947700000, 0.007707, 0.007735, 0.007698, 0.007722, 2642606.0], [1731964560000, 0.007865, 0.007874, 0.007862, 0.007867, 561009.0], [1732018680000, 0.007964, 0.008038, 0.007953, 0.008032, 7853484.0]], 'entry_reached': [[1731831180000, 0.007574, 0.007584, 0.00757, 0.007584, 1784603.0], [1731841680000, 0.007403, 0.007403, 0.007332, 0.007332, 3489919.0]], 'stop_loss_reached': None, 'break_reason': None}\n"
     ]
    },
    {
     "data": {
      "text/html": [
       "<p style='color:#0f0;'>********************************************************************************************************************</p>"
      ],
      "text/plain": [
       "<IPython.core.display.HTML object>"
      ]
     },
     "metadata": {},
     "output_type": "display_data"
    },
    {
     "name": "stdout",
     "output_type": "stream",
     "text": [
      "ETH/USDT:USDT LONG\n",
      "{'tps': [], 'entry_reached': [[1731837840000, 3139.21, 3141.46, 3138.8, 3141.46, 28.2], [1731841680000, 3128.36, 3128.36, 3113.68, 3115.87, 497.12]], 'stop_loss_reached': [1731850500000, 3113.59, 3115.22, 3096.06, 3104.98, 290.56], 'break_reason': None}\n"
     ]
    },
    {
     "data": {
      "text/html": [
       "<p style='color:#0f0;'>********************************************************************************************************************</p>"
      ],
      "text/plain": [
       "<IPython.core.display.HTML object>"
      ]
     },
     "metadata": {},
     "output_type": "display_data"
    },
    {
     "name": "stdout",
     "output_type": "stream",
     "text": [
      "APT/USDT:USDT LONG\n",
      "{'tps': [], 'entry_reached': [[1731839640000, 12.5427, 12.5427, 12.5263, 12.5274, 294.5], [1731844740000, 12.3047, 12.3084, 12.2724, 12.2745, 3548.7]], 'stop_loss_reached': [1731855780000, 12.1396, 12.1549, 12.0943, 12.0943, 1425.9], 'break_reason': None}\n"
     ]
    },
    {
     "data": {
      "text/html": [
       "<p style='color:#0f0;'>********************************************************************************************************************</p>"
      ],
      "text/plain": [
       "<IPython.core.display.HTML object>"
      ]
     },
     "metadata": {},
     "output_type": "display_data"
    },
    {
     "name": "stdout",
     "output_type": "stream",
     "text": [
      "ACT/USDT:USDT SHORT\n",
      "{'tps': [[1731849660000, 0.61577, 0.61819, 0.61483, 0.6181, 22231.58]], 'entry_reached': [[1731848820000, 0.62234, 0.62358, 0.6215, 0.62155, 29880.41], [1731851580000, 0.63132, 0.6383, 0.63113, 0.63679, 48681.91]], 'stop_loss_reached': [1731851640000, 0.63678, 0.6416, 0.6367, 0.63972, 63107.79], 'break_reason': None}\n"
     ]
    },
    {
     "data": {
      "text/html": [
       "<p style='color:#0f0;'>********************************************************************************************************************</p>"
      ],
      "text/plain": [
       "<IPython.core.display.HTML object>"
      ]
     },
     "metadata": {},
     "output_type": "display_data"
    },
    {
     "name": "stdout",
     "output_type": "stream",
     "text": [
      "FLOKI/USDT:USDT LONG\n"
     ]
    },
    {
     "data": {
      "text/html": [
       "<p style='color:#c01;'>json, 1732653000000</p>"
      ],
      "text/plain": [
       "<IPython.core.display.HTML object>"
      ]
     },
     "metadata": {},
     "output_type": "display_data"
    },
    {
     "data": {
      "text/html": [
       "<p style='color:#fd03a1;'>stop_timestamp</p>"
      ],
      "text/plain": [
       "<IPython.core.display.HTML object>"
      ]
     },
     "metadata": {},
     "output_type": "display_data"
    },
    {
     "data": {
      "text/html": [
       "<p style='color:#ada;'>saving historic tohlcv data to json</p>"
      ],
      "text/plain": [
       "<IPython.core.display.HTML object>"
      ]
     },
     "metadata": {},
     "output_type": "display_data"
    },
    {
     "name": "stdout",
     "output_type": "stream",
     "text": [
      "{'tps': [[1731926340000, 0.00026608, 0.00026877, 0.00026608, 0.00026868, 71970266.0]], 'entry_reached': [[1731914880000, 0.00025968, 0.00025969, 0.00025915, 0.00025943, 21797983.0], [1731931680000, 0.0002519, 0.0002519, 0.00024976, 0.00025049, 224854457.0]], 'stop_loss_reached': [1731957360000, 0.00024265, 0.00024303, 0.000242, 0.0002421, 182524613.0], 'break_reason': None}\n"
     ]
    },
    {
     "data": {
      "text/html": [
       "<p style='color:#0f0;'>********************************************************************************************************************</p>"
      ],
      "text/plain": [
       "<IPython.core.display.HTML object>"
      ]
     },
     "metadata": {},
     "output_type": "display_data"
    },
    {
     "name": "stdout",
     "output_type": "stream",
     "text": [
      "NEAR/USDT:USDT LONG\n"
     ]
    },
    {
     "data": {
      "text/html": [
       "<p style='color:#c01;'>json, 1732653000000</p>"
      ],
      "text/plain": [
       "<IPython.core.display.HTML object>"
      ]
     },
     "metadata": {},
     "output_type": "display_data"
    },
    {
     "data": {
      "text/html": [
       "<p style='color:#fd03a1;'>stop_timestamp</p>"
      ],
      "text/plain": [
       "<IPython.core.display.HTML object>"
      ]
     },
     "metadata": {},
     "output_type": "display_data"
    },
    {
     "data": {
      "text/html": [
       "<p style='color:#ada;'>saving historic tohlcv data to json</p>"
      ],
      "text/plain": [
       "<IPython.core.display.HTML object>"
      ]
     },
     "metadata": {},
     "output_type": "display_data"
    },
    {
     "name": "stdout",
     "output_type": "stream",
     "text": [
      "{'tps': [[1731944880000, 5.975, 5.995, 5.9735, 5.9931, 5037.0], [1731946980000, 6.0418, 6.0839, 6.0418, 6.0737, 2702.0], [1731947700000, 6.135, 6.2077, 6.135, 6.1949, 22361.0]], 'entry_reached': [[1731925140000, 5.8621, 5.8752, 5.8621, 5.8663, 5795.0], [1731930000000, 5.7858, 5.7858, 5.763, 5.7631, 4880.0]], 'stop_loss_reached': None, 'break_reason': None}\n"
     ]
    },
    {
     "data": {
      "text/html": [
       "<p style='color:#0f0;'>********************************************************************************************************************</p>"
      ],
      "text/plain": [
       "<IPython.core.display.HTML object>"
      ]
     },
     "metadata": {},
     "output_type": "display_data"
    },
    {
     "name": "stdout",
     "output_type": "stream",
     "text": [
      "BOME/USDT:USDT LONG\n"
     ]
    },
    {
     "data": {
      "text/html": [
       "<p style='color:#c01;'>json, 1732653000000</p>"
      ],
      "text/plain": [
       "<IPython.core.display.HTML object>"
      ]
     },
     "metadata": {},
     "output_type": "display_data"
    },
    {
     "data": {
      "text/html": [
       "<p style='color:#fd03a1;'>stop_timestamp</p>"
      ],
      "text/plain": [
       "<IPython.core.display.HTML object>"
      ]
     },
     "metadata": {},
     "output_type": "display_data"
    },
    {
     "data": {
      "text/html": [
       "<p style='color:#ada;'>saving historic tohlcv data to json</p>"
      ],
      "text/plain": [
       "<IPython.core.display.HTML object>"
      ]
     },
     "metadata": {},
     "output_type": "display_data"
    },
    {
     "name": "stdout",
     "output_type": "stream",
     "text": [
      "{'tps': [], 'entry_reached': [[1731952200000, 0.010612, 0.010675, 0.01061, 0.010675, 867118.0], [1731955560000, 0.010467, 0.010469, 0.010446, 0.010447, 390733.0]], 'stop_loss_reached': [1731956220000, 0.010372, 0.010378, 0.010318, 0.010373, 4505840.0], 'break_reason': None}\n"
     ]
    },
    {
     "data": {
      "text/html": [
       "<p style='color:#0f0;'>********************************************************************************************************************</p>"
      ],
      "text/plain": [
       "<IPython.core.display.HTML object>"
      ]
     },
     "metadata": {},
     "output_type": "display_data"
    },
    {
     "name": "stdout",
     "output_type": "stream",
     "text": [
      "DOT/USDT:USDT SHORT\n"
     ]
    },
    {
     "data": {
      "text/html": [
       "<p style='color:#c01;'>json, 1732653000000</p>"
      ],
      "text/plain": [
       "<IPython.core.display.HTML object>"
      ]
     },
     "metadata": {},
     "output_type": "display_data"
    },
    {
     "data": {
      "text/html": [
       "<p style='color:#ada;'>saving historic tohlcv data to json</p>"
      ],
      "text/plain": [
       "<IPython.core.display.HTML object>"
      ]
     },
     "metadata": {},
     "output_type": "display_data"
    },
    {
     "name": "stdout",
     "output_type": "stream",
     "text": [
      "{'tps': [[1732003740000, 5.815, 5.819, 5.803, 5.803, 887.9], [1732050960000, 5.706, 5.709, 5.681, 5.699, 3806.3], [1732130220000, 5.592, 5.594, 5.57, 5.575, 4048.1]], 'entry_reached': [[1731998820000, 5.913, 5.928, 5.913, 5.926, 261.4], [1732095960000, 6.05, 6.06, 6.046, 6.055, 2549.9]], 'stop_loss_reached': None, 'break_reason': None}\n"
     ]
    },
    {
     "data": {
      "text/html": [
       "<p style='color:#0f0;'>********************************************************************************************************************</p>"
      ],
      "text/plain": [
       "<IPython.core.display.HTML object>"
      ]
     },
     "metadata": {},
     "output_type": "display_data"
    },
    {
     "name": "stdout",
     "output_type": "stream",
     "text": [
      "1000000MOG/USDT:USDT LONG\n"
     ]
    },
    {
     "data": {
      "text/html": [
       "<p style='color:#c01;'>json, 1732653000000</p>"
      ],
      "text/plain": [
       "<IPython.core.display.HTML object>"
      ]
     },
     "metadata": {},
     "output_type": "display_data"
    },
    {
     "data": {
      "text/html": [
       "<p style='color:#ada;'>saving historic tohlcv data to json</p>"
      ],
      "text/plain": [
       "<IPython.core.display.HTML object>"
      ]
     },
     "metadata": {},
     "output_type": "display_data"
    },
    {
     "name": "stdout",
     "output_type": "stream",
     "text": [
      "{'tps': [], 'entry_reached': [[1732000800000, 2.454, 2.4543, 2.4487, 2.4507, 395.92], [1732008420000, 2.3984, 2.3987, 2.3894, 2.39, 603.81]], 'stop_loss_reached': [1732024260000, 2.363, 2.3641, 2.3518, 2.3525, 971.54], 'break_reason': None}\n"
     ]
    },
    {
     "data": {
      "text/html": [
       "<p style='color:#0f0;'>********************************************************************************************************************</p>"
      ],
      "text/plain": [
       "<IPython.core.display.HTML object>"
      ]
     },
     "metadata": {},
     "output_type": "display_data"
    },
    {
     "name": "stdout",
     "output_type": "stream",
     "text": [
      "ETH/USDT:USDT LONG\n",
      "{'tps': [[1732221000000, 3361.02, 3361.15, 3358.65, 3359.01, 61.07], [1732221060000, 3358.99, 3360.22, 3358.12, 3360.2, 78.35], [1732221120000, 3360.22, 3365.19, 3360.08, 3365.19, 317.5]], 'entry_reached': [[1732005720000, 3105.06, 3107.99, 3105.04, 3107.42, 104.32]], 'stop_loss_reached': None, 'break_reason': None}\n"
     ]
    },
    {
     "data": {
      "text/html": [
       "<p style='color:#0f0;'>********************************************************************************************************************</p>"
      ],
      "text/plain": [
       "<IPython.core.display.HTML object>"
      ]
     },
     "metadata": {},
     "output_type": "display_data"
    },
    {
     "name": "stdout",
     "output_type": "stream",
     "text": [
      "ETH/USDT:USDT LONG\n",
      "{'tps': [[1732221000000, 3361.02, 3361.15, 3358.65, 3359.01, 61.07], [1732221060000, 3358.99, 3360.22, 3358.12, 3360.2, 78.35], [1732221120000, 3360.22, 3365.19, 3360.08, 3365.19, 317.5]], 'entry_reached': [[1732005900000, 3109.75, 3112.43, 3108.59, 3111.15, 79.39]], 'stop_loss_reached': None, 'break_reason': None}\n"
     ]
    },
    {
     "data": {
      "text/html": [
       "<p style='color:#0f0;'>********************************************************************************************************************</p>"
      ],
      "text/plain": [
       "<IPython.core.display.HTML object>"
      ]
     },
     "metadata": {},
     "output_type": "display_data"
    },
    {
     "name": "stdout",
     "output_type": "stream",
     "text": [
      "BTC/USDT:USDT LONG\n",
      "{'tps': [[1732092360000, 93152.0, 93232.8, 93150.1, 93232.6, 9.12], [1732108260000, 93849.9, 93932.9, 93819.1, 93912.4, 41.76], [1732221000000, 98612.3, 98684.9, 98601.8, 98673.2, 5.22]], 'entry_reached': [[1732087080000, 92599.9, 92658.8, 92599.9, 92657.5, 7.88]], 'stop_loss_reached': None, 'break_reason': None}\n"
     ]
    },
    {
     "data": {
      "text/html": [
       "<p style='color:#0f0;'>********************************************************************************************************************</p>"
      ],
      "text/plain": [
       "<IPython.core.display.HTML object>"
      ]
     },
     "metadata": {},
     "output_type": "display_data"
    },
    {
     "name": "stdout",
     "output_type": "stream",
     "text": [
      "FTM/USDT:USDT LONG\n",
      "{'tps': [[1732111440000, 0.6992, 0.7019, 0.6988, 0.7017, 102477.0], [1732111800000, 0.7072, 0.7121, 0.7067, 0.7118, 58389.0]], 'entry_reached': [[1732087500000, 0.6878, 0.688, 0.6866, 0.6866, 5123.0], [1732106760000, 0.681, 0.6811, 0.6771, 0.6791, 96164.0]], 'stop_loss_reached': [1732134600000, 0.6612, 0.6621, 0.6612, 0.6621, 5781.0], 'break_reason': None}\n"
     ]
    },
    {
     "data": {
      "text/html": [
       "<p style='color:#0f0;'>********************************************************************************************************************</p>"
      ],
      "text/plain": [
       "<IPython.core.display.HTML object>"
      ]
     },
     "metadata": {},
     "output_type": "display_data"
    },
    {
     "name": "stdout",
     "output_type": "stream",
     "text": [
      "ALGO/USDT:USDT SHORT\n"
     ]
    },
    {
     "data": {
      "text/html": [
       "<p style='color:#c01;'>json, 1732653000000</p>"
      ],
      "text/plain": [
       "<IPython.core.display.HTML object>"
      ]
     },
     "metadata": {},
     "output_type": "display_data"
    },
    {
     "data": {
      "text/html": [
       "<p style='color:#ada;'>saving historic tohlcv data to json</p>"
      ],
      "text/plain": [
       "<IPython.core.display.HTML object>"
      ]
     },
     "metadata": {},
     "output_type": "display_data"
    },
    {
     "name": "stdout",
     "output_type": "stream",
     "text": [
      "{'tps': [], 'entry_reached': [[1732090200000, 0.2184, 0.2186, 0.2183, 0.2186, 9625.8], [1732092240000, 0.2217, 0.222, 0.2215, 0.222, 29672.5]], 'stop_loss_reached': [1732095900000, 0.2233, 0.2245, 0.2229, 0.2245, 30529.5], 'break_reason': None}\n"
     ]
    },
    {
     "data": {
      "text/html": [
       "<p style='color:#0f0;'>********************************************************************************************************************</p>"
      ],
      "text/plain": [
       "<IPython.core.display.HTML object>"
      ]
     },
     "metadata": {},
     "output_type": "display_data"
    },
    {
     "name": "stdout",
     "output_type": "stream",
     "text": [
      "SUPER/USDT:USDT LONG\n"
     ]
    },
    {
     "data": {
      "text/html": [
       "<p style='color:#c01;'>json, 1732653000000</p>"
      ],
      "text/plain": [
       "<IPython.core.display.HTML object>"
      ]
     },
     "metadata": {},
     "output_type": "display_data"
    },
    {
     "data": {
      "text/html": [
       "<p style='color:#ada;'>saving historic tohlcv data to json</p>"
      ],
      "text/plain": [
       "<IPython.core.display.HTML object>"
      ]
     },
     "metadata": {},
     "output_type": "display_data"
    },
    {
     "name": "stdout",
     "output_type": "stream",
     "text": [
      "{'tps': [[1732221000000, 1.2954, 1.2959, 1.294, 1.2944, 1760.0]], 'entry_reached': [[1732098660000, 1.2696, 1.271, 1.269, 1.2708, 2484.0], [1732100820000, 1.2507, 1.2512, 1.2479, 1.2506, 3156.0]], 'stop_loss_reached': [1732273320000, 1.2343, 1.2349, 1.2305, 1.2312, 2230.0], 'break_reason': None}\n"
     ]
    },
    {
     "data": {
      "text/html": [
       "<p style='color:#0f0;'>********************************************************************************************************************</p>"
      ],
      "text/plain": [
       "<IPython.core.display.HTML object>"
      ]
     },
     "metadata": {},
     "output_type": "display_data"
    },
    {
     "name": "stdout",
     "output_type": "stream",
     "text": [
      "TIA/USDT:USDT LONG\n"
     ]
    },
    {
     "data": {
      "text/html": [
       "<p style='color:#c01;'>json, 1732653000000</p>"
      ],
      "text/plain": [
       "<IPython.core.display.HTML object>"
      ]
     },
     "metadata": {},
     "output_type": "display_data"
    },
    {
     "data": {
      "text/html": [
       "<p style='color:#ada;'>saving historic tohlcv data to json</p>"
      ],
      "text/plain": [
       "<IPython.core.display.HTML object>"
      ]
     },
     "metadata": {},
     "output_type": "display_data"
    },
    {
     "name": "stdout",
     "output_type": "stream",
     "text": [
      "{'tps': [[1732191480000, 5.1311, 5.1448, 5.1311, 5.1433, 5713.66], [1732194780000, 5.2209, 5.2382, 5.2139, 5.2308, 7487.62], [1732197960000, 5.3255, 5.3424, 5.3215, 5.3363, 9731.16]], 'entry_reached': [[1732179840000, 5.0352, 5.0352, 5.0254, 5.0277, 3241.04], [1732184520000, 4.905, 4.9183, 4.9016, 4.9092, 1607.62]], 'stop_loss_reached': None, 'break_reason': None}\n"
     ]
    },
    {
     "data": {
      "text/html": [
       "<p style='color:#0f0;'>********************************************************************************************************************</p>"
      ],
      "text/plain": [
       "<IPython.core.display.HTML object>"
      ]
     },
     "metadata": {},
     "output_type": "display_data"
    },
    {
     "name": "stdout",
     "output_type": "stream",
     "text": [
      "LDO/USDT:USDT LONG\n"
     ]
    },
    {
     "data": {
      "text/html": [
       "<p style='color:#c01;'>json, 1732134600000</p>"
      ],
      "text/plain": [
       "<IPython.core.display.HTML object>"
      ]
     },
     "metadata": {},
     "output_type": "display_data"
    },
    {
     "data": {
      "text/html": [
       "<p style='color:#ada;'>saving historic tohlcv data to json</p>"
      ],
      "text/plain": [
       "<IPython.core.display.HTML object>"
      ]
     },
     "metadata": {},
     "output_type": "display_data"
    },
    {
     "name": "stdout",
     "output_type": "stream",
     "text": [
      "{'tps': [[1732191240000, 1.1539, 1.1581, 1.1534, 1.1581, 11753.0], [1732191900000, 1.1761, 1.1811, 1.175, 1.1778, 15907.0], [1732194420000, 1.1927, 1.2059, 1.1927, 1.2059, 17439.0]], 'entry_reached': [[1732178880000, 1.1312, 1.1314, 1.1287, 1.129, 1756.0], [1732184700000, 1.1029, 1.104, 1.1008, 1.1014, 6698.0]], 'stop_loss_reached': None, 'break_reason': None}\n"
     ]
    },
    {
     "data": {
      "text/html": [
       "<p style='color:#0f0;'>********************************************************************************************************************</p>"
      ],
      "text/plain": [
       "<IPython.core.display.HTML object>"
      ]
     },
     "metadata": {},
     "output_type": "display_data"
    },
    {
     "name": "stdout",
     "output_type": "stream",
     "text": [
      "BCH/USDT:USDT LONG\n",
      "{'tps': [], 'entry_reached': [[1732221000000, 486.46, 486.46, 485.98, 486.22, 19.13], [1732221060000, 486.22, 486.29, 485.63, 485.63, 19.81]], 'stop_loss_reached': [1732221120000, 485.64, 486.38, 485.41, 486.38, 19.45], 'break_reason': None}\n"
     ]
    },
    {
     "data": {
      "text/html": [
       "<p style='color:#0f0;'>********************************************************************************************************************</p>"
      ],
      "text/plain": [
       "<IPython.core.display.HTML object>"
      ]
     },
     "metadata": {},
     "output_type": "display_data"
    },
    {
     "name": "stdout",
     "output_type": "stream",
     "text": [
      "TAO/USDT:USDT LONG\n"
     ]
    },
    {
     "data": {
      "text/html": [
       "<p style='color:#c01;'>json, 1732134600000</p>"
      ],
      "text/plain": [
       "<IPython.core.display.HTML object>"
      ]
     },
     "metadata": {},
     "output_type": "display_data"
    },
    {
     "data": {
      "text/html": [
       "<p style='color:#ada;'>saving historic tohlcv data to json</p>"
      ],
      "text/plain": [
       "<IPython.core.display.HTML object>"
      ]
     },
     "metadata": {},
     "output_type": "display_data"
    },
    {
     "name": "stdout",
     "output_type": "stream",
     "text": [
      "{'tps': [[1732190940000, 471.99, 472.29, 471.02, 471.72, 12.43], [1732191360000, 478.98, 481.66, 478.92, 481.44, 37.96], [1732192080000, 487.0, 489.1, 486.99, 488.95, 14.85]], 'entry_reached': [[1732187760000, 464.67, 465.11, 464.01, 464.31, 5.42]], 'stop_loss_reached': None, 'break_reason': None}\n"
     ]
    },
    {
     "data": {
      "text/html": [
       "<p style='color:#0f0;'>********************************************************************************************************************</p>"
      ],
      "text/plain": [
       "<IPython.core.display.HTML object>"
      ]
     },
     "metadata": {},
     "output_type": "display_data"
    },
    {
     "name": "stdout",
     "output_type": "stream",
     "text": [
      "TURBO/USDT:USDT LONG\n"
     ]
    },
    {
     "data": {
      "text/html": [
       "<p style='color:#c01;'>json, 1732221000000</p>"
      ],
      "text/plain": [
       "<IPython.core.display.HTML object>"
      ]
     },
     "metadata": {},
     "output_type": "display_data"
    },
    {
     "data": {
      "text/html": [
       "<p style='color:#ada;'>saving historic tohlcv data to json</p>"
      ],
      "text/plain": [
       "<IPython.core.display.HTML object>"
      ]
     },
     "metadata": {},
     "output_type": "display_data"
    },
    {
     "name": "stdout",
     "output_type": "stream",
     "text": [
      "{'tps': [], 'entry_reached': [[1732260000000, 0.007905, 0.00791, 0.007895, 0.007895, 255186.0], [1732261920000, 0.007821, 0.007832, 0.00781, 0.007825, 2648338.0]], 'stop_loss_reached': [1732272360000, 0.007768, 0.00777, 0.00774, 0.007753, 8197701.0], 'break_reason': None}\n"
     ]
    },
    {
     "data": {
      "text/html": [
       "<p style='color:#0f0;'>********************************************************************************************************************</p>"
      ],
      "text/plain": [
       "<IPython.core.display.HTML object>"
      ]
     },
     "metadata": {},
     "output_type": "display_data"
    },
    {
     "name": "stdout",
     "output_type": "stream",
     "text": [
      "SOL/USDT:USDT LONG\n"
     ]
    },
    {
     "data": {
      "text/html": [
       "<p style='color:#c01;'>json, 1732739400000</p>"
      ],
      "text/plain": [
       "<IPython.core.display.HTML object>"
      ]
     },
     "metadata": {},
     "output_type": "display_data"
    },
    {
     "data": {
      "text/html": [
       "<p style='color:#ada;'>saving historic tohlcv data to json</p>"
      ],
      "text/plain": [
       "<IPython.core.display.HTML object>"
      ]
     },
     "metadata": {},
     "output_type": "display_data"
    },
    {
     "name": "stdout",
     "output_type": "stream",
     "text": [
      "{'tps': [], 'entry_reached': [[1732261320000, 260.404, 260.404, 260.145, 260.284, 1832.0], [1732281540000, 256.601, 256.622, 255.951, 256.174, 4029.0]], 'stop_loss_reached': [1732301520000, 252.588, 252.636, 251.52, 251.969, 4435.0], 'break_reason': None}\n"
     ]
    },
    {
     "data": {
      "text/html": [
       "<p style='color:#0f0;'>********************************************************************************************************************</p>"
      ],
      "text/plain": [
       "<IPython.core.display.HTML object>"
      ]
     },
     "metadata": {},
     "output_type": "display_data"
    },
    {
     "name": "stdout",
     "output_type": "stream",
     "text": [
      "MINA/USDT:USDT LONG\n"
     ]
    },
    {
     "data": {
      "text/html": [
       "<p style='color:#c01;'>json, 1732221000000</p>"
      ],
      "text/plain": [
       "<IPython.core.display.HTML object>"
      ]
     },
     "metadata": {},
     "output_type": "display_data"
    },
    {
     "data": {
      "text/html": [
       "<p style='color:#ada;'>saving historic tohlcv data to json</p>"
      ],
      "text/plain": [
       "<IPython.core.display.HTML object>"
      ]
     },
     "metadata": {},
     "output_type": "display_data"
    },
    {
     "name": "stdout",
     "output_type": "stream",
     "text": [
      "{'tps': [[1732317540000, 0.681, 0.6817, 0.6808, 0.6815, 1573.3], [1732319160000, 0.6931, 0.6943, 0.6927, 0.6927, 4298.2], [1732323060000, 0.7037, 0.7094, 0.7037, 0.709, 3646.9]], 'entry_reached': [[1732296960000, 0.6707, 0.6707, 0.669, 0.669, 3916.1]], 'stop_loss_reached': None, 'break_reason': None}\n"
     ]
    },
    {
     "data": {
      "text/html": [
       "<p style='color:#0f0;'>********************************************************************************************************************</p>"
      ],
      "text/plain": [
       "<IPython.core.display.HTML object>"
      ]
     },
     "metadata": {},
     "output_type": "display_data"
    },
    {
     "name": "stdout",
     "output_type": "stream",
     "text": [
      "ETH/USDT:USDT LONG\n",
      "{'tps': [[1732349940000, 3354.0, 3363.5, 3353.82, 3363.5, 861.25], [1732350300000, 3384.64, 3387.39, 3382.0, 3386.31, 556.55], [1732365900000, 3406.44, 3416.86, 3406.14, 3415.97, 700.21]], 'entry_reached': [[1732348860000, 3343.6, 3344.99, 3340.98, 3340.98, 66.15]], 'stop_loss_reached': None, 'break_reason': None}\n"
     ]
    },
    {
     "data": {
      "text/html": [
       "<p style='color:#0f0;'>********************************************************************************************************************</p>"
      ],
      "text/plain": [
       "<IPython.core.display.HTML object>"
      ]
     },
     "metadata": {},
     "output_type": "display_data"
    },
    {
     "name": "stdout",
     "output_type": "stream",
     "text": [
      "1000BONK/USDT:USDT LONG\n"
     ]
    },
    {
     "data": {
      "text/html": [
       "<p style='color:#c01;'>json, 1732307400000</p>"
      ],
      "text/plain": [
       "<IPython.core.display.HTML object>"
      ]
     },
     "metadata": {},
     "output_type": "display_data"
    },
    {
     "data": {
      "text/html": [
       "<p style='color:#ada;'>saving historic tohlcv data to json</p>"
      ],
      "text/plain": [
       "<IPython.core.display.HTML object>"
      ]
     },
     "metadata": {},
     "output_type": "display_data"
    },
    {
     "name": "stdout",
     "output_type": "stream",
     "text": [
      "{'tps': [[1732356600000, 0.051151, 0.051304, 0.051151, 0.051295, 68237.0], [1732360500000, 0.0522, 0.052799, 0.052141, 0.052799, 254309.0]], 'entry_reached': [[1732349400000, 0.049862, 0.049932, 0.049789, 0.049932, 119767.0], [1732378920000, 0.04892, 0.048964, 0.048535, 0.048595, 758607.0]], 'stop_loss_reached': [1732393680000, 0.047287, 0.047305, 0.046558, 0.046729, 3685515.0], 'break_reason': None}\n"
     ]
    },
    {
     "data": {
      "text/html": [
       "<p style='color:#0f0;'>********************************************************************************************************************</p>"
      ],
      "text/plain": [
       "<IPython.core.display.HTML object>"
      ]
     },
     "metadata": {},
     "output_type": "display_data"
    },
    {
     "name": "stdout",
     "output_type": "stream",
     "text": [
      "1000PEPE/USDT:USDT LONG\n",
      "{'tps': [], 'entry_reached': [[1732350960000, 0.0215142, 0.0215917, 0.0215023, 0.0215159, 970268.0], [1732378980000, 0.020821, 0.020882, 0.0203554, 0.0203916, 19279806.0]], 'stop_loss_reached': [1732447020000, 0.019961, 0.0199652, 0.0198818, 0.0199274, 7923628.0], 'break_reason': None}\n"
     ]
    },
    {
     "data": {
      "text/html": [
       "<p style='color:#0f0;'>********************************************************************************************************************</p>"
      ],
      "text/plain": [
       "<IPython.core.display.HTML object>"
      ]
     },
     "metadata": {},
     "output_type": "display_data"
    },
    {
     "name": "stdout",
     "output_type": "stream",
     "text": [
      "TONCOIN/USDT:USDT LONG\n"
     ]
    },
    {
     "data": {
      "text/html": [
       "<p style='color:#c01;'>json, 1732566600000</p>"
      ],
      "text/plain": [
       "<IPython.core.display.HTML object>"
      ]
     },
     "metadata": {},
     "output_type": "display_data"
    },
    {
     "data": {
      "text/html": [
       "<p style='color:#ada;'>saving historic tohlcv data to json</p>"
      ],
      "text/plain": [
       "<IPython.core.display.HTML object>"
      ]
     },
     "metadata": {},
     "output_type": "display_data"
    },
    {
     "name": "stdout",
     "output_type": "stream",
     "text": [
      "{'tps': [[1732364460000, 5.72, 5.748, 5.711, 5.746, 5400.5], [1732367520000, 5.809, 5.813, 5.807, 5.81, 1932.2], [1732368180000, 5.879, 5.894, 5.871, 5.882, 3093.5]], 'entry_reached': [[1732361640000, 5.674, 5.681, 5.665, 5.672, 1274.7]], 'stop_loss_reached': None, 'break_reason': None}\n"
     ]
    },
    {
     "data": {
      "text/html": [
       "<p style='color:#0f0;'>********************************************************************************************************************</p>"
      ],
      "text/plain": [
       "<IPython.core.display.HTML object>"
      ]
     },
     "metadata": {},
     "output_type": "display_data"
    },
    {
     "name": "stdout",
     "output_type": "stream",
     "text": [
      "XLM/USDT:USDT LONG\n"
     ]
    },
    {
     "data": {
      "text/html": [
       "<p style='color:#c01;'>json, 1732307400000</p>"
      ],
      "text/plain": [
       "<IPython.core.display.HTML object>"
      ]
     },
     "metadata": {},
     "output_type": "display_data"
    },
    {
     "data": {
      "text/html": [
       "<p style='color:#ada;'>saving historic tohlcv data to json</p>"
      ],
      "text/plain": [
       "<IPython.core.display.HTML object>"
      ]
     },
     "metadata": {},
     "output_type": "display_data"
    },
    {
     "name": "stdout",
     "output_type": "stream",
     "text": [
      "{'tps': [[1732366740000, 0.44184, 0.44321, 0.44121, 0.44157, 238767.0], [1732371420000, 0.44766, 0.4512, 0.44766, 0.45078, 351666.0], [1732371600000, 0.45366, 0.46198, 0.453, 0.46039, 884098.0]], 'entry_reached': [[1732365960000, 0.43861, 0.43867, 0.43571, 0.43615, 202354.0]], 'stop_loss_reached': None, 'break_reason': None}\n"
     ]
    },
    {
     "data": {
      "text/html": [
       "<p style='color:#0f0;'>********************************************************************************************************************</p>"
      ],
      "text/plain": [
       "<IPython.core.display.HTML object>"
      ]
     },
     "metadata": {},
     "output_type": "display_data"
    },
    {
     "name": "stdout",
     "output_type": "stream",
     "text": [
      "ZRO/USDT:USDT LONG\n"
     ]
    },
    {
     "data": {
      "text/html": [
       "<p style='color:#c01;'>json, 1732393800000</p>"
      ],
      "text/plain": [
       "<IPython.core.display.HTML object>"
      ]
     },
     "metadata": {},
     "output_type": "display_data"
    },
    {
     "data": {
      "text/html": [
       "<p style='color:#ada;'>saving historic tohlcv data to json</p>"
      ],
      "text/plain": [
       "<IPython.core.display.HTML object>"
      ]
     },
     "metadata": {},
     "output_type": "display_data"
    },
    {
     "name": "stdout",
     "output_type": "stream",
     "text": [
      "{'tps': [], 'entry_reached': [[1732428240000, 4.039, 4.044, 4.024, 4.03, 2230.31], [1732444740000, 3.936, 3.936, 3.92, 3.92, 1564.85]], 'stop_loss_reached': [1732445100000, 3.892, 3.892, 3.873, 3.875, 1886.98], 'break_reason': None}\n"
     ]
    },
    {
     "data": {
      "text/html": [
       "<p style='color:#0f0;'>********************************************************************************************************************</p>"
      ],
      "text/plain": [
       "<IPython.core.display.HTML object>"
      ]
     },
     "metadata": {},
     "output_type": "display_data"
    },
    {
     "name": "stdout",
     "output_type": "stream",
     "text": [
      "MASK/USDT:USDT LONG\n"
     ]
    },
    {
     "data": {
      "text/html": [
       "<p style='color:#c01;'>json, 1732393800000</p>"
      ],
      "text/plain": [
       "<IPython.core.display.HTML object>"
      ]
     },
     "metadata": {},
     "output_type": "display_data"
    },
    {
     "data": {
      "text/html": [
       "<p style='color:#ada;'>saving historic tohlcv data to json</p>"
      ],
      "text/plain": [
       "<IPython.core.display.HTML object>"
      ]
     },
     "metadata": {},
     "output_type": "display_data"
    },
    {
     "name": "stdout",
     "output_type": "stream",
     "text": [
      "{'tps': [], 'entry_reached': [[1732437780000, 3.3576, 3.3576, 3.3452, 3.3452, 1995.9], [1732444860000, 3.2678, 3.272, 3.2624, 3.2641, 4760.1]], 'stop_loss_reached': [1732447140000, 3.2021, 3.2101, 3.1921, 3.205, 8219.1], 'break_reason': None}\n"
     ]
    },
    {
     "data": {
      "text/html": [
       "<p style='color:#0f0;'>********************************************************************************************************************</p>"
      ],
      "text/plain": [
       "<IPython.core.display.HTML object>"
      ]
     },
     "metadata": {},
     "output_type": "display_data"
    },
    {
     "name": "stdout",
     "output_type": "stream",
     "text": [
      "ETH/USDT:USDT SHORT\n",
      "{'tps': [[1732497540000, 3319.92, 3321.16, 3311.2, 3317.48, 360.91]], 'entry_reached': [[1732486020000, 3349.52, 3353.97, 3349.49, 3353.72, 249.48], [1732520460000, 3392.89, 3403.62, 3392.89, 3401.65, 677.7]], 'stop_loss_reached': [1732526280000, 3428.71, 3436.24, 3428.71, 3436.12, 288.51], 'break_reason': None}\n"
     ]
    },
    {
     "data": {
      "text/html": [
       "<p style='color:#0f0;'>********************************************************************************************************************</p>"
      ],
      "text/plain": [
       "<IPython.core.display.HTML object>"
      ]
     },
     "metadata": {},
     "output_type": "display_data"
    },
    {
     "name": "stdout",
     "output_type": "stream",
     "text": [
      "LDO/USDT:USDT LONG\n",
      "{'tps': [[1732531020000, 1.5851, 1.6248, 1.5849, 1.6192, 24249.0], [1732549320000, 1.68, 1.6828, 1.6757, 1.6785, 37938.0], [1732549920000, 1.7471, 1.7599, 1.7394, 1.7477, 41407.0]], 'entry_reached': [[1732513860000, 1.5307, 1.5314, 1.5275, 1.5291, 10625.0]], 'stop_loss_reached': None, 'break_reason': None}\n"
     ]
    },
    {
     "data": {
      "text/html": [
       "<p style='color:#0f0;'>********************************************************************************************************************</p>"
      ],
      "text/plain": [
       "<IPython.core.display.HTML object>"
      ]
     },
     "metadata": {},
     "output_type": "display_data"
    },
    {
     "name": "stdout",
     "output_type": "stream",
     "text": [
      "BCH/USDT:USDT LONG\n",
      "{'tps': [], 'entry_reached': [[1732531680000, 525.42, 525.56, 524.22, 524.53, 41.34], [1732540200000, 515.76, 516.48, 513.62, 513.69, 99.33]], 'stop_loss_reached': [1732546800000, 508.09, 511.45, 505.76, 511.45, 205.76], 'break_reason': None}\n"
     ]
    },
    {
     "data": {
      "text/html": [
       "<p style='color:#0f0;'>********************************************************************************************************************</p>"
      ],
      "text/plain": [
       "<IPython.core.display.HTML object>"
      ]
     },
     "metadata": {},
     "output_type": "display_data"
    },
    {
     "name": "stdout",
     "output_type": "stream",
     "text": [
      "ATOM/USDT:USDT LONG\n"
     ]
    },
    {
     "data": {
      "text/html": [
       "<p style='color:#c01;'>json, 1732566600000</p>"
      ],
      "text/plain": [
       "<IPython.core.display.HTML object>"
      ]
     },
     "metadata": {},
     "output_type": "display_data"
    },
    {
     "data": {
      "text/html": [
       "<p style='color:#ada;'>saving historic tohlcv data to json</p>"
      ],
      "text/plain": [
       "<IPython.core.display.HTML object>"
      ]
     },
     "metadata": {},
     "output_type": "display_data"
    },
    {
     "name": "stdout",
     "output_type": "stream",
     "text": [
      "{'tps': [], 'entry_reached': [[1732601460000, 8.095, 8.095, 8.085, 8.087, 1250.64], [1732605180000, 7.992, 7.998, 7.97, 7.973, 1316.19]], 'stop_loss_reached': [1732608960000, 7.888, 7.891, 7.83, 7.832, 2276.65], 'break_reason': None}\n"
     ]
    },
    {
     "data": {
      "text/html": [
       "<p style='color:#0f0;'>********************************************************************************************************************</p>"
      ],
      "text/plain": [
       "<IPython.core.display.HTML object>"
      ]
     },
     "metadata": {},
     "output_type": "display_data"
    },
    {
     "name": "stdout",
     "output_type": "stream",
     "text": [
      "FIL/USDT:USDT LONG\n"
     ]
    },
    {
     "data": {
      "text/html": [
       "<p style='color:#c01;'>json, 1732566600000</p>"
      ],
      "text/plain": [
       "<IPython.core.display.HTML object>"
      ]
     },
     "metadata": {},
     "output_type": "display_data"
    },
    {
     "data": {
      "text/html": [
       "<p style='color:#ada;'>saving historic tohlcv data to json</p>"
      ],
      "text/plain": [
       "<IPython.core.display.HTML object>"
      ]
     },
     "metadata": {},
     "output_type": "display_data"
    },
    {
     "name": "stdout",
     "output_type": "stream",
     "text": [
      "{'tps': [], 'entry_reached': [[1732606800000, 5.581, 5.585, 5.565, 5.565, 3169.9], [1732618560000, 5.348, 5.351, 5.323, 5.324, 13143.5]], 'stop_loss_reached': [1732646100000, 5.199, 5.201, 5.166, 5.17, 13839.9], 'break_reason': None}\n"
     ]
    },
    {
     "data": {
      "text/html": [
       "<p style='color:#0f0;'>********************************************************************************************************************</p>"
      ],
      "text/plain": [
       "<IPython.core.display.HTML object>"
      ]
     },
     "metadata": {},
     "output_type": "display_data"
    },
    {
     "name": "stdout",
     "output_type": "stream",
     "text": [
      "BCH/USDT:USDT LONG\n",
      "{'tps': [[1732615380000, 496.14, 497.0, 495.89, 496.64, 48.49]], 'entry_reached': [[1732613760000, 490.54, 490.69, 490.0, 490.12, 17.33], [1732618920000, 483.43, 483.53, 481.44, 481.48, 187.81]], 'stop_loss_reached': [1732620420000, 477.74, 477.92, 476.23, 476.42, 298.73], 'break_reason': None}\n"
     ]
    },
    {
     "data": {
      "text/html": [
       "<p style='color:#0f0;'>********************************************************************************************************************</p>"
      ],
      "text/plain": [
       "<IPython.core.display.HTML object>"
      ]
     },
     "metadata": {},
     "output_type": "display_data"
    },
    {
     "name": "stdout",
     "output_type": "stream",
     "text": [
      "ONE/USDT:USDT LONG\n"
     ]
    },
    {
     "data": {
      "text/html": [
       "<p style='color:#c01;'>json, 1732566600000</p>"
      ],
      "text/plain": [
       "<IPython.core.display.HTML object>"
      ]
     },
     "metadata": {},
     "output_type": "display_data"
    },
    {
     "data": {
      "text/html": [
       "<p style='color:#ada;'>saving historic tohlcv data to json</p>"
      ],
      "text/plain": [
       "<IPython.core.display.HTML object>"
      ]
     },
     "metadata": {},
     "output_type": "display_data"
    },
    {
     "name": "stdout",
     "output_type": "stream",
     "text": [
      "{'tps': [[1732637940000, 0.02278, 0.0229, 0.02278, 0.02287, 445258.0], [1732638900000, 0.02322, 0.02332, 0.0232, 0.02328, 34924.0], [1732681020000, 0.02373, 0.0238, 0.02369, 0.0238, 60703.0]], 'entry_reached': [[1732636860000, 0.02256, 0.02256, 0.02243, 0.02243, 77097.0]], 'stop_loss_reached': None, 'break_reason': None}\n"
     ]
    },
    {
     "data": {
      "text/html": [
       "<p style='color:#0f0;'>********************************************************************************************************************</p>"
      ],
      "text/plain": [
       "<IPython.core.display.HTML object>"
      ]
     },
     "metadata": {},
     "output_type": "display_data"
    },
    {
     "name": "stdout",
     "output_type": "stream",
     "text": [
      "BTC/USDT:USDT SHORT\n",
      "{'tps': [], 'entry_reached': [[1732695780000, 93457.3, 93457.5, 93369.0, 93372.5, 3.09], [1732716300000, 94355.8, 94450.0, 94344.7, 94448.1, 25.7]], 'stop_loss_reached': [1732721640000, 95025.7, 95348.9, 95024.3, 95318.4, 115.06], 'break_reason': None}\n"
     ]
    },
    {
     "data": {
      "text/html": [
       "<p style='color:#0f0;'>********************************************************************************************************************</p>"
      ],
      "text/plain": [
       "<IPython.core.display.HTML object>"
      ]
     },
     "metadata": {},
     "output_type": "display_data"
    },
    {
     "name": "stdout",
     "output_type": "stream",
     "text": [
      "CFX/USDT:USDT LONG\n"
     ]
    },
    {
     "data": {
      "text/html": [
       "<p style='color:#c01;'>json, 1732653000000</p>"
      ],
      "text/plain": [
       "<IPython.core.display.HTML object>"
      ]
     },
     "metadata": {},
     "output_type": "display_data"
    },
    {
     "data": {
      "text/html": [
       "<p style='color:#ada;'>saving historic tohlcv data to json</p>"
      ],
      "text/plain": [
       "<IPython.core.display.HTML object>"
      ]
     },
     "metadata": {},
     "output_type": "display_data"
    },
    {
     "name": "stdout",
     "output_type": "stream",
     "text": [
      "{'tps': [], 'entry_reached': [], 'stop_loss_reached': None, 'break_reason': None}\n"
     ]
    },
    {
     "data": {
      "text/html": [
       "<p style='color:#0f0;'>********************************************************************************************************************</p>"
      ],
      "text/plain": [
       "<IPython.core.display.HTML object>"
      ]
     },
     "metadata": {},
     "output_type": "display_data"
    },
    {
     "name": "stdout",
     "output_type": "stream",
     "text": [
      "EDU/USDT:USDT SHORT\n"
     ]
    },
    {
     "data": {
      "text/html": [
       "<p style='color:#c01;'>json, 1732653000000</p>"
      ],
      "text/plain": [
       "<IPython.core.display.HTML object>"
      ]
     },
     "metadata": {},
     "output_type": "display_data"
    },
    {
     "data": {
      "text/html": [
       "<p style='color:#ada;'>saving historic tohlcv data to json</p>"
      ],
      "text/plain": [
       "<IPython.core.display.HTML object>"
      ]
     },
     "metadata": {},
     "output_type": "display_data"
    },
    {
     "name": "stdout",
     "output_type": "stream",
     "text": [
      "{'tps': [], 'entry_reached': [[1732716120000, 0.6073, 0.6075, 0.6055, 0.6066, 1720.0], [1732723020000, 0.6173, 0.6206, 0.6169, 0.6205, 1924.0]], 'stop_loss_reached': [1732729260000, 0.6247, 0.6289, 0.6241, 0.6288, 5280.0], 'break_reason': None}\n"
     ]
    },
    {
     "data": {
      "text/html": [
       "<p style='color:#0f0;'>********************************************************************************************************************</p>"
      ],
      "text/plain": [
       "<IPython.core.display.HTML object>"
      ]
     },
     "metadata": {},
     "output_type": "display_data"
    },
    {
     "name": "stdout",
     "output_type": "stream",
     "text": [
      "DOGE/USDT:USDT LONG\n"
     ]
    },
    {
     "data": {
      "text/html": [
       "<p style='color:#c01;'>json, 1732653000000</p>"
      ],
      "text/plain": [
       "<IPython.core.display.HTML object>"
      ]
     },
     "metadata": {},
     "output_type": "display_data"
    },
    {
     "data": {
      "text/html": [
       "<p style='color:#ada;'>saving historic tohlcv data to json</p>"
      ],
      "text/plain": [
       "<IPython.core.display.HTML object>"
      ]
     },
     "metadata": {},
     "output_type": "display_data"
    },
    {
     "name": "stdout",
     "output_type": "stream",
     "text": [
      "{'tps': [[1732725300000, 0.40395, 0.4053, 0.40335, 0.40471, 547619.0], [1732759080000, 0.4107, 0.41184, 0.41056, 0.41148, 958649.0], [1732760220000, 0.416, 0.4188, 0.416, 0.41816, 586158.0]], 'entry_reached': [[1732720320000, 0.39898, 0.399, 0.39757, 0.39783, 643902.0]], 'stop_loss_reached': None, 'break_reason': None}\n"
     ]
    },
    {
     "data": {
      "text/html": [
       "<p style='color:#0f0;'>********************************************************************************************************************</p>"
      ],
      "text/plain": [
       "<IPython.core.display.HTML object>"
      ]
     },
     "metadata": {},
     "output_type": "display_data"
    },
    {
     "data": {
      "text/plain": [
       "True"
      ]
     },
     "execution_count": 3,
     "metadata": {},
     "output_type": "execute_result"
    }
   ],
   "source": [
    "\n",
    "# اول فروردین = 2024/3/20\n",
    "# end_date = datetime(2024, 3, 20, tzinfo=timezone.utc)\n",
    "# اول خرداد = 2024/5/21\n",
    "# end_date = datetime(2024, 5, 21, tzinfo=timezone.utc)\n",
    "# start_date = datetime(2024, 5, 29, tzinfo=timezone.utc)\n",
    "# اول تیر = 2024/6/21\n",
    "# start_date = datetime(2024, 6, 21, tzinfo=timezone.utc)\n",
    "# end_date = datetime(2024, 9, 7, tzinfo=timezone.utc)\n",
    "\n",
    "\n",
    "# 1709889120000 1709975340000\n",
    "# offset_date = int(convertDateToMilliTimeStamp(year=2024, month=4, day=30, hour=0, minute=0))/1000\n",
    "\n",
    "await rastad.FindStatistic(year=2023, month=11, day=5, \n",
    "                        # offset_date=offset_date\n",
    "                        )\n",
    "    "
   ]
  }
 ],
 "metadata": {
  "kernelspec": {
   "display_name": ".venv",
   "language": "python",
   "name": "python3"
  },
  "language_info": {
   "codemirror_mode": {
    "name": "ipython",
    "version": 3
   },
   "file_extension": ".py",
   "mimetype": "text/x-python",
   "name": "python",
   "nbconvert_exporter": "python",
   "pygments_lexer": "ipython3",
   "version": "3.12.6"
  }
 },
 "nbformat": 4,
 "nbformat_minor": 2
}
