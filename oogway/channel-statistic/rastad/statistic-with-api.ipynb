{
 "cells": [
  {
   "cell_type": "code",
   "execution_count": 1,
   "metadata": {},
   "outputs": [],
   "source": [
    "import django\n",
    "import os\n",
    "import sys\n",
    "import shutil\n",
    "\n",
    "path='../../'\n",
    "\n",
    "source_file_path = f'{path}.env'\n",
    "\n",
    "destination_file_path = '.'\n",
    "\n",
    "shutil.copy(source_file_path, destination_file_path)\n",
    "\n",
    "from dotenv import dotenv_values\n",
    "\n",
    "_config = dotenv_values(\".env\")\n",
    "_username = _config[\"username\"]\n",
    "\n",
    "session_file_path = f'{path}{_username}.session'\n",
    "\n",
    "shutil.copy(session_file_path, destination_file_path)\n",
    "\n",
    "\n",
    "project_path = path  # Adjust this to your actual project path\n",
    "sys.path.append(project_path)\n",
    "os.environ.setdefault('DJANGO_SETTINGS_MODULE', 'oogway.settings')\n",
    "django.setup()\n"
   ]
  },
  {
   "cell_type": "code",
   "execution_count": 2,
   "metadata": {},
   "outputs": [],
   "source": [
    "import warnings\n",
    "from Channels.RastadChannel import RastadChannel\n",
    "from Shared.Exchange import exchange\n",
    "from Shared.helpers import convertDateToMilliTimeStamp, zero_hours_minutes_seconds\n",
    "from Shared.dataIO import load_historic_tohlcv_json\n",
    "from bisect import bisect_left\n",
    "\n",
    "rastad = RastadChannel()\n",
    "\n",
    "\n",
    "# Disable all warnings\n",
    "warnings.filterwarnings(\"ignore\")"
   ]
  },
  {
   "cell_type": "markdown",
   "metadata": {},
   "source": [
    "## Get channel history"
   ]
  },
  {
   "cell_type": "code",
   "execution_count": 3,
   "metadata": {},
   "outputs": [
    {
     "name": "stdout",
     "output_type": "stream",
     "text": [
      "Current Offset ID is: 0 ; Total Messages: 0\n"
     ]
    },
    {
     "name": "stderr",
     "output_type": "stream",
     "text": [
      "100%|██████████| 100/100 [00:00<?, ?it/s]\n"
     ]
    },
    {
     "name": "stdout",
     "output_type": "stream",
     "text": [
      "Current Offset ID is: 14545 ; Total Messages: 100\n"
     ]
    },
    {
     "name": "stderr",
     "output_type": "stream",
     "text": [
      "100%|██████████| 100/100 [00:00<?, ?it/s]\n"
     ]
    },
    {
     "name": "stdout",
     "output_type": "stream",
     "text": [
      "Current Offset ID is: 14440 ; Total Messages: 200\n"
     ]
    },
    {
     "name": "stderr",
     "output_type": "stream",
     "text": [
      "100%|██████████| 100/100 [00:00<?, ?it/s]\n"
     ]
    },
    {
     "name": "stdout",
     "output_type": "stream",
     "text": [
      "Current Offset ID is: 14328 ; Total Messages: 300\n"
     ]
    },
    {
     "name": "stderr",
     "output_type": "stream",
     "text": [
      "100%|██████████| 100/100 [00:00<?, ?it/s]\n"
     ]
    },
    {
     "name": "stdout",
     "output_type": "stream",
     "text": [
      "Current Offset ID is: 14222 ; Total Messages: 400\n"
     ]
    },
    {
     "name": "stderr",
     "output_type": "stream",
     "text": [
      "100%|██████████| 100/100 [00:00<?, ?it/s]\n"
     ]
    },
    {
     "name": "stdout",
     "output_type": "stream",
     "text": [
      "Current Offset ID is: 14116 ; Total Messages: 500\n"
     ]
    },
    {
     "name": "stderr",
     "output_type": "stream",
     "text": [
      "100%|██████████| 100/100 [00:00<?, ?it/s]\n"
     ]
    },
    {
     "name": "stdout",
     "output_type": "stream",
     "text": [
      "Current Offset ID is: 14004 ; Total Messages: 600\n"
     ]
    },
    {
     "name": "stderr",
     "output_type": "stream",
     "text": [
      "100%|██████████| 100/100 [00:00<?, ?it/s]\n"
     ]
    },
    {
     "name": "stdout",
     "output_type": "stream",
     "text": [
      "Current Offset ID is: 13895 ; Total Messages: 700\n"
     ]
    },
    {
     "name": "stderr",
     "output_type": "stream",
     "text": [
      "100%|██████████| 100/100 [00:00<?, ?it/s]\n"
     ]
    },
    {
     "name": "stdout",
     "output_type": "stream",
     "text": [
      "Current Offset ID is: 13785 ; Total Messages: 800\n"
     ]
    },
    {
     "name": "stderr",
     "output_type": "stream",
     "text": [
      "100%|██████████| 100/100 [00:00<?, ?it/s]\n"
     ]
    },
    {
     "name": "stdout",
     "output_type": "stream",
     "text": [
      "Current Offset ID is: 13675 ; Total Messages: 900\n"
     ]
    },
    {
     "name": "stderr",
     "output_type": "stream",
     "text": [
      "100%|██████████| 100/100 [00:00<?, ?it/s]\n"
     ]
    },
    {
     "name": "stdout",
     "output_type": "stream",
     "text": [
      "Current Offset ID is: 13563 ; Total Messages: 1000\n"
     ]
    },
    {
     "name": "stderr",
     "output_type": "stream",
     "text": [
      "100%|██████████| 100/100 [00:00<?, ?it/s]\n"
     ]
    },
    {
     "name": "stdout",
     "output_type": "stream",
     "text": [
      "Current Offset ID is: 13454 ; Total Messages: 1100\n"
     ]
    },
    {
     "name": "stderr",
     "output_type": "stream",
     "text": [
      "100%|██████████| 100/100 [00:00<00:00, 115545.56it/s]\n"
     ]
    },
    {
     "name": "stdout",
     "output_type": "stream",
     "text": [
      "Current Offset ID is: 13342 ; Total Messages: 1200\n"
     ]
    },
    {
     "name": "stderr",
     "output_type": "stream",
     "text": [
      "100%|██████████| 100/100 [00:00<?, ?it/s]\n"
     ]
    },
    {
     "name": "stdout",
     "output_type": "stream",
     "text": [
      "Current Offset ID is: 13236 ; Total Messages: 1300\n"
     ]
    },
    {
     "name": "stderr",
     "output_type": "stream",
     "text": [
      "100%|██████████| 100/100 [00:00<?, ?it/s]\n"
     ]
    },
    {
     "name": "stdout",
     "output_type": "stream",
     "text": [
      "Current Offset ID is: 13131 ; Total Messages: 1400\n"
     ]
    },
    {
     "name": "stderr",
     "output_type": "stream",
     "text": [
      "  7%|▋         | 7/100 [00:00<?, ?it/s]\n"
     ]
    },
    {
     "name": "stdout",
     "output_type": "stream",
     "text": [
      "BNB/USDT:USDT SHORT\n",
      "{'tps': [], 'entry_reached': [[1727849520000, 553.08, 553.1, 552.79, 552.93, 19.35], [1727850660000, 554.16, 554.32, 554.15, 554.22, 20.02]], 'stop_loss_reached': [1727851020000, 554.92, 555.73, 554.92, 555.72, 23.82], 'break_reason': None}\n"
     ]
    },
    {
     "data": {
      "text/html": [
       "<p style='color:#0f0;'>********************************************************************************************************************</p>"
      ],
      "text/plain": [
       "<IPython.core.display.HTML object>"
      ]
     },
     "metadata": {},
     "output_type": "display_data"
    },
    {
     "name": "stdout",
     "output_type": "stream",
     "text": [
      "OP/USDT:USDT SHORT\n"
     ]
    },
    {
     "data": {
      "text/html": [
       "<p style='color:#c01;'>json, 1727814600000</p>"
      ],
      "text/plain": [
       "<IPython.core.display.HTML object>"
      ]
     },
     "metadata": {},
     "output_type": "display_data"
    },
    {
     "name": "stdout",
     "output_type": "stream",
     "text": [
      "UNI/USDT:USDT SHORT\n"
     ]
    },
    {
     "data": {
      "text/html": [
       "<p style='color:#c01;'>json, 1727814600000</p>"
      ],
      "text/plain": [
       "<IPython.core.display.HTML object>"
      ]
     },
     "metadata": {},
     "output_type": "display_data"
    },
    {
     "name": "stdout",
     "output_type": "stream",
     "text": [
      "BCH/USDT:USDT SHORT\n"
     ]
    },
    {
     "data": {
      "text/html": [
       "<p style='color:#c01;'>json, 1727814600000</p>"
      ],
      "text/plain": [
       "<IPython.core.display.HTML object>"
      ]
     },
     "metadata": {},
     "output_type": "display_data"
    },
    {
     "data": {
      "text/html": [
       "<p style='color:#fd03a1;'>stop_timestamp</p>"
      ],
      "text/plain": [
       "<IPython.core.display.HTML object>"
      ]
     },
     "metadata": {},
     "output_type": "display_data"
    },
    {
     "data": {
      "text/html": [
       "<p style='color:#ada;'>saving historic tohlcv data to json</p>"
      ],
      "text/plain": [
       "<IPython.core.display.HTML object>"
      ]
     },
     "metadata": {},
     "output_type": "display_data"
    },
    {
     "name": "stdout",
     "output_type": "stream",
     "text": [
      "{'tps': [[1727873700000, 314.27, 314.54, 314.0, 314.2, 49.1], [1727895840000, 311.07, 311.19, 309.76, 309.84, 28.81]], 'entry_reached': [[1727871780000, 317.31, 317.75, 317.15, 317.57, 30.79], [1727885100000, 321.53, 322.35, 321.53, 322.09, 19.99]], 'stop_loss_reached': [1728007320000, 324.17, 324.71, 324.17, 324.61, 22.32], 'break_reason': None}\n"
     ]
    },
    {
     "data": {
      "text/html": [
       "<p style='color:#0f0;'>********************************************************************************************************************</p>"
      ],
      "text/plain": [
       "<IPython.core.display.HTML object>"
      ]
     },
     "metadata": {},
     "output_type": "display_data"
    },
    {
     "name": "stdout",
     "output_type": "stream",
     "text": [
      "1000PEPE/USDT:USDT SHORT\n"
     ]
    },
    {
     "data": {
      "text/html": [
       "<p style='color:#c01;'>json, 1727814600000</p>"
      ],
      "text/plain": [
       "<IPython.core.display.HTML object>"
      ]
     },
     "metadata": {},
     "output_type": "display_data"
    },
    {
     "name": "stdout",
     "output_type": "stream",
     "text": [
      "1000PEPE/USDT:USDT SHORT\n"
     ]
    },
    {
     "data": {
      "text/html": [
       "<p style='color:#c01;'>json, 1727901000000</p>"
      ],
      "text/plain": [
       "<IPython.core.display.HTML object>"
      ]
     },
     "metadata": {},
     "output_type": "display_data"
    },
    {
     "data": {
      "text/html": [
       "<p style='color:#fd03a1;'>stop_timestamp</p>"
      ],
      "text/plain": [
       "<IPython.core.display.HTML object>"
      ]
     },
     "metadata": {},
     "output_type": "display_data"
    },
    {
     "data": {
      "text/html": [
       "<p style='color:#ada;'>saving historic tohlcv data to json</p>"
      ],
      "text/plain": [
       "<IPython.core.display.HTML object>"
      ]
     },
     "metadata": {},
     "output_type": "display_data"
    },
    {
     "name": "stdout",
     "output_type": "stream",
     "text": [
      "{'tps': [[1727941740000, 0.009149, 0.009149, 0.0091309, 0.0091416, 1558937.0], [1727942700000, 0.0090689, 0.0090765, 0.0090152, 0.0090309, 2441983.0], [1727943240000, 0.0089232, 0.0089245, 0.0088519, 0.0088768, 8845905.0]], 'entry_reached': [[1727940900000, 0.0092566, 0.0092759, 0.0092539, 0.0092698, 932235.0]], 'stop_loss_reached': None, 'break_reason': None}\n"
     ]
    },
    {
     "data": {
      "text/html": [
       "<p style='color:#0f0;'>********************************************************************************************************************</p>"
      ],
      "text/plain": [
       "<IPython.core.display.HTML object>"
      ]
     },
     "metadata": {},
     "output_type": "display_data"
    },
    {
     "name": "stdout",
     "output_type": "stream",
     "text": [
      "BTC/USDT:USDT LONG\n",
      "{'tps': [[1727964300000, 60453.2, 60666.6, 60428.7, 60627.3, 96.93], [1728005220000, 61012.8, 61189.9, 61012.8, 61175.1, 91.88], [1728030240000, 61556.1, 61610.0, 61555.2, 61573.9, 81.36]], 'entry_reached': [[1727961300000, 60191.6, 60206.6, 60113.4, 60115.4, 114.07]], 'stop_loss_reached': None, 'break_reason': None}\n"
     ]
    },
    {
     "data": {
      "text/html": [
       "<p style='color:#0f0;'>********************************************************************************************************************</p>"
      ],
      "text/plain": [
       "<IPython.core.display.HTML object>"
      ]
     },
     "metadata": {},
     "output_type": "display_data"
    },
    {
     "name": "stdout",
     "output_type": "stream",
     "text": [
      "TAO/USDT:USDT SHORT\n"
     ]
    },
    {
     "data": {
      "text/html": [
       "<p style='color:#c01;'>json, 1727987400000</p>"
      ],
      "text/plain": [
       "<IPython.core.display.HTML object>"
      ]
     },
     "metadata": {},
     "output_type": "display_data"
    },
    {
     "data": {
      "text/html": [
       "<p style='color:#fd03a1;'>stop_timestamp</p>"
      ],
      "text/plain": [
       "<IPython.core.display.HTML object>"
      ]
     },
     "metadata": {},
     "output_type": "display_data"
    },
    {
     "data": {
      "text/html": [
       "<p style='color:#ada;'>saving historic tohlcv data to json</p>"
      ],
      "text/plain": [
       "<IPython.core.display.HTML object>"
      ]
     },
     "metadata": {},
     "output_type": "display_data"
    },
    {
     "name": "stdout",
     "output_type": "stream",
     "text": [
      "{'tps': [], 'entry_reached': [[1728032400000, 519.88, 521.29, 519.85, 520.65, 3.95], [1728046920000, 533.13, 538.62, 533.12, 537.92, 111.5]], 'stop_loss_reached': [1728054600000, 544.01, 549.24, 543.41, 548.34, 127.92], 'break_reason': None}\n"
     ]
    },
    {
     "data": {
      "text/html": [
       "<p style='color:#0f0;'>********************************************************************************************************************</p>"
      ],
      "text/plain": [
       "<IPython.core.display.HTML object>"
      ]
     },
     "metadata": {},
     "output_type": "display_data"
    },
    {
     "name": "stdout",
     "output_type": "stream",
     "text": [
      "1000PEPE/USDT:USDT SHORT\n",
      "{'tps': [[1728158880000, 0.0092678, 0.0092679, 0.0092308, 0.0092369, 3204046.0]], 'entry_reached': [[1728119160000, 0.0094915, 0.0095181, 0.0094913, 0.0095141, 6328469.0], [1728225420000, 0.0097691, 0.00982, 0.0097674, 0.00982, 5248007.0]], 'stop_loss_reached': [1728230460000, 0.0099845, 0.0101626, 0.0099829, 0.0101281, 19049113.0], 'break_reason': None}\n"
     ]
    },
    {
     "data": {
      "text/html": [
       "<p style='color:#0f0;'>********************************************************************************************************************</p>"
      ],
      "text/plain": [
       "<IPython.core.display.HTML object>"
      ]
     },
     "metadata": {},
     "output_type": "display_data"
    },
    {
     "name": "stdout",
     "output_type": "stream",
     "text": [
      "GALA/USDT:USDT SHORT\n",
      "{'tps': [[1728135660000, 0.01992, 0.01992, 0.01984, 0.01984, 400844.0], [1728137700000, 0.01973, 0.01975, 0.01969, 0.01971, 1364544.0], [1728146400000, 0.01961, 0.01962, 0.01954, 0.01956, 5027821.0]], 'entry_reached': [[1728132420000, 0.02, 0.02, 0.01996, 0.01996, 501329.0]], 'stop_loss_reached': None, 'break_reason': None}\n"
     ]
    },
    {
     "data": {
      "text/html": [
       "<p style='color:#0f0;'>********************************************************************************************************************</p>"
      ],
      "text/plain": [
       "<IPython.core.display.HTML object>"
      ]
     },
     "metadata": {},
     "output_type": "display_data"
    },
    {
     "name": "stdout",
     "output_type": "stream",
     "text": [
      "LPT/USDT:USDT LONG\n",
      "{'tps': [[1728266400000, 12.856, 12.87, 12.851, 12.87, 415.9]], 'entry_reached': [[1728134460000, 12.549, 12.566, 12.546, 12.548, 221.1], [1728146400000, 12.309, 12.311, 12.27, 12.284, 755.5]], 'stop_loss_reached': [1728393120000, 11.948, 11.948, 11.915, 11.923, 263.8], 'break_reason': None}\n"
     ]
    },
    {
     "data": {
      "text/html": [
       "<p style='color:#0f0;'>********************************************************************************************************************</p>"
      ],
      "text/plain": [
       "<IPython.core.display.HTML object>"
      ]
     },
     "metadata": {},
     "output_type": "display_data"
    },
    {
     "name": "stdout",
     "output_type": "stream",
     "text": [
      "GALA/USDT:USDT SHORT\n",
      "{'tps': [], 'entry_reached': [[1728219120000, 0.0199, 0.01993, 0.0199, 0.01991, 599346.0], [1728224700000, 0.02006, 0.02015, 0.02006, 0.02012, 981616.0]], 'stop_loss_reached': [1728225060000, 0.0202, 0.0203, 0.02018, 0.02027, 2370525.0], 'break_reason': None}\n"
     ]
    },
    {
     "data": {
      "text/html": [
       "<p style='color:#0f0;'>********************************************************************************************************************</p>"
      ],
      "text/plain": [
       "<IPython.core.display.HTML object>"
      ]
     },
     "metadata": {},
     "output_type": "display_data"
    },
    {
     "name": "stdout",
     "output_type": "stream",
     "text": [
      "BTC/USDT:USDT SHORT\n",
      "{'tps': [], 'entry_reached': [[1728307020000, 62886.7, 62937.5, 62870.0, 62915.8, 4.86], [1728307320000, 63074.0, 63112.0, 63058.1, 63095.7, 25.81]], 'stop_loss_reached': [1728308460000, 63112.5, 63203.9, 63106.2, 63200.2, 28.98], 'break_reason': None}\n"
     ]
    },
    {
     "data": {
      "text/html": [
       "<p style='color:#0f0;'>********************************************************************************************************************</p>"
      ],
      "text/plain": [
       "<IPython.core.display.HTML object>"
      ]
     },
     "metadata": {},
     "output_type": "display_data"
    },
    {
     "name": "stdout",
     "output_type": "stream",
     "text": [
      "BNB/USDT:USDT LONG\n",
      "{'tps': [[1728384840000, 573.29, 574.12, 573.0, 573.0, 118.72], [1728395880000, 577.66, 578.05, 577.64, 577.96, 87.11], [1728406200000, 581.46, 582.85, 581.45, 581.99, 91.37]], 'entry_reached': [[1728378900000, 569.15, 569.21, 569.11, 569.19, 110.98]], 'stop_loss_reached': None, 'break_reason': None}\n"
     ]
    },
    {
     "data": {
      "text/html": [
       "<p style='color:#0f0;'>********************************************************************************************************************</p>"
      ],
      "text/plain": [
       "<IPython.core.display.HTML object>"
      ]
     },
     "metadata": {},
     "output_type": "display_data"
    },
    {
     "name": "stdout",
     "output_type": "stream",
     "text": [
      "TONCOIN/USDT:USDT SHORT\n",
      "{'tps': [[1728393060000, 5.172, 5.174, 5.168, 5.168, 3348.7], [1728485820000, 5.146, 5.148, 5.114, 5.126, 18902.5], [1728505020000, 5.103, 5.103, 5.086, 5.086, 2568.9]], 'entry_reached': [[1728381660000, 5.206, 5.212, 5.205, 5.209, 552.7]], 'stop_loss_reached': None, 'break_reason': None}\n"
     ]
    },
    {
     "data": {
      "text/html": [
       "<p style='color:#0f0;'>********************************************************************************************************************</p>"
      ],
      "text/plain": [
       "<IPython.core.display.HTML object>"
      ]
     },
     "metadata": {},
     "output_type": "display_data"
    },
    {
     "name": "stdout",
     "output_type": "stream",
     "text": [
      "LTC/USDT:USDT LONG\n",
      "{'tps': [[1728395940000, 65.81, 65.85, 65.81, 65.84, 207.3]], 'entry_reached': [[1728385500000, 65.46, 65.46, 65.43, 65.43, 280.8], [1728478620000, 64.91, 64.98, 64.89, 64.91, 862.6]], 'stop_loss_reached': [1728506880000, 64.65, 64.7, 64.47, 64.5, 412.2], 'break_reason': None}\n"
     ]
    },
    {
     "data": {
      "text/html": [
       "<p style='color:#0f0;'>********************************************************************************************************************</p>"
      ],
      "text/plain": [
       "<IPython.core.display.HTML object>"
      ]
     },
     "metadata": {},
     "output_type": "display_data"
    },
    {
     "name": "stdout",
     "output_type": "stream",
     "text": [
      "TURBO/USDT:USDT LONG\n",
      "{'tps': [[1728394260000, 0.006977, 0.007014, 0.006952, 0.006983, 16230808.0], [1728395160000, 0.007057, 0.007125, 0.007057, 0.007121, 8866793.0]], 'entry_reached': [[1728392880000, 0.00686, 0.006873, 0.006853, 0.00687, 5859761.0], [1728413160000, 0.00669, 0.0067, 0.006664, 0.006667, 6635349.0]], 'stop_loss_reached': [1728415260000, 0.006598, 0.0066, 0.006577, 0.006592, 3996816.0], 'break_reason': None}\n"
     ]
    },
    {
     "data": {
      "text/html": [
       "<p style='color:#0f0;'>********************************************************************************************************************</p>"
      ],
      "text/plain": [
       "<IPython.core.display.HTML object>"
      ]
     },
     "metadata": {},
     "output_type": "display_data"
    },
    {
     "name": "stdout",
     "output_type": "stream",
     "text": [
      "BTC/USDT:USDT SHORT\n",
      "{'tps': [], 'entry_reached': [[1728393420000, 62412.3, 62430.6, 62369.7, 62373.3, 20.33], [1728394380000, 62674.1, 62750.4, 62651.5, 62707.9, 85.66]], 'stop_loss_reached': [1728394500000, 62745.9, 62847.5, 62698.9, 62846.4, 96.63], 'break_reason': None}\n"
     ]
    },
    {
     "data": {
      "text/html": [
       "<p style='color:#0f0;'>********************************************************************************************************************</p>"
      ],
      "text/plain": [
       "<IPython.core.display.HTML object>"
      ]
     },
     "metadata": {},
     "output_type": "display_data"
    },
    {
     "name": "stdout",
     "output_type": "stream",
     "text": [
      "KAVA/USDT:USDT SHORT\n",
      "{'tps': [[1728482520000, 0.3274, 0.3276, 0.3269, 0.327, 4629.3]], 'entry_reached': [[1728481320000, 0.3305, 0.3311, 0.3292, 0.3311, 19557.2], [1728487440000, 0.3341, 0.3351, 0.3339, 0.3348, 710.7]], 'stop_loss_reached': [1728540660000, 0.3366, 0.3376, 0.3366, 0.3374, 12536.9], 'break_reason': None}\n"
     ]
    },
    {
     "data": {
      "text/html": [
       "<p style='color:#0f0;'>********************************************************************************************************************</p>"
      ],
      "text/plain": [
       "<IPython.core.display.HTML object>"
      ]
     },
     "metadata": {},
     "output_type": "display_data"
    },
    {
     "name": "stdout",
     "output_type": "stream",
     "text": [
      "DYDX/USDT:USDT SHORT\n",
      "{'tps': [[1728580020000, 0.894, 0.894, 0.89, 0.892, 33768.2]], 'entry_reached': [[1728554580000, 0.907, 0.908, 0.907, 0.908, 14018.3], [1728662280000, 0.925, 0.926, 0.924, 0.926, 3852.3]], 'stop_loss_reached': [1728876240000, 0.938, 0.941, 0.938, 0.94, 16455.4], 'break_reason': None}\n"
     ]
    },
    {
     "data": {
      "text/html": [
       "<p style='color:#0f0;'>********************************************************************************************************************</p>"
      ],
      "text/plain": [
       "<IPython.core.display.HTML object>"
      ]
     },
     "metadata": {},
     "output_type": "display_data"
    },
    {
     "name": "stdout",
     "output_type": "stream",
     "text": [
      "LINK/USDT:USDT SHORT\n",
      "{'tps': [], 'entry_reached': [[1728636480000, 10.667, 10.671, 10.664, 10.669, 427.7], [1728659400000, 10.76, 10.791, 10.758, 10.787, 1369.7]], 'stop_loss_reached': [1728659640000, 10.819, 10.871, 10.817, 10.863, 4877.5], 'break_reason': None}\n"
     ]
    },
    {
     "data": {
      "text/html": [
       "<p style='color:#0f0;'>********************************************************************************************************************</p>"
      ],
      "text/plain": [
       "<IPython.core.display.HTML object>"
      ]
     },
     "metadata": {},
     "output_type": "display_data"
    },
    {
     "name": "stdout",
     "output_type": "stream",
     "text": [
      "TIA/USDT:USDT LONG\n",
      "{'tps': [], 'entry_reached': [], 'stop_loss_reached': None, 'break_reason': 'WAIT MANY DAYS'}\n"
     ]
    },
    {
     "data": {
      "text/html": [
       "<p style='color:#0f0;'>********************************************************************************************************************</p>"
      ],
      "text/plain": [
       "<IPython.core.display.HTML object>"
      ]
     },
     "metadata": {},
     "output_type": "display_data"
    },
    {
     "name": "stdout",
     "output_type": "stream",
     "text": [
      "1000BONK/USDT:USDT LONG\n",
      "{'tps': [[1728744540000, 0.022287, 0.022344, 0.022274, 0.022339, 448560.0]], 'entry_reached': [[1728734580000, 0.02208, 0.022086, 0.022065, 0.022073, 109251.0], [1728757320000, 0.021735, 0.021735, 0.021698, 0.021699, 151145.0]], 'stop_loss_reached': [1728760740000, 0.021587, 0.021587, 0.021508, 0.02151, 785277.0], 'break_reason': None}\n"
     ]
    },
    {
     "data": {
      "text/html": [
       "<p style='color:#0f0;'>********************************************************************************************************************</p>"
      ],
      "text/plain": [
       "<IPython.core.display.HTML object>"
      ]
     },
     "metadata": {},
     "output_type": "display_data"
    },
    {
     "name": "stdout",
     "output_type": "stream",
     "text": [
      "LDO/USDT:USDT LONG\n",
      "{'tps': [[1728746340000, 1.0892, 1.0933, 1.0892, 1.093, 6880.0]], 'entry_reached': [[1728738960000, 1.085, 1.0853, 1.0837, 1.0837, 8385.0], [1728781260000, 1.0732, 1.0735, 1.0713, 1.0713, 7395.0]], 'stop_loss_reached': [1728782280000, 1.067, 1.067, 1.0627, 1.063, 55035.0], 'break_reason': None}\n"
     ]
    },
    {
     "data": {
      "text/html": [
       "<p style='color:#0f0;'>********************************************************************************************************************</p>"
      ],
      "text/plain": [
       "<IPython.core.display.HTML object>"
      ]
     },
     "metadata": {},
     "output_type": "display_data"
    },
    {
     "name": "stdout",
     "output_type": "stream",
     "text": [
      "BTC/USDT:USDT LONG\n",
      "{'tps': [], 'entry_reached': [[1728746820000, 63268.5, 63304.3, 63268.3, 63304.1, 12.62], [1728757440000, 63023.6, 63027.1, 62978.1, 62989.0, 33.68]], 'stop_loss_reached': [1728782340000, 62879.7, 62879.8, 62819.0, 62838.6, 94.97], 'break_reason': None}\n"
     ]
    },
    {
     "data": {
      "text/html": [
       "<p style='color:#0f0;'>********************************************************************************************************************</p>"
      ],
      "text/plain": [
       "<IPython.core.display.HTML object>"
      ]
     },
     "metadata": {},
     "output_type": "display_data"
    },
    {
     "name": "stdout",
     "output_type": "stream",
     "text": [
      "NEIROCTO/USDT:USDT SHORT\n",
      "{'tps': [[1728831240000, 0.0020289, 0.0020315, 0.001995, 0.0020102, 26767188.0]], 'entry_reached': [[1728824520000, 0.0020478, 0.002059, 0.0020437, 0.0020569, 6171695.0], [1728850860000, 0.0020852, 0.00214, 0.0020852, 0.0021246, 57712717.0]], 'stop_loss_reached': [1728850920000, 0.0021245, 0.0021472, 0.0021228, 0.0021472, 29058907.0], 'break_reason': None}\n"
     ]
    },
    {
     "data": {
      "text/html": [
       "<p style='color:#0f0;'>********************************************************************************************************************</p>"
      ],
      "text/plain": [
       "<IPython.core.display.HTML object>"
      ]
     },
     "metadata": {},
     "output_type": "display_data"
    },
    {
     "name": "stdout",
     "output_type": "stream",
     "text": [
      "AEVO/USDT:USDT LONG\n",
      "{'tps': [[1728916020000, 0.3629, 0.3637, 0.3628, 0.3633, 20826.69], [1728927540000, 0.3678, 0.3684, 0.3675, 0.3684, 15422.11], [1728932940000, 0.3717, 0.3721, 0.3714, 0.3718, 36995.9]], 'entry_reached': [[1728898200000, 0.3596, 0.3601, 0.3593, 0.3599, 13812.36]], 'stop_loss_reached': None, 'break_reason': None}\n"
     ]
    },
    {
     "data": {
      "text/html": [
       "<p style='color:#0f0;'>********************************************************************************************************************</p>"
      ],
      "text/plain": [
       "<IPython.core.display.HTML object>"
      ]
     },
     "metadata": {},
     "output_type": "display_data"
    },
    {
     "name": "stdout",
     "output_type": "stream",
     "text": [
      "PYTH/USDT:USDT LONG\n",
      "{'tps': [[1728916920000, 0.3421, 0.3425, 0.3418, 0.3423, 14276.0], [1728929220000, 0.3457, 0.346, 0.3455, 0.3459, 2963.0], [1728940920000, 0.3495, 0.3497, 0.3492, 0.3497, 3819.0]], 'entry_reached': [[1728904920000, 0.3393, 0.3393, 0.3387, 0.3389, 1750.0]], 'stop_loss_reached': None, 'break_reason': None}\n"
     ]
    },
    {
     "data": {
      "text/html": [
       "<p style='color:#0f0;'>********************************************************************************************************************</p>"
      ],
      "text/plain": [
       "<IPython.core.display.HTML object>"
      ]
     },
     "metadata": {},
     "output_type": "display_data"
    },
    {
     "name": "stdout",
     "output_type": "stream",
     "text": [
      "ALT/USDT:USDT LONG\n"
     ]
    },
    {
     "data": {
      "text/html": [
       "<p style='color:#c01;'>json, 1728937800000</p>"
      ],
      "text/plain": [
       "<IPython.core.display.HTML object>"
      ]
     },
     "metadata": {},
     "output_type": "display_data"
    },
    {
     "data": {
      "text/html": [
       "<p style='color:#fd03a1;'>stop_timestamp</p>"
      ],
      "text/plain": [
       "<IPython.core.display.HTML object>"
      ]
     },
     "metadata": {},
     "output_type": "display_data"
    },
    {
     "data": {
      "text/html": [
       "<p style='color:#ada;'>saving historic tohlcv data to json</p>"
      ],
      "text/plain": [
       "<IPython.core.display.HTML object>"
      ]
     },
     "metadata": {},
     "output_type": "display_data"
    },
    {
     "name": "stdout",
     "output_type": "stream",
     "text": [
      "{'tps': [], 'entry_reached': [[1728982080000, 0.13103, 0.13103, 0.13046, 0.13056, 35353.18], [1728983400000, 0.12815, 0.12852, 0.12805, 0.12852, 30757.42]], 'stop_loss_reached': [1728990480000, 0.12721, 0.12723, 0.12672, 0.12674, 130930.34], 'break_reason': None}\n"
     ]
    },
    {
     "data": {
      "text/html": [
       "<p style='color:#0f0;'>********************************************************************************************************************</p>"
      ],
      "text/plain": [
       "<IPython.core.display.HTML object>"
      ]
     },
     "metadata": {},
     "output_type": "display_data"
    },
    {
     "name": "stdout",
     "output_type": "stream",
     "text": [
      "1000PEPE/USDT:USDT SHORT\n",
      "{'tps': [[1728990540000, 0.0104254, 0.0104255, 0.010378, 0.0103849, 3466351.0], [1728991080000, 0.0103115, 0.0103115, 0.0102413, 0.0102538, 22387929.0], [1728993180000, 0.0101007, 0.0101066, 0.0100652, 0.0100709, 7319195.0]], 'entry_reached': [[1728983760000, 0.0105784, 0.0105819, 0.0105583, 0.0105732, 590916.0]], 'stop_loss_reached': None, 'break_reason': None}\n"
     ]
    },
    {
     "data": {
      "text/html": [
       "<p style='color:#0f0;'>********************************************************************************************************************</p>"
      ],
      "text/plain": [
       "<IPython.core.display.HTML object>"
      ]
     },
     "metadata": {},
     "output_type": "display_data"
    },
    {
     "name": "stdout",
     "output_type": "stream",
     "text": [
      "NEAR/USDT:USDT LONG\n",
      "{'tps': [], 'entry_reached': [[1729074420000, 4.9872, 4.9875, 4.9797, 4.9797, 2464.0], [1729096440000, 4.8871, 4.8883, 4.878, 4.8799, 9144.0]], 'stop_loss_reached': [1729149540000, 4.8492, 4.8503, 4.8258, 4.8296, 34542.0], 'break_reason': None}\n"
     ]
    },
    {
     "data": {
      "text/html": [
       "<p style='color:#0f0;'>********************************************************************************************************************</p>"
      ],
      "text/plain": [
       "<IPython.core.display.HTML object>"
      ]
     },
     "metadata": {},
     "output_type": "display_data"
    },
    {
     "name": "stdout",
     "output_type": "stream",
     "text": [
      "NOT/USDT:USDT SHORT\n"
     ]
    },
    {
     "data": {
      "text/html": [
       "<p style='color:#c01;'>json, 1729024200000</p>"
      ],
      "text/plain": [
       "<IPython.core.display.HTML object>"
      ]
     },
     "metadata": {},
     "output_type": "display_data"
    },
    {
     "data": {
      "text/html": [
       "<p style='color:#fd03a1;'>stop_timestamp</p>"
      ],
      "text/plain": [
       "<IPython.core.display.HTML object>"
      ]
     },
     "metadata": {},
     "output_type": "display_data"
    },
    {
     "data": {
      "text/html": [
       "<p style='color:#ada;'>saving historic tohlcv data to json</p>"
      ],
      "text/plain": [
       "<IPython.core.display.HTML object>"
      ]
     },
     "metadata": {},
     "output_type": "display_data"
    },
    {
     "name": "stdout",
     "output_type": "stream",
     "text": [
      "{'tps': [[1729086240000, 0.008189, 0.00819, 0.008166, 0.008185, 3673796.0], [1729096440000, 0.008059, 0.008061, 0.00803, 0.00803, 1595744.0], [1729149540000, 0.007919, 0.007919, 0.007884, 0.007899, 3635383.0]], 'entry_reached': [[1729075020000, 0.008334, 0.008335, 0.008323, 0.008326, 2166718.0]], 'stop_loss_reached': None, 'break_reason': None}\n"
     ]
    },
    {
     "data": {
      "text/html": [
       "<p style='color:#0f0;'>********************************************************************************************************************</p>"
      ],
      "text/plain": [
       "<IPython.core.display.HTML object>"
      ]
     },
     "metadata": {},
     "output_type": "display_data"
    },
    {
     "name": "stdout",
     "output_type": "stream",
     "text": [
      "XRP/USDT:USDT LONG\n",
      "{'tps': [[1729085700000, 0.5486, 0.5509, 0.5486, 0.5501, 373210.0], [1729139760000, 0.5529, 0.554, 0.5524, 0.554, 218342.0], [1729139940000, 0.5561, 0.5591, 0.5561, 0.5591, 339867.0]], 'entry_reached': [[1729081620000, 0.5446, 0.5447, 0.5442, 0.5442, 15814.0]], 'stop_loss_reached': None, 'break_reason': None}\n"
     ]
    },
    {
     "data": {
      "text/html": [
       "<p style='color:#0f0;'>********************************************************************************************************************</p>"
      ],
      "text/plain": [
       "<IPython.core.display.HTML object>"
      ]
     },
     "metadata": {},
     "output_type": "display_data"
    },
    {
     "name": "stdout",
     "output_type": "stream",
     "text": [
      "BNB/USDT:USDT SHORT\n",
      "{'tps': [[1729272420000, 600.31, 600.32, 600.03, 600.21, 25.54], [1729288440000, 599.65, 599.83, 597.54, 597.87, 50.19], [1729344900000, 596.5, 596.52, 596.22, 596.37, 29.95]], 'entry_reached': [[1729270560000, 601.66, 602.14, 601.65, 602.13, 34.85]], 'stop_loss_reached': None, 'break_reason': None}\n"
     ]
    },
    {
     "data": {
      "text/html": [
       "<p style='color:#0f0;'>********************************************************************************************************************</p>"
      ],
      "text/plain": [
       "<IPython.core.display.HTML object>"
      ]
     },
     "metadata": {},
     "output_type": "display_data"
    },
    {
     "name": "stdout",
     "output_type": "stream",
     "text": [
      "OP/USDT:USDT SHORT\n",
      "{'tps': [[1729158300000, 1.7087, 1.7087, 1.7042, 1.7076, 44271.8], [1729161060000, 1.6877, 1.6877, 1.684, 1.6851, 5550.5], [1729188480000, 1.6632, 1.6637, 1.6587, 1.66, 16601.4]], 'entry_reached': [[1729150740000, 1.7304, 1.7311, 1.7299, 1.7309, 1361.6]], 'stop_loss_reached': None, 'break_reason': None}\n"
     ]
    },
    {
     "data": {
      "text/html": [
       "<p style='color:#0f0;'>********************************************************************************************************************</p>"
      ],
      "text/plain": [
       "<IPython.core.display.HTML object>"
      ]
     },
     "metadata": {},
     "output_type": "display_data"
    },
    {
     "name": "stdout",
     "output_type": "stream",
     "text": [
      "INJ/USDT:USDT LONG\n",
      "{'tps': [], 'entry_reached': [[1729162920000, 21.781, 21.784, 21.706, 21.736, 1988.0], [1729164540000, 21.428, 21.445, 21.389, 21.441, 2374.0]], 'stop_loss_reached': [1729164660000, 21.431, 21.431, 21.35, 21.35, 2262.0], 'break_reason': None}\n"
     ]
    },
    {
     "data": {
      "text/html": [
       "<p style='color:#0f0;'>********************************************************************************************************************</p>"
      ],
      "text/plain": [
       "<IPython.core.display.HTML object>"
      ]
     },
     "metadata": {},
     "output_type": "display_data"
    },
    {
     "name": "stdout",
     "output_type": "stream",
     "text": [
      "BTC/USDT:USDT LONG\n",
      "{'tps': [[1729172700000, 67199.9, 67339.8, 67146.6, 67330.7, 154.87], [1729179360000, 67446.5, 67638.8, 67434.5, 67638.0, 334.91], [1729216560000, 67971.5, 68173.6, 67971.0, 68149.2, 153.45]], 'entry_reached': [[1729166100000, 66835.6, 66890.5, 66835.4, 66888.3, 6.51]], 'stop_loss_reached': None, 'break_reason': None}\n"
     ]
    },
    {
     "data": {
      "text/html": [
       "<p style='color:#0f0;'>********************************************************************************************************************</p>"
      ],
      "text/plain": [
       "<IPython.core.display.HTML object>"
      ]
     },
     "metadata": {},
     "output_type": "display_data"
    },
    {
     "name": "stdout",
     "output_type": "stream",
     "text": [
      "TIA/USDT:USDT LONG\n",
      "{'tps': [], 'entry_reached': [[1729235460000, 6.1097, 6.1135, 6.0986, 6.1022, 954.83], [1729244400000, 5.9622, 5.9641, 5.9581, 5.9611, 4973.62]], 'stop_loss_reached': [1729367280000, 5.8457, 5.846, 5.8335, 5.8381, 8559.37], 'break_reason': None}\n"
     ]
    },
    {
     "data": {
      "text/html": [
       "<p style='color:#0f0;'>********************************************************************************************************************</p>"
      ],
      "text/plain": [
       "<IPython.core.display.HTML object>"
      ]
     },
     "metadata": {},
     "output_type": "display_data"
    },
    {
     "name": "stdout",
     "output_type": "stream",
     "text": [
      "XRP/USDT:USDT LONG\n",
      "{'tps': [], 'entry_reached': [[1729247400000, 0.5494, 0.5496, 0.549, 0.5494, 19477.0], [1729255680000, 0.5446, 0.5446, 0.5442, 0.5445, 158379.0]], 'stop_loss_reached': [1729356960000, 0.542, 0.542, 0.5412, 0.5414, 137336.0], 'break_reason': None}\n"
     ]
    },
    {
     "data": {
      "text/html": [
       "<p style='color:#0f0;'>********************************************************************************************************************</p>"
      ],
      "text/plain": [
       "<IPython.core.display.HTML object>"
      ]
     },
     "metadata": {},
     "output_type": "display_data"
    },
    {
     "name": "stdout",
     "output_type": "stream",
     "text": [
      "ONE/USDT:USDT SHORT\n",
      "{'tps': [[1729344720000, 0.01403, 0.01405, 0.01398, 0.014, 102327.0]], 'entry_reached': [[1729341420000, 0.01419, 0.0142, 0.01417, 0.0142, 19425.0], [1729404540000, 0.01439, 0.01444, 0.01439, 0.01442, 4775.0]], 'stop_loss_reached': [1729430820000, 0.01459, 0.01464, 0.01457, 0.01459, 308058.0], 'break_reason': None}\n"
     ]
    },
    {
     "data": {
      "text/html": [
       "<p style='color:#0f0;'>********************************************************************************************************************</p>"
      ],
      "text/plain": [
       "<IPython.core.display.HTML object>"
      ]
     },
     "metadata": {},
     "output_type": "display_data"
    },
    {
     "name": "stdout",
     "output_type": "stream",
     "text": [
      "1000PEPE/USDT:USDT SHORT\n",
      "{'tps': [[1729354620000, 0.0104346, 0.0104346, 0.010411, 0.0104131, 9744688.0], [1729392360000, 0.0103185, 0.0103185, 0.0102128, 0.0102531, 16856629.0], [1729428900000, 0.0102128, 0.0102129, 0.0101197, 0.0101569, 16899538.0]], 'entry_reached': [[1729343880000, 0.0105161, 0.0105279, 0.0105161, 0.0105237, 920680.0]], 'stop_loss_reached': None, 'break_reason': None}\n"
     ]
    },
    {
     "data": {
      "text/html": [
       "<p style='color:#0f0;'>********************************************************************************************************************</p>"
      ],
      "text/plain": [
       "<IPython.core.display.HTML object>"
      ]
     },
     "metadata": {},
     "output_type": "display_data"
    },
    {
     "name": "stdout",
     "output_type": "stream",
     "text": [
      "NEIROCTO/USDT:USDT LONG\n",
      "{'tps': [], 'entry_reached': [[1729419840000, 0.001896, 0.0018962, 0.0018933, 0.001895, 629106.0], [1729430220000, 0.0018654, 0.0018663, 0.0018308, 0.0018352, 9240507.0]], 'stop_loss_reached': [1729430280000, 0.0018362, 0.0018392, 0.0018011, 0.001807, 66419284.0], 'break_reason': None}\n"
     ]
    },
    {
     "data": {
      "text/html": [
       "<p style='color:#0f0;'>********************************************************************************************************************</p>"
      ],
      "text/plain": [
       "<IPython.core.display.HTML object>"
      ]
     },
     "metadata": {},
     "output_type": "display_data"
    },
    {
     "name": "stdout",
     "output_type": "stream",
     "text": [
      "TAO/USDT:USDT SHORT\n"
     ]
    },
    {
     "data": {
      "text/html": [
       "<p style='color:#c01;'>json, 1729369800000</p>"
      ],
      "text/plain": [
       "<IPython.core.display.HTML object>"
      ]
     },
     "metadata": {},
     "output_type": "display_data"
    },
    {
     "name": "stdout",
     "output_type": "stream",
     "text": [
      "NEAR/USDT:USDT SHORT\n",
      "{'tps': [], 'entry_reached': [[1729431180000, 4.8133, 4.8172, 4.8104, 4.8132, 6035.0], [1729432860000, 4.8375, 4.8567, 4.8375, 4.8567, 2310.0]], 'stop_loss_reached': [1729433040000, 4.8721, 4.8845, 4.8709, 4.8823, 10786.0], 'break_reason': None}\n"
     ]
    },
    {
     "data": {
      "text/html": [
       "<p style='color:#0f0;'>********************************************************************************************************************</p>"
      ],
      "text/plain": [
       "<IPython.core.display.HTML object>"
      ]
     },
     "metadata": {},
     "output_type": "display_data"
    },
    {
     "name": "stdout",
     "output_type": "stream",
     "text": [
      "BTC/USDT:USDT SHORT\n",
      "{'tps': [[1729493940000, 68731.6, 68733.4, 68633.4, 68693.6, 74.21], [1729503120000, 68285.6, 68285.6, 68211.9, 68232.2, 41.05], [1729516620000, 68050.3, 68050.6, 67708.0, 67852.2, 469.77]], 'entry_reached': [[1729487160000, 69191.7, 69198.6, 69151.6, 69170.4, 18.35]], 'stop_loss_reached': None, 'break_reason': None}\n"
     ]
    },
    {
     "data": {
      "text/html": [
       "<p style='color:#0f0;'>********************************************************************************************************************</p>"
      ],
      "text/plain": [
       "<IPython.core.display.HTML object>"
      ]
     },
     "metadata": {},
     "output_type": "display_data"
    },
    {
     "name": "stdout",
     "output_type": "stream",
     "text": [
      "PYTH/USDT:USDT SHORT\n",
      "{'tps': [[1729557060000, 0.3473, 0.3474, 0.3457, 0.3458, 20211.0], [1729590000000, 0.3421, 0.3423, 0.3408, 0.3413, 11864.0], [1729674360000, 0.3353, 0.3355, 0.3347, 0.3349, 30762.0]], 'entry_reached': [[1729540440000, 0.3527, 0.3537, 0.3527, 0.3535, 3417.0]], 'stop_loss_reached': None, 'break_reason': None}\n"
     ]
    },
    {
     "data": {
      "text/html": [
       "<p style='color:#0f0;'>********************************************************************************************************************</p>"
      ],
      "text/plain": [
       "<IPython.core.display.HTML object>"
      ]
     },
     "metadata": {},
     "output_type": "display_data"
    },
    {
     "name": "stdout",
     "output_type": "stream",
     "text": [
      "ETH/USDT:USDT LONG\n",
      "{'tps': [[1729532820000, 2679.83, 2683.0, 2679.73, 2681.48, 116.61]], 'entry_reached': [[1729524900000, 2666.97, 2666.97, 2661.15, 2662.99, 14.69], [1729557000000, 2646.52, 2648.92, 2640.04, 2640.29, 1116.64]], 'stop_loss_reached': [1729557060000, 2640.1, 2640.1, 2612.36, 2618.61, 6767.77], 'break_reason': None}\n"
     ]
    },
    {
     "data": {
      "text/html": [
       "<p style='color:#0f0;'>********************************************************************************************************************</p>"
      ],
      "text/plain": [
       "<IPython.core.display.HTML object>"
      ]
     },
     "metadata": {},
     "output_type": "display_data"
    },
    {
     "name": "stdout",
     "output_type": "stream",
     "text": [
      "BCH/USDT:USDT SHORT\n",
      "{'tps': [[1729585260000, 360.54, 360.77, 360.38, 360.45, 21.93], [1729588920000, 357.18, 357.19, 355.72, 356.59, 185.45], [1729650480000, 354.05, 354.05, 353.18, 353.29, 55.09]], 'entry_reached': [[1729567560000, 364.06, 364.08, 363.98, 364.08, 18.8]], 'stop_loss_reached': None, 'break_reason': None}\n"
     ]
    },
    {
     "data": {
      "text/html": [
       "<p style='color:#0f0;'>********************************************************************************************************************</p>"
      ],
      "text/plain": [
       "<IPython.core.display.HTML object>"
      ]
     },
     "metadata": {},
     "output_type": "display_data"
    },
    {
     "name": "stdout",
     "output_type": "stream",
     "text": [
      "TRB/USDT:USDT LONG\n",
      "{'tps': [[1729599060000, 67.582, 67.698, 67.55, 67.622, 233.56]], 'entry_reached': [[1729592160000, 66.339, 66.339, 66.142, 66.142, 35.36], [1729616220000, 65.028, 65.028, 64.832, 64.867, 181.77]], 'stop_loss_reached': [1729680660000, 63.476, 63.478, 63.35, 63.351, 18.08], 'break_reason': None}\n"
     ]
    },
    {
     "data": {
      "text/html": [
       "<p style='color:#0f0;'>********************************************************************************************************************</p>"
      ],
      "text/plain": [
       "<IPython.core.display.HTML object>"
      ]
     },
     "metadata": {},
     "output_type": "display_data"
    },
    {
     "name": "stdout",
     "output_type": "stream",
     "text": [
      "BTC/USDT:USDT SHORT\n",
      "{'tps': [[1729601040000, 66926.8, 66930.1, 66876.1, 66885.0, 38.52]], 'entry_reached': [[1729594500000, 67162.4, 67209.9, 67162.4, 67209.3, 10.14], [1729607940000, 67414.2, 67585.0, 67410.0, 67484.8, 47.14]], 'stop_loss_reached': [1729637760000, 67782.1, 67835.8, 67780.0, 67815.4, 29.56], 'break_reason': None}\n"
     ]
    },
    {
     "data": {
      "text/html": [
       "<p style='color:#0f0;'>********************************************************************************************************************</p>"
      ],
      "text/plain": [
       "<IPython.core.display.HTML object>"
      ]
     },
     "metadata": {},
     "output_type": "display_data"
    },
    {
     "name": "stdout",
     "output_type": "stream",
     "text": [
      "OP/USDT:USDT LONG\n",
      "{'tps': [], 'entry_reached': [[1729597260000, 1.7384, 1.7392, 1.7372, 1.7383, 1019.6], [1729601100000, 1.7128, 1.7157, 1.7107, 1.7155, 17736.3]], 'stop_loss_reached': [1729605120000, 1.6991, 1.6992, 1.6956, 1.6962, 17479.7], 'break_reason': None}\n"
     ]
    },
    {
     "data": {
      "text/html": [
       "<p style='color:#0f0;'>********************************************************************************************************************</p>"
      ],
      "text/plain": [
       "<IPython.core.display.HTML object>"
      ]
     },
     "metadata": {},
     "output_type": "display_data"
    },
    {
     "name": "stdout",
     "output_type": "stream",
     "text": [
      "NEIROCTO/USDT:USDT LONG\n",
      "{'tps': [], 'entry_reached': [[1729604280000, 0.0017361, 0.0017361, 0.0017193, 0.001721, 13620940.0], [1729607220000, 0.0016834, 0.0016836, 0.0016739, 0.0016774, 16526217.0]], 'stop_loss_reached': [1729615140000, 0.0016713, 0.0016713, 0.0016516, 0.0016569, 37232236.0], 'break_reason': None}\n"
     ]
    },
    {
     "data": {
      "text/html": [
       "<p style='color:#0f0;'>********************************************************************************************************************</p>"
      ],
      "text/plain": [
       "<IPython.core.display.HTML object>"
      ]
     },
     "metadata": {},
     "output_type": "display_data"
    },
    {
     "name": "stdout",
     "output_type": "stream",
     "text": [
      "TAO/USDT:USDT SHORT\n"
     ]
    },
    {
     "data": {
      "text/html": [
       "<p style='color:#c01;'>json, 1729629000000</p>"
      ],
      "text/plain": [
       "<IPython.core.display.HTML object>"
      ]
     },
     "metadata": {},
     "output_type": "display_data"
    },
    {
     "data": {
      "text/html": [
       "<p style='color:#fd03a1;'>stop_timestamp</p>"
      ],
      "text/plain": [
       "<IPython.core.display.HTML object>"
      ]
     },
     "metadata": {},
     "output_type": "display_data"
    },
    {
     "data": {
      "text/html": [
       "<p style='color:#ada;'>saving historic tohlcv data to json</p>"
      ],
      "text/plain": [
       "<IPython.core.display.HTML object>"
      ]
     },
     "metadata": {},
     "output_type": "display_data"
    },
    {
     "name": "stdout",
     "output_type": "stream",
     "text": [
      "{'tps': [[1729668720000, 539.26, 539.61, 538.85, 539.09, 8.34], [1729673820000, 535.52, 535.66, 529.72, 530.91, 87.33], [1729683840000, 529.51, 529.53, 527.66, 527.92, 14.52]], 'entry_reached': [[1729660500000, 544.39, 544.76, 544.37, 544.43, 0.67]], 'stop_loss_reached': None, 'break_reason': None}\n"
     ]
    },
    {
     "data": {
      "text/html": [
       "<p style='color:#0f0;'>********************************************************************************************************************</p>"
      ],
      "text/plain": [
       "<IPython.core.display.HTML object>"
      ]
     },
     "metadata": {},
     "output_type": "display_data"
    },
    {
     "name": "stdout",
     "output_type": "stream",
     "text": [
      "OP/USDT:USDT SHORT\n",
      "{'tps': [], 'entry_reached': [[1729678860000, 1.7001, 1.7024, 1.6999, 1.7022, 382.1], [1729687620000, 1.7154, 1.7176, 1.7148, 1.7149, 4004.5]], 'stop_loss_reached': [1729691280000, 1.7279, 1.7326, 1.7275, 1.7322, 27183.8], 'break_reason': None}\n"
     ]
    },
    {
     "data": {
      "text/html": [
       "<p style='color:#0f0;'>********************************************************************************************************************</p>"
      ],
      "text/plain": [
       "<IPython.core.display.HTML object>"
      ]
     },
     "metadata": {},
     "output_type": "display_data"
    },
    {
     "name": "stdout",
     "output_type": "stream",
     "text": [
      "NEIROCTO/USDT:USDT LONG\n",
      "{'tps': [[1729686840000, 0.0016493, 0.0016578, 0.0016493, 0.0016547, 6629921.0]], 'entry_reached': [[1729682100000, 0.0016387, 0.0016396, 0.001637, 0.0016387, 486549.0], [1729698960000, 0.0016145, 0.0016145, 0.0015878, 0.0015894, 27286121.0]], 'stop_loss_reached': [1729699020000, 0.0015887, 0.0015899, 0.0015791, 0.0015851, 44028424.0], 'break_reason': None}\n"
     ]
    },
    {
     "data": {
      "text/html": [
       "<p style='color:#0f0;'>********************************************************************************************************************</p>"
      ],
      "text/plain": [
       "<IPython.core.display.HTML object>"
      ]
     },
     "metadata": {},
     "output_type": "display_data"
    },
    {
     "name": "stdout",
     "output_type": "stream",
     "text": [
      "NEAR/USDT:USDT SHORT\n"
     ]
    },
    {
     "data": {
      "text/html": [
       "<p style='color:#c01;'>json, 1730320200000</p>"
      ],
      "text/plain": [
       "<IPython.core.display.HTML object>"
      ]
     },
     "metadata": {},
     "output_type": "display_data"
    },
    {
     "data": {
      "text/html": [
       "<p style='color:#fd03a1;'>stop_timestamp</p>"
      ],
      "text/plain": [
       "<IPython.core.display.HTML object>"
      ]
     },
     "metadata": {},
     "output_type": "display_data"
    },
    {
     "data": {
      "text/html": [
       "<p style='color:#ada;'>saving historic tohlcv data to json</p>"
      ],
      "text/plain": [
       "<IPython.core.display.HTML object>"
      ]
     },
     "metadata": {},
     "output_type": "display_data"
    },
    {
     "name": "stdout",
     "output_type": "stream",
     "text": [
      "{'tps': [[1729759980000, 4.581, 4.583, 4.574, 4.5761, 1877.0], [1729871460000, 4.4992, 4.5001, 4.4813, 4.484, 4379.0], [1729879260000, 4.4163, 4.4234, 4.4027, 4.4054, 39107.0]], 'entry_reached': [[1729753920000, 4.66, 4.6652, 4.66, 4.6635, 2081.0], [1729804920000, 4.7452, 4.7649, 4.7452, 4.7634, 13550.0]], 'stop_loss_reached': None, 'break_reason': None}\n"
     ]
    },
    {
     "data": {
      "text/html": [
       "<p style='color:#0f0;'>********************************************************************************************************************</p>"
      ],
      "text/plain": [
       "<IPython.core.display.HTML object>"
      ]
     },
     "metadata": {},
     "output_type": "display_data"
    },
    {
     "name": "stdout",
     "output_type": "stream",
     "text": [
      "FTM/USDT:USDT SHORT\n",
      "{'tps': [[1729829880000, 0.6761, 0.6766, 0.6751, 0.6757, 30129.0], [1729878960000, 0.6656, 0.6656, 0.6624, 0.6624, 110213.0], [1729879200000, 0.6555, 0.6557, 0.6489, 0.6516, 728956.0]], 'entry_reached': [[1729760880000, 0.6849, 0.6864, 0.6848, 0.6863, 28205.0], [1729777440000, 0.6995, 0.7008, 0.6995, 0.7001, 67972.0]], 'stop_loss_reached': None, 'break_reason': None}\n"
     ]
    },
    {
     "data": {
      "text/html": [
       "<p style='color:#0f0;'>********************************************************************************************************************</p>"
      ],
      "text/plain": [
       "<IPython.core.display.HTML object>"
      ]
     },
     "metadata": {},
     "output_type": "display_data"
    },
    {
     "name": "stdout",
     "output_type": "stream",
     "text": [
      "NEIROCTO/USDT:USDT SHORT\n"
     ]
    },
    {
     "data": {
      "text/html": [
       "<p style='color:#c01;'>json, 1730493000000</p>"
      ],
      "text/plain": [
       "<IPython.core.display.HTML object>"
      ]
     },
     "metadata": {},
     "output_type": "display_data"
    },
    {
     "data": {
      "text/html": [
       "<p style='color:#fd03a1;'>stop_timestamp</p>"
      ],
      "text/plain": [
       "<IPython.core.display.HTML object>"
      ]
     },
     "metadata": {},
     "output_type": "display_data"
    },
    {
     "data": {
      "text/html": [
       "<p style='color:#ada;'>saving historic tohlcv data to json</p>"
      ],
      "text/plain": [
       "<IPython.core.display.HTML object>"
      ]
     },
     "metadata": {},
     "output_type": "display_data"
    },
    {
     "name": "stdout",
     "output_type": "stream",
     "text": [
      "{'tps': [[1729771920000, 0.001436, 0.0014377, 0.0014313, 0.0014314, 4289859.0]], 'entry_reached': [[1729764060000, 0.0014418, 0.0014482, 0.0014412, 0.0014477, 5724033.0], [1729765800000, 0.0014608, 0.0014717, 0.0014608, 0.001471, 2690689.0]], 'stop_loss_reached': [1729778400000, 0.0014697, 0.0014826, 0.001469, 0.001478, 3338230.0], 'break_reason': None}\n"
     ]
    },
    {
     "data": {
      "text/html": [
       "<p style='color:#0f0;'>********************************************************************************************************************</p>"
      ],
      "text/plain": [
       "<IPython.core.display.HTML object>"
      ]
     },
     "metadata": {},
     "output_type": "display_data"
    },
    {
     "name": "stdout",
     "output_type": "stream",
     "text": [
      "DYDX/USDT:USDT SHORT\n"
     ]
    },
    {
     "data": {
      "text/html": [
       "<p style='color:#c01;'>json, 1729715400000</p>"
      ],
      "text/plain": [
       "<IPython.core.display.HTML object>"
      ]
     },
     "metadata": {},
     "output_type": "display_data"
    },
    {
     "data": {
      "text/html": [
       "<p style='color:#fd03a1;'>stop_timestamp</p>"
      ],
      "text/plain": [
       "<IPython.core.display.HTML object>"
      ]
     },
     "metadata": {},
     "output_type": "display_data"
    },
    {
     "data": {
      "text/html": [
       "<p style='color:#ada;'>saving historic tohlcv data to json</p>"
      ],
      "text/plain": [
       "<IPython.core.display.HTML object>"
      ]
     },
     "metadata": {},
     "output_type": "display_data"
    },
    {
     "name": "stdout",
     "output_type": "stream",
     "text": [
      "{'tps': [[1729774740000, 1.071, 1.071, 1.067, 1.07, 2125.3]], 'entry_reached': [[1729769460000, 1.08, 1.081, 1.077, 1.077, 1944.5], [1729815480000, 1.095, 1.099, 1.095, 1.098, 1276.1]], 'stop_loss_reached': [1729817400000, 1.102, 1.109, 1.102, 1.108, 9342.3], 'break_reason': None}\n"
     ]
    },
    {
     "data": {
      "text/html": [
       "<p style='color:#0f0;'>********************************************************************************************************************</p>"
      ],
      "text/plain": [
       "<IPython.core.display.HTML object>"
      ]
     },
     "metadata": {},
     "output_type": "display_data"
    },
    {
     "name": "stdout",
     "output_type": "stream",
     "text": [
      "JASMY/USDT:USDT SHORT\n"
     ]
    },
    {
     "data": {
      "text/html": [
       "<p style='color:#c01;'>json, 1729715400000</p>"
      ],
      "text/plain": [
       "<IPython.core.display.HTML object>"
      ]
     },
     "metadata": {},
     "output_type": "display_data"
    },
    {
     "data": {
      "text/html": [
       "<p style='color:#fd03a1;'>stop_timestamp</p>"
      ],
      "text/plain": [
       "<IPython.core.display.HTML object>"
      ]
     },
     "metadata": {},
     "output_type": "display_data"
    },
    {
     "data": {
      "text/html": [
       "<p style='color:#ada;'>saving historic tohlcv data to json</p>"
      ],
      "text/plain": [
       "<IPython.core.display.HTML object>"
      ]
     },
     "metadata": {},
     "output_type": "display_data"
    },
    {
     "name": "stdout",
     "output_type": "stream",
     "text": [
      "{'tps': [[1729871640000, 0.018668, 0.018673, 0.018546, 0.018546, 564785.0], [1729879800000, 0.018176, 0.018176, 0.018027, 0.018088, 1854793.0], [1729897860000, 0.017746, 0.017746, 0.01766, 0.01767, 1539076.0]], 'entry_reached': [[1729787580000, 0.018956, 0.018973, 0.018956, 0.01897, 576343.0]], 'stop_loss_reached': None, 'break_reason': None}\n"
     ]
    },
    {
     "data": {
      "text/html": [
       "<p style='color:#0f0;'>********************************************************************************************************************</p>"
      ],
      "text/plain": [
       "<IPython.core.display.HTML object>"
      ]
     },
     "metadata": {},
     "output_type": "display_data"
    },
    {
     "name": "stdout",
     "output_type": "stream",
     "text": [
      "1000BONK/USDT:USDT SHORT\n"
     ]
    },
    {
     "data": {
      "text/html": [
       "<p style='color:#c01;'>json, 1729801800000</p>"
      ],
      "text/plain": [
       "<IPython.core.display.HTML object>"
      ]
     },
     "metadata": {},
     "output_type": "display_data"
    },
    {
     "data": {
      "text/html": [
       "<p style='color:#fd03a1;'>stop_timestamp</p>"
      ],
      "text/plain": [
       "<IPython.core.display.HTML object>"
      ]
     },
     "metadata": {},
     "output_type": "display_data"
    },
    {
     "data": {
      "text/html": [
       "<p style='color:#ada;'>saving historic tohlcv data to json</p>"
      ],
      "text/plain": [
       "<IPython.core.display.HTML object>"
      ]
     },
     "metadata": {},
     "output_type": "display_data"
    },
    {
     "name": "stdout",
     "output_type": "stream",
     "text": [
      "{'tps': [[1729843620000, 0.021999, 0.022009, 0.021941, 0.021944, 200569.0]], 'entry_reached': [[1729838760000, 0.022216, 0.022282, 0.022214, 0.02228, 99798.0], [1729850400000, 0.02254, 0.022585, 0.022496, 0.022506, 141126.0]], 'stop_loss_reached': [1729855080000, 0.022773, 0.022802, 0.022763, 0.022793, 489085.0], 'break_reason': None}\n"
     ]
    },
    {
     "data": {
      "text/html": [
       "<p style='color:#0f0;'>********************************************************************************************************************</p>"
      ],
      "text/plain": [
       "<IPython.core.display.HTML object>"
      ]
     },
     "metadata": {},
     "output_type": "display_data"
    },
    {
     "name": "stdout",
     "output_type": "stream",
     "text": [
      "NEIROCTO/USDT:USDT LONG\n",
      "{'tps': [[1729844280000, 0.0015541, 0.0015683, 0.0015532, 0.0015627, 19144130.0], [1729847160000, 0.0015901, 0.0015983, 0.0015891, 0.0015925, 28422562.0], [1729851780000, 0.0016122, 0.0016379, 0.0016122, 0.0016289, 32209668.0]], 'entry_reached': [[1729843680000, 0.0015292, 0.0015367, 0.0015182, 0.0015193, 24544516.0]], 'stop_loss_reached': None, 'break_reason': None}\n"
     ]
    },
    {
     "data": {
      "text/html": [
       "<p style='color:#0f0;'>********************************************************************************************************************</p>"
      ],
      "text/plain": [
       "<IPython.core.display.HTML object>"
      ]
     },
     "metadata": {},
     "output_type": "display_data"
    },
    {
     "name": "stdout",
     "output_type": "stream",
     "text": [
      "FIL/USDT:USDT SHORT\n"
     ]
    },
    {
     "data": {
      "text/html": [
       "<p style='color:#c01;'>json, 1729801800000</p>"
      ],
      "text/plain": [
       "<IPython.core.display.HTML object>"
      ]
     },
     "metadata": {},
     "output_type": "display_data"
    },
    {
     "data": {
      "text/html": [
       "<p style='color:#fd03a1;'>stop_timestamp</p>"
      ],
      "text/plain": [
       "<IPython.core.display.HTML object>"
      ]
     },
     "metadata": {},
     "output_type": "display_data"
    },
    {
     "data": {
      "text/html": [
       "<p style='color:#ada;'>saving historic tohlcv data to json</p>"
      ],
      "text/plain": [
       "<IPython.core.display.HTML object>"
      ]
     },
     "metadata": {},
     "output_type": "display_data"
    },
    {
     "name": "stdout",
     "output_type": "stream",
     "text": [
      "{'tps': [[1729879020000, 3.652, 3.655, 3.641, 3.642, 9223.9], [1729879740000, 3.61, 3.612, 3.601, 3.603, 12317.6], [1729879860000, 3.581, 3.581, 3.555, 3.577, 65098.1]], 'entry_reached': [[1729845780000, 3.688, 3.692, 3.686, 3.69, 8476.8], [1729866300000, 3.736, 3.74, 3.736, 3.74, 1026.7]], 'stop_loss_reached': None, 'break_reason': None}\n"
     ]
    },
    {
     "data": {
      "text/html": [
       "<p style='color:#0f0;'>********************************************************************************************************************</p>"
      ],
      "text/plain": [
       "<IPython.core.display.HTML object>"
      ]
     },
     "metadata": {},
     "output_type": "display_data"
    },
    {
     "name": "stdout",
     "output_type": "stream",
     "text": [
      "1000PEPE/USDT:USDT SHORT\n"
     ]
    },
    {
     "data": {
      "text/html": [
       "<p style='color:#c01;'>json, 1730579400000</p>"
      ],
      "text/plain": [
       "<IPython.core.display.HTML object>"
      ]
     },
     "metadata": {},
     "output_type": "display_data"
    },
    {
     "data": {
      "text/html": [
       "<p style='color:#fd03a1;'>stop_timestamp</p>"
      ],
      "text/plain": [
       "<IPython.core.display.HTML object>"
      ]
     },
     "metadata": {},
     "output_type": "display_data"
    },
    {
     "data": {
      "text/html": [
       "<p style='color:#ada;'>saving historic tohlcv data to json</p>"
      ],
      "text/plain": [
       "<IPython.core.display.HTML object>"
      ]
     },
     "metadata": {},
     "output_type": "display_data"
    },
    {
     "name": "stdout",
     "output_type": "stream",
     "text": [
      "{'tps': [[1729954140000, 0.0088377, 0.0088384, 0.008819, 0.008829, 1443199.0], [1730135160000, 0.0086253, 0.0086264, 0.0085982, 0.0086063, 15716531.0]], 'entry_reached': [[1729932420000, 0.0090246, 0.0090548, 0.0090243, 0.0090516, 4592000.0], [1730067000000, 0.0092562, 0.0092807, 0.0092537, 0.0092617, 4131663.0]], 'stop_loss_reached': [1730167800000, 0.0094647, 0.0094875, 0.0094634, 0.0094791, 4627637.0], 'break_reason': None}\n"
     ]
    },
    {
     "data": {
      "text/html": [
       "<p style='color:#0f0;'>********************************************************************************************************************</p>"
      ],
      "text/plain": [
       "<IPython.core.display.HTML object>"
      ]
     },
     "metadata": {},
     "output_type": "display_data"
    },
    {
     "name": "stdout",
     "output_type": "stream",
     "text": [
      "CFX/USDT:USDT SHORT\n"
     ]
    },
    {
     "data": {
      "text/html": [
       "<p style='color:#c01;'>json, 1729888200000</p>"
      ],
      "text/plain": [
       "<IPython.core.display.HTML object>"
      ]
     },
     "metadata": {},
     "output_type": "display_data"
    },
    {
     "data": {
      "text/html": [
       "<p style='color:#fd03a1;'>stop_timestamp</p>"
      ],
      "text/plain": [
       "<IPython.core.display.HTML object>"
      ]
     },
     "metadata": {},
     "output_type": "display_data"
    },
    {
     "data": {
      "text/html": [
       "<p style='color:#ada;'>saving historic tohlcv data to json</p>"
      ],
      "text/plain": [
       "<IPython.core.display.HTML object>"
      ]
     },
     "metadata": {},
     "output_type": "display_data"
    },
    {
     "name": "stdout",
     "output_type": "stream",
     "text": [
      "{'tps': [[1729948140000, 0.13854, 0.13854, 0.13836, 0.13841, 28332.0], [1729950420000, 0.13767, 0.13769, 0.13739, 0.13739, 26850.0], [1729952220000, 0.13722, 0.13722, 0.13649, 0.13667, 26614.0]], 'entry_reached': [[1729937280000, 0.13902, 0.13915, 0.13902, 0.13913, 3343.0]], 'stop_loss_reached': None, 'break_reason': None}\n"
     ]
    },
    {
     "data": {
      "text/html": [
       "<p style='color:#0f0;'>********************************************************************************************************************</p>"
      ],
      "text/plain": [
       "<IPython.core.display.HTML object>"
      ]
     },
     "metadata": {},
     "output_type": "display_data"
    },
    {
     "name": "stdout",
     "output_type": "stream",
     "text": [
      "AVAX/USDT:USDT SHORT\n"
     ]
    },
    {
     "data": {
      "text/html": [
       "<p style='color:#c01;'>json, 1729888200000</p>"
      ],
      "text/plain": [
       "<IPython.core.display.HTML object>"
      ]
     },
     "metadata": {},
     "output_type": "display_data"
    },
    {
     "data": {
      "text/html": [
       "<p style='color:#fd03a1;'>stop_timestamp</p>"
      ],
      "text/plain": [
       "<IPython.core.display.HTML object>"
      ]
     },
     "metadata": {},
     "output_type": "display_data"
    },
    {
     "data": {
      "text/html": [
       "<p style='color:#ada;'>saving historic tohlcv data to json</p>"
      ],
      "text/plain": [
       "<IPython.core.display.HTML object>"
      ]
     },
     "metadata": {},
     "output_type": "display_data"
    },
    {
     "name": "stdout",
     "output_type": "stream",
     "text": [
      "{'tps': [[1730087220000, 25.277, 25.283, 25.199, 25.199, 3233.0]], 'entry_reached': [[1730035440000, 25.683, 25.712, 25.682, 25.709, 2123.0], [1730115300000, 26.238, 26.252, 26.214, 26.241, 2030.0]], 'stop_loss_reached': [1730168040000, 26.652, 26.691, 26.652, 26.681, 1884.0], 'break_reason': None}\n"
     ]
    },
    {
     "data": {
      "text/html": [
       "<p style='color:#0f0;'>********************************************************************************************************************</p>"
      ],
      "text/plain": [
       "<IPython.core.display.HTML object>"
      ]
     },
     "metadata": {},
     "output_type": "display_data"
    },
    {
     "name": "stdout",
     "output_type": "stream",
     "text": [
      "SUSHI/USDT:USDT SHORT\n"
     ]
    },
    {
     "data": {
      "text/html": [
       "<p style='color:#c01;'>json, 1729888200000</p>"
      ],
      "text/plain": [
       "<IPython.core.display.HTML object>"
      ]
     },
     "metadata": {},
     "output_type": "display_data"
    },
    {
     "data": {
      "text/html": [
       "<p style='color:#fd03a1;'>stop_timestamp</p>"
      ],
      "text/plain": [
       "<IPython.core.display.HTML object>"
      ]
     },
     "metadata": {},
     "output_type": "display_data"
    },
    {
     "data": {
      "text/html": [
       "<p style='color:#ada;'>saving historic tohlcv data to json</p>"
      ],
      "text/plain": [
       "<IPython.core.display.HTML object>"
      ]
     },
     "metadata": {},
     "output_type": "display_data"
    },
    {
     "name": "stdout",
     "output_type": "stream",
     "text": [
      "{'tps': [[1730005200000, 0.6843, 0.6846, 0.6839, 0.6846, 1974.0]], 'entry_reached': [[1730001840000, 0.6905, 0.6916, 0.6905, 0.6914, 4132.0], [1730066520000, 0.6997, 0.7007, 0.6995, 0.7007, 2483.0]], 'stop_loss_reached': [1730070000000, 0.7034, 0.7055, 0.7034, 0.7051, 16407.0], 'break_reason': None}\n"
     ]
    },
    {
     "data": {
      "text/html": [
       "<p style='color:#0f0;'>********************************************************************************************************************</p>"
      ],
      "text/plain": [
       "<IPython.core.display.HTML object>"
      ]
     },
     "metadata": {},
     "output_type": "display_data"
    },
    {
     "name": "stdout",
     "output_type": "stream",
     "text": [
      "ADA/USDT:USDT SHORT\n"
     ]
    },
    {
     "data": {
      "text/html": [
       "<p style='color:#c01;'>json, 1729974600000</p>"
      ],
      "text/plain": [
       "<IPython.core.display.HTML object>"
      ]
     },
     "metadata": {},
     "output_type": "display_data"
    },
    {
     "data": {
      "text/html": [
       "<p style='color:#fd03a1;'>stop_timestamp</p>"
      ],
      "text/plain": [
       "<IPython.core.display.HTML object>"
      ]
     },
     "metadata": {},
     "output_type": "display_data"
    },
    {
     "data": {
      "text/html": [
       "<p style='color:#ada;'>saving historic tohlcv data to json</p>"
      ],
      "text/plain": [
       "<IPython.core.display.HTML object>"
      ]
     },
     "metadata": {},
     "output_type": "display_data"
    },
    {
     "name": "stdout",
     "output_type": "stream",
     "text": [
      "{'tps': [], 'entry_reached': [[1730011860000, 0.33235, 0.33252, 0.33219, 0.33239, 9940.0], [1730038080000, 0.33805, 0.33825, 0.33796, 0.33822, 54103.0]], 'stop_loss_reached': [1730045700000, 0.34123, 0.34166, 0.34123, 0.34164, 41634.0], 'break_reason': None}\n"
     ]
    },
    {
     "data": {
      "text/html": [
       "<p style='color:#0f0;'>********************************************************************************************************************</p>"
      ],
      "text/plain": [
       "<IPython.core.display.HTML object>"
      ]
     },
     "metadata": {},
     "output_type": "display_data"
    },
    {
     "name": "stdout",
     "output_type": "stream",
     "text": [
      "SUSHI/USDT:USDT SHORT\n",
      "{'tps': [], 'entry_reached': [[1730027940000, 0.6843, 0.685, 0.6843, 0.6848, 1850.0], [1730050260000, 0.6916, 0.698, 0.6916, 0.698, 11495.0]], 'stop_loss_reached': [1730070000000, 0.7034, 0.7055, 0.7034, 0.7051, 16407.0], 'break_reason': None}\n"
     ]
    },
    {
     "data": {
      "text/html": [
       "<p style='color:#0f0;'>********************************************************************************************************************</p>"
      ],
      "text/plain": [
       "<IPython.core.display.HTML object>"
      ]
     },
     "metadata": {},
     "output_type": "display_data"
    },
    {
     "name": "stdout",
     "output_type": "stream",
     "text": [
      "SYN/USDT:USDT LONG\n"
     ]
    },
    {
     "data": {
      "text/html": [
       "<p style='color:#c01;'>json, 1729974600000</p>"
      ],
      "text/plain": [
       "<IPython.core.display.HTML object>"
      ]
     },
     "metadata": {},
     "output_type": "display_data"
    },
    {
     "data": {
      "text/html": [
       "<p style='color:#fd03a1;'>stop_timestamp</p>"
      ],
      "text/plain": [
       "<IPython.core.display.HTML object>"
      ]
     },
     "metadata": {},
     "output_type": "display_data"
    },
    {
     "data": {
      "text/html": [
       "<p style='color:#ada;'>saving historic tohlcv data to json</p>"
      ],
      "text/plain": [
       "<IPython.core.display.HTML object>"
      ]
     },
     "metadata": {},
     "output_type": "display_data"
    },
    {
     "name": "stdout",
     "output_type": "stream",
     "text": [
      "{'tps': [[1730042280000, 0.6172, 0.6232, 0.617, 0.6224, 2059.37]], 'entry_reached': [[1730033580000, 0.6108, 0.611, 0.6088, 0.6092, 336.55], [1730055300000, 0.5975, 0.5977, 0.5941, 0.5965, 6087.01]], 'stop_loss_reached': [1730086380000, 0.5867, 0.587, 0.5851, 0.5857, 3534.25], 'break_reason': None}\n"
     ]
    },
    {
     "data": {
      "text/html": [
       "<p style='color:#0f0;'>********************************************************************************************************************</p>"
      ],
      "text/plain": [
       "<IPython.core.display.HTML object>"
      ]
     },
     "metadata": {},
     "output_type": "display_data"
    },
    {
     "name": "stdout",
     "output_type": "stream",
     "text": [
      "NEIROCTO/USDT:USDT LONG\n"
     ]
    },
    {
     "data": {
      "text/html": [
       "<p style='color:#c01;'>json, 1730665800000</p>"
      ],
      "text/plain": [
       "<IPython.core.display.HTML object>"
      ]
     },
     "metadata": {},
     "output_type": "display_data"
    },
    {
     "data": {
      "text/html": [
       "<p style='color:#fd03a1;'>stop_timestamp</p>"
      ],
      "text/plain": [
       "<IPython.core.display.HTML object>"
      ]
     },
     "metadata": {},
     "output_type": "display_data"
    },
    {
     "data": {
      "text/html": [
       "<p style='color:#ada;'>saving historic tohlcv data to json</p>"
      ],
      "text/plain": [
       "<IPython.core.display.HTML object>"
      ]
     },
     "metadata": {},
     "output_type": "display_data"
    },
    {
     "name": "stdout",
     "output_type": "stream",
     "text": [
      "{'tps': [[1730066640000, 0.0015822, 0.0015926, 0.0015809, 0.0015844, 4549230.0], [1730073300000, 0.0015977, 0.00162, 0.0015969, 0.0016034, 39817381.0], [1730100240000, 0.0016337, 0.0016513, 0.0016334, 0.0016491, 28213465.0]], 'entry_reached': [[1730047500000, 0.0015705, 0.0015749, 0.0015535, 0.0015571, 16344454.0], [1730056920000, 0.0015214, 0.0015224, 0.0015091, 0.0015114, 40638717.0]], 'stop_loss_reached': None, 'break_reason': None}\n"
     ]
    },
    {
     "data": {
      "text/html": [
       "<p style='color:#0f0;'>********************************************************************************************************************</p>"
      ],
      "text/plain": [
       "<IPython.core.display.HTML object>"
      ]
     },
     "metadata": {},
     "output_type": "display_data"
    },
    {
     "name": "stdout",
     "output_type": "stream",
     "text": [
      "ARK/USDT:USDT SHORT\n"
     ]
    },
    {
     "data": {
      "text/html": [
       "<p style='color:#c01;'>json, 1730061000000</p>"
      ],
      "text/plain": [
       "<IPython.core.display.HTML object>"
      ]
     },
     "metadata": {},
     "output_type": "display_data"
    },
    {
     "name": "stdout",
     "output_type": "stream",
     "text": [
      "ARK/USDT:USDT SHORT\n"
     ]
    },
    {
     "data": {
      "text/html": [
       "<p style='color:#c01;'>json, 1730061000000</p>"
      ],
      "text/plain": [
       "<IPython.core.display.HTML object>"
      ]
     },
     "metadata": {},
     "output_type": "display_data"
    },
    {
     "data": {
      "text/html": [
       "<p style='color:#fd03a1;'>stop_timestamp</p>"
      ],
      "text/plain": [
       "<IPython.core.display.HTML object>"
      ]
     },
     "metadata": {},
     "output_type": "display_data"
    },
    {
     "data": {
      "text/html": [
       "<p style='color:#ada;'>saving historic tohlcv data to json</p>"
      ],
      "text/plain": [
       "<IPython.core.display.HTML object>"
      ]
     },
     "metadata": {},
     "output_type": "display_data"
    },
    {
     "name": "stdout",
     "output_type": "stream",
     "text": [
      "{'tps': [[1730123820000, 0.5068, 0.5068, 0.5059, 0.5067, 8293.0], [1730128500000, 0.5017, 0.5022, 0.5008, 0.5019, 2814.0], [1730135100000, 0.4967, 0.4969, 0.4951, 0.4953, 3628.0]], 'entry_reached': [[1730112240000, 0.5111, 0.5112, 0.5106, 0.5112, 3797.0]], 'stop_loss_reached': None, 'break_reason': None}\n"
     ]
    },
    {
     "data": {
      "text/html": [
       "<p style='color:#0f0;'>********************************************************************************************************************</p>"
      ],
      "text/plain": [
       "<IPython.core.display.HTML object>"
      ]
     },
     "metadata": {},
     "output_type": "display_data"
    },
    {
     "name": "stdout",
     "output_type": "stream",
     "text": [
      "AXS/USDT:USDT SHORT\n"
     ]
    },
    {
     "data": {
      "text/html": [
       "<p style='color:#c01;'>json, 1730061000000</p>"
      ],
      "text/plain": [
       "<IPython.core.display.HTML object>"
      ]
     },
     "metadata": {},
     "output_type": "display_data"
    },
    {
     "data": {
      "text/html": [
       "<p style='color:#fd03a1;'>stop_timestamp</p>"
      ],
      "text/plain": [
       "<IPython.core.display.HTML object>"
      ]
     },
     "metadata": {},
     "output_type": "display_data"
    },
    {
     "data": {
      "text/html": [
       "<p style='color:#ada;'>saving historic tohlcv data to json</p>"
      ],
      "text/plain": [
       "<IPython.core.display.HTML object>"
      ]
     },
     "metadata": {},
     "output_type": "display_data"
    },
    {
     "name": "stdout",
     "output_type": "stream",
     "text": [
      "{'tps': [[1730134680000, 4.686, 4.686, 4.674, 4.676, 3052.0]], 'entry_reached': [[1730115780000, 4.768, 4.77, 4.766, 4.768, 1893.0], [1730167860000, 4.886, 4.894, 4.884, 4.889, 2061.0]], 'stop_loss_reached': [1730217780000, 4.957, 4.967, 4.955, 4.965, 1800.0], 'break_reason': None}\n"
     ]
    },
    {
     "data": {
      "text/html": [
       "<p style='color:#0f0;'>********************************************************************************************************************</p>"
      ],
      "text/plain": [
       "<IPython.core.display.HTML object>"
      ]
     },
     "metadata": {},
     "output_type": "display_data"
    },
    {
     "name": "stdout",
     "output_type": "stream",
     "text": [
      "NEIROCTO/USDT:USDT LONG\n",
      "{'tps': [], 'entry_reached': [[1730117220000, 0.0016308, 0.0016309, 0.0016097, 0.001618, 14418369.0], [1730117280000, 0.0016174, 0.0016191, 0.0016018, 0.0016078, 62485135.0]], 'stop_loss_reached': [1730118660000, 0.001595, 0.0015975, 0.0015882, 0.0015972, 15154730.0], 'break_reason': None}\n"
     ]
    },
    {
     "data": {
      "text/html": [
       "<p style='color:#0f0;'>********************************************************************************************************************</p>"
      ],
      "text/plain": [
       "<IPython.core.display.HTML object>"
      ]
     },
     "metadata": {},
     "output_type": "display_data"
    },
    {
     "name": "stdout",
     "output_type": "stream",
     "text": [
      "DOGE/USDT:USDT LONG\n",
      "{'tps': [[1730126580000, 0.14946, 0.14993, 0.14945, 0.14967, 3867895.0], [1730138880000, 0.15238, 0.15297, 0.15218, 0.15248, 8125979.0], [1730142840000, 0.1552, 0.15616, 0.15505, 0.15577, 3732934.0]], 'entry_reached': [[1730118900000, 0.14688, 0.147, 0.14683, 0.14694, 676407.0]], 'stop_loss_reached': None, 'break_reason': None}\n"
     ]
    },
    {
     "data": {
      "text/html": [
       "<p style='color:#0f0;'>********************************************************************************************************************</p>"
      ],
      "text/plain": [
       "<IPython.core.display.HTML object>"
      ]
     },
     "metadata": {},
     "output_type": "display_data"
    },
    {
     "name": "stdout",
     "output_type": "stream",
     "text": [
      "XRP/USDT:USDT SHORT\n"
     ]
    },
    {
     "data": {
      "text/html": [
       "<p style='color:#c01;'>json, 1730147400000</p>"
      ],
      "text/plain": [
       "<IPython.core.display.HTML object>"
      ]
     },
     "metadata": {},
     "output_type": "display_data"
    },
    {
     "data": {
      "text/html": [
       "<p style='color:#fd03a1;'>stop_timestamp</p>"
      ],
      "text/plain": [
       "<IPython.core.display.HTML object>"
      ]
     },
     "metadata": {},
     "output_type": "display_data"
    },
    {
     "data": {
      "text/html": [
       "<p style='color:#ada;'>saving historic tohlcv data to json</p>"
      ],
      "text/plain": [
       "<IPython.core.display.HTML object>"
      ]
     },
     "metadata": {},
     "output_type": "display_data"
    },
    {
     "name": "stdout",
     "output_type": "stream",
     "text": [
      "{'tps': [], 'entry_reached': [[1730142840000, 0.5157, 0.5166, 0.5157, 0.5164, 20729.0], [1730152800000, 0.5187, 0.5196, 0.5185, 0.5194, 223436.0]], 'stop_loss_reached': [1730167500000, 0.5212, 0.5218, 0.521, 0.5215, 80110.0], 'break_reason': None}\n"
     ]
    },
    {
     "data": {
      "text/html": [
       "<p style='color:#0f0;'>********************************************************************************************************************</p>"
      ],
      "text/plain": [
       "<IPython.core.display.HTML object>"
      ]
     },
     "metadata": {},
     "output_type": "display_data"
    },
    {
     "name": "stdout",
     "output_type": "stream",
     "text": [
      "IO/USDT:USDT SHORT\n"
     ]
    },
    {
     "data": {
      "text/html": [
       "<p style='color:#c01;'>json, 1730147400000</p>"
      ],
      "text/plain": [
       "<IPython.core.display.HTML object>"
      ]
     },
     "metadata": {},
     "output_type": "display_data"
    },
    {
     "data": {
      "text/html": [
       "<p style='color:#fd03a1;'>stop_timestamp</p>"
      ],
      "text/plain": [
       "<IPython.core.display.HTML object>"
      ]
     },
     "metadata": {},
     "output_type": "display_data"
    },
    {
     "data": {
      "text/html": [
       "<p style='color:#ada;'>saving historic tohlcv data to json</p>"
      ],
      "text/plain": [
       "<IPython.core.display.HTML object>"
      ]
     },
     "metadata": {},
     "output_type": "display_data"
    },
    {
     "name": "stdout",
     "output_type": "stream",
     "text": [
      "{'tps': [], 'entry_reached': [[1730194920000, 1.763, 1.765, 1.762, 1.762, 48983.05], [1730220360000, 1.795, 1.799, 1.795, 1.799, 2134.54]], 'stop_loss_reached': [1730221080000, 1.817, 1.854, 1.812, 1.831, 10277.82], 'break_reason': None}\n"
     ]
    },
    {
     "data": {
      "text/html": [
       "<p style='color:#0f0;'>********************************************************************************************************************</p>"
      ],
      "text/plain": [
       "<IPython.core.display.HTML object>"
      ]
     },
     "metadata": {},
     "output_type": "display_data"
    },
    {
     "name": "stdout",
     "output_type": "stream",
     "text": [
      "DOT/USDT:USDT LONG\n"
     ]
    },
    {
     "data": {
      "text/html": [
       "<p style='color:#c01;'>json, 1730147400000</p>"
      ],
      "text/plain": [
       "<IPython.core.display.HTML object>"
      ]
     },
     "metadata": {},
     "output_type": "display_data"
    },
    {
     "data": {
      "text/html": [
       "<p style='color:#fd03a1;'>stop_timestamp</p>"
      ],
      "text/plain": [
       "<IPython.core.display.HTML object>"
      ]
     },
     "metadata": {},
     "output_type": "display_data"
    },
    {
     "data": {
      "text/html": [
       "<p style='color:#ada;'>saving historic tohlcv data to json</p>"
      ],
      "text/plain": [
       "<IPython.core.display.HTML object>"
      ]
     },
     "metadata": {},
     "output_type": "display_data"
    },
    {
     "name": "stdout",
     "output_type": "stream",
     "text": [
      "{'tps': [[1730218980000, 4.195, 4.203, 4.195, 4.197, 3232.0]], 'entry_reached': [[1730195580000, 4.133, 4.137, 4.133, 4.133, 943.6], [1730378640000, 4.062, 4.064, 4.06, 4.062, 4633.0]], 'stop_loss_reached': [1730383140000, 4.039, 4.041, 4.017, 4.027, 18749.8], 'break_reason': None}\n"
     ]
    },
    {
     "data": {
      "text/html": [
       "<p style='color:#0f0;'>********************************************************************************************************************</p>"
      ],
      "text/plain": [
       "<IPython.core.display.HTML object>"
      ]
     },
     "metadata": {},
     "output_type": "display_data"
    },
    {
     "name": "stdout",
     "output_type": "stream",
     "text": [
      "SOL/USDT:USDT LONG\n"
     ]
    },
    {
     "data": {
      "text/html": [
       "<p style='color:#c01;'>json, 1730925000000</p>"
      ],
      "text/plain": [
       "<IPython.core.display.HTML object>"
      ]
     },
     "metadata": {},
     "output_type": "display_data"
    },
    {
     "data": {
      "text/html": [
       "<p style='color:#fd03a1;'>stop_timestamp</p>"
      ],
      "text/plain": [
       "<IPython.core.display.HTML object>"
      ]
     },
     "metadata": {},
     "output_type": "display_data"
    },
    {
     "data": {
      "text/html": [
       "<p style='color:#ada;'>saving historic tohlcv data to json</p>"
      ],
      "text/plain": [
       "<IPython.core.display.HTML object>"
      ]
     },
     "metadata": {},
     "output_type": "display_data"
    },
    {
     "name": "stdout",
     "output_type": "stream",
     "text": [
      "{'tps': [[1730220360000, 182.495, 182.987, 182.494, 182.978, 5292.0]], 'entry_reached': [[1730197200000, 181.008, 181.015, 180.752, 180.758, 2186.0], [1730233200000, 178.13, 178.13, 177.666, 177.679, 4007.0]], 'stop_loss_reached': [1730286600000, 176.463, 176.508, 176.131, 176.388, 4474.0], 'break_reason': None}\n"
     ]
    },
    {
     "data": {
      "text/html": [
       "<p style='color:#0f0;'>********************************************************************************************************************</p>"
      ],
      "text/plain": [
       "<IPython.core.display.HTML object>"
      ]
     },
     "metadata": {},
     "output_type": "display_data"
    },
    {
     "name": "stdout",
     "output_type": "stream",
     "text": [
      "TIA/USDT:USDT SHORT\n"
     ]
    },
    {
     "data": {
      "text/html": [
       "<p style='color:#c01;'>json, 1730752200000</p>"
      ],
      "text/plain": [
       "<IPython.core.display.HTML object>"
      ]
     },
     "metadata": {},
     "output_type": "display_data"
    },
    {
     "data": {
      "text/html": [
       "<p style='color:#fd03a1;'>stop_timestamp</p>"
      ],
      "text/plain": [
       "<IPython.core.display.HTML object>"
      ]
     },
     "metadata": {},
     "output_type": "display_data"
    },
    {
     "data": {
      "text/html": [
       "<p style='color:#ada;'>saving historic tohlcv data to json</p>"
      ],
      "text/plain": [
       "<IPython.core.display.HTML object>"
      ]
     },
     "metadata": {},
     "output_type": "display_data"
    },
    {
     "name": "stdout",
     "output_type": "stream",
     "text": [
      "{'tps': [[1730213160000, 4.9494, 4.9495, 4.93, 4.9302, 5765.56]], 'entry_reached': [[1730201400000, 5.0486, 5.0588, 5.0485, 5.0558, 715.6], [1730219940000, 5.0153, 5.2112, 5.0122, 5.1421, 40984.68]], 'stop_loss_reached': [1730224500000, 5.2581, 5.2801, 5.2577, 5.2746, 4075.12], 'break_reason': None}\n"
     ]
    },
    {
     "data": {
      "text/html": [
       "<p style='color:#0f0;'>********************************************************************************************************************</p>"
      ],
      "text/plain": [
       "<IPython.core.display.HTML object>"
      ]
     },
     "metadata": {},
     "output_type": "display_data"
    },
    {
     "name": "stdout",
     "output_type": "stream",
     "text": [
      "ETH/USDT:USDT SHORT\n"
     ]
    },
    {
     "data": {
      "text/html": [
       "<p style='color:#c01;'>json, 1730925000000</p>"
      ],
      "text/plain": [
       "<IPython.core.display.HTML object>"
      ]
     },
     "metadata": {},
     "output_type": "display_data"
    },
    {
     "data": {
      "text/html": [
       "<p style='color:#fd03a1;'>stop_timestamp</p>"
      ],
      "text/plain": [
       "<IPython.core.display.HTML object>"
      ]
     },
     "metadata": {},
     "output_type": "display_data"
    },
    {
     "data": {
      "text/html": [
       "<p style='color:#ada;'>saving historic tohlcv data to json</p>"
      ],
      "text/plain": [
       "<IPython.core.display.HTML object>"
      ]
     },
     "metadata": {},
     "output_type": "display_data"
    },
    {
     "name": "stdout",
     "output_type": "stream",
     "text": [
      "{'tps': [[1730286660000, 2674.88, 2675.49, 2669.52, 2669.62, 431.61], [1730289480000, 2660.47, 2660.47, 2657.55, 2658.17, 385.49]], 'entry_reached': [[1730281260000, 2684.66, 2685.16, 2684.17, 2684.77, 344.94], [1730296680000, 2702.73, 2703.52, 2696.5, 2699.23, 1715.51]], 'stop_loss_reached': [1730296980000, 2706.9, 2715.35, 2706.48, 2712.23, 1458.52], 'break_reason': None}\n"
     ]
    },
    {
     "data": {
      "text/html": [
       "<p style='color:#0f0;'>********************************************************************************************************************</p>"
      ],
      "text/plain": [
       "<IPython.core.display.HTML object>"
      ]
     },
     "metadata": {},
     "output_type": "display_data"
    },
    {
     "name": "stdout",
     "output_type": "stream",
     "text": [
      "BCH/USDT:USDT SHORT\n"
     ]
    },
    {
     "data": {
      "text/html": [
       "<p style='color:#c01;'>json, 1730493000000</p>"
      ],
      "text/plain": [
       "<IPython.core.display.HTML object>"
      ]
     },
     "metadata": {},
     "output_type": "display_data"
    },
    {
     "data": {
      "text/html": [
       "<p style='color:#fd03a1;'>stop_timestamp</p>"
      ],
      "text/plain": [
       "<IPython.core.display.HTML object>"
      ]
     },
     "metadata": {},
     "output_type": "display_data"
    },
    {
     "data": {
      "text/html": [
       "<p style='color:#ada;'>saving historic tohlcv data to json</p>"
      ],
      "text/plain": [
       "<IPython.core.display.HTML object>"
      ]
     },
     "metadata": {},
     "output_type": "display_data"
    },
    {
     "name": "stdout",
     "output_type": "stream",
     "text": [
      "{'tps': [[1730383440000, 365.39, 365.45, 363.87, 363.95, 121.2], [1730396400000, 359.07, 359.08, 357.97, 358.28, 50.31], [1730404560000, 352.63, 352.63, 351.88, 351.91, 47.47]], 'entry_reached': [[1730283540000, 371.73, 371.73, 371.3, 371.41, 18.84]], 'stop_loss_reached': None, 'break_reason': None}\n"
     ]
    },
    {
     "data": {
      "text/html": [
       "<p style='color:#0f0;'>********************************************************************************************************************</p>"
      ],
      "text/plain": [
       "<IPython.core.display.HTML object>"
      ]
     },
     "metadata": {},
     "output_type": "display_data"
    },
    {
     "name": "stdout",
     "output_type": "stream",
     "text": [
      "MANTA/USDT:USDT SHORT\n"
     ]
    },
    {
     "data": {
      "text/html": [
       "<p style='color:#c01;'>json, 1730233800000</p>"
      ],
      "text/plain": [
       "<IPython.core.display.HTML object>"
      ]
     },
     "metadata": {},
     "output_type": "display_data"
    },
    {
     "data": {
      "text/html": [
       "<p style='color:#fd03a1;'>stop_timestamp</p>"
      ],
      "text/plain": [
       "<IPython.core.display.HTML object>"
      ]
     },
     "metadata": {},
     "output_type": "display_data"
    },
    {
     "data": {
      "text/html": [
       "<p style='color:#ada;'>saving historic tohlcv data to json</p>"
      ],
      "text/plain": [
       "<IPython.core.display.HTML object>"
      ]
     },
     "metadata": {},
     "output_type": "display_data"
    },
    {
     "name": "stdout",
     "output_type": "stream",
     "text": [
      "{'tps': [[1730294400000, 0.6978, 0.6982, 0.6767, 0.6786, 35646.85], [1730377140000, 0.6757, 0.6759, 0.6749, 0.675, 6390.15], [1730383440000, 0.6681, 0.6681, 0.6627, 0.6642, 4459.58]], 'entry_reached': [[1730290080000, 0.6936, 0.697, 0.6934, 0.696, 31483.26], [1730299200000, 0.7091, 0.7094, 0.7066, 0.7068, 1416.19]], 'stop_loss_reached': None, 'break_reason': None}\n"
     ]
    },
    {
     "data": {
      "text/html": [
       "<p style='color:#0f0;'>********************************************************************************************************************</p>"
      ],
      "text/plain": [
       "<IPython.core.display.HTML object>"
      ]
     },
     "metadata": {},
     "output_type": "display_data"
    },
    {
     "name": "stdout",
     "output_type": "stream",
     "text": [
      "MANTA/USDT:USDT SHORT\n",
      "{'tps': [], 'entry_reached': [[1730289960000, 0.6897, 0.6938, 0.6896, 0.6938, 1605.01], [1730290020000, 0.6935, 0.6944, 0.6926, 0.6934, 2448.97]], 'stop_loss_reached': [1730290080000, 0.6936, 0.697, 0.6934, 0.696, 31483.26], 'break_reason': None}\n"
     ]
    },
    {
     "data": {
      "text/html": [
       "<p style='color:#0f0;'>********************************************************************************************************************</p>"
      ],
      "text/plain": [
       "<IPython.core.display.HTML object>"
      ]
     },
     "metadata": {},
     "output_type": "display_data"
    },
    {
     "name": "stdout",
     "output_type": "stream",
     "text": [
      "MASK/USDT:USDT LONG\n"
     ]
    },
    {
     "data": {
      "text/html": [
       "<p style='color:#c01;'>json, 1730233800000</p>"
      ],
      "text/plain": [
       "<IPython.core.display.HTML object>"
      ]
     },
     "metadata": {},
     "output_type": "display_data"
    },
    {
     "data": {
      "text/html": [
       "<p style='color:#fd03a1;'>stop_timestamp</p>"
      ],
      "text/plain": [
       "<IPython.core.display.HTML object>"
      ]
     },
     "metadata": {},
     "output_type": "display_data"
    },
    {
     "data": {
      "text/html": [
       "<p style='color:#ada;'>saving historic tohlcv data to json</p>"
      ],
      "text/plain": [
       "<IPython.core.display.HTML object>"
      ]
     },
     "metadata": {},
     "output_type": "display_data"
    },
    {
     "name": "stdout",
     "output_type": "stream",
     "text": [
      "{'tps': [[1730294280000, 3.1879, 3.2136, 3.1874, 3.1995, 34171.9], [1730296980000, 3.2553, 3.2733, 3.2446, 3.2646, 60742.4], [1730312580000, 3.2932, 3.3134, 3.2748, 3.2788, 31745.2]], 'entry_reached': [[1730291280000, 3.1675, 3.171, 3.153, 3.1597, 65702.6]], 'stop_loss_reached': None, 'break_reason': None}\n"
     ]
    },
    {
     "data": {
      "text/html": [
       "<p style='color:#0f0;'>********************************************************************************************************************</p>"
      ],
      "text/plain": [
       "<IPython.core.display.HTML object>"
      ]
     },
     "metadata": {},
     "output_type": "display_data"
    },
    {
     "name": "stdout",
     "output_type": "stream",
     "text": [
      "SOL/USDT:USDT LONG\n",
      "{'tps': [], 'entry_reached': [[1730382300000, 173.331, 173.345, 173.042, 173.069, 5072.0], [1730383320000, 171.216, 171.351, 170.73, 170.871, 6503.0]], 'stop_loss_reached': [1730385960000, 169.838, 169.838, 169.379, 169.386, 11053.0], 'break_reason': None}\n"
     ]
    },
    {
     "data": {
      "text/html": [
       "<p style='color:#0f0;'>********************************************************************************************************************</p>"
      ],
      "text/plain": [
       "<IPython.core.display.HTML object>"
      ]
     },
     "metadata": {},
     "output_type": "display_data"
    },
    {
     "name": "stdout",
     "output_type": "stream",
     "text": [
      "ADA/USDT:USDT SHORT\n"
     ]
    },
    {
     "data": {
      "text/html": [
       "<p style='color:#c01;'>json, 1730925000000</p>"
      ],
      "text/plain": [
       "<IPython.core.display.HTML object>"
      ]
     },
     "metadata": {},
     "output_type": "display_data"
    },
    {
     "data": {
      "text/html": [
       "<p style='color:#ada;'>saving historic tohlcv data to json</p>"
      ],
      "text/plain": [
       "<IPython.core.display.HTML object>"
      ]
     },
     "metadata": {},
     "output_type": "display_data"
    },
    {
     "name": "stdout",
     "output_type": "stream",
     "text": [
      "{'tps': [], 'entry_reached': [[1730359200000, 0.35415, 0.35434, 0.35388, 0.35424, 26987.0], [1730369100000, 0.35744, 0.3576, 0.35741, 0.35756, 8668.0]], 'stop_loss_reached': [1730372160000, 0.35923, 0.36014, 0.35917, 0.36013, 237694.0], 'break_reason': None}\n"
     ]
    },
    {
     "data": {
      "text/html": [
       "<p style='color:#0f0;'>********************************************************************************************************************</p>"
      ],
      "text/plain": [
       "<IPython.core.display.HTML object>"
      ]
     },
     "metadata": {},
     "output_type": "display_data"
    },
    {
     "name": "stdout",
     "output_type": "stream",
     "text": [
      "PYTH/USDT:USDT SHORT\n"
     ]
    },
    {
     "data": {
      "text/html": [
       "<p style='color:#c01;'>json, 1730406600000</p>"
      ],
      "text/plain": [
       "<IPython.core.display.HTML object>"
      ]
     },
     "metadata": {},
     "output_type": "display_data"
    },
    {
     "data": {
      "text/html": [
       "<p style='color:#ada;'>saving historic tohlcv data to json</p>"
      ],
      "text/plain": [
       "<IPython.core.display.HTML object>"
      ]
     },
     "metadata": {},
     "output_type": "display_data"
    },
    {
     "name": "stdout",
     "output_type": "stream",
     "text": [
      "{'tps': [[1730373060000, 0.4003, 0.4003, 0.3986, 0.3995, 26999.0], [1730376960000, 0.3948, 0.3951, 0.394, 0.394, 12845.0], [1730397720000, 0.3911, 0.3914, 0.3889, 0.3893, 90597.0]], 'entry_reached': [[1730368380000, 0.4022, 0.4046, 0.402, 0.4044, 24864.0]], 'stop_loss_reached': None, 'break_reason': None}\n"
     ]
    },
    {
     "data": {
      "text/html": [
       "<p style='color:#0f0;'>********************************************************************************************************************</p>"
      ],
      "text/plain": [
       "<IPython.core.display.HTML object>"
      ]
     },
     "metadata": {},
     "output_type": "display_data"
    },
    {
     "name": "stdout",
     "output_type": "stream",
     "text": [
      "WOO/USDT:USDT SHORT\n"
     ]
    },
    {
     "data": {
      "text/html": [
       "<p style='color:#c01;'>json, 1730320200000</p>"
      ],
      "text/plain": [
       "<IPython.core.display.HTML object>"
      ]
     },
     "metadata": {},
     "output_type": "display_data"
    },
    {
     "data": {
      "text/html": [
       "<p style='color:#ada;'>saving historic tohlcv data to json</p>"
      ],
      "text/plain": [
       "<IPython.core.display.HTML object>"
      ]
     },
     "metadata": {},
     "output_type": "display_data"
    },
    {
     "name": "stdout",
     "output_type": "stream",
     "text": [
      "{'tps': [[1730383440000, 0.19243, 0.19244, 0.19153, 0.19176, 57600.0], [1730396100000, 0.19037, 0.19043, 0.18985, 0.18999, 8331.0], [1730397960000, 0.18875, 0.18876, 0.18768, 0.1878, 42790.0]], 'entry_reached': [[1730374560000, 0.19397, 0.19415, 0.19391, 0.19397, 7051.0]], 'stop_loss_reached': None, 'break_reason': None}\n"
     ]
    },
    {
     "data": {
      "text/html": [
       "<p style='color:#0f0;'>********************************************************************************************************************</p>"
      ],
      "text/plain": [
       "<IPython.core.display.HTML object>"
      ]
     },
     "metadata": {},
     "output_type": "display_data"
    },
    {
     "data": {
      "text/html": [
       "<p style='color:#FFFF00;'>waiting 5 min...</p>"
      ],
      "text/plain": [
       "<IPython.core.display.HTML object>"
      ]
     },
     "metadata": {},
     "output_type": "display_data"
    },
    {
     "name": "stdout",
     "output_type": "stream",
     "text": [
      "TONCOIN/USDT:USDT SHORT\n"
     ]
    },
    {
     "data": {
      "text/html": [
       "<p style='color:#c01;'>json, 1730406600000</p>"
      ],
      "text/plain": [
       "<IPython.core.display.HTML object>"
      ]
     },
     "metadata": {},
     "output_type": "display_data"
    },
    {
     "data": {
      "text/html": [
       "<p style='color:#ada;'>saving historic tohlcv data to json</p>"
      ],
      "text/plain": [
       "<IPython.core.display.HTML object>"
      ]
     },
     "metadata": {},
     "output_type": "display_data"
    },
    {
     "name": "stdout",
     "output_type": "stream",
     "text": [
      "{'tps': [], 'entry_reached': [[1730445360000, 4.794, 4.801, 4.79, 4.799, 4212.5], [1730457060000, 4.877, 4.883, 4.875, 4.881, 472.9]], 'stop_loss_reached': [1730459940000, 4.906, 4.91, 4.905, 4.907, 2416.0], 'break_reason': None}\n"
     ]
    },
    {
     "data": {
      "text/html": [
       "<p style='color:#0f0;'>********************************************************************************************************************</p>"
      ],
      "text/plain": [
       "<IPython.core.display.HTML object>"
      ]
     },
     "metadata": {},
     "output_type": "display_data"
    },
    {
     "name": "stdout",
     "output_type": "stream",
     "text": [
      "UNI/USDT:USDT SHORT\n"
     ]
    },
    {
     "data": {
      "text/html": [
       "<p style='color:#c01;'>json, 1730406600000</p>"
      ],
      "text/plain": [
       "<IPython.core.display.HTML object>"
      ]
     },
     "metadata": {},
     "output_type": "display_data"
    },
    {
     "data": {
      "text/html": [
       "<p style='color:#ada;'>saving historic tohlcv data to json</p>"
      ],
      "text/plain": [
       "<IPython.core.display.HTML object>"
      ]
     },
     "metadata": {},
     "output_type": "display_data"
    },
    {
     "name": "stdout",
     "output_type": "stream",
     "text": [
      "{'tps': [], 'entry_reached': [[1730445600000, 7.706, 7.729, 7.706, 7.729, 3960.0], [1730463900000, 7.856, 7.87, 7.854, 7.867, 2303.0]], 'stop_loss_reached': [1730464680000, 7.961, 7.977, 7.959, 7.975, 3536.0], 'break_reason': None}\n"
     ]
    },
    {
     "data": {
      "text/html": [
       "<p style='color:#0f0;'>********************************************************************************************************************</p>"
      ],
      "text/plain": [
       "<IPython.core.display.HTML object>"
      ]
     },
     "metadata": {},
     "output_type": "display_data"
    },
    {
     "name": "stdout",
     "output_type": "stream",
     "text": [
      "LOKA/USDT:USDT LONG\n"
     ]
    },
    {
     "data": {
      "text/html": [
       "<p style='color:#c01;'>json, 1730493000000</p>"
      ],
      "text/plain": [
       "<IPython.core.display.HTML object>"
      ]
     },
     "metadata": {},
     "output_type": "display_data"
    },
    {
     "data": {
      "text/html": [
       "<p style='color:#ada;'>saving historic tohlcv data to json</p>"
      ],
      "text/plain": [
       "<IPython.core.display.HTML object>"
      ]
     },
     "metadata": {},
     "output_type": "display_data"
    },
    {
     "name": "stdout",
     "output_type": "stream",
     "text": [
      "{'tps': [], 'entry_reached': [[1730551380000, 0.1717, 0.1718, 0.1711, 0.1716, 16071.7], [1730555640000, 0.1681, 0.1682, 0.1676, 0.1677, 24278.98]], 'stop_loss_reached': [1730558460000, 0.1662, 0.1665, 0.166, 0.1662, 1068.51], 'break_reason': None}\n"
     ]
    },
    {
     "data": {
      "text/html": [
       "<p style='color:#0f0;'>********************************************************************************************************************</p>"
      ],
      "text/plain": [
       "<IPython.core.display.HTML object>"
      ]
     },
     "metadata": {},
     "output_type": "display_data"
    },
    {
     "name": "stdout",
     "output_type": "stream",
     "text": [
      "GRASS/USDT:USDT LONG\n"
     ]
    },
    {
     "data": {
      "text/html": [
       "<p style='color:#c01;'>json, 1730493000000</p>"
      ],
      "text/plain": [
       "<IPython.core.display.HTML object>"
      ]
     },
     "metadata": {},
     "output_type": "display_data"
    },
    {
     "data": {
      "text/html": [
       "<p style='color:#ada;'>saving historic tohlcv data to json</p>"
      ],
      "text/plain": [
       "<IPython.core.display.HTML object>"
      ]
     },
     "metadata": {},
     "output_type": "display_data"
    },
    {
     "name": "stdout",
     "output_type": "stream",
     "text": [
      "{'tps': [], 'entry_reached': [[1730541300000, 1.9095, 1.9095, 1.8576, 1.8847, 134634.95], [1730542200000, 1.8774, 1.8774, 1.8219, 1.8371, 96602.47]], 'stop_loss_reached': [1730542620000, 1.8163, 1.8178, 1.7725, 1.7786, 89526.78], 'break_reason': None}\n"
     ]
    },
    {
     "data": {
      "text/html": [
       "<p style='color:#0f0;'>********************************************************************************************************************</p>"
      ],
      "text/plain": [
       "<IPython.core.display.HTML object>"
      ]
     },
     "metadata": {},
     "output_type": "display_data"
    },
    {
     "name": "stdout",
     "output_type": "stream",
     "text": [
      "JUP/USDT:USDT SHORT\n"
     ]
    },
    {
     "data": {
      "text/html": [
       "<p style='color:#c01;'>json, 1730925000000</p>"
      ],
      "text/plain": [
       "<IPython.core.display.HTML object>"
      ]
     },
     "metadata": {},
     "output_type": "display_data"
    },
    {
     "data": {
      "text/html": [
       "<p style='color:#ada;'>saving historic tohlcv data to json</p>"
      ],
      "text/plain": [
       "<IPython.core.display.HTML object>"
      ]
     },
     "metadata": {},
     "output_type": "display_data"
    },
    {
     "name": "stdout",
     "output_type": "stream",
     "text": [
      "{'tps': [[1730550780000, 0.9372, 0.9383, 0.9363, 0.9379, 9041.82], [1730556000000, 0.9286, 0.9293, 0.9272, 0.9288, 471.17], [1730560260000, 0.9191, 0.9194, 0.9176, 0.918, 16443.1]], 'entry_reached': [[1730546400000, 0.9449, 0.946, 0.9449, 0.9457, 1005.06]], 'stop_loss_reached': None, 'break_reason': None}\n"
     ]
    },
    {
     "data": {
      "text/html": [
       "<p style='color:#0f0;'>********************************************************************************************************************</p>"
      ],
      "text/plain": [
       "<IPython.core.display.HTML object>"
      ]
     },
     "metadata": {},
     "output_type": "display_data"
    },
    {
     "name": "stdout",
     "output_type": "stream",
     "text": [
      "SXP/USDT:USDT LONG\n"
     ]
    },
    {
     "data": {
      "text/html": [
       "<p style='color:#c01;'>json, 1730493000000</p>"
      ],
      "text/plain": [
       "<IPython.core.display.HTML object>"
      ]
     },
     "metadata": {},
     "output_type": "display_data"
    },
    {
     "data": {
      "text/html": [
       "<p style='color:#ada;'>saving historic tohlcv data to json</p>"
      ],
      "text/plain": [
       "<IPython.core.display.HTML object>"
      ]
     },
     "metadata": {},
     "output_type": "display_data"
    },
    {
     "name": "stdout",
     "output_type": "stream",
     "text": [
      "{'tps': [[1730592840000, 0.2443, 0.2451, 0.2431, 0.2436, 150056.0], [1730592960000, 0.2464, 0.2493, 0.2462, 0.2486, 200680.0], [1730593080000, 0.2498, 0.2533, 0.2493, 0.2521, 226845.0]], 'entry_reached': [[1730553780000, 0.2412, 0.2415, 0.2411, 0.2413, 2110.0]], 'stop_loss_reached': None, 'break_reason': None}\n"
     ]
    },
    {
     "data": {
      "text/html": [
       "<p style='color:#0f0;'>********************************************************************************************************************</p>"
      ],
      "text/plain": [
       "<IPython.core.display.HTML object>"
      ]
     },
     "metadata": {},
     "output_type": "display_data"
    },
    {
     "name": "stdout",
     "output_type": "stream",
     "text": [
      "BTC/USDT:USDT SHORT\n"
     ]
    },
    {
     "data": {
      "text/html": [
       "<p style='color:#c01;'>json, 1730752200000</p>"
      ],
      "text/plain": [
       "<IPython.core.display.HTML object>"
      ]
     },
     "metadata": {},
     "output_type": "display_data"
    },
    {
     "data": {
      "text/html": [
       "<p style='color:#ada;'>saving historic tohlcv data to json</p>"
      ],
      "text/plain": [
       "<IPython.core.display.HTML object>"
      ]
     },
     "metadata": {},
     "output_type": "display_data"
    },
    {
     "name": "stdout",
     "output_type": "stream",
     "text": [
      "{'tps': [[1730641380000, 68262.4, 68280.1, 68157.6, 68193.6, 31.98], [1730642820000, 68027.2, 68036.9, 67918.0, 67943.9, 39.17], [1730644140000, 67777.6, 67778.4, 67676.0, 67709.1, 162.32]], 'entry_reached': [[1730628840000, 68371.8, 68390.0, 68356.0, 68389.1, 11.23]], 'stop_loss_reached': None, 'break_reason': None}\n"
     ]
    },
    {
     "data": {
      "text/html": [
       "<p style='color:#0f0;'>********************************************************************************************************************</p>"
      ],
      "text/plain": [
       "<IPython.core.display.HTML object>"
      ]
     },
     "metadata": {},
     "output_type": "display_data"
    },
    {
     "name": "stdout",
     "output_type": "stream",
     "text": [
      "TONCOIN/USDT:USDT SHORT\n"
     ]
    },
    {
     "data": {
      "text/html": [
       "<p style='color:#c01;'>json, 1731184200000</p>"
      ],
      "text/plain": [
       "<IPython.core.display.HTML object>"
      ]
     },
     "metadata": {},
     "output_type": "display_data"
    },
    {
     "name": "stdout",
     "output_type": "stream",
     "text": [
      "{'tps': [[1730640780000, 4.749, 4.749, 4.736, 4.737, 1718.7], [1730644020000, 4.696, 4.701, 4.69, 4.698, 862.1]], 'entry_reached': [[1730634960000, 4.79, 4.79, 4.788, 4.789, 456.2], [1730687460000, 4.866, 4.87, 4.865, 4.866, 651.6]], 'stop_loss_reached': [1730689200000, 4.882, 4.89, 4.882, 4.887, 907.5], 'break_reason': None}\n"
     ]
    },
    {
     "data": {
      "text/html": [
       "<p style='color:#0f0;'>********************************************************************************************************************</p>"
      ],
      "text/plain": [
       "<IPython.core.display.HTML object>"
      ]
     },
     "metadata": {},
     "output_type": "display_data"
    },
    {
     "name": "stdout",
     "output_type": "stream",
     "text": [
      "LOKA/USDT:USDT SHORT\n"
     ]
    },
    {
     "data": {
      "text/html": [
       "<p style='color:#c01;'>json, 1731184200000</p>"
      ],
      "text/plain": [
       "<IPython.core.display.HTML object>"
      ]
     },
     "metadata": {},
     "output_type": "display_data"
    },
    {
     "name": "stdout",
     "output_type": "stream",
     "text": [
      "{'tps': [], 'entry_reached': [[1730661360000, 0.1553, 0.1554, 0.1549, 0.1549, 1618.45], [1730665680000, 0.1567, 0.1571, 0.1566, 0.1566, 15319.47]], 'stop_loss_reached': [1730666160000, 0.1578, 0.1584, 0.1576, 0.1576, 49996.46], 'break_reason': None}\n"
     ]
    },
    {
     "data": {
      "text/html": [
       "<p style='color:#0f0;'>********************************************************************************************************************</p>"
      ],
      "text/plain": [
       "<IPython.core.display.HTML object>"
      ]
     },
     "metadata": {},
     "output_type": "display_data"
    },
    {
     "name": "stdout",
     "output_type": "stream",
     "text": [
      "FLOKI/USDT:USDT SHORT\n"
     ]
    },
    {
     "data": {
      "text/html": [
       "<p style='color:#c01;'>json, 1730665800000</p>"
      ],
      "text/plain": [
       "<IPython.core.display.HTML object>"
      ]
     },
     "metadata": {},
     "output_type": "display_data"
    },
    {
     "data": {
      "text/html": [
       "<p style='color:#ada;'>saving historic tohlcv data to json</p>"
      ],
      "text/plain": [
       "<IPython.core.display.HTML object>"
      ]
     },
     "metadata": {},
     "output_type": "display_data"
    },
    {
     "name": "stdout",
     "output_type": "stream",
     "text": [
      "{'tps': [[1730738460000, 0.00011868, 0.00011873, 0.00011841, 0.00011852, 94847746.0], [1730756460000, 0.0001159, 0.00011591, 0.00011523, 0.00011565, 124021113.0]], 'entry_reached': [[1730699340000, 0.00012165, 0.00012167, 0.0001216, 0.00012164, 14072247.0], [1730816640000, 0.000125, 0.00012545, 0.00012499, 0.00012518, 190346206.0]], 'stop_loss_reached': [1730817120000, 0.00012679, 0.00012724, 0.00012679, 0.00012724, 94473710.0], 'break_reason': None}\n"
     ]
    },
    {
     "data": {
      "text/html": [
       "<p style='color:#0f0;'>********************************************************************************************************************</p>"
      ],
      "text/plain": [
       "<IPython.core.display.HTML object>"
      ]
     },
     "metadata": {},
     "output_type": "display_data"
    },
    {
     "name": "stdout",
     "output_type": "stream",
     "text": [
      "BNB/USDT:USDT LONG\n"
     ]
    },
    {
     "data": {
      "text/html": [
       "<p style='color:#c01;'>json, 1730925000000</p>"
      ],
      "text/plain": [
       "<IPython.core.display.HTML object>"
      ]
     },
     "metadata": {},
     "output_type": "display_data"
    },
    {
     "data": {
      "text/html": [
       "<p style='color:#ada;'>saving historic tohlcv data to json</p>"
      ],
      "text/plain": [
       "<IPython.core.display.HTML object>"
      ]
     },
     "metadata": {},
     "output_type": "display_data"
    },
    {
     "name": "stdout",
     "output_type": "stream",
     "text": [
      "{'tps': [[1730853900000, 570.89, 571.39, 570.89, 571.33, 97.1], [1730862180000, 583.08, 584.4, 583.06, 584.4, 83.22], [1730939400000, 595.42, 595.99, 594.98, 595.75, 24.4]], 'entry_reached': [[1730752200000, 551.94, 552.23, 551.94, 552.02, 69.66], [1730757120000, 544.06, 544.06, 542.87, 543.46, 253.3]], 'stop_loss_reached': None, 'break_reason': None}\n"
     ]
    },
    {
     "data": {
      "text/html": [
       "<p style='color:#0f0;'>********************************************************************************************************************</p>"
      ],
      "text/plain": [
       "<IPython.core.display.HTML object>"
      ]
     },
     "metadata": {},
     "output_type": "display_data"
    },
    {
     "name": "stdout",
     "output_type": "stream",
     "text": [
      "AVAX/USDT:USDT SHORT\n"
     ]
    },
    {
     "data": {
      "text/html": [
       "<p style='color:#c01;'>json, 1730838600000</p>"
      ],
      "text/plain": [
       "<IPython.core.display.HTML object>"
      ]
     },
     "metadata": {},
     "output_type": "display_data"
    },
    {
     "data": {
      "text/html": [
       "<p style='color:#ada;'>saving historic tohlcv data to json</p>"
      ],
      "text/plain": [
       "<IPython.core.display.HTML object>"
      ]
     },
     "metadata": {},
     "output_type": "display_data"
    },
    {
     "name": "stdout",
     "output_type": "stream",
     "text": [
      "{'tps': [[1730734920000, 23.171, 23.178, 23.123, 23.123, 3317.0], [1730755260000, 22.816, 22.817, 22.739, 22.744, 2473.0], [1730757120000, 22.395, 22.399, 22.322, 22.349, 2683.0]], 'entry_reached': [[1730715300000, 23.559, 23.605, 23.552, 23.604, 1939.0]], 'stop_loss_reached': None, 'break_reason': None}\n"
     ]
    },
    {
     "data": {
      "text/html": [
       "<p style='color:#0f0;'>********************************************************************************************************************</p>"
      ],
      "text/plain": [
       "<IPython.core.display.HTML object>"
      ]
     },
     "metadata": {},
     "output_type": "display_data"
    },
    {
     "name": "stdout",
     "output_type": "stream",
     "text": [
      "LQTY/USDT:USDT SHORT\n"
     ]
    },
    {
     "data": {
      "text/html": [
       "<p style='color:#c01;'>json, 1730665800000</p>"
      ],
      "text/plain": [
       "<IPython.core.display.HTML object>"
      ]
     },
     "metadata": {},
     "output_type": "display_data"
    },
    {
     "data": {
      "text/html": [
       "<p style='color:#ada;'>saving historic tohlcv data to json</p>"
      ],
      "text/plain": [
       "<IPython.core.display.HTML object>"
      ]
     },
     "metadata": {},
     "output_type": "display_data"
    },
    {
     "name": "stdout",
     "output_type": "stream",
     "text": [
      "{'tps': [[1730723880000, 0.809, 0.8098, 0.8086, 0.8098, 4258.0], [1730731200000, 0.8014, 0.8017, 0.8005, 0.8017, 1828.0], [1730738460000, 0.7936, 0.7936, 0.7919, 0.7924, 3035.0]], 'entry_reached': [[1730722200000, 0.817, 0.8187, 0.817, 0.8185, 4976.0]], 'stop_loss_reached': None, 'break_reason': None}\n"
     ]
    },
    {
     "data": {
      "text/html": [
       "<p style='color:#0f0;'>********************************************************************************************************************</p>"
      ],
      "text/plain": [
       "<IPython.core.display.HTML object>"
      ]
     },
     "metadata": {},
     "output_type": "display_data"
    },
    {
     "name": "stdout",
     "output_type": "stream",
     "text": [
      "OP/USDT:USDT SHORT\n"
     ]
    },
    {
     "data": {
      "text/html": [
       "<p style='color:#c01;'>json, 1730925000000</p>"
      ],
      "text/plain": [
       "<IPython.core.display.HTML object>"
      ]
     },
     "metadata": {},
     "output_type": "display_data"
    },
    {
     "data": {
      "text/html": [
       "<p style='color:#ada;'>saving historic tohlcv data to json</p>"
      ],
      "text/plain": [
       "<IPython.core.display.HTML object>"
      ]
     },
     "metadata": {},
     "output_type": "display_data"
    },
    {
     "name": "stdout",
     "output_type": "stream",
     "text": [
      "{'tps': [], 'entry_reached': [[1730777340000, 1.3697, 1.3725, 1.3695, 1.3723, 299.6], [1730797320000, 1.392, 1.3946, 1.3918, 1.3939, 5813.9]], 'stop_loss_reached': [1730838600000, 1.4145, 1.4147, 1.4133, 1.4143, 2231.6], 'break_reason': None}\n"
     ]
    },
    {
     "data": {
      "text/html": [
       "<p style='color:#0f0;'>********************************************************************************************************************</p>"
      ],
      "text/plain": [
       "<IPython.core.display.HTML object>"
      ]
     },
     "metadata": {},
     "output_type": "display_data"
    },
    {
     "name": "stdout",
     "output_type": "stream",
     "text": [
      "BTC/USDT:USDT LONG\n"
     ]
    },
    {
     "data": {
      "text/html": [
       "<p style='color:#c01;'>json, 1731184200000</p>"
      ],
      "text/plain": [
       "<IPython.core.display.HTML object>"
      ]
     },
     "metadata": {},
     "output_type": "display_data"
    },
    {
     "name": "stdout",
     "output_type": "stream",
     "text": [
      "{'tps': [[1730781900000, 68434.5, 68489.6, 68434.5, 68489.6, 10.37], [1730797200000, 69036.8, 69100.0, 68793.8, 68952.7, 68.18], [1730817120000, 69507.0, 69786.2, 69507.0, 69779.6, 170.79]], 'entry_reached': [[1730752200000, 67667.0, 67682.4, 67640.9, 67669.7, 10.99], [1730755440000, 67426.0, 67430.6, 67056.2, 67182.0, 178.27]], 'stop_loss_reached': None, 'break_reason': None}\n"
     ]
    },
    {
     "data": {
      "text/html": [
       "<p style='color:#0f0;'>********************************************************************************************************************</p>"
      ],
      "text/plain": [
       "<IPython.core.display.HTML object>"
      ]
     },
     "metadata": {},
     "output_type": "display_data"
    },
    {
     "name": "stdout",
     "output_type": "stream",
     "text": [
      "LDO/USDT:USDT SHORT\n"
     ]
    },
    {
     "data": {
      "text/html": [
       "<p style='color:#c01;'>json, 1730752200000</p>"
      ],
      "text/plain": [
       "<IPython.core.display.HTML object>"
      ]
     },
     "metadata": {},
     "output_type": "display_data"
    },
    {
     "data": {
      "text/html": [
       "<p style='color:#ada;'>saving historic tohlcv data to json</p>"
      ],
      "text/plain": [
       "<IPython.core.display.HTML object>"
      ]
     },
     "metadata": {},
     "output_type": "display_data"
    },
    {
     "name": "stdout",
     "output_type": "stream",
     "text": [
      "{'tps': [], 'entry_reached': [[1730801520000, 0.959, 0.9598, 0.959, 0.9597, 7263.0], [1730818080000, 0.9823, 0.9853, 0.9821, 0.9853, 2551.0]], 'stop_loss_reached': [1730853300000, 0.9933, 0.9955, 0.9923, 0.9945, 3256.0], 'break_reason': None}\n"
     ]
    },
    {
     "data": {
      "text/html": [
       "<p style='color:#0f0;'>********************************************************************************************************************</p>"
      ],
      "text/plain": [
       "<IPython.core.display.HTML object>"
      ]
     },
     "metadata": {},
     "output_type": "display_data"
    },
    {
     "name": "stdout",
     "output_type": "stream",
     "text": [
      "NEAR/USDT:USDT LONG\n"
     ]
    },
    {
     "data": {
      "text/html": [
       "<p style='color:#c01;'>json, 1730752200000</p>"
      ],
      "text/plain": [
       "<IPython.core.display.HTML object>"
      ]
     },
     "metadata": {},
     "output_type": "display_data"
    },
    {
     "data": {
      "text/html": [
       "<p style='color:#ada;'>saving historic tohlcv data to json</p>"
      ],
      "text/plain": [
       "<IPython.core.display.HTML object>"
      ]
     },
     "metadata": {},
     "output_type": "display_data"
    },
    {
     "name": "stdout",
     "output_type": "stream",
     "text": [
      "{'tps': [[1730813400000, 3.7796, 3.7947, 3.7796, 3.7912, 4342.0], [1730817000000, 3.8414, 3.8485, 3.839, 3.8468, 4554.0], [1730817900000, 3.8952, 3.91, 3.8941, 3.9099, 3921.0]], 'entry_reached': [[1730809140000, 3.7257, 3.7257, 3.7211, 3.7212, 1880.0]], 'stop_loss_reached': None, 'break_reason': None}\n"
     ]
    },
    {
     "data": {
      "text/html": [
       "<p style='color:#0f0;'>********************************************************************************************************************</p>"
      ],
      "text/plain": [
       "<IPython.core.display.HTML object>"
      ]
     },
     "metadata": {},
     "output_type": "display_data"
    },
    {
     "name": "stdout",
     "output_type": "stream",
     "text": [
      "ICP/USDT:USDT LONG\n"
     ]
    },
    {
     "data": {
      "text/html": [
       "<p style='color:#c01;'>json, 1730838600000</p>"
      ],
      "text/plain": [
       "<IPython.core.display.HTML object>"
      ]
     },
     "metadata": {},
     "output_type": "display_data"
    },
    {
     "data": {
      "text/html": [
       "<p style='color:#ada;'>saving historic tohlcv data to json</p>"
      ],
      "text/plain": [
       "<IPython.core.display.HTML object>"
      ]
     },
     "metadata": {},
     "output_type": "display_data"
    },
    {
     "name": "stdout",
     "output_type": "stream",
     "text": [
      "{'tps': [[1730893200000, 7.717, 7.72, 7.711, 7.713, 405.99], [1730930400000, 7.827, 7.86, 7.827, 7.86, 319.22], [1730933580000, 7.938, 7.976, 7.936, 7.974, 326.73]], 'entry_reached': [[1730886060000, 7.599, 7.601, 7.589, 7.589, 873.74]], 'stop_loss_reached': None, 'break_reason': None}\n"
     ]
    },
    {
     "data": {
      "text/html": [
       "<p style='color:#0f0;'>********************************************************************************************************************</p>"
      ],
      "text/plain": [
       "<IPython.core.display.HTML object>"
      ]
     },
     "metadata": {},
     "output_type": "display_data"
    },
    {
     "name": "stdout",
     "output_type": "stream",
     "text": [
      "DOGE/USDT:USDT LONG\n"
     ]
    },
    {
     "data": {
      "text/html": [
       "<p style='color:#c01;'>json, 1730925000000</p>"
      ],
      "text/plain": [
       "<IPython.core.display.HTML object>"
      ]
     },
     "metadata": {},
     "output_type": "display_data"
    },
    {
     "data": {
      "text/html": [
       "<p style='color:#ada;'>saving historic tohlcv data to json</p>"
      ],
      "text/plain": [
       "<IPython.core.display.HTML object>"
      ]
     },
     "metadata": {},
     "output_type": "display_data"
    },
    {
     "name": "stdout",
     "output_type": "stream",
     "text": [
      "{'tps': [[1730895000000, 0.20483, 0.20557, 0.2046, 0.20492, 1525827.0]], 'entry_reached': [[1730890200000, 0.20157, 0.20157, 0.20061, 0.20062, 2151010.0], [1730902560000, 0.19725, 0.19741, 0.19565, 0.19605, 2632489.0]], 'stop_loss_reached': [1730904960000, 0.19276, 0.19276, 0.19155, 0.19205, 3325467.0], 'break_reason': None}\n"
     ]
    },
    {
     "data": {
      "text/html": [
       "<p style='color:#0f0;'>********************************************************************************************************************</p>"
      ],
      "text/plain": [
       "<IPython.core.display.HTML object>"
      ]
     },
     "metadata": {},
     "output_type": "display_data"
    },
    {
     "name": "stdout",
     "output_type": "stream",
     "text": [
      "SEI/USDT:USDT LONG\n"
     ]
    },
    {
     "data": {
      "text/html": [
       "<p style='color:#c01;'>json, 1730838600000</p>"
      ],
      "text/plain": [
       "<IPython.core.display.HTML object>"
      ]
     },
     "metadata": {},
     "output_type": "display_data"
    },
    {
     "data": {
      "text/html": [
       "<p style='color:#ada;'>saving historic tohlcv data to json</p>"
      ],
      "text/plain": [
       "<IPython.core.display.HTML object>"
      ]
     },
     "metadata": {},
     "output_type": "display_data"
    },
    {
     "name": "stdout",
     "output_type": "stream",
     "text": [
      "{'tps': [[1730912280000, 0.3896, 0.3904, 0.3894, 0.3901, 19226.0], [1730915760000, 0.3932, 0.3943, 0.393, 0.3941, 20766.0], [1730917500000, 0.3978, 0.3987, 0.3978, 0.3985, 22565.0]], 'entry_reached': [[1730895840000, 0.3866, 0.3867, 0.3862, 0.3865, 5112.0], [1730904720000, 0.3816, 0.3823, 0.3809, 0.3819, 35415.0]], 'stop_loss_reached': None, 'break_reason': None}\n"
     ]
    },
    {
     "data": {
      "text/html": [
       "<p style='color:#0f0;'>********************************************************************************************************************</p>"
      ],
      "text/plain": [
       "<IPython.core.display.HTML object>"
      ]
     },
     "metadata": {},
     "output_type": "display_data"
    },
    {
     "name": "stdout",
     "output_type": "stream",
     "text": [
      "1000PEPE/USDT:USDT LONG\n"
     ]
    },
    {
     "data": {
      "text/html": [
       "<p style='color:#c01;'>json, 1730925000000</p>"
      ],
      "text/plain": [
       "<IPython.core.display.HTML object>"
      ]
     },
     "metadata": {},
     "output_type": "display_data"
    },
    {
     "data": {
      "text/html": [
       "<p style='color:#ada;'>saving historic tohlcv data to json</p>"
      ],
      "text/plain": [
       "<IPython.core.display.HTML object>"
      ]
     },
     "metadata": {},
     "output_type": "display_data"
    },
    {
     "name": "stdout",
     "output_type": "stream",
     "text": [
      "{'tps': [[1730968860000, 0.0103993, 0.0104062, 0.0103935, 0.0103941, 1356184.0], [1731009360000, 0.0105527, 0.0106065, 0.0105524, 0.0106059, 3607148.0], [1731013380000, 0.0107799, 0.010821, 0.0107654, 0.0108207, 5381151.0]], 'entry_reached': [[1730964060000, 0.0102274, 0.0102307, 0.0102086, 0.010226, 6381391.0]], 'stop_loss_reached': None, 'break_reason': None}\n"
     ]
    },
    {
     "data": {
      "text/html": [
       "<p style='color:#0f0;'>********************************************************************************************************************</p>"
      ],
      "text/plain": [
       "<IPython.core.display.HTML object>"
      ]
     },
     "metadata": {},
     "output_type": "display_data"
    },
    {
     "name": "stdout",
     "output_type": "stream",
     "text": [
      "TONCOIN/USDT:USDT LONG\n"
     ]
    },
    {
     "data": {
      "text/html": [
       "<p style='color:#c01;'>json, 1731184200000</p>"
      ],
      "text/plain": [
       "<IPython.core.display.HTML object>"
      ]
     },
     "metadata": {},
     "output_type": "display_data"
    },
    {
     "name": "stdout",
     "output_type": "stream",
     "text": [
      "{'tps': [[1730977080000, 4.873, 4.876, 4.871, 4.874, 1095.9], [1730995260000, 4.916, 4.924, 4.916, 4.923, 439.7], [1731013680000, 4.956, 4.97, 4.954, 4.964, 3446.6]], 'entry_reached': [[1730967360000, 4.822, 4.828, 4.821, 4.826, 703.0]], 'stop_loss_reached': None, 'break_reason': None}\n"
     ]
    },
    {
     "data": {
      "text/html": [
       "<p style='color:#0f0;'>********************************************************************************************************************</p>"
      ],
      "text/plain": [
       "<IPython.core.display.HTML object>"
      ]
     },
     "metadata": {},
     "output_type": "display_data"
    },
    {
     "name": "stdout",
     "output_type": "stream",
     "text": [
      "NEIROCTO/USDT:USDT SHORT\n"
     ]
    },
    {
     "data": {
      "text/html": [
       "<p style='color:#c01;'>json, 1731011400000</p>"
      ],
      "text/plain": [
       "<IPython.core.display.HTML object>"
      ]
     },
     "metadata": {},
     "output_type": "display_data"
    },
    {
     "data": {
      "text/html": [
       "<p style='color:#ada;'>saving historic tohlcv data to json</p>"
      ],
      "text/plain": [
       "<IPython.core.display.HTML object>"
      ]
     },
     "metadata": {},
     "output_type": "display_data"
    },
    {
     "name": "stdout",
     "output_type": "stream",
     "text": [
      "{'tps': [[1731077040000, 0.0023591, 0.0023655, 0.00234, 0.002353, 11598351.0], [1731078420000, 0.0022868, 0.00229, 0.0022663, 0.0022704, 11609011.0], [1731083520000, 0.0022537, 0.0022548, 0.0022079, 0.0022137, 37651946.0]], 'entry_reached': [[1731069420000, 0.0023883, 0.0024005, 0.0023883, 0.0023979, 23005771.0]], 'stop_loss_reached': None, 'break_reason': None}\n"
     ]
    },
    {
     "data": {
      "text/html": [
       "<p style='color:#0f0;'>********************************************************************************************************************</p>"
      ],
      "text/plain": [
       "<IPython.core.display.HTML object>"
      ]
     },
     "metadata": {},
     "output_type": "display_data"
    },
    {
     "name": "stdout",
     "output_type": "stream",
     "text": [
      "TONCOIN/USDT:USDT SHORT\n"
     ]
    },
    {
     "data": {
      "text/html": [
       "<p style='color:#c01;'>json, 1731184200000</p>"
      ],
      "text/plain": [
       "<IPython.core.display.HTML object>"
      ]
     },
     "metadata": {},
     "output_type": "display_data"
    },
    {
     "name": "stdout",
     "output_type": "stream",
     "text": [
      "{'tps': [[1731053820000, 4.844, 4.844, 4.832, 4.834, 1509.9]], 'entry_reached': [[1731047700000, 4.878, 4.882, 4.876, 4.882, 224.4], [1731068940000, 4.923, 4.94, 4.923, 4.938, 991.1]], 'stop_loss_reached': [1731081780000, 4.97, 4.976, 4.968, 4.973, 1014.3], 'break_reason': None}\n"
     ]
    },
    {
     "data": {
      "text/html": [
       "<p style='color:#0f0;'>********************************************************************************************************************</p>"
      ],
      "text/plain": [
       "<IPython.core.display.HTML object>"
      ]
     },
     "metadata": {},
     "output_type": "display_data"
    },
    {
     "name": "stdout",
     "output_type": "stream",
     "text": [
      "1000PEPE/USDT:USDT SHORT\n"
     ]
    },
    {
     "data": {
      "text/html": [
       "<p style='color:#c01;'>json, 1731184200000</p>"
      ],
      "text/plain": [
       "<IPython.core.display.HTML object>"
      ]
     },
     "metadata": {},
     "output_type": "display_data"
    },
    {
     "name": "stdout",
     "output_type": "stream",
     "text": [
      "{'tps': [[1731085680000, 0.010385, 0.0103858, 0.0103409, 0.0103417, 14954809.0]], 'entry_reached': [[1731050280000, 0.0107163, 0.0107409, 0.0107124, 0.0107181, 574727.0], [1731143700000, 0.0111892, 0.01135, 0.011188, 0.0113473, 4592622.0]], 'stop_loss_reached': None, 'break_reason': None}\n"
     ]
    },
    {
     "data": {
      "text/html": [
       "<p style='color:#0f0;'>********************************************************************************************************************</p>"
      ],
      "text/plain": [
       "<IPython.core.display.HTML object>"
      ]
     },
     "metadata": {},
     "output_type": "display_data"
    },
    {
     "name": "stdout",
     "output_type": "stream",
     "text": [
      "JUP/USDT:USDT SHORT\n"
     ]
    },
    {
     "data": {
      "text/html": [
       "<p style='color:#c01;'>json, 1731184200000</p>"
      ],
      "text/plain": [
       "<IPython.core.display.HTML object>"
      ]
     },
     "metadata": {},
     "output_type": "display_data"
    },
    {
     "name": "stdout",
     "output_type": "stream",
     "text": [
      "{'tps': [], 'entry_reached': [[1731052860000, 1.0988, 1.099, 1.0947, 1.0961, 10024.74], [1731052920000, 1.0961, 1.0964, 1.0941, 1.0943, 16574.44]], 'stop_loss_reached': [1731052980000, 1.094, 1.0942, 1.0914, 1.0922, 10618.02], 'break_reason': None}\n"
     ]
    },
    {
     "data": {
      "text/html": [
       "<p style='color:#0f0;'>********************************************************************************************************************</p>"
      ],
      "text/plain": [
       "<IPython.core.display.HTML object>"
      ]
     },
     "metadata": {},
     "output_type": "display_data"
    },
    {
     "name": "stdout",
     "output_type": "stream",
     "text": [
      "BTC/USDT:USDT LONG\n"
     ]
    },
    {
     "data": {
      "text/html": [
       "<p style='color:#c01;'>json, 1731184200000</p>"
      ],
      "text/plain": [
       "<IPython.core.display.HTML object>"
      ]
     },
     "metadata": {},
     "output_type": "display_data"
    },
    {
     "name": "stdout",
     "output_type": "stream",
     "text": [
      "{'tps': [[1731090780000, 76566.5, 76712.2, 76550.0, 76684.5, 47.27], [1731094920000, 77065.0, 77187.5, 77041.3, 77055.5, 118.48]], 'entry_reached': [[1731063660000, 76270.8, 76315.2, 76236.6, 76240.4, 18.14], [1731077040000, 75881.5, 75882.8, 75683.0, 75716.1, 117.45]], 'stop_loss_reached': None, 'break_reason': None}\n"
     ]
    },
    {
     "data": {
      "text/html": [
       "<p style='color:#0f0;'>********************************************************************************************************************</p>"
      ],
      "text/plain": [
       "<IPython.core.display.HTML object>"
      ]
     },
     "metadata": {},
     "output_type": "display_data"
    },
    {
     "name": "stdout",
     "output_type": "stream",
     "text": [
      "BTC/USDT:USDT LONG\n"
     ]
    },
    {
     "data": {
      "text/html": [
       "<p style='color:#c01;'>json, 1731184200000</p>"
      ],
      "text/plain": [
       "<IPython.core.display.HTML object>"
      ]
     },
     "metadata": {},
     "output_type": "display_data"
    },
    {
     "name": "stdout",
     "output_type": "stream",
     "text": [
      "{'tps': [[1731090780000, 76566.5, 76712.2, 76550.0, 76684.5, 47.27], [1731094920000, 77065.0, 77187.5, 77041.3, 77055.5, 118.48]], 'entry_reached': [[1731063660000, 76270.8, 76315.2, 76236.6, 76240.4, 18.14], [1731077040000, 75881.5, 75882.8, 75683.0, 75716.1, 117.45]], 'stop_loss_reached': None, 'break_reason': None}\n"
     ]
    },
    {
     "data": {
      "text/html": [
       "<p style='color:#0f0;'>********************************************************************************************************************</p>"
      ],
      "text/plain": [
       "<IPython.core.display.HTML object>"
      ]
     },
     "metadata": {},
     "output_type": "display_data"
    },
    {
     "name": "stdout",
     "output_type": "stream",
     "text": [
      "SCR/USDT:USDT SHORT\n"
     ]
    },
    {
     "data": {
      "text/html": [
       "<p style='color:#c01;'>json, 1731011400000</p>"
      ],
      "text/plain": [
       "<IPython.core.display.HTML object>"
      ]
     },
     "metadata": {},
     "output_type": "display_data"
    },
    {
     "data": {
      "text/html": [
       "<p style='color:#ada;'>saving historic tohlcv data to json</p>"
      ],
      "text/plain": [
       "<IPython.core.display.HTML object>"
      ]
     },
     "metadata": {},
     "output_type": "display_data"
    },
    {
     "name": "stdout",
     "output_type": "stream",
     "text": [
      "{'tps': [[1731069660000, 0.682, 0.682, 0.681, 0.681, 3084.66], [1731076680000, 0.678, 0.678, 0.674, 0.674, 11280.5], [1731077040000, 0.672, 0.672, 0.668, 0.668, 7487.02]], 'entry_reached': [[1731069300000, 0.684, 0.687, 0.684, 0.685, 3950.18]], 'stop_loss_reached': None, 'break_reason': None}\n"
     ]
    },
    {
     "data": {
      "text/html": [
       "<p style='color:#0f0;'>********************************************************************************************************************</p>"
      ],
      "text/plain": [
       "<IPython.core.display.HTML object>"
      ]
     },
     "metadata": {},
     "output_type": "display_data"
    },
    {
     "name": "stdout",
     "output_type": "stream",
     "text": [
      "BCH/USDT:USDT LONG\n"
     ]
    },
    {
     "data": {
      "text/html": [
       "<p style='color:#c01;'>json, 1731184200000</p>"
      ],
      "text/plain": [
       "<IPython.core.display.HTML object>"
      ]
     },
     "metadata": {},
     "output_type": "display_data"
    },
    {
     "name": "stdout",
     "output_type": "stream",
     "text": [
      "{'tps': [], 'entry_reached': [[1731134220000, 375.37, 375.39, 374.71, 374.78, 55.18], [1731136440000, 374.78, 374.78, 370.52, 371.74, 145.4]], 'stop_loss_reached': None, 'break_reason': None}\n"
     ]
    },
    {
     "data": {
      "text/html": [
       "<p style='color:#0f0;'>********************************************************************************************************************</p>"
      ],
      "text/plain": [
       "<IPython.core.display.HTML object>"
      ]
     },
     "metadata": {},
     "output_type": "display_data"
    },
    {
     "name": "stdout",
     "output_type": "stream",
     "text": [
      "TAO/USDT:USDT LONG\n"
     ]
    },
    {
     "data": {
      "text/html": [
       "<p style='color:#c01;'>json, 1731097800000</p>"
      ],
      "text/plain": [
       "<IPython.core.display.HTML object>"
      ]
     },
     "metadata": {},
     "output_type": "display_data"
    },
    {
     "data": {
      "text/html": [
       "<p style='color:#ada;'>saving historic tohlcv data to json</p>"
      ],
      "text/plain": [
       "<IPython.core.display.HTML object>"
      ]
     },
     "metadata": {},
     "output_type": "display_data"
    },
    {
     "name": "stdout",
     "output_type": "stream",
     "text": [
      "{'tps': [[1731142800000, 515.57, 516.23, 515.34, 516.19, 15.36], [1731143760000, 520.43, 520.91, 519.13, 520.82, 27.49]], 'entry_reached': [[1731142260000, 511.18, 511.38, 510.72, 511.38, 0.06]], 'stop_loss_reached': None, 'break_reason': None}\n"
     ]
    },
    {
     "data": {
      "text/html": [
       "<p style='color:#0f0;'>********************************************************************************************************************</p>"
      ],
      "text/plain": [
       "<IPython.core.display.HTML object>"
      ]
     },
     "metadata": {},
     "output_type": "display_data"
    },
    {
     "name": "stdout",
     "output_type": "stream",
     "text": [
      "SCR/USDT:USDT SHORT\n"
     ]
    },
    {
     "data": {
      "text/html": [
       "<p style='color:#c01;'>json, 1731184200000</p>"
      ],
      "text/plain": [
       "<IPython.core.display.HTML object>"
      ]
     },
     "metadata": {},
     "output_type": "display_data"
    },
    {
     "name": "stdout",
     "output_type": "stream",
     "text": [
      "{'tps': [[1731148140000, 0.754, 0.756, 0.752, 0.753, 16522.72]], 'entry_reached': [[1731146760000, 0.752, 0.767, 0.752, 0.765, 11785.93]], 'stop_loss_reached': None, 'break_reason': None}\n"
     ]
    },
    {
     "data": {
      "text/html": [
       "<p style='color:#0f0;'>********************************************************************************************************************</p>"
      ],
      "text/plain": [
       "<IPython.core.display.HTML object>"
      ]
     },
     "metadata": {},
     "output_type": "display_data"
    },
    {
     "data": {
      "text/plain": [
       "True"
      ]
     },
     "execution_count": 3,
     "metadata": {},
     "output_type": "execute_result"
    }
   ],
   "source": [
    "\n",
    "# اول فروردین = 2024/3/20\n",
    "# end_date = datetime(2024, 3, 20, tzinfo=timezone.utc)\n",
    "# اول خرداد = 2024/5/21\n",
    "# end_date = datetime(2024, 5, 21, tzinfo=timezone.utc)\n",
    "# start_date = datetime(2024, 5, 29, tzinfo=timezone.utc)\n",
    "# اول تیر = 2024/6/21\n",
    "# start_date = datetime(2024, 6, 21, tzinfo=timezone.utc)\n",
    "# end_date = datetime(2024, 9, 7, tzinfo=timezone.utc)\n",
    "\n",
    "\n",
    "# 1709889120000 1709975340000\n",
    "# offset_date = int(convertDateToMilliTimeStamp(year=2024, month=4, day=30, hour=0, minute=0))/1000\n",
    "\n",
    "await rastad.FindStatistic(year=2024, month=10, day=1, \n",
    "                        # offset_date=offset_date\n",
    "                        )\n",
    "    "
   ]
  }
 ],
 "metadata": {
  "kernelspec": {
   "display_name": ".venv",
   "language": "python",
   "name": "python3"
  },
  "language_info": {
   "codemirror_mode": {
    "name": "ipython",
    "version": 3
   },
   "file_extension": ".py",
   "mimetype": "text/x-python",
   "name": "python",
   "nbconvert_exporter": "python",
   "pygments_lexer": "ipython3",
   "version": "3.12.6"
  }
 },
 "nbformat": 4,
 "nbformat_minor": 2
}
