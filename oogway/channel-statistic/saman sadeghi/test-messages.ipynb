{
 "cells": [
  {
   "cell_type": "code",
   "execution_count": 1,
   "metadata": {},
   "outputs": [],
   "source": [
    "import django\n",
    "import os\n",
    "import sys\n",
    "import shutil\n",
    "\n",
    "path='../../'\n",
    "\n",
    "source_file_path = f'{path}.env'\n",
    "\n",
    "destination_file_path = '.'\n",
    "\n",
    "shutil.copy(source_file_path, destination_file_path)\n",
    "\n",
    "from dotenv import dotenv_values\n",
    "\n",
    "_config = dotenv_values(\".env\")\n",
    "_username = _config[\"username\"]\n",
    "\n",
    "session_file_path = f'{path}{_username}.session'\n",
    "\n",
    "shutil.copy(session_file_path, destination_file_path)\n",
    "\n",
    "\n",
    "project_path = path  # Adjust this to your actual project path\n",
    "sys.path.append(project_path)\n",
    "os.environ.setdefault('DJANGO_SETTINGS_MODULE', 'oogway.settings')\n",
    "django.setup()\n"
   ]
  },
  {
   "cell_type": "code",
   "execution_count": 2,
   "metadata": {},
   "outputs": [],
   "source": [
    "import django\n",
    "import os\n",
    "import sys\n",
    "project_path = '../../'  \n",
    "sys.path.append(project_path)\n",
    "os.environ.setdefault('DJANGO_SETTINGS_MODULE', 'oogway.settings')\n",
    "django.setup()"
   ]
  },
  {
   "cell_type": "code",
   "execution_count": 3,
   "metadata": {},
   "outputs": [],
   "source": [
    "from Channels.SamanSadeghiChannel import SamanSadeghiChannel\n",
    "from Shared.helpers import print_colored, returnSearchValue\n",
    "import re"
   ]
  },
  {
   "cell_type": "markdown",
   "metadata": {},
   "source": [
    "## Testing Types of Messages in This Channel"
   ]
  },
  {
   "cell_type": "code",
   "execution_count": 4,
   "metadata": {},
   "outputs": [
    {
     "name": "stdout",
     "output_type": "stream",
     "text": [
      "isPredict: True\n",
      "symbol: GALA/USDT:USDT\n",
      "market: FUTURES\n",
      "position: LONG\n",
      "marginMode: ISOLATED\n",
      "leverage: 18\n",
      "stopLoss: 0.0578\n",
      "entries: [0.0583]\n",
      "profits: [0.0586, 0.0588, 0.0611, 0.063]\n"
     ]
    },
    {
     "data": {
      "text/html": [
       "<p style='color:#0ff;'>number: 1 res: (True, '')</p>"
      ],
      "text/plain": [
       "<IPython.core.display.HTML object>"
      ]
     },
     "metadata": {},
     "output_type": "display_data"
    },
    {
     "name": "stdout",
     "output_type": "stream",
     "text": [
      "****************************************************************\n",
      "\n",
      "\n"
     ]
    }
   ],
   "source": [
    "msg1 = '#Crypto\\n\\nGala/USDT\\n\\n🔵 Buy 🔵\\n\\n🔰 Entry : 0.0583 \\n\\n🔁 lev : 18x\\n\\n❌ Sl : 0.0578\\n\\n✅ Tp : 0.0586_0.0588_0.0611_0.0630\\n\\n\\n#signal272'\n",
    "\n",
    "saman = SamanSadeghiChannel()\n",
    "saman.findTakeProfits(msg=msg1)\n",
    "\n",
    "\n",
    "\n",
    "messages = [msg1]\n",
    "\n",
    "\n",
    "for i, msgTest in enumerate(messages):\n",
    "    res = await saman.test(msg=msgTest, showPrint=True)\n",
    "    print_colored(f'number: {i+1} res: {res}', \"#0ff\" if res[0] else \"#f00f00fc\" )\n",
    "    print(\"****************************************************************\\n\\n\")\n",
    "\n"
   ]
  }
 ],
 "metadata": {
  "kernelspec": {
   "display_name": ".venv",
   "language": "python",
   "name": "python3"
  },
  "language_info": {
   "codemirror_mode": {
    "name": "ipython",
    "version": 3
   },
   "file_extension": ".py",
   "mimetype": "text/x-python",
   "name": "python",
   "nbconvert_exporter": "python",
   "pygments_lexer": "ipython3",
   "version": "3.12.6"
  }
 },
 "nbformat": 4,
 "nbformat_minor": 2
}
