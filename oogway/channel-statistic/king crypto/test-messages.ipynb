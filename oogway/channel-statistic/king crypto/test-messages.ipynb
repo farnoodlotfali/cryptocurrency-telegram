{
 "cells": [
  {
   "cell_type": "code",
   "execution_count": 1,
   "metadata": {},
   "outputs": [],
   "source": [
    "import django\n",
    "import os\n",
    "import sys\n",
    "import shutil\n",
    "\n",
    "path='../../'\n",
    "\n",
    "source_file_path = f'{path}.env'\n",
    "\n",
    "destination_file_path = '.'\n",
    "\n",
    "shutil.copy(source_file_path, destination_file_path)\n",
    "\n",
    "from dotenv import dotenv_values\n",
    "\n",
    "_config = dotenv_values(\".env\")\n",
    "_username = _config[\"username\"]\n",
    "\n",
    "session_file_path = f'{path}{_username}.session'\n",
    "\n",
    "shutil.copy(session_file_path, destination_file_path)\n",
    "\n",
    "\n",
    "project_path = path  # Adjust this to your actual project path\n",
    "sys.path.append(project_path)\n",
    "os.environ.setdefault('DJANGO_SETTINGS_MODULE', 'oogway.settings')\n",
    "django.setup()\n"
   ]
  },
  {
   "cell_type": "code",
   "execution_count": 2,
   "metadata": {},
   "outputs": [],
   "source": [
    "from abc import ABC, abstractmethod\n",
    "from typing import Optional\n",
    "from telethon.tl.functions.messages import GetHistoryRequest\n",
    "from telethon.sync import TelegramClient\n",
    "from dotenv import dotenv_values\n",
    "from telethon.tl.types import Message, PeerChannel\n",
    "from datetime import datetime, timezone\n",
    "from tqdm import tqdm\n",
    "from django.forms.models import model_to_dict\n",
    "from PostAnalyzer.models import (\n",
    "    Market,\n",
    "    Post,\n",
    "    Predict,\n",
    "    Symbol,\n",
    "    PositionSide,\n",
    "    MarginMode,\n",
    "    SettingConfig,\n",
    "    Channel\n",
    ")\n",
    "from Shared.findError import findError\n",
    "from Shared.errorSaver import errorSaver\n",
    "from Shared.helpers import print_colored, find_nearest_number_for_coienex_leverage, convertToJsonFile\n",
    "from Shared.Constant import PositionSideValues, MarketValues, MAX_PROFIT_VALUE, OrderSide, OrderType, MarginModeValues\n",
    "import time\n",
    "from Shared.Exchange import exchange"
   ]
  },
  {
   "cell_type": "code",
   "execution_count": 3,
   "metadata": {},
   "outputs": [],
   "source": [
    "_config = dotenv_values(\".env\")\n",
    "\n",
    "_api_id = _config[\"api_id\"]\n",
    "_api_hash = _config[\"api_hash\"]\n",
    "_username = _config[\"username\"]"
   ]
  },
  {
   "cell_type": "code",
   "execution_count": 4,
   "metadata": {},
   "outputs": [],
   "source": [
    "# client: TelegramClient = await TelegramClient(_username, _api_id, _api_hash).start()\n",
    "# peer_channel =  PeerChannel(2101974116)\n",
    "# telegram_channel = await client.get_entity(peer_channel)\n",
    "\n",
    "# offset_id = 0\n",
    "# limit = 100\n",
    "# all_messages: list[Message] = []\n",
    "# total_messages = 0\n",
    "# total_count_limit = 0\n",
    "\n",
    "# end_date = datetime(2024, 12, 7, tzinfo=timezone.utc)\n",
    "\n",
    "# shouldStop = False\n",
    "# while not shouldStop:\n",
    "#     print(\"Current Offset ID is:\", offset_id, \"; Total Messages:\", total_messages)\n",
    "#     history = await client(\n",
    "#     GetHistoryRequest(\n",
    "#             peer=telegram_channel,\n",
    "#             offset_id=offset_id,\n",
    "#             # timestamp not milli timestamp\n",
    "#             offset_date=None,\n",
    "#             add_offset=0,\n",
    "#             limit=limit,\n",
    "#             max_id=0,\n",
    "#             min_id=0,\n",
    "#             hash=0,\n",
    "#         )\n",
    "#     )\n",
    "\n",
    "#     if not history.messages:\n",
    "#         break\n",
    "\n",
    "#     messages: list[Message] = history.messages\n",
    "#     for message in tqdm(messages):\n",
    "#         message_date = message.date.replace(tzinfo=timezone.utc)\n",
    "#         # if start_date < message_date:\n",
    "#         #     continue\n",
    "\n",
    "#         if message_date < end_date:\n",
    "#             shouldStop = True\n",
    "#             break\n",
    "#         all_messages.append(message.to_dict())\n",
    "\n",
    "#     offset_id = messages[len(messages) - 1].id\n",
    "#     total_messages = len(all_messages)\n",
    "#     # if total_count_limit != 0 and total_messages >= total_count_limit:\n",
    "#     #     break\n",
    "\n",
    "# await client.disconnect()\n",
    "\n",
    "# convertToJsonFile(all_messages, 'aaa', '.')\n",
    "\n"
   ]
  },
  {
   "cell_type": "code",
   "execution_count": 5,
   "metadata": {},
   "outputs": [],
   "source": [
    "from Channels.KingCryptoChannel import KingCryptoChannel\n",
    "from Shared.helpers import print_colored, returnSearchValue\n",
    "import re\n",
    "\n",
    "\n",
    "king = KingCryptoChannel()"
   ]
  },
  {
   "cell_type": "code",
   "execution_count": 6,
   "metadata": {},
   "outputs": [
    {
     "data": {
      "text/plain": [
       "['market', 234.4]"
      ]
     },
     "execution_count": 6,
     "metadata": {},
     "output_type": "execute_result"
    }
   ],
   "source": [
    "msg =  \"💎BRETT/USDT \\n🔴SHORT\\n\\n➡️Entry1: 0.21806\\n➡️Entry2: 0.22138\\n\\n\\n⛳️Targets : \\n\\n⛳️Target 1 : 0.21456\\n⛳️Target 2 : 0.21238\\n⛳️Target 3 : 0.20974\\n\\n🚫 Stop : 0.22534\\n\\n📊LV : 12X\\n\\n‼️3%  of wallet future\\n#_کینگ‌کریپتو\\n\\nVipbaz1\"\n",
    "msg1 = \"💎#CHR/USDT \\n🟢LONG\\n\\n➡️ Entry1: Market\\n➡️ Entry2: 0.336\\n\\n⛳️Target :0.348_0.353_0.362\\n\\n\\n🚫 Stop :0.332\\n\\n📊LV : 15x\\n\\n‼️3% of wallet future\\n#_کینگ‌کریپتو\"\n",
    "msg2 =  \"🔼DOGE/USDT \\n🟢LONG\\n\\n➡️Entry1: 0.16461\\n➡️Entry2: 0.16203\\n\\n\\n⛳️Targets : \\n\\n⛳️Target 1 : 0.16685\\n⛳️Target 2 : 0.16838\\n⛳️Target 3 : 0.17028\\n\\n🚫 Stop : 0.16076\\n\\n📊LV : 15X\\n\\n‼️3%  of wallet future\\n#_کینگ‌کریپتو\\n\\nVipbaz1\"\n",
    "msg3 = \"🔼#Btc/USDT \\n🟢LONG\\n\\n➡️Entry1: Market\\n➡️Entry2: 60532\\n\\n\\n⛳️Targets : \\n\\n⛳️Target 1 : 62508\\n⛳️Target 2 : 63610\\n⛳️Target 3 : 65033\\n\\n🚫 Stop : 59201\\n\\n📊LV : 15X\"  \n",
    "msg4 = \"🔼#Gala/USDT \\n\\n🟢LONG\\n\\n➡️Entry1: Market\\n➡️Entry2: 0.02601\\n\\n\\n⛳️Targets : \\n\\n⛳️Target 1 : 0.02758\\n⛳️Target 2 : 0.02800\\n⛳️Target 3 : 0.02853\\n⛳️Target 4 : 0.02953\\n⛳️Target 5 : 0.03074\\n\\n🚫 Stop : 0.02513\\n\\n📊LV : 8X\\n\\n‼️5% of wallet future\"\n",
    "msg5 = \"🔼#Crv/USDT \\n🟢LONG\\n\\n➡️Entry1: Market\\n➡️Entry2: \\n\\n\\n⛳️Targets : \\n\\n⛳️Target 1 : 1.221\\n⛳️Target 2 : 1.245\\n⛳️Target 3 : 1.274\\n\\n🚫 Stop : 1.145\\n\\n📊LV : 9X\\n\\n‼️3%  of wallet future\\n#_کینگ‌کریپتو\"\n",
    "msg6 = \"🔼#SOL/USDT 🟢LONG ➡️ Entry1: Market ➡️ Entry2: 234.4 ⛳️Target :242.8_246.9_253.1 🚫 Stop :232.7 📊LV : 15x ‼️3% of wallet future #_کینگ‌کریپتو\"\n",
    "\n",
    "king.findEntryTargets(msg=msg6)\n",
    "# await rastad.test(msg=msg5, showPrint=True)\n",
    "\n",
    "\n",
    "# messages = [msg, msg1, msg2, msg3, msg4, msg5, msg6]\n",
    "\n",
    "# for i, msgTest in enumerate(messages):\n",
    "#     res = await king.test(msg=msgTest, showPrint=True)\n",
    "#     print_colored(f'number: {i+1} res: {res}', \"#0ff\" if res[0] else \"#f00f00fc\" )\n",
    "#     print(\"****************************************************************\\n\\n\")\n",
    "\n"
   ]
  },
  {
   "cell_type": "code",
   "execution_count": 7,
   "metadata": {},
   "outputs": [
    {
     "name": "stdout",
     "output_type": "stream",
     "text": [
      "[[1733643120000, 1.1812, 1.1812, 1.1762, 1.1772, 55614.0]]\n"
     ]
    },
    {
     "data": {
      "text/plain": [
       "[1.1762, 1.65]"
      ]
     },
     "execution_count": 7,
     "metadata": {},
     "output_type": "execute_result"
    }
   ],
   "source": [
    "from Shared.updateEntryInMarketValue import updateEntryInMarketValue\n",
    "\n",
    "await updateEntryInMarketValue(symbolName='CRV/USDT:USDT', entry_price=['market', 1.65], start_timestamp=1733643120000)"
   ]
  },
  {
   "cell_type": "code",
   "execution_count": 8,
   "metadata": {},
   "outputs": [
    {
     "data": {
      "text/plain": [
       "{'tps': [[1733663100000, 1.2032, 1.2212, 1.2012, 1.2202, 408222.0],\n",
       "  [1733667540000, 1.2392, 1.2502, 1.2392, 1.2472, 164190.0]],\n",
       " 'entry_reached': [[1733643120000, 1.1812, 1.1812, 1.1762, 1.1772, 55614.0]],\n",
       " 'stop_loss_reached': [1733709900000, 1.1471, 1.1471, 1.1441, 1.1441, 56377.0],\n",
       " 'break_reason': None}"
      ]
     },
     "execution_count": 8,
     "metadata": {},
     "output_type": "execute_result"
    }
   ],
   "source": [
    "from Shared.findLongOrderStat import findLongOrderStat\n",
    "\n",
    "await findLongOrderStat(symbolName='CRV/USDT:USDT', entry_price=[1.1762],  stop_loss=1.145, marketName=MarketValues.FUTURES, start_timestamp=1733643120000, max_day_wait=10, take_profit=[1.221, 1.245, 1.274] )"
   ]
  }
 ],
 "metadata": {
  "kernelspec": {
   "display_name": ".venv",
   "language": "python",
   "name": "python3"
  },
  "language_info": {
   "codemirror_mode": {
    "name": "ipython",
    "version": 3
   },
   "file_extension": ".py",
   "mimetype": "text/x-python",
   "name": "python",
   "nbconvert_exporter": "python",
   "pygments_lexer": "ipython3",
   "version": "3.12.6"
  }
 },
 "nbformat": 4,
 "nbformat_minor": 2
}
