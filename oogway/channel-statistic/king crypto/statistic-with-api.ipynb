{
 "cells": [
  {
   "cell_type": "code",
   "execution_count": 1,
   "metadata": {},
   "outputs": [],
   "source": [
    "import django\n",
    "import os\n",
    "import sys\n",
    "import shutil\n",
    "\n",
    "path='../../'\n",
    "\n",
    "source_file_path = f'{path}.env'\n",
    "\n",
    "destination_file_path = '.'\n",
    "\n",
    "shutil.copy(source_file_path, destination_file_path)\n",
    "\n",
    "from dotenv import dotenv_values\n",
    "\n",
    "_config = dotenv_values(\".env\")\n",
    "_username = _config[\"username\"]\n",
    "\n",
    "session_file_path = f'{path}{_username}.session'\n",
    "\n",
    "shutil.copy(session_file_path, destination_file_path)\n",
    "\n",
    "\n",
    "project_path = path  # Adjust this to your actual project path\n",
    "sys.path.append(project_path)\n",
    "os.environ.setdefault('DJANGO_SETTINGS_MODULE', 'oogway.settings')\n",
    "django.setup()\n"
   ]
  },
  {
   "cell_type": "code",
   "execution_count": 2,
   "metadata": {},
   "outputs": [],
   "source": [
    "import warnings\n",
    "from Channels.KingCryptoChannel import KingCryptoChannel\n",
    "from Shared.Exchange import exchange\n",
    "from Shared.helpers import convertDateToMilliTimeStamp, zero_hours_minutes_seconds\n",
    "from Shared.dataIO import load_historic_tohlcv_json\n",
    "from bisect import bisect_left\n",
    "\n",
    "king = KingCryptoChannel()\n",
    "\n",
    "\n",
    "# Disable all warnings\n",
    "warnings.filterwarnings(\"ignore\")"
   ]
  },
  {
   "cell_type": "markdown",
   "metadata": {},
   "source": [
    "## Get channel history"
   ]
  },
  {
   "cell_type": "code",
   "execution_count": 3,
   "metadata": {},
   "outputs": [
    {
     "name": "stdout",
     "output_type": "stream",
     "text": [
      "FTM/USDT:USDT LONG\n",
      "{'tps': [[1722514560000, 0.418, 0.4189, 0.418, 0.4188, 11043.0]], 'entry_reached': [[1722494700000, 0.4132, 0.4132, 0.4125, 0.4125, 19387.0], [1722522180000, 0.404, 0.404, 0.4023, 0.4031, 97837.0]], 'stop_loss_reached': [1722524460000, 0.3972, 0.3975, 0.3949, 0.3975, 391418.0], 'break_reason': None}\n"
     ]
    },
    {
     "data": {
      "text/html": [
       "<p style='color:#0f0;'>********************************************************************************************************************</p>"
      ],
      "text/plain": [
       "<IPython.core.display.HTML object>"
      ]
     },
     "metadata": {},
     "output_type": "display_data"
    },
    {
     "name": "stdout",
     "output_type": "stream",
     "text": [
      "SEI/USDT:USDT LONG\n",
      "{'tps': [], 'entry_reached': [[1722513540000, 0.3154, 0.3154, 0.3151, 0.3152, 2536.0], [1722522720000, 0.3083, 0.3084, 0.307, 0.3077, 90269.0]], 'stop_loss_reached': [1722524340000, 0.3035, 0.3036, 0.3025, 0.3026, 36567.0], 'break_reason': None}\n"
     ]
    },
    {
     "data": {
      "text/html": [
       "<p style='color:#0f0;'>********************************************************************************************************************</p>"
      ],
      "text/plain": [
       "<IPython.core.display.HTML object>"
      ]
     },
     "metadata": {},
     "output_type": "display_data"
    },
    {
     "name": "stdout",
     "output_type": "stream",
     "text": [
      "ICP/USDT:USDT LONG\n",
      "{'tps': [], 'entry_reached': [[1722518340000, 8.805, 8.807, 8.799, 8.807, 31766.0], [1722524460000, 8.61, 8.626, 8.561, 8.626, 704480.0]], 'stop_loss_reached': [1722535740000, 8.467, 8.477, 8.403, 8.412, 438723.0], 'break_reason': None}\n"
     ]
    },
    {
     "data": {
      "text/html": [
       "<p style='color:#0f0;'>********************************************************************************************************************</p>"
      ],
      "text/plain": [
       "<IPython.core.display.HTML object>"
      ]
     },
     "metadata": {},
     "output_type": "display_data"
    },
    {
     "name": "stdout",
     "output_type": "stream",
     "text": [
      "ACH/USDT:USDT LONG\n",
      "{'tps': [[1722953100000, 0.01781, 0.018088, 0.017807, 0.018053, 24512.0], [1722953160000, 0.018063, 0.018102, 0.017977, 0.018077, 9868.0], [1722953880000, 0.018296, 0.018484, 0.018296, 0.018454, 29680.0]], 'entry_reached': [[1722949560000, 0.017665, 0.017671, 0.017656, 0.017663, 405.0]], 'stop_loss_reached': None, 'break_reason': None}\n"
     ]
    },
    {
     "data": {
      "text/html": [
       "<p style='color:#0f0;'>********************************************************************************************************************</p>"
      ],
      "text/plain": [
       "<IPython.core.display.HTML object>"
      ]
     },
     "metadata": {},
     "output_type": "display_data"
    },
    {
     "name": "stdout",
     "output_type": "stream",
     "text": [
      "TON/USDT:USDT SHORT\n",
      "{'tps': [], 'entry_reached': [[1722951420000, 5.4858, 5.4939, 5.4812, 5.4867, 3049.0], [1722953100000, 5.5265, 5.5576, 5.5265, 5.5516, 7768.0]], 'stop_loss_reached': [1722953580000, 5.5786, 5.6066, 5.5786, 5.6028, 10111.0], 'break_reason': None}\n"
     ]
    },
    {
     "data": {
      "text/html": [
       "<p style='color:#0f0;'>********************************************************************************************************************</p>"
      ],
      "text/plain": [
       "<IPython.core.display.HTML object>"
      ]
     },
     "metadata": {},
     "output_type": "display_data"
    },
    {
     "name": "stdout",
     "output_type": "stream",
     "text": [
      "SOL/USDT:USDT SHORT\n",
      "{'tps': [[1723013940000, 151.76, 151.99, 151.62, 151.97, 61550.0], [1723040400000, 149.76, 149.98, 149.32, 149.39, 284676.0], [1723041360000, 147.94, 148.04, 147.18, 147.31, 369902.0]], 'entry_reached': [[1723009920000, 153.16, 153.45, 153.11, 153.14, 29978.0]], 'stop_loss_reached': None, 'break_reason': None}\n"
     ]
    },
    {
     "data": {
      "text/html": [
       "<p style='color:#0f0;'>********************************************************************************************************************</p>"
      ],
      "text/plain": [
       "<IPython.core.display.HTML object>"
      ]
     },
     "metadata": {},
     "output_type": "display_data"
    },
    {
     "name": "stdout",
     "output_type": "stream",
     "text": [
      "FTM/USDT:USDT SHORT\n",
      "{'tps': [[1723028520000, 0.319, 0.319, 0.3184, 0.3185, 40955.0], [1723030860000, 0.3148, 0.3149, 0.3139, 0.3141, 35405.0], [1723041360000, 0.3057, 0.3058, 0.3036, 0.3037, 244008.0]], 'entry_reached': [[1723022640000, 0.3216, 0.3219, 0.3212, 0.3213, 51510.0]], 'stop_loss_reached': None, 'break_reason': None}\n"
     ]
    },
    {
     "data": {
      "text/html": [
       "<p style='color:#0f0;'>********************************************************************************************************************</p>"
      ],
      "text/plain": [
       "<IPython.core.display.HTML object>"
      ]
     },
     "metadata": {},
     "output_type": "display_data"
    },
    {
     "name": "stdout",
     "output_type": "stream",
     "text": [
      "HIGH/USDT:USDT SHORT\n",
      "{'tps': [[1723028400000, 1.2728, 1.2751, 1.2721, 1.2736, 12973.0], [1723032780000, 1.2615, 1.2615, 1.257, 1.2574, 2774.0], [1723041120000, 1.2379, 1.2405, 1.2348, 1.2352, 3661.0]], 'entry_reached': [[1723024080000, 1.2882, 1.2889, 1.2867, 1.2878, 1252.0]], 'stop_loss_reached': None, 'break_reason': None}\n"
     ]
    },
    {
     "data": {
      "text/html": [
       "<p style='color:#0f0;'>********************************************************************************************************************</p>"
      ],
      "text/plain": [
       "<IPython.core.display.HTML object>"
      ]
     },
     "metadata": {},
     "output_type": "display_data"
    },
    {
     "name": "stdout",
     "output_type": "stream",
     "text": [
      "NEAR/USDT:USDT SHORT\n",
      "{'tps': [[1723123620000, 3.783, 3.783, 3.769, 3.771, 8350.0]], 'entry_reached': [[1723120260000, 3.818, 3.846, 3.813, 3.843, 22005.0], [1723120440000, 3.858, 3.875, 3.856, 3.874, 26932.0]], 'stop_loss_reached': [1723132440000, 3.899, 3.905, 3.897, 3.904, 5392.0], 'break_reason': None}\n"
     ]
    },
    {
     "data": {
      "text/html": [
       "<p style='color:#0f0;'>********************************************************************************************************************</p>"
      ],
      "text/plain": [
       "<IPython.core.display.HTML object>"
      ]
     },
     "metadata": {},
     "output_type": "display_data"
    },
    {
     "name": "stdout",
     "output_type": "stream",
     "text": [
      "BTC/USDT:USDT SHORT\n",
      "{'tps': [[1723038900000, 56794.4, 56810.0, 56690.1, 56730.0, 2366937.0], [1723040760000, 56332.5, 56332.6, 56150.1, 56174.0, 5121398.0], [1723041540000, 55804.3, 55804.3, 55666.8, 55688.1, 6118041.0]], 'entry_reached': [[1723033320000, 57180.0, 57184.4, 57067.6, 57067.6, 1642324.0]], 'stop_loss_reached': None, 'break_reason': None}\n"
     ]
    },
    {
     "data": {
      "text/html": [
       "<p style='color:#0f0;'>********************************************************************************************************************</p>"
      ],
      "text/plain": [
       "<IPython.core.display.HTML object>"
      ]
     },
     "metadata": {},
     "output_type": "display_data"
    },
    {
     "name": "stdout",
     "output_type": "stream",
     "text": [
      "GALA/USDT:USDT SHORT\n",
      "{'tps': [], 'entry_reached': [[1723093020000, 0.01687, 0.01688, 0.01687, 0.01687, 2578.0], [1723120260000, 0.01714, 0.01727, 0.01711, 0.01725, 226458.0]], 'stop_loss_reached': [1723120440000, 0.01739, 0.01749, 0.01738, 0.01746, 245255.0], 'break_reason': None}\n"
     ]
    },
    {
     "data": {
      "text/html": [
       "<p style='color:#0f0;'>********************************************************************************************************************</p>"
      ],
      "text/plain": [
       "<IPython.core.display.HTML object>"
      ]
     },
     "metadata": {},
     "output_type": "display_data"
    },
    {
     "name": "stdout",
     "output_type": "stream",
     "text": [
      "TON/USDT:USDT LONG\n",
      "{'tps': [], 'entry_reached': [[1723128780000, 6.328, 6.3289, 6.3131, 6.3132, 5333.0], [1723134420000, 6.2489, 6.252, 6.2366, 6.2366, 6836.0]], 'stop_loss_reached': [1723136640000, 6.2108, 6.211, 6.1863, 6.1968, 21525.0], 'break_reason': None}\n"
     ]
    },
    {
     "data": {
      "text/html": [
       "<p style='color:#0f0;'>********************************************************************************************************************</p>"
      ],
      "text/plain": [
       "<IPython.core.display.HTML object>"
      ]
     },
     "metadata": {},
     "output_type": "display_data"
    },
    {
     "name": "stdout",
     "output_type": "stream",
     "text": [
      "TON/USDT:USDT LONG\n",
      "{'tps': [[1723184640000, 6.4747, 6.4966, 6.4741, 6.4855, 16925.0], [1723212720000, 6.5976, 6.6072, 6.5928, 6.6072, 11325.0], [1723218180000, 6.7146, 6.7469, 6.7058, 6.7455, 36158.0]], 'entry_reached': [[1723183080000, 6.3576, 6.3598, 6.3541, 6.3541, 2431.0]], 'stop_loss_reached': None, 'break_reason': None}\n"
     ]
    },
    {
     "data": {
      "text/html": [
       "<p style='color:#0f0;'>********************************************************************************************************************</p>"
      ],
      "text/plain": [
       "<IPython.core.display.HTML object>"
      ]
     },
     "metadata": {},
     "output_type": "display_data"
    },
    {
     "name": "stdout",
     "output_type": "stream",
     "text": [
      "STORJ/USDT:USDT LONG\n",
      "{'tps': [[1723220460000, 0.3894, 0.3912, 0.3894, 0.3898, 13355.0], [1732566540000, 0.576, 0.5763, 0.5755, 0.5759, 996.0], [1732566600000, 0.5759, 0.5774, 0.5758, 0.5774, 1180.0]], 'entry_reached': [[1723185660000, 0.3856, 0.3859, 0.3853, 0.3859, 3828.0], [1723210500000, 0.3787, 0.3788, 0.3774, 0.3783, 28394.0]], 'stop_loss_reached': None, 'break_reason': None}\n"
     ]
    },
    {
     "data": {
      "text/html": [
       "<p style='color:#0f0;'>********************************************************************************************************************</p>"
      ],
      "text/plain": [
       "<IPython.core.display.HTML object>"
      ]
     },
     "metadata": {},
     "output_type": "display_data"
    },
    {
     "name": "stdout",
     "output_type": "stream",
     "text": [
      "SOL/USDT:USDT LONG\n",
      "{'tps': [], 'entry_reached': [[1723193520000, 159.22, 159.3, 159.18, 159.23, 12874.0]], 'stop_loss_reached': [1723210500000, 154.09, 154.09, 153.31, 153.72, 392418.0], 'break_reason': None}\n"
     ]
    },
    {
     "data": {
      "text/html": [
       "<p style='color:#0f0;'>********************************************************************************************************************</p>"
      ],
      "text/plain": [
       "<IPython.core.display.HTML object>"
      ]
     },
     "metadata": {},
     "output_type": "display_data"
    },
    {
     "name": "stdout",
     "output_type": "stream",
     "text": [
      "ARB/USDT:USDT LONG\n",
      "{'tps': [], 'entry_reached': [[1723274280000, 0.5882, 0.5907, 0.5879, 0.59, 152089.0], [1723295280000, 0.5682, 0.5683, 0.5676, 0.5682, 38280.0]], 'stop_loss_reached': [1723406640000, 0.5588, 0.5588, 0.5551, 0.5569, 288470.0], 'break_reason': None}\n"
     ]
    },
    {
     "data": {
      "text/html": [
       "<p style='color:#0f0;'>********************************************************************************************************************</p>"
      ],
      "text/plain": [
       "<IPython.core.display.HTML object>"
      ]
     },
     "metadata": {},
     "output_type": "display_data"
    },
    {
     "name": "stdout",
     "output_type": "stream",
     "text": [
      "HBAR/USDT:USDT LONG\n",
      "{'tps': [[1723307400000, 0.05613, 0.05619, 0.05611, 0.05614, 3898.0], [1723364340000, 0.05674, 0.05687, 0.05674, 0.05687, 11272.0]], 'entry_reached': [[1723276140000, 0.05561, 0.05561, 0.05555, 0.05555, 1642.0], [1723388640000, 0.05466, 0.05467, 0.05443, 0.05444, 9610.0]], 'stop_loss_reached': [1723403880000, 0.0542, 0.05421, 0.05407, 0.05407, 17200.0], 'break_reason': None}\n"
     ]
    },
    {
     "data": {
      "text/html": [
       "<p style='color:#0f0;'>********************************************************************************************************************</p>"
      ],
      "text/plain": [
       "<IPython.core.display.HTML object>"
      ]
     },
     "metadata": {},
     "output_type": "display_data"
    },
    {
     "name": "stdout",
     "output_type": "stream",
     "text": [
      "JASMY/USDT:USDT SHORT\n",
      "{'tps': [[1723294980000, 0.021743, 0.021743, 0.021711, 0.021713, 8696.0], [1723302180000, 0.021528, 0.02153, 0.021506, 0.021512, 4259.0], [1723378440000, 0.021283, 0.021283, 0.021175, 0.021184, 61948.0]], 'entry_reached': [[1723287780000, 0.021905, 0.021936, 0.021899, 0.021932, 3167.0]], 'stop_loss_reached': None, 'break_reason': None}\n"
     ]
    },
    {
     "data": {
      "text/html": [
       "<p style='color:#0f0;'>********************************************************************************************************************</p>"
      ],
      "text/plain": [
       "<IPython.core.display.HTML object>"
      ]
     },
     "metadata": {},
     "output_type": "display_data"
    },
    {
     "name": "stdout",
     "output_type": "stream",
     "text": [
      "ADA/USDT:USDT SHORT\n",
      "{'tps': [], 'entry_reached': [[1723295400000, 0.3458, 0.3459, 0.3456, 0.3458, 35012.0]], 'stop_loss_reached': [1723368000000, 0.3546, 0.356, 0.3546, 0.3559, 386892.0], 'break_reason': None}\n"
     ]
    },
    {
     "data": {
      "text/html": [
       "<p style='color:#0f0;'>********************************************************************************************************************</p>"
      ],
      "text/plain": [
       "<IPython.core.display.HTML object>"
      ]
     },
     "metadata": {},
     "output_type": "display_data"
    },
    {
     "name": "stdout",
     "output_type": "stream",
     "text": [
      "CFX/USDT:USDT SHORT\n",
      "{'tps': [[1723374120000, 0.13697, 0.13698, 0.13625, 0.13638, 6676.0], [1723378320000, 0.13513, 0.13516, 0.13484, 0.13486, 3623.0], [1723392120000, 0.13249, 0.13262, 0.13236, 0.13241, 4933.0]], 'entry_reached': [[1723296600000, 0.13824, 0.13826, 0.13814, 0.13814, 530.0], [1723310940000, 0.14023, 0.1404, 0.1402, 0.14037, 4603.0]], 'stop_loss_reached': None, 'break_reason': None}\n"
     ]
    },
    {
     "data": {
      "text/html": [
       "<p style='color:#0f0;'>********************************************************************************************************************</p>"
      ],
      "text/plain": [
       "<IPython.core.display.HTML object>"
      ]
     },
     "metadata": {},
     "output_type": "display_data"
    },
    {
     "name": "stdout",
     "output_type": "stream",
     "text": [
      "ARB/USDT:USDT LONG\n",
      "{'tps': [[1723347000000, 0.5842, 0.5854, 0.5841, 0.5849, 22534.0], [1723367880000, 0.5909, 0.5923, 0.5909, 0.592, 40372.0]], 'entry_reached': [[1723304160000, 0.5783, 0.579, 0.5781, 0.5785, 9860.0]], 'stop_loss_reached': [1723388460000, 0.5597, 0.5604, 0.5588, 0.5594, 50865.0], 'break_reason': None}\n"
     ]
    },
    {
     "data": {
      "text/html": [
       "<p style='color:#0f0;'>********************************************************************************************************************</p>"
      ],
      "text/plain": [
       "<IPython.core.display.HTML object>"
      ]
     },
     "metadata": {},
     "output_type": "display_data"
    },
    {
     "name": "stdout",
     "output_type": "stream",
     "text": [
      "INJ/USDT:USDT LONG\n",
      "{'tps': [], 'entry_reached': [[1723352640000, 19.336, 19.337, 19.311, 19.32, 236.0], [1723366440000, 19.108, 19.114, 19.097, 19.1, 368.0]], 'stop_loss_reached': [1723375320000, 19.035, 19.039, 18.994, 19.005, 2182.0], 'break_reason': None}\n"
     ]
    },
    {
     "data": {
      "text/html": [
       "<p style='color:#0f0;'>********************************************************************************************************************</p>"
      ],
      "text/plain": [
       "<IPython.core.display.HTML object>"
      ]
     },
     "metadata": {},
     "output_type": "display_data"
    },
    {
     "name": "stdout",
     "output_type": "stream",
     "text": [
      "RUNE/USDT:USDT LONG\n",
      "{'tps': [[1723363260000, 3.417, 3.422, 3.417, 3.418, 2060.0]], 'entry_reached': [[1723356540000, 3.396, 3.399, 3.396, 3.399, 391.0]], 'stop_loss_reached': [1723375380000, 3.344, 3.345, 3.335, 3.335, 3107.0], 'break_reason': None}\n"
     ]
    },
    {
     "data": {
      "text/html": [
       "<p style='color:#0f0;'>********************************************************************************************************************</p>"
      ],
      "text/plain": [
       "<IPython.core.display.HTML object>"
      ]
     },
     "metadata": {},
     "output_type": "display_data"
    },
    {
     "name": "stdout",
     "output_type": "stream",
     "text": [
      "INJ/USDT:USDT LONG\n",
      "{'tps': [], 'entry_reached': [[1723374540000, 19.196, 19.197, 19.185, 19.193, 310.0], [1723375320000, 19.035, 19.039, 18.994, 19.005, 2182.0]], 'stop_loss_reached': [1723375440000, 18.969, 18.969, 18.918, 18.967, 2182.0], 'break_reason': None}\n"
     ]
    },
    {
     "data": {
      "text/html": [
       "<p style='color:#0f0;'>********************************************************************************************************************</p>"
      ],
      "text/plain": [
       "<IPython.core.display.HTML object>"
      ]
     },
     "metadata": {},
     "output_type": "display_data"
    },
    {
     "name": "stdout",
     "output_type": "stream",
     "text": [
      "FTM/USDT:USDT LONG\n",
      "{'tps': [], 'entry_reached': [[1723376460000, 0.3515, 0.3515, 0.3512, 0.3514, 8369.0]], 'stop_loss_reached': [1723378440000, 0.3495, 0.3495, 0.348, 0.348, 52800.0], 'break_reason': None}\n"
     ]
    },
    {
     "data": {
      "text/html": [
       "<p style='color:#0f0;'>********************************************************************************************************************</p>"
      ],
      "text/plain": [
       "<IPython.core.display.HTML object>"
      ]
     },
     "metadata": {},
     "output_type": "display_data"
    },
    {
     "name": "stdout",
     "output_type": "stream",
     "text": [
      "GALA/USDT:USDT SHORT\n",
      "{'tps': [[1723470120000, 0.01666, 0.01667, 0.01661, 0.01664, 128332.0], [1723470960000, 0.01639, 0.0164, 0.01632, 0.01632, 170749.0]], 'entry_reached': [[1723467840000, 0.01685, 0.01686, 0.01685, 0.01685, 26497.0], [1723631640000, 0.01719, 0.01725, 0.01718, 0.01722, 224536.0]], 'stop_loss_reached': [1723639380000, 0.01736, 0.01744, 0.01736, 0.01742, 224202.0], 'break_reason': None}\n"
     ]
    },
    {
     "data": {
      "text/html": [
       "<p style='color:#0f0;'>********************************************************************************************************************</p>"
      ],
      "text/plain": [
       "<IPython.core.display.HTML object>"
      ]
     },
     "metadata": {},
     "output_type": "display_data"
    },
    {
     "name": "stdout",
     "output_type": "stream",
     "text": [
      "CRV/USDT:USDT SHORT\n",
      "{'tps': [], 'entry_reached': [[1723480080000, 0.3003, 0.3013, 0.2993, 0.3013, 151279.0], [1723482480000, 0.3043, 0.3063, 0.3043, 0.3043, 185071.0]], 'stop_loss_reached': [1723482840000, 0.3043, 0.3143, 0.3043, 0.3103, 1853422.0], 'break_reason': None}\n"
     ]
    },
    {
     "data": {
      "text/html": [
       "<p style='color:#0f0;'>********************************************************************************************************************</p>"
      ],
      "text/plain": [
       "<IPython.core.display.HTML object>"
      ]
     },
     "metadata": {},
     "output_type": "display_data"
    },
    {
     "name": "stdout",
     "output_type": "stream",
     "text": [
      "XRP/USDT:USDT LONG\n",
      "{'tps': [[1723546140000, 0.577, 0.5787, 0.5769, 0.5779, 445622.0]], 'entry_reached': [[1723533660000, 0.5716, 0.5727, 0.5715, 0.5723, 263161.0], [1723702920000, 0.5649, 0.565, 0.5628, 0.5639, 345496.0]], 'stop_loss_reached': [1723744860000, 0.562, 0.5621, 0.5593, 0.5595, 964849.0], 'break_reason': None}\n"
     ]
    },
    {
     "data": {
      "text/html": [
       "<p style='color:#0f0;'>********************************************************************************************************************</p>"
      ],
      "text/plain": [
       "<IPython.core.display.HTML object>"
      ]
     },
     "metadata": {},
     "output_type": "display_data"
    },
    {
     "name": "stdout",
     "output_type": "stream",
     "text": [
      "ADA/USDT:USDT SHORT\n",
      "{'tps': [[1723544580000, 0.3316, 0.3316, 0.3302, 0.3308, 751377.0]], 'entry_reached': [[1723540680000, 0.3334, 0.3336, 0.333, 0.3333, 134306.0]], 'stop_loss_reached': [1723567140000, 0.3399, 0.3403, 0.3398, 0.3401, 272708.0], 'break_reason': None}\n"
     ]
    },
    {
     "data": {
      "text/html": [
       "<p style='color:#0f0;'>********************************************************************************************************************</p>"
      ],
      "text/plain": [
       "<IPython.core.display.HTML object>"
      ]
     },
     "metadata": {},
     "output_type": "display_data"
    },
    {
     "name": "stdout",
     "output_type": "stream",
     "text": [
      "LDO/USDT:USDT LONG\n",
      "{'tps': [[1723552200000, 1.0464, 1.0579, 1.0464, 1.0522, 31835.0], [1723557720000, 1.0671, 1.0675, 1.0638, 1.0642, 3829.0], [1723568520000, 1.079, 1.0805, 1.075, 1.076, 29840.0]], 'entry_reached': [[1723548360000, 1.0418, 1.0421, 1.0408, 1.0409, 920.0]], 'stop_loss_reached': None, 'break_reason': None}\n"
     ]
    },
    {
     "data": {
      "text/html": [
       "<p style='color:#0f0;'>********************************************************************************************************************</p>"
      ],
      "text/plain": [
       "<IPython.core.display.HTML object>"
      ]
     },
     "metadata": {},
     "output_type": "display_data"
    },
    {
     "name": "stdout",
     "output_type": "stream",
     "text": [
      "DYDX/USDT:USDT LONG\n",
      "{'tps': [[1723567740000, 1.065, 1.068, 1.065, 1.068, 6543.0], [1723571700000, 1.083, 1.087, 1.082, 1.087, 13181.0]], 'entry_reached': [[1723566120000, 1.056, 1.057, 1.054, 1.054, 2558.0], [1723707000000, 1.042, 1.043, 1.039, 1.041, 7814.0]], 'stop_loss_reached': [1723744860000, 1.035, 1.035, 1.029, 1.031, 27427.0], 'break_reason': None}\n"
     ]
    },
    {
     "data": {
      "text/html": [
       "<p style='color:#0f0;'>********************************************************************************************************************</p>"
      ],
      "text/plain": [
       "<IPython.core.display.HTML object>"
      ]
     },
     "metadata": {},
     "output_type": "display_data"
    },
    {
     "name": "stdout",
     "output_type": "stream",
     "text": [
      "BAT/USDT:USDT LONG\n",
      "{'tps': [[1723569120000, 0.1701, 0.1703, 0.1701, 0.1701, 5009.0]], 'entry_reached': [[1723566300000, 0.1687, 0.1687, 0.1684, 0.1685, 5742.0]], 'stop_loss_reached': [1723644660000, 0.1646, 0.1646, 0.1633, 0.1635, 27648.0], 'break_reason': None}\n"
     ]
    },
    {
     "data": {
      "text/html": [
       "<p style='color:#0f0;'>********************************************************************************************************************</p>"
      ],
      "text/plain": [
       "<IPython.core.display.HTML object>"
      ]
     },
     "metadata": {},
     "output_type": "display_data"
    },
    {
     "name": "stdout",
     "output_type": "stream",
     "text": [
      "NOT/USDT:USDT SHORT\n",
      "{'tps': [], 'entry_reached': [[1723629360000, 0.011939, 0.012, 0.011924, 0.011995, 173900.0], [1723629720000, 0.012178, 0.012267, 0.012158, 0.012257, 314589.0]], 'stop_loss_reached': [1723630260000, 0.01227, 0.0125, 0.01227, 0.012492, 774598.0], 'break_reason': None}\n"
     ]
    },
    {
     "data": {
      "text/html": [
       "<p style='color:#0f0;'>********************************************************************************************************************</p>"
      ],
      "text/plain": [
       "<IPython.core.display.HTML object>"
      ]
     },
     "metadata": {},
     "output_type": "display_data"
    },
    {
     "name": "stdout",
     "output_type": "stream",
     "text": [
      "FTM/USDT:USDT LONG\n",
      "{'tps': [[1723638420000, 0.3775, 0.3781, 0.3767, 0.378, 184379.0]], 'entry_reached': [[1723616280000, 0.3742, 0.3742, 0.3731, 0.3732, 62231.0], [1723644000000, 0.3686, 0.3686, 0.3667, 0.3673, 116758.0]], 'stop_loss_reached': [1723644120000, 0.366, 0.3665, 0.365, 0.3665, 110749.0], 'break_reason': None}\n"
     ]
    },
    {
     "data": {
      "text/html": [
       "<p style='color:#0f0;'>********************************************************************************************************************</p>"
      ],
      "text/plain": [
       "<IPython.core.display.HTML object>"
      ]
     },
     "metadata": {},
     "output_type": "display_data"
    },
    {
     "name": "stdout",
     "output_type": "stream",
     "text": [
      "CRV/USDT:USDT LONG\n",
      "{'tps': [], 'entry_reached': [[1723617540000, 0.3123, 0.3133, 0.3123, 0.3123, 99118.0]], 'stop_loss_reached': [1723636200000, 0.3023, 0.3023, 0.3013, 0.3013, 116346.0], 'break_reason': None}\n"
     ]
    },
    {
     "data": {
      "text/html": [
       "<p style='color:#0f0;'>********************************************************************************************************************</p>"
      ],
      "text/plain": [
       "<IPython.core.display.HTML object>"
      ]
     },
     "metadata": {},
     "output_type": "display_data"
    },
    {
     "name": "stdout",
     "output_type": "stream",
     "text": [
      "LINK/USDT:USDT SHORT\n",
      "{'tps': [], 'entry_reached': [[1723704000000, 10.343, 10.343, 10.314, 10.318, 12208.0], [1723725000000, 10.45, 10.5, 10.45, 10.483, 57637.0]], 'stop_loss_reached': [1723725420000, 10.541, 10.566, 10.53, 10.555, 37820.0], 'break_reason': None}\n"
     ]
    },
    {
     "data": {
      "text/html": [
       "<p style='color:#0f0;'>********************************************************************************************************************</p>"
      ],
      "text/plain": [
       "<IPython.core.display.HTML object>"
      ]
     },
     "metadata": {},
     "output_type": "display_data"
    },
    {
     "name": "stdout",
     "output_type": "stream",
     "text": [
      "INJ/USDT:USDT SHORT\n",
      "{'tps': [[1724288460000, 19.509, 19.524, 19.499, 19.501, 396.0]], 'entry_reached': [[1724270700000, 19.694, 19.737, 19.694, 19.713, 1039.0], [1724319600000, 19.95, 20.034, 19.945, 20.021, 1634.0]], 'stop_loss_reached': [1724321580000, 20.137, 20.159, 20.106, 20.159, 955.0], 'break_reason': None}\n"
     ]
    },
    {
     "data": {
      "text/html": [
       "<p style='color:#0f0;'>********************************************************************************************************************</p>"
      ],
      "text/plain": [
       "<IPython.core.display.HTML object>"
      ]
     },
     "metadata": {},
     "output_type": "display_data"
    },
    {
     "name": "stdout",
     "output_type": "stream",
     "text": [
      "ADA/USDT:USDT SHORT\n",
      "{'tps': [], 'entry_reached': [[1723797240000, 0.3358, 0.3358, 0.3353, 0.3354, 31905.0], [1723802040000, 0.3409, 0.341, 0.3408, 0.3409, 44291.0]], 'stop_loss_reached': [1723802340000, 0.343, 0.3439, 0.3429, 0.3439, 219441.0], 'break_reason': None}\n"
     ]
    },
    {
     "data": {
      "text/html": [
       "<p style='color:#0f0;'>********************************************************************************************************************</p>"
      ],
      "text/plain": [
       "<IPython.core.display.HTML object>"
      ]
     },
     "metadata": {},
     "output_type": "display_data"
    },
    {
     "name": "stdout",
     "output_type": "stream",
     "text": [
      "WIF/USDT:USDT SHORT\n",
      "{'tps': [[1723810320000, 1.4249, 1.4252, 1.4195, 1.4252, 1404.0], [1723810740000, 1.4083, 1.4086, 1.4022, 1.4058, 1296.0], [1723812060000, 1.3802, 1.3802, 1.3741, 1.3787, 1279.0]], 'entry_reached': [[1723806420000, 1.4496, 1.45, 1.4476, 1.4493, 1122.0]], 'stop_loss_reached': None, 'break_reason': None}\n"
     ]
    },
    {
     "data": {
      "text/html": [
       "<p style='color:#0f0;'>********************************************************************************************************************</p>"
      ],
      "text/plain": [
       "<IPython.core.display.HTML object>"
      ]
     },
     "metadata": {},
     "output_type": "display_data"
    },
    {
     "name": "stdout",
     "output_type": "stream",
     "text": [
      "STG/USDT:USDT LONG\n",
      "{'tps': [[1723814220000, 0.3152, 0.3162, 0.3149, 0.3159, 23861.0], [1723815240000, 0.3162, 0.3178, 0.3161, 0.3174, 18460.0], [1723939020000, 0.3205, 0.321, 0.3205, 0.3209, 3167.0]], 'entry_reached': [[1723811580000, 0.3135, 0.3139, 0.3134, 0.3137, 3312.0]], 'stop_loss_reached': None, 'break_reason': None}\n"
     ]
    },
    {
     "data": {
      "text/html": [
       "<p style='color:#0f0;'>********************************************************************************************************************</p>"
      ],
      "text/plain": [
       "<IPython.core.display.HTML object>"
      ]
     },
     "metadata": {},
     "output_type": "display_data"
    },
    {
     "name": "stdout",
     "output_type": "stream",
     "text": [
      "OP/USDT:USDT LONG\n",
      "{'tps': [[1723825740000, 1.2579, 1.2643, 1.2578, 1.2629, 49143.0], [1723831080000, 1.2603, 1.27, 1.2603, 1.2692, 34541.0], [1723840080000, 1.2845, 1.2895, 1.2845, 1.2895, 48460.0]], 'entry_reached': [[1723820580000, 1.2487, 1.2493, 1.247, 1.249, 6696.0]], 'stop_loss_reached': None, 'break_reason': None}\n"
     ]
    },
    {
     "data": {
      "text/html": [
       "<p style='color:#0f0;'>********************************************************************************************************************</p>"
      ],
      "text/plain": [
       "<IPython.core.display.HTML object>"
      ]
     },
     "metadata": {},
     "output_type": "display_data"
    },
    {
     "name": "stdout",
     "output_type": "stream",
     "text": [
      "APT/USDT:USDT LONG\n",
      "{'tps': [[1724097900000, 6.032, 6.045, 6.031, 6.035, 24139.0], [1724113920000, 6.145, 6.176, 6.1381, 6.174, 151066.0], [1724136300000, 6.298, 6.349, 6.298, 6.339, 132528.0]], 'entry_reached': [[1723833000000, 5.927, 5.941, 5.926, 5.941, 7144.0], [1724029020000, 5.762, 5.762, 5.738, 5.738, 92670.0]], 'stop_loss_reached': None, 'break_reason': None}\n"
     ]
    },
    {
     "data": {
      "text/html": [
       "<p style='color:#0f0;'>********************************************************************************************************************</p>"
      ],
      "text/plain": [
       "<IPython.core.display.HTML object>"
      ]
     },
     "metadata": {},
     "output_type": "display_data"
    },
    {
     "name": "stdout",
     "output_type": "stream",
     "text": [
      "DYDX/USDT:USDT SHORT\n",
      "{'tps': [[1723874880000, 1.08, 1.08, 1.078, 1.079, 6455.0], [1723892160000, 1.068, 1.069, 1.065, 1.068, 9754.0]], 'entry_reached': [[1723872120000, 1.091, 1.093, 1.091, 1.092, 2352.0], [1723986360000, 1.127, 1.129, 1.127, 1.129, 3803.0]], 'stop_loss_reached': [1724051460000, 1.135, 1.138, 1.134, 1.138, 4800.0], 'break_reason': None}\n"
     ]
    },
    {
     "data": {
      "text/html": [
       "<p style='color:#0f0;'>********************************************************************************************************************</p>"
      ],
      "text/plain": [
       "<IPython.core.display.HTML object>"
      ]
     },
     "metadata": {},
     "output_type": "display_data"
    },
    {
     "name": "stdout",
     "output_type": "stream",
     "text": [
      "NOT/USDT:USDT SHORT\n",
      "{'tps': [[1723883160000, 0.010781, 0.010785, 0.010696, 0.01071, 522275.0], [1723883280000, 0.010596, 0.010602, 0.010569, 0.010597, 164296.0]], 'entry_reached': [[1723875420000, 0.010822, 0.010831, 0.010821, 0.01083, 7434.0], [1723978560000, 0.01099, 0.01104, 0.01099, 0.011029, 128942.0]], 'stop_loss_reached': [1723980780000, 0.010984, 0.011066, 0.010976, 0.011054, 205108.0], 'break_reason': None}\n"
     ]
    },
    {
     "data": {
      "text/html": [
       "<p style='color:#0f0;'>********************************************************************************************************************</p>"
      ],
      "text/plain": [
       "<IPython.core.display.HTML object>"
      ]
     },
     "metadata": {},
     "output_type": "display_data"
    },
    {
     "name": "stdout",
     "output_type": "stream",
     "text": [
      "AAVE/USDT:USDT SHORT\n",
      "{'tps': [[1723892460000, 112.37, 112.37, 112.12, 112.19, 8597.0], [1723894920000, 111.57, 111.6, 110.9, 110.94, 13524.0], [1724075160000, 109.34, 109.34, 109.07, 109.17, 6989.0]], 'entry_reached': [[1723877700000, 113.66, 113.98, 113.63, 113.92, 1198.0], [1723886820000, 115.62, 116.27, 115.62, 116.2, 14896.0]], 'stop_loss_reached': None, 'break_reason': None}\n"
     ]
    },
    {
     "data": {
      "text/html": [
       "<p style='color:#0f0;'>********************************************************************************************************************</p>"
      ],
      "text/plain": [
       "<IPython.core.display.HTML object>"
      ]
     },
     "metadata": {},
     "output_type": "display_data"
    },
    {
     "name": "stdout",
     "output_type": "stream",
     "text": [
      "AAVE/USDT:USDT SHORT\n",
      "{'tps': [[1723891560000, 113.83, 113.91, 113.54, 113.63, 13299.0], [1723892160000, 112.68, 112.69, 112.49, 112.53, 6213.0], [1723894920000, 111.57, 111.6, 110.9, 110.94, 13524.0]], 'entry_reached': [[1723888200000, 114.78, 114.85, 114.68, 114.68, 1160.0]], 'stop_loss_reached': None, 'break_reason': None}\n"
     ]
    },
    {
     "data": {
      "text/html": [
       "<p style='color:#0f0;'>********************************************************************************************************************</p>"
      ],
      "text/plain": [
       "<IPython.core.display.HTML object>"
      ]
     },
     "metadata": {},
     "output_type": "display_data"
    },
    {
     "name": "stdout",
     "output_type": "stream",
     "text": [
      "DOGE/USDT:USDT SHORT\n",
      "{'tps': [], 'entry_reached': [[1723890480000, 0.10087, 0.10088, 0.10083, 0.10087, 46488.0]], 'stop_loss_reached': [1723906560000, 0.10226, 0.10244, 0.10222, 0.10239, 1746865.0], 'break_reason': None}\n"
     ]
    },
    {
     "data": {
      "text/html": [
       "<p style='color:#0f0;'>********************************************************************************************************************</p>"
      ],
      "text/plain": [
       "<IPython.core.display.HTML object>"
      ]
     },
     "metadata": {},
     "output_type": "display_data"
    },
    {
     "name": "stdout",
     "output_type": "stream",
     "text": [
      "SOL/USDT:USDT LONG\n",
      "{'tps': [[1723905420000, 140.49, 141.21, 140.48, 141.01, 375637.0], [1723949940000, 142.91, 143.15, 142.79, 142.84, 127345.0], [1723976340000, 145.53, 147.36, 145.39, 145.84, 1219342.0]], 'entry_reached': [[1723895340000, 139.19, 139.19, 139.01, 139.15, 12085.0]], 'stop_loss_reached': None, 'break_reason': None}\n"
     ]
    },
    {
     "data": {
      "text/html": [
       "<p style='color:#0f0;'>********************************************************************************************************************</p>"
      ],
      "text/plain": [
       "<IPython.core.display.HTML object>"
      ]
     },
     "metadata": {},
     "output_type": "display_data"
    },
    {
     "name": "stdout",
     "output_type": "stream",
     "text": [
      "CFX/USDT:USDT LONG\n",
      "{'tps': [[1723982940000, 0.13181, 0.13184, 0.13159, 0.13159, 1987.0], [1723986000000, 0.13443, 0.13488, 0.13443, 0.13484, 6901.0], [1724060160000, 0.13727, 0.1375, 0.13727, 0.13734, 3649.0]], 'entry_reached': [[1723898760000, 0.12921, 0.12935, 0.12921, 0.12932, 634.0]], 'stop_loss_reached': None, 'break_reason': None}\n"
     ]
    },
    {
     "data": {
      "text/html": [
       "<p style='color:#0f0;'>********************************************************************************************************************</p>"
      ],
      "text/plain": [
       "<IPython.core.display.HTML object>"
      ]
     },
     "metadata": {},
     "output_type": "display_data"
    },
    {
     "name": "stdout",
     "output_type": "stream",
     "text": [
      "CHZ/USDT:USDT LONG\n",
      "{'tps': [[1723982460000, 0.05357, 0.05366, 0.05356, 0.05366, 3774.0], [1723988160000, 0.05436, 0.0545, 0.05436, 0.05449, 36571.0], [1724113980000, 0.05512, 0.05525, 0.05512, 0.05519, 11121.0]], 'entry_reached': [[1723962720000, 0.05304, 0.05307, 0.05303, 0.05303, 900.0]], 'stop_loss_reached': None, 'break_reason': None}\n"
     ]
    },
    {
     "data": {
      "text/html": [
       "<p style='color:#0f0;'>********************************************************************************************************************</p>"
      ],
      "text/plain": [
       "<IPython.core.display.HTML object>"
      ]
     },
     "metadata": {},
     "output_type": "display_data"
    },
    {
     "name": "stdout",
     "output_type": "stream",
     "text": [
      "WLD/USDT:USDT LONG\n",
      "{'tps': [[1723975920000, 1.5118, 1.5153, 1.5118, 1.5129, 17624.0], [1723977420000, 1.5239, 1.5363, 1.5237, 1.535, 58876.0], [1723984440000, 1.5468, 1.5568, 1.5459, 1.5536, 77349.0]], 'entry_reached': [[1723965360000, 1.4941, 1.4955, 1.4938, 1.494, 2179.0]], 'stop_loss_reached': None, 'break_reason': None}\n"
     ]
    },
    {
     "data": {
      "text/html": [
       "<p style='color:#0f0;'>********************************************************************************************************************</p>"
      ],
      "text/plain": [
       "<IPython.core.display.HTML object>"
      ]
     },
     "metadata": {},
     "output_type": "display_data"
    },
    {
     "name": "stdout",
     "output_type": "stream",
     "text": [
      "FIL/USDT:USDT SHORT\n",
      "{'tps': [], 'entry_reached': [[1723969080000, 3.526, 3.527, 3.524, 3.525, 16689.0]], 'stop_loss_reached': [1723984320000, 3.598, 3.606, 3.598, 3.603, 69784.0], 'break_reason': None}\n"
     ]
    },
    {
     "data": {
      "text/html": [
       "<p style='color:#0f0;'>********************************************************************************************************************</p>"
      ],
      "text/plain": [
       "<IPython.core.display.HTML object>"
      ]
     },
     "metadata": {},
     "output_type": "display_data"
    },
    {
     "name": "stdout",
     "output_type": "stream",
     "text": [
      "GRT/USDT:USDT SHORT\n",
      "{'tps': [[1724023620000, 0.14107, 0.14107, 0.1409, 0.14091, 3354.0], [1724025780000, 0.13941, 0.13941, 0.13897, 0.13908, 5100.0], [1724061480000, 0.1371, 0.13718, 0.13698, 0.13699, 1399.0]], 'entry_reached': [[1723995000000, 0.14242, 0.14258, 0.14242, 0.14248, 717.0]], 'stop_loss_reached': None, 'break_reason': None}\n"
     ]
    },
    {
     "data": {
      "text/html": [
       "<p style='color:#0f0;'>********************************************************************************************************************</p>"
      ],
      "text/plain": [
       "<IPython.core.display.HTML object>"
      ]
     },
     "metadata": {},
     "output_type": "display_data"
    },
    {
     "name": "stdout",
     "output_type": "stream",
     "text": [
      "CRV/USDT:USDT LONG\n",
      "{'tps': [[1724078760000, 0.3053, 0.3063, 0.3043, 0.3053, 175867.0]], 'entry_reached': [[1724045820000, 0.3033, 0.3033, 0.3013, 0.3023, 86414.0], [1724083320000, 0.2993, 0.3003, 0.2973, 0.3003, 153107.0]], 'stop_loss_reached': [1724084460000, 0.2963, 0.2973, 0.2949, 0.2963, 226951.0], 'break_reason': None}\n"
     ]
    },
    {
     "data": {
      "text/html": [
       "<p style='color:#0f0;'>********************************************************************************************************************</p>"
      ],
      "text/plain": [
       "<IPython.core.display.HTML object>"
      ]
     },
     "metadata": {},
     "output_type": "display_data"
    },
    {
     "name": "stdout",
     "output_type": "stream",
     "text": [
      "IMX/USDT:USDT LONG\n",
      "{'tps': [[1724072820000, 1.0943, 1.0981, 1.0931, 1.098, 14510.0], [1724088720000, 1.1057, 1.1105, 1.1057, 1.1105, 3657.0], [1724095500000, 1.1217, 1.126, 1.1217, 1.1257, 1537.0]], 'entry_reached': [[1724066520000, 1.088, 1.0886, 1.0877, 1.0879, 678.0]], 'stop_loss_reached': None, 'break_reason': None}\n"
     ]
    },
    {
     "data": {
      "text/html": [
       "<p style='color:#0f0;'>********************************************************************************************************************</p>"
      ],
      "text/plain": [
       "<IPython.core.display.HTML object>"
      ]
     },
     "metadata": {},
     "output_type": "display_data"
    },
    {
     "name": "stdout",
     "output_type": "stream",
     "text": [
      "ALT/USDT:USDT SHORT\n",
      "{'tps': [[1724076900000, 0.08875, 0.08885, 0.08867, 0.08867, 74753.0]], 'entry_reached': [[1724076420000, 0.0887, 0.08887, 0.08865, 0.08884, 143433.0]], 'stop_loss_reached': [1724114220000, 0.0912, 0.09147, 0.09117, 0.09119, 267408.0], 'break_reason': None}\n"
     ]
    },
    {
     "data": {
      "text/html": [
       "<p style='color:#0f0;'>********************************************************************************************************************</p>"
      ],
      "text/plain": [
       "<IPython.core.display.HTML object>"
      ]
     },
     "metadata": {},
     "output_type": "display_data"
    },
    {
     "name": "stdout",
     "output_type": "stream",
     "text": [
      "TRX/USDT:USDT SHORT\n",
      "{'tps': [], 'entry_reached': [[1724084880000, 0.1397, 0.13972, 0.13968, 0.13969, 902.0], [1724100900000, 0.14267, 0.14284, 0.14267, 0.14278, 1876.0]], 'stop_loss_reached': [1724113200000, 0.14393, 0.14403, 0.14393, 0.14399, 3044.0], 'break_reason': None}\n"
     ]
    },
    {
     "data": {
      "text/html": [
       "<p style='color:#0f0;'>********************************************************************************************************************</p>"
      ],
      "text/plain": [
       "<IPython.core.display.HTML object>"
      ]
     },
     "metadata": {},
     "output_type": "display_data"
    },
    {
     "name": "stdout",
     "output_type": "stream",
     "text": [
      "SOL/USDT:USDT SHORT\n",
      "{'tps': [[1724164080000, 143.27, 143.41, 143.06, 143.41, 89618.0], [1724166300000, 141.77, 141.77, 141.06, 141.33, 266247.0], [1724247720000, 139.2, 139.36, 138.93, 138.94, 316320.0]], 'entry_reached': [[1724160780000, 145.38, 145.45, 145.13, 145.13, 43252.0]], 'stop_loss_reached': None, 'break_reason': None}\n"
     ]
    },
    {
     "data": {
      "text/html": [
       "<p style='color:#0f0;'>********************************************************************************************************************</p>"
      ],
      "text/plain": [
       "<IPython.core.display.HTML object>"
      ]
     },
     "metadata": {},
     "output_type": "display_data"
    },
    {
     "name": "stdout",
     "output_type": "stream",
     "text": [
      "DAR/USDT:USDT LONG\n",
      "{'tps': [[1724167860000, 0.1688, 0.1701, 0.1685, 0.17, 281753.0], [1724168040000, 0.1718, 0.172, 0.1715, 0.1719, 302478.0], [1724168520000, 0.1744, 0.1765, 0.1744, 0.176, 878669.0]], 'entry_reached': [[1724166900000, 0.1674, 0.1675, 0.1668, 0.1671, 102963.0]], 'stop_loss_reached': None, 'break_reason': None}\n"
     ]
    },
    {
     "data": {
      "text/html": [
       "<p style='color:#0f0;'>********************************************************************************************************************</p>"
      ],
      "text/plain": [
       "<IPython.core.display.HTML object>"
      ]
     },
     "metadata": {},
     "output_type": "display_data"
    },
    {
     "name": "stdout",
     "output_type": "stream",
     "text": [
      "GALA/USDT:USDT LONG\n",
      "{'tps': [[1724172300000, 0.01772, 0.01776, 0.01771, 0.01773, 43189.0], [1724179620000, 0.01797, 0.018, 0.01797, 0.01799, 36579.0], [1724183040000, 0.01821, 0.0183, 0.0182, 0.0183, 298131.0]], 'entry_reached': [[1724170680000, 0.01761, 0.01763, 0.01759, 0.01763, 41580.0]], 'stop_loss_reached': None, 'break_reason': None}\n"
     ]
    },
    {
     "data": {
      "text/html": [
       "<p style='color:#0f0;'>********************************************************************************************************************</p>"
      ],
      "text/plain": [
       "<IPython.core.display.HTML object>"
      ]
     },
     "metadata": {},
     "output_type": "display_data"
    },
    {
     "name": "stdout",
     "output_type": "stream",
     "text": [
      "RUNE/USDT:USDT LONG\n",
      "{'tps': [], 'entry_reached': [[1724181180000, 3.921, 3.921, 3.917, 3.917, 250.0], [1724247240000, 3.84, 3.84, 3.82, 3.828, 7637.0]], 'stop_loss_reached': [1724247720000, 3.809, 3.81, 3.799, 3.8, 9744.0], 'break_reason': None}\n"
     ]
    },
    {
     "data": {
      "text/html": [
       "<p style='color:#0f0;'>********************************************************************************************************************</p>"
      ],
      "text/plain": [
       "<IPython.core.display.HTML object>"
      ]
     },
     "metadata": {},
     "output_type": "display_data"
    },
    {
     "name": "stdout",
     "output_type": "stream",
     "text": [
      "FTM/USDT:USDT LONG\n",
      "{'tps': [[1724248980000, 0.4075, 0.408, 0.4055, 0.4062, 194348.0], [1724258820000, 0.4155, 0.4165, 0.4152, 0.4153, 72294.0], [1724261400000, 0.4235, 0.4295, 0.4235, 0.4292, 461463.0]], 'entry_reached': [[1724228940000, 0.4016, 0.4017, 0.4012, 0.4015, 6473.0]], 'stop_loss_reached': None, 'break_reason': None}\n"
     ]
    },
    {
     "data": {
      "text/html": [
       "<p style='color:#0f0;'>********************************************************************************************************************</p>"
      ],
      "text/plain": [
       "<IPython.core.display.HTML object>"
      ]
     },
     "metadata": {},
     "output_type": "display_data"
    },
    {
     "name": "stdout",
     "output_type": "stream",
     "text": [
      "CYBER/USDT:USDT LONG\n",
      "{'tps': [], 'entry_reached': [[1724235840000, 3.181, 3.182, 3.18, 3.181, 143.0]], 'stop_loss_reached': [1724247720000, 3.095, 3.095, 3.082, 3.082, 3950.0], 'break_reason': None}\n"
     ]
    },
    {
     "data": {
      "text/html": [
       "<p style='color:#0f0;'>********************************************************************************************************************</p>"
      ],
      "text/plain": [
       "<IPython.core.display.HTML object>"
      ]
     },
     "metadata": {},
     "output_type": "display_data"
    },
    {
     "name": "stdout",
     "output_type": "stream",
     "text": [
      "SUI/USDT:USDT LONG\n",
      "{'tps': [[1724264340000, 0.8519, 0.8529, 0.8512, 0.8526, 27621.0], [1724270640000, 0.8611, 0.8636, 0.861, 0.8633, 29964.0], [1724381100000, 0.8741, 0.8763, 0.874, 0.8751, 52574.0]], 'entry_reached': [[1724260320000, 0.8408, 0.8411, 0.8407, 0.8408, 3497.0]], 'stop_loss_reached': None, 'break_reason': None}\n"
     ]
    },
    {
     "data": {
      "text/html": [
       "<p style='color:#0f0;'>********************************************************************************************************************</p>"
      ],
      "text/plain": [
       "<IPython.core.display.HTML object>"
      ]
     },
     "metadata": {},
     "output_type": "display_data"
    },
    {
     "name": "stdout",
     "output_type": "stream",
     "text": [
      "TON/USDT:USDT LONG\n",
      "{'tps': [], 'entry_reached': [[1724265240000, 6.7109, 6.7119, 6.7019, 6.7039, 1299.0], [1724270400000, 6.6359, 6.6437, 6.5635, 6.5855, 52184.0]], 'stop_loss_reached': [1724272860000, 6.5376, 6.5447, 6.5027, 6.5097, 26127.0], 'break_reason': None}\n"
     ]
    },
    {
     "data": {
      "text/html": [
       "<p style='color:#0f0;'>********************************************************************************************************************</p>"
      ],
      "text/plain": [
       "<IPython.core.display.HTML object>"
      ]
     },
     "metadata": {},
     "output_type": "display_data"
    },
    {
     "name": "stdout",
     "output_type": "stream",
     "text": [
      "GRT/USDT:USDT LONG\n",
      "{'tps': [[1724488620000, 0.16906, 0.16937, 0.16906, 0.16937, 840.0], [1724489820000, 0.17108, 0.17132, 0.17107, 0.17129, 1910.0], [1724494680000, 0.17314, 0.17333, 0.17309, 0.17332, 715.0]], 'entry_reached': [[1724476800000, 0.16765, 0.16765, 0.16732, 0.16732, 851.0]], 'stop_loss_reached': None, 'break_reason': None}\n"
     ]
    },
    {
     "data": {
      "text/html": [
       "<p style='color:#0f0;'>********************************************************************************************************************</p>"
      ],
      "text/plain": [
       "<IPython.core.display.HTML object>"
      ]
     },
     "metadata": {},
     "output_type": "display_data"
    },
    {
     "name": "stdout",
     "output_type": "stream",
     "text": [
      "FTM/USDT:USDT SHORT\n",
      "{'tps': [], 'entry_reached': [[1724484720000, 0.5061, 0.5061, 0.5055, 0.5058, 8821.0]], 'stop_loss_reached': [1724518200000, 0.5197, 0.5232, 0.5195, 0.5222, 135455.0], 'break_reason': None}\n"
     ]
    },
    {
     "data": {
      "text/html": [
       "<p style='color:#0f0;'>********************************************************************************************************************</p>"
      ],
      "text/plain": [
       "<IPython.core.display.HTML object>"
      ]
     },
     "metadata": {},
     "output_type": "display_data"
    },
    {
     "name": "stdout",
     "output_type": "stream",
     "text": [
      "EOS/USDT:USDT LONG\n",
      "{'tps': [[1724511180000, 0.557, 0.558, 0.556, 0.558, 148803.0]], 'entry_reached': [[1724504940000, 0.552, 0.553, 0.552, 0.553, 252.0], [1724535360000, 0.551, 0.551, 0.548, 0.548, 194462.0]], 'stop_loss_reached': [1724536680000, 0.547, 0.548, 0.545, 0.546, 198749.0], 'break_reason': None}\n"
     ]
    },
    {
     "data": {
      "text/html": [
       "<p style='color:#0f0;'>********************************************************************************************************************</p>"
      ],
      "text/plain": [
       "<IPython.core.display.HTML object>"
      ]
     },
     "metadata": {},
     "output_type": "display_data"
    },
    {
     "name": "stdout",
     "output_type": "stream",
     "text": [
      "NOT/USDT:USDT LONG\n",
      "{'tps': [], 'entry_reached': [[1724647260000, 0.009678, 0.009687, 0.009672, 0.009683, 28281.0], [1724663580000, 0.009436, 0.009436, 0.009317, 0.009346, 538357.0]], 'stop_loss_reached': [1724673420000, 0.009312, 0.009312, 0.009263, 0.009271, 83082.0], 'break_reason': None}\n"
     ]
    },
    {
     "data": {
      "text/html": [
       "<p style='color:#0f0;'>********************************************************************************************************************</p>"
      ],
      "text/plain": [
       "<IPython.core.display.HTML object>"
      ]
     },
     "metadata": {},
     "output_type": "display_data"
    },
    {
     "name": "stdout",
     "output_type": "stream",
     "text": [
      "ALGO/USDT:USDT LONG\n",
      "{'tps': [], 'entry_reached': [[1724649660000, 0.1423, 0.1423, 0.1422, 0.1423, 30493.0], [1724675220000, 0.1392, 0.1392, 0.139, 0.1392, 178646.0]], 'stop_loss_reached': [1724676660000, 0.138, 0.138, 0.1377, 0.1378, 336759.0], 'break_reason': None}\n"
     ]
    },
    {
     "data": {
      "text/html": [
       "<p style='color:#0f0;'>********************************************************************************************************************</p>"
      ],
      "text/plain": [
       "<IPython.core.display.HTML object>"
      ]
     },
     "metadata": {},
     "output_type": "display_data"
    },
    {
     "name": "stdout",
     "output_type": "stream",
     "text": [
      "NOT/USDT:USDT LONG\n",
      "{'tps': [], 'entry_reached': [[1724667180000, 0.009511, 0.009516, 0.00951, 0.00951, 9690.0], [1724673420000, 0.009312, 0.009312, 0.009263, 0.009271, 83082.0]], 'stop_loss_reached': [1724674620000, 0.009182, 0.009182, 0.009114, 0.009115, 127269.0], 'break_reason': None}\n"
     ]
    },
    {
     "data": {
      "text/html": [
       "<p style='color:#0f0;'>********************************************************************************************************************</p>"
      ],
      "text/plain": [
       "<IPython.core.display.HTML object>"
      ]
     },
     "metadata": {},
     "output_type": "display_data"
    },
    {
     "name": "stdout",
     "output_type": "stream",
     "text": [
      "ADA/USDT:USDT LONG\n",
      "{'tps': [[1724769180000, 0.3656, 0.3666, 0.3656, 0.3662, 257773.0]], 'entry_reached': [[1724753580000, 0.3624, 0.3625, 0.3621, 0.3624, 38096.0]], 'stop_loss_reached': [1724795220000, 0.3563, 0.3563, 0.3524, 0.3524, 820674.0], 'break_reason': None}\n"
     ]
    },
    {
     "data": {
      "text/html": [
       "<p style='color:#0f0;'>********************************************************************************************************************</p>"
      ],
      "text/plain": [
       "<IPython.core.display.HTML object>"
      ]
     },
     "metadata": {},
     "output_type": "display_data"
    },
    {
     "name": "stdout",
     "output_type": "stream",
     "text": [
      "HBAR/USDT:USDT LONG\n",
      "{'tps': [[1724784180000, 0.05494, 0.05507, 0.05494, 0.05506, 12319.0]], 'entry_reached': [[1724779980000, 0.0545, 0.0545, 0.05444, 0.05445, 2240.0], [1724793240000, 0.05369, 0.05369, 0.0534, 0.05355, 25065.0]], 'stop_loss_reached': [1724794620000, 0.05342, 0.05342, 0.05312, 0.05319, 15671.0], 'break_reason': None}\n"
     ]
    },
    {
     "data": {
      "text/html": [
       "<p style='color:#0f0;'>********************************************************************************************************************</p>"
      ],
      "text/plain": [
       "<IPython.core.display.HTML object>"
      ]
     },
     "metadata": {},
     "output_type": "display_data"
    },
    {
     "name": "stdout",
     "output_type": "stream",
     "text": [
      "APE/USDT:USDT SHORT\n",
      "{'tps': [[1724829480000, 0.655, 0.656, 0.654, 0.655, 4826.0], [1724831820000, 0.647, 0.648, 0.646, 0.647, 7482.0]], 'entry_reached': [[1724824920000, 0.66, 0.66, 0.66, 0.66, 1102.0], [1724838720000, 0.672, 0.675, 0.672, 0.675, 12982.0]], 'stop_loss_reached': [1724838780000, 0.675, 0.68, 0.674, 0.679, 44585.0], 'break_reason': None}\n"
     ]
    },
    {
     "data": {
      "text/html": [
       "<p style='color:#0f0;'>********************************************************************************************************************</p>"
      ],
      "text/plain": [
       "<IPython.core.display.HTML object>"
      ]
     },
     "metadata": {},
     "output_type": "display_data"
    },
    {
     "name": "stdout",
     "output_type": "stream",
     "text": [
      "TRB/USDT:USDT LONG\n",
      "{'tps': [[1724832420000, 66.756, 66.969, 66.756, 66.969, 407.0], [1724833140000, 67.362, 67.526, 67.33, 67.523, 751.0], [1724833740000, 68.162, 68.273, 68.107, 68.107, 832.0]], 'entry_reached': [[1724831940000, 66.433, 66.526, 66.398, 66.435, 496.0]], 'stop_loss_reached': None, 'break_reason': None}\n"
     ]
    },
    {
     "data": {
      "text/html": [
       "<p style='color:#0f0;'>********************************************************************************************************************</p>"
      ],
      "text/plain": [
       "<IPython.core.display.HTML object>"
      ]
     },
     "metadata": {},
     "output_type": "display_data"
    },
    {
     "name": "stdout",
     "output_type": "stream",
     "text": [
      "APE/USDT:USDT SHORT\n",
      "{'tps': [], 'entry_reached': [], 'stop_loss_reached': None, 'break_reason': 'WAIT MANY DAYS'}\n"
     ]
    },
    {
     "data": {
      "text/html": [
       "<p style='color:#0f0;'>********************************************************************************************************************</p>"
      ],
      "text/plain": [
       "<IPython.core.display.HTML object>"
      ]
     },
     "metadata": {},
     "output_type": "display_data"
    },
    {
     "name": "stdout",
     "output_type": "stream",
     "text": [
      "GMT/USDT:USDT SHORT\n",
      "{'tps': [[1725124500000, 0.1149, 0.115, 0.1148, 0.115, 83055.0], [1725156420000, 0.1137, 0.1137, 0.1133, 0.1134, 124430.0], [1725199620000, 0.1121, 0.1121, 0.1114, 0.1116, 194963.0]], 'entry_reached': [[1725109440000, 0.1165, 0.1165, 0.1165, 0.1165, 5733.0]], 'stop_loss_reached': None, 'break_reason': None}\n"
     ]
    },
    {
     "data": {
      "text/html": [
       "<p style='color:#0f0;'>********************************************************************************************************************</p>"
      ],
      "text/plain": [
       "<IPython.core.display.HTML object>"
      ]
     },
     "metadata": {},
     "output_type": "display_data"
    },
    {
     "data": {
      "text/html": [
       "<p style='color:#FFFF00;'>waiting 5 min...</p>"
      ],
      "text/plain": [
       "<IPython.core.display.HTML object>"
      ]
     },
     "metadata": {},
     "output_type": "display_data"
    },
    {
     "name": "stdout",
     "output_type": "stream",
     "text": [
      "IMX/USDT:USDT LONG\n",
      "{'tps': [], 'entry_reached': [[1725186420000, 1.3156, 1.317, 1.3156, 1.317, 1507.0], [1725194340000, 1.3008, 1.3009, 1.2979, 1.2983, 7794.0]], 'stop_loss_reached': [1725197880000, 1.2848, 1.2848, 1.2815, 1.282, 12491.0], 'break_reason': None}\n"
     ]
    },
    {
     "data": {
      "text/html": [
       "<p style='color:#0f0;'>********************************************************************************************************************</p>"
      ],
      "text/plain": [
       "<IPython.core.display.HTML object>"
      ]
     },
     "metadata": {},
     "output_type": "display_data"
    },
    {
     "name": "stdout",
     "output_type": "stream",
     "text": [
      "CFX/USDT:USDT SHORT\n",
      "{'tps': [[1725370260000, 0.13073, 0.13073, 0.13034, 0.13065, 5556.0], [1725372180000, 0.12819, 0.12825, 0.128, 0.12801, 2901.0], [1725407640000, 0.12487, 0.12487, 0.12441, 0.12457, 5611.0]], 'entry_reached': [[1725343620000, 0.13226, 0.13238, 0.13218, 0.13222, 544.0]], 'stop_loss_reached': None, 'break_reason': None}\n"
     ]
    },
    {
     "data": {
      "text/html": [
       "<p style='color:#0f0;'>********************************************************************************************************************</p>"
      ],
      "text/plain": [
       "<IPython.core.display.HTML object>"
      ]
     },
     "metadata": {},
     "output_type": "display_data"
    },
    {
     "name": "stdout",
     "output_type": "stream",
     "text": [
      "ORDI/USDT:USDT LONG\n",
      "{'tps': [[1725458940000, 30.447, 30.764, 30.4, 30.764, 31222.0], [1725459060000, 30.966, 31.056, 30.834, 30.876, 27049.0], [1725464700000, 31.288, 31.665, 31.288, 31.632, 37127.0]], 'entry_reached': [[1725436680000, 30.079, 30.079, 30.046, 30.048, 1562.0]], 'stop_loss_reached': None, 'break_reason': None}\n"
     ]
    },
    {
     "data": {
      "text/html": [
       "<p style='color:#0f0;'>********************************************************************************************************************</p>"
      ],
      "text/plain": [
       "<IPython.core.display.HTML object>"
      ]
     },
     "metadata": {},
     "output_type": "display_data"
    },
    {
     "name": "stdout",
     "output_type": "stream",
     "text": [
      "FTM/USDT:USDT LONG\n",
      "{'tps': [[1725521940000, 0.3939, 0.395, 0.3937, 0.395, 73369.0]], 'entry_reached': [[1725512160000, 0.391, 0.3913, 0.391, 0.3912, 6731.0], [1725550200000, 0.3844, 0.3844, 0.3825, 0.3841, 135902.0]], 'stop_loss_reached': [1725555300000, 0.3818, 0.382, 0.381, 0.3819, 48707.0], 'break_reason': None}\n"
     ]
    },
    {
     "data": {
      "text/html": [
       "<p style='color:#0f0;'>********************************************************************************************************************</p>"
      ],
      "text/plain": [
       "<IPython.core.display.HTML object>"
      ]
     },
     "metadata": {},
     "output_type": "display_data"
    },
    {
     "name": "stdout",
     "output_type": "stream",
     "text": [
      "APT/USDT:USDT LONG\n",
      "{'tps': [], 'entry_reached': [[1725531420000, 5.848, 5.848, 5.836, 5.837, 6346.0], [1725547860000, 5.769, 5.769, 5.751, 5.753, 157861.0]], 'stop_loss_reached': [1725549840000, 5.726, 5.729, 5.712, 5.717, 139556.0], 'break_reason': None}\n"
     ]
    },
    {
     "data": {
      "text/html": [
       "<p style='color:#0f0;'>********************************************************************************************************************</p>"
      ],
      "text/plain": [
       "<IPython.core.display.HTML object>"
      ]
     },
     "metadata": {},
     "output_type": "display_data"
    },
    {
     "name": "stdout",
     "output_type": "stream",
     "text": [
      "ORDI/USDT:USDT SHORT\n",
      "{'tps': [], 'entry_reached': [[1725618540000, 28.764, 28.805, 28.76, 28.76, 4065.0], [1725625800000, 29.031, 29.543, 29.011, 29.489, 57026.0]], 'stop_loss_reached': [1725625860000, 29.498, 29.529, 29.236, 29.236, 31039.0], 'break_reason': None}\n"
     ]
    },
    {
     "data": {
      "text/html": [
       "<p style='color:#0f0;'>********************************************************************************************************************</p>"
      ],
      "text/plain": [
       "<IPython.core.display.HTML object>"
      ]
     },
     "metadata": {},
     "output_type": "display_data"
    },
    {
     "name": "stdout",
     "output_type": "stream",
     "text": [
      "EGLD/USDT:USDT SHORT\n",
      "{'tps': [[1725625020000, 24.22, 24.23, 24.2, 24.21, 1448.0], [1725644220000, 24.03, 24.09, 23.97, 24.09, 3096.0], [1725651540000, 23.7, 23.71, 23.66, 23.66, 2256.0]], 'entry_reached': [[1725619680000, 24.45, 24.48, 24.39, 24.4, 2536.0]], 'stop_loss_reached': None, 'break_reason': None}\n"
     ]
    },
    {
     "data": {
      "text/html": [
       "<p style='color:#0f0;'>********************************************************************************************************************</p>"
      ],
      "text/plain": [
       "<IPython.core.display.HTML object>"
      ]
     },
     "metadata": {},
     "output_type": "display_data"
    },
    {
     "name": "stdout",
     "output_type": "stream",
     "text": [
      "BLZ/USDT:USDT LONG\n",
      "{'tps': [[1725625980000, 0.11634, 0.11687, 0.11634, 0.11685, 22827.0]], 'entry_reached': [[1725620100000, 0.11508, 0.11508, 0.11499, 0.11499, 1474.0]], 'stop_loss_reached': [1725644160000, 0.11209, 0.11218, 0.11149, 0.11149, 26672.0], 'break_reason': None}\n"
     ]
    },
    {
     "data": {
      "text/html": [
       "<p style='color:#0f0;'>********************************************************************************************************************</p>"
      ],
      "text/plain": [
       "<IPython.core.display.HTML object>"
      ]
     },
     "metadata": {},
     "output_type": "display_data"
    },
    {
     "name": "stdout",
     "output_type": "stream",
     "text": [
      "OP/USDT:USDT SHORT\n",
      "{'tps': [[1725630000000, 1.3519, 1.3538, 1.3475, 1.3475, 41856.0], [1725631980000, 1.3236, 1.324, 1.317, 1.3225, 78669.0], [1725656460000, 1.294, 1.2971, 1.2884, 1.2903, 80810.0]], 'entry_reached': [[1725626160000, 1.3637, 1.368, 1.3635, 1.368, 22123.0]], 'stop_loss_reached': None, 'break_reason': None}\n"
     ]
    },
    {
     "data": {
      "text/html": [
       "<p style='color:#0f0;'>********************************************************************************************************************</p>"
      ],
      "text/plain": [
       "<IPython.core.display.HTML object>"
      ]
     },
     "metadata": {},
     "output_type": "display_data"
    },
    {
     "name": "stdout",
     "output_type": "stream",
     "text": [
      "ALGO/USDT:USDT SHORT\n",
      "{'tps': [], 'entry_reached': [[1725699480000, 0.1205, 0.1206, 0.1205, 0.1206, 7094.0], [1725721620000, 0.1223, 0.1226, 0.1223, 0.1225, 96402.0]], 'stop_loss_reached': [1725768000000, 0.1231, 0.1234, 0.1231, 0.1232, 222876.0], 'break_reason': None}\n"
     ]
    },
    {
     "data": {
      "text/html": [
       "<p style='color:#0f0;'>********************************************************************************************************************</p>"
      ],
      "text/plain": [
       "<IPython.core.display.HTML object>"
      ]
     },
     "metadata": {},
     "output_type": "display_data"
    },
    {
     "name": "stdout",
     "output_type": "stream",
     "text": [
      "THETA/USDT:USDT SHORT\n",
      "{'tps': [[1725731580000, 1.1297, 1.1299, 1.1264, 1.1276, 81549.0]], 'entry_reached': [[1725691920000, 1.1382, 1.1384, 1.1376, 1.1376, 3301.0], [1725722760000, 1.1576, 1.1607, 1.1576, 1.1601, 31994.0]], 'stop_loss_reached': [1725833880000, 1.165, 1.1665, 1.1646, 1.1646, 15072.0], 'break_reason': None}\n"
     ]
    },
    {
     "data": {
      "text/html": [
       "<p style='color:#0f0;'>********************************************************************************************************************</p>"
      ],
      "text/plain": [
       "<IPython.core.display.HTML object>"
      ]
     },
     "metadata": {},
     "output_type": "display_data"
    },
    {
     "name": "stdout",
     "output_type": "stream",
     "text": [
      "HOOK/USDT:USDT LONG\n",
      "{'tps': [[1725786720000, 0.4014, 0.4023, 0.4013, 0.4014, 49813.0], [1725907500000, 0.4131, 0.4135, 0.4128, 0.4132, 5368.0], [1726241700000, 0.4285, 0.4313, 0.4284, 0.4311, 447566.0]], 'entry_reached': [[1725692400000, 0.3896, 0.3898, 0.389, 0.3898, 26399.0]], 'stop_loss_reached': None, 'break_reason': None}\n"
     ]
    },
    {
     "data": {
      "text/html": [
       "<p style='color:#0f0;'>********************************************************************************************************************</p>"
      ],
      "text/plain": [
       "<IPython.core.display.HTML object>"
      ]
     },
     "metadata": {},
     "output_type": "display_data"
    },
    {
     "name": "stdout",
     "output_type": "stream",
     "text": [
      "OP/USDT:USDT LONG\n",
      "{'tps': [[1725711660000, 1.4135, 1.4244, 1.4134, 1.4241, 99940.0], [1725711780000, 1.4266, 1.4284, 1.4252, 1.4279, 25913.0], [1725765840000, 1.4367, 1.4458, 1.4366, 1.445, 136036.0]], 'entry_reached': [[1725708360000, 1.4031, 1.4031, 1.4023, 1.4023, 2736.0]], 'stop_loss_reached': None, 'break_reason': None}\n"
     ]
    },
    {
     "data": {
      "text/html": [
       "<p style='color:#0f0;'>********************************************************************************************************************</p>"
      ],
      "text/plain": [
       "<IPython.core.display.HTML object>"
      ]
     },
     "metadata": {},
     "output_type": "display_data"
    },
    {
     "name": "stdout",
     "output_type": "stream",
     "text": [
      "NEAR/USDT:USDT SHORT\n",
      "{'tps': [], 'entry_reached': [[1725718500000, 3.654, 3.657, 3.652, 3.655, 1070.0]], 'stop_loss_reached': [1725727320000, 3.721, 3.733, 3.72, 3.73, 6498.0], 'break_reason': None}\n"
     ]
    },
    {
     "data": {
      "text/html": [
       "<p style='color:#0f0;'>********************************************************************************************************************</p>"
      ],
      "text/plain": [
       "<IPython.core.display.HTML object>"
      ]
     },
     "metadata": {},
     "output_type": "display_data"
    },
    {
     "name": "stdout",
     "output_type": "stream",
     "text": [
      "ADA/USDT:USDT SHORT\n",
      "{'tps': [], 'entry_reached': [[1725777360000, 0.3328, 0.3329, 0.3328, 0.3328, 7767.0], [1725789240000, 0.3378, 0.3383, 0.3377, 0.3383, 137775.0]], 'stop_loss_reached': [1725840720000, 0.3402, 0.341, 0.3402, 0.3408, 253789.0], 'break_reason': None}\n"
     ]
    },
    {
     "data": {
      "text/html": [
       "<p style='color:#0f0;'>********************************************************************************************************************</p>"
      ],
      "text/plain": [
       "<IPython.core.display.HTML object>"
      ]
     },
     "metadata": {},
     "output_type": "display_data"
    },
    {
     "name": "stdout",
     "output_type": "stream",
     "text": [
      "AVAX/USDT:USDT SHORT\n",
      "{'tps': [], 'entry_reached': [[1725778800000, 22.554, 22.583, 22.554, 22.582, 2656.0]], 'stop_loss_reached': [1725779640000, 23.067, 23.114, 23.061, 23.087, 42032.0], 'break_reason': None}\n"
     ]
    },
    {
     "data": {
      "text/html": [
       "<p style='color:#0f0;'>********************************************************************************************************************</p>"
      ],
      "text/plain": [
       "<IPython.core.display.HTML object>"
      ]
     },
     "metadata": {},
     "output_type": "display_data"
    },
    {
     "name": "stdout",
     "output_type": "stream",
     "text": [
      "GRT/USDT:USDT LONG\n",
      "{'tps': [[1725874320000, 0.13994, 0.14011, 0.13992, 0.14011, 1630.0], [1726186380000, 0.14488, 0.14509, 0.14482, 0.14494, 4849.0], [1726283160000, 0.15096, 0.15121, 0.15096, 0.15121, 886.0]], 'entry_reached': [[1725780840000, 0.13546, 0.13553, 0.13546, 0.13552, 402.0]], 'stop_loss_reached': None, 'break_reason': None}\n"
     ]
    },
    {
     "data": {
      "text/html": [
       "<p style='color:#0f0;'>********************************************************************************************************************</p>"
      ],
      "text/plain": [
       "<IPython.core.display.HTML object>"
      ]
     },
     "metadata": {},
     "output_type": "display_data"
    },
    {
     "name": "stdout",
     "output_type": "stream",
     "text": [
      "LINK/USDT:USDT SHORT\n",
      "{'tps': [], 'entry_reached': [[1725805860000, 10.204, 10.21, 10.197, 10.201, 5833.0], [1725834120000, 10.411, 10.432, 10.409, 10.411, 47360.0]], 'stop_loss_reached': [1725866520000, 10.419, 10.546, 10.403, 10.546, 201632.0], 'break_reason': None}\n"
     ]
    },
    {
     "data": {
      "text/html": [
       "<p style='color:#0f0;'>********************************************************************************************************************</p>"
      ],
      "text/plain": [
       "<IPython.core.display.HTML object>"
      ]
     },
     "metadata": {},
     "output_type": "display_data"
    },
    {
     "name": "stdout",
     "output_type": "stream",
     "text": [
      "LINK/USDT:USDT SHORT\n",
      "{'tps': [], 'entry_reached': [[1725856500000, 10.343, 10.359, 10.343, 10.351, 4391.0], [1725866520000, 10.419, 10.546, 10.403, 10.546, 201632.0]], 'stop_loss_reached': [1725866580000, 10.57, 10.644, 10.535, 10.566, 450717.0], 'break_reason': None}\n"
     ]
    },
    {
     "data": {
      "text/html": [
       "<p style='color:#0f0;'>********************************************************************************************************************</p>"
      ],
      "text/plain": [
       "<IPython.core.display.HTML object>"
      ]
     },
     "metadata": {},
     "output_type": "display_data"
    },
    {
     "name": "stdout",
     "output_type": "stream",
     "text": [
      "GALA/USDT:USDT LONG\n",
      "{'tps': [[1725899580000, 0.01916, 0.01922, 0.01914, 0.01915, 74098.0]], 'entry_reached': [[1725869160000, 0.01898, 0.01899, 0.01896, 0.01899, 14642.0], [1725892260000, 0.01858, 0.01858, 0.01848, 0.01851, 165303.0]], 'stop_loss_reached': None, 'break_reason': None}\n"
     ]
    },
    {
     "data": {
      "text/html": [
       "<p style='color:#0f0;'>********************************************************************************************************************</p>"
      ],
      "text/plain": [
       "<IPython.core.display.HTML object>"
      ]
     },
     "metadata": {},
     "output_type": "display_data"
    },
    {
     "name": "stdout",
     "output_type": "stream",
     "text": [
      "EGLD/USDT:USDT LONG\n",
      "{'tps': [[1725898320000, 26.04, 26.12, 26.04, 26.1, 1778.0], [1725907500000, 26.29, 26.33, 26.29, 26.32, 930.0], [1725912300000, 26.55, 26.65, 26.51, 26.6, 5982.0]], 'entry_reached': [[1725872160000, 25.87, 25.87, 25.83, 25.85, 859.0]], 'stop_loss_reached': None, 'break_reason': None}\n"
     ]
    },
    {
     "data": {
      "text/html": [
       "<p style='color:#0f0;'>********************************************************************************************************************</p>"
      ],
      "text/plain": [
       "<IPython.core.display.HTML object>"
      ]
     },
     "metadata": {},
     "output_type": "display_data"
    },
    {
     "name": "stdout",
     "output_type": "stream",
     "text": [
      "OP/USDT:USDT SHORT\n",
      "{'tps': [], 'entry_reached': [[1725967560000, 1.5758, 1.5758, 1.5745, 1.5747, 3031.0]], 'stop_loss_reached': [1725987240000, 1.6079, 1.6161, 1.6079, 1.612, 78348.0], 'break_reason': None}\n"
     ]
    },
    {
     "data": {
      "text/html": [
       "<p style='color:#0f0;'>********************************************************************************************************************</p>"
      ],
      "text/plain": [
       "<IPython.core.display.HTML object>"
      ]
     },
     "metadata": {},
     "output_type": "display_data"
    },
    {
     "name": "stdout",
     "output_type": "stream",
     "text": [
      "DOT/USDT:USDT LONG\n",
      "{'tps': [], 'entry_reached': [[1725970320000, 4.243, 4.245, 4.242, 4.243, 1785.0], [1726026780000, 4.178, 4.179, 4.175, 4.176, 2578.0]], 'stop_loss_reached': [1726028220000, 4.153, 4.153, 4.141, 4.147, 9125.0], 'break_reason': None}\n"
     ]
    },
    {
     "data": {
      "text/html": [
       "<p style='color:#0f0;'>********************************************************************************************************************</p>"
      ],
      "text/plain": [
       "<IPython.core.display.HTML object>"
      ]
     },
     "metadata": {},
     "output_type": "display_data"
    },
    {
     "name": "stdout",
     "output_type": "stream",
     "text": [
      "GALA/USDT:USDT LONG\n",
      "{'tps': [[1725993480000, 0.01874, 0.01877, 0.01873, 0.01875, 135994.0]], 'entry_reached': [[1725985080000, 0.01837, 0.01841, 0.01836, 0.01841, 6778.0]], 'stop_loss_reached': None, 'break_reason': None}\n"
     ]
    },
    {
     "data": {
      "text/html": [
       "<p style='color:#0f0;'>********************************************************************************************************************</p>"
      ],
      "text/plain": [
       "<IPython.core.display.HTML object>"
      ]
     },
     "metadata": {},
     "output_type": "display_data"
    },
    {
     "name": "stdout",
     "output_type": "stream",
     "text": [
      "SNX/USDT:USDT LONG\n",
      "{'tps': [], 'entry_reached': [[1726040280000, 1.419, 1.419, 1.418, 1.418, 952.0]], 'stop_loss_reached': [1726049400000, 1.373, 1.374, 1.371, 1.371, 2578.0], 'break_reason': None}\n"
     ]
    },
    {
     "data": {
      "text/html": [
       "<p style='color:#0f0;'>********************************************************************************************************************</p>"
      ],
      "text/plain": [
       "<IPython.core.display.HTML object>"
      ]
     },
     "metadata": {},
     "output_type": "display_data"
    },
    {
     "name": "stdout",
     "output_type": "stream",
     "text": [
      "PEOPLE/USDT:USDT LONG\n",
      "{'tps': [[1726057860000, 0.05979, 0.06021, 0.05967, 0.06011, 147069.0]], 'entry_reached': [[1726050780000, 0.05929, 0.05935, 0.05928, 0.05931, 15986.0]], 'stop_loss_reached': None, 'break_reason': None}\n"
     ]
    },
    {
     "data": {
      "text/html": [
       "<p style='color:#0f0;'>********************************************************************************************************************</p>"
      ],
      "text/plain": [
       "<IPython.core.display.HTML object>"
      ]
     },
     "metadata": {},
     "output_type": "display_data"
    },
    {
     "name": "stdout",
     "output_type": "stream",
     "text": [
      "GRT/USDT:USDT SHORT\n",
      "{'tps': [[1726065840000, 0.13324, 0.13335, 0.13292, 0.1331, 2547.0]], 'entry_reached': [[1726051440000, 0.13555, 0.13562, 0.13541, 0.13561, 607.0], [1726111740000, 0.14146, 0.1416, 0.14145, 0.1416, 245.0]], 'stop_loss_reached': [1726181100000, 0.1433, 0.14351, 0.1433, 0.14348, 1535.0], 'break_reason': None}\n"
     ]
    },
    {
     "data": {
      "text/html": [
       "<p style='color:#0f0;'>********************************************************************************************************************</p>"
      ],
      "text/plain": [
       "<IPython.core.display.HTML object>"
      ]
     },
     "metadata": {},
     "output_type": "display_data"
    },
    {
     "name": "stdout",
     "output_type": "stream",
     "text": [
      "TON/USDT:USDT LONG\n",
      "{'tps': [[1726072980000, 5.3006, 5.3103, 5.3006, 5.3103, 2927.0], [1726098060000, 5.3802, 5.3886, 5.379, 5.3841, 3472.0], [1726157400000, 5.4946, 5.5092, 5.4945, 5.4964, 16252.0]], 'entry_reached': [[1726060260000, 5.2581, 5.2581, 5.2454, 5.2535, 4073.0], [1726063140000, 5.182, 5.1833, 5.171, 5.1747, 10934.0]], 'stop_loss_reached': None, 'break_reason': None}\n"
     ]
    },
    {
     "data": {
      "text/html": [
       "<p style='color:#0f0;'>********************************************************************************************************************</p>"
      ],
      "text/plain": [
       "<IPython.core.display.HTML object>"
      ]
     },
     "metadata": {},
     "output_type": "display_data"
    },
    {
     "name": "stdout",
     "output_type": "stream",
     "text": [
      "XRP/USDT:USDT LONG\n",
      "{'tps': [[1726106400000, 0.5378, 0.5389, 0.5378, 0.5388, 139974.0], [1726145340000, 0.5441, 0.5525, 0.5434, 0.5525, 2986337.0], [1726145400000, 0.5527, 0.5619, 0.5505, 0.5594, 4062812.0]], 'entry_reached': [[1726062780000, 0.5281, 0.5283, 0.5267, 0.5267, 410958.0]], 'stop_loss_reached': None, 'break_reason': None}\n"
     ]
    },
    {
     "data": {
      "text/html": [
       "<p style='color:#0f0;'>********************************************************************************************************************</p>"
      ],
      "text/plain": [
       "<IPython.core.display.HTML object>"
      ]
     },
     "metadata": {},
     "output_type": "display_data"
    },
    {
     "name": "stdout",
     "output_type": "stream",
     "text": [
      "GRT/USDT:USDT SHORT\n",
      "{'tps': [[1726144620000, 0.1401, 0.14018, 0.13953, 0.13957, 9079.0]], 'entry_reached': [[1726122060000, 0.14097, 0.14097, 0.14077, 0.14084, 2895.0], [1726182000000, 0.14353, 0.1437, 0.14344, 0.14355, 2063.0]], 'stop_loss_reached': [1726186140000, 0.14466, 0.14476, 0.14462, 0.14472, 1829.0], 'break_reason': None}\n"
     ]
    },
    {
     "data": {
      "text/html": [
       "<p style='color:#0f0;'>********************************************************************************************************************</p>"
      ],
      "text/plain": [
       "<IPython.core.display.HTML object>"
      ]
     },
     "metadata": {},
     "output_type": "display_data"
    },
    {
     "name": "stdout",
     "output_type": "stream",
     "text": [
      "LINK/USDT:USDT SHORT\n",
      "{'tps': [], 'entry_reached': [[1726155180000, 10.593, 10.603, 10.593, 10.599, 3824.0], [1726165560000, 10.742, 10.757, 10.742, 10.754, 10398.0]], 'stop_loss_reached': [1726188420000, 10.795, 10.835, 10.795, 10.835, 53713.0], 'break_reason': None}\n"
     ]
    },
    {
     "data": {
      "text/html": [
       "<p style='color:#0f0;'>********************************************************************************************************************</p>"
      ],
      "text/plain": [
       "<IPython.core.display.HTML object>"
      ]
     },
     "metadata": {},
     "output_type": "display_data"
    },
    {
     "name": "stdout",
     "output_type": "stream",
     "text": [
      "ZRO/USDT:USDT LONG\n",
      "{'tps': [[1726263240000, 3.953, 3.962, 3.953, 3.955, 4141.0], [1726280820000, 3.997, 4.039, 3.993, 4.038, 51903.0]], 'entry_reached': [[1726213140000, 3.878, 3.878, 3.869, 3.87, 9428.0], [1726233420000, 3.744, 3.745, 3.738, 3.738, 1361.0]], 'stop_loss_reached': [1726455300000, 3.643, 3.644, 3.63, 3.642, 31662.0], 'break_reason': None}\n"
     ]
    },
    {
     "data": {
      "text/html": [
       "<p style='color:#0f0;'>********************************************************************************************************************</p>"
      ],
      "text/plain": [
       "<IPython.core.display.HTML object>"
      ]
     },
     "metadata": {},
     "output_type": "display_data"
    },
    {
     "name": "stdout",
     "output_type": "stream",
     "text": [
      "APE/USDT:USDT LONG\n",
      "{'tps': [[1726241520000, 0.739, 0.741, 0.739, 0.739, 34188.0]], 'entry_reached': [[1726237260000, 0.728, 0.73, 0.728, 0.73, 40239.0]], 'stop_loss_reached': None, 'break_reason': None}\n"
     ]
    },
    {
     "data": {
      "text/html": [
       "<p style='color:#0f0;'>********************************************************************************************************************</p>"
      ],
      "text/plain": [
       "<IPython.core.display.HTML object>"
      ]
     },
     "metadata": {},
     "output_type": "display_data"
    },
    {
     "name": "stdout",
     "output_type": "stream",
     "text": [
      "ZRO/USDT:USDT LONG\n",
      "{'tps': [[1726241580000, 3.888, 3.901, 3.883, 3.898, 35186.0], [1726262880000, 3.952, 3.959, 3.949, 3.949, 3569.0], [1726558620000, 4.063, 4.084, 4.061, 4.084, 38770.0]], 'entry_reached': [[1726241400000, 3.836, 3.859, 3.836, 3.858, 34584.0], [1726441800000, 3.693, 3.7, 3.68, 3.68, 17352.0]], 'stop_loss_reached': None, 'break_reason': None}\n"
     ]
    },
    {
     "data": {
      "text/html": [
       "<p style='color:#0f0;'>********************************************************************************************************************</p>"
      ],
      "text/plain": [
       "<IPython.core.display.HTML object>"
      ]
     },
     "metadata": {},
     "output_type": "display_data"
    },
    {
     "name": "stdout",
     "output_type": "stream",
     "text": [
      "TON/USDT:USDT SHORT\n",
      "{'tps': [], 'entry_reached': [], 'stop_loss_reached': None, 'break_reason': 'WAIT MANY DAYS'}\n"
     ]
    },
    {
     "data": {
      "text/html": [
       "<p style='color:#0f0;'>********************************************************************************************************************</p>"
      ],
      "text/plain": [
       "<IPython.core.display.HTML object>"
      ]
     },
     "metadata": {},
     "output_type": "display_data"
    },
    {
     "name": "stdout",
     "output_type": "stream",
     "text": [
      "FTM/USDT:USDT LONG\n",
      "{'tps': [], 'entry_reached': [[1726304340000, 0.4786, 0.479, 0.4786, 0.479, 5098.0], [1726313340000, 0.4726, 0.4732, 0.4715, 0.4715, 70053.0]], 'stop_loss_reached': [1726314120000, 0.4708, 0.4708, 0.4676, 0.469, 383400.0], 'break_reason': None}\n"
     ]
    },
    {
     "data": {
      "text/html": [
       "<p style='color:#0f0;'>********************************************************************************************************************</p>"
      ],
      "text/plain": [
       "<IPython.core.display.HTML object>"
      ]
     },
     "metadata": {},
     "output_type": "display_data"
    },
    {
     "name": "stdout",
     "output_type": "stream",
     "text": [
      "UNI/USDT:USDT LONG\n",
      "{'tps': [[1726387620000, 6.799, 6.801, 6.795, 6.796, 2540.0]], 'entry_reached': [[1726305120000, 6.715, 6.72, 6.714, 6.719, 2830.0], [1726337220000, 6.635, 6.636, 6.593, 6.6, 30893.0]], 'stop_loss_reached': [1726441740000, 6.549, 6.551, 6.523, 6.523, 8784.0], 'break_reason': None}\n"
     ]
    },
    {
     "data": {
      "text/html": [
       "<p style='color:#0f0;'>********************************************************************************************************************</p>"
      ],
      "text/plain": [
       "<IPython.core.display.HTML object>"
      ]
     },
     "metadata": {},
     "output_type": "display_data"
    },
    {
     "name": "stdout",
     "output_type": "stream",
     "text": [
      "WLD/USDT:USDT SHORT\n",
      "{'tps': [[1726337220000, 1.5009, 1.5009, 1.4899, 1.4916, 183126.0]], 'entry_reached': [[1726331160000, 1.5215, 1.5231, 1.5214, 1.5216, 5946.0]], 'stop_loss_reached': None, 'break_reason': None}\n"
     ]
    },
    {
     "data": {
      "text/html": [
       "<p style='color:#0f0;'>********************************************************************************************************************</p>"
      ],
      "text/plain": [
       "<IPython.core.display.HTML object>"
      ]
     },
     "metadata": {},
     "output_type": "display_data"
    },
    {
     "name": "stdout",
     "output_type": "stream",
     "text": [
      "UNI/USDT:USDT LONG\n",
      "{'tps': [[1726371720000, 6.747, 6.75, 6.745, 6.749, 637.0], [1726412640000, 6.812, 6.837, 6.812, 6.835, 7752.0]], 'entry_reached': [[1726340400000, 6.651, 6.653, 6.647, 6.651, 938.0], [1726441620000, 6.563, 6.564, 6.546, 6.548, 2842.0]], 'stop_loss_reached': [1726441860000, 6.503, 6.503, 6.458, 6.479, 32278.0], 'break_reason': None}\n"
     ]
    },
    {
     "data": {
      "text/html": [
       "<p style='color:#0f0;'>********************************************************************************************************************</p>"
      ],
      "text/plain": [
       "<IPython.core.display.HTML object>"
      ]
     },
     "metadata": {},
     "output_type": "display_data"
    },
    {
     "name": "stdout",
     "output_type": "stream",
     "text": [
      "FTM/USDT:USDT LONG\n",
      "{'tps': [[1726383840000, 0.4891, 0.4906, 0.4891, 0.4895, 116395.0], [1726401240000, 0.4945, 0.4977, 0.4944, 0.4976, 227293.0], [1726405500000, 0.5049, 0.5101, 0.5049, 0.5083, 520180.0]], 'entry_reached': [[1726380180000, 0.4839, 0.4847, 0.4837, 0.4846, 18784.0]], 'stop_loss_reached': None, 'break_reason': None}\n"
     ]
    },
    {
     "data": {
      "text/html": [
       "<p style='color:#0f0;'>********************************************************************************************************************</p>"
      ],
      "text/plain": [
       "<IPython.core.display.HTML object>"
      ]
     },
     "metadata": {},
     "output_type": "display_data"
    },
    {
     "name": "stdout",
     "output_type": "stream",
     "text": [
      "ARB/USDT:USDT LONG\n",
      "{'tps': [], 'entry_reached': [[1726399920000, 0.5337, 0.534, 0.5337, 0.5338, 2292.0], [1726434240000, 0.521, 0.521, 0.5174, 0.5186, 227094.0]], 'stop_loss_reached': [1726445820000, 0.5082, 0.5083, 0.5072, 0.5079, 45574.0], 'break_reason': None}\n"
     ]
    },
    {
     "data": {
      "text/html": [
       "<p style='color:#0f0;'>********************************************************************************************************************</p>"
      ],
      "text/plain": [
       "<IPython.core.display.HTML object>"
      ]
     },
     "metadata": {},
     "output_type": "display_data"
    },
    {
     "name": "stdout",
     "output_type": "stream",
     "text": [
      "XLM/USDT:USDT SHORT\n",
      "{'tps': [[1726441740000, 0.09517, 0.09518, 0.09488, 0.09494, 200354.0], [1726455240000, 0.09396, 0.09398, 0.0938, 0.09384, 68897.0]], 'entry_reached': [[1726401300000, 0.09647, 0.09648, 0.09646, 0.09648, 1453.0], [1726937820000, 0.09834, 0.09842, 0.09833, 0.09841, 56340.0]], 'stop_loss_reached': [1732307340000, 0.33426, 0.33577, 0.33426, 0.33531, 332830.0], 'break_reason': None}\n"
     ]
    },
    {
     "data": {
      "text/html": [
       "<p style='color:#0f0;'>********************************************************************************************************************</p>"
      ],
      "text/plain": [
       "<IPython.core.display.HTML object>"
      ]
     },
     "metadata": {},
     "output_type": "display_data"
    },
    {
     "name": "stdout",
     "output_type": "stream",
     "text": [
      "HBAR/USDT:USDT SHORT\n",
      "{'tps': [[1726434180000, 0.0508, 0.0508, 0.0507, 0.05072, 7785.0], [1726441860000, 0.04981, 0.04981, 0.0496, 0.0497, 48586.0], [1726653000000, 0.04891, 0.04891, 0.04879, 0.04883, 28474.0]], 'entry_reached': [[1726427100000, 0.0513, 0.05137, 0.0513, 0.05134, 1849.0]], 'stop_loss_reached': None, 'break_reason': None}\n"
     ]
    },
    {
     "data": {
      "text/html": [
       "<p style='color:#0f0;'>********************************************************************************************************************</p>"
      ],
      "text/plain": [
       "<IPython.core.display.HTML object>"
      ]
     },
     "metadata": {},
     "output_type": "display_data"
    },
    {
     "name": "stdout",
     "output_type": "stream",
     "text": [
      "EGLD/USDT:USDT SHORT\n",
      "{'tps': [[1726496400000, 24.52, 24.53, 24.49, 24.5, 1215.0]], 'entry_reached': [[1726481700000, 24.81, 24.82, 24.77, 24.77, 1236.0]], 'stop_loss_reached': [1726578840000, 25.48, 25.61, 25.46, 25.6, 3851.0], 'break_reason': None}\n"
     ]
    },
    {
     "data": {
      "text/html": [
       "<p style='color:#0f0;'>********************************************************************************************************************</p>"
      ],
      "text/plain": [
       "<IPython.core.display.HTML object>"
      ]
     },
     "metadata": {},
     "output_type": "display_data"
    },
    {
     "name": "stdout",
     "output_type": "stream",
     "text": [
      "UNI/USDT:USDT SHORT\n",
      "{'tps': [], 'entry_reached': [[1726557780000, 6.578, 6.582, 6.578, 6.58, 704.0], [1726583040000, 6.724, 6.733, 6.723, 6.729, 2783.0]], 'stop_loss_reached': [1726584360000, 6.848, 6.875, 6.84, 6.844, 20368.0], 'break_reason': None}\n"
     ]
    },
    {
     "data": {
      "text/html": [
       "<p style='color:#0f0;'>********************************************************************************************************************</p>"
      ],
      "text/plain": [
       "<IPython.core.display.HTML object>"
      ]
     },
     "metadata": {},
     "output_type": "display_data"
    },
    {
     "name": "stdout",
     "output_type": "stream",
     "text": [
      "SAGA/USDT:USDT LONG\n",
      "{'tps': [[1726576500000, 1.8109, 1.8265, 1.8107, 1.8217, 179326.0], [1726582980000, 1.8506, 1.864, 1.8501, 1.8637, 131373.0], [1726605180000, 1.8713, 2.0063, 1.8704, 1.9293, 1230755.0]], 'entry_reached': [[1726567560000, 1.7718, 1.7772, 1.7718, 1.7747, 55863.0]], 'stop_loss_reached': None, 'break_reason': None}\n"
     ]
    },
    {
     "data": {
      "text/html": [
       "<p style='color:#0f0;'>********************************************************************************************************************</p>"
      ],
      "text/plain": [
       "<IPython.core.display.HTML object>"
      ]
     },
     "metadata": {},
     "output_type": "display_data"
    },
    {
     "name": "stdout",
     "output_type": "stream",
     "text": [
      "IO/USDT:USDT SHORT\n",
      "{'tps': [], 'entry_reached': [[1726574220000, 1.902, 1.904, 1.902, 1.903, 486.0], [1726582980000, 1.939, 1.95, 1.939, 1.947, 7654.0]], 'stop_loss_reached': [1726586460000, 1.969, 1.97, 1.964, 1.966, 10259.0], 'break_reason': None}\n"
     ]
    },
    {
     "data": {
      "text/html": [
       "<p style='color:#0f0;'>********************************************************************************************************************</p>"
      ],
      "text/plain": [
       "<IPython.core.display.HTML object>"
      ]
     },
     "metadata": {},
     "output_type": "display_data"
    },
    {
     "name": "stdout",
     "output_type": "stream",
     "text": [
      "FTM/USDT:USDT SHORT\n",
      "{'tps': [], 'entry_reached': [[1726583880000, 0.5631, 0.5658, 0.5629, 0.5645, 212288.0], [1726585320000, 0.5719, 0.5776, 0.5719, 0.5774, 446664.0]], 'stop_loss_reached': [1726610100000, 0.5797, 0.5832, 0.5793, 0.5828, 173890.0], 'break_reason': None}\n"
     ]
    },
    {
     "data": {
      "text/html": [
       "<p style='color:#0f0;'>********************************************************************************************************************</p>"
      ],
      "text/plain": [
       "<IPython.core.display.HTML object>"
      ]
     },
     "metadata": {},
     "output_type": "display_data"
    },
    {
     "name": "stdout",
     "output_type": "stream",
     "text": [
      "SUI/USDT:USDT SHORT\n",
      "{'tps': [[1726581060000, 1.1538, 1.1555, 1.1527, 1.155, 153612.0]], 'entry_reached': [[1726576260000, 1.1736, 1.1742, 1.1717, 1.1733, 58449.0]], 'stop_loss_reached': None, 'break_reason': None}\n"
     ]
    },
    {
     "data": {
      "text/html": [
       "<p style='color:#0f0;'>********************************************************************************************************************</p>"
      ],
      "text/plain": [
       "<IPython.core.display.HTML object>"
      ]
     },
     "metadata": {},
     "output_type": "display_data"
    },
    {
     "name": "stdout",
     "output_type": "stream",
     "text": [
      "GAS/USDT:USDT LONG\n",
      "{'tps': [[1726585440000, 3.276, 3.281, 3.276, 3.276, 260.0], [1726702560000, 3.314, 3.321, 3.314, 3.321, 464.0], [1726707060000, 3.377, 3.381, 3.377, 3.381, 163.0]], 'entry_reached': [[1726579200000, 3.231, 3.232, 3.231, 3.232, 91.0], [1726674120000, 3.16, 3.16, 3.152, 3.152, 261.0]], 'stop_loss_reached': None, 'break_reason': None}\n"
     ]
    },
    {
     "data": {
      "text/html": [
       "<p style='color:#0f0;'>********************************************************************************************************************</p>"
      ],
      "text/plain": [
       "<IPython.core.display.HTML object>"
      ]
     },
     "metadata": {},
     "output_type": "display_data"
    },
    {
     "name": "stdout",
     "output_type": "stream",
     "text": [
      "DOGS/USDT:USDT LONG\n",
      "{'tps': [], 'entry_reached': [[1726652220000, 0.0009419, 0.0009419, 0.0009403, 0.0009413, 123564.0], [1726666800000, 0.0009314, 0.0009314, 0.0009134, 0.0009204, 3207068.0]], 'stop_loss_reached': [1726667400000, 0.0009167, 0.0009167, 0.0009095, 0.0009116, 755319.0], 'break_reason': None}\n"
     ]
    },
    {
     "data": {
      "text/html": [
       "<p style='color:#0f0;'>********************************************************************************************************************</p>"
      ],
      "text/plain": [
       "<IPython.core.display.HTML object>"
      ]
     },
     "metadata": {},
     "output_type": "display_data"
    },
    {
     "name": "stdout",
     "output_type": "stream",
     "text": [
      "DOGS/USDT:USDT LONG\n",
      "{'tps': [[1726660020000, 0.0009448, 0.0009456, 0.000944, 0.0009446, 54757.0]], 'entry_reached': [[1726654980000, 0.0009381, 0.0009387, 0.0009369, 0.0009374, 54482.0], [1726666800000, 0.0009314, 0.0009314, 0.0009134, 0.0009204, 3207068.0]], 'stop_loss_reached': [1726671480000, 0.0009077, 0.0009085, 0.0009049, 0.000907, 420800.0], 'break_reason': None}\n"
     ]
    },
    {
     "data": {
      "text/html": [
       "<p style='color:#0f0;'>********************************************************************************************************************</p>"
      ],
      "text/plain": [
       "<IPython.core.display.HTML object>"
      ]
     },
     "metadata": {},
     "output_type": "display_data"
    },
    {
     "name": "stdout",
     "output_type": "stream",
     "text": [
      "FTM/USDT:USDT SHORT\n",
      "{'tps': [[1726674120000, 0.5672, 0.5673, 0.5658, 0.5659, 54520.0]], 'entry_reached': [[1726670760000, 0.5714, 0.576, 0.5714, 0.5755, 166468.0], [1726681680000, 0.5834, 0.5847, 0.5828, 0.5847, 84522.0]], 'stop_loss_reached': [1726681980000, 0.5904, 0.5945, 0.5904, 0.5929, 499424.0], 'break_reason': None}\n"
     ]
    },
    {
     "data": {
      "text/html": [
       "<p style='color:#0f0;'>********************************************************************************************************************</p>"
      ],
      "text/plain": [
       "<IPython.core.display.HTML object>"
      ]
     },
     "metadata": {},
     "output_type": "display_data"
    },
    {
     "name": "stdout",
     "output_type": "stream",
     "text": [
      "INJ/USDT:USDT LONG\n",
      "{'tps': [[1726682460000, 18.855, 19.105, 18.855, 18.99, 8488.0], [1726684320000, 19.131, 19.311, 19.131, 19.294, 2386.0], [1726684500000, 19.518, 19.62, 19.441, 19.441, 5790.0]], 'entry_reached': [[1726665540000, 18.743, 18.762, 18.737, 18.742, 243.0], [1726674000000, 18.345, 18.354, 18.294, 18.297, 1214.0]], 'stop_loss_reached': None, 'break_reason': None}\n"
     ]
    },
    {
     "data": {
      "text/html": [
       "<p style='color:#0f0;'>********************************************************************************************************************</p>"
      ],
      "text/plain": [
       "<IPython.core.display.HTML object>"
      ]
     },
     "metadata": {},
     "output_type": "display_data"
    },
    {
     "name": "stdout",
     "output_type": "stream",
     "text": [
      "TON/USDT:USDT LONG\n",
      "{'tps': [[1727442180000, 5.9689, 5.9868, 5.9646, 5.9843, 39192.0]], 'entry_reached': [[1726728540000, 5.7451, 5.7479, 5.745, 5.7468, 978.0]], 'stop_loss_reached': None, 'break_reason': None}\n"
     ]
    },
    {
     "data": {
      "text/html": [
       "<p style='color:#0f0;'>********************************************************************************************************************</p>"
      ],
      "text/plain": [
       "<IPython.core.display.HTML object>"
      ]
     },
     "metadata": {},
     "output_type": "display_data"
    },
    {
     "name": "stdout",
     "output_type": "stream",
     "text": [
      "ZIL/USDT:USDT SHORT\n",
      "{'tps': [[1726837860000, 0.01457, 0.01457, 0.01452, 0.01454, 1478.0], [1726841580000, 0.01441, 0.01442, 0.0144, 0.01441, 624.0]], 'entry_reached': [[1726833240000, 0.01467, 0.01467, 0.01466, 0.01467, 275.0]], 'stop_loss_reached': [1726890000000, 0.01497, 0.01499, 0.01496, 0.01498, 6266.0], 'break_reason': None}\n"
     ]
    },
    {
     "data": {
      "text/html": [
       "<p style='color:#0f0;'>********************************************************************************************************************</p>"
      ],
      "text/plain": [
       "<IPython.core.display.HTML object>"
      ]
     },
     "metadata": {},
     "output_type": "display_data"
    },
    {
     "name": "stdout",
     "output_type": "stream",
     "text": [
      "SAGA/USDT:USDT SHORT\n",
      "{'tps': [], 'entry_reached': [[1726834140000, 2.3534, 2.3638, 2.3527, 2.3529, 22663.0], [1726843080000, 2.4464, 2.4561, 2.441, 2.4545, 37774.0]], 'stop_loss_reached': [1726875000000, 2.5351, 2.55, 2.5351, 2.5413, 88986.0], 'break_reason': None}\n"
     ]
    },
    {
     "data": {
      "text/html": [
       "<p style='color:#0f0;'>********************************************************************************************************************</p>"
      ],
      "text/plain": [
       "<IPython.core.display.HTML object>"
      ]
     },
     "metadata": {},
     "output_type": "display_data"
    },
    {
     "name": "stdout",
     "output_type": "stream",
     "text": [
      "SAGA/USDT:USDT SHORT\n",
      "{'tps': [], 'entry_reached': [[1726844220000, 2.4133, 2.4192, 2.4127, 2.4186, 7197.0], [1726869780000, 2.4907, 2.5081, 2.4907, 2.5064, 47701.0]], 'stop_loss_reached': [1726879260000, 2.5711, 2.5985, 2.5695, 2.5982, 74706.0], 'break_reason': None}\n"
     ]
    },
    {
     "data": {
      "text/html": [
       "<p style='color:#0f0;'>********************************************************************************************************************</p>"
      ],
      "text/plain": [
       "<IPython.core.display.HTML object>"
      ]
     },
     "metadata": {},
     "output_type": "display_data"
    },
    {
     "name": "stdout",
     "output_type": "stream",
     "text": [
      "LPT/USDT:USDT SHORT\n",
      "{'tps': [[1727042520000, 13.057, 13.057, 12.967, 12.985, 47504.0]], 'entry_reached': [[1726854060000, 13.246, 13.265, 13.246, 13.261, 592.0], [1726866300000, 13.638, 13.701, 13.638, 13.691, 5130.0]], 'stop_loss_reached': [1727061060000, 14.056, 14.131, 14.056, 14.122, 18937.0], 'break_reason': None}\n"
     ]
    },
    {
     "data": {
      "text/html": [
       "<p style='color:#0f0;'>********************************************************************************************************************</p>"
      ],
      "text/plain": [
       "<IPython.core.display.HTML object>"
      ]
     },
     "metadata": {},
     "output_type": "display_data"
    },
    {
     "name": "stdout",
     "output_type": "stream",
     "text": [
      "LPT/USDT:USDT SHORT\n",
      "{'tps': [[1727013780000, 13.249, 13.25, 13.238, 13.243, 719.0], [1727042460000, 13.092, 13.108, 13.038, 13.056, 18627.0]], 'entry_reached': [[1726902960000, 13.497, 13.498, 13.471, 13.471, 608.0]], 'stop_loss_reached': [1727061000000, 13.946, 14.073, 13.946, 14.059, 30673.0], 'break_reason': None}\n"
     ]
    },
    {
     "data": {
      "text/html": [
       "<p style='color:#0f0;'>********************************************************************************************************************</p>"
      ],
      "text/plain": [
       "<IPython.core.display.HTML object>"
      ]
     },
     "metadata": {},
     "output_type": "display_data"
    },
    {
     "name": "stdout",
     "output_type": "stream",
     "text": [
      "MEW/USDT:USDT LONG\n",
      "{'tps': [[1727004540000, 0.004689, 0.004709, 0.004689, 0.004697, 2005.0]], 'entry_reached': [[1727003820000, 0.00466, 0.004673, 0.004658, 0.004672, 2127.0]], 'stop_loss_reached': [1727042580000, 0.004545, 0.004551, 0.004521, 0.004531, 11266.0], 'break_reason': None}\n"
     ]
    },
    {
     "data": {
      "text/html": [
       "<p style='color:#0f0;'>********************************************************************************************************************</p>"
      ],
      "text/plain": [
       "<IPython.core.display.HTML object>"
      ]
     },
     "metadata": {},
     "output_type": "display_data"
    },
    {
     "name": "stdout",
     "output_type": "stream",
     "text": [
      "ICX/USDT:USDT SHORT\n",
      "{'tps': [], 'entry_reached': [[1727078580000, 0.1436, 0.1436, 0.1434, 0.1435, 5870.0]], 'stop_loss_reached': [1727136060000, 0.1484, 0.1497, 0.1483, 0.1497, 69397.0], 'break_reason': None}\n"
     ]
    },
    {
     "data": {
      "text/html": [
       "<p style='color:#0f0;'>********************************************************************************************************************</p>"
      ],
      "text/plain": [
       "<IPython.core.display.HTML object>"
      ]
     },
     "metadata": {},
     "output_type": "display_data"
    },
    {
     "name": "stdout",
     "output_type": "stream",
     "text": [
      "SOL/USDT:USDT SHORT\n",
      "{'tps': [[1727305680000, 148.48, 148.52, 148.31, 148.37, 89318.0], [1727311740000, 147.1, 147.12, 146.82, 146.88, 123295.0]], 'entry_reached': [[1727216820000, 150.1, 151.04, 150.1, 150.93, 293426.0], [1727217900000, 152.1, 152.61, 152.09, 152.52, 230038.0]], 'stop_loss_reached': [1727360580000, 154.68, 155.81, 154.68, 155.16, 792105.0], 'break_reason': None}\n"
     ]
    },
    {
     "data": {
      "text/html": [
       "<p style='color:#0f0;'>********************************************************************************************************************</p>"
      ],
      "text/plain": [
       "<IPython.core.display.HTML object>"
      ]
     },
     "metadata": {},
     "output_type": "display_data"
    },
    {
     "name": "stdout",
     "output_type": "stream",
     "text": [
      "CFX/USDT:USDT SHORT\n",
      "{'tps': [[1727171220000, 0.15616, 0.15622, 0.15593, 0.15593, 4718.0]], 'entry_reached': [[1727165820000, 0.15808, 0.15846, 0.15808, 0.15838, 2091.0], [1727173080000, 0.15832, 0.16336, 0.15823, 0.1623, 229720.0]], 'stop_loss_reached': [1727196840000, 0.16222, 0.16507, 0.16217, 0.16505, 123391.0], 'break_reason': None}\n"
     ]
    },
    {
     "data": {
      "text/html": [
       "<p style='color:#0f0;'>********************************************************************************************************************</p>"
      ],
      "text/plain": [
       "<IPython.core.display.HTML object>"
      ]
     },
     "metadata": {},
     "output_type": "display_data"
    },
    {
     "name": "stdout",
     "output_type": "stream",
     "text": [
      "PYTH/USDT:USDT LONG\n",
      "{'tps': [[1727174580000, 0.3473, 0.3482, 0.3472, 0.3482, 36037.0], [1727176680000, 0.3509, 0.3521, 0.3508, 0.3518, 29529.0], [1727180640000, 0.3551, 0.3575, 0.3551, 0.3575, 50344.0]], 'entry_reached': [[1727167380000, 0.3434, 0.3437, 0.3432, 0.3434, 5899.0]], 'stop_loss_reached': None, 'break_reason': None}\n"
     ]
    },
    {
     "data": {
      "text/html": [
       "<p style='color:#0f0;'>********************************************************************************************************************</p>"
      ],
      "text/plain": [
       "<IPython.core.display.HTML object>"
      ]
     },
     "metadata": {},
     "output_type": "display_data"
    },
    {
     "name": "stdout",
     "output_type": "stream",
     "text": [
      "DOGS/USDT:USDT LONG\n",
      "{'tps': [[1727208300000, 0.0008754, 0.0008759, 0.000875, 0.0008755, 52121.0], [1727212080000, 0.0008859, 0.0008872, 0.0008858, 0.0008865, 71312.0], [1727236320000, 0.0008984, 0.0009066, 0.0008984, 0.0009041, 367386.0]], 'entry_reached': [[1727197200000, 0.000862, 0.000862, 0.0008604, 0.0008616, 22230.0]], 'stop_loss_reached': None, 'break_reason': None}\n"
     ]
    },
    {
     "data": {
      "text/html": [
       "<p style='color:#0f0;'>********************************************************************************************************************</p>"
      ],
      "text/plain": [
       "<IPython.core.display.HTML object>"
      ]
     },
     "metadata": {},
     "output_type": "display_data"
    },
    {
     "name": "stdout",
     "output_type": "stream",
     "text": [
      "SOL/USDT:USDT SHORT\n",
      "{'tps': [[1727246100000, 149.62, 149.63, 149.53, 149.57, 53702.0], [1727306580000, 148.12, 148.14, 147.8, 147.83, 261420.0]], 'entry_reached': [[1727238540000, 151.41, 151.42, 151.38, 151.42, 3679.0]], 'stop_loss_reached': [1727360580000, 154.68, 155.81, 154.68, 155.16, 792105.0], 'break_reason': None}\n"
     ]
    },
    {
     "data": {
      "text/html": [
       "<p style='color:#0f0;'>********************************************************************************************************************</p>"
      ],
      "text/plain": [
       "<IPython.core.display.HTML object>"
      ]
     },
     "metadata": {},
     "output_type": "display_data"
    },
    {
     "name": "stdout",
     "output_type": "stream",
     "text": [
      "STRK/USDT:USDT SHORT\n",
      "{'tps': [], 'entry_reached': [[1727273160000, 0.427, 0.4276, 0.4269, 0.4276, 23894.0]], 'stop_loss_reached': [1727295720000, 0.44, 0.4432, 0.44, 0.442, 31811.0], 'break_reason': None}\n"
     ]
    },
    {
     "data": {
      "text/html": [
       "<p style='color:#0f0;'>********************************************************************************************************************</p>"
      ],
      "text/plain": [
       "<IPython.core.display.HTML object>"
      ]
     },
     "metadata": {},
     "output_type": "display_data"
    },
    {
     "name": "stdout",
     "output_type": "stream",
     "text": [
      "EGLD/USDT:USDT LONG\n",
      "{'tps': [], 'entry_reached': [[1727379780000, 29.78, 29.79, 29.77, 29.78, 230.0], [1727594520000, 28.69, 28.69, 28.6, 28.61, 2538.0]], 'stop_loss_reached': [1727737320000, 27.47, 27.47, 27.36, 27.37, 1793.0], 'break_reason': None}\n"
     ]
    },
    {
     "data": {
      "text/html": [
       "<p style='color:#0f0;'>********************************************************************************************************************</p>"
      ],
      "text/plain": [
       "<IPython.core.display.HTML object>"
      ]
     },
     "metadata": {},
     "output_type": "display_data"
    },
    {
     "name": "stdout",
     "output_type": "stream",
     "text": [
      "DOGS/USDT:USDT LONG\n",
      "{'tps': [[1727453760000, 0.0009337, 0.0009423, 0.0009337, 0.0009369, 589564.0]], 'entry_reached': [[1727452980000, 0.0009245, 0.0009364, 0.0009244, 0.0009364, 308392.0]], 'stop_loss_reached': [1727558520000, 0.0008471, 0.0008473, 0.0008445, 0.0008473, 159553.0], 'break_reason': None}\n"
     ]
    },
    {
     "data": {
      "text/html": [
       "<p style='color:#0f0;'>********************************************************************************************************************</p>"
      ],
      "text/plain": [
       "<IPython.core.display.HTML object>"
      ]
     },
     "metadata": {},
     "output_type": "display_data"
    },
    {
     "name": "stdout",
     "output_type": "stream",
     "text": [
      "DOGS/USDT:USDT LONG\n",
      "{'tps': [], 'entry_reached': [[1727458740000, 0.0009166, 0.0009167, 0.0009139, 0.0009153, 55709.0], [1727505480000, 0.000885, 0.000885, 0.0008832, 0.0008844, 151234.0]], 'stop_loss_reached': [1727514480000, 0.000858, 0.000858, 0.0008547, 0.0008547, 224540.0], 'break_reason': None}\n"
     ]
    },
    {
     "data": {
      "text/html": [
       "<p style='color:#0f0;'>********************************************************************************************************************</p>"
      ],
      "text/plain": [
       "<IPython.core.display.HTML object>"
      ]
     },
     "metadata": {},
     "output_type": "display_data"
    },
    {
     "name": "stdout",
     "output_type": "stream",
     "text": [
      "BTC/USDT:USDT SHORT\n",
      "{'tps': [[1727660820000, 65023.1, 65026.5, 64848.6, 64896.9, 15080487.0], [1727685540000, 64249.3, 64249.3, 64060.0, 64158.4, 7941196.0], [1727690940000, 63324.1, 63386.1, 63251.7, 63279.2, 7180046.0]], 'entry_reached': [[1727459100000, 65711.8, 65731.8, 65710.5, 65710.5, 702568.0]], 'stop_loss_reached': None, 'break_reason': None}\n"
     ]
    },
    {
     "data": {
      "text/html": [
       "<p style='color:#0f0;'>********************************************************************************************************************</p>"
      ],
      "text/plain": [
       "<IPython.core.display.HTML object>"
      ]
     },
     "metadata": {},
     "output_type": "display_data"
    },
    {
     "name": "stdout",
     "output_type": "stream",
     "text": [
      "ANKR/USDT:USDT LONG\n",
      "{'tps': [[1727519460000, 0.02988, 0.02992, 0.02987, 0.02992, 23395.0], [1727533620000, 0.03026, 0.0303, 0.03026, 0.03027, 15880.0]], 'entry_reached': [[1727514600000, 0.02953, 0.02959, 0.02953, 0.02957, 51555.0], [1727705160000, 0.02893, 0.02893, 0.02885, 0.02888, 132512.0]], 'stop_loss_reached': [1727739720000, 0.02825, 0.02827, 0.02821, 0.02821, 94309.0], 'break_reason': None}\n"
     ]
    },
    {
     "data": {
      "text/html": [
       "<p style='color:#0f0;'>********************************************************************************************************************</p>"
      ],
      "text/plain": [
       "<IPython.core.display.HTML object>"
      ]
     },
     "metadata": {},
     "output_type": "display_data"
    },
    {
     "name": "stdout",
     "output_type": "stream",
     "text": [
      "BCH/USDT:USDT SHORT\n",
      "{'tps': [], 'entry_reached': [], 'stop_loss_reached': None, 'break_reason': 'WAIT MANY DAYS'}\n"
     ]
    },
    {
     "data": {
      "text/html": [
       "<p style='color:#0f0;'>********************************************************************************************************************</p>"
      ],
      "text/plain": [
       "<IPython.core.display.HTML object>"
      ]
     },
     "metadata": {},
     "output_type": "display_data"
    },
    {
     "name": "stdout",
     "output_type": "stream",
     "text": [
      "DOGS/USDT:USDT LONG\n",
      "{'tps': [[1727533560000, 0.0008813, 0.0008828, 0.000881, 0.0008826, 82299.0]], 'entry_reached': [[1727530680000, 0.00087, 0.0008703, 0.000869, 0.0008691, 16054.0], [1727558280000, 0.0008563, 0.0008563, 0.0008537, 0.0008537, 152660.0]], 'stop_loss_reached': [1727614380000, 0.0008357, 0.0008358, 0.0008336, 0.0008336, 69695.0], 'break_reason': None}\n"
     ]
    },
    {
     "data": {
      "text/html": [
       "<p style='color:#0f0;'>********************************************************************************************************************</p>"
      ],
      "text/plain": [
       "<IPython.core.display.HTML object>"
      ]
     },
     "metadata": {},
     "output_type": "display_data"
    },
    {
     "name": "stdout",
     "output_type": "stream",
     "text": [
      "KSM/USDT:USDT SHORT\n",
      "{'tps': [[1727592000000, 21.496, 21.496, 21.459, 21.468, 1278.0], [1727598180000, 21.151, 21.151, 21.105, 21.122, 1603.0], [1727690940000, 20.763, 20.785, 20.716, 20.736, 1304.0]], 'entry_reached': [[1727540520000, 21.72, 21.773, 21.72, 21.772, 209.0]], 'stop_loss_reached': None, 'break_reason': None}\n"
     ]
    },
    {
     "data": {
      "text/html": [
       "<p style='color:#0f0;'>********************************************************************************************************************</p>"
      ],
      "text/plain": [
       "<IPython.core.display.HTML object>"
      ]
     },
     "metadata": {},
     "output_type": "display_data"
    },
    {
     "name": "stdout",
     "output_type": "stream",
     "text": [
      "PYTH/USDT:USDT SHORT\n",
      "{'tps': [[1727634780000, 0.3693, 0.3693, 0.3685, 0.3692, 23928.0], [1727656200000, 0.366, 0.366, 0.3648, 0.3653, 21794.0], [1727664660000, 0.3613, 0.3613, 0.3605, 0.3608, 5165.0]], 'entry_reached': [[1727631840000, 0.3726, 0.3731, 0.3722, 0.3722, 8478.0], [1727647560000, 0.3777, 0.3787, 0.3777, 0.3786, 7258.0]], 'stop_loss_reached': None, 'break_reason': None}\n"
     ]
    },
    {
     "data": {
      "text/html": [
       "<p style='color:#0f0;'>********************************************************************************************************************</p>"
      ],
      "text/plain": [
       "<IPython.core.display.HTML object>"
      ]
     },
     "metadata": {},
     "output_type": "display_data"
    },
    {
     "name": "stdout",
     "output_type": "stream",
     "text": [
      "DOGS/USDT:USDT LONG\n",
      "{'tps': [[1727601300000, 0.0008517, 0.000853, 0.0008516, 0.000853, 28821.0]], 'entry_reached': [[1727596500000, 0.000839, 0.0008394, 0.000838, 0.0008387, 36098.0], [1727665800000, 0.0008179, 0.0008185, 0.0008151, 0.0008165, 173849.0]], 'stop_loss_reached': [1727691060000, 0.0007997, 0.0007997, 0.0007934, 0.0007956, 598803.0], 'break_reason': None}\n"
     ]
    },
    {
     "data": {
      "text/html": [
       "<p style='color:#0f0;'>********************************************************************************************************************</p>"
      ],
      "text/plain": [
       "<IPython.core.display.HTML object>"
      ]
     },
     "metadata": {},
     "output_type": "display_data"
    },
    {
     "name": "stdout",
     "output_type": "stream",
     "text": [
      "ZRX/USDT:USDT SHORT\n",
      "{'tps': [], 'entry_reached': [[1727618220000, 0.3522, 0.3536, 0.3522, 0.3536, 23946.0]], 'stop_loss_reached': [1727628480000, 0.3587, 0.3593, 0.3587, 0.3593, 1415.0], 'break_reason': None}\n"
     ]
    },
    {
     "data": {
      "text/html": [
       "<p style='color:#0f0;'>********************************************************************************************************************</p>"
      ],
      "text/plain": [
       "<IPython.core.display.HTML object>"
      ]
     },
     "metadata": {},
     "output_type": "display_data"
    },
    {
     "name": "stdout",
     "output_type": "stream",
     "text": [
      "ETH/USDT:USDT SHORT\n",
      "{'tps': [[1727656080000, 2640.55, 2641.93, 2638.38, 2638.42, 546272.0], [1727662260000, 2610.35, 2610.49, 2601.03, 2606.21, 1476037.0], [1727720460000, 2581.68, 2582.99, 2579.88, 2579.97, 317070.0]], 'entry_reached': [[1727622900000, 2662.7, 2668.0, 2662.7, 2665.79, 606149.0]], 'stop_loss_reached': None, 'break_reason': None}\n"
     ]
    },
    {
     "data": {
      "text/html": [
       "<p style='color:#0f0;'>********************************************************************************************************************</p>"
      ],
      "text/plain": [
       "<IPython.core.display.HTML object>"
      ]
     },
     "metadata": {},
     "output_type": "display_data"
    },
    {
     "name": "stdout",
     "output_type": "stream",
     "text": [
      "XRP/USDT:USDT LONG\n",
      "{'tps': [], 'entry_reached': [[1727679960000, 0.6464, 0.6474, 0.6464, 0.6467, 116404.0], [1727704920000, 0.6271, 0.6275, 0.6244, 0.6252, 1192277.0]], 'stop_loss_reached': [1727795040000, 0.6042, 0.6049, 0.6013, 0.6017, 1540614.0], 'break_reason': None}\n"
     ]
    },
    {
     "data": {
      "text/html": [
       "<p style='color:#0f0;'>********************************************************************************************************************</p>"
      ],
      "text/plain": [
       "<IPython.core.display.HTML object>"
      ]
     },
     "metadata": {},
     "output_type": "display_data"
    },
    {
     "name": "stdout",
     "output_type": "stream",
     "text": [
      "ZRX/USDT:USDT LONG\n",
      "{'tps': [[1727743800000, 0.3381, 0.3397, 0.3381, 0.3397, 2518.0], [1727755620000, 0.3435, 0.3438, 0.3429, 0.3429, 3887.0]], 'entry_reached': [[1727739540000, 0.3347, 0.3349, 0.3338, 0.3341, 5497.0], [1727793300000, 0.3285, 0.3285, 0.3274, 0.3274, 7538.0]], 'stop_loss_reached': [1727794980000, 0.3226, 0.3226, 0.3213, 0.3215, 28161.0], 'break_reason': None}\n"
     ]
    },
    {
     "data": {
      "text/html": [
       "<p style='color:#0f0;'>********************************************************************************************************************</p>"
      ],
      "text/plain": [
       "<IPython.core.display.HTML object>"
      ]
     },
     "metadata": {},
     "output_type": "display_data"
    },
    {
     "data": {
      "text/html": [
       "<p style='color:#FFFF00;'>waiting 5 min...</p>"
      ],
      "text/plain": [
       "<IPython.core.display.HTML object>"
      ]
     },
     "metadata": {},
     "output_type": "display_data"
    },
    {
     "name": "stdout",
     "output_type": "stream",
     "text": [
      "ICP/USDT:USDT SHORT\n",
      "{'tps': [[1727778780000, 9.252, 9.252, 9.244, 9.25, 22797.0], [1727788680000, 9.128, 9.131, 9.117, 9.124, 22529.0], [1727789820000, 9.063, 9.065, 9.027, 9.031, 162554.0]], 'entry_reached': [[1727768700000, 9.375, 9.393, 9.368, 9.372, 214120.0]], 'stop_loss_reached': None, 'break_reason': None}\n"
     ]
    },
    {
     "data": {
      "text/html": [
       "<p style='color:#0f0;'>********************************************************************************************************************</p>"
      ],
      "text/plain": [
       "<IPython.core.display.HTML object>"
      ]
     },
     "metadata": {},
     "output_type": "display_data"
    },
    {
     "name": "stdout",
     "output_type": "stream",
     "text": [
      "ADA/USDT:USDT SHORT\n",
      "{'tps': [], 'entry_reached': [], 'stop_loss_reached': None, 'break_reason': 'WAIT MANY DAYS'}\n"
     ]
    },
    {
     "data": {
      "text/html": [
       "<p style='color:#0f0;'>********************************************************************************************************************</p>"
      ],
      "text/plain": [
       "<IPython.core.display.HTML object>"
      ]
     },
     "metadata": {},
     "output_type": "display_data"
    },
    {
     "name": "stdout",
     "output_type": "stream",
     "text": [
      "XRP/USDT:USDT LONG\n",
      "{'tps': [], 'entry_reached': [[1727782980000, 0.6304, 0.6313, 0.6304, 0.6312, 39281.0], [1727790060000, 0.6152, 0.6152, 0.6095, 0.6104, 1344937.0]], 'stop_loss_reached': [1727795400000, 0.5967, 0.5974, 0.593, 0.5956, 1639840.0], 'break_reason': None}\n"
     ]
    },
    {
     "data": {
      "text/html": [
       "<p style='color:#0f0;'>********************************************************************************************************************</p>"
      ],
      "text/plain": [
       "<IPython.core.display.HTML object>"
      ]
     },
     "metadata": {},
     "output_type": "display_data"
    },
    {
     "name": "stdout",
     "output_type": "stream",
     "text": [
      "JTO/USDT:USDT SHORT\n",
      "{'tps': [[1727789100000, 2.315, 2.317, 2.311, 2.315, 1418.0], [1727790060000, 2.266, 2.266, 2.246, 2.246, 3944.0], [1727794920000, 2.21, 2.21, 2.19, 2.192, 3065.0]], 'entry_reached': [[1727786280000, 2.356, 2.357, 2.353, 2.355, 1745.0]], 'stop_loss_reached': None, 'break_reason': None}\n"
     ]
    },
    {
     "data": {
      "text/html": [
       "<p style='color:#0f0;'>********************************************************************************************************************</p>"
      ],
      "text/plain": [
       "<IPython.core.display.HTML object>"
      ]
     },
     "metadata": {},
     "output_type": "display_data"
    },
    {
     "name": "stdout",
     "output_type": "stream",
     "text": [
      "XRP/USDT:USDT LONG\n",
      "{'tps': [], 'entry_reached': [[1727792160000, 0.6219, 0.6226, 0.6212, 0.6213, 174012.0], [1727795160000, 0.6012, 0.6026, 0.5978, 0.6015, 1872669.0]], 'stop_loss_reached': [1727803260000, 0.583, 0.5841, 0.579, 0.5813, 1528316.0], 'break_reason': None}\n"
     ]
    },
    {
     "data": {
      "text/html": [
       "<p style='color:#0f0;'>********************************************************************************************************************</p>"
      ],
      "text/plain": [
       "<IPython.core.display.HTML object>"
      ]
     },
     "metadata": {},
     "output_type": "display_data"
    },
    {
     "name": "stdout",
     "output_type": "stream",
     "text": [
      "XRP/USDT:USDT LONG\n",
      "{'tps': [], 'entry_reached': [[1727797320000, 0.61, 0.611, 0.6096, 0.61, 196612.0]], 'stop_loss_reached': [1727803200000, 0.5881, 0.5881, 0.5801, 0.5824, 2880115.0], 'break_reason': None}\n"
     ]
    },
    {
     "data": {
      "text/html": [
       "<p style='color:#0f0;'>********************************************************************************************************************</p>"
      ],
      "text/plain": [
       "<IPython.core.display.HTML object>"
      ]
     },
     "metadata": {},
     "output_type": "display_data"
    },
    {
     "name": "stdout",
     "output_type": "stream",
     "text": [
      "SUI/USDT:USDT SHORT\n",
      "{'tps': [[1727849220000, 1.8556, 1.856, 1.851, 1.853, 97961.0], [1727869800000, 1.8297, 1.831, 1.8254, 1.828, 103230.0], [1727870760000, 1.8072, 1.8074, 1.802, 1.8055, 341614.0]], 'entry_reached': [[1727846340000, 1.8756, 1.8861, 1.8728, 1.8861, 341521.0], [1727851320000, 1.9153, 1.9267, 1.9152, 1.9267, 284054.0]], 'stop_loss_reached': None, 'break_reason': None}\n"
     ]
    },
    {
     "data": {
      "text/html": [
       "<p style='color:#0f0;'>********************************************************************************************************************</p>"
      ],
      "text/plain": [
       "<IPython.core.display.HTML object>"
      ]
     },
     "metadata": {},
     "output_type": "display_data"
    },
    {
     "name": "stdout",
     "output_type": "stream",
     "text": [
      "FTM/USDT:USDT SHORT\n",
      "{'tps': [], 'entry_reached': [], 'stop_loss_reached': None, 'break_reason': 'WAIT MANY DAYS'}\n"
     ]
    },
    {
     "data": {
      "text/html": [
       "<p style='color:#0f0;'>********************************************************************************************************************</p>"
      ],
      "text/plain": [
       "<IPython.core.display.HTML object>"
      ]
     },
     "metadata": {},
     "output_type": "display_data"
    },
    {
     "name": "stdout",
     "output_type": "stream",
     "text": [
      "OP/USDT:USDT SHORT\n",
      "{'tps': [[1727856540000, 1.6848, 1.6848, 1.6813, 1.682, 8883.0], [1727861460000, 1.6746, 1.6755, 1.6696, 1.672, 16284.0], [1727862480000, 1.6552, 1.6554, 1.6515, 1.6528, 12834.0]], 'entry_reached': [[1727852760000, 1.6937, 1.694, 1.6871, 1.6888, 6501.0]], 'stop_loss_reached': None, 'break_reason': None}\n"
     ]
    },
    {
     "data": {
      "text/html": [
       "<p style='color:#0f0;'>********************************************************************************************************************</p>"
      ],
      "text/plain": [
       "<IPython.core.display.HTML object>"
      ]
     },
     "metadata": {},
     "output_type": "display_data"
    },
    {
     "name": "stdout",
     "output_type": "stream",
     "text": [
      "SUI/USDT:USDT SHORT\n",
      "{'tps': [[1727861460000, 1.9012, 1.9017, 1.8859, 1.8882, 197747.0], [1727867280000, 1.8493, 1.85, 1.8438, 1.8454, 281078.0], [1727870760000, 1.8072, 1.8074, 1.802, 1.8055, 341614.0]], 'entry_reached': [[1727860980000, 1.914, 1.9144, 1.909, 1.9095, 61138.0]], 'stop_loss_reached': None, 'break_reason': None}\n"
     ]
    },
    {
     "data": {
      "text/html": [
       "<p style='color:#0f0;'>********************************************************************************************************************</p>"
      ],
      "text/plain": [
       "<IPython.core.display.HTML object>"
      ]
     },
     "metadata": {},
     "output_type": "display_data"
    },
    {
     "name": "stdout",
     "output_type": "stream",
     "text": [
      "ARB/USDT:USDT SHORT\n",
      "{'tps': [[1728050880000, 0.5527, 0.5527, 0.5503, 0.5504, 17012.0], [1728393240000, 0.5424, 0.5426, 0.5415, 0.5422, 47533.0], [1728401700000, 0.5354, 0.536, 0.5345, 0.5351, 63843.0]], 'entry_reached': [[1728046800000, 0.5566, 0.5574, 0.5554, 0.5555, 64820.0], [1728262800000, 0.5697, 0.5706, 0.5696, 0.5701, 66278.0]], 'stop_loss_reached': None, 'break_reason': None}\n"
     ]
    },
    {
     "data": {
      "text/html": [
       "<p style='color:#0f0;'>********************************************************************************************************************</p>"
      ],
      "text/plain": [
       "<IPython.core.display.HTML object>"
      ]
     },
     "metadata": {},
     "output_type": "display_data"
    },
    {
     "name": "stdout",
     "output_type": "stream",
     "text": [
      "ADA/USDT:USDT SHORT\n",
      "{'tps': [[1728292680000, 0.3593, 0.3594, 0.3587, 0.3588, 401391.0], [1728299040000, 0.3547, 0.3548, 0.3541, 0.3542, 186045.0], [1728368100000, 0.3502, 0.3502, 0.3495, 0.3502, 184113.0]], 'entry_reached': [[1728264780000, 0.3639, 0.3644, 0.3639, 0.3644, 66001.0]], 'stop_loss_reached': None, 'break_reason': None}\n"
     ]
    },
    {
     "data": {
      "text/html": [
       "<p style='color:#0f0;'>********************************************************************************************************************</p>"
      ],
      "text/plain": [
       "<IPython.core.display.HTML object>"
      ]
     },
     "metadata": {},
     "output_type": "display_data"
    },
    {
     "name": "stdout",
     "output_type": "stream",
     "text": [
      "ARB/USDT:USDT SHORT\n",
      "{'tps': [[1728272220000, 0.5666, 0.5666, 0.5655, 0.5655, 12117.0], [1728292920000, 0.56, 0.5601, 0.5589, 0.5589, 28550.0], [1728296460000, 0.5546, 0.5546, 0.5526, 0.5528, 41765.0]], 'entry_reached': [[1728266460000, 0.5733, 0.5742, 0.5732, 0.5741, 28636.0]], 'stop_loss_reached': None, 'break_reason': None}\n"
     ]
    },
    {
     "data": {
      "text/html": [
       "<p style='color:#0f0;'>********************************************************************************************************************</p>"
      ],
      "text/plain": [
       "<IPython.core.display.HTML object>"
      ]
     },
     "metadata": {},
     "output_type": "display_data"
    },
    {
     "name": "stdout",
     "output_type": "stream",
     "text": [
      "TWT/USDT:USDT LONG\n",
      "{'tps': [[1727979300000, 1.0177, 1.0216, 1.0165, 1.0183, 18377.0], [1727981400000, 1.0274, 1.032, 1.0268, 1.0313, 40115.0], [1727992260000, 1.048, 1.0551, 1.048, 1.0544, 28383.0]], 'entry_reached': [[1727959380000, 0.9996, 0.9996, 0.9981, 0.9991, 3758.0]], 'stop_loss_reached': None, 'break_reason': None}\n"
     ]
    },
    {
     "data": {
      "text/html": [
       "<p style='color:#0f0;'>********************************************************************************************************************</p>"
      ],
      "text/plain": [
       "<IPython.core.display.HTML object>"
      ]
     },
     "metadata": {},
     "output_type": "display_data"
    },
    {
     "name": "stdout",
     "output_type": "stream",
     "text": [
      "BTC/USDT:USDT LONG\n",
      "{'tps': [[1728023040000, 61238.1, 61314.9, 61238.0, 61288.1, 2391663.0], [1728046800000, 61887.6, 61981.4, 61728.5, 61819.8, 10354422.0], [1728226560000, 62697.6, 62748.9, 62679.3, 62710.0, 3925658.0]], 'entry_reached': [[1727971500000, 60582.8, 60610.0, 60539.7, 60539.7, 661006.0]], 'stop_loss_reached': None, 'break_reason': None}\n"
     ]
    },
    {
     "data": {
      "text/html": [
       "<p style='color:#0f0;'>********************************************************************************************************************</p>"
      ],
      "text/plain": [
       "<IPython.core.display.HTML object>"
      ]
     },
     "metadata": {},
     "output_type": "display_data"
    },
    {
     "name": "stdout",
     "output_type": "stream",
     "text": [
      "TAO/USDT:USDT LONG\n",
      "{'tps': [[1728028440000, 514.42, 517.53, 514.17, 517.28, 23690.0], [1728030180000, 524.49, 525.17, 524.18, 524.27, 26442.0], [1728046920000, 533.38, 538.33, 533.14, 538.33, 21711.0]], 'entry_reached': [[1728022560000, 506.56, 509.32, 506.56, 508.99, 5974.0]], 'stop_loss_reached': None, 'break_reason': None}\n"
     ]
    },
    {
     "data": {
      "text/html": [
       "<p style='color:#0f0;'>********************************************************************************************************************</p>"
      ],
      "text/plain": [
       "<IPython.core.display.HTML object>"
      ]
     },
     "metadata": {},
     "output_type": "display_data"
    },
    {
     "name": "stdout",
     "output_type": "stream",
     "text": [
      "ZRX/USDT:USDT SHORT\n",
      "{'tps': [[1728147060000, 0.3105, 0.3105, 0.3102, 0.3105, 1047.0], [1728158760000, 0.3054, 0.3054, 0.3052, 0.3052, 624.0], [1728580080000, 0.2969, 0.297, 0.2967, 0.2967, 6670.0]], 'entry_reached': [[1728090000000, 0.3163, 0.3171, 0.3162, 0.3171, 4999.0], [1728261660000, 0.3242, 0.3242, 0.3237, 0.3239, 1637.0]], 'stop_loss_reached': None, 'break_reason': None}\n"
     ]
    },
    {
     "data": {
      "text/html": [
       "<p style='color:#0f0;'>********************************************************************************************************************</p>"
      ],
      "text/plain": [
       "<IPython.core.display.HTML object>"
      ]
     },
     "metadata": {},
     "output_type": "display_data"
    },
    {
     "name": "stdout",
     "output_type": "stream",
     "text": [
      "OP/USDT:USDT SHORT\n",
      "{'tps': [[1728045180000, 1.5537, 1.5554, 1.5501, 1.5521, 27371.0]], 'entry_reached': [[1728045120000, 1.5642, 1.5651, 1.5537, 1.5546, 18087.0]], 'stop_loss_reached': [1728066780000, 1.6078, 1.6097, 1.6078, 1.6097, 4656.0], 'break_reason': None}\n"
     ]
    },
    {
     "data": {
      "text/html": [
       "<p style='color:#0f0;'>********************************************************************************************************************</p>"
      ],
      "text/plain": [
       "<IPython.core.display.HTML object>"
      ]
     },
     "metadata": {},
     "output_type": "display_data"
    },
    {
     "name": "stdout",
     "output_type": "stream",
     "text": [
      "ETH/USDT:USDT SHORT\n",
      "{'tps': [[1728251280000, 2421.52, 2421.52, 2416.69, 2416.69, 629714.0], [1728506880000, 2402.8, 2406.59, 2390.64, 2393.11, 1896189.0], [1728507180000, 2370.51, 2373.63, 2362.49, 2368.04, 1582707.0]], 'entry_reached': [[1728226500000, 2446.97, 2452.7, 2446.66, 2452.0, 676784.0], [1728266580000, 2501.59, 2511.33, 2501.2, 2508.93, 649057.0]], 'stop_loss_reached': None, 'break_reason': None}\n"
     ]
    },
    {
     "data": {
      "text/html": [
       "<p style='color:#0f0;'>********************************************************************************************************************</p>"
      ],
      "text/plain": [
       "<IPython.core.display.HTML object>"
      ]
     },
     "metadata": {},
     "output_type": "display_data"
    },
    {
     "name": "stdout",
     "output_type": "stream",
     "text": [
      "LPT/USDT:USDT LONG\n",
      "{'tps': [[1728262140000, 12.642, 12.669, 12.638, 12.669, 2562.0], [1728265800000, 12.8, 12.812, 12.798, 12.799, 1025.0]], 'entry_reached': [[1728137160000, 12.426, 12.426, 12.405, 12.406, 1383.0]], 'stop_loss_reached': [1728372360000, 12.008, 12.008, 11.965, 11.981, 26765.0], 'break_reason': None}\n"
     ]
    },
    {
     "data": {
      "text/html": [
       "<p style='color:#0f0;'>********************************************************************************************************************</p>"
      ],
      "text/plain": [
       "<IPython.core.display.HTML object>"
      ]
     },
     "metadata": {},
     "output_type": "display_data"
    },
    {
     "name": "stdout",
     "output_type": "stream",
     "text": [
      "FTM/USDT:USDT SHORT\n",
      "{'tps': [[1728155940000, 0.6023, 0.6024, 0.6013, 0.6019, 90444.0]], 'entry_reached': [[1728147960000, 0.612, 0.612, 0.6101, 0.6105, 29731.0]], 'stop_loss_reached': [1728184680000, 0.6341, 0.6356, 0.6341, 0.6356, 59265.0], 'break_reason': None}\n"
     ]
    },
    {
     "data": {
      "text/html": [
       "<p style='color:#0f0;'>********************************************************************************************************************</p>"
      ],
      "text/plain": [
       "<IPython.core.display.HTML object>"
      ]
     },
     "metadata": {},
     "output_type": "display_data"
    },
    {
     "name": "stdout",
     "output_type": "stream",
     "text": [
      "PYTH/USDT:USDT SHORT\n",
      "{'tps': [[1728269040000, 0.3435, 0.3435, 0.343, 0.3435, 4476.0], [1728292320000, 0.34, 0.34, 0.3392, 0.3392, 12493.0], [1728292980000, 0.3364, 0.3374, 0.3361, 0.3374, 9143.0]], 'entry_reached': [[1728266580000, 0.3475, 0.3483, 0.3474, 0.3481, 9443.0]], 'stop_loss_reached': None, 'break_reason': None}\n"
     ]
    },
    {
     "data": {
      "text/html": [
       "<p style='color:#0f0;'>********************************************************************************************************************</p>"
      ],
      "text/plain": [
       "<IPython.core.display.HTML object>"
      ]
     },
     "metadata": {},
     "output_type": "display_data"
    },
    {
     "name": "stdout",
     "output_type": "stream",
     "text": [
      "ID/USDT:USDT SHORT\n",
      "{'tps': [], 'entry_reached': [[1728255660000, 0.36653, 0.36679, 0.36635, 0.36666, 6914.0], [1728266580000, 0.37521, 0.37596, 0.37513, 0.37569, 3806.0]], 'stop_loss_reached': [1728323280000, 0.37985, 0.38023, 0.37984, 0.37984, 2504.0], 'break_reason': None}\n"
     ]
    },
    {
     "data": {
      "text/html": [
       "<p style='color:#0f0;'>********************************************************************************************************************</p>"
      ],
      "text/plain": [
       "<IPython.core.display.HTML object>"
      ]
     },
     "metadata": {},
     "output_type": "display_data"
    },
    {
     "name": "stdout",
     "output_type": "stream",
     "text": [
      "GRT/USDT:USDT LONG\n",
      "{'tps': [[1728261600000, 0.16756, 0.16803, 0.16747, 0.16802, 10257.0], [1728262860000, 0.16942, 0.1697, 0.16935, 0.1697, 1547.0], [1728271020000, 0.17103, 0.1726, 0.17095, 0.17258, 18530.0]], 'entry_reached': [[1728229200000, 0.1635, 0.16364, 0.16348, 0.16363, 604.0]], 'stop_loss_reached': None, 'break_reason': None}\n"
     ]
    },
    {
     "data": {
      "text/html": [
       "<p style='color:#0f0;'>********************************************************************************************************************</p>"
      ],
      "text/plain": [
       "<IPython.core.display.HTML object>"
      ]
     },
     "metadata": {},
     "output_type": "display_data"
    },
    {
     "name": "stdout",
     "output_type": "stream",
     "text": [
      "LDO/USDT:USDT LONG\n",
      "{'tps': [[1728307440000, 1.1021, 1.1037, 1.1021, 1.1032, 4842.0], [1728309960000, 1.1128, 1.1149, 1.1125, 1.114, 5769.0], [1728310800000, 1.1215, 1.1265, 1.1213, 1.1225, 30856.0]], 'entry_reached': [[1728293280000, 1.0886, 1.0905, 1.088, 1.09, 8199.0]], 'stop_loss_reached': None, 'break_reason': None}\n"
     ]
    },
    {
     "data": {
      "text/html": [
       "<p style='color:#0f0;'>********************************************************************************************************************</p>"
      ],
      "text/plain": [
       "<IPython.core.display.HTML object>"
      ]
     },
     "metadata": {},
     "output_type": "display_data"
    },
    {
     "name": "stdout",
     "output_type": "stream",
     "text": [
      "WIF/USDT:USDT LONG\n",
      "{'tps': [[1728311640000, 2.7646, 2.7818, 2.7646, 2.7801, 18757.0]], 'entry_reached': [[1728286200000, 2.716, 2.7194, 2.7065, 2.7194, 10677.0]], 'stop_loss_reached': [1728341760000, 2.5713, 2.5717, 2.5591, 2.5591, 12012.0], 'break_reason': None}\n"
     ]
    },
    {
     "data": {
      "text/html": [
       "<p style='color:#0f0;'>********************************************************************************************************************</p>"
      ],
      "text/plain": [
       "<IPython.core.display.HTML object>"
      ]
     },
     "metadata": {},
     "output_type": "display_data"
    },
    {
     "name": "stdout",
     "output_type": "stream",
     "text": [
      "SUI/USDT:USDT SHORT\n",
      "{'tps': [[1728296460000, 1.9259, 1.9264, 1.9199, 1.9199, 76986.0]], 'entry_reached': [[1728289860000, 1.9529, 1.9683, 1.951, 1.9645, 286275.0]], 'stop_loss_reached': [1728309780000, 1.9913, 2.0134, 1.9913, 2.0021, 875467.0], 'break_reason': None}\n"
     ]
    },
    {
     "data": {
      "text/html": [
       "<p style='color:#0f0;'>********************************************************************************************************************</p>"
      ],
      "text/plain": [
       "<IPython.core.display.HTML object>"
      ]
     },
     "metadata": {},
     "output_type": "display_data"
    },
    {
     "name": "stdout",
     "output_type": "stream",
     "text": [
      "UNI/USDT:USDT SHORT\n",
      "{'tps': [[1728341760000, 7.319, 7.321, 7.257, 7.26, 6644.0], [1728350460000, 7.19, 7.191, 7.171, 7.171, 3995.0], [1728367200000, 7.154, 7.154, 7.113, 7.122, 10280.0]], 'entry_reached': [[1728307560000, 7.322, 7.381, 7.312, 7.337, 89725.0], [1728309840000, 7.39, 7.404, 7.388, 7.4, 2020.0]], 'stop_loss_reached': None, 'break_reason': None}\n"
     ]
    },
    {
     "data": {
      "text/html": [
       "<p style='color:#0f0;'>********************************************************************************************************************</p>"
      ],
      "text/plain": [
       "<IPython.core.display.HTML object>"
      ]
     },
     "metadata": {},
     "output_type": "display_data"
    },
    {
     "name": "stdout",
     "output_type": "stream",
     "text": [
      "AVAX/USDT:USDT LONG\n",
      "{'tps': [[1728302340000, 26.963, 27.003, 26.941, 26.999, 13832.0]], 'entry_reached': [[1728302100000, 26.823, 26.848, 26.819, 26.845, 1225.0]], 'stop_loss_reached': None, 'break_reason': None}\n"
     ]
    },
    {
     "data": {
      "text/html": [
       "<p style='color:#0f0;'>********************************************************************************************************************</p>"
      ],
      "text/plain": [
       "<IPython.core.display.HTML object>"
      ]
     },
     "metadata": {},
     "output_type": "display_data"
    },
    {
     "name": "stdout",
     "output_type": "stream",
     "text": [
      "YGG/USDT:USDT SHORT\n",
      "{'tps': [[1728371040000, 0.4859, 0.4865, 0.4846, 0.4849, 41929.0], [1728371820000, 0.4787, 0.4794, 0.4782, 0.4784, 31039.0], [1728392820000, 0.4694, 0.4694, 0.4678, 0.4681, 11332.0]], 'entry_reached': [[1728369600000, 0.4918, 0.492, 0.491, 0.491, 8510.0]], 'stop_loss_reached': None, 'break_reason': None}\n"
     ]
    },
    {
     "data": {
      "text/html": [
       "<p style='color:#0f0;'>********************************************************************************************************************</p>"
      ],
      "text/plain": [
       "<IPython.core.display.HTML object>"
      ]
     },
     "metadata": {},
     "output_type": "display_data"
    },
    {
     "name": "stdout",
     "output_type": "stream",
     "text": [
      "SUI/USDT:USDT LONG\n",
      "{'tps': [], 'entry_reached': [[1728370320000, 2.0338, 2.0362, 2.0323, 2.0354, 88291.0], [1728371280000, 1.992, 1.9939, 1.9823, 1.9828, 221779.0]], 'stop_loss_reached': [1728404520000, 1.9425, 1.9425, 1.9374, 1.9392, 178548.0], 'break_reason': None}\n"
     ]
    },
    {
     "data": {
      "text/html": [
       "<p style='color:#0f0;'>********************************************************************************************************************</p>"
      ],
      "text/plain": [
       "<IPython.core.display.HTML object>"
      ]
     },
     "metadata": {},
     "output_type": "display_data"
    },
    {
     "name": "stdout",
     "output_type": "stream",
     "text": [
      "PIXEL/USDT:USDT SHORT\n",
      "{'tps': [[1728401400000, 0.1276, 0.1276, 0.1271, 0.1272, 165406.0], [1728477540000, 0.1255, 0.1255, 0.1252, 0.1252, 52027.0], [1728497760000, 0.1223, 0.1224, 0.122, 0.122, 26239.0]], 'entry_reached': [[1728375360000, 0.1295, 0.1299, 0.1295, 0.1299, 8473.0]], 'stop_loss_reached': None, 'break_reason': None}\n"
     ]
    },
    {
     "data": {
      "text/html": [
       "<p style='color:#0f0;'>********************************************************************************************************************</p>"
      ],
      "text/plain": [
       "<IPython.core.display.HTML object>"
      ]
     },
     "metadata": {},
     "output_type": "display_data"
    },
    {
     "name": "stdout",
     "output_type": "stream",
     "text": [
      "SUI/USDT:USDT LONG\n",
      "{'tps': [[1728384720000, 2.0349, 2.0406, 2.034, 2.039, 154207.0]], 'entry_reached': [[1728375780000, 2.004, 2.0049, 2.0022, 2.0041, 32025.0], [1728397620000, 1.9737, 1.9748, 1.9586, 1.9586, 570206.0]], 'stop_loss_reached': [1728458160000, 1.9236, 1.9301, 1.9166, 1.9247, 302710.0], 'break_reason': None}\n"
     ]
    },
    {
     "data": {
      "text/html": [
       "<p style='color:#0f0;'>********************************************************************************************************************</p>"
      ],
      "text/plain": [
       "<IPython.core.display.HTML object>"
      ]
     },
     "metadata": {},
     "output_type": "display_data"
    },
    {
     "name": "stdout",
     "output_type": "stream",
     "text": [
      "MEW/USDT:USDT LONG\n",
      "{'tps': [[1728487860000, 0.006133, 0.006172, 0.006133, 0.006146, 27652.0]], 'entry_reached': [[1728477660000, 0.006055, 0.006056, 0.006038, 0.006044, 8074.0], [1728484980000, 0.005883, 0.005883, 0.005867, 0.00587, 11450.0]], 'stop_loss_reached': [1728507660000, 0.005742, 0.005745, 0.005728, 0.005733, 6737.0], 'break_reason': None}\n"
     ]
    },
    {
     "data": {
      "text/html": [
       "<p style='color:#0f0;'>********************************************************************************************************************</p>"
      ],
      "text/plain": [
       "<IPython.core.display.HTML object>"
      ]
     },
     "metadata": {},
     "output_type": "display_data"
    },
    {
     "name": "stdout",
     "output_type": "stream",
     "text": [
      "ZRX/USDT:USDT SHORT\n",
      "{'tps': [], 'entry_reached': [[1728654900000, 0.3138, 0.3148, 0.3138, 0.3145, 6414.0], [1728707220000, 0.3184, 0.3189, 0.3184, 0.3186, 6568.0]], 'stop_loss_reached': [1728718980000, 0.3208, 0.3208, 0.3207, 0.3207, 179.0], 'break_reason': None}\n"
     ]
    },
    {
     "data": {
      "text/html": [
       "<p style='color:#0f0;'>********************************************************************************************************************</p>"
      ],
      "text/plain": [
       "<IPython.core.display.HTML object>"
      ]
     },
     "metadata": {},
     "output_type": "display_data"
    },
    {
     "name": "stdout",
     "output_type": "stream",
     "text": [
      "UNI/USDT:USDT SHORT\n",
      "{'tps': [], 'entry_reached': [[1728549000000, 7.7, 7.758, 7.691, 7.754, 39042.0], [1728556680000, 7.833, 7.877, 7.833, 7.873, 36698.0]], 'stop_loss_reached': [1728564420000, 7.984, 8.038, 7.97, 8.032, 55043.0], 'break_reason': None}\n"
     ]
    },
    {
     "data": {
      "text/html": [
       "<p style='color:#0f0;'>********************************************************************************************************************</p>"
      ],
      "text/plain": [
       "<IPython.core.display.HTML object>"
      ]
     },
     "metadata": {},
     "output_type": "display_data"
    },
    {
     "name": "stdout",
     "output_type": "stream",
     "text": [
      "APT/USDT:USDT LONG\n",
      "{'tps': [[1728655320000, 8.394, 8.4298, 8.394, 8.4076, 47992.0], [1728679680000, 8.545, 8.5533, 8.5433, 8.5433, 21850.0], [1728737280000, 8.738, 8.7627, 8.738, 8.7612, 51840.0]], 'entry_reached': [[1728551700000, 8.2575, 8.2976, 8.2535, 8.297, 25500.0], [1728574560000, 8.0616, 8.0636, 8.0244, 8.0244, 88086.0]], 'stop_loss_reached': None, 'break_reason': None}\n"
     ]
    },
    {
     "data": {
      "text/html": [
       "<p style='color:#0f0;'>********************************************************************************************************************</p>"
      ],
      "text/plain": [
       "<IPython.core.display.HTML object>"
      ]
     },
     "metadata": {},
     "output_type": "display_data"
    },
    {
     "name": "stdout",
     "output_type": "stream",
     "text": [
      "ZRX/USDT:USDT SHORT\n",
      "{'tps': [], 'entry_reached': [[1728653640000, 0.3138, 0.314, 0.3137, 0.3137, 1908.0], [1728707940000, 0.3189, 0.3191, 0.3189, 0.3191, 613.0]], 'stop_loss_reached': [1728722580000, 0.3221, 0.323, 0.3221, 0.3228, 15698.0], 'break_reason': None}\n"
     ]
    },
    {
     "data": {
      "text/html": [
       "<p style='color:#0f0;'>********************************************************************************************************************</p>"
      ],
      "text/plain": [
       "<IPython.core.display.HTML object>"
      ]
     },
     "metadata": {},
     "output_type": "display_data"
    },
    {
     "name": "stdout",
     "output_type": "stream",
     "text": [
      "OP/USDT:USDT SHORT\n",
      "{'tps': [], 'entry_reached': [[1728651960000, 1.6365, 1.6439, 1.6354, 1.64, 63971.0], [1728664380000, 1.6808, 1.6837, 1.6808, 1.6816, 8488.0]], 'stop_loss_reached': [1728667740000, 1.6959, 1.6985, 1.6959, 1.6977, 6682.0], 'break_reason': None}\n"
     ]
    },
    {
     "data": {
      "text/html": [
       "<p style='color:#0f0;'>********************************************************************************************************************</p>"
      ],
      "text/plain": [
       "<IPython.core.display.HTML object>"
      ]
     },
     "metadata": {},
     "output_type": "display_data"
    },
    {
     "name": "stdout",
     "output_type": "stream",
     "text": [
      "NEAR/USDT:USDT SHORT\n",
      "{'tps': [[1728701580000, 4.703, 4.703, 4.695, 4.697, 9276.0]], 'entry_reached': [[1728653220000, 4.746, 4.748, 4.745, 4.747, 698.0], [1728729240000, 4.808, 4.836, 4.806, 4.825, 17720.0]], 'stop_loss_reached': [1728730980000, 4.841, 4.85, 4.839, 4.849, 6903.0], 'break_reason': None}\n"
     ]
    },
    {
     "data": {
      "text/html": [
       "<p style='color:#0f0;'>********************************************************************************************************************</p>"
      ],
      "text/plain": [
       "<IPython.core.display.HTML object>"
      ]
     },
     "metadata": {},
     "output_type": "display_data"
    },
    {
     "name": "stdout",
     "output_type": "stream",
     "text": [
      "FTM/USDT:USDT SHORT\n",
      "{'tps': [], 'entry_reached': [[1728656040000, 0.6532, 0.655, 0.6531, 0.6549, 34669.0]], 'stop_loss_reached': [1728662040000, 0.6715, 0.673, 0.6711, 0.6719, 72457.0], 'break_reason': None}\n"
     ]
    },
    {
     "data": {
      "text/html": [
       "<p style='color:#0f0;'>********************************************************************************************************************</p>"
      ],
      "text/plain": [
       "<IPython.core.display.HTML object>"
      ]
     },
     "metadata": {},
     "output_type": "display_data"
    },
    {
     "name": "stdout",
     "output_type": "stream",
     "text": [
      "BAKE/USDT:USDT LONG\n",
      "{'tps': [], 'entry_reached': [[1728800220000, 0.257, 0.2571, 0.257, 0.257, 2004.0]], 'stop_loss_reached': [1728830580000, 0.2519, 0.2519, 0.2511, 0.2512, 188577.0], 'break_reason': None}\n"
     ]
    },
    {
     "data": {
      "text/html": [
       "<p style='color:#0f0;'>********************************************************************************************************************</p>"
      ],
      "text/plain": [
       "<IPython.core.display.HTML object>"
      ]
     },
     "metadata": {},
     "output_type": "display_data"
    },
    {
     "name": "stdout",
     "output_type": "stream",
     "text": [
      "AVAX/USDT:USDT SHORT\n",
      "{'tps': [], 'entry_reached': [], 'stop_loss_reached': None, 'break_reason': 'WAIT MANY DAYS'}\n"
     ]
    },
    {
     "data": {
      "text/html": [
       "<p style='color:#0f0;'>********************************************************************************************************************</p>"
      ],
      "text/plain": [
       "<IPython.core.display.HTML object>"
      ]
     },
     "metadata": {},
     "output_type": "display_data"
    },
    {
     "name": "stdout",
     "output_type": "stream",
     "text": [
      "XRP/USDT:USDT LONG\n",
      "{'tps': [[1728919200000, 0.5452, 0.5468, 0.5452, 0.5462, 311741.0], [1728956340000, 0.554, 0.5541, 0.5531, 0.5535, 320933.0], [1729141320000, 0.5619, 0.5635, 0.5614, 0.5626, 552355.0]], 'entry_reached': [[1728894240000, 0.538, 0.5382, 0.5379, 0.538, 20226.0]], 'stop_loss_reached': None, 'break_reason': None}\n"
     ]
    },
    {
     "data": {
      "text/html": [
       "<p style='color:#0f0;'>********************************************************************************************************************</p>"
      ],
      "text/plain": [
       "<IPython.core.display.HTML object>"
      ]
     },
     "metadata": {},
     "output_type": "display_data"
    },
    {
     "name": "stdout",
     "output_type": "stream",
     "text": [
      "MINA/USDT:USDT LONG\n",
      "{'tps': [[1729000620000, 0.5806, 0.582, 0.58, 0.5819, 10708.0]], 'entry_reached': [[1728978420000, 0.575, 0.575, 0.5743, 0.5745, 1518.0], [1728993120000, 0.5655, 0.5657, 0.5639, 0.5639, 21647.0]], 'stop_loss_reached': [1729004760000, 0.558, 0.5586, 0.5546, 0.5548, 34668.0], 'break_reason': None}\n"
     ]
    },
    {
     "data": {
      "text/html": [
       "<p style='color:#0f0;'>********************************************************************************************************************</p>"
      ],
      "text/plain": [
       "<IPython.core.display.HTML object>"
      ]
     },
     "metadata": {},
     "output_type": "display_data"
    },
    {
     "name": "stdout",
     "output_type": "stream",
     "text": [
      "BTC/USDT:USDT LONG\n",
      "{'tps': [[1728999900000, 66417.9, 66551.8, 66409.3, 66548.2, 10495052.0], [1729000380000, 67133.5, 67222.2, 67122.1, 67200.0, 6716977.0], [1729078020000, 68028.4, 68180.0, 68010.0, 68149.1, 13954935.0]], 'entry_reached': [[1728987540000, 65694.9, 65694.9, 65670.1, 65684.0, 261952.0]], 'stop_loss_reached': None, 'break_reason': None}\n"
     ]
    },
    {
     "data": {
      "text/html": [
       "<p style='color:#0f0;'>********************************************************************************************************************</p>"
      ],
      "text/plain": [
       "<IPython.core.display.HTML object>"
      ]
     },
     "metadata": {},
     "output_type": "display_data"
    },
    {
     "name": "stdout",
     "output_type": "stream",
     "text": [
      "GRT/USDT:USDT LONG\n",
      "{'tps': [], 'entry_reached': [[1728989220000, 0.17621, 0.17626, 0.17609, 0.17611, 466.0]], 'stop_loss_reached': [1728991560000, 0.17259, 0.17262, 0.17218, 0.17225, 5839.0], 'break_reason': None}\n"
     ]
    },
    {
     "data": {
      "text/html": [
       "<p style='color:#0f0;'>********************************************************************************************************************</p>"
      ],
      "text/plain": [
       "<IPython.core.display.HTML object>"
      ]
     },
     "metadata": {},
     "output_type": "display_data"
    },
    {
     "name": "stdout",
     "output_type": "stream",
     "text": [
      "OP/USDT:USDT SHORT\n",
      "{'tps': [], 'entry_reached': [[1729070700000, 1.7247, 1.7252, 1.723, 1.7243, 1603.0], [1729077180000, 1.7405, 1.752, 1.7403, 1.7481, 87760.0]], 'stop_loss_reached': [1729078260000, 1.7626, 1.7695, 1.7626, 1.7685, 30794.0], 'break_reason': None}\n"
     ]
    },
    {
     "data": {
      "text/html": [
       "<p style='color:#0f0;'>********************************************************************************************************************</p>"
      ],
      "text/plain": [
       "<IPython.core.display.HTML object>"
      ]
     },
     "metadata": {},
     "output_type": "display_data"
    },
    {
     "name": "stdout",
     "output_type": "stream",
     "text": [
      "NOT/USDT:USDT SHORT\n",
      "{'tps': [[1729086240000, 0.008196, 0.008196, 0.008155, 0.008194, 117131.0], [1729095360000, 0.008109, 0.008118, 0.008078, 0.008084, 205846.0], [1729149540000, 0.00796, 0.00796, 0.007893, 0.007905, 216620.0]], 'entry_reached': [[1729075380000, 0.008271, 0.008287, 0.008271, 0.00828, 16858.0]], 'stop_loss_reached': None, 'break_reason': None}\n"
     ]
    },
    {
     "data": {
      "text/html": [
       "<p style='color:#0f0;'>********************************************************************************************************************</p>"
      ],
      "text/plain": [
       "<IPython.core.display.HTML object>"
      ]
     },
     "metadata": {},
     "output_type": "display_data"
    },
    {
     "name": "stdout",
     "output_type": "stream",
     "text": [
      "MEW/USDT:USDT LONG\n",
      "{'tps': [], 'entry_reached': [[1729179900000, 0.008939, 0.008963, 0.008867, 0.008895, 15742.0], [1729181760000, 0.008621, 0.008657, 0.0086, 0.008656, 12904.0]], 'stop_loss_reached': [1729185720000, 0.008452, 0.008452, 0.008402, 0.008404, 18919.0], 'break_reason': None}\n"
     ]
    },
    {
     "data": {
      "text/html": [
       "<p style='color:#0f0;'>********************************************************************************************************************</p>"
      ],
      "text/plain": [
       "<IPython.core.display.HTML object>"
      ]
     },
     "metadata": {},
     "output_type": "display_data"
    },
    {
     "name": "stdout",
     "output_type": "stream",
     "text": [
      "ALT/USDT:USDT LONG\n",
      "{'tps': [[1729276620000, 0.11628, 0.11642, 0.11628, 0.11633, 39136.0], [1729425780000, 0.11757, 0.11792, 0.11748, 0.11792, 224360.0], [1729430700000, 0.11887, 0.11986, 0.11887, 0.11977, 896367.0]], 'entry_reached': [[1729270140000, 0.1149, 0.11492, 0.11479, 0.11492, 44027.0], [1729290360000, 0.11293, 0.11293, 0.11261, 0.11274, 356774.0]], 'stop_loss_reached': None, 'break_reason': None}\n"
     ]
    },
    {
     "data": {
      "text/html": [
       "<p style='color:#0f0;'>********************************************************************************************************************</p>"
      ],
      "text/plain": [
       "<IPython.core.display.HTML object>"
      ]
     },
     "metadata": {},
     "output_type": "display_data"
    },
    {
     "name": "stdout",
     "output_type": "stream",
     "text": [
      "POWR/USDT:USDT LONG\n",
      "{'tps': [[1729338780000, 0.2385, 0.2397, 0.2382, 0.2394, 156388.0], [1729339740000, 0.2399, 0.2412, 0.2399, 0.2409, 103572.0], [1729343880000, 0.2432, 0.2444, 0.2432, 0.2442, 405165.0]], 'entry_reached': [[1729338480000, 0.2364, 0.2371, 0.2364, 0.2371, 62777.0]], 'stop_loss_reached': None, 'break_reason': None}\n"
     ]
    },
    {
     "data": {
      "text/html": [
       "<p style='color:#0f0;'>********************************************************************************************************************</p>"
      ],
      "text/plain": [
       "<IPython.core.display.HTML object>"
      ]
     },
     "metadata": {},
     "output_type": "display_data"
    },
    {
     "name": "stdout",
     "output_type": "stream",
     "text": [
      "ZRO/USDT:USDT SHORT\n",
      "{'tps': [], 'entry_reached': [[1729341840000, 3.815, 3.817, 3.815, 3.815, 546.0]], 'stop_loss_reached': [1729432980000, 3.942, 3.97, 3.942, 3.969, 12197.0], 'break_reason': None}\n"
     ]
    },
    {
     "data": {
      "text/html": [
       "<p style='color:#0f0;'>********************************************************************************************************************</p>"
      ],
      "text/plain": [
       "<IPython.core.display.HTML object>"
      ]
     },
     "metadata": {},
     "output_type": "display_data"
    },
    {
     "name": "stdout",
     "output_type": "stream",
     "text": [
      "POL/USDT:USDT LONG\n",
      "{'tps': [[1729432380000, 0.3753, 0.3799, 0.3753, 0.3795, 92618.0], [1729435440000, 0.382, 0.3837, 0.3819, 0.3837, 40017.0]], 'entry_reached': [[1729343880000, 0.3729, 0.3731, 0.3729, 0.3729, 367.0], [1729587660000, 0.366, 0.366, 0.3645, 0.365, 65056.0]], 'stop_loss_reached': [1729685580000, 0.359, 0.359, 0.3571, 0.3571, 85520.0], 'break_reason': None}\n"
     ]
    },
    {
     "data": {
      "text/html": [
       "<p style='color:#0f0;'>********************************************************************************************************************</p>"
      ],
      "text/plain": [
       "<IPython.core.display.HTML object>"
      ]
     },
     "metadata": {},
     "output_type": "display_data"
    },
    {
     "name": "stdout",
     "output_type": "stream",
     "text": [
      "FTM/USDT:USDT LONG\n",
      "{'tps': [[1729462620000, 0.7556, 0.7602, 0.7554, 0.7574, 41519.0], [1729473300000, 0.7744, 0.7752, 0.7732, 0.7752, 52576.0], [1729474980000, 0.7933, 0.795, 0.7929, 0.7944, 57211.0]], 'entry_reached': [[1729434180000, 0.7424, 0.7433, 0.7422, 0.7432, 20886.0]], 'stop_loss_reached': None, 'break_reason': None}\n"
     ]
    },
    {
     "data": {
      "text/html": [
       "<p style='color:#0f0;'>********************************************************************************************************************</p>"
      ],
      "text/plain": [
       "<IPython.core.display.HTML object>"
      ]
     },
     "metadata": {},
     "output_type": "display_data"
    },
    {
     "name": "stdout",
     "output_type": "stream",
     "text": [
      "FTM/USDT:USDT LONG\n",
      "{'tps': [[1729520940000, 0.7481, 0.749, 0.748, 0.7488, 11283.0]], 'entry_reached': [[1729518060000, 0.7418, 0.7418, 0.7388, 0.7399, 245182.0]], 'stop_loss_reached': [1729602360000, 0.7157, 0.7159, 0.7127, 0.715, 120681.0], 'break_reason': None}\n"
     ]
    },
    {
     "data": {
      "text/html": [
       "<p style='color:#0f0;'>********************************************************************************************************************</p>"
      ],
      "text/plain": [
       "<IPython.core.display.HTML object>"
      ]
     },
     "metadata": {},
     "output_type": "display_data"
    },
    {
     "name": "stdout",
     "output_type": "stream",
     "text": [
      "DOGE/USDT:USDT SHORT\n",
      "{'tps': [[1729523400000, 0.13938, 0.13938, 0.13908, 0.13913, 3068950.0], [1729678440000, 0.13639, 0.13639, 0.13611, 0.13617, 2658337.0], [1729879800000, 0.13338, 0.13338, 0.13223, 0.13258, 10574506.0]], 'entry_reached': [[1729522020000, 0.14212, 0.14219, 0.1419, 0.1419, 398433.0], [1729561980000, 0.14611, 0.14666, 0.14609, 0.14666, 1147265.0]], 'stop_loss_reached': None, 'break_reason': None}\n"
     ]
    },
    {
     "data": {
      "text/html": [
       "<p style='color:#0f0;'>********************************************************************************************************************</p>"
      ],
      "text/plain": [
       "<IPython.core.display.HTML object>"
      ]
     },
     "metadata": {},
     "output_type": "display_data"
    },
    {
     "name": "stdout",
     "output_type": "stream",
     "text": [
      "USTC/USDT:USDT LONG\n",
      "{'tps': [], 'entry_reached': [[1729578720000, 0.0245, 0.02452, 0.02445, 0.02452, 914399.0], [1729583700000, 0.02366, 0.02368, 0.0236, 0.02364, 1333742.0]], 'stop_loss_reached': [1729604940000, 0.02262, 0.02263, 0.0226, 0.02262, 508920.0], 'break_reason': None}\n"
     ]
    },
    {
     "data": {
      "text/html": [
       "<p style='color:#0f0;'>********************************************************************************************************************</p>"
      ],
      "text/plain": [
       "<IPython.core.display.HTML object>"
      ]
     },
     "metadata": {},
     "output_type": "display_data"
    },
    {
     "name": "stdout",
     "output_type": "stream",
     "text": [
      "IO/USDT:USDT LONG\n",
      "{'tps': [[1729792380000, 1.931, 1.949, 1.931, 1.948, 11136.0], [1729792860000, 1.973, 1.984, 1.972, 1.98, 6386.0], [1729793580000, 2.007, 2.023, 1.999, 2.02, 16581.0]], 'entry_reached': [[1729756080000, 1.912, 1.914, 1.911, 1.913, 150.0], [1729762980000, 1.863, 1.863, 1.862, 1.862, 595.0]], 'stop_loss_reached': None, 'break_reason': None}\n"
     ]
    },
    {
     "data": {
      "text/html": [
       "<p style='color:#0f0;'>********************************************************************************************************************</p>"
      ],
      "text/plain": [
       "<IPython.core.display.HTML object>"
      ]
     },
     "metadata": {},
     "output_type": "display_data"
    },
    {
     "name": "stdout",
     "output_type": "stream",
     "text": [
      "BTC/USDT:USDT SHORT\n",
      "{'tps': [[1729841100000, 67457.4, 67462.5, 67377.0, 67389.0, 2371865.0], [1729879740000, 66156.8, 66203.1, 66075.7, 66077.2, 9111614.0]], 'entry_reached': [[1729800000000, 68279.7, 68316.2, 68243.2, 68290.0, 4310181.0], [1730143020000, 69654.2, 69744.5, 69633.4, 69711.3, 6570799.0]], 'stop_loss_reached': [1730167380000, 70327.6, 70456.9, 70295.0, 70391.1, 5335728.0], 'break_reason': None}\n"
     ]
    },
    {
     "data": {
      "text/html": [
       "<p style='color:#0f0;'>********************************************************************************************************************</p>"
      ],
      "text/plain": [
       "<IPython.core.display.HTML object>"
      ]
     },
     "metadata": {},
     "output_type": "display_data"
    },
    {
     "name": "stdout",
     "output_type": "stream",
     "text": [
      "BCH/USDT:USDT SHORT\n",
      "{'tps': [[1729869300000, 368.19, 368.38, 366.75, 366.75, 39533.0], [1729871160000, 364.46, 365.04, 364.21, 364.79, 9490.0], [1729879080000, 360.96, 361.68, 360.41, 361.53, 14657.0]], 'entry_reached': [[1729860780000, 373.47, 374.01, 373.47, 373.84, 13850.0]], 'stop_loss_reached': None, 'break_reason': None}\n"
     ]
    },
    {
     "data": {
      "text/html": [
       "<p style='color:#0f0;'>********************************************************************************************************************</p>"
      ],
      "text/plain": [
       "<IPython.core.display.HTML object>"
      ]
     },
     "metadata": {},
     "output_type": "display_data"
    },
    {
     "name": "stdout",
     "output_type": "stream",
     "text": [
      "XRP/USDT:USDT SHORT\n",
      "{'tps': [[1729838460000, 0.5238, 0.5239, 0.5234, 0.5236, 77384.0], [1729878900000, 0.5192, 0.5193, 0.5174, 0.5178, 383261.0], [1729879800000, 0.512, 0.512, 0.5096, 0.5107, 1793201.0]], 'entry_reached': [[1729785420000, 0.5291, 0.5293, 0.5291, 0.5293, 8162.0]], 'stop_loss_reached': None, 'break_reason': None}\n"
     ]
    },
    {
     "data": {
      "text/html": [
       "<p style='color:#0f0;'>********************************************************************************************************************</p>"
      ],
      "text/plain": [
       "<IPython.core.display.HTML object>"
      ]
     },
     "metadata": {},
     "output_type": "display_data"
    },
    {
     "name": "stdout",
     "output_type": "stream",
     "text": [
      "TNSR/USDT:USDT LONG\n",
      "{'tps': [], 'entry_reached': [[1729850760000, 0.4493, 0.4497, 0.4491, 0.4493, 13232.0]], 'stop_loss_reached': [1729876800000, 0.4212, 0.4214, 0.4174, 0.4178, 104699.0], 'break_reason': None}\n"
     ]
    },
    {
     "data": {
      "text/html": [
       "<p style='color:#0f0;'>********************************************************************************************************************</p>"
      ],
      "text/plain": [
       "<IPython.core.display.HTML object>"
      ]
     },
     "metadata": {},
     "output_type": "display_data"
    },
    {
     "name": "stdout",
     "output_type": "stream",
     "text": [
      "COMP/USDT:USDT SHORT\n",
      "{'tps': [[1730166600000, 44.04, 44.04, 44.0, 44.01, 1804.0], [1730383140000, 43.45, 43.48, 43.4, 43.48, 3274.0], [1730398080000, 42.77, 42.77, 42.68, 42.73, 4432.0]], 'entry_reached': [[1730163360000, 44.42, 44.47, 44.42, 44.46, 1265.0], [1730220660000, 45.05, 45.16, 45.05, 45.14, 2148.0]], 'stop_loss_reached': None, 'break_reason': None}\n"
     ]
    },
    {
     "data": {
      "text/html": [
       "<p style='color:#0f0;'>********************************************************************************************************************</p>"
      ],
      "text/plain": [
       "<IPython.core.display.HTML object>"
      ]
     },
     "metadata": {},
     "output_type": "display_data"
    },
    {
     "name": "stdout",
     "output_type": "stream",
     "text": [
      "ETC/USDT:USDT SHORT\n",
      "{'tps': [[1730301600000, 19.596, 19.603, 19.537, 19.546, 22647.0], [1730358240000, 19.225, 19.228, 19.21, 19.211, 30131.0], [1730383440000, 18.875, 18.875, 18.764, 18.806, 359615.0]], 'entry_reached': [[1730297580000, 19.768, 19.802, 19.768, 19.79, 30704.0]], 'stop_loss_reached': None, 'break_reason': None}\n"
     ]
    },
    {
     "data": {
      "text/html": [
       "<p style='color:#0f0;'>********************************************************************************************************************</p>"
      ],
      "text/plain": [
       "<IPython.core.display.HTML object>"
      ]
     },
     "metadata": {},
     "output_type": "display_data"
    },
    {
     "name": "stdout",
     "output_type": "stream",
     "text": [
      "COMP/USDT:USDT SHORT\n",
      "{'tps': [[1729897680000, 42.06, 42.06, 41.92, 41.92, 14370.0], [1729898460000, 41.41, 41.45, 40.51, 40.63, 80031.0], [1729898580000, 40.27, 40.35, 39.38, 39.71, 114311.0]], 'entry_reached': [[1729881780000, 42.83, 42.83, 42.77, 42.77, 2191.0]], 'stop_loss_reached': None, 'break_reason': None}\n"
     ]
    },
    {
     "data": {
      "text/html": [
       "<p style='color:#0f0;'>********************************************************************************************************************</p>"
      ],
      "text/plain": [
       "<IPython.core.display.HTML object>"
      ]
     },
     "metadata": {},
     "output_type": "display_data"
    },
    {
     "name": "stdout",
     "output_type": "stream",
     "text": [
      "RUNE/USDT:USDT SHORT\n",
      "{'tps': [], 'entry_reached': [[1730001540000, 5.103, 5.118, 5.1, 5.118, 3952.0]], 'stop_loss_reached': [1730002080000, 5.168, 5.183, 5.168, 5.178, 4455.0], 'break_reason': None}\n"
     ]
    },
    {
     "data": {
      "text/html": [
       "<p style='color:#0f0;'>********************************************************************************************************************</p>"
      ],
      "text/plain": [
       "<IPython.core.display.HTML object>"
      ]
     },
     "metadata": {},
     "output_type": "display_data"
    },
    {
     "name": "stdout",
     "output_type": "stream",
     "text": [
      "FTM/USDT:USDT SHORT\n",
      "{'tps': [[1729947660000, 0.64, 0.64, 0.6389, 0.639, 26640.0], [1729952400000, 0.6315, 0.6317, 0.6307, 0.6308, 19646.0], [1729954860000, 0.6235, 0.6246, 0.6213, 0.6242, 66357.0]], 'entry_reached': [[1729941120000, 0.6457, 0.6458, 0.6452, 0.6457, 7509.0]], 'stop_loss_reached': None, 'break_reason': None}\n"
     ]
    },
    {
     "data": {
      "text/html": [
       "<p style='color:#0f0;'>********************************************************************************************************************</p>"
      ],
      "text/plain": [
       "<IPython.core.display.HTML object>"
      ]
     },
     "metadata": {},
     "output_type": "display_data"
    },
    {
     "name": "stdout",
     "output_type": "stream",
     "text": [
      "JUP/USDT:USDT SHORT\n",
      "{'tps': [], 'entry_reached': [[1729941240000, 0.9781, 0.9789, 0.978, 0.9789, 4291.0], [1730016840000, 0.9986, 1.0087, 0.9983, 1.0087, 146192.0]], 'stop_loss_reached': [1730035200000, 1.037, 1.0422, 1.037, 1.0419, 71072.0], 'break_reason': None}\n"
     ]
    },
    {
     "data": {
      "text/html": [
       "<p style='color:#0f0;'>********************************************************************************************************************</p>"
      ],
      "text/plain": [
       "<IPython.core.display.HTML object>"
      ]
     },
     "metadata": {},
     "output_type": "display_data"
    },
    {
     "name": "stdout",
     "output_type": "stream",
     "text": [
      "SOL/USDT:USDT SHORT\n",
      "{'tps': [], 'entry_reached': [[1729955580000, 168.64, 168.68, 168.57, 168.58, 13506.0]], 'stop_loss_reached': [1729970220000, 171.86, 172.29, 171.83, 172.05, 74587.0], 'break_reason': None}\n"
     ]
    },
    {
     "data": {
      "text/html": [
       "<p style='color:#0f0;'>********************************************************************************************************************</p>"
      ],
      "text/plain": [
       "<IPython.core.display.HTML object>"
      ]
     },
     "metadata": {},
     "output_type": "display_data"
    },
    {
     "name": "stdout",
     "output_type": "stream",
     "text": [
      "SHIB/USDT:USDT SHORT\n"
     ]
    },
    {
     "data": {
      "text/html": [
       "<p style='color:#c01;'>json, 1729888200000</p>"
      ],
      "text/plain": [
       "<IPython.core.display.HTML object>"
      ]
     },
     "metadata": {},
     "output_type": "display_data"
    },
    {
     "name": "stdout",
     "output_type": "stream",
     "text": [
      "{'tps': [], 'entry_reached': [], 'stop_loss_reached': None, 'break_reason': None}\n"
     ]
    },
    {
     "data": {
      "text/html": [
       "<p style='color:#0f0;'>********************************************************************************************************************</p>"
      ],
      "text/plain": [
       "<IPython.core.display.HTML object>"
      ]
     },
     "metadata": {},
     "output_type": "display_data"
    },
    {
     "name": "stdout",
     "output_type": "stream",
     "text": [
      "APT/USDT:USDT SHORT\n",
      "{'tps': [[1730037420000, 9.2058, 9.2058, 9.1964, 9.1979, 49839.0], [1730056920000, 9.0859, 9.0879, 9.0694, 9.0739, 10473.0], [1730086020000, 8.9474, 8.9474, 8.8858, 8.8928, 268299.0]], 'entry_reached': [[1730035440000, 9.2847, 9.2911, 9.2774, 9.2876, 27801.0]], 'stop_loss_reached': None, 'break_reason': None}\n"
     ]
    },
    {
     "data": {
      "text/html": [
       "<p style='color:#0f0;'>********************************************************************************************************************</p>"
      ],
      "text/plain": [
       "<IPython.core.display.HTML object>"
      ]
     },
     "metadata": {},
     "output_type": "display_data"
    },
    {
     "name": "stdout",
     "output_type": "stream",
     "text": [
      "VIDT/USDT:USDT LONG\n",
      "{'tps': [[1730038020000, 0.02642, 0.02646, 0.02642, 0.02645, 559.0], [1730066700000, 0.02685, 0.02689, 0.02685, 0.02688, 975.0], [1730168280000, 0.02718, 0.02724, 0.02717, 0.02721, 1313.0]], 'entry_reached': [[1730021700000, 0.02613, 0.02614, 0.0261, 0.02611, 723.0]], 'stop_loss_reached': None, 'break_reason': None}\n"
     ]
    },
    {
     "data": {
      "text/html": [
       "<p style='color:#0f0;'>********************************************************************************************************************</p>"
      ],
      "text/plain": [
       "<IPython.core.display.HTML object>"
      ]
     },
     "metadata": {},
     "output_type": "display_data"
    },
    {
     "name": "stdout",
     "output_type": "stream",
     "text": [
      "ZETA/USDT:USDT LONG\n",
      "{'tps': [], 'entry_reached': [[1730038020000, 0.6774, 0.6799, 0.6774, 0.6799, 12805.0], [1730058600000, 0.6549, 0.656, 0.6546, 0.6559, 6757.0]], 'stop_loss_reached': [1730087280000, 0.6365, 0.6365, 0.635, 0.635, 17166.0], 'break_reason': None}\n"
     ]
    },
    {
     "data": {
      "text/html": [
       "<p style='color:#0f0;'>********************************************************************************************************************</p>"
      ],
      "text/plain": [
       "<IPython.core.display.HTML object>"
      ]
     },
     "metadata": {},
     "output_type": "display_data"
    },
    {
     "name": "stdout",
     "output_type": "stream",
     "text": [
      "APE/USDT:USDT LONG\n",
      "{'tps': [[1730048160000, 1.036, 1.042, 1.035, 1.042, 235766.0], [1730050500000, 1.048, 1.053, 1.048, 1.05, 105472.0], [1730051520000, 1.07, 1.076, 1.069, 1.073, 335167.0]], 'entry_reached': [[1730040900000, 1.027, 1.027, 1.026, 1.027, 16651.0]], 'stop_loss_reached': None, 'break_reason': None}\n"
     ]
    },
    {
     "data": {
      "text/html": [
       "<p style='color:#0f0;'>********************************************************************************************************************</p>"
      ],
      "text/plain": [
       "<IPython.core.display.HTML object>"
      ]
     },
     "metadata": {},
     "output_type": "display_data"
    },
    {
     "name": "stdout",
     "output_type": "stream",
     "text": [
      "SOL/USDT:USDT SHORT\n",
      "{'tps': [[1730089440000, 174.87, 174.87, 174.41, 174.42, 180036.0], [1730135160000, 173.12, 173.12, 172.65, 172.84, 235902.0]], 'entry_reached': [[1730065260000, 177.85, 178.1, 177.81, 178.1, 41258.0]], 'stop_loss_reached': None, 'break_reason': None}\n"
     ]
    },
    {
     "data": {
      "text/html": [
       "<p style='color:#0f0;'>********************************************************************************************************************</p>"
      ],
      "text/plain": [
       "<IPython.core.display.HTML object>"
      ]
     },
     "metadata": {},
     "output_type": "display_data"
    },
    {
     "name": "stdout",
     "output_type": "stream",
     "text": [
      "RUNE/USDT:USDT SHORT\n",
      "{'tps': [[1730103180000, 5.39, 5.423, 5.378, 5.413, 75138.0]], 'entry_reached': [[1730100060000, 5.423, 5.434, 5.421, 5.426, 1673.0], [1730103360000, 5.5, 5.529, 5.5, 5.512, 16993.0]], 'stop_loss_reached': [1730105220000, 5.55, 5.562, 5.548, 5.55, 6686.0], 'break_reason': None}\n"
     ]
    },
    {
     "data": {
      "text/html": [
       "<p style='color:#0f0;'>********************************************************************************************************************</p>"
      ],
      "text/plain": [
       "<IPython.core.display.HTML object>"
      ]
     },
     "metadata": {},
     "output_type": "display_data"
    },
    {
     "name": "stdout",
     "output_type": "stream",
     "text": [
      "DYDX/USDT:USDT SHORT\n",
      "{'tps': [[1730180520000, 1.046, 1.047, 1.044, 1.044, 13455.0], [1730229720000, 1.032, 1.032, 1.024, 1.028, 151466.0]], 'entry_reached': [[1730170320000, 1.053, 1.055, 1.053, 1.054, 1534.0], [1730221020000, 1.064, 1.068, 1.064, 1.068, 17710.0]], 'stop_loss_reached': [1730302320000, 1.069, 1.091, 1.067, 1.086, 259010.0], 'break_reason': None}\n"
     ]
    },
    {
     "data": {
      "text/html": [
       "<p style='color:#0f0;'>********************************************************************************************************************</p>"
      ],
      "text/plain": [
       "<IPython.core.display.HTML object>"
      ]
     },
     "metadata": {},
     "output_type": "display_data"
    },
    {
     "name": "stdout",
     "output_type": "stream",
     "text": [
      "DYDX/USDT:USDT LONG\n",
      "{'tps': [], 'entry_reached': [[1730106240000, 1.022, 1.024, 1.02, 1.021, 6028.0], [1730117400000, 1.005, 1.005, 1.002, 1.002, 6216.0]], 'stop_loss_reached': [1730134260000, 0.988, 0.989, 0.984, 0.986, 11005.0], 'break_reason': None}\n"
     ]
    },
    {
     "data": {
      "text/html": [
       "<p style='color:#0f0;'>********************************************************************************************************************</p>"
      ],
      "text/plain": [
       "<IPython.core.display.HTML object>"
      ]
     },
     "metadata": {},
     "output_type": "display_data"
    },
    {
     "name": "stdout",
     "output_type": "stream",
     "text": [
      "AXS/USDT:USDT SHORT\n",
      "{'tps': [[1730127900000, 4.703, 4.703, 4.682, 4.682, 1600.0]], 'entry_reached': [[1730116680000, 4.767, 4.768, 4.764, 4.765, 212.0]], 'stop_loss_reached': [1730172480000, 4.929, 4.945, 4.928, 4.945, 1635.0], 'break_reason': None}\n"
     ]
    },
    {
     "data": {
      "text/html": [
       "<p style='color:#0f0;'>********************************************************************************************************************</p>"
      ],
      "text/plain": [
       "<IPython.core.display.HTML object>"
      ]
     },
     "metadata": {},
     "output_type": "display_data"
    },
    {
     "name": "stdout",
     "output_type": "stream",
     "text": [
      "FTM/USDT:USDT LONG\n",
      "{'tps': [[1730387220000, 0.6642, 0.6675, 0.6642, 0.6667, 52015.0]], 'entry_reached': [[1730383440000, 0.6593, 0.6593, 0.6563, 0.657, 147038.0], [1730397960000, 0.6508, 0.6508, 0.6476, 0.6477, 145024.0]], 'stop_loss_reached': [1730398080000, 0.6466, 0.6472, 0.6455, 0.6459, 46251.0], 'break_reason': None}\n"
     ]
    },
    {
     "data": {
      "text/html": [
       "<p style='color:#0f0;'>********************************************************************************************************************</p>"
      ],
      "text/plain": [
       "<IPython.core.display.HTML object>"
      ]
     },
     "metadata": {},
     "output_type": "display_data"
    },
    {
     "name": "stdout",
     "output_type": "stream",
     "text": [
      "DYDX/USDT:USDT LONG\n",
      "{'tps': [[1730126880000, 1.007, 1.01, 1.006, 1.009, 6573.0], [1730152800000, 1.02, 1.024, 1.02, 1.023, 6257.0], [1730167200000, 1.037, 1.039, 1.036, 1.037, 7427.0]], 'entry_reached': [[1730126160000, 1.0, 1.003, 1.0, 1.003, 7204.0], [1730135100000, 0.983, 0.983, 0.976, 0.977, 64775.0]], 'stop_loss_reached': None, 'break_reason': None}\n"
     ]
    },
    {
     "data": {
      "text/html": [
       "<p style='color:#0f0;'>********************************************************************************************************************</p>"
      ],
      "text/plain": [
       "<IPython.core.display.HTML object>"
      ]
     },
     "metadata": {},
     "output_type": "display_data"
    },
    {
     "name": "stdout",
     "output_type": "stream",
     "text": [
      "BTC/USDT:USDT SHORT\n",
      "{'tps': [], 'entry_reached': [[1730187240000, 71001.4, 71009.1, 70993.0, 71000.1, 363317.0], [1730216820000, 72200.1, 72364.3, 72200.1, 72321.5, 10748520.0]], 'stop_loss_reached': [1730228400000, 73168.4, 73463.8, 73168.4, 73380.0, 19855700.0], 'break_reason': None}\n"
     ]
    },
    {
     "data": {
      "text/html": [
       "<p style='color:#0f0;'>********************************************************************************************************************</p>"
      ],
      "text/plain": [
       "<IPython.core.display.HTML object>"
      ]
     },
     "metadata": {},
     "output_type": "display_data"
    },
    {
     "name": "stdout",
     "output_type": "stream",
     "text": [
      "DOGE/USDT:USDT SHORT\n",
      "{'tps': [[1730204100000, 0.16491, 0.16499, 0.16469, 0.16489, 1089555.0]], 'entry_reached': [[1730203200000, 0.16658, 0.1666, 0.16634, 0.1666, 553727.0]], 'stop_loss_reached': [1730216520000, 0.1698, 0.1711, 0.16979, 0.1709, 9330973.0], 'break_reason': None}\n"
     ]
    },
    {
     "data": {
      "text/html": [
       "<p style='color:#0f0;'>********************************************************************************************************************</p>"
      ],
      "text/plain": [
       "<IPython.core.display.HTML object>"
      ]
     },
     "metadata": {},
     "output_type": "display_data"
    },
    {
     "name": "stdout",
     "output_type": "stream",
     "text": [
      "MANTA/USDT:USDT SHORT\n",
      "{'tps': [[1730294400000, 0.6982, 0.6986, 0.6791, 0.6836, 22877.0], [1730294460000, 0.683, 0.6847, 0.6814, 0.6825, 27086.0]], 'entry_reached': [[1730290500000, 0.6956, 0.6958, 0.6933, 0.6941, 21941.0]], 'stop_loss_reached': [1730299200000, 0.7096, 0.7099, 0.7074, 0.7074, 23229.0], 'break_reason': None}\n"
     ]
    },
    {
     "data": {
      "text/html": [
       "<p style='color:#0f0;'>********************************************************************************************************************</p>"
      ],
      "text/plain": [
       "<IPython.core.display.HTML object>"
      ]
     },
     "metadata": {},
     "output_type": "display_data"
    },
    {
     "name": "stdout",
     "output_type": "stream",
     "text": [
      "DOGE/USDT:USDT LONG\n",
      "{'tps': [[1730304300000, 0.16597, 0.16688, 0.16597, 0.16682, 2705890.0], [1730313060000, 0.1683, 0.16839, 0.16808, 0.16815, 624457.0], [1730324820000, 0.17002, 0.1705, 0.17001, 0.17036, 1315121.0]], 'entry_reached': [[1730304060000, 0.16497, 0.16501, 0.16452, 0.16465, 3517284.0]], 'stop_loss_reached': None, 'break_reason': None}\n"
     ]
    },
    {
     "data": {
      "text/html": [
       "<p style='color:#0f0;'>********************************************************************************************************************</p>"
      ],
      "text/plain": [
       "<IPython.core.display.HTML object>"
      ]
     },
     "metadata": {},
     "output_type": "display_data"
    },
    {
     "data": {
      "text/html": [
       "<p style='color:#FFFF00;'>waiting 5 min...</p>"
      ],
      "text/plain": [
       "<IPython.core.display.HTML object>"
      ]
     },
     "metadata": {},
     "output_type": "display_data"
    },
    {
     "name": "stdout",
     "output_type": "stream",
     "text": [
      "UNI/USDT:USDT SHORT\n",
      "{'tps': [[1730459400000, 7.779, 7.779, 7.763, 7.771, 4210.0]], 'entry_reached': [[1730453100000, 7.832, 7.839, 7.832, 7.833, 882.0]], 'stop_loss_reached': [1730473080000, 8.001, 8.046, 7.994, 8.025, 16673.0], 'break_reason': None}\n"
     ]
    },
    {
     "data": {
      "text/html": [
       "<p style='color:#0f0;'>********************************************************************************************************************</p>"
      ],
      "text/plain": [
       "<IPython.core.display.HTML object>"
      ]
     },
     "metadata": {},
     "output_type": "display_data"
    },
    {
     "name": "stdout",
     "output_type": "stream",
     "text": [
      "FTM/USDT:USDT SHORT\n",
      "{'tps': [[1730472960000, 0.6589, 0.6592, 0.6576, 0.658, 49100.0], [1730475120000, 0.6506, 0.651, 0.6468, 0.6471, 69457.0], [1730475600000, 0.6435, 0.6437, 0.6412, 0.6412, 86663.0]], 'entry_reached': [[1730469540000, 0.664, 0.666, 0.6637, 0.6659, 52018.0]], 'stop_loss_reached': None, 'break_reason': None}\n"
     ]
    },
    {
     "data": {
      "text/html": [
       "<p style='color:#0f0;'>********************************************************************************************************************</p>"
      ],
      "text/plain": [
       "<IPython.core.display.HTML object>"
      ]
     },
     "metadata": {},
     "output_type": "display_data"
    },
    {
     "name": "stdout",
     "output_type": "stream",
     "text": [
      "SUI/USDT:USDT SHORT\n",
      "{'tps': [], 'entry_reached': [[1730463540000, 1.9594, 1.9601, 1.957, 1.957, 14066.0]], 'stop_loss_reached': [1730467560000, 2.0255, 2.034, 2.0244, 2.0325, 115649.0], 'break_reason': None}\n"
     ]
    },
    {
     "data": {
      "text/html": [
       "<p style='color:#0f0;'>********************************************************************************************************************</p>"
      ],
      "text/plain": [
       "<IPython.core.display.HTML object>"
      ]
     },
     "metadata": {},
     "output_type": "display_data"
    },
    {
     "name": "stdout",
     "output_type": "stream",
     "text": [
      "ADA/USDT:USDT SHORT\n",
      "{'tps': [[1730475660000, 0.3542, 0.3547, 0.3533, 0.3536, 461930.0], [1730560260000, 0.349, 0.3492, 0.3483, 0.3486, 563800.0], [1730600880000, 0.343, 0.343, 0.3424, 0.3425, 65493.0]], 'entry_reached': [[1730470080000, 0.3573, 0.3575, 0.3564, 0.3566, 94549.0], [1730517240000, 0.3626, 0.3639, 0.3626, 0.3637, 475114.0]], 'stop_loss_reached': None, 'break_reason': None}\n"
     ]
    },
    {
     "data": {
      "text/html": [
       "<p style='color:#0f0;'>********************************************************************************************************************</p>"
      ],
      "text/plain": [
       "<IPython.core.display.HTML object>"
      ]
     },
     "metadata": {},
     "output_type": "display_data"
    },
    {
     "name": "stdout",
     "output_type": "stream",
     "text": [
      "BCH/USDT:USDT SHORT\n",
      "{'tps': [[1730904360000, 364.66, 364.69, 363.16, 363.37, 35145.0]], 'entry_reached': [[1730867100000, 370.0, 374.6, 370.0, 371.97, 212712.0], [1730873940000, 378.93, 383.91, 378.86, 383.91, 164962.0]], 'stop_loss_reached': [1730943360000, 385.78, 386.58, 385.57, 386.37, 30423.0], 'break_reason': None}\n"
     ]
    },
    {
     "data": {
      "text/html": [
       "<p style='color:#0f0;'>********************************************************************************************************************</p>"
      ],
      "text/plain": [
       "<IPython.core.display.HTML object>"
      ]
     },
     "metadata": {},
     "output_type": "display_data"
    },
    {
     "name": "stdout",
     "output_type": "stream",
     "text": [
      "EIGEN/USDT:USDT LONG\n",
      "{'tps': [], 'entry_reached': [[1730532180000, 2.509, 2.51, 2.508, 2.51, 1458.0]], 'stop_loss_reached': [1730550540000, 2.424, 2.424, 2.408, 2.413, 47422.0], 'break_reason': None}\n"
     ]
    },
    {
     "data": {
      "text/html": [
       "<p style='color:#0f0;'>********************************************************************************************************************</p>"
      ],
      "text/plain": [
       "<IPython.core.display.HTML object>"
      ]
     },
     "metadata": {},
     "output_type": "display_data"
    },
    {
     "name": "stdout",
     "output_type": "stream",
     "text": [
      "RARE/USDT:USDT LONG\n",
      "{'tps': [[1730536200000, 0.128, 0.1294, 0.128, 0.1293, 5684765.0], [1730536380000, 0.1296, 0.1305, 0.1292, 0.1292, 3440916.0], [1730537460000, 0.132, 0.1343, 0.132, 0.1338, 8369185.0]], 'entry_reached': [[1730534880000, 0.1269, 0.1272, 0.1262, 0.1263, 1108462.0]], 'stop_loss_reached': None, 'break_reason': None}\n"
     ]
    },
    {
     "data": {
      "text/html": [
       "<p style='color:#0f0;'>********************************************************************************************************************</p>"
      ],
      "text/plain": [
       "<IPython.core.display.HTML object>"
      ]
     },
     "metadata": {},
     "output_type": "display_data"
    },
    {
     "name": "stdout",
     "output_type": "stream",
     "text": [
      "JUP/USDT:USDT SHORT\n",
      "{'tps': [[1730551680000, 0.936, 0.9368, 0.9347, 0.9351, 38277.0], [1730555700000, 0.931, 0.9317, 0.928, 0.928, 35391.0], [1730600700000, 0.9188, 0.9189, 0.9166, 0.9168, 20802.0]], 'entry_reached': [[1730545920000, 0.9453, 0.9455, 0.9448, 0.9455, 1470.0]], 'stop_loss_reached': None, 'break_reason': None}\n"
     ]
    },
    {
     "data": {
      "text/html": [
       "<p style='color:#0f0;'>********************************************************************************************************************</p>"
      ],
      "text/plain": [
       "<IPython.core.display.HTML object>"
      ]
     },
     "metadata": {},
     "output_type": "display_data"
    },
    {
     "name": "stdout",
     "output_type": "stream",
     "text": [
      "XRP/USDT:USDT SHORT\n",
      "{'tps': [[1730638680000, 0.5011, 0.5013, 0.5007, 0.501, 35869.0], [1730641140000, 0.4983, 0.4985, 0.4968, 0.4972, 591822.0], [1730646480000, 0.494, 0.4945, 0.492, 0.4923, 481521.0]], 'entry_reached': [[1730622060000, 0.5051, 0.5054, 0.5051, 0.5053, 18085.0]], 'stop_loss_reached': None, 'break_reason': None}\n"
     ]
    },
    {
     "data": {
      "text/html": [
       "<p style='color:#0f0;'>********************************************************************************************************************</p>"
      ],
      "text/plain": [
       "<IPython.core.display.HTML object>"
      ]
     },
     "metadata": {},
     "output_type": "display_data"
    },
    {
     "name": "stdout",
     "output_type": "stream",
     "text": [
      "SOL/USDT:USDT SHORT\n",
      "{'tps': [], 'entry_reached': [[1730817060000, 165.55, 165.86, 165.34, 165.86, 89323.0]], 'stop_loss_reached': [1730826060000, 168.71, 168.83, 168.62, 168.81, 39088.0], 'break_reason': None}\n"
     ]
    },
    {
     "data": {
      "text/html": [
       "<p style='color:#0f0;'>********************************************************************************************************************</p>"
      ],
      "text/plain": [
       "<IPython.core.display.HTML object>"
      ]
     },
     "metadata": {},
     "output_type": "display_data"
    },
    {
     "name": "stdout",
     "output_type": "stream",
     "text": [
      "MKR/USDT:USDT LONG\n",
      "{'tps': [[1732216680000, 1574.4, 1614.1, 1574.0, 1614.1, 95183.0], [1732216860000, 1622.8, 1630.0, 1620.3, 1627.5, 62786.0], [1732227120000, 1661.5, 1665.6, 1661.5, 1664.1, 6325.0]], 'entry_reached': [[1732207560000, 1571.2, 1571.2, 1566.9, 1567.6, 2334.0]], 'stop_loss_reached': None, 'break_reason': None}\n"
     ]
    },
    {
     "data": {
      "text/html": [
       "<p style='color:#0f0;'>********************************************************************************************************************</p>"
      ],
      "text/plain": [
       "<IPython.core.display.HTML object>"
      ]
     },
     "metadata": {},
     "output_type": "display_data"
    },
    {
     "name": "stdout",
     "output_type": "stream",
     "text": [
      "CAKE/USDT:USDT LONG\n",
      "{'tps': [[1732235040000, 1.9668, 1.9809, 1.9658, 1.9809, 121808.0], [1732235280000, 2.0025, 2.0063, 1.9949, 1.9957, 99383.0], [1732323060000, 2.0346, 2.0372, 2.0346, 2.0366, 9934.0]], 'entry_reached': [[1732218120000, 1.9382, 1.9394, 1.9373, 1.9394, 3072.0]], 'stop_loss_reached': None, 'break_reason': None}\n"
     ]
    },
    {
     "data": {
      "text/html": [
       "<p style='color:#0f0;'>********************************************************************************************************************</p>"
      ],
      "text/plain": [
       "<IPython.core.display.HTML object>"
      ]
     },
     "metadata": {},
     "output_type": "display_data"
    },
    {
     "name": "stdout",
     "output_type": "stream",
     "text": [
      "ATOM/USDT:USDT LONG\n",
      "{'tps': [[1732269600000, 6.723, 6.737, 6.712, 6.72, 5483.0], [1732276320000, 6.88, 6.915, 6.88, 6.905, 6128.0], [1732279200000, 7.045, 7.067, 7.045, 7.057, 6136.0]], 'entry_reached': [[1732259340000, 6.567, 6.582, 6.567, 6.575, 994.0]], 'stop_loss_reached': None, 'break_reason': None}\n"
     ]
    },
    {
     "data": {
      "text/html": [
       "<p style='color:#0f0;'>********************************************************************************************************************</p>"
      ],
      "text/plain": [
       "<IPython.core.display.HTML object>"
      ]
     },
     "metadata": {},
     "output_type": "display_data"
    },
    {
     "name": "stdout",
     "output_type": "stream",
     "text": [
      "GRASS/USDT:USDT LONG\n",
      "{'tps': [[1732302540000, 2.0566, 2.1006, 2.0566, 2.1006, 8993.0], [1732313220000, 2.1663, 2.1807, 2.1663, 2.1702, 2656.0], [1732413780000, 2.336, 2.357, 2.336, 2.354, 1693.0]], 'entry_reached': [[1732269180000, 2.0054, 2.0054, 2.0013, 2.0034, 1011.0]], 'stop_loss_reached': None, 'break_reason': None}\n"
     ]
    },
    {
     "data": {
      "text/html": [
       "<p style='color:#0f0;'>********************************************************************************************************************</p>"
      ],
      "text/plain": [
       "<IPython.core.display.HTML object>"
      ]
     },
     "metadata": {},
     "output_type": "display_data"
    },
    {
     "name": "stdout",
     "output_type": "stream",
     "text": [
      "IMX/USDT:USDT LONG\n",
      "{'tps': [[1732348680000, 1.5266, 1.531, 1.5266, 1.5293, 5067.0], [1732362960000, 1.5581, 1.56, 1.5573, 1.5599, 1317.0], [1732369200000, 1.5871, 1.5904, 1.5867, 1.5883, 4680.0]], 'entry_reached': [[1732342140000, 1.5011, 1.5012, 1.499, 1.4993, 2598.0]], 'stop_loss_reached': None, 'break_reason': None}\n"
     ]
    },
    {
     "data": {
      "text/html": [
       "<p style='color:#0f0;'>********************************************************************************************************************</p>"
      ],
      "text/plain": [
       "<IPython.core.display.HTML object>"
      ]
     },
     "metadata": {},
     "output_type": "display_data"
    },
    {
     "name": "stdout",
     "output_type": "stream",
     "text": [
      "WIF/USDT:USDT LONG\n",
      "{'tps': [[1732363800000, 3.4414, 3.485, 3.4414, 3.4849, 15162.0], [1732367220000, 3.5403, 3.5597, 3.5403, 3.5597, 5552.0]], 'entry_reached': [[1732353720000, 3.4204, 3.4259, 3.4189, 3.4253, 1639.0]], 'stop_loss_reached': [1732378980000, 3.3519, 3.3564, 3.275, 3.275, 15551.0], 'break_reason': None}\n"
     ]
    },
    {
     "data": {
      "text/html": [
       "<p style='color:#0f0;'>********************************************************************************************************************</p>"
      ],
      "text/plain": [
       "<IPython.core.display.HTML object>"
      ]
     },
     "metadata": {},
     "output_type": "display_data"
    },
    {
     "name": "stdout",
     "output_type": "stream",
     "text": [
      "RUNE/USDT:USDT LONG\n",
      "{'tps': [], 'entry_reached': [[1732369860000, 5.89, 5.89, 5.875, 5.881, 789.0]], 'stop_loss_reached': [1732378980000, 5.696, 5.707, 5.594, 5.613, 29644.0], 'break_reason': None}\n"
     ]
    },
    {
     "data": {
      "text/html": [
       "<p style='color:#0f0;'>********************************************************************************************************************</p>"
      ],
      "text/plain": [
       "<IPython.core.display.HTML object>"
      ]
     },
     "metadata": {},
     "output_type": "display_data"
    },
    {
     "name": "stdout",
     "output_type": "stream",
     "text": [
      "NOT/USDT:USDT LONG\n",
      "{'tps': [[1732425060000, 0.008509, 0.008535, 0.008501, 0.008534, 119980.0], [1732465860000, 0.008738, 0.008943, 0.008738, 0.008943, 867086.0], [1732465980000, 0.008991, 0.009222, 0.008917, 0.009166, 1615142.0]], 'entry_reached': [[1732384080000, 0.008191, 0.008208, 0.008188, 0.008191, 66944.0]], 'stop_loss_reached': None, 'break_reason': None}\n"
     ]
    },
    {
     "data": {
      "text/html": [
       "<p style='color:#0f0;'>********************************************************************************************************************</p>"
      ],
      "text/plain": [
       "<IPython.core.display.HTML object>"
      ]
     },
     "metadata": {},
     "output_type": "display_data"
    },
    {
     "name": "stdout",
     "output_type": "stream",
     "text": [
      "DOGS/USDT:USDT LONG\n",
      "{'tps': [[1732522920000, 0.0007291, 0.0007335, 0.0007291, 0.0007309, 193962.0]], 'entry_reached': [[1732519920000, 0.0007129, 0.0007158, 0.0007118, 0.0007146, 44730.0]], 'stop_loss_reached': [1732546380000, 0.0006779, 0.0006779, 0.0006712, 0.0006729, 390847.0], 'break_reason': None}\n"
     ]
    },
    {
     "data": {
      "text/html": [
       "<p style='color:#0f0;'>********************************************************************************************************************</p>"
      ],
      "text/plain": [
       "<IPython.core.display.HTML object>"
      ]
     },
     "metadata": {},
     "output_type": "display_data"
    },
    {
     "name": "stdout",
     "output_type": "stream",
     "text": [
      "FTM/USDT:USDT SHORT\n",
      "{'tps': [[1732620060000, 0.9477, 0.9477, 0.942, 0.9448, 136577.0]], 'entry_reached': [[1732619520000, 0.9665, 0.9677, 0.962, 0.9677, 79314.0], [1732623000000, 0.9835, 0.9878, 0.9833, 0.9875, 174834.0]], 'stop_loss_reached': [1732623360000, 0.9935, 1.0, 0.9923, 0.9927, 429994.0], 'break_reason': None}\n"
     ]
    },
    {
     "data": {
      "text/html": [
       "<p style='color:#0f0;'>********************************************************************************************************************</p>"
      ],
      "text/plain": [
       "<IPython.core.display.HTML object>"
      ]
     },
     "metadata": {},
     "output_type": "display_data"
    },
    {
     "name": "stdout",
     "output_type": "stream",
     "text": [
      "STORJ/USDT:USDT SHORT\n",
      "{'tps': [[1732625400000, 0.5759, 0.5761, 0.5745, 0.5751, 6217.0]], 'entry_reached': [[1732624560000, 0.5843, 0.585, 0.583, 0.585, 8356.0], [1732630740000, 0.5909, 0.5977, 0.5908, 0.5974, 21133.0]], 'stop_loss_reached': [1732632000000, 0.6021, 0.6033, 0.6011, 0.6011, 24210.0], 'break_reason': None}\n"
     ]
    },
    {
     "data": {
      "text/html": [
       "<p style='color:#0f0;'>********************************************************************************************************************</p>"
      ],
      "text/plain": [
       "<IPython.core.display.HTML object>"
      ]
     },
     "metadata": {},
     "output_type": "display_data"
    },
    {
     "name": "stdout",
     "output_type": "stream",
     "text": [
      "BTC/USDT:USDT SHORT\n",
      "{'tps': [], 'entry_reached': [[1732689660000, 93281.3, 93295.8, 93239.3, 93281.9, 347185.0]], 'stop_loss_reached': [1732721580000, 94924.4, 95032.4, 94891.1, 95032.4, 4695213.0], 'break_reason': None}\n"
     ]
    },
    {
     "data": {
      "text/html": [
       "<p style='color:#0f0;'>********************************************************************************************************************</p>"
      ],
      "text/plain": [
       "<IPython.core.display.HTML object>"
      ]
     },
     "metadata": {},
     "output_type": "display_data"
    },
    {
     "name": "stdout",
     "output_type": "stream",
     "text": [
      "GOAT/USDT:USDT LONG\n",
      "{'tps': [[1732721460000, 0.8739, 0.887, 0.8733, 0.887, 4990.0], [1732721520000, 0.8869, 0.9113, 0.8863, 0.9099, 27571.0], [1732721880000, 0.9238, 0.9284, 0.9231, 0.9284, 3352.0]], 'entry_reached': [[1732695960000, 0.8556, 0.8556, 0.8512, 0.8514, 594.0]], 'stop_loss_reached': None, 'break_reason': None}\n"
     ]
    },
    {
     "data": {
      "text/html": [
       "<p style='color:#0f0;'>********************************************************************************************************************</p>"
      ],
      "text/plain": [
       "<IPython.core.display.HTML object>"
      ]
     },
     "metadata": {},
     "output_type": "display_data"
    },
    {
     "name": "stdout",
     "output_type": "stream",
     "text": [
      "SKL/USDT:USDT LONG\n",
      "{'tps': [], 'entry_reached': [[1732776840000, 0.07259, 0.0732, 0.07259, 0.07297, 30334.0]], 'stop_loss_reached': [1732781460000, 0.06913, 0.06913, 0.06879, 0.06908, 65583.0], 'break_reason': None}\n"
     ]
    },
    {
     "data": {
      "text/html": [
       "<p style='color:#0f0;'>********************************************************************************************************************</p>"
      ],
      "text/plain": [
       "<IPython.core.display.HTML object>"
      ]
     },
     "metadata": {},
     "output_type": "display_data"
    },
    {
     "name": "stdout",
     "output_type": "stream",
     "text": [
      "YGG/USDT:USDT LONG\n",
      "{'tps': [[1732834440000, 0.6704, 0.6721, 0.6695, 0.6696, 54142.0], [1732940100000, 0.6958, 0.6973, 0.6951, 0.6964, 32233.0], [1732946700000, 0.7126, 0.716, 0.7126, 0.7159, 47260.0]], 'entry_reached': [[1732790760000, 0.6501, 0.6501, 0.6484, 0.649, 4461.0]], 'stop_loss_reached': None, 'break_reason': None}\n"
     ]
    },
    {
     "data": {
      "text/html": [
       "<p style='color:#0f0;'>********************************************************************************************************************</p>"
      ],
      "text/plain": [
       "<IPython.core.display.HTML object>"
      ]
     },
     "metadata": {},
     "output_type": "display_data"
    },
    {
     "name": "stdout",
     "output_type": "stream",
     "text": [
      "REN/USDT:USDT LONG\n"
     ]
    },
    {
     "data": {
      "text/html": [
       "<p style='color:#c01;'>json, 1733171400000</p>"
      ],
      "text/plain": [
       "<IPython.core.display.HTML object>"
      ]
     },
     "metadata": {},
     "output_type": "display_data"
    },
    {
     "name": "stdout",
     "output_type": "stream",
     "text": [
      "{'tps': [[1732848840000, 0.03881, 0.03992, 0.03881, 0.03992, 122907.0], [1732848960000, 0.04015, 0.04124, 0.04004, 0.04119, 151500.0], [1732871640000, 0.04233, 0.04285, 0.04227, 0.04273, 43327.0]], 'entry_reached': [[1732824600000, 0.03822, 0.03822, 0.03815, 0.03815, 2370.0]], 'stop_loss_reached': None, 'break_reason': None}\n"
     ]
    },
    {
     "data": {
      "text/html": [
       "<p style='color:#0f0;'>********************************************************************************************************************</p>"
      ],
      "text/plain": [
       "<IPython.core.display.HTML object>"
      ]
     },
     "metadata": {},
     "output_type": "display_data"
    },
    {
     "name": "stdout",
     "output_type": "stream",
     "text": [
      "TAO/USDT:USDT LONG\n",
      "{'tps': [[1732972320000, 642.22, 644.06, 642.06, 643.84, 10493.0], [1732976700000, 660.13, 663.45, 660.13, 661.35, 43775.0], [1732979820000, 678.19, 680.4, 678.04, 678.14, 27045.0]], 'entry_reached': [[1732878900000, 625.56, 626.53, 625.06, 625.99, 2398.0]], 'stop_loss_reached': None, 'break_reason': None}\n"
     ]
    },
    {
     "data": {
      "text/html": [
       "<p style='color:#0f0;'>********************************************************************************************************************</p>"
      ],
      "text/plain": [
       "<IPython.core.display.HTML object>"
      ]
     },
     "metadata": {},
     "output_type": "display_data"
    },
    {
     "data": {
      "text/html": [
       "<p style='color:#FFFF00;'>waiting 5 min...</p>"
      ],
      "text/plain": [
       "<IPython.core.display.HTML object>"
      ]
     },
     "metadata": {},
     "output_type": "display_data"
    },
    {
     "name": "stdout",
     "output_type": "stream",
     "text": [
      "ZETA/USDT:USDT LONG\n",
      "{'tps': [], 'entry_reached': [[1733324340000, 0.927, 0.927, 0.9225, 0.9226, 6385.0], [1733329020000, 0.9069, 0.9069, 0.9036, 0.9036, 36021.0]], 'stop_loss_reached': [1733330820000, 0.8927, 0.8941, 0.891, 0.8926, 28486.0], 'break_reason': None}\n"
     ]
    },
    {
     "data": {
      "text/html": [
       "<p style='color:#0f0;'>********************************************************************************************************************</p>"
      ],
      "text/plain": [
       "<IPython.core.display.HTML object>"
      ]
     },
     "metadata": {},
     "output_type": "display_data"
    },
    {
     "name": "stdout",
     "output_type": "stream",
     "text": [
      "WLD/USDT:USDT LONG\n",
      "{'tps': [], 'entry_reached': [[1733327160000, 3.4329, 3.4522, 3.4326, 3.446, 33461.0], [1733329020000, 3.3134, 3.3134, 3.2973, 3.2973, 84060.0]], 'stop_loss_reached': [1733330880000, 3.2544, 3.2545, 3.226, 3.226, 86544.0], 'break_reason': None}\n"
     ]
    },
    {
     "data": {
      "text/html": [
       "<p style='color:#0f0;'>********************************************************************************************************************</p>"
      ],
      "text/plain": [
       "<IPython.core.display.HTML object>"
      ]
     },
     "metadata": {},
     "output_type": "display_data"
    },
    {
     "name": "stdout",
     "output_type": "stream",
     "text": [
      "ETH/USDT:USDT LONG\n"
     ]
    },
    {
     "data": {
      "text/html": [
       "<p style='color:#c01;'>json, 1734121800000</p>"
      ],
      "text/plain": [
       "<IPython.core.display.HTML object>"
      ]
     },
     "metadata": {},
     "output_type": "display_data"
    },
    {
     "data": {
      "text/html": [
       "<p style='color:#fd03a1;'>stop_timestamp</p>"
      ],
      "text/plain": [
       "<IPython.core.display.HTML object>"
      ]
     },
     "metadata": {},
     "output_type": "display_data"
    },
    {
     "data": {
      "text/html": [
       "<p style='color:#ada;'>saving historic tohlcv data to json</p>"
      ],
      "text/plain": [
       "<IPython.core.display.HTML object>"
      ]
     },
     "metadata": {},
     "output_type": "display_data"
    },
    {
     "name": "stdout",
     "output_type": "stream",
     "text": [
      "{'tps': [[1733387400000, 3905.0, 3915.0, 3904.88, 3907.52, 491912.0]], 'entry_reached': [[1733381580000, 3860.54, 3862.0, 3858.02, 3858.03, 45063.0], [1733430660000, 3800.3, 3801.07, 3788.0, 3788.76, 1414775.0]], 'stop_loss_reached': [1733437680000, 3782.63, 3782.63, 3656.82, 3721.52, 7391700.0], 'break_reason': None}\n"
     ]
    },
    {
     "data": {
      "text/html": [
       "<p style='color:#0f0;'>********************************************************************************************************************</p>"
      ],
      "text/plain": [
       "<IPython.core.display.HTML object>"
      ]
     },
     "metadata": {},
     "output_type": "display_data"
    },
    {
     "name": "stdout",
     "output_type": "stream",
     "text": [
      "SAND/USDT:USDT LONG\n"
     ]
    },
    {
     "data": {
      "text/html": [
       "<p style='color:#c01;'>json, 1734121800000</p>"
      ],
      "text/plain": [
       "<IPython.core.display.HTML object>"
      ]
     },
     "metadata": {},
     "output_type": "display_data"
    },
    {
     "data": {
      "text/html": [
       "<p style='color:#fd03a1;'>stop_timestamp</p>"
      ],
      "text/plain": [
       "<IPython.core.display.HTML object>"
      ]
     },
     "metadata": {},
     "output_type": "display_data"
    },
    {
     "data": {
      "text/html": [
       "<p style='color:#ada;'>saving historic tohlcv data to json</p>"
      ],
      "text/plain": [
       "<IPython.core.display.HTML object>"
      ]
     },
     "metadata": {},
     "output_type": "display_data"
    },
    {
     "name": "stdout",
     "output_type": "stream",
     "text": [
      "{'tps': [[1733397480000, 0.9382, 0.9404, 0.9374, 0.9382, 10232.0], [1733397900000, 0.9471, 0.9564, 0.9471, 0.9564, 40844.0]], 'entry_reached': [[1733396100000, 0.9327, 0.9347, 0.9321, 0.9329, 6908.0], [1733409120000, 0.9157, 0.916, 0.9108, 0.9132, 18616.0]], 'stop_loss_reached': [1733437680000, 0.9187, 0.9187, 0.8706, 0.8938, 105522.0], 'break_reason': None}\n"
     ]
    },
    {
     "data": {
      "text/html": [
       "<p style='color:#0f0;'>********************************************************************************************************************</p>"
      ],
      "text/plain": [
       "<IPython.core.display.HTML object>"
      ]
     },
     "metadata": {},
     "output_type": "display_data"
    },
    {
     "name": "stdout",
     "output_type": "stream",
     "text": [
      "XLM/USDT:USDT LONG\n"
     ]
    },
    {
     "data": {
      "text/html": [
       "<p style='color:#c01;'>json, 1734121800000</p>"
      ],
      "text/plain": [
       "<IPython.core.display.HTML object>"
      ]
     },
     "metadata": {},
     "output_type": "display_data"
    },
    {
     "data": {
      "text/html": [
       "<p style='color:#fd03a1;'>stop_timestamp</p>"
      ],
      "text/plain": [
       "<IPython.core.display.HTML object>"
      ]
     },
     "metadata": {},
     "output_type": "display_data"
    },
    {
     "data": {
      "text/html": [
       "<p style='color:#ada;'>saving historic tohlcv data to json</p>"
      ],
      "text/plain": [
       "<IPython.core.display.HTML object>"
      ]
     },
     "metadata": {},
     "output_type": "display_data"
    },
    {
     "name": "stdout",
     "output_type": "stream",
     "text": [
      "{'tps': [[1733417280000, 0.49931, 0.50259, 0.49918, 0.49922, 33847.0]], 'entry_reached': [[1733402280000, 0.49196, 0.49196, 0.49181, 0.49181, 8898.0], [1733428440000, 0.47909, 0.47922, 0.47537, 0.47867, 113799.0]], 'stop_loss_reached': [1733437680000, 0.46715, 0.46715, 0.461, 0.46107, 2601322.0], 'break_reason': None}\n"
     ]
    },
    {
     "data": {
      "text/html": [
       "<p style='color:#0f0;'>********************************************************************************************************************</p>"
      ],
      "text/plain": [
       "<IPython.core.display.HTML object>"
      ]
     },
     "metadata": {},
     "output_type": "display_data"
    },
    {
     "name": "stdout",
     "output_type": "stream",
     "text": [
      "ORDI/USDT:USDT LONG\n"
     ]
    },
    {
     "data": {
      "text/html": [
       "<p style='color:#c01;'>json, 1734121800000</p>"
      ],
      "text/plain": [
       "<IPython.core.display.HTML object>"
      ]
     },
     "metadata": {},
     "output_type": "display_data"
    },
    {
     "data": {
      "text/html": [
       "<p style='color:#fd03a1;'>stop_timestamp</p>"
      ],
      "text/plain": [
       "<IPython.core.display.HTML object>"
      ]
     },
     "metadata": {},
     "output_type": "display_data"
    },
    {
     "data": {
      "text/html": [
       "<p style='color:#ada;'>saving historic tohlcv data to json</p>"
      ],
      "text/plain": [
       "<IPython.core.display.HTML object>"
      ]
     },
     "metadata": {},
     "output_type": "display_data"
    },
    {
     "name": "stdout",
     "output_type": "stream",
     "text": [
      "{'tps': [], 'entry_reached': [[1733411700000, 47.445, 47.448, 47.31, 47.35, 1496.0], [1733428920000, 46.218, 46.285, 46.125, 46.146, 3915.0]], 'stop_loss_reached': [1733437680000, 46.6, 46.6, 45.146, 45.531, 35367.0], 'break_reason': None}\n"
     ]
    },
    {
     "data": {
      "text/html": [
       "<p style='color:#0f0;'>********************************************************************************************************************</p>"
      ],
      "text/plain": [
       "<IPython.core.display.HTML object>"
      ]
     },
     "metadata": {},
     "output_type": "display_data"
    },
    {
     "name": "stdout",
     "output_type": "stream",
     "text": [
      "WIF/USDT:USDT LONG\n"
     ]
    },
    {
     "data": {
      "text/html": [
       "<p style='color:#c01;'>json, 1734121800000</p>"
      ],
      "text/plain": [
       "<IPython.core.display.HTML object>"
      ]
     },
     "metadata": {},
     "output_type": "display_data"
    },
    {
     "data": {
      "text/html": [
       "<p style='color:#fd03a1;'>stop_timestamp</p>"
      ],
      "text/plain": [
       "<IPython.core.display.HTML object>"
      ]
     },
     "metadata": {},
     "output_type": "display_data"
    },
    {
     "data": {
      "text/html": [
       "<p style='color:#ada;'>saving historic tohlcv data to json</p>"
      ],
      "text/plain": [
       "<IPython.core.display.HTML object>"
      ]
     },
     "metadata": {},
     "output_type": "display_data"
    },
    {
     "name": "stdout",
     "output_type": "stream",
     "text": [
      "{'tps': [[1733440740000, 3.3988, 3.417, 3.3912, 3.4095, 9483.0], [1733454360000, 3.4947, 3.5049, 3.4931, 3.4945, 6262.0], [1733567160000, 3.6242, 3.6521, 3.6201, 3.6325, 6718.0]], 'entry_reached': [[1733420520000, 3.3131, 3.3263, 3.3131, 3.3263, 1619.0], [1733437680000, 3.2144, 3.2144, 3.1468, 3.1468, 23659.0]], 'stop_loss_reached': None, 'break_reason': None}\n"
     ]
    },
    {
     "data": {
      "text/html": [
       "<p style='color:#0f0;'>********************************************************************************************************************</p>"
      ],
      "text/plain": [
       "<IPython.core.display.HTML object>"
      ]
     },
     "metadata": {},
     "output_type": "display_data"
    },
    {
     "name": "stdout",
     "output_type": "stream",
     "text": [
      "BCH/USDT:USDT LONG\n"
     ]
    },
    {
     "data": {
      "text/html": [
       "<p style='color:#c01;'>json, 1734121800000</p>"
      ],
      "text/plain": [
       "<IPython.core.display.HTML object>"
      ]
     },
     "metadata": {},
     "output_type": "display_data"
    },
    {
     "data": {
      "text/html": [
       "<p style='color:#fd03a1;'>stop_timestamp</p>"
      ],
      "text/plain": [
       "<IPython.core.display.HTML object>"
      ]
     },
     "metadata": {},
     "output_type": "display_data"
    },
    {
     "data": {
      "text/html": [
       "<p style='color:#ada;'>saving historic tohlcv data to json</p>"
      ],
      "text/plain": [
       "<IPython.core.display.HTML object>"
      ]
     },
     "metadata": {},
     "output_type": "display_data"
    },
    {
     "name": "stdout",
     "output_type": "stream",
     "text": [
      "{'tps': [[1733733660000, 606.96, 608.82, 606.96, 608.52, 16166.0]], 'entry_reached': [[1733728440000, 598.45, 599.73, 598.11, 599.65, 17730.0], [1733776740000, 588.97, 588.97, 581.07, 581.63, 89460.0]], 'stop_loss_reached': [1733777340000, 581.54, 581.54, 571.51, 571.83, 99745.0], 'break_reason': None}\n"
     ]
    },
    {
     "data": {
      "text/html": [
       "<p style='color:#0f0;'>********************************************************************************************************************</p>"
      ],
      "text/plain": [
       "<IPython.core.display.HTML object>"
      ]
     },
     "metadata": {},
     "output_type": "display_data"
    },
    {
     "name": "stdout",
     "output_type": "stream",
     "text": [
      "ADA/USDT:USDT LONG\n"
     ]
    },
    {
     "data": {
      "text/html": [
       "<p style='color:#c01;'>json, 1734121800000</p>"
      ],
      "text/plain": [
       "<IPython.core.display.HTML object>"
      ]
     },
     "metadata": {},
     "output_type": "display_data"
    },
    {
     "data": {
      "text/html": [
       "<p style='color:#fd03a1;'>stop_timestamp</p>"
      ],
      "text/plain": [
       "<IPython.core.display.HTML object>"
      ]
     },
     "metadata": {},
     "output_type": "display_data"
    },
    {
     "data": {
      "text/html": [
       "<p style='color:#ada;'>saving historic tohlcv data to json</p>"
      ],
      "text/plain": [
       "<IPython.core.display.HTML object>"
      ]
     },
     "metadata": {},
     "output_type": "display_data"
    },
    {
     "name": "stdout",
     "output_type": "stream",
     "text": [
      "{'tps': [[1733587320000, 1.2262, 1.2296, 1.2213, 1.2279, 502193.0]], 'entry_reached': [[1733560860000, 1.2125, 1.2262, 1.2125, 1.2147, 165493.0], [1733636820000, 1.1889, 1.1889, 1.1857, 1.188, 263560.0]], 'stop_loss_reached': [1733704980000, 1.1708, 1.1708, 1.1657, 1.1678, 587535.0], 'break_reason': None}\n"
     ]
    },
    {
     "data": {
      "text/html": [
       "<p style='color:#0f0;'>********************************************************************************************************************</p>"
      ],
      "text/plain": [
       "<IPython.core.display.HTML object>"
      ]
     },
     "metadata": {},
     "output_type": "display_data"
    },
    {
     "name": "stdout",
     "output_type": "stream",
     "text": [
      "BLUR/USDT:USDT LONG\n"
     ]
    },
    {
     "data": {
      "text/html": [
       "<p style='color:#c01;'>json, 1734121800000</p>"
      ],
      "text/plain": [
       "<IPython.core.display.HTML object>"
      ]
     },
     "metadata": {},
     "output_type": "display_data"
    },
    {
     "data": {
      "text/html": [
       "<p style='color:#fd03a1;'>stop_timestamp</p>"
      ],
      "text/plain": [
       "<IPython.core.display.HTML object>"
      ]
     },
     "metadata": {},
     "output_type": "display_data"
    },
    {
     "data": {
      "text/html": [
       "<p style='color:#ada;'>saving historic tohlcv data to json</p>"
      ],
      "text/plain": [
       "<IPython.core.display.HTML object>"
      ]
     },
     "metadata": {},
     "output_type": "display_data"
    },
    {
     "name": "stdout",
     "output_type": "stream",
     "text": [
      "{'tps': [], 'entry_reached': [[1733565840000, 0.4201, 0.4202, 0.4199, 0.4201, 3590.0], [1733634000000, 0.4107, 0.411, 0.4103, 0.4108, 36239.0]], 'stop_loss_reached': [1733638200000, 0.4053, 0.4055, 0.4046, 0.4047, 20023.0], 'break_reason': None}\n"
     ]
    },
    {
     "data": {
      "text/html": [
       "<p style='color:#0f0;'>********************************************************************************************************************</p>"
      ],
      "text/plain": [
       "<IPython.core.display.HTML object>"
      ]
     },
     "metadata": {},
     "output_type": "display_data"
    },
    {
     "name": "stdout",
     "output_type": "stream",
     "text": [
      "DOT/USDT:USDT LONG\n"
     ]
    },
    {
     "data": {
      "text/html": [
       "<p style='color:#c01;'>json, 1734121800000</p>"
      ],
      "text/plain": [
       "<IPython.core.display.HTML object>"
      ]
     },
     "metadata": {},
     "output_type": "display_data"
    },
    {
     "data": {
      "text/html": [
       "<p style='color:#fd03a1;'>stop_timestamp</p>"
      ],
      "text/plain": [
       "<IPython.core.display.HTML object>"
      ]
     },
     "metadata": {},
     "output_type": "display_data"
    },
    {
     "data": {
      "text/html": [
       "<p style='color:#ada;'>saving historic tohlcv data to json</p>"
      ],
      "text/plain": [
       "<IPython.core.display.HTML object>"
      ]
     },
     "metadata": {},
     "output_type": "display_data"
    },
    {
     "name": "stdout",
     "output_type": "stream",
     "text": [
      "{'tps': [[1733576700000, 10.596, 10.625, 10.594, 10.623, 6181.0], [1733582400000, 10.711, 10.73, 10.706, 10.711, 7363.0], [1733590800000, 10.811, 10.879, 10.811, 10.877, 29447.0]], 'entry_reached': [[1733574840000, 10.513, 10.525, 10.512, 10.523, 1259.0]], 'stop_loss_reached': None, 'break_reason': None}\n"
     ]
    },
    {
     "data": {
      "text/html": [
       "<p style='color:#0f0;'>********************************************************************************************************************</p>"
      ],
      "text/plain": [
       "<IPython.core.display.HTML object>"
      ]
     },
     "metadata": {},
     "output_type": "display_data"
    },
    {
     "name": "stdout",
     "output_type": "stream",
     "text": [
      "SOL/USDT:USDT LONG\n"
     ]
    },
    {
     "data": {
      "text/html": [
       "<p style='color:#c01;'>json, 1734121800000</p>"
      ],
      "text/plain": [
       "<IPython.core.display.HTML object>"
      ]
     },
     "metadata": {},
     "output_type": "display_data"
    },
    {
     "data": {
      "text/html": [
       "<p style='color:#fd03a1;'>stop_timestamp</p>"
      ],
      "text/plain": [
       "<IPython.core.display.HTML object>"
      ]
     },
     "metadata": {},
     "output_type": "display_data"
    },
    {
     "data": {
      "text/html": [
       "<p style='color:#ada;'>saving historic tohlcv data to json</p>"
      ],
      "text/plain": [
       "<IPython.core.display.HTML object>"
      ]
     },
     "metadata": {},
     "output_type": "display_data"
    },
    {
     "name": "stdout",
     "output_type": "stream",
     "text": [
      "{'tps': [[1733583480000, 242.56, 242.94, 242.47, 242.92, 48390.0]], 'entry_reached': [[1733579160000, 238.9, 239.0, 238.9, 239.0, 6420.0], [1733651280000, 234.66, 234.68, 234.35, 234.44, 91223.0]], 'stop_loss_reached': [1733708580000, 233.1, 233.15, 232.57, 232.62, 115318.0], 'break_reason': None}\n"
     ]
    },
    {
     "data": {
      "text/html": [
       "<p style='color:#0f0;'>********************************************************************************************************************</p>"
      ],
      "text/plain": [
       "<IPython.core.display.HTML object>"
      ]
     },
     "metadata": {},
     "output_type": "display_data"
    },
    {
     "name": "stdout",
     "output_type": "stream",
     "text": [
      "BRETT/USDT:USDT SHORT\n"
     ]
    },
    {
     "data": {
      "text/html": [
       "<p style='color:#c01;'>json, 1734121800000</p>"
      ],
      "text/plain": [
       "<IPython.core.display.HTML object>"
      ]
     },
     "metadata": {},
     "output_type": "display_data"
    },
    {
     "data": {
      "text/html": [
       "<p style='color:#fd03a1;'>stop_timestamp</p>"
      ],
      "text/plain": [
       "<IPython.core.display.HTML object>"
      ]
     },
     "metadata": {},
     "output_type": "display_data"
    },
    {
     "data": {
      "text/html": [
       "<p style='color:#ada;'>saving historic tohlcv data to json</p>"
      ],
      "text/plain": [
       "<IPython.core.display.HTML object>"
      ]
     },
     "metadata": {},
     "output_type": "display_data"
    },
    {
     "name": "stdout",
     "output_type": "stream",
     "text": [
      "{'tps': [[1733612160000, 0.21535, 0.21535, 0.21443, 0.21453, 1757.0], [1733615520000, 0.21267, 0.21279, 0.21217, 0.2125, 1070.0], [1733646840000, 0.21, 0.21, 0.20961, 0.20976, 707.0]], 'entry_reached': [[1733600580000, 0.21747, 0.21812, 0.21747, 0.21779, 533.0]], 'stop_loss_reached': None, 'break_reason': None}\n"
     ]
    },
    {
     "data": {
      "text/html": [
       "<p style='color:#0f0;'>********************************************************************************************************************</p>"
      ],
      "text/plain": [
       "<IPython.core.display.HTML object>"
      ]
     },
     "metadata": {},
     "output_type": "display_data"
    },
    {
     "name": "stdout",
     "output_type": "stream",
     "text": [
      "CHR/USDT:USDT LONG\n"
     ]
    },
    {
     "data": {
      "text/html": [
       "<p style='color:#c01;'>json, 1734121800000</p>"
      ],
      "text/plain": [
       "<IPython.core.display.HTML object>"
      ]
     },
     "metadata": {},
     "output_type": "display_data"
    },
    {
     "data": {
      "text/html": [
       "<p style='color:#fd03a1;'>stop_timestamp</p>"
      ],
      "text/plain": [
       "<IPython.core.display.HTML object>"
      ]
     },
     "metadata": {},
     "output_type": "display_data"
    },
    {
     "data": {
      "text/html": [
       "<p style='color:#ada;'>saving historic tohlcv data to json</p>"
      ],
      "text/plain": [
       "<IPython.core.display.HTML object>"
      ]
     },
     "metadata": {},
     "output_type": "display_data"
    },
    {
     "name": "stdout",
     "output_type": "stream",
     "text": [
      "{'tps': [], 'entry_reached': [[1733589300000, 0.3432, 0.3433, 0.3427, 0.3429, 1354.0], [1733622960000, 0.3366, 0.3366, 0.3359, 0.3361, 6642.0]], 'stop_loss_reached': [1733635020000, 0.3323, 0.3324, 0.3316, 0.3321, 3972.0], 'break_reason': None}\n"
     ]
    },
    {
     "data": {
      "text/html": [
       "<p style='color:#0f0;'>********************************************************************************************************************</p>"
      ],
      "text/plain": [
       "<IPython.core.display.HTML object>"
      ]
     },
     "metadata": {},
     "output_type": "display_data"
    },
    {
     "name": "stdout",
     "output_type": "stream",
     "text": [
      "TAO/USDT:USDT LONG\n"
     ]
    },
    {
     "data": {
      "text/html": [
       "<p style='color:#c01;'>json, 1734121800000</p>"
      ],
      "text/plain": [
       "<IPython.core.display.HTML object>"
      ]
     },
     "metadata": {},
     "output_type": "display_data"
    },
    {
     "data": {
      "text/html": [
       "<p style='color:#fd03a1;'>stop_timestamp</p>"
      ],
      "text/plain": [
       "<IPython.core.display.HTML object>"
      ]
     },
     "metadata": {},
     "output_type": "display_data"
    },
    {
     "data": {
      "text/html": [
       "<p style='color:#ada;'>saving historic tohlcv data to json</p>"
      ],
      "text/plain": [
       "<IPython.core.display.HTML object>"
      ]
     },
     "metadata": {},
     "output_type": "display_data"
    },
    {
     "name": "stdout",
     "output_type": "stream",
     "text": [
      "{'tps': [[1733644200000, 698.8, 699.89, 698.8, 699.88, 5351.0], [1733697060000, 707.68, 708.67, 707.02, 707.27, 7293.0]], 'entry_reached': [[1733641020000, 689.73, 690.02, 689.73, 689.8, 577.0]], 'stop_loss_reached': [1733716080000, 667.39, 667.7, 665.61, 666.67, 19111.0], 'break_reason': None}\n"
     ]
    },
    {
     "data": {
      "text/html": [
       "<p style='color:#0f0;'>********************************************************************************************************************</p>"
      ],
      "text/plain": [
       "<IPython.core.display.HTML object>"
      ]
     },
     "metadata": {},
     "output_type": "display_data"
    },
    {
     "name": "stdout",
     "output_type": "stream",
     "text": [
      "ONDO/USDT:USDT LONG\n"
     ]
    },
    {
     "data": {
      "text/html": [
       "<p style='color:#c01;'>json, 1734121800000</p>"
      ],
      "text/plain": [
       "<IPython.core.display.HTML object>"
      ]
     },
     "metadata": {},
     "output_type": "display_data"
    },
    {
     "name": "stdout",
     "output_type": "stream",
     "text": [
      "CRV/USDT:USDT LONG\n"
     ]
    },
    {
     "data": {
      "text/html": [
       "<p style='color:#c01;'>json, 1734121800000</p>"
      ],
      "text/plain": [
       "<IPython.core.display.HTML object>"
      ]
     },
     "metadata": {},
     "output_type": "display_data"
    },
    {
     "name": "stdout",
     "output_type": "stream",
     "text": [
      "DOGE/USDT:USDT LONG\n"
     ]
    },
    {
     "data": {
      "text/html": [
       "<p style='color:#c01;'>json, 1733862600000</p>"
      ],
      "text/plain": [
       "<IPython.core.display.HTML object>"
      ]
     },
     "metadata": {},
     "output_type": "display_data"
    },
    {
     "data": {
      "text/html": [
       "<p style='color:#fd03a1;'>stop_timestamp</p>"
      ],
      "text/plain": [
       "<IPython.core.display.HTML object>"
      ]
     },
     "metadata": {},
     "output_type": "display_data"
    },
    {
     "data": {
      "text/html": [
       "<p style='color:#ada;'>saving historic tohlcv data to json</p>"
      ],
      "text/plain": [
       "<IPython.core.display.HTML object>"
      ]
     },
     "metadata": {},
     "output_type": "display_data"
    },
    {
     "name": "stdout",
     "output_type": "stream",
     "text": [
      "{'tps': [[1733920800000, 0.4052, 0.40551, 0.40475, 0.40529, 144016.0], [1733930820000, 0.41713, 0.41894, 0.41713, 0.41835, 513313.0]], 'entry_reached': [[1733910060000, 0.39561, 0.39572, 0.39508, 0.39541, 96979.0]], 'stop_loss_reached': [1734551940000, 0.37635, 0.37635, 0.37388, 0.37438, 1318385.0], 'break_reason': None}\n"
     ]
    },
    {
     "data": {
      "text/html": [
       "<p style='color:#0f0;'>********************************************************************************************************************</p>"
      ],
      "text/plain": [
       "<IPython.core.display.HTML object>"
      ]
     },
     "metadata": {},
     "output_type": "display_data"
    },
    {
     "name": "stdout",
     "output_type": "stream",
     "text": [
      "ADA/USDT:USDT LONG\n"
     ]
    },
    {
     "data": {
      "text/html": [
       "<p style='color:#c01;'>json, 1734467400000</p>"
      ],
      "text/plain": [
       "<IPython.core.display.HTML object>"
      ]
     },
     "metadata": {},
     "output_type": "display_data"
    },
    {
     "data": {
      "text/html": [
       "<p style='color:#fd03a1;'>stop_timestamp</p>"
      ],
      "text/plain": [
       "<IPython.core.display.HTML object>"
      ]
     },
     "metadata": {},
     "output_type": "display_data"
    },
    {
     "data": {
      "text/html": [
       "<p style='color:#ada;'>saving historic tohlcv data to json</p>"
      ],
      "text/plain": [
       "<IPython.core.display.HTML object>"
      ]
     },
     "metadata": {},
     "output_type": "display_data"
    },
    {
     "name": "stdout",
     "output_type": "stream",
     "text": [
      "{'tps': [[1734519720000, 1.0394, 1.0447, 1.0393, 1.044, 326853.0]], 'entry_reached': [[1734495480000, 1.0309, 1.0309, 1.025, 1.0269, 396073.0]], 'stop_loss_reached': [1734552120000, 1.0127, 1.0127, 1.0013, 1.0051, 981146.0], 'break_reason': None}\n"
     ]
    },
    {
     "data": {
      "text/html": [
       "<p style='color:#0f0;'>********************************************************************************************************************</p>"
      ],
      "text/plain": [
       "<IPython.core.display.HTML object>"
      ]
     },
     "metadata": {},
     "output_type": "display_data"
    },
    {
     "name": "stdout",
     "output_type": "stream",
     "text": [
      "CHR/USDT:USDT SHORT\n"
     ]
    },
    {
     "data": {
      "text/html": [
       "<p style='color:#c01;'>json, 1734467400000</p>"
      ],
      "text/plain": [
       "<IPython.core.display.HTML object>"
      ]
     },
     "metadata": {},
     "output_type": "display_data"
    },
    {
     "data": {
      "text/html": [
       "<p style='color:#fd03a1;'>stop_timestamp</p>"
      ],
      "text/plain": [
       "<IPython.core.display.HTML object>"
      ]
     },
     "metadata": {},
     "output_type": "display_data"
    },
    {
     "data": {
      "text/html": [
       "<p style='color:#ada;'>saving historic tohlcv data to json</p>"
      ],
      "text/plain": [
       "<IPython.core.display.HTML object>"
      ]
     },
     "metadata": {},
     "output_type": "display_data"
    },
    {
     "name": "stdout",
     "output_type": "stream",
     "text": [
      "{'tps': [[1734052500000, 0.3287, 0.329, 0.3279, 0.3283, 3629.0], [1734182580000, 0.3211, 0.3211, 0.3183, 0.3191, 102291.0], [1734248580000, 0.3027, 0.3027, 0.302, 0.3021, 11966.0]], 'entry_reached': [[1733988120000, 0.3374, 0.3377, 0.3372, 0.3373, 6835.0]], 'stop_loss_reached': None, 'break_reason': None}\n"
     ]
    },
    {
     "data": {
      "text/html": [
       "<p style='color:#0f0;'>********************************************************************************************************************</p>"
      ],
      "text/plain": [
       "<IPython.core.display.HTML object>"
      ]
     },
     "metadata": {},
     "output_type": "display_data"
    },
    {
     "name": "stdout",
     "output_type": "stream",
     "text": [
      "TAO/USDT:USDT LONG\n"
     ]
    },
    {
     "data": {
      "text/html": [
       "<p style='color:#c01;'>json, 1734553800000</p>"
      ],
      "text/plain": [
       "<IPython.core.display.HTML object>"
      ]
     },
     "metadata": {},
     "output_type": "display_data"
    },
    {
     "name": "stdout",
     "output_type": "stream",
     "text": [
      "DOT/USDT:USDT LONG\n"
     ]
    },
    {
     "data": {
      "text/html": [
       "<p style='color:#c01;'>json, 1734467400000</p>"
      ],
      "text/plain": [
       "<IPython.core.display.HTML object>"
      ]
     },
     "metadata": {},
     "output_type": "display_data"
    },
    {
     "name": "stdout",
     "output_type": "stream",
     "text": [
      "EGLD/USDT:USDT SHORT\n"
     ]
    },
    {
     "data": {
      "text/html": [
       "<p style='color:#c01;'>json, 1733949000000</p>"
      ],
      "text/plain": [
       "<IPython.core.display.HTML object>"
      ]
     },
     "metadata": {},
     "output_type": "display_data"
    },
    {
     "data": {
      "text/html": [
       "<p style='color:#fd03a1;'>stop_timestamp</p>"
      ],
      "text/plain": [
       "<IPython.core.display.HTML object>"
      ]
     },
     "metadata": {},
     "output_type": "display_data"
    },
    {
     "data": {
      "text/html": [
       "<p style='color:#ada;'>saving historic tohlcv data to json</p>"
      ],
      "text/plain": [
       "<IPython.core.display.HTML object>"
      ]
     },
     "metadata": {},
     "output_type": "display_data"
    },
    {
     "name": "stdout",
     "output_type": "stream",
     "text": [
      "{'tps': [[1734031920000, 48.11, 48.18, 47.9, 47.94, 790.0], [1734052680000, 46.81, 46.83, 46.66, 46.66, 1758.0], [1734300240000, 45.0, 45.0, 44.88, 44.93, 1538.0]], 'entry_reached': [[1734023280000, 49.02, 49.11, 49.02, 49.11, 1002.0]], 'stop_loss_reached': None, 'break_reason': None}\n"
     ]
    },
    {
     "data": {
      "text/html": [
       "<p style='color:#0f0;'>********************************************************************************************************************</p>"
      ],
      "text/plain": [
       "<IPython.core.display.HTML object>"
      ]
     },
     "metadata": {},
     "output_type": "display_data"
    },
    {
     "name": "stdout",
     "output_type": "stream",
     "text": [
      "LTC/USDT:USDT SHORT\n"
     ]
    },
    {
     "data": {
      "text/html": [
       "<p style='color:#c01;'>json, 1733949000000</p>"
      ],
      "text/plain": [
       "<IPython.core.display.HTML object>"
      ]
     },
     "metadata": {},
     "output_type": "display_data"
    },
    {
     "data": {
      "text/html": [
       "<p style='color:#fd03a1;'>stop_timestamp</p>"
      ],
      "text/plain": [
       "<IPython.core.display.HTML object>"
      ]
     },
     "metadata": {},
     "output_type": "display_data"
    },
    {
     "data": {
      "text/html": [
       "<p style='color:#ada;'>saving historic tohlcv data to json</p>"
      ],
      "text/plain": [
       "<IPython.core.display.HTML object>"
      ]
     },
     "metadata": {},
     "output_type": "display_data"
    },
    {
     "name": "stdout",
     "output_type": "stream",
     "text": [
      "{'tps': [[1734032460000, 118.78, 118.79, 118.37, 118.55, 28985.0], [1734201060000, 116.38, 116.46, 116.16, 116.25, 11736.0]], 'entry_reached': [[1734016500000, 120.71, 120.9, 120.48, 120.57, 8837.0], [1734027060000, 123.9, 124.24, 123.9, 124.04, 30948.0]], 'stop_loss_reached': [1734456600000, 123.45, 125.85, 123.44, 125.85, 176567.0], 'break_reason': None}\n"
     ]
    },
    {
     "data": {
      "text/html": [
       "<p style='color:#0f0;'>********************************************************************************************************************</p>"
      ],
      "text/plain": [
       "<IPython.core.display.HTML object>"
      ]
     },
     "metadata": {},
     "output_type": "display_data"
    },
    {
     "name": "stdout",
     "output_type": "stream",
     "text": [
      "LRC/USDT:USDT SHORT\n"
     ]
    },
    {
     "data": {
      "text/html": [
       "<p style='color:#c01;'>json, 1733949000000</p>"
      ],
      "text/plain": [
       "<IPython.core.display.HTML object>"
      ]
     },
     "metadata": {},
     "output_type": "display_data"
    },
    {
     "data": {
      "text/html": [
       "<p style='color:#fd03a1;'>stop_timestamp</p>"
      ],
      "text/plain": [
       "<IPython.core.display.HTML object>"
      ]
     },
     "metadata": {},
     "output_type": "display_data"
    },
    {
     "data": {
      "text/html": [
       "<p style='color:#ada;'>saving historic tohlcv data to json</p>"
      ],
      "text/plain": [
       "<IPython.core.display.HTML object>"
      ]
     },
     "metadata": {},
     "output_type": "display_data"
    },
    {
     "name": "stdout",
     "output_type": "stream",
     "text": [
      "{'tps': [[1734032040000, 0.2762, 0.2762, 0.2745, 0.2749, 2210.0], [1734052860000, 0.2702, 0.2704, 0.2693, 0.2694, 2350.0], [1734179700000, 0.2614, 0.2615, 0.261, 0.261, 772.0]], 'entry_reached': [[1734020280000, 0.2821, 0.2826, 0.2815, 0.2826, 678.0]], 'stop_loss_reached': None, 'break_reason': None}\n"
     ]
    },
    {
     "data": {
      "text/html": [
       "<p style='color:#0f0;'>********************************************************************************************************************</p>"
      ],
      "text/plain": [
       "<IPython.core.display.HTML object>"
      ]
     },
     "metadata": {},
     "output_type": "display_data"
    },
    {
     "name": "stdout",
     "output_type": "stream",
     "text": [
      "ACT/USDT:USDT LONG\n"
     ]
    },
    {
     "data": {
      "text/html": [
       "<p style='color:#c01;'>json, 1734035400000</p>"
      ],
      "text/plain": [
       "<IPython.core.display.HTML object>"
      ]
     },
     "metadata": {},
     "output_type": "display_data"
    },
    {
     "data": {
      "text/html": [
       "<p style='color:#ada;'>saving historic tohlcv data to json</p>"
      ],
      "text/plain": [
       "<IPython.core.display.HTML object>"
      ]
     },
     "metadata": {},
     "output_type": "display_data"
    },
    {
     "name": "stdout",
     "output_type": "stream",
     "text": [
      "{'tps': [[1734080220000, 0.603, 0.6076, 0.6025, 0.6037, 6414.0], [1734190260000, 0.6209, 0.6289, 0.6204, 0.6289, 6804.0]], 'entry_reached': [[1734076140000, 0.5847, 0.5861, 0.5822, 0.5822, 1619.0], [1734244860000, 0.5543, 0.5544, 0.5522, 0.5527, 3304.0]], 'stop_loss_reached': [1734295560000, 0.5269, 0.5269, 0.5222, 0.5239, 12563.0], 'break_reason': None}\n"
     ]
    },
    {
     "data": {
      "text/html": [
       "<p style='color:#0f0;'>********************************************************************************************************************</p>"
      ],
      "text/plain": [
       "<IPython.core.display.HTML object>"
      ]
     },
     "metadata": {},
     "output_type": "display_data"
    },
    {
     "name": "stdout",
     "output_type": "stream",
     "text": [
      "ENS/USDT:USDT LONG\n"
     ]
    },
    {
     "data": {
      "text/html": [
       "<p style='color:#c01;'>json, 1734035400000</p>"
      ],
      "text/plain": [
       "<IPython.core.display.HTML object>"
      ]
     },
     "metadata": {},
     "output_type": "display_data"
    },
    {
     "data": {
      "text/html": [
       "<p style='color:#ada;'>saving historic tohlcv data to json</p>"
      ],
      "text/plain": [
       "<IPython.core.display.HTML object>"
      ]
     },
     "metadata": {},
     "output_type": "display_data"
    },
    {
     "name": "stdout",
     "output_type": "stream",
     "text": [
      "{'tps': [[1734282180000, 44.797, 45.024, 44.797, 44.98, 44442.0], [1734305580000, 46.218, 46.618, 46.218, 46.618, 61074.0], [1734308880000, 47.946, 48.298, 47.859, 48.247, 31691.0]], 'entry_reached': [[1734079500000, 43.8, 43.811, 43.733, 43.777, 8427.0], [1734179700000, 41.7, 41.71, 41.588, 41.588, 23001.0]], 'stop_loss_reached': None, 'break_reason': None}\n"
     ]
    },
    {
     "data": {
      "text/html": [
       "<p style='color:#0f0;'>********************************************************************************************************************</p>"
      ],
      "text/plain": [
       "<IPython.core.display.HTML object>"
      ]
     },
     "metadata": {},
     "output_type": "display_data"
    },
    {
     "name": "stdout",
     "output_type": "stream",
     "text": [
      "CRV/USDT:USDT SHORT\n"
     ]
    },
    {
     "data": {
      "text/html": [
       "<p style='color:#c01;'>json, 1734121800000</p>"
      ],
      "text/plain": [
       "<IPython.core.display.HTML object>"
      ]
     },
     "metadata": {},
     "output_type": "display_data"
    },
    {
     "data": {
      "text/html": [
       "<p style='color:#ada;'>saving historic tohlcv data to json</p>"
      ],
      "text/plain": [
       "<IPython.core.display.HTML object>"
      ]
     },
     "metadata": {},
     "output_type": "display_data"
    },
    {
     "name": "stdout",
     "output_type": "stream",
     "text": [
      "{'tps': [[1734085440000, 1.1952, 1.1992, 1.1932, 1.1942, 45119.0], [1734087360000, 1.1732, 1.1732, 1.17, 1.1712, 48808.0], [1734099000000, 1.1331, 1.1361, 1.1281, 1.1301, 73456.0]], 'entry_reached': [[1734084720000, 1.2252, 1.2272, 1.2242, 1.2252, 15876.0]], 'stop_loss_reached': None, 'break_reason': None}\n"
     ]
    },
    {
     "data": {
      "text/html": [
       "<p style='color:#0f0;'>********************************************************************************************************************</p>"
      ],
      "text/plain": [
       "<IPython.core.display.HTML object>"
      ]
     },
     "metadata": {},
     "output_type": "display_data"
    },
    {
     "name": "stdout",
     "output_type": "stream",
     "text": [
      "APT/USDT:USDT SHORT\n"
     ]
    },
    {
     "data": {
      "text/html": [
       "<p style='color:#c01;'>json, 1734121800000</p>"
      ],
      "text/plain": [
       "<IPython.core.display.HTML object>"
      ]
     },
     "metadata": {},
     "output_type": "display_data"
    },
    {
     "data": {
      "text/html": [
       "<p style='color:#ada;'>saving historic tohlcv data to json</p>"
      ],
      "text/plain": [
       "<IPython.core.display.HTML object>"
      ]
     },
     "metadata": {},
     "output_type": "display_data"
    },
    {
     "name": "stdout",
     "output_type": "stream",
     "text": [
      "{'tps': [[1734180960000, 13.7218, 13.722, 13.677, 13.6855, 108408.0], [1734182280000, 13.554, 13.5544, 13.5163, 13.5353, 64015.0], [1734198240000, 13.4121, 13.4189, 13.3774, 13.3849, 129897.0]], 'entry_reached': [[1734180000000, 13.7543, 13.7734, 13.7506, 13.7506, 68734.0]], 'stop_loss_reached': None, 'break_reason': None}\n"
     ]
    },
    {
     "data": {
      "text/html": [
       "<p style='color:#0f0;'>********************************************************************************************************************</p>"
      ],
      "text/plain": [
       "<IPython.core.display.HTML object>"
      ]
     },
     "metadata": {},
     "output_type": "display_data"
    },
    {
     "name": "stdout",
     "output_type": "stream",
     "text": [
      "SOL/USDT:USDT SHORT\n"
     ]
    },
    {
     "data": {
      "text/html": [
       "<p style='color:#c01;'>json, 1734467400000</p>"
      ],
      "text/plain": [
       "<IPython.core.display.HTML object>"
      ]
     },
     "metadata": {},
     "output_type": "display_data"
    },
    {
     "data": {
      "text/html": [
       "<p style='color:#ada;'>saving historic tohlcv data to json</p>"
      ],
      "text/plain": [
       "<IPython.core.display.HTML object>"
      ]
     },
     "metadata": {},
     "output_type": "display_data"
    },
    {
     "name": "stdout",
     "output_type": "stream",
     "text": [
      "{'tps': [[1734192840000, 220.89, 220.9, 220.41, 220.47, 127819.0], [1734198420000, 219.03, 219.08, 218.7, 218.79, 56449.0], [1734203700000, 217.23, 217.33, 216.96, 217.03, 80561.0]], 'entry_reached': [[1734190260000, 222.38, 222.7, 222.38, 222.7, 17218.0]], 'stop_loss_reached': None, 'break_reason': None}\n"
     ]
    },
    {
     "data": {
      "text/html": [
       "<p style='color:#0f0;'>********************************************************************************************************************</p>"
      ],
      "text/plain": [
       "<IPython.core.display.HTML object>"
      ]
     },
     "metadata": {},
     "output_type": "display_data"
    },
    {
     "name": "stdout",
     "output_type": "stream",
     "text": [
      "MINA/USDT:USDT LONG\n"
     ]
    },
    {
     "data": {
      "text/html": [
       "<p style='color:#c01;'>json, 1734208200000</p>"
      ],
      "text/plain": [
       "<IPython.core.display.HTML object>"
      ]
     },
     "metadata": {},
     "output_type": "display_data"
    },
    {
     "data": {
      "text/html": [
       "<p style='color:#ada;'>saving historic tohlcv data to json</p>"
      ],
      "text/plain": [
       "<IPython.core.display.HTML object>"
      ]
     },
     "metadata": {},
     "output_type": "display_data"
    },
    {
     "name": "stdout",
     "output_type": "stream",
     "text": [
      "{'tps': [[1734250080000, 0.8016, 0.8024, 0.8007, 0.8019, 17021.0], [1734253740000, 0.8072, 0.81, 0.8072, 0.8099, 2609.0], [1734255720000, 0.8171, 0.8207, 0.8171, 0.8207, 14473.0]], 'entry_reached': [[1734249360000, 0.7931, 0.7945, 0.7931, 0.7942, 1550.0]], 'stop_loss_reached': None, 'break_reason': None}\n"
     ]
    },
    {
     "data": {
      "text/html": [
       "<p style='color:#0f0;'>********************************************************************************************************************</p>"
      ],
      "text/plain": [
       "<IPython.core.display.HTML object>"
      ]
     },
     "metadata": {},
     "output_type": "display_data"
    },
    {
     "name": "stdout",
     "output_type": "stream",
     "text": [
      "LRC/USDT:USDT SHORT\n",
      "{'tps': [], 'entry_reached': [[1734258120000, 0.2579, 0.2579, 0.2575, 0.2576, 329.0], [1734270600000, 0.2629, 0.2646, 0.2629, 0.2644, 3305.0]], 'stop_loss_reached': [1734272640000, 0.2655, 0.2661, 0.2655, 0.266, 930.0], 'break_reason': None}\n"
     ]
    },
    {
     "data": {
      "text/html": [
       "<p style='color:#0f0;'>********************************************************************************************************************</p>"
      ],
      "text/plain": [
       "<IPython.core.display.HTML object>"
      ]
     },
     "metadata": {},
     "output_type": "display_data"
    },
    {
     "name": "stdout",
     "output_type": "stream",
     "text": [
      "BTC/USDT:USDT LONG\n"
     ]
    },
    {
     "data": {
      "text/html": [
       "<p style='color:#c01;'>json, 1734208200000</p>"
      ],
      "text/plain": [
       "<IPython.core.display.HTML object>"
      ]
     },
     "metadata": {},
     "output_type": "display_data"
    },
    {
     "data": {
      "text/html": [
       "<p style='color:#ada;'>saving historic tohlcv data to json</p>"
      ],
      "text/plain": [
       "<IPython.core.display.HTML object>"
      ]
     },
     "metadata": {},
     "output_type": "display_data"
    },
    {
     "name": "stdout",
     "output_type": "stream",
     "text": [
      "{'tps': [[1734266340000, 103000.9, 103135.1, 102995.9, 103104.1, 5343396.0], [1734304740000, 103900.8, 104030.2, 103886.1, 103979.2, 2391665.0], [1734305220000, 105000.0, 105338.8, 105000.0, 105086.7, 13813049.0]], 'entry_reached': [[1734259500000, 102191.8, 102210.0, 102180.5, 102180.5, 177483.0]], 'stop_loss_reached': None, 'break_reason': None}\n"
     ]
    },
    {
     "data": {
      "text/html": [
       "<p style='color:#0f0;'>********************************************************************************************************************</p>"
      ],
      "text/plain": [
       "<IPython.core.display.HTML object>"
      ]
     },
     "metadata": {},
     "output_type": "display_data"
    },
    {
     "name": "stdout",
     "output_type": "stream",
     "text": [
      "ADA/USDT:USDT SHORT\n"
     ]
    },
    {
     "data": {
      "text/html": [
       "<p style='color:#c01;'>json, 1734813000000</p>"
      ],
      "text/plain": [
       "<IPython.core.display.HTML object>"
      ]
     },
     "metadata": {},
     "output_type": "display_data"
    },
    {
     "data": {
      "text/html": [
       "<p style='color:#ada;'>saving historic tohlcv data to json</p>"
      ],
      "text/plain": [
       "<IPython.core.display.HTML object>"
      ]
     },
     "metadata": {},
     "output_type": "display_data"
    },
    {
     "name": "stdout",
     "output_type": "stream",
     "text": [
      "{'tps': [[1734367560000, 1.1059, 1.1075, 1.0981, 1.1056, 496021.0]], 'entry_reached': [[1734367320000, 1.1188, 1.1211, 1.1154, 1.1154, 348940.0]], 'stop_loss_reached': None, 'break_reason': None}\n"
     ]
    },
    {
     "data": {
      "text/html": [
       "<p style='color:#0f0;'>********************************************************************************************************************</p>"
      ],
      "text/plain": [
       "<IPython.core.display.HTML object>"
      ]
     },
     "metadata": {},
     "output_type": "display_data"
    },
    {
     "name": "stdout",
     "output_type": "stream",
     "text": [
      "LINK/USDT:USDT LONG\n"
     ]
    },
    {
     "data": {
      "text/html": [
       "<p style='color:#c01;'>json, 1734294600000</p>"
      ],
      "text/plain": [
       "<IPython.core.display.HTML object>"
      ]
     },
     "metadata": {},
     "output_type": "display_data"
    },
    {
     "data": {
      "text/html": [
       "<p style='color:#ada;'>saving historic tohlcv data to json</p>"
      ],
      "text/plain": [
       "<IPython.core.display.HTML object>"
      ]
     },
     "metadata": {},
     "output_type": "display_data"
    },
    {
     "name": "stdout",
     "output_type": "stream",
     "text": [
      "{'tps': [[1734344880000, 30.482, 30.651, 30.471, 30.651, 136239.0]], 'entry_reached': [[1734343080000, 29.967, 30.016, 29.891, 29.97, 70434.0], [1734391140000, 28.92, 28.94, 28.866, 28.888, 43850.0]], 'stop_loss_reached': [1734421680000, 28.196, 28.207, 28.092, 28.112, 238799.0], 'break_reason': None}\n"
     ]
    },
    {
     "data": {
      "text/html": [
       "<p style='color:#0f0;'>********************************************************************************************************************</p>"
      ],
      "text/plain": [
       "<IPython.core.display.HTML object>"
      ]
     },
     "metadata": {},
     "output_type": "display_data"
    },
    {
     "name": "stdout",
     "output_type": "stream",
     "text": [
      "NEAR/USDT:USDT LONG\n"
     ]
    },
    {
     "data": {
      "text/html": [
       "<p style='color:#c01;'>json, 1734381000000</p>"
      ],
      "text/plain": [
       "<IPython.core.display.HTML object>"
      ]
     },
     "metadata": {},
     "output_type": "display_data"
    },
    {
     "data": {
      "text/html": [
       "<p style='color:#ada;'>saving historic tohlcv data to json</p>"
      ],
      "text/plain": [
       "<IPython.core.display.HTML object>"
      ]
     },
     "metadata": {},
     "output_type": "display_data"
    },
    {
     "name": "stdout",
     "output_type": "stream",
     "text": [
      "{'tps': [[1734435180000, 6.857, 6.877, 6.857, 6.875, 12005.0], [1734441540000, 6.944, 6.969, 6.943, 6.957, 5497.0]], 'entry_reached': [[1734431040000, 6.76, 6.762, 6.745, 6.76, 3537.0]], 'stop_loss_reached': [1734469380000, 6.557, 6.558, 6.534, 6.544, 17226.0], 'break_reason': None}\n"
     ]
    },
    {
     "data": {
      "text/html": [
       "<p style='color:#0f0;'>********************************************************************************************************************</p>"
      ],
      "text/plain": [
       "<IPython.core.display.HTML object>"
      ]
     },
     "metadata": {},
     "output_type": "display_data"
    },
    {
     "name": "stdout",
     "output_type": "stream",
     "text": [
      "BTC/USDT:USDT LONG\n",
      "{'tps': [[1734576960000, 100144.2, 100391.7, 100144.2, 100327.0, 4730163.0], [1734593100000, 101398.8, 101472.0, 101398.2, 101461.4, 1200728.0], [1734618840000, 102680.9, 102756.4, 102630.2, 102702.1, 3138492.0]], 'entry_reached': [[1734574260000, 99612.0, 99661.2, 99194.8, 99194.8, 7404222.0]], 'stop_loss_reached': None, 'break_reason': None}\n"
     ]
    },
    {
     "data": {
      "text/html": [
       "<p style='color:#0f0;'>********************************************************************************************************************</p>"
      ],
      "text/plain": [
       "<IPython.core.display.HTML object>"
      ]
     },
     "metadata": {},
     "output_type": "display_data"
    },
    {
     "name": "stdout",
     "output_type": "stream",
     "text": [
      "BTC/USDT:USDT SHORT\n",
      "{'tps': [[1734619740000, 101076.3, 101160.0, 100669.8, 100970.4, 12696814.0], [1734622860000, 99744.1, 99744.1, 99457.3, 99563.5, 2488012.0], [1734630840000, 98371.3, 98427.0, 97420.0, 97760.0, 13180430.0]], 'entry_reached': [[1734618300000, 102292.8, 102388.6, 102292.8, 102322.9, 557343.0]], 'stop_loss_reached': None, 'break_reason': None}\n"
     ]
    },
    {
     "data": {
      "text/html": [
       "<p style='color:#0f0;'>********************************************************************************************************************</p>"
      ],
      "text/plain": [
       "<IPython.core.display.HTML object>"
      ]
     },
     "metadata": {},
     "output_type": "display_data"
    },
    {
     "name": "stdout",
     "output_type": "stream",
     "text": [
      "BTC/USDT:USDT LONG\n",
      "{'tps': [], 'entry_reached': [[1734625380000, 100251.2, 100487.7, 100251.2, 100468.4, 1676428.0]], 'stop_loss_reached': [1734630720000, 98418.6, 98493.2, 98000.1, 98000.1, 9484188.0], 'break_reason': None}\n"
     ]
    },
    {
     "data": {
      "text/html": [
       "<p style='color:#0f0;'>********************************************************************************************************************</p>"
      ],
      "text/plain": [
       "<IPython.core.display.HTML object>"
      ]
     },
     "metadata": {},
     "output_type": "display_data"
    },
    {
     "name": "stdout",
     "output_type": "stream",
     "text": [
      "MKR/USDT:USDT LONG\n"
     ]
    },
    {
     "data": {
      "text/html": [
       "<p style='color:#c01;'>json, 1734640200000</p>"
      ],
      "text/plain": [
       "<IPython.core.display.HTML object>"
      ]
     },
     "metadata": {},
     "output_type": "display_data"
    },
    {
     "data": {
      "text/html": [
       "<p style='color:#ada;'>saving historic tohlcv data to json</p>"
      ],
      "text/plain": [
       "<IPython.core.display.HTML object>"
      ]
     },
     "metadata": {},
     "output_type": "display_data"
    },
    {
     "name": "stdout",
     "output_type": "stream",
     "text": [
      "{'tps': [[1734687300000, 1589.7, 1616.4, 1589.7, 1614.8, 139675.0]], 'entry_reached': [[1734686640000, 1586.5, 1588.4, 1580.5, 1580.5, 2503.0], [1734689520000, 1557.2, 1558.1, 1548.2, 1550.3, 22742.0]], 'stop_loss_reached': [1734694560000, 1526.7, 1537.4, 1516.9, 1536.2, 29058.0], 'break_reason': None}\n"
     ]
    },
    {
     "data": {
      "text/html": [
       "<p style='color:#0f0;'>********************************************************************************************************************</p>"
      ],
      "text/plain": [
       "<IPython.core.display.HTML object>"
      ]
     },
     "metadata": {},
     "output_type": "display_data"
    },
    {
     "name": "stdout",
     "output_type": "stream",
     "text": [
      "ATOM/USDT:USDT LONG\n"
     ]
    },
    {
     "data": {
      "text/html": [
       "<p style='color:#c01;'>json, 1734640200000</p>"
      ],
      "text/plain": [
       "<IPython.core.display.HTML object>"
      ]
     },
     "metadata": {},
     "output_type": "display_data"
    },
    {
     "data": {
      "text/html": [
       "<p style='color:#ada;'>saving historic tohlcv data to json</p>"
      ],
      "text/plain": [
       "<IPython.core.display.HTML object>"
      ]
     },
     "metadata": {},
     "output_type": "display_data"
    },
    {
     "name": "stdout",
     "output_type": "stream",
     "text": [
      "{'tps': [[1734696840000, 5.961, 6.002, 5.961, 5.986, 5866.0], [1734697380000, 6.116, 6.144, 6.099, 6.135, 10911.0], [1734701400000, 6.169, 6.305, 6.163, 6.295, 17936.0]], 'entry_reached': [[1734695460000, 5.907, 5.907, 5.828, 5.832, 13725.0]], 'stop_loss_reached': None, 'break_reason': None}\n"
     ]
    },
    {
     "data": {
      "text/html": [
       "<p style='color:#0f0;'>********************************************************************************************************************</p>"
      ],
      "text/plain": [
       "<IPython.core.display.HTML object>"
      ]
     },
     "metadata": {},
     "output_type": "display_data"
    },
    {
     "name": "stdout",
     "output_type": "stream",
     "text": [
      "BTC/USDT:USDT LONG\n",
      "{'tps': [], 'entry_reached': [], 'stop_loss_reached': None, 'break_reason': None}\n"
     ]
    },
    {
     "data": {
      "text/html": [
       "<p style='color:#0f0;'>********************************************************************************************************************</p>"
      ],
      "text/plain": [
       "<IPython.core.display.HTML object>"
      ]
     },
     "metadata": {},
     "output_type": "display_data"
    },
    {
     "name": "stdout",
     "output_type": "stream",
     "text": [
      "SOL/USDT:USDT LONG\n",
      "{'tps': [], 'entry_reached': [[1734765240000, 199.77, 199.79, 199.69, 199.7, 10298.0]], 'stop_loss_reached': [1734780180000, 193.28, 193.37, 192.94, 193.01, 84513.0], 'break_reason': None}\n"
     ]
    },
    {
     "data": {
      "text/html": [
       "<p style='color:#0f0;'>********************************************************************************************************************</p>"
      ],
      "text/plain": [
       "<IPython.core.display.HTML object>"
      ]
     },
     "metadata": {},
     "output_type": "display_data"
    },
    {
     "name": "stdout",
     "output_type": "stream",
     "text": [
      "INJ/USDT:USDT SHORT\n"
     ]
    },
    {
     "data": {
      "text/html": [
       "<p style='color:#c01;'>json, 1734726600000</p>"
      ],
      "text/plain": [
       "<IPython.core.display.HTML object>"
      ]
     },
     "metadata": {},
     "output_type": "display_data"
    },
    {
     "data": {
      "text/html": [
       "<p style='color:#ada;'>saving historic tohlcv data to json</p>"
      ],
      "text/plain": [
       "<IPython.core.display.HTML object>"
      ]
     },
     "metadata": {},
     "output_type": "display_data"
    },
    {
     "name": "stdout",
     "output_type": "stream",
     "text": [
      "{'tps': [[1734780300000, 22.272, 22.272, 22.173, 22.173, 2010.0], [1734782880000, 22.089, 22.092, 21.982, 21.998, 1022.0], [1734784500000, 21.817, 21.818, 21.723, 21.744, 1213.0]], 'entry_reached': [[1734779940000, 22.431, 22.459, 22.428, 22.432, 228.0]], 'stop_loss_reached': None, 'break_reason': None}\n"
     ]
    },
    {
     "data": {
      "text/html": [
       "<p style='color:#0f0;'>********************************************************************************************************************</p>"
      ],
      "text/plain": [
       "<IPython.core.display.HTML object>"
      ]
     },
     "metadata": {},
     "output_type": "display_data"
    },
    {
     "name": "stdout",
     "output_type": "stream",
     "text": [
      "KAS/USDT:USDT SHORT\n"
     ]
    },
    {
     "data": {
      "text/html": [
       "<p style='color:#c01;'>json, 1734726600000</p>"
      ],
      "text/plain": [
       "<IPython.core.display.HTML object>"
      ]
     },
     "metadata": {},
     "output_type": "display_data"
    },
    {
     "data": {
      "text/html": [
       "<p style='color:#ada;'>saving historic tohlcv data to json</p>"
      ],
      "text/plain": [
       "<IPython.core.display.HTML object>"
      ]
     },
     "metadata": {},
     "output_type": "display_data"
    },
    {
     "name": "stdout",
     "output_type": "stream",
     "text": [
      "{'tps': [[1734783000000, 0.12424, 0.1243, 0.12354, 0.12395, 3068.0], [1734784500000, 0.12339, 0.1234, 0.12292, 0.12297, 3279.0], [1734787020000, 0.12183, 0.12188, 0.12157, 0.12169, 5621.0]], 'entry_reached': [[1734782460000, 0.1253, 0.12539, 0.12516, 0.12532, 1646.0]], 'stop_loss_reached': None, 'break_reason': None}\n"
     ]
    },
    {
     "data": {
      "text/html": [
       "<p style='color:#0f0;'>********************************************************************************************************************</p>"
      ],
      "text/plain": [
       "<IPython.core.display.HTML object>"
      ]
     },
     "metadata": {},
     "output_type": "display_data"
    },
    {
     "name": "stdout",
     "output_type": "stream",
     "text": [
      "BTC/USDT:USDT LONG\n",
      "{'tps': [[1734790680000, 97652.7, 97723.9, 97631.9, 97715.9, 1069364.0]], 'entry_reached': [[1734787740000, 96577.9, 96638.3, 96516.0, 96635.0, 2129138.0]], 'stop_loss_reached': None, 'break_reason': None}\n"
     ]
    },
    {
     "data": {
      "text/html": [
       "<p style='color:#0f0;'>********************************************************************************************************************</p>"
      ],
      "text/plain": [
       "<IPython.core.display.HTML object>"
      ]
     },
     "metadata": {},
     "output_type": "display_data"
    },
    {
     "name": "stdout",
     "output_type": "stream",
     "text": [
      "FTM/USDT:USDT LONG\n"
     ]
    },
    {
     "data": {
      "text/html": [
       "<p style='color:#c01;'>json, 1734726600000</p>"
      ],
      "text/plain": [
       "<IPython.core.display.HTML object>"
      ]
     },
     "metadata": {},
     "output_type": "display_data"
    },
    {
     "data": {
      "text/html": [
       "<p style='color:#ada;'>saving historic tohlcv data to json</p>"
      ],
      "text/plain": [
       "<IPython.core.display.HTML object>"
      ]
     },
     "metadata": {},
     "output_type": "display_data"
    },
    {
     "name": "stdout",
     "output_type": "stream",
     "text": [
      "{'tps': [], 'entry_reached': [[1734806160000, 0.9999, 0.9999, 0.9941, 0.9956, 50677.0]], 'stop_loss_reached': [1734808140000, 0.9763, 0.9785, 0.9716, 0.9718, 173849.0], 'break_reason': None}\n"
     ]
    },
    {
     "data": {
      "text/html": [
       "<p style='color:#0f0;'>********************************************************************************************************************</p>"
      ],
      "text/plain": [
       "<IPython.core.display.HTML object>"
      ]
     },
     "metadata": {},
     "output_type": "display_data"
    },
    {
     "name": "stdout",
     "output_type": "stream",
     "text": [
      "BAT/USDT:USDT LONG\n"
     ]
    },
    {
     "data": {
      "text/html": [
       "<p style='color:#c01;'>json, 1734813000000</p>"
      ],
      "text/plain": [
       "<IPython.core.display.HTML object>"
      ]
     },
     "metadata": {},
     "output_type": "display_data"
    },
    {
     "data": {
      "text/html": [
       "<p style='color:#ada;'>saving historic tohlcv data to json</p>"
      ],
      "text/plain": [
       "<IPython.core.display.HTML object>"
      ]
     },
     "metadata": {},
     "output_type": "display_data"
    },
    {
     "name": "stdout",
     "output_type": "stream",
     "text": [
      "{'tps': [[1734860280000, 0.2157, 0.216, 0.2155, 0.2156, 5833.0]], 'entry_reached': [[1734847680000, 0.2093, 0.2097, 0.2093, 0.2097, 1797.0]], 'stop_loss_reached': None, 'break_reason': None}\n"
     ]
    },
    {
     "data": {
      "text/html": [
       "<p style='color:#0f0;'>********************************************************************************************************************</p>"
      ],
      "text/plain": [
       "<IPython.core.display.HTML object>"
      ]
     },
     "metadata": {},
     "output_type": "display_data"
    },
    {
     "name": "stdout",
     "output_type": "stream",
     "text": [
      "GRT/USDT:USDT LONG\n"
     ]
    },
    {
     "data": {
      "text/html": [
       "<p style='color:#c01;'>json, 1734813000000</p>"
      ],
      "text/plain": [
       "<IPython.core.display.HTML object>"
      ]
     },
     "metadata": {},
     "output_type": "display_data"
    },
    {
     "data": {
      "text/html": [
       "<p style='color:#ada;'>saving historic tohlcv data to json</p>"
      ],
      "text/plain": [
       "<IPython.core.display.HTML object>"
      ]
     },
     "metadata": {},
     "output_type": "display_data"
    },
    {
     "name": "stdout",
     "output_type": "stream",
     "text": [
      "{'tps': [[1734854940000, 0.20837, 0.20906, 0.20834, 0.20865, 4378.0], [1734863520000, 0.21233, 0.21303, 0.21232, 0.21303, 1165.0]], 'entry_reached': [[1734853680000, 0.20586, 0.20596, 0.20573, 0.20595, 953.0]], 'stop_loss_reached': None, 'break_reason': None}\n"
     ]
    },
    {
     "data": {
      "text/html": [
       "<p style='color:#0f0;'>********************************************************************************************************************</p>"
      ],
      "text/plain": [
       "<IPython.core.display.HTML object>"
      ]
     },
     "metadata": {},
     "output_type": "display_data"
    },
    {
     "name": "stdout",
     "output_type": "stream",
     "text": [
      "XRP/USDT:USDT LONG\n"
     ]
    },
    {
     "data": {
      "text/html": [
       "<p style='color:#c01;'>json, 1734813000000</p>"
      ],
      "text/plain": [
       "<IPython.core.display.HTML object>"
      ]
     },
     "metadata": {},
     "output_type": "display_data"
    },
    {
     "data": {
      "text/html": [
       "<p style='color:#ada;'>saving historic tohlcv data to json</p>"
      ],
      "text/plain": [
       "<IPython.core.display.HTML object>"
      ]
     },
     "metadata": {},
     "output_type": "display_data"
    },
    {
     "name": "stdout",
     "output_type": "stream",
     "text": [
      "{'tps': [], 'entry_reached': [[1734855000000, 2.2489, 2.2493, 2.2465, 2.2467, 56170.0]], 'stop_loss_reached': None, 'break_reason': None}\n"
     ]
    },
    {
     "data": {
      "text/html": [
       "<p style='color:#0f0;'>********************************************************************************************************************</p>"
      ],
      "text/plain": [
       "<IPython.core.display.HTML object>"
      ]
     },
     "metadata": {},
     "output_type": "display_data"
    },
    {
     "data": {
      "text/plain": [
       "True"
      ]
     },
     "execution_count": 3,
     "metadata": {},
     "output_type": "execute_result"
    }
   ],
   "source": [
    "\n",
    "# اول فروردین = 2024/3/20\n",
    "# end_date = datetime(2024, 3, 20, tzinfo=timezone.utc)\n",
    "# اول خرداد = 2024/5/21\n",
    "# end_date = datetime(2024, 5, 21, tzinfo=timezone.utc)\n",
    "# start_date = datetime(2024, 5, 29, tzinfo=timezone.utc)\n",
    "# اول تیر = 2024/6/21\n",
    "# start_date = datetime(2024, 6, 21, tzinfo=timezone.utc)\n",
    "# end_date = datetime(2024, 9, 7, tzinfo=timezone.utc)\n",
    "\n",
    "\n",
    "# 1709889120000 1709975340000\n",
    "# offset_date = int(convertDateToMilliTimeStamp(year=2024, month=4, day=30, hour=0, minute=0))/1000\n",
    "\n",
    "await king.FindStatistic(year=2023, month=11, day=1, \n",
    "                        # offset_date=offset_date\n",
    "                        )\n",
    "    "
   ]
  }
 ],
 "metadata": {
  "kernelspec": {
   "display_name": ".venv",
   "language": "python",
   "name": "python3"
  },
  "language_info": {
   "codemirror_mode": {
    "name": "ipython",
    "version": 3
   },
   "file_extension": ".py",
   "mimetype": "text/x-python",
   "name": "python",
   "nbconvert_exporter": "python",
   "pygments_lexer": "ipython3",
   "version": "3.12.6"
  }
 },
 "nbformat": 4,
 "nbformat_minor": 2
}
