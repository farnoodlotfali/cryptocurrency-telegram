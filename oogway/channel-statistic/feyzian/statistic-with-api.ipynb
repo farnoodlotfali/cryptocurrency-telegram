{
 "cells": [
  {
   "cell_type": "code",
   "execution_count": 4,
   "metadata": {},
   "outputs": [],
   "source": [
    "import django\n",
    "import os\n",
    "import sys\n",
    "import shutil\n",
    "\n",
    "path='../../'\n",
    "\n",
    "source_file_path = f'{path}.env'\n",
    "\n",
    "destination_file_path = '.'\n",
    "\n",
    "shutil.copy(source_file_path, destination_file_path)\n",
    "\n",
    "from dotenv import dotenv_values\n",
    "\n",
    "_config = dotenv_values(\".env\")\n",
    "_username = _config[\"username\"]\n",
    "\n",
    "session_file_path = f'{path}{_username}.session'\n",
    "\n",
    "shutil.copy(session_file_path, destination_file_path)\n",
    "\n",
    "\n",
    "project_path = path  # Adjust this to your actual project path\n",
    "sys.path.append(project_path)\n",
    "os.environ.setdefault('DJANGO_SETTINGS_MODULE', 'oogway.settings')\n",
    "django.setup()\n"
   ]
  },
  {
   "cell_type": "code",
   "execution_count": 2,
   "metadata": {},
   "outputs": [],
   "source": [
    "import warnings\n",
    "from Channels.FeyzianChannel import FeyzianChannel\n",
    "from Shared.Exchange import exchange\n",
    "from Shared.helpers import convertDateToMilliTimeStamp, zero_hours_minutes_seconds\n",
    "from Shared.dataIO import load_historic_tohlcv_json\n",
    "from bisect import bisect_left\n",
    "\n",
    "fey = FeyzianChannel()\n",
    "\n",
    "\n",
    "# Disable all warnings\n",
    "warnings.filterwarnings(\"ignore\")"
   ]
  },
  {
   "cell_type": "markdown",
   "metadata": {},
   "source": [
    "## Get channel history"
   ]
  },
  {
   "cell_type": "code",
   "execution_count": 3,
   "metadata": {},
   "outputs": [
    {
     "name": "stdout",
     "output_type": "stream",
     "text": [
      "AAVE/USDT:USDT SHORT\n",
      "{'tps': [[1720911780000, 99.85, 99.85, 99.4, 99.52, 189.9]], 'entry_reached': [[1720907700000, 99.93, 101.62, 99.93, 100.73, 2515.8], [1720985400000, 103.76, 104.16, 103.74, 103.99, 597.0]], 'stop_loss_reached': [1721030580000, 105.64, 106.34, 105.63, 106.24, 730.1], 'break_reason': None}\n"
     ]
    },
    {
     "data": {
      "text/html": [
       "<p style='color:#0f0;'>********************************************************************************************************************</p>"
      ],
      "text/plain": [
       "<IPython.core.display.HTML object>"
      ]
     },
     "metadata": {},
     "output_type": "display_data"
    },
    {
     "name": "stdout",
     "output_type": "stream",
     "text": [
      "ETH/USDT:USDT LONG\n",
      "{'tps': [], 'entry_reached': [[1719928500000, 3441.91, 3442.45, 3428.63, 3429.99, 757.12], [1719976260000, 3370.44, 3370.53, 3356.41, 3361.88, 895.3]], 'stop_loss_reached': [1720001280000, 3329.63, 3329.97, 3304.17, 3320.18, 2670.03], 'break_reason': None}\n"
     ]
    },
    {
     "data": {
      "text/html": [
       "<p style='color:#0f0;'>********************************************************************************************************************</p>"
      ],
      "text/plain": [
       "<IPython.core.display.HTML object>"
      ]
     },
     "metadata": {},
     "output_type": "display_data"
    },
    {
     "name": "stdout",
     "output_type": "stream",
     "text": [
      "ETH/USDT:USDT LONG\n",
      "{'tps': [], 'entry_reached': [[1720001100000, 3336.0, 3336.02, 3331.54, 3331.8, 566.5], [1720001280000, 3329.63, 3329.97, 3304.17, 3320.18, 2670.03]], 'stop_loss_reached': [1720001760000, 3318.0, 3318.0, 3298.82, 3303.15, 846.55], 'break_reason': None}\n"
     ]
    },
    {
     "data": {
      "text/html": [
       "<p style='color:#0f0;'>********************************************************************************************************************</p>"
      ],
      "text/plain": [
       "<IPython.core.display.HTML object>"
      ]
     },
     "metadata": {},
     "output_type": "display_data"
    },
    {
     "name": "stdout",
     "output_type": "stream",
     "text": [
      "MANA/USDT:USDT LONG\n",
      "{'tps': [], 'entry_reached': [[1720038240000, 0.3236, 0.3237, 0.3231, 0.3231, 42329.0], [1720058400000, 0.3114, 0.3115, 0.307, 0.307, 110814.0]], 'stop_loss_reached': [1720096800000, 0.303, 0.3032, 0.3016, 0.3017, 61017.0], 'break_reason': None}\n"
     ]
    },
    {
     "data": {
      "text/html": [
       "<p style='color:#0f0;'>********************************************************************************************************************</p>"
      ],
      "text/plain": [
       "<IPython.core.display.HTML object>"
      ]
     },
     "metadata": {},
     "output_type": "display_data"
    },
    {
     "name": "stdout",
     "output_type": "stream",
     "text": [
      "APT/USDT:USDT LONG\n",
      "{'tps': [[1720259520000, 5.6234, 5.6331, 5.6222, 5.6311, 4509.9], [1720272780000, 5.6941, 5.7075, 5.6938, 5.7038, 2577.6], [1720280700000, 5.7881, 5.8013, 5.7849, 5.7972, 3445.7], [1720283760000, 5.861, 5.8692, 5.8606, 5.868, 748.3], [1720293240000, 5.9881, 5.9992, 5.9874, 5.9975, 1331.0]], 'entry_reached': [[1720258320000, 5.5799, 5.5823, 5.571, 5.5808, 3333.0]], 'stop_loss_reached': None, 'break_reason': None}\n"
     ]
    },
    {
     "data": {
      "text/html": [
       "<p style='color:#0f0;'>********************************************************************************************************************</p>"
      ],
      "text/plain": [
       "<IPython.core.display.HTML object>"
      ]
     },
     "metadata": {},
     "output_type": "display_data"
    },
    {
     "name": "stdout",
     "output_type": "stream",
     "text": [
      "EDU/USDT:USDT SHORT\n",
      "{'tps': [[1720416720000, 0.6274, 0.628, 0.6231, 0.6231, 65175.0], [1720417260000, 0.6223, 0.6228, 0.621, 0.6212, 21293.0]], 'entry_reached': [[1720415160000, 0.6332, 0.6349, 0.6328, 0.6347, 20231.0], [1720429500000, 0.6608, 0.6688, 0.6603, 0.6654, 32438.0]], 'stop_loss_reached': [1720432020000, 0.6774, 0.6849, 0.6766, 0.6849, 59713.0], 'break_reason': None}\n"
     ]
    },
    {
     "data": {
      "text/html": [
       "<p style='color:#0f0;'>********************************************************************************************************************</p>"
      ],
      "text/plain": [
       "<IPython.core.display.HTML object>"
      ]
     },
     "metadata": {},
     "output_type": "display_data"
    },
    {
     "name": "stdout",
     "output_type": "stream",
     "text": [
      "MKR/USDT:USDT SHORT\n",
      "{'tps': [[1720713780000, 2312.9, 2313.1, 2308.3, 2309.7, 5.34]], 'entry_reached': [[1720701060000, 2342.5, 2346.0, 2331.1, 2335.1, 61.72], [1720774680000, 2414.2, 2420.5, 2412.6, 2419.3, 12.46]], 'stop_loss_reached': [1720802640000, 2419.8, 2500.5, 2419.8, 2463.2, 102.35], 'break_reason': None}\n"
     ]
    },
    {
     "data": {
      "text/html": [
       "<p style='color:#0f0;'>********************************************************************************************************************</p>"
      ],
      "text/plain": [
       "<IPython.core.display.HTML object>"
      ]
     },
     "metadata": {},
     "output_type": "display_data"
    },
    {
     "name": "stdout",
     "output_type": "stream",
     "text": [
      "SXP/USDT:USDT SHORT\n",
      "{'tps': [[1720959480000, 0.2375, 0.2376, 0.2372, 0.2372, 8433.0]], 'entry_reached': [[1720931640000, 0.2394, 0.2404, 0.2394, 0.2401, 22356.0], [1721029380000, 0.2465, 0.2471, 0.2465, 0.2469, 5910.0]], 'stop_loss_reached': [1721068260000, 0.2496, 0.2502, 0.2494, 0.2499, 44563.0], 'break_reason': None}\n"
     ]
    },
    {
     "data": {
      "text/html": [
       "<p style='color:#0f0;'>********************************************************************************************************************</p>"
      ],
      "text/plain": [
       "<IPython.core.display.HTML object>"
      ]
     },
     "metadata": {},
     "output_type": "display_data"
    },
    {
     "name": "stdout",
     "output_type": "stream",
     "text": [
      "ETH/USDT:USDT SHORT\n",
      "{'tps': [], 'entry_reached': [[1720539360000, 3049.8, 3052.32, 3048.22, 3050.3, 401.88], [1720627920000, 3143.3, 3148.84, 3140.31, 3144.03, 870.15]], 'stop_loss_reached': [1720701000000, 3146.26, 3199.99, 3145.47, 3191.37, 7100.5], 'break_reason': None}\n"
     ]
    },
    {
     "data": {
      "text/html": [
       "<p style='color:#0f0;'>********************************************************************************************************************</p>"
      ],
      "text/plain": [
       "<IPython.core.display.HTML object>"
      ]
     },
     "metadata": {},
     "output_type": "display_data"
    },
    {
     "name": "stdout",
     "output_type": "stream",
     "text": [
      "XLM/USDT:USDT SHORT\n",
      "{'tps': [], 'entry_reached': [[1720584120000, 0.08789, 0.0881, 0.08787, 0.08808, 23693.0], [1720585620000, 0.08861, 0.08891, 0.08861, 0.08889, 152140.0]], 'stop_loss_reached': [1720585680000, 0.08893, 0.08903, 0.0889, 0.08894, 54923.0], 'break_reason': None}\n"
     ]
    },
    {
     "data": {
      "text/html": [
       "<p style='color:#0f0;'>********************************************************************************************************************</p>"
      ],
      "text/plain": [
       "<IPython.core.display.HTML object>"
      ]
     },
     "metadata": {},
     "output_type": "display_data"
    },
    {
     "name": "stdout",
     "output_type": "stream",
     "text": [
      "LTC/USDT:USDT SHORT\n",
      "{'tps': [[1720713060000, 68.1, 68.14, 67.9, 67.91, 377.8], [1720747020000, 67.11, 67.11, 67.01, 67.05, 1202.2]], 'entry_reached': [[1720701000000, 67.96, 68.82, 67.96, 68.73, 3023.9], [1721010720000, 70.64, 70.84, 70.64, 70.81, 619.0]], 'stop_loss_reached': [1721074680000, 71.62, 71.71, 71.6, 71.67, 472.0], 'break_reason': None}\n"
     ]
    },
    {
     "data": {
      "text/html": [
       "<p style='color:#0f0;'>********************************************************************************************************************</p>"
      ],
      "text/plain": [
       "<IPython.core.display.HTML object>"
      ]
     },
     "metadata": {},
     "output_type": "display_data"
    },
    {
     "name": "stdout",
     "output_type": "stream",
     "text": [
      "MANA/USDT:USDT SHORT\n",
      "{'tps': [], 'entry_reached': [[1720790160000, 0.317, 0.3176, 0.3168, 0.3174, 23900.0], [1720809900000, 0.325, 0.3257, 0.3249, 0.3255, 5150.0]], 'stop_loss_reached': [1720861920000, 0.3299, 0.3303, 0.3297, 0.3299, 52039.0], 'break_reason': None}\n"
     ]
    },
    {
     "data": {
      "text/html": [
       "<p style='color:#0f0;'>********************************************************************************************************************</p>"
      ],
      "text/plain": [
       "<IPython.core.display.HTML object>"
      ]
     },
     "metadata": {},
     "output_type": "display_data"
    },
    {
     "name": "stdout",
     "output_type": "stream",
     "text": [
      "EGLD/USDT:USDT LONG\n",
      "{'tps': [[1720852620000, 35.597, 35.625, 35.59, 35.599, 514.2], [1720859040000, 36.006, 36.066, 36.006, 36.058, 377.5], [1720862220000, 36.446, 36.529, 36.445, 36.452, 1372.1], [1721086800000, 37.062, 37.099, 37.062, 37.078, 235.1], [1721300760000, 37.813, 37.988, 37.813, 37.91, 518.4]], 'entry_reached': [[1720837860000, 35.167, 35.168, 35.148, 35.15, 350.6]], 'stop_loss_reached': None, 'break_reason': None}\n"
     ]
    },
    {
     "data": {
      "text/html": [
       "<p style='color:#0f0;'>********************************************************************************************************************</p>"
      ],
      "text/plain": [
       "<IPython.core.display.HTML object>"
      ]
     },
     "metadata": {},
     "output_type": "display_data"
    },
    {
     "name": "stdout",
     "output_type": "stream",
     "text": [
      "AAVE/USDT:USDT SHORT\n",
      "{'tps': [[1720909860000, 99.67, 99.69, 99.52, 99.62, 385.2]], 'entry_reached': [[1720907700000, 99.93, 101.62, 99.93, 100.73, 2515.8], [1720986180000, 104.43, 104.46, 104.22, 104.26, 237.8]], 'stop_loss_reached': [1721030580000, 105.64, 106.34, 105.63, 106.24, 730.1], 'break_reason': None}\n"
     ]
    },
    {
     "data": {
      "text/html": [
       "<p style='color:#0f0;'>********************************************************************************************************************</p>"
      ],
      "text/plain": [
       "<IPython.core.display.HTML object>"
      ]
     },
     "metadata": {},
     "output_type": "display_data"
    },
    {
     "name": "stdout",
     "output_type": "stream",
     "text": [
      "FTM/USDT:USDT SHORT\n",
      "{'tps': [[1721624700000, 0.5276, 0.528, 0.5269, 0.5273, 28186.0], [1721633340000, 0.5177, 0.518, 0.5172, 0.5179, 9113.0], [1721686260000, 0.5081, 0.5081, 0.5062, 0.5078, 314940.0], [1721712240000, 0.4964, 0.4965, 0.4944, 0.4957, 110193.0], [1721753940000, 0.4785, 0.4787, 0.4734, 0.4752, 220995.0]], 'entry_reached': [[1721593680000, 0.5331, 0.536, 0.5331, 0.5351, 120125.0]], 'stop_loss_reached': None, 'break_reason': None}\n"
     ]
    },
    {
     "data": {
      "text/html": [
       "<p style='color:#0f0;'>********************************************************************************************************************</p>"
      ],
      "text/plain": [
       "<IPython.core.display.HTML object>"
      ]
     },
     "metadata": {},
     "output_type": "display_data"
    },
    {
     "name": "stdout",
     "output_type": "stream",
     "text": [
      "IMX/USDT:USDT LONG\n",
      "{'tps': [[1720911900000, 1.344, 1.35, 1.3433, 1.3483, 44351.0], [1720945680000, 1.3654, 1.3677, 1.3651, 1.3669, 3681.0], [1720992240000, 1.3916, 1.3964, 1.3916, 1.3962, 19657.0], [1720992960000, 1.4114, 1.4223, 1.4111, 1.4202, 30738.0], [1721009220000, 1.4611, 1.4679, 1.4607, 1.4671, 2457.0]], 'entry_reached': [[1720909440000, 1.3274, 1.3279, 1.3252, 1.3257, 18929.0]], 'stop_loss_reached': None, 'break_reason': None}\n"
     ]
    },
    {
     "data": {
      "text/html": [
       "<p style='color:#0f0;'>********************************************************************************************************************</p>"
      ],
      "text/plain": [
       "<IPython.core.display.HTML object>"
      ]
     },
     "metadata": {},
     "output_type": "display_data"
    },
    {
     "name": "stdout",
     "output_type": "stream",
     "text": [
      "BTC/USDT:USDT SHORT\n",
      "{'tps': [], 'entry_reached': [[1720992000000, 60323.3, 60634.0, 60323.3, 60434.3, 218.19], [1721033100000, 63058.0, 63249.0, 63049.5, 63102.3, 226.85]], 'stop_loss_reached': [1721081460000, 63728.0, 64524.3, 63728.0, 64033.6, 607.73], 'break_reason': None}\n"
     ]
    },
    {
     "data": {
      "text/html": [
       "<p style='color:#0f0;'>********************************************************************************************************************</p>"
      ],
      "text/plain": [
       "<IPython.core.display.HTML object>"
      ]
     },
     "metadata": {},
     "output_type": "display_data"
    },
    {
     "name": "stdout",
     "output_type": "stream",
     "text": [
      "MINA/USDT:USDT SHORT\n",
      "{'tps': [], 'entry_reached': [[1721053980000, 0.5198, 0.5206, 0.5194, 0.5204, 24144.9], [1721088420000, 0.5424, 0.5435, 0.5416, 0.5416, 46451.2]], 'stop_loss_reached': [1721192400000, 0.5536, 0.5545, 0.5535, 0.5542, 30217.8], 'break_reason': None}\n"
     ]
    },
    {
     "data": {
      "text/html": [
       "<p style='color:#0f0;'>********************************************************************************************************************</p>"
      ],
      "text/plain": [
       "<IPython.core.display.HTML object>"
      ]
     },
     "metadata": {},
     "output_type": "display_data"
    },
    {
     "name": "stdout",
     "output_type": "stream",
     "text": [
      "BTC/USDT:USDT SHORT\n",
      "{'tps': [[1721138520000, 63403.8, 63433.8, 63159.2, 63216.6, 208.92]], 'entry_reached': [[1721136420000, 63792.6, 63810.0, 63759.2, 63775.8, 17.09], [1721145120000, 64648.3, 64856.5, 64636.5, 64808.8, 77.12]], 'stop_loss_reached': [1721176320000, 65347.0, 65437.6, 65332.2, 65337.8, 80.82], 'break_reason': None}\n"
     ]
    },
    {
     "data": {
      "text/html": [
       "<p style='color:#0f0;'>********************************************************************************************************************</p>"
      ],
      "text/plain": [
       "<IPython.core.display.HTML object>"
      ]
     },
     "metadata": {},
     "output_type": "display_data"
    },
    {
     "name": "stdout",
     "output_type": "stream",
     "text": [
      "SNX/USDT:USDT SHORT\n",
      "{'tps': [[1721216040000, 1.923, 1.925, 1.919, 1.92, 14931.7], [1721234460000, 1.898, 1.901, 1.897, 1.899, 3259.3]], 'entry_reached': [[1721208060000, 1.935, 1.938, 1.934, 1.937, 1862.5], [1721281860000, 1.984, 1.987, 1.983, 1.986, 1588.4]], 'stop_loss_reached': [1721283420000, 1.997, 2.004, 1.997, 2.002, 6843.3], 'break_reason': None}\n"
     ]
    },
    {
     "data": {
      "text/html": [
       "<p style='color:#0f0;'>********************************************************************************************************************</p>"
      ],
      "text/plain": [
       "<IPython.core.display.HTML object>"
      ]
     },
     "metadata": {},
     "output_type": "display_data"
    },
    {
     "name": "stdout",
     "output_type": "stream",
     "text": [
      "ATOM/USDT:USDT SHORT\n",
      "{'tps': [], 'entry_reached': [], 'stop_loss_reached': None, 'break_reason': 'WAIT MANY DAYS'}\n"
     ]
    },
    {
     "data": {
      "text/html": [
       "<p style='color:#0f0;'>********************************************************************************************************************</p>"
      ],
      "text/plain": [
       "<IPython.core.display.HTML object>"
      ]
     },
     "metadata": {},
     "output_type": "display_data"
    },
    {
     "name": "stdout",
     "output_type": "stream",
     "text": [
      "BAT/USDT:USDT SHORT\n",
      "{'tps': [], 'entry_reached': [[1721525820000, 0.2008, 0.2043, 0.2008, 0.2034, 141753.2], [1721525880000, 0.2034, 0.2055, 0.2033, 0.2054, 185431.8]], 'stop_loss_reached': [1721525940000, 0.2053, 0.2054, 0.2049, 0.2049, 120179.8], 'break_reason': None}\n"
     ]
    },
    {
     "data": {
      "text/html": [
       "<p style='color:#0f0;'>********************************************************************************************************************</p>"
      ],
      "text/plain": [
       "<IPython.core.display.HTML object>"
      ]
     },
     "metadata": {},
     "output_type": "display_data"
    },
    {
     "name": "stdout",
     "output_type": "stream",
     "text": [
      "BNB/USDT:USDT LONG\n",
      "{'tps': [[1721479020000, 591.1, 591.38, 591.1, 591.37, 222.95], [1721486580000, 592.32, 592.52, 592.32, 592.51, 58.76], [1721489400000, 593.33, 593.97, 593.29, 593.81, 143.99], [1721493060000, 595.46, 596.27, 595.46, 596.25, 90.14], [1721572800000, 598.38, 599.2, 598.29, 598.29, 824.53]], 'entry_reached': [[1721473920000, 590.37, 590.39, 590.28, 590.28, 285.46]], 'stop_loss_reached': None, 'break_reason': None}\n"
     ]
    },
    {
     "data": {
      "text/html": [
       "<p style='color:#0f0;'>********************************************************************************************************************</p>"
      ],
      "text/plain": [
       "<IPython.core.display.HTML object>"
      ]
     },
     "metadata": {},
     "output_type": "display_data"
    },
    {
     "name": "stdout",
     "output_type": "stream",
     "text": [
      "1INCH/USDT:USDT SHORT\n",
      "{'tps': [[1721515620000, 0.4229, 0.423, 0.4224, 0.4224, 15031.0], [1721584320000, 0.4206, 0.4208, 0.4181, 0.4187, 53821.0], [1721585280000, 0.4147, 0.4147, 0.4108, 0.4108, 59290.0], [1721716260000, 0.4061, 0.4062, 0.4057, 0.4058, 5611.0], [1721785620000, 0.3955, 0.3955, 0.3948, 0.3952, 14359.0]], 'entry_reached': [[1721488380000, 0.4258, 0.4262, 0.4254, 0.4257, 9542.0], [1721541660000, 0.4346, 0.4353, 0.4345, 0.4349, 49992.0]], 'stop_loss_reached': None, 'break_reason': None}\n"
     ]
    },
    {
     "data": {
      "text/html": [
       "<p style='color:#0f0;'>********************************************************************************************************************</p>"
      ],
      "text/plain": [
       "<IPython.core.display.HTML object>"
      ]
     },
     "metadata": {},
     "output_type": "display_data"
    },
    {
     "name": "stdout",
     "output_type": "stream",
     "text": [
      "OP/USDT:USDT SHORT\n",
      "{'tps': [[1721584260000, 1.9333, 1.9334, 1.9219, 1.9243, 25742.6], [1721584320000, 1.9243, 1.9243, 1.9115, 1.9145, 57477.5], [1721585220000, 1.9011, 1.9011, 1.8904, 1.8921, 40949.0], [1721585460000, 1.868, 1.8812, 1.8654, 1.8733, 25958.0], [1721719680000, 1.8308, 1.8309, 1.8262, 1.8278, 9019.5]], 'entry_reached': [[1721581920000, 1.9491, 1.9497, 1.9478, 1.9497, 9832.1]], 'stop_loss_reached': None, 'break_reason': None}\n"
     ]
    },
    {
     "data": {
      "text/html": [
       "<p style='color:#0f0;'>********************************************************************************************************************</p>"
      ],
      "text/plain": [
       "<IPython.core.display.HTML object>"
      ]
     },
     "metadata": {},
     "output_type": "display_data"
    },
    {
     "name": "stdout",
     "output_type": "stream",
     "text": [
      "RVN/USDT:USDT SHORT\n",
      "{'tps': [], 'entry_reached': [], 'stop_loss_reached': None, 'break_reason': 'WAIT MANY DAYS'}\n"
     ]
    },
    {
     "data": {
      "text/html": [
       "<p style='color:#0f0;'>********************************************************************************************************************</p>"
      ],
      "text/plain": [
       "<IPython.core.display.HTML object>"
      ]
     },
     "metadata": {},
     "output_type": "display_data"
    },
    {
     "name": "stdout",
     "output_type": "stream",
     "text": [
      "APE/USDT:USDT SHORT\n",
      "{'tps': [[1721584200000, 0.8388, 0.8389, 0.8363, 0.8368, 14938.0], [1721585220000, 0.8252, 0.8252, 0.8198, 0.8204, 39614.0], [1721711940000, 0.8055, 0.8056, 0.8014, 0.8017, 8063.0], [1721753940000, 0.7846, 0.7846, 0.7803, 0.7807, 6691.0], [1721869740000, 0.7635, 0.7637, 0.7469, 0.7524, 83506.0]], 'entry_reached': [[1721572920000, 0.8476, 0.8481, 0.8467, 0.8479, 5578.0]], 'stop_loss_reached': None, 'break_reason': None}\n"
     ]
    },
    {
     "data": {
      "text/html": [
       "<p style='color:#0f0;'>********************************************************************************************************************</p>"
      ],
      "text/plain": [
       "<IPython.core.display.HTML object>"
      ]
     },
     "metadata": {},
     "output_type": "display_data"
    },
    {
     "name": "stdout",
     "output_type": "stream",
     "text": [
      "GMX/USDT:USDT LONG\n"
     ]
    },
    {
     "data": {
      "text/html": [
       "<p style='color:#c01;'>json, 1721680200000</p>"
      ],
      "text/plain": [
       "<IPython.core.display.HTML object>"
      ]
     },
     "metadata": {},
     "output_type": "display_data"
    },
    {
     "data": {
      "text/html": [
       "<p style='color:#fd03a1;'>stop_timestamp</p>"
      ],
      "text/plain": [
       "<IPython.core.display.HTML object>"
      ]
     },
     "metadata": {},
     "output_type": "display_data"
    },
    {
     "data": {
      "text/html": [
       "<p style='color:#ada;'>saving historic tohlcv data to json</p>"
      ],
      "text/plain": [
       "<IPython.core.display.HTML object>"
      ]
     },
     "metadata": {},
     "output_type": "display_data"
    },
    {
     "name": "stdout",
     "output_type": "stream",
     "text": [
      "{'tps': [], 'entry_reached': [[1721764440000, 31.494, 31.508, 31.445, 31.491, 815.6], [1721837220000, 30.766, 30.777, 30.65, 30.692, 291.98]], 'stop_loss_reached': [1721845320000, 30.339, 30.341, 30.268, 30.309, 1463.72], 'break_reason': None}\n"
     ]
    },
    {
     "data": {
      "text/html": [
       "<p style='color:#0f0;'>********************************************************************************************************************</p>"
      ],
      "text/plain": [
       "<IPython.core.display.HTML object>"
      ]
     },
     "metadata": {},
     "output_type": "display_data"
    },
    {
     "name": "stdout",
     "output_type": "stream",
     "text": [
      "DOGE/USDT:USDT SHORT\n",
      "{'tps': [[1722024600000, 0.13321, 0.13322, 0.13308, 0.13319, 669075.0], [1722106860000, 0.13189, 0.13199, 0.13102, 0.13112, 1740953.0], [1722142740000, 0.12907, 0.1291, 0.12872, 0.12876, 606761.0], [1722351540000, 0.12684, 0.12698, 0.12671, 0.12685, 1602034.0], [1722370140000, 0.12363, 0.12373, 0.12312, 0.12335, 2147365.0]], 'entry_reached': [[1722022320000, 0.1341, 0.13436, 0.13405, 0.13434, 1776449.0], [1722088980000, 0.13769, 0.13832, 0.13769, 0.13817, 2121567.0]], 'stop_loss_reached': None, 'break_reason': None}\n"
     ]
    },
    {
     "data": {
      "text/html": [
       "<p style='color:#0f0;'>********************************************************************************************************************</p>"
      ],
      "text/plain": [
       "<IPython.core.display.HTML object>"
      ]
     },
     "metadata": {},
     "output_type": "display_data"
    },
    {
     "name": "stdout",
     "output_type": "stream",
     "text": [
      "ETH/USDT:USDT SHORT\n",
      "{'tps': [], 'entry_reached': [[1722220320000, 3307.13, 3312.99, 3306.68, 3308.13, 317.2], [1722225840000, 3356.64, 3364.55, 3354.84, 3364.14, 1762.27]], 'stop_loss_reached': [1722247020000, 3388.95, 3395.41, 3388.89, 3393.99, 862.98], 'break_reason': None}\n"
     ]
    },
    {
     "data": {
      "text/html": [
       "<p style='color:#0f0;'>********************************************************************************************************************</p>"
      ],
      "text/plain": [
       "<IPython.core.display.HTML object>"
      ]
     },
     "metadata": {},
     "output_type": "display_data"
    },
    {
     "name": "stdout",
     "output_type": "stream",
     "text": [
      "FTM/USDT:USDT LONG\n",
      "{'tps': [], 'entry_reached': [[1722367500000, 0.4381, 0.4381, 0.4366, 0.4372, 105043.0], [1722459600000, 0.4111, 0.4115, 0.4098, 0.4098, 108154.0]], 'stop_loss_reached': [1722459660000, 0.4098, 0.4104, 0.4088, 0.4104, 87717.0], 'break_reason': None}\n"
     ]
    },
    {
     "data": {
      "text/html": [
       "<p style='color:#0f0;'>********************************************************************************************************************</p>"
      ],
      "text/plain": [
       "<IPython.core.display.HTML object>"
      ]
     },
     "metadata": {},
     "output_type": "display_data"
    },
    {
     "name": "stdout",
     "output_type": "stream",
     "text": [
      "TURBO/USDT:USDT LONG\n",
      "{'tps': [[1722514680000, 0.005192, 0.005214, 0.005191, 0.005204, 14922168.0]], 'entry_reached': [[1722487620000, 0.005203, 0.005206, 0.005023, 0.00509, 40127461.0], [1722527160000, 0.00486, 0.004875, 0.00485, 0.004872, 4614658.0]], 'stop_loss_reached': [1722529440000, 0.004788, 0.00479, 0.004752, 0.004762, 18999530.0], 'break_reason': None}\n"
     ]
    },
    {
     "data": {
      "text/html": [
       "<p style='color:#0f0;'>********************************************************************************************************************</p>"
      ],
      "text/plain": [
       "<IPython.core.display.HTML object>"
      ]
     },
     "metadata": {},
     "output_type": "display_data"
    },
    {
     "name": "stdout",
     "output_type": "stream",
     "text": [
      "FTM/USDT:USDT LONG\n",
      "{'tps': [], 'entry_reached': [[1722367500000, 0.4381, 0.4381, 0.4366, 0.4372, 105043.0], [1722456060000, 0.4185, 0.4187, 0.4164, 0.4168, 103912.0]], 'stop_loss_reached': [1722459600000, 0.4111, 0.4115, 0.4098, 0.4098, 108154.0], 'break_reason': None}\n"
     ]
    },
    {
     "data": {
      "text/html": [
       "<p style='color:#0f0;'>********************************************************************************************************************</p>"
      ],
      "text/plain": [
       "<IPython.core.display.HTML object>"
      ]
     },
     "metadata": {},
     "output_type": "display_data"
    },
    {
     "name": "stdout",
     "output_type": "stream",
     "text": [
      "ICP/USDT:USDT LONG\n",
      "{'tps': [[1722181320000, 9.528, 9.545, 9.527, 9.542, 4627.13]], 'entry_reached': [[1722175440000, 9.526, 9.526, 9.503, 9.504, 1004.08], [1722195900000, 9.413, 9.415, 9.41, 9.41, 1949.96]], 'stop_loss_reached': [1722200640000, 9.385, 9.386, 9.367, 9.37, 5892.64], 'break_reason': None}\n"
     ]
    },
    {
     "data": {
      "text/html": [
       "<p style='color:#0f0;'>********************************************************************************************************************</p>"
      ],
      "text/plain": [
       "<IPython.core.display.HTML object>"
      ]
     },
     "metadata": {},
     "output_type": "display_data"
    },
    {
     "name": "stdout",
     "output_type": "stream",
     "text": [
      "RIF/USDT:USDT SHORT\n",
      "{'tps': [[1722350940000, 0.1175, 0.1176, 0.1169, 0.117, 213204.28]], 'entry_reached': [[1722343440000, 0.1184, 0.1188, 0.1183, 0.1187, 167108.58], [1722432600000, 0.1242, 0.126, 0.1242, 0.1257, 690630.77]], 'stop_loss_reached': [1722432720000, 0.1255, 0.1279, 0.1254, 0.1275, 1032031.23], 'break_reason': None}\n"
     ]
    },
    {
     "data": {
      "text/html": [
       "<p style='color:#0f0;'>********************************************************************************************************************</p>"
      ],
      "text/plain": [
       "<IPython.core.display.HTML object>"
      ]
     },
     "metadata": {},
     "output_type": "display_data"
    },
    {
     "data": {
      "text/html": [
       "<p style='color:#FFFF00;'>waiting 5 min...</p>"
      ],
      "text/plain": [
       "<IPython.core.display.HTML object>"
      ]
     },
     "metadata": {},
     "output_type": "display_data"
    },
    {
     "name": "stdout",
     "output_type": "stream",
     "text": [
      "BTC/USDT:USDT LONG\n",
      "{'tps': [], 'entry_reached': [[1722612120000, 62661.8, 62706.7, 62414.7, 62428.0, 241.93], [1722647520000, 60682.4, 60682.4, 60500.0, 60505.9, 207.96]], 'stop_loss_reached': [1722787080000, 59040.9, 59048.0, 58925.0, 59012.3, 109.62], 'break_reason': None}\n"
     ]
    },
    {
     "data": {
      "text/html": [
       "<p style='color:#0f0;'>********************************************************************************************************************</p>"
      ],
      "text/plain": [
       "<IPython.core.display.HTML object>"
      ]
     },
     "metadata": {},
     "output_type": "display_data"
    },
    {
     "name": "stdout",
     "output_type": "stream",
     "text": [
      "NEAR/USDT:USDT LONG\n",
      "{'tps': [[1722687780000, 4.6141, 4.6225, 4.6141, 4.6221, 5078.0]], 'entry_reached': [[1722680280000, 4.5761, 4.5766, 4.5606, 4.5629, 8818.0], [1722701760000, 4.4121, 4.4129, 4.3901, 4.3921, 10667.0]], 'stop_loss_reached': [1722705360000, 4.3545, 4.3545, 4.3185, 4.3249, 17527.0], 'break_reason': None}\n"
     ]
    },
    {
     "data": {
      "text/html": [
       "<p style='color:#0f0;'>********************************************************************************************************************</p>"
      ],
      "text/plain": [
       "<IPython.core.display.HTML object>"
      ]
     },
     "metadata": {},
     "output_type": "display_data"
    },
    {
     "name": "stdout",
     "output_type": "stream",
     "text": [
      "RIF/USDT:USDT LONG\n",
      "{'tps': [[1722688080000, 0.0923, 0.0927, 0.0923, 0.0926, 49066.62]], 'entry_reached': [[1722677820000, 0.0913, 0.0913, 0.0911, 0.0911, 26587.41], [1722700260000, 0.0889, 0.089, 0.0887, 0.0887, 25818.77]], 'stop_loss_reached': [1722701640000, 0.0877, 0.0877, 0.0871, 0.0872, 234360.65], 'break_reason': None}\n"
     ]
    },
    {
     "data": {
      "text/html": [
       "<p style='color:#0f0;'>********************************************************************************************************************</p>"
      ],
      "text/plain": [
       "<IPython.core.display.HTML object>"
      ]
     },
     "metadata": {},
     "output_type": "display_data"
    },
    {
     "name": "stdout",
     "output_type": "stream",
     "text": [
      "BNX/USDT:USDT SHORT\n"
     ]
    },
    {
     "data": {
      "text/html": [
       "<p style='color:#c01;'>json, 1722803400000</p>"
      ],
      "text/plain": [
       "<IPython.core.display.HTML object>"
      ]
     },
     "metadata": {},
     "output_type": "display_data"
    },
    {
     "name": "stdout",
     "output_type": "stream",
     "text": [
      "ADA/USDT:USDT SHORT\n",
      "{'tps': [[1723210500000, 0.33943, 0.33944, 0.33768, 0.33821, 267124.0], [1723406880000, 0.33191, 0.33191, 0.33063, 0.33071, 202975.0], [1723744920000, 0.32663, 0.32689, 0.3236, 0.32438, 677008.0]], 'entry_reached': [[1723133460000, 0.34337, 0.34445, 0.34256, 0.34427, 101037.0], [1723368000000, 0.3545, 0.35588, 0.35447, 0.3557, 213827.0]], 'stop_loss_reached': [1724259420000, 0.3598, 0.36092, 0.35967, 0.36092, 91832.0], 'break_reason': None}\n"
     ]
    },
    {
     "data": {
      "text/html": [
       "<p style='color:#0f0;'>********************************************************************************************************************</p>"
      ],
      "text/plain": [
       "<IPython.core.display.HTML object>"
      ]
     },
     "metadata": {},
     "output_type": "display_data"
    },
    {
     "name": "stdout",
     "output_type": "stream",
     "text": [
      "EOS/USDT:USDT SHORT\n",
      "{'tps': [[1723028820000, 0.456, 0.456, 0.4548, 0.4548, 7109.0], [1723041180000, 0.4464, 0.4466, 0.4436, 0.4438, 44965.0]], 'entry_reached': [[1722953640000, 0.4609, 0.462, 0.4607, 0.4608, 34781.0], [1723157340000, 0.4835, 0.4843, 0.4834, 0.4838, 9308.0]], 'stop_loss_reached': [1723160460000, 0.491, 0.4917, 0.4904, 0.4904, 33651.0], 'break_reason': None}\n"
     ]
    },
    {
     "data": {
      "text/html": [
       "<p style='color:#0f0;'>********************************************************************************************************************</p>"
      ],
      "text/plain": [
       "<IPython.core.display.HTML object>"
      ]
     },
     "metadata": {},
     "output_type": "display_data"
    },
    {
     "name": "stdout",
     "output_type": "stream",
     "text": [
      "BTC/USDT:USDT SHORT\n",
      "{'tps': [[1723124820000, 57254.7, 57272.3, 57106.1, 57180.6, 267.97]], 'entry_reached': [[1723120260000, 57571.4, 57981.0, 57501.4, 57790.2, 486.35], [1723129560000, 59045.6, 59223.6, 59028.5, 59104.1, 255.39]], 'stop_loss_reached': [1723153320000, 59798.5, 60745.0, 59797.0, 60419.8, 458.64], 'break_reason': None}\n"
     ]
    },
    {
     "data": {
      "text/html": [
       "<p style='color:#0f0;'>********************************************************************************************************************</p>"
      ],
      "text/plain": [
       "<IPython.core.display.HTML object>"
      ]
     },
     "metadata": {},
     "output_type": "display_data"
    },
    {
     "name": "stdout",
     "output_type": "stream",
     "text": [
      "BTC/USDT:USDT SHORT\n",
      "{'tps': [[1723369080000, 61278.2, 61306.3, 61080.4, 61085.2, 77.06], [1723376580000, 60602.5, 60602.5, 60411.0, 60486.6, 71.64], [1723404780000, 59620.6, 59632.0, 59530.8, 59541.5, 111.64], [1723408620000, 58521.4, 58543.5, 58384.8, 58440.4, 98.87], [1723750140000, 57003.1, 57008.4, 56828.7, 56950.4, 275.34]], 'entry_reached': [[1723368000000, 61356.5, 61881.6, 61342.7, 61707.8, 186.54]], 'stop_loss_reached': None, 'break_reason': None}\n"
     ]
    },
    {
     "data": {
      "text/html": [
       "<p style='color:#0f0;'>********************************************************************************************************************</p>"
      ],
      "text/plain": [
       "<IPython.core.display.HTML object>"
      ]
     },
     "metadata": {},
     "output_type": "display_data"
    },
    {
     "name": "stdout",
     "output_type": "stream",
     "text": [
      "STORJ/USDT:USDT LONG\n",
      "{'tps': [], 'entry_reached': [[1723369020000, 0.3817, 0.3817, 0.381, 0.381, 10171.0], [1723376520000, 0.3699, 0.3699, 0.3692, 0.3695, 11410.0]], 'stop_loss_reached': [1723381380000, 0.3657, 0.3658, 0.3632, 0.3635, 268566.0], 'break_reason': None}\n"
     ]
    },
    {
     "data": {
      "text/html": [
       "<p style='color:#0f0;'>********************************************************************************************************************</p>"
      ],
      "text/plain": [
       "<IPython.core.display.HTML object>"
      ]
     },
     "metadata": {},
     "output_type": "display_data"
    },
    {
     "name": "stdout",
     "output_type": "stream",
     "text": [
      "SOL/USDT:USDT LONG\n",
      "{'tps': [], 'entry_reached': [], 'stop_loss_reached': None, 'break_reason': 'WAIT MANY DAYS'}\n"
     ]
    },
    {
     "data": {
      "text/html": [
       "<p style='color:#0f0;'>********************************************************************************************************************</p>"
      ],
      "text/plain": [
       "<IPython.core.display.HTML object>"
      ]
     },
     "metadata": {},
     "output_type": "display_data"
    },
    {
     "name": "stdout",
     "output_type": "stream",
     "text": [
      "APE/USDT:USDT SHORT\n",
      "{'tps': [[1723473840000, 0.6162, 0.6169, 0.6143, 0.6153, 10853.0], [1723476180000, 0.6144, 0.6144, 0.6089, 0.6098, 8332.0], [1723476300000, 0.6101, 0.6106, 0.6064, 0.6087, 40116.0], [1723489020000, 0.6025, 0.6028, 0.6015, 0.6025, 4482.0], [1723544460000, 0.5961, 0.5962, 0.595, 0.5956, 11528.0]], 'entry_reached': [[1723473600000, 0.6164, 0.6195, 0.6164, 0.6191, 19013.0]], 'stop_loss_reached': None, 'break_reason': None}\n"
     ]
    },
    {
     "data": {
      "text/html": [
       "<p style='color:#0f0;'>********************************************************************************************************************</p>"
      ],
      "text/plain": [
       "<IPython.core.display.HTML object>"
      ]
     },
     "metadata": {},
     "output_type": "display_data"
    },
    {
     "name": "stdout",
     "output_type": "stream",
     "text": [
      "ETH/USDT:USDT SHORT\n",
      "{'tps': [[1723495860000, 2684.52, 2684.59, 2674.89, 2678.3, 824.65], [1723496760000, 2667.69, 2671.05, 2665.87, 2670.8, 441.39]], 'entry_reached': [[1723495320000, 2692.56, 2702.0, 2690.25, 2700.38, 814.41], [1723504680000, 2717.0, 2727.78, 2715.11, 2724.2, 701.51]], 'stop_loss_reached': [1723504740000, 2724.51, 2748.72, 2724.51, 2745.86, 3033.51], 'break_reason': None}\n"
     ]
    },
    {
     "data": {
      "text/html": [
       "<p style='color:#0f0;'>********************************************************************************************************************</p>"
      ],
      "text/plain": [
       "<IPython.core.display.HTML object>"
      ]
     },
     "metadata": {},
     "output_type": "display_data"
    },
    {
     "name": "stdout",
     "output_type": "stream",
     "text": [
      "DAR/USDT:USDT SHORT\n",
      "{'tps': [], 'entry_reached': [[1723977360000, 0.138, 0.14, 0.138, 0.1394, 554348.0], [1723977900000, 0.1401, 0.1463, 0.1398, 0.1463, 251580.0]], 'stop_loss_reached': [1723977960000, 0.1463, 0.1497, 0.146, 0.149, 463774.0], 'break_reason': None}\n"
     ]
    },
    {
     "data": {
      "text/html": [
       "<p style='color:#0f0;'>********************************************************************************************************************</p>"
      ],
      "text/plain": [
       "<IPython.core.display.HTML object>"
      ]
     },
     "metadata": {},
     "output_type": "display_data"
    },
    {
     "name": "stdout",
     "output_type": "stream",
     "text": [
      "LINK/USDT:USDT SHORT\n",
      "{'tps': [[1723744260000, 10.413, 10.414, 10.392, 10.392, 3723.1], [1723744800000, 10.317, 10.317, 10.227, 10.241, 6526.8], [1723745520000, 10.089, 10.09, 10.045, 10.074, 4701.4]], 'entry_reached': [[1723725360000, 10.507, 10.537, 10.507, 10.536, 4989.6], [1724266320000, 10.859, 10.87, 10.854, 10.869, 1506.1]], 'stop_loss_reached': [1724269740000, 11.027, 11.05, 11.027, 11.037, 11999.4], 'break_reason': None}\n"
     ]
    },
    {
     "data": {
      "text/html": [
       "<p style='color:#0f0;'>********************************************************************************************************************</p>"
      ],
      "text/plain": [
       "<IPython.core.display.HTML object>"
      ]
     },
     "metadata": {},
     "output_type": "display_data"
    },
    {
     "name": "stdout",
     "output_type": "stream",
     "text": [
      "OM/USDT:USDT SHORT\n",
      "{'tps': [[1724499600000, 1.0371, 1.03711, 1.03513, 1.03547, 5973.41], [1724535360000, 1.02118, 1.02122, 1.01264, 1.01281, 6037.87], [1724547240000, 0.99899, 0.99902, 0.9977, 0.99806, 4635.9], [1724550360000, 0.9782, 0.97876, 0.97439, 0.97586, 2826.92], [1724637900000, 0.94914, 0.94918, 0.94508, 0.94601, 3053.61]], 'entry_reached': [[1724495460000, 1.04681, 1.04925, 1.04658, 1.04925, 2659.86]], 'stop_loss_reached': None, 'break_reason': None}\n"
     ]
    },
    {
     "data": {
      "text/html": [
       "<p style='color:#0f0;'>********************************************************************************************************************</p>"
      ],
      "text/plain": [
       "<IPython.core.display.HTML object>"
      ]
     },
     "metadata": {},
     "output_type": "display_data"
    },
    {
     "name": "stdout",
     "output_type": "stream",
     "text": [
      "CRV/USDT:USDT SHORT\n",
      "{'tps': [[1723744320000, 0.3139, 0.3142, 0.313, 0.3132, 75934.7], [1723744800000, 0.3109, 0.311, 0.3081, 0.309, 325921.2], [1723749660000, 0.3053, 0.3053, 0.3028, 0.3048, 120434.6], [1723818180000, 0.2978, 0.2988, 0.2969, 0.2975, 347127.7]], 'entry_reached': [[1723738080000, 0.3155, 0.3186, 0.3154, 0.3184, 415249.8], [1723740840000, 0.323, 0.3244, 0.3228, 0.3239, 182644.9]], 'stop_loss_reached': [1723839300000, 0.3287, 0.333, 0.3287, 0.3323, 407034.6], 'break_reason': None}\n"
     ]
    },
    {
     "data": {
      "text/html": [
       "<p style='color:#0f0;'>********************************************************************************************************************</p>"
      ],
      "text/plain": [
       "<IPython.core.display.HTML object>"
      ]
     },
     "metadata": {},
     "output_type": "display_data"
    },
    {
     "name": "stdout",
     "output_type": "stream",
     "text": [
      "1INCH/USDT:USDT LONG\n",
      "{'tps': [[1724800920000, 0.2384, 0.2387, 0.2382, 0.2385, 4117.0], [1724838780000, 0.2421, 0.2437, 0.242, 0.2434, 20630.0], [1724839200000, 0.2486, 0.2494, 0.2482, 0.2487, 208369.0], [1724846400000, 0.2546, 0.2562, 0.2546, 0.2552, 58750.0]], 'entry_reached': [[1724796840000, 0.2376, 0.2381, 0.2331, 0.2346, 202780.0], [1725231480000, 0.2243, 0.2244, 0.2228, 0.2228, 3580.0]], 'stop_loss_reached': [1725411540000, 0.2203, 0.2203, 0.2185, 0.219, 175655.0], 'break_reason': None}\n"
     ]
    },
    {
     "data": {
      "text/html": [
       "<p style='color:#0f0;'>********************************************************************************************************************</p>"
      ],
      "text/plain": [
       "<IPython.core.display.HTML object>"
      ]
     },
     "metadata": {},
     "output_type": "display_data"
    },
    {
     "name": "stdout",
     "output_type": "stream",
     "text": [
      "UNI/USDT:USDT SHORT\n",
      "{'tps': [[1723967580000, 6.31, 6.31, 6.3, 6.3, 2796.0], [1724012460000, 6.183, 6.186, 6.176, 6.182, 1752.0], [1724085840000, 6.037, 6.038, 6.029, 6.029, 2592.0]], 'entry_reached': [[1723915800000, 6.407, 6.412, 6.406, 6.407, 3856.0], [1724258880000, 6.642, 6.684, 6.641, 6.665, 187061.0]], 'stop_loss_reached': [1724261400000, 6.785, 6.82, 6.781, 6.813, 40851.0], 'break_reason': None}\n"
     ]
    },
    {
     "data": {
      "text/html": [
       "<p style='color:#0f0;'>********************************************************************************************************************</p>"
      ],
      "text/plain": [
       "<IPython.core.display.HTML object>"
      ]
     },
     "metadata": {},
     "output_type": "display_data"
    },
    {
     "name": "stdout",
     "output_type": "stream",
     "text": [
      "ETH/USDT:USDT SHORT\n",
      "{'tps': [[1724107920000, 2618.19, 2618.19, 2616.24, 2617.42, 374.37]], 'entry_reached': [[1724107320000, 2623.51, 2625.4, 2623.48, 2624.97, 71.2], [1724113560000, 2640.24, 2646.14, 2640.0, 2645.55, 1076.56]], 'stop_loss_reached': [1724113740000, 2651.18, 2655.25, 2648.82, 2652.69, 1556.21], 'break_reason': None}\n"
     ]
    },
    {
     "data": {
      "text/html": [
       "<p style='color:#0f0;'>********************************************************************************************************************</p>"
      ],
      "text/plain": [
       "<IPython.core.display.HTML object>"
      ]
     },
     "metadata": {},
     "output_type": "display_data"
    },
    {
     "name": "stdout",
     "output_type": "stream",
     "text": [
      "EGLD/USDT:USDT SHORT\n",
      "{'tps': [[1724240100000, 27.352, 27.371, 27.345, 27.349, 297.9], [1724247660000, 27.247, 27.261, 27.147, 27.147, 177.2]], 'entry_reached': [[1724225400000, 27.538, 27.562, 27.538, 27.56, 921.7], [1724264940000, 27.943, 27.966, 27.942, 27.966, 183.2]], 'stop_loss_reached': [1724269680000, 28.133, 28.185, 28.127, 28.181, 205.3], 'break_reason': None}\n"
     ]
    },
    {
     "data": {
      "text/html": [
       "<p style='color:#0f0;'>********************************************************************************************************************</p>"
      ],
      "text/plain": [
       "<IPython.core.display.HTML object>"
      ]
     },
     "metadata": {},
     "output_type": "display_data"
    },
    {
     "name": "stdout",
     "output_type": "stream",
     "text": [
      "ADA/USDT:USDT SHORT\n",
      "{'tps': [[1724186340000, 0.34497, 0.34498, 0.34476, 0.34488, 86397.0]], 'entry_reached': [[1724183400000, 0.3475, 0.34767, 0.34738, 0.34742, 98106.0], [1724214840000, 0.35184, 0.35258, 0.35181, 0.35231, 117181.0]], 'stop_loss_reached': [1724216100000, 0.35514, 0.35728, 0.35496, 0.35711, 182600.0], 'break_reason': None}\n"
     ]
    },
    {
     "data": {
      "text/html": [
       "<p style='color:#0f0;'>********************************************************************************************************************</p>"
      ],
      "text/plain": [
       "<IPython.core.display.HTML object>"
      ]
     },
     "metadata": {},
     "output_type": "display_data"
    },
    {
     "name": "stdout",
     "output_type": "stream",
     "text": [
      "BTC/USDT:USDT SHORT\n",
      "{'tps': [], 'entry_reached': [[1724264460000, 60152.0, 60289.7, 60151.0, 60174.9, 128.87], [1724267160000, 60837.1, 60948.0, 60833.0, 60933.1, 127.55]], 'stop_loss_reached': [1724270100000, 61375.9, 61521.0, 61375.9, 61435.6, 107.64], 'break_reason': None}\n"
     ]
    },
    {
     "data": {
      "text/html": [
       "<p style='color:#0f0;'>********************************************************************************************************************</p>"
      ],
      "text/plain": [
       "<IPython.core.display.HTML object>"
      ]
     },
     "metadata": {},
     "output_type": "display_data"
    },
    {
     "name": "stdout",
     "output_type": "stream",
     "text": [
      "ETH/USDT:USDT SHORT\n",
      "{'tps': [[1724329980000, 2630.21, 2631.06, 2625.01, 2627.72, 464.66], [1724330760000, 2622.02, 2622.8, 2620.93, 2622.21, 285.03], [1724334300000, 2618.68, 2620.42, 2614.64, 2615.84, 504.56], [1724335560000, 2612.4, 2614.34, 2607.1, 2609.32, 603.96], [1724340000000, 2600.09, 2600.88, 2595.22, 2596.83, 224.08]], 'entry_reached': [[1724322840000, 2632.07, 2634.74, 2632.07, 2634.39, 344.35]], 'stop_loss_reached': None, 'break_reason': None}\n"
     ]
    },
    {
     "data": {
      "text/html": [
       "<p style='color:#0f0;'>********************************************************************************************************************</p>"
      ],
      "text/plain": [
       "<IPython.core.display.HTML object>"
      ]
     },
     "metadata": {},
     "output_type": "display_data"
    },
    {
     "name": "stdout",
     "output_type": "stream",
     "text": [
      "ETH/USDT:USDT SHORT\n",
      "{'tps': [[1724421960000, 2673.17, 2673.2, 2664.16, 2671.59, 2655.09], [1724424360000, 2667.3, 2667.31, 2655.46, 2661.25, 752.63], [1724424420000, 2661.21, 2661.22, 2650.0, 2652.57, 1588.24], [1724424480000, 2652.32, 2652.83, 2634.0, 2637.94, 4264.57], [1724424540000, 2637.85, 2642.45, 2633.02, 2634.93, 6348.79]], 'entry_reached': [[1724421720000, 2670.62, 2684.21, 2670.58, 2680.01, 2628.63], [1724422500000, 2690.04, 2697.8, 2689.92, 2695.78, 3953.39]], 'stop_loss_reached': None, 'break_reason': None}\n"
     ]
    },
    {
     "data": {
      "text/html": [
       "<p style='color:#0f0;'>********************************************************************************************************************</p>"
      ],
      "text/plain": [
       "<IPython.core.display.HTML object>"
      ]
     },
     "metadata": {},
     "output_type": "display_data"
    },
    {
     "name": "stdout",
     "output_type": "stream",
     "text": [
      "SOL/USDT:USDT LONG\n",
      "{'tps': [], 'entry_reached': [[1724796720000, 147.954, 147.955, 146.767, 147.058, 8089.0], [1724831460000, 145.074, 145.077, 143.75, 143.871, 8493.0]], 'stop_loss_reached': [1724861340000, 142.491, 142.723, 142.365, 142.377, 6096.0], 'break_reason': None}\n"
     ]
    },
    {
     "data": {
      "text/html": [
       "<p style='color:#0f0;'>********************************************************************************************************************</p>"
      ],
      "text/plain": [
       "<IPython.core.display.HTML object>"
      ]
     },
     "metadata": {},
     "output_type": "display_data"
    },
    {
     "name": "stdout",
     "output_type": "stream",
     "text": [
      "NOT/USDT:USDT LONG\n",
      "{'tps': [[1724534100000, 0.010997, 0.011069, 0.010961, 0.010966, 14830295.0]], 'entry_reached': [[1724533500000, 0.011065, 0.011065, 0.010812, 0.010815, 57359852.0], [1724534640000, 0.010813, 0.010815, 0.010642, 0.010672, 29607596.0]], 'stop_loss_reached': [1724536500000, 0.010581, 0.010609, 0.010504, 0.010544, 29081461.0], 'break_reason': None}\n"
     ]
    },
    {
     "data": {
      "text/html": [
       "<p style='color:#0f0;'>********************************************************************************************************************</p>"
      ],
      "text/plain": [
       "<IPython.core.display.HTML object>"
      ]
     },
     "metadata": {},
     "output_type": "display_data"
    },
    {
     "name": "stdout",
     "output_type": "stream",
     "text": [
      "TRX/USDT:USDT SHORT\n",
      "{'tps': [[1724534760000, 0.15837, 0.15837, 0.15814, 0.15815, 297357.0], [1724549460000, 0.15686, 0.15689, 0.15648, 0.15681, 1054970.0]], 'entry_reached': [[1724515020000, 0.15952, 0.15992, 0.15952, 0.15963, 1070533.0], [1724595780000, 0.16382, 0.16412, 0.1638, 0.1641, 505919.0]], 'stop_loss_reached': [1724596200000, 0.16498, 0.16869, 0.16496, 0.16593, 1631906.0], 'break_reason': None}\n"
     ]
    },
    {
     "data": {
      "text/html": [
       "<p style='color:#0f0;'>********************************************************************************************************************</p>"
      ],
      "text/plain": [
       "<IPython.core.display.HTML object>"
      ]
     },
     "metadata": {},
     "output_type": "display_data"
    },
    {
     "name": "stdout",
     "output_type": "stream",
     "text": [
      "ETH/USDT:USDT SHORT\n",
      "{'tps': [[1724533500000, 2784.23, 2784.25, 2781.01, 2781.34, 287.11], [1724534760000, 2774.91, 2776.35, 2765.01, 2765.5, 793.65], [1724535420000, 2758.06, 2758.06, 2753.12, 2756.12, 2014.22], [1724536500000, 2755.47, 2755.65, 2729.94, 2743.41, 1675.94], [1724664720000, 2723.7, 2723.7, 2710.21, 2718.48, 748.32]], 'entry_reached': [[1724530920000, 2796.83, 2801.67, 2796.67, 2801.1, 1051.12]], 'stop_loss_reached': None, 'break_reason': None}\n"
     ]
    },
    {
     "data": {
      "text/html": [
       "<p style='color:#0f0;'>********************************************************************************************************************</p>"
      ],
      "text/plain": [
       "<IPython.core.display.HTML object>"
      ]
     },
     "metadata": {},
     "output_type": "display_data"
    },
    {
     "name": "stdout",
     "output_type": "stream",
     "text": [
      "ETH/USDT:USDT LONG\n",
      "{'tps': [[1724592480000, 2759.68, 2761.4, 2759.68, 2761.4, 75.67], [1724620140000, 2772.59, 2778.95, 2772.59, 2778.03, 470.21], [1724620800000, 2782.45, 2787.8, 2782.44, 2784.72, 394.53]], 'entry_reached': [[1724588580000, 2747.92, 2748.37, 2746.27, 2746.63, 178.29], [1724638800000, 2741.03, 2741.03, 2717.85, 2724.13, 1265.76]], 'stop_loss_reached': [1724681700000, 2713.85, 2713.85, 2703.23, 2705.91, 1029.51], 'break_reason': None}\n"
     ]
    },
    {
     "data": {
      "text/html": [
       "<p style='color:#0f0;'>********************************************************************************************************************</p>"
      ],
      "text/plain": [
       "<IPython.core.display.HTML object>"
      ]
     },
     "metadata": {},
     "output_type": "display_data"
    },
    {
     "name": "stdout",
     "output_type": "stream",
     "text": [
      "GTC/USDT:USDT LONG\n",
      "{'tps': [], 'entry_reached': [[1724682540000, 0.69, 0.69, 0.682, 0.685, 49527.0], [1724702580000, 0.652, 0.652, 0.648, 0.65, 12558.0]], 'stop_loss_reached': [1724770980000, 0.637, 0.637, 0.633, 0.633, 5997.0], 'break_reason': None}\n"
     ]
    },
    {
     "data": {
      "text/html": [
       "<p style='color:#0f0;'>********************************************************************************************************************</p>"
      ],
      "text/plain": [
       "<IPython.core.display.HTML object>"
      ]
     },
     "metadata": {},
     "output_type": "display_data"
    },
    {
     "name": "stdout",
     "output_type": "stream",
     "text": [
      "ETH/USDT:USDT LONG\n",
      "{'tps': [[1724666280000, 2736.61, 2739.04, 2736.2, 2736.46, 515.68]], 'entry_reached': [[1724663760000, 2731.02, 2731.02, 2721.87, 2726.49, 389.53], [1724664720000, 2723.7, 2723.7, 2710.21, 2718.48, 748.32]], 'stop_loss_reached': [1724681700000, 2713.85, 2713.85, 2703.23, 2705.91, 1029.51], 'break_reason': None}\n"
     ]
    },
    {
     "data": {
      "text/html": [
       "<p style='color:#0f0;'>********************************************************************************************************************</p>"
      ],
      "text/plain": [
       "<IPython.core.display.HTML object>"
      ]
     },
     "metadata": {},
     "output_type": "display_data"
    },
    {
     "data": {
      "text/html": [
       "<p style='color:#FFFF00;'>waiting 5 min...</p>"
      ],
      "text/plain": [
       "<IPython.core.display.HTML object>"
      ]
     },
     "metadata": {},
     "output_type": "display_data"
    },
    {
     "name": "stdout",
     "output_type": "stream",
     "text": [
      "ETH/USDT:USDT LONG\n",
      "{'tps': [[1725215220000, 2482.73, 2494.89, 2482.33, 2491.31, 1518.64], [1725217560000, 2501.77, 2509.7, 2500.48, 2509.7, 706.07]], 'entry_reached': [[1725185340000, 2476.86, 2478.32, 2474.58, 2478.24, 570.61], [1725200040000, 2445.03, 2445.42, 2436.0, 2445.42, 1423.53]], 'stop_loss_reached': [1725229800000, 2433.68, 2434.19, 2421.64, 2425.52, 873.83], 'break_reason': None}\n"
     ]
    },
    {
     "data": {
      "text/html": [
       "<p style='color:#0f0;'>********************************************************************************************************************</p>"
      ],
      "text/plain": [
       "<IPython.core.display.HTML object>"
      ]
     },
     "metadata": {},
     "output_type": "display_data"
    },
    {
     "name": "stdout",
     "output_type": "stream",
     "text": [
      "ETH/USDT:USDT LONG\n",
      "{'tps': [[1725205620000, 2473.84, 2487.85, 2473.72, 2483.79, 1140.3], [1725217380000, 2497.12, 2501.65, 2496.29, 2501.65, 567.92], [1725217620000, 2508.08, 2512.77, 2507.12, 2509.85, 1704.16]], 'entry_reached': [[1725188160000, 2470.27, 2470.28, 2467.26, 2467.46, 110.95], [1725200040000, 2445.03, 2445.42, 2436.0, 2445.42, 1423.53]], 'stop_loss_reached': [1725229800000, 2433.68, 2434.19, 2421.64, 2425.52, 873.83], 'break_reason': None}\n"
     ]
    },
    {
     "data": {
      "text/html": [
       "<p style='color:#0f0;'>********************************************************************************************************************</p>"
      ],
      "text/plain": [
       "<IPython.core.display.HTML object>"
      ]
     },
     "metadata": {},
     "output_type": "display_data"
    },
    {
     "name": "stdout",
     "output_type": "stream",
     "text": [
      "NOT/USDT:USDT LONG\n",
      "{'tps': [[1725287160000, 0.008226, 0.008259, 0.008218, 0.008259, 5059155.0], [1725287400000, 0.008281, 0.008322, 0.008277, 0.008321, 4400003.0], [1725287460000, 0.008321, 0.008373, 0.008315, 0.008322, 11125017.0], [1725293580000, 0.008382, 0.008398, 0.008382, 0.008398, 3646552.0], [1725310440000, 0.008453, 0.008512, 0.008453, 0.008512, 11942932.0]], 'entry_reached': [[1725286320000, 0.008207, 0.008214, 0.008183, 0.008187, 12112488.0]], 'stop_loss_reached': None, 'break_reason': None}\n"
     ]
    },
    {
     "data": {
      "text/html": [
       "<p style='color:#0f0;'>********************************************************************************************************************</p>"
      ],
      "text/plain": [
       "<IPython.core.display.HTML object>"
      ]
     },
     "metadata": {},
     "output_type": "display_data"
    },
    {
     "name": "stdout",
     "output_type": "stream",
     "text": [
      "ETH/USDT:USDT SHORT\n",
      "{'tps': [], 'entry_reached': [], 'stop_loss_reached': None, 'break_reason': 'WAIT MANY DAYS'}\n"
     ]
    },
    {
     "data": {
      "text/html": [
       "<p style='color:#0f0;'>********************************************************************************************************************</p>"
      ],
      "text/plain": [
       "<IPython.core.display.HTML object>"
      ]
     },
     "metadata": {},
     "output_type": "display_data"
    },
    {
     "name": "stdout",
     "output_type": "stream",
     "text": [
      "WIF/USDT:USDT LONG\n",
      "{'tps': [[1725440580000, 1.5148, 1.5169, 1.5148, 1.5167, 6348.32]], 'entry_reached': [[1725440400000, 1.5138, 1.5138, 1.5074, 1.5109, 28564.66], [1725445080000, 1.4927, 1.4935, 1.4881, 1.4897, 50401.28]], 'stop_loss_reached': [1725446580000, 1.4904, 1.4905, 1.4766, 1.4779, 132286.01], 'break_reason': None}\n"
     ]
    },
    {
     "data": {
      "text/html": [
       "<p style='color:#0f0;'>********************************************************************************************************************</p>"
      ],
      "text/plain": [
       "<IPython.core.display.HTML object>"
      ]
     },
     "metadata": {},
     "output_type": "display_data"
    },
    {
     "name": "stdout",
     "output_type": "stream",
     "text": [
      "ETH/USDT:USDT LONG\n",
      "{'tps': [], 'entry_reached': [], 'stop_loss_reached': None, 'break_reason': 'WAIT MANY DAYS'}\n"
     ]
    },
    {
     "data": {
      "text/html": [
       "<p style='color:#0f0;'>********************************************************************************************************************</p>"
      ],
      "text/plain": [
       "<IPython.core.display.HTML object>"
      ]
     },
     "metadata": {},
     "output_type": "display_data"
    },
    {
     "name": "stdout",
     "output_type": "stream",
     "text": [
      "GRT/USDT:USDT LONG\n",
      "{'tps': [[1725815640000, 0.1325, 0.13279, 0.1325, 0.13271, 160550.0], [1725817260000, 0.13354, 0.13365, 0.13342, 0.13342, 9709.0], [1725830160000, 0.13421, 0.13433, 0.13404, 0.13423, 5907.0], [1725833820000, 0.13504, 0.13542, 0.13491, 0.13535, 29342.0], [1725834060000, 0.1357, 0.13656, 0.1357, 0.13652, 11857.0]], 'entry_reached': [[1725810900000, 0.13226, 0.13227, 0.13202, 0.13225, 469240.0]], 'stop_loss_reached': None, 'break_reason': None}\n"
     ]
    },
    {
     "data": {
      "text/html": [
       "<p style='color:#0f0;'>********************************************************************************************************************</p>"
      ],
      "text/plain": [
       "<IPython.core.display.HTML object>"
      ]
     },
     "metadata": {},
     "output_type": "display_data"
    },
    {
     "name": "stdout",
     "output_type": "stream",
     "text": [
      "AAVE/USDT:USDT LONG\n",
      "{'tps': [], 'entry_reached': [], 'stop_loss_reached': None, 'break_reason': 'WAIT MANY DAYS'}\n"
     ]
    },
    {
     "data": {
      "text/html": [
       "<p style='color:#0f0;'>********************************************************************************************************************</p>"
      ],
      "text/plain": [
       "<IPython.core.display.HTML object>"
      ]
     },
     "metadata": {},
     "output_type": "display_data"
    },
    {
     "name": "stdout",
     "output_type": "stream",
     "text": [
      "LINK/USDT:USDT SHORT\n",
      "{'tps': [[1725915240000, 10.534, 10.538, 10.529, 10.531, 845.9], [1725931980000, 10.403, 10.405, 10.4, 10.404, 834.2], [1726062660000, 10.298, 10.298, 10.263, 10.273, 17899.0]], 'entry_reached': [[1725911940000, 10.6, 10.613, 10.598, 10.611, 3142.7], [1726192800000, 10.83, 10.853, 10.829, 10.853, 14693.2]], 'stop_loss_reached': [1726224420000, 10.863, 10.972, 10.863, 10.96, 10671.1], 'break_reason': None}\n"
     ]
    },
    {
     "data": {
      "text/html": [
       "<p style='color:#0f0;'>********************************************************************************************************************</p>"
      ],
      "text/plain": [
       "<IPython.core.display.HTML object>"
      ]
     },
     "metadata": {},
     "output_type": "display_data"
    },
    {
     "name": "stdout",
     "output_type": "stream",
     "text": [
      "OP/USDT:USDT SHORT\n",
      "{'tps': [[1725991080000, 1.5923, 1.5924, 1.591, 1.5922, 4547.9], [1726023840000, 1.5703, 1.5703, 1.5673, 1.5678, 3930.6], [1726031520000, 1.549, 1.549, 1.5471, 1.5481, 6137.2], [1726149360000, 1.5222, 1.5225, 1.5209, 1.5214, 18401.2], [1726441320000, 1.4873, 1.4873, 1.4859, 1.486, 14968.9]], 'entry_reached': [[1725986880000, 1.6014, 1.6055, 1.5996, 1.6048, 23713.9]], 'stop_loss_reached': None, 'break_reason': None}\n"
     ]
    },
    {
     "data": {
      "text/html": [
       "<p style='color:#0f0;'>********************************************************************************************************************</p>"
      ],
      "text/plain": [
       "<IPython.core.display.HTML object>"
      ]
     },
     "metadata": {},
     "output_type": "display_data"
    },
    {
     "name": "stdout",
     "output_type": "stream",
     "text": [
      "BTC/USDT:USDT SHORT\n",
      "{'tps': [], 'entry_reached': [[1726070520000, 56719.8, 56796.8, 56713.4, 56793.4, 126.7], [1726073640000, 57029.6, 57389.3, 57029.6, 57340.7, 229.69]], 'stop_loss_reached': [1726073700000, 57340.7, 57505.5, 57336.2, 57500.0, 327.17], 'break_reason': None}\n"
     ]
    },
    {
     "data": {
      "text/html": [
       "<p style='color:#0f0;'>********************************************************************************************************************</p>"
      ],
      "text/plain": [
       "<IPython.core.display.HTML object>"
      ]
     },
     "metadata": {},
     "output_type": "display_data"
    },
    {
     "name": "stdout",
     "output_type": "stream",
     "text": [
      "ATOM/USDT:USDT LONG\n",
      "{'tps': [[1726150620000, 4.11, 4.117, 4.109, 4.109, 6833.28], [1726188360000, 4.152, 4.153, 4.151, 4.152, 508.76], [1726204620000, 4.184, 4.195, 4.182, 4.185, 35915.58], [1726215180000, 4.229, 4.235, 4.227, 4.227, 5357.01]], 'entry_reached': [[1726139700000, 4.08, 4.081, 4.078, 4.079, 1723.52], [1726441860000, 4.035, 4.04, 4.019, 4.032, 56169.83]], 'stop_loss_reached': [1726451400000, 3.99, 3.991, 3.973, 3.975, 15016.62], 'break_reason': None}\n"
     ]
    },
    {
     "data": {
      "text/html": [
       "<p style='color:#0f0;'>********************************************************************************************************************</p>"
      ],
      "text/plain": [
       "<IPython.core.display.HTML object>"
      ]
     },
     "metadata": {},
     "output_type": "display_data"
    },
    {
     "name": "stdout",
     "output_type": "stream",
     "text": [
      "ETH/USDT:USDT SHORT\n",
      "{'tps': [[1726724100000, 2409.02, 2409.9, 2408.63, 2409.66, 269.61]], 'entry_reached': [[1726721760000, 2411.33, 2415.3, 2411.32, 2414.98, 662.8], [1726731600000, 2429.56, 2434.27, 2428.08, 2432.31, 634.86]], 'stop_loss_reached': [1726731960000, 2436.09, 2441.29, 2434.88, 2439.2, 324.24], 'break_reason': None}\n"
     ]
    },
    {
     "data": {
      "text/html": [
       "<p style='color:#0f0;'>********************************************************************************************************************</p>"
      ],
      "text/plain": [
       "<IPython.core.display.HTML object>"
      ]
     },
     "metadata": {},
     "output_type": "display_data"
    },
    {
     "name": "stdout",
     "output_type": "stream",
     "text": [
      "1INCH/USDT:USDT LONG\n",
      "{'tps': [[1726577820000, 0.2411, 0.2419, 0.2409, 0.2415, 23605.0], [1726586160000, 0.2454, 0.246, 0.2454, 0.2456, 17945.0], [1726701300000, 0.2492, 0.2496, 0.2492, 0.2495, 36207.0], [1726704120000, 0.254, 0.2545, 0.2538, 0.2545, 8573.0], [1726727520000, 0.2615, 0.2618, 0.2615, 0.2618, 4473.0]], 'entry_reached': [[1726484880000, 0.2375, 0.2376, 0.2373, 0.2375, 14957.0]], 'stop_loss_reached': None, 'break_reason': None}\n"
     ]
    },
    {
     "data": {
      "text/html": [
       "<p style='color:#0f0;'>********************************************************************************************************************</p>"
      ],
      "text/plain": [
       "<IPython.core.display.HTML object>"
      ]
     },
     "metadata": {},
     "output_type": "display_data"
    },
    {
     "name": "stdout",
     "output_type": "stream",
     "text": [
      "FTM/USDT:USDT LONG\n",
      "{'tps': [[1726532040000, 0.5239, 0.5246, 0.5238, 0.524, 54043.0], [1726548480000, 0.53, 0.5322, 0.53, 0.5308, 291034.0], [1726548540000, 0.5308, 0.5412, 0.5302, 0.5385, 548403.0], [1726551240000, 0.5396, 0.5496, 0.5396, 0.5473, 487322.0], [1726552740000, 0.5505, 0.5581, 0.5495, 0.554, 386589.0]], 'entry_reached': [[1726510080000, 0.5173, 0.5183, 0.5173, 0.5181, 7659.0], [1726519920000, 0.5079, 0.5081, 0.5061, 0.5066, 322731.0]], 'stop_loss_reached': None, 'break_reason': None}\n"
     ]
    },
    {
     "data": {
      "text/html": [
       "<p style='color:#0f0;'>********************************************************************************************************************</p>"
      ],
      "text/plain": [
       "<IPython.core.display.HTML object>"
      ]
     },
     "metadata": {},
     "output_type": "display_data"
    },
    {
     "name": "stdout",
     "output_type": "stream",
     "text": [
      "BNB/USDT:USDT SHORT\n",
      "{'tps': [], 'entry_reached': [[1726700640000, 554.19, 554.96, 554.18, 554.66, 38.83], [1726747620000, 562.99, 563.97, 562.99, 563.68, 547.04]], 'stop_loss_reached': [1726764360000, 569.61, 571.22, 569.59, 571.06, 121.58], 'break_reason': None}\n"
     ]
    },
    {
     "data": {
      "text/html": [
       "<p style='color:#0f0;'>********************************************************************************************************************</p>"
      ],
      "text/plain": [
       "<IPython.core.display.HTML object>"
      ]
     },
     "metadata": {},
     "output_type": "display_data"
    },
    {
     "name": "stdout",
     "output_type": "stream",
     "text": [
      "BTC/USDT:USDT LONG\n",
      "{'tps': [], 'entry_reached': [[1726599180000, 60527.9, 60527.9, 60400.0, 60412.1, 185.44], [1726602420000, 59895.7, 59927.6, 59734.1, 59788.6, 215.62]], 'stop_loss_reached': [1726654560000, 59506.6, 59511.8, 59371.7, 59372.1, 227.06], 'break_reason': None}\n"
     ]
    },
    {
     "data": {
      "text/html": [
       "<p style='color:#0f0;'>********************************************************************************************************************</p>"
      ],
      "text/plain": [
       "<IPython.core.display.HTML object>"
      ]
     },
     "metadata": {},
     "output_type": "display_data"
    },
    {
     "name": "stdout",
     "output_type": "stream",
     "text": [
      "BTC/USDT:USDT LONG\n",
      "{'tps': [], 'entry_reached': [[1726599180000, 60527.9, 60527.9, 60400.0, 60412.1, 185.44], [1726602420000, 59895.7, 59927.6, 59734.1, 59788.6, 215.62]], 'stop_loss_reached': [1726654560000, 59506.6, 59511.8, 59371.7, 59372.1, 227.06], 'break_reason': None}\n"
     ]
    },
    {
     "data": {
      "text/html": [
       "<p style='color:#0f0;'>********************************************************************************************************************</p>"
      ],
      "text/plain": [
       "<IPython.core.display.HTML object>"
      ]
     },
     "metadata": {},
     "output_type": "display_data"
    },
    {
     "name": "stdout",
     "output_type": "stream",
     "text": [
      "SAND/USDT:USDT LONG\n",
      "{'tps': [[1726682460000, 0.2478, 0.2502, 0.2478, 0.2484, 351387.0], [1726701840000, 0.2535, 0.2537, 0.2534, 0.2537, 34028.0], [1726703820000, 0.2561, 0.2566, 0.2561, 0.2562, 9482.0], [1726705260000, 0.2596, 0.2606, 0.2596, 0.2604, 41968.0], [1726752240000, 0.2652, 0.2657, 0.2651, 0.2656, 30352.0]], 'entry_reached': [[1726652880000, 0.2477, 0.2477, 0.2475, 0.2476, 14138.0], [1726675380000, 0.2422, 0.2423, 0.2416, 0.2416, 13307.0]], 'stop_loss_reached': None, 'break_reason': None}\n"
     ]
    },
    {
     "data": {
      "text/html": [
       "<p style='color:#0f0;'>********************************************************************************************************************</p>"
      ],
      "text/plain": [
       "<IPython.core.display.HTML object>"
      ]
     },
     "metadata": {},
     "output_type": "display_data"
    },
    {
     "name": "stdout",
     "output_type": "stream",
     "text": [
      "INJ/USDT:USDT LONG\n",
      "{'tps': [[1726682400000, 18.526, 18.932, 18.473, 18.87, 8509.0], [1726682460000, 18.856, 19.107, 18.854, 18.989, 11203.0], [1726684380000, 19.303, 19.451, 19.303, 19.409, 2709.0], [1726703760000, 19.701, 19.75, 19.686, 19.721, 2991.0], [1726707240000, 20.218, 20.353, 20.21, 20.353, 4368.0]], 'entry_reached': [[1726666740000, 18.522, 18.539, 18.513, 18.523, 2022.0]], 'stop_loss_reached': None, 'break_reason': None}\n"
     ]
    },
    {
     "data": {
      "text/html": [
       "<p style='color:#0f0;'>********************************************************************************************************************</p>"
      ],
      "text/plain": [
       "<IPython.core.display.HTML object>"
      ]
     },
     "metadata": {},
     "output_type": "display_data"
    },
    {
     "name": "stdout",
     "output_type": "stream",
     "text": [
      "BTC/USDT:USDT SHORT\n",
      "{'tps': [[1726811160000, 63628.7, 63700.0, 63585.1, 63696.5, 83.28], [1726821300000, 63128.2, 63193.5, 63103.8, 63193.4, 84.19], [1726841520000, 62690.4, 62693.8, 62627.4, 62642.3, 91.36]], 'entry_reached': [[1726805340000, 64043.9, 64147.0, 64004.6, 64063.4, 330.16], [1727364780000, 65147.9, 65395.0, 65132.4, 65293.0, 332.44]], 'stop_loss_reached': [1727370360000, 65637.2, 65774.0, 65637.2, 65772.4, 130.22], 'break_reason': None}\n"
     ]
    },
    {
     "data": {
      "text/html": [
       "<p style='color:#0f0;'>********************************************************************************************************************</p>"
      ],
      "text/plain": [
       "<IPython.core.display.HTML object>"
      ]
     },
     "metadata": {},
     "output_type": "display_data"
    },
    {
     "name": "stdout",
     "output_type": "stream",
     "text": [
      "APE/USDT:USDT SHORT\n",
      "{'tps': [[1726884420000, 0.7914, 0.7919, 0.7904, 0.7905, 21335.0], [1727003760000, 0.7776, 0.7789, 0.777, 0.7789, 11833.0], [1727042460000, 0.7676, 0.768, 0.7634, 0.7648, 31736.0]], 'entry_reached': [[1726869840000, 0.8017, 0.802, 0.8012, 0.8013, 2640.0], [1727226300000, 0.8259, 0.828, 0.8259, 0.8279, 1835.0]], 'stop_loss_reached': [1727293860000, 0.8401, 0.8422, 0.8399, 0.8413, 3273.0], 'break_reason': None}\n"
     ]
    },
    {
     "data": {
      "text/html": [
       "<p style='color:#0f0;'>********************************************************************************************************************</p>"
      ],
      "text/plain": [
       "<IPython.core.display.HTML object>"
      ]
     },
     "metadata": {},
     "output_type": "display_data"
    },
    {
     "name": "stdout",
     "output_type": "stream",
     "text": [
      "ETH/USDT:USDT SHORT\n",
      "{'tps': [[1726931400000, 2556.83, 2556.83, 2551.04, 2551.6, 468.74]], 'entry_reached': [[1726926300000, 2564.09, 2567.8, 2563.78, 2567.35, 129.32], [1726960740000, 2582.66, 2589.89, 2582.54, 2589.69, 1358.3]], 'stop_loss_reached': [1726962000000, 2601.12, 2611.3, 2600.77, 2611.3, 4026.52], 'break_reason': None}\n"
     ]
    },
    {
     "data": {
      "text/html": [
       "<p style='color:#0f0;'>********************************************************************************************************************</p>"
      ],
      "text/plain": [
       "<IPython.core.display.HTML object>"
      ]
     },
     "metadata": {},
     "output_type": "display_data"
    },
    {
     "name": "stdout",
     "output_type": "stream",
     "text": [
      "XRP/USDT:USDT LONG\n",
      "{'tps': [[1727024700000, 0.5911, 0.5912, 0.591, 0.5912, 89986.0], [1727228340000, 0.5939, 0.595, 0.5939, 0.5948, 114584.0]], 'entry_reached': [[1727012100000, 0.5881, 0.5881, 0.5868, 0.5872, 325611.0], [1727042520000, 0.581, 0.5811, 0.5766, 0.5782, 1254500.0]], 'stop_loss_reached': [1727311740000, 0.5761, 0.5763, 0.5732, 0.5743, 653916.0], 'break_reason': None}\n"
     ]
    },
    {
     "data": {
      "text/html": [
       "<p style='color:#0f0;'>********************************************************************************************************************</p>"
      ],
      "text/plain": [
       "<IPython.core.display.HTML object>"
      ]
     },
     "metadata": {},
     "output_type": "display_data"
    },
    {
     "name": "stdout",
     "output_type": "stream",
     "text": [
      "ICX/USDT:USDT SHORT\n",
      "{'tps': [], 'entry_reached': [[1727088300000, 0.1444, 0.1445, 0.1441, 0.1444, 33750.0], [1727136060000, 0.1482, 0.1502, 0.1482, 0.1497, 275060.0]], 'stop_loss_reached': [1727136300000, 0.1495, 0.1526, 0.1495, 0.152, 309946.0], 'break_reason': None}\n"
     ]
    },
    {
     "data": {
      "text/html": [
       "<p style='color:#0f0;'>********************************************************************************************************************</p>"
      ],
      "text/plain": [
       "<IPython.core.display.HTML object>"
      ]
     },
     "metadata": {},
     "output_type": "display_data"
    },
    {
     "name": "stdout",
     "output_type": "stream",
     "text": [
      "ETH/USDT:USDT SHORT\n",
      "{'tps': [[1727514180000, 2662.84, 2664.19, 2660.06, 2660.93, 632.62], [1727596140000, 2644.04, 2644.46, 2641.17, 2641.99, 268.27], [1727660820000, 2625.09, 2626.74, 2611.5, 2619.03, 2320.54], [1727691240000, 2593.68, 2596.51, 2590.5, 2594.09, 2449.84], [1727793360000, 2553.67, 2562.37, 2549.0, 2561.18, 4069.41]], 'entry_reached': [[1727446920000, 2674.54, 2682.3, 2674.46, 2681.75, 973.72], [1727455020000, 2723.18, 2726.98, 2722.0, 2722.24, 1895.31]], 'stop_loss_reached': None, 'break_reason': None}\n"
     ]
    },
    {
     "data": {
      "text/html": [
       "<p style='color:#0f0;'>********************************************************************************************************************</p>"
      ],
      "text/plain": [
       "<IPython.core.display.HTML object>"
      ]
     },
     "metadata": {},
     "output_type": "display_data"
    },
    {
     "name": "stdout",
     "output_type": "stream",
     "text": [
      "ZIL/USDT:USDT LONG\n",
      "{'tps': [[1727511600000, 0.01626, 0.01631, 0.01626, 0.0163, 813139.0]], 'entry_reached': [[1727511120000, 0.01623, 0.01623, 0.01619, 0.01621, 298013.0], [1727557980000, 0.01598, 0.016, 0.01594, 0.01595, 280147.0]], 'stop_loss_reached': [1727558520000, 0.01587, 0.01589, 0.01583, 0.01589, 492198.0], 'break_reason': None}\n"
     ]
    },
    {
     "data": {
      "text/html": [
       "<p style='color:#0f0;'>********************************************************************************************************************</p>"
      ],
      "text/plain": [
       "<IPython.core.display.HTML object>"
      ]
     },
     "metadata": {},
     "output_type": "display_data"
    },
    {
     "name": "stdout",
     "output_type": "stream",
     "text": [
      "FIL/USDT:USDT SHORT\n",
      "{'tps': [[1727453580000, 4.196, 4.196, 4.18, 4.182, 5199.9], [1727501280000, 4.138, 4.138, 4.131, 4.133, 40119.7], [1727505540000, 4.09, 4.09, 4.082, 4.085, 6024.7], [1727514360000, 4.038, 4.04, 4.026, 4.028, 3466.6], [1727665140000, 3.962, 3.964, 3.952, 3.953, 5689.0]], 'entry_reached': [[1727447160000, 4.212, 4.224, 4.212, 4.219, 11423.5]], 'stop_loss_reached': None, 'break_reason': None}\n"
     ]
    },
    {
     "data": {
      "text/html": [
       "<p style='color:#0f0;'>********************************************************************************************************************</p>"
      ],
      "text/plain": [
       "<IPython.core.display.HTML object>"
      ]
     },
     "metadata": {},
     "output_type": "display_data"
    },
    {
     "name": "stdout",
     "output_type": "stream",
     "text": [
      "SOL/USDT:USDT LONG\n",
      "{'tps': [[1727490540000, 158.779, 158.819, 158.74, 158.818, 3668.0], [1727640180000, 159.688, 159.995, 159.594, 159.964, 3863.0], [1727644380000, 160.712, 161.164, 160.711, 161.095, 8760.0]], 'entry_reached': [[1727457420000, 157.77, 157.771, 157.48, 157.69, 4984.0], [1727505660000, 156.756, 156.756, 156.249, 156.36, 4216.0]], 'stop_loss_reached': [1727690280000, 155.032, 155.078, 154.687, 154.688, 4473.0], 'break_reason': None}\n"
     ]
    },
    {
     "data": {
      "text/html": [
       "<p style='color:#0f0;'>********************************************************************************************************************</p>"
      ],
      "text/plain": [
       "<IPython.core.display.HTML object>"
      ]
     },
     "metadata": {},
     "output_type": "display_data"
    },
    {
     "name": "stdout",
     "output_type": "stream",
     "text": [
      "XRP/USDT:USDT LONG\n",
      "{'tps': [[1727794440000, 0.6077, 0.6091, 0.6076, 0.6082, 486264.0]], 'entry_reached': [[1727794320000, 0.6074, 0.608, 0.6052, 0.6066, 1091581.0], [1727795160000, 0.6007, 0.6022, 0.5969, 0.6003, 1582518.0]], 'stop_loss_reached': [1727795400000, 0.5962, 0.5969, 0.5923, 0.5953, 956700.0], 'break_reason': None}\n"
     ]
    },
    {
     "data": {
      "text/html": [
       "<p style='color:#0f0;'>********************************************************************************************************************</p>"
      ],
      "text/plain": [
       "<IPython.core.display.HTML object>"
      ]
     },
     "metadata": {},
     "output_type": "display_data"
    },
    {
     "name": "stdout",
     "output_type": "stream",
     "text": [
      "AXS/USDT:USDT SHORT\n",
      "{'tps': [[1727627760000, 5.423, 5.423, 5.409, 5.409, 1771.0], [1727660760000, 5.39, 5.39, 5.371, 5.375, 4070.0], [1727662260000, 5.342, 5.344, 5.326, 5.335, 1890.0], [1727665620000, 5.291, 5.291, 5.28, 5.285, 2204.0], [1727674680000, 5.215, 5.22, 5.21, 5.212, 1699.0]], 'entry_reached': [[1727625780000, 5.432, 5.447, 5.432, 5.445, 5456.0], [1727640240000, 5.493, 5.506, 5.493, 5.501, 3726.0]], 'stop_loss_reached': None, 'break_reason': None}\n"
     ]
    },
    {
     "data": {
      "text/html": [
       "<p style='color:#0f0;'>********************************************************************************************************************</p>"
      ],
      "text/plain": [
       "<IPython.core.display.HTML object>"
      ]
     },
     "metadata": {},
     "output_type": "display_data"
    },
    {
     "name": "stdout",
     "output_type": "stream",
     "text": [
      "ICP/USDT:USDT LONG\n",
      "{'tps': [[1727703180000, 9.29, 9.299, 9.286, 9.289, 1454.86]], 'entry_reached': [[1727690880000, 9.222, 9.227, 9.196, 9.202, 990.08], [1727720880000, 9.046, 9.054, 9.04, 9.052, 141.76]], 'stop_loss_reached': [1727739780000, 8.913, 8.939, 8.893, 8.931, 3027.41], 'break_reason': None}\n"
     ]
    },
    {
     "data": {
      "text/html": [
       "<p style='color:#0f0;'>********************************************************************************************************************</p>"
      ],
      "text/plain": [
       "<IPython.core.display.HTML object>"
      ]
     },
     "metadata": {},
     "output_type": "display_data"
    },
    {
     "name": "stdout",
     "output_type": "stream",
     "text": [
      "NOT/USDT:USDT LONG\n",
      "{'tps': [[1727624100000, 0.009025, 0.009029, 0.009007, 0.009021, 3498224.0], [1727628720000, 0.009113, 0.009175, 0.00911, 0.00916, 6060121.0], [1727640240000, 0.009286, 0.00934, 0.009284, 0.009336, 4123879.0]], 'entry_reached': [[1727614500000, 0.008905, 0.008909, 0.008881, 0.008892, 15424385.0], [1727690160000, 0.008734, 0.008734, 0.0087, 0.008706, 5714804.0]], 'stop_loss_reached': [1727737200000, 0.00851, 0.008514, 0.008484, 0.008484, 5835673.0], 'break_reason': None}\n"
     ]
    },
    {
     "data": {
      "text/html": [
       "<p style='color:#0f0;'>********************************************************************************************************************</p>"
      ],
      "text/plain": [
       "<IPython.core.display.HTML object>"
      ]
     },
     "metadata": {},
     "output_type": "display_data"
    },
    {
     "name": "stdout",
     "output_type": "stream",
     "text": [
      "BNB/USDT:USDT SHORT\n",
      "{'tps': [[1727653140000, 595.0, 595.15, 594.48, 594.5, 34.95], [1727656200000, 589.95, 589.95, 587.13, 588.18, 331.19], [1727660820000, 583.35, 583.48, 581.39, 582.22, 264.78], [1727665620000, 574.46, 574.47, 573.2, 573.29, 318.84], [1727794980000, 557.78, 557.85, 556.3, 556.35, 365.66]], 'entry_reached': [[1727640240000, 599.8, 600.44, 599.78, 600.29, 96.31]], 'stop_loss_reached': None, 'break_reason': None}\n"
     ]
    },
    {
     "data": {
      "text/html": [
       "<p style='color:#0f0;'>********************************************************************************************************************</p>"
      ],
      "text/plain": [
       "<IPython.core.display.HTML object>"
      ]
     },
     "metadata": {},
     "output_type": "display_data"
    },
    {
     "name": "stdout",
     "output_type": "stream",
     "text": [
      "XRP/USDT:USDT LONG\n",
      "{'tps': [[1727726520000, 0.6229, 0.6233, 0.6228, 0.623, 120434.0], [1727775900000, 0.6289, 0.6295, 0.6289, 0.6295, 48000.0]], 'entry_reached': [[1727710800000, 0.6202, 0.6202, 0.618, 0.6185, 369166.0], [1727739180000, 0.6144, 0.6144, 0.6104, 0.6104, 299305.0]], 'stop_loss_reached': [1727795040000, 0.6035, 0.6045, 0.6005, 0.6005, 2562866.0], 'break_reason': None}\n"
     ]
    },
    {
     "data": {
      "text/html": [
       "<p style='color:#0f0;'>********************************************************************************************************************</p>"
      ],
      "text/plain": [
       "<IPython.core.display.HTML object>"
      ]
     },
     "metadata": {},
     "output_type": "display_data"
    },
    {
     "name": "stdout",
     "output_type": "stream",
     "text": [
      "ETH/USDT:USDT SHORT\n",
      "{'tps': [], 'entry_reached': [], 'stop_loss_reached': None, 'break_reason': 'WAIT MANY DAYS'}\n"
     ]
    },
    {
     "data": {
      "text/html": [
       "<p style='color:#0f0;'>********************************************************************************************************************</p>"
      ],
      "text/plain": [
       "<IPython.core.display.HTML object>"
      ]
     },
     "metadata": {},
     "output_type": "display_data"
    },
    {
     "name": "stdout",
     "output_type": "stream",
     "text": [
      "NEAR/USDT:USDT LONG\n",
      "{'tps': [[1727688240000, 5.3078, 5.3215, 5.3072, 5.3209, 4621.0], [1727701200000, 5.3795, 5.3868, 5.3755, 5.3799, 5690.0], [1727717100000, 5.4285, 5.4393, 5.4281, 5.4281, 2364.0], [1727765580000, 5.4954, 5.511, 5.4946, 5.51, 4254.0]], 'entry_reached': [[1727687760000, 5.2763, 5.2777, 5.26, 5.2662, 13777.0], [1727792820000, 5.2008, 5.2017, 5.1779, 5.1798, 42359.0]], 'stop_loss_reached': [1727793300000, 5.1377, 5.1395, 5.087, 5.0921, 16140.0], 'break_reason': None}\n"
     ]
    },
    {
     "data": {
      "text/html": [
       "<p style='color:#0f0;'>********************************************************************************************************************</p>"
      ],
      "text/plain": [
       "<IPython.core.display.HTML object>"
      ]
     },
     "metadata": {},
     "output_type": "display_data"
    },
    {
     "name": "stdout",
     "output_type": "stream",
     "text": [
      "DOGS/USDT:USDT SHORT\n",
      "{'tps': [[1728755700000, 0.0008146, 0.0008146, 0.0008079, 0.0008084, 137154257.0], [1728757620000, 0.0008043, 0.0008048, 0.0008018, 0.0008022, 73379019.0], [1728770520000, 0.0007936, 0.0007948, 0.0007929, 0.0007948, 127911770.0], [1728782280000, 0.0007839, 0.0007839, 0.0007812, 0.0007812, 75511509.0], [1728818040000, 0.0007719, 0.0007726, 0.000765, 0.0007681, 282376635.0]], 'entry_reached': [[1728751740000, 0.000816, 0.0008219, 0.000816, 0.0008182, 189359352.0]], 'stop_loss_reached': None, 'break_reason': None}\n"
     ]
    },
    {
     "data": {
      "text/html": [
       "<p style='color:#0f0;'>********************************************************************************************************************</p>"
      ],
      "text/plain": [
       "<IPython.core.display.HTML object>"
      ]
     },
     "metadata": {},
     "output_type": "display_data"
    },
    {
     "data": {
      "text/html": [
       "<p style='color:#FFFF00;'>waiting 5 min...</p>"
      ],
      "text/plain": [
       "<IPython.core.display.HTML object>"
      ]
     },
     "metadata": {},
     "output_type": "display_data"
    },
    {
     "name": "stdout",
     "output_type": "stream",
     "text": [
      "DYDX/USDT:USDT SHORT\n"
     ]
    },
    {
     "data": {
      "text/html": [
       "<p style='color:#c01;'>json, 1727728200000</p>"
      ],
      "text/plain": [
       "<IPython.core.display.HTML object>"
      ]
     },
     "metadata": {},
     "output_type": "display_data"
    },
    {
     "data": {
      "text/html": [
       "<p style='color:#fd03a1;'>stop_timestamp</p>"
      ],
      "text/plain": [
       "<IPython.core.display.HTML object>"
      ]
     },
     "metadata": {},
     "output_type": "display_data"
    },
    {
     "data": {
      "text/html": [
       "<p style='color:#ada;'>saving historic tohlcv data to json</p>"
      ],
      "text/plain": [
       "<IPython.core.display.HTML object>"
      ]
     },
     "metadata": {},
     "output_type": "display_data"
    },
    {
     "name": "stdout",
     "output_type": "stream",
     "text": [
      "{'tps': [], 'entry_reached': [], 'stop_loss_reached': None, 'break_reason': 'WAIT MANY DAYS'}\n"
     ]
    },
    {
     "data": {
      "text/html": [
       "<p style='color:#0f0;'>********************************************************************************************************************</p>"
      ],
      "text/plain": [
       "<IPython.core.display.HTML object>"
      ]
     },
     "metadata": {},
     "output_type": "display_data"
    },
    {
     "name": "stdout",
     "output_type": "stream",
     "text": [
      "BNB/USDT:USDT SHORT\n",
      "{'tps': [[1727886960000, 549.24, 549.75, 548.92, 549.53, 72.11], [1727888700000, 546.15, 546.86, 545.93, 546.84, 35.51], [1727892780000, 543.17, 543.17, 542.86, 542.89, 41.51], [1727895120000, 539.81, 539.81, 539.37, 539.64, 78.73], [1727957220000, 534.29, 534.41, 533.31, 534.14, 148.04]], 'entry_reached': [[1727885100000, 550.93, 551.8, 550.91, 551.36, 85.87]], 'stop_loss_reached': None, 'break_reason': None}\n"
     ]
    },
    {
     "data": {
      "text/html": [
       "<p style='color:#0f0;'>********************************************************************************************************************</p>"
      ],
      "text/plain": [
       "<IPython.core.display.HTML object>"
      ]
     },
     "metadata": {},
     "output_type": "display_data"
    },
    {
     "name": "stdout",
     "output_type": "stream",
     "text": [
      "TURBO/USDT:USDT SHORT\n",
      "{'tps': [[1727873640000, 0.005136, 0.005144, 0.005124, 0.005131, 1020256.0], [1727876100000, 0.005072, 0.005072, 0.005039, 0.005044, 5392458.0], [1727894880000, 0.00498, 0.005004, 0.004977, 0.005, 4012146.0], [1727895960000, 0.0049, 0.0049, 0.00488, 0.004881, 2382200.0], [1727946180000, 0.004768, 0.004771, 0.004736, 0.004737, 2067682.0]], 'entry_reached': [[1727872800000, 0.005191, 0.005205, 0.005191, 0.005201, 3884277.0], [1727885100000, 0.005287, 0.00532, 0.005285, 0.00531, 5121722.0]], 'stop_loss_reached': None, 'break_reason': None}\n"
     ]
    },
    {
     "data": {
      "text/html": [
       "<p style='color:#0f0;'>********************************************************************************************************************</p>"
      ],
      "text/plain": [
       "<IPython.core.display.HTML object>"
      ]
     },
     "metadata": {},
     "output_type": "display_data"
    },
    {
     "name": "stdout",
     "output_type": "stream",
     "text": [
      "LDO/USDT:USDT LONG\n",
      "{'tps': [], 'entry_reached': [[1727888400000, 1.0628, 1.0635, 1.0583, 1.0595, 36688.0], [1727893080000, 1.0378, 1.0424, 1.0358, 1.0415, 25940.0]], 'stop_loss_reached': [1727896020000, 1.0189, 1.0201, 1.0177, 1.0189, 29277.0], 'break_reason': None}\n"
     ]
    },
    {
     "data": {
      "text/html": [
       "<p style='color:#0f0;'>********************************************************************************************************************</p>"
      ],
      "text/plain": [
       "<IPython.core.display.HTML object>"
      ]
     },
     "metadata": {},
     "output_type": "display_data"
    },
    {
     "name": "stdout",
     "output_type": "stream",
     "text": [
      "APT/USDT:USDT LONG\n",
      "{'tps': [], 'entry_reached': [], 'stop_loss_reached': None, 'break_reason': 'WAIT MANY DAYS'}\n"
     ]
    },
    {
     "data": {
      "text/html": [
       "<p style='color:#0f0;'>********************************************************************************************************************</p>"
      ],
      "text/plain": [
       "<IPython.core.display.HTML object>"
      ]
     },
     "metadata": {},
     "output_type": "display_data"
    },
    {
     "name": "stdout",
     "output_type": "stream",
     "text": [
      "ETC/USDT:USDT SHORT\n",
      "{'tps': [[1727954220000, 18.546, 18.546, 18.48, 18.483, 3495.9], [1727954940000, 18.457, 18.457, 18.443, 18.454, 240.66], [1727956560000, 18.415, 18.415, 18.374, 18.383, 3313.13], [1727956980000, 18.323, 18.331, 18.307, 18.308, 608.49], [1727957100000, 18.236, 18.237, 18.158, 18.165, 12713.0]], 'entry_reached': [[1727953920000, 18.545, 18.603, 18.54, 18.585, 10065.79]], 'stop_loss_reached': None, 'break_reason': None}\n"
     ]
    },
    {
     "data": {
      "text/html": [
       "<p style='color:#0f0;'>********************************************************************************************************************</p>"
      ],
      "text/plain": [
       "<IPython.core.display.HTML object>"
      ]
     },
     "metadata": {},
     "output_type": "display_data"
    },
    {
     "name": "stdout",
     "output_type": "stream",
     "text": [
      "ETH/USDT:USDT LONG\n",
      "{'tps': [], 'entry_reached': [], 'stop_loss_reached': None, 'break_reason': 'WAIT MANY DAYS'}\n"
     ]
    },
    {
     "data": {
      "text/html": [
       "<p style='color:#0f0;'>********************************************************************************************************************</p>"
      ],
      "text/plain": [
       "<IPython.core.display.HTML object>"
      ]
     },
     "metadata": {},
     "output_type": "display_data"
    },
    {
     "name": "stdout",
     "output_type": "stream",
     "text": [
      "ETH/USDT:USDT SHORT\n",
      "{'tps': [[1728051000000, 2370.91, 2371.26, 2365.91, 2366.69, 1090.04], [1728052020000, 2356.71, 2356.71, 2351.02, 2353.5, 1591.19]], 'entry_reached': [[1728040500000, 2377.74, 2379.0, 2377.72, 2378.98, 104.46], [1728057420000, 2408.83, 2416.12, 2408.68, 2413.58, 4270.96]], 'stop_loss_reached': [1728058680000, 2424.6, 2429.37, 2423.53, 2426.41, 1103.64], 'break_reason': None}\n"
     ]
    },
    {
     "data": {
      "text/html": [
       "<p style='color:#0f0;'>********************************************************************************************************************</p>"
      ],
      "text/plain": [
       "<IPython.core.display.HTML object>"
      ]
     },
     "metadata": {},
     "output_type": "display_data"
    },
    {
     "name": "stdout",
     "output_type": "stream",
     "text": [
      "ICP/USDT:USDT SHORT\n",
      "{'tps': [[1728087540000, 8.332, 8.332, 8.324, 8.328, 119.29], [1728096360000, 8.25, 8.254, 8.243, 8.247, 22.92], [1728146520000, 8.156, 8.156, 8.141, 8.144, 245.63], [1728342240000, 8.041, 8.042, 8.025, 8.031, 335.87], [1728478380000, 7.869, 7.871, 7.834, 7.834, 1230.21]], 'entry_reached': [[1728068520000, 8.399, 8.408, 8.397, 8.406, 101.89], [1728261600000, 8.529, 8.542, 8.52, 8.542, 425.52]], 'stop_loss_reached': None, 'break_reason': None}\n"
     ]
    },
    {
     "data": {
      "text/html": [
       "<p style='color:#0f0;'>********************************************************************************************************************</p>"
      ],
      "text/plain": [
       "<IPython.core.display.HTML object>"
      ]
     },
     "metadata": {},
     "output_type": "display_data"
    },
    {
     "name": "stdout",
     "output_type": "stream",
     "text": [
      "ICP/USDT:USDT SHORT\n",
      "{'tps': [[1728231960000, 8.407, 8.409, 8.393, 8.393, 453.57], [1728292680000, 8.327, 8.328, 8.314, 8.314, 1595.39], [1728295800000, 8.225, 8.225, 8.212, 8.214, 105.59], [1728341760000, 8.155, 8.155, 8.098, 8.098, 1753.59], [1728371940000, 7.976, 7.976, 7.959, 7.963, 521.58]], 'entry_reached': [[1728231420000, 8.475, 8.491, 8.475, 8.483, 350.48]], 'stop_loss_reached': None, 'break_reason': None}\n"
     ]
    },
    {
     "data": {
      "text/html": [
       "<p style='color:#0f0;'>********************************************************************************************************************</p>"
      ],
      "text/plain": [
       "<IPython.core.display.HTML object>"
      ]
     },
     "metadata": {},
     "output_type": "display_data"
    },
    {
     "name": "stdout",
     "output_type": "stream",
     "text": [
      "LTC/USDT:USDT SHORT\n",
      "{'tps': [[1728304680000, 65.78, 65.78, 65.62, 65.67, 790.6], [1728326880000, 65.06, 65.06, 64.82, 64.96, 819.2], [1728582900000, 63.9, 63.9, 63.6, 63.76, 642.8]], 'entry_reached': [[1728177960000, 66.49, 66.52, 66.47, 66.49, 253.3], [1729009200000, 66.62, 68.6, 66.59, 67.97, 1463.1]], 'stop_loss_reached': [1729009380000, 68.5, 69.6, 68.38, 69.33, 8721.6], 'break_reason': None}\n"
     ]
    },
    {
     "data": {
      "text/html": [
       "<p style='color:#0f0;'>********************************************************************************************************************</p>"
      ],
      "text/plain": [
       "<IPython.core.display.HTML object>"
      ]
     },
     "metadata": {},
     "output_type": "display_data"
    },
    {
     "name": "stdout",
     "output_type": "stream",
     "text": [
      "LINK/USDT:USDT SHORT\n",
      "{'tps': [[1728313200000, 11.556, 11.56, 11.537, 11.549, 1333.2], [1728326160000, 11.352, 11.365, 11.341, 11.363, 1045.8], [1728342000000, 11.175, 11.18, 11.112, 11.123, 4725.3], [1728415200000, 10.85, 10.852, 10.826, 10.828, 2863.5], [1728505440000, 10.479, 10.484, 10.469, 10.478, 3363.1]], 'entry_reached': [[1728311040000, 11.713, 11.737, 11.706, 11.707, 3260.7]], 'stop_loss_reached': None, 'break_reason': None}\n"
     ]
    },
    {
     "data": {
      "text/html": [
       "<p style='color:#0f0;'>********************************************************************************************************************</p>"
      ],
      "text/plain": [
       "<IPython.core.display.HTML object>"
      ]
     },
     "metadata": {},
     "output_type": "display_data"
    },
    {
     "name": "stdout",
     "output_type": "stream",
     "text": [
      "RUNE/USDT:USDT SHORT\n",
      "{'tps': [], 'entry_reached': [[1728263160000, 5.02, 5.029, 5.018, 5.027, 8423.0], [1728286200000, 5.148, 5.174, 5.148, 5.166, 3720.0]], 'stop_loss_reached': [1728310800000, 5.24, 5.269, 5.235, 5.264, 8451.0], 'break_reason': None}\n"
     ]
    },
    {
     "data": {
      "text/html": [
       "<p style='color:#0f0;'>********************************************************************************************************************</p>"
      ],
      "text/plain": [
       "<IPython.core.display.HTML object>"
      ]
     },
     "metadata": {},
     "output_type": "display_data"
    },
    {
     "name": "stdout",
     "output_type": "stream",
     "text": [
      "CHZ/USDT:USDT SHORT\n",
      "{'tps': [], 'entry_reached': [[1728383940000, 0.06551, 0.06551, 0.0654, 0.06541, 61061.0], [1728384720000, 0.06561, 0.06607, 0.06557, 0.06601, 239501.0]], 'stop_loss_reached': [1728388860000, 0.06657, 0.06689, 0.06653, 0.0668, 687200.0], 'break_reason': None}\n"
     ]
    },
    {
     "data": {
      "text/html": [
       "<p style='color:#0f0;'>********************************************************************************************************************</p>"
      ],
      "text/plain": [
       "<IPython.core.display.HTML object>"
      ]
     },
     "metadata": {},
     "output_type": "display_data"
    },
    {
     "name": "stdout",
     "output_type": "stream",
     "text": [
      "TURBO/USDT:USDT SHORT\n",
      "{'tps': [], 'entry_reached': [[1728423300000, 0.006892, 0.00696, 0.006892, 0.006957, 10728048.0], [1728423600000, 0.007075, 0.007109, 0.007074, 0.007099, 16618094.0]], 'stop_loss_reached': [1728424080000, 0.00718, 0.007206, 0.007161, 0.007189, 20854215.0], 'break_reason': None}\n"
     ]
    },
    {
     "data": {
      "text/html": [
       "<p style='color:#0f0;'>********************************************************************************************************************</p>"
      ],
      "text/plain": [
       "<IPython.core.display.HTML object>"
      ]
     },
     "metadata": {},
     "output_type": "display_data"
    },
    {
     "name": "stdout",
     "output_type": "stream",
     "text": [
      "RUNE/USDT:USDT SHORT\n",
      "{'tps': [[1728477480000, 4.786, 4.789, 4.778, 4.785, 3511.0], [1728505440000, 4.751, 4.753, 4.654, 4.693, 19360.0], [1728507600000, 4.61, 4.612, 4.597, 4.605, 3391.0]], 'entry_reached': [[1728474420000, 4.848, 4.856, 4.846, 4.852, 3912.0], [1728489120000, 5.037, 5.05, 5.035, 5.05, 2700.0]], 'stop_loss_reached': [1728744600000, 5.094, 5.118, 5.094, 5.115, 3051.0], 'break_reason': None}\n"
     ]
    },
    {
     "data": {
      "text/html": [
       "<p style='color:#0f0;'>********************************************************************************************************************</p>"
      ],
      "text/plain": [
       "<IPython.core.display.HTML object>"
      ]
     },
     "metadata": {},
     "output_type": "display_data"
    },
    {
     "name": "stdout",
     "output_type": "stream",
     "text": [
      "BTC/USDT:USDT SHORT\n",
      "{'tps': [[1728497460000, 61686.3, 61686.3, 61479.6, 61510.2, 271.46], [1728501960000, 60867.7, 60884.4, 60800.0, 60805.2, 106.01], [1728580140000, 60083.9, 60089.5, 60022.0, 60022.7, 84.66], [1728583320000, 59481.3, 59530.3, 59363.9, 59448.3, 189.58]], 'entry_reached': [[1728471240000, 62139.4, 62150.0, 62135.4, 62139.5, 6.07], [1728673620000, 63240.2, 63383.3, 63172.0, 63357.7, 226.19]], 'stop_loss_reached': [1728877320000, 63950.5, 64049.0, 63949.6, 64023.1, 156.56], 'break_reason': None}\n"
     ]
    },
    {
     "data": {
      "text/html": [
       "<p style='color:#0f0;'>********************************************************************************************************************</p>"
      ],
      "text/plain": [
       "<IPython.core.display.HTML object>"
      ]
     },
     "metadata": {},
     "output_type": "display_data"
    },
    {
     "name": "stdout",
     "output_type": "stream",
     "text": [
      "BNB/USDT:USDT SHORT\n",
      "{'tps': [[1728550200000, 568.28, 568.28, 567.64, 567.64, 27.43], [1728552120000, 566.14, 566.14, 565.56, 565.56, 186.28], [1728568440000, 563.41, 563.46, 562.75, 563.3, 70.27], [1728581580000, 561.5, 561.5, 558.82, 559.02, 121.39], [1728582840000, 556.0, 556.78, 555.82, 555.84, 121.88]], 'entry_reached': [[1728548460000, 569.35, 569.7, 569.35, 569.68, 30.9]], 'stop_loss_reached': None, 'break_reason': None}\n"
     ]
    },
    {
     "data": {
      "text/html": [
       "<p style='color:#0f0;'>********************************************************************************************************************</p>"
      ],
      "text/plain": [
       "<IPython.core.display.HTML object>"
      ]
     },
     "metadata": {},
     "output_type": "display_data"
    },
    {
     "name": "stdout",
     "output_type": "stream",
     "text": [
      "ETH/USDT:USDT SHORT\n",
      "{'tps': [[1728570300000, 2372.89, 2373.34, 2368.75, 2370.51, 422.5], [1728583740000, 2352.65, 2352.71, 2342.13, 2342.13, 758.51]], 'entry_reached': [[1728555480000, 2392.96, 2399.06, 2392.7, 2398.22, 542.87], [1728673560000, 2449.16, 2458.74, 2449.07, 2458.59, 1503.55]], 'stop_loss_reached': [1728744540000, 2474.0, 2477.77, 2473.3, 2476.92, 554.52], 'break_reason': None}\n"
     ]
    },
    {
     "data": {
      "text/html": [
       "<p style='color:#0f0;'>********************************************************************************************************************</p>"
      ],
      "text/plain": [
       "<IPython.core.display.HTML object>"
      ]
     },
     "metadata": {},
     "output_type": "display_data"
    },
    {
     "name": "stdout",
     "output_type": "stream",
     "text": [
      "DOGS/USDT:USDT SHORT\n",
      "{'tps': [], 'entry_reached': [[1728658800000, 0.0006996, 0.0007034, 0.0006996, 0.0007022, 60689198.0], [1728684120000, 0.0007194, 0.000722, 0.000719, 0.000722, 21016277.0]], 'stop_loss_reached': [1728720180000, 0.0007334, 0.000735, 0.0007334, 0.0007344, 60306421.0], 'break_reason': None}\n"
     ]
    },
    {
     "data": {
      "text/html": [
       "<p style='color:#0f0;'>********************************************************************************************************************</p>"
      ],
      "text/plain": [
       "<IPython.core.display.HTML object>"
      ]
     },
     "metadata": {},
     "output_type": "display_data"
    },
    {
     "name": "stdout",
     "output_type": "stream",
     "text": [
      "BTC/USDT:USDT LONG\n",
      "{'tps': [], 'entry_reached': [], 'stop_loss_reached': None, 'break_reason': 'WAIT MANY DAYS'}\n"
     ]
    },
    {
     "data": {
      "text/html": [
       "<p style='color:#0f0;'>********************************************************************************************************************</p>"
      ],
      "text/plain": [
       "<IPython.core.display.HTML object>"
      ]
     },
     "metadata": {},
     "output_type": "display_data"
    },
    {
     "name": "stdout",
     "output_type": "stream",
     "text": [
      "ETH/USDT:USDT SHORT\n",
      "{'tps': [], 'entry_reached': [[1728639900000, 2412.42, 2414.14, 2412.41, 2413.84, 169.12], [1728653520000, 2427.75, 2431.42, 2427.67, 2429.04, 1513.1]], 'stop_loss_reached': [1728659640000, 2446.81, 2452.51, 2446.09, 2451.2, 1086.25], 'break_reason': None}\n"
     ]
    },
    {
     "data": {
      "text/html": [
       "<p style='color:#0f0;'>********************************************************************************************************************</p>"
      ],
      "text/plain": [
       "<IPython.core.display.HTML object>"
      ]
     },
     "metadata": {},
     "output_type": "display_data"
    },
    {
     "name": "stdout",
     "output_type": "stream",
     "text": [
      "OP/USDT:USDT SHORT\n",
      "{'tps': [], 'entry_reached': [[1728663960000, 1.6758, 1.679, 1.6758, 1.679, 8272.4], [1728697920000, 1.7104, 1.7164, 1.7099, 1.7149, 1326.0]], 'stop_loss_reached': [1728719100000, 1.7377, 1.7382, 1.7364, 1.7379, 7841.6], 'break_reason': None}\n"
     ]
    },
    {
     "data": {
      "text/html": [
       "<p style='color:#0f0;'>********************************************************************************************************************</p>"
      ],
      "text/plain": [
       "<IPython.core.display.HTML object>"
      ]
     },
     "metadata": {},
     "output_type": "display_data"
    },
    {
     "name": "stdout",
     "output_type": "stream",
     "text": [
      "ETH/USDT:USDT SHORT\n",
      "{'tps': [[1728858360000, 2470.11, 2470.17, 2468.42, 2468.42, 121.95], [1728865080000, 2452.81, 2453.53, 2450.91, 2451.27, 722.34]], 'entry_reached': [[1728857160000, 2480.69, 2483.2, 2474.06, 2474.1, 1134.1], [1728877380000, 2509.52, 2520.33, 2509.52, 2517.67, 1319.0]], 'stop_loss_reached': [1728878400000, 2519.69, 2528.82, 2519.66, 2526.03, 777.94], 'break_reason': None}\n"
     ]
    },
    {
     "data": {
      "text/html": [
       "<p style='color:#0f0;'>********************************************************************************************************************</p>"
      ],
      "text/plain": [
       "<IPython.core.display.HTML object>"
      ]
     },
     "metadata": {},
     "output_type": "display_data"
    },
    {
     "name": "stdout",
     "output_type": "stream",
     "text": [
      "MINA/USDT:USDT SHORT\n",
      "{'tps': [[1728951060000, 0.5827, 0.5829, 0.5804, 0.5808, 10033.7], [1728970020000, 0.5721, 0.5729, 0.5715, 0.5729, 3159.7], [1728993180000, 0.5638, 0.5643, 0.5623, 0.5641, 12169.2], [1729004820000, 0.5545, 0.556, 0.5514, 0.5523, 49921.7]], 'entry_reached': [[1728916140000, 0.5881, 0.5895, 0.5878, 0.5891, 5995.1], [1729428180000, 0.6064, 0.6073, 0.6057, 0.6057, 6345.5]], 'stop_loss_reached': [1729432620000, 0.6128, 0.6155, 0.6126, 0.6155, 11751.1], 'break_reason': None}\n"
     ]
    },
    {
     "data": {
      "text/html": [
       "<p style='color:#0f0;'>********************************************************************************************************************</p>"
      ],
      "text/plain": [
       "<IPython.core.display.HTML object>"
      ]
     },
     "metadata": {},
     "output_type": "display_data"
    },
    {
     "name": "stdout",
     "output_type": "stream",
     "text": [
      "ETH/USDT:USDT SHORT\n",
      "{'tps': [[1728913200000, 2547.11, 2548.48, 2545.34, 2547.71, 542.19]], 'entry_reached': [[1728911880000, 2559.88, 2560.55, 2558.66, 2558.66, 949.13], [1728946620000, 2640.51, 2645.29, 2639.98, 2643.73, 714.86]], 'stop_loss_reached': [1729000800000, 2670.18, 2683.46, 2670.18, 2682.38, 2295.72], 'break_reason': None}\n"
     ]
    },
    {
     "data": {
      "text/html": [
       "<p style='color:#0f0;'>********************************************************************************************************************</p>"
      ],
      "text/plain": [
       "<IPython.core.display.HTML object>"
      ]
     },
     "metadata": {},
     "output_type": "display_data"
    },
    {
     "name": "stdout",
     "output_type": "stream",
     "text": [
      "ETH/USDT:USDT SHORT\n",
      "{'tps': [[1728913200000, 2547.11, 2548.48, 2545.34, 2547.71, 542.19]], 'entry_reached': [[1728912000000, 2556.12, 2556.87, 2555.28, 2556.78, 177.75], [1728946620000, 2640.51, 2645.29, 2639.98, 2643.73, 714.86]], 'stop_loss_reached': [1729000800000, 2670.18, 2683.46, 2670.18, 2682.38, 2295.72], 'break_reason': None}\n"
     ]
    },
    {
     "data": {
      "text/html": [
       "<p style='color:#0f0;'>********************************************************************************************************************</p>"
      ],
      "text/plain": [
       "<IPython.core.display.HTML object>"
      ]
     },
     "metadata": {},
     "output_type": "display_data"
    },
    {
     "name": "stdout",
     "output_type": "stream",
     "text": [
      "ETH/USDT:USDT SHORT\n",
      "{'tps': [], 'entry_reached': [[1728914400000, 2567.78, 2577.81, 2566.74, 2575.84, 486.11], [1728946620000, 2640.51, 2645.29, 2639.98, 2643.73, 714.86]], 'stop_loss_reached': [1729000800000, 2670.18, 2683.46, 2670.18, 2682.38, 2295.72], 'break_reason': None}\n"
     ]
    },
    {
     "data": {
      "text/html": [
       "<p style='color:#0f0;'>********************************************************************************************************************</p>"
      ],
      "text/plain": [
       "<IPython.core.display.HTML object>"
      ]
     },
     "metadata": {},
     "output_type": "display_data"
    },
    {
     "name": "stdout",
     "output_type": "stream",
     "text": [
      "SOL/USDT:USDT LONG\n",
      "{'tps': [[1729077480000, 156.331, 156.571, 156.233, 156.569, 3196.0]], 'entry_reached': [[1729070580000, 154.596, 154.597, 154.471, 154.511, 1829.0], [1729141800000, 153.315, 153.35, 152.952, 152.967, 2424.0]], 'stop_loss_reached': [1729149420000, 151.874, 152.044, 151.775, 152.041, 2317.0], 'break_reason': None}\n"
     ]
    },
    {
     "data": {
      "text/html": [
       "<p style='color:#0f0;'>********************************************************************************************************************</p>"
      ],
      "text/plain": [
       "<IPython.core.display.HTML object>"
      ]
     },
     "metadata": {},
     "output_type": "display_data"
    },
    {
     "name": "stdout",
     "output_type": "stream",
     "text": [
      "INJ/USDT:USDT LONG\n",
      "{'tps': [[1729154820000, 20.663, 23.673, 20.653, 23.626, 17806.0], [1729154880000, 23.455, 23.455, 22.437, 22.499, 18899.0], [1729154940000, 22.551, 22.89, 22.411, 22.789, 67839.0], [1729155000000, 22.772, 23.095, 22.758, 22.883, 18980.0], [1729155060000, 22.991, 23.064, 22.851, 22.947, 9121.0]], 'entry_reached': [[1729145040000, 20.532, 20.534, 20.436, 20.439, 5430.0]], 'stop_loss_reached': None, 'break_reason': None}\n"
     ]
    },
    {
     "data": {
      "text/html": [
       "<p style='color:#0f0;'>********************************************************************************************************************</p>"
      ],
      "text/plain": [
       "<IPython.core.display.HTML object>"
      ]
     },
     "metadata": {},
     "output_type": "display_data"
    },
    {
     "name": "stdout",
     "output_type": "stream",
     "text": [
      "NOT/USDT:USDT LONG\n",
      "{'tps': [[1729194060000, 0.007754, 0.007763, 0.007754, 0.007763, 888353.0], [1729209960000, 0.007828, 0.007849, 0.007818, 0.007825, 2126498.0], [1729215120000, 0.007891, 0.00793, 0.007882, 0.007929, 1384203.0], [1729216560000, 0.00799, 0.00801, 0.00799, 0.008009, 2080158.0], [1729231200000, 0.008103, 0.008123, 0.008101, 0.00811, 457622.0]], 'entry_reached': [[1729188480000, 0.007696, 0.007697, 0.007669, 0.007675, 6517827.0]], 'stop_loss_reached': None, 'break_reason': None}\n"
     ]
    },
    {
     "data": {
      "text/html": [
       "<p style='color:#0f0;'>********************************************************************************************************************</p>"
      ],
      "text/plain": [
       "<IPython.core.display.HTML object>"
      ]
     },
     "metadata": {},
     "output_type": "display_data"
    },
    {
     "name": "stdout",
     "output_type": "stream",
     "text": [
      "BNB/USDT:USDT SHORT\n",
      "{'tps': [], 'entry_reached': [[1729249620000, 596.74, 596.92, 596.69, 596.89, 36.78], [1729463280000, 603.81, 604.9, 603.76, 604.25, 102.81]], 'stop_loss_reached': [1729469760000, 607.68, 608.0, 607.64, 607.93, 79.49], 'break_reason': None}\n"
     ]
    },
    {
     "data": {
      "text/html": [
       "<p style='color:#0f0;'>********************************************************************************************************************</p>"
      ],
      "text/plain": [
       "<IPython.core.display.HTML object>"
      ]
     },
     "metadata": {},
     "output_type": "display_data"
    },
    {
     "name": "stdout",
     "output_type": "stream",
     "text": [
      "ETC/USDT:USDT SHORT\n",
      "{'tps': [[1729337820000, 19.258, 19.26, 19.235, 19.235, 133.6]], 'entry_reached': [[1729296540000, 19.382, 19.407, 19.382, 19.404, 193.49], [1729307280000, 19.572, 19.586, 19.566, 19.577, 666.51]], 'stop_loss_reached': [1729365840000, 19.795, 19.832, 19.794, 19.822, 1963.16], 'break_reason': None}\n"
     ]
    },
    {
     "data": {
      "text/html": [
       "<p style='color:#0f0;'>********************************************************************************************************************</p>"
      ],
      "text/plain": [
       "<IPython.core.display.HTML object>"
      ]
     },
     "metadata": {},
     "output_type": "display_data"
    },
    {
     "name": "stdout",
     "output_type": "stream",
     "text": [
      "KAVA/USDT:USDT SHORT\n",
      "{'tps': [[1729337820000, 0.3645, 0.3647, 0.3636, 0.3638, 32039.3], [1729601100000, 0.359, 0.359, 0.3574, 0.3588, 5672.8], [1729685040000, 0.3509, 0.3509, 0.3493, 0.3495, 5445.5], [1729702080000, 0.3421, 0.3421, 0.3413, 0.3414, 11362.4], [1729897920000, 0.3291, 0.3301, 0.3285, 0.3288, 12812.9]], 'entry_reached': [[1729301040000, 0.3697, 0.3721, 0.3694, 0.3717, 38438.5], [1729395180000, 0.3851, 0.3872, 0.385, 0.3871, 18680.1]], 'stop_loss_reached': None, 'break_reason': None}\n"
     ]
    },
    {
     "data": {
      "text/html": [
       "<p style='color:#0f0;'>********************************************************************************************************************</p>"
      ],
      "text/plain": [
       "<IPython.core.display.HTML object>"
      ]
     },
     "metadata": {},
     "output_type": "display_data"
    },
    {
     "name": "stdout",
     "output_type": "stream",
     "text": [
      "GALA/USDT:USDT LONG\n",
      "{'tps': [[1729602600000, 0.02248, 0.02254, 0.02246, 0.02252, 919906.0], [1729603020000, 0.02257, 0.02264, 0.02255, 0.02262, 173528.0], [1729606260000, 0.0227, 0.02277, 0.02268, 0.02274, 369874.0], [1729618920000, 0.02292, 0.02297, 0.02291, 0.02296, 181311.0]], 'entry_reached': [[1729602540000, 0.02248, 0.0225, 0.02241, 0.02246, 1007902.0]], 'stop_loss_reached': None, 'break_reason': None}\n"
     ]
    },
    {
     "data": {
      "text/html": [
       "<p style='color:#0f0;'>********************************************************************************************************************</p>"
      ],
      "text/plain": [
       "<IPython.core.display.HTML object>"
      ]
     },
     "metadata": {},
     "output_type": "display_data"
    },
    {
     "name": "stdout",
     "output_type": "stream",
     "text": [
      "DOGS/USDT:USDT LONG\n",
      "{'tps': [[1729593120000, 0.0007245, 0.0007255, 0.0007236, 0.000724, 10200080.0], [1729599060000, 0.0007342, 0.0007353, 0.0007327, 0.0007346, 14115317.0], [1729599240000, 0.0007405, 0.0007483, 0.0007405, 0.0007467, 77889322.0]], 'entry_reached': [[1729589880000, 0.0007176, 0.0007186, 0.0007164, 0.0007165, 20448436.0], [1729683600000, 0.0007049, 0.0007054, 0.000703, 0.0007032, 67343642.0]], 'stop_loss_reached': [1729699980000, 0.0006898, 0.0006903, 0.0006878, 0.0006878, 51258077.0], 'break_reason': None}\n"
     ]
    },
    {
     "data": {
      "text/html": [
       "<p style='color:#0f0;'>********************************************************************************************************************</p>"
      ],
      "text/plain": [
       "<IPython.core.display.HTML object>"
      ]
     },
     "metadata": {},
     "output_type": "display_data"
    },
    {
     "name": "stdout",
     "output_type": "stream",
     "text": [
      "ONDO/USDT:USDT LONG\n",
      "{'tps': [[1729730820000, 0.75, 0.7522, 0.7497, 0.7514, 4754.05], [1729804260000, 0.764, 0.7659, 0.7638, 0.7659, 6513.82]], 'entry_reached': [[1729685640000, 0.7394, 0.7401, 0.7389, 0.7401, 1025.66], [1729872420000, 0.7161, 0.7163, 0.7151, 0.7158, 23970.07]], 'stop_loss_reached': [1729879200000, 0.7029, 0.7029, 0.6995, 0.7008, 140856.26], 'break_reason': None}\n"
     ]
    },
    {
     "data": {
      "text/html": [
       "<p style='color:#0f0;'>********************************************************************************************************************</p>"
      ],
      "text/plain": [
       "<IPython.core.display.HTML object>"
      ]
     },
     "metadata": {},
     "output_type": "display_data"
    },
    {
     "name": "stdout",
     "output_type": "stream",
     "text": [
      "TIA/USDT:USDT LONG\n",
      "{'tps': [[1729486680000, 5.9435, 5.9551, 5.9433, 5.9545, 2901.59], [1729486920000, 5.9769, 5.9834, 5.969, 5.983, 4517.51], [1729487100000, 5.9995, 6.0315, 5.9992, 6.0315, 1689.19]], 'entry_reached': [[1729478940000, 5.9159, 5.9171, 5.9067, 5.9162, 7750.39], [1729501260000, 5.8556, 5.8565, 5.83, 5.8404, 24679.71]], 'stop_loss_reached': [1729502220000, 5.829, 5.829, 5.804, 5.807, 7018.32], 'break_reason': None}\n"
     ]
    },
    {
     "data": {
      "text/html": [
       "<p style='color:#0f0;'>********************************************************************************************************************</p>"
      ],
      "text/plain": [
       "<IPython.core.display.HTML object>"
      ]
     },
     "metadata": {},
     "output_type": "display_data"
    },
    {
     "name": "stdout",
     "output_type": "stream",
     "text": [
      "RUNE/USDT:USDT LONG\n",
      "{'tps': [[1729541100000, 5.084, 5.087, 5.077, 5.079, 4115.0], [1729578180000, 5.122, 5.147, 5.122, 5.143, 2205.0], [1729582500000, 5.197, 5.202, 5.192, 5.198, 2260.0], [1729606320000, 5.261, 5.283, 5.26, 5.281, 4037.0], [1729778400000, 5.288, 5.393, 5.195, 5.305, 41440.0]], 'entry_reached': [[1729503180000, 5.036, 5.036, 5.024, 5.024, 4582.0], [1729518180000, 4.932, 4.941, 4.928, 4.939, 4440.0]], 'stop_loss_reached': None, 'break_reason': None}\n"
     ]
    },
    {
     "data": {
      "text/html": [
       "<p style='color:#0f0;'>********************************************************************************************************************</p>"
      ],
      "text/plain": [
       "<IPython.core.display.HTML object>"
      ]
     },
     "metadata": {},
     "output_type": "display_data"
    },
    {
     "name": "stdout",
     "output_type": "stream",
     "text": [
      "USTC/USDT:USDT LONG\n",
      "{'tps': [], 'entry_reached': [[1729585200000, 0.0236, 0.02362, 0.02348, 0.02351, 635102.0], [1729587960000, 0.02311, 0.02312, 0.023, 0.023, 757536.0]], 'stop_loss_reached': [1729604880000, 0.02267, 0.0227, 0.02258, 0.02261, 1814907.0], 'break_reason': None}\n"
     ]
    },
    {
     "data": {
      "text/html": [
       "<p style='color:#0f0;'>********************************************************************************************************************</p>"
      ],
      "text/plain": [
       "<IPython.core.display.HTML object>"
      ]
     },
     "metadata": {},
     "output_type": "display_data"
    },
    {
     "name": "stdout",
     "output_type": "stream",
     "text": [
      "ONE/USDT:USDT LONG\n"
     ]
    },
    {
     "data": {
      "text/html": [
       "<p style='color:#c01;'>json, 1730838600000</p>"
      ],
      "text/plain": [
       "<IPython.core.display.HTML object>"
      ]
     },
     "metadata": {},
     "output_type": "display_data"
    },
    {
     "data": {
      "text/html": [
       "<p style='color:#ada;'>saving historic tohlcv data to json</p>"
      ],
      "text/plain": [
       "<IPython.core.display.HTML object>"
      ]
     },
     "metadata": {},
     "output_type": "display_data"
    },
    {
     "name": "stdout",
     "output_type": "stream",
     "text": [
      "{'tps': [], 'entry_reached': [[1729671540000, 0.01343, 0.01343, 0.0134, 0.0134, 560616.0], [1729696380000, 0.01304, 0.01304, 0.013, 0.013, 140919.0]], 'stop_loss_reached': [1729702440000, 0.01286, 0.01286, 0.01281, 0.01281, 1147517.0], 'break_reason': None}\n"
     ]
    },
    {
     "data": {
      "text/html": [
       "<p style='color:#0f0;'>********************************************************************************************************************</p>"
      ],
      "text/plain": [
       "<IPython.core.display.HTML object>"
      ]
     },
     "metadata": {},
     "output_type": "display_data"
    },
    {
     "name": "stdout",
     "output_type": "stream",
     "text": [
      "DOGS/USDT:USDT LONG\n",
      "{'tps': [], 'entry_reached': [[1729696380000, 0.0007012, 0.0007012, 0.0007002, 0.0007002, 15339161.0], [1729697400000, 0.0006917, 0.0006923, 0.0006892, 0.0006923, 65313683.0]], 'stop_loss_reached': [1729706160000, 0.0006843, 0.0006843, 0.0006809, 0.0006814, 80086875.0], 'break_reason': None}\n"
     ]
    },
    {
     "data": {
      "text/html": [
       "<p style='color:#0f0;'>********************************************************************************************************************</p>"
      ],
      "text/plain": [
       "<IPython.core.display.HTML object>"
      ]
     },
     "metadata": {},
     "output_type": "display_data"
    },
    {
     "data": {
      "text/html": [
       "<p style='color:#FFFF00;'>waiting 5 min...</p>"
      ],
      "text/plain": [
       "<IPython.core.display.HTML object>"
      ]
     },
     "metadata": {},
     "output_type": "display_data"
    },
    {
     "data": {
      "text/plain": [
       "True"
      ]
     },
     "execution_count": 3,
     "metadata": {},
     "output_type": "execute_result"
    }
   ],
   "source": [
    "\n",
    "# اول فروردین = 2024/3/20\n",
    "# end_date = datetime(2024, 3, 20, tzinfo=timezone.utc)\n",
    "# اول خرداد = 2024/5/21\n",
    "# end_date = datetime(2024, 5, 21, tzinfo=timezone.utc)\n",
    "# start_date = datetime(2024, 5, 29, tzinfo=timezone.utc)\n",
    "# اول تیر = 2024/6/21\n",
    "# start_date = datetime(2024, 6, 21, tzinfo=timezone.utc)\n",
    "# end_date = datetime(2024, 9, 7, tzinfo=timezone.utc)\n",
    "\n",
    "\n",
    "# await statistic_fey.FindStatistic(2024, 9, 7)\n",
    "# 1709889120000 1709975340000\n",
    "# offset_date = int(convertDateToMilliTimeStamp(year=2024, month=4, day=30, hour=0, minute=0))/1000\n",
    "\n",
    "await fey.FindStatistic(year=2023, month=11, day=5, \n",
    "                        # offset_date=offset_date\n",
    "                        )\n",
    "    "
   ]
  }
 ],
 "metadata": {
  "kernelspec": {
   "display_name": ".venv",
   "language": "python",
   "name": "python3"
  },
  "language_info": {
   "codemirror_mode": {
    "name": "ipython",
    "version": 3
   },
   "file_extension": ".py",
   "mimetype": "text/x-python",
   "name": "python",
   "nbconvert_exporter": "python",
   "pygments_lexer": "ipython3",
   "version": "3.12.6"
  }
 },
 "nbformat": 4,
 "nbformat_minor": 2
}
