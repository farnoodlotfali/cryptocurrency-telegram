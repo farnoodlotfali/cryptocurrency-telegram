{
 "cells": [
  {
   "cell_type": "code",
   "execution_count": 1,
   "metadata": {},
   "outputs": [],
   "source": [
    "import django\n",
    "import os\n",
    "import sys\n",
    "import shutil\n",
    "\n",
    "path='../../'\n",
    "\n",
    "source_file_path = f'{path}.env'\n",
    "\n",
    "destination_file_path = '.'\n",
    "\n",
    "shutil.copy(source_file_path, destination_file_path)\n",
    "\n",
    "project_path = path  # Adjust this to your actual project path\n",
    "sys.path.append(project_path)\n",
    "os.environ.setdefault('DJANGO_SETTINGS_MODULE', 'oogway.settings')\n",
    "django.setup()\n"
   ]
  },
  {
   "cell_type": "code",
   "execution_count": 2,
   "metadata": {},
   "outputs": [],
   "source": [
    "from Channels.AliBeyroChannel import AliBeyroChannel\n",
    "from Shared.helpers import print_colored"
   ]
  },
  {
   "cell_type": "code",
   "execution_count": 3,
   "metadata": {},
   "outputs": [
    {
     "name": "stdout",
     "output_type": "stream",
     "text": [
      "Error in position or take-profit\n"
     ]
    },
    {
     "data": {
      "text/html": [
       "<p style='color:#f00f00fc;'>number: 1 res: (False, 'Error in position or take-profit')</p>"
      ],
      "text/plain": [
       "<IPython.core.display.HTML object>"
      ]
     },
     "metadata": {},
     "output_type": "display_data"
    },
    {
     "name": "stdout",
     "output_type": "stream",
     "text": [
      "****************************************************************\n",
      "\n",
      "\n",
      "isPredict: True\n",
      "symbol: AAVE/USDT:USDT\n",
      "market: FUTURES\n",
      "position: SHORT\n",
      "marginMode: ISOLATED\n",
      "leverage: 5\n",
      "stopLoss: 107.89\n",
      "entries: [97.55, 104.0]\n",
      "profits: [94.9, 93.5, 92.0, 90.5, 89.4, 88.3, 87.0, 85.0, 82.0, 80.0, 77.0, 74.0, 70.0, 65.0]\n"
     ]
    },
    {
     "data": {
      "text/html": [
       "<p style='color:#0ff;'>number: 2 res: (True, '')</p>"
      ],
      "text/plain": [
       "<IPython.core.display.HTML object>"
      ]
     },
     "metadata": {},
     "output_type": "display_data"
    },
    {
     "name": "stdout",
     "output_type": "stream",
     "text": [
      "****************************************************************\n",
      "\n",
      "\n",
      "isPredict: True\n",
      "symbol: EGLD/USDT:USDT\n",
      "market: FUTURES\n",
      "position: SHORT\n",
      "marginMode: ISOLATED\n",
      "leverage: 5\n",
      "stopLoss: 38.92\n",
      "entries: [35.88, 37.8]\n",
      "profits: [35.0, 34.3, 33.7, 33.1, 32.5, 32.0, 31.5, 31.0, 30.8, 30.4, 30.0, 29.0, 28.2, 27.5, 26.0]\n"
     ]
    },
    {
     "data": {
      "text/html": [
       "<p style='color:#0ff;'>number: 3 res: (True, '')</p>"
      ],
      "text/plain": [
       "<IPython.core.display.HTML object>"
      ]
     },
     "metadata": {},
     "output_type": "display_data"
    },
    {
     "name": "stdout",
     "output_type": "stream",
     "text": [
      "****************************************************************\n",
      "\n",
      "\n",
      "isPredict: True\n",
      "symbol: BTC/USDT:USDT\n",
      "market: FUTURES\n",
      "position: SHORT\n",
      "marginMode: ISOLATED\n",
      "leverage: 5\n",
      "stopLoss: 66250.0\n",
      "entries: [63000.0, 65300.0]\n",
      "profits: [62400.0, 61900.0, 61000.0, 60000.0, 59100.0, 58000.0, 56000.0, 54000.0, 52000.0, 50000.0, 48000.0, 44000.0, 40000.0]\n"
     ]
    },
    {
     "data": {
      "text/html": [
       "<p style='color:#0ff;'>number: 4 res: (True, '')</p>"
      ],
      "text/plain": [
       "<IPython.core.display.HTML object>"
      ]
     },
     "metadata": {},
     "output_type": "display_data"
    },
    {
     "name": "stdout",
     "output_type": "stream",
     "text": [
      "****************************************************************\n",
      "\n",
      "\n",
      "isPredict: True\n",
      "symbol: SNX/USDT:USDT\n",
      "market: FUTURES\n",
      "position: LONG\n",
      "marginMode: ISOLATED\n",
      "leverage: 2\n",
      "stopLoss: 2.37\n",
      "entries: [2.865, 2.533]\n",
      "profits: [3.0, 3.12, 3.26, 3.4, 3.58, 3.67, 3.78, 3.9, 4.2, 4.46, 4.7, 4.92, 5.3, 5.7, 6.0, 6.3, 6.8]\n"
     ]
    },
    {
     "data": {
      "text/html": [
       "<p style='color:#0ff;'>number: 5 res: (True, '')</p>"
      ],
      "text/plain": [
       "<IPython.core.display.HTML object>"
      ]
     },
     "metadata": {},
     "output_type": "display_data"
    },
    {
     "name": "stdout",
     "output_type": "stream",
     "text": [
      "****************************************************************\n",
      "\n",
      "\n",
      "isPredict: True\n",
      "symbol: THETA/USDT:USDT\n",
      "market: FUTURES\n",
      "position: LONG\n",
      "marginMode: ISOLATED\n",
      "leverage: 2\n",
      "stopLoss: 1.84\n",
      "entries: [2.3, 1.99]\n",
      "profits: [2.4, 2.48, 2.56, 2.67, 2.75, 2.85, 2.94, 3.0, 3.1, 3.23, 3.4, 3.7, 4.0, 4.5, 5.0, 5.4, 5.8, 6.5, 7.2]\n"
     ]
    },
    {
     "data": {
      "text/html": [
       "<p style='color:#0ff;'>number: 6 res: (True, '')</p>"
      ],
      "text/plain": [
       "<IPython.core.display.HTML object>"
      ]
     },
     "metadata": {},
     "output_type": "display_data"
    },
    {
     "name": "stdout",
     "output_type": "stream",
     "text": [
      "****************************************************************\n",
      "\n",
      "\n"
     ]
    }
   ],
   "source": [
    "msg = \"📣Futures Call Scalp 15min\\n\\n  💹LONG\\n\\n📌 #BTCUSDT\\n\\n💰 Entry: 57300-56000\\n\\n🏹 TP:57800-58200-58600-59000\\n59500-60000-60500-61000\\n\\n🧨 Stop : 54980\\n\\n⚖️ Leverage:10X-20X\\n\\n✅ Capital %: 3-5\\n\\nمیتونه یه پولبک‌بزنه و‌نوسانشو بگیریم\\n1403.04.15\\n〰️〰️〰️〰️〰️〰️〰️\"\n",
    "msg1 = \"📣 Futures Call Scalp\\n\\n  💹SHORT\\n\\n📌 #TRXUSDT\\n\\n💰 Entry: 0.12912-0.137\\n\\n🏹 TP:0.126-0.123-0.12-0.188-0.161-0.13\\n0.109-0.105-0.103-0.1-0.095-0.089-0.08-0.07\\n\\n🧨 Stop : 0.146\\n\\n⚖️ Leverage: 3x-5X-8X\\n\\n✅ Capital %: 3-5\\n\\n\\n1403.04.17\\n〰️〰️〰️〰️〰️〰️〰️\"\n",
    "msg2 =  \"📣 Futures Call Scalp\\n\\n  💹SHORT\\n\\n📌 #AAVEUSDT\\n\\n💰 Entry: 97.55-104\\n\\n🏹 TP:94.9-93.5-92-90.5-89.4-88.3-87-85-82-80-77-74-70-65\\n\\n🧨 Stop : 107.89\\n\\n⚖️ Leverage: 5X-8x-10X\\n\\n✅ Capital %: 3\\n\\nسیگنال قبل سود خوبی دادمجدد میشه وارد شد\\nزیر این سطح سلریم\\n\\n1403.04.24\\n〰️〰️〰️〰️〰️〰️〰️\\n‌‌\"\n",
    "msg3 =  \"📣 Futures Call Scalp \\n\\n  💹SHORT\\n\\n📌 #EGLDUSDT\\n\\n💰 Entry: 35.88-37.8\\n\\n🏹 TP:35-34.3-33.7-33.1-32.5-32-31.5-31\\n-30.8-30.4-30-29-28.2-27.5-26\\n\\n🧨 Stop : 38.92\\n\\n⚖️ Leverage: 5X-10X\\n\\n✅ Capital %: 3\\n\\nخب هردو پله ورود فعال شد با میانگین 35.72 فعال شد تارگتهارو اپدیت میکنم دوستانیم که ندارن میتونن استفاده کنند.بالا زدنشم طبق مسیر بوده\\nمادامی که بالای ترند تثبیت نده پایین میزنه\\n\\n1403.04.25\\n〰️〰️〰️〰️〰️〰️〰️\\n‌‌\"\n",
    "msg4 = \"📣 Futures Call Scalp\\n\\n  💹SHORT\\n\\n📌 #Btcusdt\\n\\n💰 Entry: 63000-65300\\n\\n🏹 TP:62400-61900-61000-60000-59100-58000-56000-54000-52000-50000-48000-44000-40000\\n\\n🧨 Stop : 66250کلوز\\n\\n⚖️ Leverage: 5X-10X-15X\\n\\n✅ Capital %: 3\\n\\nموج۴ تحلیل قبل مثلث بود که‌تغییر ساختار داد\\nحالا دیگه بنظرم  حتی میتونه سطح۵۲-۵۰ هم‌بشکنه و حمایت نشه \\n\\n1403.04.25\\n〰️〰️〰️〰️〰️〰️〰️\\n‌‌\"\n",
    "msg5 = \"📣Futures Call\\n\\n  💹LONG\\n\\n📌 #SNXUSDT\\n\\n💰 Entry: 2.865-2.533\\n\\n🏹 TP:3-3.12-3.26-3.4-3.58-3.67-3.78-3.9-4.2-4.46-4.7-4.92-5.3-5.7-6-6.3-6.8\\n\\n🧨 Stop : کلوز‌2.37\\n\\n⚖️ Leverage: 2x-3x-5X\\n\\n✅ Capital %: 3-5\\n\\n\\nسیگنال قبل سود خوبی داد بنظرم برگشتها پولبکه\\n1403.03.03\\n〰️〰️〰️〰️〰️〰️〰️\"\n",
    "msg6 =  \"📣Futures Call\\n\\n  💹LONG\\n\\n📌 #THETAUSDT\\n\\n💰 Entry: 2.3-1.99\\n\\n🏹 TP:2.4-2.48-2.56-2.67-2.75-2.85-2.94-3\\n3.1-3.23-3.4-3.7-4-4.5-5-5.4-5.8-6.5-7.2\\n\\n🧨 Stop : کلوز‌1.84\\n\\n⚖️ Leverage: 2x-3x-4X\\n\\n✅ Capital %: 3-5\\n\\nتتا دو‌حرکت بزرگشو‌گرفتیم از کف که‌لانگ دادیم \\n365% رشد داشت و سقف سلمون 57% ریزش اسپات حالا بنظر موج 4 اصلاحی تموم شده و‌اماده رشد در قالب موج 5 باشه\\n\\n1403.03.19\\n〰️〰️〰️〰️〰️〰️〰️\"\n",
    "\n",
    "\n",
    "\n",
    "aliBey = AliBeyroChannel()\n",
    "\n",
    "# string = msg6\n",
    "# res, res_msg = await aliBey.test(string,True)\n",
    "# print(res, msg)\n",
    "messages = [msg1, msg2, msg3, msg4, msg5, msg6]\n",
    "\n",
    "\n",
    "for i, msgTest in enumerate(messages):\n",
    "    res = await aliBey.test(msg=msgTest, showPrint=True)\n",
    "    print_colored(f'number: {i+1} res: {res}', \"#0ff\" if res[0] else \"#f00f00fc\" )\n",
    "    print(\"****************************************************************\\n\\n\")\n"
   ]
  }
 ],
 "metadata": {
  "kernelspec": {
   "display_name": ".venv",
   "language": "python",
   "name": "python3"
  },
  "language_info": {
   "codemirror_mode": {
    "name": "ipython",
    "version": 3
   },
   "file_extension": ".py",
   "mimetype": "text/x-python",
   "name": "python",
   "nbconvert_exporter": "python",
   "pygments_lexer": "ipython3",
   "version": "3.12.6"
  }
 },
 "nbformat": 4,
 "nbformat_minor": 2
}
