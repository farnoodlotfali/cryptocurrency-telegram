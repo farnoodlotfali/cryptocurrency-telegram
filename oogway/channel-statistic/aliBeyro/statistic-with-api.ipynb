{
 "cells": [
  {
   "cell_type": "code",
   "execution_count": null,
   "metadata": {},
   "outputs": [],
   "source": [
    "import django\n",
    "import os\n",
    "import sys\n",
    "import shutil\n",
    "\n",
    "path='../../'\n",
    "\n",
    "source_file_path = f'{path}.env'\n",
    "\n",
    "destination_file_path = '.'\n",
    "\n",
    "shutil.copy(source_file_path, destination_file_path)\n",
    "\n",
    "from dotenv import dotenv_values\n",
    "\n",
    "_config = dotenv_values(\".env\")\n",
    "_username = _config[\"username\"]\n",
    "\n",
    "session_file_path = f'{path}{_username}.session'\n",
    "\n",
    "shutil.copy(session_file_path, destination_file_path)\n",
    "\n",
    "\n",
    "project_path = path  # Adjust this to your actual project path\n",
    "sys.path.append(project_path)\n",
    "os.environ.setdefault('DJANGO_SETTINGS_MODULE', 'oogway.settings')\n",
    "django.setup()\n"
   ]
  },
  {
   "cell_type": "code",
   "execution_count": null,
   "metadata": {},
   "outputs": [],
   "source": [
    "import warnings\n",
    "from Channels.AliBeyroChannel import AliBeyroChannel\n",
    "from Shared.Exchange import exchange\n",
    "from Shared.helpers import convertDateToMilliTimeStamp, zero_hours_minutes_seconds\n",
    "from Shared.dataIO import load_historic_tohlcv_json\n",
    "from bisect import bisect_left\n",
    "\n",
    "aliBey = AliBeyroChannel()\n",
    "\n",
    "\n",
    "# Disable all warnings\n",
    "warnings.filterwarnings(\"ignore\")"
   ]
  },
  {
   "cell_type": "markdown",
   "metadata": {},
   "source": [
    "## Get channel history"
   ]
  },
  {
   "cell_type": "code",
   "execution_count": 3,
   "metadata": {},
   "outputs": [
    {
     "data": {
      "text/html": [
       "<p style='color:#fd03a1;'>stop_timestamp</p>"
      ],
      "text/plain": [
       "<IPython.core.display.HTML object>"
      ]
     },
     "metadata": {},
     "output_type": "display_data"
    },
    {
     "data": {
      "text/html": [
       "<p style='color:#ada;'>saving historic tohlcv data to json</p>"
      ],
      "text/plain": [
       "<IPython.core.display.HTML object>"
      ]
     },
     "metadata": {},
     "output_type": "display_data"
    },
    {
     "name": "stdout",
     "output_type": "stream",
     "text": [
      "{'tps': [[1725229920000, 1.3637, 1.3643, 1.36, 1.3624, 29117.4], [1725411600000, 1.3275, 1.3277, 1.3172, 1.3182, 87544.6], [1725411780000, 1.2959, 1.2979, 1.2755, 1.2846, 292642.2]], 'entry_reached': [[1725183360000, 1.4089, 1.4105, 1.4088, 1.4104, 5511.8], [1725911340000, 1.5162, 1.5183, 1.5132, 1.5138, 53730.4]], 'stop_loss_reached': [1725968760000, 1.5807, 1.5852, 1.5805, 1.5838, 3631.4], 'break_reason': None}\n"
     ]
    },
    {
     "data": {
      "text/html": [
       "<p style='color:#0f0;'>********************************************************************************************************************</p>"
      ],
      "text/plain": [
       "<IPython.core.display.HTML object>"
      ]
     },
     "metadata": {},
     "output_type": "display_data"
    },
    {
     "name": "stdout",
     "output_type": "stream",
     "text": [
      "DUSK/USDT:USDT SHORT\n"
     ]
    },
    {
     "data": {
      "text/html": [
       "<p style='color:#c01;'>json, 1725136200000</p>"
      ],
      "text/plain": [
       "<IPython.core.display.HTML object>"
      ]
     },
     "metadata": {},
     "output_type": "display_data"
    },
    {
     "name": "stdout",
     "output_type": "stream",
     "text": [
      "APT/USDT:USDT SHORT\n"
     ]
    },
    {
     "data": {
      "text/html": [
       "<p style='color:#c01;'>json, 1725309000000</p>"
      ],
      "text/plain": [
       "<IPython.core.display.HTML object>"
      ]
     },
     "metadata": {},
     "output_type": "display_data"
    },
    {
     "data": {
      "text/html": [
       "<p style='color:#fd03a1;'>stop_timestamp</p>"
      ],
      "text/plain": [
       "<IPython.core.display.HTML object>"
      ]
     },
     "metadata": {},
     "output_type": "display_data"
    },
    {
     "data": {
      "text/html": [
       "<p style='color:#ada;'>saving historic tohlcv data to json</p>"
      ],
      "text/plain": [
       "<IPython.core.display.HTML object>"
      ]
     },
     "metadata": {},
     "output_type": "display_data"
    },
    {
     "name": "stdout",
     "output_type": "stream",
     "text": [
      "{'tps': [[1725355680000, 6.2463, 6.2463, 6.2151, 6.2212, 2192.6], [1725372300000, 6.1211, 6.1212, 6.1057, 6.1128, 1971.4], [1725411660000, 6.0035, 6.0128, 5.9489, 5.9525, 29692.4], [1725411720000, 5.9654, 5.9705, 5.8889, 5.904, 50077.7], [1725547860000, 5.7662, 5.7662, 5.7453, 5.7491, 14432.1], [1725654120000, 5.6315, 5.643, 5.6298, 5.6298, 4531.0], [1725656400000, 5.5288, 5.5289, 5.4868, 5.5037, 4879.2]], 'entry_reached': [[1725329340000, 6.4175, 6.4484, 6.4175, 6.4437, 690.9], [1726950600000, 8.163, 8.1683, 8.1573, 8.1574, 15114.9]], 'stop_loss_reached': [1726950660000, 8.1576, 8.1577, 8.154, 8.1541, 8544.2], 'break_reason': None}\n"
     ]
    },
    {
     "data": {
      "text/html": [
       "<p style='color:#0f0;'>********************************************************************************************************************</p>"
      ],
      "text/plain": [
       "<IPython.core.display.HTML object>"
      ]
     },
     "metadata": {},
     "output_type": "display_data"
    },
    {
     "name": "stdout",
     "output_type": "stream",
     "text": [
      "RUNE/USDT:USDT SHORT\n"
     ]
    },
    {
     "data": {
      "text/html": [
       "<p style='color:#c01;'>json, 1725741000000</p>"
      ],
      "text/plain": [
       "<IPython.core.display.HTML object>"
      ]
     },
     "metadata": {},
     "output_type": "display_data"
    },
    {
     "data": {
      "text/html": [
       "<p style='color:#fd03a1;'>stop_timestamp</p>"
      ],
      "text/plain": [
       "<IPython.core.display.HTML object>"
      ]
     },
     "metadata": {},
     "output_type": "display_data"
    },
    {
     "data": {
      "text/html": [
       "<p style='color:#ada;'>saving historic tohlcv data to json</p>"
      ],
      "text/plain": [
       "<IPython.core.display.HTML object>"
      ]
     },
     "metadata": {},
     "output_type": "display_data"
    },
    {
     "name": "stdout",
     "output_type": "stream",
     "text": [
      "{'tps': [[1725379080000, 3.91, 3.91, 3.895, 3.903, 5920.0], [1725411660000, 3.773, 3.781, 3.736, 3.736, 19813.0], [1725411780000, 3.724, 3.729, 3.685, 3.699, 35982.0], [1725450840000, 3.633, 3.635, 3.628, 3.628, 5223.0], [1725550080000, 3.561, 3.562, 3.547, 3.548, 3901.0], [1725640260000, 3.474, 3.477, 3.469, 3.474, 5057.0], [1725647880000, 3.418, 3.418, 3.393, 3.405, 5338.0], [1725656400000, 3.321, 3.323, 3.292, 3.307, 12366.0]], 'entry_reached': [[1725358860000, 4.056, 4.085, 4.054, 4.078, 9168.0], [1726731840000, 4.438, 4.444, 4.435, 4.443, 3563.0]], 'stop_loss_reached': [1726927320000, 4.627, 4.632, 4.621, 4.621, 6880.0], 'break_reason': None}\n"
     ]
    },
    {
     "data": {
      "text/html": [
       "<p style='color:#0f0;'>********************************************************************************************************************</p>"
      ],
      "text/plain": [
       "<IPython.core.display.HTML object>"
      ]
     },
     "metadata": {},
     "output_type": "display_data"
    },
    {
     "name": "stdout",
     "output_type": "stream",
     "text": [
      "RUNE/USDT:USDT SHORT\n",
      "{'tps': [[1726148760000, 3.872, 3.872, 3.845, 3.85, 4496.0]], 'entry_reached': [[1725987240000, 3.955, 3.96, 3.954, 3.96, 3088.0], [1726704120000, 4.348, 4.363, 4.344, 4.357, 11922.0]], 'stop_loss_reached': [1726927200000, 4.581, 4.613, 4.58, 4.611, 7976.0], 'break_reason': None}\n"
     ]
    },
    {
     "data": {
      "text/html": [
       "<p style='color:#0f0;'>********************************************************************************************************************</p>"
      ],
      "text/plain": [
       "<IPython.core.display.HTML object>"
      ]
     },
     "metadata": {},
     "output_type": "display_data"
    },
    {
     "name": "stdout",
     "output_type": "stream",
     "text": [
      "LTC/USDT:USDT SHORT\n",
      "{'tps': [[1725459660000, 64.3, 64.3, 64.15, 64.15, 574.4], [1725649080000, 63.06, 63.06, 62.87, 62.92, 457.6], [1725655860000, 62.14, 62.19, 62.0, 62.1, 1772.3], [1725800460000, 61.08, 61.09, 60.78, 60.84, 1494.4], [1725832440000, 60.22, 60.25, 59.87, 59.94, 4120.7]], 'entry_reached': [[1725438180000, 65.73, 65.9, 65.73, 65.87, 292.5], [1729009260000, 67.85, 69.12, 67.83, 69.05, 12293.1]], 'stop_loss_reached': [1729038000000, 72.62, 72.81, 72.61, 72.81, 986.2], 'break_reason': None}\n"
     ]
    },
    {
     "data": {
      "text/html": [
       "<p style='color:#0f0;'>********************************************************************************************************************</p>"
      ],
      "text/plain": [
       "<IPython.core.display.HTML object>"
      ]
     },
     "metadata": {},
     "output_type": "display_data"
    },
    {
     "name": "stdout",
     "output_type": "stream",
     "text": [
      "SAGA/USDT:USDT SHORT\n"
     ]
    },
    {
     "data": {
      "text/html": [
       "<p style='color:#c01;'>json, 1725568200000</p>"
      ],
      "text/plain": [
       "<IPython.core.display.HTML object>"
      ]
     },
     "metadata": {},
     "output_type": "display_data"
    },
    {
     "data": {
      "text/html": [
       "<p style='color:#fd03a1;'>stop_timestamp</p>"
      ],
      "text/plain": [
       "<IPython.core.display.HTML object>"
      ]
     },
     "metadata": {},
     "output_type": "display_data"
    },
    {
     "data": {
      "text/html": [
       "<p style='color:#ada;'>saving historic tohlcv data to json</p>"
      ],
      "text/plain": [
       "<IPython.core.display.HTML object>"
      ]
     },
     "metadata": {},
     "output_type": "display_data"
    },
    {
     "name": "stdout",
     "output_type": "stream",
     "text": [
      "{'tps': [[1725631380000, 1.3157, 1.317, 1.3094, 1.3143, 166786.86], [1725655920000, 1.2747, 1.2747, 1.2651, 1.2654, 18322.09]], 'entry_reached': [[1725620160000, 1.3433, 1.346, 1.3431, 1.3453, 2399.91], [1725782100000, 1.4552, 1.4598, 1.4549, 1.4596, 7363.96]], 'stop_loss_reached': [1725916500000, 1.4952, 1.5263, 1.4929, 1.5244, 19660.08], 'break_reason': None}\n"
     ]
    },
    {
     "data": {
      "text/html": [
       "<p style='color:#0f0;'>********************************************************************************************************************</p>"
      ],
      "text/plain": [
       "<IPython.core.display.HTML object>"
      ]
     },
     "metadata": {},
     "output_type": "display_data"
    },
    {
     "name": "stdout",
     "output_type": "stream",
     "text": [
      "ETH/USDT:USDT LONG\n",
      "{'tps': [[1725692040000, 2275.71, 2281.39, 2275.48, 2277.26, 854.42], [1725834240000, 2316.86, 2321.43, 2315.13, 2319.83, 2928.53], [1725916500000, 2357.67, 2379.92, 2355.3, 2375.33, 3445.34], [1726249560000, 2415.27, 2424.97, 2415.06, 2420.0, 1046.33], [1726764780000, 2475.46, 2482.35, 2475.46, 2479.96, 506.28], [1726805280000, 2530.3, 2541.96, 2530.28, 2538.97, 1300.81], [1726878180000, 2577.31, 2581.75, 2572.28, 2573.97, 1608.12]], 'entry_reached': [[1725650580000, 2231.86, 2231.86, 2227.98, 2229.39, 214.95]], 'stop_loss_reached': None, 'break_reason': None}\n"
     ]
    },
    {
     "data": {
      "text/html": [
       "<p style='color:#0f0;'>********************************************************************************************************************</p>"
      ],
      "text/plain": [
       "<IPython.core.display.HTML object>"
      ]
     },
     "metadata": {},
     "output_type": "display_data"
    },
    {
     "name": "stdout",
     "output_type": "stream",
     "text": [
      "BTC/USDT:USDT LONG\n"
     ]
    },
    {
     "data": {
      "text/html": [
       "<p style='color:#c01;'>json, 1725654600000</p>"
      ],
      "text/plain": [
       "<IPython.core.display.HTML object>"
      ]
     },
     "metadata": {},
     "output_type": "display_data"
    },
    {
     "data": {
      "text/html": [
       "<p style='color:#fd03a1;'>stop_timestamp</p>"
      ],
      "text/plain": [
       "<IPython.core.display.HTML object>"
      ]
     },
     "metadata": {},
     "output_type": "display_data"
    },
    {
     "data": {
      "text/html": [
       "<p style='color:#ada;'>saving historic tohlcv data to json</p>"
      ],
      "text/plain": [
       "<IPython.core.display.HTML object>"
      ]
     },
     "metadata": {},
     "output_type": "display_data"
    },
    {
     "name": "stdout",
     "output_type": "stream",
     "text": [
      "{'tps': [[1725658260000, 53371.3, 53475.8, 53370.9, 53465.8, 53.79], [1725661080000, 53776.9, 53803.4, 53776.9, 53789.5, 28.2], [1725685620000, 54166.4, 54244.0, 54165.9, 54209.0, 109.05], [1725713400000, 54560.1, 54626.4, 54555.1, 54562.4, 93.68], [1725834000000, 54915.9, 55025.1, 54910.0, 54982.1, 111.99], [1725898380000, 55959.4, 56010.2, 55907.9, 55939.0, 368.28]], 'entry_reached': [[1725656400000, 52852.1, 52855.7, 52493.1, 52614.8, 188.05]], 'stop_loss_reached': None, 'break_reason': None}\n"
     ]
    },
    {
     "data": {
      "text/html": [
       "<p style='color:#0f0;'>********************************************************************************************************************</p>"
      ],
      "text/plain": [
       "<IPython.core.display.HTML object>"
      ]
     },
     "metadata": {},
     "output_type": "display_data"
    },
    {
     "name": "stdout",
     "output_type": "stream",
     "text": [
      "ETH/USDT:USDT SHORT\n",
      "{'tps': [[1725743400000, 2265.62, 2265.63, 2256.0, 2259.66, 710.22], [1725811140000, 2244.12, 2244.43, 2239.1, 2244.13, 2166.29]], 'entry_reached': [[1725708300000, 2285.62, 2286.0, 2284.97, 2285.65, 195.24], [1725898380000, 2333.86, 2344.0, 2332.69, 2334.98, 4400.81]], 'stop_loss_reached': [1725916500000, 2357.67, 2379.92, 2355.3, 2375.33, 3445.34], 'break_reason': None}\n"
     ]
    },
    {
     "data": {
      "text/html": [
       "<p style='color:#0f0;'>********************************************************************************************************************</p>"
      ],
      "text/plain": [
       "<IPython.core.display.HTML object>"
      ]
     },
     "metadata": {},
     "output_type": "display_data"
    },
    {
     "name": "stdout",
     "output_type": "stream",
     "text": [
      "SAGA/USDT:USDT SHORT\n",
      "{'tps': [[1725808440000, 1.3812, 1.3814, 1.3774, 1.3777, 15795.45], [1725849720000, 1.3509, 1.3518, 1.3436, 1.3462, 12385.89], [1726230060000, 1.3121, 1.3121, 1.3079, 1.3099, 24662.54]], 'entry_reached': [[1725741660000, 1.4275, 1.4285, 1.4273, 1.4285, 2882.65], [1726275540000, 1.5422, 1.5573, 1.5422, 1.5542, 15277.12]], 'stop_loss_reached': [1726284720000, 1.602, 1.6293, 1.6019, 1.6207, 17648.37], 'break_reason': None}\n"
     ]
    },
    {
     "data": {
      "text/html": [
       "<p style='color:#0f0;'>********************************************************************************************************************</p>"
      ],
      "text/plain": [
       "<IPython.core.display.HTML object>"
      ]
     },
     "metadata": {},
     "output_type": "display_data"
    },
    {
     "name": "stdout",
     "output_type": "stream",
     "text": [
      "LINK/USDT:USDT SHORT\n"
     ]
    },
    {
     "data": {
      "text/html": [
       "<p style='color:#c01;'>json, 1725741000000</p>"
      ],
      "text/plain": [
       "<IPython.core.display.HTML object>"
      ]
     },
     "metadata": {},
     "output_type": "display_data"
    },
    {
     "data": {
      "text/html": [
       "<p style='color:#fd03a1;'>stop_timestamp</p>"
      ],
      "text/plain": [
       "<IPython.core.display.HTML object>"
      ]
     },
     "metadata": {},
     "output_type": "display_data"
    },
    {
     "data": {
      "text/html": [
       "<p style='color:#ada;'>saving historic tohlcv data to json</p>"
      ],
      "text/plain": [
       "<IPython.core.display.HTML object>"
      ]
     },
     "metadata": {},
     "output_type": "display_data"
    },
    {
     "name": "stdout",
     "output_type": "stream",
     "text": [
      "{'tps': [[1725799740000, 10.199, 10.199, 10.183, 10.193, 4090.4]], 'entry_reached': [[1725781140000, 10.292, 10.305, 10.292, 10.303, 3785.9], [1726261800000, 11.459, 11.517, 11.458, 11.478, 10317.5]], 'stop_loss_reached': [1727215980000, 12.019, 12.044, 12.019, 12.039, 2214.3], 'break_reason': None}\n"
     ]
    },
    {
     "data": {
      "text/html": [
       "<p style='color:#0f0;'>********************************************************************************************************************</p>"
      ],
      "text/plain": [
       "<IPython.core.display.HTML object>"
      ]
     },
     "metadata": {},
     "output_type": "display_data"
    },
    {
     "name": "stdout",
     "output_type": "stream",
     "text": [
      "ETH/USDT:USDT SHORT\n",
      "{'tps': [[1725808620000, 2264.34, 2264.88, 2256.05, 2257.19, 1445.35], [1725811140000, 2244.12, 2244.43, 2239.1, 2244.13, 2166.29]], 'entry_reached': [[1725786240000, 2297.85, 2299.42, 2297.83, 2299.01, 214.65], [1725916500000, 2357.67, 2379.92, 2355.3, 2375.33, 3445.34]], 'stop_loss_reached': [1726263180000, 2431.48, 2445.79, 2431.08, 2443.24, 536.75], 'break_reason': None}\n"
     ]
    },
    {
     "data": {
      "text/html": [
       "<p style='color:#0f0;'>********************************************************************************************************************</p>"
      ],
      "text/plain": [
       "<IPython.core.display.HTML object>"
      ]
     },
     "metadata": {},
     "output_type": "display_data"
    },
    {
     "name": "stdout",
     "output_type": "stream",
     "text": [
      "BNB/USDT:USDT SHORT\n"
     ]
    },
    {
     "data": {
      "text/html": [
       "<p style='color:#c01;'>json, 1725827400000</p>"
      ],
      "text/plain": [
       "<IPython.core.display.HTML object>"
      ]
     },
     "metadata": {},
     "output_type": "display_data"
    },
    {
     "data": {
      "text/html": [
       "<p style='color:#fd03a1;'>stop_timestamp</p>"
      ],
      "text/plain": [
       "<IPython.core.display.HTML object>"
      ]
     },
     "metadata": {},
     "output_type": "display_data"
    },
    {
     "data": {
      "text/html": [
       "<p style='color:#ada;'>saving historic tohlcv data to json</p>"
      ],
      "text/plain": [
       "<IPython.core.display.HTML object>"
      ]
     },
     "metadata": {},
     "output_type": "display_data"
    },
    {
     "name": "stdout",
     "output_type": "stream",
     "text": [
      "{'tps': [], 'entry_reached': [[1725870720000, 508.29, 508.46, 508.06, 508.06, 25.61], [1726106100000, 541.2, 543.15, 541.19, 542.6, 128.62]], 'stop_loss_reached': [1726263360000, 558.42, 558.61, 558.27, 558.42, 57.96], 'break_reason': None}\n"
     ]
    },
    {
     "data": {
      "text/html": [
       "<p style='color:#0f0;'>********************************************************************************************************************</p>"
      ],
      "text/plain": [
       "<IPython.core.display.HTML object>"
      ]
     },
     "metadata": {},
     "output_type": "display_data"
    },
    {
     "name": "stdout",
     "output_type": "stream",
     "text": [
      "KAS/USDT:USDT SHORT\n"
     ]
    },
    {
     "data": {
      "text/html": [
       "<p style='color:#c01;'>json, 1725827400000</p>"
      ],
      "text/plain": [
       "<IPython.core.display.HTML object>"
      ]
     },
     "metadata": {},
     "output_type": "display_data"
    },
    {
     "data": {
      "text/html": [
       "<p style='color:#fd03a1;'>stop_timestamp</p>"
      ],
      "text/plain": [
       "<IPython.core.display.HTML object>"
      ]
     },
     "metadata": {},
     "output_type": "display_data"
    },
    {
     "data": {
      "text/html": [
       "<p style='color:#ada;'>saving historic tohlcv data to json</p>"
      ],
      "text/plain": [
       "<IPython.core.display.HTML object>"
      ]
     },
     "metadata": {},
     "output_type": "display_data"
    },
    {
     "name": "stdout",
     "output_type": "stream",
     "text": [
      "{'tps': [], 'entry_reached': [[1725872940000, 0.15145, 0.15172, 0.15143, 0.15166, 18312.0], [1726105200000, 0.16896, 0.169, 0.16896, 0.16899, 40930.0]], 'stop_loss_reached': [1726348860000, 0.1757, 0.17601, 0.17569, 0.17591, 41871.0], 'break_reason': None}\n"
     ]
    },
    {
     "data": {
      "text/html": [
       "<p style='color:#0f0;'>********************************************************************************************************************</p>"
      ],
      "text/plain": [
       "<IPython.core.display.HTML object>"
      ]
     },
     "metadata": {},
     "output_type": "display_data"
    },
    {
     "name": "stdout",
     "output_type": "stream",
     "text": [
      "SAGA/USDT:USDT SHORT\n"
     ]
    },
    {
     "data": {
      "text/html": [
       "<p style='color:#c01;'>json, 1726518600000</p>"
      ],
      "text/plain": [
       "<IPython.core.display.HTML object>"
      ]
     },
     "metadata": {},
     "output_type": "display_data"
    },
    {
     "data": {
      "text/html": [
       "<p style='color:#fd03a1;'>stop_timestamp</p>"
      ],
      "text/plain": [
       "<IPython.core.display.HTML object>"
      ]
     },
     "metadata": {},
     "output_type": "display_data"
    },
    {
     "data": {
      "text/html": [
       "<p style='color:#ada;'>saving historic tohlcv data to json</p>"
      ],
      "text/plain": [
       "<IPython.core.display.HTML object>"
      ]
     },
     "metadata": {},
     "output_type": "display_data"
    },
    {
     "name": "stdout",
     "output_type": "stream",
     "text": [
      "{'tps': [[1726043640000, 1.3826, 1.3826, 1.3746, 1.3785, 9096.1], [1726063020000, 1.3566, 1.3566, 1.3495, 1.351, 13362.95], [1726230060000, 1.3121, 1.3121, 1.3079, 1.3099, 24662.54]], 'entry_reached': [[1725898560000, 1.4363, 1.4403, 1.4279, 1.4303, 22864.8], [1726275660000, 1.5533, 1.5706, 1.5529, 1.5691, 19788.87]], 'stop_loss_reached': [1726475280000, 1.6337, 1.6415, 1.6313, 1.6396, 15307.01], 'break_reason': None}\n"
     ]
    },
    {
     "data": {
      "text/html": [
       "<p style='color:#0f0;'>********************************************************************************************************************</p>"
      ],
      "text/plain": [
       "<IPython.core.display.HTML object>"
      ]
     },
     "metadata": {},
     "output_type": "display_data"
    },
    {
     "name": "stdout",
     "output_type": "stream",
     "text": [
      "GMT/USDT:USDT SHORT\n"
     ]
    },
    {
     "data": {
      "text/html": [
       "<p style='color:#c01;'>json, 1725913800000</p>"
      ],
      "text/plain": [
       "<IPython.core.display.HTML object>"
      ]
     },
     "metadata": {},
     "output_type": "display_data"
    },
    {
     "data": {
      "text/html": [
       "<p style='color:#fd03a1;'>stop_timestamp</p>"
      ],
      "text/plain": [
       "<IPython.core.display.HTML object>"
      ]
     },
     "metadata": {},
     "output_type": "display_data"
    },
    {
     "data": {
      "text/html": [
       "<p style='color:#ada;'>saving historic tohlcv data to json</p>"
      ],
      "text/plain": [
       "<IPython.core.display.HTML object>"
      ]
     },
     "metadata": {},
     "output_type": "display_data"
    },
    {
     "name": "stdout",
     "output_type": "stream",
     "text": [
      "{'tps': [], 'entry_reached': [[1725959160000, 0.13333, 0.13382, 0.13331, 0.13382, 48699.0], [1725988740000, 0.13806, 0.14499, 0.13799, 0.14302, 1547187.0]], 'stop_loss_reached': [1725992700000, 0.14676, 0.14797, 0.14663, 0.14789, 475709.0], 'break_reason': None}\n"
     ]
    },
    {
     "data": {
      "text/html": [
       "<p style='color:#0f0;'>********************************************************************************************************************</p>"
      ],
      "text/plain": [
       "<IPython.core.display.HTML object>"
      ]
     },
     "metadata": {},
     "output_type": "display_data"
    },
    {
     "name": "stdout",
     "output_type": "stream",
     "text": [
      "THETA/USDT:USDT SHORT\n"
     ]
    },
    {
     "data": {
      "text/html": [
       "<p style='color:#c01;'>json, 1725913800000</p>"
      ],
      "text/plain": [
       "<IPython.core.display.HTML object>"
      ]
     },
     "metadata": {},
     "output_type": "display_data"
    },
    {
     "data": {
      "text/html": [
       "<p style='color:#fd03a1;'>stop_timestamp</p>"
      ],
      "text/plain": [
       "<IPython.core.display.HTML object>"
      ]
     },
     "metadata": {},
     "output_type": "display_data"
    },
    {
     "data": {
      "text/html": [
       "<p style='color:#ada;'>saving historic tohlcv data to json</p>"
      ],
      "text/plain": [
       "<IPython.core.display.HTML object>"
      ]
     },
     "metadata": {},
     "output_type": "display_data"
    },
    {
     "name": "stdout",
     "output_type": "stream",
     "text": [
      "{'tps': [[1726031700000, 1.1656, 1.1681, 1.1647, 1.168, 7672.6]], 'entry_reached': [[1725968940000, 1.1992, 1.2005, 1.199, 1.2005, 1161.1], [1726272840000, 1.3283, 1.3307, 1.3258, 1.3281, 9912.3]], 'stop_loss_reached': [1726765380000, 1.4244, 1.4263, 1.4244, 1.4257, 1041.9], 'break_reason': None}\n"
     ]
    },
    {
     "data": {
      "text/html": [
       "<p style='color:#0f0;'>********************************************************************************************************************</p>"
      ],
      "text/plain": [
       "<IPython.core.display.HTML object>"
      ]
     },
     "metadata": {},
     "output_type": "display_data"
    },
    {
     "name": "stdout",
     "output_type": "stream",
     "text": [
      "RUNE/USDT:USDT SHORT\n",
      "{'tps': [[1725977640000, 3.856, 3.856, 3.848, 3.852, 2163.0]], 'entry_reached': [[1725965280000, 3.908, 3.911, 3.907, 3.91, 2134.0], [1726704120000, 4.348, 4.363, 4.344, 4.357, 11922.0]], 'stop_loss_reached': [1726927200000, 4.581, 4.613, 4.58, 4.611, 7976.0], 'break_reason': None}\n"
     ]
    },
    {
     "data": {
      "text/html": [
       "<p style='color:#0f0;'>********************************************************************************************************************</p>"
      ],
      "text/plain": [
       "<IPython.core.display.HTML object>"
      ]
     },
     "metadata": {},
     "output_type": "display_data"
    },
    {
     "name": "stdout",
     "output_type": "stream",
     "text": [
      "SAGA/USDT:USDT SHORT\n"
     ]
    },
    {
     "data": {
      "text/html": [
       "<p style='color:#c01;'>json, 1726777800000</p>"
      ],
      "text/plain": [
       "<IPython.core.display.HTML object>"
      ]
     },
     "metadata": {},
     "output_type": "display_data"
    },
    {
     "data": {
      "text/html": [
       "<p style='color:#fd03a1;'>stop_timestamp</p>"
      ],
      "text/plain": [
       "<IPython.core.display.HTML object>"
      ]
     },
     "metadata": {},
     "output_type": "display_data"
    },
    {
     "data": {
      "text/html": [
       "<p style='color:#ada;'>saving historic tohlcv data to json</p>"
      ],
      "text/plain": [
       "<IPython.core.display.HTML object>"
      ]
     },
     "metadata": {},
     "output_type": "display_data"
    },
    {
     "name": "stdout",
     "output_type": "stream",
     "text": [
      "{'tps': [[1726145460000, 1.3528, 1.3529, 1.3455, 1.3455, 11764.18], [1726230060000, 1.3121, 1.3121, 1.3079, 1.3099, 24662.54]], 'entry_reached': [[1726104600000, 1.3843, 1.3868, 1.3823, 1.3825, 2475.16], [1726272600000, 1.4983, 1.5129, 1.4975, 1.5129, 28416.88]], 'stop_loss_reached': [1726283520000, 1.6053, 1.6163, 1.6051, 1.6128, 11893.1], 'break_reason': None}\n"
     ]
    },
    {
     "data": {
      "text/html": [
       "<p style='color:#0f0;'>********************************************************************************************************************</p>"
      ],
      "text/plain": [
       "<IPython.core.display.HTML object>"
      ]
     },
     "metadata": {},
     "output_type": "display_data"
    },
    {
     "name": "stdout",
     "output_type": "stream",
     "text": [
      "INJ/USDT:USDT SHORT\n"
     ]
    },
    {
     "data": {
      "text/html": [
       "<p style='color:#c01;'>json, 1726000200000</p>"
      ],
      "text/plain": [
       "<IPython.core.display.HTML object>"
      ]
     },
     "metadata": {},
     "output_type": "display_data"
    },
    {
     "data": {
      "text/html": [
       "<p style='color:#fd03a1;'>stop_timestamp</p>"
      ],
      "text/plain": [
       "<IPython.core.display.HTML object>"
      ]
     },
     "metadata": {},
     "output_type": "display_data"
    },
    {
     "data": {
      "text/html": [
       "<p style='color:#ada;'>saving historic tohlcv data to json</p>"
      ],
      "text/plain": [
       "<IPython.core.display.HTML object>"
      ]
     },
     "metadata": {},
     "output_type": "display_data"
    },
    {
     "name": "stdout",
     "output_type": "stream",
     "text": [
      "{'tps': [[1726452360000, 18.306, 18.31, 18.251, 18.271, 2175.0], [1726455300000, 18.012, 18.012, 17.954, 18.0, 5025.0]], 'entry_reached': [[1726086000000, 18.887, 18.933, 18.887, 18.923, 3392.0], [1726770180000, 21.0, 21.03, 20.983, 20.983, 3035.0]], 'stop_loss_reached': [1727078040000, 22.166, 22.276, 22.158, 22.274, 2212.0], 'break_reason': None}\n"
     ]
    },
    {
     "data": {
      "text/html": [
       "<p style='color:#0f0;'>********************************************************************************************************************</p>"
      ],
      "text/plain": [
       "<IPython.core.display.HTML object>"
      ]
     },
     "metadata": {},
     "output_type": "display_data"
    },
    {
     "name": "stdout",
     "output_type": "stream",
     "text": [
      "OM/USDT:USDT SHORT\n"
     ]
    },
    {
     "data": {
      "text/html": [
       "<p style='color:#c01;'>json, 1726173000000</p>"
      ],
      "text/plain": [
       "<IPython.core.display.HTML object>"
      ]
     },
     "metadata": {},
     "output_type": "display_data"
    },
    {
     "data": {
      "text/html": [
       "<p style='color:#fd03a1;'>stop_timestamp</p>"
      ],
      "text/plain": [
       "<IPython.core.display.HTML object>"
      ]
     },
     "metadata": {},
     "output_type": "display_data"
    },
    {
     "data": {
      "text/html": [
       "<p style='color:#ada;'>saving historic tohlcv data to json</p>"
      ],
      "text/plain": [
       "<IPython.core.display.HTML object>"
      ]
     },
     "metadata": {},
     "output_type": "display_data"
    },
    {
     "name": "stdout",
     "output_type": "stream",
     "text": [
      "{'tps': [[1726434240000, 1.08633, 1.08633, 1.07756, 1.08041, 27864.29], [1726455120000, 1.05861, 1.05976, 1.05795, 1.05904, 7019.75], [1726618740000, 1.03686, 1.03688, 1.03589, 1.03656, 15873.95]], 'entry_reached': [[1726222560000, 1.11982, 1.12167, 1.11737, 1.11738, 5600.56]], 'stop_loss_reached': None, 'break_reason': None}\n"
     ]
    },
    {
     "data": {
      "text/html": [
       "<p style='color:#0f0;'>********************************************************************************************************************</p>"
      ],
      "text/plain": [
       "<IPython.core.display.HTML object>"
      ]
     },
     "metadata": {},
     "output_type": "display_data"
    },
    {
     "name": "stdout",
     "output_type": "stream",
     "text": [
      "OP/USDT:USDT SHORT\n",
      "{'tps': [[1726441740000, 1.4818, 1.4822, 1.474, 1.4748, 17590.2], [1726455000000, 1.4438, 1.4439, 1.4395, 1.4395, 5293.2]], 'entry_reached': [[1726239900000, 1.528, 1.5303, 1.528, 1.5298, 9078.2], [1726763580000, 1.6267, 1.6306, 1.6267, 1.6293, 70690.0]], 'stop_loss_reached': [1726927320000, 1.6932, 1.6965, 1.6927, 1.6941, 8980.9], 'break_reason': None}\n"
     ]
    },
    {
     "data": {
      "text/html": [
       "<p style='color:#0f0;'>********************************************************************************************************************</p>"
      ],
      "text/plain": [
       "<IPython.core.display.HTML object>"
      ]
     },
     "metadata": {},
     "output_type": "display_data"
    },
    {
     "name": "stdout",
     "output_type": "stream",
     "text": [
      "THETA/USDT:USDT SHORT\n"
     ]
    },
    {
     "data": {
      "text/html": [
       "<p style='color:#c01;'>json, 1726864200000</p>"
      ],
      "text/plain": [
       "<IPython.core.display.HTML object>"
      ]
     },
     "metadata": {},
     "output_type": "display_data"
    },
    {
     "data": {
      "text/html": [
       "<p style='color:#fd03a1;'>stop_timestamp</p>"
      ],
      "text/plain": [
       "<IPython.core.display.HTML object>"
      ]
     },
     "metadata": {},
     "output_type": "display_data"
    },
    {
     "data": {
      "text/html": [
       "<p style='color:#ada;'>saving historic tohlcv data to json</p>"
      ],
      "text/plain": [
       "<IPython.core.display.HTML object>"
      ]
     },
     "metadata": {},
     "output_type": "display_data"
    },
    {
     "name": "stdout",
     "output_type": "stream",
     "text": [
      "{'tps': [[1729879200000, 1.203, 1.203, 1.1996, 1.2011, 5656.1], [1729897800000, 1.1837, 1.1842, 1.1788, 1.1801, 11825.4], [1729898040000, 1.168, 1.17, 1.1556, 1.1557, 10313.5], [1729898460000, 1.1665, 1.1667, 1.1277, 1.1363, 38716.1], [1729898520000, 1.1381, 1.1385, 1.1003, 1.1146, 23524.7], [1729898580000, 1.1174, 1.1226, 1.0764, 1.0853, 91642.3]], 'entry_reached': [[1726229640000, 1.2398, 1.2449, 1.2395, 1.2436, 6117.3], [1726473420000, 1.3483, 1.3513, 1.3483, 1.3491, 5422.2]], 'stop_loss_reached': None, 'break_reason': None}\n"
     ]
    },
    {
     "data": {
      "text/html": [
       "<p style='color:#0f0;'>********************************************************************************************************************</p>"
      ],
      "text/plain": [
       "<IPython.core.display.HTML object>"
      ]
     },
     "metadata": {},
     "output_type": "display_data"
    },
    {
     "name": "stdout",
     "output_type": "stream",
     "text": [
      "THETA/USDT:USDT SHORT\n",
      "{'tps': [[1729879200000, 1.203, 1.203, 1.1996, 1.2011, 5656.1], [1729897800000, 1.1837, 1.1842, 1.1788, 1.1801, 11825.4], [1729898040000, 1.168, 1.17, 1.1556, 1.1557, 10313.5], [1729898460000, 1.1665, 1.1667, 1.1277, 1.1363, 38716.1], [1729898520000, 1.1381, 1.1385, 1.1003, 1.1146, 23524.7], [1729898580000, 1.1174, 1.1226, 1.0764, 1.0853, 91642.3]], 'entry_reached': [[1726233960000, 1.2457, 1.2482, 1.2451, 1.2482, 9355.1], [1726701960000, 1.359, 1.3604, 1.3586, 1.3592, 4509.3]], 'stop_loss_reached': None, 'break_reason': None}\n"
     ]
    },
    {
     "data": {
      "text/html": [
       "<p style='color:#0f0;'>********************************************************************************************************************</p>"
      ],
      "text/plain": [
       "<IPython.core.display.HTML object>"
      ]
     },
     "metadata": {},
     "output_type": "display_data"
    },
    {
     "name": "stdout",
     "output_type": "stream",
     "text": [
      "RUNE/USDT:USDT SHORT\n",
      "{'tps': [[1726441860000, 3.9, 3.901, 3.885, 3.9, 24713.0]], 'entry_reached': [[1726389540000, 4.052, 4.058, 4.051, 4.054, 1976.0], [1726731840000, 4.438, 4.444, 4.435, 4.443, 3563.0]], 'stop_loss_reached': [1726927320000, 4.627, 4.632, 4.621, 4.621, 6880.0], 'break_reason': None}\n"
     ]
    },
    {
     "data": {
      "text/html": [
       "<p style='color:#0f0;'>********************************************************************************************************************</p>"
      ],
      "text/plain": [
       "<IPython.core.display.HTML object>"
      ]
     },
     "metadata": {},
     "output_type": "display_data"
    },
    {
     "name": "stdout",
     "output_type": "stream",
     "text": [
      "SAGA/USDT:USDT SHORT\n"
     ]
    },
    {
     "data": {
      "text/html": [
       "<p style='color:#c01;'>json, 1726950600000</p>"
      ],
      "text/plain": [
       "<IPython.core.display.HTML object>"
      ]
     },
     "metadata": {},
     "output_type": "display_data"
    },
    {
     "data": {
      "text/html": [
       "<p style='color:#fd03a1;'>stop_timestamp</p>"
      ],
      "text/plain": [
       "<IPython.core.display.HTML object>"
      ]
     },
     "metadata": {},
     "output_type": "display_data"
    },
    {
     "data": {
      "text/html": [
       "<p style='color:#ada;'>saving historic tohlcv data to json</p>"
      ],
      "text/plain": [
       "<IPython.core.display.HTML object>"
      ]
     },
     "metadata": {},
     "output_type": "display_data"
    },
    {
     "name": "stdout",
     "output_type": "stream",
     "text": [
      "{'tps': [[1726419360000, 1.5035, 1.5035, 1.4957, 1.4959, 13553.03], [1726432140000, 1.4746, 1.475, 1.4682, 1.4723, 5246.71], [1726455180000, 1.4304, 1.4306, 1.4233, 1.4252, 23859.84]], 'entry_reached': [[1726370220000, 1.5867, 1.5911, 1.5861, 1.5904, 5948.88], [1726559280000, 1.6977, 1.7477, 1.6946, 1.7461, 110023.68]], 'stop_loss_reached': [1726568400000, 1.7928, 1.8169, 1.7927, 1.816, 32520.03], 'break_reason': None}\n"
     ]
    },
    {
     "data": {
      "text/html": [
       "<p style='color:#0f0;'>********************************************************************************************************************</p>"
      ],
      "text/plain": [
       "<IPython.core.display.HTML object>"
      ]
     },
     "metadata": {},
     "output_type": "display_data"
    },
    {
     "name": "stdout",
     "output_type": "stream",
     "text": [
      "BNB/USDT:USDT SHORT\n",
      "{'tps': [[1726501860000, 535.19, 535.48, 534.73, 535.23, 169.07]], 'entry_reached': [[1726392600000, 554.38, 554.5, 554.36, 554.5, 18.02], [1726962360000, 589.19, 590.21, 589.17, 589.67, 67.08]], 'stop_loss_reached': [1731115080000, 619.16, 619.97, 619.16, 619.76, 377.84], 'break_reason': None}\n"
     ]
    },
    {
     "data": {
      "text/html": [
       "<p style='color:#0f0;'>********************************************************************************************************************</p>"
      ],
      "text/plain": [
       "<IPython.core.display.HTML object>"
      ]
     },
     "metadata": {},
     "output_type": "display_data"
    },
    {
     "name": "stdout",
     "output_type": "stream",
     "text": [
      "LINK/USDT:USDT SHORT\n",
      "{'tps': [[1726652100000, 10.458, 10.459, 10.45, 10.452, 1591.3]], 'entry_reached': [[1726586400000, 10.892, 10.903, 10.889, 10.9, 4021.0]], 'stop_loss_reached': [1727215980000, 12.019, 12.044, 12.019, 12.039, 2214.3], 'break_reason': None}\n"
     ]
    },
    {
     "data": {
      "text/html": [
       "<p style='color:#0f0;'>********************************************************************************************************************</p>"
      ],
      "text/plain": [
       "<IPython.core.display.HTML object>"
      ]
     },
     "metadata": {},
     "output_type": "display_data"
    },
    {
     "name": "stdout",
     "output_type": "stream",
     "text": [
      "CKB/USDT:USDT SHORT\n"
     ]
    },
    {
     "data": {
      "text/html": [
       "<p style='color:#c01;'>json, 1726432200000</p>"
      ],
      "text/plain": [
       "<IPython.core.display.HTML object>"
      ]
     },
     "metadata": {},
     "output_type": "display_data"
    },
    {
     "data": {
      "text/html": [
       "<p style='color:#fd03a1;'>stop_timestamp</p>"
      ],
      "text/plain": [
       "<IPython.core.display.HTML object>"
      ]
     },
     "metadata": {},
     "output_type": "display_data"
    },
    {
     "data": {
      "text/html": [
       "<p style='color:#ada;'>saving historic tohlcv data to json</p>"
      ],
      "text/plain": [
       "<IPython.core.display.HTML object>"
      ]
     },
     "metadata": {},
     "output_type": "display_data"
    },
    {
     "name": "stdout",
     "output_type": "stream",
     "text": [
      "{'tps': [[1726468620000, 0.015662, 0.015672, 0.015531, 0.015541, 15009557.0], [1726491660000, 0.015219, 0.015237, 0.015159, 0.015175, 10273896.0]], 'entry_reached': [[1726465740000, 0.016177, 0.01621, 0.016165, 0.016167, 3401479.0], [1726622640000, 0.017547, 0.017685, 0.017539, 0.017604, 5260197.0]], 'stop_loss_reached': [1726623300000, 0.018156, 0.018538, 0.018114, 0.018397, 18424598.0], 'break_reason': None}\n"
     ]
    },
    {
     "data": {
      "text/html": [
       "<p style='color:#0f0;'>********************************************************************************************************************</p>"
      ],
      "text/plain": [
       "<IPython.core.display.HTML object>"
      ]
     },
     "metadata": {},
     "output_type": "display_data"
    },
    {
     "name": "stdout",
     "output_type": "stream",
     "text": [
      "KAS/USDT:USDT SHORT\n"
     ]
    },
    {
     "data": {
      "text/html": [
       "<p style='color:#c01;'>json, 1726777800000</p>"
      ],
      "text/plain": [
       "<IPython.core.display.HTML object>"
      ]
     },
     "metadata": {},
     "output_type": "display_data"
    },
    {
     "data": {
      "text/html": [
       "<p style='color:#fd03a1;'>stop_timestamp</p>"
      ],
      "text/plain": [
       "<IPython.core.display.HTML object>"
      ]
     },
     "metadata": {},
     "output_type": "display_data"
    },
    {
     "data": {
      "text/html": [
       "<p style='color:#ada;'>saving historic tohlcv data to json</p>"
      ],
      "text/plain": [
       "<IPython.core.display.HTML object>"
      ]
     },
     "metadata": {},
     "output_type": "display_data"
    },
    {
     "name": "stdout",
     "output_type": "stream",
     "text": [
      "{'tps': [[1726654380000, 0.16813, 0.16814, 0.16782, 0.1679, 61088.0], [1727012700000, 0.1642, 0.16421, 0.16361, 0.16366, 138249.0], [1728073800000, 0.14831, 0.14832, 0.14824, 0.14826, 8552.0], [1728073860000, 0.14826, 0.14826, 0.148, 0.14807, 2971.0], [1728073920000, 0.14805, 0.14809, 0.14805, 0.14809, 21610.0], [1728251760000, 0.14483, 0.14483, 0.1438, 0.14389, 42045.0], [1728341820000, 0.13925, 0.13973, 0.13888, 0.13955, 283082.0], [1728370500000, 0.13241, 0.13242, 0.13194, 0.13218, 172186.0]], 'entry_reached': [[1726561140000, 0.17371, 0.17405, 0.1737, 0.17396, 37455.0]], 'stop_loss_reached': None, 'break_reason': None}\n"
     ]
    },
    {
     "data": {
      "text/html": [
       "<p style='color:#0f0;'>********************************************************************************************************************</p>"
      ],
      "text/plain": [
       "<IPython.core.display.HTML object>"
      ]
     },
     "metadata": {},
     "output_type": "display_data"
    },
    {
     "name": "stdout",
     "output_type": "stream",
     "text": [
      "KAS/USDT:USDT SHORT\n",
      "{'tps': [[1727012700000, 0.1642, 0.16421, 0.16361, 0.16366, 138249.0], [1728073800000, 0.14831, 0.14832, 0.14824, 0.14826, 8552.0], [1728073860000, 0.14826, 0.14826, 0.148, 0.14807, 2971.0], [1728073920000, 0.14805, 0.14809, 0.14805, 0.14809, 21610.0], [1728251760000, 0.14483, 0.14483, 0.1438, 0.14389, 42045.0], [1728341820000, 0.13925, 0.13973, 0.13888, 0.13955, 283082.0], [1728370500000, 0.13241, 0.13242, 0.13194, 0.13218, 172186.0]], 'entry_reached': [[1726556340000, 0.16835, 0.16905, 0.16835, 0.16893, 2937.0]], 'stop_loss_reached': None, 'break_reason': None}\n"
     ]
    },
    {
     "data": {
      "text/html": [
       "<p style='color:#0f0;'>********************************************************************************************************************</p>"
      ],
      "text/plain": [
       "<IPython.core.display.HTML object>"
      ]
     },
     "metadata": {},
     "output_type": "display_data"
    },
    {
     "name": "stdout",
     "output_type": "stream",
     "text": [
      "FTM/USDT:USDT SHORT\n",
      "{'tps': [], 'entry_reached': [[1726597500000, 0.5666, 0.5674, 0.5666, 0.5672, 51894.0], [1726684260000, 0.6056, 0.6114, 0.6056, 0.6113, 312482.0]], 'stop_loss_reached': [1726684440000, 0.6287, 0.6321, 0.6273, 0.6309, 1231422.0], 'break_reason': None}\n"
     ]
    },
    {
     "data": {
      "text/html": [
       "<p style='color:#0f0;'>********************************************************************************************************************</p>"
      ],
      "text/plain": [
       "<IPython.core.display.HTML object>"
      ]
     },
     "metadata": {},
     "output_type": "display_data"
    },
    {
     "name": "stdout",
     "output_type": "stream",
     "text": [
      "INJ/USDT:USDT SHORT\n",
      "{'tps': [[1726647180000, 19.027, 19.034, 18.967, 18.97, 3581.0], [1726652040000, 18.721, 18.721, 18.683, 18.691, 1783.0], [1726674000000, 18.345, 18.353, 18.294, 18.298, 3551.0]], 'entry_reached': [[1726597500000, 19.53, 19.561, 19.53, 19.551, 1962.0], [1726927500000, 21.361, 21.447, 21.335, 21.443, 2112.0]], 'stop_loss_reached': [1727164200000, 22.674, 22.847, 22.672, 22.813, 3782.0], 'break_reason': None}\n"
     ]
    },
    {
     "data": {
      "text/html": [
       "<p style='color:#0f0;'>********************************************************************************************************************</p>"
      ],
      "text/plain": [
       "<IPython.core.display.HTML object>"
      ]
     },
     "metadata": {},
     "output_type": "display_data"
    },
    {
     "name": "stdout",
     "output_type": "stream",
     "text": [
      "RUNE/USDT:USDT SHORT\n"
     ]
    },
    {
     "data": {
      "text/html": [
       "<p style='color:#c01;'>json, 1727296200000</p>"
      ],
      "text/plain": [
       "<IPython.core.display.HTML object>"
      ]
     },
     "metadata": {},
     "output_type": "display_data"
    },
    {
     "data": {
      "text/html": [
       "<p style='color:#fd03a1;'>stop_timestamp</p>"
      ],
      "text/plain": [
       "<IPython.core.display.HTML object>"
      ]
     },
     "metadata": {},
     "output_type": "display_data"
    },
    {
     "data": {
      "text/html": [
       "<p style='color:#ada;'>saving historic tohlcv data to json</p>"
      ],
      "text/plain": [
       "<IPython.core.display.HTML object>"
      ]
     },
     "metadata": {},
     "output_type": "display_data"
    },
    {
     "name": "stdout",
     "output_type": "stream",
     "text": [
      "{'tps': [], 'entry_reached': [[1726682460000, 3.983, 4.02, 3.982, 3.986, 38489.0], [1726731840000, 4.438, 4.444, 4.435, 4.443, 3563.0]], 'stop_loss_reached': [1726927320000, 4.627, 4.632, 4.621, 4.621, 6880.0], 'break_reason': None}\n"
     ]
    },
    {
     "data": {
      "text/html": [
       "<p style='color:#0f0;'>********************************************************************************************************************</p>"
      ],
      "text/plain": [
       "<IPython.core.display.HTML object>"
      ]
     },
     "metadata": {},
     "output_type": "display_data"
    },
    {
     "name": "stdout",
     "output_type": "stream",
     "text": [
      "INJ/USDT:USDT SHORT\n",
      "{'tps': [[1726690320000, 18.835, 18.836, 18.769, 18.808, 2198.0]], 'entry_reached': [[1726686780000, 19.176, 19.223, 19.173, 19.175, 1836.0], [1726815360000, 21.185, 21.213, 21.181, 21.202, 1828.0]], 'stop_loss_reached': [1727164200000, 22.674, 22.847, 22.672, 22.813, 3782.0], 'break_reason': None}\n"
     ]
    },
    {
     "data": {
      "text/html": [
       "<p style='color:#0f0;'>********************************************************************************************************************</p>"
      ],
      "text/plain": [
       "<IPython.core.display.HTML object>"
      ]
     },
     "metadata": {},
     "output_type": "display_data"
    },
    {
     "name": "stdout",
     "output_type": "stream",
     "text": [
      "SUI/USDT:USDT SHORT\n"
     ]
    },
    {
     "data": {
      "text/html": [
       "<p style='color:#c01;'>json, 1727123400000</p>"
      ],
      "text/plain": [
       "<IPython.core.display.HTML object>"
      ]
     },
     "metadata": {},
     "output_type": "display_data"
    },
    {
     "data": {
      "text/html": [
       "<p style='color:#fd03a1;'>stop_timestamp</p>"
      ],
      "text/plain": [
       "<IPython.core.display.HTML object>"
      ]
     },
     "metadata": {},
     "output_type": "display_data"
    },
    {
     "data": {
      "text/html": [
       "<p style='color:#ada;'>saving historic tohlcv data to json</p>"
      ],
      "text/plain": [
       "<IPython.core.display.HTML object>"
      ]
     },
     "metadata": {},
     "output_type": "display_data"
    },
    {
     "name": "stdout",
     "output_type": "stream",
     "text": [
      "{'tps': [], 'entry_reached': [[1727009100000, 1.51463, 1.53798, 1.5134, 1.53161, 440096.0], [1727214600000, 1.67896, 1.70031, 1.67896, 1.6958, 1065741.0]], 'stop_loss_reached': [1727215200000, 1.73402, 1.7552, 1.73401, 1.7552, 501548.0], 'break_reason': None}\n"
     ]
    },
    {
     "data": {
      "text/html": [
       "<p style='color:#0f0;'>********************************************************************************************************************</p>"
      ],
      "text/plain": [
       "<IPython.core.display.HTML object>"
      ]
     },
     "metadata": {},
     "output_type": "display_data"
    },
    {
     "name": "stdout",
     "output_type": "stream",
     "text": [
      "KAS/USDT:USDT SHORT\n"
     ]
    },
    {
     "data": {
      "text/html": [
       "<p style='color:#c01;'>json, 1727382600000</p>"
      ],
      "text/plain": [
       "<IPython.core.display.HTML object>"
      ]
     },
     "metadata": {},
     "output_type": "display_data"
    },
    {
     "data": {
      "text/html": [
       "<p style='color:#fd03a1;'>stop_timestamp</p>"
      ],
      "text/plain": [
       "<IPython.core.display.HTML object>"
      ]
     },
     "metadata": {},
     "output_type": "display_data"
    },
    {
     "data": {
      "text/html": [
       "<p style='color:#ada;'>saving historic tohlcv data to json</p>"
      ],
      "text/plain": [
       "<IPython.core.display.HTML object>"
      ]
     },
     "metadata": {},
     "output_type": "display_data"
    },
    {
     "name": "stdout",
     "output_type": "stream",
     "text": [
      "{'tps': [[1727012700000, 0.1642, 0.16421, 0.16361, 0.16366, 138249.0], [1727691180000, 0.1595, 0.15957, 0.15834, 0.1584, 130581.0], [1727794920000, 0.15483, 0.15484, 0.15378, 0.15406, 126517.0], [1727802780000, 0.14959, 0.14959, 0.14884, 0.14891, 126802.0], [1727803200000, 0.14528, 0.14536, 0.14328, 0.14388, 424869.0], [1727803320000, 0.14255, 0.14262, 0.13827, 0.13985, 561359.0], [1728370500000, 0.13241, 0.13242, 0.13194, 0.13218, 172186.0]], 'entry_reached': [[1726902540000, 0.16956, 0.16959, 0.16954, 0.16959, 3384.0]], 'stop_loss_reached': None, 'break_reason': None}\n"
     ]
    },
    {
     "data": {
      "text/html": [
       "<p style='color:#0f0;'>********************************************************************************************************************</p>"
      ],
      "text/plain": [
       "<IPython.core.display.HTML object>"
      ]
     },
     "metadata": {},
     "output_type": "display_data"
    },
    {
     "name": "stdout",
     "output_type": "stream",
     "text": [
      "SUI/USDT:USDT SHORT\n"
     ]
    },
    {
     "data": {
      "text/html": [
       "<p style='color:#c01;'>json, 1727728200000</p>"
      ],
      "text/plain": [
       "<IPython.core.display.HTML object>"
      ]
     },
     "metadata": {},
     "output_type": "display_data"
    },
    {
     "data": {
      "text/html": [
       "<p style='color:#fd03a1;'>stop_timestamp</p>"
      ],
      "text/plain": [
       "<IPython.core.display.HTML object>"
      ]
     },
     "metadata": {},
     "output_type": "display_data"
    },
    {
     "data": {
      "text/html": [
       "<p style='color:#ada;'>saving historic tohlcv data to json</p>"
      ],
      "text/plain": [
       "<IPython.core.display.HTML object>"
      ]
     },
     "metadata": {},
     "output_type": "display_data"
    },
    {
     "name": "stdout",
     "output_type": "stream",
     "text": [
      "{'tps': [[1727042460000, 1.53444, 1.53542, 1.52815, 1.53077, 221171.0]], 'entry_reached': [[1727024760000, 1.5703, 1.58847, 1.57028, 1.58438, 445125.0], [1727214600000, 1.67896, 1.70031, 1.67896, 1.6958, 1065741.0]], 'stop_loss_reached': [1727625780000, 1.80491, 1.82794, 1.80445, 1.82219, 558306.0], 'break_reason': None}\n"
     ]
    },
    {
     "data": {
      "text/html": [
       "<p style='color:#0f0;'>********************************************************************************************************************</p>"
      ],
      "text/plain": [
       "<IPython.core.display.HTML object>"
      ]
     },
     "metadata": {},
     "output_type": "display_data"
    },
    {
     "name": "stdout",
     "output_type": "stream",
     "text": [
      "REEF/USDT:USDT SHORT\n"
     ]
    },
    {
     "data": {
      "text/html": [
       "<p style='color:#c01;'>json, 1726950600000</p>"
      ],
      "text/plain": [
       "<IPython.core.display.HTML object>"
      ]
     },
     "metadata": {},
     "output_type": "display_data"
    },
    {
     "data": {
      "text/html": [
       "<p style='color:#fd03a1;'>stop_timestamp</p>"
      ],
      "text/plain": [
       "<IPython.core.display.HTML object>"
      ]
     },
     "metadata": {},
     "output_type": "display_data"
    },
    {
     "data": {
      "text/html": [
       "<p style='color:#ada;'>saving historic tohlcv data to json</p>"
      ],
      "text/plain": [
       "<IPython.core.display.HTML object>"
      ]
     },
     "metadata": {},
     "output_type": "display_data"
    },
    {
     "name": "stdout",
     "output_type": "stream",
     "text": [
      "{'tps': [], 'entry_reached': [[1727014680000, 0.004478, 0.004578, 0.004469, 0.004556, 63566570.0], [1727067960000, 0.00491, 0.005036, 0.004573, 0.004699, 57417846.0]], 'stop_loss_reached': [1727085240000, 0.005345, 0.00542, 0.005326, 0.005389, 96577886.0], 'break_reason': None}\n"
     ]
    },
    {
     "data": {
      "text/html": [
       "<p style='color:#0f0;'>********************************************************************************************************************</p>"
      ],
      "text/plain": [
       "<IPython.core.display.HTML object>"
      ]
     },
     "metadata": {},
     "output_type": "display_data"
    },
    {
     "name": "stdout",
     "output_type": "stream",
     "text": [
      "SUI/USDT:USDT SHORT\n",
      "{'tps': [[1727078520000, 1.55249, 1.5533, 1.54875, 1.55323, 300281.0], [1727153640000, 1.50347, 1.50411, 1.49824, 1.50056, 74650.0]], 'entry_reached': [[1727061000000, 1.61355, 1.62481, 1.61353, 1.62246, 210970.0], [1727215260000, 1.7548, 1.77926, 1.7548, 1.75562, 730143.0]], 'stop_loss_reached': [1727745840000, 1.849, 1.87895, 1.848, 1.86311, 275636.0], 'break_reason': None}\n"
     ]
    },
    {
     "data": {
      "text/html": [
       "<p style='color:#0f0;'>********************************************************************************************************************</p>"
      ],
      "text/plain": [
       "<IPython.core.display.HTML object>"
      ]
     },
     "metadata": {},
     "output_type": "display_data"
    },
    {
     "name": "stdout",
     "output_type": "stream",
     "text": [
      "SAGA/USDT:USDT SHORT\n"
     ]
    },
    {
     "data": {
      "text/html": [
       "<p style='color:#c01;'>json, 1727209800000</p>"
      ],
      "text/plain": [
       "<IPython.core.display.HTML object>"
      ]
     },
     "metadata": {},
     "output_type": "display_data"
    },
    {
     "data": {
      "text/html": [
       "<p style='color:#fd03a1;'>stop_timestamp</p>"
      ],
      "text/plain": [
       "<IPython.core.display.HTML object>"
      ]
     },
     "metadata": {},
     "output_type": "display_data"
    },
    {
     "data": {
      "text/html": [
       "<p style='color:#ada;'>saving historic tohlcv data to json</p>"
      ],
      "text/plain": [
       "<IPython.core.display.HTML object>"
      ]
     },
     "metadata": {},
     "output_type": "display_data"
    },
    {
     "name": "stdout",
     "output_type": "stream",
     "text": [
      "{'tps': [[1727311980000, 2.3834, 2.3913, 2.3722, 2.3896, 39690.49], [1727457720000, 2.331, 2.3318, 2.3242, 2.3261, 34605.79], [1727558400000, 2.2859, 2.2861, 2.2551, 2.2565, 56435.19], [1727968380000, 2.1536, 2.1538, 2.1435, 2.1436, 20782.74], [1727970000000, 2.068, 2.0754, 2.0599, 2.0656, 44014.78]], 'entry_reached': [[1727224680000, 2.5715, 2.5822, 2.5685, 2.5789, 31795.42], [1727231760000, 2.7753, 2.795, 2.7751, 2.7949, 8750.66]], 'stop_loss_reached': [1728323100000, 2.9177, 2.9349, 2.9081, 2.9341, 53336.05], 'break_reason': None}\n"
     ]
    },
    {
     "data": {
      "text/html": [
       "<p style='color:#0f0;'>********************************************************************************************************************</p>"
      ],
      "text/plain": [
       "<IPython.core.display.HTML object>"
      ]
     },
     "metadata": {},
     "output_type": "display_data"
    },
    {
     "name": "stdout",
     "output_type": "stream",
     "text": [
      "SUI/USDT:USDT SHORT\n"
     ]
    },
    {
     "data": {
      "text/html": [
       "<p style='color:#c01;'>json, 1727901000000</p>"
      ],
      "text/plain": [
       "<IPython.core.display.HTML object>"
      ]
     },
     "metadata": {},
     "output_type": "display_data"
    },
    {
     "data": {
      "text/html": [
       "<p style='color:#fd03a1;'>stop_timestamp</p>"
      ],
      "text/plain": [
       "<IPython.core.display.HTML object>"
      ]
     },
     "metadata": {},
     "output_type": "display_data"
    },
    {
     "data": {
      "text/html": [
       "<p style='color:#ada;'>saving historic tohlcv data to json</p>"
      ],
      "text/plain": [
       "<IPython.core.display.HTML object>"
      ]
     },
     "metadata": {},
     "output_type": "display_data"
    },
    {
     "name": "stdout",
     "output_type": "stream",
     "text": [
      "{'tps': [], 'entry_reached': [[1727190300000, 1.60374, 1.6106, 1.60049, 1.60072, 208014.0], [1727215260000, 1.7548, 1.77926, 1.7548, 1.75562, 730143.0]], 'stop_loss_reached': [1727745840000, 1.849, 1.87895, 1.848, 1.86311, 275636.0], 'break_reason': None}\n"
     ]
    },
    {
     "data": {
      "text/html": [
       "<p style='color:#0f0;'>********************************************************************************************************************</p>"
      ],
      "text/plain": [
       "<IPython.core.display.HTML object>"
      ]
     },
     "metadata": {},
     "output_type": "display_data"
    },
    {
     "name": "stdout",
     "output_type": "stream",
     "text": [
      "BNB/USDT:USDT SHORT\n",
      "{'tps': [[1727794920000, 560.13, 560.16, 557.75, 557.81, 355.53], [1727795340000, 552.17, 552.19, 549.67, 549.73, 434.35], [1727803260000, 540.6, 541.27, 538.57, 540.34, 1156.44]], 'entry_reached': [[1727256240000, 595.77, 595.79, 595.51, 595.54, 58.02]], 'stop_loss_reached': [1731115080000, 619.16, 619.97, 619.16, 619.76, 377.84], 'break_reason': None}\n"
     ]
    },
    {
     "data": {
      "text/html": [
       "<p style='color:#0f0;'>********************************************************************************************************************</p>"
      ],
      "text/plain": [
       "<IPython.core.display.HTML object>"
      ]
     },
     "metadata": {},
     "output_type": "display_data"
    },
    {
     "name": "stdout",
     "output_type": "stream",
     "text": [
      "KAS/USDT:USDT SHORT\n"
     ]
    },
    {
     "data": {
      "text/html": [
       "<p style='color:#c01;'>json, 1727814600000</p>"
      ],
      "text/plain": [
       "<IPython.core.display.HTML object>"
      ]
     },
     "metadata": {},
     "output_type": "display_data"
    },
    {
     "data": {
      "text/html": [
       "<p style='color:#fd03a1;'>stop_timestamp</p>"
      ],
      "text/plain": [
       "<IPython.core.display.HTML object>"
      ]
     },
     "metadata": {},
     "output_type": "display_data"
    },
    {
     "data": {
      "text/html": [
       "<p style='color:#ada;'>saving historic tohlcv data to json</p>"
      ],
      "text/plain": [
       "<IPython.core.display.HTML object>"
      ]
     },
     "metadata": {},
     "output_type": "display_data"
    },
    {
     "name": "stdout",
     "output_type": "stream",
     "text": [
      "{'tps': [[1727690280000, 0.16012, 0.16014, 0.15991, 0.16004, 44437.0], [1727794320000, 0.15516, 0.15518, 0.15492, 0.15501, 119715.0], [1727795160000, 0.15204, 0.1523, 0.15073, 0.15154, 340384.0], [1727802960000, 0.14639, 0.14681, 0.14581, 0.14594, 398981.0], [1727803320000, 0.14255, 0.14262, 0.13827, 0.13985, 561359.0], [1728366480000, 0.13565, 0.13592, 0.13493, 0.13497, 46312.0], [1728552480000, 0.13034, 0.13037, 0.12977, 0.13015, 452032.0]], 'entry_reached': [[1727359860000, 0.16493, 0.165, 0.16491, 0.16496, 25480.0]], 'stop_loss_reached': None, 'break_reason': None}\n"
     ]
    },
    {
     "data": {
      "text/html": [
       "<p style='color:#0f0;'>********************************************************************************************************************</p>"
      ],
      "text/plain": [
       "<IPython.core.display.HTML object>"
      ]
     },
     "metadata": {},
     "output_type": "display_data"
    },
    {
     "name": "stdout",
     "output_type": "stream",
     "text": [
      "ETH/USDT:USDT SHORT\n",
      "{'tps': [[1727712000000, 2594.72, 2595.29, 2588.1, 2595.05, 1304.84], [1727794320000, 2547.29, 2547.71, 2534.43, 2540.7, 3169.7], [1727795040000, 2522.6, 2526.81, 2495.61, 2506.25, 4920.79], [1727803200000, 2470.0, 2470.0, 2426.82, 2447.98, 4396.06], [1727900760000, 2360.91, 2364.38, 2359.23, 2361.41, 532.5]], 'entry_reached': [[1727360160000, 2635.75, 2638.82, 2635.33, 2636.59, 501.27], [1730942880000, 2817.33, 2832.99, 2816.88, 2831.26, 1852.68]], 'stop_loss_reached': [1731024480000, 2915.06, 2924.59, 2914.52, 2923.94, 596.36], 'break_reason': None}\n"
     ]
    },
    {
     "data": {
      "text/html": [
       "<p style='color:#0f0;'>********************************************************************************************************************</p>"
      ],
      "text/plain": [
       "<IPython.core.display.HTML object>"
      ]
     },
     "metadata": {},
     "output_type": "display_data"
    },
    {
     "name": "stdout",
     "output_type": "stream",
     "text": [
      "SAGA/USDT:USDT SHORT\n"
     ]
    },
    {
     "data": {
      "text/html": [
       "<p style='color:#c01;'>json, 1727987400000</p>"
      ],
      "text/plain": [
       "<IPython.core.display.HTML object>"
      ]
     },
     "metadata": {},
     "output_type": "display_data"
    },
    {
     "data": {
      "text/html": [
       "<p style='color:#fd03a1;'>stop_timestamp</p>"
      ],
      "text/plain": [
       "<IPython.core.display.HTML object>"
      ]
     },
     "metadata": {},
     "output_type": "display_data"
    },
    {
     "data": {
      "text/html": [
       "<p style='color:#ada;'>saving historic tohlcv data to json</p>"
      ],
      "text/plain": [
       "<IPython.core.display.HTML object>"
      ]
     },
     "metadata": {},
     "output_type": "display_data"
    },
    {
     "name": "stdout",
     "output_type": "stream",
     "text": [
      "{'tps': [[1727392680000, 2.3815, 2.3817, 2.3745, 2.3746, 7257.75], [1727457720000, 2.331, 2.3318, 2.3242, 2.3261, 34605.79], [1727558400000, 2.2859, 2.2861, 2.2551, 2.2565, 56435.19], [1727968380000, 2.1536, 2.1538, 2.1435, 2.1436, 20782.74], [1727970000000, 2.068, 2.0754, 2.0599, 2.0656, 44014.78]], 'entry_reached': [[1727365140000, 2.4977, 2.503, 2.4949, 2.4971, 9205.89], [1727625780000, 2.711, 2.7443, 2.7109, 2.7433, 53296.66]], 'stop_loss_reached': [1728323100000, 2.9177, 2.9349, 2.9081, 2.9341, 53336.05], 'break_reason': None}\n"
     ]
    },
    {
     "data": {
      "text/html": [
       "<p style='color:#0f0;'>********************************************************************************************************************</p>"
      ],
      "text/plain": [
       "<IPython.core.display.HTML object>"
      ]
     },
     "metadata": {},
     "output_type": "display_data"
    },
    {
     "name": "stdout",
     "output_type": "stream",
     "text": [
      "KAS/USDT:USDT SHORT\n",
      "{'tps': [[1727690280000, 0.16012, 0.16014, 0.15991, 0.16004, 44437.0], [1727794320000, 0.15516, 0.15518, 0.15492, 0.15501, 119715.0], [1727795160000, 0.15204, 0.1523, 0.15073, 0.15154, 340384.0], [1727802960000, 0.14639, 0.14681, 0.14581, 0.14594, 398981.0], [1727803320000, 0.14255, 0.14262, 0.13827, 0.13985, 561359.0], [1728366480000, 0.13565, 0.13592, 0.13493, 0.13497, 46312.0], [1728552480000, 0.13034, 0.13037, 0.12977, 0.13015, 452032.0]], 'entry_reached': [[1727439120000, 0.16591, 0.16604, 0.16591, 0.16604, 11779.0]], 'stop_loss_reached': None, 'break_reason': None}\n"
     ]
    },
    {
     "data": {
      "text/html": [
       "<p style='color:#0f0;'>********************************************************************************************************************</p>"
      ],
      "text/plain": [
       "<IPython.core.display.HTML object>"
      ]
     },
     "metadata": {},
     "output_type": "display_data"
    },
    {
     "name": "stdout",
     "output_type": "stream",
     "text": [
      "SUSHI/USDT:USDT SHORT\n"
     ]
    },
    {
     "data": {
      "text/html": [
       "<p style='color:#c01;'>json, 1727555400000</p>"
      ],
      "text/plain": [
       "<IPython.core.display.HTML object>"
      ]
     },
     "metadata": {},
     "output_type": "display_data"
    },
    {
     "data": {
      "text/html": [
       "<p style='color:#fd03a1;'>stop_timestamp</p>"
      ],
      "text/plain": [
       "<IPython.core.display.HTML object>"
      ]
     },
     "metadata": {},
     "output_type": "display_data"
    },
    {
     "data": {
      "text/html": [
       "<p style='color:#ada;'>saving historic tohlcv data to json</p>"
      ],
      "text/plain": [
       "<IPython.core.display.HTML object>"
      ]
     },
     "metadata": {},
     "output_type": "display_data"
    },
    {
     "name": "stdout",
     "output_type": "stream",
     "text": [
      "{'tps': [[1727618940000, 0.8762, 0.8762, 0.869, 0.869, 12020.0], [1727656380000, 0.8503, 0.8504, 0.8482, 0.8494, 94468.0], [1727679240000, 0.8362, 0.8364, 0.8348, 0.835, 13176.0], [1727711580000, 0.8114, 0.8114, 0.81, 0.8101, 6692.0], [1727789820000, 0.7809, 0.7815, 0.7794, 0.7802, 14881.0], [1727800380000, 0.74, 0.7416, 0.739, 0.7411, 12757.0], [1727803320000, 0.7053, 0.7053, 0.6996, 0.7008, 58807.0], [1729898580000, 0.67, 0.671, 0.6468, 0.6528, 272207.0], [1730659200000, 0.5902, 0.591, 0.59, 0.5902, 2054.0]], 'entry_reached': [[1727606880000, 0.9007, 0.9022, 0.9007, 0.9013, 11241.0]], 'stop_loss_reached': None, 'break_reason': None}\n"
     ]
    },
    {
     "data": {
      "text/html": [
       "<p style='color:#0f0;'>********************************************************************************************************************</p>"
      ],
      "text/plain": [
       "<IPython.core.display.HTML object>"
      ]
     },
     "metadata": {},
     "output_type": "display_data"
    },
    {
     "data": {
      "text/html": [
       "<p style='color:#FFFF00;'>waiting 5 min...</p>"
      ],
      "text/plain": [
       "<IPython.core.display.HTML object>"
      ]
     },
     "metadata": {},
     "output_type": "display_data"
    },
    {
     "name": "stdout",
     "output_type": "stream",
     "text": [
      "INJ/USDT:USDT SHORT\n"
     ]
    },
    {
     "data": {
      "text/html": [
       "<p style='color:#c01;'>json, 1727987400000</p>"
      ],
      "text/plain": [
       "<IPython.core.display.HTML object>"
      ]
     },
     "metadata": {},
     "output_type": "display_data"
    },
    {
     "data": {
      "text/html": [
       "<p style='color:#fd03a1;'>stop_timestamp</p>"
      ],
      "text/plain": [
       "<IPython.core.display.HTML object>"
      ]
     },
     "metadata": {},
     "output_type": "display_data"
    },
    {
     "data": {
      "text/html": [
       "<p style='color:#ada;'>saving historic tohlcv data to json</p>"
      ],
      "text/plain": [
       "<IPython.core.display.HTML object>"
      ]
     },
     "metadata": {},
     "output_type": "display_data"
    },
    {
     "name": "stdout",
     "output_type": "stream",
     "text": [
      "{'tps': [], 'entry_reached': [], 'stop_loss_reached': None, 'break_reason': 'WAIT MANY DAYS'}\n"
     ]
    },
    {
     "data": {
      "text/html": [
       "<p style='color:#0f0;'>********************************************************************************************************************</p>"
      ],
      "text/plain": [
       "<IPython.core.display.HTML object>"
      ]
     },
     "metadata": {},
     "output_type": "display_data"
    },
    {
     "name": "stdout",
     "output_type": "stream",
     "text": [
      "AAVE/USDT:USDT SHORT\n"
     ]
    },
    {
     "data": {
      "text/html": [
       "<p style='color:#c01;'>json, 1727728200000</p>"
      ],
      "text/plain": [
       "<IPython.core.display.HTML object>"
      ]
     },
     "metadata": {},
     "output_type": "display_data"
    },
    {
     "data": {
      "text/html": [
       "<p style='color:#fd03a1;'>stop_timestamp</p>"
      ],
      "text/plain": [
       "<IPython.core.display.HTML object>"
      ]
     },
     "metadata": {},
     "output_type": "display_data"
    },
    {
     "data": {
      "text/html": [
       "<p style='color:#ada;'>saving historic tohlcv data to json</p>"
      ],
      "text/plain": [
       "<IPython.core.display.HTML object>"
      ]
     },
     "metadata": {},
     "output_type": "display_data"
    },
    {
     "name": "stdout",
     "output_type": "stream",
     "text": [
      "{'tps': [[1727871000000, 143.23, 143.29, 142.97, 143.01, 385.3], [1727873880000, 140.11, 140.22, 139.7, 139.7, 326.4], [1727895960000, 137.87, 137.9, 137.3, 137.31, 261.1], [1727946120000, 135.08, 135.17, 134.88, 135.04, 256.6]], 'entry_reached': [[1727838300000, 148.65, 149.08, 148.63, 148.93, 214.2], [1728876840000, 157.87, 158.03, 157.73, 158.0, 268.4]], 'stop_loss_reached': [1728892860000, 162.81, 162.9, 162.74, 162.85, 197.3], 'break_reason': None}\n"
     ]
    },
    {
     "data": {
      "text/html": [
       "<p style='color:#0f0;'>********************************************************************************************************************</p>"
      ],
      "text/plain": [
       "<IPython.core.display.HTML object>"
      ]
     },
     "metadata": {},
     "output_type": "display_data"
    },
    {
     "name": "stdout",
     "output_type": "stream",
     "text": [
      "KAS/USDT:USDT SHORT\n",
      "{'tps': [[1727865420000, 0.14612, 0.14614, 0.14585, 0.14593, 13027.0], [1727893020000, 0.14431, 0.14431, 0.14395, 0.14408, 92150.0], [1727946240000, 0.14129, 0.1413, 0.14095, 0.14116, 31491.0], [1728341940000, 0.13895, 0.13898, 0.13791, 0.13812, 222554.0], [1728366480000, 0.13565, 0.13592, 0.13493, 0.13497, 46312.0], [1728552480000, 0.13034, 0.13037, 0.12977, 0.13015, 452032.0]], 'entry_reached': [[1727819280000, 0.14949, 0.1496, 0.14948, 0.1496, 13280.0]], 'stop_loss_reached': None, 'break_reason': None}\n"
     ]
    },
    {
     "data": {
      "text/html": [
       "<p style='color:#0f0;'>********************************************************************************************************************</p>"
      ],
      "text/plain": [
       "<IPython.core.display.HTML object>"
      ]
     },
     "metadata": {},
     "output_type": "display_data"
    },
    {
     "name": "stdout",
     "output_type": "stream",
     "text": [
      "ROSE/USDT:USDT SHORT\n"
     ]
    },
    {
     "data": {
      "text/html": [
       "<p style='color:#c01;'>json, 1727814600000</p>"
      ],
      "text/plain": [
       "<IPython.core.display.HTML object>"
      ]
     },
     "metadata": {},
     "output_type": "display_data"
    },
    {
     "data": {
      "text/html": [
       "<p style='color:#fd03a1;'>stop_timestamp</p>"
      ],
      "text/plain": [
       "<IPython.core.display.HTML object>"
      ]
     },
     "metadata": {},
     "output_type": "display_data"
    },
    {
     "data": {
      "text/html": [
       "<p style='color:#ada;'>saving historic tohlcv data to json</p>"
      ],
      "text/plain": [
       "<IPython.core.display.HTML object>"
      ]
     },
     "metadata": {},
     "output_type": "display_data"
    },
    {
     "name": "stdout",
     "output_type": "stream",
     "text": [
      "{'tps': [], 'entry_reached': [], 'stop_loss_reached': None, 'break_reason': 'WAIT MANY DAYS'}\n"
     ]
    },
    {
     "data": {
      "text/html": [
       "<p style='color:#0f0;'>********************************************************************************************************************</p>"
      ],
      "text/plain": [
       "<IPython.core.display.HTML object>"
      ]
     },
     "metadata": {},
     "output_type": "display_data"
    },
    {
     "name": "stdout",
     "output_type": "stream",
     "text": [
      "SUI/USDT:USDT SHORT\n"
     ]
    },
    {
     "data": {
      "text/html": [
       "<p style='color:#c01;'>json, 1728073800000</p>"
      ],
      "text/plain": [
       "<IPython.core.display.HTML object>"
      ]
     },
     "metadata": {},
     "output_type": "display_data"
    },
    {
     "data": {
      "text/html": [
       "<p style='color:#fd03a1;'>stop_timestamp</p>"
      ],
      "text/plain": [
       "<IPython.core.display.HTML object>"
      ]
     },
     "metadata": {},
     "output_type": "display_data"
    },
    {
     "data": {
      "text/html": [
       "<p style='color:#ada;'>saving historic tohlcv data to json</p>"
      ],
      "text/plain": [
       "<IPython.core.display.HTML object>"
      ]
     },
     "metadata": {},
     "output_type": "display_data"
    },
    {
     "name": "stdout",
     "output_type": "stream",
     "text": [
      "{'tps': [], 'entry_reached': [[1727897940000, 1.78038, 1.7855, 1.78017, 1.78403, 70152.0], [1727914260000, 1.86383, 1.87032, 1.8605, 1.86293, 82152.0]], 'stop_loss_reached': [1727918040000, 1.96052, 1.97444, 1.96013, 1.96196, 246531.0], 'break_reason': None}\n"
     ]
    },
    {
     "data": {
      "text/html": [
       "<p style='color:#0f0;'>********************************************************************************************************************</p>"
      ],
      "text/plain": [
       "<IPython.core.display.HTML object>"
      ]
     },
     "metadata": {},
     "output_type": "display_data"
    },
    {
     "name": "stdout",
     "output_type": "stream",
     "text": [
      "BNB/USDT:USDT SHORT\n",
      "{'tps': [], 'entry_reached': [[1728028740000, 549.83, 550.02, 549.83, 550.01, 27.02], [1728921840000, 589.79, 590.77, 589.78, 590.77, 72.16]], 'stop_loss_reached': [1731115080000, 619.16, 619.97, 619.16, 619.76, 377.84], 'break_reason': None}\n"
     ]
    },
    {
     "data": {
      "text/html": [
       "<p style='color:#0f0;'>********************************************************************************************************************</p>"
      ],
      "text/plain": [
       "<IPython.core.display.HTML object>"
      ]
     },
     "metadata": {},
     "output_type": "display_data"
    },
    {
     "name": "stdout",
     "output_type": "stream",
     "text": [
      "LTC/USDT:USDT SHORT\n"
     ]
    },
    {
     "data": {
      "text/html": [
       "<p style='color:#c01;'>json, 1727901000000</p>"
      ],
      "text/plain": [
       "<IPython.core.display.HTML object>"
      ]
     },
     "metadata": {},
     "output_type": "display_data"
    },
    {
     "data": {
      "text/html": [
       "<p style='color:#fd03a1;'>stop_timestamp</p>"
      ],
      "text/plain": [
       "<IPython.core.display.HTML object>"
      ]
     },
     "metadata": {},
     "output_type": "display_data"
    },
    {
     "data": {
      "text/html": [
       "<p style='color:#ada;'>saving historic tohlcv data to json</p>"
      ],
      "text/plain": [
       "<IPython.core.display.HTML object>"
      ]
     },
     "metadata": {},
     "output_type": "display_data"
    },
    {
     "name": "stdout",
     "output_type": "stream",
     "text": [
      "{'tps': [], 'entry_reached': [[1728005160000, 63.73, 63.9, 63.7, 63.87, 210.4], [1729000740000, 67.87, 68.0, 67.87, 67.91, 277.2]], 'stop_loss_reached': [1729038240000, 72.87, 72.95, 72.82, 72.88, 1699.8], 'break_reason': None}\n"
     ]
    },
    {
     "data": {
      "text/html": [
       "<p style='color:#0f0;'>********************************************************************************************************************</p>"
      ],
      "text/plain": [
       "<IPython.core.display.HTML object>"
      ]
     },
     "metadata": {},
     "output_type": "display_data"
    },
    {
     "name": "stdout",
     "output_type": "stream",
     "text": [
      "AAVE/USDT:USDT SHORT\n",
      "{'tps': [[1728052260000, 146.23, 146.28, 145.77, 145.91, 266.7], [1728401100000, 143.24, 143.26, 142.91, 142.98, 261.8], [1728479280000, 140.18, 140.23, 139.9, 140.04, 248.0], [1728583920000, 138.05, 138.08, 137.58, 137.72, 720.1]], 'entry_reached': [[1728026640000, 150.51, 150.91, 150.51, 150.89, 198.1], [1728886740000, 159.33, 160.05, 159.31, 159.97, 234.0]], 'stop_loss_reached': [1728917040000, 164.64, 165.04, 164.18, 164.56, 1214.4], 'break_reason': None}\n"
     ]
    },
    {
     "data": {
      "text/html": [
       "<p style='color:#0f0;'>********************************************************************************************************************</p>"
      ],
      "text/plain": [
       "<IPython.core.display.HTML object>"
      ]
     },
     "metadata": {},
     "output_type": "display_data"
    },
    {
     "name": "stdout",
     "output_type": "stream",
     "text": [
      "SUI/USDT:USDT SHORT\n"
     ]
    },
    {
     "data": {
      "text/html": [
       "<p style='color:#c01;'>json, 1728765000000</p>"
      ],
      "text/plain": [
       "<IPython.core.display.HTML object>"
      ]
     },
     "metadata": {},
     "output_type": "display_data"
    },
    {
     "data": {
      "text/html": [
       "<p style='color:#fd03a1;'>stop_timestamp</p>"
      ],
      "text/plain": [
       "<IPython.core.display.HTML object>"
      ]
     },
     "metadata": {},
     "output_type": "display_data"
    },
    {
     "data": {
      "text/html": [
       "<p style='color:#ada;'>saving historic tohlcv data to json</p>"
      ],
      "text/plain": [
       "<IPython.core.display.HTML object>"
      ]
     },
     "metadata": {},
     "output_type": "display_data"
    },
    {
     "name": "stdout",
     "output_type": "stream",
     "text": [
      "{'tps': [], 'entry_reached': [[1728029400000, 1.69863, 1.70702, 1.69862, 1.70636, 69468.0], [1728260400000, 1.85359, 1.87355, 1.85358, 1.87283, 101891.0]], 'stop_loss_reached': [1728289920000, 1.96518, 1.97974, 1.964, 1.9786, 397086.0], 'break_reason': None}\n"
     ]
    },
    {
     "data": {
      "text/html": [
       "<p style='color:#0f0;'>********************************************************************************************************************</p>"
      ],
      "text/plain": [
       "<IPython.core.display.HTML object>"
      ]
     },
     "metadata": {},
     "output_type": "display_data"
    },
    {
     "name": "stdout",
     "output_type": "stream",
     "text": [
      "KAS/USDT:USDT SHORT\n",
      "{'tps': [], 'entry_reached': [], 'stop_loss_reached': None, 'break_reason': 'WAIT MANY DAYS'}\n"
     ]
    },
    {
     "data": {
      "text/html": [
       "<p style='color:#0f0;'>********************************************************************************************************************</p>"
      ],
      "text/plain": [
       "<IPython.core.display.HTML object>"
      ]
     },
     "metadata": {},
     "output_type": "display_data"
    },
    {
     "name": "stdout",
     "output_type": "stream",
     "text": [
      "LTC/USDT:USDT SHORT\n",
      "{'tps': [], 'entry_reached': [[1728057720000, 64.49, 64.54, 64.47, 64.52, 252.4], [1729009260000, 67.85, 69.12, 67.83, 69.05, 12293.1]], 'stop_loss_reached': [1729203180000, 73.85, 73.94, 73.83, 73.88, 262.7], 'break_reason': None}\n"
     ]
    },
    {
     "data": {
      "text/html": [
       "<p style='color:#0f0;'>********************************************************************************************************************</p>"
      ],
      "text/plain": [
       "<IPython.core.display.HTML object>"
      ]
     },
     "metadata": {},
     "output_type": "display_data"
    },
    {
     "name": "stdout",
     "output_type": "stream",
     "text": [
      "AAVE/USDT:USDT SHORT\n",
      "{'tps': [[1728295560000, 148.24, 148.24, 147.87, 147.9, 313.2], [1728299040000, 146.26, 146.28, 145.92, 146.0, 225.3], [1728401100000, 143.24, 143.26, 142.91, 142.98, 261.8], [1728479280000, 140.18, 140.23, 139.9, 140.04, 248.0], [1728583920000, 138.05, 138.08, 137.58, 137.72, 720.1]], 'entry_reached': [[1728261600000, 151.56, 151.78, 151.41, 151.76, 299.2], [1728887700000, 160.82, 161.16, 160.74, 160.74, 340.7]], 'stop_loss_reached': [1728967860000, 165.18, 165.92, 165.18, 165.72, 281.9], 'break_reason': None}\n"
     ]
    },
    {
     "data": {
      "text/html": [
       "<p style='color:#0f0;'>********************************************************************************************************************</p>"
      ],
      "text/plain": [
       "<IPython.core.display.HTML object>"
      ]
     },
     "metadata": {},
     "output_type": "display_data"
    },
    {
     "name": "stdout",
     "output_type": "stream",
     "text": [
      "OP/USDT:USDT SHORT\n",
      "{'tps': [[1728497460000, 1.5807, 1.5815, 1.5768, 1.5773, 25265.2], [1728506880000, 1.5316, 1.534, 1.5263, 1.5266, 10115.5], [1730550780000, 1.4719, 1.4738, 1.4688, 1.4731, 50972.3], [1730602380000, 1.4116, 1.4133, 1.4, 1.4133, 114793.4], [1730643900000, 1.366, 1.3678, 1.3587, 1.3605, 20461.1], [1730753460000, 1.3218, 1.3218, 1.3199, 1.3212, 345.2]], 'entry_reached': [[1728226500000, 1.6367, 1.6402, 1.6365, 1.6394, 4086.9]], 'stop_loss_reached': None, 'break_reason': None}\n"
     ]
    },
    {
     "data": {
      "text/html": [
       "<p style='color:#0f0;'>********************************************************************************************************************</p>"
      ],
      "text/plain": [
       "<IPython.core.display.HTML object>"
      ]
     },
     "metadata": {},
     "output_type": "display_data"
    },
    {
     "name": "stdout",
     "output_type": "stream",
     "text": [
      "OP/USDT:USDT SHORT\n",
      "{'tps': [[1728367500000, 1.6447, 1.6449, 1.6383, 1.6383, 2221.1], [1728497760000, 1.5725, 1.5726, 1.5687, 1.5689, 21109.1], [1728568320000, 1.5031, 1.5049, 1.4995, 1.5024, 45461.8], [1730560200000, 1.4447, 1.4449, 1.4386, 1.4395, 55595.4], [1730643900000, 1.366, 1.3678, 1.3587, 1.3605, 20461.1], [1730753460000, 1.3218, 1.3218, 1.3199, 1.3212, 345.2]], 'entry_reached': [[1728309900000, 1.6982, 1.7006, 1.6919, 1.6938, 36729.3]], 'stop_loss_reached': None, 'break_reason': None}\n"
     ]
    },
    {
     "data": {
      "text/html": [
       "<p style='color:#0f0;'>********************************************************************************************************************</p>"
      ],
      "text/plain": [
       "<IPython.core.display.HTML object>"
      ]
     },
     "metadata": {},
     "output_type": "display_data"
    },
    {
     "name": "stdout",
     "output_type": "stream",
     "text": [
      "SAGA/USDT:USDT SHORT\n",
      "{'tps': [], 'entry_reached': [[1728286020000, 2.5899, 2.6024, 2.5896, 2.5975, 3172.19], [1728320580000, 2.8191, 2.8398, 2.8184, 2.8359, 26770.5]], 'stop_loss_reached': [1728323280000, 2.9441, 2.968, 2.9433, 2.9468, 19402.2], 'break_reason': None}\n"
     ]
    },
    {
     "data": {
      "text/html": [
       "<p style='color:#0f0;'>********************************************************************************************************************</p>"
      ],
      "text/plain": [
       "<IPython.core.display.HTML object>"
      ]
     },
     "metadata": {},
     "output_type": "display_data"
    },
    {
     "name": "stdout",
     "output_type": "stream",
     "text": [
      "RUNE/USDT:USDT SHORT\n",
      "{'tps': [[1728992760000, 5.107, 5.113, 5.095, 5.105, 6144.0], [1729004940000, 5.017, 5.017, 4.979, 4.992, 6737.0], [1729164720000, 4.875, 4.882, 4.865, 4.882, 4849.0], [1729191840000, 4.764, 4.776, 4.677, 4.707, 64168.0], [1729191900000, 4.698, 4.7, 4.626, 4.682, 96046.0]], 'entry_reached': [[1728947460000, 5.178, 5.298, 5.175, 5.224, 6543.0], [1730122980000, 5.686, 5.71, 5.685, 5.693, 6869.0]], 'stop_loss_reached': [1730164020000, 6.053, 6.064, 6.053, 6.057, 2143.0], 'break_reason': None}\n"
     ]
    },
    {
     "data": {
      "text/html": [
       "<p style='color:#0f0;'>********************************************************************************************************************</p>"
      ],
      "text/plain": [
       "<IPython.core.display.HTML object>"
      ]
     },
     "metadata": {},
     "output_type": "display_data"
    },
    {
     "name": "stdout",
     "output_type": "stream",
     "text": [
      "OP/USDT:USDT SHORT\n",
      "{'tps': [[1729879740000, 1.6442, 1.6458, 1.635, 1.6353, 79330.8], [1729898040000, 1.5832, 1.5848, 1.5681, 1.57, 23262.6], [1729898580000, 1.526, 1.5289, 1.4908, 1.5027, 199432.6], [1730560200000, 1.4447, 1.4449, 1.4386, 1.4395, 55595.4], [1730643900000, 1.366, 1.3678, 1.3587, 1.3605, 20461.1], [1730753460000, 1.3218, 1.3218, 1.3199, 1.3212, 345.2]], 'entry_reached': [[1728679080000, 1.712, 1.7159, 1.712, 1.7134, 9458.0]], 'stop_loss_reached': None, 'break_reason': None}\n"
     ]
    },
    {
     "data": {
      "text/html": [
       "<p style='color:#0f0;'>********************************************************************************************************************</p>"
      ],
      "text/plain": [
       "<IPython.core.display.HTML object>"
      ]
     },
     "metadata": {},
     "output_type": "display_data"
    },
    {
     "name": "stdout",
     "output_type": "stream",
     "text": [
      "ROSE/USDT:USDT SHORT\n",
      "{'tps': [], 'entry_reached': [], 'stop_loss_reached': None, 'break_reason': 'WAIT MANY DAYS'}\n"
     ]
    },
    {
     "data": {
      "text/html": [
       "<p style='color:#0f0;'>********************************************************************************************************************</p>"
      ],
      "text/plain": [
       "<IPython.core.display.HTML object>"
      ]
     },
     "metadata": {},
     "output_type": "display_data"
    },
    {
     "name": "stdout",
     "output_type": "stream",
     "text": [
      "RUNE/USDT:USDT SHORT\n",
      "{'tps': [], 'entry_reached': [[1728558840000, 4.667, 4.678, 4.665, 4.677, 2119.0], [1728656100000, 4.98, 4.996, 4.98, 4.983, 2078.0]], 'stop_loss_reached': [1728947460000, 5.178, 5.298, 5.175, 5.224, 6543.0], 'break_reason': None}\n"
     ]
    },
    {
     "data": {
      "text/html": [
       "<p style='color:#0f0;'>********************************************************************************************************************</p>"
      ],
      "text/plain": [
       "<IPython.core.display.HTML object>"
      ]
     },
     "metadata": {},
     "output_type": "display_data"
    },
    {
     "name": "stdout",
     "output_type": "stream",
     "text": [
      "LINK/USDT:USDT SHORT\n",
      "{'tps': [], 'entry_reached': [[1728553800000, 10.568, 10.58, 10.568, 10.58, 276.9], [1729432020000, 11.776, 11.813, 11.774, 11.811, 1853.9]], 'stop_loss_reached': [1729579020000, 12.022, 12.056, 12.015, 12.055, 1672.0], 'break_reason': None}\n"
     ]
    },
    {
     "data": {
      "text/html": [
       "<p style='color:#0f0;'>********************************************************************************************************************</p>"
      ],
      "text/plain": [
       "<IPython.core.display.HTML object>"
      ]
     },
     "metadata": {},
     "output_type": "display_data"
    },
    {
     "name": "stdout",
     "output_type": "stream",
     "text": [
      "OP/USDT:USDT SHORT\n",
      "{'tps': [[1729879800000, 1.6352, 1.6358, 1.63, 1.6344, 18969.3], [1729898040000, 1.5832, 1.5848, 1.5681, 1.57, 23262.6], [1729898580000, 1.526, 1.5289, 1.4908, 1.5027, 199432.6], [1730560200000, 1.4447, 1.4449, 1.4386, 1.4395, 55595.4], [1730643900000, 1.366, 1.3678, 1.3587, 1.3605, 20461.1], [1730753460000, 1.3218, 1.3218, 1.3199, 1.3212, 345.2]], 'entry_reached': [[1728662580000, 1.6765, 1.6817, 1.6758, 1.6785, 14592.5]], 'stop_loss_reached': None, 'break_reason': None}\n"
     ]
    },
    {
     "data": {
      "text/html": [
       "<p style='color:#0f0;'>********************************************************************************************************************</p>"
      ],
      "text/plain": [
       "<IPython.core.display.HTML object>"
      ]
     },
     "metadata": {},
     "output_type": "display_data"
    },
    {
     "name": "stdout",
     "output_type": "stream",
     "text": [
      "SAGA/USDT:USDT SHORT\n",
      "{'tps': [], 'entry_reached': [[1728662100000, 2.5475, 2.5571, 2.5442, 2.5552, 5434.87], [1728692700000, 2.8463, 2.8513, 2.8287, 2.8318, 33495.62]], 'stop_loss_reached': [1728887700000, 2.9877, 3.0653, 2.9877, 3.0646, 75250.15], 'break_reason': None}\n"
     ]
    },
    {
     "data": {
      "text/html": [
       "<p style='color:#0f0;'>********************************************************************************************************************</p>"
      ],
      "text/plain": [
       "<IPython.core.display.HTML object>"
      ]
     },
     "metadata": {},
     "output_type": "display_data"
    },
    {
     "name": "stdout",
     "output_type": "stream",
     "text": [
      "WIF/USDT:USDT SHORT\n",
      "{'tps': [[1728842640000, 2.6561, 2.6564, 2.6435, 2.6445, 311511.77], [1729004940000, 2.5999, 2.5999, 2.5752, 2.5849, 329607.07], [1729060080000, 2.5318, 2.5336, 2.5191, 2.5191, 127576.22], [1729188420000, 2.4634, 2.4634, 2.4551, 2.4605, 59280.27], [1729602540000, 2.4156, 2.4157, 2.4075, 2.4123, 49174.84], [1729706580000, 2.3715, 2.373, 2.3283, 2.336, 205931.92], [1729898520000, 2.3088, 2.3111, 2.2515, 2.2681, 210460.85], [1729898580000, 2.2744, 2.2772, 2.1816, 2.2229, 371104.64], [1730551620000, 2.1548, 2.1579, 2.1495, 2.1544, 36892.21], [1730601480000, 2.0832, 2.0841, 2.072, 2.0734, 62241.45], [1730644680000, 2.0063, 2.0063, 1.9983, 2.0004, 93421.54], [1730757360000, 1.9017, 1.9022, 1.8976, 1.8977, 67861.0]], 'entry_reached': [[1728839640000, 2.7241, 2.7303, 2.724, 2.7292, 11729.7]], 'stop_loss_reached': None, 'break_reason': None}\n"
     ]
    },
    {
     "data": {
      "text/html": [
       "<p style='color:#0f0;'>********************************************************************************************************************</p>"
      ],
      "text/plain": [
       "<IPython.core.display.HTML object>"
      ]
     },
     "metadata": {},
     "output_type": "display_data"
    },
    {
     "name": "stdout",
     "output_type": "stream",
     "text": [
      "AAVE/USDT:USDT SHORT\n",
      "{'tps': [[1728993120000, 158.09, 158.09, 157.6, 157.61, 269.3], [1729002900000, 157.18, 157.36, 155.93, 156.23, 578.2], [1729004820000, 153.34, 153.77, 152.83, 153.13, 361.5], [1729605180000, 150.21, 150.38, 149.92, 150.17, 1966.4], [1729696440000, 147.7, 147.7, 147.55, 147.56, 265.7], [1729706580000, 145.07, 145.12, 144.23, 144.37, 401.4], [1729879800000, 142.68, 142.7, 141.92, 142.04, 370.5], [1729897680000, 139.2, 139.34, 138.92, 138.92, 248.5], [1729898460000, 137.81, 137.89, 135.09, 135.81, 2440.7], [1729898580000, 134.62, 134.78, 131.56, 132.35, 2068.1], [1730659260000, 129.22, 129.23, 128.66, 128.71, 606.9], [1730757120000, 126.24, 126.26, 125.89, 126.13, 215.7]], 'entry_reached': [[1728913560000, 161.35, 161.92, 161.33, 161.7, 267.1]], 'stop_loss_reached': None, 'break_reason': None}\n"
     ]
    },
    {
     "data": {
      "text/html": [
       "<p style='color:#0f0;'>********************************************************************************************************************</p>"
      ],
      "text/plain": [
       "<IPython.core.display.HTML object>"
      ]
     },
     "metadata": {},
     "output_type": "display_data"
    },
    {
     "name": "stdout",
     "output_type": "stream",
     "text": [
      "SAGA/USDT:USDT SHORT\n",
      "{'tps': [], 'entry_reached': [], 'stop_loss_reached': None, 'break_reason': 'WAIT MANY DAYS'}\n"
     ]
    },
    {
     "data": {
      "text/html": [
       "<p style='color:#0f0;'>********************************************************************************************************************</p>"
      ],
      "text/plain": [
       "<IPython.core.display.HTML object>"
      ]
     },
     "metadata": {},
     "output_type": "display_data"
    },
    {
     "name": "stdout",
     "output_type": "stream",
     "text": [
      "FTM/USDT:USDT SHORT\n",
      "{'tps': [[1728986460000, 0.7538, 0.7541, 0.749, 0.7496, 122999.0], [1729004760000, 0.7364, 0.7374, 0.7295, 0.7296, 127955.0], [1729188300000, 0.7115, 0.7119, 0.71, 0.7107, 106640.0], [1729686720000, 0.6854, 0.6854, 0.684, 0.6846, 257939.0], [1729879080000, 0.6608, 0.6611, 0.6572, 0.6578, 187708.0], [1729897980000, 0.6319, 0.6319, 0.6261, 0.6272, 236481.0], [1729898460000, 0.625, 0.625, 0.6083, 0.6104, 518047.0], [1730641260000, 0.5805, 0.5808, 0.58, 0.5806, 53681.0], [1730755440000, 0.5525, 0.5527, 0.5477, 0.5503, 167701.0]], 'entry_reached': [[1728984720000, 0.7687, 0.776, 0.7685, 0.7756, 47404.0]], 'stop_loss_reached': None, 'break_reason': None}\n"
     ]
    },
    {
     "data": {
      "text/html": [
       "<p style='color:#0f0;'>********************************************************************************************************************</p>"
      ],
      "text/plain": [
       "<IPython.core.display.HTML object>"
      ]
     },
     "metadata": {},
     "output_type": "display_data"
    },
    {
     "name": "stdout",
     "output_type": "stream",
     "text": [
      "FTM/USDT:USDT SHORT\n",
      "{'tps': [[1729024440000, 0.7537, 0.7545, 0.7516, 0.7526, 73546.0], [1729085880000, 0.7346, 0.7348, 0.7326, 0.734, 51250.0], [1729188300000, 0.7115, 0.7119, 0.71, 0.7107, 106640.0], [1729686720000, 0.6854, 0.6854, 0.684, 0.6846, 257939.0], [1729879080000, 0.6608, 0.6611, 0.6572, 0.6578, 187708.0], [1729897980000, 0.6319, 0.6319, 0.6261, 0.6272, 236481.0], [1729898460000, 0.625, 0.625, 0.6083, 0.6104, 518047.0], [1730641260000, 0.5805, 0.5808, 0.58, 0.5806, 53681.0], [1730755440000, 0.5525, 0.5527, 0.5477, 0.5503, 167701.0]], 'entry_reached': [[1729010280000, 0.7743, 0.775, 0.7714, 0.7721, 30912.0]], 'stop_loss_reached': None, 'break_reason': None}\n"
     ]
    },
    {
     "data": {
      "text/html": [
       "<p style='color:#0f0;'>********************************************************************************************************************</p>"
      ],
      "text/plain": [
       "<IPython.core.display.HTML object>"
      ]
     },
     "metadata": {},
     "output_type": "display_data"
    },
    {
     "name": "stdout",
     "output_type": "stream",
     "text": [
      "SHIB/USDT:USDT SHORT\n",
      "{'tps': [], 'entry_reached': [], 'stop_loss_reached': None, 'break_reason': 'WAIT MANY DAYS'}\n"
     ]
    },
    {
     "data": {
      "text/html": [
       "<p style='color:#0f0;'>********************************************************************************************************************</p>"
      ],
      "text/plain": [
       "<IPython.core.display.HTML object>"
      ]
     },
     "metadata": {},
     "output_type": "display_data"
    },
    {
     "name": "stdout",
     "output_type": "stream",
     "text": [
      "ROSE/USDT:USDT SHORT\n",
      "{'tps': [], 'entry_reached': [], 'stop_loss_reached': None, 'break_reason': 'WAIT MANY DAYS'}\n"
     ]
    },
    {
     "data": {
      "text/html": [
       "<p style='color:#0f0;'>********************************************************************************************************************</p>"
      ],
      "text/plain": [
       "<IPython.core.display.HTML object>"
      ]
     },
     "metadata": {},
     "output_type": "display_data"
    },
    {
     "name": "stdout",
     "output_type": "stream",
     "text": [
      "BNB/USDT:USDT SHORT\n",
      "{'tps': [[1730640900000, 555.13, 555.57, 554.85, 555.56, 60.49]], 'entry_reached': [[1729089000000, 596.45, 597.21, 596.23, 596.78, 36.95]], 'stop_loss_reached': [1731115080000, 619.16, 619.97, 619.16, 619.76, 377.84], 'break_reason': None}\n"
     ]
    },
    {
     "data": {
      "text/html": [
       "<p style='color:#0f0;'>********************************************************************************************************************</p>"
      ],
      "text/plain": [
       "<IPython.core.display.HTML object>"
      ]
     },
     "metadata": {},
     "output_type": "display_data"
    },
    {
     "name": "stdout",
     "output_type": "stream",
     "text": [
      "SHIB/USDT:USDT SHORT\n",
      "{'tps': [], 'entry_reached': [], 'stop_loss_reached': None, 'break_reason': 'WAIT MANY DAYS'}\n"
     ]
    },
    {
     "data": {
      "text/html": [
       "<p style='color:#0f0;'>********************************************************************************************************************</p>"
      ],
      "text/plain": [
       "<IPython.core.display.HTML object>"
      ]
     },
     "metadata": {},
     "output_type": "display_data"
    },
    {
     "name": "stdout",
     "output_type": "stream",
     "text": [
      "DOGE/USDT:USDT SHORT\n",
      "{'tps': [[1729898520000, 0.1303, 0.13032, 0.12863, 0.1294, 2347573.0]], 'entry_reached': [[1729239360000, 0.13476, 0.13503, 0.13476, 0.13501, 247203.0], [1729302360000, 0.14333, 0.14493, 0.14333, 0.14457, 3799960.0]], 'stop_loss_reached': [1730138880000, 0.15238, 0.15297, 0.15218, 0.15248, 8125979.0], 'break_reason': None}\n"
     ]
    },
    {
     "data": {
      "text/html": [
       "<p style='color:#0f0;'>********************************************************************************************************************</p>"
      ],
      "text/plain": [
       "<IPython.core.display.HTML object>"
      ]
     },
     "metadata": {},
     "output_type": "display_data"
    },
    {
     "name": "stdout",
     "output_type": "stream",
     "text": [
      "SUI/USDT:USDT SHORT\n",
      "{'tps': [[1729337940000, 2.04627, 2.04813, 2.0393, 2.04097, 113612.0], [1729588020000, 1.96217, 1.96494, 1.95961, 1.96308, 51750.0], [1729602360000, 1.91786, 1.91802, 1.90836, 1.91147, 188928.0], [1729876500000, 1.83052, 1.83069, 1.8238, 1.82568, 119681.0], [1729898460000, 1.77943, 1.77981, 1.74006, 1.74583, 382889.0], [1729898580000, 1.7168, 1.72912, 1.61335, 1.65596, 1399483.0], [1730134920000, 1.62755, 1.62755, 1.61745, 1.61794, 57626.0]], 'entry_reached': [[1729269720000, 2.09564, 2.10403, 2.09547, 2.10128, 17527.0]], 'stop_loss_reached': None, 'break_reason': None}\n"
     ]
    },
    {
     "data": {
      "text/html": [
       "<p style='color:#0f0;'>********************************************************************************************************************</p>"
      ],
      "text/plain": [
       "<IPython.core.display.HTML object>"
      ]
     },
     "metadata": {},
     "output_type": "display_data"
    },
    {
     "name": "stdout",
     "output_type": "stream",
     "text": [
      "OP/USDT:USDT SHORT\n",
      "{'tps': [[1729879800000, 1.6352, 1.6358, 1.63, 1.6344, 18969.3], [1729898040000, 1.5832, 1.5848, 1.5681, 1.57, 23262.6], [1729898580000, 1.526, 1.5289, 1.4908, 1.5027, 199432.6], [1730560200000, 1.4447, 1.4449, 1.4386, 1.4395, 55595.4], [1730643900000, 1.366, 1.3678, 1.3587, 1.3605, 20461.1], [1730753460000, 1.3218, 1.3218, 1.3199, 1.3212, 345.2]], 'entry_reached': [[1729337940000, 1.686, 1.6871, 1.6841, 1.6841, 2901.9]], 'stop_loss_reached': None, 'break_reason': None}\n"
     ]
    },
    {
     "data": {
      "text/html": [
       "<p style='color:#0f0;'>********************************************************************************************************************</p>"
      ],
      "text/plain": [
       "<IPython.core.display.HTML object>"
      ]
     },
     "metadata": {},
     "output_type": "display_data"
    },
    {
     "name": "stdout",
     "output_type": "stream",
     "text": [
      "SUI/USDT:USDT SHORT\n",
      "{'tps': [[1729516620000, 2.04754, 2.0477, 2.0386, 2.03983, 100507.0], [1729588020000, 1.96217, 1.96494, 1.95961, 1.96308, 51750.0], [1729602360000, 1.91786, 1.91802, 1.90836, 1.91147, 188928.0], [1729876500000, 1.83052, 1.83069, 1.8238, 1.82568, 119681.0], [1729898460000, 1.77943, 1.77981, 1.74006, 1.74583, 382889.0], [1729898580000, 1.7168, 1.72912, 1.61335, 1.65596, 1399483.0], [1730134920000, 1.62755, 1.62755, 1.61745, 1.61794, 57626.0]], 'entry_reached': [[1729438560000, 2.12679, 2.1304, 2.12608, 2.13039, 40876.0]], 'stop_loss_reached': None, 'break_reason': None}\n"
     ]
    },
    {
     "data": {
      "text/html": [
       "<p style='color:#0f0;'>********************************************************************************************************************</p>"
      ],
      "text/plain": [
       "<IPython.core.display.HTML object>"
      ]
     },
     "metadata": {},
     "output_type": "display_data"
    },
    {
     "name": "stdout",
     "output_type": "stream",
     "text": [
      "SHIB/USDT:USDT SHORT\n",
      "{'tps': [], 'entry_reached': [], 'stop_loss_reached': None, 'break_reason': 'WAIT MANY DAYS'}\n"
     ]
    },
    {
     "data": {
      "text/html": [
       "<p style='color:#0f0;'>********************************************************************************************************************</p>"
      ],
      "text/plain": [
       "<IPython.core.display.HTML object>"
      ]
     },
     "metadata": {},
     "output_type": "display_data"
    },
    {
     "name": "stdout",
     "output_type": "stream",
     "text": [
      "AAVE/USDT:USDT SHORT\n",
      "{'tps': [[1730356260000, 153.06, 153.08, 153.0, 153.03, 184.4], [1730373720000, 150.08, 150.09, 149.98, 149.99, 272.9], [1730383320000, 147.72, 148.0, 147.5, 147.59, 226.9], [1730390580000, 145.0, 145.55, 144.91, 145.32, 380.3], [1730399820000, 142.08, 142.09, 141.98, 142.02, 250.4], [1730554560000, 139.06, 139.14, 138.7, 139.13, 290.5], [1730601000000, 136.11, 136.13, 135.47, 135.6, 426.8], [1730640720000, 133.45, 133.45, 132.9, 133.08, 267.4], [1730659260000, 129.22, 129.23, 128.66, 128.71, 606.9], [1730757120000, 126.24, 126.26, 125.89, 126.13, 215.7]], 'entry_reached': [[1730294160000, 155.98, 156.11, 155.95, 156.05, 247.3]], 'stop_loss_reached': None, 'break_reason': None}\n"
     ]
    },
    {
     "data": {
      "text/html": [
       "<p style='color:#0f0;'>********************************************************************************************************************</p>"
      ],
      "text/plain": [
       "<IPython.core.display.HTML object>"
      ]
     },
     "metadata": {},
     "output_type": "display_data"
    },
    {
     "name": "stdout",
     "output_type": "stream",
     "text": [
      "ROSE/USDT:USDT SHORT\n",
      "{'tps': [], 'entry_reached': [], 'stop_loss_reached': None, 'break_reason': 'WAIT MANY DAYS'}\n"
     ]
    },
    {
     "data": {
      "text/html": [
       "<p style='color:#0f0;'>********************************************************************************************************************</p>"
      ],
      "text/plain": [
       "<IPython.core.display.HTML object>"
      ]
     },
     "metadata": {},
     "output_type": "display_data"
    },
    {
     "name": "stdout",
     "output_type": "stream",
     "text": [
      "SUI/USDT:USDT SHORT\n",
      "{'tps': [[1729760520000, 1.97373, 1.97409, 1.96794, 1.9689, 22560.0], [1729822260000, 1.92285, 1.92294, 1.91947, 1.92017, 54848.0], [1729872420000, 1.86544, 1.86544, 1.85954, 1.85984, 151426.0], [1729897980000, 1.79885, 1.79913, 1.77526, 1.78234, 413824.0], [1729898520000, 1.74888, 1.74959, 1.70039, 1.71514, 496333.0], [1729898580000, 1.7168, 1.72912, 1.61335, 1.65596, 1399483.0]], 'entry_reached': [[1729746600000, 2.01822, 2.02072, 2.01658, 2.02058, 41013.0], [1730862360000, 2.24901, 2.2814, 2.24845, 2.27608, 195212.0]], 'stop_loss_reached': None, 'break_reason': None}\n"
     ]
    },
    {
     "data": {
      "text/html": [
       "<p style='color:#0f0;'>********************************************************************************************************************</p>"
      ],
      "text/plain": [
       "<IPython.core.display.HTML object>"
      ]
     },
     "metadata": {},
     "output_type": "display_data"
    },
    {
     "name": "stdout",
     "output_type": "stream",
     "text": [
      "WIF/USDT:USDT SHORT\n",
      "{'tps': [[1729587480000, 2.4958, 2.4958, 2.4892, 2.4901, 7066.23], [1729600980000, 2.4413, 2.4415, 2.4293, 2.43, 105852.47], [1729706580000, 2.3715, 2.373, 2.3283, 2.336, 205931.92], [1729898520000, 2.3088, 2.3111, 2.2515, 2.2681, 210460.85], [1729898580000, 2.2744, 2.2772, 2.1816, 2.2229, 371104.64], [1730551620000, 2.1548, 2.1579, 2.1495, 2.1544, 36892.21], [1730601480000, 2.0832, 2.0841, 2.072, 2.0734, 62241.45], [1730644680000, 2.0063, 2.0063, 1.9983, 2.0004, 93421.54], [1730757360000, 1.9017, 1.9022, 1.8976, 1.8977, 67861.0]], 'entry_reached': [[1729581720000, 2.5491, 2.55, 2.5476, 2.5476, 3446.84]], 'stop_loss_reached': None, 'break_reason': None}\n"
     ]
    },
    {
     "data": {
      "text/html": [
       "<p style='color:#0f0;'>********************************************************************************************************************</p>"
      ],
      "text/plain": [
       "<IPython.core.display.HTML object>"
      ]
     },
     "metadata": {},
     "output_type": "display_data"
    },
    {
     "name": "stdout",
     "output_type": "stream",
     "text": [
      "APT/USDT:USDT SHORT\n",
      "{'tps': [], 'entry_reached': [], 'stop_loss_reached': None, 'break_reason': 'WAIT MANY DAYS'}\n"
     ]
    },
    {
     "data": {
      "text/html": [
       "<p style='color:#0f0;'>********************************************************************************************************************</p>"
      ],
      "text/plain": [
       "<IPython.core.display.HTML object>"
      ]
     },
     "metadata": {},
     "output_type": "display_data"
    },
    {
     "name": "stdout",
     "output_type": "stream",
     "text": [
      "SAGA/USDT:USDT SHORT\n",
      "{'tps': [[1729696440000, 2.5618, 2.5658, 2.5592, 2.5637, 6219.86], [1729697400000, 2.4805, 2.4805, 2.4601, 2.4726, 18542.26], [1729706340000, 2.4144, 2.4149, 2.4067, 2.412, 8322.65], [1729781400000, 2.3593, 2.3605, 2.3341, 2.3405, 5477.53], [1729830120000, 2.2643, 2.2653, 2.24, 2.2416, 13568.2], [1729879800000, 2.1628, 2.1632, 2.1438, 2.1514, 29779.18], [1729898460000, 2.0863, 2.0878, 2.0155, 2.0239, 20461.32], [1729898520000, 2.0256, 2.0342, 1.9561, 1.9777, 54490.94], [1730087040000, 1.9035, 1.9068, 1.8992, 1.8992, 23773.29], [1730135220000, 1.8062, 1.808, 1.7888, 1.7957, 25748.54]], 'entry_reached': [[1729678860000, 2.6569, 2.6744, 2.6569, 2.6716, 8079.13]], 'stop_loss_reached': None, 'break_reason': None}\n"
     ]
    },
    {
     "data": {
      "text/html": [
       "<p style='color:#0f0;'>********************************************************************************************************************</p>"
      ],
      "text/plain": [
       "<IPython.core.display.HTML object>"
      ]
     },
     "metadata": {},
     "output_type": "display_data"
    },
    {
     "name": "stdout",
     "output_type": "stream",
     "text": [
      "THETA/USDT:USDT SHORT\n",
      "{'tps': [[1729706580000, 1.2144, 1.2161, 1.2067, 1.2089, 21254.4], [1729897800000, 1.1837, 1.1842, 1.1788, 1.1801, 11825.4], [1729898040000, 1.168, 1.17, 1.1556, 1.1557, 10313.5], [1729898460000, 1.1665, 1.1667, 1.1277, 1.1363, 38716.1], [1729898520000, 1.1381, 1.1385, 1.1003, 1.1146, 23524.7], [1729898580000, 1.1174, 1.1226, 1.0764, 1.0853, 91642.3]], 'entry_reached': [[1729685940000, 1.2487, 1.2516, 1.2485, 1.2514, 1485.2]], 'stop_loss_reached': None, 'break_reason': None}\n"
     ]
    },
    {
     "data": {
      "text/html": [
       "<p style='color:#0f0;'>********************************************************************************************************************</p>"
      ],
      "text/plain": [
       "<IPython.core.display.HTML object>"
      ]
     },
     "metadata": {},
     "output_type": "display_data"
    },
    {
     "name": "stdout",
     "output_type": "stream",
     "text": [
      "SUI/USDT:USDT SHORT\n",
      "{'tps': [[1729872420000, 1.86544, 1.86544, 1.85954, 1.85984, 151426.0], [1729879800000, 1.80436, 1.80436, 1.79156, 1.79597, 322688.0], [1729898520000, 1.74888, 1.74959, 1.70039, 1.71514, 496333.0], [1729898580000, 1.7168, 1.72912, 1.61335, 1.65596, 1399483.0], [1730135220000, 1.6117, 1.61236, 1.599, 1.60332, 417242.0]], 'entry_reached': [[1729703640000, 1.90873, 1.9266, 1.90873, 1.92643, 35185.0], [1730859540000, 2.14162, 2.15774, 2.14122, 2.15484, 261162.0]], 'stop_loss_reached': None, 'break_reason': None}\n"
     ]
    },
    {
     "data": {
      "text/html": [
       "<p style='color:#0f0;'>********************************************************************************************************************</p>"
      ],
      "text/plain": [
       "<IPython.core.display.HTML object>"
      ]
     },
     "metadata": {},
     "output_type": "display_data"
    },
    {
     "name": "stdout",
     "output_type": "stream",
     "text": [
      "THETA/USDT:USDT SHORT\n",
      "{'tps': [[1729841220000, 1.2136, 1.2136, 1.2097, 1.2101, 4193.8], [1729897800000, 1.1837, 1.1842, 1.1788, 1.1801, 11825.4], [1729898040000, 1.168, 1.17, 1.1556, 1.1557, 10313.5], [1729898460000, 1.1665, 1.1667, 1.1277, 1.1363, 38716.1], [1729898520000, 1.1381, 1.1385, 1.1003, 1.1146, 23524.7], [1729898580000, 1.1174, 1.1226, 1.0764, 1.0853, 91642.3]], 'entry_reached': [[1729730460000, 1.2514, 1.255, 1.2508, 1.255, 1547.3]], 'stop_loss_reached': None, 'break_reason': None}\n"
     ]
    },
    {
     "data": {
      "text/html": [
       "<p style='color:#0f0;'>********************************************************************************************************************</p>"
      ],
      "text/plain": [
       "<IPython.core.display.HTML object>"
      ]
     },
     "metadata": {},
     "output_type": "display_data"
    },
    {
     "name": "stdout",
     "output_type": "stream",
     "text": [
      "WIF/USDT:USDT SHORT\n",
      "{'tps': [[1729759860000, 2.4922, 2.4924, 2.4874, 2.4883, 13051.73], [1729844100000, 2.4377, 2.4377, 2.4292, 2.4304, 66493.07], [1729898040000, 2.3559, 2.3603, 2.3335, 2.3391, 82813.8], [1729898520000, 2.3088, 2.3111, 2.2515, 2.2681, 210460.85], [1729898580000, 2.2744, 2.2772, 2.1816, 2.2229, 371104.64], [1730551620000, 2.1548, 2.1579, 2.1495, 2.1544, 36892.21], [1730601480000, 2.0832, 2.0841, 2.072, 2.0734, 62241.45], [1730644680000, 2.0063, 2.0063, 1.9983, 2.0004, 93421.54], [1730757360000, 1.9017, 1.9022, 1.8976, 1.8977, 67861.0]], 'entry_reached': [[1729747140000, 2.5662, 2.5705, 2.5661, 2.5663, 1896.64]], 'stop_loss_reached': None, 'break_reason': None}\n"
     ]
    },
    {
     "data": {
      "text/html": [
       "<p style='color:#0f0;'>********************************************************************************************************************</p>"
      ],
      "text/plain": [
       "<IPython.core.display.HTML object>"
      ]
     },
     "metadata": {},
     "output_type": "display_data"
    },
    {
     "name": "stdout",
     "output_type": "stream",
     "text": [
      "OP/USDT:USDT SHORT\n",
      "{'tps': [[1729879800000, 1.6352, 1.6358, 1.63, 1.6344, 18969.3], [1729898040000, 1.5832, 1.5848, 1.5681, 1.57, 23262.6], [1729898580000, 1.526, 1.5289, 1.4908, 1.5027, 199432.6], [1730560200000, 1.4447, 1.4449, 1.4386, 1.4395, 55595.4], [1730643900000, 1.366, 1.3678, 1.3587, 1.3605, 20461.1], [1730753460000, 1.3218, 1.3218, 1.3199, 1.3212, 345.2]], 'entry_reached': [[1729758720000, 1.6996, 1.7006, 1.6994, 1.6997, 423.1]], 'stop_loss_reached': None, 'break_reason': None}\n"
     ]
    },
    {
     "data": {
      "text/html": [
       "<p style='color:#0f0;'>********************************************************************************************************************</p>"
      ],
      "text/plain": [
       "<IPython.core.display.HTML object>"
      ]
     },
     "metadata": {},
     "output_type": "display_data"
    },
    {
     "name": "stdout",
     "output_type": "stream",
     "text": [
      "TRX/USDT:USDT SHORT\n",
      "{'tps': [[1729897500000, 0.16442, 0.16442, 0.16384, 0.16391, 167155.0], [1730828760000, 0.16124, 0.16124, 0.16081, 0.16091, 306271.0]], 'entry_reached': [[1729855860000, 0.16606, 0.1661, 0.16606, 0.16608, 119081.0]], 'stop_loss_reached': None, 'break_reason': None}\n"
     ]
    },
    {
     "data": {
      "text/html": [
       "<p style='color:#0f0;'>********************************************************************************************************************</p>"
      ],
      "text/plain": [
       "<IPython.core.display.HTML object>"
      ]
     },
     "metadata": {},
     "output_type": "display_data"
    },
    {
     "name": "stdout",
     "output_type": "stream",
     "text": [
      "INJ/USDT:USDT SHORT\n",
      "{'tps': [[1729950660000, 18.331, 18.335, 18.293, 18.309, 2222.0], [1729954740000, 18.026, 18.027, 17.978, 18.002, 2775.0], [1730599620000, 17.71, 17.71, 17.694, 17.695, 2067.0], [1730601720000, 17.375, 17.392, 17.294, 17.298, 1978.0], [1730641680000, 17.031, 17.031, 16.949, 16.959, 4040.0]], 'entry_reached': [[1729917720000, 18.52, 18.577, 18.52, 18.574, 1898.0]], 'stop_loss_reached': None, 'break_reason': None}\n"
     ]
    },
    {
     "data": {
      "text/html": [
       "<p style='color:#0f0;'>********************************************************************************************************************</p>"
      ],
      "text/plain": [
       "<IPython.core.display.HTML object>"
      ]
     },
     "metadata": {},
     "output_type": "display_data"
    },
    {
     "name": "stdout",
     "output_type": "stream",
     "text": [
      "OP/USDT:USDT SHORT\n",
      "{'tps': [[1730496840000, 1.5145, 1.5145, 1.5092, 1.5101, 13308.5], [1730560200000, 1.4447, 1.4449, 1.4386, 1.4395, 55595.4], [1730643900000, 1.366, 1.3678, 1.3587, 1.3605, 20461.1], [1730753460000, 1.3218, 1.3218, 1.3199, 1.3212, 345.2]], 'entry_reached': [[1729974120000, 1.5791, 1.5804, 1.5791, 1.5802, 6955.8], [1731369000000, 1.8015, 1.8131, 1.8008, 1.8108, 11239.7]], 'stop_loss_reached': None, 'break_reason': None}\n"
     ]
    },
    {
     "data": {
      "text/html": [
       "<p style='color:#0f0;'>********************************************************************************************************************</p>"
      ],
      "text/plain": [
       "<IPython.core.display.HTML object>"
      ]
     },
     "metadata": {},
     "output_type": "display_data"
    },
    {
     "name": "stdout",
     "output_type": "stream",
     "text": [
      "APT/USDT:USDT SHORT\n",
      "{'tps': [[1730086320000, 8.8706, 8.871, 8.8237, 8.8237, 5816.1], [1730088000000, 8.7217, 8.7225, 8.6999, 8.71, 22840.4], [1730551800000, 8.5698, 8.5925, 8.56, 8.5907, 3981.7], [1730601060000, 8.3464, 8.3644, 8.32, 8.3246, 43481.9], [1730603040000, 8.1193, 8.1216, 8.0828, 8.089, 8370.3], [1730641860000, 7.9754, 7.9797, 7.94, 7.945, 7533.3]], 'entry_reached': [[1730012460000, 9.1256, 9.1527, 9.1254, 9.1517, 3974.3], [1730207940000, 10.1105, 10.1222, 10.1022, 10.1205, 8870.2]], 'stop_loss_reached': [1731789000000, 12.2686, 12.3143, 12.2686, 12.3044, 589.8], 'break_reason': None}\n"
     ]
    },
    {
     "data": {
      "text/html": [
       "<p style='color:#0f0;'>********************************************************************************************************************</p>"
      ],
      "text/plain": [
       "<IPython.core.display.HTML object>"
      ]
     },
     "metadata": {},
     "output_type": "display_data"
    },
    {
     "name": "stdout",
     "output_type": "stream",
     "text": [
      "DOGE/USDT:USDT SHORT\n",
      "{'tps': [], 'entry_reached': [[1730057400000, 0.14118, 0.14159, 0.14115, 0.14159, 636021.0], [1730139300000, 0.15265, 0.15303, 0.15253, 0.1527, 936077.0]], 'stop_loss_reached': [1730143260000, 0.15773, 0.1579, 0.15746, 0.15748, 11648622.0], 'break_reason': None}\n"
     ]
    },
    {
     "data": {
      "text/html": [
       "<p style='color:#0f0;'>********************************************************************************************************************</p>"
      ],
      "text/plain": [
       "<IPython.core.display.HTML object>"
      ]
     },
     "metadata": {},
     "output_type": "display_data"
    },
    {
     "name": "stdout",
     "output_type": "stream",
     "text": [
      "AAVE/USDT:USDT SHORT\n",
      "{'tps': [[1730398080000, 143.61, 143.62, 143.38, 143.47, 221.6], [1730402220000, 141.41, 141.59, 141.28, 141.34, 205.9], [1730554560000, 139.06, 139.14, 138.7, 139.13, 290.5], [1730601000000, 136.11, 136.13, 135.47, 135.6, 426.8], [1730640720000, 133.45, 133.45, 132.9, 133.08, 267.4], [1730659260000, 129.22, 129.23, 128.66, 128.71, 606.9], [1730757120000, 126.24, 126.26, 125.89, 126.13, 215.7]], 'entry_reached': [[1730063940000, 144.68, 144.72, 144.68, 144.69, 194.2], [1730118840000, 153.61, 153.91, 153.51, 153.6, 989.3]], 'stop_loss_reached': [1730901720000, 162.36, 164.16, 162.33, 164.0, 506.7], 'break_reason': None}\n"
     ]
    },
    {
     "data": {
      "text/html": [
       "<p style='color:#0f0;'>********************************************************************************************************************</p>"
      ],
      "text/plain": [
       "<IPython.core.display.HTML object>"
      ]
     },
     "metadata": {},
     "output_type": "display_data"
    },
    {
     "name": "stdout",
     "output_type": "stream",
     "text": [
      "APT/USDT:USDT SHORT\n",
      "{'tps': [[1730443980000, 8.869, 8.872, 8.8586, 8.8618, 1497.1], [1730476260000, 8.7228, 8.7234, 8.6715, 8.7014, 10144.8], [1730551800000, 8.5698, 8.5925, 8.56, 8.5907, 3981.7], [1730601060000, 8.3464, 8.3644, 8.32, 8.3246, 43481.9], [1730603040000, 8.1193, 8.1216, 8.0828, 8.089, 8370.3], [1730641860000, 7.9754, 7.9797, 7.94, 7.945, 7533.3]], 'entry_reached': [[1730151780000, 9.1535, 9.1756, 9.1513, 9.1756, 4390.8], [1730251200000, 10.1305, 10.2124, 10.1261, 10.2075, 7804.9]], 'stop_loss_reached': [1731789000000, 12.2686, 12.3143, 12.2686, 12.3044, 589.8], 'break_reason': None}\n"
     ]
    },
    {
     "data": {
      "text/html": [
       "<p style='color:#0f0;'>********************************************************************************************************************</p>"
      ],
      "text/plain": [
       "<IPython.core.display.HTML object>"
      ]
     },
     "metadata": {},
     "output_type": "display_data"
    },
    {
     "name": "stdout",
     "output_type": "stream",
     "text": [
      "DOGE/USDT:USDT SHORT\n",
      "{'tps': [[1730404200000, 0.16224, 0.16224, 0.16089, 0.16098, 892598.0], [1730407620000, 0.15814, 0.15829, 0.15799, 0.15804, 4422419.0], [1730600580000, 0.15485, 0.15485, 0.15375, 0.15406, 5527548.0], [1730601420000, 0.1514, 0.15141, 0.15094, 0.15107, 2993846.0], [1730640780000, 0.14767, 0.14775, 0.14697, 0.14719, 3384002.0], [1730648280000, 0.143, 0.143, 0.14254, 0.14292, 3876759.0]], 'entry_reached': [[1730193240000, 0.1649, 0.16515, 0.16483, 0.16513, 197957.0], [1730218920000, 0.17669, 0.17918, 0.17669, 0.17911, 3367731.0]], 'stop_loss_reached': [1730860080000, 0.18654, 0.1879, 0.18652, 0.18788, 6712604.0], 'break_reason': None}\n"
     ]
    },
    {
     "data": {
      "text/html": [
       "<p style='color:#0f0;'>********************************************************************************************************************</p>"
      ],
      "text/plain": [
       "<IPython.core.display.HTML object>"
      ]
     },
     "metadata": {},
     "output_type": "display_data"
    },
    {
     "name": "stdout",
     "output_type": "stream",
     "text": [
      "WIF/USDT:USDT SHORT\n"
     ]
    },
    {
     "data": {
      "text/html": [
       "<p style='color:#c01;'>json, 1730925000000</p>"
      ],
      "text/plain": [
       "<IPython.core.display.HTML object>"
      ]
     },
     "metadata": {},
     "output_type": "display_data"
    },
    {
     "data": {
      "text/html": [
       "<p style='color:#fd03a1;'>stop_timestamp</p>"
      ],
      "text/plain": [
       "<IPython.core.display.HTML object>"
      ]
     },
     "metadata": {},
     "output_type": "display_data"
    },
    {
     "data": {
      "text/html": [
       "<p style='color:#ada;'>saving historic tohlcv data to json</p>"
      ],
      "text/plain": [
       "<IPython.core.display.HTML object>"
      ]
     },
     "metadata": {},
     "output_type": "display_data"
    },
    {
     "name": "stdout",
     "output_type": "stream",
     "text": [
      "{'tps': [], 'entry_reached': [], 'stop_loss_reached': None, 'break_reason': 'WAIT MANY DAYS'}\n"
     ]
    },
    {
     "data": {
      "text/html": [
       "<p style='color:#0f0;'>********************************************************************************************************************</p>"
      ],
      "text/plain": [
       "<IPython.core.display.HTML object>"
      ]
     },
     "metadata": {},
     "output_type": "display_data"
    },
    {
     "name": "stdout",
     "output_type": "stream",
     "text": [
      "AAVE/USDT:USDT SHORT\n"
     ]
    },
    {
     "data": {
      "text/html": [
       "<p style='color:#c01;'>json, 1730925000000</p>"
      ],
      "text/plain": [
       "<IPython.core.display.HTML object>"
      ]
     },
     "metadata": {},
     "output_type": "display_data"
    },
    {
     "data": {
      "text/html": [
       "<p style='color:#fd03a1;'>stop_timestamp</p>"
      ],
      "text/plain": [
       "<IPython.core.display.HTML object>"
      ]
     },
     "metadata": {},
     "output_type": "display_data"
    },
    {
     "data": {
      "text/html": [
       "<p style='color:#ada;'>saving historic tohlcv data to json</p>"
      ],
      "text/plain": [
       "<IPython.core.display.HTML object>"
      ]
     },
     "metadata": {},
     "output_type": "display_data"
    },
    {
     "name": "stdout",
     "output_type": "stream",
     "text": [
      "{'tps': [[1730383440000, 147.23, 147.24, 146.16, 146.39, 419.2], [1730398080000, 143.61, 143.62, 143.38, 143.47, 221.6], [1730402220000, 141.41, 141.59, 141.28, 141.34, 205.9], [1730554560000, 139.06, 139.14, 138.7, 139.13, 290.5], [1730601000000, 136.11, 136.13, 135.47, 135.6, 426.8], [1730640720000, 133.45, 133.45, 132.9, 133.08, 267.4], [1730659260000, 129.22, 129.23, 128.66, 128.71, 606.9], [1730757120000, 126.24, 126.26, 125.89, 126.13, 215.7]], 'entry_reached': [[1730362080000, 152.3, 152.33, 152.28, 152.3, 186.0]], 'stop_loss_reached': [1730901720000, 162.36, 164.16, 162.33, 164.0, 506.7], 'break_reason': None}\n"
     ]
    },
    {
     "data": {
      "text/html": [
       "<p style='color:#0f0;'>********************************************************************************************************************</p>"
      ],
      "text/plain": [
       "<IPython.core.display.HTML object>"
      ]
     },
     "metadata": {},
     "output_type": "display_data"
    },
    {
     "name": "stdout",
     "output_type": "stream",
     "text": [
      "TRX/USDT:USDT SHORT\n"
     ]
    },
    {
     "data": {
      "text/html": [
       "<p style='color:#c01;'>json, 1730925000000</p>"
      ],
      "text/plain": [
       "<IPython.core.display.HTML object>"
      ]
     },
     "metadata": {},
     "output_type": "display_data"
    },
    {
     "data": {
      "text/html": [
       "<p style='color:#fd03a1;'>stop_timestamp</p>"
      ],
      "text/plain": [
       "<IPython.core.display.HTML object>"
      ]
     },
     "metadata": {},
     "output_type": "display_data"
    },
    {
     "data": {
      "text/html": [
       "<p style='color:#ada;'>saving historic tohlcv data to json</p>"
      ],
      "text/plain": [
       "<IPython.core.display.HTML object>"
      ]
     },
     "metadata": {},
     "output_type": "display_data"
    },
    {
     "name": "stdout",
     "output_type": "stream",
     "text": [
      "{'tps': [[1730599860000, 0.16517, 0.16519, 0.16461, 0.1648, 196334.0], [1730828760000, 0.16124, 0.16124, 0.16081, 0.16091, 306271.0]], 'entry_reached': [[1730364540000, 0.16946, 0.16951, 0.16946, 0.16948, 207330.0]], 'stop_loss_reached': None, 'break_reason': None}\n"
     ]
    },
    {
     "data": {
      "text/html": [
       "<p style='color:#0f0;'>********************************************************************************************************************</p>"
      ],
      "text/plain": [
       "<IPython.core.display.HTML object>"
      ]
     },
     "metadata": {},
     "output_type": "display_data"
    },
    {
     "name": "stdout",
     "output_type": "stream",
     "text": [
      "DOGE/USDT:USDT SHORT\n",
      "{'tps': [[1730383440000, 0.16532, 0.16534, 0.1648, 0.16503, 2704182.0], [1730398740000, 0.16207, 0.16212, 0.1616, 0.16165, 1792670.0], [1730407620000, 0.15814, 0.15829, 0.15799, 0.15804, 4422419.0], [1730600580000, 0.15485, 0.15485, 0.15375, 0.15406, 5527548.0], [1730601420000, 0.1514, 0.15141, 0.15094, 0.15107, 2993846.0], [1730640780000, 0.14767, 0.14775, 0.14697, 0.14719, 3384002.0], [1730648280000, 0.143, 0.143, 0.14254, 0.14292, 3876759.0]], 'entry_reached': [[1730366880000, 0.17084, 0.1713, 0.17083, 0.1713, 3313498.0]], 'stop_loss_reached': [1730860080000, 0.18654, 0.1879, 0.18652, 0.18788, 6712604.0], 'break_reason': None}\n"
     ]
    },
    {
     "data": {
      "text/html": [
       "<p style='color:#0f0;'>********************************************************************************************************************</p>"
      ],
      "text/plain": [
       "<IPython.core.display.HTML object>"
      ]
     },
     "metadata": {},
     "output_type": "display_data"
    },
    {
     "name": "stdout",
     "output_type": "stream",
     "text": [
      "ADA/USDT:USDT SHORT\n",
      "{'tps': [[1730603040000, 0.33528, 0.33562, 0.33481, 0.33522, 186056.0], [1730738580000, 0.32401, 0.32427, 0.32389, 0.32409, 193057.0]], 'entry_reached': [[1730464320000, 0.3493, 0.35014, 0.34909, 0.34993, 83162.0]], 'stop_loss_reached': [1730995200000, 0.38821, 0.38944, 0.38735, 0.38919, 28362.0], 'break_reason': None}\n"
     ]
    },
    {
     "data": {
      "text/html": [
       "<p style='color:#0f0;'>********************************************************************************************************************</p>"
      ],
      "text/plain": [
       "<IPython.core.display.HTML object>"
      ]
     },
     "metadata": {},
     "output_type": "display_data"
    },
    {
     "name": "stdout",
     "output_type": "stream",
     "text": [
      "OP/USDT:USDT SHORT\n",
      "{'tps': [[1730974020000, 1.6052, 1.6054, 1.6, 1.6004, 11448.5], [1731085620000, 1.5258, 1.5265, 1.5174, 1.523, 196496.7]], 'entry_reached': [[1730950560000, 1.6926, 1.6952, 1.6918, 1.6919, 16241.2]], 'stop_loss_reached': None, 'break_reason': None}\n"
     ]
    },
    {
     "data": {
      "text/html": [
       "<p style='color:#0f0;'>********************************************************************************************************************</p>"
      ],
      "text/plain": [
       "<IPython.core.display.HTML object>"
      ]
     },
     "metadata": {},
     "output_type": "display_data"
    },
    {
     "data": {
      "text/html": [
       "<p style='color:#FFFF00;'>waiting 5 min...</p>"
      ],
      "text/plain": [
       "<IPython.core.display.HTML object>"
      ]
     },
     "metadata": {},
     "output_type": "display_data"
    },
    {
     "name": "stdout",
     "output_type": "stream",
     "text": [
      "DOGE/USDT:USDT SHORT\n",
      "{'tps': [[1730770140000, 0.16198, 0.162, 0.1608, 0.16101, 939024.0]], 'entry_reached': [[1730767740000, 0.16529, 0.1664, 0.16518, 0.16616, 7977262.0], [1730818200000, 0.1776, 0.179, 0.17759, 0.17884, 2680522.0]], 'stop_loss_reached': [1730860200000, 0.18863, 0.1898, 0.18826, 0.18902, 8948335.0], 'break_reason': None}\n"
     ]
    },
    {
     "data": {
      "text/html": [
       "<p style='color:#0f0;'>********************************************************************************************************************</p>"
      ],
      "text/plain": [
       "<IPython.core.display.HTML object>"
      ]
     },
     "metadata": {},
     "output_type": "display_data"
    },
    {
     "name": "stdout",
     "output_type": "stream",
     "text": [
      "SUI/USDT:USDT SHORT\n"
     ]
    },
    {
     "data": {
      "text/html": [
       "<p style='color:#c01;'>json, 1730925000000</p>"
      ],
      "text/plain": [
       "<IPython.core.display.HTML object>"
      ]
     },
     "metadata": {},
     "output_type": "display_data"
    },
    {
     "data": {
      "text/html": [
       "<p style='color:#fd03a1;'>stop_timestamp</p>"
      ],
      "text/plain": [
       "<IPython.core.display.HTML object>"
      ]
     },
     "metadata": {},
     "output_type": "display_data"
    },
    {
     "data": {
      "text/html": [
       "<p style='color:#ada;'>saving historic tohlcv data to json</p>"
      ],
      "text/plain": [
       "<IPython.core.display.HTML object>"
      ]
     },
     "metadata": {},
     "output_type": "display_data"
    },
    {
     "name": "stdout",
     "output_type": "stream",
     "text": [
      "{'tps': [[1730570940000, 1.88339, 1.884, 1.87888, 1.87891, 84174.0], [1730601720000, 1.83702, 1.83774, 1.82806, 1.82806, 442805.0], [1730646240000, 1.78581, 1.78602, 1.77962, 1.78186, 84720.0]], 'entry_reached': [[1730540400000, 1.93759, 1.94357, 1.93759, 1.94332, 21475.0], [1730873100000, 2.34773, 2.354, 2.32498, 2.32692, 149669.0]], 'stop_loss_reached': [1731176220000, 2.42449, 2.44726, 2.42391, 2.44726, 223721.0], 'break_reason': None}\n"
     ]
    },
    {
     "data": {
      "text/html": [
       "<p style='color:#0f0;'>********************************************************************************************************************</p>"
      ],
      "text/plain": [
       "<IPython.core.display.HTML object>"
      ]
     },
     "metadata": {},
     "output_type": "display_data"
    },
    {
     "name": "stdout",
     "output_type": "stream",
     "text": [
      "DOGE/USDT:USDT SHORT\n",
      "{'tps': [[1730732040000, 0.15551, 0.15551, 0.15444, 0.15458, 3996236.0]], 'entry_reached': [[1730725860000, 0.15812, 0.15884, 0.15801, 0.15879, 951518.0], [1730789700000, 0.16839, 0.16914, 0.16836, 0.16882, 3981921.0]], 'stop_loss_reached': [1730818200000, 0.1776, 0.179, 0.17759, 0.17884, 2680522.0], 'break_reason': None}\n"
     ]
    },
    {
     "data": {
      "text/html": [
       "<p style='color:#0f0;'>********************************************************************************************************************</p>"
      ],
      "text/plain": [
       "<IPython.core.display.HTML object>"
      ]
     },
     "metadata": {},
     "output_type": "display_data"
    },
    {
     "name": "stdout",
     "output_type": "stream",
     "text": [
      "SUI/USDT:USDT SHORT\n"
     ]
    },
    {
     "data": {
      "text/html": [
       "<p style='color:#c01;'>json, 1731443400000</p>"
      ],
      "text/plain": [
       "<IPython.core.display.HTML object>"
      ]
     },
     "metadata": {},
     "output_type": "display_data"
    },
    {
     "data": {
      "text/html": [
       "<p style='color:#fd03a1;'>stop_timestamp</p>"
      ],
      "text/plain": [
       "<IPython.core.display.HTML object>"
      ]
     },
     "metadata": {},
     "output_type": "display_data"
    },
    {
     "data": {
      "text/html": [
       "<p style='color:#ada;'>saving historic tohlcv data to json</p>"
      ],
      "text/plain": [
       "<IPython.core.display.HTML object>"
      ]
     },
     "metadata": {},
     "output_type": "display_data"
    },
    {
     "name": "stdout",
     "output_type": "stream",
     "text": [
      "{'tps': [[1730757120000, 1.80099, 1.80142, 1.79274, 1.79731, 95667.0]], 'entry_reached': [[1730750160000, 1.84708, 1.84999, 1.84701, 1.84896, 11194.0], [1730862300000, 2.24791, 2.25634, 2.2402, 2.24841, 323132.0]], 'stop_loss_reached': [1730871000000, 2.32318, 2.33441, 2.30356, 2.30492, 164062.0], 'break_reason': None}\n"
     ]
    },
    {
     "data": {
      "text/html": [
       "<p style='color:#0f0;'>********************************************************************************************************************</p>"
      ],
      "text/plain": [
       "<IPython.core.display.HTML object>"
      ]
     },
     "metadata": {},
     "output_type": "display_data"
    },
    {
     "name": "stdout",
     "output_type": "stream",
     "text": [
      "DOGE/USDT:USDT SHORT\n",
      "{'tps': [], 'entry_reached': [[1730784960000, 0.16334, 0.16349, 0.16331, 0.16343, 1163862.0], [1730818200000, 0.1776, 0.179, 0.17759, 0.17884, 2680522.0]], 'stop_loss_reached': [1730860200000, 0.18863, 0.1898, 0.18826, 0.18902, 8948335.0], 'break_reason': None}\n"
     ]
    },
    {
     "data": {
      "text/html": [
       "<p style='color:#0f0;'>********************************************************************************************************************</p>"
      ],
      "text/plain": [
       "<IPython.core.display.HTML object>"
      ]
     },
     "metadata": {},
     "output_type": "display_data"
    },
    {
     "name": "stdout",
     "output_type": "stream",
     "text": [
      "BNB/USDT:USDT SHORT\n",
      "{'tps': [], 'entry_reached': [[1730792640000, 559.87, 560.0, 559.85, 560.0, 19.33], [1730927400000, 589.74, 590.0, 589.74, 590.0, 22.83]], 'stop_loss_reached': [1731115080000, 619.16, 619.97, 619.16, 619.76, 377.84], 'break_reason': None}\n"
     ]
    },
    {
     "data": {
      "text/html": [
       "<p style='color:#0f0;'>********************************************************************************************************************</p>"
      ],
      "text/plain": [
       "<IPython.core.display.HTML object>"
      ]
     },
     "metadata": {},
     "output_type": "display_data"
    },
    {
     "name": "stdout",
     "output_type": "stream",
     "text": [
      "SHIB/USDT:USDT SHORT\n"
     ]
    },
    {
     "data": {
      "text/html": [
       "<p style='color:#c01;'>json, 1730925000000</p>"
      ],
      "text/plain": [
       "<IPython.core.display.HTML object>"
      ]
     },
     "metadata": {},
     "output_type": "display_data"
    },
    {
     "data": {
      "text/html": [
       "<p style='color:#fd03a1;'>stop_timestamp</p>"
      ],
      "text/plain": [
       "<IPython.core.display.HTML object>"
      ]
     },
     "metadata": {},
     "output_type": "display_data"
    },
    {
     "data": {
      "text/html": [
       "<p style='color:#ada;'>saving historic tohlcv data to json</p>"
      ],
      "text/plain": [
       "<IPython.core.display.HTML object>"
      ]
     },
     "metadata": {},
     "output_type": "display_data"
    },
    {
     "name": "stdout",
     "output_type": "stream",
     "text": [
      "{'tps': [], 'entry_reached': [], 'stop_loss_reached': None, 'break_reason': 'WAIT MANY DAYS'}\n"
     ]
    },
    {
     "data": {
      "text/html": [
       "<p style='color:#0f0;'>********************************************************************************************************************</p>"
      ],
      "text/plain": [
       "<IPython.core.display.HTML object>"
      ]
     },
     "metadata": {},
     "output_type": "display_data"
    },
    {
     "name": "stdout",
     "output_type": "stream",
     "text": [
      "RUNE/USDT:USDT SHORT\n"
     ]
    },
    {
     "data": {
      "text/html": [
       "<p style='color:#c01;'>json, 1730925000000</p>"
      ],
      "text/plain": [
       "<IPython.core.display.HTML object>"
      ]
     },
     "metadata": {},
     "output_type": "display_data"
    },
    {
     "data": {
      "text/html": [
       "<p style='color:#fd03a1;'>stop_timestamp</p>"
      ],
      "text/plain": [
       "<IPython.core.display.HTML object>"
      ]
     },
     "metadata": {},
     "output_type": "display_data"
    },
    {
     "data": {
      "text/html": [
       "<p style='color:#ada;'>saving historic tohlcv data to json</p>"
      ],
      "text/plain": [
       "<IPython.core.display.HTML object>"
      ]
     },
     "metadata": {},
     "output_type": "display_data"
    },
    {
     "name": "stdout",
     "output_type": "stream",
     "text": [
      "{'tps': [], 'entry_reached': [[1730853060000, 4.753, 4.789, 4.751, 4.785, 2132.0], [1730874360000, 5.395, 5.45, 5.391, 5.443, 4150.0]], 'stop_loss_reached': [1731144840000, 5.703, 5.713, 5.697, 5.706, 6143.0], 'break_reason': None}\n"
     ]
    },
    {
     "data": {
      "text/html": [
       "<p style='color:#0f0;'>********************************************************************************************************************</p>"
      ],
      "text/plain": [
       "<IPython.core.display.HTML object>"
      ]
     },
     "metadata": {},
     "output_type": "display_data"
    },
    {
     "name": "stdout",
     "output_type": "stream",
     "text": [
      "RUNE/USDT:USDT SHORT\n",
      "{'tps': [], 'entry_reached': [[1730872980000, 5.28, 5.29, 5.279, 5.28, 3880.0], [1731014880000, 5.698, 5.7, 5.685, 5.685, 6113.0]], 'stop_loss_reached': [1731256260000, 6.058, 6.063, 6.05, 6.053, 2123.0], 'break_reason': None}\n"
     ]
    },
    {
     "data": {
      "text/html": [
       "<p style='color:#0f0;'>********************************************************************************************************************</p>"
      ],
      "text/plain": [
       "<IPython.core.display.HTML object>"
      ]
     },
     "metadata": {},
     "output_type": "display_data"
    },
    {
     "name": "stdout",
     "output_type": "stream",
     "text": [
      "AAVE/USDT:USDT SHORT\n"
     ]
    },
    {
     "data": {
      "text/html": [
       "<p style='color:#c01;'>json, 1731270600000</p>"
      ],
      "text/plain": [
       "<IPython.core.display.HTML object>"
      ]
     },
     "metadata": {},
     "output_type": "display_data"
    },
    {
     "data": {
      "text/html": [
       "<p style='color:#fd03a1;'>stop_timestamp</p>"
      ],
      "text/plain": [
       "<IPython.core.display.HTML object>"
      ]
     },
     "metadata": {},
     "output_type": "display_data"
    },
    {
     "data": {
      "text/html": [
       "<p style='color:#ada;'>saving historic tohlcv data to json</p>"
      ],
      "text/plain": [
       "<IPython.core.display.HTML object>"
      ]
     },
     "metadata": {},
     "output_type": "display_data"
    },
    {
     "name": "stdout",
     "output_type": "stream",
     "text": [
      "{'tps': [[1731078300000, 177.47, 177.47, 176.94, 176.96, 242.0]], 'entry_reached': [[1730966940000, 183.92, 184.16, 183.86, 184.02, 251.5], [1731136260000, 194.52, 195.14, 194.52, 194.61, 211.0]], 'stop_loss_reached': [1731192780000, 198.27, 198.97, 198.27, 198.64, 351.0], 'break_reason': None}\n"
     ]
    },
    {
     "data": {
      "text/html": [
       "<p style='color:#0f0;'>********************************************************************************************************************</p>"
      ],
      "text/plain": [
       "<IPython.core.display.HTML object>"
      ]
     },
     "metadata": {},
     "output_type": "display_data"
    },
    {
     "name": "stdout",
     "output_type": "stream",
     "text": [
      "OP/USDT:USDT SHORT\n"
     ]
    },
    {
     "data": {
      "text/html": [
       "<p style='color:#c01;'>json, 1731616200000</p>"
      ],
      "text/plain": [
       "<IPython.core.display.HTML object>"
      ]
     },
     "metadata": {},
     "output_type": "display_data"
    },
    {
     "data": {
      "text/html": [
       "<p style='color:#fd03a1;'>stop_timestamp</p>"
      ],
      "text/plain": [
       "<IPython.core.display.HTML object>"
      ]
     },
     "metadata": {},
     "output_type": "display_data"
    },
    {
     "data": {
      "text/html": [
       "<p style='color:#ada;'>saving historic tohlcv data to json</p>"
      ],
      "text/plain": [
       "<IPython.core.display.HTML object>"
      ]
     },
     "metadata": {},
     "output_type": "display_data"
    },
    {
     "name": "stdout",
     "output_type": "stream",
     "text": [
      "{'tps': [[1731627300000, 1.4932, 1.4959, 1.4898, 1.4906, 24034.7]], 'entry_reached': [[1731056520000, 1.5597, 1.5626, 1.5595, 1.5621, 11121.8], [1731369000000, 1.8015, 1.8131, 1.8008, 1.8108, 11239.7]], 'stop_loss_reached': None, 'break_reason': None}\n"
     ]
    },
    {
     "data": {
      "text/html": [
       "<p style='color:#0f0;'>********************************************************************************************************************</p>"
      ],
      "text/plain": [
       "<IPython.core.display.HTML object>"
      ]
     },
     "metadata": {},
     "output_type": "display_data"
    },
    {
     "name": "stdout",
     "output_type": "stream",
     "text": [
      "ETH/USDT:USDT SHORT\n"
     ]
    },
    {
     "data": {
      "text/html": [
       "<p style='color:#c01;'>json, 1731443400000</p>"
      ],
      "text/plain": [
       "<IPython.core.display.HTML object>"
      ]
     },
     "metadata": {},
     "output_type": "display_data"
    },
    {
     "data": {
      "text/html": [
       "<p style='color:#fd03a1;'>stop_timestamp</p>"
      ],
      "text/plain": [
       "<IPython.core.display.HTML object>"
      ]
     },
     "metadata": {},
     "output_type": "display_data"
    },
    {
     "data": {
      "text/html": [
       "<p style='color:#ada;'>saving historic tohlcv data to json</p>"
      ],
      "text/plain": [
       "<IPython.core.display.HTML object>"
      ]
     },
     "metadata": {},
     "output_type": "display_data"
    },
    {
     "name": "stdout",
     "output_type": "stream",
     "text": [
      "{'tps': [], 'entry_reached': [[1731146940000, 3048.7, 3052.0, 3048.7, 3052.0, 162.41], [1731215880000, 3196.62, 3202.8, 3195.71, 3200.37, 986.81]], 'stop_loss_reached': [1731342180000, 3280.37, 3300.78, 3279.93, 3295.29, 1606.42], 'break_reason': None}\n"
     ]
    },
    {
     "data": {
      "text/html": [
       "<p style='color:#0f0;'>********************************************************************************************************************</p>"
      ],
      "text/plain": [
       "<IPython.core.display.HTML object>"
      ]
     },
     "metadata": {},
     "output_type": "display_data"
    },
    {
     "name": "stdout",
     "output_type": "stream",
     "text": [
      "ETH/USDT:USDT SHORT\n",
      "{'tps': [], 'entry_reached': [[1731310080000, 3130.06, 3131.03, 3127.08, 3128.26, 104.95]], 'stop_loss_reached': [1731342180000, 3280.37, 3300.78, 3279.93, 3295.29, 1606.42], 'break_reason': None}\n"
     ]
    },
    {
     "data": {
      "text/html": [
       "<p style='color:#0f0;'>********************************************************************************************************************</p>"
      ],
      "text/plain": [
       "<IPython.core.display.HTML object>"
      ]
     },
     "metadata": {},
     "output_type": "display_data"
    },
    {
     "name": "stdout",
     "output_type": "stream",
     "text": [
      "INJ/USDT:USDT SHORT\n"
     ]
    },
    {
     "data": {
      "text/html": [
       "<p style='color:#c01;'>json, 1731270600000</p>"
      ],
      "text/plain": [
       "<IPython.core.display.HTML object>"
      ]
     },
     "metadata": {},
     "output_type": "display_data"
    },
    {
     "data": {
      "text/html": [
       "<p style='color:#ada;'>saving historic tohlcv data to json</p>"
      ],
      "text/plain": [
       "<IPython.core.display.HTML object>"
      ]
     },
     "metadata": {},
     "output_type": "display_data"
    },
    {
     "name": "stdout",
     "output_type": "stream",
     "text": [
      "{'tps': [[1731335400000, 25.587, 25.6, 25.475, 25.506, 1843.0], [1731405960000, 24.853, 24.853, 24.35, 24.497, 7707.0], [1731408540000, 24.116, 24.127, 23.859, 23.878, 3260.0], [1731470340000, 23.295, 23.329, 23.293, 23.309, 1723.0], [1731473100000, 22.61, 22.642, 22.571, 22.607, 2851.0]], 'entry_reached': [[1731319380000, 26.165, 26.352, 26.164, 26.344, 1996.0]], 'stop_loss_reached': None, 'break_reason': None}\n"
     ]
    },
    {
     "data": {
      "text/html": [
       "<p style='color:#0f0;'>********************************************************************************************************************</p>"
      ],
      "text/plain": [
       "<IPython.core.display.HTML object>"
      ]
     },
     "metadata": {},
     "output_type": "display_data"
    },
    {
     "name": "stdout",
     "output_type": "stream",
     "text": [
      "NEAR/USDT:USDT SHORT\n"
     ]
    },
    {
     "data": {
      "text/html": [
       "<p style='color:#c01;'>json, 1731616200000</p>"
      ],
      "text/plain": [
       "<IPython.core.display.HTML object>"
      ]
     },
     "metadata": {},
     "output_type": "display_data"
    },
    {
     "data": {
      "text/html": [
       "<p style='color:#ada;'>saving historic tohlcv data to json</p>"
      ],
      "text/plain": [
       "<IPython.core.display.HTML object>"
      ]
     },
     "metadata": {},
     "output_type": "display_data"
    },
    {
     "name": "stdout",
     "output_type": "stream",
     "text": [
      "{'tps': [[1731623280000, 5.4481, 5.4549, 5.4339, 5.4408, 20964.0], [1731626040000, 5.3115, 5.3168, 5.2952, 5.3019, 22801.0]], 'entry_reached': [[1731621540000, 5.597, 5.6227, 5.5871, 5.6154, 7581.0], [1731727140000, 5.95, 5.996, 5.9429, 5.9941, 4051.0]], 'stop_loss_reached': [1731751500000, 6.3136, 6.3434, 6.3126, 6.3434, 11501.0], 'break_reason': None}\n"
     ]
    },
    {
     "data": {
      "text/html": [
       "<p style='color:#0f0;'>********************************************************************************************************************</p>"
      ],
      "text/plain": [
       "<IPython.core.display.HTML object>"
      ]
     },
     "metadata": {},
     "output_type": "display_data"
    },
    {
     "name": "stdout",
     "output_type": "stream",
     "text": [
      "SUI/USDT:USDT SHORT\n"
     ]
    },
    {
     "data": {
      "text/html": [
       "<p style='color:#c01;'>json, 1731616200000</p>"
      ],
      "text/plain": [
       "<IPython.core.display.HTML object>"
      ]
     },
     "metadata": {},
     "output_type": "display_data"
    },
    {
     "data": {
      "text/html": [
       "<p style='color:#ada;'>saving historic tohlcv data to json</p>"
      ],
      "text/plain": [
       "<IPython.core.display.HTML object>"
      ]
     },
     "metadata": {},
     "output_type": "display_data"
    },
    {
     "name": "stdout",
     "output_type": "stream",
     "text": [
      "{'tps': [], 'entry_reached': [[1731491280000, 3.06175, 3.06795, 3.05952, 3.06735, 15834.0], [1731513300000, 3.32009, 3.39522, 3.3191, 3.37914, 111288.0]], 'stop_loss_reached': [1731562020000, 3.44447, 3.4809, 3.44396, 3.4809, 45412.0], 'break_reason': None}\n"
     ]
    },
    {
     "data": {
      "text/html": [
       "<p style='color:#0f0;'>********************************************************************************************************************</p>"
      ],
      "text/plain": [
       "<IPython.core.display.HTML object>"
      ]
     },
     "metadata": {},
     "output_type": "display_data"
    },
    {
     "name": "stdout",
     "output_type": "stream",
     "text": [
      "SOL/USDT:USDT SHORT\n"
     ]
    },
    {
     "data": {
      "text/html": [
       "<p style='color:#c01;'>json, 1732134600000</p>"
      ],
      "text/plain": [
       "<IPython.core.display.HTML object>"
      ]
     },
     "metadata": {},
     "output_type": "display_data"
    },
    {
     "name": "stdout",
     "output_type": "stream",
     "text": [
      "{'tps': [], 'entry_reached': [[1731501600000, 207.58, 208.291, 207.58, 208.17, 2041.0], [1731816060000, 222.925, 223.5, 222.543, 223.402, 2957.0]], 'stop_loss_reached': [1731816900000, 230.37, 231.173, 230.165, 231.172, 6442.0], 'break_reason': None}\n"
     ]
    },
    {
     "data": {
      "text/html": [
       "<p style='color:#0f0;'>********************************************************************************************************************</p>"
      ],
      "text/plain": [
       "<IPython.core.display.HTML object>"
      ]
     },
     "metadata": {},
     "output_type": "display_data"
    },
    {
     "name": "stdout",
     "output_type": "stream",
     "text": [
      "WOO/USDT:USDT SHORT\n"
     ]
    },
    {
     "data": {
      "text/html": [
       "<p style='color:#c01;'>json, 1731789000000</p>"
      ],
      "text/plain": [
       "<IPython.core.display.HTML object>"
      ]
     },
     "metadata": {},
     "output_type": "display_data"
    },
    {
     "data": {
      "text/html": [
       "<p style='color:#ada;'>saving historic tohlcv data to json</p>"
      ],
      "text/plain": [
       "<IPython.core.display.HTML object>"
      ]
     },
     "metadata": {},
     "output_type": "display_data"
    },
    {
     "name": "stdout",
     "output_type": "stream",
     "text": [
      "{'tps': [], 'entry_reached': [], 'stop_loss_reached': None, 'break_reason': None}\n"
     ]
    },
    {
     "data": {
      "text/html": [
       "<p style='color:#0f0;'>********************************************************************************************************************</p>"
      ],
      "text/plain": [
       "<IPython.core.display.HTML object>"
      ]
     },
     "metadata": {},
     "output_type": "display_data"
    },
    {
     "name": "stdout",
     "output_type": "stream",
     "text": [
      "FTM/USDT:USDT SHORT\n"
     ]
    },
    {
     "data": {
      "text/html": [
       "<p style='color:#c01;'>json, 1731789000000</p>"
      ],
      "text/plain": [
       "<IPython.core.display.HTML object>"
      ]
     },
     "metadata": {},
     "output_type": "display_data"
    },
    {
     "data": {
      "text/html": [
       "<p style='color:#ada;'>saving historic tohlcv data to json</p>"
      ],
      "text/plain": [
       "<IPython.core.display.HTML object>"
      ]
     },
     "metadata": {},
     "output_type": "display_data"
    },
    {
     "name": "stdout",
     "output_type": "stream",
     "text": [
      "{'tps': [[1731841380000, 0.7366, 0.7372, 0.7349, 0.7361, 14090.0], [1731853800000, 0.7179, 0.7185, 0.71, 0.7121, 61623.0], [1731880980000, 0.6854, 0.6861, 0.6824, 0.6832, 68949.0]], 'entry_reached': [[1731821460000, 0.7495, 0.7551, 0.7482, 0.7532, 7734.0]], 'stop_loss_reached': None, 'break_reason': None}\n"
     ]
    },
    {
     "data": {
      "text/html": [
       "<p style='color:#0f0;'>********************************************************************************************************************</p>"
      ],
      "text/plain": [
       "<IPython.core.display.HTML object>"
      ]
     },
     "metadata": {},
     "output_type": "display_data"
    },
    {
     "name": "stdout",
     "output_type": "stream",
     "text": [
      "XRP/USDT:USDT SHORT\n"
     ]
    },
    {
     "data": {
      "text/html": [
       "<p style='color:#c01;'>json, 1731875400000</p>"
      ],
      "text/plain": [
       "<IPython.core.display.HTML object>"
      ]
     },
     "metadata": {},
     "output_type": "display_data"
    },
    {
     "data": {
      "text/html": [
       "<p style='color:#ada;'>saving historic tohlcv data to json</p>"
      ],
      "text/plain": [
       "<IPython.core.display.HTML object>"
      ]
     },
     "metadata": {},
     "output_type": "display_data"
    },
    {
     "name": "stdout",
     "output_type": "stream",
     "text": [
      "{'tps': [[1731922740000, 1.136, 1.1362, 1.1271, 1.1296, 420302.0], [1731957780000, 1.0828, 1.0828, 1.0771, 1.0805, 821362.0]], 'entry_reached': [[1731912420000, 1.1682, 1.17, 1.165, 1.1672, 220766.0]], 'stop_loss_reached': None, 'break_reason': None}\n"
     ]
    },
    {
     "data": {
      "text/html": [
       "<p style='color:#0f0;'>********************************************************************************************************************</p>"
      ],
      "text/plain": [
       "<IPython.core.display.HTML object>"
      ]
     },
     "metadata": {},
     "output_type": "display_data"
    },
    {
     "name": "stdout",
     "output_type": "stream",
     "text": [
      "KAS/USDT:USDT SHORT\n"
     ]
    },
    {
     "data": {
      "text/html": [
       "<p style='color:#c01;'>json, 1731875400000</p>"
      ],
      "text/plain": [
       "<IPython.core.display.HTML object>"
      ]
     },
     "metadata": {},
     "output_type": "display_data"
    },
    {
     "data": {
      "text/html": [
       "<p style='color:#ada;'>saving historic tohlcv data to json</p>"
      ],
      "text/plain": [
       "<IPython.core.display.HTML object>"
      ]
     },
     "metadata": {},
     "output_type": "display_data"
    },
    {
     "name": "stdout",
     "output_type": "stream",
     "text": [
      "{'tps': [[1731936060000, 0.16465, 0.1647, 0.16399, 0.1647, 68934.0], [1732030920000, 0.15959, 0.15995, 0.15802, 0.15802, 210687.0], [1732073700000, 0.1543, 0.15474, 0.154, 0.15401, 110378.0]], 'entry_reached': [[1731925200000, 0.17172, 0.17264, 0.17164, 0.17244, 47390.0]], 'stop_loss_reached': None, 'break_reason': None}\n"
     ]
    },
    {
     "data": {
      "text/html": [
       "<p style='color:#0f0;'>********************************************************************************************************************</p>"
      ],
      "text/plain": [
       "<IPython.core.display.HTML object>"
      ]
     },
     "metadata": {},
     "output_type": "display_data"
    },
    {
     "name": "stdout",
     "output_type": "stream",
     "text": [
      "FTM/USDT:USDT SHORT\n"
     ]
    },
    {
     "data": {
      "text/html": [
       "<p style='color:#c01;'>json, 1732134600000</p>"
      ],
      "text/plain": [
       "<IPython.core.display.HTML object>"
      ]
     },
     "metadata": {},
     "output_type": "display_data"
    },
    {
     "name": "stdout",
     "output_type": "stream",
     "text": [
      "{'tps': [[1731957780000, 0.7009, 0.701, 0.699, 0.699, 54799.0], [1732049640000, 0.6902, 0.6908, 0.6889, 0.6892, 49049.0], [1732072020000, 0.6762, 0.6762, 0.673, 0.6741, 39291.0]], 'entry_reached': [[1731952560000, 0.7236, 0.726, 0.7236, 0.726, 6691.0]], 'stop_loss_reached': None, 'break_reason': None}\n"
     ]
    },
    {
     "data": {
      "text/html": [
       "<p style='color:#0f0;'>********************************************************************************************************************</p>"
      ],
      "text/plain": [
       "<IPython.core.display.HTML object>"
      ]
     },
     "metadata": {},
     "output_type": "display_data"
    },
    {
     "name": "stdout",
     "output_type": "stream",
     "text": [
      "SHIB/USDT:USDT SHORT\n"
     ]
    },
    {
     "data": {
      "text/html": [
       "<p style='color:#c01;'>json, 1731961800000</p>"
      ],
      "text/plain": [
       "<IPython.core.display.HTML object>"
      ]
     },
     "metadata": {},
     "output_type": "display_data"
    },
    {
     "data": {
      "text/html": [
       "<p style='color:#ada;'>saving historic tohlcv data to json</p>"
      ],
      "text/plain": [
       "<IPython.core.display.HTML object>"
      ]
     },
     "metadata": {},
     "output_type": "display_data"
    },
    {
     "name": "stdout",
     "output_type": "stream",
     "text": [
      "{'tps': [], 'entry_reached': [], 'stop_loss_reached': None, 'break_reason': None}\n"
     ]
    },
    {
     "data": {
      "text/html": [
       "<p style='color:#0f0;'>********************************************************************************************************************</p>"
      ],
      "text/plain": [
       "<IPython.core.display.HTML object>"
      ]
     },
     "metadata": {},
     "output_type": "display_data"
    },
    {
     "name": "stdout",
     "output_type": "stream",
     "text": [
      "BCH/USDT:USDT SHORT\n"
     ]
    },
    {
     "data": {
      "text/html": [
       "<p style='color:#c01;'>json, 1732134600000</p>"
      ],
      "text/plain": [
       "<IPython.core.display.HTML object>"
      ]
     },
     "metadata": {},
     "output_type": "display_data"
    },
    {
     "name": "stdout",
     "output_type": "stream",
     "text": [
      "{'tps': [], 'entry_reached': [], 'stop_loss_reached': None, 'break_reason': None}\n"
     ]
    },
    {
     "data": {
      "text/html": [
       "<p style='color:#0f0;'>********************************************************************************************************************</p>"
      ],
      "text/plain": [
       "<IPython.core.display.HTML object>"
      ]
     },
     "metadata": {},
     "output_type": "display_data"
    },
    {
     "name": "stdout",
     "output_type": "stream",
     "text": [
      "SUI/USDT:USDT SHORT\n"
     ]
    },
    {
     "data": {
      "text/html": [
       "<p style='color:#c01;'>json, 1732134600000</p>"
      ],
      "text/plain": [
       "<IPython.core.display.HTML object>"
      ]
     },
     "metadata": {},
     "output_type": "display_data"
    },
    {
     "name": "stdout",
     "output_type": "stream",
     "text": [
      "{'tps': [[1732120260000, 3.62128, 3.63775, 3.61877, 3.63603, 45363.0]], 'entry_reached': [[1732046640000, 3.80405, 3.82047, 3.80385, 3.81796, 17996.0]], 'stop_loss_reached': None, 'break_reason': None}\n"
     ]
    },
    {
     "data": {
      "text/html": [
       "<p style='color:#0f0;'>********************************************************************************************************************</p>"
      ],
      "text/plain": [
       "<IPython.core.display.HTML object>"
      ]
     },
     "metadata": {},
     "output_type": "display_data"
    },
    {
     "name": "stdout",
     "output_type": "stream",
     "text": [
      "SOL/USDT:USDT SHORT\n"
     ]
    },
    {
     "data": {
      "text/html": [
       "<p style='color:#c01;'>json, 1732134600000</p>"
      ],
      "text/plain": [
       "<IPython.core.display.HTML object>"
      ]
     },
     "metadata": {},
     "output_type": "display_data"
    },
    {
     "name": "stdout",
     "output_type": "stream",
     "text": [
      "{'tps': [], 'entry_reached': [[1732103400000, 237.465, 238.366, 237.449, 238.114, 2418.0]], 'stop_loss_reached': None, 'break_reason': None}\n"
     ]
    },
    {
     "data": {
      "text/html": [
       "<p style='color:#0f0;'>********************************************************************************************************************</p>"
      ],
      "text/plain": [
       "<IPython.core.display.HTML object>"
      ]
     },
     "metadata": {},
     "output_type": "display_data"
    },
    {
     "data": {
      "text/plain": [
       "True"
      ]
     },
     "execution_count": 3,
     "metadata": {},
     "output_type": "execute_result"
    }
   ],
   "source": [
    "\n",
    "# اول فروردین = 2024/3/20\n",
    "# end_date = datetime(2024, 3, 20, tzinfo=timezone.utc)\n",
    "# اول خرداد = 2024/5/21\n",
    "# end_date = datetime(2024, 5, 21, tzinfo=timezone.utc)\n",
    "# start_date = datetime(2024, 5, 29, tzinfo=timezone.utc)\n",
    "# اول تیر = 2024/6/21\n",
    "# start_date = datetime(2024, 6, 21, tzinfo=timezone.utc)\n",
    "# end_date = datetime(2024, 9, 7, tzinfo=timezone.utc)\n",
    "\n",
    "\n",
    "# 1709889120000 1709975340000\n",
    "# offset_date = int(convertDateToMilliTimeStamp(year=2024, month=4, day=30, hour=0, minute=0))/1000\n",
    "\n",
    "await aliBey.FindStatistic(year=2023, month=11, day=5, \n",
    "                        # offset_date=offset_date\n",
    "                        )\n",
    "    "
   ]
  }
 ],
 "metadata": {
  "kernelspec": {
   "display_name": ".venv",
   "language": "python",
   "name": "python3"
  },
  "language_info": {
   "codemirror_mode": {
    "name": "ipython",
    "version": 3
   },
   "file_extension": ".py",
   "mimetype": "text/x-python",
   "name": "python",
   "nbconvert_exporter": "python",
   "pygments_lexer": "ipython3",
   "version": "3.12.6"
  }
 },
 "nbformat": 4,
 "nbformat_minor": 2
}
