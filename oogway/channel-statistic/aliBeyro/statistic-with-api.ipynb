{
 "cells": [
  {
   "cell_type": "code",
   "execution_count": 1,
   "metadata": {},
   "outputs": [],
   "source": [
    "import django\n",
    "import os\n",
    "import sys\n",
    "import shutil\n",
    "\n",
    "path='../../'\n",
    "\n",
    "source_file_path = f'{path}.env'\n",
    "\n",
    "destination_file_path = '.'\n",
    "\n",
    "shutil.copy(source_file_path, destination_file_path)\n",
    "\n",
    "from dotenv import dotenv_values\n",
    "\n",
    "_config = dotenv_values(\".env\")\n",
    "_username = _config[\"username\"]\n",
    "\n",
    "session_file_path = f'{path}{_username}.session'\n",
    "\n",
    "shutil.copy(session_file_path, destination_file_path)\n",
    "\n",
    "\n",
    "project_path = path  # Adjust this to your actual project path\n",
    "sys.path.append(project_path)\n",
    "os.environ.setdefault('DJANGO_SETTINGS_MODULE', 'oogway.settings')\n",
    "django.setup()\n"
   ]
  },
  {
   "cell_type": "code",
   "execution_count": 2,
   "metadata": {},
   "outputs": [],
   "source": [
    "import warnings\n",
    "from Channels.AliBeyroChannel import AliBeyroChannel\n",
    "from Shared.Exchange import exchange\n",
    "from Shared.helpers import convertDateToMilliTimeStamp, zero_hours_minutes_seconds\n",
    "from Shared.dataIO import load_historic_tohlcv_json\n",
    "from bisect import bisect_left\n",
    "\n",
    "aliBey = AliBeyroChannel()\n",
    "\n",
    "\n",
    "# Disable all warnings\n",
    "warnings.filterwarnings(\"ignore\")"
   ]
  },
  {
   "cell_type": "markdown",
   "metadata": {},
   "source": [
    "## Get channel history"
   ]
  },
  {
   "cell_type": "code",
   "execution_count": 3,
   "metadata": {},
   "outputs": [
    {
     "name": "stdout",
     "output_type": "stream",
     "text": [
      "Current Offset ID is: 0 ; Total Messages: 0\n"
     ]
    },
    {
     "name": "stderr",
     "output_type": "stream",
     "text": [
      "100%|██████████| 100/100 [00:00<?, ?it/s]\n"
     ]
    },
    {
     "name": "stdout",
     "output_type": "stream",
     "text": [
      "Current Offset ID is: 6671 ; Total Messages: 100\n"
     ]
    },
    {
     "name": "stderr",
     "output_type": "stream",
     "text": [
      "100%|██████████| 100/100 [00:00<?, ?it/s]\n"
     ]
    },
    {
     "name": "stdout",
     "output_type": "stream",
     "text": [
      "Current Offset ID is: 6568 ; Total Messages: 200\n"
     ]
    },
    {
     "name": "stderr",
     "output_type": "stream",
     "text": [
      "100%|██████████| 100/100 [00:00<?, ?it/s]\n"
     ]
    },
    {
     "name": "stdout",
     "output_type": "stream",
     "text": [
      "Current Offset ID is: 6466 ; Total Messages: 300\n"
     ]
    },
    {
     "name": "stderr",
     "output_type": "stream",
     "text": [
      "100%|██████████| 100/100 [00:00<?, ?it/s]\n"
     ]
    },
    {
     "name": "stdout",
     "output_type": "stream",
     "text": [
      "Current Offset ID is: 6366 ; Total Messages: 400\n"
     ]
    },
    {
     "name": "stderr",
     "output_type": "stream",
     "text": [
      " 37%|███▋      | 37/100 [00:00<00:00, 265280.77it/s]\n"
     ]
    },
    {
     "name": "stdout",
     "output_type": "stream",
     "text": [
      "OP/USDT:USDT SHORT\n",
      "{'tps': [[1729879800000, 1.6352, 1.6358, 1.63, 1.6344, 18969.3], [1729898040000, 1.5832, 1.5848, 1.5681, 1.57, 23262.6], [1729898580000, 1.526, 1.5289, 1.4908, 1.5027, 199432.6], [1730560200000, 1.4447, 1.4449, 1.4386, 1.4395, 55595.4], [1730643900000, 1.366, 1.3678, 1.3587, 1.3605, 20461.1], [1730753460000, 1.3218, 1.3218, 1.3199, 1.3212, 345.2]], 'entry_reached': [[1729758720000, 1.6996, 1.7006, 1.6994, 1.6997, 423.1]], 'stop_loss_reached': None, 'break_reason': None}\n"
     ]
    },
    {
     "data": {
      "text/html": [
       "<p style='color:#0f0;'>********************************************************************************************************************</p>"
      ],
      "text/plain": [
       "<IPython.core.display.HTML object>"
      ]
     },
     "metadata": {},
     "output_type": "display_data"
    },
    {
     "name": "stdout",
     "output_type": "stream",
     "text": [
      "TRX/USDT:USDT SHORT\n"
     ]
    },
    {
     "data": {
      "text/html": [
       "<p style='color:#c01;'>json, 1729801800000</p>"
      ],
      "text/plain": [
       "<IPython.core.display.HTML object>"
      ]
     },
     "metadata": {},
     "output_type": "display_data"
    },
    {
     "data": {
      "text/html": [
       "<p style='color:#fd03a1;'>stop_timestamp</p>"
      ],
      "text/plain": [
       "<IPython.core.display.HTML object>"
      ]
     },
     "metadata": {},
     "output_type": "display_data"
    },
    {
     "data": {
      "text/html": [
       "<p style='color:#ada;'>saving historic tohlcv data to json</p>"
      ],
      "text/plain": [
       "<IPython.core.display.HTML object>"
      ]
     },
     "metadata": {},
     "output_type": "display_data"
    },
    {
     "name": "stdout",
     "output_type": "stream",
     "text": [
      "{'tps': [[1729897500000, 0.16442, 0.16442, 0.16384, 0.16391, 167155.0]], 'entry_reached': [[1729855860000, 0.16606, 0.1661, 0.16606, 0.16608, 119081.0]], 'stop_loss_reached': None, 'break_reason': None}\n"
     ]
    },
    {
     "data": {
      "text/html": [
       "<p style='color:#0f0;'>********************************************************************************************************************</p>"
      ],
      "text/plain": [
       "<IPython.core.display.HTML object>"
      ]
     },
     "metadata": {},
     "output_type": "display_data"
    },
    {
     "name": "stdout",
     "output_type": "stream",
     "text": [
      "BNB/USDT:USDT SHORT\n",
      "{'tps': [[1730640900000, 555.13, 555.57, 554.85, 555.56, 60.49]], 'entry_reached': [[1729917240000, 578.66, 578.66, 578.48, 578.62, 19.36]], 'stop_loss_reached': None, 'break_reason': None}\n"
     ]
    },
    {
     "data": {
      "text/html": [
       "<p style='color:#0f0;'>********************************************************************************************************************</p>"
      ],
      "text/plain": [
       "<IPython.core.display.HTML object>"
      ]
     },
     "metadata": {},
     "output_type": "display_data"
    },
    {
     "name": "stdout",
     "output_type": "stream",
     "text": [
      "INJ/USDT:USDT SHORT\n",
      "{'tps': [[1729950660000, 18.331, 18.335, 18.293, 18.309, 2222.0], [1729954740000, 18.026, 18.027, 17.978, 18.002, 2775.0], [1730599620000, 17.71, 17.71, 17.694, 17.695, 2067.0], [1730601720000, 17.375, 17.392, 17.294, 17.298, 1978.0], [1730641680000, 17.031, 17.031, 16.949, 16.959, 4040.0]], 'entry_reached': [[1729917720000, 18.52, 18.577, 18.52, 18.574, 1898.0]], 'stop_loss_reached': None, 'break_reason': None}\n"
     ]
    },
    {
     "data": {
      "text/html": [
       "<p style='color:#0f0;'>********************************************************************************************************************</p>"
      ],
      "text/plain": [
       "<IPython.core.display.HTML object>"
      ]
     },
     "metadata": {},
     "output_type": "display_data"
    },
    {
     "name": "stdout",
     "output_type": "stream",
     "text": [
      "OP/USDT:USDT SHORT\n",
      "{'tps': [[1730496840000, 1.5145, 1.5145, 1.5092, 1.5101, 13308.5], [1730560200000, 1.4447, 1.4449, 1.4386, 1.4395, 55595.4], [1730643900000, 1.366, 1.3678, 1.3587, 1.3605, 20461.1], [1730753460000, 1.3218, 1.3218, 1.3199, 1.3212, 345.2]], 'entry_reached': [[1729974120000, 1.5791, 1.5804, 1.5791, 1.5802, 6955.8]], 'stop_loss_reached': None, 'break_reason': None}\n"
     ]
    },
    {
     "data": {
      "text/html": [
       "<p style='color:#0f0;'>********************************************************************************************************************</p>"
      ],
      "text/plain": [
       "<IPython.core.display.HTML object>"
      ]
     },
     "metadata": {},
     "output_type": "display_data"
    },
    {
     "name": "stdout",
     "output_type": "stream",
     "text": [
      "APT/USDT:USDT SHORT\n"
     ]
    },
    {
     "data": {
      "text/html": [
       "<p style='color:#c01;'>json, 1730752200000</p>"
      ],
      "text/plain": [
       "<IPython.core.display.HTML object>"
      ]
     },
     "metadata": {},
     "output_type": "display_data"
    },
    {
     "data": {
      "text/html": [
       "<p style='color:#fd03a1;'>stop_timestamp</p>"
      ],
      "text/plain": [
       "<IPython.core.display.HTML object>"
      ]
     },
     "metadata": {},
     "output_type": "display_data"
    },
    {
     "data": {
      "text/html": [
       "<p style='color:#ada;'>saving historic tohlcv data to json</p>"
      ],
      "text/plain": [
       "<IPython.core.display.HTML object>"
      ]
     },
     "metadata": {},
     "output_type": "display_data"
    },
    {
     "name": "stdout",
     "output_type": "stream",
     "text": [
      "{'tps': [[1730086320000, 8.8706, 8.871, 8.8237, 8.8237, 5816.1], [1730088000000, 8.7217, 8.7225, 8.6999, 8.71, 22840.4], [1730551800000, 8.5698, 8.5925, 8.56, 8.5907, 3981.7], [1730601060000, 8.3464, 8.3644, 8.32, 8.3246, 43481.9], [1730603040000, 8.1193, 8.1216, 8.0828, 8.089, 8370.3], [1730641860000, 7.9754, 7.9797, 7.94, 7.945, 7533.3]], 'entry_reached': [[1730012460000, 9.1256, 9.1527, 9.1254, 9.1517, 3974.3], [1730207940000, 10.1105, 10.1222, 10.1022, 10.1205, 8870.2]], 'stop_loss_reached': None, 'break_reason': None}\n"
     ]
    },
    {
     "data": {
      "text/html": [
       "<p style='color:#0f0;'>********************************************************************************************************************</p>"
      ],
      "text/plain": [
       "<IPython.core.display.HTML object>"
      ]
     },
     "metadata": {},
     "output_type": "display_data"
    },
    {
     "name": "stdout",
     "output_type": "stream",
     "text": [
      "DOGE/USDT:USDT SHORT\n"
     ]
    },
    {
     "data": {
      "text/html": [
       "<p style='color:#c01;'>json, 1730147400000</p>"
      ],
      "text/plain": [
       "<IPython.core.display.HTML object>"
      ]
     },
     "metadata": {},
     "output_type": "display_data"
    },
    {
     "data": {
      "text/html": [
       "<p style='color:#fd03a1;'>stop_timestamp</p>"
      ],
      "text/plain": [
       "<IPython.core.display.HTML object>"
      ]
     },
     "metadata": {},
     "output_type": "display_data"
    },
    {
     "data": {
      "text/html": [
       "<p style='color:#ada;'>saving historic tohlcv data to json</p>"
      ],
      "text/plain": [
       "<IPython.core.display.HTML object>"
      ]
     },
     "metadata": {},
     "output_type": "display_data"
    },
    {
     "name": "stdout",
     "output_type": "stream",
     "text": [
      "{'tps': [], 'entry_reached': [[1730057400000, 0.14118, 0.14159, 0.14115, 0.14159, 636021.0], [1730139300000, 0.15265, 0.15303, 0.15253, 0.1527, 936077.0]], 'stop_loss_reached': [1730143260000, 0.15773, 0.1579, 0.15746, 0.15748, 11648622.0], 'break_reason': None}\n"
     ]
    },
    {
     "data": {
      "text/html": [
       "<p style='color:#0f0;'>********************************************************************************************************************</p>"
      ],
      "text/plain": [
       "<IPython.core.display.HTML object>"
      ]
     },
     "metadata": {},
     "output_type": "display_data"
    },
    {
     "name": "stdout",
     "output_type": "stream",
     "text": [
      "AAVE/USDT:USDT SHORT\n"
     ]
    },
    {
     "data": {
      "text/html": [
       "<p style='color:#c01;'>json, 1730406600000</p>"
      ],
      "text/plain": [
       "<IPython.core.display.HTML object>"
      ]
     },
     "metadata": {},
     "output_type": "display_data"
    },
    {
     "data": {
      "text/html": [
       "<p style='color:#ada;'>saving historic tohlcv data to json</p>"
      ],
      "text/plain": [
       "<IPython.core.display.HTML object>"
      ]
     },
     "metadata": {},
     "output_type": "display_data"
    },
    {
     "name": "stdout",
     "output_type": "stream",
     "text": [
      "{'tps': [[1730398080000, 143.61, 143.62, 143.38, 143.47, 221.6], [1730402220000, 141.41, 141.59, 141.28, 141.34, 205.9], [1730554560000, 139.06, 139.14, 138.7, 139.13, 290.5], [1730601000000, 136.11, 136.13, 135.47, 135.6, 426.8], [1730640720000, 133.45, 133.45, 132.9, 133.08, 267.4], [1730659260000, 129.22, 129.23, 128.66, 128.71, 606.9], [1730757120000, 126.24, 126.26, 125.89, 126.13, 215.7]], 'entry_reached': [[1730063940000, 144.68, 144.72, 144.68, 144.69, 194.2], [1730118840000, 153.61, 153.91, 153.51, 153.6, 989.3]], 'stop_loss_reached': [1730901720000, 162.36, 164.16, 162.33, 164.0, 506.7], 'break_reason': None}\n"
     ]
    },
    {
     "data": {
      "text/html": [
       "<p style='color:#0f0;'>********************************************************************************************************************</p>"
      ],
      "text/plain": [
       "<IPython.core.display.HTML object>"
      ]
     },
     "metadata": {},
     "output_type": "display_data"
    },
    {
     "name": "stdout",
     "output_type": "stream",
     "text": [
      "APT/USDT:USDT SHORT\n",
      "{'tps': [[1730443980000, 8.869, 8.872, 8.8586, 8.8618, 1497.1], [1730476260000, 8.7228, 8.7234, 8.6715, 8.7014, 10144.8], [1730551800000, 8.5698, 8.5925, 8.56, 8.5907, 3981.7], [1730601060000, 8.3464, 8.3644, 8.32, 8.3246, 43481.9], [1730603040000, 8.1193, 8.1216, 8.0828, 8.089, 8370.3], [1730641860000, 7.9754, 7.9797, 7.94, 7.945, 7533.3]], 'entry_reached': [[1730151780000, 9.1535, 9.1756, 9.1513, 9.1756, 4390.8], [1730251200000, 10.1305, 10.2124, 10.1261, 10.2075, 7804.9]], 'stop_loss_reached': None, 'break_reason': None}\n"
     ]
    },
    {
     "data": {
      "text/html": [
       "<p style='color:#0f0;'>********************************************************************************************************************</p>"
      ],
      "text/plain": [
       "<IPython.core.display.HTML object>"
      ]
     },
     "metadata": {},
     "output_type": "display_data"
    },
    {
     "name": "stdout",
     "output_type": "stream",
     "text": [
      "DOGE/USDT:USDT SHORT\n"
     ]
    },
    {
     "data": {
      "text/html": [
       "<p style='color:#c01;'>json, 1730925000000</p>"
      ],
      "text/plain": [
       "<IPython.core.display.HTML object>"
      ]
     },
     "metadata": {},
     "output_type": "display_data"
    },
    {
     "name": "stdout",
     "output_type": "stream",
     "text": [
      "{'tps': [[1730404200000, 0.16224, 0.16224, 0.16089, 0.16098, 892598.0], [1730407620000, 0.15814, 0.15829, 0.15799, 0.15804, 4422419.0], [1730600580000, 0.15485, 0.15485, 0.15375, 0.15406, 5527548.0], [1730601420000, 0.1514, 0.15141, 0.15094, 0.15107, 2993846.0], [1730640780000, 0.14767, 0.14775, 0.14697, 0.14719, 3384002.0], [1730648280000, 0.143, 0.143, 0.14254, 0.14292, 3876759.0]], 'entry_reached': [[1730193240000, 0.1649, 0.16515, 0.16483, 0.16513, 197957.0], [1730218920000, 0.17669, 0.17918, 0.17669, 0.17911, 3367731.0]], 'stop_loss_reached': [1730860080000, 0.18654, 0.1879, 0.18652, 0.18788, 6712604.0], 'break_reason': None}\n"
     ]
    },
    {
     "data": {
      "text/html": [
       "<p style='color:#0f0;'>********************************************************************************************************************</p>"
      ],
      "text/plain": [
       "<IPython.core.display.HTML object>"
      ]
     },
     "metadata": {},
     "output_type": "display_data"
    },
    {
     "name": "stdout",
     "output_type": "stream",
     "text": [
      "WIF/USDT:USDT SHORT\n"
     ]
    },
    {
     "data": {
      "text/html": [
       "<p style='color:#c01;'>json, 1730493000000</p>"
      ],
      "text/plain": [
       "<IPython.core.display.HTML object>"
      ]
     },
     "metadata": {},
     "output_type": "display_data"
    },
    {
     "data": {
      "text/html": [
       "<p style='color:#ada;'>saving historic tohlcv data to json</p>"
      ],
      "text/plain": [
       "<IPython.core.display.HTML object>"
      ]
     },
     "metadata": {},
     "output_type": "display_data"
    },
    {
     "name": "stdout",
     "output_type": "stream",
     "text": [
      "{'tps': [], 'entry_reached': [], 'stop_loss_reached': None, 'break_reason': None}\n"
     ]
    },
    {
     "data": {
      "text/html": [
       "<p style='color:#0f0;'>********************************************************************************************************************</p>"
      ],
      "text/plain": [
       "<IPython.core.display.HTML object>"
      ]
     },
     "metadata": {},
     "output_type": "display_data"
    },
    {
     "name": "stdout",
     "output_type": "stream",
     "text": [
      "AAVE/USDT:USDT SHORT\n"
     ]
    },
    {
     "data": {
      "text/html": [
       "<p style='color:#c01;'>json, 1730925000000</p>"
      ],
      "text/plain": [
       "<IPython.core.display.HTML object>"
      ]
     },
     "metadata": {},
     "output_type": "display_data"
    },
    {
     "name": "stdout",
     "output_type": "stream",
     "text": [
      "{'tps': [[1730383440000, 147.23, 147.24, 146.16, 146.39, 419.2], [1730398080000, 143.61, 143.62, 143.38, 143.47, 221.6], [1730402220000, 141.41, 141.59, 141.28, 141.34, 205.9], [1730554560000, 139.06, 139.14, 138.7, 139.13, 290.5], [1730601000000, 136.11, 136.13, 135.47, 135.6, 426.8], [1730640720000, 133.45, 133.45, 132.9, 133.08, 267.4], [1730659260000, 129.22, 129.23, 128.66, 128.71, 606.9], [1730757120000, 126.24, 126.26, 125.89, 126.13, 215.7]], 'entry_reached': [[1730362080000, 152.3, 152.33, 152.28, 152.3, 186.0]], 'stop_loss_reached': [1730901720000, 162.36, 164.16, 162.33, 164.0, 506.7], 'break_reason': None}\n"
     ]
    },
    {
     "data": {
      "text/html": [
       "<p style='color:#0f0;'>********************************************************************************************************************</p>"
      ],
      "text/plain": [
       "<IPython.core.display.HTML object>"
      ]
     },
     "metadata": {},
     "output_type": "display_data"
    },
    {
     "name": "stdout",
     "output_type": "stream",
     "text": [
      "BNB/USDT:USDT SHORT\n"
     ]
    },
    {
     "data": {
      "text/html": [
       "<p style='color:#c01;'>json, 1730925000000</p>"
      ],
      "text/plain": [
       "<IPython.core.display.HTML object>"
      ]
     },
     "metadata": {},
     "output_type": "display_data"
    },
    {
     "name": "stdout",
     "output_type": "stream",
     "text": [
      "{'tps': [[1730640900000, 555.13, 555.57, 554.85, 555.56, 60.49]], 'entry_reached': [[1730362920000, 584.63, 584.63, 584.16, 584.19, 175.55]], 'stop_loss_reached': None, 'break_reason': None}\n"
     ]
    },
    {
     "data": {
      "text/html": [
       "<p style='color:#0f0;'>********************************************************************************************************************</p>"
      ],
      "text/plain": [
       "<IPython.core.display.HTML object>"
      ]
     },
     "metadata": {},
     "output_type": "display_data"
    },
    {
     "name": "stdout",
     "output_type": "stream",
     "text": [
      "BNB/USDT:USDT SHORT\n"
     ]
    },
    {
     "data": {
      "text/html": [
       "<p style='color:#c01;'>json, 1730925000000</p>"
      ],
      "text/plain": [
       "<IPython.core.display.HTML object>"
      ]
     },
     "metadata": {},
     "output_type": "display_data"
    },
    {
     "name": "stdout",
     "output_type": "stream",
     "text": [
      "{'tps': [[1730640900000, 555.13, 555.57, 554.85, 555.56, 60.49]], 'entry_reached': [[1730362980000, 584.17, 584.19, 583.86, 583.86, 107.12]], 'stop_loss_reached': None, 'break_reason': None}\n"
     ]
    },
    {
     "data": {
      "text/html": [
       "<p style='color:#0f0;'>********************************************************************************************************************</p>"
      ],
      "text/plain": [
       "<IPython.core.display.HTML object>"
      ]
     },
     "metadata": {},
     "output_type": "display_data"
    },
    {
     "name": "stdout",
     "output_type": "stream",
     "text": [
      "TRX/USDT:USDT SHORT\n"
     ]
    },
    {
     "data": {
      "text/html": [
       "<p style='color:#c01;'>json, 1730752200000</p>"
      ],
      "text/plain": [
       "<IPython.core.display.HTML object>"
      ]
     },
     "metadata": {},
     "output_type": "display_data"
    },
    {
     "data": {
      "text/html": [
       "<p style='color:#ada;'>saving historic tohlcv data to json</p>"
      ],
      "text/plain": [
       "<IPython.core.display.HTML object>"
      ]
     },
     "metadata": {},
     "output_type": "display_data"
    },
    {
     "name": "stdout",
     "output_type": "stream",
     "text": [
      "{'tps': [[1730599860000, 0.16517, 0.16519, 0.16461, 0.1648, 196334.0], [1730828760000, 0.16124, 0.16124, 0.16081, 0.16091, 306271.0]], 'entry_reached': [[1730364540000, 0.16946, 0.16951, 0.16946, 0.16948, 207330.0]], 'stop_loss_reached': None, 'break_reason': None}\n"
     ]
    },
    {
     "data": {
      "text/html": [
       "<p style='color:#0f0;'>********************************************************************************************************************</p>"
      ],
      "text/plain": [
       "<IPython.core.display.HTML object>"
      ]
     },
     "metadata": {},
     "output_type": "display_data"
    },
    {
     "name": "stdout",
     "output_type": "stream",
     "text": [
      "DOGE/USDT:USDT SHORT\n"
     ]
    },
    {
     "data": {
      "text/html": [
       "<p style='color:#c01;'>json, 1730925000000</p>"
      ],
      "text/plain": [
       "<IPython.core.display.HTML object>"
      ]
     },
     "metadata": {},
     "output_type": "display_data"
    },
    {
     "name": "stdout",
     "output_type": "stream",
     "text": [
      "{'tps': [[1730383440000, 0.16532, 0.16534, 0.1648, 0.16503, 2704182.0], [1730398740000, 0.16207, 0.16212, 0.1616, 0.16165, 1792670.0], [1730407620000, 0.15814, 0.15829, 0.15799, 0.15804, 4422419.0], [1730600580000, 0.15485, 0.15485, 0.15375, 0.15406, 5527548.0], [1730601420000, 0.1514, 0.15141, 0.15094, 0.15107, 2993846.0], [1730640780000, 0.14767, 0.14775, 0.14697, 0.14719, 3384002.0], [1730648280000, 0.143, 0.143, 0.14254, 0.14292, 3876759.0]], 'entry_reached': [[1730366880000, 0.17084, 0.1713, 0.17083, 0.1713, 3313498.0]], 'stop_loss_reached': [1730860080000, 0.18654, 0.1879, 0.18652, 0.18788, 6712604.0], 'break_reason': None}\n"
     ]
    },
    {
     "data": {
      "text/html": [
       "<p style='color:#0f0;'>********************************************************************************************************************</p>"
      ],
      "text/plain": [
       "<IPython.core.display.HTML object>"
      ]
     },
     "metadata": {},
     "output_type": "display_data"
    },
    {
     "name": "stdout",
     "output_type": "stream",
     "text": [
      "ADA/USDT:USDT SHORT\n"
     ]
    },
    {
     "data": {
      "text/html": [
       "<p style='color:#c01;'>json, 1730320200000</p>"
      ],
      "text/plain": [
       "<IPython.core.display.HTML object>"
      ]
     },
     "metadata": {},
     "output_type": "display_data"
    },
    {
     "data": {
      "text/html": [
       "<p style='color:#ada;'>saving historic tohlcv data to json</p>"
      ],
      "text/plain": [
       "<IPython.core.display.HTML object>"
      ]
     },
     "metadata": {},
     "output_type": "display_data"
    },
    {
     "name": "stdout",
     "output_type": "stream",
     "text": [
      "{'tps': [[1730603040000, 0.33528, 0.33562, 0.33481, 0.33522, 186056.0], [1730738580000, 0.32401, 0.32427, 0.32389, 0.32409, 193057.0]], 'entry_reached': [[1730464320000, 0.3493, 0.35014, 0.34909, 0.34993, 83162.0]], 'stop_loss_reached': None, 'break_reason': None}\n"
     ]
    },
    {
     "data": {
      "text/html": [
       "<p style='color:#0f0;'>********************************************************************************************************************</p>"
      ],
      "text/plain": [
       "<IPython.core.display.HTML object>"
      ]
     },
     "metadata": {},
     "output_type": "display_data"
    },
    {
     "name": "stdout",
     "output_type": "stream",
     "text": [
      "OP/USDT:USDT SHORT\n"
     ]
    },
    {
     "data": {
      "text/html": [
       "<p style='color:#c01;'>json, 1730925000000</p>"
      ],
      "text/plain": [
       "<IPython.core.display.HTML object>"
      ]
     },
     "metadata": {},
     "output_type": "display_data"
    },
    {
     "name": "stdout",
     "output_type": "stream",
     "text": [
      "{'tps': [], 'entry_reached': [], 'stop_loss_reached': None, 'break_reason': None}\n"
     ]
    },
    {
     "data": {
      "text/html": [
       "<p style='color:#0f0;'>********************************************************************************************************************</p>"
      ],
      "text/plain": [
       "<IPython.core.display.HTML object>"
      ]
     },
     "metadata": {},
     "output_type": "display_data"
    },
    {
     "data": {
      "text/html": [
       "<p style='color:#FFFF00;'>waiting 5 min...</p>"
      ],
      "text/plain": [
       "<IPython.core.display.HTML object>"
      ]
     },
     "metadata": {},
     "output_type": "display_data"
    },
    {
     "name": "stdout",
     "output_type": "stream",
     "text": [
      "DOGE/USDT:USDT SHORT\n"
     ]
    },
    {
     "data": {
      "text/html": [
       "<p style='color:#c01;'>json, 1730925000000</p>"
      ],
      "text/plain": [
       "<IPython.core.display.HTML object>"
      ]
     },
     "metadata": {},
     "output_type": "display_data"
    },
    {
     "name": "stdout",
     "output_type": "stream",
     "text": [
      "{'tps': [[1730770140000, 0.16198, 0.162, 0.1608, 0.16101, 939024.0]], 'entry_reached': [[1730767740000, 0.16529, 0.1664, 0.16518, 0.16616, 7977262.0], [1730818200000, 0.1776, 0.179, 0.17759, 0.17884, 2680522.0]], 'stop_loss_reached': [1730860200000, 0.18863, 0.1898, 0.18826, 0.18902, 8948335.0], 'break_reason': None}\n"
     ]
    },
    {
     "data": {
      "text/html": [
       "<p style='color:#0f0;'>********************************************************************************************************************</p>"
      ],
      "text/plain": [
       "<IPython.core.display.HTML object>"
      ]
     },
     "metadata": {},
     "output_type": "display_data"
    },
    {
     "name": "stdout",
     "output_type": "stream",
     "text": [
      "SUI/USDT:USDT SHORT\n"
     ]
    },
    {
     "data": {
      "text/html": [
       "<p style='color:#c01;'>json, 1730493000000</p>"
      ],
      "text/plain": [
       "<IPython.core.display.HTML object>"
      ]
     },
     "metadata": {},
     "output_type": "display_data"
    },
    {
     "data": {
      "text/html": [
       "<p style='color:#ada;'>saving historic tohlcv data to json</p>"
      ],
      "text/plain": [
       "<IPython.core.display.HTML object>"
      ]
     },
     "metadata": {},
     "output_type": "display_data"
    },
    {
     "name": "stdout",
     "output_type": "stream",
     "text": [
      "{'tps': [[1730570940000, 1.88339, 1.884, 1.87888, 1.87891, 84174.0], [1730601720000, 1.83702, 1.83774, 1.82806, 1.82806, 442805.0], [1730646240000, 1.78581, 1.78602, 1.77962, 1.78186, 84720.0]], 'entry_reached': [[1730540400000, 1.93759, 1.94357, 1.93759, 1.94332, 21475.0], [1730873100000, 2.34773, 2.354, 2.32498, 2.32692, 149669.0]], 'stop_loss_reached': None, 'break_reason': None}\n"
     ]
    },
    {
     "data": {
      "text/html": [
       "<p style='color:#0f0;'>********************************************************************************************************************</p>"
      ],
      "text/plain": [
       "<IPython.core.display.HTML object>"
      ]
     },
     "metadata": {},
     "output_type": "display_data"
    },
    {
     "name": "stdout",
     "output_type": "stream",
     "text": [
      "DOGE/USDT:USDT SHORT\n"
     ]
    },
    {
     "data": {
      "text/html": [
       "<p style='color:#c01;'>json, 1730925000000</p>"
      ],
      "text/plain": [
       "<IPython.core.display.HTML object>"
      ]
     },
     "metadata": {},
     "output_type": "display_data"
    },
    {
     "name": "stdout",
     "output_type": "stream",
     "text": [
      "{'tps': [[1730732040000, 0.15551, 0.15551, 0.15444, 0.15458, 3996236.0]], 'entry_reached': [[1730725860000, 0.15812, 0.15884, 0.15801, 0.15879, 951518.0], [1730789700000, 0.16839, 0.16914, 0.16836, 0.16882, 3981921.0]], 'stop_loss_reached': [1730818200000, 0.1776, 0.179, 0.17759, 0.17884, 2680522.0], 'break_reason': None}\n"
     ]
    },
    {
     "data": {
      "text/html": [
       "<p style='color:#0f0;'>********************************************************************************************************************</p>"
      ],
      "text/plain": [
       "<IPython.core.display.HTML object>"
      ]
     },
     "metadata": {},
     "output_type": "display_data"
    },
    {
     "name": "stdout",
     "output_type": "stream",
     "text": [
      "SUI/USDT:USDT SHORT\n"
     ]
    },
    {
     "data": {
      "text/html": [
       "<p style='color:#c01;'>json, 1730925000000</p>"
      ],
      "text/plain": [
       "<IPython.core.display.HTML object>"
      ]
     },
     "metadata": {},
     "output_type": "display_data"
    },
    {
     "name": "stdout",
     "output_type": "stream",
     "text": [
      "{'tps': [[1730757120000, 1.80099, 1.80142, 1.79274, 1.79731, 95667.0]], 'entry_reached': [[1730750160000, 1.84708, 1.84999, 1.84701, 1.84896, 11194.0], [1730862300000, 2.24791, 2.25634, 2.2402, 2.24841, 323132.0]], 'stop_loss_reached': [1730871000000, 2.32318, 2.33441, 2.30356, 2.30492, 164062.0], 'break_reason': None}\n"
     ]
    },
    {
     "data": {
      "text/html": [
       "<p style='color:#0f0;'>********************************************************************************************************************</p>"
      ],
      "text/plain": [
       "<IPython.core.display.HTML object>"
      ]
     },
     "metadata": {},
     "output_type": "display_data"
    },
    {
     "name": "stdout",
     "output_type": "stream",
     "text": [
      "DOGE/USDT:USDT SHORT\n"
     ]
    },
    {
     "data": {
      "text/html": [
       "<p style='color:#c01;'>json, 1730925000000</p>"
      ],
      "text/plain": [
       "<IPython.core.display.HTML object>"
      ]
     },
     "metadata": {},
     "output_type": "display_data"
    },
    {
     "name": "stdout",
     "output_type": "stream",
     "text": [
      "{'tps': [], 'entry_reached': [[1730784960000, 0.16334, 0.16349, 0.16331, 0.16343, 1163862.0], [1730818200000, 0.1776, 0.179, 0.17759, 0.17884, 2680522.0]], 'stop_loss_reached': [1730860200000, 0.18863, 0.1898, 0.18826, 0.18902, 8948335.0], 'break_reason': None}\n"
     ]
    },
    {
     "data": {
      "text/html": [
       "<p style='color:#0f0;'>********************************************************************************************************************</p>"
      ],
      "text/plain": [
       "<IPython.core.display.HTML object>"
      ]
     },
     "metadata": {},
     "output_type": "display_data"
    },
    {
     "name": "stdout",
     "output_type": "stream",
     "text": [
      "BNB/USDT:USDT SHORT\n"
     ]
    },
    {
     "data": {
      "text/html": [
       "<p style='color:#c01;'>json, 1730925000000</p>"
      ],
      "text/plain": [
       "<IPython.core.display.HTML object>"
      ]
     },
     "metadata": {},
     "output_type": "display_data"
    },
    {
     "name": "stdout",
     "output_type": "stream",
     "text": [
      "{'tps': [], 'entry_reached': [[1730792640000, 559.87, 560.0, 559.85, 560.0, 19.33]], 'stop_loss_reached': None, 'break_reason': None}\n"
     ]
    },
    {
     "data": {
      "text/html": [
       "<p style='color:#0f0;'>********************************************************************************************************************</p>"
      ],
      "text/plain": [
       "<IPython.core.display.HTML object>"
      ]
     },
     "metadata": {},
     "output_type": "display_data"
    },
    {
     "name": "stdout",
     "output_type": "stream",
     "text": [
      "SHIB/USDT:USDT SHORT\n"
     ]
    },
    {
     "data": {
      "text/html": [
       "<p style='color:#c01;'>json, 1730752200000</p>"
      ],
      "text/plain": [
       "<IPython.core.display.HTML object>"
      ]
     },
     "metadata": {},
     "output_type": "display_data"
    },
    {
     "data": {
      "text/html": [
       "<p style='color:#ada;'>saving historic tohlcv data to json</p>"
      ],
      "text/plain": [
       "<IPython.core.display.HTML object>"
      ]
     },
     "metadata": {},
     "output_type": "display_data"
    },
    {
     "name": "stdout",
     "output_type": "stream",
     "text": [
      "{'tps': [], 'entry_reached': [], 'stop_loss_reached': None, 'break_reason': None}\n"
     ]
    },
    {
     "data": {
      "text/html": [
       "<p style='color:#0f0;'>********************************************************************************************************************</p>"
      ],
      "text/plain": [
       "<IPython.core.display.HTML object>"
      ]
     },
     "metadata": {},
     "output_type": "display_data"
    },
    {
     "name": "stdout",
     "output_type": "stream",
     "text": [
      "RUNE/USDT:USDT SHORT\n"
     ]
    },
    {
     "data": {
      "text/html": [
       "<p style='color:#c01;'>json, 1730752200000</p>"
      ],
      "text/plain": [
       "<IPython.core.display.HTML object>"
      ]
     },
     "metadata": {},
     "output_type": "display_data"
    },
    {
     "data": {
      "text/html": [
       "<p style='color:#ada;'>saving historic tohlcv data to json</p>"
      ],
      "text/plain": [
       "<IPython.core.display.HTML object>"
      ]
     },
     "metadata": {},
     "output_type": "display_data"
    },
    {
     "name": "stdout",
     "output_type": "stream",
     "text": [
      "{'tps': [], 'entry_reached': [[1730853060000, 4.753, 4.789, 4.751, 4.785, 2132.0], [1730874360000, 5.395, 5.45, 5.391, 5.443, 4150.0]], 'stop_loss_reached': None, 'break_reason': None}\n"
     ]
    },
    {
     "data": {
      "text/html": [
       "<p style='color:#0f0;'>********************************************************************************************************************</p>"
      ],
      "text/plain": [
       "<IPython.core.display.HTML object>"
      ]
     },
     "metadata": {},
     "output_type": "display_data"
    },
    {
     "name": "stdout",
     "output_type": "stream",
     "text": [
      "RUNE/USDT:USDT SHORT\n"
     ]
    },
    {
     "data": {
      "text/html": [
       "<p style='color:#c01;'>json, 1730925000000</p>"
      ],
      "text/plain": [
       "<IPython.core.display.HTML object>"
      ]
     },
     "metadata": {},
     "output_type": "display_data"
    },
    {
     "name": "stdout",
     "output_type": "stream",
     "text": [
      "{'tps': [], 'entry_reached': [[1730872980000, 5.28, 5.29, 5.279, 5.28, 3880.0]], 'stop_loss_reached': None, 'break_reason': None}\n"
     ]
    },
    {
     "data": {
      "text/html": [
       "<p style='color:#0f0;'>********************************************************************************************************************</p>"
      ],
      "text/plain": [
       "<IPython.core.display.HTML object>"
      ]
     },
     "metadata": {},
     "output_type": "display_data"
    },
    {
     "data": {
      "text/plain": [
       "True"
      ]
     },
     "execution_count": 3,
     "metadata": {},
     "output_type": "execute_result"
    }
   ],
   "source": [
    "\n",
    "# اول فروردین = 2024/3/20\n",
    "# end_date = datetime(2024, 3, 20, tzinfo=timezone.utc)\n",
    "# اول خرداد = 2024/5/21\n",
    "# end_date = datetime(2024, 5, 21, tzinfo=timezone.utc)\n",
    "# start_date = datetime(2024, 5, 29, tzinfo=timezone.utc)\n",
    "# اول تیر = 2024/6/21\n",
    "# start_date = datetime(2024, 6, 21, tzinfo=timezone.utc)\n",
    "# end_date = datetime(2024, 9, 7, tzinfo=timezone.utc)\n",
    "\n",
    "\n",
    "# 1709889120000 1709975340000\n",
    "# offset_date = int(convertDateToMilliTimeStamp(year=2024, month=4, day=30, hour=0, minute=0))/1000\n",
    "\n",
    "await aliBey.FindStatistic(year=2024, month=10, day=5, \n",
    "                        # offset_date=offset_date\n",
    "                        )\n",
    "    "
   ]
  }
 ],
 "metadata": {
  "kernelspec": {
   "display_name": ".venv",
   "language": "python",
   "name": "python3"
  },
  "language_info": {
   "codemirror_mode": {
    "name": "ipython",
    "version": 3
   },
   "file_extension": ".py",
   "mimetype": "text/x-python",
   "name": "python",
   "nbconvert_exporter": "python",
   "pygments_lexer": "ipython3",
   "version": "3.12.6"
  }
 },
 "nbformat": 4,
 "nbformat_minor": 2
}
