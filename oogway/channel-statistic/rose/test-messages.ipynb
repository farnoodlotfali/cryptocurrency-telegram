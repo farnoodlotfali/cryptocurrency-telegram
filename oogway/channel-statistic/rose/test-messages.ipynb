{
 "cells": [
  {
   "cell_type": "code",
   "execution_count": 1,
   "metadata": {},
   "outputs": [],
   "source": [
    "import django\n",
    "import os\n",
    "import sys\n",
    "import shutil\n",
    "\n",
    "path='../../'\n",
    "\n",
    "source_file_path = f'{path}.env'\n",
    "\n",
    "destination_file_path = '.'\n",
    "\n",
    "shutil.copy(source_file_path, destination_file_path)\n",
    "\n",
    "from dotenv import dotenv_values\n",
    "\n",
    "_config = dotenv_values(\".env\")\n",
    "_username = _config[\"username\"]\n",
    "\n",
    "session_file_path = f'{path}{_username}.session'\n",
    "\n",
    "shutil.copy(session_file_path, destination_file_path)\n",
    "\n",
    "\n",
    "project_path = path  # Adjust this to your actual project path\n",
    "sys.path.append(project_path)\n",
    "os.environ.setdefault('DJANGO_SETTINGS_MODULE', 'oogway.settings')\n",
    "django.setup()\n"
   ]
  },
  {
   "cell_type": "code",
   "execution_count": 2,
   "metadata": {},
   "outputs": [],
   "source": [
    "\n",
    "from PostAnalyzer.models import (\n",
    "\n",
    "    Symbol,\n",
    "Market\n",
    ")\n",
    "from Shared.helpers import returnSearchValue\n",
    "from Shared.Constant import PostStatusValues, PositionSideValues, MarginModeValues, MarketValues, OrderSide, OrderType\n"
   ]
  },
  {
   "cell_type": "code",
   "execution_count": 3,
   "metadata": {},
   "outputs": [],
   "source": [
    "from Channels.RoseChannel import RoseChannel\n",
    "from Shared.helpers import print_colored\n",
    "import re\n",
    "\n",
    "\n",
    "rose = RoseChannel()"
   ]
  },
  {
   "cell_type": "code",
   "execution_count": 9,
   "metadata": {},
   "outputs": [
    {
     "name": "stdout",
     "output_type": "stream",
     "text": [
      "Sorry, this msg is not Predict Message\n",
      "(False, 'Sorry, this msg is not Predict Message')\n"
     ]
    }
   ],
   "source": [
    "msg = '#SOL Swing Short Open'\n",
    "msg1 = '#BTC BIg Short Setup'\n",
    "msg2 = '#ARK Short Setup'\n",
    "msg3 = '#MASK BUy Setup'\n",
    "msg4 = '#ALT Buy Setup\\n\\nNext round\\n@persianeliteorg'\n",
    "msg5 = '#XRP Short Setup\\n@persianeliteorg'\n",
    "msg6 = '#LINK Buy Setup\\n@persianeliteorg'\n",
    "msg7= '#BTC Short Setup\\n\\nSL 2% - Risk under your control.\\n@persianeliteorg'\n",
    "msg8 = '#JASMY Buy Setup\\n\\nTP at May 2022 level\\n@persianeliteorg'\n",
    "msg9 = '#ALT Buy Setup\\n@persianeliteorg'\n",
    "msg10 = '#MANTA Buy Setup\\n@persianeliteorg'\n",
    "msg11 = 'Buying some #PHB spot\\n\\nTarget 500M-1B$ marketcap\\n\\nCurretnly 70M$\\n@persianeliteorg'\n",
    "msg12 = '#BCH Buy Setup\\n@persianeliteorg'\n",
    "msg13 = '#BEL Buy Setup\\n@persianeliteorg'\n",
    "msg14 = '#DYM Short Setup\\n\\nNo leverage\\n@persianeliteorg'\n",
    "msg15 = '#DOGE Buy Setup\\n\\n\\n@persianeliteorg'\n",
    "msg16 = '#ENA Buy & Hold 1$\\n\\nTiming Target: Sell at late March or early April\\n\\nNumber Target: 8-10$\\n\\n\\n@persianeliteorg'\n",
    "msg17 = '#XVG Buy Setup\\n\\n\\n@persianeliteorg'\n",
    "msg18 = '#ZEC Buy Setup\\n\\nTP 200$\\n\\n\\n@persianeliteorg'\n",
    "msg19 = '#DEGEN Buy Setup\\n@persianeliteorg'\n",
    "msg20 = '#NEIROETH BUY SETUP\\n@persianeliteorg'\n",
    "\n",
    "# rose.findTakeProfits(msg=msg4)\n",
    "# res1=await rose.test(msg=msg21, showPrint=True)\n",
    "# res1 = await rose.findSymbol(msg=msg1, market='FUTURES')\n",
    "# print(res1)\n",
    "# messages = [msg, msg1, msg2, msg3, msg4, msg5, msg6, msg7, msg8, msg9, msg10, msg11, msg12, msg13, msg14, msg15, msg16, msg17, msg18, msg19, msg20]\n",
    "\n",
    "# for i, msgTest in enumerate(messages):\n",
    "#     res = await rose.test(msg=msgTest, showPrint=True)\n",
    "#     print_colored(f'number: {i+1} res: {res}', \"#0ff\" if res[0] else \"#f00f00fc\" )\n",
    "#     print(\"****************************************************************\\n\\n\")\n",
    "\n"
   ]
  }
 ],
 "metadata": {
  "kernelspec": {
   "display_name": ".venv",
   "language": "python",
   "name": "python3"
  },
  "language_info": {
   "codemirror_mode": {
    "name": "ipython",
    "version": 3
   },
   "file_extension": ".py",
   "mimetype": "text/x-python",
   "name": "python",
   "nbconvert_exporter": "python",
   "pygments_lexer": "ipython3",
   "version": "3.12.6"
  }
 },
 "nbformat": 4,
 "nbformat_minor": 2
}
