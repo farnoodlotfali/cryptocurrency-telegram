{
 "cells": [
  {
   "cell_type": "code",
   "execution_count": 1,
   "metadata": {},
   "outputs": [],
   "source": [
    "import django\n",
    "import os\n",
    "import sys\n",
    "import shutil\n",
    "\n",
    "path='../../'\n",
    "\n",
    "source_file_path = f'{path}.env'\n",
    "\n",
    "destination_file_path = '.'\n",
    "\n",
    "shutil.copy(source_file_path, destination_file_path)\n",
    "\n",
    "from dotenv import dotenv_values\n",
    "\n",
    "_config = dotenv_values(\".env\")\n",
    "_username = _config[\"username\"]\n",
    "\n",
    "session_file_path = f'{path}{_username}.session'\n",
    "\n",
    "shutil.copy(session_file_path, destination_file_path)\n",
    "\n",
    "\n",
    "project_path = path  # Adjust this to your actual project path\n",
    "sys.path.append(project_path)\n",
    "os.environ.setdefault('DJANGO_SETTINGS_MODULE', 'oogway.settings')\n",
    "django.setup()\n"
   ]
  },
  {
   "cell_type": "code",
   "execution_count": 2,
   "metadata": {},
   "outputs": [],
   "source": [
    "import warnings\n",
    "from Channels.RoseChannel import RoseChannel\n",
    "from Shared.Exchange import exchange\n",
    "from Shared.helpers import convertDateToMilliTimeStamp, zero_hours_minutes_seconds\n",
    "from Shared.dataIO import load_historic_tohlcv_json\n",
    "from bisect import bisect_left\n",
    "\n",
    "rose = RoseChannel()\n",
    "\n",
    "\n",
    "# Disable all warnings\n",
    "warnings.filterwarnings(\"ignore\")"
   ]
  },
  {
   "cell_type": "markdown",
   "metadata": {},
   "source": [
    "## Get channel history"
   ]
  },
  {
   "cell_type": "code",
   "execution_count": 3,
   "metadata": {},
   "outputs": [
    {
     "data": {
      "text/html": [
       "<p style='color:#fd03a1;'>stop_timestamp</p>"
      ],
      "text/plain": [
       "<IPython.core.display.HTML object>"
      ]
     },
     "metadata": {},
     "output_type": "display_data"
    },
    {
     "data": {
      "text/html": [
       "<p style='color:#ada;'>saving historic tohlcv data to json</p>"
      ],
      "text/plain": [
       "<IPython.core.display.HTML object>"
      ]
     },
     "metadata": {},
     "output_type": "display_data"
    },
    {
     "name": "stdout",
     "output_type": "stream",
     "text": [
      "{'tps': [[1727399340000, 0.005086, 0.005157, 0.005086, 0.005133, 107876.0]], 'entry_reached': [[1727399280000, 0.005038, 0.005104, 0.005037, 0.005087, 160703.0]], 'stop_loss_reached': None, 'break_reason': None}\n"
     ]
    },
    {
     "data": {
      "text/html": [
       "<p style='color:#0f0;'>********************************************************************************************************************</p>"
      ],
      "text/plain": [
       "<IPython.core.display.HTML object>"
      ]
     },
     "metadata": {},
     "output_type": "display_data"
    },
    {
     "name": "stdout",
     "output_type": "stream",
     "text": [
      "symbol: 1000PEPE/USDT:USDT, po: LONG, stop: 0.00967131, en: 0.009769, tp: 0.00986669\n",
      "{'tps': [[1727416680000, 0.0098653, 0.0098896, 0.0098622, 0.0098719, 2237360.0]], 'entry_reached': [[1727412000000, 0.0097874, 0.0098079, 0.009769, 0.009769, 2526224.0]], 'stop_loss_reached': None, 'break_reason': None}\n"
     ]
    },
    {
     "data": {
      "text/html": [
       "<p style='color:#0f0;'>********************************************************************************************************************</p>"
      ],
      "text/plain": [
       "<IPython.core.display.HTML object>"
      ]
     },
     "metadata": {},
     "output_type": "display_data"
    },
    {
     "name": "stdout",
     "output_type": "stream",
     "text": [
      "symbol: WIF/USDT:USDT, po: LONG, stop: 2.2575960000000004, en: 2.2804, tp: 2.303204\n"
     ]
    },
    {
     "data": {
      "text/html": [
       "<p style='color:#c01;'>json, 1727728200000</p>"
      ],
      "text/plain": [
       "<IPython.core.display.HTML object>"
      ]
     },
     "metadata": {},
     "output_type": "display_data"
    },
    {
     "data": {
      "text/html": [
       "<p style='color:#fd03a1;'>stop_timestamp</p>"
      ],
      "text/plain": [
       "<IPython.core.display.HTML object>"
      ]
     },
     "metadata": {},
     "output_type": "display_data"
    },
    {
     "data": {
      "text/html": [
       "<p style='color:#ada;'>saving historic tohlcv data to json</p>"
      ],
      "text/plain": [
       "<IPython.core.display.HTML object>"
      ]
     },
     "metadata": {},
     "output_type": "display_data"
    },
    {
     "name": "stdout",
     "output_type": "stream",
     "text": [
      "{'tps': [[1727414640000, 2.301, 2.3094, 2.3005, 2.3092, 11005.0]], 'entry_reached': [[1727412060000, 2.2804, 2.2905, 2.2804, 2.2905, 9711.0]], 'stop_loss_reached': None, 'break_reason': None}\n"
     ]
    },
    {
     "data": {
      "text/html": [
       "<p style='color:#0f0;'>********************************************************************************************************************</p>"
      ],
      "text/plain": [
       "<IPython.core.display.HTML object>"
      ]
     },
     "metadata": {},
     "output_type": "display_data"
    },
    {
     "name": "stdout",
     "output_type": "stream",
     "text": [
      "symbol: 1000BONK/USDT:USDT, po: LONG, stop: 0.023636844, en: 0.0238756, tp: 0.024114356\n"
     ]
    },
    {
     "data": {
      "text/html": [
       "<p style='color:#c01;'>json, 1727382600000</p>"
      ],
      "text/plain": [
       "<IPython.core.display.HTML object>"
      ]
     },
     "metadata": {},
     "output_type": "display_data"
    },
    {
     "data": {
      "text/html": [
       "<p style='color:#fd03a1;'>stop_timestamp</p>"
      ],
      "text/plain": [
       "<IPython.core.display.HTML object>"
      ]
     },
     "metadata": {},
     "output_type": "display_data"
    },
    {
     "data": {
      "text/html": [
       "<p style='color:#ada;'>saving historic tohlcv data to json</p>"
      ],
      "text/plain": [
       "<IPython.core.display.HTML object>"
      ]
     },
     "metadata": {},
     "output_type": "display_data"
    },
    {
     "name": "stdout",
     "output_type": "stream",
     "text": [
      "{'tps': [[1727451600000, 0.024016, 0.024155, 0.023999, 0.024151, 260121.0]], 'entry_reached': [[1727451420000, 0.023899, 0.023959, 0.0238756, 0.023946, 559846.0]], 'stop_loss_reached': None, 'break_reason': None}\n"
     ]
    },
    {
     "data": {
      "text/html": [
       "<p style='color:#0f0;'>********************************************************************************************************************</p>"
      ],
      "text/plain": [
       "<IPython.core.display.HTML object>"
      ]
     },
     "metadata": {},
     "output_type": "display_data"
    },
    {
     "name": "stdout",
     "output_type": "stream",
     "text": [
      "symbol: FET/USDT:USDT, po: LONG, stop: 1.680624, en: 1.6976, tp: 1.714576\n"
     ]
    },
    {
     "data": {
      "text/html": [
       "<p style='color:#c01;'>json, 1727382600000</p>"
      ],
      "text/plain": [
       "<IPython.core.display.HTML object>"
      ]
     },
     "metadata": {},
     "output_type": "display_data"
    },
    {
     "data": {
      "text/html": [
       "<p style='color:#fd03a1;'>stop_timestamp</p>"
      ],
      "text/plain": [
       "<IPython.core.display.HTML object>"
      ]
     },
     "metadata": {},
     "output_type": "display_data"
    },
    {
     "data": {
      "text/html": [
       "<p style='color:#ada;'>saving historic tohlcv data to json</p>"
      ],
      "text/plain": [
       "<IPython.core.display.HTML object>"
      ]
     },
     "metadata": {},
     "output_type": "display_data"
    },
    {
     "name": "stdout",
     "output_type": "stream",
     "text": [
      "{'tps': [[1727454540000, 1.7093, 1.7162, 1.7074, 1.7118, 111205.0]], 'entry_reached': [[1727454120000, 1.6977, 1.7045, 1.6976, 1.7022, 117843.0]], 'stop_loss_reached': None, 'break_reason': None}\n"
     ]
    },
    {
     "data": {
      "text/html": [
       "<p style='color:#0f0;'>********************************************************************************************************************</p>"
      ],
      "text/plain": [
       "<IPython.core.display.HTML object>"
      ]
     },
     "metadata": {},
     "output_type": "display_data"
    },
    {
     "name": "stdout",
     "output_type": "stream",
     "text": [
      "symbol: UXLINK/USDT:USDT, po: LONG, stop: 0.672507, en: 0.6793, tp: 0.6860930000000001\n"
     ]
    },
    {
     "data": {
      "text/html": [
       "<p style='color:#c01;'>json, 1728073800000</p>"
      ],
      "text/plain": [
       "<IPython.core.display.HTML object>"
      ]
     },
     "metadata": {},
     "output_type": "display_data"
    },
    {
     "data": {
      "text/html": [
       "<p style='color:#fd03a1;'>stop_timestamp</p>"
      ],
      "text/plain": [
       "<IPython.core.display.HTML object>"
      ]
     },
     "metadata": {},
     "output_type": "display_data"
    },
    {
     "data": {
      "text/html": [
       "<p style='color:#ada;'>saving historic tohlcv data to json</p>"
      ],
      "text/plain": [
       "<IPython.core.display.HTML object>"
      ]
     },
     "metadata": {},
     "output_type": "display_data"
    },
    {
     "name": "stdout",
     "output_type": "stream",
     "text": [
      "{'tps': [[1727483700000, 0.6839, 0.6873, 0.6834, 0.6849, 10016.0]], 'entry_reached': [[1727483460000, 0.6823, 0.6859, 0.6793, 0.6834, 39775.0]], 'stop_loss_reached': None, 'break_reason': None}\n"
     ]
    },
    {
     "data": {
      "text/html": [
       "<p style='color:#0f0;'>********************************************************************************************************************</p>"
      ],
      "text/plain": [
       "<IPython.core.display.HTML object>"
      ]
     },
     "metadata": {},
     "output_type": "display_data"
    },
    {
     "name": "stdout",
     "output_type": "stream",
     "text": [
      "symbol: NEIRO/USDT:USDT, po: LONG, stop: 0.001145826, en: 0.0011574, tp: 0.0011689740000000001\n"
     ]
    },
    {
     "data": {
      "text/html": [
       "<p style='color:#c01;'>json, 1728160200000</p>"
      ],
      "text/plain": [
       "<IPython.core.display.HTML object>"
      ]
     },
     "metadata": {},
     "output_type": "display_data"
    },
    {
     "data": {
      "text/html": [
       "<p style='color:#fd03a1;'>stop_timestamp</p>"
      ],
      "text/plain": [
       "<IPython.core.display.HTML object>"
      ]
     },
     "metadata": {},
     "output_type": "display_data"
    },
    {
     "data": {
      "text/html": [
       "<p style='color:#ada;'>saving historic tohlcv data to json</p>"
      ],
      "text/plain": [
       "<IPython.core.display.HTML object>"
      ]
     },
     "metadata": {},
     "output_type": "display_data"
    },
    {
     "name": "stdout",
     "output_type": "stream",
     "text": [
      "{'tps': [], 'entry_reached': [[1727492040000, 0.0011607, 0.001162, 0.0011574, 0.0011585, 6829.0]], 'stop_loss_reached': [1727492100000, 0.0011587, 0.0011587, 0.0011446, 0.0011446, 9433.0], 'break_reason': None}\n"
     ]
    },
    {
     "data": {
      "text/html": [
       "<p style='color:#0f0;'>********************************************************************************************************************</p>"
      ],
      "text/plain": [
       "<IPython.core.display.HTML object>"
      ]
     },
     "metadata": {},
     "output_type": "display_data"
    },
    {
     "name": "stdout",
     "output_type": "stream",
     "text": [
      "symbol: SUI/USDT:USDT, po: LONG, stop: 1.754379, en: 1.7721, tp: 1.789821\n",
      "{'tps': [[1727619960000, 1.7855, 1.809, 1.7854, 1.8006, 708627.0]], 'entry_reached': [[1727619420000, 1.7769, 1.7769, 1.7721, 1.776, 344966.0]], 'stop_loss_reached': None, 'break_reason': None}\n"
     ]
    },
    {
     "data": {
      "text/html": [
       "<p style='color:#0f0;'>********************************************************************************************************************</p>"
      ],
      "text/plain": [
       "<IPython.core.display.HTML object>"
      ]
     },
     "metadata": {},
     "output_type": "display_data"
    },
    {
     "data": {
      "text/html": [
       "<p style='color:#FFFF00;'>waiting 5 min...</p>"
      ],
      "text/plain": [
       "<IPython.core.display.HTML object>"
      ]
     },
     "metadata": {},
     "output_type": "display_data"
    },
    {
     "name": "stdout",
     "output_type": "stream",
     "text": [
      "symbol: INJ/USDT:USDT, po: LONG, stop: 24.465870000000002, en: 24.713, tp: 24.96013\n"
     ]
    },
    {
     "data": {
      "text/html": [
       "<p style='color:#c01;'>json, 1727728200000</p>"
      ],
      "text/plain": [
       "<IPython.core.display.HTML object>"
      ]
     },
     "metadata": {},
     "output_type": "display_data"
    },
    {
     "data": {
      "text/html": [
       "<p style='color:#fd03a1;'>stop_timestamp</p>"
      ],
      "text/plain": [
       "<IPython.core.display.HTML object>"
      ]
     },
     "metadata": {},
     "output_type": "display_data"
    },
    {
     "data": {
      "text/html": [
       "<p style='color:#ada;'>saving historic tohlcv data to json</p>"
      ],
      "text/plain": [
       "<IPython.core.display.HTML object>"
      ]
     },
     "metadata": {},
     "output_type": "display_data"
    },
    {
     "name": "stdout",
     "output_type": "stream",
     "text": [
      "{'tps': [], 'entry_reached': [[1727753940000, 24.713, 24.794, 24.713, 24.767, 4399.0]], 'stop_loss_reached': [1727758740000, 24.508, 24.509, 24.454, 24.457, 631.0], 'break_reason': None}\n"
     ]
    },
    {
     "data": {
      "text/html": [
       "<p style='color:#0f0;'>********************************************************************************************************************</p>"
      ],
      "text/plain": [
       "<IPython.core.display.HTML object>"
      ]
     },
     "metadata": {},
     "output_type": "display_data"
    },
    {
     "name": "stdout",
     "output_type": "stream",
     "text": [
      "symbol: WIF/USDT:USDT, po: LONG, stop: 2.380851, en: 2.4049, tp: 2.4289490000000002\n",
      "{'tps': [[1727798580000, 2.4035, 2.4336, 2.4035, 2.4323, 26761.0]], 'entry_reached': [[1727798040000, 2.412, 2.412, 2.4049, 2.4055, 8399.0]], 'stop_loss_reached': None, 'break_reason': None}\n"
     ]
    },
    {
     "data": {
      "text/html": [
       "<p style='color:#0f0;'>********************************************************************************************************************</p>"
      ],
      "text/plain": [
       "<IPython.core.display.HTML object>"
      ]
     },
     "metadata": {},
     "output_type": "display_data"
    },
    {
     "name": "stdout",
     "output_type": "stream",
     "text": [
      "symbol: BTC/USDT:USDT, po: LONG, stop: 59576.715, en: 60178.5, tp: 60780.285\n",
      "{'tps': [[1727901900000, 60775.5, 60814.9, 60734.9, 60755.5, 3841471.0]], 'entry_reached': [[1727899500000, 60248.4, 60314.0, 60178.5, 60313.9, 1217428.0]], 'stop_loss_reached': None, 'break_reason': None}\n"
     ]
    },
    {
     "data": {
      "text/html": [
       "<p style='color:#0f0;'>********************************************************************************************************************</p>"
      ],
      "text/plain": [
       "<IPython.core.display.HTML object>"
      ]
     },
     "metadata": {},
     "output_type": "display_data"
    },
    {
     "name": "stdout",
     "output_type": "stream",
     "text": [
      "symbol: BTC/USDT:USDT, po: SHORT, stop: 59677.299, en: 60280.1, tp: 60882.901\n",
      "{'tps': [], 'entry_reached': [[1727972820000, 60280.1, 60338.9, 60280.1, 60323.8, 1017532.0]], 'stop_loss_reached': [1727972880000, 60327.9, 60355.0, 60260.1, 60260.3, 1041949.0], 'break_reason': None}\n"
     ]
    },
    {
     "data": {
      "text/html": [
       "<p style='color:#0f0;'>********************************************************************************************************************</p>"
      ],
      "text/plain": [
       "<IPython.core.display.HTML object>"
      ]
     },
     "metadata": {},
     "output_type": "display_data"
    },
    {
     "name": "stdout",
     "output_type": "stream",
     "text": [
      "symbol: BTC/USDT:USDT, po: SHORT, stop: 60089.337, en: 60696.3, tp: 61303.263000000006\n",
      "{'tps': [], 'entry_reached': [[1727982360000, 60727.9, 60737.0, 60696.3, 60696.4, 412211.0]], 'stop_loss_reached': [1727982420000, 60696.3, 60696.4, 60561.2, 60582.4, 2089136.0], 'break_reason': None}\n"
     ]
    },
    {
     "data": {
      "text/html": [
       "<p style='color:#0f0;'>********************************************************************************************************************</p>"
      ],
      "text/plain": [
       "<IPython.core.display.HTML object>"
      ]
     },
     "metadata": {},
     "output_type": "display_data"
    },
    {
     "name": "stdout",
     "output_type": "stream",
     "text": [
      "symbol: VIDT/USDT:USDT, po: LONG, stop: 0.0482526, en: 0.04874, tp: 0.0492274\n"
     ]
    },
    {
     "data": {
      "text/html": [
       "<p style='color:#c01;'>json, 1727901000000</p>"
      ],
      "text/plain": [
       "<IPython.core.display.HTML object>"
      ]
     },
     "metadata": {},
     "output_type": "display_data"
    },
    {
     "data": {
      "text/html": [
       "<p style='color:#fd03a1;'>stop_timestamp</p>"
      ],
      "text/plain": [
       "<IPython.core.display.HTML object>"
      ]
     },
     "metadata": {},
     "output_type": "display_data"
    },
    {
     "data": {
      "text/html": [
       "<p style='color:#ada;'>saving historic tohlcv data to json</p>"
      ],
      "text/plain": [
       "<IPython.core.display.HTML object>"
      ]
     },
     "metadata": {},
     "output_type": "display_data"
    },
    {
     "name": "stdout",
     "output_type": "stream",
     "text": [
      "{'tps': [[1727985240000, 0.04916, 0.04962, 0.04914, 0.04921, 30067.0]], 'entry_reached': [[1727984940000, 0.04881, 0.04925, 0.04874, 0.04904, 61831.0]], 'stop_loss_reached': None, 'break_reason': None}\n"
     ]
    },
    {
     "data": {
      "text/html": [
       "<p style='color:#0f0;'>********************************************************************************************************************</p>"
      ],
      "text/plain": [
       "<IPython.core.display.HTML object>"
      ]
     },
     "metadata": {},
     "output_type": "display_data"
    },
    {
     "name": "stdout",
     "output_type": "stream",
     "text": [
      "symbol: BTC/USDT:USDT, po: LONG, stop: 60560.379, en: 61172.1, tp: 61783.820999999996\n",
      "{'tps': [[1728046560000, 61744.4, 61799.9, 61742.4, 61772.2, 5230567.0]], 'entry_reached': [[1728020940000, 61185.4, 61193.5, 61172.1, 61193.5, 381304.0]], 'stop_loss_reached': None, 'break_reason': None}\n"
     ]
    },
    {
     "data": {
      "text/html": [
       "<p style='color:#0f0;'>********************************************************************************************************************</p>"
      ],
      "text/plain": [
       "<IPython.core.display.HTML object>"
      ]
     },
     "metadata": {},
     "output_type": "display_data"
    },
    {
     "name": "stdout",
     "output_type": "stream",
     "text": [
      "symbol: NEIRO/USDT:USDT, po: LONG, stop: 0.0009746549999999999, en: 0.0009845, tp: 0.000994345\n"
     ]
    },
    {
     "data": {
      "text/html": [
       "<p style='color:#c01;'>json, 1728419400000</p>"
      ],
      "text/plain": [
       "<IPython.core.display.HTML object>"
      ]
     },
     "metadata": {},
     "output_type": "display_data"
    },
    {
     "data": {
      "text/html": [
       "<p style='color:#fd03a1;'>stop_timestamp</p>"
      ],
      "text/plain": [
       "<IPython.core.display.HTML object>"
      ]
     },
     "metadata": {},
     "output_type": "display_data"
    },
    {
     "data": {
      "text/html": [
       "<p style='color:#ada;'>saving historic tohlcv data to json</p>"
      ],
      "text/plain": [
       "<IPython.core.display.HTML object>"
      ]
     },
     "metadata": {},
     "output_type": "display_data"
    },
    {
     "name": "stdout",
     "output_type": "stream",
     "text": [
      "{'tps': [[1728037920000, 0.0009917, 0.0010005, 0.0009903, 0.0010005, 15201.0]], 'entry_reached': [[1728037320000, 0.0009845, 0.0009887, 0.0009845, 0.0009867, 10034.0]], 'stop_loss_reached': None, 'break_reason': None}\n"
     ]
    },
    {
     "data": {
      "text/html": [
       "<p style='color:#0f0;'>********************************************************************************************************************</p>"
      ],
      "text/plain": [
       "<IPython.core.display.HTML object>"
      ]
     },
     "metadata": {},
     "output_type": "display_data"
    },
    {
     "name": "stdout",
     "output_type": "stream",
     "text": [
      "symbol: SUI/USDT:USDT, po: LONG, stop: 1.758339, en: 1.7761, tp: 1.793861\n",
      "{'tps': [], 'entry_reached': [[1728044640000, 1.7761, 1.7835, 1.7761, 1.7801, 223729.0]], 'stop_loss_reached': [1728045240000, 1.7591, 1.7591, 1.7475, 1.7544, 311814.0], 'break_reason': None}\n"
     ]
    },
    {
     "data": {
      "text/html": [
       "<p style='color:#0f0;'>********************************************************************************************************************</p>"
      ],
      "text/plain": [
       "<IPython.core.display.HTML object>"
      ]
     },
     "metadata": {},
     "output_type": "display_data"
    },
    {
     "name": "stdout",
     "output_type": "stream",
     "text": [
      "symbol: SAGA/USDT:USDT, po: LONG, stop: 2.4900480000000003, en: 2.5152, tp: 2.540352\n"
     ]
    },
    {
     "data": {
      "text/html": [
       "<p style='color:#c01;'>json, 1728073800000</p>"
      ],
      "text/plain": [
       "<IPython.core.display.HTML object>"
      ]
     },
     "metadata": {},
     "output_type": "display_data"
    },
    {
     "data": {
      "text/html": [
       "<p style='color:#fd03a1;'>stop_timestamp</p>"
      ],
      "text/plain": [
       "<IPython.core.display.HTML object>"
      ]
     },
     "metadata": {},
     "output_type": "display_data"
    },
    {
     "data": {
      "text/html": [
       "<p style='color:#ada;'>saving historic tohlcv data to json</p>"
      ],
      "text/plain": [
       "<IPython.core.display.HTML object>"
      ]
     },
     "metadata": {},
     "output_type": "display_data"
    },
    {
     "name": "stdout",
     "output_type": "stream",
     "text": [
      "{'tps': [], 'entry_reached': [[1728111420000, 2.5152, 2.5242, 2.5152, 2.5202, 145778.0]], 'stop_loss_reached': [1728111780000, 2.5156, 2.5159, 2.487, 2.487, 55559.0], 'break_reason': None}\n"
     ]
    },
    {
     "data": {
      "text/html": [
       "<p style='color:#0f0;'>********************************************************************************************************************</p>"
      ],
      "text/plain": [
       "<IPython.core.display.HTML object>"
      ]
     },
     "metadata": {},
     "output_type": "display_data"
    },
    {
     "name": "stdout",
     "output_type": "stream",
     "text": [
      "symbol: BTC/USDT:USDT, po: LONG, stop: 62702.541, en: 63335.9, tp: 63969.259000000005\n",
      "{'tps': [], 'entry_reached': [[1728330900000, 63408.7, 63410.4, 63335.9, 63335.9, 657173.0]], 'stop_loss_reached': [1728341640000, 62931.3, 62931.4, 62670.0, 62743.4, 10586640.0], 'break_reason': None}\n"
     ]
    },
    {
     "data": {
      "text/html": [
       "<p style='color:#0f0;'>********************************************************************************************************************</p>"
      ],
      "text/plain": [
       "<IPython.core.display.HTML object>"
      ]
     },
     "metadata": {},
     "output_type": "display_data"
    },
    {
     "name": "stdout",
     "output_type": "stream",
     "text": [
      "symbol: 1MBABYDOGE/USDT:USDT, po: LONG, stop: 0.002219976, en: 0.0022424, tp: 0.002264824\n"
     ]
    },
    {
     "data": {
      "text/html": [
       "<p style='color:#c01;'>json, 1728333000000</p>"
      ],
      "text/plain": [
       "<IPython.core.display.HTML object>"
      ]
     },
     "metadata": {},
     "output_type": "display_data"
    },
    {
     "data": {
      "text/html": [
       "<p style='color:#fd03a1;'>stop_timestamp</p>"
      ],
      "text/plain": [
       "<IPython.core.display.HTML object>"
      ]
     },
     "metadata": {},
     "output_type": "display_data"
    },
    {
     "data": {
      "text/html": [
       "<p style='color:#ada;'>saving historic tohlcv data to json</p>"
      ],
      "text/plain": [
       "<IPython.core.display.HTML object>"
      ]
     },
     "metadata": {},
     "output_type": "display_data"
    },
    {
     "name": "stdout",
     "output_type": "stream",
     "text": [
      "{'tps': [[1728360120000, 0.0022443, 0.0022694, 0.0022443, 0.0022542, 5550.0]], 'entry_reached': [[1728359880000, 0.0022449, 0.0022553, 0.0022424, 0.0022514, 8767.0]], 'stop_loss_reached': None, 'break_reason': None}\n"
     ]
    },
    {
     "data": {
      "text/html": [
       "<p style='color:#0f0;'>********************************************************************************************************************</p>"
      ],
      "text/plain": [
       "<IPython.core.display.HTML object>"
      ]
     },
     "metadata": {},
     "output_type": "display_data"
    },
    {
     "name": "stdout",
     "output_type": "stream",
     "text": [
      "symbol: 1MBABYDOGE/USDT:USDT, po: LONG, stop: 0.002263536, en: 0.0022864, tp: 0.002309264\n",
      "{'tps': [[1728394320000, 0.0022976, 0.00231, 0.0022965, 0.0023006, 3745.0]], 'entry_reached': [[1728394140000, 0.0022948, 0.0022966, 0.0022864, 0.00229, 8644.0]], 'stop_loss_reached': None, 'break_reason': None}\n"
     ]
    },
    {
     "data": {
      "text/html": [
       "<p style='color:#0f0;'>********************************************************************************************************************</p>"
      ],
      "text/plain": [
       "<IPython.core.display.HTML object>"
      ]
     },
     "metadata": {},
     "output_type": "display_data"
    },
    {
     "name": "stdout",
     "output_type": "stream",
     "text": [
      "symbol: NEIRO/USDT:USDT, po: LONG, stop: 0.001711413, en: 0.0017287, tp: 0.0017459869999999998\n"
     ]
    },
    {
     "data": {
      "text/html": [
       "<p style='color:#c01;'>json, 1728937800000</p>"
      ],
      "text/plain": [
       "<IPython.core.display.HTML object>"
      ]
     },
     "metadata": {},
     "output_type": "display_data"
    },
    {
     "data": {
      "text/html": [
       "<p style='color:#fd03a1;'>stop_timestamp</p>"
      ],
      "text/plain": [
       "<IPython.core.display.HTML object>"
      ]
     },
     "metadata": {},
     "output_type": "display_data"
    },
    {
     "data": {
      "text/html": [
       "<p style='color:#ada;'>saving historic tohlcv data to json</p>"
      ],
      "text/plain": [
       "<IPython.core.display.HTML object>"
      ]
     },
     "metadata": {},
     "output_type": "display_data"
    },
    {
     "name": "stdout",
     "output_type": "stream",
     "text": [
      "{'tps': [[1728405300000, 0.001741, 0.0017464, 0.0017385, 0.0017393, 5171.0]], 'entry_reached': [[1728405000000, 0.0017323, 0.0017405, 0.0017287, 0.001735, 10373.0]], 'stop_loss_reached': None, 'break_reason': None}\n"
     ]
    },
    {
     "data": {
      "text/html": [
       "<p style='color:#0f0;'>********************************************************************************************************************</p>"
      ],
      "text/plain": [
       "<IPython.core.display.HTML object>"
      ]
     },
     "metadata": {},
     "output_type": "display_data"
    },
    {
     "name": "stdout",
     "output_type": "stream",
     "text": [
      "symbol: 1MBABYDOGE/USDT:USDT, po: LONG, stop: 0.002609442, en: 0.0026358, tp: 0.0026621580000000004\n",
      "{'tps': [[1728460260000, 0.0026527, 0.0026628, 0.0026494, 0.0026566, 9338.0]], 'entry_reached': [[1728460200000, 0.0026359, 0.0026613, 0.0026358, 0.0026518, 16473.0]], 'stop_loss_reached': None, 'break_reason': None}\n"
     ]
    },
    {
     "data": {
      "text/html": [
       "<p style='color:#0f0;'>********************************************************************************************************************</p>"
      ],
      "text/plain": [
       "<IPython.core.display.HTML object>"
      ]
     },
     "metadata": {},
     "output_type": "display_data"
    },
    {
     "name": "stdout",
     "output_type": "stream",
     "text": [
      "symbol: NEIRO/USDT:USDT, po: LONG, stop: 0.0016848809999999998, en: 0.0017019, tp: 0.001718919\n",
      "{'tps': [[1728460800000, 0.0017031, 0.0017194, 0.0017019, 0.0017167, 8934.0]], 'entry_reached': [[1728460500000, 0.0017101, 0.0017101, 0.0017019, 0.0017019, 4609.0]], 'stop_loss_reached': None, 'break_reason': None}\n"
     ]
    },
    {
     "data": {
      "text/html": [
       "<p style='color:#0f0;'>********************************************************************************************************************</p>"
      ],
      "text/plain": [
       "<IPython.core.display.HTML object>"
      ]
     },
     "metadata": {},
     "output_type": "display_data"
    },
    {
     "name": "stdout",
     "output_type": "stream",
     "text": [
      "symbol: NEIRO/USDT:USDT, po: LONG, stop: 0.00183348, en: 0.001852, tp: 0.0018705199999999999\n"
     ]
    },
    {
     "data": {
      "text/html": [
       "<p style='color:#c01;'>json, 1729283400000</p>"
      ],
      "text/plain": [
       "<IPython.core.display.HTML object>"
      ]
     },
     "metadata": {},
     "output_type": "display_data"
    },
    {
     "data": {
      "text/html": [
       "<p style='color:#fd03a1;'>stop_timestamp</p>"
      ],
      "text/plain": [
       "<IPython.core.display.HTML object>"
      ]
     },
     "metadata": {},
     "output_type": "display_data"
    },
    {
     "data": {
      "text/html": [
       "<p style='color:#ada;'>saving historic tohlcv data to json</p>"
      ],
      "text/plain": [
       "<IPython.core.display.HTML object>"
      ]
     },
     "metadata": {},
     "output_type": "display_data"
    },
    {
     "name": "stdout",
     "output_type": "stream",
     "text": [
      "{'tps': [], 'entry_reached': [[1728523200000, 0.0018537, 0.0018657, 0.001852, 0.0018648, 6173.0]], 'stop_loss_reached': [1728523560000, 0.0018493, 0.0018498, 0.0018328, 0.0018328, 7393.0], 'break_reason': None}\n"
     ]
    },
    {
     "data": {
      "text/html": [
       "<p style='color:#0f0;'>********************************************************************************************************************</p>"
      ],
      "text/plain": [
       "<IPython.core.display.HTML object>"
      ]
     },
     "metadata": {},
     "output_type": "display_data"
    },
    {
     "name": "stdout",
     "output_type": "stream",
     "text": [
      "symbol: REEF/USDT:USDT, po: LONG, stop: 0.00677655, en: 0.006845, tp: 0.006913450000000001\n"
     ]
    },
    {
     "data": {
      "text/html": [
       "<p style='color:#c01;'>json, 1728505800000</p>"
      ],
      "text/plain": [
       "<IPython.core.display.HTML object>"
      ]
     },
     "metadata": {},
     "output_type": "display_data"
    },
    {
     "data": {
      "text/html": [
       "<p style='color:#fd03a1;'>stop_timestamp</p>"
      ],
      "text/plain": [
       "<IPython.core.display.HTML object>"
      ]
     },
     "metadata": {},
     "output_type": "display_data"
    },
    {
     "data": {
      "text/html": [
       "<p style='color:#ada;'>saving historic tohlcv data to json</p>"
      ],
      "text/plain": [
       "<IPython.core.display.HTML object>"
      ]
     },
     "metadata": {},
     "output_type": "display_data"
    },
    {
     "name": "stdout",
     "output_type": "stream",
     "text": [
      "{'tps': [[1728527220000, 0.006895, 0.006926, 0.006888, 0.006918, 24234.0]], 'entry_reached': [[1728527040000, 0.006845, 0.006897, 0.006845, 0.006896, 36255.0]], 'stop_loss_reached': None, 'break_reason': None}\n"
     ]
    },
    {
     "data": {
      "text/html": [
       "<p style='color:#0f0;'>********************************************************************************************************************</p>"
      ],
      "text/plain": [
       "<IPython.core.display.HTML object>"
      ]
     },
     "metadata": {},
     "output_type": "display_data"
    },
    {
     "name": "stdout",
     "output_type": "stream",
     "text": [
      "symbol: WIF/USDT:USDT, po: LONG, stop: 2.367882, en: 2.3918, tp: 2.415718\n"
     ]
    },
    {
     "data": {
      "text/html": [
       "<p style='color:#c01;'>json, 1729197000000</p>"
      ],
      "text/plain": [
       "<IPython.core.display.HTML object>"
      ]
     },
     "metadata": {},
     "output_type": "display_data"
    },
    {
     "data": {
      "text/html": [
       "<p style='color:#fd03a1;'>stop_timestamp</p>"
      ],
      "text/plain": [
       "<IPython.core.display.HTML object>"
      ]
     },
     "metadata": {},
     "output_type": "display_data"
    },
    {
     "data": {
      "text/html": [
       "<p style='color:#ada;'>saving historic tohlcv data to json</p>"
      ],
      "text/plain": [
       "<IPython.core.display.HTML object>"
      ]
     },
     "metadata": {},
     "output_type": "display_data"
    },
    {
     "name": "stdout",
     "output_type": "stream",
     "text": [
      "{'tps': [], 'entry_reached': [[1728586980000, 2.3951, 2.4003, 2.3918, 2.3982, 10768.0]], 'stop_loss_reached': [1728589260000, 2.3688, 2.3738, 2.367, 2.3738, 2765.0], 'break_reason': None}\n"
     ]
    },
    {
     "data": {
      "text/html": [
       "<p style='color:#0f0;'>********************************************************************************************************************</p>"
      ],
      "text/plain": [
       "<IPython.core.display.HTML object>"
      ]
     },
     "metadata": {},
     "output_type": "display_data"
    },
    {
     "name": "stdout",
     "output_type": "stream",
     "text": [
      "symbol: NEIRO/USDT:USDT, po: LONG, stop: 0.001657557, en: 0.0016743, tp: 0.0016910430000000001\n",
      "{'tps': [[1728590940000, 0.0016775, 0.0016933, 0.0016775, 0.0016898, 5547.0]], 'entry_reached': [[1728588480000, 0.0016743, 0.0016846, 0.0016743, 0.0016815, 4373.0]], 'stop_loss_reached': None, 'break_reason': None}\n"
     ]
    },
    {
     "data": {
      "text/html": [
       "<p style='color:#0f0;'>********************************************************************************************************************</p>"
      ],
      "text/plain": [
       "<IPython.core.display.HTML object>"
      ]
     },
     "metadata": {},
     "output_type": "display_data"
    },
    {
     "name": "stdout",
     "output_type": "stream",
     "text": [
      "symbol: 1MBABYDOGE/USDT:USDT, po: LONG, stop: 0.002972475, en: 0.0030025, tp: 0.003032525\n"
     ]
    },
    {
     "data": {
      "text/html": [
       "<p style='color:#c01;'>json, 1729283400000</p>"
      ],
      "text/plain": [
       "<IPython.core.display.HTML object>"
      ]
     },
     "metadata": {},
     "output_type": "display_data"
    },
    {
     "data": {
      "text/html": [
       "<p style='color:#fd03a1;'>stop_timestamp</p>"
      ],
      "text/plain": [
       "<IPython.core.display.HTML object>"
      ]
     },
     "metadata": {},
     "output_type": "display_data"
    },
    {
     "data": {
      "text/html": [
       "<p style='color:#ada;'>saving historic tohlcv data to json</p>"
      ],
      "text/plain": [
       "<IPython.core.display.HTML object>"
      ]
     },
     "metadata": {},
     "output_type": "display_data"
    },
    {
     "name": "stdout",
     "output_type": "stream",
     "text": [
      "{'tps': [[1728590160000, 0.0030265, 0.0030384, 0.0030265, 0.003033, 5931.0]], 'entry_reached': [[1728590100000, 0.0030104, 0.0030259, 0.0030025, 0.0030254, 6206.0]], 'stop_loss_reached': None, 'break_reason': None}\n"
     ]
    },
    {
     "data": {
      "text/html": [
       "<p style='color:#0f0;'>********************************************************************************************************************</p>"
      ],
      "text/plain": [
       "<IPython.core.display.HTML object>"
      ]
     },
     "metadata": {},
     "output_type": "display_data"
    },
    {
     "name": "stdout",
     "output_type": "stream",
     "text": [
      "symbol: 1000PEPE/USDT:USDT, po: LONG, stop: 0.00950796, en: 0.009604, tp: 0.00970004\n",
      "{'tps': [[1728658380000, 0.0096773, 0.009709, 0.0096631, 0.0097067, 1998339.0]], 'entry_reached': [[1728658140000, 0.0096098, 0.0096409, 0.009604, 0.0096405, 1304729.0]], 'stop_loss_reached': None, 'break_reason': None}\n"
     ]
    },
    {
     "data": {
      "text/html": [
       "<p style='color:#0f0;'>********************************************************************************************************************</p>"
      ],
      "text/plain": [
       "<IPython.core.display.HTML object>"
      ]
     },
     "metadata": {},
     "output_type": "display_data"
    },
    {
     "name": "stdout",
     "output_type": "stream",
     "text": [
      "symbol: SOL/USDT:USDT, po: LONG, stop: 144.15390000000002, en: 145.61, tp: 147.0661\n"
     ]
    },
    {
     "data": {
      "text/html": [
       "<p style='color:#c01;'>json, 1728592200000</p>"
      ],
      "text/plain": [
       "<IPython.core.display.HTML object>"
      ]
     },
     "metadata": {},
     "output_type": "display_data"
    },
    {
     "data": {
      "text/html": [
       "<p style='color:#fd03a1;'>stop_timestamp</p>"
      ],
      "text/plain": [
       "<IPython.core.display.HTML object>"
      ]
     },
     "metadata": {},
     "output_type": "display_data"
    },
    {
     "data": {
      "text/html": [
       "<p style='color:#ada;'>saving historic tohlcv data to json</p>"
      ],
      "text/plain": [
       "<IPython.core.display.HTML object>"
      ]
     },
     "metadata": {},
     "output_type": "display_data"
    },
    {
     "name": "stdout",
     "output_type": "stream",
     "text": [
      "{'tps': [[1728731880000, 146.78, 147.11, 146.77, 147.03, 120797.0]], 'entry_reached': [[1728669420000, 145.62, 145.8, 145.61, 145.79, 54687.0]], 'stop_loss_reached': None, 'break_reason': None}\n"
     ]
    },
    {
     "data": {
      "text/html": [
       "<p style='color:#0f0;'>********************************************************************************************************************</p>"
      ],
      "text/plain": [
       "<IPython.core.display.HTML object>"
      ]
     },
     "metadata": {},
     "output_type": "display_data"
    },
    {
     "name": "stdout",
     "output_type": "stream",
     "text": [
      "symbol: 1MBABYDOGE/USDT:USDT, po: LONG, stop: 0.003029004, en: 0.0030596, tp: 0.003090196\n"
     ]
    },
    {
     "data": {
      "text/html": [
       "<p style='color:#c01;'>json, 1729456200000</p>"
      ],
      "text/plain": [
       "<IPython.core.display.HTML object>"
      ]
     },
     "metadata": {},
     "output_type": "display_data"
    },
    {
     "data": {
      "text/html": [
       "<p style='color:#fd03a1;'>stop_timestamp</p>"
      ],
      "text/plain": [
       "<IPython.core.display.HTML object>"
      ]
     },
     "metadata": {},
     "output_type": "display_data"
    },
    {
     "data": {
      "text/html": [
       "<p style='color:#ada;'>saving historic tohlcv data to json</p>"
      ],
      "text/plain": [
       "<IPython.core.display.HTML object>"
      ]
     },
     "metadata": {},
     "output_type": "display_data"
    },
    {
     "name": "stdout",
     "output_type": "stream",
     "text": [
      "{'tps': [[1728752640000, 0.0030703, 0.0030928, 0.0030702, 0.0030783, 1283.0]], 'entry_reached': [[1728751620000, 0.0030618, 0.00308, 0.0030596, 0.0030733, 6584.0]], 'stop_loss_reached': None, 'break_reason': None}\n"
     ]
    },
    {
     "data": {
      "text/html": [
       "<p style='color:#0f0;'>********************************************************************************************************************</p>"
      ],
      "text/plain": [
       "<IPython.core.display.HTML object>"
      ]
     },
     "metadata": {},
     "output_type": "display_data"
    },
    {
     "name": "stdout",
     "output_type": "stream",
     "text": [
      "symbol: TIA/USDT:USDT, po: LONG, stop: 5.833179, en: 5.8921, tp: 5.951021\n"
     ]
    },
    {
     "data": {
      "text/html": [
       "<p style='color:#c01;'>json, 1728765000000</p>"
      ],
      "text/plain": [
       "<IPython.core.display.HTML object>"
      ]
     },
     "metadata": {},
     "output_type": "display_data"
    },
    {
     "data": {
      "text/html": [
       "<p style='color:#fd03a1;'>stop_timestamp</p>"
      ],
      "text/plain": [
       "<IPython.core.display.HTML object>"
      ]
     },
     "metadata": {},
     "output_type": "display_data"
    },
    {
     "data": {
      "text/html": [
       "<p style='color:#ada;'>saving historic tohlcv data to json</p>"
      ],
      "text/plain": [
       "<IPython.core.display.HTML object>"
      ]
     },
     "metadata": {},
     "output_type": "display_data"
    },
    {
     "name": "stdout",
     "output_type": "stream",
     "text": [
      "{'tps': [[1728796080000, 5.933, 5.9565, 5.933, 5.9418, 47259.0]], 'entry_reached': [[1728795960000, 5.8969, 5.9207, 5.8921, 5.9193, 58810.0]], 'stop_loss_reached': None, 'break_reason': None}\n"
     ]
    },
    {
     "data": {
      "text/html": [
       "<p style='color:#0f0;'>********************************************************************************************************************</p>"
      ],
      "text/plain": [
       "<IPython.core.display.HTML object>"
      ]
     },
     "metadata": {},
     "output_type": "display_data"
    },
    {
     "name": "stdout",
     "output_type": "stream",
     "text": [
      "symbol: 1MBABYDOGE/USDT:USDT, po: LONG, stop: 0.003093552, en: 0.0031248, tp: 0.0031560480000000003\n",
      "{'tps': [[1728824100000, 0.003154, 0.0031723, 0.0031427, 0.0031643, 5320.0]], 'entry_reached': [[1728823980000, 0.0031248, 0.0031443, 0.0031248, 0.0031376, 8610.0]], 'stop_loss_reached': None, 'break_reason': None}\n"
     ]
    },
    {
     "data": {
      "text/html": [
       "<p style='color:#0f0;'>********************************************************************************************************************</p>"
      ],
      "text/plain": [
       "<IPython.core.display.HTML object>"
      ]
     },
     "metadata": {},
     "output_type": "display_data"
    },
    {
     "name": "stdout",
     "output_type": "stream",
     "text": [
      "symbol: NEIRO/USDT:USDT, po: LONG, stop: 0.002026926, en: 0.0020474, tp: 0.002067874\n"
     ]
    },
    {
     "data": {
      "text/html": [
       "<p style='color:#c01;'>json, 1729456200000</p>"
      ],
      "text/plain": [
       "<IPython.core.display.HTML object>"
      ]
     },
     "metadata": {},
     "output_type": "display_data"
    },
    {
     "data": {
      "text/html": [
       "<p style='color:#fd03a1;'>stop_timestamp</p>"
      ],
      "text/plain": [
       "<IPython.core.display.HTML object>"
      ]
     },
     "metadata": {},
     "output_type": "display_data"
    },
    {
     "data": {
      "text/html": [
       "<p style='color:#ada;'>saving historic tohlcv data to json</p>"
      ],
      "text/plain": [
       "<IPython.core.display.HTML object>"
      ]
     },
     "metadata": {},
     "output_type": "display_data"
    },
    {
     "name": "stdout",
     "output_type": "stream",
     "text": [
      "{'tps': [[1728824640000, 0.0020539, 0.0020691, 0.0020518, 0.0020673, 3849.0]], 'entry_reached': [[1728824220000, 0.0020479, 0.0020521, 0.0020474, 0.0020512, 3550.0]], 'stop_loss_reached': None, 'break_reason': None}\n"
     ]
    },
    {
     "data": {
      "text/html": [
       "<p style='color:#0f0;'>********************************************************************************************************************</p>"
      ],
      "text/plain": [
       "<IPython.core.display.HTML object>"
      ]
     },
     "metadata": {},
     "output_type": "display_data"
    },
    {
     "name": "stdout",
     "output_type": "stream",
     "text": [
      "symbol: SUI/USDT:USDT, po: LONG, stop: 2.177307, en: 2.1993, tp: 2.221293\n"
     ]
    },
    {
     "data": {
      "text/html": [
       "<p style='color:#c01;'>json, 1729197000000</p>"
      ],
      "text/plain": [
       "<IPython.core.display.HTML object>"
      ]
     },
     "metadata": {},
     "output_type": "display_data"
    },
    {
     "data": {
      "text/html": [
       "<p style='color:#fd03a1;'>stop_timestamp</p>"
      ],
      "text/plain": [
       "<IPython.core.display.HTML object>"
      ]
     },
     "metadata": {},
     "output_type": "display_data"
    },
    {
     "data": {
      "text/html": [
       "<p style='color:#ada;'>saving historic tohlcv data to json</p>"
      ],
      "text/plain": [
       "<IPython.core.display.HTML object>"
      ]
     },
     "metadata": {},
     "output_type": "display_data"
    },
    {
     "name": "stdout",
     "output_type": "stream",
     "text": [
      "{'tps': [[1728844440000, 2.2179, 2.2226, 2.2179, 2.2217, 68126.0]], 'entry_reached': [[1728844080000, 2.1998, 2.2054, 2.1993, 2.2032, 103195.0]], 'stop_loss_reached': None, 'break_reason': None}\n"
     ]
    },
    {
     "data": {
      "text/html": [
       "<p style='color:#0f0;'>********************************************************************************************************************</p>"
      ],
      "text/plain": [
       "<IPython.core.display.HTML object>"
      ]
     },
     "metadata": {},
     "output_type": "display_data"
    },
    {
     "name": "stdout",
     "output_type": "stream",
     "text": [
      "symbol: BTC/USDT:USDT, po: LONG, stop: 61759.17, en: 62383.0, tp: 63006.83\n",
      "{'tps': [[1728856980000, 62933.5, 63033.9, 62933.5, 63030.9, 1738176.0]], 'entry_reached': [[1728845400000, 62383.1, 62430.0, 62383.0, 62390.4, 651373.0]], 'stop_loss_reached': None, 'break_reason': None}\n"
     ]
    },
    {
     "data": {
      "text/html": [
       "<p style='color:#0f0;'>********************************************************************************************************************</p>"
      ],
      "text/plain": [
       "<IPython.core.display.HTML object>"
      ]
     },
     "metadata": {},
     "output_type": "display_data"
    },
    {
     "name": "stdout",
     "output_type": "stream",
     "text": [
      "symbol: NEIRO/USDT:USDT, po: LONG, stop: 0.002148498, en: 0.0021702, tp: 0.0021919020000000003\n"
     ]
    },
    {
     "data": {
      "text/html": [
       "<p style='color:#c01;'>json, 1729715400000</p>"
      ],
      "text/plain": [
       "<IPython.core.display.HTML object>"
      ]
     },
     "metadata": {},
     "output_type": "display_data"
    },
    {
     "data": {
      "text/html": [
       "<p style='color:#fd03a1;'>stop_timestamp</p>"
      ],
      "text/plain": [
       "<IPython.core.display.HTML object>"
      ]
     },
     "metadata": {},
     "output_type": "display_data"
    },
    {
     "data": {
      "text/html": [
       "<p style='color:#ada;'>saving historic tohlcv data to json</p>"
      ],
      "text/plain": [
       "<IPython.core.display.HTML object>"
      ]
     },
     "metadata": {},
     "output_type": "display_data"
    },
    {
     "name": "stdout",
     "output_type": "stream",
     "text": [
      "{'tps': [[1728983400000, 0.0021951, 0.0022223, 0.0021924, 0.0022126, 20030.0]], 'entry_reached': [[1728983340000, 0.0021702, 0.0021993, 0.0021702, 0.0021969, 17103.0]], 'stop_loss_reached': None, 'break_reason': None}\n"
     ]
    },
    {
     "data": {
      "text/html": [
       "<p style='color:#0f0;'>********************************************************************************************************************</p>"
      ],
      "text/plain": [
       "<IPython.core.display.HTML object>"
      ]
     },
     "metadata": {},
     "output_type": "display_data"
    },
    {
     "name": "stdout",
     "output_type": "stream",
     "text": [
      "symbol: BTC/USDT:USDT, po: SHORT, stop: 64853.217000000004, en: 65508.3, tp: 66163.383\n",
      "{'tps': [], 'entry_reached': [[1728990660000, 65542.0, 65570.4, 65508.3, 65514.4, 1412640.0]], 'stop_loss_reached': [1728990720000, 65505.4, 65505.4, 65440.8, 65447.7, 2972418.0], 'break_reason': None}\n"
     ]
    },
    {
     "data": {
      "text/html": [
       "<p style='color:#0f0;'>********************************************************************************************************************</p>"
      ],
      "text/plain": [
       "<IPython.core.display.HTML object>"
      ]
     },
     "metadata": {},
     "output_type": "display_data"
    },
    {
     "name": "stdout",
     "output_type": "stream",
     "text": [
      "symbol: NEIRO/USDT:USDT, po: LONG, stop: 0.001978218, en: 0.0019982, tp: 0.002018182\n",
      "{'tps': [[1728996480000, 0.0020161, 0.0020311, 0.0020041, 0.0020112, 11043.0]], 'entry_reached': [[1728996360000, 0.0020038, 0.00201, 0.0019982, 0.00201, 7712.0]], 'stop_loss_reached': None, 'break_reason': None}\n"
     ]
    },
    {
     "data": {
      "text/html": [
       "<p style='color:#0f0;'>********************************************************************************************************************</p>"
      ],
      "text/plain": [
       "<IPython.core.display.HTML object>"
      ]
     },
     "metadata": {},
     "output_type": "display_data"
    },
    {
     "name": "stdout",
     "output_type": "stream",
     "text": [
      "symbol: BOME/USDT:USDT, po: LONG, stop: 0.00951489, en: 0.009611, tp: 0.00970711\n"
     ]
    },
    {
     "data": {
      "text/html": [
       "<p style='color:#c01;'>json, 1728937800000</p>"
      ],
      "text/plain": [
       "<IPython.core.display.HTML object>"
      ]
     },
     "metadata": {},
     "output_type": "display_data"
    },
    {
     "data": {
      "text/html": [
       "<p style='color:#fd03a1;'>stop_timestamp</p>"
      ],
      "text/plain": [
       "<IPython.core.display.HTML object>"
      ]
     },
     "metadata": {},
     "output_type": "display_data"
    },
    {
     "data": {
      "text/html": [
       "<p style='color:#ada;'>saving historic tohlcv data to json</p>"
      ],
      "text/plain": [
       "<IPython.core.display.HTML object>"
      ]
     },
     "metadata": {},
     "output_type": "display_data"
    },
    {
     "name": "stdout",
     "output_type": "stream",
     "text": [
      "{'tps': [[1728999300000, 0.009693, 0.009731, 0.009687, 0.009713, 4875136.0]], 'entry_reached': [[1728999240000, 0.009623, 0.009694, 0.009611, 0.009687, 7461764.0]], 'stop_loss_reached': None, 'break_reason': None}\n"
     ]
    },
    {
     "data": {
      "text/html": [
       "<p style='color:#0f0;'>********************************************************************************************************************</p>"
      ],
      "text/plain": [
       "<IPython.core.display.HTML object>"
      ]
     },
     "metadata": {},
     "output_type": "display_data"
    },
    {
     "name": "stdout",
     "output_type": "stream",
     "text": [
      "symbol: DOGE/USDT:USDT, po: LONG, stop: 0.1228887, en: 0.12413, tp: 0.12537130000000002\n"
     ]
    },
    {
     "data": {
      "text/html": [
       "<p style='color:#c01;'>json, 1729024200000</p>"
      ],
      "text/plain": [
       "<IPython.core.display.HTML object>"
      ]
     },
     "metadata": {},
     "output_type": "display_data"
    },
    {
     "data": {
      "text/html": [
       "<p style='color:#fd03a1;'>stop_timestamp</p>"
      ],
      "text/plain": [
       "<IPython.core.display.HTML object>"
      ]
     },
     "metadata": {},
     "output_type": "display_data"
    },
    {
     "data": {
      "text/html": [
       "<p style='color:#ada;'>saving historic tohlcv data to json</p>"
      ],
      "text/plain": [
       "<IPython.core.display.HTML object>"
      ]
     },
     "metadata": {},
     "output_type": "display_data"
    },
    {
     "name": "stdout",
     "output_type": "stream",
     "text": [
      "{'tps': [[1729070640000, 0.12492, 0.12553, 0.12492, 0.12543, 3749864.0]], 'entry_reached': [[1729068240000, 0.12422, 0.12456, 0.12413, 0.12441, 3868631.0]], 'stop_loss_reached': None, 'break_reason': None}\n"
     ]
    },
    {
     "data": {
      "text/html": [
       "<p style='color:#0f0;'>********************************************************************************************************************</p>"
      ],
      "text/plain": [
       "<IPython.core.display.HTML object>"
      ]
     },
     "metadata": {},
     "output_type": "display_data"
    },
    {
     "name": "stdout",
     "output_type": "stream",
     "text": [
      "symbol: MEW/USDT:USDT, po: LONG, stop: 0.00885852, en: 0.008948, tp: 0.009037479999999999\n",
      "{'tps': [[1729074900000, 0.008995, 0.009043, 0.008985, 0.00899, 42582.0]], 'entry_reached': [[1729074660000, 0.008985, 0.009027, 0.008948, 0.009019, 62156.0]], 'stop_loss_reached': None, 'break_reason': None}\n"
     ]
    },
    {
     "data": {
      "text/html": [
       "<p style='color:#0f0;'>********************************************************************************************************************</p>"
      ],
      "text/plain": [
       "<IPython.core.display.HTML object>"
      ]
     },
     "metadata": {},
     "output_type": "display_data"
    },
    {
     "name": "stdout",
     "output_type": "stream",
     "text": [
      "symbol: NEIRO/USDT:USDT, po: LONG, stop: 0.001991583, en: 0.0020117, tp: 0.002031817\n",
      "{'tps': [[1729076940000, 0.0020273, 0.0020344, 0.0020265, 0.0020316, 4462.0]], 'entry_reached': [[1729076220000, 0.0020223, 0.0020223, 0.0020117, 0.0020191, 4857.0]], 'stop_loss_reached': None, 'break_reason': None}\n"
     ]
    },
    {
     "data": {
      "text/html": [
       "<p style='color:#0f0;'>********************************************************************************************************************</p>"
      ],
      "text/plain": [
       "<IPython.core.display.HTML object>"
      ]
     },
     "metadata": {},
     "output_type": "display_data"
    },
    {
     "name": "stdout",
     "output_type": "stream",
     "text": [
      "symbol: BTC/USDT:USDT, po: LONG, stop: 66198.726, en: 66867.4, tp: 67536.074\n",
      "{'tps': [[1729213680000, 67481.2, 67560.0, 67474.6, 67559.9, 5002703.0]], 'entry_reached': [[1729189860000, 66934.0, 66943.1, 66867.4, 66917.0, 1134238.0]], 'stop_loss_reached': None, 'break_reason': None}\n"
     ]
    },
    {
     "data": {
      "text/html": [
       "<p style='color:#0f0;'>********************************************************************************************************************</p>"
      ],
      "text/plain": [
       "<IPython.core.display.HTML object>"
      ]
     },
     "metadata": {},
     "output_type": "display_data"
    },
    {
     "name": "stdout",
     "output_type": "stream",
     "text": [
      "symbol: DOGE/USDT:USDT, po: LONG, stop: 0.1225719, en: 0.12381, tp: 0.1250481\n",
      "{'tps': [[1729195380000, 0.12495, 0.12516, 0.12479, 0.12506, 1418993.0]], 'entry_reached': [[1729194840000, 0.12382, 0.12395, 0.12381, 0.12392, 489244.0]], 'stop_loss_reached': None, 'break_reason': None}\n"
     ]
    },
    {
     "data": {
      "text/html": [
       "<p style='color:#0f0;'>********************************************************************************************************************</p>"
      ],
      "text/plain": [
       "<IPython.core.display.HTML object>"
      ]
     },
     "metadata": {},
     "output_type": "display_data"
    },
    {
     "name": "stdout",
     "output_type": "stream",
     "text": [
      "symbol: INJ/USDT:USDT, po: LONG, stop: 21.614669999999997, en: 21.833, tp: 22.05133\n"
     ]
    },
    {
     "data": {
      "text/html": [
       "<p style='color:#c01;'>json, 1729974600000</p>"
      ],
      "text/plain": [
       "<IPython.core.display.HTML object>"
      ]
     },
     "metadata": {},
     "output_type": "display_data"
    },
    {
     "data": {
      "text/html": [
       "<p style='color:#fd03a1;'>stop_timestamp</p>"
      ],
      "text/plain": [
       "<IPython.core.display.HTML object>"
      ]
     },
     "metadata": {},
     "output_type": "display_data"
    },
    {
     "data": {
      "text/html": [
       "<p style='color:#ada;'>saving historic tohlcv data to json</p>"
      ],
      "text/plain": [
       "<IPython.core.display.HTML object>"
      ]
     },
     "metadata": {},
     "output_type": "display_data"
    },
    {
     "name": "stdout",
     "output_type": "stream",
     "text": [
      "{'tps': [[1729236120000, 22.022, 22.056, 22.007, 22.054, 1896.0]], 'entry_reached': [[1729231320000, 21.875, 21.897, 21.833, 21.833, 6576.0]], 'stop_loss_reached': None, 'break_reason': None}\n"
     ]
    },
    {
     "data": {
      "text/html": [
       "<p style='color:#0f0;'>********************************************************************************************************************</p>"
      ],
      "text/plain": [
       "<IPython.core.display.HTML object>"
      ]
     },
     "metadata": {},
     "output_type": "display_data"
    },
    {
     "name": "stdout",
     "output_type": "stream",
     "text": [
      "symbol: SUI/USDT:USDT, po: LONG, stop: 2.115036, en: 2.1364, tp: 2.1577640000000002\n"
     ]
    },
    {
     "data": {
      "text/html": [
       "<p style='color:#c01;'>json, 1729715400000</p>"
      ],
      "text/plain": [
       "<IPython.core.display.HTML object>"
      ]
     },
     "metadata": {},
     "output_type": "display_data"
    },
    {
     "data": {
      "text/html": [
       "<p style='color:#fd03a1;'>stop_timestamp</p>"
      ],
      "text/plain": [
       "<IPython.core.display.HTML object>"
      ]
     },
     "metadata": {},
     "output_type": "display_data"
    },
    {
     "data": {
      "text/html": [
       "<p style='color:#ada;'>saving historic tohlcv data to json</p>"
      ],
      "text/plain": [
       "<IPython.core.display.HTML object>"
      ]
     },
     "metadata": {},
     "output_type": "display_data"
    },
    {
     "name": "stdout",
     "output_type": "stream",
     "text": [
      "{'tps': [], 'entry_reached': [[1729270140000, 2.138, 2.1422, 2.1364, 2.1389, 175880.0]], 'stop_loss_reached': [1729270800000, 2.1221, 2.1224, 2.1128, 2.1149, 136481.0], 'break_reason': None}\n"
     ]
    },
    {
     "data": {
      "text/html": [
       "<p style='color:#0f0;'>********************************************************************************************************************</p>"
      ],
      "text/plain": [
       "<IPython.core.display.HTML object>"
      ]
     },
     "metadata": {},
     "output_type": "display_data"
    },
    {
     "name": "stdout",
     "output_type": "stream",
     "text": [
      "symbol: NEIRO/USDT:USDT, po: LONG, stop: 0.001967328, en: 0.0019872, tp: 0.0020070720000000004\n"
     ]
    },
    {
     "data": {
      "text/html": [
       "<p style='color:#c01;'>json, 1729888200000</p>"
      ],
      "text/plain": [
       "<IPython.core.display.HTML object>"
      ]
     },
     "metadata": {},
     "output_type": "display_data"
    },
    {
     "data": {
      "text/html": [
       "<p style='color:#fd03a1;'>stop_timestamp</p>"
      ],
      "text/plain": [
       "<IPython.core.display.HTML object>"
      ]
     },
     "metadata": {},
     "output_type": "display_data"
    },
    {
     "data": {
      "text/html": [
       "<p style='color:#ada;'>saving historic tohlcv data to json</p>"
      ],
      "text/plain": [
       "<IPython.core.display.HTML object>"
      ]
     },
     "metadata": {},
     "output_type": "display_data"
    },
    {
     "name": "stdout",
     "output_type": "stream",
     "text": [
      "{'tps': [[1729270620000, 0.0019999, 0.0020099, 0.0019995, 0.0020023, 6741.0]], 'entry_reached': [[1729270500000, 0.0019881, 0.0019979, 0.0019872, 0.0019974, 7341.0]], 'stop_loss_reached': None, 'break_reason': None}\n"
     ]
    },
    {
     "data": {
      "text/html": [
       "<p style='color:#0f0;'>********************************************************************************************************************</p>"
      ],
      "text/plain": [
       "<IPython.core.display.HTML object>"
      ]
     },
     "metadata": {},
     "output_type": "display_data"
    },
    {
     "name": "stdout",
     "output_type": "stream",
     "text": [
      "symbol: 1000PEPE/USDT:USDT, po: LONG, stop: 0.010486872, en: 0.0105928, tp: 0.010698728\n",
      "{'tps': [[1729277460000, 0.0106928, 0.0107194, 0.0106919, 0.0107066, 785146.0]], 'entry_reached': [[1729275120000, 0.01062, 0.0106223, 0.0105928, 0.0106206, 649317.0]], 'stop_loss_reached': None, 'break_reason': None}\n"
     ]
    },
    {
     "data": {
      "text/html": [
       "<p style='color:#0f0;'>********************************************************************************************************************</p>"
      ],
      "text/plain": [
       "<IPython.core.display.HTML object>"
      ]
     },
     "metadata": {},
     "output_type": "display_data"
    },
    {
     "name": "stdout",
     "output_type": "stream",
     "text": [
      "symbol: 1MBABYDOGE/USDT:USDT, po: LONG, stop: 0.00324621, en: 0.003279, tp: 0.00331179\n"
     ]
    },
    {
     "data": {
      "text/html": [
       "<p style='color:#c01;'>json, 1729629000000</p>"
      ],
      "text/plain": [
       "<IPython.core.display.HTML object>"
      ]
     },
     "metadata": {},
     "output_type": "display_data"
    },
    {
     "data": {
      "text/html": [
       "<p style='color:#fd03a1;'>stop_timestamp</p>"
      ],
      "text/plain": [
       "<IPython.core.display.HTML object>"
      ]
     },
     "metadata": {},
     "output_type": "display_data"
    },
    {
     "data": {
      "text/html": [
       "<p style='color:#ada;'>saving historic tohlcv data to json</p>"
      ],
      "text/plain": [
       "<IPython.core.display.HTML object>"
      ]
     },
     "metadata": {},
     "output_type": "display_data"
    },
    {
     "name": "stdout",
     "output_type": "stream",
     "text": [
      "{'tps': [[1729307100000, 0.0033031, 0.003312, 0.0033031, 0.0033076, 2367.0]], 'entry_reached': [[1729303860000, 0.0032876, 0.003289, 0.003279, 0.0032888, 6745.0]], 'stop_loss_reached': None, 'break_reason': None}\n"
     ]
    },
    {
     "data": {
      "text/html": [
       "<p style='color:#0f0;'>********************************************************************************************************************</p>"
      ],
      "text/plain": [
       "<IPython.core.display.HTML object>"
      ]
     },
     "metadata": {},
     "output_type": "display_data"
    },
    {
     "name": "stdout",
     "output_type": "stream",
     "text": [
      "symbol: DIA/USDT:USDT, po: LONG, stop: 1.23255, en: 1.245, tp: 1.2574500000000002\n"
     ]
    },
    {
     "data": {
      "text/html": [
       "<p style='color:#c01;'>json, 1729369800000</p>"
      ],
      "text/plain": [
       "<IPython.core.display.HTML object>"
      ]
     },
     "metadata": {},
     "output_type": "display_data"
    },
    {
     "data": {
      "text/html": [
       "<p style='color:#fd03a1;'>stop_timestamp</p>"
      ],
      "text/plain": [
       "<IPython.core.display.HTML object>"
      ]
     },
     "metadata": {},
     "output_type": "display_data"
    },
    {
     "data": {
      "text/html": [
       "<p style='color:#ada;'>saving historic tohlcv data to json</p>"
      ],
      "text/plain": [
       "<IPython.core.display.HTML object>"
      ]
     },
     "metadata": {},
     "output_type": "display_data"
    },
    {
     "name": "stdout",
     "output_type": "stream",
     "text": [
      "{'tps': [[1729412700000, 1.2516, 1.2582, 1.2505, 1.2516, 30423.0]], 'entry_reached': [[1729412460000, 1.2505, 1.2575, 1.245, 1.2545, 87602.0]], 'stop_loss_reached': None, 'break_reason': None}\n"
     ]
    },
    {
     "data": {
      "text/html": [
       "<p style='color:#0f0;'>********************************************************************************************************************</p>"
      ],
      "text/plain": [
       "<IPython.core.display.HTML object>"
      ]
     },
     "metadata": {},
     "output_type": "display_data"
    },
    {
     "name": "stdout",
     "output_type": "stream",
     "text": [
      "symbol: APE/USDT:USDT, po: LONG, stop: 1.61073, en: 1.627, tp: 1.64327\n"
     ]
    },
    {
     "data": {
      "text/html": [
       "<p style='color:#c01;'>json, 1729456200000</p>"
      ],
      "text/plain": [
       "<IPython.core.display.HTML object>"
      ]
     },
     "metadata": {},
     "output_type": "display_data"
    },
    {
     "data": {
      "text/html": [
       "<p style='color:#fd03a1;'>stop_timestamp</p>"
      ],
      "text/plain": [
       "<IPython.core.display.HTML object>"
      ]
     },
     "metadata": {},
     "output_type": "display_data"
    },
    {
     "data": {
      "text/html": [
       "<p style='color:#ada;'>saving historic tohlcv data to json</p>"
      ],
      "text/plain": [
       "<IPython.core.display.HTML object>"
      ]
     },
     "metadata": {},
     "output_type": "display_data"
    },
    {
     "name": "stdout",
     "output_type": "stream",
     "text": [
      "{'tps': [[1729507800000, 1.646, 1.676, 1.646, 1.665, 1515754.0]], 'entry_reached': [[1729507740000, 1.635, 1.646, 1.627, 1.642, 1405655.0]], 'stop_loss_reached': None, 'break_reason': None}\n"
     ]
    },
    {
     "data": {
      "text/html": [
       "<p style='color:#0f0;'>********************************************************************************************************************</p>"
      ],
      "text/plain": [
       "<IPython.core.display.HTML object>"
      ]
     },
     "metadata": {},
     "output_type": "display_data"
    },
    {
     "name": "stdout",
     "output_type": "stream",
     "text": [
      "symbol: CHESS/USDT:USDT, po: LONG, stop: 0.16364700000000001, en: 0.1653, tp: 0.166953\n"
     ]
    },
    {
     "data": {
      "text/html": [
       "<p style='color:#c01;'>json, 1729542600000</p>"
      ],
      "text/plain": [
       "<IPython.core.display.HTML object>"
      ]
     },
     "metadata": {},
     "output_type": "display_data"
    },
    {
     "data": {
      "text/html": [
       "<p style='color:#fd03a1;'>stop_timestamp</p>"
      ],
      "text/plain": [
       "<IPython.core.display.HTML object>"
      ]
     },
     "metadata": {},
     "output_type": "display_data"
    },
    {
     "data": {
      "text/html": [
       "<p style='color:#ada;'>saving historic tohlcv data to json</p>"
      ],
      "text/plain": [
       "<IPython.core.display.HTML object>"
      ]
     },
     "metadata": {},
     "output_type": "display_data"
    },
    {
     "name": "stdout",
     "output_type": "stream",
     "text": [
      "{'tps': [[1729595940000, 0.1681, 0.1693, 0.1674, 0.169, 139224.0]], 'entry_reached': [[1729595880000, 0.1653, 0.1682, 0.1653, 0.1681, 219079.0]], 'stop_loss_reached': None, 'break_reason': None}\n"
     ]
    },
    {
     "data": {
      "text/html": [
       "<p style='color:#0f0;'>********************************************************************************************************************</p>"
      ],
      "text/plain": [
       "<IPython.core.display.HTML object>"
      ]
     },
     "metadata": {},
     "output_type": "display_data"
    },
    {
     "name": "stdout",
     "output_type": "stream",
     "text": [
      "symbol: MAVIA/USDT:USDT, po: LONG, stop: 1.6068689999999999, en: 1.6231, tp: 1.639331\n"
     ]
    },
    {
     "data": {
      "text/html": [
       "<p style='color:#c01;'>json, 1729542600000</p>"
      ],
      "text/plain": [
       "<IPython.core.display.HTML object>"
      ]
     },
     "metadata": {},
     "output_type": "display_data"
    },
    {
     "data": {
      "text/html": [
       "<p style='color:#fd03a1;'>stop_timestamp</p>"
      ],
      "text/plain": [
       "<IPython.core.display.HTML object>"
      ]
     },
     "metadata": {},
     "output_type": "display_data"
    },
    {
     "data": {
      "text/html": [
       "<p style='color:#ada;'>saving historic tohlcv data to json</p>"
      ],
      "text/plain": [
       "<IPython.core.display.HTML object>"
      ]
     },
     "metadata": {},
     "output_type": "display_data"
    },
    {
     "name": "stdout",
     "output_type": "stream",
     "text": [
      "{'tps': [[1729619520000, 1.6591, 1.663, 1.6432, 1.6597, 103992.0]], 'entry_reached': [[1729619460000, 1.6364, 1.662, 1.6231, 1.6476, 295205.0]], 'stop_loss_reached': None, 'break_reason': None}\n"
     ]
    },
    {
     "data": {
      "text/html": [
       "<p style='color:#0f0;'>********************************************************************************************************************</p>"
      ],
      "text/plain": [
       "<IPython.core.display.HTML object>"
      ]
     },
     "metadata": {},
     "output_type": "display_data"
    },
    {
     "name": "stdout",
     "output_type": "stream",
     "text": [
      "symbol: VOXEL/USDT:USDT, po: LONG, stop: 0.17701199999999997, en: 0.1788, tp: 0.180588\n"
     ]
    },
    {
     "data": {
      "text/html": [
       "<p style='color:#c01;'>json, 1729542600000</p>"
      ],
      "text/plain": [
       "<IPython.core.display.HTML object>"
      ]
     },
     "metadata": {},
     "output_type": "display_data"
    },
    {
     "data": {
      "text/html": [
       "<p style='color:#fd03a1;'>stop_timestamp</p>"
      ],
      "text/plain": [
       "<IPython.core.display.HTML object>"
      ]
     },
     "metadata": {},
     "output_type": "display_data"
    },
    {
     "data": {
      "text/html": [
       "<p style='color:#ada;'>saving historic tohlcv data to json</p>"
      ],
      "text/plain": [
       "<IPython.core.display.HTML object>"
      ]
     },
     "metadata": {},
     "output_type": "display_data"
    },
    {
     "name": "stdout",
     "output_type": "stream",
     "text": [
      "{'tps': [], 'entry_reached': [[1729620120000, 0.18, 0.1814, 0.1788, 0.1789, 145216.0]], 'stop_loss_reached': [1729620300000, 0.1786, 0.1788, 0.175, 0.1758, 61278.0], 'break_reason': None}\n"
     ]
    },
    {
     "data": {
      "text/html": [
       "<p style='color:#0f0;'>********************************************************************************************************************</p>"
      ],
      "text/plain": [
       "<IPython.core.display.HTML object>"
      ]
     },
     "metadata": {},
     "output_type": "display_data"
    },
    {
     "name": "stdout",
     "output_type": "stream",
     "text": [
      "symbol: CTSI/USDT:USDT, po: LONG, stop: 0.16077599999999997, en: 0.1624, tp: 0.164024\n"
     ]
    },
    {
     "data": {
      "text/html": [
       "<p style='color:#c01;'>json, 1729629000000</p>"
      ],
      "text/plain": [
       "<IPython.core.display.HTML object>"
      ]
     },
     "metadata": {},
     "output_type": "display_data"
    },
    {
     "data": {
      "text/html": [
       "<p style='color:#fd03a1;'>stop_timestamp</p>"
      ],
      "text/plain": [
       "<IPython.core.display.HTML object>"
      ]
     },
     "metadata": {},
     "output_type": "display_data"
    },
    {
     "data": {
      "text/html": [
       "<p style='color:#ada;'>saving historic tohlcv data to json</p>"
      ],
      "text/plain": [
       "<IPython.core.display.HTML object>"
      ]
     },
     "metadata": {},
     "output_type": "display_data"
    },
    {
     "name": "stdout",
     "output_type": "stream",
     "text": [
      "{'tps': [[1729679640000, 0.1638, 0.1645, 0.1634, 0.1639, 637421.0]], 'entry_reached': [[1729679580000, 0.1631, 0.164, 0.1624, 0.1638, 1250408.0]], 'stop_loss_reached': None, 'break_reason': None}\n"
     ]
    },
    {
     "data": {
      "text/html": [
       "<p style='color:#0f0;'>********************************************************************************************************************</p>"
      ],
      "text/plain": [
       "<IPython.core.display.HTML object>"
      ]
     },
     "metadata": {},
     "output_type": "display_data"
    },
    {
     "name": "stdout",
     "output_type": "stream",
     "text": [
      "symbol: WIF/USDT:USDT, po: SHORT, stop: 2.363823, en: 2.3877, tp: 2.4115770000000003\n"
     ]
    },
    {
     "data": {
      "text/html": [
       "<p style='color:#c01;'>json, 1729629000000</p>"
      ],
      "text/plain": [
       "<IPython.core.display.HTML object>"
      ]
     },
     "metadata": {},
     "output_type": "display_data"
    },
    {
     "data": {
      "text/html": [
       "<p style='color:#fd03a1;'>stop_timestamp</p>"
      ],
      "text/plain": [
       "<IPython.core.display.HTML object>"
      ]
     },
     "metadata": {},
     "output_type": "display_data"
    },
    {
     "data": {
      "text/html": [
       "<p style='color:#ada;'>saving historic tohlcv data to json</p>"
      ],
      "text/plain": [
       "<IPython.core.display.HTML object>"
      ]
     },
     "metadata": {},
     "output_type": "display_data"
    },
    {
     "name": "stdout",
     "output_type": "stream",
     "text": [
      "{'tps': [], 'entry_reached': [[1729700700000, 2.3932, 2.394, 2.3877, 2.3882, 3437.0]], 'stop_loss_reached': [1729700760000, 2.3881, 2.3975, 2.3881, 2.3921, 2204.0], 'break_reason': None}\n"
     ]
    },
    {
     "data": {
      "text/html": [
       "<p style='color:#0f0;'>********************************************************************************************************************</p>"
      ],
      "text/plain": [
       "<IPython.core.display.HTML object>"
      ]
     },
     "metadata": {},
     "output_type": "display_data"
    },
    {
     "name": "stdout",
     "output_type": "stream",
     "text": [
      "symbol: ETH/USDT:USDT, po: SHORT, stop: 2486.7909, en: 2511.91, tp: 2537.0290999999997\n",
      "{'tps': [], 'entry_reached': [[1729700820000, 2519.69, 2521.04, 2511.91, 2514.61, 963191.0]], 'stop_loss_reached': [1729700880000, 2514.81, 2516.99, 2511.64, 2514.72, 682974.0], 'break_reason': None}\n"
     ]
    },
    {
     "data": {
      "text/html": [
       "<p style='color:#0f0;'>********************************************************************************************************************</p>"
      ],
      "text/plain": [
       "<IPython.core.display.HTML object>"
      ]
     },
     "metadata": {},
     "output_type": "display_data"
    },
    {
     "name": "stdout",
     "output_type": "stream",
     "text": [
      "symbol: WIF/USDT:USDT, po: SHORT, stop: 2.38194, en: 2.406, tp: 2.43006\n",
      "{'tps': [], 'entry_reached': [[1729710900000, 2.4127, 2.4138, 2.406, 2.4072, 1053.0]], 'stop_loss_reached': [1729710960000, 2.4075, 2.4134, 2.4075, 2.4134, 1195.0], 'break_reason': None}\n"
     ]
    },
    {
     "data": {
      "text/html": [
       "<p style='color:#0f0;'>********************************************************************************************************************</p>"
      ],
      "text/plain": [
       "<IPython.core.display.HTML object>"
      ]
     },
     "metadata": {},
     "output_type": "display_data"
    },
    {
     "name": "stdout",
     "output_type": "stream",
     "text": [
      "symbol: BTC/USDT:USDT, po: SHORT, stop: 65238.12900000001, en: 65897.1, tp: 66556.07100000001\n",
      "{'tps': [], 'entry_reached': [[1729710960000, 65897.1, 65998.2, 65897.1, 65998.2, 1028022.0]], 'stop_loss_reached': [1729711020000, 65998.1, 66045.2, 65998.1, 66029.1, 1089688.0], 'break_reason': None}\n"
     ]
    },
    {
     "data": {
      "text/html": [
       "<p style='color:#0f0;'>********************************************************************************************************************</p>"
      ],
      "text/plain": [
       "<IPython.core.display.HTML object>"
      ]
     },
     "metadata": {},
     "output_type": "display_data"
    },
    {
     "name": "stdout",
     "output_type": "stream",
     "text": [
      "symbol: BTC/USDT:USDT, po: SHORT, stop: 65547.702, en: 66209.8, tp: 66871.898\n",
      "{'tps': [], 'entry_reached': [[1729711740000, 66255.2, 66255.3, 66209.8, 66218.4, 883731.0]], 'stop_loss_reached': [1729711800000, 66223.8, 66236.0, 66112.7, 66142.7, 4627098.0], 'break_reason': None}\n"
     ]
    },
    {
     "data": {
      "text/html": [
       "<p style='color:#0f0;'>********************************************************************************************************************</p>"
      ],
      "text/plain": [
       "<IPython.core.display.HTML object>"
      ]
     },
     "metadata": {},
     "output_type": "display_data"
    },
    {
     "name": "stdout",
     "output_type": "stream",
     "text": [
      "symbol: SOL/USDT:USDT, po: LONG, stop: 168.5871, en: 170.29, tp: 171.9929\n",
      "{'tps': [[1729712520000, 171.69, 172.5, 171.6, 172.49, 267693.0]], 'entry_reached': [[1729711800000, 170.62, 170.81, 170.29, 170.3, 78405.0]], 'stop_loss_reached': None, 'break_reason': None}\n"
     ]
    },
    {
     "data": {
      "text/html": [
       "<p style='color:#0f0;'>********************************************************************************************************************</p>"
      ],
      "text/plain": [
       "<IPython.core.display.HTML object>"
      ]
     },
     "metadata": {},
     "output_type": "display_data"
    },
    {
     "name": "stdout",
     "output_type": "stream",
     "text": [
      "symbol: POPCAT/USDT:USDT, po: LONG, stop: 1.4705460000000001, en: 1.4854, tp: 1.500254\n"
     ]
    },
    {
     "data": {
      "text/html": [
       "<p style='color:#c01;'>json, 1729629000000</p>"
      ],
      "text/plain": [
       "<IPython.core.display.HTML object>"
      ]
     },
     "metadata": {},
     "output_type": "display_data"
    },
    {
     "data": {
      "text/html": [
       "<p style='color:#fd03a1;'>stop_timestamp</p>"
      ],
      "text/plain": [
       "<IPython.core.display.HTML object>"
      ]
     },
     "metadata": {},
     "output_type": "display_data"
    },
    {
     "data": {
      "text/html": [
       "<p style='color:#ada;'>saving historic tohlcv data to json</p>"
      ],
      "text/plain": [
       "<IPython.core.display.HTML object>"
      ]
     },
     "metadata": {},
     "output_type": "display_data"
    },
    {
     "name": "stdout",
     "output_type": "stream",
     "text": [
      "{'tps': [], 'entry_reached': [[1729713120000, 1.4854, 1.4945, 1.4854, 1.4918, 11647.0]], 'stop_loss_reached': [1729713540000, 1.4729, 1.4743, 1.4688, 1.4717, 2727.0], 'break_reason': None}\n"
     ]
    },
    {
     "data": {
      "text/html": [
       "<p style='color:#0f0;'>********************************************************************************************************************</p>"
      ],
      "text/plain": [
       "<IPython.core.display.HTML object>"
      ]
     },
     "metadata": {},
     "output_type": "display_data"
    },
    {
     "name": "stdout",
     "output_type": "stream",
     "text": [
      "symbol: ETH/USDT:USDT, po: SHORT, stop: 2490.741, en: 2515.9, tp: 2541.059\n",
      "{'tps': [], 'entry_reached': [[1729760460000, 2516.59, 2518.45, 2515.9, 2516.26, 199602.0]], 'stop_loss_reached': [1729760520000, 2516.25, 2516.65, 2508.2, 2509.97, 1032564.0], 'break_reason': None}\n"
     ]
    },
    {
     "data": {
      "text/html": [
       "<p style='color:#0f0;'>********************************************************************************************************************</p>"
      ],
      "text/plain": [
       "<IPython.core.display.HTML object>"
      ]
     },
     "metadata": {},
     "output_type": "display_data"
    },
    {
     "name": "stdout",
     "output_type": "stream",
     "text": [
      "symbol: BTC/USDT:USDT, po: SHORT, stop: 66231.99, en: 66901.0, tp: 67570.01\n",
      "{'tps': [], 'entry_reached': [[1729761600000, 66946.1, 66949.9, 66901.0, 66901.0, 520146.0]], 'stop_loss_reached': [1729761660000, 66901.1, 66908.2, 66826.1, 66860.0, 1107591.0], 'break_reason': None}\n"
     ]
    },
    {
     "data": {
      "text/html": [
       "<p style='color:#0f0;'>********************************************************************************************************************</p>"
      ],
      "text/plain": [
       "<IPython.core.display.HTML object>"
      ]
     },
     "metadata": {},
     "output_type": "display_data"
    },
    {
     "name": "stdout",
     "output_type": "stream",
     "text": [
      "symbol: BTC/USDT:USDT, po: SHORT, stop: 66696.399, en: 67370.1, tp: 68043.801\n",
      "{'tps': [], 'entry_reached': [[1729771500000, 67374.0, 67503.8, 67370.1, 67420.1, 7402436.0]], 'stop_loss_reached': [1729771560000, 67420.0, 67424.6, 67371.7, 67408.9, 1483477.0], 'break_reason': None}\n"
     ]
    },
    {
     "data": {
      "text/html": [
       "<p style='color:#0f0;'>********************************************************************************************************************</p>"
      ],
      "text/plain": [
       "<IPython.core.display.HTML object>"
      ]
     },
     "metadata": {},
     "output_type": "display_data"
    },
    {
     "name": "stdout",
     "output_type": "stream",
     "text": [
      "symbol: BTC/USDT:USDT, po: LONG, stop: 66691.746, en: 67365.4, tp: 68039.05399999999\n",
      "{'tps': [[1729798020000, 67904.8, 68068.9, 67904.8, 68068.9, 9610671.0]], 'entry_reached': [[1729772280000, 67398.0, 67398.0, 67365.4, 67381.4, 362233.0]], 'stop_loss_reached': None, 'break_reason': None}\n"
     ]
    },
    {
     "data": {
      "text/html": [
       "<p style='color:#0f0;'>********************************************************************************************************************</p>"
      ],
      "text/plain": [
       "<IPython.core.display.HTML object>"
      ]
     },
     "metadata": {},
     "output_type": "display_data"
    },
    {
     "name": "stdout",
     "output_type": "stream",
     "text": [
      "symbol: BTC/USDT:USDT, po: SHORT, stop: 67185.55799999999, en: 67864.2, tp: 68542.842\n",
      "{'tps': [], 'entry_reached': [[1729821180000, 67864.2, 67873.4, 67864.2, 67864.4, 542439.0]], 'stop_loss_reached': [1729821240000, 67864.4, 67896.0, 67864.3, 67880.2, 302670.0], 'break_reason': None}\n"
     ]
    },
    {
     "data": {
      "text/html": [
       "<p style='color:#0f0;'>********************************************************************************************************************</p>"
      ],
      "text/plain": [
       "<IPython.core.display.HTML object>"
      ]
     },
     "metadata": {},
     "output_type": "display_data"
    },
    {
     "name": "stdout",
     "output_type": "stream",
     "text": [
      "symbol: ETH/USDT:USDT, po: SHORT, stop: 2469.258, en: 2494.2, tp: 2519.142\n",
      "{'tps': [], 'entry_reached': [[1729839960000, 2496.37, 2496.37, 2494.2, 2494.56, 53664.0]], 'stop_loss_reached': [1729840020000, 2494.56, 2494.92, 2493.2, 2493.2, 34321.0], 'break_reason': None}\n"
     ]
    },
    {
     "data": {
      "text/html": [
       "<p style='color:#0f0;'>********************************************************************************************************************</p>"
      ],
      "text/plain": [
       "<IPython.core.display.HTML object>"
      ]
     },
     "metadata": {},
     "output_type": "display_data"
    },
    {
     "name": "stdout",
     "output_type": "stream",
     "text": [
      "symbol: NEIRO/USDT:USDT, po: LONG, stop: 0.0015204419999999999, en: 0.0015358, tp: 0.001551158\n"
     ]
    },
    {
     "data": {
      "text/html": [
       "<p style='color:#c01;'>json, 1730147400000</p>"
      ],
      "text/plain": [
       "<IPython.core.display.HTML object>"
      ]
     },
     "metadata": {},
     "output_type": "display_data"
    },
    {
     "data": {
      "text/html": [
       "<p style='color:#fd03a1;'>stop_timestamp</p>"
      ],
      "text/plain": [
       "<IPython.core.display.HTML object>"
      ]
     },
     "metadata": {},
     "output_type": "display_data"
    },
    {
     "data": {
      "text/html": [
       "<p style='color:#ada;'>saving historic tohlcv data to json</p>"
      ],
      "text/plain": [
       "<IPython.core.display.HTML object>"
      ]
     },
     "metadata": {},
     "output_type": "display_data"
    },
    {
     "name": "stdout",
     "output_type": "stream",
     "text": [
      "{'tps': [], 'entry_reached': [[1729842300000, 0.0015445, 0.0015445, 0.0015358, 0.0015392, 10140.0]], 'stop_loss_reached': [1729842360000, 0.0015398, 0.0015433, 0.0015137, 0.0015235, 11561.0], 'break_reason': None}\n"
     ]
    },
    {
     "data": {
      "text/html": [
       "<p style='color:#0f0;'>********************************************************************************************************************</p>"
      ],
      "text/plain": [
       "<IPython.core.display.HTML object>"
      ]
     },
     "metadata": {},
     "output_type": "display_data"
    },
    {
     "name": "stdout",
     "output_type": "stream",
     "text": [
      "symbol: 1MBABYDOGE/USDT:USDT, po: LONG, stop: 0.002878722, en: 0.0029078, tp: 0.002936878\n"
     ]
    },
    {
     "data": {
      "text/html": [
       "<p style='color:#c01;'>json, 1730233800000</p>"
      ],
      "text/plain": [
       "<IPython.core.display.HTML object>"
      ]
     },
     "metadata": {},
     "output_type": "display_data"
    },
    {
     "data": {
      "text/html": [
       "<p style='color:#fd03a1;'>stop_timestamp</p>"
      ],
      "text/plain": [
       "<IPython.core.display.HTML object>"
      ]
     },
     "metadata": {},
     "output_type": "display_data"
    },
    {
     "data": {
      "text/html": [
       "<p style='color:#ada;'>saving historic tohlcv data to json</p>"
      ],
      "text/plain": [
       "<IPython.core.display.HTML object>"
      ]
     },
     "metadata": {},
     "output_type": "display_data"
    },
    {
     "name": "stdout",
     "output_type": "stream",
     "text": [
      "{'tps': [], 'entry_reached': [[1729846200000, 0.0029092, 0.002935, 0.0029078, 0.0029225, 7835.0]], 'stop_loss_reached': [1729846800000, 0.0029006, 0.0029006, 0.002872, 0.0028811, 3943.0], 'break_reason': None}\n"
     ]
    },
    {
     "data": {
      "text/html": [
       "<p style='color:#0f0;'>********************************************************************************************************************</p>"
      ],
      "text/plain": [
       "<IPython.core.display.HTML object>"
      ]
     },
     "metadata": {},
     "output_type": "display_data"
    },
    {
     "name": "stdout",
     "output_type": "stream",
     "text": [
      "symbol: BTC/USDT:USDT, po: LONG, stop: 67161.6, en: 67840.0, tp: 68518.4\n",
      "{'tps': [[1729865820000, 68458.9, 68518.7, 68449.5, 68473.0, 3025061.0]], 'entry_reached': [[1729853580000, 67840.7, 67850.0, 67840.0, 67850.0, 424504.0]], 'stop_loss_reached': None, 'break_reason': None}\n"
     ]
    },
    {
     "data": {
      "text/html": [
       "<p style='color:#0f0;'>********************************************************************************************************************</p>"
      ],
      "text/plain": [
       "<IPython.core.display.HTML object>"
      ]
     },
     "metadata": {},
     "output_type": "display_data"
    },
    {
     "name": "stdout",
     "output_type": "stream",
     "text": [
      "symbol: MOODENG/USDT:USDT, po: LONG, stop: 0.2020392, en: 0.20408, tp: 0.20612080000000002\n"
     ]
    },
    {
     "data": {
      "text/html": [
       "<p style='color:#c01;'>json, 1729801800000</p>"
      ],
      "text/plain": [
       "<IPython.core.display.HTML object>"
      ]
     },
     "metadata": {},
     "output_type": "display_data"
    },
    {
     "data": {
      "text/html": [
       "<p style='color:#fd03a1;'>stop_timestamp</p>"
      ],
      "text/plain": [
       "<IPython.core.display.HTML object>"
      ]
     },
     "metadata": {},
     "output_type": "display_data"
    },
    {
     "data": {
      "text/html": [
       "<p style='color:#ada;'>saving historic tohlcv data to json</p>"
      ],
      "text/plain": [
       "<IPython.core.display.HTML object>"
      ]
     },
     "metadata": {},
     "output_type": "display_data"
    },
    {
     "name": "stdout",
     "output_type": "stream",
     "text": [
      "{'tps': [[1729874520000, 0.2099, 0.21373, 0.20856, 0.21117, 148870.0]], 'entry_reached': [[1729874460000, 0.20546, 0.22147, 0.20408, 0.2103, 554108.0]], 'stop_loss_reached': None, 'break_reason': None}\n"
     ]
    },
    {
     "data": {
      "text/html": [
       "<p style='color:#0f0;'>********************************************************************************************************************</p>"
      ],
      "text/plain": [
       "<IPython.core.display.HTML object>"
      ]
     },
     "metadata": {},
     "output_type": "display_data"
    },
    {
     "name": "stdout",
     "output_type": "stream",
     "text": [
      "symbol: MOODENG/USDT:USDT, po: LONG, stop: 0.2435697, en: 0.24603, tp: 0.2484903\n",
      "{'tps': [[1729960140000, 0.2453, 0.24852, 0.24504, 0.24766, 42000.0]], 'entry_reached': [[1729959960000, 0.24603, 0.24827, 0.24603, 0.24734, 47590.0]], 'stop_loss_reached': None, 'break_reason': None}\n"
     ]
    },
    {
     "data": {
      "text/html": [
       "<p style='color:#0f0;'>********************************************************************************************************************</p>"
      ],
      "text/plain": [
       "<IPython.core.display.HTML object>"
      ]
     },
     "metadata": {},
     "output_type": "display_data"
    },
    {
     "name": "stdout",
     "output_type": "stream",
     "text": [
      "symbol: MOODENG/USDT:USDT, po: LONG, stop: 0.2386791, en: 0.24109, tp: 0.2435009\n",
      "{'tps': [], 'entry_reached': [[1729963440000, 0.24166, 0.24201, 0.24109, 0.24201, 12316.0]], 'stop_loss_reached': [1729964280000, 0.24129, 0.24131, 0.23798, 0.23798, 16200.0], 'break_reason': None}\n"
     ]
    },
    {
     "data": {
      "text/html": [
       "<p style='color:#0f0;'>********************************************************************************************************************</p>"
      ],
      "text/plain": [
       "<IPython.core.display.HTML object>"
      ]
     },
     "metadata": {},
     "output_type": "display_data"
    },
    {
     "name": "stdout",
     "output_type": "stream",
     "text": [
      "symbol: NEIRO/USDT:USDT, po: LONG, stop: 0.001525887, en: 0.0015413, tp: 0.001556713\n"
     ]
    },
    {
     "data": {
      "text/html": [
       "<p style='color:#c01;'>json, 1730752200000</p>"
      ],
      "text/plain": [
       "<IPython.core.display.HTML object>"
      ]
     },
     "metadata": {},
     "output_type": "display_data"
    },
    {
     "data": {
      "text/html": [
       "<p style='color:#fd03a1;'>stop_timestamp</p>"
      ],
      "text/plain": [
       "<IPython.core.display.HTML object>"
      ]
     },
     "metadata": {},
     "output_type": "display_data"
    },
    {
     "data": {
      "text/html": [
       "<p style='color:#ada;'>saving historic tohlcv data to json</p>"
      ],
      "text/plain": [
       "<IPython.core.display.HTML object>"
      ]
     },
     "metadata": {},
     "output_type": "display_data"
    },
    {
     "name": "stdout",
     "output_type": "stream",
     "text": [
      "{'tps': [[1730001840000, 0.001549, 0.0015925, 0.0015488, 0.001591, 25327.0]], 'entry_reached': [[1730001360000, 0.0015431, 0.0015465, 0.0015413, 0.0015456, 4824.0]], 'stop_loss_reached': None, 'break_reason': None}\n"
     ]
    },
    {
     "data": {
      "text/html": [
       "<p style='color:#0f0;'>********************************************************************************************************************</p>"
      ],
      "text/plain": [
       "<IPython.core.display.HTML object>"
      ]
     },
     "metadata": {},
     "output_type": "display_data"
    },
    {
     "name": "stdout",
     "output_type": "stream",
     "text": [
      "symbol: NEIRO/USDT:USDT, po: LONG, stop: 0.001540341, en: 0.0015559, tp: 0.001571459\n",
      "{'tps': [], 'entry_reached': [[1730040000000, 0.0015609, 0.0015613, 0.0015559, 0.0015613, 8241.0]], 'stop_loss_reached': [1730040720000, 0.0015447, 0.0015449, 0.0015389, 0.001543, 3423.0], 'break_reason': None}\n"
     ]
    },
    {
     "data": {
      "text/html": [
       "<p style='color:#0f0;'>********************************************************************************************************************</p>"
      ],
      "text/plain": [
       "<IPython.core.display.HTML object>"
      ]
     },
     "metadata": {},
     "output_type": "display_data"
    },
    {
     "name": "stdout",
     "output_type": "stream",
     "text": [
      "symbol: MOODENG/USDT:USDT, po: LONG, stop: 0.22715549999999998, en: 0.22945, tp: 0.2317445\n"
     ]
    },
    {
     "data": {
      "text/html": [
       "<p style='color:#c01;'>json, 1730752200000</p>"
      ],
      "text/plain": [
       "<IPython.core.display.HTML object>"
      ]
     },
     "metadata": {},
     "output_type": "display_data"
    },
    {
     "data": {
      "text/html": [
       "<p style='color:#fd03a1;'>stop_timestamp</p>"
      ],
      "text/plain": [
       "<IPython.core.display.HTML object>"
      ]
     },
     "metadata": {},
     "output_type": "display_data"
    },
    {
     "data": {
      "text/html": [
       "<p style='color:#ada;'>saving historic tohlcv data to json</p>"
      ],
      "text/plain": [
       "<IPython.core.display.HTML object>"
      ]
     },
     "metadata": {},
     "output_type": "display_data"
    },
    {
     "name": "stdout",
     "output_type": "stream",
     "text": [
      "{'tps': [[1730102880000, 0.23112, 0.23353, 0.23058, 0.233, 48370.0]], 'entry_reached': [[1730102820000, 0.23024, 0.23282, 0.22945, 0.2307, 82253.0]], 'stop_loss_reached': None, 'break_reason': None}\n"
     ]
    },
    {
     "data": {
      "text/html": [
       "<p style='color:#0f0;'>********************************************************************************************************************</p>"
      ],
      "text/plain": [
       "<IPython.core.display.HTML object>"
      ]
     },
     "metadata": {},
     "output_type": "display_data"
    },
    {
     "name": "stdout",
     "output_type": "stream",
     "text": [
      "symbol: SUI/USDT:USDT, po: LONG, stop: 1.979901, en: 1.9999, tp: 2.019899\n"
     ]
    },
    {
     "data": {
      "text/html": [
       "<p style='color:#c01;'>json, 1730147400000</p>"
      ],
      "text/plain": [
       "<IPython.core.display.HTML object>"
      ]
     },
     "metadata": {},
     "output_type": "display_data"
    },
    {
     "data": {
      "text/html": [
       "<p style='color:#fd03a1;'>stop_timestamp</p>"
      ],
      "text/plain": [
       "<IPython.core.display.HTML object>"
      ]
     },
     "metadata": {},
     "output_type": "display_data"
    },
    {
     "data": {
      "text/html": [
       "<p style='color:#ada;'>saving historic tohlcv data to json</p>"
      ],
      "text/plain": [
       "<IPython.core.display.HTML object>"
      ]
     },
     "metadata": {},
     "output_type": "display_data"
    },
    {
     "name": "stdout",
     "output_type": "stream",
     "text": [
      "{'tps': [], 'entry_reached': [[1730207820000, 2.0005, 2.0034, 1.9999, 2.0007, 122128.0]], 'stop_loss_reached': [1730208660000, 1.9832, 1.9835, 1.9779, 1.9783, 158464.0], 'break_reason': None}\n"
     ]
    },
    {
     "data": {
      "text/html": [
       "<p style='color:#0f0;'>********************************************************************************************************************</p>"
      ],
      "text/plain": [
       "<IPython.core.display.HTML object>"
      ]
     },
     "metadata": {},
     "output_type": "display_data"
    },
    {
     "name": "stdout",
     "output_type": "stream",
     "text": [
      "symbol: BTC/USDT:USDT, po: SHORT, stop: 71394.246, en: 72115.4, tp: 72836.55399999999\n",
      "{'tps': [], 'entry_reached': [[1730251620000, 72124.8, 72182.0, 72115.4, 72179.7, 705486.0]], 'stop_loss_reached': [1730251680000, 72179.7, 72210.8, 72170.0, 72184.0, 1332266.0], 'break_reason': None}\n"
     ]
    },
    {
     "data": {
      "text/html": [
       "<p style='color:#0f0;'>********************************************************************************************************************</p>"
      ],
      "text/plain": [
       "<IPython.core.display.HTML object>"
      ]
     },
     "metadata": {},
     "output_type": "display_data"
    },
    {
     "name": "stdout",
     "output_type": "stream",
     "text": [
      "symbol: 1000PEPE/USDT:USDT, po: LONG, stop: 0.009390645, en: 0.0094855, tp: 0.009580354999999999\n"
     ]
    },
    {
     "data": {
      "text/html": [
       "<p style='color:#c01;'>json, 1730838600000</p>"
      ],
      "text/plain": [
       "<IPython.core.display.HTML object>"
      ]
     },
     "metadata": {},
     "output_type": "display_data"
    },
    {
     "data": {
      "text/html": [
       "<p style='color:#fd03a1;'>stop_timestamp</p>"
      ],
      "text/plain": [
       "<IPython.core.display.HTML object>"
      ]
     },
     "metadata": {},
     "output_type": "display_data"
    },
    {
     "data": {
      "text/html": [
       "<p style='color:#ada;'>saving historic tohlcv data to json</p>"
      ],
      "text/plain": [
       "<IPython.core.display.HTML object>"
      ]
     },
     "metadata": {},
     "output_type": "display_data"
    },
    {
     "name": "stdout",
     "output_type": "stream",
     "text": [
      "{'tps': [[1730295960000, 0.0095731, 0.0096023, 0.0095731, 0.0096023, 1222570.0]], 'entry_reached': [[1730295180000, 0.0095047, 0.0095166, 0.0094855, 0.0094863, 570603.0]], 'stop_loss_reached': None, 'break_reason': None}\n"
     ]
    },
    {
     "data": {
      "text/html": [
       "<p style='color:#0f0;'>********************************************************************************************************************</p>"
      ],
      "text/plain": [
       "<IPython.core.display.HTML object>"
      ]
     },
     "metadata": {},
     "output_type": "display_data"
    },
    {
     "data": {
      "text/html": [
       "<p style='color:#FFFF00;'>waiting 5 min...</p>"
      ],
      "text/plain": [
       "<IPython.core.display.HTML object>"
      ]
     },
     "metadata": {},
     "output_type": "display_data"
    },
    {
     "name": "stdout",
     "output_type": "stream",
     "text": [
      "symbol: TROY/USDT:USDT, po: LONG, stop: 0.00316107, en: 0.003193, tp: 0.00322493\n"
     ]
    },
    {
     "data": {
      "text/html": [
       "<p style='color:#c01;'>json, 1730406600000</p>"
      ],
      "text/plain": [
       "<IPython.core.display.HTML object>"
      ]
     },
     "metadata": {},
     "output_type": "display_data"
    },
    {
     "data": {
      "text/html": [
       "<p style='color:#ada;'>saving historic tohlcv data to json</p>"
      ],
      "text/plain": [
       "<IPython.core.display.HTML object>"
      ]
     },
     "metadata": {},
     "output_type": "display_data"
    },
    {
     "name": "stdout",
     "output_type": "stream",
     "text": [
      "{'tps': [[1730486580000, 0.003218, 0.00325, 0.003207, 0.003235, 31474.0]], 'entry_reached': [[1730486460000, 0.00323, 0.00323, 0.003193, 0.003209, 49169.0]], 'stop_loss_reached': None, 'break_reason': None}\n"
     ]
    },
    {
     "data": {
      "text/html": [
       "<p style='color:#0f0;'>********************************************************************************************************************</p>"
      ],
      "text/plain": [
       "<IPython.core.display.HTML object>"
      ]
     },
     "metadata": {},
     "output_type": "display_data"
    },
    {
     "name": "stdout",
     "output_type": "stream",
     "text": [
      "symbol: ETH/USDT:USDT, po: SHORT, stop: 2386.2960000000003, en: 2410.4, tp: 2434.504\n",
      "{'tps': [], 'entry_reached': [[1730659500000, 2418.12, 2418.12, 2410.4, 2413.84, 1319305.0]], 'stop_loss_reached': [1730659560000, 2413.84, 2415.27, 2411.23, 2412.6, 278565.0], 'break_reason': None}\n"
     ]
    },
    {
     "data": {
      "text/html": [
       "<p style='color:#0f0;'>********************************************************************************************************************</p>"
      ],
      "text/plain": [
       "<IPython.core.display.HTML object>"
      ]
     },
     "metadata": {},
     "output_type": "display_data"
    },
    {
     "name": "stdout",
     "output_type": "stream",
     "text": [
      "symbol: BTC/USDT:USDT, po: LONG, stop: 67204.76400000001, en: 67883.6, tp: 68562.436\n",
      "{'tps': [[1730662620000, 68530.8, 68601.8, 68528.8, 68589.0, 4056495.0]], 'entry_reached': [[1730660100000, 67899.9, 67910.0, 67883.6, 67894.4, 519145.0]], 'stop_loss_reached': None, 'break_reason': None}\n"
     ]
    },
    {
     "data": {
      "text/html": [
       "<p style='color:#0f0;'>********************************************************************************************************************</p>"
      ],
      "text/plain": [
       "<IPython.core.display.HTML object>"
      ]
     },
     "metadata": {},
     "output_type": "display_data"
    },
    {
     "name": "stdout",
     "output_type": "stream",
     "text": [
      "symbol: SUI/USDT:USDT, po: LONG, stop: 1.933569, en: 1.9531, tp: 1.972631\n"
     ]
    },
    {
     "data": {
      "text/html": [
       "<p style='color:#c01;'>json, 1731357000000</p>"
      ],
      "text/plain": [
       "<IPython.core.display.HTML object>"
      ]
     },
     "metadata": {},
     "output_type": "display_data"
    },
    {
     "data": {
      "text/html": [
       "<p style='color:#fd03a1;'>stop_timestamp</p>"
      ],
      "text/plain": [
       "<IPython.core.display.HTML object>"
      ]
     },
     "metadata": {},
     "output_type": "display_data"
    },
    {
     "data": {
      "text/html": [
       "<p style='color:#ada;'>saving historic tohlcv data to json</p>"
      ],
      "text/plain": [
       "<IPython.core.display.HTML object>"
      ]
     },
     "metadata": {},
     "output_type": "display_data"
    },
    {
     "name": "stdout",
     "output_type": "stream",
     "text": [
      "{'tps': [], 'entry_reached': [[1730683920000, 1.9557, 1.9634, 1.9531, 1.9589, 230961.0]], 'stop_loss_reached': [1730684700000, 1.9392, 1.9394, 1.9309, 1.9309, 70202.0], 'break_reason': None}\n"
     ]
    },
    {
     "data": {
      "text/html": [
       "<p style='color:#0f0;'>********************************************************************************************************************</p>"
      ],
      "text/plain": [
       "<IPython.core.display.HTML object>"
      ]
     },
     "metadata": {},
     "output_type": "display_data"
    },
    {
     "name": "stdout",
     "output_type": "stream",
     "text": [
      "symbol: DOGE/USDT:USDT, po: LONG, stop: 0.1555983, en: 0.15717, tp: 0.1587417\n",
      "{'tps': [[1730741520000, 0.15868, 0.15879, 0.15843, 0.1585, 1926974.0]], 'entry_reached': [[1730741220000, 0.15717, 0.15788, 0.15717, 0.15788, 2692471.0]], 'stop_loss_reached': None, 'break_reason': None}\n"
     ]
    },
    {
     "data": {
      "text/html": [
       "<p style='color:#0f0;'>********************************************************************************************************************</p>"
      ],
      "text/plain": [
       "<IPython.core.display.HTML object>"
      ]
     },
     "metadata": {},
     "output_type": "display_data"
    },
    {
     "name": "stdout",
     "output_type": "stream",
     "text": [
      "symbol: SANTOS/USDT:USDT, po: LONG, stop: 4.49064, en: 4.536, tp: 4.581359999999999\n"
     ]
    },
    {
     "data": {
      "text/html": [
       "<p style='color:#c01;'>json, 1730752200000</p>"
      ],
      "text/plain": [
       "<IPython.core.display.HTML object>"
      ]
     },
     "metadata": {},
     "output_type": "display_data"
    },
    {
     "data": {
      "text/html": [
       "<p style='color:#fd03a1;'>stop_timestamp</p>"
      ],
      "text/plain": [
       "<IPython.core.display.HTML object>"
      ]
     },
     "metadata": {},
     "output_type": "display_data"
    },
    {
     "data": {
      "text/html": [
       "<p style='color:#ada;'>saving historic tohlcv data to json</p>"
      ],
      "text/plain": [
       "<IPython.core.display.HTML object>"
      ]
     },
     "metadata": {},
     "output_type": "display_data"
    },
    {
     "name": "stdout",
     "output_type": "stream",
     "text": [
      "{'tps': [[1730805720000, 4.577, 4.62, 4.571, 4.599, 39607.0]], 'entry_reached': [[1730805660000, 4.544, 4.58, 4.536, 4.58, 50694.0]], 'stop_loss_reached': None, 'break_reason': None}\n"
     ]
    },
    {
     "data": {
      "text/html": [
       "<p style='color:#0f0;'>********************************************************************************************************************</p>"
      ],
      "text/plain": [
       "<IPython.core.display.HTML object>"
      ]
     },
     "metadata": {},
     "output_type": "display_data"
    },
    {
     "name": "stdout",
     "output_type": "stream",
     "text": [
      "symbol: SOL/USDT:USDT, po: LONG, stop: 165.4488, en: 167.12, tp: 168.7912\n",
      "{'tps': [[1730826060000, 168.71, 168.83, 168.62, 168.81, 39088.0]], 'entry_reached': [[1730825280000, 167.48, 167.57, 167.12, 167.25, 54496.0]], 'stop_loss_reached': None, 'break_reason': None}\n"
     ]
    },
    {
     "data": {
      "text/html": [
       "<p style='color:#0f0;'>********************************************************************************************************************</p>"
      ],
      "text/plain": [
       "<IPython.core.display.HTML object>"
      ]
     },
     "metadata": {},
     "output_type": "display_data"
    },
    {
     "name": "stdout",
     "output_type": "stream",
     "text": [
      "symbol: BTC/USDT:USDT, po: LONG, stop: 69312.375, en: 70012.5, tp: 70712.625\n",
      "{'tps': [], 'entry_reached': [[1730828280000, 70049.4, 70049.4, 70012.5, 70041.4, 698576.0]], 'stop_loss_reached': [1730836500000, 69409.0, 69460.4, 69155.9, 69155.9, 9469167.0], 'break_reason': None}\n"
     ]
    },
    {
     "data": {
      "text/html": [
       "<p style='color:#0f0;'>********************************************************************************************************************</p>"
      ],
      "text/plain": [
       "<IPython.core.display.HTML object>"
      ]
     },
     "metadata": {},
     "output_type": "display_data"
    },
    {
     "name": "stdout",
     "output_type": "stream",
     "text": [
      "symbol: ETH/USDT:USDT, po: LONG, stop: 2593.4633999999996, en: 2619.66, tp: 2645.8566\n",
      "{'tps': [[1730895420000, 2643.53, 2649.63, 2643.09, 2648.57, 1499925.0]], 'entry_reached': [[1730889300000, 2619.66, 2622.3, 2619.66, 2621.98, 167441.0]], 'stop_loss_reached': None, 'break_reason': None}\n"
     ]
    },
    {
     "data": {
      "text/html": [
       "<p style='color:#0f0;'>********************************************************************************************************************</p>"
      ],
      "text/plain": [
       "<IPython.core.display.HTML object>"
      ]
     },
     "metadata": {},
     "output_type": "display_data"
    },
    {
     "name": "stdout",
     "output_type": "stream",
     "text": [
      "symbol: MOODENG/USDT:USDT, po: LONG, stop: 0.1918818, en: 0.19382, tp: 0.1957582\n"
     ]
    },
    {
     "data": {
      "text/html": [
       "<p style='color:#c01;'>json, 1731011400000</p>"
      ],
      "text/plain": [
       "<IPython.core.display.HTML object>"
      ]
     },
     "metadata": {},
     "output_type": "display_data"
    },
    {
     "data": {
      "text/html": [
       "<p style='color:#fd03a1;'>stop_timestamp</p>"
      ],
      "text/plain": [
       "<IPython.core.display.HTML object>"
      ]
     },
     "metadata": {},
     "output_type": "display_data"
    },
    {
     "data": {
      "text/html": [
       "<p style='color:#ada;'>saving historic tohlcv data to json</p>"
      ],
      "text/plain": [
       "<IPython.core.display.HTML object>"
      ]
     },
     "metadata": {},
     "output_type": "display_data"
    },
    {
     "name": "stdout",
     "output_type": "stream",
     "text": [
      "{'tps': [[1730915040000, 0.19556, 0.19642, 0.19539, 0.19621, 20531.0]], 'entry_reached': [[1730914980000, 0.19382, 0.1959, 0.19382, 0.19568, 53741.0]], 'stop_loss_reached': None, 'break_reason': None}\n"
     ]
    },
    {
     "data": {
      "text/html": [
       "<p style='color:#0f0;'>********************************************************************************************************************</p>"
      ],
      "text/plain": [
       "<IPython.core.display.HTML object>"
      ]
     },
     "metadata": {},
     "output_type": "display_data"
    },
    {
     "name": "stdout",
     "output_type": "stream",
     "text": [
      "symbol: NEIRO/USDT:USDT, po: LONG, stop: 0.002125629, en: 0.0021471, tp: 0.0021685709999999998\n"
     ]
    },
    {
     "data": {
      "text/html": [
       "<p style='color:#c01;'>json, 1730925000000</p>"
      ],
      "text/plain": [
       "<IPython.core.display.HTML object>"
      ]
     },
     "metadata": {},
     "output_type": "display_data"
    },
    {
     "data": {
      "text/html": [
       "<p style='color:#fd03a1;'>stop_timestamp</p>"
      ],
      "text/plain": [
       "<IPython.core.display.HTML object>"
      ]
     },
     "metadata": {},
     "output_type": "display_data"
    },
    {
     "data": {
      "text/html": [
       "<p style='color:#ada;'>saving historic tohlcv data to json</p>"
      ],
      "text/plain": [
       "<IPython.core.display.HTML object>"
      ]
     },
     "metadata": {},
     "output_type": "display_data"
    },
    {
     "name": "stdout",
     "output_type": "stream",
     "text": [
      "{'tps': [[1730984700000, 0.0021627, 0.0021869, 0.0021616, 0.0021618, 8584.0]], 'entry_reached': [[1730984580000, 0.0021471, 0.002165, 0.0021471, 0.0021555, 8606.0]], 'stop_loss_reached': None, 'break_reason': None}\n"
     ]
    },
    {
     "data": {
      "text/html": [
       "<p style='color:#0f0;'>********************************************************************************************************************</p>"
      ],
      "text/plain": [
       "<IPython.core.display.HTML object>"
      ]
     },
     "metadata": {},
     "output_type": "display_data"
    },
    {
     "name": "stdout",
     "output_type": "stream",
     "text": [
      "symbol: GOAT/USDT:USDT, po: LONG, stop: 0.868032, en: 0.8768, tp: 0.885568\n"
     ]
    },
    {
     "data": {
      "text/html": [
       "<p style='color:#c01;'>json, 1730925000000</p>"
      ],
      "text/plain": [
       "<IPython.core.display.HTML object>"
      ]
     },
     "metadata": {},
     "output_type": "display_data"
    },
    {
     "data": {
      "text/html": [
       "<p style='color:#fd03a1;'>stop_timestamp</p>"
      ],
      "text/plain": [
       "<IPython.core.display.HTML object>"
      ]
     },
     "metadata": {},
     "output_type": "display_data"
    },
    {
     "data": {
      "text/html": [
       "<p style='color:#ada;'>saving historic tohlcv data to json</p>"
      ],
      "text/plain": [
       "<IPython.core.display.HTML object>"
      ]
     },
     "metadata": {},
     "output_type": "display_data"
    },
    {
     "name": "stdout",
     "output_type": "stream",
     "text": [
      "{'tps': [[1731010500000, 0.8799, 0.8871, 0.8797, 0.8862, 7252.0]], 'entry_reached': [[1731010440000, 0.8817, 0.8817, 0.8768, 0.8783, 5106.0]], 'stop_loss_reached': None, 'break_reason': None}\n"
     ]
    },
    {
     "data": {
      "text/html": [
       "<p style='color:#0f0;'>********************************************************************************************************************</p>"
      ],
      "text/plain": [
       "<IPython.core.display.HTML object>"
      ]
     },
     "metadata": {},
     "output_type": "display_data"
    },
    {
     "name": "stdout",
     "output_type": "stream",
     "text": [
      "symbol: BTC/USDT:USDT, po: LONG, stop: 75609.963, en: 76373.7, tp: 77137.43699999999\n",
      "{'tps': [], 'entry_reached': [[1731012120000, 76408.8, 76429.0, 76373.7, 76377.5, 2086900.0]], 'stop_loss_reached': [1731017700000, 75666.3, 75666.3, 75609.1, 75609.1, 1121020.0], 'break_reason': None}\n"
     ]
    },
    {
     "data": {
      "text/html": [
       "<p style='color:#0f0;'>********************************************************************************************************************</p>"
      ],
      "text/plain": [
       "<IPython.core.display.HTML object>"
      ]
     },
     "metadata": {},
     "output_type": "display_data"
    },
    {
     "name": "stdout",
     "output_type": "stream",
     "text": [
      "symbol: 1000PEPE/USDT:USDT, po: LONG, stop: 0.010661013, en: 0.0107687, tp: 0.010876387000000001\n",
      "{'tps': [[1731013620000, 0.0108535, 0.010903, 0.0108416, 0.0108981, 1590780.0]], 'entry_reached': [[1731013500000, 0.0108094, 0.0108193, 0.0107687, 0.0107746, 1195531.0]], 'stop_loss_reached': None, 'break_reason': None}\n"
     ]
    },
    {
     "data": {
      "text/html": [
       "<p style='color:#0f0;'>********************************************************************************************************************</p>"
      ],
      "text/plain": [
       "<IPython.core.display.HTML object>"
      ]
     },
     "metadata": {},
     "output_type": "display_data"
    },
    {
     "name": "stdout",
     "output_type": "stream",
     "text": [
      "symbol: DOGE/USDT:USDT, po: LONG, stop: 0.19585170000000002, en: 0.19783, tp: 0.1998083\n"
     ]
    },
    {
     "data": {
      "text/html": [
       "<p style='color:#c01;'>json, 1731789000000</p>"
      ],
      "text/plain": [
       "<IPython.core.display.HTML object>"
      ]
     },
     "metadata": {},
     "output_type": "display_data"
    },
    {
     "data": {
      "text/html": [
       "<p style='color:#fd03a1;'>stop_timestamp</p>"
      ],
      "text/plain": [
       "<IPython.core.display.HTML object>"
      ]
     },
     "metadata": {},
     "output_type": "display_data"
    },
    {
     "data": {
      "text/html": [
       "<p style='color:#ada;'>saving historic tohlcv data to json</p>"
      ],
      "text/plain": [
       "<IPython.core.display.HTML object>"
      ]
     },
     "metadata": {},
     "output_type": "display_data"
    },
    {
     "name": "stdout",
     "output_type": "stream",
     "text": [
      "{'tps': [[1731048420000, 0.19957, 0.20009, 0.19953, 0.20007, 2791270.0]], 'entry_reached': [[1731042720000, 0.19795, 0.19807, 0.19783, 0.19807, 956652.0]], 'stop_loss_reached': None, 'break_reason': None}\n"
     ]
    },
    {
     "data": {
      "text/html": [
       "<p style='color:#0f0;'>********************************************************************************************************************</p>"
      ],
      "text/plain": [
       "<IPython.core.display.HTML object>"
      ]
     },
     "metadata": {},
     "output_type": "display_data"
    },
    {
     "name": "stdout",
     "output_type": "stream",
     "text": [
      "symbol: TROY/USDT:USDT, po: LONG, stop: 0.00466587, en: 0.004713, tp: 0.0047601300000000004\n"
     ]
    },
    {
     "data": {
      "text/html": [
       "<p style='color:#c01;'>json, 1731011400000</p>"
      ],
      "text/plain": [
       "<IPython.core.display.HTML object>"
      ]
     },
     "metadata": {},
     "output_type": "display_data"
    },
    {
     "data": {
      "text/html": [
       "<p style='color:#fd03a1;'>stop_timestamp</p>"
      ],
      "text/plain": [
       "<IPython.core.display.HTML object>"
      ]
     },
     "metadata": {},
     "output_type": "display_data"
    },
    {
     "data": {
      "text/html": [
       "<p style='color:#ada;'>saving historic tohlcv data to json</p>"
      ],
      "text/plain": [
       "<IPython.core.display.HTML object>"
      ]
     },
     "metadata": {},
     "output_type": "display_data"
    },
    {
     "name": "stdout",
     "output_type": "stream",
     "text": [
      "{'tps': [[1731088380000, 0.004784, 0.004784, 0.004762, 0.004777, 39589.0]], 'entry_reached': [[1731088320000, 0.004818, 0.004818, 0.004713, 0.004788, 121183.0]], 'stop_loss_reached': None, 'break_reason': None}\n"
     ]
    },
    {
     "data": {
      "text/html": [
       "<p style='color:#0f0;'>********************************************************************************************************************</p>"
      ],
      "text/plain": [
       "<IPython.core.display.HTML object>"
      ]
     },
     "metadata": {},
     "output_type": "display_data"
    },
    {
     "name": "stdout",
     "output_type": "stream",
     "text": [
      "symbol: 1000FLOKI/USDT:USDT, po: LONG, stop: 0.1864269, en: 0.18831, tp: 0.1901931\n"
     ]
    },
    {
     "data": {
      "text/html": [
       "<p style='color:#c01;'>json, 1731270600000</p>"
      ],
      "text/plain": [
       "<IPython.core.display.HTML object>"
      ]
     },
     "metadata": {},
     "output_type": "display_data"
    },
    {
     "data": {
      "text/html": [
       "<p style='color:#fd03a1;'>stop_timestamp</p>"
      ],
      "text/plain": [
       "<IPython.core.display.HTML object>"
      ]
     },
     "metadata": {},
     "output_type": "display_data"
    },
    {
     "data": {
      "text/html": [
       "<p style='color:#ada;'>saving historic tohlcv data to json</p>"
      ],
      "text/plain": [
       "<IPython.core.display.HTML object>"
      ]
     },
     "metadata": {},
     "output_type": "display_data"
    },
    {
     "name": "stdout",
     "output_type": "stream",
     "text": [
      "{'tps': [[1731289800000, 0.18796, 0.19026, 0.18796, 0.18992, 36383.0]], 'entry_reached': [[1731289080000, 0.18831, 0.18977, 0.18831, 0.18944, 176046.0]], 'stop_loss_reached': None, 'break_reason': None}\n"
     ]
    },
    {
     "data": {
      "text/html": [
       "<p style='color:#0f0;'>********************************************************************************************************************</p>"
      ],
      "text/plain": [
       "<IPython.core.display.HTML object>"
      ]
     },
     "metadata": {},
     "output_type": "display_data"
    },
    {
     "name": "stdout",
     "output_type": "stream",
     "text": [
      "symbol: BTC/USDT:USDT, po: LONG, stop: 79682.13, en: 80487.0, tp: 81291.87\n",
      "{'tps': [[1731312060000, 81161.6, 81298.5, 81157.0, 81241.6, 1856823.0]], 'entry_reached': [[1731304560000, 80487.0, 80583.2, 80487.0, 80534.9, 2360152.0]], 'stop_loss_reached': None, 'break_reason': None}\n"
     ]
    },
    {
     "data": {
      "text/html": [
       "<p style='color:#0f0;'>********************************************************************************************************************</p>"
      ],
      "text/plain": [
       "<IPython.core.display.HTML object>"
      ]
     },
     "metadata": {},
     "output_type": "display_data"
    },
    {
     "name": "stdout",
     "output_type": "stream",
     "text": [
      "symbol: BTC/USDT:USDT, po: SHORT, stop: 80107.83, en: 80917.0, tp: 81726.17\n",
      "{'tps': [], 'entry_reached': [[1731309480000, 80979.2, 80979.2, 80917.0, 80949.8, 196975.0]], 'stop_loss_reached': [1731309540000, 80949.7, 81020.0, 80949.7, 81020.0, 338487.0], 'break_reason': None}\n"
     ]
    },
    {
     "data": {
      "text/html": [
       "<p style='color:#0f0;'>********************************************************************************************************************</p>"
      ],
      "text/plain": [
       "<IPython.core.display.HTML object>"
      ]
     },
     "metadata": {},
     "output_type": "display_data"
    },
    {
     "name": "stdout",
     "output_type": "stream",
     "text": [
      "symbol: DOGE/USDT:USDT, po: LONG, stop: 0.2810214, en: 0.28386, tp: 0.2866986\n"
     ]
    },
    {
     "data": {
      "text/html": [
       "<p style='color:#c01;'>json, 1731961800000</p>"
      ],
      "text/plain": [
       "<IPython.core.display.HTML object>"
      ]
     },
     "metadata": {},
     "output_type": "display_data"
    },
    {
     "data": {
      "text/html": [
       "<p style='color:#fd03a1;'>stop_timestamp</p>"
      ],
      "text/plain": [
       "<IPython.core.display.HTML object>"
      ]
     },
     "metadata": {},
     "output_type": "display_data"
    },
    {
     "data": {
      "text/html": [
       "<p style='color:#ada;'>saving historic tohlcv data to json</p>"
      ],
      "text/plain": [
       "<IPython.core.display.HTML object>"
      ]
     },
     "metadata": {},
     "output_type": "display_data"
    },
    {
     "name": "stdout",
     "output_type": "stream",
     "text": [
      "{'tps': [], 'entry_reached': [[1731312960000, 0.28435, 0.28519, 0.28386, 0.28471, 2417272.0]], 'stop_loss_reached': [1731315540000, 0.28166, 0.28183, 0.28082, 0.28082, 1768266.0], 'break_reason': None}\n"
     ]
    },
    {
     "data": {
      "text/html": [
       "<p style='color:#0f0;'>********************************************************************************************************************</p>"
      ],
      "text/plain": [
       "<IPython.core.display.HTML object>"
      ]
     },
     "metadata": {},
     "output_type": "display_data"
    },
    {
     "name": "stdout",
     "output_type": "stream",
     "text": [
      "symbol: SOL/USDT:USDT, po: LONG, stop: 206.8209, en: 208.91, tp: 210.9991\n",
      "{'tps': [[1731316320000, 210.71, 211.21, 210.62, 211.17, 240377.0]], 'entry_reached': [[1731316140000, 209.12, 209.23, 208.91, 209.23, 22946.0]], 'stop_loss_reached': None, 'break_reason': None}\n"
     ]
    },
    {
     "data": {
      "text/html": [
       "<p style='color:#0f0;'>********************************************************************************************************************</p>"
      ],
      "text/plain": [
       "<IPython.core.display.HTML object>"
      ]
     },
     "metadata": {},
     "output_type": "display_data"
    },
    {
     "name": "stdout",
     "output_type": "stream",
     "text": [
      "symbol: MOODENG/USDT:USDT, po: LONG, stop: 0.38043720000000003, en: 0.38428, tp: 0.3881228\n"
     ]
    },
    {
     "data": {
      "text/html": [
       "<p style='color:#c01;'>json, 1731789000000</p>"
      ],
      "text/plain": [
       "<IPython.core.display.HTML object>"
      ]
     },
     "metadata": {},
     "output_type": "display_data"
    },
    {
     "data": {
      "text/html": [
       "<p style='color:#fd03a1;'>stop_timestamp</p>"
      ],
      "text/plain": [
       "<IPython.core.display.HTML object>"
      ]
     },
     "metadata": {},
     "output_type": "display_data"
    },
    {
     "data": {
      "text/html": [
       "<p style='color:#ada;'>saving historic tohlcv data to json</p>"
      ],
      "text/plain": [
       "<IPython.core.display.HTML object>"
      ]
     },
     "metadata": {},
     "output_type": "display_data"
    },
    {
     "name": "stdout",
     "output_type": "stream",
     "text": [
      "{'tps': [], 'entry_reached': [[1731319200000, 0.38783, 0.38879, 0.38428, 0.38482, 31928.0]], 'stop_loss_reached': [1731319500000, 0.38313, 0.38313, 0.3775, 0.37838, 14720.0], 'break_reason': None}\n"
     ]
    },
    {
     "data": {
      "text/html": [
       "<p style='color:#0f0;'>********************************************************************************************************************</p>"
      ],
      "text/plain": [
       "<IPython.core.display.HTML object>"
      ]
     },
     "metadata": {},
     "output_type": "display_data"
    },
    {
     "name": "stdout",
     "output_type": "stream",
     "text": [
      "symbol: PNUT/USDT:USDT, po: LONG, stop: 0.494901, en: 0.4999, tp: 0.504899\n"
     ]
    },
    {
     "data": {
      "text/html": [
       "<p style='color:#c01;'>json, 1731357000000</p>"
      ],
      "text/plain": [
       "<IPython.core.display.HTML object>"
      ]
     },
     "metadata": {},
     "output_type": "display_data"
    },
    {
     "data": {
      "text/html": [
       "<p style='color:#fd03a1;'>stop_timestamp</p>"
      ],
      "text/plain": [
       "<IPython.core.display.HTML object>"
      ]
     },
     "metadata": {},
     "output_type": "display_data"
    },
    {
     "data": {
      "text/html": [
       "<p style='color:#ada;'>saving historic tohlcv data to json</p>"
      ],
      "text/plain": [
       "<IPython.core.display.HTML object>"
      ]
     },
     "metadata": {},
     "output_type": "display_data"
    },
    {
     "name": "stdout",
     "output_type": "stream",
     "text": [
      "{'tps': [[1731387540000, 0.5068, 0.5186, 0.5054, 0.5185, 4340.0]], 'entry_reached': [[1731387480000, 0.5107, 0.5128, 0.4999, 0.5068, 4357.0]], 'stop_loss_reached': None, 'break_reason': None}\n"
     ]
    },
    {
     "data": {
      "text/html": [
       "<p style='color:#0f0;'>********************************************************************************************************************</p>"
      ],
      "text/plain": [
       "<IPython.core.display.HTML object>"
      ]
     },
     "metadata": {},
     "output_type": "display_data"
    },
    {
     "name": "stdout",
     "output_type": "stream",
     "text": [
      "symbol: GOAT/USDT:USDT, po: LONG, stop: 0.9572309999999999, en: 0.9669, tp: 0.976569\n"
     ]
    },
    {
     "data": {
      "text/html": [
       "<p style='color:#c01;'>json, 1731875400000</p>"
      ],
      "text/plain": [
       "<IPython.core.display.HTML object>"
      ]
     },
     "metadata": {},
     "output_type": "display_data"
    },
    {
     "data": {
      "text/html": [
       "<p style='color:#fd03a1;'>stop_timestamp</p>"
      ],
      "text/plain": [
       "<IPython.core.display.HTML object>"
      ]
     },
     "metadata": {},
     "output_type": "display_data"
    },
    {
     "data": {
      "text/html": [
       "<p style='color:#ada;'>saving historic tohlcv data to json</p>"
      ],
      "text/plain": [
       "<IPython.core.display.HTML object>"
      ]
     },
     "metadata": {},
     "output_type": "display_data"
    },
    {
     "name": "stdout",
     "output_type": "stream",
     "text": [
      "{'tps': [], 'entry_reached': [[1731421380000, 0.9725, 0.9805, 0.9669, 0.9721, 6765.0]], 'stop_loss_reached': [1731421620000, 0.9623, 0.9635, 0.9561, 0.96, 2781.0], 'break_reason': None}\n"
     ]
    },
    {
     "data": {
      "text/html": [
       "<p style='color:#0f0;'>********************************************************************************************************************</p>"
      ],
      "text/plain": [
       "<IPython.core.display.HTML object>"
      ]
     },
     "metadata": {},
     "output_type": "display_data"
    },
    {
     "name": "stdout",
     "output_type": "stream",
     "text": [
      "symbol: DOGE/USDT:USDT, po: LONG, stop: 0.3754872, en: 0.37928, tp: 0.3830728\n",
      "{'tps': [[1731423660000, 0.38271, 0.38745, 0.38271, 0.38745, 11947836.0]], 'entry_reached': [[1731423600000, 0.3826, 0.3826, 0.37928, 0.38257, 6820951.0]], 'stop_loss_reached': None, 'break_reason': None}\n"
     ]
    },
    {
     "data": {
      "text/html": [
       "<p style='color:#0f0;'>********************************************************************************************************************</p>"
      ],
      "text/plain": [
       "<IPython.core.display.HTML object>"
      ]
     },
     "metadata": {},
     "output_type": "display_data"
    },
    {
     "name": "stdout",
     "output_type": "stream",
     "text": [
      "symbol: DOGE/USDT:USDT, po: LONG, stop: 0.3880998, en: 0.39202, tp: 0.39594019999999996\n"
     ]
    },
    {
     "data": {
      "text/html": [
       "<p style='color:#c01;'>json, 1732221000000</p>"
      ],
      "text/plain": [
       "<IPython.core.display.HTML object>"
      ]
     },
     "metadata": {},
     "output_type": "display_data"
    },
    {
     "data": {
      "text/html": [
       "<p style='color:#fd03a1;'>stop_timestamp</p>"
      ],
      "text/plain": [
       "<IPython.core.display.HTML object>"
      ]
     },
     "metadata": {},
     "output_type": "display_data"
    },
    {
     "data": {
      "text/html": [
       "<p style='color:#ada;'>saving historic tohlcv data to json</p>"
      ],
      "text/plain": [
       "<IPython.core.display.HTML object>"
      ]
     },
     "metadata": {},
     "output_type": "display_data"
    },
    {
     "name": "stdout",
     "output_type": "stream",
     "text": [
      "{'tps': [], 'entry_reached': [[1731463620000, 0.39333, 0.39374, 0.39202, 0.39252, 2362791.0]], 'stop_loss_reached': [1731464220000, 0.3906, 0.39182, 0.38747, 0.38824, 4168861.0], 'break_reason': None}\n"
     ]
    },
    {
     "data": {
      "text/html": [
       "<p style='color:#0f0;'>********************************************************************************************************************</p>"
      ],
      "text/plain": [
       "<IPython.core.display.HTML object>"
      ]
     },
     "metadata": {},
     "output_type": "display_data"
    },
    {
     "name": "stdout",
     "output_type": "stream",
     "text": [
      "symbol: DOGE/USDT:USDT, po: LONG, stop: 0.3824073, en: 0.38627, tp: 0.3901327\n",
      "{'tps': [[1731467400000, 0.38828, 0.39049, 0.38769, 0.38827, 2290529.0]], 'entry_reached': [[1731466800000, 0.38717, 0.38879, 0.38627, 0.38667, 2285867.0]], 'stop_loss_reached': None, 'break_reason': None}\n"
     ]
    },
    {
     "data": {
      "text/html": [
       "<p style='color:#0f0;'>********************************************************************************************************************</p>"
      ],
      "text/plain": [
       "<IPython.core.display.HTML object>"
      ]
     },
     "metadata": {},
     "output_type": "display_data"
    },
    {
     "name": "stdout",
     "output_type": "stream",
     "text": [
      "symbol: XRP/USDT:USDT, po: LONG, stop: 0.6591419999999999, en: 0.6658, tp: 0.672458\n"
     ]
    },
    {
     "data": {
      "text/html": [
       "<p style='color:#c01;'>json, 1731529800000</p>"
      ],
      "text/plain": [
       "<IPython.core.display.HTML object>"
      ]
     },
     "metadata": {},
     "output_type": "display_data"
    },
    {
     "data": {
      "text/html": [
       "<p style='color:#fd03a1;'>stop_timestamp</p>"
      ],
      "text/plain": [
       "<IPython.core.display.HTML object>"
      ]
     },
     "metadata": {},
     "output_type": "display_data"
    },
    {
     "data": {
      "text/html": [
       "<p style='color:#ada;'>saving historic tohlcv data to json</p>"
      ],
      "text/plain": [
       "<IPython.core.display.HTML object>"
      ]
     },
     "metadata": {},
     "output_type": "display_data"
    },
    {
     "name": "stdout",
     "output_type": "stream",
     "text": [
      "{'tps': [[1731486660000, 0.671, 0.6739, 0.6704, 0.6737, 598671.0]], 'entry_reached': [[1731486420000, 0.6674, 0.6681, 0.6658, 0.6676, 428104.0]], 'stop_loss_reached': None, 'break_reason': None}\n"
     ]
    },
    {
     "data": {
      "text/html": [
       "<p style='color:#0f0;'>********************************************************************************************************************</p>"
      ],
      "text/plain": [
       "<IPython.core.display.HTML object>"
      ]
     },
     "metadata": {},
     "output_type": "display_data"
    },
    {
     "name": "stdout",
     "output_type": "stream",
     "text": [
      "symbol: DOGE/USDT:USDT, po: LONG, stop: 0.40336560000000005, en: 0.40744, tp: 0.4115144\n",
      "{'tps': [[1731594420000, 0.40952, 0.41152, 0.40952, 0.41041, 3358539.0]], 'entry_reached': [[1731594360000, 0.40777, 0.40963, 0.40744, 0.40956, 2400759.0]], 'stop_loss_reached': None, 'break_reason': None}\n"
     ]
    },
    {
     "data": {
      "text/html": [
       "<p style='color:#0f0;'>********************************************************************************************************************</p>"
      ],
      "text/plain": [
       "<IPython.core.display.HTML object>"
      ]
     },
     "metadata": {},
     "output_type": "display_data"
    },
    {
     "name": "stdout",
     "output_type": "stream",
     "text": [
      "symbol: PNUT/USDT:USDT, po: LONG, stop: 1.952478, en: 1.9722, tp: 1.991922\n"
     ]
    },
    {
     "data": {
      "text/html": [
       "<p style='color:#c01;'>json, 1732307400000</p>"
      ],
      "text/plain": [
       "<IPython.core.display.HTML object>"
      ]
     },
     "metadata": {},
     "output_type": "display_data"
    },
    {
     "data": {
      "text/html": [
       "<p style='color:#fd03a1;'>stop_timestamp</p>"
      ],
      "text/plain": [
       "<IPython.core.display.HTML object>"
      ]
     },
     "metadata": {},
     "output_type": "display_data"
    },
    {
     "data": {
      "text/html": [
       "<p style='color:#ada;'>saving historic tohlcv data to json</p>"
      ],
      "text/plain": [
       "<IPython.core.display.HTML object>"
      ]
     },
     "metadata": {},
     "output_type": "display_data"
    },
    {
     "name": "stdout",
     "output_type": "stream",
     "text": [
      "{'tps': [[1731596460000, 1.9852, 2.0158, 1.9718, 2.0033, 4768.0]], 'entry_reached': [[1731596400000, 2.0048, 2.0147, 1.9722, 1.987, 3097.0]], 'stop_loss_reached': None, 'break_reason': None}\n"
     ]
    },
    {
     "data": {
      "text/html": [
       "<p style='color:#0f0;'>********************************************************************************************************************</p>"
      ],
      "text/plain": [
       "<IPython.core.display.HTML object>"
      ]
     },
     "metadata": {},
     "output_type": "display_data"
    },
    {
     "name": "stdout",
     "output_type": "stream",
     "text": [
      "symbol: PNUT/USDT:USDT, po: LONG, stop: 2.025639, en: 2.0461, tp: 2.066561\n",
      "{'tps': [[1731601140000, 2.0546, 2.0837, 2.0504, 2.0822, 3004.0]], 'entry_reached': [[1731601080000, 2.0468, 2.0595, 2.0461, 2.0535, 1545.0]], 'stop_loss_reached': None, 'break_reason': None}\n"
     ]
    },
    {
     "data": {
      "text/html": [
       "<p style='color:#0f0;'>********************************************************************************************************************</p>"
      ],
      "text/plain": [
       "<IPython.core.display.HTML object>"
      ]
     },
     "metadata": {},
     "output_type": "display_data"
    },
    {
     "name": "stdout",
     "output_type": "stream",
     "text": [
      "symbol: 1000PEPE/USDT:USDT, po: LONG, stop: 0.023086107, en: 0.0233193, tp: 0.023552493\n",
      "{'tps': [], 'entry_reached': [[1731604080000, 0.0233193, 0.0234786, 0.0233193, 0.0234355, 3083960.0]], 'stop_loss_reached': [1731604320000, 0.0232687, 0.0232687, 0.0229835, 0.0231253, 1132419.0], 'break_reason': None}\n"
     ]
    },
    {
     "data": {
      "text/html": [
       "<p style='color:#0f0;'>********************************************************************************************************************</p>"
      ],
      "text/plain": [
       "<IPython.core.display.HTML object>"
      ]
     },
     "metadata": {},
     "output_type": "display_data"
    },
    {
     "name": "stdout",
     "output_type": "stream",
     "text": [
      "symbol: 1000PEPE/USDT:USDT, po: LONG, stop: 0.021073833, en: 0.0212867, tp: 0.021499566999999997\n",
      "{'tps': [[1731665700000, 0.0214777, 0.021915, 0.0214513, 0.0218414, 3725880.0]], 'entry_reached': [[1731665580000, 0.0213123, 0.0214415, 0.0212867, 0.0214151, 1275970.0]], 'stop_loss_reached': None, 'break_reason': None}\n"
     ]
    },
    {
     "data": {
      "text/html": [
       "<p style='color:#0f0;'>********************************************************************************************************************</p>"
      ],
      "text/plain": [
       "<IPython.core.display.HTML object>"
      ]
     },
     "metadata": {},
     "output_type": "display_data"
    },
    {
     "name": "stdout",
     "output_type": "stream",
     "text": [
      "symbol: ADA/USDT:USDT, po: LONG, stop: 0.668844, en: 0.6756, tp: 0.682356\n"
     ]
    },
    {
     "data": {
      "text/html": [
       "<p style='color:#c01;'>json, 1732134600000</p>"
      ],
      "text/plain": [
       "<IPython.core.display.HTML object>"
      ]
     },
     "metadata": {},
     "output_type": "display_data"
    },
    {
     "data": {
      "text/html": [
       "<p style='color:#fd03a1;'>stop_timestamp</p>"
      ],
      "text/plain": [
       "<IPython.core.display.HTML object>"
      ]
     },
     "metadata": {},
     "output_type": "display_data"
    },
    {
     "data": {
      "text/html": [
       "<p style='color:#ada;'>saving historic tohlcv data to json</p>"
      ],
      "text/plain": [
       "<IPython.core.display.HTML object>"
      ]
     },
     "metadata": {},
     "output_type": "display_data"
    },
    {
     "name": "stdout",
     "output_type": "stream",
     "text": [
      "{'tps': [], 'entry_reached': [[1731691320000, 0.6757, 0.678, 0.6756, 0.6777, 1662975.0]], 'stop_loss_reached': [1731693060000, 0.67, 0.6713, 0.668, 0.6684, 955406.0], 'break_reason': None}\n"
     ]
    },
    {
     "data": {
      "text/html": [
       "<p style='color:#0f0;'>********************************************************************************************************************</p>"
      ],
      "text/plain": [
       "<IPython.core.display.HTML object>"
      ]
     },
     "metadata": {},
     "output_type": "display_data"
    },
    {
     "name": "stdout",
     "output_type": "stream",
     "text": [
      "symbol: BTC/USDT:USDT, po: LONG, stop: 88803.19799999999, en: 89700.2, tp: 90597.202\n",
      "{'tps': [[1731699780000, 90549.1, 90627.7, 90484.9, 90573.7, 3484003.0]], 'entry_reached': [[1731692340000, 89723.7, 89765.9, 89700.2, 89726.0, 817352.0]], 'stop_loss_reached': None, 'break_reason': None}\n"
     ]
    },
    {
     "data": {
      "text/html": [
       "<p style='color:#0f0;'>********************************************************************************************************************</p>"
      ],
      "text/plain": [
       "<IPython.core.display.HTML object>"
      ]
     },
     "metadata": {},
     "output_type": "display_data"
    },
    {
     "name": "stdout",
     "output_type": "stream",
     "text": [
      "symbol: LTC/USDT:USDT, po: LONG, stop: 91.52550000000001, en: 92.45, tp: 93.3745\n"
     ]
    },
    {
     "data": {
      "text/html": [
       "<p style='color:#c01;'>json, 1731702600000</p>"
      ],
      "text/plain": [
       "<IPython.core.display.HTML object>"
      ]
     },
     "metadata": {},
     "output_type": "display_data"
    },
    {
     "data": {
      "text/html": [
       "<p style='color:#fd03a1;'>stop_timestamp</p>"
      ],
      "text/plain": [
       "<IPython.core.display.HTML object>"
      ]
     },
     "metadata": {},
     "output_type": "display_data"
    },
    {
     "data": {
      "text/html": [
       "<p style='color:#ada;'>saving historic tohlcv data to json</p>"
      ],
      "text/plain": [
       "<IPython.core.display.HTML object>"
      ]
     },
     "metadata": {},
     "output_type": "display_data"
    },
    {
     "name": "stdout",
     "output_type": "stream",
     "text": [
      "{'tps': [[1731777120000, 93.01, 93.49, 92.78, 92.78, 55359.0]], 'entry_reached': [[1731776820000, 92.56, 93.06, 92.45, 93.06, 58443.0]], 'stop_loss_reached': None, 'break_reason': None}\n"
     ]
    },
    {
     "data": {
      "text/html": [
       "<p style='color:#0f0;'>********************************************************************************************************************</p>"
      ],
      "text/plain": [
       "<IPython.core.display.HTML object>"
      ]
     },
     "metadata": {},
     "output_type": "display_data"
    },
    {
     "name": "stdout",
     "output_type": "stream",
     "text": [
      "symbol: XRP/USDT:USDT, po: LONG, stop: 1.0929600000000002, en: 1.104, tp: 1.11504\n"
     ]
    },
    {
     "data": {
      "text/html": [
       "<p style='color:#c01;'>json, 1732393800000</p>"
      ],
      "text/plain": [
       "<IPython.core.display.HTML object>"
      ]
     },
     "metadata": {},
     "output_type": "display_data"
    },
    {
     "data": {
      "text/html": [
       "<p style='color:#fd03a1;'>stop_timestamp</p>"
      ],
      "text/plain": [
       "<IPython.core.display.HTML object>"
      ]
     },
     "metadata": {},
     "output_type": "display_data"
    },
    {
     "data": {
      "text/html": [
       "<p style='color:#ada;'>saving historic tohlcv data to json</p>"
      ],
      "text/plain": [
       "<IPython.core.display.HTML object>"
      ]
     },
     "metadata": {},
     "output_type": "display_data"
    },
    {
     "name": "stdout",
     "output_type": "stream",
     "text": [
      "{'tps': [[1731894120000, 1.1051, 1.1155, 1.1051, 1.1152, 333263.0]], 'entry_reached': [[1731894060000, 1.1087, 1.1087, 1.104, 1.1051, 230395.0]], 'stop_loss_reached': None, 'break_reason': None}\n"
     ]
    },
    {
     "data": {
      "text/html": [
       "<p style='color:#0f0;'>********************************************************************************************************************</p>"
      ],
      "text/plain": [
       "<IPython.core.display.HTML object>"
      ]
     },
     "metadata": {},
     "output_type": "display_data"
    },
    {
     "name": "stdout",
     "output_type": "stream",
     "text": [
      "symbol: LTC/USDT:USDT, po: LONG, stop: 89.61479999999999, en: 90.52, tp: 91.4252\n"
     ]
    },
    {
     "data": {
      "text/html": [
       "<p style='color:#c01;'>json, 1732653000000</p>"
      ],
      "text/plain": [
       "<IPython.core.display.HTML object>"
      ]
     },
     "metadata": {},
     "output_type": "display_data"
    },
    {
     "data": {
      "text/html": [
       "<p style='color:#fd03a1;'>stop_timestamp</p>"
      ],
      "text/plain": [
       "<IPython.core.display.HTML object>"
      ]
     },
     "metadata": {},
     "output_type": "display_data"
    },
    {
     "data": {
      "text/html": [
       "<p style='color:#ada;'>saving historic tohlcv data to json</p>"
      ],
      "text/plain": [
       "<IPython.core.display.HTML object>"
      ]
     },
     "metadata": {},
     "output_type": "display_data"
    },
    {
     "name": "stdout",
     "output_type": "stream",
     "text": [
      "{'tps': [], 'entry_reached': [[1731894960000, 90.88, 90.88, 90.52, 90.66, 33803.0]], 'stop_loss_reached': [1731899280000, 89.85, 89.86, 89.58, 89.62, 17776.0], 'break_reason': None}\n"
     ]
    },
    {
     "data": {
      "text/html": [
       "<p style='color:#0f0;'>********************************************************************************************************************</p>"
      ],
      "text/plain": [
       "<IPython.core.display.HTML object>"
      ]
     },
     "metadata": {},
     "output_type": "display_data"
    },
    {
     "name": "stdout",
     "output_type": "stream",
     "text": [
      "symbol: SOL/USDT:USDT, po: LONG, stop: 244.8765, en: 247.35, tp: 249.8235\n",
      "{'tps': [], 'entry_reached': [[1731926460000, 247.74, 247.77, 247.35, 247.5, 97769.0]], 'stop_loss_reached': [1731929100000, 245.74, 245.74, 244.71, 245.18, 118699.0], 'break_reason': None}\n"
     ]
    },
    {
     "data": {
      "text/html": [
       "<p style='color:#0f0;'>********************************************************************************************************************</p>"
      ],
      "text/plain": [
       "<IPython.core.display.HTML object>"
      ]
     },
     "metadata": {},
     "output_type": "display_data"
    },
    {
     "name": "stdout",
     "output_type": "stream",
     "text": [
      "symbol: LTC/USDT:USDT, po: LONG, stop: 88.84259999999999, en: 89.74, tp: 90.6374\n",
      "{'tps': [[1731950940000, 90.54, 90.64, 90.0, 90.02, 59942.0]], 'entry_reached': [[1731950700000, 89.96, 90.09, 89.74, 90.09, 37722.0]], 'stop_loss_reached': None, 'break_reason': None}\n"
     ]
    },
    {
     "data": {
      "text/html": [
       "<p style='color:#0f0;'>********************************************************************************************************************</p>"
      ],
      "text/plain": [
       "<IPython.core.display.HTML object>"
      ]
     },
     "metadata": {},
     "output_type": "display_data"
    },
    {
     "name": "stdout",
     "output_type": "stream",
     "text": [
      "symbol: XRP/USDT:USDT, po: LONG, stop: 1.1064239999999999, en: 1.1176, tp: 1.128776\n",
      "{'tps': [[1731964620000, 1.1223, 1.1406, 1.1222, 1.1386, 1041034.0]], 'entry_reached': [[1731964020000, 1.1177, 1.1249, 1.1176, 1.1245, 241045.0]], 'stop_loss_reached': None, 'break_reason': None}\n"
     ]
    },
    {
     "data": {
      "text/html": [
       "<p style='color:#0f0;'>********************************************************************************************************************</p>"
      ],
      "text/plain": [
       "<IPython.core.display.HTML object>"
      ]
     },
     "metadata": {},
     "output_type": "display_data"
    },
    {
     "name": "stdout",
     "output_type": "stream",
     "text": [
      "symbol: XRP/USDT:USDT, po: LONG, stop: 1.107513, en: 1.1187, tp: 1.129887\n",
      "{'tps': [[1731964620000, 1.1223, 1.1406, 1.1222, 1.1386, 1041034.0]], 'entry_reached': [[1731964140000, 1.1205, 1.1217, 1.1187, 1.1206, 78581.0]], 'stop_loss_reached': None, 'break_reason': None}\n"
     ]
    },
    {
     "data": {
      "text/html": [
       "<p style='color:#0f0;'>********************************************************************************************************************</p>"
      ],
      "text/plain": [
       "<IPython.core.display.HTML object>"
      ]
     },
     "metadata": {},
     "output_type": "display_data"
    },
    {
     "name": "stdout",
     "output_type": "stream",
     "text": [
      "symbol: PNUT/USDT:USDT, po: LONG, stop: 1.747548, en: 1.7652, tp: 1.782852\n"
     ]
    },
    {
     "data": {
      "text/html": [
       "<p style='color:#c01;'>json, 1732480200000</p>"
      ],
      "text/plain": [
       "<IPython.core.display.HTML object>"
      ]
     },
     "metadata": {},
     "output_type": "display_data"
    },
    {
     "data": {
      "text/html": [
       "<p style='color:#fd03a1;'>stop_timestamp</p>"
      ],
      "text/plain": [
       "<IPython.core.display.HTML object>"
      ]
     },
     "metadata": {},
     "output_type": "display_data"
    },
    {
     "data": {
      "text/html": [
       "<p style='color:#ada;'>saving historic tohlcv data to json</p>"
      ],
      "text/plain": [
       "<IPython.core.display.HTML object>"
      ]
     },
     "metadata": {},
     "output_type": "display_data"
    },
    {
     "name": "stdout",
     "output_type": "stream",
     "text": [
      "{'tps': [[1732036620000, 1.7796, 1.7867, 1.7684, 1.7758, 4778.0]], 'entry_reached': [[1732036560000, 1.7661, 1.7811, 1.7652, 1.7798, 6007.0]], 'stop_loss_reached': None, 'break_reason': None}\n"
     ]
    },
    {
     "data": {
      "text/html": [
       "<p style='color:#0f0;'>********************************************************************************************************************</p>"
      ],
      "text/plain": [
       "<IPython.core.display.HTML object>"
      ]
     },
     "metadata": {},
     "output_type": "display_data"
    },
    {
     "name": "stdout",
     "output_type": "stream",
     "text": [
      "symbol: DOGE/USDT:USDT, po: LONG, stop: 0.39723749999999997, en: 0.40125, tp: 0.4052625\n"
     ]
    },
    {
     "data": {
      "text/html": [
       "<p style='color:#c01;'>json, 1732393800000</p>"
      ],
      "text/plain": [
       "<IPython.core.display.HTML object>"
      ]
     },
     "metadata": {},
     "output_type": "display_data"
    },
    {
     "data": {
      "text/html": [
       "<p style='color:#fd03a1;'>stop_timestamp</p>"
      ],
      "text/plain": [
       "<IPython.core.display.HTML object>"
      ]
     },
     "metadata": {},
     "output_type": "display_data"
    },
    {
     "data": {
      "text/html": [
       "<p style='color:#ada;'>saving historic tohlcv data to json</p>"
      ],
      "text/plain": [
       "<IPython.core.display.HTML object>"
      ]
     },
     "metadata": {},
     "output_type": "display_data"
    },
    {
     "name": "stdout",
     "output_type": "stream",
     "text": [
      "{'tps': [[1732039860000, 0.40491, 0.40558, 0.40466, 0.40466, 243563.0]], 'entry_reached': [[1732039320000, 0.40128, 0.40267, 0.40125, 0.40267, 170253.0]], 'stop_loss_reached': None, 'break_reason': None}\n"
     ]
    },
    {
     "data": {
      "text/html": [
       "<p style='color:#0f0;'>********************************************************************************************************************</p>"
      ],
      "text/plain": [
       "<IPython.core.display.HTML object>"
      ]
     },
     "metadata": {},
     "output_type": "display_data"
    },
    {
     "name": "stdout",
     "output_type": "stream",
     "text": [
      "symbol: BTC/USDT:USDT, po: LONG, stop: 93062.97, en: 94003.0, tp: 94943.03\n",
      "{'tps': [[1732152240000, 94861.9, 94980.0, 94817.9, 94818.0, 2363230.0]], 'entry_reached': [[1732119420000, 94066.3, 94159.9, 94003.0, 94004.8, 4182272.0]], 'stop_loss_reached': None, 'break_reason': None}\n"
     ]
    },
    {
     "data": {
      "text/html": [
       "<p style='color:#0f0;'>********************************************************************************************************************</p>"
      ],
      "text/plain": [
       "<IPython.core.display.HTML object>"
      ]
     },
     "metadata": {},
     "output_type": "display_data"
    },
    {
     "name": "stdout",
     "output_type": "stream",
     "text": [
      "symbol: LTC/USDT:USDT, po: LONG, stop: 87.0012, en: 87.88, tp: 88.7588\n"
     ]
    },
    {
     "data": {
      "text/html": [
       "<p style='color:#c01;'>json, 1732825800000</p>"
      ],
      "text/plain": [
       "<IPython.core.display.HTML object>"
      ]
     },
     "metadata": {},
     "output_type": "display_data"
    },
    {
     "data": {
      "text/html": [
       "<p style='color:#fd03a1;'>stop_timestamp</p>"
      ],
      "text/plain": [
       "<IPython.core.display.HTML object>"
      ]
     },
     "metadata": {},
     "output_type": "display_data"
    },
    {
     "data": {
      "text/html": [
       "<p style='color:#ada;'>saving historic tohlcv data to json</p>"
      ],
      "text/plain": [
       "<IPython.core.display.HTML object>"
      ]
     },
     "metadata": {},
     "output_type": "display_data"
    },
    {
     "name": "stdout",
     "output_type": "stream",
     "text": [
      "{'tps': [[1732169700000, 88.25, 88.81, 88.22, 88.8, 37284.0]], 'entry_reached': [[1732169580000, 88.0, 88.49, 87.88, 88.49, 93660.0]], 'stop_loss_reached': None, 'break_reason': None}\n"
     ]
    },
    {
     "data": {
      "text/html": [
       "<p style='color:#0f0;'>********************************************************************************************************************</p>"
      ],
      "text/plain": [
       "<IPython.core.display.HTML object>"
      ]
     },
     "metadata": {},
     "output_type": "display_data"
    },
    {
     "name": "stdout",
     "output_type": "stream",
     "text": [
      "symbol: ETHFI/USDT:USDT, po: LONG, stop: 1.88496, en: 1.904, tp: 1.9230399999999999\n"
     ]
    },
    {
     "data": {
      "text/html": [
       "<p style='color:#c01;'>json, 1732307400000</p>"
      ],
      "text/plain": [
       "<IPython.core.display.HTML object>"
      ]
     },
     "metadata": {},
     "output_type": "display_data"
    },
    {
     "data": {
      "text/html": [
       "<p style='color:#fd03a1;'>stop_timestamp</p>"
      ],
      "text/plain": [
       "<IPython.core.display.HTML object>"
      ]
     },
     "metadata": {},
     "output_type": "display_data"
    },
    {
     "data": {
      "text/html": [
       "<p style='color:#ada;'>saving historic tohlcv data to json</p>"
      ],
      "text/plain": [
       "<IPython.core.display.HTML object>"
      ]
     },
     "metadata": {},
     "output_type": "display_data"
    },
    {
     "name": "stdout",
     "output_type": "stream",
     "text": [
      "{'tps': [[1732279140000, 1.928, 1.929, 1.915, 1.927, 962949.0]], 'entry_reached': [[1732279080000, 1.909, 1.928, 1.904, 1.918, 1923977.0]], 'stop_loss_reached': None, 'break_reason': None}\n"
     ]
    },
    {
     "data": {
      "text/html": [
       "<p style='color:#0f0;'>********************************************************************************************************************</p>"
      ],
      "text/plain": [
       "<IPython.core.display.HTML object>"
      ]
     },
     "metadata": {},
     "output_type": "display_data"
    },
    {
     "name": "stdout",
     "output_type": "stream",
     "text": [
      "symbol: ATOM/USDT:USDT, po: LONG, stop: 8.6823, en: 8.77, tp: 8.8577\n",
      "{'tps': [[1732409640000, 8.796, 8.86, 8.796, 8.829, 11491.0]], 'entry_reached': [[1732409400000, 8.837, 8.851, 8.77, 8.782, 22611.0]], 'stop_loss_reached': None, 'break_reason': None}\n"
     ]
    },
    {
     "data": {
      "text/html": [
       "<p style='color:#0f0;'>********************************************************************************************************************</p>"
      ],
      "text/plain": [
       "<IPython.core.display.HTML object>"
      ]
     },
     "metadata": {},
     "output_type": "display_data"
    },
    {
     "name": "stdout",
     "output_type": "stream",
     "text": [
      "symbol: KSM/USDT:USDT, po: LONG, stop: 42.735330000000005, en: 43.167, tp: 43.59867\n"
     ]
    },
    {
     "data": {
      "text/html": [
       "<p style='color:#c01;'>json, 1732393800000</p>"
      ],
      "text/plain": [
       "<IPython.core.display.HTML object>"
      ]
     },
     "metadata": {},
     "output_type": "display_data"
    },
    {
     "data": {
      "text/html": [
       "<p style='color:#fd03a1;'>stop_timestamp</p>"
      ],
      "text/plain": [
       "<IPython.core.display.HTML object>"
      ]
     },
     "metadata": {},
     "output_type": "display_data"
    },
    {
     "data": {
      "text/html": [
       "<p style='color:#ada;'>saving historic tohlcv data to json</p>"
      ],
      "text/plain": [
       "<IPython.core.display.HTML object>"
      ]
     },
     "metadata": {},
     "output_type": "display_data"
    },
    {
     "name": "stdout",
     "output_type": "stream",
     "text": [
      "{'tps': [], 'entry_reached': [[1732438800000, 43.523, 43.612, 43.167, 43.261, 27369.0]], 'stop_loss_reached': [1732438860000, 43.255, 43.269, 42.688, 42.725, 64567.0], 'break_reason': None}\n"
     ]
    },
    {
     "data": {
      "text/html": [
       "<p style='color:#0f0;'>********************************************************************************************************************</p>"
      ],
      "text/plain": [
       "<IPython.core.display.HTML object>"
      ]
     },
     "metadata": {},
     "output_type": "display_data"
    },
    {
     "name": "stdout",
     "output_type": "stream",
     "text": [
      "symbol: MANTA/USDT:USDT, po: LONG, stop: 1.062072, en: 1.0728, tp: 1.083528\n"
     ]
    },
    {
     "data": {
      "text/html": [
       "<p style='color:#c01;'>json, 1732393800000</p>"
      ],
      "text/plain": [
       "<IPython.core.display.HTML object>"
      ]
     },
     "metadata": {},
     "output_type": "display_data"
    },
    {
     "data": {
      "text/html": [
       "<p style='color:#fd03a1;'>stop_timestamp</p>"
      ],
      "text/plain": [
       "<IPython.core.display.HTML object>"
      ]
     },
     "metadata": {},
     "output_type": "display_data"
    },
    {
     "data": {
      "text/html": [
       "<p style='color:#ada;'>saving historic tohlcv data to json</p>"
      ],
      "text/plain": [
       "<IPython.core.display.HTML object>"
      ]
     },
     "metadata": {},
     "output_type": "display_data"
    },
    {
     "name": "stdout",
     "output_type": "stream",
     "text": [
      "{'tps': [[1732455660000, 1.0903, 1.1014, 1.0886, 1.0979, 15930.0]], 'entry_reached': [[1732455600000, 1.0728, 1.0959, 1.0728, 1.0922, 19393.0]], 'stop_loss_reached': None, 'break_reason': None}\n"
     ]
    },
    {
     "data": {
      "text/html": [
       "<p style='color:#0f0;'>********************************************************************************************************************</p>"
      ],
      "text/plain": [
       "<IPython.core.display.HTML object>"
      ]
     },
     "metadata": {},
     "output_type": "display_data"
    },
    {
     "name": "stdout",
     "output_type": "stream",
     "text": [
      "symbol: DYM/USDT:USDT, po: LONG, stop: 2.16513, en: 2.187, tp: 2.2088699999999997\n"
     ]
    },
    {
     "data": {
      "text/html": [
       "<p style='color:#c01;'>json, 1732393800000</p>"
      ],
      "text/plain": [
       "<IPython.core.display.HTML object>"
      ]
     },
     "metadata": {},
     "output_type": "display_data"
    },
    {
     "data": {
      "text/html": [
       "<p style='color:#fd03a1;'>stop_timestamp</p>"
      ],
      "text/plain": [
       "<IPython.core.display.HTML object>"
      ]
     },
     "metadata": {},
     "output_type": "display_data"
    },
    {
     "data": {
      "text/html": [
       "<p style='color:#ada;'>saving historic tohlcv data to json</p>"
      ],
      "text/plain": [
       "<IPython.core.display.HTML object>"
      ]
     },
     "metadata": {},
     "output_type": "display_data"
    },
    {
     "name": "stdout",
     "output_type": "stream",
     "text": [
      "{'tps': [[1732458960000, 2.241, 2.251, 2.235, 2.25, 13821.0]], 'entry_reached': [[1732458900000, 2.206, 2.244, 2.187, 2.242, 13922.0]], 'stop_loss_reached': None, 'break_reason': None}\n"
     ]
    },
    {
     "data": {
      "text/html": [
       "<p style='color:#0f0;'>********************************************************************************************************************</p>"
      ],
      "text/plain": [
       "<IPython.core.display.HTML object>"
      ]
     },
     "metadata": {},
     "output_type": "display_data"
    },
    {
     "name": "stdout",
     "output_type": "stream",
     "text": [
      "symbol: SAGA/USDT:USDT, po: LONG, stop: 2.268486, en: 2.2914, tp: 2.314314\n"
     ]
    },
    {
     "data": {
      "text/html": [
       "<p style='color:#c01;'>json, 1732393800000</p>"
      ],
      "text/plain": [
       "<IPython.core.display.HTML object>"
      ]
     },
     "metadata": {},
     "output_type": "display_data"
    },
    {
     "data": {
      "text/html": [
       "<p style='color:#fd03a1;'>stop_timestamp</p>"
      ],
      "text/plain": [
       "<IPython.core.display.HTML object>"
      ]
     },
     "metadata": {},
     "output_type": "display_data"
    },
    {
     "data": {
      "text/html": [
       "<p style='color:#ada;'>saving historic tohlcv data to json</p>"
      ],
      "text/plain": [
       "<IPython.core.display.HTML object>"
      ]
     },
     "metadata": {},
     "output_type": "display_data"
    },
    {
     "name": "stdout",
     "output_type": "stream",
     "text": [
      "{'tps': [[1732473660000, 2.3316, 2.3474, 2.3299, 2.3387, 199679.0]], 'entry_reached': [[1732473600000, 2.2914, 2.3338, 2.2914, 2.332, 432297.0]], 'stop_loss_reached': None, 'break_reason': None}\n"
     ]
    },
    {
     "data": {
      "text/html": [
       "<p style='color:#0f0;'>********************************************************************************************************************</p>"
      ],
      "text/plain": [
       "<IPython.core.display.HTML object>"
      ]
     },
     "metadata": {},
     "output_type": "display_data"
    },
    {
     "name": "stdout",
     "output_type": "stream",
     "text": [
      "symbol: REZ/USDT:USDT, po: LONG, stop: 0.044154, en: 0.0446, tp: 0.045046\n"
     ]
    },
    {
     "data": {
      "text/html": [
       "<p style='color:#c01;'>json, 1732393800000</p>"
      ],
      "text/plain": [
       "<IPython.core.display.HTML object>"
      ]
     },
     "metadata": {},
     "output_type": "display_data"
    },
    {
     "data": {
      "text/html": [
       "<p style='color:#fd03a1;'>stop_timestamp</p>"
      ],
      "text/plain": [
       "<IPython.core.display.HTML object>"
      ]
     },
     "metadata": {},
     "output_type": "display_data"
    },
    {
     "data": {
      "text/html": [
       "<p style='color:#ada;'>saving historic tohlcv data to json</p>"
      ],
      "text/plain": [
       "<IPython.core.display.HTML object>"
      ]
     },
     "metadata": {},
     "output_type": "display_data"
    },
    {
     "name": "stdout",
     "output_type": "stream",
     "text": [
      "{'tps': [], 'entry_reached': [[1732475400000, 0.045, 0.0453, 0.0446, 0.0448, 1799416.0]], 'stop_loss_reached': [1732475460000, 0.0449, 0.0451, 0.0441, 0.0444, 1418798.0], 'break_reason': None}\n"
     ]
    },
    {
     "data": {
      "text/html": [
       "<p style='color:#0f0;'>********************************************************************************************************************</p>"
      ],
      "text/plain": [
       "<IPython.core.display.HTML object>"
      ]
     },
     "metadata": {},
     "output_type": "display_data"
    },
    {
     "name": "stdout",
     "output_type": "stream",
     "text": [
      "symbol: MANA/USDT:USDT, po: LONG, stop: 0.692604, en: 0.6996, tp: 0.706596\n"
     ]
    },
    {
     "data": {
      "text/html": [
       "<p style='color:#c01;'>json, 1732480200000</p>"
      ],
      "text/plain": [
       "<IPython.core.display.HTML object>"
      ]
     },
     "metadata": {},
     "output_type": "display_data"
    },
    {
     "data": {
      "text/html": [
       "<p style='color:#fd03a1;'>stop_timestamp</p>"
      ],
      "text/plain": [
       "<IPython.core.display.HTML object>"
      ]
     },
     "metadata": {},
     "output_type": "display_data"
    },
    {
     "data": {
      "text/html": [
       "<p style='color:#ada;'>saving historic tohlcv data to json</p>"
      ],
      "text/plain": [
       "<IPython.core.display.HTML object>"
      ]
     },
     "metadata": {},
     "output_type": "display_data"
    },
    {
     "name": "stdout",
     "output_type": "stream",
     "text": [
      "{'tps': [[1732503300000, 0.7018, 0.7113, 0.7008, 0.709, 80193.0]], 'entry_reached': [[1732503180000, 0.7009, 0.7049, 0.6996, 0.7049, 105090.0]], 'stop_loss_reached': None, 'break_reason': None}\n"
     ]
    },
    {
     "data": {
      "text/html": [
       "<p style='color:#0f0;'>********************************************************************************************************************</p>"
      ],
      "text/plain": [
       "<IPython.core.display.HTML object>"
      ]
     },
     "metadata": {},
     "output_type": "display_data"
    },
    {
     "name": "stdout",
     "output_type": "stream",
     "text": [
      "symbol: AXS/USDT:USDT, po: LONG, stop: 8.27343, en: 8.357, tp: 8.44057\n"
     ]
    },
    {
     "data": {
      "text/html": [
       "<p style='color:#c01;'>json, 1732480200000</p>"
      ],
      "text/plain": [
       "<IPython.core.display.HTML object>"
      ]
     },
     "metadata": {},
     "output_type": "display_data"
    },
    {
     "data": {
      "text/html": [
       "<p style='color:#fd03a1;'>stop_timestamp</p>"
      ],
      "text/plain": [
       "<IPython.core.display.HTML object>"
      ]
     },
     "metadata": {},
     "output_type": "display_data"
    },
    {
     "data": {
      "text/html": [
       "<p style='color:#ada;'>saving historic tohlcv data to json</p>"
      ],
      "text/plain": [
       "<IPython.core.display.HTML object>"
      ]
     },
     "metadata": {},
     "output_type": "display_data"
    },
    {
     "name": "stdout",
     "output_type": "stream",
     "text": [
      "{'tps': [], 'entry_reached': [[1732503600000, 8.366, 8.432, 8.357, 8.394, 25625.0]], 'stop_loss_reached': [1732503660000, 8.395, 8.395, 8.189, 8.27, 35785.0], 'break_reason': None}\n"
     ]
    },
    {
     "data": {
      "text/html": [
       "<p style='color:#0f0;'>********************************************************************************************************************</p>"
      ],
      "text/plain": [
       "<IPython.core.display.HTML object>"
      ]
     },
     "metadata": {},
     "output_type": "display_data"
    },
    {
     "name": "stdout",
     "output_type": "stream",
     "text": [
      "symbol: RPL/USDT:USDT, po: LONG, stop: 13.8006, en: 13.94, tp: 14.0794\n"
     ]
    },
    {
     "data": {
      "text/html": [
       "<p style='color:#c01;'>json, 1732566600000</p>"
      ],
      "text/plain": [
       "<IPython.core.display.HTML object>"
      ]
     },
     "metadata": {},
     "output_type": "display_data"
    },
    {
     "data": {
      "text/html": [
       "<p style='color:#fd03a1;'>stop_timestamp</p>"
      ],
      "text/plain": [
       "<IPython.core.display.HTML object>"
      ]
     },
     "metadata": {},
     "output_type": "display_data"
    },
    {
     "data": {
      "text/html": [
       "<p style='color:#ada;'>saving historic tohlcv data to json</p>"
      ],
      "text/plain": [
       "<IPython.core.display.HTML object>"
      ]
     },
     "metadata": {},
     "output_type": "display_data"
    },
    {
     "name": "stdout",
     "output_type": "stream",
     "text": [
      "{'tps': [[1732604580000, 14.14, 14.3, 14.08, 14.08, 352489.0]], 'entry_reached': [[1732604520000, 14.15, 14.17, 13.94, 14.14, 648192.0]], 'stop_loss_reached': None, 'break_reason': None}\n"
     ]
    },
    {
     "data": {
      "text/html": [
       "<p style='color:#0f0;'>********************************************************************************************************************</p>"
      ],
      "text/plain": [
       "<IPython.core.display.HTML object>"
      ]
     },
     "metadata": {},
     "output_type": "display_data"
    },
    {
     "name": "stdout",
     "output_type": "stream",
     "text": [
      "symbol: INJ/USDT:USDT, po: LONG, stop: 27.7695, en: 28.05, tp: 28.3305\n"
     ]
    },
    {
     "data": {
      "text/html": [
       "<p style='color:#c01;'>json, 1732566600000</p>"
      ],
      "text/plain": [
       "<IPython.core.display.HTML object>"
      ]
     },
     "metadata": {},
     "output_type": "display_data"
    },
    {
     "data": {
      "text/html": [
       "<p style='color:#fd03a1;'>stop_timestamp</p>"
      ],
      "text/plain": [
       "<IPython.core.display.HTML object>"
      ]
     },
     "metadata": {},
     "output_type": "display_data"
    },
    {
     "data": {
      "text/html": [
       "<p style='color:#ada;'>saving historic tohlcv data to json</p>"
      ],
      "text/plain": [
       "<IPython.core.display.HTML object>"
      ]
     },
     "metadata": {},
     "output_type": "display_data"
    },
    {
     "name": "stdout",
     "output_type": "stream",
     "text": [
      "{'tps': [[1732630920000, 28.225, 28.348, 28.221, 28.348, 1442.0]], 'entry_reached': [[1732630740000, 28.067, 28.271, 28.05, 28.215, 2889.0]], 'stop_loss_reached': None, 'break_reason': None}\n"
     ]
    },
    {
     "data": {
      "text/html": [
       "<p style='color:#0f0;'>********************************************************************************************************************</p>"
      ],
      "text/plain": [
       "<IPython.core.display.HTML object>"
      ]
     },
     "metadata": {},
     "output_type": "display_data"
    },
    {
     "name": "stdout",
     "output_type": "stream",
     "text": [
      "symbol: XRP/USDT:USDT, po: LONG, stop: 1.43352, en: 1.448, tp: 1.46248\n"
     ]
    },
    {
     "data": {
      "text/html": [
       "<p style='color:#c01;'>json, 1732825800000</p>"
      ],
      "text/plain": [
       "<IPython.core.display.HTML object>"
      ]
     },
     "metadata": {},
     "output_type": "display_data"
    },
    {
     "data": {
      "text/html": [
       "<p style='color:#fd03a1;'>stop_timestamp</p>"
      ],
      "text/plain": [
       "<IPython.core.display.HTML object>"
      ]
     },
     "metadata": {},
     "output_type": "display_data"
    },
    {
     "data": {
      "text/html": [
       "<p style='color:#ada;'>saving historic tohlcv data to json</p>"
      ],
      "text/plain": [
       "<IPython.core.display.HTML object>"
      ]
     },
     "metadata": {},
     "output_type": "display_data"
    },
    {
     "name": "stdout",
     "output_type": "stream",
     "text": [
      "{'tps': [[1732700880000, 1.459, 1.4677, 1.459, 1.466, 346385.0]], 'entry_reached': [[1732700520000, 1.4493, 1.453, 1.448, 1.453, 308326.0]], 'stop_loss_reached': None, 'break_reason': None}\n"
     ]
    },
    {
     "data": {
      "text/html": [
       "<p style='color:#0f0;'>********************************************************************************************************************</p>"
      ],
      "text/plain": [
       "<IPython.core.display.HTML object>"
      ]
     },
     "metadata": {},
     "output_type": "display_data"
    },
    {
     "name": "stdout",
     "output_type": "stream",
     "text": [
      "symbol: XLM/USDT:USDT, po: LONG, stop: 0.4980888, en: 0.50312, tp: 0.5081512\n"
     ]
    },
    {
     "data": {
      "text/html": [
       "<p style='color:#c01;'>json, 1733257800000</p>"
      ],
      "text/plain": [
       "<IPython.core.display.HTML object>"
      ]
     },
     "metadata": {},
     "output_type": "display_data"
    },
    {
     "data": {
      "text/html": [
       "<p style='color:#fd03a1;'>stop_timestamp</p>"
      ],
      "text/plain": [
       "<IPython.core.display.HTML object>"
      ]
     },
     "metadata": {},
     "output_type": "display_data"
    },
    {
     "data": {
      "text/html": [
       "<p style='color:#ada;'>saving historic tohlcv data to json</p>"
      ],
      "text/plain": [
       "<IPython.core.display.HTML object>"
      ]
     },
     "metadata": {},
     "output_type": "display_data"
    },
    {
     "name": "stdout",
     "output_type": "stream",
     "text": [
      "{'tps': [[1732700820000, 0.50487, 0.50844, 0.50477, 0.50499, 1235609.0]], 'entry_reached': [[1732700640000, 0.50551, 0.50574, 0.50312, 0.50563, 1082559.0]], 'stop_loss_reached': None, 'break_reason': None}\n"
     ]
    },
    {
     "data": {
      "text/html": [
       "<p style='color:#0f0;'>********************************************************************************************************************</p>"
      ],
      "text/plain": [
       "<IPython.core.display.HTML object>"
      ]
     },
     "metadata": {},
     "output_type": "display_data"
    },
    {
     "name": "stdout",
     "output_type": "stream",
     "text": [
      "symbol: SCRT/USDT:USDT, po: LONG, stop: 0.599445, en: 0.6055, tp: 0.6115550000000001\n"
     ]
    },
    {
     "data": {
      "text/html": [
       "<p style='color:#c01;'>json, 1732739400000</p>"
      ],
      "text/plain": [
       "<IPython.core.display.HTML object>"
      ]
     },
     "metadata": {},
     "output_type": "display_data"
    },
    {
     "data": {
      "text/html": [
       "<p style='color:#fd03a1;'>stop_timestamp</p>"
      ],
      "text/plain": [
       "<IPython.core.display.HTML object>"
      ]
     },
     "metadata": {},
     "output_type": "display_data"
    },
    {
     "data": {
      "text/html": [
       "<p style='color:#ada;'>saving historic tohlcv data to json</p>"
      ],
      "text/plain": [
       "<IPython.core.display.HTML object>"
      ]
     },
     "metadata": {},
     "output_type": "display_data"
    },
    {
     "name": "stdout",
     "output_type": "stream",
     "text": [
      "{'tps': [[1732791900000, 0.6167, 0.6195, 0.6144, 0.6193, 200544.0]], 'entry_reached': [[1732791840000, 0.6055, 0.6202, 0.6055, 0.6186, 504927.0]], 'stop_loss_reached': None, 'break_reason': None}\n"
     ]
    },
    {
     "data": {
      "text/html": [
       "<p style='color:#0f0;'>********************************************************************************************************************</p>"
      ],
      "text/plain": [
       "<IPython.core.display.HTML object>"
      ]
     },
     "metadata": {},
     "output_type": "display_data"
    },
    {
     "name": "stdout",
     "output_type": "stream",
     "text": [
      "symbol: TAO/USDT:USDT, po: LONG, stop: 581.031, en: 586.9, tp: 592.769\n",
      "{'tps': [], 'entry_reached': [[1732815660000, 586.9, 591.99, 586.9, 589.65, 66577.0]], 'stop_loss_reached': [1732815900000, 583.58, 583.58, 579.32, 582.45, 35309.0], 'break_reason': None}\n"
     ]
    },
    {
     "data": {
      "text/html": [
       "<p style='color:#0f0;'>********************************************************************************************************************</p>"
      ],
      "text/plain": [
       "<IPython.core.display.HTML object>"
      ]
     },
     "metadata": {},
     "output_type": "display_data"
    },
    {
     "name": "stdout",
     "output_type": "stream",
     "text": [
      "symbol: ARKM/USDT:USDT, po: LONG, stop: 2.422233, en: 2.4467, tp: 2.471167\n"
     ]
    },
    {
     "data": {
      "text/html": [
       "<p style='color:#c01;'>json, 1732739400000</p>"
      ],
      "text/plain": [
       "<IPython.core.display.HTML object>"
      ]
     },
     "metadata": {},
     "output_type": "display_data"
    },
    {
     "data": {
      "text/html": [
       "<p style='color:#fd03a1;'>stop_timestamp</p>"
      ],
      "text/plain": [
       "<IPython.core.display.HTML object>"
      ]
     },
     "metadata": {},
     "output_type": "display_data"
    },
    {
     "data": {
      "text/html": [
       "<p style='color:#ada;'>saving historic tohlcv data to json</p>"
      ],
      "text/plain": [
       "<IPython.core.display.HTML object>"
      ]
     },
     "metadata": {},
     "output_type": "display_data"
    },
    {
     "name": "stdout",
     "output_type": "stream",
     "text": [
      "{'tps': [], 'entry_reached': [[1732815780000, 2.4634, 2.4634, 2.4467, 2.4511, 234874.0]], 'stop_loss_reached': [1732815840000, 2.4513, 2.4521, 2.4199, 2.4232, 215081.0], 'break_reason': None}\n"
     ]
    },
    {
     "data": {
      "text/html": [
       "<p style='color:#0f0;'>********************************************************************************************************************</p>"
      ],
      "text/plain": [
       "<IPython.core.display.HTML object>"
      ]
     },
     "metadata": {},
     "output_type": "display_data"
    },
    {
     "name": "stdout",
     "output_type": "stream",
     "text": [
      "symbol: FET/USDT:USDT, po: LONG, stop: 1.6658730000000002, en: 1.6827, tp: 1.699527\n"
     ]
    },
    {
     "data": {
      "text/html": [
       "<p style='color:#c01;'>json, 1732739400000</p>"
      ],
      "text/plain": [
       "<IPython.core.display.HTML object>"
      ]
     },
     "metadata": {},
     "output_type": "display_data"
    },
    {
     "data": {
      "text/html": [
       "<p style='color:#fd03a1;'>stop_timestamp</p>"
      ],
      "text/plain": [
       "<IPython.core.display.HTML object>"
      ]
     },
     "metadata": {},
     "output_type": "display_data"
    },
    {
     "data": {
      "text/html": [
       "<p style='color:#ada;'>saving historic tohlcv data to json</p>"
      ],
      "text/plain": [
       "<IPython.core.display.HTML object>"
      ]
     },
     "metadata": {},
     "output_type": "display_data"
    },
    {
     "name": "stdout",
     "output_type": "stream",
     "text": [
      "{'tps': [[1732820400000, 1.6962, 1.6999, 1.6943, 1.6988, 89601.0]], 'entry_reached': [[1732819920000, 1.6829, 1.6907, 1.6827, 1.688, 113930.0]], 'stop_loss_reached': None, 'break_reason': None}\n"
     ]
    },
    {
     "data": {
      "text/html": [
       "<p style='color:#0f0;'>********************************************************************************************************************</p>"
      ],
      "text/plain": [
       "<IPython.core.display.HTML object>"
      ]
     },
     "metadata": {},
     "output_type": "display_data"
    },
    {
     "name": "stdout",
     "output_type": "stream",
     "text": [
      "symbol: XLM/USDT:USDT, po: LONG, stop: 0.5374314, en: 0.54286, tp: 0.5482886\n",
      "{'tps': [[1732887360000, 0.54367, 0.54876, 0.54241, 0.54433, 290518.0]], 'entry_reached': [[1732886880000, 0.54454, 0.5451, 0.54286, 0.54334, 552440.0]], 'stop_loss_reached': None, 'break_reason': None}\n"
     ]
    },
    {
     "data": {
      "text/html": [
       "<p style='color:#0f0;'>********************************************************************************************************************</p>"
      ],
      "text/plain": [
       "<IPython.core.display.HTML object>"
      ]
     },
     "metadata": {},
     "output_type": "display_data"
    },
    {
     "name": "stdout",
     "output_type": "stream",
     "text": [
      "symbol: DOT/USDT:USDT, po: LONG, stop: 8.89416, en: 8.984, tp: 9.07384\n"
     ]
    },
    {
     "data": {
      "text/html": [
       "<p style='color:#c01;'>json, 1732912200000</p>"
      ],
      "text/plain": [
       "<IPython.core.display.HTML object>"
      ]
     },
     "metadata": {},
     "output_type": "display_data"
    },
    {
     "data": {
      "text/html": [
       "<p style='color:#fd03a1;'>stop_timestamp</p>"
      ],
      "text/plain": [
       "<IPython.core.display.HTML object>"
      ]
     },
     "metadata": {},
     "output_type": "display_data"
    },
    {
     "data": {
      "text/html": [
       "<p style='color:#ada;'>saving historic tohlcv data to json</p>"
      ],
      "text/plain": [
       "<IPython.core.display.HTML object>"
      ]
     },
     "metadata": {},
     "output_type": "display_data"
    },
    {
     "name": "stdout",
     "output_type": "stream",
     "text": [
      "{'tps': [[1732954020000, 9.047, 9.11, 9.047, 9.109, 24549.0]], 'entry_reached': [[1732953840000, 9.009, 9.034, 8.984, 9.031, 58348.0]], 'stop_loss_reached': None, 'break_reason': None}\n"
     ]
    },
    {
     "data": {
      "text/html": [
       "<p style='color:#0f0;'>********************************************************************************************************************</p>"
      ],
      "text/plain": [
       "<IPython.core.display.HTML object>"
      ]
     },
     "metadata": {},
     "output_type": "display_data"
    },
    {
     "data": {
      "text/html": [
       "<p style='color:#FFFF00;'>waiting 5 min...</p>"
      ],
      "text/plain": [
       "<IPython.core.display.HTML object>"
      ]
     },
     "metadata": {},
     "output_type": "display_data"
    },
    {
     "name": "stdout",
     "output_type": "stream",
     "text": [
      "symbol: ZRO/USDT:USDT, po: LONG, stop: 5.3539200000000005, en: 5.408, tp: 5.46208\n"
     ]
    },
    {
     "data": {
      "text/html": [
       "<p style='color:#c01;'>json, 1733344200000</p>"
      ],
      "text/plain": [
       "<IPython.core.display.HTML object>"
      ]
     },
     "metadata": {},
     "output_type": "display_data"
    },
    {
     "data": {
      "text/html": [
       "<p style='color:#fd03a1;'>stop_timestamp</p>"
      ],
      "text/plain": [
       "<IPython.core.display.HTML object>"
      ]
     },
     "metadata": {},
     "output_type": "display_data"
    },
    {
     "data": {
      "text/html": [
       "<p style='color:#ada;'>saving historic tohlcv data to json</p>"
      ],
      "text/plain": [
       "<IPython.core.display.HTML object>"
      ]
     },
     "metadata": {},
     "output_type": "display_data"
    },
    {
     "name": "stdout",
     "output_type": "stream",
     "text": [
      "{'tps': [[1733025480000, 5.421, 5.484, 5.421, 5.477, 36251.0]], 'entry_reached': [[1733025240000, 5.47, 5.505, 5.408, 5.41, 57426.0]], 'stop_loss_reached': None, 'break_reason': None}\n"
     ]
    },
    {
     "data": {
      "text/html": [
       "<p style='color:#0f0;'>********************************************************************************************************************</p>"
      ],
      "text/plain": [
       "<IPython.core.display.HTML object>"
      ]
     },
     "metadata": {},
     "output_type": "display_data"
    },
    {
     "name": "stdout",
     "output_type": "stream",
     "text": [
      "symbol: ZK/USDT:USDT, po: LONG, stop: 0.21978, en: 0.222, tp: 0.22422\n"
     ]
    },
    {
     "data": {
      "text/html": [
       "<p style='color:#c01;'>json, 1732998600000</p>"
      ],
      "text/plain": [
       "<IPython.core.display.HTML object>"
      ]
     },
     "metadata": {},
     "output_type": "display_data"
    },
    {
     "data": {
      "text/html": [
       "<p style='color:#fd03a1;'>stop_timestamp</p>"
      ],
      "text/plain": [
       "<IPython.core.display.HTML object>"
      ]
     },
     "metadata": {},
     "output_type": "display_data"
    },
    {
     "data": {
      "text/html": [
       "<p style='color:#ada;'>saving historic tohlcv data to json</p>"
      ],
      "text/plain": [
       "<IPython.core.display.HTML object>"
      ]
     },
     "metadata": {},
     "output_type": "display_data"
    },
    {
     "name": "stdout",
     "output_type": "stream",
     "text": [
      "{'tps': [[1733060340000, 0.2234, 0.2251, 0.2234, 0.2249, 192439.0]], 'entry_reached': [[1733060220000, 0.2238, 0.2244, 0.222, 0.2227, 216195.0]], 'stop_loss_reached': None, 'break_reason': None}\n"
     ]
    },
    {
     "data": {
      "text/html": [
       "<p style='color:#0f0;'>********************************************************************************************************************</p>"
      ],
      "text/plain": [
       "<IPython.core.display.HTML object>"
      ]
     },
     "metadata": {},
     "output_type": "display_data"
    },
    {
     "name": "stdout",
     "output_type": "stream",
     "text": [
      "symbol: XVG/USDT:USDT, po: LONG, stop: 0.01070784, en: 0.010816, tp: 0.010924159999999999\n"
     ]
    },
    {
     "data": {
      "text/html": [
       "<p style='color:#c01;'>json, 1733171400000</p>"
      ],
      "text/plain": [
       "<IPython.core.display.HTML object>"
      ]
     },
     "metadata": {},
     "output_type": "display_data"
    },
    {
     "data": {
      "text/html": [
       "<p style='color:#fd03a1;'>stop_timestamp</p>"
      ],
      "text/plain": [
       "<IPython.core.display.HTML object>"
      ]
     },
     "metadata": {},
     "output_type": "display_data"
    },
    {
     "data": {
      "text/html": [
       "<p style='color:#ada;'>saving historic tohlcv data to json</p>"
      ],
      "text/plain": [
       "<IPython.core.display.HTML object>"
      ]
     },
     "metadata": {},
     "output_type": "display_data"
    },
    {
     "name": "stdout",
     "output_type": "stream",
     "text": [
      "{'tps': [[1733196120000, 0.010929, 0.011198, 0.010929, 0.011166, 161447.0]], 'entry_reached': [[1733196060000, 0.01096, 0.011062, 0.010816, 0.0109, 263080.0]], 'stop_loss_reached': None, 'break_reason': None}\n"
     ]
    },
    {
     "data": {
      "text/html": [
       "<p style='color:#0f0;'>********************************************************************************************************************</p>"
      ],
      "text/plain": [
       "<IPython.core.display.HTML object>"
      ]
     },
     "metadata": {},
     "output_type": "display_data"
    },
    {
     "name": "stdout",
     "output_type": "stream",
     "text": [
      "symbol: CHESS/USDT:USDT, po: LONG, stop: 0.25334100000000004, en: 0.2559, tp: 0.258459\n"
     ]
    },
    {
     "data": {
      "text/html": [
       "<p style='color:#c01;'>json, 1733171400000</p>"
      ],
      "text/plain": [
       "<IPython.core.display.HTML object>"
      ]
     },
     "metadata": {},
     "output_type": "display_data"
    },
    {
     "data": {
      "text/html": [
       "<p style='color:#fd03a1;'>stop_timestamp</p>"
      ],
      "text/plain": [
       "<IPython.core.display.HTML object>"
      ]
     },
     "metadata": {},
     "output_type": "display_data"
    },
    {
     "data": {
      "text/html": [
       "<p style='color:#ada;'>saving historic tohlcv data to json</p>"
      ],
      "text/plain": [
       "<IPython.core.display.HTML object>"
      ]
     },
     "metadata": {},
     "output_type": "display_data"
    },
    {
     "name": "stdout",
     "output_type": "stream",
     "text": [
      "{'tps': [[1733225880000, 0.2614, 0.268, 0.2614, 0.268, 230078.0]], 'entry_reached': [[1733225820000, 0.2619, 0.2638, 0.2559, 0.2616, 402583.0]], 'stop_loss_reached': None, 'break_reason': None}\n"
     ]
    },
    {
     "data": {
      "text/html": [
       "<p style='color:#0f0;'>********************************************************************************************************************</p>"
      ],
      "text/plain": [
       "<IPython.core.display.HTML object>"
      ]
     },
     "metadata": {},
     "output_type": "display_data"
    },
    {
     "name": "stdout",
     "output_type": "stream",
     "text": [
      "symbol: IOTA/USDT:USDT, po: LONG, stop: 0.585684, en: 0.5916, tp: 0.597516\n"
     ]
    },
    {
     "data": {
      "text/html": [
       "<p style='color:#c01;'>json, 1733257800000</p>"
      ],
      "text/plain": [
       "<IPython.core.display.HTML object>"
      ]
     },
     "metadata": {},
     "output_type": "display_data"
    },
    {
     "data": {
      "text/html": [
       "<p style='color:#fd03a1;'>stop_timestamp</p>"
      ],
      "text/plain": [
       "<IPython.core.display.HTML object>"
      ]
     },
     "metadata": {},
     "output_type": "display_data"
    },
    {
     "data": {
      "text/html": [
       "<p style='color:#ada;'>saving historic tohlcv data to json</p>"
      ],
      "text/plain": [
       "<IPython.core.display.HTML object>"
      ]
     },
     "metadata": {},
     "output_type": "display_data"
    },
    {
     "name": "stdout",
     "output_type": "stream",
     "text": [
      "{'tps': [[1733283480000, 0.5941, 0.5994, 0.5941, 0.5994, 235572.0]], 'entry_reached': [[1733283300000, 0.5989, 0.5989, 0.5916, 0.5955, 409067.0]], 'stop_loss_reached': None, 'break_reason': None}\n"
     ]
    },
    {
     "data": {
      "text/html": [
       "<p style='color:#0f0;'>********************************************************************************************************************</p>"
      ],
      "text/plain": [
       "<IPython.core.display.HTML object>"
      ]
     },
     "metadata": {},
     "output_type": "display_data"
    },
    {
     "name": "stdout",
     "output_type": "stream",
     "text": [
      "symbol: SWELL/USDT:USDT, po: LONG, stop: 0.0473022, en: 0.04778, tp: 0.048257800000000003\n"
     ]
    },
    {
     "data": {
      "text/html": [
       "<p style='color:#c01;'>json, 1733257800000</p>"
      ],
      "text/plain": [
       "<IPython.core.display.HTML object>"
      ]
     },
     "metadata": {},
     "output_type": "display_data"
    },
    {
     "data": {
      "text/html": [
       "<p style='color:#fd03a1;'>stop_timestamp</p>"
      ],
      "text/plain": [
       "<IPython.core.display.HTML object>"
      ]
     },
     "metadata": {},
     "output_type": "display_data"
    },
    {
     "data": {
      "text/html": [
       "<p style='color:#ada;'>saving historic tohlcv data to json</p>"
      ],
      "text/plain": [
       "<IPython.core.display.HTML object>"
      ]
     },
     "metadata": {},
     "output_type": "display_data"
    },
    {
     "name": "stdout",
     "output_type": "stream",
     "text": [
      "{'tps': [], 'entry_reached': [[1733305020000, 0.04793, 0.04874, 0.04778, 0.04822, 16839.0]], 'stop_loss_reached': [1733305080000, 0.04825, 0.04825, 0.04683, 0.04746, 13031.0], 'break_reason': None}\n"
     ]
    },
    {
     "data": {
      "text/html": [
       "<p style='color:#0f0;'>********************************************************************************************************************</p>"
      ],
      "text/plain": [
       "<IPython.core.display.HTML object>"
      ]
     },
     "metadata": {},
     "output_type": "display_data"
    },
    {
     "name": "stdout",
     "output_type": "stream",
     "text": [
      "symbol: SWELL/USDT:USDT, po: LONG, stop: 0.048806999999999996, en: 0.0493, tp: 0.049793\n",
      "{'tps': [[1733308080000, 0.04969, 0.04996, 0.04954, 0.04996, 4257.0]], 'entry_reached': [[1733307960000, 0.04944, 0.04987, 0.0493, 0.04971, 5736.0]], 'stop_loss_reached': None, 'break_reason': None}\n"
     ]
    },
    {
     "data": {
      "text/html": [
       "<p style='color:#0f0;'>********************************************************************************************************************</p>"
      ],
      "text/plain": [
       "<IPython.core.display.HTML object>"
      ]
     },
     "metadata": {},
     "output_type": "display_data"
    },
    {
     "name": "stdout",
     "output_type": "stream",
     "text": [
      "symbol: XVG/USDT:USDT, po: LONG, stop: 0.018207090000000002, en: 0.018391, tp: 0.01857491\n",
      "{'tps': [], 'entry_reached': [[1733322540000, 0.018607, 0.018607, 0.018391, 0.018398, 89320.0]], 'stop_loss_reached': [1733322600000, 0.018289, 0.018289, 0.017903, 0.017911, 115112.0], 'break_reason': None}\n"
     ]
    },
    {
     "data": {
      "text/html": [
       "<p style='color:#0f0;'>********************************************************************************************************************</p>"
      ],
      "text/plain": [
       "<IPython.core.display.HTML object>"
      ]
     },
     "metadata": {},
     "output_type": "display_data"
    },
    {
     "name": "stdout",
     "output_type": "stream",
     "text": [
      "symbol: XVG/USDT:USDT, po: LONG, stop: 0.0181269, en: 0.01831, tp: 0.0184931\n",
      "{'tps': [[1733322840000, 0.018516, 0.018529, 0.018306, 0.018306, 39523.0]], 'entry_reached': [[1733322780000, 0.01831, 0.018539, 0.01831, 0.018492, 72624.0]], 'stop_loss_reached': None, 'break_reason': None}\n"
     ]
    },
    {
     "data": {
      "text/html": [
       "<p style='color:#0f0;'>********************************************************************************************************************</p>"
      ],
      "text/plain": [
       "<IPython.core.display.HTML object>"
      ]
     },
     "metadata": {},
     "output_type": "display_data"
    },
    {
     "name": "stdout",
     "output_type": "stream",
     "text": [
      "symbol: SAGA/USDT:USDT, po: LONG, stop: 2.8472399999999998, en: 2.876, tp: 2.90476\n"
     ]
    },
    {
     "data": {
      "text/html": [
       "<p style='color:#c01;'>json, 1733344200000</p>"
      ],
      "text/plain": [
       "<IPython.core.display.HTML object>"
      ]
     },
     "metadata": {},
     "output_type": "display_data"
    },
    {
     "data": {
      "text/html": [
       "<p style='color:#fd03a1;'>stop_timestamp</p>"
      ],
      "text/plain": [
       "<IPython.core.display.HTML object>"
      ]
     },
     "metadata": {},
     "output_type": "display_data"
    },
    {
     "data": {
      "text/html": [
       "<p style='color:#ada;'>saving historic tohlcv data to json</p>"
      ],
      "text/plain": [
       "<IPython.core.display.HTML object>"
      ]
     },
     "metadata": {},
     "output_type": "display_data"
    },
    {
     "name": "stdout",
     "output_type": "stream",
     "text": [
      "{'tps': [[1733326620000, 2.9063, 2.908, 2.8789, 2.8789, 42958.0]], 'entry_reached': [[1733326560000, 2.8773, 2.9079, 2.876, 2.9069, 79210.0]], 'stop_loss_reached': None, 'break_reason': None}\n"
     ]
    },
    {
     "data": {
      "text/html": [
       "<p style='color:#0f0;'>********************************************************************************************************************</p>"
      ],
      "text/plain": [
       "<IPython.core.display.HTML object>"
      ]
     },
     "metadata": {},
     "output_type": "display_data"
    },
    {
     "name": "stdout",
     "output_type": "stream",
     "text": [
      "symbol: DOGE/USDT:USDT, po: LONG, stop: 0.4248783, en: 0.42917, tp: 0.4334617\n"
     ]
    },
    {
     "data": {
      "text/html": [
       "<p style='color:#c01;'>json, 1733603400000</p>"
      ],
      "text/plain": [
       "<IPython.core.display.HTML object>"
      ]
     },
     "metadata": {},
     "output_type": "display_data"
    },
    {
     "data": {
      "text/html": [
       "<p style='color:#fd03a1;'>stop_timestamp</p>"
      ],
      "text/plain": [
       "<IPython.core.display.HTML object>"
      ]
     },
     "metadata": {},
     "output_type": "display_data"
    },
    {
     "data": {
      "text/html": [
       "<p style='color:#ada;'>saving historic tohlcv data to json</p>"
      ],
      "text/plain": [
       "<IPython.core.display.HTML object>"
      ]
     },
     "metadata": {},
     "output_type": "display_data"
    },
    {
     "name": "stdout",
     "output_type": "stream",
     "text": [
      "{'tps': [[1733356500000, 0.43263, 0.43364, 0.43189, 0.43204, 392461.0]], 'entry_reached': [[1733356380000, 0.42967, 0.43091, 0.42917, 0.43079, 384724.0]], 'stop_loss_reached': None, 'break_reason': None}\n"
     ]
    },
    {
     "data": {
      "text/html": [
       "<p style='color:#0f0;'>********************************************************************************************************************</p>"
      ],
      "text/plain": [
       "<IPython.core.display.HTML object>"
      ]
     },
     "metadata": {},
     "output_type": "display_data"
    },
    {
     "name": "stdout",
     "output_type": "stream",
     "text": [
      "symbol: BTC/USDT:USDT, po: LONG, stop: 97480.746, en: 98465.4, tp: 99450.05399999999\n",
      "{'tps': [[1733365860000, 99413.9, 99539.2, 99376.6, 99527.2, 6578775.0]], 'entry_reached': [[1733362980000, 98493.6, 98524.9, 98465.4, 98509.9, 614193.0]], 'stop_loss_reached': None, 'break_reason': None}\n"
     ]
    },
    {
     "data": {
      "text/html": [
       "<p style='color:#0f0;'>********************************************************************************************************************</p>"
      ],
      "text/plain": [
       "<IPython.core.display.HTML object>"
      ]
     },
     "metadata": {},
     "output_type": "display_data"
    },
    {
     "name": "stdout",
     "output_type": "stream",
     "text": [
      "symbol: DRIFT/USDT:USDT, po: LONG, stop: 1.488366, en: 1.5034, tp: 1.518434\n",
      "{'tps': [[1733365620000, 1.5115, 1.5255, 1.5115, 1.521, 23468.0]], 'entry_reached': [[1733365560000, 1.5305, 1.5314, 1.5034, 1.5116, 70402.0]], 'stop_loss_reached': None, 'break_reason': None}\n"
     ]
    },
    {
     "data": {
      "text/html": [
       "<p style='color:#0f0;'>********************************************************************************************************************</p>"
      ],
      "text/plain": [
       "<IPython.core.display.HTML object>"
      ]
     },
     "metadata": {},
     "output_type": "display_data"
    },
    {
     "name": "stdout",
     "output_type": "stream",
     "text": [
      "symbol: FIO/USDT:USDT, po: LONG, stop: 0.060716700000000005, en: 0.06133, tp: 0.0619433\n",
      "{'tps': [[1733406720000, 0.06262, 0.06283, 0.06187, 0.06247, 50944.0]], 'entry_reached': [[1733406660000, 0.06154, 0.06311, 0.06133, 0.06267, 103657.0]], 'stop_loss_reached': None, 'break_reason': None}\n"
     ]
    },
    {
     "data": {
      "text/html": [
       "<p style='color:#0f0;'>********************************************************************************************************************</p>"
      ],
      "text/plain": [
       "<IPython.core.display.HTML object>"
      ]
     },
     "metadata": {},
     "output_type": "display_data"
    },
    {
     "name": "stdout",
     "output_type": "stream",
     "text": [
      "symbol: ZK/USDT:USDT, po: LONG, stop: 0.253143, en: 0.2557, tp: 0.25825699999999996\n",
      "{'tps': [[1733458800000, 0.2585, 0.2585, 0.2561, 0.2571, 76263.0]], 'entry_reached': [[1733458560000, 0.2594, 0.2612, 0.2557, 0.2564, 401610.0]], 'stop_loss_reached': None, 'break_reason': None}\n"
     ]
    },
    {
     "data": {
      "text/html": [
       "<p style='color:#0f0;'>********************************************************************************************************************</p>"
      ],
      "text/plain": [
       "<IPython.core.display.HTML object>"
      ]
     },
     "metadata": {},
     "output_type": "display_data"
    },
    {
     "name": "stdout",
     "output_type": "stream",
     "text": [
      "symbol: ZK/USDT:USDT, po: LONG, stop: 0.252846, en: 0.2554, tp: 0.257954\n",
      "{'tps': [[1733458680000, 0.2564, 0.258, 0.2564, 0.2571, 40168.0]], 'entry_reached': [[1733458620000, 0.2569, 0.2581, 0.2554, 0.2564, 140130.0]], 'stop_loss_reached': None, 'break_reason': None}\n"
     ]
    },
    {
     "data": {
      "text/html": [
       "<p style='color:#0f0;'>********************************************************************************************************************</p>"
      ],
      "text/plain": [
       "<IPython.core.display.HTML object>"
      ]
     },
     "metadata": {},
     "output_type": "display_data"
    },
    {
     "name": "stdout",
     "output_type": "stream",
     "text": [
      "symbol: ZK/USDT:USDT, po: LONG, stop: 0.256212, en: 0.2588, tp: 0.26138799999999995\n",
      "{'tps': [[1733460180000, 0.2607, 0.2617, 0.2604, 0.2614, 21561.0]], 'entry_reached': [[1733459820000, 0.2603, 0.2603, 0.2588, 0.2599, 64515.0]], 'stop_loss_reached': None, 'break_reason': None}\n"
     ]
    },
    {
     "data": {
      "text/html": [
       "<p style='color:#0f0;'>********************************************************************************************************************</p>"
      ],
      "text/plain": [
       "<IPython.core.display.HTML object>"
      ]
     },
     "metadata": {},
     "output_type": "display_data"
    },
    {
     "name": "stdout",
     "output_type": "stream",
     "text": [
      "symbol: GHST/USDT:USDT, po: LONG, stop: 1.49094, en: 1.506, tp: 1.52106\n",
      "{'tps': [[1733460300000, 1.527, 1.537, 1.505, 1.532, 146616.0]], 'entry_reached': [[1733460240000, 1.531, 1.535, 1.506, 1.527, 298225.0]], 'stop_loss_reached': None, 'break_reason': None}\n"
     ]
    },
    {
     "data": {
      "text/html": [
       "<p style='color:#0f0;'>********************************************************************************************************************</p>"
      ],
      "text/plain": [
       "<IPython.core.display.HTML object>"
      ]
     },
     "metadata": {},
     "output_type": "display_data"
    },
    {
     "name": "stdout",
     "output_type": "stream",
     "text": [
      "symbol: XRP/USDT:USDT, po: LONG, stop: 2.358873, en: 2.3827, tp: 2.4065269999999996\n",
      "{'tps': [], 'entry_reached': [[1733462220000, 2.3831, 2.3953, 2.3827, 2.3939, 188455.0]], 'stop_loss_reached': [1733464080000, 2.3691, 2.37, 2.3583, 2.3639, 142635.0], 'break_reason': None}\n"
     ]
    },
    {
     "data": {
      "text/html": [
       "<p style='color:#0f0;'>********************************************************************************************************************</p>"
      ],
      "text/plain": [
       "<IPython.core.display.HTML object>"
      ]
     },
     "metadata": {},
     "output_type": "display_data"
    },
    {
     "name": "stdout",
     "output_type": "stream",
     "text": [
      "symbol: AMB/USDT:USDT, po: LONG, stop: 0.012365099999999999, en: 0.01249, tp: 0.0126149\n",
      "{'tps': [[1733489880000, 0.01271, 0.01293, 0.01269, 0.0129, 6023543.0]], 'entry_reached': [[1733489820000, 0.01288, 0.01288, 0.01249, 0.01273, 12351957.0]], 'stop_loss_reached': None, 'break_reason': None}\n"
     ]
    },
    {
     "data": {
      "text/html": [
       "<p style='color:#0f0;'>********************************************************************************************************************</p>"
      ],
      "text/plain": [
       "<IPython.core.display.HTML object>"
      ]
     },
     "metadata": {},
     "output_type": "display_data"
    },
    {
     "name": "stdout",
     "output_type": "stream",
     "text": [
      "symbol: CELR/USDT:USDT, po: LONG, stop: 0.0287298, en: 0.02902, tp: 0.0293102\n",
      "{'tps': [[1733502540000, 0.02937, 0.02953, 0.02922, 0.02922, 335794.0]], 'entry_reached': [[1733502480000, 0.02922, 0.02963, 0.02902, 0.02937, 582015.0]], 'stop_loss_reached': None, 'break_reason': None}\n"
     ]
    },
    {
     "data": {
      "text/html": [
       "<p style='color:#0f0;'>********************************************************************************************************************</p>"
      ],
      "text/plain": [
       "<IPython.core.display.HTML object>"
      ]
     },
     "metadata": {},
     "output_type": "display_data"
    },
    {
     "name": "stdout",
     "output_type": "stream",
     "text": [
      "symbol: XRP/USDT:USDT, po: LONG, stop: 2.381841, en: 2.4059, tp: 2.4299589999999998\n",
      "{'tps': [[1733530740000, 2.4273, 2.4395, 2.4273, 2.4391, 184233.0]], 'entry_reached': [[1733528100000, 2.4106, 2.4127, 2.4059, 2.4079, 119327.0]], 'stop_loss_reached': None, 'break_reason': None}\n"
     ]
    },
    {
     "data": {
      "text/html": [
       "<p style='color:#0f0;'>********************************************************************************************************************</p>"
      ],
      "text/plain": [
       "<IPython.core.display.HTML object>"
      ]
     },
     "metadata": {},
     "output_type": "display_data"
    },
    {
     "name": "stdout",
     "output_type": "stream",
     "text": [
      "symbol: ZRX/USDT:USDT, po: LONG, stop: 0.8237789999999999, en: 0.8321, tp: 0.840421\n",
      "{'tps': [[1733540880000, 0.8392, 0.8431, 0.8367, 0.8379, 139621.0]], 'entry_reached': [[1733540700000, 0.839, 0.8463, 0.8321, 0.8328, 582357.0]], 'stop_loss_reached': None, 'break_reason': None}\n"
     ]
    },
    {
     "data": {
      "text/html": [
       "<p style='color:#0f0;'>********************************************************************************************************************</p>"
      ],
      "text/plain": [
       "<IPython.core.display.HTML object>"
      ]
     },
     "metadata": {},
     "output_type": "display_data"
    },
    {
     "name": "stdout",
     "output_type": "stream",
     "text": [
      "symbol: DEGEN/USDT:USDT, po: LONG, stop: 0.0219186, en: 0.02214, tp: 0.0223614\n",
      "{'tps': [[1733614080000, 0.02254, 0.02257, 0.02229, 0.02237, 4613.0]], 'entry_reached': [[1733614020000, 0.02244, 0.02266, 0.02214, 0.02256, 13340.0]], 'stop_loss_reached': None, 'break_reason': None}\n"
     ]
    },
    {
     "data": {
      "text/html": [
       "<p style='color:#0f0;'>********************************************************************************************************************</p>"
      ],
      "text/plain": [
       "<IPython.core.display.HTML object>"
      ]
     },
     "metadata": {},
     "output_type": "display_data"
    },
    {
     "name": "stdout",
     "output_type": "stream",
     "text": [
      "symbol: NEIROETH/USDT:USDT, po: LONG, stop: 0.0836451, en: 0.08449, tp: 0.08533489999999999\n",
      "{'tps': [[1733749080000, 0.08554, 0.08585, 0.08463, 0.08585, 10636.0]], 'entry_reached': [[1733749020000, 0.08582, 0.08643, 0.08449, 0.08555, 16438.0]], 'stop_loss_reached': None, 'break_reason': None}\n"
     ]
    },
    {
     "data": {
      "text/html": [
       "<p style='color:#0f0;'>********************************************************************************************************************</p>"
      ],
      "text/plain": [
       "<IPython.core.display.HTML object>"
      ]
     },
     "metadata": {},
     "output_type": "display_data"
    },
    {
     "name": "stdout",
     "output_type": "stream",
     "text": [
      "symbol: 1000FLOKI/USDT:USDT, po: LONG, stop: 0.27105209999999996, en: 0.27379, tp: 0.2765279\n",
      "{'tps': [[1733761500000, 0.27684, 0.27802, 0.27671, 0.2768, 113909.0]], 'entry_reached': [[1733761440000, 0.27379, 0.27774, 0.27379, 0.27684, 335363.0]], 'stop_loss_reached': None, 'break_reason': None}\n"
     ]
    },
    {
     "data": {
      "text/html": [
       "<p style='color:#0f0;'>********************************************************************************************************************</p>"
      ],
      "text/plain": [
       "<IPython.core.display.HTML object>"
      ]
     },
     "metadata": {},
     "output_type": "display_data"
    },
    {
     "name": "stdout",
     "output_type": "stream",
     "text": [
      "symbol: 1000FLOKI/USDT:USDT, po: LONG, stop: 0.27570510000000004, en: 0.27849, tp: 0.2812749\n",
      "{'tps': [[1733762220000, 0.28075, 0.2817, 0.27985, 0.28004, 120700.0]], 'entry_reached': [[1733762160000, 0.27859, 0.28076, 0.27849, 0.28075, 107880.0]], 'stop_loss_reached': None, 'break_reason': None}\n"
     ]
    },
    {
     "data": {
      "text/html": [
       "<p style='color:#0f0;'>********************************************************************************************************************</p>"
      ],
      "text/plain": [
       "<IPython.core.display.HTML object>"
      ]
     },
     "metadata": {},
     "output_type": "display_data"
    },
    {
     "name": "stdout",
     "output_type": "stream",
     "text": [
      "symbol: BTC/USDT:USDT, po: LONG, stop: 95975.253, en: 96944.7, tp: 97914.147\n",
      "{'tps': [[1733831520000, 97836.5, 97944.0, 97836.4, 97857.6, 1420026.0]], 'entry_reached': [[1733806380000, 97008.1, 97067.7, 96944.7, 96946.8, 1516450.0]], 'stop_loss_reached': None, 'break_reason': None}\n"
     ]
    },
    {
     "data": {
      "text/html": [
       "<p style='color:#0f0;'>********************************************************************************************************************</p>"
      ],
      "text/plain": [
       "<IPython.core.display.HTML object>"
      ]
     },
     "metadata": {},
     "output_type": "display_data"
    },
    {
     "name": "stdout",
     "output_type": "stream",
     "text": [
      "symbol: BTC/USDT:USDT, po: SHORT, stop: 96764.481, en: 97741.9, tp: 98719.31899999999\n",
      "{'tps': [], 'entry_reached': [[1733839920000, 97752.5, 97821.5, 97741.9, 97755.7, 611238.0]], 'stop_loss_reached': [1733839980000, 97760.9, 97760.9, 97633.6, 97691.7, 1556976.0], 'break_reason': None}\n"
     ]
    },
    {
     "data": {
      "text/html": [
       "<p style='color:#0f0;'>********************************************************************************************************************</p>"
      ],
      "text/plain": [
       "<IPython.core.display.HTML object>"
      ]
     },
     "metadata": {},
     "output_type": "display_data"
    },
    {
     "name": "stdout",
     "output_type": "stream",
     "text": [
      "symbol: XRP/USDT:USDT, po: LONG, stop: 2.2980869999999998, en: 2.3213, tp: 2.344513\n",
      "{'tps': [], 'entry_reached': [[1733876880000, 2.3262, 2.3305, 2.3213, 2.3294, 95912.0]], 'stop_loss_reached': [1733877720000, 2.3035, 2.31, 2.2962, 2.3073, 218705.0], 'break_reason': None}\n"
     ]
    },
    {
     "data": {
      "text/html": [
       "<p style='color:#0f0;'>********************************************************************************************************************</p>"
      ],
      "text/plain": [
       "<IPython.core.display.HTML object>"
      ]
     },
     "metadata": {},
     "output_type": "display_data"
    },
    {
     "name": "stdout",
     "output_type": "stream",
     "text": [
      "symbol: DOGE/USDT:USDT, po: LONG, stop: 0.3877434, en: 0.39166, tp: 0.3955766\n",
      "{'tps': [], 'entry_reached': [[1733902200000, 0.39167, 0.39257, 0.39166, 0.39238, 99822.0]], 'stop_loss_reached': [1733903580000, 0.38855, 0.38855, 0.38756, 0.38774, 267383.0], 'break_reason': None}\n"
     ]
    },
    {
     "data": {
      "text/html": [
       "<p style='color:#0f0;'>********************************************************************************************************************</p>"
      ],
      "text/plain": [
       "<IPython.core.display.HTML object>"
      ]
     },
     "metadata": {},
     "output_type": "display_data"
    },
    {
     "name": "stdout",
     "output_type": "stream",
     "text": [
      "symbol: XRP/USDT:USDT, po: LONG, stop: 2.313036, en: 2.3364, tp: 2.3597639999999998\n",
      "{'tps': [], 'entry_reached': [[1733902320000, 2.3366, 2.3394, 2.3364, 2.3364, 64611.0]], 'stop_loss_reached': [1733903280000, 2.3176, 2.3179, 2.31, 2.3123, 182545.0], 'break_reason': None}\n"
     ]
    },
    {
     "data": {
      "text/html": [
       "<p style='color:#0f0;'>********************************************************************************************************************</p>"
      ],
      "text/plain": [
       "<IPython.core.display.HTML object>"
      ]
     },
     "metadata": {},
     "output_type": "display_data"
    },
    {
     "name": "stdout",
     "output_type": "stream",
     "text": [
      "symbol: ONDO/USDT:USDT, po: LONG, stop: 1.7293319999999999, en: 1.7468, tp: 1.764268\n",
      "{'tps': [[1733951940000, 1.7608, 1.7645, 1.7593, 1.7607, 952.0]], 'entry_reached': [[1733950680000, 1.7497, 1.7498, 1.7459, 1.7477, 1266.0]], 'stop_loss_reached': None, 'break_reason': None}\n"
     ]
    },
    {
     "data": {
      "text/html": [
       "<p style='color:#0f0;'>********************************************************************************************************************</p>"
      ],
      "text/plain": [
       "<IPython.core.display.HTML object>"
      ]
     },
     "metadata": {},
     "output_type": "display_data"
    },
    {
     "name": "stdout",
     "output_type": "stream",
     "text": [
      "symbol: XVG/USDT:USDT, po: LONG, stop: 0.01610334, en: 0.016266, tp: 0.016428659999999998\n",
      "{'tps': [[1734059160000, 0.01635, 0.016469, 0.016317, 0.016363, 71762.0]], 'entry_reached': [[1734058980000, 0.016315, 0.016373, 0.016266, 0.016373, 115672.0]], 'stop_loss_reached': None, 'break_reason': None}\n"
     ]
    },
    {
     "data": {
      "text/html": [
       "<p style='color:#0f0;'>********************************************************************************************************************</p>"
      ],
      "text/plain": [
       "<IPython.core.display.HTML object>"
      ]
     },
     "metadata": {},
     "output_type": "display_data"
    },
    {
     "name": "stdout",
     "output_type": "stream",
     "text": [
      "symbol: ACT/USDT:USDT, po: LONG, stop: 0.611325, en: 0.6175, tp: 0.6236750000000001\n",
      "{'tps': [], 'entry_reached': [[1734196740000, 0.6177, 0.6213, 0.6175, 0.6188, 9594.0]], 'stop_loss_reached': [1734198480000, 0.6143, 0.6143, 0.6106, 0.611, 3632.0], 'break_reason': None}\n"
     ]
    },
    {
     "data": {
      "text/html": [
       "<p style='color:#0f0;'>********************************************************************************************************************</p>"
      ],
      "text/plain": [
       "<IPython.core.display.HTML object>"
      ]
     },
     "metadata": {},
     "output_type": "display_data"
    },
    {
     "name": "stdout",
     "output_type": "stream",
     "text": [
      "symbol: GOAT/USDT:USDT, po: LONG, stop: 0.859221, en: 0.8679, tp: 0.876579\n",
      "{'tps': [], 'entry_reached': [[1734196800000, 0.8711, 0.8733, 0.8679, 0.8679, 5871.0]], 'stop_loss_reached': [1734198300000, 0.8599, 0.8599, 0.8505, 0.8518, 7612.0], 'break_reason': None}\n"
     ]
    },
    {
     "data": {
      "text/html": [
       "<p style='color:#0f0;'>********************************************************************************************************************</p>"
      ],
      "text/plain": [
       "<IPython.core.display.HTML object>"
      ]
     },
     "metadata": {},
     "output_type": "display_data"
    },
    {
     "name": "stdout",
     "output_type": "stream",
     "text": [
      "symbol: 1000CHEEMS/USDT:USDT, po: LONG, stop: 0.00098505, en: 0.000995, tp: 0.0010049500000000001\n"
     ]
    },
    {
     "data": {
      "text/html": [
       "<p style='color:#c01;'>json, 1735158600000</p>"
      ],
      "text/plain": [
       "<IPython.core.display.HTML object>"
      ]
     },
     "metadata": {},
     "output_type": "display_data"
    },
    {
     "data": {
      "text/html": [
       "<p style='color:#ada;'>saving historic tohlcv data to json</p>"
      ],
      "text/plain": [
       "<IPython.core.display.HTML object>"
      ]
     },
     "metadata": {},
     "output_type": "display_data"
    },
    {
     "name": "stdout",
     "output_type": "stream",
     "text": [
      "{'tps': [[1734510420000, 0.000998, 0.001005, 0.000998, 0.001005, 7918.0]], 'entry_reached': [[1734510360000, 0.001014, 0.001014, 0.000995, 0.000997, 23442.0]], 'stop_loss_reached': None, 'break_reason': None}\n"
     ]
    },
    {
     "data": {
      "text/html": [
       "<p style='color:#0f0;'>********************************************************************************************************************</p>"
      ],
      "text/plain": [
       "<IPython.core.display.HTML object>"
      ]
     },
     "metadata": {},
     "output_type": "display_data"
    },
    {
     "name": "stdout",
     "output_type": "stream",
     "text": [
      "symbol: TROY/USDT:USDT, po: LONG, stop: 0.00561033, en: 0.005667, tp: 0.00572367\n"
     ]
    },
    {
     "data": {
      "text/html": [
       "<p style='color:#c01;'>json, 1735158600000</p>"
      ],
      "text/plain": [
       "<IPython.core.display.HTML object>"
      ]
     },
     "metadata": {},
     "output_type": "display_data"
    },
    {
     "data": {
      "text/html": [
       "<p style='color:#ada;'>saving historic tohlcv data to json</p>"
      ],
      "text/plain": [
       "<IPython.core.display.HTML object>"
      ]
     },
     "metadata": {},
     "output_type": "display_data"
    },
    {
     "name": "stdout",
     "output_type": "stream",
     "text": [
      "{'tps': [[1734512700000, 0.005711, 0.00573, 0.005704, 0.005717, 16859.0]], 'entry_reached': [[1734511980000, 0.005699, 0.005699, 0.005667, 0.005683, 44132.0]], 'stop_loss_reached': None, 'break_reason': None}\n"
     ]
    },
    {
     "data": {
      "text/html": [
       "<p style='color:#0f0;'>********************************************************************************************************************</p>"
      ],
      "text/plain": [
       "<IPython.core.display.HTML object>"
      ]
     },
     "metadata": {},
     "output_type": "display_data"
    },
    {
     "name": "stdout",
     "output_type": "stream",
     "text": [
      "symbol: DOGE/USDT:USDT, po: LONG, stop: 0.3030984, en: 0.30616, tp: 0.3092216\n"
     ]
    },
    {
     "data": {
      "text/html": [
       "<p style='color:#c01;'>json, 1735158600000</p>"
      ],
      "text/plain": [
       "<IPython.core.display.HTML object>"
      ]
     },
     "metadata": {},
     "output_type": "display_data"
    },
    {
     "data": {
      "text/html": [
       "<p style='color:#ada;'>saving historic tohlcv data to json</p>"
      ],
      "text/plain": [
       "<IPython.core.display.HTML object>"
      ]
     },
     "metadata": {},
     "output_type": "display_data"
    },
    {
     "name": "stdout",
     "output_type": "stream",
     "text": [
      "{'tps': [], 'entry_reached': [[1734709800000, 0.30691, 0.30714, 0.30616, 0.3071, 271291.0]], 'stop_loss_reached': [1734710400000, 0.30449, 0.30449, 0.30252, 0.30368, 798043.0], 'break_reason': None}\n"
     ]
    },
    {
     "data": {
      "text/html": [
       "<p style='color:#0f0;'>********************************************************************************************************************</p>"
      ],
      "text/plain": [
       "<IPython.core.display.HTML object>"
      ]
     },
     "metadata": {},
     "output_type": "display_data"
    },
    {
     "name": "stdout",
     "output_type": "stream",
     "text": [
      "symbol: ENA/USDT:USDT, po: LONG, stop: 1.004454, en: 1.0146, tp: 1.024746\n"
     ]
    },
    {
     "data": {
      "text/html": [
       "<p style='color:#c01;'>json, 1735158600000</p>"
      ],
      "text/plain": [
       "<IPython.core.display.HTML object>"
      ]
     },
     "metadata": {},
     "output_type": "display_data"
    },
    {
     "data": {
      "text/html": [
       "<p style='color:#ada;'>saving historic tohlcv data to json</p>"
      ],
      "text/plain": [
       "<IPython.core.display.HTML object>"
      ]
     },
     "metadata": {},
     "output_type": "display_data"
    },
    {
     "name": "stdout",
     "output_type": "stream",
     "text": [
      "{'tps': [[1734714180000, 1.0201, 1.0281, 1.0201, 1.0265, 37904.0]], 'entry_reached': [[1734714060000, 1.0146, 1.0212, 1.0146, 1.02, 36284.0]], 'stop_loss_reached': None, 'break_reason': None}\n"
     ]
    },
    {
     "data": {
      "text/html": [
       "<p style='color:#0f0;'>********************************************************************************************************************</p>"
      ],
      "text/plain": [
       "<IPython.core.display.HTML object>"
      ]
     },
     "metadata": {},
     "output_type": "display_data"
    },
    {
     "name": "stdout",
     "output_type": "stream",
     "text": [
      "symbol: SUI/USDT:USDT, po: LONG, stop: 4.432923, en: 4.4777, tp: 4.522476999999999\n"
     ]
    },
    {
     "data": {
      "text/html": [
       "<p style='color:#c01;'>json, 1735158600000</p>"
      ],
      "text/plain": [
       "<IPython.core.display.HTML object>"
      ]
     },
     "metadata": {},
     "output_type": "display_data"
    },
    {
     "data": {
      "text/html": [
       "<p style='color:#ada;'>saving historic tohlcv data to json</p>"
      ],
      "text/plain": [
       "<IPython.core.display.HTML object>"
      ]
     },
     "metadata": {},
     "output_type": "display_data"
    },
    {
     "name": "stdout",
     "output_type": "stream",
     "text": [
      "{'tps': [[1734860220000, 4.511, 4.5238, 4.5102, 4.5228, 29672.0]], 'entry_reached': [[1734857460000, 4.4875, 4.491, 4.4777, 4.4907, 33271.0]], 'stop_loss_reached': None, 'break_reason': None}\n"
     ]
    },
    {
     "data": {
      "text/html": [
       "<p style='color:#0f0;'>********************************************************************************************************************</p>"
      ],
      "text/plain": [
       "<IPython.core.display.HTML object>"
      ]
     },
     "metadata": {},
     "output_type": "display_data"
    },
    {
     "name": "stdout",
     "output_type": "stream",
     "text": [
      "symbol: ENA/USDT:USDT, po: LONG, stop: 1.048014, en: 1.0586, tp: 1.069186\n",
      "{'tps': [[1734860280000, 1.0656, 1.0752, 1.0656, 1.0752, 67092.0]], 'entry_reached': [[1734859560000, 1.0621, 1.0621, 1.0586, 1.0614, 18928.0]], 'stop_loss_reached': None, 'break_reason': None}\n"
     ]
    },
    {
     "data": {
      "text/html": [
       "<p style='color:#0f0;'>********************************************************************************************************************</p>"
      ],
      "text/plain": [
       "<IPython.core.display.HTML object>"
      ]
     },
     "metadata": {},
     "output_type": "display_data"
    },
    {
     "name": "stdout",
     "output_type": "stream",
     "text": [
      "symbol: XVG/USDT:USDT, po: LONG, stop: 0.01169388, en: 0.011812, tp: 0.011930119999999999\n"
     ]
    },
    {
     "data": {
      "text/html": [
       "<p style='color:#c01;'>json, 1735158600000</p>"
      ],
      "text/plain": [
       "<IPython.core.display.HTML object>"
      ]
     },
     "metadata": {},
     "output_type": "display_data"
    },
    {
     "data": {
      "text/html": [
       "<p style='color:#ada;'>saving historic tohlcv data to json</p>"
      ],
      "text/plain": [
       "<IPython.core.display.HTML object>"
      ]
     },
     "metadata": {},
     "output_type": "display_data"
    },
    {
     "name": "stdout",
     "output_type": "stream",
     "text": [
      "{'tps': [[1734870720000, 0.01195, 0.01195, 0.011877, 0.011919, 57208.0]], 'entry_reached': [[1734870660000, 0.011968, 0.011968, 0.011812, 0.011924, 100499.0]], 'stop_loss_reached': None, 'break_reason': None}\n"
     ]
    },
    {
     "data": {
      "text/html": [
       "<p style='color:#0f0;'>********************************************************************************************************************</p>"
      ],
      "text/plain": [
       "<IPython.core.display.HTML object>"
      ]
     },
     "metadata": {},
     "output_type": "display_data"
    },
    {
     "name": "stdout",
     "output_type": "stream",
     "text": [
      "symbol: VIRTUAL/USDT:USDT, po: LONG, stop: 2.6331029999999997, en: 2.6597, tp: 2.686297\n"
     ]
    },
    {
     "data": {
      "text/html": [
       "<p style='color:#c01;'>json, 1735158600000</p>"
      ],
      "text/plain": [
       "<IPython.core.display.HTML object>"
      ]
     },
     "metadata": {},
     "output_type": "display_data"
    },
    {
     "data": {
      "text/html": [
       "<p style='color:#ada;'>saving historic tohlcv data to json</p>"
      ],
      "text/plain": [
       "<IPython.core.display.HTML object>"
      ]
     },
     "metadata": {},
     "output_type": "display_data"
    },
    {
     "name": "stdout",
     "output_type": "stream",
     "text": [
      "{'tps': [], 'entry_reached': [[1734950820000, 2.667, 2.6763, 2.6597, 2.6641, 18244.0]], 'stop_loss_reached': [1734953760000, 2.6351, 2.6381, 2.6326, 2.6364, 1986.0], 'break_reason': None}\n"
     ]
    },
    {
     "data": {
      "text/html": [
       "<p style='color:#0f0;'>********************************************************************************************************************</p>"
      ],
      "text/plain": [
       "<IPython.core.display.HTML object>"
      ]
     },
     "metadata": {},
     "output_type": "display_data"
    },
    {
     "name": "stdout",
     "output_type": "stream",
     "text": [
      "symbol: TAO/USDT:USDT, po: LONG, stop: 490.4757, en: 495.43, tp: 500.3843\n"
     ]
    },
    {
     "data": {
      "text/html": [
       "<p style='color:#c01;'>json, 1735158600000</p>"
      ],
      "text/plain": [
       "<IPython.core.display.HTML object>"
      ]
     },
     "metadata": {},
     "output_type": "display_data"
    },
    {
     "data": {
      "text/html": [
       "<p style='color:#ada;'>saving historic tohlcv data to json</p>"
      ],
      "text/plain": [
       "<IPython.core.display.HTML object>"
      ]
     },
     "metadata": {},
     "output_type": "display_data"
    },
    {
     "name": "stdout",
     "output_type": "stream",
     "text": [
      "{'tps': [], 'entry_reached': [[1734987960000, 495.71, 497.48, 495.43, 496.03, 33749.0]], 'stop_loss_reached': [1734988320000, 493.42, 493.49, 490.0, 493.31, 44060.0], 'break_reason': None}\n"
     ]
    },
    {
     "data": {
      "text/html": [
       "<p style='color:#0f0;'>********************************************************************************************************************</p>"
      ],
      "text/plain": [
       "<IPython.core.display.HTML object>"
      ]
     },
     "metadata": {},
     "output_type": "display_data"
    },
    {
     "name": "stdout",
     "output_type": "stream",
     "text": [
      "symbol: ZEC/USDT:USDT, po: LONG, stop: 64.03320000000001, en: 64.68, tp: 65.3268\n"
     ]
    },
    {
     "data": {
      "text/html": [
       "<p style='color:#c01;'>json, 1735158600000</p>"
      ],
      "text/plain": [
       "<IPython.core.display.HTML object>"
      ]
     },
     "metadata": {},
     "output_type": "display_data"
    },
    {
     "data": {
      "text/html": [
       "<p style='color:#ada;'>saving historic tohlcv data to json</p>"
      ],
      "text/plain": [
       "<IPython.core.display.HTML object>"
      ]
     },
     "metadata": {},
     "output_type": "display_data"
    },
    {
     "name": "stdout",
     "output_type": "stream",
     "text": [
      "{'tps': [[1734991920000, 65.35, 65.43, 65.26, 65.39, 3793.0]], 'entry_reached': [[1734991860000, 65.59, 65.61, 64.68, 65.31, 22366.0]], 'stop_loss_reached': None, 'break_reason': None}\n"
     ]
    },
    {
     "data": {
      "text/html": [
       "<p style='color:#0f0;'>********************************************************************************************************************</p>"
      ],
      "text/plain": [
       "<IPython.core.display.HTML object>"
      ]
     },
     "metadata": {},
     "output_type": "display_data"
    },
    {
     "name": "stdout",
     "output_type": "stream",
     "text": [
      "symbol: XVG/USDT:USDT, po: LONG, stop: 0.01344717, en: 0.013583, tp: 0.01371883\n",
      "{'tps': [[1735076280000, 0.013691, 0.013817, 0.013691, 0.013813, 43551.0]], 'entry_reached': [[1735075380000, 0.013625, 0.013671, 0.013583, 0.013667, 51161.0]], 'stop_loss_reached': None, 'break_reason': None}\n"
     ]
    },
    {
     "data": {
      "text/html": [
       "<p style='color:#0f0;'>********************************************************************************************************************</p>"
      ],
      "text/plain": [
       "<IPython.core.display.HTML object>"
      ]
     },
     "metadata": {},
     "output_type": "display_data"
    },
    {
     "name": "stdout",
     "output_type": "stream",
     "text": [
      "symbol: USUAL/USDT:USDT, po: LONG, stop: 1.343826, en: 1.3574, tp: 1.370974\n"
     ]
    },
    {
     "data": {
      "text/html": [
       "<p style='color:#c01;'>json, 1735158600000</p>"
      ],
      "text/plain": [
       "<IPython.core.display.HTML object>"
      ]
     },
     "metadata": {},
     "output_type": "display_data"
    },
    {
     "data": {
      "text/html": [
       "<p style='color:#ada;'>saving historic tohlcv data to json</p>"
      ],
      "text/plain": [
       "<IPython.core.display.HTML object>"
      ]
     },
     "metadata": {},
     "output_type": "display_data"
    },
    {
     "name": "stdout",
     "output_type": "stream",
     "text": [
      "{'tps': [], 'entry_reached': [[1735109640000, 1.3585, 1.364, 1.3574, 1.36, 3936.0]], 'stop_loss_reached': [1735110060000, 1.3531, 1.3531, 1.338, 1.3456, 1894.0], 'break_reason': None}\n"
     ]
    },
    {
     "data": {
      "text/html": [
       "<p style='color:#0f0;'>********************************************************************************************************************</p>"
      ],
      "text/plain": [
       "<IPython.core.display.HTML object>"
      ]
     },
     "metadata": {},
     "output_type": "display_data"
    },
    {
     "data": {
      "text/plain": [
       "True"
      ]
     },
     "execution_count": 3,
     "metadata": {},
     "output_type": "execute_result"
    }
   ],
   "source": [
    "\n",
    "# اول فروردین = 2024/3/20\n",
    "# end_date = datetime(2024, 3, 20, tzinfo=timezone.utc)\n",
    "# اول خرداد = 2024/5/21\n",
    "# end_date = datetime(2024, 5, 21, tzinfo=timezone.utc)\n",
    "# start_date = datetime(2024, 5, 29, tzinfo=timezone.utc)\n",
    "# اول تیر = 2024/6/21\n",
    "# start_date = datetime(2024, 6, 21, tzinfo=timezone.utc)\n",
    "# end_date = datetime(2024, 9, 7, tzinfo=timezone.utc)\n",
    "\n",
    "\n",
    "# 1709889120000 1709975340000\n",
    "# offset_date = int(convertDateToMilliTimeStamp(year=2024, month=4, day=30, hour=0, minute=0))/1000\n",
    "\n",
    "await rose.FindStatistic(year=2023, month=11, day=5, \n",
    "                        # offset_date=offset_date\n",
    "                        )\n",
    "    "
   ]
  }
 ],
 "metadata": {
  "kernelspec": {
   "display_name": ".venv",
   "language": "python",
   "name": "python3"
  },
  "language_info": {
   "codemirror_mode": {
    "name": "ipython",
    "version": 3
   },
   "file_extension": ".py",
   "mimetype": "text/x-python",
   "name": "python",
   "nbconvert_exporter": "python",
   "pygments_lexer": "ipython3",
   "version": "3.12.6"
  }
 },
 "nbformat": 4,
 "nbformat_minor": 2
}
