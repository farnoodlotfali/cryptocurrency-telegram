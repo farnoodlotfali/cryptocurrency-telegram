{
 "cells": [
  {
   "cell_type": "code",
   "execution_count": 35,
   "metadata": {},
   "outputs": [
    {
     "data": {
      "text/plain": [
       "'.\\\\.env'"
      ]
     },
     "execution_count": 35,
     "metadata": {},
     "output_type": "execute_result"
    }
   ],
   "source": [
    "import shutil\n",
    "\n",
    "source_file_path = '.\\..\\.env'\n",
    "\n",
    "destination_file_path = '.'\n",
    "\n",
    "shutil.copy(source_file_path, destination_file_path)"
   ]
  },
  {
   "cell_type": "code",
   "execution_count": 36,
   "metadata": {},
   "outputs": [],
   "source": [
    "from datetime import datetime \n",
    "import pandas as pd\n",
    "import numpy as np\n",
    "from dotenv import dotenv_values\n",
    "from bingx.api import BingxAPI\n",
    "\n",
    "config = dotenv_values(\".env\")\n",
    "\n",
    "\n",
    "API_KEY = config[\"API_KEY\"]\n",
    "SECRET_KEY = config[\"SECRET_KEY\"]\n",
    "\n",
    "bingx =  BingxAPI(API_KEY, SECRET_KEY, timestamp=\"local\")"
   ]
  },
  {
   "cell_type": "code",
   "execution_count": 37,
   "metadata": {},
   "outputs": [
    {
     "name": "stdout",
     "output_type": "stream",
     "text": [
      "0            NaN\n",
      "1       0.000000\n",
      "2       0.000000\n",
      "3       0.000000\n",
      "4      48.897747\n",
      "         ...    \n",
      "740    54.159825\n",
      "741    52.857906\n",
      "742    28.193219\n",
      "743    24.904267\n",
      "744    16.299148\n",
      "Name: close, Length: 745, dtype: float64\n"
     ]
    }
   ],
   "source": [
    "# RSI chatgpt (not work)\n",
    "\n",
    "def calculate_rsi(data, period=14):\n",
    "    df = pd.DataFrame(data)\n",
    "    df['close'] = pd.to_numeric(df['close'], errors='coerce')\n",
    "    delta = df['close'].diff()\n",
    "    gain = (delta.where(delta > 0, 0)).fillna(0)\n",
    "    loss = (-delta.where(delta < 0, 0)).fillna(0)\n",
    "    \n",
    "    # Adjust the rolling mean calculation for small sample sizes\n",
    "    avg_gain = gain.rolling(window=min(len(gain), period), min_periods=1).mean()\n",
    "    avg_loss = loss.rolling(window=min(len(loss), period), min_periods=1).mean()\n",
    "\n",
    "    rs = avg_gain / avg_loss\n",
    "    rsi = 100 - (100 / (1 + rs))\n",
    "    return rsi\n",
    "\n",
    "# Example data\n",
    "\n",
    "res = []\n",
    "data = bingx.get_kline_data(\"BTC-USDT\",\"1h\" ,1716478063000 ,1719156463000, 1440)\n",
    "res += list(reversed(data))\n",
    "\n",
    "rsi_values = calculate_rsi(res)\n",
    "print(rsi_values)\n",
    "\n"
   ]
  },
  {
   "cell_type": "code",
   "execution_count": 38,
   "metadata": {},
   "outputs": [],
   "source": [
    "# RSI https://github.com/lukaszbinden/rsi_tradingview/blob/main/rsi.py (Worked!! Nice)\n",
    "def rsi_tradingview(ohlc: pd.DataFrame, period: int = 14, round_rsi: bool = True):\n",
    "    \"\"\" Implements the RSI indicator as defined by TradingView on March 15, 2021.\n",
    "        The TradingView code is as follows:\n",
    "        //@version=4\n",
    "        study(title=\"Relative Strength Index\", shorttitle=\"RSI\", format=format.price, precision=2, resolution=\"\")\n",
    "        len = input(14, minval=1, title=\"Length\")\n",
    "        src = input(close, \"Source\", type = input.source)\n",
    "        up = rma(max(change(src), 0), len)\n",
    "        down = rma(-min(change(src), 0), len)\n",
    "        rsi = down == 0 ? 100 : up == 0 ? 0 : 100 - (100 / (1 + up / down))\n",
    "        plot(rsi, \"RSI\", color=#8E1599)\n",
    "        band1 = hline(70, \"Upper Band\", color=#C0C0C0)\n",
    "        band0 = hline(30, \"Lower Band\", color=#C0C0C0)\n",
    "        fill(band1, band0, color=#9915FF, transp=90, title=\"Background\")\n",
    "\n",
    "    :param ohlc:\n",
    "    :param period:\n",
    "    :param round_rsi:\n",
    "    :return: an array with the RSI indicator values\n",
    "    \"\"\"\n",
    "    df['close'] = pd.to_numeric(df['close'], errors='coerce')\n",
    "    delta = ohlc[\"close\"].diff()\n",
    "\n",
    "    up = delta.copy()\n",
    "    up[up < 0] = 0\n",
    "    up = pd.Series.ewm(up, alpha=1/period).mean()\n",
    "\n",
    "    down = delta.copy()\n",
    "    down[down > 0] = 0\n",
    "    down *= -1\n",
    "    down = pd.Series.ewm(down, alpha=1/period).mean()\n",
    "\n",
    "    rsi = np.where(up == 0, 0, np.where(down == 0, 100, 100 - (100 / (1 + up / down))))\n",
    "\n",
    "    return np.round(rsi, 2) if round_rsi else rsi\n",
    "\n",
    "\n",
    "\n",
    "\n",
    "start_timestamp = 1720688771000\n",
    "# start_timestamp = 1704122863000\n",
    "current_timestamp = int(datetime.now().timestamp() * 1000)\n",
    "bool = True\n",
    "res = []\n",
    "while bool:\n",
    "    data = list(bingx.get_kline_data(\"BTC-USDT\",\"1h\" ,start_timestamp ,limit= 1440))\n",
    "    \n",
    "    start_timestamp = data[0]['time'] + 1\n",
    "    res += list(reversed(data))\n",
    "    \n",
    "    if len(data) < 1440: \n",
    "        break\n",
    "\n",
    "df = pd.DataFrame(res)\n",
    "\n",
    "# print(df.__len__())\n",
    "df['close'] = pd.to_numeric(df['close'], errors='coerce')\n",
    "array_list = rsi_tradingview(df)\n",
    "b = array_list.tolist()\n",
    "# convertToJsonFile(b, \"rsi-BTC\", \".\") \n",
    "# convertToJsonFile(res, \"BTC-ohlc\", \".\") \n",
    "# json.dump(b, codecs.open(\"test.json\", 'w', encoding='utf-8'), \n",
    "#           separators=(',', ':'), \n",
    "#           sort_keys=True, \n",
    "#           indent=4)\n",
    "# json.dump(res, codecs.open(\"test1.json\", 'w', encoding='utf-8'), \n",
    "#           separators=(',', ':'), \n",
    "#           sort_keys=True, \n",
    "#           indent=4)\n",
    "# \n",
    "\n",
    "\n"
   ]
  }
 ],
 "metadata": {
  "kernelspec": {
   "display_name": ".venv",
   "language": "python",
   "name": "python3"
  },
  "language_info": {
   "codemirror_mode": {
    "name": "ipython",
    "version": 3
   },
   "file_extension": ".py",
   "mimetype": "text/x-python",
   "name": "python",
   "nbconvert_exporter": "python",
   "pygments_lexer": "ipython3",
   "version": "3.9.6"
  }
 },
 "nbformat": 4,
 "nbformat_minor": 2
}
