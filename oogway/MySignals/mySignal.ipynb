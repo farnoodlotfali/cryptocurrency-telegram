{
 "cells": [
  {
   "cell_type": "code",
   "execution_count": 1,
   "metadata": {},
   "outputs": [
    {
     "ename": "KeyError",
     "evalue": "'DEBUG'",
     "output_type": "error",
     "traceback": [
      "\u001b[1;31m---------------------------------------------------------------------------\u001b[0m",
      "\u001b[1;31mKeyError\u001b[0m                                  Traceback (most recent call last)",
      "Cell \u001b[1;32mIn[1], line 17\u001b[0m\n\u001b[0;32m     15\u001b[0m sys\u001b[38;5;241m.\u001b[39mpath\u001b[38;5;241m.\u001b[39mappend(project_path)\n\u001b[0;32m     16\u001b[0m os\u001b[38;5;241m.\u001b[39menviron\u001b[38;5;241m.\u001b[39msetdefault(\u001b[38;5;124m'\u001b[39m\u001b[38;5;124mDJANGO_SETTINGS_MODULE\u001b[39m\u001b[38;5;124m'\u001b[39m, \u001b[38;5;124m'\u001b[39m\u001b[38;5;124moogway.settings\u001b[39m\u001b[38;5;124m'\u001b[39m)\n\u001b[1;32m---> 17\u001b[0m \u001b[43mdjango\u001b[49m\u001b[38;5;241;43m.\u001b[39;49m\u001b[43msetup\u001b[49m\u001b[43m(\u001b[49m\u001b[43m)\u001b[49m\n",
      "File \u001b[1;32me:\\tamrin\\oogway\\oogway - new git\\cryptocurrency-telegram\\.venv\\Lib\\site-packages\\django\\__init__.py:19\u001b[0m, in \u001b[0;36msetup\u001b[1;34m(set_prefix)\u001b[0m\n\u001b[0;32m     16\u001b[0m \u001b[38;5;28;01mfrom\u001b[39;00m \u001b[38;5;21;01mdjango\u001b[39;00m\u001b[38;5;21;01m.\u001b[39;00m\u001b[38;5;21;01murls\u001b[39;00m \u001b[38;5;28;01mimport\u001b[39;00m set_script_prefix\n\u001b[0;32m     17\u001b[0m \u001b[38;5;28;01mfrom\u001b[39;00m \u001b[38;5;21;01mdjango\u001b[39;00m\u001b[38;5;21;01m.\u001b[39;00m\u001b[38;5;21;01mutils\u001b[39;00m\u001b[38;5;21;01m.\u001b[39;00m\u001b[38;5;21;01mlog\u001b[39;00m \u001b[38;5;28;01mimport\u001b[39;00m configure_logging\n\u001b[1;32m---> 19\u001b[0m configure_logging(\u001b[43msettings\u001b[49m\u001b[38;5;241;43m.\u001b[39;49m\u001b[43mLOGGING_CONFIG\u001b[49m, settings\u001b[38;5;241m.\u001b[39mLOGGING)\n\u001b[0;32m     20\u001b[0m \u001b[38;5;28;01mif\u001b[39;00m set_prefix:\n\u001b[0;32m     21\u001b[0m     set_script_prefix(\n\u001b[0;32m     22\u001b[0m         \u001b[38;5;124m\"\u001b[39m\u001b[38;5;124m/\u001b[39m\u001b[38;5;124m\"\u001b[39m \u001b[38;5;28;01mif\u001b[39;00m settings\u001b[38;5;241m.\u001b[39mFORCE_SCRIPT_NAME \u001b[38;5;129;01mis\u001b[39;00m \u001b[38;5;28;01mNone\u001b[39;00m \u001b[38;5;28;01melse\u001b[39;00m settings\u001b[38;5;241m.\u001b[39mFORCE_SCRIPT_NAME\n\u001b[0;32m     23\u001b[0m     )\n",
      "File \u001b[1;32me:\\tamrin\\oogway\\oogway - new git\\cryptocurrency-telegram\\.venv\\Lib\\site-packages\\django\\conf\\__init__.py:102\u001b[0m, in \u001b[0;36mLazySettings.__getattr__\u001b[1;34m(self, name)\u001b[0m\n\u001b[0;32m    100\u001b[0m \u001b[38;5;250m\u001b[39m\u001b[38;5;124;03m\"\"\"Return the value of a setting and cache it in self.__dict__.\"\"\"\u001b[39;00m\n\u001b[0;32m    101\u001b[0m \u001b[38;5;28;01mif\u001b[39;00m (_wrapped \u001b[38;5;241m:=\u001b[39m \u001b[38;5;28mself\u001b[39m\u001b[38;5;241m.\u001b[39m_wrapped) \u001b[38;5;129;01mis\u001b[39;00m empty:\n\u001b[1;32m--> 102\u001b[0m     \u001b[38;5;28;43mself\u001b[39;49m\u001b[38;5;241;43m.\u001b[39;49m\u001b[43m_setup\u001b[49m\u001b[43m(\u001b[49m\u001b[43mname\u001b[49m\u001b[43m)\u001b[49m\n\u001b[0;32m    103\u001b[0m     _wrapped \u001b[38;5;241m=\u001b[39m \u001b[38;5;28mself\u001b[39m\u001b[38;5;241m.\u001b[39m_wrapped\n\u001b[0;32m    104\u001b[0m val \u001b[38;5;241m=\u001b[39m \u001b[38;5;28mgetattr\u001b[39m(_wrapped, name)\n",
      "File \u001b[1;32me:\\tamrin\\oogway\\oogway - new git\\cryptocurrency-telegram\\.venv\\Lib\\site-packages\\django\\conf\\__init__.py:89\u001b[0m, in \u001b[0;36mLazySettings._setup\u001b[1;34m(self, name)\u001b[0m\n\u001b[0;32m     81\u001b[0m     desc \u001b[38;5;241m=\u001b[39m (\u001b[38;5;124m\"\u001b[39m\u001b[38;5;124msetting \u001b[39m\u001b[38;5;132;01m%s\u001b[39;00m\u001b[38;5;124m\"\u001b[39m \u001b[38;5;241m%\u001b[39m name) \u001b[38;5;28;01mif\u001b[39;00m name \u001b[38;5;28;01melse\u001b[39;00m \u001b[38;5;124m\"\u001b[39m\u001b[38;5;124msettings\u001b[39m\u001b[38;5;124m\"\u001b[39m\n\u001b[0;32m     82\u001b[0m     \u001b[38;5;28;01mraise\u001b[39;00m ImproperlyConfigured(\n\u001b[0;32m     83\u001b[0m         \u001b[38;5;124m\"\u001b[39m\u001b[38;5;124mRequested \u001b[39m\u001b[38;5;132;01m%s\u001b[39;00m\u001b[38;5;124m, but settings are not configured. \u001b[39m\u001b[38;5;124m\"\u001b[39m\n\u001b[0;32m     84\u001b[0m         \u001b[38;5;124m\"\u001b[39m\u001b[38;5;124mYou must either define the environment variable \u001b[39m\u001b[38;5;132;01m%s\u001b[39;00m\u001b[38;5;124m \u001b[39m\u001b[38;5;124m\"\u001b[39m\n\u001b[0;32m     85\u001b[0m         \u001b[38;5;124m\"\u001b[39m\u001b[38;5;124mor call settings.configure() before accessing settings.\u001b[39m\u001b[38;5;124m\"\u001b[39m\n\u001b[0;32m     86\u001b[0m         \u001b[38;5;241m%\u001b[39m (desc, ENVIRONMENT_VARIABLE)\n\u001b[0;32m     87\u001b[0m     )\n\u001b[1;32m---> 89\u001b[0m \u001b[38;5;28mself\u001b[39m\u001b[38;5;241m.\u001b[39m_wrapped \u001b[38;5;241m=\u001b[39m \u001b[43mSettings\u001b[49m\u001b[43m(\u001b[49m\u001b[43msettings_module\u001b[49m\u001b[43m)\u001b[49m\n",
      "File \u001b[1;32me:\\tamrin\\oogway\\oogway - new git\\cryptocurrency-telegram\\.venv\\Lib\\site-packages\\django\\conf\\__init__.py:217\u001b[0m, in \u001b[0;36mSettings.__init__\u001b[1;34m(self, settings_module)\u001b[0m\n\u001b[0;32m    214\u001b[0m \u001b[38;5;66;03m# store the settings module in case someone later cares\u001b[39;00m\n\u001b[0;32m    215\u001b[0m \u001b[38;5;28mself\u001b[39m\u001b[38;5;241m.\u001b[39mSETTINGS_MODULE \u001b[38;5;241m=\u001b[39m settings_module\n\u001b[1;32m--> 217\u001b[0m mod \u001b[38;5;241m=\u001b[39m \u001b[43mimportlib\u001b[49m\u001b[38;5;241;43m.\u001b[39;49m\u001b[43mimport_module\u001b[49m\u001b[43m(\u001b[49m\u001b[38;5;28;43mself\u001b[39;49m\u001b[38;5;241;43m.\u001b[39;49m\u001b[43mSETTINGS_MODULE\u001b[49m\u001b[43m)\u001b[49m\n\u001b[0;32m    219\u001b[0m tuple_settings \u001b[38;5;241m=\u001b[39m (\n\u001b[0;32m    220\u001b[0m     \u001b[38;5;124m\"\u001b[39m\u001b[38;5;124mALLOWED_HOSTS\u001b[39m\u001b[38;5;124m\"\u001b[39m,\n\u001b[0;32m    221\u001b[0m     \u001b[38;5;124m\"\u001b[39m\u001b[38;5;124mINSTALLED_APPS\u001b[39m\u001b[38;5;124m\"\u001b[39m,\n\u001b[1;32m   (...)\u001b[0m\n\u001b[0;32m    224\u001b[0m     \u001b[38;5;124m\"\u001b[39m\u001b[38;5;124mSECRET_KEY_FALLBACKS\u001b[39m\u001b[38;5;124m\"\u001b[39m,\n\u001b[0;32m    225\u001b[0m )\n\u001b[0;32m    226\u001b[0m \u001b[38;5;28mself\u001b[39m\u001b[38;5;241m.\u001b[39m_explicit_settings \u001b[38;5;241m=\u001b[39m \u001b[38;5;28mset\u001b[39m()\n",
      "File \u001b[1;32m~\\AppData\\Local\\Programs\\Python\\Python312\\Lib\\importlib\\__init__.py:90\u001b[0m, in \u001b[0;36mimport_module\u001b[1;34m(name, package)\u001b[0m\n\u001b[0;32m     88\u001b[0m             \u001b[38;5;28;01mbreak\u001b[39;00m\n\u001b[0;32m     89\u001b[0m         level \u001b[38;5;241m+\u001b[39m\u001b[38;5;241m=\u001b[39m \u001b[38;5;241m1\u001b[39m\n\u001b[1;32m---> 90\u001b[0m \u001b[38;5;28;01mreturn\u001b[39;00m \u001b[43m_bootstrap\u001b[49m\u001b[38;5;241;43m.\u001b[39;49m\u001b[43m_gcd_import\u001b[49m\u001b[43m(\u001b[49m\u001b[43mname\u001b[49m\u001b[43m[\u001b[49m\u001b[43mlevel\u001b[49m\u001b[43m:\u001b[49m\u001b[43m]\u001b[49m\u001b[43m,\u001b[49m\u001b[43m \u001b[49m\u001b[43mpackage\u001b[49m\u001b[43m,\u001b[49m\u001b[43m \u001b[49m\u001b[43mlevel\u001b[49m\u001b[43m)\u001b[49m\n",
      "File \u001b[1;32m<frozen importlib._bootstrap>:1387\u001b[0m, in \u001b[0;36m_gcd_import\u001b[1;34m(name, package, level)\u001b[0m\n",
      "File \u001b[1;32m<frozen importlib._bootstrap>:1360\u001b[0m, in \u001b[0;36m_find_and_load\u001b[1;34m(name, import_)\u001b[0m\n",
      "File \u001b[1;32m<frozen importlib._bootstrap>:1331\u001b[0m, in \u001b[0;36m_find_and_load_unlocked\u001b[1;34m(name, import_)\u001b[0m\n",
      "File \u001b[1;32m<frozen importlib._bootstrap>:935\u001b[0m, in \u001b[0;36m_load_unlocked\u001b[1;34m(spec)\u001b[0m\n",
      "File \u001b[1;32m<frozen importlib._bootstrap_external>:995\u001b[0m, in \u001b[0;36mexec_module\u001b[1;34m(self, module)\u001b[0m\n",
      "File \u001b[1;32m<frozen importlib._bootstrap>:488\u001b[0m, in \u001b[0;36m_call_with_frames_removed\u001b[1;34m(f, *args, **kwds)\u001b[0m\n",
      "File \u001b[1;32me:\\tamrin\\oogway\\oogway - new git\\cryptocurrency-telegram\\oogway\\MySignals\\..\\oogway\\settings.py:30\u001b[0m\n\u001b[0;32m     27\u001b[0m SECRET_KEY \u001b[38;5;241m=\u001b[39m \u001b[38;5;124m'\u001b[39m\u001b[38;5;124mdjango-insecure-00*c19mcjk&dr_yy#hymme4505+vdvzknou53$^yr7bjr3xmup\u001b[39m\u001b[38;5;124m'\u001b[39m\n\u001b[0;32m     29\u001b[0m \u001b[38;5;66;03m# SECURITY WARNING: don't run with debug turned on in production!\u001b[39;00m\n\u001b[1;32m---> 30\u001b[0m DEBUG \u001b[38;5;241m=\u001b[39m \u001b[43mconfig\u001b[49m\u001b[43m[\u001b[49m\u001b[38;5;124;43m\"\u001b[39;49m\u001b[38;5;124;43mDEBUG\u001b[39;49m\u001b[38;5;124;43m\"\u001b[39;49m\u001b[43m]\u001b[49m\n\u001b[0;32m     32\u001b[0m ALLOWED_HOSTS \u001b[38;5;241m=\u001b[39m [config[\u001b[38;5;124m\"\u001b[39m\u001b[38;5;124mALLOWED_HOSTS\u001b[39m\u001b[38;5;124m\"\u001b[39m]]\n\u001b[0;32m     35\u001b[0m \u001b[38;5;66;03m# Application definition\u001b[39;00m\n",
      "\u001b[1;31mKeyError\u001b[0m: 'DEBUG'"
     ]
    }
   ],
   "source": [
    "import django\n",
    "import os\n",
    "import sys\n",
    "import shutil\n",
    "\n",
    "path='../'\n",
    "\n",
    "source_file_path = f'{path}.env'\n",
    "\n",
    "destination_file_path = '.'\n",
    "\n",
    "shutil.copy(source_file_path, destination_file_path)\n",
    "\n",
    "project_path = path \n",
    "sys.path.append(project_path)\n",
    "os.environ.setdefault('DJANGO_SETTINGS_MODULE', 'oogway.settings')\n",
    "django.setup()\n"
   ]
  },
  {
   "cell_type": "code",
   "execution_count": 6,
   "metadata": {},
   "outputs": [],
   "source": [
    "from Shared.Constant import MarketValues, PositionSideValues\n",
    "from Shared.helpers import convertDateToMilliTimeStamp\n",
    "\n",
    "# for FUTURES symbol you must add :USDT at the end.\n",
    "# example ==> BTC/USDT\n",
    "# FUTURES = BTC/USDT:USDT\n",
    "# SPOT ==> BTC/USDT(not implemented)\n",
    "\n",
    "my_signals =  [\n",
    "    {\n",
    "        'symbol': 'LINK1/USDT:USDT',\n",
    "        'start_timestamp': 1728127080000,\n",
    "        'stop_loss': 12.37,\n",
    "        'entry_price': [11.737, 12.085],\n",
    "        'take_profit': [11.541, 11.342, 11.131, 10.833, 10.47],\n",
    "        'leverage': 4,\n",
    "        'position': PositionSideValues.SHORT.value,\n",
    "        'market': MarketValues.FUTURES.value,\n",
    "    }, \n",
    "    {\n",
    "        'symbol': 'LINK/USDT:USDT',\n",
    "        'start_timestamp': 1728127080000,\n",
    "        'stop_loss': 12.37,\n",
    "        'entry_price': [11.737, 12.085],\n",
    "        'take_profit': [11.541, 11.342, 11.131, 10.833, 10.47],\n",
    "        'leverage': 4,\n",
    "        'position': PositionSideValues.SHORT.value,\n",
    "        'market': MarketValues.FUTURES.value,\n",
    "    }, \n",
    "    {\n",
    "        'symbol': 'ETH/USDT:USDT',\n",
    "        'start_timestamp': convertDateToMilliTimeStamp(2024,10,29,15,37,0),\n",
    "        'stop_loss': 2644.44,\n",
    "        'entry_price': [2633.44, 2638.3],\n",
    "        'take_profit': [2628.43, 2623.51, 2618.7, 2610.81],\n",
    "        'leverage': 30,\n",
    "        'position': PositionSideValues.SHORT.value,\n",
    "        'market': MarketValues.FUTURES.value,\n",
    "    },\n",
    "    {\n",
    "        'symbol': 'ONE/USDT:USDT',\n",
    "        'start_timestamp': convertDateToMilliTimeStamp(2024,10,23,11,47,0),\n",
    "        'stop_loss': 0.01283,\n",
    "        'entry_price': [0.0134, 0.013],\n",
    "        'take_profit': [0.01359, 0.01379, 0.01398, 0.01419, 0.01455],\n",
    "        'leverage': 5,\n",
    "        'position': PositionSideValues.LONG.value,\n",
    "        'market': MarketValues.FUTURES.value,\n",
    "    },\n",
    "    {\n",
    "        'symbol': 'DYDX/USDT:USDT',\n",
    "        'start_timestamp': convertDateToMilliTimeStamp(2024,10,1,12,2,0),\n",
    "        'stop_loss': 1.113,\n",
    "        'entry_price': [1.076, 1.091],\n",
    "        'take_profit': [1.064, 1.05, 1.036, 1.022, 0.996],\n",
    "        'leverage': 5,\n",
    "        'position': PositionSideValues.SHORT.value,\n",
    "        'market': MarketValues.FUTURES.value,\n",
    "    },\n",
    "]"
   ]
  },
  {
   "cell_type": "code",
   "execution_count": 7,
   "metadata": {},
   "outputs": [
    {
     "name": "stdout",
     "output_type": "stream",
     "text": [
      "LINK1/USDT:USDT\n"
     ]
    },
    {
     "data": {
      "text/html": [
       "<p style='color:#c01;'>json is empty</p>"
      ],
      "text/plain": [
       "<IPython.core.display.HTML object>"
      ]
     },
     "metadata": {},
     "output_type": "display_data"
    },
    {
     "name": "stdout",
     "output_type": "stream",
     "text": [
      "LINK/USDT:USDT\n"
     ]
    },
    {
     "data": {
      "text/html": [
       "<p style='color:#f6cd28;'>LData exists</p>"
      ],
      "text/plain": [
       "<IPython.core.display.HTML object>"
      ]
     },
     "metadata": {},
     "output_type": "display_data"
    },
    {
     "name": "stdout",
     "output_type": "stream",
     "text": [
      "{'tps': [[1728313200000, 11.556, 11.56, 11.537, 11.549, 1333.2], [1728326160000, 11.352, 11.365, 11.341, 11.363, 1045.8], [1728342000000, 11.175, 11.18, 11.112, 11.123, 4725.3], [1728415200000, 10.85, 10.852, 10.826, 10.828, 2863.5], [1728505440000, 10.479, 10.484, 10.469, 10.478, 3363.1]], 'entry_reached': [[1728311040000, 11.713, 11.737, 11.706, 11.707, 3260.7]], 'stop_loss_reached': None, 'break_reason': None}\n"
     ]
    },
    {
     "data": {
      "text/html": [
       "<p style='color:#0f0;'>********************************************************************************************************************</p>"
      ],
      "text/plain": [
       "<IPython.core.display.HTML object>"
      ]
     },
     "metadata": {},
     "output_type": "display_data"
    },
    {
     "name": "stdout",
     "output_type": "stream",
     "text": [
      "ETH/USDT:USDT\n"
     ]
    },
    {
     "data": {
      "text/html": [
       "<p style='color:#f6cd28;'>LData exists</p>"
      ],
      "text/plain": [
       "<IPython.core.display.HTML object>"
      ]
     },
     "metadata": {},
     "output_type": "display_data"
    },
    {
     "name": "stdout",
     "output_type": "stream",
     "text": [
      "{'tps': [[1730210880000, 2633.04, 2633.06, 2625.39, 2627.48, 430.92], [1730211600000, 2624.77, 2624.77, 2621.73, 2622.84, 303.75], [1730211720000, 2619.76, 2622.18, 2616.52, 2621.74, 508.54]], 'entry_reached': [[1730210100000, 2630.35, 2637.0, 2630.33, 2632.94, 457.09], [1730210400000, 2636.35, 2638.84, 2631.76, 2632.93, 590.58]], 'stop_loss_reached': [1730217360000, 2643.04, 2646.81, 2643.0, 2646.71, 301.22], 'break_reason': None}\n"
     ]
    },
    {
     "data": {
      "text/html": [
       "<p style='color:#0f0;'>********************************************************************************************************************</p>"
      ],
      "text/plain": [
       "<IPython.core.display.HTML object>"
      ]
     },
     "metadata": {},
     "output_type": "display_data"
    },
    {
     "name": "stdout",
     "output_type": "stream",
     "text": [
      "ONE/USDT:USDT\n"
     ]
    },
    {
     "data": {
      "text/html": [
       "<p style='color:#f6cd28;'>LData exists</p>"
      ],
      "text/plain": [
       "<IPython.core.display.HTML object>"
      ]
     },
     "metadata": {},
     "output_type": "display_data"
    },
    {
     "name": "stdout",
     "output_type": "stream",
     "text": [
      "{'tps': [], 'entry_reached': [[1729671540000, 0.01343, 0.01343, 0.0134, 0.0134, 560616.0], [1729696380000, 0.01304, 0.01304, 0.013, 0.013, 140919.0]], 'stop_loss_reached': [1729702440000, 0.01286, 0.01286, 0.01281, 0.01281, 1147517.0], 'break_reason': None}\n"
     ]
    },
    {
     "data": {
      "text/html": [
       "<p style='color:#0f0;'>********************************************************************************************************************</p>"
      ],
      "text/plain": [
       "<IPython.core.display.HTML object>"
      ]
     },
     "metadata": {},
     "output_type": "display_data"
    },
    {
     "name": "stdout",
     "output_type": "stream",
     "text": [
      "DYDX/USDT:USDT\n"
     ]
    },
    {
     "data": {
      "text/html": [
       "<p style='color:#f6cd28;'>LData exists</p>"
      ],
      "text/plain": [
       "<IPython.core.display.HTML object>"
      ]
     },
     "metadata": {},
     "output_type": "display_data"
    },
    {
     "data": {
      "text/html": [
       "<p style='color:#00f;'>get new data</p>"
      ],
      "text/plain": [
       "<IPython.core.display.HTML object>"
      ]
     },
     "metadata": {},
     "output_type": "display_data"
    },
    {
     "data": {
      "text/html": [
       "<p style='color:#ff0;'>stop_timestamp</p>"
      ],
      "text/plain": [
       "<IPython.core.display.HTML object>"
      ]
     },
     "metadata": {},
     "output_type": "display_data"
    },
    {
     "data": {
      "text/html": [
       "<p style='color:#ada;'>saving historic tohlcv data to json</p>"
      ],
      "text/plain": [
       "<IPython.core.display.HTML object>"
      ]
     },
     "metadata": {},
     "output_type": "display_data"
    },
    {
     "name": "stdout",
     "output_type": "stream",
     "text": [
      "{'tps': [], 'entry_reached': [], 'stop_loss_reached': None, 'break_reason': 'WAIT MANY DAYS'}\n"
     ]
    },
    {
     "data": {
      "text/html": [
       "<p style='color:#0f0;'>********************************************************************************************************************</p>"
      ],
      "text/plain": [
       "<IPython.core.display.HTML object>"
      ]
     },
     "metadata": {},
     "output_type": "display_data"
    }
   ],
   "source": [
    "from Shared.findLongOrderStat import findLongOrderStat\n",
    "from Shared.findShortOrderStat import findShortOrderStat\n",
    "from Shared.findError import findError\n",
    "from Shared.helpers import print_colored\n",
    "from Shared.types import Stat\n",
    "from Shared.Constant import PostStatusValues\n",
    "\n",
    "\n",
    "\n",
    "# max_day_wait helps avoid more waiting for a order status(can be None or int)\n",
    "max_day_wait = 10\n",
    "\n",
    "results = []\n",
    "\n",
    "for signal in my_signals:\n",
    "    try:\n",
    "        signal_take_profit = signal['take_profit']\n",
    "        signal_symbol = signal['symbol']\n",
    "        signal_leverage = signal['leverage']\n",
    "        signal_stop_loss = signal['stop_loss']\n",
    "        signal_entry_price = signal['entry_price']\n",
    "        signal_first_entry_value = signal_entry_price[0]\n",
    "        signal_position = signal['position']\n",
    "        signal_market = signal['market']\n",
    "        signal_start_timestamp = signal['start_timestamp']\n",
    "\n",
    "        status_value = PostStatusValues.PENDING.value\n",
    "        status_type = 0\n",
    "\n",
    "        isSHORT = signal_position == PositionSideValues.SHORT.value\n",
    "        print(signal_symbol)\n",
    "\n",
    "        is_error, is_error_message = findError(signal_position if signal_market != MarketValues.SPOT.value else PositionSideValues.BUY.value, signal_take_profit, signal_entry_price, signal_stop_loss)\n",
    "\n",
    "\n",
    "        if is_error:\n",
    "            status_value = PostStatusValues.ERROR.value\n",
    "\n",
    "        else:\n",
    "            if isSHORT:\n",
    "                stat: Stat = await findShortOrderStat(\n",
    "                    stop_loss=signal_stop_loss,\n",
    "                    entry_price=signal_entry_price,\n",
    "                    symbolName=signal_symbol,\n",
    "                    take_profit=signal_take_profit,\n",
    "                    start_timestamp=signal_start_timestamp,\n",
    "                    marketName=signal_market,\n",
    "                    max_day_wait=max_day_wait\n",
    "                )\n",
    "            else:\n",
    "                stat: Stat = await findLongOrderStat(                \n",
    "                    stop_loss=signal_stop_loss,\n",
    "                    entry_price=signal_entry_price,\n",
    "                    symbolName=signal_symbol,\n",
    "                    take_profit=signal_take_profit,\n",
    "                    start_timestamp=signal_start_timestamp,\n",
    "                    marketName=signal_market,\n",
    "                    max_day_wait=max_day_wait\n",
    "                )\n",
    "\n",
    "\n",
    "            print(stat)\n",
    "            # stat['name'] = f'{symbol_value.name}, {position_value.name}'\n",
    "            print_colored(\"********************************************************************************************************************\",\"#0f0\")\n",
    "            tps_length = len(stat['tps'])\n",
    "            profit_value = 0\n",
    "\n",
    "            if stat['break_reason']:\n",
    "                status_value = PostStatusValues.WAIT_MANY_DAYS.value\n",
    "\n",
    "            elif stat['stop_loss_reached']:\n",
    "                if tps_length > 0:\n",
    "                    status_value = PostStatusValues.FAILED_WITH_PROFIT.value\n",
    "                    status_type = tps_length\n",
    "                else:\n",
    "                    status_value = PostStatusValues.FAILED.value\n",
    "                    status_type = -1\n",
    "\n",
    "                profit_value = round(((float(signal_stop_loss)/float(signal_first_entry_value))-1)*100*float(signal_leverage) * (-1 if isSHORT else 1), 5)\n",
    "            \n",
    "            else:\n",
    "                if tps_length == len(signal_take_profit):\n",
    "                    status_value = PostStatusValues.FULLTARGET.value\n",
    "                    status_type = 1000\n",
    "                    profit_value = round(abs(((signal_take_profit[tps_length-1]/signal_first_entry_value)-1)*100*signal_leverage), 5)\n",
    "\n",
    "                elif tps_length > 0:\n",
    "                    status_value = PostStatusValues.SUCCESS.value\n",
    "                    status_type = tps_length\n",
    "                    profit_value = round(abs(((signal_take_profit[tps_length-1]/signal_first_entry_value)-1)*100*signal_leverage), 5)\n",
    "\n",
    "\n",
    "\n",
    "        signal[\"status\"] = status_value\n",
    "        signal[\"status_type\"] = status_type\n",
    "        signal[\"profit_value\"] = profit_value\n",
    "        results.append(signal)\n",
    "\n",
    "    except Exception as e:\n",
    "        signal[\"status\"] = PostStatusValues.ERROR.value\n",
    "        signal[\"status_type\"] = 0\n",
    "        signal[\"profit_value\"] = 0\n",
    "        signal[\"error\"] = e\n",
    "        results.append(signal)\n",
    "\n",
    "\n",
    "\n",
    "\n"
   ]
  },
  {
   "cell_type": "code",
   "execution_count": 8,
   "metadata": {},
   "outputs": [
    {
     "data": {
      "text/html": [
       "<div>\n",
       "<style scoped>\n",
       "    .dataframe tbody tr th:only-of-type {\n",
       "        vertical-align: middle;\n",
       "    }\n",
       "\n",
       "    .dataframe tbody tr th {\n",
       "        vertical-align: top;\n",
       "    }\n",
       "\n",
       "    .dataframe thead th {\n",
       "        text-align: right;\n",
       "    }\n",
       "</style>\n",
       "<table border=\"1\" class=\"dataframe\">\n",
       "  <thead>\n",
       "    <tr style=\"text-align: right;\">\n",
       "      <th></th>\n",
       "      <th>symbol</th>\n",
       "      <th>date</th>\n",
       "      <th>position</th>\n",
       "      <th>market</th>\n",
       "      <th>status</th>\n",
       "      <th>status_type</th>\n",
       "      <th>profit</th>\n",
       "      <th>error</th>\n",
       "    </tr>\n",
       "  </thead>\n",
       "  <tbody>\n",
       "    <tr>\n",
       "      <th>0</th>\n",
       "      <td>LINK1/USDT:USDT</td>\n",
       "      <td>october 05, 2024, 02:48 p.m</td>\n",
       "      <td>SHORT</td>\n",
       "      <td>FUTURES</td>\n",
       "      <td>ERROR</td>\n",
       "      <td>0</td>\n",
       "      <td>0.00000</td>\n",
       "      <td>bingx does not have market symbol LINK1/USDT:USDT</td>\n",
       "    </tr>\n",
       "    <tr>\n",
       "      <th>1</th>\n",
       "      <td>LINK/USDT:USDT</td>\n",
       "      <td>october 05, 2024, 02:48 p.m</td>\n",
       "      <td>SHORT</td>\n",
       "      <td>FUTURES</td>\n",
       "      <td>FULLTARGET</td>\n",
       "      <td>1000</td>\n",
       "      <td>43.17969</td>\n",
       "      <td>None</td>\n",
       "    </tr>\n",
       "    <tr>\n",
       "      <th>2</th>\n",
       "      <td>ETH/USDT:USDT</td>\n",
       "      <td>october 29, 2024, 03:37 p.m</td>\n",
       "      <td>SHORT</td>\n",
       "      <td>FUTURES</td>\n",
       "      <td>FAILED WITH PROFIT</td>\n",
       "      <td>3</td>\n",
       "      <td>-12.53114</td>\n",
       "      <td>None</td>\n",
       "    </tr>\n",
       "    <tr>\n",
       "      <th>3</th>\n",
       "      <td>ONE/USDT:USDT</td>\n",
       "      <td>october 23, 2024, 11:47 a.m</td>\n",
       "      <td>LONG</td>\n",
       "      <td>FUTURES</td>\n",
       "      <td>FAILED</td>\n",
       "      <td>-1</td>\n",
       "      <td>-21.26866</td>\n",
       "      <td>None</td>\n",
       "    </tr>\n",
       "    <tr>\n",
       "      <th>4</th>\n",
       "      <td>DYDX/USDT:USDT</td>\n",
       "      <td>october 01, 2024, 12:02 p.m</td>\n",
       "      <td>SHORT</td>\n",
       "      <td>FUTURES</td>\n",
       "      <td>WAIT MANY DAYS</td>\n",
       "      <td>0</td>\n",
       "      <td>0.00000</td>\n",
       "      <td>None</td>\n",
       "    </tr>\n",
       "  </tbody>\n",
       "</table>\n",
       "</div>"
      ],
      "text/plain": [
       "            symbol                         date position   market  \\\n",
       "0  LINK1/USDT:USDT  october 05, 2024, 02:48 p.m    SHORT  FUTURES   \n",
       "1   LINK/USDT:USDT  october 05, 2024, 02:48 p.m    SHORT  FUTURES   \n",
       "2    ETH/USDT:USDT  october 29, 2024, 03:37 p.m    SHORT  FUTURES   \n",
       "3    ONE/USDT:USDT  october 23, 2024, 11:47 a.m     LONG  FUTURES   \n",
       "4   DYDX/USDT:USDT  october 01, 2024, 12:02 p.m    SHORT  FUTURES   \n",
       "\n",
       "               status  status_type    profit  \\\n",
       "0               ERROR            0   0.00000   \n",
       "1          FULLTARGET         1000  43.17969   \n",
       "2  FAILED WITH PROFIT            3 -12.53114   \n",
       "3              FAILED           -1 -21.26866   \n",
       "4      WAIT MANY DAYS            0   0.00000   \n",
       "\n",
       "                                               error  \n",
       "0  bingx does not have market symbol LINK1/USDT:USDT  \n",
       "1                                               None  \n",
       "2                                               None  \n",
       "3                                               None  \n",
       "4                                               None  "
      ]
     },
     "execution_count": 8,
     "metadata": {},
     "output_type": "execute_result"
    }
   ],
   "source": [
    "import pandas as pd\n",
    "from Shared.helpers import convertTimestampToDateTime\n",
    "\n",
    "formatted_res = []\n",
    "\n",
    "\n",
    "for res in results:\n",
    "    formatted_res.append({\n",
    "        'symbol': res['symbol'],\n",
    "        'date': convertTimestampToDateTime( res['start_timestamp']),\n",
    "        'position': res['position'],\n",
    "        'market': res['market'],\n",
    "        'status': res['status'],\n",
    "        'status_type': res['status_type'],\n",
    "        'profit': res['profit_value'],\n",
    "        'error': res.get('error', None),\n",
    "    })\n",
    "\n",
    "df = pd.DataFrame(formatted_res)\n",
    "\n",
    "# df.to_csv('results.csv', index=False)\n",
    "df\n"
   ]
  }
 ],
 "metadata": {
  "kernelspec": {
   "display_name": ".venv",
   "language": "python",
   "name": "python3"
  },
  "language_info": {
   "codemirror_mode": {
    "name": "ipython",
    "version": 3
   },
   "file_extension": ".py",
   "mimetype": "text/x-python",
   "name": "python",
   "nbconvert_exporter": "python",
   "pygments_lexer": "ipython3",
   "version": "3.12.6"
  }
 },
 "nbformat": 4,
 "nbformat_minor": 2
}
