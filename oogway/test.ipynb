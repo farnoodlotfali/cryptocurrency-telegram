{
 "cells": [
  {
   "cell_type": "code",
   "execution_count": 2,
   "metadata": {},
   "outputs": [],
   "source": [
    "# https://github.com/cgohlke/talib-build\n",
    "import talib\n",
    "import numpy as np\n",
    "c = np.random.randn(100)\n",
    "\n",
    "# this is the library function\n",
    "k, d = talib.STOCHRSI(c)\n",
    "\n",
    "# this produces the same result, calling STOCHF\n",
    "rsi = talib.RSI(c)\n",
    "k, d = talib.STOCHF(rsi, rsi, rsi)\n",
    "\n",
    "# you might want this instead, calling STOCH\n",
    "rsi = talib.RSI(c)\n",
    "k, d = talib.STOCH(rsi, rsi, rsi)"
   ]
  },
  {
   "cell_type": "code",
   "execution_count": null,
   "metadata": {},
   "outputs": [],
   "source": [
    "from Shared.Exchange import exchange\n",
    "\n",
    "exchange.fetch_ohlcv(symbol=\"BTC/USDT:USDT\")\n",
    "\n",
    "exchange.fetch_ohlcv(\"BTC/USDT:USDT\",since=1720689000000, timeframe=\"1m\",limit=1440,params={\n",
    "    # 'until': 1726412771000,\n",
    "    # 'paginate':True\n",
    "})"
   ]
  }
 ],
 "metadata": {
  "kernelspec": {
   "display_name": ".venv",
   "language": "python",
   "name": "python3"
  },
  "language_info": {
   "codemirror_mode": {
    "name": "ipython",
    "version": 3
   },
   "file_extension": ".py",
   "mimetype": "text/x-python",
   "name": "python",
   "nbconvert_exporter": "python",
   "pygments_lexer": "ipython3",
   "version": "3.12.6"
  }
 },
 "nbformat": 4,
 "nbformat_minor": 2
}
