{
 "cells": [
  {
   "cell_type": "code",
   "execution_count": 4,
   "metadata": {},
   "outputs": [],
   "source": [
    "import django\n",
    "import os\n",
    "import sys\n",
    "import shutil\n",
    "\n",
    "path='../'\n",
    "\n",
    "source_file_path = f'{path}.env'\n",
    "\n",
    "destination_file_path = '.'\n",
    "\n",
    "shutil.copy(source_file_path, destination_file_path)\n",
    "\n",
    "from dotenv import dotenv_values\n",
    "\n",
    "_config = dotenv_values(\".env\")\n",
    "_username = _config[\"username\"]\n",
    "\n",
    "session_file_path = f'{path}{_username}.session'\n",
    "\n",
    "shutil.copy(session_file_path, destination_file_path)\n",
    "\n",
    "\n",
    "project_path = path  # Adjust this to your actual project path\n",
    "sys.path.append(project_path)\n",
    "os.environ.setdefault('DJANGO_SETTINGS_MODULE', 'oogway.settings')\n",
    "django.setup()\n"
   ]
  },
  {
   "cell_type": "code",
   "execution_count": 5,
   "metadata": {},
   "outputs": [],
   "source": [
    "from Strategies.Strategy10.StrategyNoModel import Strategy10\n",
    "from Shared.types import PredictNoModel\n",
    "from Shared.helpers import convertDateToMilliTimeStamp\n",
    "from Shared.Constant import MarketValues, PositionSideValues, MarginModeValues\n",
    "import warnings\n",
    "\n",
    "\n",
    "# Disable all warnings\n",
    "warnings.filterwarnings(\"ignore\")\n"
   ]
  },
  {
   "cell_type": "code",
   "execution_count": 6,
   "metadata": {},
   "outputs": [
    {
     "name": "stdout",
     "output_type": "stream",
     "text": [
      "BNB/USDT:USDT, current_money: 1000, blocked_money: 0\n",
      "money_taken: 25, current_money: 975\n",
      "profit: -13.82, money back: 11.18\n",
      "current_money: 986.18\n",
      "\n",
      "\n",
      "\n"
     ]
    },
    {
     "data": {
      "text/html": [
       "<p style='color:gold;'>initial money: 1000</p>"
      ],
      "text/plain": [
       "<IPython.core.display.HTML object>"
      ]
     },
     "metadata": {},
     "output_type": "display_data"
    },
    {
     "data": {
      "text/html": [
       "<p style='color:#1da44f;'>total_opening_orders: 1</p>"
      ],
      "text/plain": [
       "<IPython.core.display.HTML object>"
      ]
     },
     "metadata": {},
     "output_type": "display_data"
    },
    {
     "data": {
      "text/html": [
       "<p style='color:pink;'>total_loss: -13.81591</p>"
      ],
      "text/plain": [
       "<IPython.core.display.HTML object>"
      ]
     },
     "metadata": {},
     "output_type": "display_data"
    },
    {
     "data": {
      "text/html": [
       "<p style='color:green;'>total_profit: 0</p>"
      ],
      "text/plain": [
       "<IPython.core.display.HTML object>"
      ]
     },
     "metadata": {},
     "output_type": "display_data"
    },
    {
     "data": {
      "text/html": [
       "<p style='color:deeppink;'>gross: -13.81591</p>"
      ],
      "text/plain": [
       "<IPython.core.display.HTML object>"
      ]
     },
     "metadata": {},
     "output_type": "display_data"
    },
    {
     "data": {
      "text/html": [
       "<p style='color:grey;'>total_pending: 0</p>"
      ],
      "text/plain": [
       "<IPython.core.display.HTML object>"
      ]
     },
     "metadata": {},
     "output_type": "display_data"
    },
    {
     "data": {
      "text/html": [
       "<p style='color:orange;'>my free money: 986.18409</p>"
      ],
      "text/plain": [
       "<IPython.core.display.HTML object>"
      ]
     },
     "metadata": {},
     "output_type": "display_data"
    },
    {
     "data": {
      "text/html": [
       "<p style='color:#d16984;'>my total money: 986.18409</p>"
      ],
      "text/plain": [
       "<IPython.core.display.HTML object>"
      ]
     },
     "metadata": {},
     "output_type": "display_data"
    },
    {
     "data": {
      "text/html": [
       "<p style='color:#a1309d;'>profit_count: 0, loss_count: 1, pending_count: 0, missed_count: 0</p>"
      ],
      "text/plain": [
       "<IPython.core.display.HTML object>"
      ]
     },
     "metadata": {},
     "output_type": "display_data"
    }
   ],
   "source": [
    "\n",
    "\n",
    "predicts: list[PredictNoModel] = [\n",
    "    {\n",
    "        'id': 1,              \n",
    "        'tps': [550.4, 548.85, 547.35],                 \n",
    "        'entries': [551.9, 554.2],         \n",
    "        'stop_loss': 554.95,\n",
    "        'symbol': 'BNB/USDT:USDT',\n",
    "        'market': MarketValues.FUTURES.value,\n",
    "        'position': PositionSideValues.SHORT.value,\n",
    "        'leverage': 25,\n",
    "        'margin_mode': MarginModeValues.ISOLATED.value,\n",
    "        # 'date': 1727849506000,\n",
    "        'date': convertDateToMilliTimeStamp(year=2024, month=10, day=2, hour=9, minute=41, second=46) # == 1727849506000\n",
    "    }\n",
    "]\n",
    "\n",
    "my_money = 1000\n",
    "strategy10 = Strategy10(money=my_money,timeZone='Asia/Tehran')\n",
    "await strategy10.backtest_with_money_strategy_10(predicts=predicts, close_tp=4, showPrint=not False, positionSize=25)\n",
    "strategy10.report()"
   ]
  }
 ],
 "metadata": {
  "kernelspec": {
   "display_name": ".venv",
   "language": "python",
   "name": "python3"
  },
  "language_info": {
   "codemirror_mode": {
    "name": "ipython",
    "version": 3
   },
   "file_extension": ".py",
   "mimetype": "text/x-python",
   "name": "python",
   "nbconvert_exporter": "python",
   "pygments_lexer": "ipython3",
   "version": "3.12.6"
  }
 },
 "nbformat": 4,
 "nbformat_minor": 2
}
