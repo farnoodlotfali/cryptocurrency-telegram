{
 "cells": [
  {
   "cell_type": "code",
   "execution_count": null,
   "metadata": {},
   "outputs": [],
   "source": [
    "import django\n",
    "import os\n",
    "import sys\n",
    "import shutil\n",
    "\n",
    "path='../'\n",
    "\n",
    "source_file_path = f'{path}.env'\n",
    "\n",
    "destination_file_path = '.'\n",
    "\n",
    "shutil.copy(source_file_path, destination_file_path)\n",
    "\n",
    "from dotenv import dotenv_values\n",
    "\n",
    "_config = dotenv_values(\".env\")\n",
    "_username = _config[\"username\"]\n",
    "\n",
    "session_file_path = f'{path}{_username}.session'\n",
    "\n",
    "# shutil.copy(session_file_path, destination_file_path)\n",
    "\n",
    "\n",
    "project_path = path  # Adjust this to your actual project path\n",
    "sys.path.append(project_path)\n",
    "os.environ.setdefault('DJANGO_SETTINGS_MODULE', 'oogway.settings')\n",
    "django.setup()\n"
   ]
  },
  {
   "cell_type": "code",
   "execution_count": null,
   "metadata": {},
   "outputs": [],
   "source": [
    "from asgiref.sync import sync_to_async\n",
    "from PostAnalyzer.models import (\n",
    "    Predict,\n",
    ")\n",
    "import warnings\n",
    "\n",
    "config = dotenv_values(\".env\")\n",
    "\n",
    "\n",
    "# Disable all warnings\n",
    "warnings.filterwarnings(\"ignore\")\n",
    "\n",
    "\n"
   ]
  },
  {
   "cell_type": "markdown",
   "metadata": {},
   "source": [
    "## Strategy1"
   ]
  },
  {
   "cell_type": "code",
   "execution_count": null,
   "metadata": {},
   "outputs": [],
   "source": [
    "from Strategies.Strategy1.Strategy import Strategy1\n",
    "\n",
    "\n",
    "my_money = 1000\n",
    "strategy1 = Strategy1(money=my_money,timeZone='Asia/Tehran')\n",
    "\n",
    "\n",
    "# channel_id = config[\"CHANNEL_FEYZ\"]  \n",
    "# channel_id = config[\"CHANNEL_RASTAD\"]  \n",
    "channel_id = config[\"CHANNEL_ALI_BEY\"]  \n",
    "predicts = await sync_to_async(list)(\n",
    "    Predict.objects.filter(\n",
    "        post__channel__channel_id=channel_id\n",
    "        )\n",
    "    .order_by('date')\n",
    "    .select_related('post', 'status', 'position', 'symbol', 'market')\n",
    ")\n",
    "\n",
    "await strategy1.backtest_with_money_strategy_1(predicts=predicts, close_tp=100, showPrint= False, positionSize=25)\n",
    "strategy1.report()\n",
    "# strategy1.history\n",
    "\n"
   ]
  },
  {
   "cell_type": "markdown",
   "metadata": {},
   "source": [
    "## Strategy2"
   ]
  },
  {
   "cell_type": "code",
   "execution_count": null,
   "metadata": {},
   "outputs": [],
   "source": [
    "from Strategies.Strategy2.Strategy import Strategy2\n",
    "\n",
    "\n",
    "my_money = 1000\n",
    "strategy2 = Strategy2(money=my_money,timeZone='Asia/Tehran')\n",
    "\n",
    "\n",
    "channel_id = config[\"CHANNEL_RASTAD\"]  \n",
    "predicts = await sync_to_async(list)(\n",
    "    Predict.objects.filter(\n",
    "        post__channel__channel_id=channel_id\n",
    "        )\n",
    "    .order_by('date')\n",
    "    .select_related('post', 'status', 'position', 'symbol', 'market')\n",
    ")\n",
    "\n",
    "# await strategy2.backtest_with_money_strategy_2(predicts=predicts, close_tp=10, showPrint=not False, positionSize=25, max_percent_stoploss=8)\n",
    "# strategy2.report()\n",
    "# strategy2.history\n",
    "\n"
   ]
  },
  {
   "cell_type": "markdown",
   "metadata": {},
   "source": [
    "## Strategy3"
   ]
  },
  {
   "cell_type": "code",
   "execution_count": null,
   "metadata": {},
   "outputs": [],
   "source": [
    "from Strategies.Strategy3.Strategy import Strategy3\n",
    "\n",
    "\n",
    "my_money = 1000\n",
    "strategy3 = Strategy3(money=my_money,timeZone='Asia/Tehran')\n",
    "\n",
    "\n",
    "channel_id = config[\"CHANNEL_RASTAD\"]  \n",
    "predicts = await sync_to_async(list)(\n",
    "    Predict.objects.filter(\n",
    "        post__channel__channel_id=channel_id\n",
    "        )\n",
    "    .order_by('date')\n",
    "    .select_related('post', 'status', 'position', 'symbol', 'market')\n",
    ")\n",
    "\n",
    "# await strategy3.backtest_with_money_strategy_3(predicts=predicts, close_tp=10, showPrint=not False, positionSize=25, max_percent_stoploss=20, effect_stoploss=True)\n",
    "# strategy3.report()\n",
    "# strategy3.history\n",
    "\n"
   ]
  },
  {
   "cell_type": "markdown",
   "metadata": {},
   "source": [
    "## Strategy4"
   ]
  },
  {
   "cell_type": "code",
   "execution_count": null,
   "metadata": {},
   "outputs": [],
   "source": [
    "from Strategies.Strategy4.Strategy import Strategy4\n",
    "\n",
    "\n",
    "my_money = 1000\n",
    "strategy4 = Strategy4(money=my_money,timeZone='Asia/Tehran')\n",
    "\n",
    "\n",
    "# channel_id = config[\"CHANNEL_FEYZ\"]  \n",
    "# channel_id = config[\"CHANNEL_RASTAD\"]  \n",
    "channel_id = config[\"CHANNEL_ALI_BEY\"]  \n",
    "predicts = await sync_to_async(list)(\n",
    "    Predict.objects.filter(\n",
    "        post__channel__channel_id=channel_id\n",
    "        )\n",
    "    .order_by('date')\n",
    "    .select_related('post', 'status', 'position', 'symbol', 'market')\n",
    ")\n",
    "\n",
    "# await strategy4.backtest_with_money_strategy_4(predicts=predicts, close_tp=100, showPrint=  False, positionSize=25, max_percent_stoploss=8)\n",
    "# strategy4.report()\n",
    "# strategy4.history\n",
    "\n"
   ]
  },
  {
   "cell_type": "markdown",
   "metadata": {},
   "source": [
    "## Strategy10"
   ]
  },
  {
   "cell_type": "code",
   "execution_count": null,
   "metadata": {},
   "outputs": [],
   "source": [
    "from Strategies.Strategy10.Strategy import Strategy10\n",
    "\n",
    "\n",
    "my_money = 1000\n",
    "strategy10 = Strategy10(money=my_money,timeZone='Asia/Tehran')\n",
    "\n",
    "\n",
    "channel_id = config[\"CHANNEL_RASTAD\"]  \n",
    "predicts = await sync_to_async(list)(\n",
    "    Predict.objects.filter(\n",
    "        post__channel__channel_id=channel_id\n",
    "        )\n",
    "    .order_by('date')\n",
    "    .select_related('post', 'status', 'position', 'symbol', 'market')\n",
    ")\n",
    "\n",
    "# await strategy10.backtest_with_money_strategy_10(predicts=predicts, close_tp=10, showPrint=not False, positionSize=25)\n",
    "# strategy10.report()\n",
    "# strategy10.history\n",
    "\n"
   ]
  },
  {
   "cell_type": "markdown",
   "metadata": {},
   "source": [
    "## Strategy11"
   ]
  },
  {
   "cell_type": "code",
   "execution_count": null,
   "metadata": {},
   "outputs": [],
   "source": [
    "from Strategies.Strategy11.Strategy import Strategy11\n",
    "\n",
    "\n",
    "my_money = 1000\n",
    "strategy11 = Strategy11(money=my_money,timeZone='Asia/Tehran')\n",
    "\n",
    "channel_id = config[\"CHANNEL_RASTAD\"]  \n",
    "# channel_id = config[\"CHANNEL_FEYZ\"]  \n",
    "predicts = await sync_to_async(list)(\n",
    "    Predict.objects.filter(\n",
    "        post__channel__channel_id=channel_id\n",
    "        )\n",
    "    .order_by('date')\n",
    "    .select_related('post', 'status', 'position', 'symbol', 'market')\n",
    ")\n",
    "\n",
    "# await strategy11.backtest_with_money_strategy_11(predicts=predicts, close_tp=10, showPrint= False, positionSize=25, trendPeriod=50)\n",
    "# strategy11.report()\n",
    "# strategy11.history\n",
    "\n"
   ]
  },
  {
   "cell_type": "markdown",
   "metadata": {},
   "source": [
    "## Strategy12"
   ]
  },
  {
   "cell_type": "code",
   "execution_count": null,
   "metadata": {},
   "outputs": [],
   "source": [
    "from Strategies.Strategy12.Strategy import Strategy12\n",
    "\n",
    "\n",
    "my_money = 1000\n",
    "strategy12 = Strategy12(money=my_money,timeZone='Asia/Tehran')\n",
    "\n",
    "channel_id = config[\"CHANNEL_RASTAD\"]  \n",
    "# channel_id = config[\"CHANNEL_FEYZ\"]  \n",
    "predicts = await sync_to_async(list)(\n",
    "    Predict.objects.filter(\n",
    "        post__channel__channel_id=channel_id\n",
    "        )\n",
    "    .order_by('date')\n",
    "    .select_related('post', 'status', 'position', 'symbol', 'market')\n",
    ")\n",
    "\n",
    "# await strategy12.backtest_with_money_strategy_12(predicts=predicts, close_tp=10, showPrint= False, positionSize=25, trendPeriod=50, risk_percent= 0.6)\n",
    "# strategy12.report()\n",
    "# strategy12.history\n",
    "\n"
   ]
  }
 ],
 "metadata": {
  "kernelspec": {
   "display_name": ".venv",
   "language": "python",
   "name": "python3"
  },
  "language_info": {
   "codemirror_mode": {
    "name": "ipython",
    "version": 3
   },
   "file_extension": ".py",
   "mimetype": "text/x-python",
   "name": "python",
   "nbconvert_exporter": "python",
   "pygments_lexer": "ipython3",
   "version": "3.12.6"
  }
 },
 "nbformat": 4,
 "nbformat_minor": 2
}
