{
 "cells": [
  {
   "cell_type": "code",
   "execution_count": 1,
   "metadata": {},
   "outputs": [],
   "source": [
    "import django\n",
    "import os\n",
    "import sys\n",
    "import shutil\n",
    "\n",
    "path='../'\n",
    "\n",
    "source_file_path = f'{path}.env'\n",
    "\n",
    "destination_file_path = '.'\n",
    "\n",
    "shutil.copy(source_file_path, destination_file_path)\n",
    "\n",
    "from dotenv import dotenv_values\n",
    "\n",
    "_config = dotenv_values(\".env\")\n",
    "_username = _config[\"username\"]\n",
    "\n",
    "session_file_path = f'{path}{_username}.session'\n",
    "\n",
    "# shutil.copy(session_file_path, destination_file_path)\n",
    "\n",
    "\n",
    "project_path = path  # Adjust this to your actual project path\n",
    "sys.path.append(project_path)\n",
    "os.environ.setdefault('DJANGO_SETTINGS_MODULE', 'oogway.settings')\n",
    "django.setup()\n"
   ]
  },
  {
   "cell_type": "code",
   "execution_count": 2,
   "metadata": {},
   "outputs": [],
   "source": [
    "from asgiref.sync import sync_to_async\n",
    "from PostAnalyzer.models import (\n",
    "    Predict,\n",
    ")\n",
    "import warnings\n",
    "\n",
    "config = dotenv_values(\".env\")\n",
    "\n",
    "\n",
    "# Disable all warnings\n",
    "warnings.filterwarnings(\"ignore\")\n",
    "\n",
    "\n"
   ]
  },
  {
   "cell_type": "markdown",
   "metadata": {},
   "source": [
    "## Strategy1"
   ]
  },
  {
   "cell_type": "code",
   "execution_count": 18,
   "metadata": {},
   "outputs": [
    {
     "data": {
      "text/html": [
       "<p style='color:gold;'>initial money: 1000</p>"
      ],
      "text/plain": [
       "<IPython.core.display.HTML object>"
      ]
     },
     "metadata": {},
     "output_type": "display_data"
    },
    {
     "data": {
      "text/html": [
       "<p style='color:#1da44f;'>total_opening_orders: 1236</p>"
      ],
      "text/plain": [
       "<IPython.core.display.HTML object>"
      ]
     },
     "metadata": {},
     "output_type": "display_data"
    },
    {
     "data": {
      "text/html": [
       "<p style='color:pink;'>total_loss: -1773.0%</p>"
      ],
      "text/plain": [
       "<IPython.core.display.HTML object>"
      ]
     },
     "metadata": {},
     "output_type": "display_data"
    },
    {
     "data": {
      "text/html": [
       "<p style='color:green;'>total_profit: 1935.0% </p>"
      ],
      "text/plain": [
       "<IPython.core.display.HTML object>"
      ]
     },
     "metadata": {},
     "output_type": "display_data"
    },
    {
     "data": {
      "text/html": [
       "<p style='color:deeppink;'>gross: 162.0%</p>"
      ],
      "text/plain": [
       "<IPython.core.display.HTML object>"
      ]
     },
     "metadata": {},
     "output_type": "display_data"
    },
    {
     "data": {
      "text/html": [
       "<p style='color:grey;'>total_pending: 50</p>"
      ],
      "text/plain": [
       "<IPython.core.display.HTML object>"
      ]
     },
     "metadata": {},
     "output_type": "display_data"
    },
    {
     "data": {
      "text/html": [
       "<p style='color:orange;'>my free money: 990.5</p>"
      ],
      "text/plain": [
       "<IPython.core.display.HTML object>"
      ]
     },
     "metadata": {},
     "output_type": "display_data"
    },
    {
     "data": {
      "text/html": [
       "<p style='color:#d16984;'>my total money: 1040.5</p>"
      ],
      "text/plain": [
       "<IPython.core.display.HTML object>"
      ]
     },
     "metadata": {},
     "output_type": "display_data"
    },
    {
     "data": {
      "text/html": [
       "<p style='color:#a1309d;'>profit_count: 645, loss_count: 591, pending_count: 1, missed_count: 0</p>"
      ],
      "text/plain": [
       "<IPython.core.display.HTML object>"
      ]
     },
     "metadata": {},
     "output_type": "display_data"
    }
   ],
   "source": [
    "from Strategies.Strategy1.Strategy import Strategy1\n",
    "\n",
    "\n",
    "my_money = 1000\n",
    "strategy1 = Strategy1(money=my_money,timeZone='Asia/Tehran')\n",
    "\n",
    "\n",
    "# channel_id = config[\"CHANNEL_FEYZ\"]  \n",
    "# channel_id = config[\"CHANNEL_RASTAD\"]  \n",
    "# channel_id = config[\"CHANNEL_ALI_BEY\"]  \n",
    "# channel_id = config[\"CHANNEL_KING_CRYPTO\"]  \n",
    "channel_id = config[\"CHANNEL_ROSE\"]  \n",
    "predicts = await sync_to_async(list)(\n",
    "    Predict.objects.filter(\n",
    "        post__channel__channel_id=channel_id\n",
    "        )\n",
    "    .order_by('date')\n",
    "    .select_related('post', 'status', 'position', 'symbol', 'market')\n",
    ")\n",
    "\n",
    "await strategy1.backtest_with_money_strategy_1(predicts=predicts, close_tp=3, showPrint= False, positionSize=25)\n",
    "strategy1.report()\n",
    "# strategy1.history\n",
    "\n"
   ]
  },
  {
   "cell_type": "markdown",
   "metadata": {},
   "source": [
    "## Strategy2"
   ]
  },
  {
   "cell_type": "code",
   "execution_count": 4,
   "metadata": {},
   "outputs": [],
   "source": [
    "from Strategies.Strategy2.Strategy import Strategy2\n",
    "\n",
    "\n",
    "my_money = 1000\n",
    "strategy2 = Strategy2(money=my_money,timeZone='Asia/Tehran')\n",
    "\n",
    "\n",
    "# channel_id = config[\"CHANNEL_RASTAD\"]  \n",
    "channel_id = config[\"CHANNEL_KING_CRYPTO\"]  \n",
    "\n",
    "predicts = await sync_to_async(list)(\n",
    "    Predict.objects.filter(\n",
    "        post__channel__channel_id=channel_id\n",
    "        )\n",
    "    .order_by('date')\n",
    "    .select_related('post', 'status', 'position', 'symbol', 'market')\n",
    ")\n",
    "\n",
    "# await strategy2.backtest_with_money_strategy_2(predicts=predicts, close_tp=3, showPrint= False, positionSize=25, max_percent_stoploss=8)\n",
    "# strategy2.report()\n",
    "# strategy2.history\n",
    "\n"
   ]
  },
  {
   "cell_type": "markdown",
   "metadata": {},
   "source": [
    "## Strategy3"
   ]
  },
  {
   "cell_type": "code",
   "execution_count": 5,
   "metadata": {},
   "outputs": [],
   "source": [
    "from Strategies.Strategy3.Strategy import Strategy3\n",
    "\n",
    "\n",
    "my_money = 1000\n",
    "strategy3 = Strategy3(money=my_money,timeZone='Asia/Tehran')\n",
    "\n",
    "\n",
    "channel_id = config[\"CHANNEL_RASTAD\"]  \n",
    "predicts = await sync_to_async(list)(\n",
    "    Predict.objects.filter(\n",
    "        post__channel__channel_id=channel_id\n",
    "        )\n",
    "    .order_by('date')\n",
    "    .select_related('post', 'status', 'position', 'symbol', 'market')\n",
    ")\n",
    "\n",
    "# await strategy3.backtest_with_money_strategy_3(predicts=predicts, close_tp=10, showPrint=not False, positionSize=25, max_percent_stoploss=20, effect_stoploss=True)\n",
    "# strategy3.report()\n",
    "# strategy3.history\n",
    "\n"
   ]
  },
  {
   "cell_type": "markdown",
   "metadata": {},
   "source": [
    "## Strategy4"
   ]
  },
  {
   "cell_type": "code",
   "execution_count": 6,
   "metadata": {},
   "outputs": [],
   "source": [
    "from Strategies.Strategy4.Strategy import Strategy4\n",
    "\n",
    "\n",
    "my_money = 1000\n",
    "strategy4 = Strategy4(money=my_money,timeZone='Asia/Tehran')\n",
    "\n",
    "\n",
    "# channel_id = config[\"CHANNEL_FEYZ\"]  \n",
    "# channel_id = config[\"CHANNEL_RASTAD\"]  \n",
    "# channel_id = config[\"CHANNEL_ALI_BEY\"]  \n",
    "channel_id = config[\"CHANNEL_KING_CRYPTO\"]  \n",
    "\n",
    "predicts = await sync_to_async(list)(\n",
    "    Predict.objects.filter(\n",
    "        post__channel__channel_id=channel_id\n",
    "        )\n",
    "    .order_by('date')\n",
    "    .select_related('post', 'status', 'position', 'symbol', 'market')\n",
    ")\n",
    "\n",
    "# await strategy4.backtest_with_money_strategy_4(predicts=predicts, close_tp=1, showPrint=  False, positionSize=25, max_percent_stoploss=15)\n",
    "# strategy4.report()\n",
    "# strategy4.history\n",
    "\n"
   ]
  },
  {
   "cell_type": "markdown",
   "metadata": {},
   "source": [
    "## Strategy10"
   ]
  },
  {
   "cell_type": "code",
   "execution_count": 7,
   "metadata": {},
   "outputs": [],
   "source": [
    "from Strategies.Strategy10.Strategy import Strategy10\n",
    "\n",
    "\n",
    "my_money = 1000\n",
    "strategy10 = Strategy10(money=my_money,timeZone='Asia/Tehran')\n",
    "\n",
    "\n",
    "# channel_id = config[\"CHANNEL_RASTAD\"]  \n",
    "channel_id = config[\"CHANNEL_KING_CRYPTO\"]  \n",
    "\n",
    "predicts = await sync_to_async(list)(\n",
    "    Predict.objects.filter(\n",
    "        post__channel__channel_id=channel_id\n",
    "        )\n",
    "    .order_by('date')\n",
    "    .select_related('post', 'status', 'position', 'symbol', 'market')\n",
    ")\n",
    "\n",
    "# await strategy10.backtest_with_money_strategy_10(predicts=predicts, close_tp=1, showPrint= False, positionSize=25)\n",
    "# strategy10.report()\n",
    "# strategy10.history\n",
    "\n"
   ]
  },
  {
   "cell_type": "markdown",
   "metadata": {},
   "source": [
    "## Strategy11"
   ]
  },
  {
   "cell_type": "code",
   "execution_count": 8,
   "metadata": {},
   "outputs": [],
   "source": [
    "from Strategies.Strategy11.Strategy import Strategy11\n",
    "\n",
    "\n",
    "my_money = 1000\n",
    "strategy11 = Strategy11(money=my_money,timeZone='Asia/Tehran')\n",
    "\n",
    "# channel_id = config[\"CHANNEL_RASTAD\"]  \n",
    "# channel_id = config[\"CHANNEL_FEYZ\"]  \n",
    "channel_id = config[\"CHANNEL_KING_CRYPTO\"]  \n",
    "\n",
    "predicts = await sync_to_async(list)(\n",
    "    Predict.objects.filter(\n",
    "        post__channel__channel_id=channel_id\n",
    "        )\n",
    "    .order_by('date')\n",
    "    .select_related('post', 'status', 'position', 'symbol', 'market')\n",
    ")\n",
    "\n",
    "# await strategy11.backtest_with_money_strategy_11(predicts=predicts, close_tp=1, showPrint= False, positionSize=25, trendPeriod=50)\n",
    "# strategy11.report()\n",
    "# strategy11.history\n",
    "\n"
   ]
  },
  {
   "cell_type": "markdown",
   "metadata": {},
   "source": [
    "## Strategy12"
   ]
  },
  {
   "cell_type": "code",
   "execution_count": 9,
   "metadata": {},
   "outputs": [],
   "source": [
    "from Strategies.Strategy12.Strategy import Strategy12\n",
    "\n",
    "\n",
    "my_money = 1000\n",
    "strategy12 = Strategy12(money=my_money,timeZone='Asia/Tehran')\n",
    "\n",
    "channel_id = config[\"CHANNEL_RASTAD\"]  \n",
    "# channel_id = config[\"CHANNEL_FEYZ\"]  \n",
    "channel_id = config[\"CHANNEL_KING_CRYPTO\"]  \n",
    "\n",
    "predicts = await sync_to_async(list)(\n",
    "    Predict.objects.filter(\n",
    "        post__channel__channel_id=channel_id\n",
    "        )\n",
    "    .order_by('date')\n",
    "    .select_related('post', 'status', 'position', 'symbol', 'market')\n",
    ")\n",
    "\n",
    "# await strategy12.backtest_with_money_strategy_12(predicts=predicts, close_tp=1, showPrint= False, positionSize=25, trendPeriod=50, risk_percent= 0.6)\n",
    "# strategy12.report()\n",
    "# strategy12.history\n",
    "\n"
   ]
  },
  {
   "cell_type": "code",
   "execution_count": 10,
   "metadata": {},
   "outputs": [],
   "source": [
    "from Strategies.Strategy13.Strategy import Strategy13\n",
    "\n",
    "\n",
    "my_money = 1000\n",
    "strategy13 = Strategy13(money=my_money,timeZone='Asia/Tehran')\n",
    "\n",
    "# channel_id = config[\"CHANNEL_RASTAD\"]  \n",
    "# channel_id = config[\"CHANNEL_FEYZ\"]  \n",
    "channel_id = config[\"CHANNEL_KING_CRYPTO\"]  \n",
    "\n",
    "predicts = await sync_to_async(list)(\n",
    "    Predict.objects.filter(\n",
    "        post__channel__channel_id=channel_id\n",
    "        )\n",
    "    .order_by('date')\n",
    "    .select_related('post', 'status', 'position', 'symbol', 'market')\n",
    ")\n",
    "\n",
    "# await strategy13.backtest_with_money_strategy_13(predicts=predicts, showPrint=  False, positionSize=25)\n",
    "# strategy13.report()\n",
    "# strategy13.history\n"
   ]
  },
  {
   "cell_type": "code",
   "execution_count": 11,
   "metadata": {},
   "outputs": [],
   "source": [
    "from Strategies.Strategy14.Strategy import Strategy14\n",
    "from datetime import datetime\n",
    "\n",
    "\n",
    "my_money = 1000\n",
    "strategy14 = Strategy14(money=my_money,timeZone='Asia/Tehran')\n",
    "\n",
    "# channel_id = config[\"CHANNEL_RASTAD\"]  \n",
    "# channel_id = config[\"CHANNEL_FEYZ\"]  \n",
    "# channel_id = config[\"CHANNEL_KING_CRYPTO\"]  \n",
    "channel_id = config[\"CHANNEL_ROSE\"]  \n",
    "\n",
    "# Example date to filter from\n",
    "# filter_date = datetime(2024, 9, 28)\n",
    "# filter_date1 = datetime(2024, 10, 30)\n",
    "\n",
    "predicts = await sync_to_async(list)(\n",
    "    Predict.objects.filter(\n",
    "        post__channel__channel_id=channel_id,\n",
    "        #  date__gte=filter_date,\n",
    "        #  date__lte=filter_date1\n",
    "        )\n",
    "    .order_by('date')\n",
    "    .select_related('post', 'status', 'position', 'symbol', 'market')\n",
    ")\n",
    "\n",
    "# await strategy14.backtest_with_money_strategy_14(predicts=predicts, showPrint=  False, positionSize=25,max_percent_stoploss=20,max_percent_tp=2)\n",
    "# strategy14.report()\n",
    "# strategy14.history\n"
   ]
  },
  {
   "cell_type": "code",
   "execution_count": 12,
   "metadata": {},
   "outputs": [],
   "source": [
    "# strategy14.history"
   ]
  },
  {
   "cell_type": "code",
   "execution_count": 13,
   "metadata": {},
   "outputs": [],
   "source": [
    "from Strategies.AbsStrategy import AbsStrategy\n",
    "\n",
    "all_strategy_report = [\n",
    "    # {\n",
    "    #     'channel_name': '',\n",
    "    #     'strategy_name': '',\n",
    "    #     'close_tp': '',\n",
    "    #     'initial_money': '',\n",
    "    #     'total_opening_orders': '',\n",
    "    #     'total_loss': '',\n",
    "    #     'total_profit': '',\n",
    "    #     'gross': '',\n",
    "    #     'total_pending': '',\n",
    "    #     'my_free_money': '',\n",
    "    #     'my_total_money': '',\n",
    "    #     'profit_count': '',\n",
    "    #     'loss_count': '',\n",
    "    #     'pending_count': '',\n",
    "    #     'missed_count': '',\n",
    "    # }\n",
    "]\n",
    "\n",
    "def addToReport(strategy: AbsStrategy, channel:str, tp:int, stop:int):\n",
    "    all_strategy_report.append(  {\n",
    "        'channel_name': channel,\n",
    "        'strategy_name': strategy.strategy_name,\n",
    "        'tp': tp,\n",
    "        'stop': stop,\n",
    "        'initial_money': strategy.initial_money,\n",
    "        'total_opening_orders': strategy.total_opening_orders,\n",
    "        'total_loss': round(strategy.total_loss*100, 2),\n",
    "        'total_profit': round(strategy.total_profit*100, 2),\n",
    "        'gross': round((strategy.total_profit+strategy.total_loss )*100, 2),\n",
    "        'total_pending': strategy.total_pending_money,\n",
    "        'my_free_money': round(strategy.current_money-strategy.total_pending_money, 2),\n",
    "        'my_total_money': round(strategy.current_money, 2),\n",
    "        'profit_count': strategy.profit_count,\n",
    "        'loss_count': strategy.loss_count,\n",
    "        'pending_count': strategy.pending_count,\n",
    "        'missed_count': len(strategy.missed_orders),\n",
    "\n",
    "})\n",
    "    \n",
    "tp_array = [2, 3, 5, 8, 10]\n",
    "stop_array = [3, 5, 8, 10, 15]\n",
    "    \n",
    "# for tp in tp_array:\n",
    "#     for stop in stop_array:\n",
    "#         my_money = 1000\n",
    "#         strategy14 = Strategy14(money=my_money,timeZone='Asia/Tehran')\n",
    "#         await strategy14.backtest_with_money_strategy_14(predicts=predicts, showPrint=  False,max_percent_stoploss=stop, max_percent_tp=tp, positionSize=25)\n",
    "#         strategy14.report() \n",
    "#         addToReport(strategy14, f'strategy14', tp, stop)\n",
    "  \n"
   ]
  },
  {
   "cell_type": "code",
   "execution_count": 14,
   "metadata": {},
   "outputs": [],
   "source": [
    "# import pandas as pd\n",
    "\n",
    "# df = pd.DataFrame(all_strategy_report)\n",
    "\n",
    "# df.to_csv(f'test-king-strategy14.csv', index=False)\n",
    "# df.to_json(f'test-king-strategy14.json', index=False)\n"
   ]
  }
 ],
 "metadata": {
  "kernelspec": {
   "display_name": ".venv",
   "language": "python",
   "name": "python3"
  },
  "language_info": {
   "codemirror_mode": {
    "name": "ipython",
    "version": 3
   },
   "file_extension": ".py",
   "mimetype": "text/x-python",
   "name": "python",
   "nbconvert_exporter": "python",
   "pygments_lexer": "ipython3",
   "version": "3.12.6"
  }
 },
 "nbformat": 4,
 "nbformat_minor": 2
}
